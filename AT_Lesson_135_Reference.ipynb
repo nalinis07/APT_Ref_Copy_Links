{
  "nbformat": 4,
  "nbformat_minor": 0,
  "metadata": {
    "colab": {
      "provenance": [],
      "include_colab_link": true
    },
    "kernelspec": {
      "name": "python3",
      "display_name": "Python 3"
    },
    "language_info": {
      "name": "python"
    }
  },
  "cells": [
    {
      "cell_type": "markdown",
      "metadata": {
        "id": "view-in-github",
        "colab_type": "text"
      },
      "source": [
        "<a href=\"https://colab.research.google.com/github/nalinis07/APT_Ref_Copy_Links/blob/MASTER/AT_Lesson_135_Reference.ipynb\" target=\"_parent\"><img src=\"https://colab.research.google.com/assets/colab-badge.svg\" alt=\"Open In Colab\"/></a>"
      ]
    },
    {
      "cell_type": "markdown",
      "metadata": {
        "id": "ohBazuPLsfoZ"
      },
      "source": [
        "# Lesson 135: Collaborative Filtering I - Pearson Correlation"
      ]
    },
    {
      "cell_type": "markdown",
      "source": [
        "---"
      ],
      "metadata": {
        "id": "7f11KgNjKWbX"
      }
    },
    {
      "cell_type": "markdown",
      "metadata": {
        "id": "1cqhh5t4sunA"
      },
      "source": [
        "**WARNING:** The reference notebook is meant **ONLY** for a teacher. Please **DO NOT** share it with any student.\n",
        "\n",
        "The contents of the reference notebook are meant only to prepare a teacher for a class. To conduct the class, use the class copy of the reference notebook. The link and the instructions for the same are provided in the **Notes To The Teacher** section.\n",
        "\n",
        "\n",
        "|Particulars|Description|\n",
        "|-|-|\n",
        "|**Topic**|Collaborative Filtering I - Pearson Correlation|\n",
        "|||\n",
        "|**Class Description**|In this class, a student will perform collaborative filtering to build a movie recommender|\n",
        "|||\n",
        "|**Class**|C135|\n",
        "|||\n",
        "|**Class Time**|50 minutes|\n",
        "|||\n",
        "|**Goal**|Understand collaborative filters|\n",
        "||Calculate similarity score using Pearson correlation|\n",
        "||Recommend similar movies based on other user's ratings|\n",
        "|||\n",
        "|**Teacher Resources**|Google Account|\n",
        "||Laptop with internet connectivity|\n",
        "||Earphones with mic|\n",
        "|||\n",
        "|**Student Resources**|Google Account|\n",
        "||Laptop with internet connectivity|\n",
        "||Earphones with mic|"
      ]
    },
    {
      "cell_type": "markdown",
      "source": [
        "---"
      ],
      "metadata": {
        "id": "gClT3QYHZfEg"
      }
    },
    {
      "cell_type": "markdown",
      "metadata": {
        "id": "sywoAZVts8T7"
      },
      "source": [
        "### Warm-up Quiz\n",
        "\n",
        "```\n",
        "TEACHER\n",
        "I have an exciting quiz question for you! Are you ready to answer this question?\n",
        "\n",
        "EXPECTED STUDENT RESPONSE\n",
        "Yes.\n",
        "```\n",
        "\n",
        "**Instructions for the Teacher:**\n",
        "- Please click on the \"Quiz Time\" button on the bottom right corner of your screen to start the In-Class Quiz. <img src='https://student-datasets-bucket.s3.ap-south-1.amazonaws.com/images/quiz-time.png' width = 150>\n",
        "\n",
        "- A quiz will be visible to both you and the student. Encourage the student to answer the quiz question.\n",
        "\n",
        "- The student may choose the wrong option, help the student to think correctly about the question and then answer again.\n",
        "\n",
        "- After the student selects the correct option, the \"End Quiz\" button will start appearing on your screen. <img src='https://student-datasets-bucket.s3.ap-south-1.amazonaws.com/images/end-quiz.png' width = 150>  \n",
        "\n",
        "- Click the \"End quiz\" button to close the quiz pop-up and continue the class.\n",
        "  \n",
        "- Do not spend more than 2 minutes on this quiz."
      ]
    },
    {
      "cell_type": "markdown",
      "source": [
        "---"
      ],
      "metadata": {
        "id": "4GARoLmlcqyx"
      }
    },
    {
      "cell_type": "markdown",
      "metadata": {
        "id": "8pdnPXjQNDvk"
      },
      "source": [
        "### Teacher-Student Activities\n",
        "\n",
        "In the previous class, we had designed various recommender systems based on popularity and weighted ratings to attract new customers to our media hosting platform.\n",
        "\n",
        "In this class, we will build a movie recommender using **Collaborative Filters**. This type of recommender suggests movies to its users based on the movie rating database from its multiple users and based on the watch history of other users who have watched the similar set of movies.\n",
        "\n",
        "Let us understand the collaborative filters in more detail and revisit problem statement.\n",
        "\n",
        "\n"
      ]
    },
    {
      "cell_type": "markdown",
      "source": [
        "---"
      ],
      "metadata": {
        "id": "nAte54HjCkbu"
      }
    },
    {
      "cell_type": "markdown",
      "source": [
        "#### What are Collaborative Filters?\n",
        "\n",
        "While shopping through e-commerce platforms, you must have encountered:\n",
        "\n",
        "**Customers who bought Macbook Pro also purchased: 'ProDisplay XR' | 'LG Gaming Monitor' | 'AirPods'**\n",
        "\n",
        "Some movie hosting/OTT platforms suggests:\n",
        "\n",
        "Say if you are watching: **Inception**\n",
        "\n",
        "**Customers also watched: 'The Matrix' | 'Gravity' | 'Tenet'**\n",
        "\n",
        "Such suggestions are given to a user on the basis of the likes and dislikes of similar users. This is exactly what Collaborative filters do.\n",
        "\n",
        "**Collaborative filtering** builds a model from the user's past behaviour (i.e. items purchased or searched by the user) as well as similar decisions made by other users. This model is then used to predict items that users may have an interest in.\n",
        "\n",
        "Let us now understand the problem statement in more detail.\n",
        "\n",
        "**Problem Statement:**\n",
        "\n",
        "- We will build an intelligent recommender that would recommend movies to a customer say **X** based on the customer's watch history.\n",
        "- First, we need to find other sets of users who have watched same movies along with some other movies and suggest customer **X** the movies which were appreciated by those sets of users.\n",
        "\n",
        "<center><img src=https://s3-whjr-v2-prod-bucket.whjr.online/whjr-v2-prod-bucket/8346c283-08f7-46c5-b37f-96a3eac57800.png></center>\n",
        "\n",
        "In this way the customers are likely to appreciate the recommendation and as a result stay connected to the streaming platform.\n",
        "\n",
        "Let us now explore the datasets that will be used to solve this problem statement."
      ],
      "metadata": {
        "id": "RAaSmUFkq7aB"
      }
    },
    {
      "cell_type": "markdown",
      "source": [
        "---"
      ],
      "metadata": {
        "id": "xVGf1lHZOeUZ"
      }
    },
    {
      "cell_type": "markdown",
      "source": [
        "#### Datasets\n",
        "\n",
        "We will use following three datasets to set up a recommender system that will recommend movies to a user based on ratings given by other users:\n",
        "\n",
        "**1. The `movie_metadata.csv` file:**\n",
        "\n",
        "- This is the main Movies Metadata file.\n",
        "- It contains information on 45,000 movies featured in the Full [MovieLens](https://movielens.org) database.\n",
        "\n",
        "  **Note:** This was the same dataset which we had used to build simple movie recommenders in the previous lesson.\n",
        "\n",
        "- Below are the features information:\n",
        "\n",
        "  **Attribute Information:**\n",
        "  ```\n",
        "    adult: Indicates if the movie is X-Rated or Adult.\n",
        "    belongs_to_collection: A stringified dictionary that gives information on the movie series the particular film belongs to.\n",
        "    budget: The budget of the movie in dollars.\n",
        "    genres: A stringified list of dictionaries that list out all the genres associated with the movie.\n",
        "    homepage: The Official Homepage of the move.\n",
        "    id: The TMDB ID of the movie.\n",
        "    imdb_id: The IMDB ID of the movie.\n",
        "    original_language: The language in which the movie was originally shot in.\n",
        "    original_title: The original title of the movie.\n",
        "    overview: A brief blurb of the movie.\n",
        "    popularity: The Popularity Score assigned by TMDB.\n",
        "    poster_path: The URL of the poster image.\n",
        "    production_companies: A stringified list of production companies involved with the making of the movie.\n",
        "    production_countries: A stringified list of countries where the movie was shot/produced in.\n",
        "    release_date: Theatrical Release Date of the movie.\n",
        "    revenue: The total revenue of the movie in dollars.\n",
        "    runtime: The runtime of the movie in minutes.\n",
        "    spoken_languages: A stringified list of spoken languages in the film.\n",
        "    status: The status of the movie (Released, To Be Released, Announced, etc.)\n",
        "    tagline: The tagline of the movie.\n",
        "    title: The Official Title of the movie.\n",
        "    video: Indicates if there is a video present of the movie with TMDB.\n",
        "    vote_average: The average rating of the movie.\n",
        "    vote_count: The number of votes by users, as counted by TMDB.\n",
        " ```\n",
        "\n",
        "**2. The `links.csv` file:**\n",
        "\n",
        "- This file contains the TMDB and IMDB IDs of all the movies featured in the Full MovieLens dataset.\n",
        "- Below are the features information:\n",
        "  ```\n",
        "  movieId: A unique identifier for each movie\n",
        "  imdbId: The IMDB ID of the movie\n",
        "  tmdbId: The TMDB ID of the movie\n",
        "  ```\n",
        "\n",
        "\n",
        "**3. The `ratings_small.csv` file:**\n",
        "\n",
        "- This file is a subset of 100,000 ratings from 700 users on 9,000 movies.\n",
        "- Below are the features information:\n",
        "  ```\n",
        "  userId: The user ID of the subscriber\n",
        "  movieId: A unique identifier for each movie\n",
        "  rating: Rating given by a subscriber (Out of 5)\n",
        "  timestamp: Time at which the rating was recorded\n",
        "  ```\n",
        "\n",
        "\n",
        "\n",
        "**Acknowledgement:** These datasets are an ensemble created by Rounak Banik using the data collected from TMDB and GroupLens.\n",
        "\n",
        "**Dataset Source:** https://www.kaggle.com/rounakbanik/the-movies-dataset"
      ],
      "metadata": {
        "id": "uux91YdpClOG"
      }
    },
    {
      "cell_type": "markdown",
      "source": [
        "---"
      ],
      "metadata": {
        "id": "gZwoI-ZaZi_P"
      }
    },
    {
      "cell_type": "markdown",
      "metadata": {
        "id": "sfw1pd13tNq_"
      },
      "source": [
        "#### Activity 1: Importing Modules and Reading Data\n",
        "\n",
        "Let us load the first dataset `movies_metadata.csv` into a pandas DataFrame.\n",
        "\n",
        "**The `movies_metadata.csv` Dataset link:** https://drive.google.com/uc?id=1Fa9Y8jOD1H0sa0AdQrj-C2taPdxrUl1q\n",
        "\n"
      ]
    },
    {
      "cell_type": "code",
      "source": [
        "# S1.1: Import the required modules\n",
        "\n",
        "import pandas as pd\n",
        "import numpy as np\n",
        "import matplotlib.pyplot as plt\n",
        "import seaborn as sns\n",
        "import warnings\n",
        "warnings.filterwarnings(\"ignore\")\n",
        "\n",
        "# Load the Movies Metadata Dataset\n",
        "df = pd.read_csv('https://drive.google.com/uc?id=1Fa9Y8jOD1H0sa0AdQrj-C2taPdxrUl1q')\n",
        "df.head()\n"
      ],
      "metadata": {
        "id": "7AHiT5un7W4y",
        "colab": {
          "base_uri": "https://localhost:8080/",
          "height": 750
        },
        "outputId": "6df9e367-3de8-4047-c0d2-b873585401ad"
      },
      "execution_count": null,
      "outputs": [
        {
          "output_type": "execute_result",
          "data": {
            "text/plain": [
              "   adult                              belongs_to_collection    budget  \\\n",
              "0  False  {'id': 10194, 'name': 'Toy Story Collection', ...  30000000   \n",
              "1  False                                                NaN  65000000   \n",
              "2  False  {'id': 119050, 'name': 'Grumpy Old Men Collect...         0   \n",
              "3  False                                                NaN  16000000   \n",
              "4  False  {'id': 96871, 'name': 'Father of the Bride Col...         0   \n",
              "\n",
              "                                              genres  \\\n",
              "0  [{'id': 16, 'name': 'Animation'}, {'id': 35, '...   \n",
              "1  [{'id': 12, 'name': 'Adventure'}, {'id': 14, '...   \n",
              "2  [{'id': 10749, 'name': 'Romance'}, {'id': 35, ...   \n",
              "3  [{'id': 35, 'name': 'Comedy'}, {'id': 18, 'nam...   \n",
              "4                     [{'id': 35, 'name': 'Comedy'}]   \n",
              "\n",
              "                               homepage     id    imdb_id original_language  \\\n",
              "0  http://toystory.disney.com/toy-story    862  tt0114709                en   \n",
              "1                                   NaN   8844  tt0113497                en   \n",
              "2                                   NaN  15602  tt0113228                en   \n",
              "3                                   NaN  31357  tt0114885                en   \n",
              "4                                   NaN  11862  tt0113041                en   \n",
              "\n",
              "                original_title  \\\n",
              "0                    Toy Story   \n",
              "1                      Jumanji   \n",
              "2             Grumpier Old Men   \n",
              "3            Waiting to Exhale   \n",
              "4  Father of the Bride Part II   \n",
              "\n",
              "                                            overview  ... release_date  \\\n",
              "0  Led by Woody, Andy's toys live happily in his ...  ...   1995-10-30   \n",
              "1  When siblings Judy and Peter discover an encha...  ...   1995-12-15   \n",
              "2  A family wedding reignites the ancient feud be...  ...   1995-12-22   \n",
              "3  Cheated on, mistreated and stepped on, the wom...  ...   1995-12-22   \n",
              "4  Just when George Banks has recovered from his ...  ...   1995-02-10   \n",
              "\n",
              "       revenue runtime                                   spoken_languages  \\\n",
              "0  373554033.0    81.0           [{'iso_639_1': 'en', 'name': 'English'}]   \n",
              "1  262797249.0   104.0  [{'iso_639_1': 'en', 'name': 'English'}, {'iso...   \n",
              "2          0.0   101.0           [{'iso_639_1': 'en', 'name': 'English'}]   \n",
              "3   81452156.0   127.0           [{'iso_639_1': 'en', 'name': 'English'}]   \n",
              "4   76578911.0   106.0           [{'iso_639_1': 'en', 'name': 'English'}]   \n",
              "\n",
              "     status                                            tagline  \\\n",
              "0  Released                                                NaN   \n",
              "1  Released          Roll the dice and unleash the excitement!   \n",
              "2  Released  Still Yelling. Still Fighting. Still Ready for...   \n",
              "3  Released  Friends are the people who let you be yourself...   \n",
              "4  Released  Just When His World Is Back To Normal... He's ...   \n",
              "\n",
              "                         title  video vote_average vote_count  \n",
              "0                    Toy Story  False          7.7     5415.0  \n",
              "1                      Jumanji  False          6.9     2413.0  \n",
              "2             Grumpier Old Men  False          6.5       92.0  \n",
              "3            Waiting to Exhale  False          6.1       34.0  \n",
              "4  Father of the Bride Part II  False          5.7      173.0  \n",
              "\n",
              "[5 rows x 24 columns]"
            ],
            "text/html": [
              "\n",
              "  <div id=\"df-322b7a92-16d9-4c5e-8de6-2e38126923a4\">\n",
              "    <div class=\"colab-df-container\">\n",
              "      <div>\n",
              "<style scoped>\n",
              "    .dataframe tbody tr th:only-of-type {\n",
              "        vertical-align: middle;\n",
              "    }\n",
              "\n",
              "    .dataframe tbody tr th {\n",
              "        vertical-align: top;\n",
              "    }\n",
              "\n",
              "    .dataframe thead th {\n",
              "        text-align: right;\n",
              "    }\n",
              "</style>\n",
              "<table border=\"1\" class=\"dataframe\">\n",
              "  <thead>\n",
              "    <tr style=\"text-align: right;\">\n",
              "      <th></th>\n",
              "      <th>adult</th>\n",
              "      <th>belongs_to_collection</th>\n",
              "      <th>budget</th>\n",
              "      <th>genres</th>\n",
              "      <th>homepage</th>\n",
              "      <th>id</th>\n",
              "      <th>imdb_id</th>\n",
              "      <th>original_language</th>\n",
              "      <th>original_title</th>\n",
              "      <th>overview</th>\n",
              "      <th>...</th>\n",
              "      <th>release_date</th>\n",
              "      <th>revenue</th>\n",
              "      <th>runtime</th>\n",
              "      <th>spoken_languages</th>\n",
              "      <th>status</th>\n",
              "      <th>tagline</th>\n",
              "      <th>title</th>\n",
              "      <th>video</th>\n",
              "      <th>vote_average</th>\n",
              "      <th>vote_count</th>\n",
              "    </tr>\n",
              "  </thead>\n",
              "  <tbody>\n",
              "    <tr>\n",
              "      <th>0</th>\n",
              "      <td>False</td>\n",
              "      <td>{'id': 10194, 'name': 'Toy Story Collection', ...</td>\n",
              "      <td>30000000</td>\n",
              "      <td>[{'id': 16, 'name': 'Animation'}, {'id': 35, '...</td>\n",
              "      <td>http://toystory.disney.com/toy-story</td>\n",
              "      <td>862</td>\n",
              "      <td>tt0114709</td>\n",
              "      <td>en</td>\n",
              "      <td>Toy Story</td>\n",
              "      <td>Led by Woody, Andy's toys live happily in his ...</td>\n",
              "      <td>...</td>\n",
              "      <td>1995-10-30</td>\n",
              "      <td>373554033.0</td>\n",
              "      <td>81.0</td>\n",
              "      <td>[{'iso_639_1': 'en', 'name': 'English'}]</td>\n",
              "      <td>Released</td>\n",
              "      <td>NaN</td>\n",
              "      <td>Toy Story</td>\n",
              "      <td>False</td>\n",
              "      <td>7.7</td>\n",
              "      <td>5415.0</td>\n",
              "    </tr>\n",
              "    <tr>\n",
              "      <th>1</th>\n",
              "      <td>False</td>\n",
              "      <td>NaN</td>\n",
              "      <td>65000000</td>\n",
              "      <td>[{'id': 12, 'name': 'Adventure'}, {'id': 14, '...</td>\n",
              "      <td>NaN</td>\n",
              "      <td>8844</td>\n",
              "      <td>tt0113497</td>\n",
              "      <td>en</td>\n",
              "      <td>Jumanji</td>\n",
              "      <td>When siblings Judy and Peter discover an encha...</td>\n",
              "      <td>...</td>\n",
              "      <td>1995-12-15</td>\n",
              "      <td>262797249.0</td>\n",
              "      <td>104.0</td>\n",
              "      <td>[{'iso_639_1': 'en', 'name': 'English'}, {'iso...</td>\n",
              "      <td>Released</td>\n",
              "      <td>Roll the dice and unleash the excitement!</td>\n",
              "      <td>Jumanji</td>\n",
              "      <td>False</td>\n",
              "      <td>6.9</td>\n",
              "      <td>2413.0</td>\n",
              "    </tr>\n",
              "    <tr>\n",
              "      <th>2</th>\n",
              "      <td>False</td>\n",
              "      <td>{'id': 119050, 'name': 'Grumpy Old Men Collect...</td>\n",
              "      <td>0</td>\n",
              "      <td>[{'id': 10749, 'name': 'Romance'}, {'id': 35, ...</td>\n",
              "      <td>NaN</td>\n",
              "      <td>15602</td>\n",
              "      <td>tt0113228</td>\n",
              "      <td>en</td>\n",
              "      <td>Grumpier Old Men</td>\n",
              "      <td>A family wedding reignites the ancient feud be...</td>\n",
              "      <td>...</td>\n",
              "      <td>1995-12-22</td>\n",
              "      <td>0.0</td>\n",
              "      <td>101.0</td>\n",
              "      <td>[{'iso_639_1': 'en', 'name': 'English'}]</td>\n",
              "      <td>Released</td>\n",
              "      <td>Still Yelling. Still Fighting. Still Ready for...</td>\n",
              "      <td>Grumpier Old Men</td>\n",
              "      <td>False</td>\n",
              "      <td>6.5</td>\n",
              "      <td>92.0</td>\n",
              "    </tr>\n",
              "    <tr>\n",
              "      <th>3</th>\n",
              "      <td>False</td>\n",
              "      <td>NaN</td>\n",
              "      <td>16000000</td>\n",
              "      <td>[{'id': 35, 'name': 'Comedy'}, {'id': 18, 'nam...</td>\n",
              "      <td>NaN</td>\n",
              "      <td>31357</td>\n",
              "      <td>tt0114885</td>\n",
              "      <td>en</td>\n",
              "      <td>Waiting to Exhale</td>\n",
              "      <td>Cheated on, mistreated and stepped on, the wom...</td>\n",
              "      <td>...</td>\n",
              "      <td>1995-12-22</td>\n",
              "      <td>81452156.0</td>\n",
              "      <td>127.0</td>\n",
              "      <td>[{'iso_639_1': 'en', 'name': 'English'}]</td>\n",
              "      <td>Released</td>\n",
              "      <td>Friends are the people who let you be yourself...</td>\n",
              "      <td>Waiting to Exhale</td>\n",
              "      <td>False</td>\n",
              "      <td>6.1</td>\n",
              "      <td>34.0</td>\n",
              "    </tr>\n",
              "    <tr>\n",
              "      <th>4</th>\n",
              "      <td>False</td>\n",
              "      <td>{'id': 96871, 'name': 'Father of the Bride Col...</td>\n",
              "      <td>0</td>\n",
              "      <td>[{'id': 35, 'name': 'Comedy'}]</td>\n",
              "      <td>NaN</td>\n",
              "      <td>11862</td>\n",
              "      <td>tt0113041</td>\n",
              "      <td>en</td>\n",
              "      <td>Father of the Bride Part II</td>\n",
              "      <td>Just when George Banks has recovered from his ...</td>\n",
              "      <td>...</td>\n",
              "      <td>1995-02-10</td>\n",
              "      <td>76578911.0</td>\n",
              "      <td>106.0</td>\n",
              "      <td>[{'iso_639_1': 'en', 'name': 'English'}]</td>\n",
              "      <td>Released</td>\n",
              "      <td>Just When His World Is Back To Normal... He's ...</td>\n",
              "      <td>Father of the Bride Part II</td>\n",
              "      <td>False</td>\n",
              "      <td>5.7</td>\n",
              "      <td>173.0</td>\n",
              "    </tr>\n",
              "  </tbody>\n",
              "</table>\n",
              "<p>5 rows × 24 columns</p>\n",
              "</div>\n",
              "      <button class=\"colab-df-convert\" onclick=\"convertToInteractive('df-322b7a92-16d9-4c5e-8de6-2e38126923a4')\"\n",
              "              title=\"Convert this dataframe to an interactive table.\"\n",
              "              style=\"display:none;\">\n",
              "        \n",
              "  <svg xmlns=\"http://www.w3.org/2000/svg\" height=\"24px\"viewBox=\"0 0 24 24\"\n",
              "       width=\"24px\">\n",
              "    <path d=\"M0 0h24v24H0V0z\" fill=\"none\"/>\n",
              "    <path d=\"M18.56 5.44l.94 2.06.94-2.06 2.06-.94-2.06-.94-.94-2.06-.94 2.06-2.06.94zm-11 1L8.5 8.5l.94-2.06 2.06-.94-2.06-.94L8.5 2.5l-.94 2.06-2.06.94zm10 10l.94 2.06.94-2.06 2.06-.94-2.06-.94-.94-2.06-.94 2.06-2.06.94z\"/><path d=\"M17.41 7.96l-1.37-1.37c-.4-.4-.92-.59-1.43-.59-.52 0-1.04.2-1.43.59L10.3 9.45l-7.72 7.72c-.78.78-.78 2.05 0 2.83L4 21.41c.39.39.9.59 1.41.59.51 0 1.02-.2 1.41-.59l7.78-7.78 2.81-2.81c.8-.78.8-2.07 0-2.86zM5.41 20L4 18.59l7.72-7.72 1.47 1.35L5.41 20z\"/>\n",
              "  </svg>\n",
              "      </button>\n",
              "      \n",
              "  <style>\n",
              "    .colab-df-container {\n",
              "      display:flex;\n",
              "      flex-wrap:wrap;\n",
              "      gap: 12px;\n",
              "    }\n",
              "\n",
              "    .colab-df-convert {\n",
              "      background-color: #E8F0FE;\n",
              "      border: none;\n",
              "      border-radius: 50%;\n",
              "      cursor: pointer;\n",
              "      display: none;\n",
              "      fill: #1967D2;\n",
              "      height: 32px;\n",
              "      padding: 0 0 0 0;\n",
              "      width: 32px;\n",
              "    }\n",
              "\n",
              "    .colab-df-convert:hover {\n",
              "      background-color: #E2EBFA;\n",
              "      box-shadow: 0px 1px 2px rgba(60, 64, 67, 0.3), 0px 1px 3px 1px rgba(60, 64, 67, 0.15);\n",
              "      fill: #174EA6;\n",
              "    }\n",
              "\n",
              "    [theme=dark] .colab-df-convert {\n",
              "      background-color: #3B4455;\n",
              "      fill: #D2E3FC;\n",
              "    }\n",
              "\n",
              "    [theme=dark] .colab-df-convert:hover {\n",
              "      background-color: #434B5C;\n",
              "      box-shadow: 0px 1px 3px 1px rgba(0, 0, 0, 0.15);\n",
              "      filter: drop-shadow(0px 1px 2px rgba(0, 0, 0, 0.3));\n",
              "      fill: #FFFFFF;\n",
              "    }\n",
              "  </style>\n",
              "\n",
              "      <script>\n",
              "        const buttonEl =\n",
              "          document.querySelector('#df-322b7a92-16d9-4c5e-8de6-2e38126923a4 button.colab-df-convert');\n",
              "        buttonEl.style.display =\n",
              "          google.colab.kernel.accessAllowed ? 'block' : 'none';\n",
              "\n",
              "        async function convertToInteractive(key) {\n",
              "          const element = document.querySelector('#df-322b7a92-16d9-4c5e-8de6-2e38126923a4');\n",
              "          const dataTable =\n",
              "            await google.colab.kernel.invokeFunction('convertToInteractive',\n",
              "                                                     [key], {});\n",
              "          if (!dataTable) return;\n",
              "\n",
              "          const docLinkHtml = 'Like what you see? Visit the ' +\n",
              "            '<a target=\"_blank\" href=https://colab.research.google.com/notebooks/data_table.ipynb>data table notebook</a>'\n",
              "            + ' to learn more about interactive tables.';\n",
              "          element.innerHTML = '';\n",
              "          dataTable['output_type'] = 'display_data';\n",
              "          await google.colab.output.renderOutput(dataTable, element);\n",
              "          const docLink = document.createElement('div');\n",
              "          docLink.innerHTML = docLinkHtml;\n",
              "          element.appendChild(docLink);\n",
              "        }\n",
              "      </script>\n",
              "    </div>\n",
              "  </div>\n",
              "  "
            ]
          },
          "metadata": {},
          "execution_count": 5
        }
      ]
    },
    {
      "cell_type": "markdown",
      "source": [
        "For our recommender, we would need only three columns from the above dataset: `id`, `imdb_id`, `title`.\n",
        "\n",
        "Let us create a subset of the above DataFrame that consists of only 3 columns: `id`, `imdb_id`, `title`."
      ],
      "metadata": {
        "id": "18FkbpUIUJLV"
      }
    },
    {
      "cell_type": "code",
      "source": [
        "# S1.2: Create 'movies_df' DataFrame consisting of columns: 'id', 'imdb_id', 'title'\n",
        "movies_df = df[['id', 'imdb_id', 'title']]\n",
        "movies_df.head()"
      ],
      "metadata": {
        "id": "Fo__My-dUf78"
      },
      "execution_count": null,
      "outputs": []
    },
    {
      "cell_type": "markdown",
      "source": [
        "Next, find the number of rows, columns and data types of columns and determine whether there are any missing values in this DataFrame."
      ],
      "metadata": {
        "id": "jZbRtHT7Uyok"
      }
    },
    {
      "cell_type": "code",
      "source": [
        "# S1.3: Get the total number of rows and columns, data types of columns and missing values in the dataset\n",
        "movies_df.info()"
      ],
      "metadata": {
        "id": "rgAGNFRxU9K8"
      },
      "execution_count": null,
      "outputs": []
    },
    {
      "cell_type": "markdown",
      "source": [
        "You may observe that there are some missing values in certain columns. Let us simply drop these missing values from the above DataFrame."
      ],
      "metadata": {
        "id": "-5fcBsOZVcq0"
      }
    },
    {
      "cell_type": "code",
      "source": [
        "# S1.4: Drop missing values from the DataFrame.\n",
        "movies_df.dropna(inplace = True)\n",
        "movies_df.info()"
      ],
      "metadata": {
        "id": "P33y5KWaVsTc"
      },
      "execution_count": null,
      "outputs": []
    },
    {
      "cell_type": "markdown",
      "source": [
        "Now there are no missing values in this DataFrame. However, you may observe that the data type of `id` column is `object`. It should be either `int` or `float`.\n",
        "\n",
        "Let us convert the data type of `id` column to `float` using `astype()` function.\n",
        "\n",
        "**Note:** You can also convert the data type of `id` column to `int` data type."
      ],
      "metadata": {
        "id": "L_YK5vxwV-1t"
      }
    },
    {
      "cell_type": "code",
      "source": [
        "# S1.5: Convert data type of 'id' column to float\n",
        "movies_df['id'] = movies_df['id'].astype('float')\n",
        "movies_df.head()"
      ],
      "metadata": {
        "id": "i1JB133YWbrj"
      },
      "execution_count": null,
      "outputs": []
    },
    {
      "cell_type": "markdown",
      "source": [
        "Please note that the above `id` column represents the TMDB ID and not the movie ID of a movie. For building a movie recommender, we would need movie ID that can be obtained from the second dataset `links.csv`.\n",
        "\n",
        "Let us now load another dataset `links.csv` that contain the movie ID, IMDB ID, TMDB ID of each movie.\n",
        "\n",
        "**The `links.csv` Dataset Link:**  https://drive.google.com/uc?id=1bcxKJJMhU15qH77BmmdPf4lZwi5k5Cnb"
      ],
      "metadata": {
        "id": "KxZgHnGmW8NE"
      }
    },
    {
      "cell_type": "code",
      "source": [
        "# S1.6: Load 'links.csv' file into 'links_df' DataFrame.\n",
        "links_df = pd.read_csv('https://drive.google.com/uc?id=1bcxKJJMhU15qH77BmmdPf4lZwi5k5Cnb')\n",
        "links_df.head()"
      ],
      "metadata": {
        "id": "Kqy1as1EYCEZ",
        "colab": {
          "base_uri": "https://localhost:8080/",
          "height": 206
        },
        "outputId": "fe078f33-f286-4087-ee84-4d86a9530960"
      },
      "execution_count": null,
      "outputs": [
        {
          "output_type": "execute_result",
          "data": {
            "text/plain": [
              "   movieId  imdbId   tmdbId\n",
              "0        1  114709    862.0\n",
              "1        2  113497   8844.0\n",
              "2        3  113228  15602.0\n",
              "3        4  114885  31357.0\n",
              "4        5  113041  11862.0"
            ],
            "text/html": [
              "\n",
              "  <div id=\"df-6011cf02-7453-40ce-a6d5-ec34007bc69b\">\n",
              "    <div class=\"colab-df-container\">\n",
              "      <div>\n",
              "<style scoped>\n",
              "    .dataframe tbody tr th:only-of-type {\n",
              "        vertical-align: middle;\n",
              "    }\n",
              "\n",
              "    .dataframe tbody tr th {\n",
              "        vertical-align: top;\n",
              "    }\n",
              "\n",
              "    .dataframe thead th {\n",
              "        text-align: right;\n",
              "    }\n",
              "</style>\n",
              "<table border=\"1\" class=\"dataframe\">\n",
              "  <thead>\n",
              "    <tr style=\"text-align: right;\">\n",
              "      <th></th>\n",
              "      <th>movieId</th>\n",
              "      <th>imdbId</th>\n",
              "      <th>tmdbId</th>\n",
              "    </tr>\n",
              "  </thead>\n",
              "  <tbody>\n",
              "    <tr>\n",
              "      <th>0</th>\n",
              "      <td>1</td>\n",
              "      <td>114709</td>\n",
              "      <td>862.0</td>\n",
              "    </tr>\n",
              "    <tr>\n",
              "      <th>1</th>\n",
              "      <td>2</td>\n",
              "      <td>113497</td>\n",
              "      <td>8844.0</td>\n",
              "    </tr>\n",
              "    <tr>\n",
              "      <th>2</th>\n",
              "      <td>3</td>\n",
              "      <td>113228</td>\n",
              "      <td>15602.0</td>\n",
              "    </tr>\n",
              "    <tr>\n",
              "      <th>3</th>\n",
              "      <td>4</td>\n",
              "      <td>114885</td>\n",
              "      <td>31357.0</td>\n",
              "    </tr>\n",
              "    <tr>\n",
              "      <th>4</th>\n",
              "      <td>5</td>\n",
              "      <td>113041</td>\n",
              "      <td>11862.0</td>\n",
              "    </tr>\n",
              "  </tbody>\n",
              "</table>\n",
              "</div>\n",
              "      <button class=\"colab-df-convert\" onclick=\"convertToInteractive('df-6011cf02-7453-40ce-a6d5-ec34007bc69b')\"\n",
              "              title=\"Convert this dataframe to an interactive table.\"\n",
              "              style=\"display:none;\">\n",
              "        \n",
              "  <svg xmlns=\"http://www.w3.org/2000/svg\" height=\"24px\"viewBox=\"0 0 24 24\"\n",
              "       width=\"24px\">\n",
              "    <path d=\"M0 0h24v24H0V0z\" fill=\"none\"/>\n",
              "    <path d=\"M18.56 5.44l.94 2.06.94-2.06 2.06-.94-2.06-.94-.94-2.06-.94 2.06-2.06.94zm-11 1L8.5 8.5l.94-2.06 2.06-.94-2.06-.94L8.5 2.5l-.94 2.06-2.06.94zm10 10l.94 2.06.94-2.06 2.06-.94-2.06-.94-.94-2.06-.94 2.06-2.06.94z\"/><path d=\"M17.41 7.96l-1.37-1.37c-.4-.4-.92-.59-1.43-.59-.52 0-1.04.2-1.43.59L10.3 9.45l-7.72 7.72c-.78.78-.78 2.05 0 2.83L4 21.41c.39.39.9.59 1.41.59.51 0 1.02-.2 1.41-.59l7.78-7.78 2.81-2.81c.8-.78.8-2.07 0-2.86zM5.41 20L4 18.59l7.72-7.72 1.47 1.35L5.41 20z\"/>\n",
              "  </svg>\n",
              "      </button>\n",
              "      \n",
              "  <style>\n",
              "    .colab-df-container {\n",
              "      display:flex;\n",
              "      flex-wrap:wrap;\n",
              "      gap: 12px;\n",
              "    }\n",
              "\n",
              "    .colab-df-convert {\n",
              "      background-color: #E8F0FE;\n",
              "      border: none;\n",
              "      border-radius: 50%;\n",
              "      cursor: pointer;\n",
              "      display: none;\n",
              "      fill: #1967D2;\n",
              "      height: 32px;\n",
              "      padding: 0 0 0 0;\n",
              "      width: 32px;\n",
              "    }\n",
              "\n",
              "    .colab-df-convert:hover {\n",
              "      background-color: #E2EBFA;\n",
              "      box-shadow: 0px 1px 2px rgba(60, 64, 67, 0.3), 0px 1px 3px 1px rgba(60, 64, 67, 0.15);\n",
              "      fill: #174EA6;\n",
              "    }\n",
              "\n",
              "    [theme=dark] .colab-df-convert {\n",
              "      background-color: #3B4455;\n",
              "      fill: #D2E3FC;\n",
              "    }\n",
              "\n",
              "    [theme=dark] .colab-df-convert:hover {\n",
              "      background-color: #434B5C;\n",
              "      box-shadow: 0px 1px 3px 1px rgba(0, 0, 0, 0.15);\n",
              "      filter: drop-shadow(0px 1px 2px rgba(0, 0, 0, 0.3));\n",
              "      fill: #FFFFFF;\n",
              "    }\n",
              "  </style>\n",
              "\n",
              "      <script>\n",
              "        const buttonEl =\n",
              "          document.querySelector('#df-6011cf02-7453-40ce-a6d5-ec34007bc69b button.colab-df-convert');\n",
              "        buttonEl.style.display =\n",
              "          google.colab.kernel.accessAllowed ? 'block' : 'none';\n",
              "\n",
              "        async function convertToInteractive(key) {\n",
              "          const element = document.querySelector('#df-6011cf02-7453-40ce-a6d5-ec34007bc69b');\n",
              "          const dataTable =\n",
              "            await google.colab.kernel.invokeFunction('convertToInteractive',\n",
              "                                                     [key], {});\n",
              "          if (!dataTable) return;\n",
              "\n",
              "          const docLinkHtml = 'Like what you see? Visit the ' +\n",
              "            '<a target=\"_blank\" href=https://colab.research.google.com/notebooks/data_table.ipynb>data table notebook</a>'\n",
              "            + ' to learn more about interactive tables.';\n",
              "          element.innerHTML = '';\n",
              "          dataTable['output_type'] = 'display_data';\n",
              "          await google.colab.output.renderOutput(dataTable, element);\n",
              "          const docLink = document.createElement('div');\n",
              "          docLink.innerHTML = docLinkHtml;\n",
              "          element.appendChild(docLink);\n",
              "        }\n",
              "      </script>\n",
              "    </div>\n",
              "  </div>\n",
              "  "
            ]
          },
          "metadata": {},
          "execution_count": 3
        }
      ]
    },
    {
      "cell_type": "markdown",
      "source": [
        "You may observe that:\n",
        "- The values of `id` column of `movies_df` DataFrame matches with values of `tmdbId` column of `links_df` DataFrame.\n",
        "- The values of `imdb_id\t` column of `movies_df` DataFrame matches with values of `imdbId` column of `links_df` DataFrame.\n",
        "\n",
        "Let us now merge both these DataFrames using the `merge()` function of `pandas` module."
      ],
      "metadata": {
        "id": "TR8wYGaWYUgh"
      }
    },
    {
      "cell_type": "code",
      "source": [
        "# S1.7: Merge 'movies_df' and 'links_df' DataFrames\n",
        "m_links_df = pd.merge(movies_df, links_df, left_on ='id', right_on ='tmdbId')\n",
        "m_links_df"
      ],
      "metadata": {
        "id": "2SUQhZnSbJdQ"
      },
      "execution_count": null,
      "outputs": []
    },
    {
      "cell_type": "markdown",
      "source": [
        "From the above DataFrame, we need only two columns i.e. `movieId` and `title`. Let us create a new DataFrame that consists of only these two columns."
      ],
      "metadata": {
        "id": "Kr7f2bVMbmx6"
      }
    },
    {
      "cell_type": "code",
      "source": [
        "# S1.8: Obtain the final DataFrame consisting of only 'movieId' and 'title' columns.\n",
        "m_df = m_links_df[['movieId', 'title']]\n",
        "m_df"
      ],
      "metadata": {
        "id": "l6vc6dW6b3lo"
      },
      "execution_count": null,
      "outputs": []
    },
    {
      "cell_type": "markdown",
      "source": [
        "Now that we finally obtained a DataFrame having movie ID and title of each movie, its time to get ratings of these movies.\n",
        "\n",
        "For this, load the third dataset `ratings_small.csv` which  contains user IDs and ratings of movies given by the users.\n",
        "\n",
        "**The `ratings_small.csv` Dataset Link:** https://drive.google.com/uc?id=1DKT6CcjHsdKY9TKKAfk50ic2khf9JbJA"
      ],
      "metadata": {
        "id": "jm8bP1NKcnCX"
      }
    },
    {
      "cell_type": "code",
      "source": [
        "# S1.9: Load 'ratings_small.csv' file into 'ratings_df' DataFrame.\n",
        "ratings_df = pd.read_csv('https://drive.google.com/uc?id=1DKT6CcjHsdKY9TKKAfk50ic2khf9JbJA')\n",
        "ratings_df.head()"
      ],
      "metadata": {
        "id": "A3-DdoMrdd73",
        "colab": {
          "base_uri": "https://localhost:8080/",
          "height": 206
        },
        "outputId": "80b735a7-1a78-4b37-ffee-57726e480852"
      },
      "execution_count": null,
      "outputs": [
        {
          "output_type": "execute_result",
          "data": {
            "text/plain": [
              "   userId  movieId  rating   timestamp\n",
              "0       1       31     2.5  1260759144\n",
              "1       1     1029     3.0  1260759179\n",
              "2       1     1061     3.0  1260759182\n",
              "3       1     1129     2.0  1260759185\n",
              "4       1     1172     4.0  1260759205"
            ],
            "text/html": [
              "\n",
              "  <div id=\"df-da4b389e-7224-4eea-bd4a-9fed43921d87\">\n",
              "    <div class=\"colab-df-container\">\n",
              "      <div>\n",
              "<style scoped>\n",
              "    .dataframe tbody tr th:only-of-type {\n",
              "        vertical-align: middle;\n",
              "    }\n",
              "\n",
              "    .dataframe tbody tr th {\n",
              "        vertical-align: top;\n",
              "    }\n",
              "\n",
              "    .dataframe thead th {\n",
              "        text-align: right;\n",
              "    }\n",
              "</style>\n",
              "<table border=\"1\" class=\"dataframe\">\n",
              "  <thead>\n",
              "    <tr style=\"text-align: right;\">\n",
              "      <th></th>\n",
              "      <th>userId</th>\n",
              "      <th>movieId</th>\n",
              "      <th>rating</th>\n",
              "      <th>timestamp</th>\n",
              "    </tr>\n",
              "  </thead>\n",
              "  <tbody>\n",
              "    <tr>\n",
              "      <th>0</th>\n",
              "      <td>1</td>\n",
              "      <td>31</td>\n",
              "      <td>2.5</td>\n",
              "      <td>1260759144</td>\n",
              "    </tr>\n",
              "    <tr>\n",
              "      <th>1</th>\n",
              "      <td>1</td>\n",
              "      <td>1029</td>\n",
              "      <td>3.0</td>\n",
              "      <td>1260759179</td>\n",
              "    </tr>\n",
              "    <tr>\n",
              "      <th>2</th>\n",
              "      <td>1</td>\n",
              "      <td>1061</td>\n",
              "      <td>3.0</td>\n",
              "      <td>1260759182</td>\n",
              "    </tr>\n",
              "    <tr>\n",
              "      <th>3</th>\n",
              "      <td>1</td>\n",
              "      <td>1129</td>\n",
              "      <td>2.0</td>\n",
              "      <td>1260759185</td>\n",
              "    </tr>\n",
              "    <tr>\n",
              "      <th>4</th>\n",
              "      <td>1</td>\n",
              "      <td>1172</td>\n",
              "      <td>4.0</td>\n",
              "      <td>1260759205</td>\n",
              "    </tr>\n",
              "  </tbody>\n",
              "</table>\n",
              "</div>\n",
              "      <button class=\"colab-df-convert\" onclick=\"convertToInteractive('df-da4b389e-7224-4eea-bd4a-9fed43921d87')\"\n",
              "              title=\"Convert this dataframe to an interactive table.\"\n",
              "              style=\"display:none;\">\n",
              "        \n",
              "  <svg xmlns=\"http://www.w3.org/2000/svg\" height=\"24px\"viewBox=\"0 0 24 24\"\n",
              "       width=\"24px\">\n",
              "    <path d=\"M0 0h24v24H0V0z\" fill=\"none\"/>\n",
              "    <path d=\"M18.56 5.44l.94 2.06.94-2.06 2.06-.94-2.06-.94-.94-2.06-.94 2.06-2.06.94zm-11 1L8.5 8.5l.94-2.06 2.06-.94-2.06-.94L8.5 2.5l-.94 2.06-2.06.94zm10 10l.94 2.06.94-2.06 2.06-.94-2.06-.94-.94-2.06-.94 2.06-2.06.94z\"/><path d=\"M17.41 7.96l-1.37-1.37c-.4-.4-.92-.59-1.43-.59-.52 0-1.04.2-1.43.59L10.3 9.45l-7.72 7.72c-.78.78-.78 2.05 0 2.83L4 21.41c.39.39.9.59 1.41.59.51 0 1.02-.2 1.41-.59l7.78-7.78 2.81-2.81c.8-.78.8-2.07 0-2.86zM5.41 20L4 18.59l7.72-7.72 1.47 1.35L5.41 20z\"/>\n",
              "  </svg>\n",
              "      </button>\n",
              "      \n",
              "  <style>\n",
              "    .colab-df-container {\n",
              "      display:flex;\n",
              "      flex-wrap:wrap;\n",
              "      gap: 12px;\n",
              "    }\n",
              "\n",
              "    .colab-df-convert {\n",
              "      background-color: #E8F0FE;\n",
              "      border: none;\n",
              "      border-radius: 50%;\n",
              "      cursor: pointer;\n",
              "      display: none;\n",
              "      fill: #1967D2;\n",
              "      height: 32px;\n",
              "      padding: 0 0 0 0;\n",
              "      width: 32px;\n",
              "    }\n",
              "\n",
              "    .colab-df-convert:hover {\n",
              "      background-color: #E2EBFA;\n",
              "      box-shadow: 0px 1px 2px rgba(60, 64, 67, 0.3), 0px 1px 3px 1px rgba(60, 64, 67, 0.15);\n",
              "      fill: #174EA6;\n",
              "    }\n",
              "\n",
              "    [theme=dark] .colab-df-convert {\n",
              "      background-color: #3B4455;\n",
              "      fill: #D2E3FC;\n",
              "    }\n",
              "\n",
              "    [theme=dark] .colab-df-convert:hover {\n",
              "      background-color: #434B5C;\n",
              "      box-shadow: 0px 1px 3px 1px rgba(0, 0, 0, 0.15);\n",
              "      filter: drop-shadow(0px 1px 2px rgba(0, 0, 0, 0.3));\n",
              "      fill: #FFFFFF;\n",
              "    }\n",
              "  </style>\n",
              "\n",
              "      <script>\n",
              "        const buttonEl =\n",
              "          document.querySelector('#df-da4b389e-7224-4eea-bd4a-9fed43921d87 button.colab-df-convert');\n",
              "        buttonEl.style.display =\n",
              "          google.colab.kernel.accessAllowed ? 'block' : 'none';\n",
              "\n",
              "        async function convertToInteractive(key) {\n",
              "          const element = document.querySelector('#df-da4b389e-7224-4eea-bd4a-9fed43921d87');\n",
              "          const dataTable =\n",
              "            await google.colab.kernel.invokeFunction('convertToInteractive',\n",
              "                                                     [key], {});\n",
              "          if (!dataTable) return;\n",
              "\n",
              "          const docLinkHtml = 'Like what you see? Visit the ' +\n",
              "            '<a target=\"_blank\" href=https://colab.research.google.com/notebooks/data_table.ipynb>data table notebook</a>'\n",
              "            + ' to learn more about interactive tables.';\n",
              "          element.innerHTML = '';\n",
              "          dataTable['output_type'] = 'display_data';\n",
              "          await google.colab.output.renderOutput(dataTable, element);\n",
              "          const docLink = document.createElement('div');\n",
              "          docLink.innerHTML = docLinkHtml;\n",
              "          element.appendChild(docLink);\n",
              "        }\n",
              "      </script>\n",
              "    </div>\n",
              "  </div>\n",
              "  "
            ]
          },
          "metadata": {},
          "execution_count": 4
        }
      ]
    },
    {
      "cell_type": "markdown",
      "source": [
        "Let us drop the `timestamp` column from the above DataFrame as it is not needed for building the collaborative recommender."
      ],
      "metadata": {
        "id": "tSweoxQ7duqP"
      }
    },
    {
      "cell_type": "code",
      "source": [
        "# S1.10: Drop 'timestamp' column from 'ratings_df' DataFrame.\n",
        "ratings_df = ratings_df.drop('timestamp', axis=1)\n",
        "ratings_df.head()"
      ],
      "metadata": {
        "id": "M2EDm2VFd_uQ"
      },
      "execution_count": null,
      "outputs": []
    },
    {
      "cell_type": "markdown",
      "source": [
        "You may observe that both `m_df` and `ratings_df` DataFrames consists of a matching column `movieId`. Hence, we can merge these DataFrames using `merge()` function to obtain a final DataFrame that contain user ID, movie ID, title and ratings."
      ],
      "metadata": {
        "id": "NYse79rVeK9V"
      }
    },
    {
      "cell_type": "code",
      "source": [
        "# S1.11: Merge 'm_df' and 'ratings_df' DataFrames.\n",
        "final_movies_df = pd.merge(m_df, ratings_df, on = 'movieId')\n",
        "final_movies_df.head()"
      ],
      "metadata": {
        "id": "427szW4Re4ae"
      },
      "execution_count": null,
      "outputs": []
    },
    {
      "cell_type": "markdown",
      "source": [
        "Now that we have obtained the final DataFrame that will be used to build a movie recommender based on user's ratings, let's explore the data a bit and get a look at some of the best rated movies."
      ],
      "metadata": {
        "id": "adygYJI6f5bU"
      }
    },
    {
      "cell_type": "markdown",
      "source": [
        "---"
      ],
      "metadata": {
        "id": "ukXDB9k7fodN"
      }
    },
    {
      "cell_type": "markdown",
      "source": [
        "#### Activity 2: Data Analysis\n",
        "\n",
        "Let us first find out the average rating of each movie by grouping movies based on their title."
      ],
      "metadata": {
        "id": "fmJIJJTrfpdz"
      }
    },
    {
      "cell_type": "code",
      "source": [
        "# S2.1: Group the DataFrame by 'title' column and use 'mean()' function to determine average rating.\n",
        "final_movies_df.groupby('title')['rating'].mean()"
      ],
      "metadata": {
        "id": "RId8WSBwgpKo"
      },
      "execution_count": null,
      "outputs": []
    },
    {
      "cell_type": "markdown",
      "source": [
        "If we wish to see top 5 highly rated movies, we can sort the above DataFrame in descending order."
      ],
      "metadata": {
        "id": "3M1Us5Qwg96d"
      }
    },
    {
      "cell_type": "code",
      "source": [
        "# S2.2: Print top 5 movies having highest mean rating.\n",
        "final_movies_df.groupby('title')['rating'].mean().sort_values(ascending = False).head()"
      ],
      "metadata": {
        "id": "cmQ1aDh_hK0T"
      },
      "execution_count": null,
      "outputs": []
    },
    {
      "cell_type": "markdown",
      "source": [
        "Similarly, we can determine how many users had given their ratings to each movie by grouping movies based on their title and then using `count()` function.  "
      ],
      "metadata": {
        "id": "FN4N0RfmhfdN"
      }
    },
    {
      "cell_type": "code",
      "source": [
        "# S2.3: Count the number of ratings given to each movie.\n",
        "final_movies_df.groupby('title')['rating'].count()"
      ],
      "metadata": {
        "id": "efOTLjSahv-8"
      },
      "execution_count": null,
      "outputs": []
    },
    {
      "cell_type": "markdown",
      "source": [
        "If we wish to see which 5 movies have received highest number of ratings (probably the most watched movies), we can sort the above DataFrame in descending order."
      ],
      "metadata": {
        "id": "n9_AYxgYienl"
      }
    },
    {
      "cell_type": "code",
      "source": [
        "# S2.4: Print top 5 movies having highest count of ratings.\n",
        "final_movies_df.groupby('title')['rating'].count().sort_values(ascending = False).head()"
      ],
      "metadata": {
        "id": "cMJng63WieF2"
      },
      "execution_count": null,
      "outputs": []
    },
    {
      "cell_type": "markdown",
      "source": [
        "Let's create a  Dataframe that consists of average rating of each movie and the number of ratings given to each movie. We will need this DataFrame to check the total number of ratings of recommended movies."
      ],
      "metadata": {
        "id": "qXN5D-Aoi__s"
      }
    },
    {
      "cell_type": "code",
      "source": [
        "# T2.1: Create a DataFrame with average rating and number of ratings for each movie.\n",
        "all_movies_ratings = pd.DataFrame(final_movies_df.groupby('title')['rating'].mean())\n",
        "all_movies_ratings['num of ratings'] = pd.DataFrame(final_movies_df.groupby('title')['rating'].count())\n",
        "all_movies_ratings"
      ],
      "metadata": {
        "id": "2xq3rt42j7Ry"
      },
      "execution_count": null,
      "outputs": []
    },
    {
      "cell_type": "markdown",
      "source": [
        "Hence, we obtained a DataFrame which contains the average rating and number of ratings for each movie.\n",
        "Let's move on to creating a collaborative filtering based recommendation system.\n"
      ],
      "metadata": {
        "id": "OKsvAYcBlima"
      }
    },
    {
      "cell_type": "markdown",
      "source": [
        "---"
      ],
      "metadata": {
        "id": "r5shxu3xnmfe"
      }
    },
    {
      "cell_type": "markdown",
      "source": [
        "#### Activity 3: Setting up the Movie Recommender\n",
        "\n",
        "Let us again print the first 5 rows of the final movies DataFrame.\n",
        "\n"
      ],
      "metadata": {
        "id": "dwNtB08omRfY"
      }
    },
    {
      "cell_type": "code",
      "source": [
        "# S3.1: Print first 5 rows of final movies DataFrame.\n",
        "final_movies_df.head()"
      ],
      "metadata": {
        "id": "EbxwGQXdrt0l"
      },
      "execution_count": null,
      "outputs": []
    },
    {
      "cell_type": "markdown",
      "source": [
        "\n",
        "Say we have a **user X** as our target person for whom we want to recommend best movie to watch. Consider the following user data is with you.\n",
        "\n",
        "<center><img src=https://s3-whjr-v2-prod-bucket.whjr.online/whjr-v2-prod-bucket/602074ed-3289-4349-89b3-cce587168baf.png>\n",
        "\n",
        "`Table 3.1: Users rating and watch history database`</center>\n",
        "\n",
        "The above table shows the rating given by each user to each of the movies.\n",
        "\n",
        "Now let's create a matrix similar to the above table $3.1$ for our final movies DataFrame such that the user IDs are on vertical axis and the movie titles are on horizontal axis as shown in the above table. This can be done by using `pivot_table()` function of `pandas` module.\n",
        "\n",
        "**Note:** There will be a lot of `NaN` values in the obtained pivot table, because most people have not seen most of the movies.\n"
      ],
      "metadata": {
        "id": "dPlJqPAMrxqs"
      }
    },
    {
      "cell_type": "code",
      "source": [
        "# T3.1: Create a pivot table with index ='userId', columns ='title', values ='rating'\n",
        "user_ratings = final_movies_df.pivot_table(index ='userId', columns ='title', values ='rating')\n",
        "user_ratings"
      ],
      "metadata": {
        "id": "HGVWU3mDqE7P"
      },
      "execution_count": null,
      "outputs": []
    },
    {
      "cell_type": "markdown",
      "source": [
        "The above DataFrame is similar to Table $3.1$. Here, each cell consist of the rating the user gave to that movie. The `NaN` values indicate that these movies were not watched or rated by that particular user.\n",
        "\n",
        "To obtain recommendation for similar movies based on the ratings given by other users, we will compute a **similarity score**. Collaborative filters can use a variety of similarity scores, for example:\n",
        "\n",
        "1. Pearson Correlation Coefficient\n",
        "\n",
        "2. Cosine Similarity\n",
        "\n",
        "3. Singular Value Decomposition and a lot more.\n",
        "\n",
        "For our recommender, we will use **Pearson Correlation Coefficient** to obtain the similarity score of the movies. Let us first recall correlation coefficient and the `corr()` function that we have already studied in one of the previous classes.\n",
        "\n",
        "**Correlation:**\n",
        "\n",
        "- Correlation measures the strength of a linear relationship between two variables.\n",
        "- A correlation coefficient is a number between -1 and 1 that describes a negative or positive correlation respectively. A value of zero indicates no correlation.\n",
        "\n",
        "**The `corr()` Function:**\n",
        "  \n",
        "  To calculate the correlation coefficient between all the numeric columns in a DataFrame, use the `corr()` function of the `pandas` module. It returns an N-dimensional DataFrame containing the correlation coefficient values between the numeric columns.\n",
        "\n",
        "Let us obtain the similarity score between each movies by using `corr()` function on the above pivot table."
      ],
      "metadata": {
        "id": "rKN-CCwGqEPQ"
      }
    },
    {
      "cell_type": "code",
      "source": [
        "# S3.2: Calculate correlation coefficient between each pair of movies using 'corr()' function.\n",
        "similarity_df = user_ratings.corr()\n",
        "similarity_df"
      ],
      "metadata": {
        "id": "7QHhc2sZrm6E"
      },
      "execution_count": null,
      "outputs": []
    },
    {
      "cell_type": "markdown",
      "source": [
        "Hence, we obtained correlation coefficients for each set of movies. You may note that the many correlation coefficients are `NaN` as the `corr()` function does not compute pairwise correlation of NA/null values.\n",
        "\n",
        "Now we need to select a movie to test our recommender system. Choose any movie title from the data.\n",
        "\n",
        "Let us choose a movie `\"Toy Story\"`.\n",
        "\n",
        "<center><img src=\"https://static.wikia.nocookie.net/logopedia/images/a/a2/Toy_Story_Logo.svg\" height = 300/>\n",
        "\n",
        "`Image Source: https://logos.fandom.com/wiki/Toy_Story`\n",
        "</center>\n",
        "\n",
        "To find the correlation value for the movie `\"Toy Story\"` with all other movies in the data, pass `\"Toy Story\"` as index to the above correlation coefficients `similarity_df` DataFrame.\n",
        "\n"
      ],
      "metadata": {
        "id": "_ika_hljyba5"
      }
    },
    {
      "cell_type": "code",
      "source": [
        "# T3.2: Create a DataFrame containing the correlation coefficients of other movies with 'Toy Story'\n",
        "similar_to_toystory = similarity_df[\"Toy Story\"]\n",
        "similar_to_toystory_df = pd.DataFrame(similar_to_toystory)\n",
        "similar_to_toystory_df"
      ],
      "metadata": {
        "id": "TahsyPwy1hJm"
      },
      "execution_count": null,
      "outputs": []
    },
    {
      "cell_type": "markdown",
      "source": [
        "Let us rename the column `Toy Story` to `'correlation'`."
      ],
      "metadata": {
        "id": "zjibPtYz7_qC"
      }
    },
    {
      "cell_type": "code",
      "source": [
        "# S3.3: Rename the column to 'correlation'.\n",
        "similar_to_toystory_df.rename(columns={similar_to_toystory_df.columns[0]: 'correlation'}, inplace = True)\n",
        "similar_to_toystory_df"
      ],
      "metadata": {
        "id": "g7Rj1TJW7--5"
      },
      "execution_count": null,
      "outputs": []
    },
    {
      "cell_type": "markdown",
      "source": [
        "Hence, we obtained the similarity score of each movie with `'Toy Story'` movie. Let us display top 10 most similar movies to `'Toy Story'` by simply sorting the above DataFrame by correlation in descending order.\n"
      ],
      "metadata": {
        "id": "BXF1m1u17-Si"
      }
    },
    {
      "cell_type": "code",
      "source": [
        "# S3.4: Sort the above DataFrame by 'correlation' column to find top 10 highly correlated movies.\n",
        "similar_to_toystory_df.sort_values('correlation', ascending = False).head(10)"
      ],
      "metadata": {
        "id": "xwdjXGF1_F1w"
      },
      "execution_count": null,
      "outputs": []
    },
    {
      "cell_type": "markdown",
      "source": [
        "Here, we obtained the most similar movies for `'Toy Story'` movie as correlation coefficient is `1.0`. This implies that the other users who had watched `'Toy Story'` movie also watched the above movies too and gave a good rating to these movies. Hence, if a user who had recently watched `'Toy Story'` movie can be recommended above movies. But wait, are the above recommendations correct? 🤔\n",
        "\n",
        "Many of the above movies might be watched by only 1 or very few users who had also watched `'Toy Story'` movie. Hence the above results don't really make sense unless we consider the total number of ratings each movie has. Let's fix this by filtering out movies that have less than 100 ratings.\n",
        "\n",
        "For this, let us join or merge the total number of ratings of each movie obtained in **Activity 2: Data Analysis** to the correlation DataFrame using `join()` function.\n"
      ],
      "metadata": {
        "id": "nViQakXa_Y16"
      }
    },
    {
      "cell_type": "code",
      "source": [
        "# T3.3: Display the number of ratings of each movie along with the correlation coefficients\n",
        "# by joining 'all_movies_ratings['num of ratings']' DataFrame with the above DataFrame.\n",
        "corr_toystory = similar_to_toystory_df.join(all_movies_ratings['num of ratings'])\n",
        "corr_toystory.head()"
      ],
      "metadata": {
        "id": "krS1CbDzCVSo"
      },
      "execution_count": null,
      "outputs": []
    },
    {
      "cell_type": "markdown",
      "source": [
        "Let us display top 20 highly correlated/similar movies but only those whose `num of ratings` is greater than `100`.   "
      ],
      "metadata": {
        "id": "HYrCiwcNDbiv"
      }
    },
    {
      "cell_type": "code",
      "source": [
        "# S3.5: Display only those movies whose number of ratings are greater than 100.\n",
        "# Sort them in descending order and print first 20 values.\n",
        "corr_toystory[corr_toystory['num of ratings'] > 100].sort_values('correlation',ascending=False).head(20)"
      ],
      "metadata": {
        "id": "Ce2tO4eKEBSS"
      },
      "execution_count": null,
      "outputs": []
    },
    {
      "cell_type": "markdown",
      "source": [
        "Hence, these are the movies that can be recommended as they all have high similarity to `'Toy Story'` movie and have more than 100 ratings from the users.\n",
        "\n",
        "Similar to `'Toy Story'` movie, we can find list of recommended movies for other movies as well.\n",
        "\n",
        "Let us create a user-defined function to recommend movies that are similar to a particular movie using the Pearson Correlation Coefficient. Follow the steps given below (These steps are same as that followed in previous 5 code cells):\n",
        "\n",
        "Create a user-defined function `recommend_movies` and pass the `movie_name` string as input. Inside this function:\n",
        "1. Obtain the correlation coefficients of all the movies with the input  `movie_name` by specifying the `movie_name` as index to the correlation table `similarity_df`.\n",
        "  \n",
        "  This will return a pandas series containing the correlation coefficients. Store this pandas Series in a new DataFrame. Rename the column name to `'correlation'`.\n",
        "\n",
        "2. Add the number of ratings for each movie to the new DataFrame obtained in the above step using `join()` function.\n",
        "\n",
        "3. Return top 20 highly correlated/similar movies but only those whose num of ratings is greater than 100 ."
      ],
      "metadata": {
        "id": "-cjsV1NXEQVS"
      }
    },
    {
      "cell_type": "code",
      "source": [
        "# T3.4: Define 'recommend_movies()' function.\n",
        "def recommend_movies(movie_name):\n",
        "  similar_movies = similarity_df[movie_name]\n",
        "  similar_movies_df = pd.DataFrame(similar_movies)\n",
        "  similar_movies_df.rename(columns = {similar_movies_df.columns[0]: 'correlation'}, inplace = True)\n",
        "  corr_num_ratings = similar_movies_df.join(all_movies_ratings['num of ratings'])\n",
        "  return corr_num_ratings[corr_num_ratings['num of ratings'] > 100].sort_values('correlation',ascending = False).head(20)"
      ],
      "metadata": {
        "id": "Ppgr3ZgHFsEL"
      },
      "execution_count": null,
      "outputs": []
    },
    {
      "cell_type": "markdown",
      "source": [
        "\n",
        "\n",
        "Let us recommend some movies to a user who recently watched `'Star Wars'` based on ratings given by other users who had also watched `'Star Wars'`."
      ],
      "metadata": {
        "id": "iK7TOVMlJRrp"
      }
    },
    {
      "cell_type": "code",
      "source": [
        "# S3.6: Call 'recommend_movies()' function and pass 'Star Wars' as input.\n",
        "recommend_movies('Star Wars')"
      ],
      "metadata": {
        "id": "4ekF3mRJJs7H"
      },
      "execution_count": null,
      "outputs": []
    },
    {
      "cell_type": "markdown",
      "source": [
        "We can see that the top recommendations are pretty good. The movie that has the highest/full correlation to `Star Wars` is `Star Wars` itself. The movies such as `Return of the Jedi`, `The Empire Strikes Back` and `The Dark Knight` show high correlation with `Star Wars`. Similarly, you can obtain recommendations for any other movie of your choice.\n",
        "\n",
        "Thus, we have successfully built a movie recommender by performing collaborative filtering using Pearson correlation.\n",
        "\n",
        "We will stop here. In the next class, we will build another collaborative filter based recommender using Cosine similarity."
      ],
      "metadata": {
        "id": "IaMnyQ0UL3Ul"
      }
    },
    {
      "cell_type": "markdown",
      "source": [
        "---"
      ],
      "metadata": {
        "id": "efCQbGqGMzyH"
      }
    },
    {
      "cell_type": "markdown",
      "source": [
        "#### Activities\n",
        "\n",
        "\n",
        "**Teacher Activities:**\n",
        "\n",
        "1.   Collaborative Filtering I - Pearson Correlation (Class Copy)\n",
        "\n",
        "\tLink on Panel\n",
        "\n",
        "2.  Collaborative Filtering I - Pearson Correlation (Reference)\n",
        "\n",
        " Link on Panel"
      ],
      "metadata": {
        "id": "g97AnNbIbX4F"
      }
    }
  ]
}