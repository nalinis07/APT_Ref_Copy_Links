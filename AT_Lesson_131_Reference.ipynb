{
  "nbformat": 4,
  "nbformat_minor": 0,
  "metadata": {
    "colab": {
      "provenance": [],
      "include_colab_link": true
    },
    "kernelspec": {
      "name": "python3",
      "display_name": "Python 3"
    },
    "language_info": {
      "name": "python"
    }
  },
  "cells": [
    {
      "cell_type": "markdown",
      "metadata": {
        "id": "view-in-github",
        "colab_type": "text"
      },
      "source": [
        "<a href=\"https://colab.research.google.com/github/nalinis07/APT_Ref_Copy_Links/blob/MASTER/AT_Lesson_131_Reference.ipynb\" target=\"_parent\"><img src=\"https://colab.research.google.com/assets/colab-badge.svg\" alt=\"Open In Colab\"/></a>"
      ]
    },
    {
      "cell_type": "markdown",
      "metadata": {
        "id": "mFyBWseUe89f"
      },
      "source": [
        "# Lesson 131: ARIMA V - Grid Search ARIMA"
      ]
    },
    {
      "cell_type": "markdown",
      "metadata": {
        "id": "0KLhWJtcfETM"
      },
      "source": [
        "---"
      ]
    },
    {
      "cell_type": "markdown",
      "metadata": {
        "id": "FVRJyo-QfFWq"
      },
      "source": [
        "**WARNING:** The reference notebook is meant **ONLY** for a teacher. Please **DO NOT** share it with any student.\n",
        "\n",
        "The contents of the reference notebook are meant only to prepare a teacher for a class. To conduct the class, use the class copy of the reference notebook. The link and the instructions for the same are provided in the **Notes To The Teacher** section.\n",
        "\n",
        "\n",
        "|Particulars|Description|\n",
        "|-|-|\n",
        "|**Topic**|ARIMA V - Grid Search ARIMA|\n",
        "|||\n",
        "|**Class Description**|In this class, a student will determine optimal hyperparameter values for ARIMA model using Grid search technique|\n",
        "|||\n",
        "|**Class**|C131|\n",
        "|||\n",
        "|**Class Time**|55 minutes|\n",
        "|||\n",
        "|**Goal**|Evaluate model using other accuracy metrics|\n",
        "||Estimate Hyperparameter values using Grid search|\n",
        "|||\n",
        "|**Teacher Resources**|Google Account|\n",
        "||Laptop with internet connectivity|\n",
        "||Earphones with mic|\n",
        "|||\n",
        "|**Student Resources**|Google Account|\n",
        "||Laptop with internet connectivity|\n",
        "||Earphones with mic|"
      ]
    },
    {
      "cell_type": "markdown",
      "metadata": {
        "id": "nEMc9z_HfQVA"
      },
      "source": [
        "---"
      ]
    },
    {
      "cell_type": "markdown",
      "metadata": {
        "id": "RZKTGw0AfUuA"
      },
      "source": [
        "#### Teacher-Student Activities\n",
        "\n",
        "In previous lessons, we explored moving average processes MA(q), and autoregressive processes AR(p). We combined them and formed ARMA(p, q) and ARIMA(p, d, q) models to deploy more complex time series.\n",
        "\n",
        "Thus, the step by step approach of performing time series forecasting using ARIMA are as shown below:\n",
        "\n",
        "<center><img src=\"https://s3-whjr-v2-prod-bucket.whjr.online/whjr-v2-prod-bucket/26b7c5ae-6652-4bd1-826d-abd6a51d5987.jpg\" height = 350/></center>\n",
        "\n",
        "In today's class, we will deploy ARIMA model on a seasonal real world dataset and determine optimal hyperparameter values for ARIMA using Grid search technique.\n",
        "\n",
        "Let us first recall the concepts covered in the previous lesson and start this lesson from **Activity 1: Deploying ARIMA**."
      ]
    },
    {
      "cell_type": "markdown",
      "metadata": {
        "id": "xjeX3xP2A9qp"
      },
      "source": [
        "---"
      ]
    },
    {
      "cell_type": "markdown",
      "source": [
        "#### Understanding Moving Average (MA) Models\n",
        "\n",
        "Recall the simple AR model:\n",
        "$$y_t = \\phi_0 + \\phi_1 y_{t-1} + \\epsilon_t $$\n",
        "\n",
        "Here, errors ($\\epsilon_t$) is the residual error at time $t$.\n",
        "\n",
        "However, just like the input observations, there may be autocorrelation or dependency between the residual errors. We may consider situations in which the error at one specific time is linearly related to the error at a previous time.  Hence, we can\n",
        "create a model of the residual error time series and predict the expected error for our model.\n",
        "\n",
        "A simple and effective model of residual error is an autoregression **Moving Average (MA)** model. This model uses past prediction errors instead of past observations to predict future values.\n",
        "\n",
        "The simple MA model is given as:\n",
        "$$y_t = \\theta_0 + \\theta_1 \\epsilon_{t-1} + \\epsilon_t \\tag{1.1}$$\n",
        "\n",
        "Where,\n",
        "- $\\theta_0$ is the constant or intercept (same as $\\phi_0$ of AR model).\n",
        "- $\\theta_1$ is the regression coefficient for lag-1 error.\n",
        "- $\\epsilon_{t-1}$ is the residuals or error in prediction for the past period.\n",
        "-  $\\epsilon_{t}$ is the residuals for the current period.\n",
        "\n",
        "Thus, MA models use dependency between residual errors to forecast values in the next time period.\n",
        "\n",
        "The equation (1.1) is a first-order moving average **MA(1)** model as the one error term is used to predict the target variable.\n",
        "\n",
        "Compare the AR(1) and MA(1) model equations:\n",
        "\n",
        "<img src=\"https://s3-whjr-v2-prod-bucket.whjr.online/whjr-v2-prod-bucket/9abcbcf2-318f-421a-853d-db79132b9059.png\"/>\n",
        "\n",
        "The only difference in both the regression models is that the AR uses *lagged observations* whereas MA uses *lagged residual errors* to perform forecasting.\n",
        "\n",
        "Similarly, the second-order moving average denoted by **MA(2)** is:\n",
        "\n",
        "$$y_t = \\theta_0 + \\theta_1 \\epsilon_{t-1} + \\theta_2 \\epsilon_{t-2} + \\epsilon_t \\tag{4.2}$$\n",
        "\n",
        "More generally, the MA process of order `q` is defined as:\n",
        "\n",
        "\n",
        "$$y_t = \\theta_0 + \\theta_1 \\epsilon_{t-1} + \\theta_2 \\epsilon_{t-2} + \\cdots+ \\theta_q \\epsilon_{t-q} + \\epsilon_t \\tag{4.3}$$\n",
        "\n",
        "The order `q` of the moving average model determines the number of past error terms that affect the present value.  The larger `q` means the more past error terms affect the present value. Therefore, it is important to determine the order `q` of the moving average process in order to fit the appropriate model.\n",
        "\n",
        "We will understand how to identify the order of a MA process in the upcoming section. Before that, let us understand ARMA models.\n",
        "\n",
        "\n",
        "\n"
      ],
      "metadata": {
        "id": "SU02C5B5iL4e"
      }
    },
    {
      "cell_type": "markdown",
      "source": [
        "---"
      ],
      "metadata": {
        "id": "TSO1ZDxPAH9h"
      }
    },
    {
      "cell_type": "markdown",
      "source": [
        "#### Recap\n",
        "\n",
        "#### Understanding Autoregressive Moving Average (ARMA) Models\n",
        "\n",
        "Combining the concepts of the AR model and MA model, the ARMA model has been developed. The ARMA model combines the AR and MA models as shown below:\n",
        "\n",
        "\n",
        "$$y_t = \\phi_0 + \\underbrace{\\phi_1 y_{t-1} + \\phi_2 y_{t-2} + \\dots + \\phi_p y_{t-p}}_{\\text{lagged values}}  + \\underbrace{\\theta_1 \\epsilon_{t-1} + \\theta_2 \\epsilon_{t-2} + \\cdots+ \\theta_q \\epsilon_{t-q} + \\epsilon_t}_{\\text{lagged errors}}$$\n",
        "\n",
        "Here,\n",
        " - $p$ is the order of AR model.\n",
        " - $q$ is the order of MA model.\n",
        "\n",
        "**The main notion of combining the concepts of the AR(p) model and the MA(p) model in the ARMA(p, q) model is to equally consider both the lagged values and lagged error values.**\n",
        "\n",
        "By combining the concepts of both the models, the ARMA is expected to give much better results than\n",
        "the individual two models. Thus, if we consider the ARMA(1,1) model, the equation can be written as:\n",
        "\n",
        "$$y_t = \\phi_0 + \\phi_1 y_{t-1}  + \\theta_1 \\epsilon_{t-1} + \\epsilon_t$$\n",
        "\n",
        "This shows the basic calculation of the ARMA model that can be used to predict future trends.\n",
        "\n",
        "Suppose, we want to find how much quantity of a  particular product should be manufactured by a company in this current month i.e $y_t$.\n",
        "In this case, the ARMA(1,1) model will check:\n",
        "- How many products were required to be manufactured in the previous month ($y_{t–1}$).\n",
        "- How much error was involved in predicting the number of products required for the last month ($\\epsilon_{t-1}$).\n",
        "- How much error or random noise was involved in the prediction of the number for the current month ($\\epsilon_{t}$).\n",
        "\n",
        "**Autoregressive Integrated Moving Average Model (ARIMA(p,d,q)):**\n",
        "\n",
        "When we combine differencing with ARMA model to make  time series data stationary, an ARIMA model is obtained. This model has three parameters:\n",
        "- `p` is the order of AR model.\n",
        "- `q` is the order of MA model.\n",
        "- `d` is the order of differencing.\n",
        "\n",
        "Thus, ARIMA(p,d,q) model is given by:\n",
        "\n",
        "$$y'_t = \\phi_0 + \\underbrace{\\phi_1 y'_{t-1} + \\phi_2 y'_{t-2} + \\dots + \\phi_p y'_{t-p}}_{\\text{differenced lagged values}}  + \\underbrace{\\theta_1 \\epsilon_{t-1} + \\theta_2 \\epsilon_{t-2} + \\cdots+ \\theta_q \\epsilon_{t-q}}_{\\text{lagged errors}} + \\epsilon_t$$\n",
        "\n",
        "Here, $y'_t, y'_{t-1}, y'_{t-2}, \\dots, y'_{t-p}$ are the differenced series terms.\n",
        "\n",
        "Now, the main challenge is to determine the order values chosen for the ARIMA model. We already understood how to estimate order `d` value in the previous class. Let us now learn how to estimate `p` and `q` order value of AR and MA models."
      ],
      "metadata": {
        "id": "svvWrNY075pN"
      }
    },
    {
      "cell_type": "markdown",
      "source": [
        "---"
      ],
      "metadata": {
        "id": "Mmnl-3NwM5aN"
      }
    },
    {
      "cell_type": "markdown",
      "source": [
        "#### ARIMA in Action\n",
        "\n",
        "Here, we will recap on how to work on ACF and PACF of the timeseries and determing `p`, `d`, and `q` parameters."
      ],
      "metadata": {
        "id": "ZSOVaktJM8HW"
      }
    },
    {
      "cell_type": "code",
      "source": [
        "# Load the time series data and print first 5 rows.\n",
        "import numpy as np\n",
        "import pandas as pd\n",
        "import matplotlib.pyplot as plt\n",
        "import seaborn as sns\n",
        "\n",
        "import warnings\n",
        "warnings.filterwarnings(\"ignore\")\n",
        "\n",
        "file_path = 'https://s3-whjr-curriculum-uploads.whjr.online/f4cfc0d1-c1a6-4c4d-bd1c-2388821b7c90.xlsx'\n",
        "gadgets_df = pd.read_excel(file_path)\n",
        "gadgets_df.head()"
      ],
      "metadata": {
        "id": "mW4ZzVF9QZwl",
        "colab": {
          "base_uri": "https://localhost:8080/",
          "height": 206
        },
        "outputId": "a7dbb3dd-7e98-499b-c715-19dbfff109a3"
      },
      "execution_count": null,
      "outputs": [
        {
          "output_type": "execute_result",
          "data": {
            "text/html": [
              "\n",
              "  <div id=\"df-01432314-3155-4a57-b0ca-773ac006eec4\">\n",
              "    <div class=\"colab-df-container\">\n",
              "      <div>\n",
              "<style scoped>\n",
              "    .dataframe tbody tr th:only-of-type {\n",
              "        vertical-align: middle;\n",
              "    }\n",
              "\n",
              "    .dataframe tbody tr th {\n",
              "        vertical-align: top;\n",
              "    }\n",
              "\n",
              "    .dataframe thead th {\n",
              "        text-align: right;\n",
              "    }\n",
              "</style>\n",
              "<table border=\"1\" class=\"dataframe\">\n",
              "  <thead>\n",
              "    <tr style=\"text-align: right;\">\n",
              "      <th></th>\n",
              "      <th>Days</th>\n",
              "      <th>Sales</th>\n",
              "    </tr>\n",
              "  </thead>\n",
              "  <tbody>\n",
              "    <tr>\n",
              "      <th>0</th>\n",
              "      <td>2019-01-01</td>\n",
              "      <td>50.496714</td>\n",
              "    </tr>\n",
              "    <tr>\n",
              "      <th>1</th>\n",
              "      <td>2019-01-02</td>\n",
              "      <td>50.805493</td>\n",
              "    </tr>\n",
              "    <tr>\n",
              "      <th>2</th>\n",
              "      <td>2019-01-03</td>\n",
              "      <td>51.477758</td>\n",
              "    </tr>\n",
              "    <tr>\n",
              "      <th>3</th>\n",
              "      <td>2019-01-04</td>\n",
              "      <td>53.542228</td>\n",
              "    </tr>\n",
              "    <tr>\n",
              "      <th>4</th>\n",
              "      <td>2019-01-05</td>\n",
              "      <td>54.873108</td>\n",
              "    </tr>\n",
              "  </tbody>\n",
              "</table>\n",
              "</div>\n",
              "      <button class=\"colab-df-convert\" onclick=\"convertToInteractive('df-01432314-3155-4a57-b0ca-773ac006eec4')\"\n",
              "              title=\"Convert this dataframe to an interactive table.\"\n",
              "              style=\"display:none;\">\n",
              "        \n",
              "  <svg xmlns=\"http://www.w3.org/2000/svg\" height=\"24px\"viewBox=\"0 0 24 24\"\n",
              "       width=\"24px\">\n",
              "    <path d=\"M0 0h24v24H0V0z\" fill=\"none\"/>\n",
              "    <path d=\"M18.56 5.44l.94 2.06.94-2.06 2.06-.94-2.06-.94-.94-2.06-.94 2.06-2.06.94zm-11 1L8.5 8.5l.94-2.06 2.06-.94-2.06-.94L8.5 2.5l-.94 2.06-2.06.94zm10 10l.94 2.06.94-2.06 2.06-.94-2.06-.94-.94-2.06-.94 2.06-2.06.94z\"/><path d=\"M17.41 7.96l-1.37-1.37c-.4-.4-.92-.59-1.43-.59-.52 0-1.04.2-1.43.59L10.3 9.45l-7.72 7.72c-.78.78-.78 2.05 0 2.83L4 21.41c.39.39.9.59 1.41.59.51 0 1.02-.2 1.41-.59l7.78-7.78 2.81-2.81c.8-.78.8-2.07 0-2.86zM5.41 20L4 18.59l7.72-7.72 1.47 1.35L5.41 20z\"/>\n",
              "  </svg>\n",
              "      </button>\n",
              "      \n",
              "  <style>\n",
              "    .colab-df-container {\n",
              "      display:flex;\n",
              "      flex-wrap:wrap;\n",
              "      gap: 12px;\n",
              "    }\n",
              "\n",
              "    .colab-df-convert {\n",
              "      background-color: #E8F0FE;\n",
              "      border: none;\n",
              "      border-radius: 50%;\n",
              "      cursor: pointer;\n",
              "      display: none;\n",
              "      fill: #1967D2;\n",
              "      height: 32px;\n",
              "      padding: 0 0 0 0;\n",
              "      width: 32px;\n",
              "    }\n",
              "\n",
              "    .colab-df-convert:hover {\n",
              "      background-color: #E2EBFA;\n",
              "      box-shadow: 0px 1px 2px rgba(60, 64, 67, 0.3), 0px 1px 3px 1px rgba(60, 64, 67, 0.15);\n",
              "      fill: #174EA6;\n",
              "    }\n",
              "\n",
              "    [theme=dark] .colab-df-convert {\n",
              "      background-color: #3B4455;\n",
              "      fill: #D2E3FC;\n",
              "    }\n",
              "\n",
              "    [theme=dark] .colab-df-convert:hover {\n",
              "      background-color: #434B5C;\n",
              "      box-shadow: 0px 1px 3px 1px rgba(0, 0, 0, 0.15);\n",
              "      filter: drop-shadow(0px 1px 2px rgba(0, 0, 0, 0.3));\n",
              "      fill: #FFFFFF;\n",
              "    }\n",
              "  </style>\n",
              "\n",
              "      <script>\n",
              "        const buttonEl =\n",
              "          document.querySelector('#df-01432314-3155-4a57-b0ca-773ac006eec4 button.colab-df-convert');\n",
              "        buttonEl.style.display =\n",
              "          google.colab.kernel.accessAllowed ? 'block' : 'none';\n",
              "\n",
              "        async function convertToInteractive(key) {\n",
              "          const element = document.querySelector('#df-01432314-3155-4a57-b0ca-773ac006eec4');\n",
              "          const dataTable =\n",
              "            await google.colab.kernel.invokeFunction('convertToInteractive',\n",
              "                                                     [key], {});\n",
              "          if (!dataTable) return;\n",
              "\n",
              "          const docLinkHtml = 'Like what you see? Visit the ' +\n",
              "            '<a target=\"_blank\" href=Link on Panelotebook</a>'\n",
              "            + ' to learn more about interactive tables.';\n",
              "          element.innerHTML = '';\n",
              "          dataTable['output_type'] = 'display_data';\n",
              "          await google.colab.output.renderOutput(dataTable, element);\n",
              "          const docLink = document.createElement('div');\n",
              "          docLink.innerHTML = docLinkHtml;\n",
              "          element.appendChild(docLink);\n",
              "        }\n",
              "      </script>\n",
              "    </div>\n",
              "  </div>\n",
              "  "
            ],
            "text/plain": [
              "        Days      Sales\n",
              "0 2019-01-01  50.496714\n",
              "1 2019-01-02  50.805493\n",
              "2 2019-01-03  51.477758\n",
              "3 2019-01-04  53.542228\n",
              "4 2019-01-05  54.873108"
            ]
          },
          "metadata": {},
          "execution_count": 41
        }
      ]
    },
    {
      "cell_type": "code",
      "source": [
        "# Get the total number of rows and columns, missing values (if any), data types of columns in the dataset.\n",
        "gadgets_df.info()"
      ],
      "metadata": {
        "id": "O-gV_r3yRBfT",
        "colab": {
          "base_uri": "https://localhost:8080/"
        },
        "outputId": "e7ff092e-266b-4ba4-f4a6-28bd55334b21"
      },
      "execution_count": null,
      "outputs": [
        {
          "output_type": "stream",
          "name": "stdout",
          "text": [
            "<class 'pandas.core.frame.DataFrame'>\n",
            "RangeIndex: 500 entries, 0 to 499\n",
            "Data columns (total 2 columns):\n",
            " #   Column  Non-Null Count  Dtype         \n",
            "---  ------  --------------  -----         \n",
            " 0   Days    500 non-null    datetime64[ns]\n",
            " 1   Sales   500 non-null    float64       \n",
            "dtypes: datetime64[ns](1), float64(1)\n",
            "memory usage: 7.9 KB\n"
          ]
        }
      ]
    },
    {
      "cell_type": "markdown",
      "source": [
        "There are 500 rows and 2 columns and no missing values in the dataset. Also, the data type of the `Days` column is `datetime` which is exactly what we need.  \n",
        "Let us set this column as index of the DataFrame using `set_index()` function. Store this indexed DataFrame as a separate DataFrame."
      ],
      "metadata": {
        "id": "p0tXQqMIfH7X"
      }
    },
    {
      "cell_type": "code",
      "source": [
        "# Set 'Days' column as index of the DataFrame.\n",
        "gadgets_in_df = gadgets_df.set_index('Days')\n",
        "gadgets_in_df.head()"
      ],
      "metadata": {
        "id": "2KUQAKubRKuc",
        "colab": {
          "base_uri": "https://localhost:8080/",
          "height": 238
        },
        "outputId": "419a76cc-679c-461c-fae2-8c3b738c3eca"
      },
      "execution_count": null,
      "outputs": [
        {
          "output_type": "execute_result",
          "data": {
            "text/html": [
              "\n",
              "  <div id=\"df-d0c305cb-b817-474a-996e-bccf58de9052\">\n",
              "    <div class=\"colab-df-container\">\n",
              "      <div>\n",
              "<style scoped>\n",
              "    .dataframe tbody tr th:only-of-type {\n",
              "        vertical-align: middle;\n",
              "    }\n",
              "\n",
              "    .dataframe tbody tr th {\n",
              "        vertical-align: top;\n",
              "    }\n",
              "\n",
              "    .dataframe thead th {\n",
              "        text-align: right;\n",
              "    }\n",
              "</style>\n",
              "<table border=\"1\" class=\"dataframe\">\n",
              "  <thead>\n",
              "    <tr style=\"text-align: right;\">\n",
              "      <th></th>\n",
              "      <th>Sales</th>\n",
              "    </tr>\n",
              "    <tr>\n",
              "      <th>Days</th>\n",
              "      <th></th>\n",
              "    </tr>\n",
              "  </thead>\n",
              "  <tbody>\n",
              "    <tr>\n",
              "      <th>2019-01-01</th>\n",
              "      <td>50.496714</td>\n",
              "    </tr>\n",
              "    <tr>\n",
              "      <th>2019-01-02</th>\n",
              "      <td>50.805493</td>\n",
              "    </tr>\n",
              "    <tr>\n",
              "      <th>2019-01-03</th>\n",
              "      <td>51.477758</td>\n",
              "    </tr>\n",
              "    <tr>\n",
              "      <th>2019-01-04</th>\n",
              "      <td>53.542228</td>\n",
              "    </tr>\n",
              "    <tr>\n",
              "      <th>2019-01-05</th>\n",
              "      <td>54.873108</td>\n",
              "    </tr>\n",
              "  </tbody>\n",
              "</table>\n",
              "</div>\n",
              "      <button class=\"colab-df-convert\" onclick=\"convertToInteractive('df-d0c305cb-b817-474a-996e-bccf58de9052')\"\n",
              "              title=\"Convert this dataframe to an interactive table.\"\n",
              "              style=\"display:none;\">\n",
              "        \n",
              "  <svg xmlns=\"http://www.w3.org/2000/svg\" height=\"24px\"viewBox=\"0 0 24 24\"\n",
              "       width=\"24px\">\n",
              "    <path d=\"M0 0h24v24H0V0z\" fill=\"none\"/>\n",
              "    <path d=\"M18.56 5.44l.94 2.06.94-2.06 2.06-.94-2.06-.94-.94-2.06-.94 2.06-2.06.94zm-11 1L8.5 8.5l.94-2.06 2.06-.94-2.06-.94L8.5 2.5l-.94 2.06-2.06.94zm10 10l.94 2.06.94-2.06 2.06-.94-2.06-.94-.94-2.06-.94 2.06-2.06.94z\"/><path d=\"M17.41 7.96l-1.37-1.37c-.4-.4-.92-.59-1.43-.59-.52 0-1.04.2-1.43.59L10.3 9.45l-7.72 7.72c-.78.78-.78 2.05 0 2.83L4 21.41c.39.39.9.59 1.41.59.51 0 1.02-.2 1.41-.59l7.78-7.78 2.81-2.81c.8-.78.8-2.07 0-2.86zM5.41 20L4 18.59l7.72-7.72 1.47 1.35L5.41 20z\"/>\n",
              "  </svg>\n",
              "      </button>\n",
              "      \n",
              "  <style>\n",
              "    .colab-df-container {\n",
              "      display:flex;\n",
              "      flex-wrap:wrap;\n",
              "      gap: 12px;\n",
              "    }\n",
              "\n",
              "    .colab-df-convert {\n",
              "      background-color: #E8F0FE;\n",
              "      border: none;\n",
              "      border-radius: 50%;\n",
              "      cursor: pointer;\n",
              "      display: none;\n",
              "      fill: #1967D2;\n",
              "      height: 32px;\n",
              "      padding: 0 0 0 0;\n",
              "      width: 32px;\n",
              "    }\n",
              "\n",
              "    .colab-df-convert:hover {\n",
              "      background-color: #E2EBFA;\n",
              "      box-shadow: 0px 1px 2px rgba(60, 64, 67, 0.3), 0px 1px 3px 1px rgba(60, 64, 67, 0.15);\n",
              "      fill: #174EA6;\n",
              "    }\n",
              "\n",
              "    [theme=dark] .colab-df-convert {\n",
              "      background-color: #3B4455;\n",
              "      fill: #D2E3FC;\n",
              "    }\n",
              "\n",
              "    [theme=dark] .colab-df-convert:hover {\n",
              "      background-color: #434B5C;\n",
              "      box-shadow: 0px 1px 3px 1px rgba(0, 0, 0, 0.15);\n",
              "      filter: drop-shadow(0px 1px 2px rgba(0, 0, 0, 0.3));\n",
              "      fill: #FFFFFF;\n",
              "    }\n",
              "  </style>\n",
              "\n",
              "      <script>\n",
              "        const buttonEl =\n",
              "          document.querySelector('#df-d0c305cb-b817-474a-996e-bccf58de9052 button.colab-df-convert');\n",
              "        buttonEl.style.display =\n",
              "          google.colab.kernel.accessAllowed ? 'block' : 'none';\n",
              "\n",
              "        async function convertToInteractive(key) {\n",
              "          const element = document.querySelector('#df-d0c305cb-b817-474a-996e-bccf58de9052');\n",
              "          const dataTable =\n",
              "            await google.colab.kernel.invokeFunction('convertToInteractive',\n",
              "                                                     [key], {});\n",
              "          if (!dataTable) return;\n",
              "\n",
              "          const docLinkHtml = 'Like what you see? Visit the ' +\n",
              "            '<a target=\"_blank\" href=Link on Panelotebook</a>'\n",
              "            + ' to learn more about interactive tables.';\n",
              "          element.innerHTML = '';\n",
              "          dataTable['output_type'] = 'display_data';\n",
              "          await google.colab.output.renderOutput(dataTable, element);\n",
              "          const docLink = document.createElement('div');\n",
              "          docLink.innerHTML = docLinkHtml;\n",
              "          element.appendChild(docLink);\n",
              "        }\n",
              "      </script>\n",
              "    </div>\n",
              "  </div>\n",
              "  "
            ],
            "text/plain": [
              "                Sales\n",
              "Days                 \n",
              "2019-01-01  50.496714\n",
              "2019-01-02  50.805493\n",
              "2019-01-03  51.477758\n",
              "2019-01-04  53.542228\n",
              "2019-01-05  54.873108"
            ]
          },
          "metadata": {},
          "execution_count": 43
        }
      ]
    },
    {
      "cell_type": "markdown",
      "source": [
        "We got a DataFrame with `Days` as index in the DataFrame.\n",
        "\n",
        "Let us create a line plot to visualise the day-wise indexed DataFrame."
      ],
      "metadata": {
        "id": "MnZ7j8sAsdq4"
      }
    },
    {
      "cell_type": "code",
      "source": [
        "# Visualise time-series plot.\n",
        "plt.figure(figsize = (10, 5))\n",
        "plt.xlabel('Date')\n",
        "plt.ylabel('Sales')\n",
        "plt.plot(gadgets_in_df)\n",
        "plt.show()"
      ],
      "metadata": {
        "id": "R0eDApeARSzk",
        "colab": {
          "base_uri": "https://localhost:8080/",
          "height": 334
        },
        "outputId": "48b0b9cf-1ed9-42b0-ff4a-558de8eb95f6"
      },
      "execution_count": null,
      "outputs": [
        {
          "output_type": "display_data",
          "data": {
            "image/png": "[encoded data removed]",
            "text/plain": [
              "<Figure size 720x360 with 1 Axes>"
            ]
          },
          "metadata": {
            "needs_background": "light"
          }
        }
      ]
    },
    {
      "cell_type": "code",
      "source": [
        "# Implement ADF test.\n",
        "# Import 'adfuller' from 'sklearn.tsa.stattools'\n",
        "from statsmodels.tsa.stattools import adfuller\n",
        "\n",
        "# Get the results of Dickey Fuller Test using 'adfuller()' function\n",
        "print('Results of Dickey Fuller Test:')\n",
        "adf_df1 = adfuller(gadgets_in_df['Sales'])\n",
        "\n",
        "# Print the ADF Statistic results from the first index of ADF Test results\n",
        "print('ADF Statistic:', adf_df1[0])\n",
        "\n",
        "# Print the p-value from the second index of ADF Test results\n",
        "print('p-value: ', adf_df1[1])"
      ],
      "metadata": {
        "id": "1oEnyiSJRj5C",
        "colab": {
          "base_uri": "https://localhost:8080/"
        },
        "outputId": "79ef4631-4065-4c7d-9443-f118e02c060c"
      },
      "execution_count": null,
      "outputs": [
        {
          "output_type": "stream",
          "name": "stdout",
          "text": [
            "Results of Dickey Fuller Test:\n",
            "ADF Statistic: -1.5121662069359079\n",
            "p-value:  0.5274845352272589\n"
          ]
        }
      ]
    },
    {
      "cell_type": "markdown",
      "source": [
        "You may observe that the ADF statistic is not a large negative number and the p-value is greater than 0.05. Therefore, our time series is not stationary and we must apply transformations to make it stationary.\n",
        "\n",
        "In order to make our series stationary, we will try to stabilise the trend by applying a first-order differencing. In the previous lessons, we implemented following formula in Python to perform first order differencing:\n",
        "\n",
        "$$y'_t = y_t - y_{t-1}$$\n",
        "\n",
        "Here, the previous time lag $y_{t-1}$ was calculated using `shift(1)` function.\n",
        "\n",
        "Another way of performing first-order differencing is to use `diff(1)` function of DataFrame."
      ],
      "metadata": {
        "id": "9Mv2RDlcqM_y"
      }
    },
    {
      "cell_type": "code",
      "source": [
        "# Use 'diff(1)' function to perform first-order differencing\n",
        "gadgets_diff1 = gadgets_in_df.diff(1)\n",
        "gadgets_diff1"
      ],
      "metadata": {
        "id": "GbvPfg_xsudx",
        "colab": {
          "base_uri": "https://localhost:8080/",
          "height": 455
        },
        "outputId": "911bf938-f97c-4613-991e-d6a17e015c9e"
      },
      "execution_count": null,
      "outputs": [
        {
          "output_type": "execute_result",
          "data": {
            "text/html": [
              "\n",
              "  <div id=\"df-d1eafdce-ee8c-47f0-a3eb-4a6f059b9320\">\n",
              "    <div class=\"colab-df-container\">\n",
              "      <div>\n",
              "<style scoped>\n",
              "    .dataframe tbody tr th:only-of-type {\n",
              "        vertical-align: middle;\n",
              "    }\n",
              "\n",
              "    .dataframe tbody tr th {\n",
              "        vertical-align: top;\n",
              "    }\n",
              "\n",
              "    .dataframe thead th {\n",
              "        text-align: right;\n",
              "    }\n",
              "</style>\n",
              "<table border=\"1\" class=\"dataframe\">\n",
              "  <thead>\n",
              "    <tr style=\"text-align: right;\">\n",
              "      <th></th>\n",
              "      <th>Sales</th>\n",
              "    </tr>\n",
              "    <tr>\n",
              "      <th>Days</th>\n",
              "      <th></th>\n",
              "    </tr>\n",
              "  </thead>\n",
              "  <tbody>\n",
              "    <tr>\n",
              "      <th>2019-01-01</th>\n",
              "      <td>NaN</td>\n",
              "    </tr>\n",
              "    <tr>\n",
              "      <th>2019-01-02</th>\n",
              "      <td>0.308778</td>\n",
              "    </tr>\n",
              "    <tr>\n",
              "      <th>2019-01-03</th>\n",
              "      <td>0.672265</td>\n",
              "    </tr>\n",
              "    <tr>\n",
              "      <th>2019-01-04</th>\n",
              "      <td>2.064470</td>\n",
              "    </tr>\n",
              "    <tr>\n",
              "      <th>2019-01-05</th>\n",
              "      <td>1.330880</td>\n",
              "    </tr>\n",
              "    <tr>\n",
              "      <th>...</th>\n",
              "      <td>...</td>\n",
              "    </tr>\n",
              "    <tr>\n",
              "      <th>2020-05-10</th>\n",
              "      <td>1.651336</td>\n",
              "    </tr>\n",
              "    <tr>\n",
              "      <th>2020-05-11</th>\n",
              "      <td>-0.095290</td>\n",
              "    </tr>\n",
              "    <tr>\n",
              "      <th>2020-05-12</th>\n",
              "      <td>-0.962187</td>\n",
              "    </tr>\n",
              "    <tr>\n",
              "      <th>2020-05-13</th>\n",
              "      <td>-1.358097</td>\n",
              "    </tr>\n",
              "    <tr>\n",
              "      <th>2020-05-14</th>\n",
              "      <td>-2.227958</td>\n",
              "    </tr>\n",
              "  </tbody>\n",
              "</table>\n",
              "<p>500 rows × 1 columns</p>\n",
              "</div>\n",
              "      <button class=\"colab-df-convert\" onclick=\"convertToInteractive('df-d1eafdce-ee8c-47f0-a3eb-4a6f059b9320')\"\n",
              "              title=\"Convert this dataframe to an interactive table.\"\n",
              "              style=\"display:none;\">\n",
              "        \n",
              "  <svg xmlns=\"http://www.w3.org/2000/svg\" height=\"24px\"viewBox=\"0 0 24 24\"\n",
              "       width=\"24px\">\n",
              "    <path d=\"M0 0h24v24H0V0z\" fill=\"none\"/>\n",
              "    <path d=\"M18.56 5.44l.94 2.06.94-2.06 2.06-.94-2.06-.94-.94-2.06-.94 2.06-2.06.94zm-11 1L8.5 8.5l.94-2.06 2.06-.94-2.06-.94L8.5 2.5l-.94 2.06-2.06.94zm10 10l.94 2.06.94-2.06 2.06-.94-2.06-.94-.94-2.06-.94 2.06-2.06.94z\"/><path d=\"M17.41 7.96l-1.37-1.37c-.4-.4-.92-.59-1.43-.59-.52 0-1.04.2-1.43.59L10.3 9.45l-7.72 7.72c-.78.78-.78 2.05 0 2.83L4 21.41c.39.39.9.59 1.41.59.51 0 1.02-.2 1.41-.59l7.78-7.78 2.81-2.81c.8-.78.8-2.07 0-2.86zM5.41 20L4 18.59l7.72-7.72 1.47 1.35L5.41 20z\"/>\n",
              "  </svg>\n",
              "      </button>\n",
              "      \n",
              "  <style>\n",
              "    .colab-df-container {\n",
              "      display:flex;\n",
              "      flex-wrap:wrap;\n",
              "      gap: 12px;\n",
              "    }\n",
              "\n",
              "    .colab-df-convert {\n",
              "      background-color: #E8F0FE;\n",
              "      border: none;\n",
              "      border-radius: 50%;\n",
              "      cursor: pointer;\n",
              "      display: none;\n",
              "      fill: #1967D2;\n",
              "      height: 32px;\n",
              "      padding: 0 0 0 0;\n",
              "      width: 32px;\n",
              "    }\n",
              "\n",
              "    .colab-df-convert:hover {\n",
              "      background-color: #E2EBFA;\n",
              "      box-shadow: 0px 1px 2px rgba(60, 64, 67, 0.3), 0px 1px 3px 1px rgba(60, 64, 67, 0.15);\n",
              "      fill: #174EA6;\n",
              "    }\n",
              "\n",
              "    [theme=dark] .colab-df-convert {\n",
              "      background-color: #3B4455;\n",
              "      fill: #D2E3FC;\n",
              "    }\n",
              "\n",
              "    [theme=dark] .colab-df-convert:hover {\n",
              "      background-color: #434B5C;\n",
              "      box-shadow: 0px 1px 3px 1px rgba(0, 0, 0, 0.15);\n",
              "      filter: drop-shadow(0px 1px 2px rgba(0, 0, 0, 0.3));\n",
              "      fill: #FFFFFF;\n",
              "    }\n",
              "  </style>\n",
              "\n",
              "      <script>\n",
              "        const buttonEl =\n",
              "          document.querySelector('#df-d1eafdce-ee8c-47f0-a3eb-4a6f059b9320 button.colab-df-convert');\n",
              "        buttonEl.style.display =\n",
              "          google.colab.kernel.accessAllowed ? 'block' : 'none';\n",
              "\n",
              "        async function convertToInteractive(key) {\n",
              "          const element = document.querySelector('#df-d1eafdce-ee8c-47f0-a3eb-4a6f059b9320');\n",
              "          const dataTable =\n",
              "            await google.colab.kernel.invokeFunction('convertToInteractive',\n",
              "                                                     [key], {});\n",
              "          if (!dataTable) return;\n",
              "\n",
              "          const docLinkHtml = 'Like what you see? Visit the ' +\n",
              "            '<a target=\"_blank\" href=Link on Panelotebook</a>'\n",
              "            + ' to learn more about interactive tables.';\n",
              "          element.innerHTML = '';\n",
              "          dataTable['output_type'] = 'display_data';\n",
              "          await google.colab.output.renderOutput(dataTable, element);\n",
              "          const docLink = document.createElement('div');\n",
              "          docLink.innerHTML = docLinkHtml;\n",
              "          element.appendChild(docLink);\n",
              "        }\n",
              "      </script>\n",
              "    </div>\n",
              "  </div>\n",
              "  "
            ],
            "text/plain": [
              "               Sales\n",
              "Days                \n",
              "2019-01-01       NaN\n",
              "2019-01-02  0.308778\n",
              "2019-01-03  0.672265\n",
              "2019-01-04  2.064470\n",
              "2019-01-05  1.330880\n",
              "...              ...\n",
              "2020-05-10  1.651336\n",
              "2020-05-11 -0.095290\n",
              "2020-05-12 -0.962187\n",
              "2020-05-13 -1.358097\n",
              "2020-05-14 -2.227958\n",
              "\n",
              "[500 rows x 1 columns]"
            ]
          },
          "metadata": {},
          "execution_count": 46
        }
      ]
    },
    {
      "cell_type": "code",
      "source": [
        "# Remove NaN values and check stationarity of the time series data\n",
        "gadgets_diff1.dropna(inplace = True)\n",
        "\n",
        "# Get the results of Dickey Fuller Test using 'adfuller()' function\n",
        "adf_df2 = adfuller(gadgets_diff1['Sales'])\n",
        "\n",
        "# Print the ADF Statistic results from the first index of ADF Test results\n",
        "print('ADF Statistic:', adf_df2[0])\n",
        "\n",
        "# Print the p-value from the second index of ADF Test results\n",
        "print('p-value: ', adf_df2[1])"
      ],
      "metadata": {
        "id": "Iaeb4GBQtIBA",
        "colab": {
          "base_uri": "https://localhost:8080/"
        },
        "outputId": "70c46b99-f868-4be5-c8a9-a78ee0f0a1ca"
      },
      "execution_count": null,
      "outputs": [
        {
          "output_type": "stream",
          "name": "stdout",
          "text": [
            "ADF Statistic: -10.576657780341957\n",
            "p-value:  7.076922818587346e-19\n"
          ]
        }
      ]
    },
    {
      "cell_type": "markdown",
      "source": [
        "---"
      ],
      "metadata": {
        "id": "oDCq4z-6xfWi"
      }
    },
    {
      "cell_type": "markdown",
      "source": [
        "#### Picking Parameters for ARIMA (p,d,q)\n",
        "\n",
        "We already know how many times we had to difference the dataset, so here the value of hyperparameter `d` is `1`.\n",
        "\n",
        "Next, we need to figure out the values of `p` and `q`.\n",
        "\n",
        "Remember the following rule: <img src=\"https://s3-whjr-v2-prod-bucket.whjr.online/whjr-v2-prod-bucket/2ed779bb-99bf-4856-9770-ff63fd5913f1.png\" width = 25 width = 20/>\n",
        "\n",
        "- To estimate order `p`, PACF plot is used.\n",
        "- To estimate order `q`, ACF plot is used.\n",
        "\n",
        "**Determining order `p`:**\n",
        "\n",
        "In the previous lesson, we learned how to estimate order `p` using PACF plot. Let us first create a PACF plot for first-order differenced time-series.\n",
        "\n",
        "**Note:** You may pass `lags = 10` inside `plot_pacf()` function to plot PACF only for first 10 lags, as higher order lags are anyway bad choice for `p`."
      ],
      "metadata": {
        "id": "pjoTcdC2xgZ5"
      }
    },
    {
      "cell_type": "code",
      "source": [
        "# Plot PACF\n",
        "from statsmodels.graphics.tsaplots import plot_pacf\n",
        "plot_pacf(gadgets_diff1, lags = 10)\n",
        "plt.show()"
      ],
      "metadata": {
        "id": "-MlXLmQhpcOT",
        "colab": {
          "base_uri": "https://localhost:8080/",
          "height": 281
        },
        "outputId": "927ab96f-7e8c-4074-a73f-04345646ce30"
      },
      "execution_count": null,
      "outputs": [
        {
          "output_type": "display_data",
          "data": {
            "image/png": "[encoded data removed]",
            "text/plain": [
              "<Figure size 432x288 with 1 Axes>"
            ]
          },
          "metadata": {
            "needs_background": "light"
          }
        }
      ]
    },
    {
      "cell_type": "markdown",
      "source": [
        "The PACF at $\\text{lag} = 0$ is 1, because each data point is always correlated with itself. Analysing the PACF plot,  we can see there are significant spikes at lag 1, lag 2 and lag 3. Hence, order `p` can be `1`, `2` or `3`. We will pick `p = 2`.\n",
        "\n",
        "**Note:** You may also pick other significant `p` values and compare the model's performance for both different `p` values. However, avoid using higher `p` values to keep the model as simple as possible.\n",
        "\n",
        "**Determining order `q`:**\n",
        "\n",
        "Just like how we looked at the PACF plot for the number of AR terms, we will look at the ACF plot for the number of MA terms i.e value of order `q`.\n",
        "\n",
        "Let us create an ACF plot for first-order differenced time-series.\n"
      ],
      "metadata": {
        "id": "RlJb2vBn1cU-"
      }
    },
    {
      "cell_type": "code",
      "source": [
        "# Plot ACF\n",
        "from statsmodels.graphics.tsaplots import plot_acf\n",
        "plot_acf(gadgets_diff1, lags = 10)\n",
        "plt.show()"
      ],
      "metadata": {
        "id": "XdHXxgncS0W6",
        "colab": {
          "base_uri": "https://localhost:8080/",
          "height": 281
        },
        "outputId": "deac2299-d531-4cda-a28d-d07c0a297b4b"
      },
      "execution_count": null,
      "outputs": [
        {
          "output_type": "display_data",
          "data": {
            "image/png": "[encoded data removed]",
            "text/plain": [
              "<Figure size 432x288 with 1 Axes>"
            ]
          },
          "metadata": {
            "needs_background": "light"
          }
        }
      ]
    },
    {
      "cell_type": "markdown",
      "source": [
        "Again the ACF at $\\text{lag} = 0$ is 1, because each data point is always correlated with itself. Analysing the ACF plot,  we can see there are significant spikes at lag 1 and lag 2. Hence, order `q` can be `1` or `2`. We will pick `q = 2`.\n",
        "\n",
        "Hence, the estimated values for ARIMA model are `p = 2`, `d = 1` and `q = 2 `. Note that these values may not be the best and optimal values for the hyperparameters. We can build models using different hyperparameter values and compare the performance of these models. We will learn this in the upcoming lessons.\n",
        "\n",
        "Estimating `p` and `q` values using ACF and PACF plots can be very tricky. Let us look at some case studies of stationary datasets and try to estimate these values for them.\n",
        "\n",
        "---\n",
        "**Case 1:**\n",
        "\n",
        "<center>\n",
        "<img src=\"https://s3-whjr-v2-prod-bucket.whjr.online/whjr-v2-prod-bucket/ba55c4c9-a259-41f9-b609-3a317671eb99.png\"/>\n",
        "\n",
        "`Fig 4.1: ACF and PACF plots of case 1`\n",
        "</center>\n",
        "\n",
        "Here,\n",
        "- PACF drops sharply after lag 1. Hence `p = 1`.\n",
        "- ACF shows a gradually decreasing trend.\n",
        "\n",
        "Note that whenever ACF or PACF plots shows gradual decreasing trend, then the order value inferenced from that plot would be `0`.\n",
        "\n",
        "<img src=\"https://s3-whjr-v2-prod-bucket.whjr.online/whjr-v2-prod-bucket/2ed779bb-99bf-4856-9770-ff63fd5913f1.png\" width = 25 width = 20/> In other words,\n",
        "- If PACF data points are sinusoidal* or declining gradually, then `p = 0`.\n",
        "\n",
        "- If ACF data points are sinusoidal or declining gradually, then `q = 0`.\n",
        "\n",
        "In the above case study, ACF plot is gradually declining, hence `q = 0`.  \n",
        "\n",
        "**Conclusion:** `p = 1` and `q = 0` for case 1.\n",
        "\n",
        "***Note:** A sinusoidal ACF or PACF plot may look like this:\n",
        "<img src=\"https://s3-whjr-v2-prod-bucket.whjr.online/whjr-v2-prod-bucket/ed997e7f-7401-4b85-a1bf-4a47ba0f058a.PNG\"/>\n",
        "\n",
        "<br/>\n",
        "\n",
        "---\n",
        "<br/>\n",
        "\n",
        "**Case 2:**\n",
        "\n",
        "<center>\n",
        "<img src=\"https://s3-whjr-v2-prod-bucket.whjr.online/whjr-v2-prod-bucket/1c48db1d-f740-4f2a-9b56-c2c887ff7bd9.png\"/>\n",
        "\n",
        "`Fig 4.2: ACF and PACF plots of case 2`\n",
        "</center>\n",
        "\n",
        "Here,\n",
        "- PACF shows a gradual decreasing trend. Hence `p = 0`.\n",
        "- ACF drops sharply after lag 1. Hence, `q = 1`.\n",
        "\n",
        "**Conclusion:** `p = 0` and `q = 1` for case 2.\n",
        "\n",
        "<br/>\n",
        "\n",
        "---\n",
        "<br/>\n",
        "\n",
        "**Case 3:**\n",
        "\n",
        "<center>\n",
        "<img src=\"https://s3-whjr-v2-prod-bucket.whjr.online/whjr-v2-prod-bucket/f1ec52f7-4f89-4358-b467-44adb9716eb7.png\"/>\n",
        "\n",
        "`Fig 4.3: ACF and PACF plots of case 3`\n",
        "</center>\n",
        "\n",
        "Here,\n",
        "- PACF shows a gradual decreasing trend. Also, it drops sharply after lag 1. Hence `p = 0` or `p = 1`. You can experiment with both the values.\n",
        "\n",
        "- ACF drops sharply after lag 2. Hence, `q = 2`.\n",
        "\n",
        "**Conclusion:** `p = 0` or `p = 1`, and `q = 2` for case 3.\n",
        "\n"
      ],
      "metadata": {
        "id": "vQBLFoy969WL"
      }
    },
    {
      "cell_type": "markdown",
      "source": [
        "---"
      ],
      "metadata": {
        "id": "m283hfBAJSpe"
      }
    },
    {
      "cell_type": "markdown",
      "source": [
        "#### Activity 1: Deploying ARIMA\n",
        "\n",
        "In one of the previous classes, we inaugurated time-series forecasting with an **Air passenger** dataset which contains the number of airline passengers per month from the year 1949 to 1960.\n",
        "\n",
        "Let us reload the dataset and set up a forecasting model for this dataset using ARIMA.\n",
        "\n",
        "**Dataset Credits:** https://www.kaggle.com/rakannimer/air-passengers\n",
        "\n",
        "**Link to the dataset:** https://s3-whjr-curriculum-uploads.whjr.online/14b9487d-e1f7-4a83-be06-2da854d82783.csv\n",
        "\n",
        "\n",
        "\n"
      ],
      "metadata": {
        "id": "UyfUKOrooSLt"
      }
    },
    {
      "cell_type": "code",
      "source": [
        "# S1.1: Load the dataset and print first 5 rows.\n",
        "airpass_df = pd.read_csv(\"https://s3-whjr-curriculum-uploads.whjr.online/14b9487d-e1f7-4a83-be06-2da854d82783.csv\")\n",
        "airpass_df.head()"
      ],
      "metadata": {
        "id": "7tVfTIT3pIwX",
        "colab": {
          "base_uri": "https://localhost:8080/",
          "height": 206
        },
        "outputId": "a58c8ca4-144f-4baf-fa9d-2af5dae5ebd5"
      },
      "execution_count": null,
      "outputs": [
        {
          "output_type": "execute_result",
          "data": {
            "text/html": [
              "\n",
              "  <div id=\"df-e06c8e1a-1974-4487-a6bf-8644721074a4\">\n",
              "    <div class=\"colab-df-container\">\n",
              "      <div>\n",
              "<style scoped>\n",
              "    .dataframe tbody tr th:only-of-type {\n",
              "        vertical-align: middle;\n",
              "    }\n",
              "\n",
              "    .dataframe tbody tr th {\n",
              "        vertical-align: top;\n",
              "    }\n",
              "\n",
              "    .dataframe thead th {\n",
              "        text-align: right;\n",
              "    }\n",
              "</style>\n",
              "<table border=\"1\" class=\"dataframe\">\n",
              "  <thead>\n",
              "    <tr style=\"text-align: right;\">\n",
              "      <th></th>\n",
              "      <th>Month</th>\n",
              "      <th>#Passengers</th>\n",
              "    </tr>\n",
              "  </thead>\n",
              "  <tbody>\n",
              "    <tr>\n",
              "      <th>0</th>\n",
              "      <td>1949-01</td>\n",
              "      <td>112</td>\n",
              "    </tr>\n",
              "    <tr>\n",
              "      <th>1</th>\n",
              "      <td>1949-02</td>\n",
              "      <td>118</td>\n",
              "    </tr>\n",
              "    <tr>\n",
              "      <th>2</th>\n",
              "      <td>1949-03</td>\n",
              "      <td>132</td>\n",
              "    </tr>\n",
              "    <tr>\n",
              "      <th>3</th>\n",
              "      <td>1949-04</td>\n",
              "      <td>129</td>\n",
              "    </tr>\n",
              "    <tr>\n",
              "      <th>4</th>\n",
              "      <td>1949-05</td>\n",
              "      <td>121</td>\n",
              "    </tr>\n",
              "  </tbody>\n",
              "</table>\n",
              "</div>\n",
              "      <button class=\"colab-df-convert\" onclick=\"convertToInteractive('df-e06c8e1a-1974-4487-a6bf-8644721074a4')\"\n",
              "              title=\"Convert this dataframe to an interactive table.\"\n",
              "              style=\"display:none;\">\n",
              "        \n",
              "  <svg xmlns=\"http://www.w3.org/2000/svg\" height=\"24px\"viewBox=\"0 0 24 24\"\n",
              "       width=\"24px\">\n",
              "    <path d=\"M0 0h24v24H0V0z\" fill=\"none\"/>\n",
              "    <path d=\"M18.56 5.44l.94 2.06.94-2.06 2.06-.94-2.06-.94-.94-2.06-.94 2.06-2.06.94zm-11 1L8.5 8.5l.94-2.06 2.06-.94-2.06-.94L8.5 2.5l-.94 2.06-2.06.94zm10 10l.94 2.06.94-2.06 2.06-.94-2.06-.94-.94-2.06-.94 2.06-2.06.94z\"/><path d=\"M17.41 7.96l-1.37-1.37c-.4-.4-.92-.59-1.43-.59-.52 0-1.04.2-1.43.59L10.3 9.45l-7.72 7.72c-.78.78-.78 2.05 0 2.83L4 21.41c.39.39.9.59 1.41.59.51 0 1.02-.2 1.41-.59l7.78-7.78 2.81-2.81c.8-.78.8-2.07 0-2.86zM5.41 20L4 18.59l7.72-7.72 1.47 1.35L5.41 20z\"/>\n",
              "  </svg>\n",
              "      </button>\n",
              "      \n",
              "  <style>\n",
              "    .colab-df-container {\n",
              "      display:flex;\n",
              "      flex-wrap:wrap;\n",
              "      gap: 12px;\n",
              "    }\n",
              "\n",
              "    .colab-df-convert {\n",
              "      background-color: #E8F0FE;\n",
              "      border: none;\n",
              "      border-radius: 50%;\n",
              "      cursor: pointer;\n",
              "      display: none;\n",
              "      fill: #1967D2;\n",
              "      height: 32px;\n",
              "      padding: 0 0 0 0;\n",
              "      width: 32px;\n",
              "    }\n",
              "\n",
              "    .colab-df-convert:hover {\n",
              "      background-color: #E2EBFA;\n",
              "      box-shadow: 0px 1px 2px rgba(60, 64, 67, 0.3), 0px 1px 3px 1px rgba(60, 64, 67, 0.15);\n",
              "      fill: #174EA6;\n",
              "    }\n",
              "\n",
              "    [theme=dark] .colab-df-convert {\n",
              "      background-color: #3B4455;\n",
              "      fill: #D2E3FC;\n",
              "    }\n",
              "\n",
              "    [theme=dark] .colab-df-convert:hover {\n",
              "      background-color: #434B5C;\n",
              "      box-shadow: 0px 1px 3px 1px rgba(0, 0, 0, 0.15);\n",
              "      filter: drop-shadow(0px 1px 2px rgba(0, 0, 0, 0.3));\n",
              "      fill: #FFFFFF;\n",
              "    }\n",
              "  </style>\n",
              "\n",
              "      <script>\n",
              "        const buttonEl =\n",
              "          document.querySelector('#df-e06c8e1a-1974-4487-a6bf-8644721074a4 button.colab-df-convert');\n",
              "        buttonEl.style.display =\n",
              "          google.colab.kernel.accessAllowed ? 'block' : 'none';\n",
              "\n",
              "        async function convertToInteractive(key) {\n",
              "          const element = document.querySelector('#df-e06c8e1a-1974-4487-a6bf-8644721074a4');\n",
              "          const dataTable =\n",
              "            await google.colab.kernel.invokeFunction('convertToInteractive',\n",
              "                                                     [key], {});\n",
              "          if (!dataTable) return;\n",
              "\n",
              "          const docLinkHtml = 'Like what you see? Visit the ' +\n",
              "            '<a target=\"_blank\" href=Link on Panelotebook</a>'\n",
              "            + ' to learn more about interactive tables.';\n",
              "          element.innerHTML = '';\n",
              "          dataTable['output_type'] = 'display_data';\n",
              "          await google.colab.output.renderOutput(dataTable, element);\n",
              "          const docLink = document.createElement('div');\n",
              "          docLink.innerHTML = docLinkHtml;\n",
              "          element.appendChild(docLink);\n",
              "        }\n",
              "      </script>\n",
              "    </div>\n",
              "  </div>\n",
              "  "
            ],
            "text/plain": [
              "     Month  #Passengers\n",
              "0  1949-01          112\n",
              "1  1949-02          118\n",
              "2  1949-03          132\n",
              "3  1949-04          129\n",
              "4  1949-05          121"
            ]
          },
          "metadata": {},
          "execution_count": 50
        }
      ]
    },
    {
      "cell_type": "markdown",
      "source": [
        "Let us rename the `'Month'` column to `'Year-Month'` as it holds both year and month data.\n",
        "\n"
      ],
      "metadata": {
        "id": "J-V-5aloptTG"
      }
    },
    {
      "cell_type": "code",
      "source": [
        "# S1.2: Rename 'Month' column.\n",
        "airpass_df.rename(columns = {\"Month\": \"Year-Month\"}, inplace = True)\n",
        "airpass_df.head()"
      ],
      "metadata": {
        "colab": {
          "base_uri": "https://localhost:8080/",
          "height": 206
        },
        "id": "4gtZroaszivl",
        "outputId": "762a21c8-bb41-4e93-9ebf-d79f830ba4ac"
      },
      "execution_count": null,
      "outputs": [
        {
          "output_type": "execute_result",
          "data": {
            "text/html": [
              "\n",
              "  <div id=\"df-5d969286-cf65-47ca-a185-e92e903fa1ef\">\n",
              "    <div class=\"colab-df-container\">\n",
              "      <div>\n",
              "<style scoped>\n",
              "    .dataframe tbody tr th:only-of-type {\n",
              "        vertical-align: middle;\n",
              "    }\n",
              "\n",
              "    .dataframe tbody tr th {\n",
              "        vertical-align: top;\n",
              "    }\n",
              "\n",
              "    .dataframe thead th {\n",
              "        text-align: right;\n",
              "    }\n",
              "</style>\n",
              "<table border=\"1\" class=\"dataframe\">\n",
              "  <thead>\n",
              "    <tr style=\"text-align: right;\">\n",
              "      <th></th>\n",
              "      <th>Year-Month</th>\n",
              "      <th>#Passengers</th>\n",
              "    </tr>\n",
              "  </thead>\n",
              "  <tbody>\n",
              "    <tr>\n",
              "      <th>0</th>\n",
              "      <td>1949-01</td>\n",
              "      <td>112</td>\n",
              "    </tr>\n",
              "    <tr>\n",
              "      <th>1</th>\n",
              "      <td>1949-02</td>\n",
              "      <td>118</td>\n",
              "    </tr>\n",
              "    <tr>\n",
              "      <th>2</th>\n",
              "      <td>1949-03</td>\n",
              "      <td>132</td>\n",
              "    </tr>\n",
              "    <tr>\n",
              "      <th>3</th>\n",
              "      <td>1949-04</td>\n",
              "      <td>129</td>\n",
              "    </tr>\n",
              "    <tr>\n",
              "      <th>4</th>\n",
              "      <td>1949-05</td>\n",
              "      <td>121</td>\n",
              "    </tr>\n",
              "  </tbody>\n",
              "</table>\n",
              "</div>\n",
              "      <button class=\"colab-df-convert\" onclick=\"convertToInteractive('df-5d969286-cf65-47ca-a185-e92e903fa1ef')\"\n",
              "              title=\"Convert this dataframe to an interactive table.\"\n",
              "              style=\"display:none;\">\n",
              "        \n",
              "  <svg xmlns=\"http://www.w3.org/2000/svg\" height=\"24px\"viewBox=\"0 0 24 24\"\n",
              "       width=\"24px\">\n",
              "    <path d=\"M0 0h24v24H0V0z\" fill=\"none\"/>\n",
              "    <path d=\"M18.56 5.44l.94 2.06.94-2.06 2.06-.94-2.06-.94-.94-2.06-.94 2.06-2.06.94zm-11 1L8.5 8.5l.94-2.06 2.06-.94-2.06-.94L8.5 2.5l-.94 2.06-2.06.94zm10 10l.94 2.06.94-2.06 2.06-.94-2.06-.94-.94-2.06-.94 2.06-2.06.94z\"/><path d=\"M17.41 7.96l-1.37-1.37c-.4-.4-.92-.59-1.43-.59-.52 0-1.04.2-1.43.59L10.3 9.45l-7.72 7.72c-.78.78-.78 2.05 0 2.83L4 21.41c.39.39.9.59 1.41.59.51 0 1.02-.2 1.41-.59l7.78-7.78 2.81-2.81c.8-.78.8-2.07 0-2.86zM5.41 20L4 18.59l7.72-7.72 1.47 1.35L5.41 20z\"/>\n",
              "  </svg>\n",
              "      </button>\n",
              "      \n",
              "  <style>\n",
              "    .colab-df-container {\n",
              "      display:flex;\n",
              "      flex-wrap:wrap;\n",
              "      gap: 12px;\n",
              "    }\n",
              "\n",
              "    .colab-df-convert {\n",
              "      background-color: #E8F0FE;\n",
              "      border: none;\n",
              "      border-radius: 50%;\n",
              "      cursor: pointer;\n",
              "      display: none;\n",
              "      fill: #1967D2;\n",
              "      height: 32px;\n",
              "      padding: 0 0 0 0;\n",
              "      width: 32px;\n",
              "    }\n",
              "\n",
              "    .colab-df-convert:hover {\n",
              "      background-color: #E2EBFA;\n",
              "      box-shadow: 0px 1px 2px rgba(60, 64, 67, 0.3), 0px 1px 3px 1px rgba(60, 64, 67, 0.15);\n",
              "      fill: #174EA6;\n",
              "    }\n",
              "\n",
              "    [theme=dark] .colab-df-convert {\n",
              "      background-color: #3B4455;\n",
              "      fill: #D2E3FC;\n",
              "    }\n",
              "\n",
              "    [theme=dark] .colab-df-convert:hover {\n",
              "      background-color: #434B5C;\n",
              "      box-shadow: 0px 1px 3px 1px rgba(0, 0, 0, 0.15);\n",
              "      filter: drop-shadow(0px 1px 2px rgba(0, 0, 0, 0.3));\n",
              "      fill: #FFFFFF;\n",
              "    }\n",
              "  </style>\n",
              "\n",
              "      <script>\n",
              "        const buttonEl =\n",
              "          document.querySelector('#df-5d969286-cf65-47ca-a185-e92e903fa1ef button.colab-df-convert');\n",
              "        buttonEl.style.display =\n",
              "          google.colab.kernel.accessAllowed ? 'block' : 'none';\n",
              "\n",
              "        async function convertToInteractive(key) {\n",
              "          const element = document.querySelector('#df-5d969286-cf65-47ca-a185-e92e903fa1ef');\n",
              "          const dataTable =\n",
              "            await google.colab.kernel.invokeFunction('convertToInteractive',\n",
              "                                                     [key], {});\n",
              "          if (!dataTable) return;\n",
              "\n",
              "          const docLinkHtml = 'Like what you see? Visit the ' +\n",
              "            '<a target=\"_blank\" href=Link on Panelotebook</a>'\n",
              "            + ' to learn more about interactive tables.';\n",
              "          element.innerHTML = '';\n",
              "          dataTable['output_type'] = 'display_data';\n",
              "          await google.colab.output.renderOutput(dataTable, element);\n",
              "          const docLink = document.createElement('div');\n",
              "          docLink.innerHTML = docLinkHtml;\n",
              "          element.appendChild(docLink);\n",
              "        }\n",
              "      </script>\n",
              "    </div>\n",
              "  </div>\n",
              "  "
            ],
            "text/plain": [
              "  Year-Month  #Passengers\n",
              "0    1949-01          112\n",
              "1    1949-02          118\n",
              "2    1949-03          132\n",
              "3    1949-04          129\n",
              "4    1949-05          121"
            ]
          },
          "metadata": {},
          "execution_count": 51
        }
      ]
    },
    {
      "cell_type": "markdown",
      "source": [
        "\n",
        "Determine the number of rows, columns, data types of the columns and missing values (if any) in the dataset."
      ],
      "metadata": {
        "id": "6u3p1nu2zhIs"
      }
    },
    {
      "cell_type": "code",
      "source": [
        "# S1.3: Get the total number of rows and columns, data types of columns and missing values (if exist) in the dataset.\n",
        "airpass_df.info()"
      ],
      "metadata": {
        "id": "9NP1Oybxp0kV",
        "colab": {
          "base_uri": "https://localhost:8080/"
        },
        "outputId": "462dfd3a-11a2-46a6-da43-7dc4001c08df"
      },
      "execution_count": null,
      "outputs": [
        {
          "output_type": "stream",
          "name": "stdout",
          "text": [
            "<class 'pandas.core.frame.DataFrame'>\n",
            "RangeIndex: 144 entries, 0 to 143\n",
            "Data columns (total 2 columns):\n",
            " #   Column       Non-Null Count  Dtype \n",
            "---  ------       --------------  ----- \n",
            " 0   Year-Month   144 non-null    object\n",
            " 1   #Passengers  144 non-null    int64 \n",
            "dtypes: int64(1), object(1)\n",
            "memory usage: 2.4+ KB\n"
          ]
        }
      ]
    },
    {
      "cell_type": "markdown",
      "source": [
        "There are 144 rows and 2 columns  and no missing values in the dataset. However, the data type of the `'Year-Month'` column is `object` which must be converted into datetime datatype for forecasting.\n",
        "\n",
        "For this, use `to_datetime()` function of `pandas` module and pass following two parameters to this function:\n",
        "- `airpass_df['Year-Month']`: Column name whose data-type is to be converted.\n",
        "- `infer_datetime_format = True`: This parameter will automatically detect the format and convert the mentioned column to datetime.\n",
        "\n"
      ],
      "metadata": {
        "id": "tXMu3j4oqMGs"
      }
    },
    {
      "cell_type": "code",
      "source": [
        "# T1.1: Convert the data type of 'Month' column to datetime.\n",
        "airpass_df['Year-Month'] = pd.to_datetime(airpass_df['Year-Month'], infer_datetime_format=True)\n",
        "airpass_df"
      ],
      "metadata": {
        "id": "Zt40MYyLqOll",
        "colab": {
          "base_uri": "https://localhost:8080/",
          "height": 424
        },
        "outputId": "62cae8d7-1763-4982-ed1e-256c63f3335b"
      },
      "execution_count": null,
      "outputs": [
        {
          "output_type": "execute_result",
          "data": {
            "text/html": [
              "\n",
              "  <div id=\"df-f9862880-dd2d-4548-908c-31f3014128df\">\n",
              "    <div class=\"colab-df-container\">\n",
              "      <div>\n",
              "<style scoped>\n",
              "    .dataframe tbody tr th:only-of-type {\n",
              "        vertical-align: middle;\n",
              "    }\n",
              "\n",
              "    .dataframe tbody tr th {\n",
              "        vertical-align: top;\n",
              "    }\n",
              "\n",
              "    .dataframe thead th {\n",
              "        text-align: right;\n",
              "    }\n",
              "</style>\n",
              "<table border=\"1\" class=\"dataframe\">\n",
              "  <thead>\n",
              "    <tr style=\"text-align: right;\">\n",
              "      <th></th>\n",
              "      <th>Year-Month</th>\n",
              "      <th>#Passengers</th>\n",
              "    </tr>\n",
              "  </thead>\n",
              "  <tbody>\n",
              "    <tr>\n",
              "      <th>0</th>\n",
              "      <td>1949-01-01</td>\n",
              "      <td>112</td>\n",
              "    </tr>\n",
              "    <tr>\n",
              "      <th>1</th>\n",
              "      <td>1949-02-01</td>\n",
              "      <td>118</td>\n",
              "    </tr>\n",
              "    <tr>\n",
              "      <th>2</th>\n",
              "      <td>1949-03-01</td>\n",
              "      <td>132</td>\n",
              "    </tr>\n",
              "    <tr>\n",
              "      <th>3</th>\n",
              "      <td>1949-04-01</td>\n",
              "      <td>129</td>\n",
              "    </tr>\n",
              "    <tr>\n",
              "      <th>4</th>\n",
              "      <td>1949-05-01</td>\n",
              "      <td>121</td>\n",
              "    </tr>\n",
              "    <tr>\n",
              "      <th>...</th>\n",
              "      <td>...</td>\n",
              "      <td>...</td>\n",
              "    </tr>\n",
              "    <tr>\n",
              "      <th>139</th>\n",
              "      <td>1960-08-01</td>\n",
              "      <td>606</td>\n",
              "    </tr>\n",
              "    <tr>\n",
              "      <th>140</th>\n",
              "      <td>1960-09-01</td>\n",
              "      <td>508</td>\n",
              "    </tr>\n",
              "    <tr>\n",
              "      <th>141</th>\n",
              "      <td>1960-10-01</td>\n",
              "      <td>461</td>\n",
              "    </tr>\n",
              "    <tr>\n",
              "      <th>142</th>\n",
              "      <td>1960-11-01</td>\n",
              "      <td>390</td>\n",
              "    </tr>\n",
              "    <tr>\n",
              "      <th>143</th>\n",
              "      <td>1960-12-01</td>\n",
              "      <td>432</td>\n",
              "    </tr>\n",
              "  </tbody>\n",
              "</table>\n",
              "<p>144 rows × 2 columns</p>\n",
              "</div>\n",
              "      <button class=\"colab-df-convert\" onclick=\"convertToInteractive('df-f9862880-dd2d-4548-908c-31f3014128df')\"\n",
              "              title=\"Convert this dataframe to an interactive table.\"\n",
              "              style=\"display:none;\">\n",
              "        \n",
              "  <svg xmlns=\"http://www.w3.org/2000/svg\" height=\"24px\"viewBox=\"0 0 24 24\"\n",
              "       width=\"24px\">\n",
              "    <path d=\"M0 0h24v24H0V0z\" fill=\"none\"/>\n",
              "    <path d=\"M18.56 5.44l.94 2.06.94-2.06 2.06-.94-2.06-.94-.94-2.06-.94 2.06-2.06.94zm-11 1L8.5 8.5l.94-2.06 2.06-.94-2.06-.94L8.5 2.5l-.94 2.06-2.06.94zm10 10l.94 2.06.94-2.06 2.06-.94-2.06-.94-.94-2.06-.94 2.06-2.06.94z\"/><path d=\"M17.41 7.96l-1.37-1.37c-.4-.4-.92-.59-1.43-.59-.52 0-1.04.2-1.43.59L10.3 9.45l-7.72 7.72c-.78.78-.78 2.05 0 2.83L4 21.41c.39.39.9.59 1.41.59.51 0 1.02-.2 1.41-.59l7.78-7.78 2.81-2.81c.8-.78.8-2.07 0-2.86zM5.41 20L4 18.59l7.72-7.72 1.47 1.35L5.41 20z\"/>\n",
              "  </svg>\n",
              "      </button>\n",
              "      \n",
              "  <style>\n",
              "    .colab-df-container {\n",
              "      display:flex;\n",
              "      flex-wrap:wrap;\n",
              "      gap: 12px;\n",
              "    }\n",
              "\n",
              "    .colab-df-convert {\n",
              "      background-color: #E8F0FE;\n",
              "      border: none;\n",
              "      border-radius: 50%;\n",
              "      cursor: pointer;\n",
              "      display: none;\n",
              "      fill: #1967D2;\n",
              "      height: 32px;\n",
              "      padding: 0 0 0 0;\n",
              "      width: 32px;\n",
              "    }\n",
              "\n",
              "    .colab-df-convert:hover {\n",
              "      background-color: #E2EBFA;\n",
              "      box-shadow: 0px 1px 2px rgba(60, 64, 67, 0.3), 0px 1px 3px 1px rgba(60, 64, 67, 0.15);\n",
              "      fill: #174EA6;\n",
              "    }\n",
              "\n",
              "    [theme=dark] .colab-df-convert {\n",
              "      background-color: #3B4455;\n",
              "      fill: #D2E3FC;\n",
              "    }\n",
              "\n",
              "    [theme=dark] .colab-df-convert:hover {\n",
              "      background-color: #434B5C;\n",
              "      box-shadow: 0px 1px 3px 1px rgba(0, 0, 0, 0.15);\n",
              "      filter: drop-shadow(0px 1px 2px rgba(0, 0, 0, 0.3));\n",
              "      fill: #FFFFFF;\n",
              "    }\n",
              "  </style>\n",
              "\n",
              "      <script>\n",
              "        const buttonEl =\n",
              "          document.querySelector('#df-f9862880-dd2d-4548-908c-31f3014128df button.colab-df-convert');\n",
              "        buttonEl.style.display =\n",
              "          google.colab.kernel.accessAllowed ? 'block' : 'none';\n",
              "\n",
              "        async function convertToInteractive(key) {\n",
              "          const element = document.querySelector('#df-f9862880-dd2d-4548-908c-31f3014128df');\n",
              "          const dataTable =\n",
              "            await google.colab.kernel.invokeFunction('convertToInteractive',\n",
              "                                                     [key], {});\n",
              "          if (!dataTable) return;\n",
              "\n",
              "          const docLinkHtml = 'Like what you see? Visit the ' +\n",
              "            '<a target=\"_blank\" href=Link on Panelotebook</a>'\n",
              "            + ' to learn more about interactive tables.';\n",
              "          element.innerHTML = '';\n",
              "          dataTable['output_type'] = 'display_data';\n",
              "          await google.colab.output.renderOutput(dataTable, element);\n",
              "          const docLink = document.createElement('div');\n",
              "          docLink.innerHTML = docLinkHtml;\n",
              "          element.appendChild(docLink);\n",
              "        }\n",
              "      </script>\n",
              "    </div>\n",
              "  </div>\n",
              "  "
            ],
            "text/plain": [
              "    Year-Month  #Passengers\n",
              "0   1949-01-01          112\n",
              "1   1949-02-01          118\n",
              "2   1949-03-01          132\n",
              "3   1949-04-01          129\n",
              "4   1949-05-01          121\n",
              "..         ...          ...\n",
              "139 1960-08-01          606\n",
              "140 1960-09-01          508\n",
              "141 1960-10-01          461\n",
              "142 1960-11-01          390\n",
              "143 1960-12-01          432\n",
              "\n",
              "[144 rows x 2 columns]"
            ]
          },
          "metadata": {},
          "execution_count": 53
        }
      ]
    },
    {
      "cell_type": "markdown",
      "source": [
        "Ignore the date in the `'Year-Month'` column.\n",
        "Let us now confirm whether the data type of `Year-Month` column is a datetime object or not."
      ],
      "metadata": {
        "id": "741Ukx0_qUX9"
      }
    },
    {
      "cell_type": "code",
      "source": [
        "# S1.4: Confirm the data type of 'Month' column.\n",
        "airpass_df.info()"
      ],
      "metadata": {
        "id": "tMdjpzZSqT5l",
        "colab": {
          "base_uri": "https://localhost:8080/"
        },
        "outputId": "e4e9f496-c0d6-4734-b6a2-e225e9076e9c"
      },
      "execution_count": null,
      "outputs": [
        {
          "output_type": "stream",
          "name": "stdout",
          "text": [
            "<class 'pandas.core.frame.DataFrame'>\n",
            "RangeIndex: 144 entries, 0 to 143\n",
            "Data columns (total 2 columns):\n",
            " #   Column       Non-Null Count  Dtype         \n",
            "---  ------       --------------  -----         \n",
            " 0   Year-Month   144 non-null    datetime64[ns]\n",
            " 1   #Passengers  144 non-null    int64         \n",
            "dtypes: datetime64[ns](1), int64(1)\n",
            "memory usage: 2.4 KB\n"
          ]
        }
      ]
    },
    {
      "cell_type": "markdown",
      "source": [
        "Now that the `'Year-Month'` column is a datetime object, let us use this column as an index of the DataFrame using `set_index()` function. Store this indexed DataFrame as a separate DataFrame."
      ],
      "metadata": {
        "id": "D3Z9E5gDqpqV"
      }
    },
    {
      "cell_type": "code",
      "source": [
        "# S1.5: Use 'Year-Month' column as an index\n",
        "airpass_in_df = airpass_df.set_index('Year-Month')\n",
        "airpass_in_df.head()"
      ],
      "metadata": {
        "id": "bKZXptf_qSjY",
        "colab": {
          "base_uri": "https://localhost:8080/",
          "height": 238
        },
        "outputId": "5e5dc152-4570-43a8-c57c-e3064ea908f8"
      },
      "execution_count": null,
      "outputs": [
        {
          "output_type": "execute_result",
          "data": {
            "text/html": [
              "\n",
              "  <div id=\"df-d78ea4ed-c8ee-47fd-9420-cca77a01c693\">\n",
              "    <div class=\"colab-df-container\">\n",
              "      <div>\n",
              "<style scoped>\n",
              "    .dataframe tbody tr th:only-of-type {\n",
              "        vertical-align: middle;\n",
              "    }\n",
              "\n",
              "    .dataframe tbody tr th {\n",
              "        vertical-align: top;\n",
              "    }\n",
              "\n",
              "    .dataframe thead th {\n",
              "        text-align: right;\n",
              "    }\n",
              "</style>\n",
              "<table border=\"1\" class=\"dataframe\">\n",
              "  <thead>\n",
              "    <tr style=\"text-align: right;\">\n",
              "      <th></th>\n",
              "      <th>#Passengers</th>\n",
              "    </tr>\n",
              "    <tr>\n",
              "      <th>Year-Month</th>\n",
              "      <th></th>\n",
              "    </tr>\n",
              "  </thead>\n",
              "  <tbody>\n",
              "    <tr>\n",
              "      <th>1949-01-01</th>\n",
              "      <td>112</td>\n",
              "    </tr>\n",
              "    <tr>\n",
              "      <th>1949-02-01</th>\n",
              "      <td>118</td>\n",
              "    </tr>\n",
              "    <tr>\n",
              "      <th>1949-03-01</th>\n",
              "      <td>132</td>\n",
              "    </tr>\n",
              "    <tr>\n",
              "      <th>1949-04-01</th>\n",
              "      <td>129</td>\n",
              "    </tr>\n",
              "    <tr>\n",
              "      <th>1949-05-01</th>\n",
              "      <td>121</td>\n",
              "    </tr>\n",
              "  </tbody>\n",
              "</table>\n",
              "</div>\n",
              "      <button class=\"colab-df-convert\" onclick=\"convertToInteractive('df-d78ea4ed-c8ee-47fd-9420-cca77a01c693')\"\n",
              "              title=\"Convert this dataframe to an interactive table.\"\n",
              "              style=\"display:none;\">\n",
              "        \n",
              "  <svg xmlns=\"http://www.w3.org/2000/svg\" height=\"24px\"viewBox=\"0 0 24 24\"\n",
              "       width=\"24px\">\n",
              "    <path d=\"M0 0h24v24H0V0z\" fill=\"none\"/>\n",
              "    <path d=\"M18.56 5.44l.94 2.06.94-2.06 2.06-.94-2.06-.94-.94-2.06-.94 2.06-2.06.94zm-11 1L8.5 8.5l.94-2.06 2.06-.94-2.06-.94L8.5 2.5l-.94 2.06-2.06.94zm10 10l.94 2.06.94-2.06 2.06-.94-2.06-.94-.94-2.06-.94 2.06-2.06.94z\"/><path d=\"M17.41 7.96l-1.37-1.37c-.4-.4-.92-.59-1.43-.59-.52 0-1.04.2-1.43.59L10.3 9.45l-7.72 7.72c-.78.78-.78 2.05 0 2.83L4 21.41c.39.39.9.59 1.41.59.51 0 1.02-.2 1.41-.59l7.78-7.78 2.81-2.81c.8-.78.8-2.07 0-2.86zM5.41 20L4 18.59l7.72-7.72 1.47 1.35L5.41 20z\"/>\n",
              "  </svg>\n",
              "      </button>\n",
              "      \n",
              "  <style>\n",
              "    .colab-df-container {\n",
              "      display:flex;\n",
              "      flex-wrap:wrap;\n",
              "      gap: 12px;\n",
              "    }\n",
              "\n",
              "    .colab-df-convert {\n",
              "      background-color: #E8F0FE;\n",
              "      border: none;\n",
              "      border-radius: 50%;\n",
              "      cursor: pointer;\n",
              "      display: none;\n",
              "      fill: #1967D2;\n",
              "      height: 32px;\n",
              "      padding: 0 0 0 0;\n",
              "      width: 32px;\n",
              "    }\n",
              "\n",
              "    .colab-df-convert:hover {\n",
              "      background-color: #E2EBFA;\n",
              "      box-shadow: 0px 1px 2px rgba(60, 64, 67, 0.3), 0px 1px 3px 1px rgba(60, 64, 67, 0.15);\n",
              "      fill: #174EA6;\n",
              "    }\n",
              "\n",
              "    [theme=dark] .colab-df-convert {\n",
              "      background-color: #3B4455;\n",
              "      fill: #D2E3FC;\n",
              "    }\n",
              "\n",
              "    [theme=dark] .colab-df-convert:hover {\n",
              "      background-color: #434B5C;\n",
              "      box-shadow: 0px 1px 3px 1px rgba(0, 0, 0, 0.15);\n",
              "      filter: drop-shadow(0px 1px 2px rgba(0, 0, 0, 0.3));\n",
              "      fill: #FFFFFF;\n",
              "    }\n",
              "  </style>\n",
              "\n",
              "      <script>\n",
              "        const buttonEl =\n",
              "          document.querySelector('#df-d78ea4ed-c8ee-47fd-9420-cca77a01c693 button.colab-df-convert');\n",
              "        buttonEl.style.display =\n",
              "          google.colab.kernel.accessAllowed ? 'block' : 'none';\n",
              "\n",
              "        async function convertToInteractive(key) {\n",
              "          const element = document.querySelector('#df-d78ea4ed-c8ee-47fd-9420-cca77a01c693');\n",
              "          const dataTable =\n",
              "            await google.colab.kernel.invokeFunction('convertToInteractive',\n",
              "                                                     [key], {});\n",
              "          if (!dataTable) return;\n",
              "\n",
              "          const docLinkHtml = 'Like what you see? Visit the ' +\n",
              "            '<a target=\"_blank\" href=Link on Panelotebook</a>'\n",
              "            + ' to learn more about interactive tables.';\n",
              "          element.innerHTML = '';\n",
              "          dataTable['output_type'] = 'display_data';\n",
              "          await google.colab.output.renderOutput(dataTable, element);\n",
              "          const docLink = document.createElement('div');\n",
              "          docLink.innerHTML = docLinkHtml;\n",
              "          element.appendChild(docLink);\n",
              "        }\n",
              "      </script>\n",
              "    </div>\n",
              "  </div>\n",
              "  "
            ],
            "text/plain": [
              "            #Passengers\n",
              "Year-Month             \n",
              "1949-01-01          112\n",
              "1949-02-01          118\n",
              "1949-03-01          132\n",
              "1949-04-01          129\n",
              "1949-05-01          121"
            ]
          },
          "metadata": {},
          "execution_count": 55
        }
      ]
    },
    {
      "cell_type": "markdown",
      "source": [
        "Let us create a line plot to visualise the month-wise indexed DataFrame."
      ],
      "metadata": {
        "id": "0oELo1H-qvms"
      }
    },
    {
      "cell_type": "code",
      "source": [
        "# S1.6: Visualise time-series plot.\n",
        "plt.figure(figsize = (10, 5))\n",
        "plt.xlabel('Date')\n",
        "plt.ylabel('Number Of Air Passengers')\n",
        "plt.plot(airpass_in_df)\n",
        "plt.show()"
      ],
      "metadata": {
        "id": "AtV3ODG_qxl9",
        "colab": {
          "base_uri": "https://localhost:8080/",
          "height": 334
        },
        "outputId": "a0d5e6ec-3b21-4210-c363-183005765e8c"
      },
      "execution_count": null,
      "outputs": [
        {
          "output_type": "display_data",
          "data": {
            "image/png": "[encoded data removed]",
            "text/plain": [
              "<Figure size 720x360 with 1 Axes>"
            ]
          },
          "metadata": {
            "needs_background": "light"
          }
        }
      ]
    },
    {
      "cell_type": "markdown",
      "source": [
        "The next step is to test for **stationarity**. From the above plot, it is clearly visible that the series is not stationary since there is an upward trend. Also, the plot exhibits certain repeating patterns thereby indicating the presence of **seasonality**.\n",
        "\n",
        "Let us confirm whether the dataset is stationary or not by implementing ADF test.\n",
        "\n"
      ],
      "metadata": {
        "id": "P2IGWnvqq251"
      }
    },
    {
      "cell_type": "code",
      "source": [
        "# S1.7: Implement ADF test.\n",
        "# Import 'adfuller' from 'sklearn.tsa.tools'\n",
        "from statsmodels.tsa.stattools import adfuller\n",
        "\n",
        "# Get the results of Dickey Fuller Test using 'adfuller()' function on indexed DataFrame\n",
        "print('Results of Dickey Fuller Test:')\n",
        "adf_df1 = adfuller(airpass_in_df['#Passengers'])\n",
        "\n",
        "# Print the ADF Statistic results from the first index of ADF Test results\n",
        "print('ADF Statistic:', adf_df1[0])\n",
        "\n",
        "# Print the p-value from the second index of ADF Test results\n",
        "print('p-value: ', adf_df1[1])"
      ],
      "metadata": {
        "id": "ZGrq-_ZNsBbk",
        "colab": {
          "base_uri": "https://localhost:8080/"
        },
        "outputId": "448a730d-4bfe-413a-a347-a36541e0f8cd"
      },
      "execution_count": null,
      "outputs": [
        {
          "output_type": "stream",
          "name": "stdout",
          "text": [
            "Results of Dickey Fuller Test:\n",
            "ADF Statistic: 0.8153688792060418\n",
            "p-value:  0.9918802434376409\n"
          ]
        }
      ]
    },
    {
      "cell_type": "markdown",
      "source": [
        "You may observe that the ADF statistic is not a large negative number and the p-value is greater than 0.05. Therefore, our time series is not stationary and we must apply transformations to make it stationary.\n",
        "\n",
        "In order to make our series stationary, we will try to stabilise the trend by applying a first-order differencing using `diff(1)` function of pandas DataFrame."
      ],
      "metadata": {
        "id": "y7i77fMYsPdn"
      }
    },
    {
      "cell_type": "code",
      "source": [
        "# S1.8: Use 'diff(1)' function to perform first-order differencing\n",
        "airpass_diff1 = airpass_in_df.diff(1)\n",
        "airpass_diff1"
      ],
      "metadata": {
        "id": "hU912Rukscrb",
        "colab": {
          "base_uri": "https://localhost:8080/",
          "height": 455
        },
        "outputId": "d503c105-0ba4-4445-f005-fed75bbf0a4e"
      },
      "execution_count": null,
      "outputs": [
        {
          "output_type": "execute_result",
          "data": {
            "text/html": [
              "\n",
              "  <div id=\"df-fa2d9dda-16c0-48aa-83f6-410e57477dc8\">\n",
              "    <div class=\"colab-df-container\">\n",
              "      <div>\n",
              "<style scoped>\n",
              "    .dataframe tbody tr th:only-of-type {\n",
              "        vertical-align: middle;\n",
              "    }\n",
              "\n",
              "    .dataframe tbody tr th {\n",
              "        vertical-align: top;\n",
              "    }\n",
              "\n",
              "    .dataframe thead th {\n",
              "        text-align: right;\n",
              "    }\n",
              "</style>\n",
              "<table border=\"1\" class=\"dataframe\">\n",
              "  <thead>\n",
              "    <tr style=\"text-align: right;\">\n",
              "      <th></th>\n",
              "      <th>#Passengers</th>\n",
              "    </tr>\n",
              "    <tr>\n",
              "      <th>Year-Month</th>\n",
              "      <th></th>\n",
              "    </tr>\n",
              "  </thead>\n",
              "  <tbody>\n",
              "    <tr>\n",
              "      <th>1949-01-01</th>\n",
              "      <td>NaN</td>\n",
              "    </tr>\n",
              "    <tr>\n",
              "      <th>1949-02-01</th>\n",
              "      <td>6.0</td>\n",
              "    </tr>\n",
              "    <tr>\n",
              "      <th>1949-03-01</th>\n",
              "      <td>14.0</td>\n",
              "    </tr>\n",
              "    <tr>\n",
              "      <th>1949-04-01</th>\n",
              "      <td>-3.0</td>\n",
              "    </tr>\n",
              "    <tr>\n",
              "      <th>1949-05-01</th>\n",
              "      <td>-8.0</td>\n",
              "    </tr>\n",
              "    <tr>\n",
              "      <th>...</th>\n",
              "      <td>...</td>\n",
              "    </tr>\n",
              "    <tr>\n",
              "      <th>1960-08-01</th>\n",
              "      <td>-16.0</td>\n",
              "    </tr>\n",
              "    <tr>\n",
              "      <th>1960-09-01</th>\n",
              "      <td>-98.0</td>\n",
              "    </tr>\n",
              "    <tr>\n",
              "      <th>1960-10-01</th>\n",
              "      <td>-47.0</td>\n",
              "    </tr>\n",
              "    <tr>\n",
              "      <th>1960-11-01</th>\n",
              "      <td>-71.0</td>\n",
              "    </tr>\n",
              "    <tr>\n",
              "      <th>1960-12-01</th>\n",
              "      <td>42.0</td>\n",
              "    </tr>\n",
              "  </tbody>\n",
              "</table>\n",
              "<p>144 rows × 1 columns</p>\n",
              "</div>\n",
              "      <button class=\"colab-df-convert\" onclick=\"convertToInteractive('df-fa2d9dda-16c0-48aa-83f6-410e57477dc8')\"\n",
              "              title=\"Convert this dataframe to an interactive table.\"\n",
              "              style=\"display:none;\">\n",
              "        \n",
              "  <svg xmlns=\"http://www.w3.org/2000/svg\" height=\"24px\"viewBox=\"0 0 24 24\"\n",
              "       width=\"24px\">\n",
              "    <path d=\"M0 0h24v24H0V0z\" fill=\"none\"/>\n",
              "    <path d=\"M18.56 5.44l.94 2.06.94-2.06 2.06-.94-2.06-.94-.94-2.06-.94 2.06-2.06.94zm-11 1L8.5 8.5l.94-2.06 2.06-.94-2.06-.94L8.5 2.5l-.94 2.06-2.06.94zm10 10l.94 2.06.94-2.06 2.06-.94-2.06-.94-.94-2.06-.94 2.06-2.06.94z\"/><path d=\"M17.41 7.96l-1.37-1.37c-.4-.4-.92-.59-1.43-.59-.52 0-1.04.2-1.43.59L10.3 9.45l-7.72 7.72c-.78.78-.78 2.05 0 2.83L4 21.41c.39.39.9.59 1.41.59.51 0 1.02-.2 1.41-.59l7.78-7.78 2.81-2.81c.8-.78.8-2.07 0-2.86zM5.41 20L4 18.59l7.72-7.72 1.47 1.35L5.41 20z\"/>\n",
              "  </svg>\n",
              "      </button>\n",
              "      \n",
              "  <style>\n",
              "    .colab-df-container {\n",
              "      display:flex;\n",
              "      flex-wrap:wrap;\n",
              "      gap: 12px;\n",
              "    }\n",
              "\n",
              "    .colab-df-convert {\n",
              "      background-color: #E8F0FE;\n",
              "      border: none;\n",
              "      border-radius: 50%;\n",
              "      cursor: pointer;\n",
              "      display: none;\n",
              "      fill: #1967D2;\n",
              "      height: 32px;\n",
              "      padding: 0 0 0 0;\n",
              "      width: 32px;\n",
              "    }\n",
              "\n",
              "    .colab-df-convert:hover {\n",
              "      background-color: #E2EBFA;\n",
              "      box-shadow: 0px 1px 2px rgba(60, 64, 67, 0.3), 0px 1px 3px 1px rgba(60, 64, 67, 0.15);\n",
              "      fill: #174EA6;\n",
              "    }\n",
              "\n",
              "    [theme=dark] .colab-df-convert {\n",
              "      background-color: #3B4455;\n",
              "      fill: #D2E3FC;\n",
              "    }\n",
              "\n",
              "    [theme=dark] .colab-df-convert:hover {\n",
              "      background-color: #434B5C;\n",
              "      box-shadow: 0px 1px 3px 1px rgba(0, 0, 0, 0.15);\n",
              "      filter: drop-shadow(0px 1px 2px rgba(0, 0, 0, 0.3));\n",
              "      fill: #FFFFFF;\n",
              "    }\n",
              "  </style>\n",
              "\n",
              "      <script>\n",
              "        const buttonEl =\n",
              "          document.querySelector('#df-fa2d9dda-16c0-48aa-83f6-410e57477dc8 button.colab-df-convert');\n",
              "        buttonEl.style.display =\n",
              "          google.colab.kernel.accessAllowed ? 'block' : 'none';\n",
              "\n",
              "        async function convertToInteractive(key) {\n",
              "          const element = document.querySelector('#df-fa2d9dda-16c0-48aa-83f6-410e57477dc8');\n",
              "          const dataTable =\n",
              "            await google.colab.kernel.invokeFunction('convertToInteractive',\n",
              "                                                     [key], {});\n",
              "          if (!dataTable) return;\n",
              "\n",
              "          const docLinkHtml = 'Like what you see? Visit the ' +\n",
              "            '<a target=\"_blank\" href=Link on Panelotebook</a>'\n",
              "            + ' to learn more about interactive tables.';\n",
              "          element.innerHTML = '';\n",
              "          dataTable['output_type'] = 'display_data';\n",
              "          await google.colab.output.renderOutput(dataTable, element);\n",
              "          const docLink = document.createElement('div');\n",
              "          docLink.innerHTML = docLinkHtml;\n",
              "          element.appendChild(docLink);\n",
              "        }\n",
              "      </script>\n",
              "    </div>\n",
              "  </div>\n",
              "  "
            ],
            "text/plain": [
              "            #Passengers\n",
              "Year-Month             \n",
              "1949-01-01          NaN\n",
              "1949-02-01          6.0\n",
              "1949-03-01         14.0\n",
              "1949-04-01         -3.0\n",
              "1949-05-01         -8.0\n",
              "...                 ...\n",
              "1960-08-01        -16.0\n",
              "1960-09-01        -98.0\n",
              "1960-10-01        -47.0\n",
              "1960-11-01        -71.0\n",
              "1960-12-01         42.0\n",
              "\n",
              "[144 rows x 1 columns]"
            ]
          },
          "metadata": {},
          "execution_count": 58
        }
      ]
    },
    {
      "cell_type": "markdown",
      "source": [
        "Again check whether the first-order differenced data is stationary or not by performing ADF test. Also, remove `NaN` values from the differenced dataset."
      ],
      "metadata": {
        "id": "P0GELoXOsvKj"
      }
    },
    {
      "cell_type": "code",
      "source": [
        "# S1.9: Remove NaN values and check stationarity of the time series data\n",
        "airpass_diff1.dropna(inplace = True)\n",
        "\n",
        "# Get the results of Dickey Fuller Test using 'adfuller()' function on the differenced dataframe\n",
        "adf_df2 = adfuller(airpass_diff1['#Passengers'])\n",
        "\n",
        "# Print the ADF Statistic results from the first index of ADF Test results\n",
        "print('ADF Statistic:', adf_df2[0])\n",
        "\n",
        "# Print the p-value from the second index of ADF Test results\n",
        "print('p-value: ', adf_df2[1])"
      ],
      "metadata": {
        "id": "1snSLkv-sxsT",
        "colab": {
          "base_uri": "https://localhost:8080/"
        },
        "outputId": "b64b10df-9a59-40e7-b7ab-3b826ee66a75"
      },
      "execution_count": null,
      "outputs": [
        {
          "output_type": "stream",
          "name": "stdout",
          "text": [
            "ADF Statistic: -2.829266824169997\n",
            "p-value:  0.05421329028382577\n"
          ]
        }
      ]
    },
    {
      "cell_type": "markdown",
      "source": [
        "You may observe that now the ADF statistic is a negative number. However, p-value is equal to 0.05 and not less than 0.05, which means the first-order differenced data is accepting the null hypothesis, indicating that the data is still non-stationary.\n",
        "\n",
        "Let us perform second-order differencing to further stabilise the trend by using `diff(1)` function with the differenced DataFrame.\n"
      ],
      "metadata": {
        "id": "_-JRhU5wh5nA"
      }
    },
    {
      "cell_type": "code",
      "source": [
        "# S1.10: Use 'diff(1)' function to perform second-order differencing on differenced DataFrame.\n",
        "airpass_diff2 = airpass_diff1.diff(1)\n",
        "airpass_diff2"
      ],
      "metadata": {
        "id": "1ylU-_LEtRcb",
        "colab": {
          "base_uri": "https://localhost:8080/",
          "height": 455
        },
        "outputId": "62022d80-9941-4d43-dc3e-5f342cacff94"
      },
      "execution_count": null,
      "outputs": [
        {
          "output_type": "execute_result",
          "data": {
            "text/html": [
              "\n",
              "  <div id=\"df-9ec9e59c-cd47-4fb6-a783-a3b91b1e4bbd\">\n",
              "    <div class=\"colab-df-container\">\n",
              "      <div>\n",
              "<style scoped>\n",
              "    .dataframe tbody tr th:only-of-type {\n",
              "        vertical-align: middle;\n",
              "    }\n",
              "\n",
              "    .dataframe tbody tr th {\n",
              "        vertical-align: top;\n",
              "    }\n",
              "\n",
              "    .dataframe thead th {\n",
              "        text-align: right;\n",
              "    }\n",
              "</style>\n",
              "<table border=\"1\" class=\"dataframe\">\n",
              "  <thead>\n",
              "    <tr style=\"text-align: right;\">\n",
              "      <th></th>\n",
              "      <th>#Passengers</th>\n",
              "    </tr>\n",
              "    <tr>\n",
              "      <th>Year-Month</th>\n",
              "      <th></th>\n",
              "    </tr>\n",
              "  </thead>\n",
              "  <tbody>\n",
              "    <tr>\n",
              "      <th>1949-02-01</th>\n",
              "      <td>NaN</td>\n",
              "    </tr>\n",
              "    <tr>\n",
              "      <th>1949-03-01</th>\n",
              "      <td>8.0</td>\n",
              "    </tr>\n",
              "    <tr>\n",
              "      <th>1949-04-01</th>\n",
              "      <td>-17.0</td>\n",
              "    </tr>\n",
              "    <tr>\n",
              "      <th>1949-05-01</th>\n",
              "      <td>-5.0</td>\n",
              "    </tr>\n",
              "    <tr>\n",
              "      <th>1949-06-01</th>\n",
              "      <td>22.0</td>\n",
              "    </tr>\n",
              "    <tr>\n",
              "      <th>...</th>\n",
              "      <td>...</td>\n",
              "    </tr>\n",
              "    <tr>\n",
              "      <th>1960-08-01</th>\n",
              "      <td>-103.0</td>\n",
              "    </tr>\n",
              "    <tr>\n",
              "      <th>1960-09-01</th>\n",
              "      <td>-82.0</td>\n",
              "    </tr>\n",
              "    <tr>\n",
              "      <th>1960-10-01</th>\n",
              "      <td>51.0</td>\n",
              "    </tr>\n",
              "    <tr>\n",
              "      <th>1960-11-01</th>\n",
              "      <td>-24.0</td>\n",
              "    </tr>\n",
              "    <tr>\n",
              "      <th>1960-12-01</th>\n",
              "      <td>113.0</td>\n",
              "    </tr>\n",
              "  </tbody>\n",
              "</table>\n",
              "<p>143 rows × 1 columns</p>\n",
              "</div>\n",
              "      <button class=\"colab-df-convert\" onclick=\"convertToInteractive('df-9ec9e59c-cd47-4fb6-a783-a3b91b1e4bbd')\"\n",
              "              title=\"Convert this dataframe to an interactive table.\"\n",
              "              style=\"display:none;\">\n",
              "        \n",
              "  <svg xmlns=\"http://www.w3.org/2000/svg\" height=\"24px\"viewBox=\"0 0 24 24\"\n",
              "       width=\"24px\">\n",
              "    <path d=\"M0 0h24v24H0V0z\" fill=\"none\"/>\n",
              "    <path d=\"M18.56 5.44l.94 2.06.94-2.06 2.06-.94-2.06-.94-.94-2.06-.94 2.06-2.06.94zm-11 1L8.5 8.5l.94-2.06 2.06-.94-2.06-.94L8.5 2.5l-.94 2.06-2.06.94zm10 10l.94 2.06.94-2.06 2.06-.94-2.06-.94-.94-2.06-.94 2.06-2.06.94z\"/><path d=\"M17.41 7.96l-1.37-1.37c-.4-.4-.92-.59-1.43-.59-.52 0-1.04.2-1.43.59L10.3 9.45l-7.72 7.72c-.78.78-.78 2.05 0 2.83L4 21.41c.39.39.9.59 1.41.59.51 0 1.02-.2 1.41-.59l7.78-7.78 2.81-2.81c.8-.78.8-2.07 0-2.86zM5.41 20L4 18.59l7.72-7.72 1.47 1.35L5.41 20z\"/>\n",
              "  </svg>\n",
              "      </button>\n",
              "      \n",
              "  <style>\n",
              "    .colab-df-container {\n",
              "      display:flex;\n",
              "      flex-wrap:wrap;\n",
              "      gap: 12px;\n",
              "    }\n",
              "\n",
              "    .colab-df-convert {\n",
              "      background-color: #E8F0FE;\n",
              "      border: none;\n",
              "      border-radius: 50%;\n",
              "      cursor: pointer;\n",
              "      display: none;\n",
              "      fill: #1967D2;\n",
              "      height: 32px;\n",
              "      padding: 0 0 0 0;\n",
              "      width: 32px;\n",
              "    }\n",
              "\n",
              "    .colab-df-convert:hover {\n",
              "      background-color: #E2EBFA;\n",
              "      box-shadow: 0px 1px 2px rgba(60, 64, 67, 0.3), 0px 1px 3px 1px rgba(60, 64, 67, 0.15);\n",
              "      fill: #174EA6;\n",
              "    }\n",
              "\n",
              "    [theme=dark] .colab-df-convert {\n",
              "      background-color: #3B4455;\n",
              "      fill: #D2E3FC;\n",
              "    }\n",
              "\n",
              "    [theme=dark] .colab-df-convert:hover {\n",
              "      background-color: #434B5C;\n",
              "      box-shadow: 0px 1px 3px 1px rgba(0, 0, 0, 0.15);\n",
              "      filter: drop-shadow(0px 1px 2px rgba(0, 0, 0, 0.3));\n",
              "      fill: #FFFFFF;\n",
              "    }\n",
              "  </style>\n",
              "\n",
              "      <script>\n",
              "        const buttonEl =\n",
              "          document.querySelector('#df-9ec9e59c-cd47-4fb6-a783-a3b91b1e4bbd button.colab-df-convert');\n",
              "        buttonEl.style.display =\n",
              "          google.colab.kernel.accessAllowed ? 'block' : 'none';\n",
              "\n",
              "        async function convertToInteractive(key) {\n",
              "          const element = document.querySelector('#df-9ec9e59c-cd47-4fb6-a783-a3b91b1e4bbd');\n",
              "          const dataTable =\n",
              "            await google.colab.kernel.invokeFunction('convertToInteractive',\n",
              "                                                     [key], {});\n",
              "          if (!dataTable) return;\n",
              "\n",
              "          const docLinkHtml = 'Like what you see? Visit the ' +\n",
              "            '<a target=\"_blank\" href=Link on Panelotebook</a>'\n",
              "            + ' to learn more about interactive tables.';\n",
              "          element.innerHTML = '';\n",
              "          dataTable['output_type'] = 'display_data';\n",
              "          await google.colab.output.renderOutput(dataTable, element);\n",
              "          const docLink = document.createElement('div');\n",
              "          docLink.innerHTML = docLinkHtml;\n",
              "          element.appendChild(docLink);\n",
              "        }\n",
              "      </script>\n",
              "    </div>\n",
              "  </div>\n",
              "  "
            ],
            "text/plain": [
              "            #Passengers\n",
              "Year-Month             \n",
              "1949-02-01          NaN\n",
              "1949-03-01          8.0\n",
              "1949-04-01        -17.0\n",
              "1949-05-01         -5.0\n",
              "1949-06-01         22.0\n",
              "...                 ...\n",
              "1960-08-01       -103.0\n",
              "1960-09-01        -82.0\n",
              "1960-10-01         51.0\n",
              "1960-11-01        -24.0\n",
              "1960-12-01        113.0\n",
              "\n",
              "[143 rows x 1 columns]"
            ]
          },
          "metadata": {},
          "execution_count": 60
        }
      ]
    },
    {
      "cell_type": "markdown",
      "source": [
        "Again check whether the second-order differenced data is stationary or not by performing ADF test. Also, remove `NaN` values from the differenced dataset."
      ],
      "metadata": {
        "id": "K11R7czblKoh"
      }
    },
    {
      "cell_type": "code",
      "source": [
        "# S1.11: Remove NaN values and check stationarity of the time series data\n",
        "airpass_diff2.dropna(inplace = True)\n",
        "\n",
        "# Get the results of Dickey Fuller Test using 'adfuller()' function on the 2nd differenced dataframe\n",
        "adf_df3 = adfuller(airpass_diff2['#Passengers'])\n",
        "\n",
        "# Print the ADF Statistic results from the first index of ADF Test results\n",
        "print('ADF Statistic:', adf_df3[0])\n",
        "\n",
        "# Print the p-value from the second index of ADF Test results\n",
        "print('p-value: ', adf_df3[1])"
      ],
      "metadata": {
        "id": "ZIbCP3E3te_a",
        "colab": {
          "base_uri": "https://localhost:8080/"
        },
        "outputId": "65f22456-b6ce-4286-9d96-5b66a7c83c4d"
      },
      "execution_count": null,
      "outputs": [
        {
          "output_type": "stream",
          "name": "stdout",
          "text": [
            "ADF Statistic: -16.384231542468513\n",
            "p-value:  2.7328918500142026e-29\n"
          ]
        }
      ]
    },
    {
      "cell_type": "markdown",
      "source": [
        "Hence, you may observe that we obtained a very less p-value and better ADF statistic value as compared to the previous results, thereby confirming that the second-order differenced data is indeed stationary.\n",
        "\n",
        "Thus, the value of hyperparameter `d` for ARIMA model is `2`. Next, we need to figure out values of other hyperparameters i.e `p` and `q`.\n",
        "\n",
        "Before that, let us learn few more evaluation metrics other than Root Mean Squared Error (RMSE) and Mean Absolute Error (MAE) for time series forecasting."
      ],
      "metadata": {
        "id": "eXieV54qlOUp"
      }
    },
    {
      "cell_type": "markdown",
      "source": [
        "---"
      ],
      "metadata": {
        "id": "5IiuvYVlmNzJ"
      }
    },
    {
      "cell_type": "markdown",
      "source": [
        "#### Activity 2: Accuracy Metrics for Time Series Forecast\n",
        "\n",
        "The two widely used accuracy metrics other than RMSE and MAE  for judging forecast performance are:\n",
        "1. Mean Absolute Percentage Error (MAPE)\n",
        "2. Akaike Information Criterion (AIC)\n",
        "\n",
        "**1. Mean Absolute Percentage Error (MAPE)**\n",
        "\n",
        "- MAPE is used to estimate the accuracy in terms of the differences in the actual v/s predicted values.\n",
        "- MAPE is calculated as:\n",
        "\n",
        "\\begin{align}\n",
        "\\text{MAPE} & = \\frac{1}{n}\\sum^{n}_{t=1} \\bigg | \\frac{A_t - F_t}{A_t} \\bigg |\n",
        "\\end{align}\n",
        "\n",
        "&emsp;&ensp;Where,\n",
        " - $n$ is the number of observations.\n",
        " - $A_t$ is the actual value at time $t$.\n",
        " - $F_t$ is the forecast/predicted value at time $t$.\n",
        "\n",
        "MAPE is usually expressed in terms of percentage. Lower the MAPE, better fit is the model.\n",
        "\n",
        "Let us create a user-defined function to calculate MAPE using the Python `numpy` module. We will use this function later in the upcoming activity to calculate MAPE value for Air passenger dataset.\n",
        "\n",
        "\n"
      ],
      "metadata": {
        "id": "shlBr9uJxdWE"
      }
    },
    {
      "cell_type": "code",
      "source": [
        "# S2.1: Define a function to calculate MAPE.\n",
        "def calculate_mape(y_actual, y_predicted):\n",
        "  mape = np.mean(np.abs((y_actual - y_predicted)/y_actual)) * 100\n",
        "  return mape"
      ],
      "metadata": {
        "id": "uCkTElG02gz9"
      },
      "execution_count": null,
      "outputs": []
    },
    {
      "cell_type": "markdown",
      "source": [
        "**2. Akaike Information Criterion (AIC)**\n",
        "\n",
        "- AIC is a single number score that is used to determine which model is the best model out of  multiple models for a given dataset.\n",
        "- AIC scores are only useful in comparison with other AIC scores for the same dataset.\n",
        "- AIC measures the information loss, so the **model with a lower AIC score indicates a better fit**.\n",
        "- It is calculated using the formula:\n",
        "\n",
        "\\begin{align}\n",
        "\\text{AIC} & = n \\times \\text{log(MSE)} + 2k\n",
        "\\end{align}\n",
        "\n",
        "Where,\n",
        " - $n$: Number of observations.\n",
        " - $\\text{log(MSE)}$: Log of Mean Squared Error.\n",
        " - $k$: Number of features. In our case, there is only 1 feature i.e `#Passengers`. Thus, $k = 1$.\n",
        "\n",
        "A handy way to calculate AIC score for a model is to use `aic` attribute of `ARIMA` object. We will use this attribute in the upcoming section.\n",
        "\n",
        "Let us now estimate hyperparameter values for ARIMA and also explore an alternative approach that can be used for estimating these values."
      ],
      "metadata": {
        "id": "uU8fJqLN27Nk"
      }
    },
    {
      "cell_type": "markdown",
      "source": [
        "---"
      ],
      "metadata": {
        "id": "jlAri8WC861y"
      }
    },
    {
      "cell_type": "markdown",
      "source": [
        "#### Activity 3: Estimating Hyperparameter Values of ARIMA\n",
        "\n",
        "Recall the rule for estimating values of order `p` and `q`:\n",
        "- To estimate order `p`, Partial Autocorrelation Function (PACF) plot is used.\n",
        "- To estimate order `q`, Autocorrelation Function (ACF) plot is used.\n",
        "\n",
        "Let us first create a PACF plot for second-order differenced time-series to estimate order `p`."
      ],
      "metadata": {
        "id": "JpyPZe6xmTfh"
      }
    },
    {
      "cell_type": "code",
      "source": [
        "# S3.1: Plot PACF\n",
        "plot_pacf(airpass_diff2, lags = 10)\n",
        "plt.show()"
      ],
      "metadata": {
        "id": "NIqj6Slytosa",
        "colab": {
          "base_uri": "https://localhost:8080/",
          "height": 281
        },
        "outputId": "b07c2725-fc15-485b-ab4a-03af7d8fbe75"
      },
      "execution_count": null,
      "outputs": [
        {
          "output_type": "display_data",
          "data": {
            "image/png": "[encoded data removed]",
            "text/plain": [
              "<Figure size 432x288 with 1 Axes>"
            ]
          },
          "metadata": {
            "needs_background": "light"
          }
        }
      ]
    },
    {
      "cell_type": "markdown",
      "source": [
        "You may observe that there are significant  spikes at lag 1, lag 2 and so on. Thus, let us assume the value of order `p` as `2`.\n",
        "\n",
        "Similarly, create an ACF plot for second-order differenced time-series to estimate order `q`.\n"
      ],
      "metadata": {
        "id": "-TYvp8SPnjJQ"
      }
    },
    {
      "cell_type": "code",
      "source": [
        "# S3.2: Plot ACF\n",
        "plot_acf(airpass_diff2, lags = 10)\n",
        "plt.show()"
      ],
      "metadata": {
        "id": "p7klOyJhuDvr",
        "colab": {
          "base_uri": "https://localhost:8080/",
          "height": 281
        },
        "outputId": "d07d8492-05d2-43e1-a674-79c1bc360a78"
      },
      "execution_count": null,
      "outputs": [
        {
          "output_type": "display_data",
          "data": {
            "image/png": "[encoded data removed]",
            "text/plain": [
              "<Figure size 432x288 with 1 Axes>"
            ]
          },
          "metadata": {
            "needs_background": "light"
          }
        }
      ]
    },
    {
      "cell_type": "markdown",
      "source": [
        "Again there are significant spikes at lag 1, 2, 4 and so on. We will choose lag `2`, thus order `q = 2`.\n",
        "\n",
        "**Note:** You may also pick other significant `p` and `q` values and deploy the model using those values.\n",
        "\n",
        "Using ACF and PACF plots to estimate hyperparameter values require careful analysis and domain expertise. It can be tricky and confusing.\n",
        "\n",
        "An alternative approach to finding optimal hyperparameter values without using ACF and PACF plots is to automate the process of training and evaluating ARIMA models on different combinations of model hyperparameters. In machine learning this is called a **Grid search** or **model tuning**.\n",
        "\n",
        "<br/>\n",
        "\n",
        "**Grid Searching Method:**\n",
        "\n",
        "In this technique, we will simply iterate through a grid of `p`, `d`, and `q` ARIMA parameters and evaluate model performance for each set of parameters using AIC values.\n",
        "\n",
        "Let us first define a grid of three variables `p`, `d`, and `q`, where `p` and `q` range from `0` to `4` and `d` range from `0` to `2`.\n",
        "\n",
        "**Note:** `p` and `q` parameters need not necessarily range till `5`. You can iterate it till `10` or more, in that case the code cell will take more time for execution. The value of `d` normally never exceeds `2` for ARIMA."
      ],
      "metadata": {
        "id": "7ZjwRMVSoRbJ"
      }
    },
    {
      "cell_type": "code",
      "source": [
        "# S3.3: Initiate 'p', 'd', and 'q' parameter grid.\n",
        "p = range(0, 5)\n",
        "q = range(0, 5)\n",
        "d = range(0, 3)"
      ],
      "metadata": {
        "id": "mjcFFOYW9-Ou"
      },
      "execution_count": null,
      "outputs": []
    },
    {
      "cell_type": "markdown",
      "source": [
        "Now we need multiple combinations of `(p, d, q)` values like: `(0, 0, 0)`, `(0, 0, 1)`, `(0, 0, 2)` $\\dots$ `,(4, 2, 3)`, `(4, 2, 4)`\n",
        "\n",
        "This looks like the Cartesian product of `p`, `d`, and `q` variables.\n",
        "\n",
        "To obtain such combination of values, use `product()` function of `itertools` module which finds the cartesian product from the given iterator.\n",
        "\n",
        "**Note:** Python **`itertools`** is a library in Python which consists of multiple methods that are used in various iterators to compute a fast and code efficient solution."
      ],
      "metadata": {
        "id": "nTlRYz5OAd8v"
      }
    },
    {
      "cell_type": "code",
      "source": [
        "# T3.1: Create combinations of 'p', 'd' and 'q' values.\n",
        "import itertools\n",
        "pdq_combination = list(itertools.product(p, d, q)) # return the list of all the computed tuple\n",
        "print(pdq_combination)"
      ],
      "metadata": {
        "id": "dUQTGB0lowsU",
        "colab": {
          "base_uri": "https://localhost:8080/"
        },
        "outputId": "6d508f0b-8b24-4f61-bd3d-9b4a5968d132"
      },
      "execution_count": null,
      "outputs": [
        {
          "output_type": "stream",
          "name": "stdout",
          "text": [
            "[(0, 0, 0), (0, 0, 1), (0, 0, 2), (0, 0, 3), (0, 0, 4), (0, 1, 0), (0, 1, 1), (0, 1, 2), (0, 1, 3), (0, 1, 4), (0, 2, 0), (0, 2, 1), (0, 2, 2), (0, 2, 3), (0, 2, 4), (1, 0, 0), (1, 0, 1), (1, 0, 2), (1, 0, 3), (1, 0, 4), (1, 1, 0), (1, 1, 1), (1, 1, 2), (1, 1, 3), (1, 1, 4), (1, 2, 0), (1, 2, 1), (1, 2, 2), (1, 2, 3), (1, 2, 4), (2, 0, 0), (2, 0, 1), (2, 0, 2), (2, 0, 3), (2, 0, 4), (2, 1, 0), (2, 1, 1), (2, 1, 2), (2, 1, 3), (2, 1, 4), (2, 2, 0), (2, 2, 1), (2, 2, 2), (2, 2, 3), (2, 2, 4), (3, 0, 0), (3, 0, 1), (3, 0, 2), (3, 0, 3), (3, 0, 4), (3, 1, 0), (3, 1, 1), (3, 1, 2), (3, 1, 3), (3, 1, 4), (3, 2, 0), (3, 2, 1), (3, 2, 2), (3, 2, 3), (3, 2, 4), (4, 0, 0), (4, 0, 1), (4, 0, 2), (4, 0, 3), (4, 0, 4), (4, 1, 0), (4, 1, 1), (4, 1, 2), (4, 1, 3), (4, 1, 4), (4, 2, 0), (4, 2, 1), (4, 2, 2), (4, 2, 3), (4, 2, 4)]\n"
          ]
        }
      ]
    },
    {
      "cell_type": "markdown",
      "source": [
        "Now that we have obtained all possible combinations of `p`, `d` and `q` parameter values, let us build ARIMA model for each set of parameter values and determine the AIC score of each model. Also, check which set of parameter values returns the lowest AIC score.\n",
        "\n",
        "Follow the steps given below to perform Grid search hyperparameter tuning for ARIMA:\n",
        "\n",
        "1. Import `ARIMA` class from `statsmodels.tsa.arima_model` module.\n",
        "\n",
        "2. Initialise two variables `lowest_aic` and `best_params` to `float(\"inf\")` and `None` respectively. The `float(\"inf\")` will set the variable with an infinitely large value. Here,\n",
        "  - The `lowest_aic` variable will store the lowest AIC score obtained out of all AIC scores.\n",
        "  - The `best_params` variable will store the `(p, d, q)` values for which the model AIC score is the lowest.\n",
        "\n",
        "3. Initiate a `for` loop that iterates through every combination of `(p, d, q)` values stored in `pdq_combination` variable. Inside this `for` loop,\n",
        " - Add a `try` block and `except` block to catch and handle some errors/exceptions that might result from different hyperparameter values. We need not study in detail the use of these error handling blocks.\n",
        "\n",
        " - Inside the `try` block, create an object of `ARIMA` class and pass the following inputs:\n",
        "    - `airpass_in_df`:  The original indexed DataFrame. You can also perform train-test split and train the model using train set.\n",
        "    - `order = pdq`: Each combination of hyperparameter values from `pdq_combination`.\n",
        "\n",
        " - Call the `fit()` function using the object of `ARIMA`.\n",
        "\n",
        " - Determine the AIC score of the current model using `aic` attribute of `ARIMA` object and store this value in a `aic_m` variable . Print the  hyperparameter values and the AIC score of the current instance model.\n",
        "\n",
        " - Compare `aic_m` and `lowest_aic` values.\n",
        "    - If  `aic_m < lowest_aic`, then store current AIC i.e `aic_m` value in `lowest_aic` variable and current order i.e `pdq` value in `best_params` variable.\n",
        "  \n",
        "  In this way, for every iteration, an ARIMA model is created for a set of hyperparameter values and then the AIC score for that model is determined. If that AIC score is less than the last lowest AIC score, then replace the lowest AIC score with the current AIC score.\n",
        "\n",
        "4. Finally, print the best hyperparameter values exhibiting lowest AIC score by printing `best_params` and `lowest_aic` variables.\n",
        "\n",
        "\n",
        "\n",
        "**Note:** This execution will generate a lot of unnecessary warnings. To remove these warnings, add the following code to the below code cell.\n",
        "\n",
        "```python\n",
        "import warnings\n",
        "warnings.filterwarnings(\"ignore\")\n",
        "```"
      ],
      "metadata": {
        "id": "Ug0s1yp4C7k2"
      }
    },
    {
      "cell_type": "code",
      "source": [
        "# T3.2: Perform Grid search Hyperparameter tuning for ARIMA\n",
        "import warnings\n",
        "warnings.filterwarnings(\"ignore\")\n",
        "\n",
        "from statsmodels.tsa.arima_model import ARIMA\n",
        "\n",
        "lowest_aic, best_params = float(\"inf\"), None\n",
        "\n",
        "for pdq in pdq_combination:\n",
        "  try:\n",
        "    model = ARIMA(airpass_in_df, order = pdq).fit()\n",
        "    aic_m = model.aic\n",
        "\n",
        "    print(f'ARIMA{pdq} AIC={aic_m:.3f}')\n",
        "    if aic_m < lowest_aic:\n",
        "      lowest_aic, best_params = aic_m, pdq\n",
        "\n",
        "  except:\n",
        "    continue\n",
        "\n",
        "print(f'Best ARIMA {best_params} AIC={lowest_aic:.3f}')"
      ],
      "metadata": {
        "colab": {
          "base_uri": "https://localhost:8080/"
        },
        "id": "OWC1ag3_svMM",
        "outputId": "a0869ea9-d72b-400e-de05-72cfe1b94d24"
      },
      "execution_count": null,
      "outputs": [
        {
          "output_type": "stream",
          "name": "stdout",
          "text": [
            "ARIMA(0, 0, 0) AIC=1790.368\n",
            "ARIMA(0, 0, 1) AIC=1618.863\n",
            "ARIMA(0, 1, 0) AIC=1415.278\n",
            "ARIMA(0, 1, 1) AIC=1398.827\n",
            "ARIMA(0, 1, 2) AIC=1398.386\n",
            "ARIMA(0, 1, 3) AIC=1381.664\n",
            "ARIMA(0, 1, 4) AIC=1357.315\n",
            "ARIMA(0, 2, 0) AIC=1452.590\n",
            "ARIMA(0, 2, 1) AIC=1413.363\n",
            "ARIMA(0, 2, 2) AIC=1396.372\n",
            "ARIMA(0, 2, 3) AIC=1396.408\n",
            "ARIMA(1, 0, 0) AIC=1428.179\n",
            "ARIMA(1, 0, 1) AIC=1409.748\n",
            "ARIMA(1, 0, 2) AIC=1411.050\n",
            "ARIMA(1, 0, 3) AIC=1420.734\n",
            "ARIMA(1, 0, 4) AIC=2360.428\n",
            "ARIMA(1, 1, 0) AIC=1403.473\n",
            "ARIMA(1, 1, 1) AIC=1402.145\n",
            "ARIMA(1, 1, 2) AIC=1371.815\n",
            "ARIMA(1, 1, 3) AIC=1373.076\n",
            "ARIMA(1, 1, 4) AIC=1359.167\n",
            "ARIMA(1, 2, 0) AIC=1449.026\n",
            "ARIMA(1, 2, 2) AIC=1393.908\n",
            "ARIMA(1, 2, 3) AIC=1394.467\n",
            "ARIMA(1, 2, 4) AIC=1396.217\n",
            "ARIMA(2, 0, 0) AIC=1413.639\n",
            "ARIMA(2, 0, 1) AIC=1408.249\n",
            "ARIMA(2, 0, 2) AIC=1464.437\n",
            "ARIMA(2, 0, 3) AIC=1430.704\n",
            "ARIMA(2, 0, 4) AIC=2587.983\n",
            "ARIMA(2, 1, 0) AIC=1397.975\n",
            "ARIMA(2, 1, 1) AIC=1361.696\n",
            "ARIMA(2, 1, 2) AIC=1344.043\n",
            "ARIMA(2, 1, 3) AIC=1343.278\n",
            "ARIMA(2, 1, 4) AIC=1338.585\n",
            "ARIMA(2, 2, 0) AIC=1442.078\n",
            "ARIMA(2, 2, 2) AIC=1394.656\n",
            "ARIMA(2, 2, 4) AIC=1380.622\n",
            "ARIMA(3, 0, 0) AIC=1410.342\n",
            "ARIMA(3, 0, 1) AIC=1395.289\n",
            "ARIMA(3, 0, 2) AIC=1379.297\n",
            "ARIMA(3, 0, 3) AIC=1376.450\n",
            "ARIMA(3, 0, 4) AIC=1378.408\n",
            "ARIMA(3, 1, 0) AIC=1396.151\n",
            "ARIMA(3, 1, 1) AIC=1362.451\n",
            "ARIMA(3, 1, 2) AIC=1360.750\n",
            "ARIMA(3, 1, 3) AIC=1336.776\n",
            "ARIMA(3, 1, 4) AIC=1340.581\n",
            "ARIMA(3, 2, 0) AIC=1439.877\n",
            "ARIMA(3, 2, 2) AIC=1395.156\n",
            "ARIMA(3, 2, 3) AIC=1366.155\n",
            "ARIMA(3, 2, 4) AIC=1381.066\n",
            "ARIMA(4, 0, 0) AIC=1409.758\n",
            "ARIMA(4, 0, 1) AIC=1507.985\n",
            "ARIMA(4, 0, 2) AIC=1391.783\n",
            "ARIMA(4, 0, 3) AIC=1371.709\n",
            "ARIMA(4, 0, 4) AIC=1379.686\n",
            "ARIMA(4, 1, 0) AIC=1388.510\n",
            "ARIMA(4, 1, 1) AIC=1361.715\n",
            "ARIMA(4, 1, 2) AIC=1356.151\n",
            "ARIMA(4, 1, 4) AIC=1332.955\n",
            "ARIMA(4, 2, 0) AIC=1421.694\n",
            "ARIMA(4, 2, 1) AIC=1387.198\n",
            "ARIMA(4, 2, 2) AIC=1383.257\n",
            "ARIMA(4, 2, 4) AIC=1376.793\n",
            "Best ARIMA (4, 1, 4) AIC=1332.955\n"
          ]
        }
      ]
    },
    {
      "cell_type": "markdown",
      "source": [
        "Running the above code cell prints the ARIMA parameters and AIC score for each set of parameters. Also, the lowest AIC value of 1332.955 was obtained for the ARIMA(4, 1, 4) model, and that will be used as the final estimator.\n",
        "\n",
        "We are now ready to deploy ARIMA(p, d, q) model using `statsmodels` package with optimal hyperparameter values obtained from the above Grid search using the steps given below:\n",
        "\n",
        "1. Create an object of `ARIMA` class and pass the following inputs:\n",
        "  - `airpass_in_df`:  The original indexed DataFrame.\n",
        "  - `order = (4, 1, 4)`: The hyperparameter values obtained from Grid search technique.\n",
        "\n",
        "3. Call the `fit()` function using the object of `ARIMA`.\n",
        "4. Print the AIC score of the ARIMA model using `aic` attribute.\n"
      ],
      "metadata": {
        "id": "SqXJUYUPOhDu"
      }
    },
    {
      "cell_type": "code",
      "source": [
        "# S3.4: Build ARIMA model with optimal order values for entire dataset.\n",
        "arima_1 = ARIMA(airpass_in_df, order = (4, 1, 4)).fit()\n",
        "arima_1.aic"
      ],
      "metadata": {
        "id": "_v19tTShuNKF",
        "colab": {
          "base_uri": "https://localhost:8080/"
        },
        "outputId": "89a6690a-24cc-480a-f7f6-8b83e17f3bf8"
      },
      "execution_count": null,
      "outputs": [
        {
          "output_type": "execute_result",
          "data": {
            "text/plain": [
              "1332.9549969619318"
            ]
          },
          "metadata": {},
          "execution_count": 68
        }
      ]
    },
    {
      "cell_type": "markdown",
      "source": [
        "Let us now perform prediction using `predict()` function by specifying the start and end index for differenced dataset. Also, plot the predictions.\n",
        "\n",
        "**Note:** Use `typ = 'levels'` attribute within `predict()` function to perform prediction for original observations rather than differenced observations.\n",
        "\n",
        "Evaluate this model using accuracy metrics like Mean Absolute Error (MAE) and Root Mean Squared Error (RMSE). Also calculate the Mean Absolute Percentage Error (MAPE) value by calling `calculate_mape()` function (This function was already defined in **Activity 2: Accuracy Metrics for Time Series Forecast**)."
      ],
      "metadata": {
        "id": "PTzknRKXVbZl"
      }
    },
    {
      "cell_type": "code",
      "source": [
        "# S3.5: Perform prediction using 'predict()' function for original dataset.\n",
        "\n",
        "from sklearn.metrics import mean_absolute_error, mean_squared_error\n",
        "\n",
        "# Predict using `predict()` function with start = 1 and end = (total observations - 1)\n",
        "pred = arima_1.predict(1, len(airpass_in_df) - 1, typ = 'levels')\n",
        "\n",
        "# Print MAE, RMSE, MAPE values\n",
        "print(\"MAE:\", mean_absolute_error(airpass_in_df[1:], pred))\n",
        "print(\"RMSE:\", np.sqrt(mean_squared_error(airpass_in_df[1:], pred)))\n",
        "\n",
        "print(\"MAPE:\", calculate_mape(airpass_in_df['#Passengers'].iloc[1:], pred))\n",
        "\n",
        "# Plot predictions and actual values\n",
        "plt.figure(figsize=(10, 5))\n",
        "plt.plot(pred, label = 'Predicted #Passengers')\n",
        "plt.plot(airpass_in_df['#Passengers'], label = 'Original #Passengers')\n",
        "plt.legend()\n",
        "plt.show()"
      ],
      "metadata": {
        "id": "OOVvjPbBuYgr",
        "colab": {
          "base_uri": "https://localhost:8080/",
          "height": 372
        },
        "outputId": "2ed778e3-2f25-4498-e7a1-b5fdbb27d1f0"
      },
      "execution_count": null,
      "outputs": [
        {
          "output_type": "stream",
          "name": "stdout",
          "text": [
            "MAE: 18.246955384784968\n",
            "RMSE: 23.282991464973207\n",
            "MAPE: 6.762105744000019\n"
          ]
        },
        {
          "output_type": "display_data",
          "data": {
            "image/png": "[encoded data removed]",
            "text/plain": [
              "<Figure size 720x360 with 1 Axes>"
            ]
          },
          "metadata": {
            "needs_background": "light"
          }
        }
      ]
    },
    {
      "cell_type": "markdown",
      "source": [
        "From above plot, we can see that our predicted forecasts are close to the real time series values. The MAE, RMSE and MAPE values are moderately high. Thus, it indicates a fairly accurate model.\n",
        "\n",
        "**Forecasting Future:**\n",
        "\n",
        "Let us forecast future values using this ARIMA model by applying `predict()` function.\n",
        "\n",
        "We have 144 (existing data of 12 years in months) data points. Now, we want to forecast for additional 10 yrs (i.e $10 \\times 12 \\text{ months} = 120$ data points).\n",
        "\n",
        "Thus, the start index for `predict()` function would be $144$ and end index would be $144 + 120 = 264$ records/data points."
      ],
      "metadata": {
        "id": "bEbToA6CYyDl"
      }
    },
    {
      "cell_type": "code",
      "source": [
        "# S3.6: Perform prediction for new values. Plot the forecast values\n",
        "arima_forecast = arima_1.predict(start = 144, end = 264, typ = 'levels')\n",
        "plt.figure(figsize=(10, 5))\n",
        "plt.plot(arima_forecast, label = 'Forecast future values')\n",
        "plt.plot(airpass_in_df['#Passengers'], label = 'Original values')\n",
        "plt.legend()\n",
        "plt.show()"
      ],
      "metadata": {
        "colab": {
          "base_uri": "https://localhost:8080/",
          "height": 320
        },
        "id": "F4A46B2pQVFR",
        "outputId": "94f75a20-0138-48a4-c361-a0d66fb75ce5"
      },
      "execution_count": null,
      "outputs": [
        {
          "output_type": "display_data",
          "data": {
            "image/png": "[encoded data removed]",
            "text/plain": [
              "<Figure size 720x360 with 1 Axes>"
            ]
          },
          "metadata": {
            "needs_background": "light"
          }
        }
      ]
    },
    {
      "cell_type": "markdown",
      "source": [
        "From the above plot we can conclude that this ARIMA model is able to capture the upward trend but is not able to capture the **Seasonality** of the time series data.\n",
        "\n",
        "To incorporate the effect of seasonality in time series, we will use another time series forecasting model called as **Seasonal ARIMA** or **SARIMA**.\n",
        "\n",
        "We will stop here. In the next class, we will implement SARIMA model on Air passenger dataset and determine whether it is able to capture seasonality of the time-series data."
      ],
      "metadata": {
        "id": "x9_bjYwL9aHI"
      }
    },
    {
      "cell_type": "markdown",
      "source": [
        "---"
      ],
      "metadata": {
        "id": "u81fcFpXgIBC"
      }
    },
    {
      "cell_type": "markdown",
      "metadata": {
        "id": "HSxAaJkkM-SD"
      },
      "source": [
        "#### Activities\n",
        "\n",
        "\n",
        "**Teacher Activities:**\n",
        "\n",
        "1.   ARIMA V - Grid Search ARIMA (Class Copy)\n",
        "\n",
        "\tLink on Panel\n",
        "\n",
        "2.  ARIMA V - Grid Search ARIMA (Reference)\n",
        "\n",
        "\thttps://colab.research.google.com/drive/1Y6bRLcvyrfdnUNEXlsSppW56X_7fPQZy"
      ]
    },
    {
      "cell_type": "markdown",
      "metadata": {
        "id": "P-pzjbb0HbZw"
      },
      "source": [
        "---"
      ]
    }
  ]
}