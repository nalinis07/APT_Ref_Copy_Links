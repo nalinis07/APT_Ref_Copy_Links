{
  "nbformat": 4,
  "nbformat_minor": 0,
  "metadata": {
    "colab": {
      "provenance": [],
      "toc_visible": true,
      "include_colab_link": true
    },
    "kernelspec": {
      "name": "python3",
      "display_name": "Python 3"
    }
  },
  "cells": [
    {
      "cell_type": "markdown",
      "metadata": {
        "id": "view-in-github",
        "colab_type": "text"
      },
      "source": [
        "<a href=\"https://colab.research.google.com/github/nalinis07/APT_Ref_Copy_Links/blob/MASTER/AT_Lesson_81_Reference.ipynb\" target=\"_parent\"><img src=\"https://colab.research.google.com/assets/colab-badge.svg\" alt=\"Open In Colab\"/></a>"
      ]
    },
    {
      "cell_type": "markdown",
      "metadata": {
        "id": "coak3X1eI-Gs"
      },
      "source": [
        "# Lesson 81: Logistic Regression - Multi-Class Classification II"
      ]
    },
    {
      "cell_type": "markdown",
      "metadata": {
        "id": "ddsV1Z6zmYcR"
      },
      "source": [
        "**WARNING:** The reference notebook is meant **ONLY** for a teacher. Please **DO NOT** share it with any student.\n",
        "\n",
        "The contents of the reference notebook are meant only to prepare a teacher for a class. To conduct the class, use the class copy of the reference notebook. The link and the instructions for the same are provided in the **Notes To The Teacher** section.\n",
        "\n",
        "\n",
        "|Particulars|Description|\n",
        "|-|-|\n",
        "|**Topic**|Logistic Regression - Multi-Class Classification II|\n",
        "|||\n",
        "|**Class Description**|In this class, a student creates a multi-class classification model after applying the oversampling technique|\n",
        "|||\n",
        "|**Class**|C81|\n",
        "|||\n",
        "|**Class Time**|45 minutes|\n",
        "|||\n",
        "|**Goal**|Apply an oversampling technique to balance a multi-class data|\n",
        "||Build a random forest classifier model|\n",
        "|||\n",
        "|**Teacher Resources**|Google Account|\n",
        "||Laptop with internet connectivity|\n",
        "||Earphones with mic|\n",
        "|||\n",
        "|**Student Resources**|Google Account|\n",
        "||Laptop with internet connectivity|\n",
        "||Earphones with mic|"
      ]
    },
    {
      "cell_type": "markdown",
      "metadata": {
        "id": "wuwYT2_nmAr-"
      },
      "source": [
        "---"
      ]
    },
    {
      "cell_type": "markdown",
      "metadata": {
        "id": "elaNnzqZZR9C"
      },
      "source": [
        "### Teacher-Student Activities\n",
        "\n",
        "In the previous class i.e., Logistic Regression - Multi-Class Classification I, we began solving a problem statement based on multiclass-classification. We first built a logistic regression model and it couldn't identify one of the classes. In this class, we will first balance the dataset using the SMOTE oversampling technique. Then we will build a logistic regression model again. Additionally, we will build a random forest classifier model to see which one gives better results for the glass-type classification problem.\n",
        "\n",
        "Let's quickly through the activities covered in the previous class and begin this class from **Activity 1: Oversampling Using SMOTE** section.\n"
      ]
    },
    {
      "cell_type": "markdown",
      "metadata": {
        "id": "YZFZd8ay1aAE"
      },
      "source": [
        "**Dataset Description:**\n",
        "\n",
        "The dataset used in this problem statement involves the classification of samples of different glasses based on their physical and chemical properties. They are as follows:\n",
        "\n",
        "1. **RI:** Refractive Index\n",
        "\n",
        "2. **Na:** Sodium\n",
        "\n",
        "3. **Mg:** Magnesium\n",
        "\n",
        "4. **Al:** Aluminum\n",
        "\n",
        "5. **Si:** Silicon\n",
        "\n",
        "6. **K:** Potassium\n",
        "\n",
        "7. **Ca:** Calcium\n",
        "\n",
        "8. **Ba:** Barium\n",
        "\n",
        "9. **Fe:** Iron\n",
        "\n",
        "The chemical compositions are measured as the weight per cent in the corresponding oxide such as $\\text{Na}_2\\text{O}$, $\\text{Al}_2\\text{O}_3$, $\\text{Si}\\text{O}_2$ etc.\n",
        "\n",
        "There are seven types (classes or labels) of glass listed; they are:\n",
        "\n",
        "* **Class 1:** used for making building windows (float processed)\n",
        "\n",
        "* **Class 2:** used for making building windows (non-float processed)\n",
        "\n",
        "* **Class 3:** used for making vehicle windows (float processed)\n",
        "\n",
        "* **Class 4:** used for making vehicle windows (non-float processed)\n",
        "\n",
        "* **Class 5:** used for making containers\n",
        "\n",
        "* **Class 6:** used for making tableware\n",
        "\n",
        "* **Class 7:** used for making headlamps\n",
        "\n",
        "A float-type glass refers to the process used to make the glass. The molten glass is introduced into a bath of molten tin, causing the glass to float freely. These glasses are used to absorb heat and UV rays.\n",
        "\n",
        "**Dataset credits:** https://archive.ics.uci.edu/ml/datasets/Glass+Identification\n",
        "\n",
        "**Citation:** Dua, D., & Graff, C.. (2017). UCI Machine Learning Repository."
      ]
    },
    {
      "cell_type": "markdown",
      "metadata": {
        "id": "i2AQeeHML2pC"
      },
      "source": [
        "---"
      ]
    },
    {
      "cell_type": "markdown",
      "metadata": {
        "id": "R_eGf00TL3k3"
      },
      "source": [
        "#### Data Preparation\n",
        "\n",
        "So let's go through the routine steps before we build a logistic regression model and explore the dataset.\n",
        "\n",
        "Link to the dataset: https://s3-student-datasets-bucket.whjr.online/whitehat-ds-datasets/glass-types.csv"
      ]
    },
    {
      "cell_type": "code",
      "metadata": {
        "id": "dBZRijsRUXhp",
        "colab": {
          "base_uri": "https://localhost:8080/"
        },
        "outputId": "b422cb1f-5d16-4ce5-c65d-0532573e812f"
      },
      "source": [
        "# Load the dataset.\n",
        "# Import the necessary libraries.\n",
        "import numpy as np\n",
        "import pandas as pd\n",
        "import matplotlib.pyplot as plt\n",
        "import seaborn as sns\n",
        "\n",
        "import warnings\n",
        "warnings.filterwarnings(\"ignore\")\n",
        "\n",
        "# Load the dataset.\n",
        "file_path = 'https://s3-student-datasets-bucket.whjr.online/whitehat-ds-datasets/glass-types.csv'\n",
        "df = pd.read_csv(file_path, header = None)\n",
        "\n",
        "# # Drop the 0th column as it contains only the serial numbers.\n",
        "df.drop(columns = 0, inplace = True)\n",
        "\n",
        "# A Python list containing the suitable column headers as string values. Also, create a Python dictionary as described above.\n",
        "column_headers = ['RI', 'Na', 'Mg', 'Al', 'Si', 'K', 'Ca', 'Ba', 'Fe', 'GlassType']\n",
        "\n",
        "# Required Python dictionary.\n",
        "columns_dict = {}\n",
        "for i in df.columns:\n",
        "  columns_dict[i] = column_headers[i - 1]\n",
        "\n",
        "# Rename the columns.\n",
        "df.rename(columns_dict, axis = 1, inplace = True)\n",
        "\n",
        "# Display the first five rows of the data-frame.\n",
        "print(df.head(), \"\\n\")\n",
        "\n",
        "# Get the information about the dataset.\n",
        "print(df.info(), \"\\n\")\n",
        "\n",
        "# Get the count of each glass-type sample in the dataset.\n",
        "print(df['GlassType'].value_counts(), \"\\n\")\n",
        "\n",
        "# Get the percentage of each glass-type sample in the dataset.\n",
        "round(df['GlassType'].value_counts() * 100 / df.shape[0], 2)"
      ],
      "execution_count": null,
      "outputs": [
        {
          "output_type": "stream",
          "text": [
            "        RI     Na    Mg    Al     Si     K    Ca   Ba   Fe  GlassType\n",
            "0  1.52101  13.64  4.49  1.10  71.78  0.06  8.75  0.0  0.0          1\n",
            "1  1.51761  13.89  3.60  1.36  72.73  0.48  7.83  0.0  0.0          1\n",
            "2  1.51618  13.53  3.55  1.54  72.99  0.39  7.78  0.0  0.0          1\n",
            "3  1.51766  13.21  3.69  1.29  72.61  0.57  8.22  0.0  0.0          1\n",
            "4  1.51742  13.27  3.62  1.24  73.08  0.55  8.07  0.0  0.0          1 \n",
            "\n",
            "<class 'pandas.core.frame.DataFrame'>\n",
            "RangeIndex: 214 entries, 0 to 213\n",
            "Data columns (total 10 columns):\n",
            " #   Column     Non-Null Count  Dtype  \n",
            "---  ------     --------------  -----  \n",
            " 0   RI         214 non-null    float64\n",
            " 1   Na         214 non-null    float64\n",
            " 2   Mg         214 non-null    float64\n",
            " 3   Al         214 non-null    float64\n",
            " 4   Si         214 non-null    float64\n",
            " 5   K          214 non-null    float64\n",
            " 6   Ca         214 non-null    float64\n",
            " 7   Ba         214 non-null    float64\n",
            " 8   Fe         214 non-null    float64\n",
            " 9   GlassType  214 non-null    int64  \n",
            "dtypes: float64(9), int64(1)\n",
            "memory usage: 16.8 KB\n",
            "None \n",
            "\n",
            "2    76\n",
            "1    70\n",
            "7    29\n",
            "3    17\n",
            "5    13\n",
            "6     9\n",
            "Name: GlassType, dtype: int64 \n",
            "\n"
          ],
          "name": "stdout"
        },
        {
          "output_type": "execute_result",
          "data": {
            "text/plain": [
              "2    35.51\n",
              "1    32.71\n",
              "7    13.55\n",
              "3     7.94\n",
              "5     6.07\n",
              "6     4.21\n",
              "Name: GlassType, dtype: float64"
            ]
          },
          "metadata": {
            "tags": []
          },
          "execution_count": 1
        }
      ]
    },
    {
      "cell_type": "markdown",
      "metadata": {
        "id": "9xeFVCBByWXE"
      },
      "source": [
        "Through percentages, we can clearly see the imbalance in the dataset."
      ]
    },
    {
      "cell_type": "markdown",
      "metadata": {
        "id": "grMeaHzsG53y"
      },
      "source": [
        "---"
      ]
    },
    {
      "cell_type": "markdown",
      "metadata": {
        "id": "_w690ckUv0qQ"
      },
      "source": [
        "#### Preliminary Model Building\n",
        "\n",
        "Building a logistic regression model first without balancing the dataset."
      ]
    },
    {
      "cell_type": "code",
      "metadata": {
        "id": "u0yVYJbqmLAZ",
        "colab": {
          "base_uri": "https://localhost:8080/"
        },
        "outputId": "3243b961-0d1a-4102-bfdb-990e8b977971"
      },
      "source": [
        "# Create separate data-frames for training and testing the model.\n",
        "from sklearn.model_selection import train_test_split\n",
        "\n",
        "# Creating the features data-frame holding all the columns except the last column\n",
        "x = df.iloc[:, :-1]\n",
        "print(f\"First five rows of the features data-frame:\\n{x.head()}\\n\")\n",
        "\n",
        "# Creating the target series that holds last column 'RainTomorrow'\n",
        "y = df['GlassType']\n",
        "print(f\"First five rows of the GlassType column:\\n{y.head()}\")\n",
        "\n",
        "# Splitting the train and test sets using the 'train_test_split()' function.\n",
        "x_train, x_test, y_train, y_test = train_test_split(x, y, test_size = 0.3, random_state = 42)"
      ],
      "execution_count": null,
      "outputs": [
        {
          "output_type": "stream",
          "text": [
            "First five rows of the features data-frame:\n",
            "        RI     Na    Mg    Al     Si     K    Ca   Ba   Fe\n",
            "0  1.52101  13.64  4.49  1.10  71.78  0.06  8.75  0.0  0.0\n",
            "1  1.51761  13.89  3.60  1.36  72.73  0.48  7.83  0.0  0.0\n",
            "2  1.51618  13.53  3.55  1.54  72.99  0.39  7.78  0.0  0.0\n",
            "3  1.51766  13.21  3.69  1.29  72.61  0.57  8.22  0.0  0.0\n",
            "4  1.51742  13.27  3.62  1.24  73.08  0.55  8.07  0.0  0.0\n",
            "\n",
            "First five rows of the GlassType column:\n",
            "0    1\n",
            "1    1\n",
            "2    1\n",
            "3    1\n",
            "4    1\n",
            "Name: GlassType, dtype: int64\n"
          ],
          "name": "stdout"
        }
      ]
    },
    {
      "cell_type": "code",
      "metadata": {
        "id": "IskflWOh_RHE",
        "colab": {
          "base_uri": "https://localhost:8080/"
        },
        "outputId": "97c194e1-7348-4890-bd36-d263c9a01a94"
      },
      "source": [
        "# Build a logistic regression model using the 'sklearn' module.\n",
        "from sklearn.linear_model import LogisticRegression\n",
        "\n",
        "# 1. First, call the 'LogisticRegression' module and store it in lg_clg\n",
        "lg_clf = LogisticRegression()\n",
        "\n",
        "# 2. Call the 'fit()' function with 'x_train' and 'y_train' as inputs.\n",
        "lg_clf.fit(x_train, y_train)\n",
        "\n",
        "# 3. Call the 'score()' function with 'x_train' and 'y_train' as inputs to check the accuracy score of the model.\n",
        "lg_clf.score(x_train, y_train)"
      ],
      "execution_count": null,
      "outputs": [
        {
          "output_type": "execute_result",
          "data": {
            "text/plain": [
              "0.6174496644295302"
            ]
          },
          "metadata": {
            "tags": []
          },
          "execution_count": 3
        }
      ]
    },
    {
      "cell_type": "markdown",
      "metadata": {
        "id": "ixG6mvrNHFTW"
      },
      "source": [
        "The accuracy score of the preliminary multi-class classification model built using logistic regression is 61.75%"
      ]
    },
    {
      "cell_type": "code",
      "metadata": {
        "colab": {
          "base_uri": "https://localhost:8080/"
        },
        "id": "LY4yodj0jugK",
        "outputId": "f8f58fa9-6d1b-4285-bff2-430b3cdbc2dc"
      },
      "source": [
        "# Get the target values predicted by the logistic regression model and print the targets (or classes/labels) detected by it.\n",
        "y_train_predict = lg_clf.predict(x_train)\n",
        "y_train_predict = pd.Series(y_train_predict)\n",
        "\n",
        "print(\"Classes or labels identified by the logistic regression model:\\n\", y_train_predict.unique())\n",
        "print(\"\\nCount of the labels identified by the logistic regression model:\")\n",
        "print(y_train_predict.value_counts())"
      ],
      "execution_count": null,
      "outputs": [
        {
          "output_type": "stream",
          "text": [
            "Classes or labels identified by the logistic regression model:\n",
            " [2 1 6 5 7]\n",
            "\n",
            "Count of the labels identified by the logistic regression model:\n",
            "2    63\n",
            "1    62\n",
            "7    18\n",
            "6     3\n",
            "5     3\n",
            "dtype: int64\n"
          ],
          "name": "stdout"
        }
      ]
    },
    {
      "cell_type": "markdown",
      "metadata": {
        "id": "X8XK4xN6HVxG"
      },
      "source": [
        "Class `3` for the train set is not identified by the model built."
      ]
    },
    {
      "cell_type": "code",
      "metadata": {
        "colab": {
          "base_uri": "https://localhost:8080/"
        },
        "id": "q_8nc2VG06BP",
        "outputId": "8d897701-2075-4d83-87fe-e5c97dcf0b7f"
      },
      "source": [
        "# Get the target values predicted by the logistic regression model on the test set.\n",
        "y_test_predict = pd.Series(lg_clf.predict(x_test))\n",
        "\n",
        "print(\"Classes or labels identified by the logistic regression model on the test set:\\n\", y_test_predict.unique())\n",
        "print(\"\\nCount of the labels identified by the logistic regression model on the test set:\")\n",
        "print(y_test_predict.value_counts())"
      ],
      "execution_count": null,
      "outputs": [
        {
          "output_type": "stream",
          "text": [
            "Classes or labels identified by the logistic regression model on the test set:\n",
            " [1 7 2 5]\n",
            "\n",
            "Count of the labels identified by the logistic regression model on the test set:\n",
            "2    29\n",
            "1    22\n",
            "7    13\n",
            "5     1\n",
            "dtype: int64\n"
          ],
          "name": "stdout"
        }
      ]
    },
    {
      "cell_type": "markdown",
      "metadata": {
        "id": "TkfAW6apHjZW"
      },
      "source": [
        "Classes `2` and `3` for the test set are not identified by the model built."
      ]
    },
    {
      "cell_type": "markdown",
      "metadata": {
        "id": "AAZR0w9Po1QP"
      },
      "source": [
        "---"
      ]
    },
    {
      "cell_type": "markdown",
      "metadata": {
        "id": "KXf3G_4Y2JJc"
      },
      "source": [
        "#### Activity 1: Oversampling Using SMOTE^\n",
        "\n",
        "We will now apply the SMOTE method to synthesize the artificial data points in the training dataset to increase the data points for a minority class.\n",
        "\n",
        "To apply the `SMOTE` method, we have to follow the steps given below:\n",
        "\n",
        "1. Import the `SMOTE` module from the `imblearn.over_sampling` library.\n",
        "\n",
        "2. Call the `SMOTE()` function. Inside the function:\n",
        "   - Pass `sampling_strategy = \"all\"` parameter as an input. It denotes that after resampling the dataset, the data points for both the majority and minority class should be in equal numbers. In this case, class `2` has `53` data points and other classes have lesser data points. So they should also have `53` rows each.\n",
        "\n",
        "   - Pass another parameter `random_state = 42` as an input to randomise the synthesis of new data points for the minority classes.\n",
        "\n",
        "3. Apply the `fit_resample()` function from the `SMOTE` module to synthesize data for the minority class."
      ]
    },
    {
      "cell_type": "code",
      "metadata": {
        "id": "bJ2wrHTZ2xW_"
      },
      "source": [
        "# S1.1: Apply the 'SMOTE()' function to balance the training data.\n",
        "\n",
        "# Import the 'SMOTE' module from the 'imblearn.over_sampling' library.\n",
        "from imblearn.over_sampling import SMOTE\n",
        "\n",
        "# Call the 'SMOTE()' function and store it in the 'smote' variable.\n",
        "smote = SMOTE(sampling_strategy = \"all\", random_state = 42)\n",
        "\n",
        "# Call the 'fit_sample()' function with 'x_train' and 'y_train' datasets as inputs.\n",
        "x_train_resampled, y_train_resampled = smote.fit_resample(x_train, y_train)"
      ],
      "execution_count": null,
      "outputs": []
    },
    {
      "cell_type": "markdown",
      "metadata": {
        "id": "Cb0uGAvc20tv"
      },
      "source": [
        "In the code above:\n",
        "\n",
        "1. We are storing the `SMOTE(sampling_strategy = \"all\", random_state = 42)` function in the `smote` variable.\n",
        "\n",
        "2. Then, we are generating the artificial values for both the feature and target values using the `fit_resample()` function and then storing them in the `x_train_resampled` and `y_train_resampled` variables, respectively.\n",
        "\n",
        "Let's check the type and shapes of the resampled datasets."
      ]
    },
    {
      "cell_type": "code",
      "metadata": {
        "colab": {
          "base_uri": "https://localhost:8080/"
        },
        "id": "VqBsEJFF22g2",
        "outputId": "1622d275-bb66-4f1c-987f-b9fb5628621b"
      },
      "source": [
        "# S1.2: Check the data-types and shapes of the 'x_train', 'x_train_resampled' and 'y_train_resampled' datasets.\n",
        "print(type(x_train), x_train.shape)\n",
        "print(type(x_train_resampled), x_train_resampled.shape)\n",
        "print(type(y_train_resampled), y_train_resampled.shape)"
      ],
      "execution_count": null,
      "outputs": [
        {
          "output_type": "stream",
          "text": [
            "<class 'pandas.core.frame.DataFrame'> (149, 9)\n",
            "<class 'numpy.ndarray'> (318, 9)\n",
            "<class 'numpy.ndarray'> (318,)\n"
          ],
          "name": "stdout"
        }
      ]
    },
    {
      "cell_type": "markdown",
      "metadata": {
        "id": "LhzKpFVmGeT-"
      },
      "source": [
        "Now let's print the count of each class in the `y_train_resampled` to check whether all the classes have an equal number of occurrences."
      ]
    },
    {
      "cell_type": "code",
      "metadata": {
        "colab": {
          "base_uri": "https://localhost:8080/"
        },
        "id": "UonTmzmn4aQ-",
        "outputId": "3af562a2-b5ef-4844-9911-447425bf76ae"
      },
      "source": [
        "# S1.3: Print the count of all the classes in the train set.\n",
        "y_train_resampled.value_counts()"
      ],
      "execution_count": null,
      "outputs": [
        {
          "output_type": "execute_result",
          "data": {
            "text/plain": [
              "7    53\n",
              "6    53\n",
              "5    53\n",
              "3    53\n",
              "2    53\n",
              "1    53\n",
              "dtype: int64"
            ]
          },
          "metadata": {
            "tags": []
          },
          "execution_count": 8
        }
      ]
    },
    {
      "cell_type": "markdown",
      "metadata": {
        "id": "JACw72YyImAs"
      },
      "source": [
        "---"
      ]
    },
    {
      "cell_type": "markdown",
      "metadata": {
        "id": "lAvLDnQ9IlBx"
      },
      "source": [
        "#### Activity 2: Building Model Again\n",
        "\n",
        "Now, let's build a logistic regression model again to classify different glass-types with the resampled train set and see whether this time the accuracy score is better."
      ]
    },
    {
      "cell_type": "code",
      "metadata": {
        "colab": {
          "base_uri": "https://localhost:8080/"
        },
        "id": "Eta_uPnN-3KZ",
        "outputId": "27ed1da6-f9de-4ece-90b4-05cf2b3ef9de"
      },
      "source": [
        "# S2.1: Build a logistic regression model again with the resampled train set.\n",
        "lg_clf2 = LogisticRegression()\n",
        "\n",
        "lg_clf2.fit(x_train_resampled, y_train_resampled)\n",
        "\n",
        "lg_clf2.score(x_train_resampled, y_train_resampled)"
      ],
      "execution_count": null,
      "outputs": [
        {
          "output_type": "execute_result",
          "data": {
            "text/plain": [
              "0.720125786163522"
            ]
          },
          "metadata": {
            "tags": []
          },
          "execution_count": 9
        }
      ]
    },
    {
      "cell_type": "markdown",
      "metadata": {
        "id": "fNreZIt1Jsxh"
      },
      "source": [
        "So before resampling the train set, the model accuracy was 61.75% approx. After resampling, the accuracy score has increased to 72.01% approx. So clearly, the resampling technique has improved the overall accuracy of the model. However, let's just check again whether all the classes are identified or not.\n"
      ]
    },
    {
      "cell_type": "code",
      "metadata": {
        "id": "RHOZv4Z8FiPW",
        "colab": {
          "base_uri": "https://localhost:8080/"
        },
        "outputId": "77df466e-46f0-487f-c6b6-1020c3ba8684"
      },
      "source": [
        "# S2.2: Predict the classes on the train set using the 'predict()' function of the 'LogisticRegression' class.\n",
        "y_train_resampled_pred = pd.Series(lg_clf2.predict(x_train_resampled))\n",
        "y_train_resampled_pred.value_counts()"
      ],
      "execution_count": null,
      "outputs": [
        {
          "output_type": "execute_result",
          "data": {
            "text/plain": [
              "1    60\n",
              "6    59\n",
              "5    56\n",
              "3    49\n",
              "7    47\n",
              "2    47\n",
              "dtype: int64"
            ]
          },
          "metadata": {
            "tags": []
          },
          "execution_count": 10
        }
      ]
    },
    {
      "cell_type": "markdown",
      "metadata": {
        "id": "V0gggjTWKh6n"
      },
      "source": [
        "The logistic regression model has identified all the classes in the train set.\n",
        "\n",
        "Let's also look at how a confusion matrix would look like in the case of multi-class classification."
      ]
    },
    {
      "cell_type": "markdown",
      "metadata": {
        "id": "g1Sw8C012w6j"
      },
      "source": [
        "---"
      ]
    },
    {
      "cell_type": "markdown",
      "metadata": {
        "id": "elzFULL_JnIp"
      },
      "source": [
        "#### Activity 3: Multi-class Classification Confusion Matrix and Classification Report^^\n",
        "\n",
        "The layout of the confusion matrix in this case (or in general, in the case of multi-class classification) should be as follows:\n",
        "\n",
        "\n",
        "||Predicted Class `1`|Predicted Class `2`|Predicted Class `3`|Predicted Class `5`|Predicted Class `6`|Predicted Class `7`|\n",
        "|-|-|-|-|-|-|-|\n",
        "|Actual Class `1`|TP||||||\n",
        "|Actual Class `2`||TP|||||\n",
        "|Actual Class `3`|||TP||||\n",
        "|Actual Class `5`||||TP|||\n",
        "|Actual Class `6`|||||TP||\n",
        "|Actual Class `7`||||||TP|\n",
        "\n",
        "\n",
        "So the confusion matrix should have 6 rows and 6 columns because there are 6 classes (1, 2, 3, 5, 6 and 7) to be identified."
      ]
    },
    {
      "cell_type": "code",
      "metadata": {
        "colab": {
          "base_uri": "https://localhost:8080/"
        },
        "id": "p2YUUsUDBWRt",
        "outputId": "810e9b6d-7190-4ea7-84ef-3b066208214b"
      },
      "source": [
        "# S3.1: Create a confusion matrix between the actual and the predicted 'y_train_resampled' values.\n",
        "from sklearn.metrics import confusion_matrix, classification_report\n",
        "\n",
        "conf_matrix = confusion_matrix(y_train_resampled, y_train_resampled_pred)\n",
        "conf_matrix"
      ],
      "execution_count": null,
      "outputs": [
        {
          "output_type": "execute_result",
          "data": {
            "text/plain": [
              "array([[32,  8, 13,  0,  0,  0],\n",
              "       [10, 24, 11,  3,  5,  0],\n",
              "       [18, 11, 24,  0,  0,  0],\n",
              "       [ 0,  0,  0, 51,  0,  2],\n",
              "       [ 0,  0,  0,  0, 53,  0],\n",
              "       [ 0,  4,  1,  2,  1, 45]])"
            ]
          },
          "metadata": {
            "tags": []
          },
          "execution_count": 11
        }
      ]
    },
    {
      "cell_type": "markdown",
      "metadata": {
        "id": "olbzXUsJJMSL"
      },
      "source": [
        "The diagonal elements in the confusion matrix are the true positive values. So according to the above confusion matrix obtained:\n",
        "\n",
        "- 32 values of class `1` are **correctly** predicted as class `1` and 8 and 13 values are incorrectly predicted as class `2` and class `3` respectively.\n",
        "\n",
        "- 24 values of class `2` are **correctly** predicted as class `2` and 10, 11, 3 and 5 values are incorrectly predicted as class `1`, class `3`, class `5` and class `6` respectively.\n",
        "\n",
        "- 24 values of class `3` are **correctly** predicted as class `3` and 18 and 11 values are incorrectly predicted as class `1` and class `2` respectively.\n",
        "\n",
        "- 51 values of class `5` are **correctly** predicted as class `5` and 2 values are incorrectly predicted as class `7`.\n",
        "\n",
        "- 53 values of class `6` are **correctly** predicted as class `6`.\n",
        "\n",
        "- 45 values of class `7` are **correctly** predicted as class `7` and 4, 1, 2 and 1 values are incorrectly predicted as class `2`, class `3`, class `5` and class `6` respectively.\n",
        "\n",
        "**Note:** The values reported in the above confusion matrix may vary slightly every time you build a logistic regression model again.\n",
        "\n",
        "Now let's label the rows and columns of the confusion matrix with the classes so that it is easier to distinguish between the classes in the case of multi-class classification. For this, we will create a Pandas DataFrame object for the confusion matrix. Currently, it is a NumPy array object. Then, we will create a heatmap for the confusion matrix data-frame."
      ]
    },
    {
      "cell_type": "code",
      "metadata": {
        "colab": {
          "base_uri": "https://localhost:8080/",
          "height": 420
        },
        "id": "s9UdS6f_c4N1",
        "outputId": "170dcbbb-4385-4229-eca5-3dc72b358d74"
      },
      "source": [
        "# S3.2: Recreate the confusion matrix between the actual and predicted 'y_train_resampled' values with the row and column labels.\n",
        "# Create an array containing all the unique labels in increasing order.\n",
        "labels = pd.Series(y_train_resampled).sort_values(ascending = True).unique()\n",
        "\n",
        "# Create a Pandas DataFrame object for the confusion matrix created above labelled with the classes.\n",
        "cm_df = pd.DataFrame(conf_matrix, columns = labels, index = labels)\n",
        "\n",
        "# Create a heatmap for the confusion matrix.\n",
        "plt.figure(figsize = (10, 5), dpi = 96)\n",
        "sns.heatmap(cm_df, annot = True)\n",
        "plt.show()"
      ],
      "execution_count": null,
      "outputs": [
        {
          "output_type": "display_data",
          "data": {
            "image/png": "[encoded data removed]",
            "text/plain": [
              "<Figure size 960x480 with 2 Axes>"
            ]
          },
          "metadata": {
            "tags": [],
            "needs_background": "light"
          }
        }
      ]
    },
    {
      "cell_type": "markdown",
      "metadata": {
        "id": "REG1fBkwm5PH"
      },
      "source": [
        "As you can see, all the rows and columns of the confusion matrix are now labelled and you can easily distinguish between the values reported for different classes in the matrix.\n",
        "\n",
        "Now let's print the precision, recall and f1-score values to further assess the efficacy of the model built."
      ]
    },
    {
      "cell_type": "code",
      "metadata": {
        "colab": {
          "base_uri": "https://localhost:8080/"
        },
        "id": "iExxTwlhbbcx",
        "outputId": "2c10b88d-d9bf-4b8e-9894-1d7a8b8142a8"
      },
      "source": [
        "# S3.3: Print the classification report for the test set.\n",
        "print(classification_report(y_train_resampled, y_train_resampled_pred))"
      ],
      "execution_count": null,
      "outputs": [
        {
          "output_type": "stream",
          "text": [
            "              precision    recall  f1-score   support\n",
            "\n",
            "           1       0.53      0.60      0.57        53\n",
            "           2       0.51      0.45      0.48        53\n",
            "           3       0.49      0.45      0.47        53\n",
            "           5       0.91      0.96      0.94        53\n",
            "           6       0.90      1.00      0.95        53\n",
            "           7       0.96      0.85      0.90        53\n",
            "\n",
            "    accuracy                           0.72       318\n",
            "   macro avg       0.72      0.72      0.72       318\n",
            "weighted avg       0.72      0.72      0.72       318\n",
            "\n"
          ],
          "name": "stdout"
        }
      ]
    },
    {
      "cell_type": "markdown",
      "metadata": {
        "id": "hHC2AdtfeShU"
      },
      "source": [
        "So for classes `1, 2` and `3`, the f1-scores are less than 0.60 because of which the overall accuracy of the model is 72.01%"
      ]
    },
    {
      "cell_type": "markdown",
      "metadata": {
        "id": "p7rcYMYVbhSR"
      },
      "source": [
        "---\n"
      ]
    },
    {
      "cell_type": "markdown",
      "metadata": {
        "id": "FmA3NCtaewpO"
      },
      "source": [
        "#### Activity 4: Building Random Forest Classifier Model^^^\n",
        "\n",
        "So even the oversampling approach didn't help us with identifying all the classes accurately through the logistic regression model. Let's try to classify the different types of glasses using the Random Forest Classifier model."
      ]
    },
    {
      "cell_type": "code",
      "metadata": {
        "id": "NPUiqkjRYSbN",
        "colab": {
          "base_uri": "https://localhost:8080/"
        },
        "outputId": "7e146f5d-8e19-47c0-965d-1b22e36c649e"
      },
      "source": [
        "# S4.1: Build a random forest classifier model to predict different glass-types.\n",
        "# Import the 'RandomForestClassifier' module.\n",
        "from sklearn.ensemble import RandomForestClassifier\n",
        "\n",
        "# Create an object of the 'RandomForestClassifier' class and store it in the 'rf_clf' variable.\n",
        "rf_clf = RandomForestClassifier()\n",
        "\n",
        "# Call the 'fit()' function on the 'RandomForestClassifier' object with 'x_train' and 'y_train' as inputs.\n",
        "rf_clf.fit(x_train, y_train)\n",
        "\n",
        "# Call the 'score()' function with 'x_train' and 'y_train' as inputs to check the accuracy score of the model.\n",
        "rf_clf.score(x_train, y_train)"
      ],
      "execution_count": null,
      "outputs": [
        {
          "output_type": "execute_result",
          "data": {
            "text/plain": [
              "1.0"
            ]
          },
          "metadata": {
            "tags": []
          },
          "execution_count": 14
        }
      ]
    },
    {
      "cell_type": "markdown",
      "metadata": {
        "id": "Dhw8b0y5miSW"
      },
      "source": [
        "So the accuracy score obtained is 100% on the train set. Let's make a confusion matrix and print the f1-scores."
      ]
    },
    {
      "cell_type": "code",
      "metadata": {
        "colab": {
          "base_uri": "https://localhost:8080/"
        },
        "id": "Jhc5-l2lbsN3",
        "outputId": "da24e328-feef-40f2-b85e-1be5c2fbbcc1"
      },
      "source": [
        "# S4.2: Make predictions on the train set and print the count of each of the classes predicted.\n",
        "rf_y_train_pred = pd.Series(rf_clf.predict(x_train))\n",
        "rf_y_train_pred.value_counts()"
      ],
      "execution_count": null,
      "outputs": [
        {
          "output_type": "execute_result",
          "data": {
            "text/plain": [
              "2    53\n",
              "1    51\n",
              "7    19\n",
              "3    13\n",
              "5     7\n",
              "6     6\n",
              "dtype: int64"
            ]
          },
          "metadata": {
            "tags": []
          },
          "execution_count": 15
        }
      ]
    },
    {
      "cell_type": "markdown",
      "metadata": {
        "id": "OE43bCYLnAGr"
      },
      "source": [
        "So all the classes have been identified which is expected because the accuracy score is 1."
      ]
    },
    {
      "cell_type": "code",
      "metadata": {
        "colab": {
          "base_uri": "https://localhost:8080/",
          "height": 420
        },
        "id": "2uE_TRR_b369",
        "outputId": "58b69685-6533-42a1-f53f-bbfc6a924bf6"
      },
      "source": [
        "# S4.3: Create the confusion matrix between the actual and the predicted values for the train set.\n",
        "rf_train_conf_matrix = confusion_matrix(y_train, rf_y_train_pred)\n",
        "\n",
        "# Create a Pandas DataFrame object for the confusion matrix created above labelled with the classes.\n",
        "rf_train_cm_df = pd.DataFrame(rf_train_conf_matrix, columns = labels, index = labels)\n",
        "\n",
        "# Create a heatmap for the confusion matrix.\n",
        "plt.figure(figsize = (10, 5), dpi = 96)\n",
        "sns.heatmap(rf_train_cm_df, annot = True)\n",
        "plt.show()"
      ],
      "execution_count": null,
      "outputs": [
        {
          "output_type": "display_data",
          "data": {
            "image/png": "[encoded data removed]",
            "text/plain": [
              "<Figure size 960x480 with 2 Axes>"
            ]
          },
          "metadata": {
            "tags": [],
            "needs_background": "light"
          }
        }
      ]
    },
    {
      "cell_type": "markdown",
      "metadata": {
        "id": "sM_nWVK0rvPr"
      },
      "source": [
        "The above confusion matrix contains only true positive values. So we don't need to calculate the f1-scores because they all will be 1 for all the glass-types. So let's create a confusion matrix and calculate f1-scores for the test set."
      ]
    },
    {
      "cell_type": "code",
      "metadata": {
        "colab": {
          "base_uri": "https://localhost:8080/",
          "height": 425
        },
        "id": "yqXCtCqZb_j3",
        "outputId": "cde0792a-d3c4-4586-9f11-f9a34a07f5a5"
      },
      "source": [
        "# S4.4: Create the confusion matrix between the actual and predicted values for the test set.\n",
        "rf_y_test_pred = pd.Series(rf_clf.predict(x_test))\n",
        "\n",
        "rf_test_conf_matrix = confusion_matrix(y_test, rf_y_test_pred)\n",
        "\n",
        "# Create a Pandas DataFrame object for the confusion matrix created above labelled with the classes.\n",
        "rf_test_cm_df = pd.DataFrame(rf_test_conf_matrix, columns = labels, index = labels)\n",
        "\n",
        "# Create a heatmap for the confusion matrix.\n",
        "plt.figure(figsize = (10, 5), dpi = 96)\n",
        "sns.heatmap(rf_test_cm_df, annot = True)\n",
        "plt.show()"
      ],
      "execution_count": null,
      "outputs": [
        {
          "output_type": "display_data",
          "data": {
            "image/png": "[encoded data removed]",
            "text/plain": [
              "<Figure size 960x480 with 2 Axes>"
            ]
          },
          "metadata": {
            "tags": [],
            "needs_background": "light"
          }
        }
      ]
    },
    {
      "cell_type": "markdown",
      "metadata": {
        "id": "0KMu0eQrtV-C"
      },
      "source": [
        "From the confusion matrix, we can see that there is some misclassification. Let's print the f1-scores for the test set values."
      ]
    },
    {
      "cell_type": "code",
      "metadata": {
        "colab": {
          "base_uri": "https://localhost:8080/"
        },
        "id": "Acr16-_5tNRy",
        "outputId": "d5924243-a32f-4c85-c01a-741e1445f1a4"
      },
      "source": [
        "# S4.5: Print the classification report for the test set.\n",
        "print(classification_report(y_test, rf_y_test_pred))"
      ],
      "execution_count": null,
      "outputs": [
        {
          "output_type": "stream",
          "text": [
            "              precision    recall  f1-score   support\n",
            "\n",
            "           1       0.69      0.95      0.80        19\n",
            "           2       0.78      0.61      0.68        23\n",
            "           3       0.67      0.50      0.57         4\n",
            "           5       0.75      0.50      0.60         6\n",
            "           6       0.75      1.00      0.86         3\n",
            "           7       1.00      1.00      1.00        10\n",
            "\n",
            "    accuracy                           0.77        65\n",
            "   macro avg       0.77      0.76      0.75        65\n",
            "weighted avg       0.78      0.77      0.76        65\n",
            "\n"
          ],
          "name": "stdout"
        }
      ]
    },
    {
      "cell_type": "markdown",
      "metadata": {
        "id": "KpUjWfoavgXR"
      },
      "source": [
        "So the f1-score is low only for class `3` maybe because it is a minority class. The random forest classifier is working well for all other classes on the non-resampled dataset because for all the labels, the f1-scores are greater than 0.50.\n",
        "\n",
        "Let's see how it performs when we build it again on the resampled train set."
      ]
    },
    {
      "cell_type": "code",
      "metadata": {
        "colab": {
          "base_uri": "https://localhost:8080/"
        },
        "id": "y1WCy_fQv9W7",
        "outputId": "8d5fe175-4387-4ab0-b899-84ff07fc5b31"
      },
      "source": [
        "# S4.6: Build a random forest classifier model on the resampled train set.\n",
        "rf_clf_res = RandomForestClassifier()\n",
        "\n",
        "# Call the 'fit()' function on the 'RandomForestClassifier' object with 'x_train' and 'y_train' as inputs.\n",
        "rf_clf_res.fit(x_train_resampled, y_train_resampled)\n",
        "\n",
        "# Call the 'score()' function with 'x_train' and 'y_train' as inputs to check the accuracy score of the model.\n",
        "rf_clf_res.score(x_train_resampled, y_train_resampled)"
      ],
      "execution_count": null,
      "outputs": [
        {
          "output_type": "execute_result",
          "data": {
            "text/plain": [
              "1.0"
            ]
          },
          "metadata": {
            "tags": []
          },
          "execution_count": 19
        }
      ]
    },
    {
      "cell_type": "markdown",
      "metadata": {
        "id": "kp9ksggVmjcO"
      },
      "source": [
        "The accuracy score is almost 100% in this case."
      ]
    },
    {
      "cell_type": "code",
      "metadata": {
        "colab": {
          "base_uri": "https://localhost:8080/",
          "height": 420
        },
        "id": "_PcXdkXIwNZG",
        "outputId": "fe54ab4a-31bb-42ba-bad5-400cf5cdb901"
      },
      "source": [
        "# S4.7: Create a confusion matrix on the test set directly.\n",
        "# Get the predicted labels on the test set obtained from the RFC model built on the resample train set.\n",
        "rf_y_test_pred_res = pd.Series(rf_clf_res.predict(x_test))\n",
        "\n",
        "# Create a confusion matrix.\n",
        "rf_test_conf_matrix_res = confusion_matrix(y_test, rf_y_test_pred_res)\n",
        "\n",
        "# Create a Pandas DataFrame object for the confusion matrix created above and labelled with the classes.\n",
        "rf_test_cm_df_res = pd.DataFrame(rf_test_conf_matrix_res, columns = labels, index = labels)\n",
        "\n",
        "# Create a heatmap for the confusion matrix.\n",
        "plt.figure(figsize = (10, 5), dpi = 96)\n",
        "sns.heatmap(rf_test_cm_df_res, annot = True)\n",
        "plt.show()"
      ],
      "execution_count": null,
      "outputs": [
        {
          "output_type": "display_data",
          "data": {
            "image/png": "[encoded data removed]",
            "text/plain": [
              "<Figure size 960x480 with 2 Axes>"
            ]
          },
          "metadata": {
            "tags": [],
            "needs_background": "light"
          }
        }
      ]
    },
    {
      "cell_type": "markdown",
      "metadata": {
        "id": "X8qCaYvM0Zy4"
      },
      "source": [
        "From the above confusion matrix, we can see that there is some misclassification of the classes for the test set.\n",
        "\n",
        "Let's print the classification report to see if there is any further improvement in the f1-scores especially for class `3`."
      ]
    },
    {
      "cell_type": "code",
      "metadata": {
        "colab": {
          "base_uri": "https://localhost:8080/"
        },
        "id": "FxsXabBb1pTP",
        "outputId": "6a613a1f-3aa0-4440-8ffd-3b53411c8ba8"
      },
      "source": [
        "# S4.8: Print the classification report for the test set.\n",
        "print(classification_report(y_test, rf_y_test_pred_res))"
      ],
      "execution_count": null,
      "outputs": [
        {
          "output_type": "stream",
          "text": [
            "              precision    recall  f1-score   support\n",
            "\n",
            "           1       0.71      0.79      0.75        19\n",
            "           2       0.83      0.65      0.73        23\n",
            "           3       0.33      0.50      0.40         4\n",
            "           5       0.57      0.67      0.62         6\n",
            "           6       0.75      1.00      0.86         3\n",
            "           7       1.00      0.90      0.95        10\n",
            "\n",
            "    accuracy                           0.74        65\n",
            "   macro avg       0.70      0.75      0.72        65\n",
            "weighted avg       0.77      0.74      0.74        65\n",
            "\n"
          ],
          "name": "stdout"
        }
      ]
    },
    {
      "cell_type": "markdown",
      "metadata": {
        "id": "GEm9kAuw1wHH"
      },
      "source": [
        "From the classification report, we can see that the f1-scores have decreased probably because of oversampling in the case of the random forest classifier based multi-class classification model. Hence, the previous random forest classifier model (without oversampling) is the most accurate one for this problem statement.\n",
        "\n",
        "So this is it. You have now learnt how to solve multi-class classification problems using both logistic regression and random forest classification.\n",
        "\n",
        "Let's stop here. In the next class, you will learn a new machine learning algorithm called Support Vector Machines."
      ]
    },
    {
      "cell_type": "markdown",
      "metadata": {
        "id": "auX37aReoKMH"
      },
      "source": [
        "---"
      ]
    },
    {
      "cell_type": "markdown",
      "metadata": {
        "id": "5BsJI2KkoLZu"
      },
      "source": [
        "### Activities\n",
        "\n",
        "**Teacher Activities:**\n",
        "\n",
        "1. Logistic Regression - Multiclass Classification II (Class Copy)\n",
        "   \n",
        "   Link on Panel\n",
        "\n",
        "2. Logistic Regression - Multiclass Classification II (Reference)\n",
        "\n",
        "   Link on Panel"
      ]
    },
    {
      "cell_type": "markdown",
      "metadata": {
        "id": "wbHWUxIyoK_h"
      },
      "source": [
        "---"
      ]
    }
  ]
}