{
  "nbformat": 4,
  "nbformat_minor": 0,
  "metadata": {
    "colab": {
      "provenance": [],
      "toc_visible": true,
      "include_colab_link": true
    },
    "kernelspec": {
      "name": "python3",
      "display_name": "Python 3"
    },
    "language_info": {
      "name": "python"
    }
  },
  "cells": [
    {
      "cell_type": "markdown",
      "metadata": {
        "id": "view-in-github",
        "colab_type": "text"
      },
      "source": [
        "<a href=\"https://colab.research.google.com/github/nalinis07/APT_Ref_Copy_Links/blob/MASTER/AT_Lesson_103_Reference_v0.ipynb\" target=\"_parent\"><img src=\"https://colab.research.google.com/assets/colab-badge.svg\" alt=\"Open In Colab\"/></a>"
      ]
    },
    {
      "cell_type": "markdown",
      "metadata": {
        "id": "QS8OF6apCzP4"
      },
      "source": [
        "# Lesson 103: Polynomial Regression - Polynomials"
      ]
    },
    {
      "cell_type": "markdown",
      "metadata": {
        "id": "G2IKhs2pV9bQ"
      },
      "source": [
        "**WARNING:** The reference notebook is meant **ONLY** for a teacher. Please **DO NOT** share it with any student.\n",
        "\n",
        "The contents of the reference notebook are meant only to prepare a teacher for a class. To conduct the class, use the class copy of the reference notebook. The link and the instructions for the same are provided in the **Notes To The Teacher** section.\n",
        "\n",
        "\n",
        "|Particulars|Description|\n",
        "|-|-|\n",
        "|**Topic**|Polynomial Regression - Polynomials|\n",
        "|||\n",
        "|**Class Description**|In this class, a student learns about the Polynomials in Python.|\n",
        "|||\n",
        "|**Class**|103|\n",
        "|||\n",
        "|**Class Time**|55 minutes|\n",
        "|||\n",
        "|**Goal**|Create Polynomial Expressions using NumPy|\n",
        "||Evaluate Polynomial Expressions|\n",
        "||Types of Polynomial Expressions|\n",
        "|||\n",
        "|**Teacher Resources**|Google Account|\n",
        "||Laptop with internet connectivity|\n",
        "||Earphones with mic|\n",
        "|||\n",
        "|**Student Resources**|Google Account|\n",
        "||Laptop with internet connectivity|\n",
        "||Earphones with mic|"
      ]
    },
    {
      "cell_type": "markdown",
      "metadata": {
        "id": "1heWurFuXANo"
      },
      "source": [
        "---"
      ]
    },
    {
      "cell_type": "markdown",
      "metadata": {
        "id": "yVIfk3FFjFSq"
      },
      "source": [
        "### Warm-up Quiz\n",
        "\n",
        "```\n",
        "TEACHER\n",
        "I have an exciting quiz question for you! Are you ready to answer this question?\n",
        "\n",
        "EXPECTED STUDENT RESPONSE\n",
        "Yes.\n",
        "```\n",
        "\n",
        "**Instructions for the Teacher:**\n",
        "- Please click on the \"Quiz Time\" button on the bottom right corner of your screen to start the In-Class Quiz. <img src='https://student-datasets-bucket.s3.ap-south-1.amazonaws.com/images/quiz-time.png' width = 150>\n",
        "\n",
        "- A quiz will be visible to both you and the student. Encourage the student to answer the quiz question.\n",
        "\n",
        "- The student may choose the wrong option, help the student to think correctly about the question and then answer again.\n",
        "\n",
        "- After the student selects the correct option, the \"End Quiz\" button will start appearing on your screen. <img src='https://student-datasets-bucket.s3.ap-south-1.amazonaws.com/images/end-quiz.png' width = 150>  \n",
        "\n",
        "- Click the \"End quiz\" button to close the quiz pop-up and continue the class.\n",
        "  \n",
        "- Do not spend more than 2 minutes on this quiz."
      ]
    },
    {
      "cell_type": "markdown",
      "metadata": {
        "id": "Cas3i1zdjE1D"
      },
      "source": [
        "---"
      ]
    },
    {
      "cell_type": "markdown",
      "metadata": {
        "id": "wdwT65byXA4A"
      },
      "source": [
        "### Teacher-Student Activities\n",
        "\n",
        "So far we have learned how certain features having relationship with the target variable affects a model the most. For the machine learning models created so far, we have assumed that relationship between the target and feature columns is **linear** which is not true all the time.\n",
        "\n",
        "In this class you will learn about Polynomials and how they can be used to define relationships which are non-linear. You will also learn the concept of underfitting in machine learning models.\n",
        "\n",
        "So let's jump to **Activity 1: Non-Linear Relationships**.\n",
        "\n"
      ]
    },
    {
      "cell_type": "markdown",
      "metadata": {
        "id": "N2y29RJxvwn5"
      },
      "source": [
        "---"
      ]
    },
    {
      "cell_type": "markdown",
      "metadata": {
        "id": "RntcjRl1brGy"
      },
      "source": [
        "####Activity 1: Non Linear Relationships\n",
        "\n",
        "A non-linear relationship is defined as a situation where the dependent variable is not linearly related to the independent variable. That means, here, the changes in the output do not change in direct proportion to changes in any of the inputs.\n",
        "\n",
        "For example,\n",
        "\n",
        "1. The height growth based on age.\n",
        "2. Production of items based on number of workers.\n",
        "3. Increase in temperature based on $\\text{CO}_2$ emissions.\n",
        "4. GDP of the nation in the last years.\n",
        "\n",
        "Unlike linear relations, non-linear relations cannot be represented by a line. They are represented by a curve.\n",
        "\n",
        "Therefore, in these examples, the variables `height` and `age` or `production` and `workers` or `temperature` and `CO2`, we will observe change in the dependent variable but it is dependent on the value of slope from the previous value to the current value.\n",
        "\n",
        "Let's consider the Production example. The table below illustrates the number of items produced per day on the basis of the number of workers.\n",
        "\n",
        "|No. of Workers|Items Produced|\n",
        "|-|-|\n",
        "|1|400|\n",
        "|2|700|\n",
        "|3|900|\n",
        "|4|1000|\n",
        "|5|1050|\n",
        "|6|1075|\n",
        "\n",
        "\n",
        "Let's create a graph to visualise the relation between the items produced (dependent variable) and number of workers (independent variable).\n",
        "\n",
        "\n"
      ]
    },
    {
      "cell_type": "code",
      "metadata": {
        "colab": {
          "base_uri": "https://localhost:8080/",
          "height": 350
        },
        "id": "RUCL7nvSKGZq",
        "outputId": "b60b7a64-c840-442d-917a-d2e2d7f0552d"
      },
      "source": [
        "# S1.1: Create a scatter plot between number of workers and number of items produced.\n",
        "import numpy as np\n",
        "import matplotlib.pyplot as plt\n",
        "\n",
        "# Create an array for number of workers\n",
        "n_workers = np.arange(1,7)\n",
        "\n",
        "# Create an array for number of items produced\n",
        "n_items = np.array([400, 700, 900, 1000, 1050, 1075])\n",
        "\n",
        "# Plot a scatter plot to visualize the Production graph\n",
        "plt.figure(figsize=(12,5))\n",
        "plt.title(label = \"Production Graph\")\n",
        "plt.scatter(n_workers, n_items)\n",
        "plt.xlabel(\"Number of workers\")\n",
        "plt.ylabel(\"Number of items produced\")\n",
        "plt.show()"
      ],
      "execution_count": null,
      "outputs": [
        {
          "output_type": "display_data",
          "data": {
            "image/png": "[encoded data removed]",
            "text/plain": [
              "<Figure size 864x360 with 1 Axes>"
            ]
          },
          "metadata": {
            "needs_background": "light"
          }
        }
      ]
    },
    {
      "cell_type": "markdown",
      "metadata": {
        "id": "cI4ITb7KLya9"
      },
      "source": [
        "From the output, you may observe that the two variables are undoubtedly correlated but the relationship doesn't look linear.\n",
        "\n",
        "Let's create a Regression plot for the above relation to see if we can get the best fit regression line."
      ]
    },
    {
      "cell_type": "code",
      "metadata": {
        "colab": {
          "base_uri": "https://localhost:8080/",
          "height": 404
        },
        "id": "UF-_M8bDNozE",
        "outputId": "8e5b632b-7edc-4cf6-d29f-ef2af58a2ade"
      },
      "source": [
        "# Plot a regression plot to visualize the production graph\n",
        "import seaborn as sns\n",
        "plt.figure(figsize=(12,5))\n",
        "plt.title(label = \"Production Graph\")\n",
        "plt.plot(n_workers, n_items, 'o--r', label =\"Data points\")\n",
        "sns.regplot(n_workers, n_items, ci=1, color = 'green', label= \"Linear Regression line\", scatter=False)\n",
        "plt.xlabel(\"Number of workers\")\n",
        "plt.ylabel(\"Number of items produced\")\n",
        "plt.legend()\n",
        "plt.show()"
      ],
      "execution_count": null,
      "outputs": [
        {
          "output_type": "stream",
          "text": [
            "/usr/local/lib/python3.7/dist-packages/seaborn/_decorators.py:43: FutureWarning: Pass the following variables as keyword args: x, y. From version 0.12, the only valid positional argument will be `data`, and passing other arguments without an explicit keyword will result in an error or misinterpretation.\n",
            "  FutureWarning\n"
          ],
          "name": "stderr"
        },
        {
          "output_type": "display_data",
          "data": {
            "image/png": "[encoded data removed]",
            "text/plain": [
              "<Figure size 864x360 with 1 Axes>"
            ]
          },
          "metadata": {
            "needs_background": "light"
          }
        }
      ]
    },
    {
      "cell_type": "markdown",
      "metadata": {
        "id": "2QrsRLqOURrH"
      },
      "source": [
        "Again, the regression plot output displays that the even the best fit linear regression line is not good enough to describe this relation, as the straight line is unable to capture the patterns in the data.\n",
        "\n",
        "To overcome this problem, we will use polynomial regression which uses polynomial expressions to identify the non-linear relationship between independent and dependent variables.\n",
        "\n",
        "Let's study in detail about the polynomial expressions.\n"
      ]
    },
    {
      "cell_type": "markdown",
      "metadata": {
        "id": "sUOTOKDabqOe"
      },
      "source": [
        "---"
      ]
    },
    {
      "cell_type": "markdown",
      "metadata": {
        "id": "r2wJ0hwtqvMb"
      },
      "source": [
        "####Activity 2: Polynomial Expressions\n",
        "\n",
        "Polynomial expressions are a type of algebraic expressions. The word 'Polynomial' is a Greek word in which 'poly' means many and 'nomial' means terms.  That means a polynomial is an expression that contains one or many terms that can be added, subtracted, or multiplied but not divided.\n",
        "\n",
        "Polynomials are composed of some or all of the following:\n",
        "\n",
        "- **Constants**: These are numbers like $6$, $7$, $22$.\n",
        "\n",
        "- **Variables**: These are letters like $x$, $xy$, $a$.\n",
        "\n",
        "- **Exponents**: They are usually attached to variables but can also be found with a constant.\n",
        "\n",
        "  e.g: $2$ in $x^2$ and $3$ in $5^3$ are exponents.\n",
        "\n",
        "- **Arithmetic Operators**: These are used with variables as well as constants to perform common mathematical operations.\n",
        "\n",
        "  e.g: $2x$ (multiplication), $2x + 5$ (multiplication and addition), $x - 10$ (subtraction).\n",
        "\n",
        "\n",
        "Polynomials cannot contain the following:   \n",
        "1. Division by a variable.\n",
        "\n",
        "  E.g:\n",
        "  - $\\frac{2y^2 + 7x}{5}$ is a polynomial as it contains division by a constant.\n",
        "  \n",
        "  - $\\frac{2y^2 + 7x}{(1+x)}$ is not a polynomial as it contains division by a variable.\n",
        "2. Negative exponents.\n",
        "\n",
        "  e.g: $(2x + 5)^ {-4}$ is not a polynomial.\n",
        "\n",
        "3. Fractional exponents.\n",
        "\n",
        "  e.g: $(2x + 5)^ {\\frac{1}{2}}$ is not a polynomial.\n",
        "\n",
        "4. Radicals or Root.\n",
        "\n",
        "  e.g: $\\sqrt[3]{(2x + 5)}$ is not a polynomial.\n",
        "\n",
        "A polynomial expression is denoted as $P(x)$ where $x$ is the unknown variable.  \n",
        "\n",
        "<center><img src='https://student-datasets-bucket.s3.ap-south-1.amazonaws.com/images/polynomialf.png' width = 300></center>\n",
        "\n",
        "\n",
        "\n",
        "In the above image, the polynomial is denoted as $P(x)$ where $x$ represents the variable:\n",
        "$x^2$, $-2x$, $3$ are terms of polynomial which consist of variables and constants.\n",
        "- $x$ is the variable with exponents.\n",
        "- $3$ is the constant.\n",
        "- $1$, $-2$, are the coefficients of the first and second terms respectively.\n",
        "\n",
        "\n",
        "\n",
        "A polynomial, in general, is of 3 types:\n",
        "- Monomial: A polynomial with only a single term.\n",
        "    - Examples: $2x^2$,  $7xy$,  $-7$, $10$.\n",
        "- Binomial: A polynomial with exactly two terms.\n",
        "    - Examples: $x^2 + 7$, $x^5 + 5x$.\n",
        "- Trinomial: A polynomial with exactly three terms.\n",
        "    - Examples: $x^3 + 4x + 7$, $4z^5 - 4x + 5$.\n",
        "\n",
        "**Note:** A polynomial can have more than three terms but cannot be infinite.\n",
        "\n",
        "In this class, we will be focusing on a polynomial with one variable.\n",
        "\n",
        "\n",
        "**Degree of Polynomial:**\n",
        " Degree of a polynomial with one variable is the highest exponent of that variable.\n",
        "\n",
        "For example:\n",
        "\n",
        "1. $x^2 + 2x + 7$: Degree of polynomial is $2$.\n",
        "2. $4x^5 - 4x + 5$ : Degree of polynomial is $5$.\n",
        "3. $17x^2 - 4x^5 - 4x + 5$: Degree of polynomial is $5$.\n",
        "\n",
        "**Note:** The standard way of writing polynomial is to start with the highest degree first and lowest degree or constant at the end. But it is not a compulsion to write the polynomial in ascending or descending order of the degree.\n",
        "\n",
        "<center><img src=https://s3-whjr-v2-prod-bucket.whjr.online/whjr-v2-prod-bucket/79d7af29-4144-4b79-83d0-c44ca0dffdd9.png width=750></center>\n",
        "\n",
        "The NumPy library of Python has the `poly1d` class to define polynomials with one variable. The `poly1d` is a convenience class that is used to create and performs  operations on polynomials.\n",
        "\n",
        "We can create a polynomial by calling the constructor of the `poly1d` class. It will return a polynomial based on the given coefficients of the variable.\n",
        "\n",
        "> **Syntax:** `numpy.poly1d(c_or_r, r = False, variable = None)`\n",
        "\n",
        "Where,\n",
        "- `c_or_r`: Defines either of the following:\n",
        "  - **Coefficients** of the polynomial in decreasing powers.\n",
        "  \n",
        "   For example, `poly1d([1, 2, 3])` represents $x^2 + 2x + 3$.\n",
        "  - **Roots** of the polynomial (values where the polynomial evaluates to 0), if second parameter `r` is `True`.\n",
        "  \n",
        "    For example,  `poly1d([1, 2, 3], r = True)` represents $(x-1)(x-2)(x-3)$.\n",
        "\n",
        "- `r`: By default, it is `False`. If `True`, the `c_or_r` parameter will represent the polynomial's roots.\n",
        "\n",
        "- `variable`: Specifies the variable used to print the output of functions like `z`, `x`, `m` or any other character. By default it is `x`.\n",
        "\n",
        "Let's create the following polynomial $x^2 + 5x + 6$ and print the output of the function:\n"
      ]
    },
    {
      "cell_type": "code",
      "metadata": {
        "id": "WhFQUxfZBLMD",
        "colab": {
          "base_uri": "https://localhost:8080/"
        },
        "outputId": "e0e4f304-11c0-4c58-9ed8-60d30ffcdd8d"
      },
      "source": [
        "# T2.1: Create a polynomial 'x^2 + 5x + 6' using 'poly1d()` function.\n",
        "import numpy as np\n",
        "\n",
        "exp1 = np.poly1d([1, 5, 6])\n",
        "\n",
        "print(f\"The polynomial is: \\n{exp1}\")\n",
        "print(f\"The type of polynomial is: \\n {type(exp1)}\")"
      ],
      "execution_count": null,
      "outputs": [
        {
          "output_type": "stream",
          "text": [
            "The polynomial is: \n",
            "   2\n",
            "1 x + 5 x + 6\n",
            "The type of polynomial is: \n",
            " <class 'numpy.poly1d'>\n"
          ],
          "name": "stdout"
        }
      ]
    },
    {
      "cell_type": "markdown",
      "metadata": {
        "id": "mKmDhf_ePp-V"
      },
      "source": [
        "As we can observe, the polynomial $x^2 + 5x + 6$ is created by passing the list of coefficients `[1, 5, 6]` to the `poly1d()` function.\n",
        "\n",
        "The first element of this list is considered as the coefficient of the highest exponent and the last element is considered as the constant.\n",
        "\n",
        "**Note:** The polynomial is printed in two lines, one line for the exponents and the other for the coefficients and variables. Hence, for a clear output use a `\\n` (newline) expression before printing the polynomials.\n",
        "\n",
        "Let's create the below polynomials using the `poly1d()` function and observe the output again.\n",
        "\n",
        "1. $1290$\n",
        "2. $7x$\n",
        "3. $-7x^4 + 8x^2 - 120$\n",
        "4. $-17x^2 + 29x^5$\n",
        "\n"
      ]
    },
    {
      "cell_type": "code",
      "metadata": {
        "id": "mrjJS_QinlTM",
        "colab": {
          "base_uri": "https://localhost:8080/"
        },
        "outputId": "2f09c044-f7b9-432f-9f9e-5993d5dadbb1"
      },
      "source": [
        "# S2.1: Create the polynomials with the 'poly1d()' function and print the output.\n",
        "\n",
        "# 1. Create a polynomial '1290' and print the output.\n",
        "exp2 = np.poly1d([1290])\n",
        "print(f\"The polynomial is: \\n {exp2}\")\n",
        "\n",
        "# 2. Create a polynomial '7x' and print the output.\n",
        "exp3 = np.poly1d([7, 0])\n",
        "print(f\"The polynomial is: \\n {exp3}\")\n",
        "\n",
        "# 3. Create a polynomial 'c' and print the output.\n",
        "exp4 = np.poly1d([-7, 0, 8, 0, -120])\n",
        "print(f\"The polynomial is: \\n {exp4}\")\n",
        "\n",
        "# 4. Create a polynomial '-17x^2 + 29x^5' and print the output.\n",
        "exp5 = np.poly1d([29, 0, 0, -17, 0, 0])\n",
        "print(f\"The polynomial is: \\n {exp5}\")\n"
      ],
      "execution_count": null,
      "outputs": [
        {
          "output_type": "stream",
          "text": [
            "The polynomial is: \n",
            "  \n",
            "1290\n",
            "The polynomial is: \n",
            "  \n",
            "7 x\n",
            "The polynomial is: \n",
            "     4     2\n",
            "-7 x + 8 x - 120\n",
            "The polynomial is: \n",
            "     5      2\n",
            "29 x - 17 x\n"
          ],
          "name": "stdout"
        }
      ]
    },
    {
      "cell_type": "markdown",
      "metadata": {
        "id": "Mh5cNjRUre2e"
      },
      "source": [
        "**Note:** If the polynomial expression does not contain a term of a degree in the standard order, we will pass the coefficient as `0`. For example, coefficients of polynomial $P(x) = 29x^4 - 17x^2$ are `[29 , 0, -17, 0 , 0]`."
      ]
    },
    {
      "cell_type": "markdown",
      "metadata": {
        "id": "4AMIFvGkpVNE"
      },
      "source": [
        "As we can observe the polynomials are created with a coefficients list. Now let's try to create polynomials with a roots list.\n",
        "\n",
        "The roots or solutions of the polynomial are the values of $x$ for which polynomial $P(x)$ is equal to zero. That means to solve a polynomial equation we have to find its roots.\n",
        "\n",
        "For example, consider the following  polynomial $P(x)$.\n",
        "\n",
        "$$ P(x) = x^2 + 5x + 6$$\n",
        "\n",
        "Let's equate $P(x)$ to $0$ and solve it to find the value of $x$ by finding factors.\n",
        "$$x^2 + 5x + 6 = 0$$\n",
        "$$x^2 + 2x + 3x + 6 = 0$$\n",
        "$$x(x+2) + 3(x+2) = 0$$\n",
        "$$(x+2)(x+3) = 0$$\n",
        "\n",
        "This means that the product of $(x+2)$ and $(x+3)$ will be zero i.e. $(x+2)(x+3)= 0$ when either $x = -2$ or $x = -3$.\n",
        "\n",
        "Hence $P(x)$ has two roots: $x = -2$ and $x = -3$.\n",
        "\n",
        "You can verify it by substituting $x = -2$ and $x = -3$ in polynomial $x^2 + 5x + 6$.\n",
        "\n",
        "\n",
        "Let's create a polynomial with roots $(-2, -3)$ using the `poly1d()` function and observe the output."
      ]
    },
    {
      "cell_type": "code",
      "metadata": {
        "id": "MDjV2aVn449H",
        "colab": {
          "base_uri": "https://localhost:8080/"
        },
        "outputId": "b60376fa-e587-456c-c193-8f6a48665a23"
      },
      "source": [
        "# S2.2: Create the polynomial with roots list [-2,-3] with 'poly1d()` function.\n",
        "# Print the output and its type\n",
        "\n",
        "exp1_r = np.poly1d([-2,-3], r = True)\n",
        "\n",
        "print(f\"The polynomial is: \\n {exp1_r} \\nVariable Type: {type(exp1_r)}\")"
      ],
      "execution_count": null,
      "outputs": [
        {
          "output_type": "stream",
          "text": [
            "The polynomial is: \n",
            "    2\n",
            "1 x + 5 x + 6 \n",
            "Variable Type: <class 'numpy.poly1d'>\n"
          ],
          "name": "stdout"
        }
      ]
    },
    {
      "cell_type": "markdown",
      "metadata": {
        "id": "ELzHWxvS7h9P"
      },
      "source": [
        "As we can observe, the polynomial created is $x^2 + 5x + 6$ which is the same as the polynomial $P(x)$ that we had solved. Also, the type is the same i.e. `'numpy.poly1d'`\n",
        "\n"
      ]
    },
    {
      "cell_type": "markdown",
      "metadata": {
        "id": "uxfHHzPZ41a9"
      },
      "source": [
        "**Properties of `poly1D` polynomial object**\n",
        "\n",
        "Now let us  learn some properties or attributes of the `poly1d()` polynomial object:\n",
        "\n",
        "**1. Coefficients of polynomial:**\n",
        "\n",
        "The `coeff` or `c` attribute can be used to get the coefficient of a NumPy polynomial.\n",
        "\n",
        "> **Syntax:** `exp.coeffs` or `exp.c`\n",
        "\n",
        "Where,\n",
        "\n",
        " `exp` is the `numpy.poly1d` variable.\n",
        "\n",
        "\n",
        "Let's print the coefficients of the two polynomials below:\n",
        "1. Polynomial having coefficients: `[1, 5, 6]`\n",
        "2. Polynomial having roots: `[-2, -3]`\n"
      ]
    },
    {
      "cell_type": "code",
      "metadata": {
        "id": "c1SxbAtw7hWw",
        "colab": {
          "base_uri": "https://localhost:8080/"
        },
        "outputId": "708b15ec-b515-4b59-d417-00f6a22957bc"
      },
      "source": [
        "# S2.3: Print the coefficients of the polynomials using the 'coeff' and 'c' attribute\n",
        "\n",
        "# 1. Create polynomial 'x^2 + 5x + 6' using the coefficient list.\n",
        "exp1 = np.poly1d([ 1, 5, 6])\n",
        "# Print the coefficient of the polynomial using 'coeffs' attribute\n",
        "print(f\"Polynomial: \\n{exp1} \\nCoefficients: {exp1.coeffs}\")\n",
        "print(exp1.c.dtype)\n",
        "print(\"-\" * 50)\n",
        "\n",
        "# 2. Create the polynomial using roots list '[-2,-3]'\n",
        "exp1_r = np.poly1d([-2, -3], r = True)\n",
        "# Print the coefficient of the polynomial using 'c' attribute\n",
        "print(f\"Polynomial: \\n{exp1_r} \\nCoefficients: {exp1_r.c}\")\n",
        "print(exp1_r.c.dtype)\n"
      ],
      "execution_count": null,
      "outputs": [
        {
          "output_type": "stream",
          "text": [
            "Polynomial: \n",
            "   2\n",
            "1 x + 5 x + 6 \n",
            "Coefficients: [1 5 6]\n",
            "int64\n",
            "--------------------------------------------------\n",
            "Polynomial: \n",
            "   2\n",
            "1 x + 5 x + 6 \n",
            "Coefficients: [1. 5. 6.]\n",
            "float64\n"
          ],
          "name": "stdout"
        }
      ]
    },
    {
      "cell_type": "markdown",
      "metadata": {
        "id": "K1UEdSuihPAw"
      },
      "source": [
        "As we can observe, both the coefficients list is the same `[1 5 6]` or `[1. 5. 6.]` but datatype is different because the polynomial created is the same. The reason for datatype being different is by default the coefficient list of type `float` if not created otherwise.\n",
        "\n",
        "\n",
        "**2. Roots of the Polynomials:**\n",
        "\n",
        "The `roots` or `r` attribute can be used to get the roots of a NumPy Polynomial.\n",
        "\n",
        "> **Syntax:** `exp.root` or `exp.r`\n",
        "\n",
        "Where,\n",
        "\n",
        " `exp` is the `numpy.poly1d` variable.\n",
        "\n",
        "\n",
        "Let's print the roots of the two polynomials below:\n",
        "1. Polynomial having coefficients: `[1, 5, 6]`\n",
        "2. Polynomial having roots: `[-3, -2]`"
      ]
    },
    {
      "cell_type": "code",
      "metadata": {
        "id": "kSyBQGrQmEGD",
        "colab": {
          "base_uri": "https://localhost:8080/"
        },
        "outputId": "f7afb6c6-7bcd-4f9b-ff47-e4d64e92724e"
      },
      "source": [
        "# S2.4 Print the roots of the polynomials using 'roots' and 'r' attributes\n",
        "\n",
        "# 1. Create polynomial using coefficient list [1, 5, 6].\n",
        "exp1 = np.poly1d([ 1, 5, 6])\n",
        "# Print the roots of the polynomial using 'roots' attribute.\n",
        "print(f\"Polynomial:  \\n{exp1} \\nRoots: {exp1.roots}\")\n",
        "\n",
        "print(\"-\" * 50)\n",
        "\n",
        "# 2. Create the polynomial using roots list [-3, -2]\n",
        "exp1_r = np.poly1d([-3, -2], r = True)\n",
        "# Print the roots of the polynomial using 'r' attribute.\n",
        "print(f\"Polynomial:  \\n{exp1_r} \\nRoots: {exp1_r.r}\")\n"
      ],
      "execution_count": null,
      "outputs": [
        {
          "output_type": "stream",
          "text": [
            "Polynomial:  \n",
            "   2\n",
            "1 x + 5 x + 6 \n",
            "Roots: [-3. -2.]\n",
            "--------------------------------------------------\n",
            "Polynomial:  \n",
            "   2\n",
            "1 x + 5 x + 6 \n",
            "Roots: [-3. -2.]\n"
          ],
          "name": "stdout"
        }
      ]
    },
    {
      "cell_type": "markdown",
      "metadata": {
        "id": "ucgXY544mBmY"
      },
      "source": [
        "As we can observe, both the roots list is the same `[-3., -2.]` because the polynomial is the same.\n",
        "\n",
        "**Note:** The roots list is always in ascending order.\n",
        "\n"
      ]
    },
    {
      "cell_type": "markdown",
      "metadata": {
        "id": "8bjYutvpsy-U"
      },
      "source": [
        "\n",
        "**3. Degree of the Polynomials:**\n",
        "The `order` or `o` attribute can be used to get the degree, also known as the order of a NumPy polynomial.\n",
        "\n",
        "> **Syntax:** `exp.order` or `exp.o`\n",
        "\n",
        "Where,\n",
        "\n",
        " `exp` is the `numpy.poly1d` variable.\n",
        "\n",
        "\n",
        "Let's print the degree of the following polynomials:\n",
        "1.  $x^2 + 5x + 6$\n",
        "2. $-7x^4 + 8x^2 - 120$"
      ]
    },
    {
      "cell_type": "code",
      "metadata": {
        "id": "9-w3Ohg6oGcS",
        "colab": {
          "base_uri": "https://localhost:8080/"
        },
        "outputId": "f76eb87e-6d37-4f6f-dfc9-fdba8b7fa271"
      },
      "source": [
        "# S2.5: Print the degree of the polynomials using 'order' and 'o' attributes\n",
        "\n",
        "# 1. Create the polynomial 'x^2 + 5x + 6'.\n",
        "exp1 = np.poly1d([ 1, 5, 6])\n",
        "# Print the order of the polynomial using 'order' attribute.\n",
        "print(f\"Polynomial:  \\n{exp1} \\nDegree/Order: {exp1.order}\")\n",
        "\n",
        "print(\"-\" * 50)\n",
        "\n",
        "# 2. Create the polynomial '7x^4 + 8x^2 - 120'.\n",
        "exp1_r = np.poly1d([-7, 0, 8, 0, -120 ])\n",
        "# Print the order of the polynomial using 'o' attribute.\n",
        "print(f\"Polynomial:  \\n{exp1_r} \\nDegree/Order: {exp1_r.o}\")"
      ],
      "execution_count": null,
      "outputs": [
        {
          "output_type": "stream",
          "text": [
            "Polynomial:  \n",
            "   2\n",
            "1 x + 5 x + 6 \n",
            "Degree/Order: 2\n",
            "--------------------------------------------------\n",
            "Polynomial:  \n",
            "    4     2\n",
            "-7 x + 8 x - 120 \n",
            "Degree/Order: 4\n"
          ],
          "name": "stdout"
        }
      ]
    },
    {
      "cell_type": "markdown",
      "metadata": {
        "id": "TvJS967Mqq_g"
      },
      "source": [
        "You may observe that the degree of the polynomial returns the highest exponent of the unknown variable.\n",
        "\n",
        "Now let's move ahead and evaluate these polynomials in **Activity 3: Evaluation of Polynomial Expression**."
      ]
    },
    {
      "cell_type": "markdown",
      "metadata": {
        "id": "TyeX8EWprUTR"
      },
      "source": [
        "----"
      ]
    },
    {
      "cell_type": "markdown",
      "metadata": {
        "id": "TrvbUZZOsDut"
      },
      "source": [
        "####Activity 3: Evaluation of Polynomial Expression\n",
        "\n",
        "Polynomial evaluation means placing a certain value for the unknown variable/s and finding out the total value of the expression.\n",
        "\n",
        "For example, consider the below polynomial $P(x)$,\n",
        "\n",
        "$$P(x) = x^2 + 5x + 6$$\n",
        "\n",
        "Let's solve this polynomial with $x = 3$.\n",
        "\n",
        "1. Substitute $x$ in $P(x)$ with $3$:\n",
        "\n",
        "$$P(3) = 3^2 + 5 \\times 3 + 6$$\n",
        "\n",
        "2. Solve the equation using the order of operations:\n",
        "$$P(3) = 9 + 15 + 6$$\n",
        "$$P(3) = 30$$\n",
        "\n",
        "So the value of $P(x)$ for $x = 3$ is $30$.\n",
        "\n",
        "In Python, we can evaluate the NumPy polynomials by direct call to the self function of the `numpy.poly1d` class.\n",
        "\n",
        "> **Syntax:** `exp(value)`\n",
        "\n",
        "Where,\n",
        "- `exp` is an object of type `numpy.poly1d`.\n",
        "- `value` is the value to evaluate the polynomial expression.\n",
        "\n",
        "\n",
        "Let's evaluate the polynomial $P(x) = x^2 + 5x + 6$  for a list of values `[3, -3, -2]` one by one."
      ]
    },
    {
      "cell_type": "code",
      "metadata": {
        "id": "N1Fe-iUVvtRp",
        "colab": {
          "base_uri": "https://localhost:8080/"
        },
        "outputId": "92250c66-6042-415f-84c0-4dff6d977ba7"
      },
      "source": [
        "# S3.1: Evaluate the polynomial 'x^2 + 5x + 6' for the values [3, -3, -2].\n",
        "\n",
        "# Create polynomial 'x^2 + 5x + 6'.\n",
        "exp1 = np.poly1d([ 1, 5, 6])\n",
        "print(f\"P(x) = \\n{exp1}\")\n",
        "\n",
        "# 1. Evaluate the polynomial at 'x = 3'\n",
        "print(f\"P(3)  = {exp1(3)}\")\n",
        "\n",
        "# 2. Evaluate the polynomial at 'x = -3'\n",
        "print(f\"P(-3) = {exp1(-3)}\")\n",
        "\n",
        "# 3. Evaluate the polynomial at 'x = -2'\n",
        "print(f\"P(2) = {exp1(-2)}\")"
      ],
      "execution_count": null,
      "outputs": [
        {
          "output_type": "stream",
          "text": [
            "P(x) = \n",
            "   2\n",
            "1 x + 5 x + 6\n",
            "P(3)  = 30\n",
            "P(-3) = 0\n",
            "P(2) = 0\n"
          ],
          "name": "stdout"
        }
      ]
    },
    {
      "cell_type": "markdown",
      "metadata": {
        "id": "RIt4tTxvcQQL"
      },
      "source": [
        "As we can observe, the output of $P(x)$ at `x = 3` is `30` while for `x = -3` and `x = 2`, $P(x)$  is 0 since they are the roots of the polynomial.\n",
        "\n",
        "\n",
        "Similarly, we can find the value of the polynomial at different $x$ values by plotting a graph.\n",
        "\n",
        "Let's create a line plot with markers to solve $P(x) = x^2 + 5x + 6$ for the range `-10` to `10`.\n",
        "\n"
      ]
    },
    {
      "cell_type": "code",
      "metadata": {
        "id": "NY-spL2EepJD",
        "colab": {
          "base_uri": "https://localhost:8080/",
          "height": 354
        },
        "outputId": "063a93ce-6d6e-42be-a6bd-5814e15de50c"
      },
      "source": [
        "# S3.2: Create a line plot for 'P(x) = x^2 + 5x + 6' for an array of values having range -10 to 10.\n",
        "\n",
        "import matplotlib.pyplot as plt\n",
        "\n",
        "# Create the 'x' array\n",
        "x = np.arange(-10,11)\n",
        "\n",
        "# Create the graph\n",
        "plt.figure(figsize=(12,5))\n",
        "plt.title(label = \"Evaluating expression: $P(x) = x^2 + 5x + 6$\")\n",
        "plt.plot(x, exp1(x), 'g--o')\n",
        "plt.xlabel(\"x\")\n",
        "plt.ylabel(\"P(x)\")\n",
        "plt.xticks(ticks = x, labels = x )\n",
        "plt.grid(True)\n",
        "plt.show()\n"
      ],
      "execution_count": null,
      "outputs": [
        {
          "output_type": "display_data",
          "data": {
            "image/png": "[encoded data removed]",
            "text/plain": [
              "<Figure size 864x360 with 1 Axes>"
            ]
          },
          "metadata": {
            "tags": [],
            "needs_background": "light"
          }
        }
      ]
    },
    {
      "cell_type": "markdown",
      "metadata": {
        "id": "xZzbVSwHgu0m"
      },
      "source": [
        "As we can observe from the output, the graph is created, which also has roots `[-3, -2]` where $P(x) = 0$.\n",
        "\n",
        "The graph of the polynomial differs based on the type of polynomials. Let's study the types of polynomials in **Activity 4: Types of Polynomial and its Applications**\n",
        "\n"
      ]
    },
    {
      "cell_type": "markdown",
      "metadata": {
        "id": "-ohQyAnbez3x"
      },
      "source": [
        "---"
      ]
    },
    {
      "cell_type": "markdown",
      "metadata": {
        "id": "IrlLklW9hzGU"
      },
      "source": [
        "#### Activity 4: Types of Polynomial and its Applications\n",
        "\n",
        "Polynomials are also categorised based on their degree. Following are the different types of polynomials:\n",
        "\n",
        "\n",
        "|Polynomial|Degree|Polynomial Examples|\n",
        "|----|----|--|\n",
        "Linear Polynomial|1|$3x + 1$\n",
        "Quadratic Polynomial|2|$x^2 + 5x + 6$\n",
        "Cubic Polynomial|3|$-14x^3 + x^2 - 6$\n",
        "Quartic Polynomial|4|$-7x^4 + 8x^2 - 120$\n",
        "\n",
        "Let's take a look at each type along with their applications.\n",
        "\n",
        "**1. Linear Polynomials:**\n",
        "\n",
        "Linear polynomials also called first-degree polynomials are used to represent linear relations like the equation of a line $y = mx + c$.\n",
        "The graph of linear polynomials, therefore, is always a straight line.\n",
        "\n",
        "We have already seen these types of polynomials in Linear Regression where we can predict the value of an unknown item `y` at a particular `x` with coefficients `m` and `c`.\n",
        "\n",
        "Real-world examples:\n",
        "1. Prediction of income over time.\n",
        "2. Prediction of speed over the distance covered and time.\n",
        "\n",
        "Let's create a linear polynomial $P(x) = 5x + 5$ and print the roots of $P(x)$. Also, create a line plot for the range `-10` to `10`.\n",
        "\n",
        "\n"
      ]
    },
    {
      "cell_type": "code",
      "metadata": {
        "id": "OYYcd7HCpIMM",
        "colab": {
          "base_uri": "https://localhost:8080/",
          "height": 420
        },
        "outputId": "9a505ebe-54bd-42af-a2be-c86f070908c1"
      },
      "source": [
        "# S4.1: Create a linear polynomial 'P(x) = 5x + 5'.\n",
        "# Print its roots and plot graph for the 'P(x)' from -10 to 10.\n",
        "\n",
        "# Create the polynomial.\n",
        "lin_poly = np.poly1d([5, 5])\n",
        "# Print the polynomial and its roots.\n",
        "print(f\"Polynomial:  \\n{lin_poly} \\nRoots: {lin_poly.r}\")\n",
        "\n",
        "# Create the 'x' array of range -10 to 10.\n",
        "x = np.arange(-10, 11)\n",
        "\n",
        "# Create the graph\n",
        "plt.figure(figsize=(12,5))\n",
        "plt.title(label = \"Evaluating equation: $P(x) = 5x + 5$\")\n",
        "plt.plot(x, lin_poly(x), 'g--o')\n",
        "plt.plot(int(lin_poly.r), lin_poly(int(lin_poly.r)), 'r--o')\n",
        "plt.xlabel(\"x\")\n",
        "plt.ylabel(\"P(x)\")\n",
        "plt.xticks(ticks = x, labels = x )\n",
        "plt.grid(True)\n",
        "plt.show()\n"
      ],
      "execution_count": null,
      "outputs": [
        {
          "output_type": "stream",
          "text": [
            "Polynomial:  \n",
            " \n",
            "5 x + 5 \n",
            "Roots: [-1.]\n"
          ],
          "name": "stdout"
        },
        {
          "output_type": "display_data",
          "data": {
            "image/png": "[encoded data removed]",
            "text/plain": [
              "<Figure size 864x360 with 1 Axes>"
            ]
          },
          "metadata": {
            "tags": [],
            "needs_background": "light"
          }
        }
      ]
    },
    {
      "cell_type": "markdown",
      "metadata": {
        "id": "poHyPJnvqlvW"
      },
      "source": [
        "The graph in the above output is a straight line and at the root of the equation i.e. `-1`, $P(x)$ is `0`.\n",
        "\n",
        "**2. Quadratic Polynomials:**\n",
        "\n",
        "A quadratic polynomial is written in the form $ax² + bx + c$, where $a$, $b$, and $c$ are real numbers. These equations, graphically, represent parabolas, i.e. an arc or a curve.\n",
        "\n",
        "Quadratic polynomials are the most commonly seen expressions in aspects of daily life, for example, when a ball is thrown in the air, an arc is formed which is a parabola. Where else are they used?\n",
        "\n",
        "**Examples:**\n",
        "1. The landing of a missile can be calculated with quadratic polynomials based on its launch because they too  form a parabola in the air.\n",
        "2. The height above the sea level for the curved cables of the bridge can be calculated to pass a sailing ship within the parabolas.\n",
        "3. Quadratic polynomials can also be used to design a single bend in the road.\n",
        "\n",
        "\n",
        "Let's create and plot the quadratic polynomial $P(x) = x^2 + 5x + 6$ and print the roots of $P(x)$.\n"
      ]
    },
    {
      "cell_type": "code",
      "metadata": {
        "id": "v_vS5EiU7e6t",
        "colab": {
          "base_uri": "https://localhost:8080/",
          "height": 422
        },
        "outputId": "b95f5e8f-595e-43c6-dffd-805896a96ecb"
      },
      "source": [
        "# S4.2: Create a quadratic polynomial 'P(x) = x^2 + 5x + 6'.\n",
        "# Print it's roots and plot graph for the 'P(x)' from -10 to 10.\n",
        "\n",
        "# Create the polynomial 'P(x) = x^2 + 5x + 6'\n",
        "qua_poly = np.poly1d([1, 5, 6])\n",
        "\n",
        "# Print the polynomial and its roots.\n",
        "print(f\"Polynomial:  \\n{qua_poly} \\nRoots: {qua_poly.r}\")\n",
        "\n",
        "# Create the 'x' array of range -10 to 10.\n",
        "x = np.arange(-10,11)\n",
        "\n",
        "# Create the graph\n",
        "plt.figure(figsize=(12,5))\n",
        "plt.title(label = \"Evaluating equation: $P(x) = x^2 + 5x + 6$\")\n",
        "plt.plot(x, qua_poly(x), 'g--o')\n",
        "plt.plot(qua_poly.r, qua_poly(qua_poly.r), 'r--o')\n",
        "plt.xlabel(\"x\")\n",
        "plt.ylabel(\"P(x)\")\n",
        "plt.xticks(ticks = x, labels = x )\n",
        "plt.grid(True)\n",
        "plt.show()\n"
      ],
      "execution_count": null,
      "outputs": [
        {
          "output_type": "stream",
          "text": [
            "Polynomial:  \n",
            "   2\n",
            "1 x + 5 x + 6 \n",
            "Roots: [-3. -2.]\n"
          ],
          "name": "stdout"
        },
        {
          "output_type": "display_data",
          "data": {
            "image/png": "[encoded data removed]",
            "text/plain": [
              "<Figure size 864x360 with 1 Axes>"
            ]
          },
          "metadata": {
            "tags": [],
            "needs_background": "light"
          }
        }
      ]
    },
    {
      "cell_type": "markdown",
      "metadata": {
        "id": "m4qR6oOY8ip3"
      },
      "source": [
        "As we can observe, the graph above creates an arc for the quadratic polynomial.\n",
        "\n",
        "**3. Cubic Polynomial:**\n",
        "\n",
        "The Cubic Polynomial, written in the form $ax^3 + bx^2 + cx + d$ is used when there is a need to calculate or create curves. The graph of a cubic polynomial represents a wave.\n",
        "\n",
        "Some of the applications of cubic polynomials are:\n",
        "1. For calculating the dimensions of a swimming pool based on the given height and width.\n",
        "2. For a road with multiple bends.\n",
        "\n",
        "Let's create and plot a cubic polynomial $-7x^3 + 8x - 120$ and print the roots of $P(x)$."
      ]
    },
    {
      "cell_type": "code",
      "metadata": {
        "id": "RaGJHBo3_xyw",
        "colab": {
          "base_uri": "https://localhost:8080/",
          "height": 422
        },
        "outputId": "9f69a48b-038e-4b13-ef8a-f3ea48adb828"
      },
      "source": [
        "# S4.3: Create a cubic polynomial 'P(x) = -7x^3 + 8x - 120'.\n",
        "# Print it's roots and plot graph for the 'P(x)' from -10 to 10.\n",
        "\n",
        "# Ignore warnings\n",
        "import warnings\n",
        "warnings.filterwarnings(\"ignore\")\n",
        "\n",
        "# Create the polynomial 'P(x) = -7x^3 + 8x - 120'\n",
        "cub_poly = np.poly1d([-7, 0, 8, -120])\n",
        "\n",
        "# Print the polynomial and its roots.\n",
        "print(f\"Polynomial:  \\n{cub_poly} \\nRoots: {cub_poly.r}\")\n",
        "\n",
        "# Create the 'x' array\n",
        "x = np.arange(-10, 11)\n",
        "\n",
        "# Create the graph\n",
        "plt.figure(figsize=(12,5))\n",
        "plt.title(label = \"Evaluating equation: $P(x) = -7x^3 + 8x - 120$\")\n",
        "plt.plot(x, cub_poly(x), 'g--o')\n",
        "plt.plot(cub_poly.r, cub_poly(cub_poly.r), 'r--o')\n",
        "plt.xlabel(\"x\")\n",
        "plt.ylabel(\"P(x)\")\n",
        "plt.xticks(ticks = x, labels = x )\n",
        "plt.grid(True)\n",
        "plt.show()\n"
      ],
      "execution_count": null,
      "outputs": [
        {
          "output_type": "stream",
          "text": [
            "Polynomial:  \n",
            "    3\n",
            "-7 x + 8 x - 120 \n",
            "Roots: [-2.72605544+0.j          1.36302772+2.10491723j  1.36302772-2.10491723j]\n"
          ],
          "name": "stdout"
        },
        {
          "output_type": "display_data",
          "data": {
            "image/png": "[encoded data removed]",
            "text/plain": [
              "<Figure size 864x360 with 1 Axes>"
            ]
          },
          "metadata": {
            "tags": [],
            "needs_background": "light"
          }
        }
      ]
    },
    {
      "cell_type": "markdown",
      "metadata": {
        "id": "gNZI2yDBB1uP"
      },
      "source": [
        "As we can observe, the graph creates a wave for the cubic graph.\n",
        "\n",
        "**Note:** The one or more roots of the cubic graph can be imaginary or real.\n",
        "\n",
        "**4. High Order Polynomials:**\n",
        "\n",
        "High order polynomials, with degree greater than 3 also represents a wave in the graphical form. They are used to design complex structures like:\n",
        "1. A roller coaster.\n",
        "2. A path down the hill.\n",
        "3. A spherical staircase.\n",
        "\n",
        "Let's create a high order polynomial $\\frac{1}{5}x^5 - \\frac{26}{3}x^3 + 25$ and print the roots of $P(x)$. Also, plot the graph for a range `-6` to `6`.\n"
      ]
    },
    {
      "cell_type": "code",
      "metadata": {
        "colab": {
          "base_uri": "https://localhost:8080/",
          "height": 371
        },
        "id": "DiTiJCV4DYBQ",
        "outputId": "9059e764-5ccb-4829-bf0d-dbf4507377a6"
      },
      "source": [
        "# S4.4: Create a high order polynomial 'P(x) = 1/5x^5 - 26/3x^3 + 25'.\n",
        "# Print it's roots and plot graph for the 'P(x)' from -6 to 6.\n",
        "\n",
        "# Create the polynomial 'P(x) = 1/5x^5 - 26/3x^3 + 25'\n",
        "high_poly = np.poly1d([1/5, 0, -26/3, 0, 0, 25])\n",
        "\n",
        "# Print the polynomial and its roots.\n",
        "print(f\"Polynomial:  \\n{high_poly} \\nRoots: {high_poly.r}\")\n",
        "\n",
        "# Create the 'x' array\n",
        "x = np.linspace(-6, 6, 100000)\n",
        "\n",
        "# Create the graph\n",
        "plt.figure(figsize=(22,5))\n",
        "plt.title(label = \"Evaluating equation: $P(x)= \\dfrac{1}{5}x^5 - \\dfrac{26}{3}x^3 + 25x$\")\n",
        "plt.plot(x, high_poly(x), 'g--o')\n",
        "plt.plot(high_poly.r, high_poly(high_poly.r), 'r--o')\n",
        "plt.xlabel(\"x\")\n",
        "plt.ylabel(\"P(x)\")\n",
        "plt.grid(True)\n",
        "plt.show()\n"
      ],
      "execution_count": null,
      "outputs": [
        {
          "output_type": "stream",
          "text": [
            "Polynomial:  \n",
            "     5         3\n",
            "0.2 x - 8.667 x + 25 \n",
            "Roots: [ 6.54891521+0.j         -6.61551734+0.j          1.44721931+0.j\n",
            " -0.69030859+1.23170391j -0.69030859-1.23170391j]\n"
          ],
          "name": "stdout"
        },
        {
          "output_type": "display_data",
          "data": {
            "image/png": "[encoded data removed]",
            "text/plain": [
              "<Figure size 1584x360 with 1 Axes>"
            ]
          },
          "metadata": {
            "tags": [],
            "needs_background": "light"
          }
        }
      ]
    },
    {
      "cell_type": "markdown",
      "metadata": {
        "id": "MA1F9wmSGC-w"
      },
      "source": [
        "As we can observe, the curve is created with multiple bends.\n",
        "\n",
        "The shape or curve of the polynomial can help better in training the data for non-linear relations.\n",
        "\n",
        "Let's stop here. In the next lesson we will learn about the effect of polynomials in Machine Learning Models and Polynomial Regression."
      ]
    },
    {
      "cell_type": "markdown",
      "metadata": {
        "id": "jRORzozHi936"
      },
      "source": [
        "---"
      ]
    },
    {
      "cell_type": "markdown",
      "metadata": {
        "id": "rkNuLxc0jLLN"
      },
      "source": [
        "#### Activities\n",
        "\n",
        "<br>\n",
        "\n",
        "**Teacher Activities:**\n",
        "\n",
        "1. Polynomial Regression - Polynomials (Class Copy)\n",
        "\n",
        "   Link on Panel\n",
        "   \n",
        "2. Polynomial Regression - Polynomials (Reference)\n",
        "\n",
        "   Link on Panel\n"
      ]
    },
    {
      "cell_type": "markdown",
      "metadata": {
        "id": "jKPkUli4Gx5B"
      },
      "source": [
        "---"
      ]
    }
  ]
}