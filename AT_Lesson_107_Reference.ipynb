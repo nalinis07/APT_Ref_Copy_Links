{
  "nbformat": 4,
  "nbformat_minor": 0,
  "metadata": {
    "colab": {
      "provenance": [],
      "toc_visible": true,
      "include_colab_link": true
    },
    "kernelspec": {
      "name": "python3",
      "display_name": "Python 3"
    },
    "language_info": {
      "name": "python"
    }
  },
  "cells": [
    {
      "cell_type": "markdown",
      "metadata": {
        "id": "view-in-github",
        "colab_type": "text"
      },
      "source": [
        "<a href=\"https://colab.research.google.com/github/nalinis07/APT_Ref_Copy_Links/blob/MASTER/AT_Lesson_107_Reference.ipynb\" target=\"_parent\"><img src=\"https://colab.research.google.com/assets/colab-badge.svg\" alt=\"Open In Colab\"/></a>"
      ]
    },
    {
      "cell_type": "markdown",
      "metadata": {
        "id": "b_RIOW8yUrd0"
      },
      "source": [
        "#Lesson 107: K-Means Clustering - Clustering 1D and 2D Data"
      ]
    },
    {
      "cell_type": "markdown",
      "metadata": {
        "id": "RhkBxdQRnPPY"
      },
      "source": [
        "**WARNING:** The reference notebook is meant **ONLY** for a teacher. Please **DO NOT** share it with any student.\n",
        "\n",
        "The contents of the reference notebook are meant only to prepare a teacher for a class. To conduct the class, use the class copy of the reference notebook. The link and the instructions for the same are provided in the **Notes To The Teacher** section.\n",
        "\n",
        "\n",
        "|Particulars|Description|\n",
        "|-|-|\n",
        "|**Topic**|K-Means Clustering - Clustering 1D and 2D Data|\n",
        "|||\n",
        "|**Class Description**|In this class, a student will learn to cluster one-dimensional and two-dimensional datasets using K-Means clustering.|\n",
        "|||\n",
        "|**Class**|C107|\n",
        "|||\n",
        "|**Class Time**|45 minutes|\n",
        "|||\n",
        "|**Goal**|Understand the concept of clustering.|\n",
        "||Understand the working of K-Means clustering.|\n",
        "||Cluster one-dimensional data.|\n",
        "||Cluster two-dimensional data.|\n",
        "|||\n",
        "|**Teacher Resources**|Google Account|\n",
        "||Laptop with internet connectivity|\n",
        "||Earphones with mic|\n",
        "|||\n",
        "|**Student Resources**|Google Account|\n",
        "||Laptop with internet connectivity|\n",
        "||Earphones with mic|"
      ]
    },
    {
      "cell_type": "markdown",
      "metadata": {
        "id": "kk7HmTyEn348"
      },
      "source": [
        "---"
      ]
    },
    {
      "cell_type": "markdown",
      "metadata": {
        "id": "P6Sr83ryugbw"
      },
      "source": [
        "### Warm-up Quiz\n",
        "\n",
        "```\n",
        "TEACHER\n",
        "I have an exciting quiz question for you! Are you ready to answer this question?\n",
        "\n",
        "EXPECTED STUDENT RESPONSE\n",
        "Yes.\n",
        "```\n",
        "\n",
        "**Instructions for the Teacher:**\n",
        "- Please click on the \"Quiz Time\" button on the bottom right corner of your screen to start the In-Class Quiz. <img src='https://student-datasets-bucket.s3.ap-south-1.amazonaws.com/images/quiz-time.png' width = 150>\n",
        "\n",
        "- A quiz will be visible to both you and the student. Encourage the student to answer the quiz question.\n",
        "\n",
        "- The student may choose the wrong option, help the student to think correctly about the question and then answer again.\n",
        "\n",
        "- After the student selects the correct option, the \"End Quiz\" button will start appearing on your screen. <img src='https://student-datasets-bucket.s3.ap-south-1.amazonaws.com/images/end-quiz.png' width = 150>  \n",
        "\n",
        "- Click the \"End quiz\" button to close the quiz pop-up and continue the class.\n",
        "  \n",
        "- Do not spend more than 2 minutes on this quiz."
      ]
    },
    {
      "cell_type": "markdown",
      "metadata": {
        "id": "sbwlGZ5NuhQv"
      },
      "source": [
        "---"
      ]
    },
    {
      "cell_type": "markdown",
      "metadata": {
        "id": "u2izhJl7n9xJ"
      },
      "source": [
        "### Teacher-Student Activities\n",
        "\n",
        "\n",
        "\n",
        "\n",
        "So far the Machine Learning algorithms which we have worked on are known as supervised learning algorithms. In supervised learning we teach the machine using labelled data. This means the training data is already tagged with the correct answer. Once the system is trained it is used to predict the outcome for the unknown data. Classification and Regression are examples of supervised learning. However, a lot of machine learning applications comes with **unlabelled data**.\n",
        "\n",
        "Let's look a new problem statement to understand the unlabelled data. Here, we\n",
        "have a transactional data set which contains all the transactions occurring between 01/12/2010 and 09/12/2011 for a UK-based and registered non-store online retail. The company mainly sells unique all-occasion gifts. Many customers of the company are wholesalers.\n",
        "\n",
        "From the following information, we need to segregate customers and categorise them in some form.\n",
        "\n",
        "**Attribute Information:**\n",
        "\n",
        "- `InvoiceNo`: Invoice number. Nominal, a 6-digit integral number uniquely assigned to each transaction. If this code starts with letter 'c', it indicates a cancellation.\n",
        "\n",
        "- `StockCode`: Product (item) code. Nominal, a 5-digit integral number uniquely assigned to each distinct product.\n",
        "\n",
        "- `Description`: Product (item) name. Nominal.\n",
        "\n",
        "- `Quantity`: The quantities of each product (item) per transaction. Numeric.\n",
        "\n",
        "- `InvoiceDate`: Invoice Date and time. Numeric, the day and time when each transaction was generated. The date-time format used here is `yyyy-mm-dd hh:mm:ss`.\n",
        "\n",
        "- `UnitPrice`: Unit price. Numeric, product price per unit in sterling.\n",
        "\n",
        "- `CustomerID`: Customer number. Nominal, a 5-digit integral number uniquely assigned to each customer.\n",
        "\n",
        "- `Country`: Country name. Nominal, the name of the country where each customer resides.\n",
        "\n",
        "\n",
        "**Link to the dataset:** https://student-datasets-bucket.s3.ap-south-1.amazonaws.com/whitehat-ds-datasets/online-retail-customers.xlsx\n",
        "\n",
        "**Dataset Credits:** https://archive.ics.uci.edu/ml/datasets/online+retail\n",
        "\n",
        "**Citation:** Dr Daqing Chen, Director: Public Analytics group. chend '@' lsbu.ac.uk, School of Engineering, London South Bank University, London SE1 0AA, UK.\n",
        "\n",
        "**Note:** Since the dataset is a Microsoft Excel file, i.e., in the `xlsx` format, we need to use the `read_excel()` function of the Pandas module.\n"
      ]
    },
    {
      "cell_type": "code",
      "metadata": {
        "colab": {
          "base_uri": "https://localhost:8080/",
          "height": 363
        },
        "id": "TxigkbWruoU0",
        "outputId": "ced4ecb4-e8dd-4848-dae5-e4f3eb575633"
      },
      "source": [
        "# Import the Python modules and the data.\n",
        "import numpy as np\n",
        "import pandas as pd\n",
        "import matplotlib.pyplot as plt\n",
        "import seaborn as sns\n",
        "\n",
        "customers_df = pd.read_excel(\"https://student-datasets-bucket.s3.ap-south-1.amazonaws.com/whitehat-ds-datasets/online-retail-customers.xlsx\")\n",
        "customers_df.head(10)"
      ],
      "execution_count": null,
      "outputs": [
        {
          "output_type": "execute_result",
          "data": {
            "text/plain": [
              "  InvoiceNo StockCode                          Description  Quantity  \\\n",
              "0    536365    85123A   WHITE HANGING HEART T-LIGHT HOLDER         6   \n",
              "1    536365     71053                  WHITE METAL LANTERN         6   \n",
              "2    536365    84406B       CREAM CUPID HEARTS COAT HANGER         8   \n",
              "3    536365    84029G  KNITTED UNION FLAG HOT WATER BOTTLE         6   \n",
              "4    536365    84029E       RED WOOLLY HOTTIE WHITE HEART.         6   \n",
              "5    536365     22752         SET 7 BABUSHKA NESTING BOXES         2   \n",
              "6    536365     21730    GLASS STAR FROSTED T-LIGHT HOLDER         6   \n",
              "7    536366     22633               HAND WARMER UNION JACK         6   \n",
              "8    536366     22632            HAND WARMER RED POLKA DOT         6   \n",
              "9    536367     84879        ASSORTED COLOUR BIRD ORNAMENT        32   \n",
              "\n",
              "          InvoiceDate  UnitPrice  CustomerID         Country  \n",
              "0 2010-12-01 08:26:00       2.55     17850.0  United Kingdom  \n",
              "1 2010-12-01 08:26:00       3.39     17850.0  United Kingdom  \n",
              "2 2010-12-01 08:26:00       2.75     17850.0  United Kingdom  \n",
              "3 2010-12-01 08:26:00       3.39     17850.0  United Kingdom  \n",
              "4 2010-12-01 08:26:00       3.39     17850.0  United Kingdom  \n",
              "5 2010-12-01 08:26:00       7.65     17850.0  United Kingdom  \n",
              "6 2010-12-01 08:26:00       4.25     17850.0  United Kingdom  \n",
              "7 2010-12-01 08:28:00       1.85     17850.0  United Kingdom  \n",
              "8 2010-12-01 08:28:00       1.85     17850.0  United Kingdom  \n",
              "9 2010-12-01 08:34:00       1.69     13047.0  United Kingdom  "
            ],
            "text/html": [
              "\n",
              "  <div id=\"df-1952d904-4352-4efb-a923-6c8d6d81306a\">\n",
              "    <div class=\"colab-df-container\">\n",
              "      <div>\n",
              "<style scoped>\n",
              "    .dataframe tbody tr th:only-of-type {\n",
              "        vertical-align: middle;\n",
              "    }\n",
              "\n",
              "    .dataframe tbody tr th {\n",
              "        vertical-align: top;\n",
              "    }\n",
              "\n",
              "    .dataframe thead th {\n",
              "        text-align: right;\n",
              "    }\n",
              "</style>\n",
              "<table border=\"1\" class=\"dataframe\">\n",
              "  <thead>\n",
              "    <tr style=\"text-align: right;\">\n",
              "      <th></th>\n",
              "      <th>InvoiceNo</th>\n",
              "      <th>StockCode</th>\n",
              "      <th>Description</th>\n",
              "      <th>Quantity</th>\n",
              "      <th>InvoiceDate</th>\n",
              "      <th>UnitPrice</th>\n",
              "      <th>CustomerID</th>\n",
              "      <th>Country</th>\n",
              "    </tr>\n",
              "  </thead>\n",
              "  <tbody>\n",
              "    <tr>\n",
              "      <th>0</th>\n",
              "      <td>536365</td>\n",
              "      <td>85123A</td>\n",
              "      <td>WHITE HANGING HEART T-LIGHT HOLDER</td>\n",
              "      <td>6</td>\n",
              "      <td>2010-12-01 08:26:00</td>\n",
              "      <td>2.55</td>\n",
              "      <td>17850.0</td>\n",
              "      <td>United Kingdom</td>\n",
              "    </tr>\n",
              "    <tr>\n",
              "      <th>1</th>\n",
              "      <td>536365</td>\n",
              "      <td>71053</td>\n",
              "      <td>WHITE METAL LANTERN</td>\n",
              "      <td>6</td>\n",
              "      <td>2010-12-01 08:26:00</td>\n",
              "      <td>3.39</td>\n",
              "      <td>17850.0</td>\n",
              "      <td>United Kingdom</td>\n",
              "    </tr>\n",
              "    <tr>\n",
              "      <th>2</th>\n",
              "      <td>536365</td>\n",
              "      <td>84406B</td>\n",
              "      <td>CREAM CUPID HEARTS COAT HANGER</td>\n",
              "      <td>8</td>\n",
              "      <td>2010-12-01 08:26:00</td>\n",
              "      <td>2.75</td>\n",
              "      <td>17850.0</td>\n",
              "      <td>United Kingdom</td>\n",
              "    </tr>\n",
              "    <tr>\n",
              "      <th>3</th>\n",
              "      <td>536365</td>\n",
              "      <td>84029G</td>\n",
              "      <td>KNITTED UNION FLAG HOT WATER BOTTLE</td>\n",
              "      <td>6</td>\n",
              "      <td>2010-12-01 08:26:00</td>\n",
              "      <td>3.39</td>\n",
              "      <td>17850.0</td>\n",
              "      <td>United Kingdom</td>\n",
              "    </tr>\n",
              "    <tr>\n",
              "      <th>4</th>\n",
              "      <td>536365</td>\n",
              "      <td>84029E</td>\n",
              "      <td>RED WOOLLY HOTTIE WHITE HEART.</td>\n",
              "      <td>6</td>\n",
              "      <td>2010-12-01 08:26:00</td>\n",
              "      <td>3.39</td>\n",
              "      <td>17850.0</td>\n",
              "      <td>United Kingdom</td>\n",
              "    </tr>\n",
              "    <tr>\n",
              "      <th>5</th>\n",
              "      <td>536365</td>\n",
              "      <td>22752</td>\n",
              "      <td>SET 7 BABUSHKA NESTING BOXES</td>\n",
              "      <td>2</td>\n",
              "      <td>2010-12-01 08:26:00</td>\n",
              "      <td>7.65</td>\n",
              "      <td>17850.0</td>\n",
              "      <td>United Kingdom</td>\n",
              "    </tr>\n",
              "    <tr>\n",
              "      <th>6</th>\n",
              "      <td>536365</td>\n",
              "      <td>21730</td>\n",
              "      <td>GLASS STAR FROSTED T-LIGHT HOLDER</td>\n",
              "      <td>6</td>\n",
              "      <td>2010-12-01 08:26:00</td>\n",
              "      <td>4.25</td>\n",
              "      <td>17850.0</td>\n",
              "      <td>United Kingdom</td>\n",
              "    </tr>\n",
              "    <tr>\n",
              "      <th>7</th>\n",
              "      <td>536366</td>\n",
              "      <td>22633</td>\n",
              "      <td>HAND WARMER UNION JACK</td>\n",
              "      <td>6</td>\n",
              "      <td>2010-12-01 08:28:00</td>\n",
              "      <td>1.85</td>\n",
              "      <td>17850.0</td>\n",
              "      <td>United Kingdom</td>\n",
              "    </tr>\n",
              "    <tr>\n",
              "      <th>8</th>\n",
              "      <td>536366</td>\n",
              "      <td>22632</td>\n",
              "      <td>HAND WARMER RED POLKA DOT</td>\n",
              "      <td>6</td>\n",
              "      <td>2010-12-01 08:28:00</td>\n",
              "      <td>1.85</td>\n",
              "      <td>17850.0</td>\n",
              "      <td>United Kingdom</td>\n",
              "    </tr>\n",
              "    <tr>\n",
              "      <th>9</th>\n",
              "      <td>536367</td>\n",
              "      <td>84879</td>\n",
              "      <td>ASSORTED COLOUR BIRD ORNAMENT</td>\n",
              "      <td>32</td>\n",
              "      <td>2010-12-01 08:34:00</td>\n",
              "      <td>1.69</td>\n",
              "      <td>13047.0</td>\n",
              "      <td>United Kingdom</td>\n",
              "    </tr>\n",
              "  </tbody>\n",
              "</table>\n",
              "</div>\n",
              "      <button class=\"colab-df-convert\" onclick=\"convertToInteractive('df-1952d904-4352-4efb-a923-6c8d6d81306a')\"\n",
              "              title=\"Convert this dataframe to an interactive table.\"\n",
              "              style=\"display:none;\">\n",
              "        \n",
              "  <svg xmlns=\"http://www.w3.org/2000/svg\" height=\"24px\"viewBox=\"0 0 24 24\"\n",
              "       width=\"24px\">\n",
              "    <path d=\"M0 0h24v24H0V0z\" fill=\"none\"/>\n",
              "    <path d=\"M18.56 5.44l.94 2.06.94-2.06 2.06-.94-2.06-.94-.94-2.06-.94 2.06-2.06.94zm-11 1L8.5 8.5l.94-2.06 2.06-.94-2.06-.94L8.5 2.5l-.94 2.06-2.06.94zm10 10l.94 2.06.94-2.06 2.06-.94-2.06-.94-.94-2.06-.94 2.06-2.06.94z\"/><path d=\"M17.41 7.96l-1.37-1.37c-.4-.4-.92-.59-1.43-.59-.52 0-1.04.2-1.43.59L10.3 9.45l-7.72 7.72c-.78.78-.78 2.05 0 2.83L4 21.41c.39.39.9.59 1.41.59.51 0 1.02-.2 1.41-.59l7.78-7.78 2.81-2.81c.8-.78.8-2.07 0-2.86zM5.41 20L4 18.59l7.72-7.72 1.47 1.35L5.41 20z\"/>\n",
              "  </svg>\n",
              "      </button>\n",
              "      \n",
              "  <style>\n",
              "    .colab-df-container {\n",
              "      display:flex;\n",
              "      flex-wrap:wrap;\n",
              "      gap: 12px;\n",
              "    }\n",
              "\n",
              "    .colab-df-convert {\n",
              "      background-color: #E8F0FE;\n",
              "      border: none;\n",
              "      border-radius: 50%;\n",
              "      cursor: pointer;\n",
              "      display: none;\n",
              "      fill: #1967D2;\n",
              "      height: 32px;\n",
              "      padding: 0 0 0 0;\n",
              "      width: 32px;\n",
              "    }\n",
              "\n",
              "    .colab-df-convert:hover {\n",
              "      background-color: #E2EBFA;\n",
              "      box-shadow: 0px 1px 2px rgba(60, 64, 67, 0.3), 0px 1px 3px 1px rgba(60, 64, 67, 0.15);\n",
              "      fill: #174EA6;\n",
              "    }\n",
              "\n",
              "    [theme=dark] .colab-df-convert {\n",
              "      background-color: #3B4455;\n",
              "      fill: #D2E3FC;\n",
              "    }\n",
              "\n",
              "    [theme=dark] .colab-df-convert:hover {\n",
              "      background-color: #434B5C;\n",
              "      box-shadow: 0px 1px 3px 1px rgba(0, 0, 0, 0.15);\n",
              "      filter: drop-shadow(0px 1px 2px rgba(0, 0, 0, 0.3));\n",
              "      fill: #FFFFFF;\n",
              "    }\n",
              "  </style>\n",
              "\n",
              "      <script>\n",
              "        const buttonEl =\n",
              "          document.querySelector('#df-1952d904-4352-4efb-a923-6c8d6d81306a button.colab-df-convert');\n",
              "        buttonEl.style.display =\n",
              "          google.colab.kernel.accessAllowed ? 'block' : 'none';\n",
              "\n",
              "        async function convertToInteractive(key) {\n",
              "          const element = document.querySelector('#df-1952d904-4352-4efb-a923-6c8d6d81306a');\n",
              "          const dataTable =\n",
              "            await google.colab.kernel.invokeFunction('convertToInteractive',\n",
              "                                                     [key], {});\n",
              "          if (!dataTable) return;\n",
              "\n",
              "          const docLinkHtml = 'Like what you see? Visit the ' +\n",
              "            '<a target=\"_blank\" href=Link on Panelotebook</a>'\n",
              "            + ' to learn more about interactive tables.';\n",
              "          element.innerHTML = '';\n",
              "          dataTable['output_type'] = 'display_data';\n",
              "          await google.colab.output.renderOutput(dataTable, element);\n",
              "          const docLink = document.createElement('div');\n",
              "          docLink.innerHTML = docLinkHtml;\n",
              "          element.appendChild(docLink);\n",
              "        }\n",
              "      </script>\n",
              "    </div>\n",
              "  </div>\n",
              "  "
            ]
          },
          "metadata": {},
          "execution_count": 1
        }
      ]
    },
    {
      "cell_type": "markdown",
      "metadata": {
        "id": "YBuy1YeLu2AG"
      },
      "source": [
        "We can see that, the customers are not categorised in any way. A retail company would like to categorise their customers as high-value, mid-value or low-value customers or something similar that we don't have in the above dataset. Hence, from the above set of features, we need to figure out a way to categorise the customers.\n",
        "\n",
        "For this purpose, we need to use a machine learning technique called **clustering**. Using clustering, we can categorise the customers in the above dataset as labels, say, $1, 2, 3, 4, \\dots$\n",
        "\n",
        "These labels will effectively serve as the target variable. Right now, we neither have feature variables nor the target variables to build a classification model to predict what customers are likely to buy more from retail a store.\n",
        "\n",
        "Let's understand clustering now. Thereafter, we will come back to solve the above problem statement.\n"
      ]
    },
    {
      "cell_type": "markdown",
      "metadata": {
        "id": "9CJJonTFu8QN"
      },
      "source": [
        "---"
      ]
    },
    {
      "cell_type": "markdown",
      "metadata": {
        "id": "Xxe8dcZgu9FE"
      },
      "source": [
        "### Clustering\n",
        "\n",
        "*Clustering* is the most common unsupervised learning technique.\n",
        "\n",
        "**What is unsupervised learning?**\n",
        "- In unsupervised learning, the machine uses unlabelled data and learns on itself without any supervision.\n",
        "- The machine tries to find a pattern in the unlabelled data and gives a response.\n",
        "\n",
        "Clustering is an unsupervised learning technique which is used to make groups of objects which are more related to each other than to other groups.\n",
        "\n",
        "In clustering, we first partition the set of data into groups based on the similarity and then assign the labels to those groups. Also, it helps us to find out various useful features that can help in distinguishing between different groups. For example, finding out which target customers are more suitable for a particular product.\n",
        "\n",
        "For the problem statement given above, we will perform the task of grouping the customer based on common interests and customise the marketing strategies for each group:  \n",
        "\n",
        "<center>\n",
        "<img src=\"https://s3-whjr-v2-prod-bucket.whjr.online/928b7fab-fd5f-4057-b39f-2cfbb60e6f63.png\"/>\n",
        "</center>\n",
        "\n",
        "In the above image, you can see an illustration of customer segmentation. Suppose the marketing team of a company needs to identify target audience for a new product. A target audience is the specific group of customers who will most likely purchase your product or service.\n",
        "\n",
        "Using clustering techniques, companies can divide the available customer base into different groups. From these groups, it would be easy to identify the segment of customers who can be the potential buyers of the product. This will eventually contribute in increasing the revenue of the company.\n",
        "\n",
        "\n",
        "In this class, we will explore an unsupervised learning algorithm called **K-Means Clustering** with the help of a very simple example before solving the online retail customer segmentation problem\n",
        "\n"
      ]
    },
    {
      "cell_type": "markdown",
      "metadata": {
        "id": "FmrSneYip4sm"
      },
      "source": [
        "---"
      ]
    },
    {
      "cell_type": "markdown",
      "metadata": {
        "id": "184i-9tbp7my"
      },
      "source": [
        "#### Activity 1: Clustering 1-Dimensional Dataset\n",
        "\n",
        "Let us begin with a simple 1-dimensional dataset. Consider a dataset of 9 balls having following diameters:\n",
        "\n",
        "`Diameters = [1.3, 4, 3.2, 1.5, 3, 9, 3.6, 8, 8.3]`\n",
        "\n",
        "Our task is to categorise these balls into different groups or clusters based on their diameters.\n",
        "\n",
        "The solution to this problem is straightforward. We will group balls having approximately equal or similar diameters in the same group. We will achieve this using K-Means clustering algorithm.\n",
        "\n",
        "Let us first import the necessary Python modules and create a DataFrame consisting of only one column `Diameter`.\n"
      ]
    },
    {
      "cell_type": "code",
      "metadata": {
        "id": "RSoTtHREm7wW",
        "colab": {
          "base_uri": "https://localhost:8080/",
          "height": 206
        },
        "outputId": "0e13ffb3-784e-412d-80c8-e8f647a2aea2"
      },
      "source": [
        "# S1.1: Import the modules and generate the DataFrame.\n",
        "import numpy as np\n",
        "import pandas as pd\n",
        "import matplotlib.pyplot as plt\n",
        "\n",
        "# Generate a DataFrame consisting of one column 'Diameters' having diameters of 9 balls.\n",
        "balls_df = pd.DataFrame({'Diameter': [1.3, 4, 3.2, 1.5, 3, 9, 3.6, 8, 8.3]})\n",
        "balls_df.head()"
      ],
      "execution_count": null,
      "outputs": [
        {
          "output_type": "execute_result",
          "data": {
            "text/plain": [
              "   Diameter\n",
              "0       1.3\n",
              "1       4.0\n",
              "2       3.2\n",
              "3       1.5\n",
              "4       3.0"
            ],
            "text/html": [
              "\n",
              "  <div id=\"df-6c66c9fc-51de-4737-b584-f2389420424a\">\n",
              "    <div class=\"colab-df-container\">\n",
              "      <div>\n",
              "<style scoped>\n",
              "    .dataframe tbody tr th:only-of-type {\n",
              "        vertical-align: middle;\n",
              "    }\n",
              "\n",
              "    .dataframe tbody tr th {\n",
              "        vertical-align: top;\n",
              "    }\n",
              "\n",
              "    .dataframe thead th {\n",
              "        text-align: right;\n",
              "    }\n",
              "</style>\n",
              "<table border=\"1\" class=\"dataframe\">\n",
              "  <thead>\n",
              "    <tr style=\"text-align: right;\">\n",
              "      <th></th>\n",
              "      <th>Diameter</th>\n",
              "    </tr>\n",
              "  </thead>\n",
              "  <tbody>\n",
              "    <tr>\n",
              "      <th>0</th>\n",
              "      <td>1.3</td>\n",
              "    </tr>\n",
              "    <tr>\n",
              "      <th>1</th>\n",
              "      <td>4.0</td>\n",
              "    </tr>\n",
              "    <tr>\n",
              "      <th>2</th>\n",
              "      <td>3.2</td>\n",
              "    </tr>\n",
              "    <tr>\n",
              "      <th>3</th>\n",
              "      <td>1.5</td>\n",
              "    </tr>\n",
              "    <tr>\n",
              "      <th>4</th>\n",
              "      <td>3.0</td>\n",
              "    </tr>\n",
              "  </tbody>\n",
              "</table>\n",
              "</div>\n",
              "      <button class=\"colab-df-convert\" onclick=\"convertToInteractive('df-6c66c9fc-51de-4737-b584-f2389420424a')\"\n",
              "              title=\"Convert this dataframe to an interactive table.\"\n",
              "              style=\"display:none;\">\n",
              "        \n",
              "  <svg xmlns=\"http://www.w3.org/2000/svg\" height=\"24px\"viewBox=\"0 0 24 24\"\n",
              "       width=\"24px\">\n",
              "    <path d=\"M0 0h24v24H0V0z\" fill=\"none\"/>\n",
              "    <path d=\"M18.56 5.44l.94 2.06.94-2.06 2.06-.94-2.06-.94-.94-2.06-.94 2.06-2.06.94zm-11 1L8.5 8.5l.94-2.06 2.06-.94-2.06-.94L8.5 2.5l-.94 2.06-2.06.94zm10 10l.94 2.06.94-2.06 2.06-.94-2.06-.94-.94-2.06-.94 2.06-2.06.94z\"/><path d=\"M17.41 7.96l-1.37-1.37c-.4-.4-.92-.59-1.43-.59-.52 0-1.04.2-1.43.59L10.3 9.45l-7.72 7.72c-.78.78-.78 2.05 0 2.83L4 21.41c.39.39.9.59 1.41.59.51 0 1.02-.2 1.41-.59l7.78-7.78 2.81-2.81c.8-.78.8-2.07 0-2.86zM5.41 20L4 18.59l7.72-7.72 1.47 1.35L5.41 20z\"/>\n",
              "  </svg>\n",
              "      </button>\n",
              "      \n",
              "  <style>\n",
              "    .colab-df-container {\n",
              "      display:flex;\n",
              "      flex-wrap:wrap;\n",
              "      gap: 12px;\n",
              "    }\n",
              "\n",
              "    .colab-df-convert {\n",
              "      background-color: #E8F0FE;\n",
              "      border: none;\n",
              "      border-radius: 50%;\n",
              "      cursor: pointer;\n",
              "      display: none;\n",
              "      fill: #1967D2;\n",
              "      height: 32px;\n",
              "      padding: 0 0 0 0;\n",
              "      width: 32px;\n",
              "    }\n",
              "\n",
              "    .colab-df-convert:hover {\n",
              "      background-color: #E2EBFA;\n",
              "      box-shadow: 0px 1px 2px rgba(60, 64, 67, 0.3), 0px 1px 3px 1px rgba(60, 64, 67, 0.15);\n",
              "      fill: #174EA6;\n",
              "    }\n",
              "\n",
              "    [theme=dark] .colab-df-convert {\n",
              "      background-color: #3B4455;\n",
              "      fill: #D2E3FC;\n",
              "    }\n",
              "\n",
              "    [theme=dark] .colab-df-convert:hover {\n",
              "      background-color: #434B5C;\n",
              "      box-shadow: 0px 1px 3px 1px rgba(0, 0, 0, 0.15);\n",
              "      filter: drop-shadow(0px 1px 2px rgba(0, 0, 0, 0.3));\n",
              "      fill: #FFFFFF;\n",
              "    }\n",
              "  </style>\n",
              "\n",
              "      <script>\n",
              "        const buttonEl =\n",
              "          document.querySelector('#df-6c66c9fc-51de-4737-b584-f2389420424a button.colab-df-convert');\n",
              "        buttonEl.style.display =\n",
              "          google.colab.kernel.accessAllowed ? 'block' : 'none';\n",
              "\n",
              "        async function convertToInteractive(key) {\n",
              "          const element = document.querySelector('#df-6c66c9fc-51de-4737-b584-f2389420424a');\n",
              "          const dataTable =\n",
              "            await google.colab.kernel.invokeFunction('convertToInteractive',\n",
              "                                                     [key], {});\n",
              "          if (!dataTable) return;\n",
              "\n",
              "          const docLinkHtml = 'Like what you see? Visit the ' +\n",
              "            '<a target=\"_blank\" href=Link on Panelotebook</a>'\n",
              "            + ' to learn more about interactive tables.';\n",
              "          element.innerHTML = '';\n",
              "          dataTable['output_type'] = 'display_data';\n",
              "          await google.colab.output.renderOutput(dataTable, element);\n",
              "          const docLink = document.createElement('div');\n",
              "          docLink.innerHTML = docLinkHtml;\n",
              "          element.appendChild(docLink);\n",
              "        }\n",
              "      </script>\n",
              "    </div>\n",
              "  </div>\n",
              "  "
            ]
          },
          "metadata": {},
          "execution_count": 2
        }
      ]
    },
    {
      "cell_type": "markdown",
      "metadata": {
        "id": "aBfSOQDVV9Nf"
      },
      "source": [
        "Now generate a scatter plot to visualise these diameter values. Plot the diameters on $X$-axis and fix the $Y$-axis values at `1`.\n",
        "\n",
        "\n",
        "\n",
        "\n",
        "\n"
      ]
    },
    {
      "cell_type": "code",
      "metadata": {
        "colab": {
          "base_uri": "https://localhost:8080/",
          "height": 350
        },
        "id": "gn666rTUnhIh",
        "outputId": "d93fccf9-92c8-4ce2-e82c-cc20d6da7578"
      },
      "source": [
        "# S1.2: Check the distribution of ball_df DataFrame using scatter plot\n",
        "plt.figure(figsize = (12, 5))\n",
        "plt.scatter(balls_df, np.ones(9), label = f\"Ball Diameters\")\n",
        "plt.title(\"One dimensional dataset\")\n",
        "plt.xlabel(\"Diameters\")\n",
        "plt.show()"
      ],
      "execution_count": null,
      "outputs": [
        {
          "output_type": "display_data",
          "data": {
            "image/png": "[encoded data removed]",
            "text/plain": [
              "<Figure size 864x360 with 1 Axes>"
            ]
          },
          "metadata": {
            "needs_background": "light"
          }
        }
      ]
    },
    {
      "cell_type": "markdown",
      "metadata": {
        "id": "h2fef3YgWOsR"
      },
      "source": [
        "By simply looking at the scatter plot, we can say that there can be 3 groups/clusters of balls.\n",
        "\n",
        "Now, let us create clusters for this 1D dataset using K-means. The syntax for using K-means algorithm is as follows:\n",
        "\n",
        "**Syntax:** `sklearn.cluster.KMeans(n_clusters, random_state)`\n",
        "\n",
        "Where,\n",
        "- `n_cluster`: The number of clusters to form. The default value is `8`.\n",
        "- `random_state`: An integer value for consistent results.\n",
        "\n",
        "\n",
        "Follow the steps given below to perform K-means clustering:\n",
        "\n",
        "1. Import `KMeans` class from `sklearn.clusters` module.\n",
        "\n",
        "2. Create an object (say `kmeans_1d`) of the `KMeans` constructor and provide following inputs:\n",
        "\n",
        " - `n_clusters = 3`:  We are randomly selecting number of clusters as `3`. However, you need not always select 3 clusters.\n",
        "\n",
        " - `random_state = 2`\n",
        "\n",
        "3. Call the `fit()` function using the object of  `KMeans` class and pass the corresponding DataFrame `balls_df` as input.\n",
        "\n",
        "4. Get the predicted clusters for the data points by calling the `predict()` function on `kmeans_1d` and pass the `balls_df` DataFrame.\n",
        "\n",
        "5. Print the labels obtained after using `predict()` function."
      ]
    },
    {
      "cell_type": "code",
      "metadata": {
        "id": "uHX5A6KWY3pm",
        "colab": {
          "base_uri": "https://localhost:8080/"
        },
        "outputId": "09a57ed6-af7d-46d1-9689-b4fab95ad6ae"
      },
      "source": [
        "# S1.3: Import scikit learn KMeans library and determine the clusters.\n",
        "from sklearn.cluster import KMeans\n",
        "kmeans_1d = KMeans(n_clusters = 3, random_state = 2)\n",
        "kmeans_1d.fit(balls_df)\n",
        "labels = kmeans_1d.predict(balls_df)\n",
        "print(labels)"
      ],
      "execution_count": null,
      "outputs": [
        {
          "output_type": "stream",
          "name": "stdout",
          "text": [
            "[0 2 2 0 2 1 2 1 1]\n"
          ]
        }
      ]
    },
    {
      "cell_type": "markdown",
      "metadata": {
        "id": "7x35rfzkgQ3g"
      },
      "source": [
        "As you can see in the output, our 1D data is divided into 3 clusters where,\n",
        "- The first cluster is labelled as `0`.\n",
        "- The second cluster is labelled as `1`.\n",
        "- The third cluster is labelled as `2`.\n",
        "\n",
        "Each cluster has a center called as **centroid**. We will learn more about centroid in the next activity.\n",
        "\n",
        "As we have three clusters, we will have three centroids. Use `cluster_centers_` attribute with `kmeans_1d` object to obtain these centroids."
      ]
    },
    {
      "cell_type": "code",
      "metadata": {
        "id": "9Dqr9na1gQN6",
        "colab": {
          "base_uri": "https://localhost:8080/"
        },
        "outputId": "c8233ccb-bc67-4cb4-877a-b2388080803f"
      },
      "source": [
        "# S1.4: Print the centroids\n",
        "print(kmeans_1d.cluster_centers_)"
      ],
      "execution_count": null,
      "outputs": [
        {
          "output_type": "stream",
          "name": "stdout",
          "text": [
            "[[1.4       ]\n",
            " [8.43333333]\n",
            " [3.45      ]]\n"
          ]
        }
      ]
    },
    {
      "cell_type": "markdown",
      "metadata": {
        "id": "U2MwZCbR9rU6"
      },
      "source": [
        "In the above output, the K-Means estimator determined the cluster centers for the three clusters.\n",
        "\n",
        "Let's visualise these clusters by plotting them  on a scatter plot using the steps given below:\n",
        "\n",
        "1. Plot the `balls_df` DataFrame coloured by the `labels` by passing `c = labels` parameter inside the `scatter()` function as follows:\n",
        "\n",
        "  `plt.scatter(balls_df, np.ones(9), c = labels)`\n",
        "\n",
        "2. Plot the cluster centers or centroids on the scatter plot by plotting `kmeans_1d.cluster_centers_` on $x$-axis and `np.ones(3)` on $y$-axis.\n",
        "\n",
        "  **Note:** We are using `np.ones(3)` as we have three cluster centers.\n",
        "\n",
        "  To differentiate the datapoints from the centroids, pass `marker = *` while plotting the centroids. You can set the marker size as well for the cluster centres using the `s` parameter.\n",
        "\n"
      ]
    },
    {
      "cell_type": "code",
      "metadata": {
        "colab": {
          "base_uri": "https://localhost:8080/",
          "height": 378
        },
        "id": "ByquaoCFa0kn",
        "outputId": "9f7a6e73-fdd0-47e0-ce36-37cf5b052246"
      },
      "source": [
        "# S1.5: Plot the clusters and their centroids on a scatter plot.\n",
        "plt.figure(figsize = (12, 4), dpi = 96)\n",
        "plt.scatter(balls_df, np.ones(9), c = labels)\n",
        "plt.scatter(kmeans_1d.cluster_centers_, np.ones(3), marker = '*',\n",
        "            s = kmeans_1d.cluster_centers_ * 25, c = 'black'\n",
        "            )\n",
        "plt.title(\"One dimensional dataset\")\n",
        "plt.xlabel(\"Diameters\")\n",
        "plt.xticks(np.arange(1, 10, step = 0.5))\n",
        "plt.show()"
      ],
      "execution_count": null,
      "outputs": [
        {
          "output_type": "display_data",
          "data": {
            "image/png": "[encoded data removed]",
            "text/plain": [
              "<Figure size 1152x384 with 1 Axes>"
            ]
          },
          "metadata": {
            "needs_background": "light"
          }
        }
      ]
    },
    {
      "cell_type": "markdown",
      "metadata": {
        "id": "B4fAhvAMZIyu"
      },
      "source": [
        "In the above plot, you may observe that we obtained three clusters with their respective cluster centers marked with $*$ mark.\n",
        "\n",
        "- The purple coloured cluster with the centroid located at `1.4`.\n",
        "\n",
        "- The yellow coloured cluster with the centroid located at `3.45`.\n",
        "\n",
        "- The green coloured cluster with the centroid located at `8.43`.\n",
        "\n"
      ]
    },
    {
      "cell_type": "markdown",
      "metadata": {
        "id": "RzXbzOMFUuwU"
      },
      "source": [
        "---"
      ]
    },
    {
      "cell_type": "markdown",
      "metadata": {
        "id": "n1__XFctU_r0"
      },
      "source": [
        "#### Activity 2: Understanding K-Means Clustering\n",
        "\n",
        "K-Means clustering is among the most popular and simplest unsupervised machine learning algorithms. The objective of K-means is simple: group similar data points together and discover underlying patterns.\n",
        "\n",
        "To achieve this objective, K-Means looks for a fixed number  of clusters (`K`) in a dataset.\n",
        "\n",
        "\n",
        "Here's the algorithm for us:\n",
        "\n",
        "**Step 1: Choose $K$**\n",
        "\n",
        "Select the number of clusters i.e $K$ to be identified. So if we choose $K = 3$,  we're going to look for three clusters in our dataset.\n",
        "\n",
        "**Step 2: Select $K$ random points as centroids**\n",
        "\n",
        "Next, we randomly select the centroid for each cluster. The centroid is nothing but the cluster centers. It is the arithmetic mean of the data points belonging to a clusters.\n",
        "\n",
        "As the algorithm hasn't formed any clusters yet, so the initial centroids would be any random data points. Let’s say we want 3 clusters, so choose any 3 random data points as the cluster centroids.\n",
        "\n",
        "**Step 3: Assign each data point to the nearest  centroid**\n",
        "\n",
        "Once we have initialised the centroids, we assign each data point to the nearest cluster centroid.\n",
        "\n",
        "**Step 4: Recompute the centroids**\n",
        "\n",
        "Once all the data points to any of the cluster, compute the centroids of the newly formed clusters.\n",
        "\n",
        "**Step 5: Repeat steps 3 and 4**\n",
        "\n",
        "We then repeat steps 3 and 4 i.e. the step of computing the centroid and assigning all the data points to the nearest cluster based on their distance from the centroid.\n",
        "\n",
        "**When does the algorithm stops running?**\n",
        "\n",
        "K-means algorithm stops iterating when either the centroids of the newly formed clusters are not changing or the the data points remain in the same cluster even after multiple iterations.\n",
        "\n",
        "Refer the following flowchart to understand the working of K-Means algorithm:\n",
        "<center><img src=\"https://s3-whjr-v2-prod-bucket.whjr.online/cd367fbe-119a-4879-9249-4adf15fbee80.svg\"/></center>\n",
        "\n",
        "\n",
        "Let us now understand how K-Means performs clustering for the `Diameters` dataset.\n",
        "\n",
        "`Diameters = [1.3, 4, 3.2, 1.5, 3, 9, 3.6, 8, 8.3]`\n",
        "\n",
        "**Step 1:** Assume the number of clusters to be `3` i.e $K = 3$. You may choose any arbitrary value for $K$.\n",
        "\n",
        "**Step 2:** Assume first three data points as the three centroids:\n",
        "    - $\\bar{c_1} = 1.3$\n",
        "    - $\\bar{c_2} = 4$\n",
        "    - $\\bar{c_3} = 3.2$\n",
        "\n",
        "  **Note:** The initial centroid values are chosen arbitrarily. You can choose any other arbitrary centroid value.\n",
        "\n",
        "**Step 3:** Next, we will assign each data point to their closest cluster.\n",
        "  For example, consider the fourth data point `1.5`. The absolute distance of `1.5` from $\\bar{c_1}$, $\\bar{c_2}$ and $\\bar{c_3}$ are:\n",
        "    - $|1.5 - \\bar{c_1}| = |1.5 - 1.3| = 0.2$\n",
        "    - $|1.5 - \\bar{c_2}| = |1.5 - 4| = 2.5$\n",
        "    - $|1.5 - \\bar{c_3}| = |1.5 - 3.2| = 1.7$\n",
        "\n",
        "  As the absolute distance between `1.5` and $\\bar{c_1}$ is the least, we will assign `1.5` to cluster $C_1$.\n",
        "\n",
        "  Similarly, each data point will be assigned to their closest centroid. The following table shows the distance of each data point with each of the centroids.\n",
        "\n",
        "  **First Iteration:**\n",
        "  <img src=\"https://s3-whjr-v2-prod-bucket.whjr.online/47828d5b-0575-4bc0-a34f-72f4aa1b44c3.PNG\"/>\n",
        "\n",
        "  Thus, the clusters obtained from the above table are:\n",
        "  - $\\bar{c_1} = \\{1.3, 1.5\\}$\n",
        "  - $\\bar{c_2} = \\{4, 9, 3.6, 8, 8.3\\}$\n",
        "  - $\\bar{c_3} = \\{3.2, 3\\}$\n",
        "\n",
        "**Step 4:** After obtaining the newly formed clusters, update the value of cluster centers i.e the centroids. The *cluster center* is the arithmetic mean of all the points belonging to the cluster. (that is why, this algorithm is named as k-means)\n",
        " $$\\bar{c_1} = \\frac{1.3 + 1.5}{2} = 1.4$$\n",
        "\n",
        "  $$\\bar{c_2} = \\frac{4 + 9 + 3.6 + 8 + 8.3}{5} = 6.58$$\n",
        "\n",
        "  $$\\bar{c_3} = \\frac{3.2 + 3}{2} = 3.1$$\n",
        "\n",
        "  Thus, the new centroids are:\n",
        "  - $\\bar{c_1}= 1.4$\n",
        "  - $\\bar{c_2}=6.58$\n",
        "  -  $\\bar{c_3}=3.1$\n",
        "\n",
        "This completes the first iteration. Similarly, now again assign each data point to either of the cluster by calculating their absolute distance from the newly obtained centroids.\n",
        "\n",
        "Thus, the distance between each data point with the new centroids $\\bar{c_1}= 1.4$, $\\bar{c_2}=6.58$, $\\bar{c_3}=3.1$ are as given below:\n",
        "\n",
        "  **Second Iteration:**\n",
        "\n",
        "  <img src=\"https://s3-whjr-v2-prod-bucket.whjr.online/1a933ee9-754b-4543-9ff3-87f3e6d523d5.PNG\"/>\n",
        "\n",
        "Thus, the clusters obtained from the above table are:\n",
        "  - $C_1 = \\{1.3, 1.5\\}$\n",
        "  - $C_2 = \\{9, 8, 8.3\\}$\n",
        "  - $C_3 = \\{4, 3.2, 3, 3.6\\}$\n",
        "\n",
        "After computing the arithmetic mean of the above clusters, we obtained following new cluster centroids after second iteration:\n",
        "\n",
        "  - $\\bar{c_1}= 1.4$\n",
        "  - $\\bar{c_2}=8.43$\n",
        "  - $\\bar{c3}=3.45$\n",
        "\n",
        "Similarly, again assign each data point to either of the cluster by calculating their absolute distance from the newly obtained centroids.\n",
        "\n",
        "Thus, the distance between each data point with the new centroids  $\\bar{c_1}= 1.4$, $\\bar{c_2}=8.43$, $\\bar{c_3}=3.45$  are as given below:\n",
        "\n",
        " **Third Iteration:**\n",
        "\n",
        "  <img src=\"https://s3-whjr-v2-prod-bucket.whjr.online/7d9d774e-7643-49a4-968e-9a73ad0c7568.PNG\"/>\n",
        "\n",
        "Thus, the clusters obtained from the above table are:\n",
        "  - $C_1 = \\{1.3, 1.5\\}$\n",
        "  - $C_2 = \\{9, 8, 8.3\\}$\n",
        "  - $C_3 = \\{4, 3.2, 3, 3.6\\}$\n",
        "\n",
        "Refer the table below which shows the clusters obtained after each iteration:\n",
        "\n",
        "  <img src=\"https://s3-whjr-v2-prod-bucket.whjr.online/4fd0743b-f9ee-49ab-8a81-700af9025636.PNG\"/>\n",
        "\n",
        "You will observe that the data points remain in the same cluster after second iteration. This means that we have obtained our final clusters having following centroid values:\n",
        "  - $\\bar{c_1}= 1.4$\n",
        "  - $\\bar{c_2}=8.43$\n",
        "  - $\\bar{c_3}=3.45$\n",
        "\n",
        "Note that we had obtained same centroid values using `cluster_centers_` property on `kmeans_1d` object.\n"
      ]
    },
    {
      "cell_type": "code",
      "metadata": {
        "colab": {
          "base_uri": "https://localhost:8080/"
        },
        "id": "F82ATwzfkIue",
        "outputId": "00bb00a9-c2f6-49ec-e591-580e458ef7d8"
      },
      "source": [
        "# S2.1: Print the centroids again using 'kmeans_1d' object.\n",
        "print(kmeans_1d.cluster_centers_)"
      ],
      "execution_count": null,
      "outputs": [
        {
          "output_type": "stream",
          "name": "stdout",
          "text": [
            "[[1.4       ]\n",
            " [8.43333333]\n",
            " [3.45      ]]\n"
          ]
        }
      ]
    },
    {
      "cell_type": "markdown",
      "metadata": {
        "id": "KWdFkSKW2K6_"
      },
      "source": [
        "---"
      ]
    },
    {
      "cell_type": "markdown",
      "metadata": {
        "id": "N-rAGy77dMJR"
      },
      "source": [
        "#### Activity 3: Clustering 2-Dimensional Dataset\n",
        "\n",
        "Let's create a random dataset in 2-dimensional space using the steps given below:\n",
        "\n",
        "1. Generate a 2D array of 100 rows and 2 columns. This array must consists of negative random numbers.\n",
        "2. Now replace last 50 rows of this array with 50 rows of positive random numbers.\n",
        "\n",
        "\n",
        "**Note:** Use `random.rand()` function of `numpy` module for generating random numbers. Also use `random.seed()` function of `numpy` module to obtain same random numbers on multiple execution of code."
      ]
    },
    {
      "cell_type": "code",
      "metadata": {
        "id": "ZflnEwaeY3iN",
        "colab": {
          "base_uri": "https://localhost:8080/"
        },
        "outputId": "78ce407c-1597-4751-da10-056c60ca9529"
      },
      "source": [
        "# S3.1: Generate random data points for 2D clustering\n",
        "np.random.seed(2)\n",
        "two_dim = - 1 * np.random.rand(100, 2)\n",
        "two_dim[50:100, :] = np.random.rand(50, 2)\n",
        "print(two_dim)"
      ],
      "execution_count": null,
      "outputs": [
        {
          "output_type": "stream",
          "name": "stdout",
          "text": [
            "[[-0.4359949  -0.02592623]\n",
            " [-0.54966248 -0.43532239]\n",
            " [-0.4203678  -0.33033482]\n",
            " [-0.20464863 -0.61927097]\n",
            " [-0.29965467 -0.26682728]\n",
            " [-0.62113383 -0.52914209]\n",
            " [-0.13457995 -0.51357812]\n",
            " [-0.18443987 -0.78533515]\n",
            " [-0.85397529 -0.49423684]\n",
            " [-0.84656149 -0.07964548]\n",
            " [-0.50524609 -0.0652865 ]\n",
            " [-0.42812233 -0.09653092]\n",
            " [-0.12715997 -0.59674531]\n",
            " [-0.226012   -0.10694568]\n",
            " [-0.22030621 -0.34982629]\n",
            " [-0.46778748 -0.20174323]\n",
            " [-0.64040673 -0.48306984]\n",
            " [-0.50523672 -0.38689265]\n",
            " [-0.79363745 -0.58000418]\n",
            " [-0.1622986  -0.70075235]\n",
            " [-0.96455108 -0.50000836]\n",
            " [-0.88952006 -0.34161365]\n",
            " [-0.56714413 -0.42754596]\n",
            " [-0.43674726 -0.77655918]\n",
            " [-0.53560417 -0.95374223]\n",
            " [-0.54420816 -0.08209492]\n",
            " [-0.3663424  -0.8508505 ]\n",
            " [-0.40627504 -0.02720237]\n",
            " [-0.24717724 -0.06714437]\n",
            " [-0.99385201 -0.97058031]\n",
            " [-0.80025835 -0.60181712]\n",
            " [-0.76495986 -0.16922545]\n",
            " [-0.29302323 -0.52406688]\n",
            " [-0.35662428 -0.04567897]\n",
            " [-0.98315345 -0.44135492]\n",
            " [-0.50400044 -0.32354132]\n",
            " [-0.25974475 -0.38688989]\n",
            " [-0.8320169  -0.73674706]\n",
            " [-0.37921057 -0.01301734]\n",
            " [-0.79740494 -0.2693888 ]\n",
            " [-0.58268489 -0.02555094]\n",
            " [-0.66220202 -0.38752343]\n",
            " [-0.4970738  -0.41490584]\n",
            " [-0.3508719  -0.55097791]\n",
            " [-0.97291069 -0.11277622]\n",
            " [-0.31325853 -0.04179771]\n",
            " [-0.73839976 -0.65751239]\n",
            " [-0.21463575 -0.41675344]\n",
            " [-0.64384193 -0.66148133]\n",
            " [-0.17047713 -0.88165224]\n",
            " [ 0.50121645  0.50608683]\n",
            " [ 0.21882079  0.00466352]\n",
            " [ 0.41783624  0.56337611]\n",
            " [ 0.87656187  0.67758484]\n",
            " [ 0.84233305  0.92616129]\n",
            " [ 0.94111587  0.81601915]\n",
            " [ 0.13139461  0.34663001]\n",
            " [ 0.20850249  0.86738154]\n",
            " [ 0.79233022  0.34900164]\n",
            " [ 0.56914053  0.80513154]\n",
            " [ 0.83316124  0.20579368]\n",
            " [ 0.7306802   0.80341416]\n",
            " [ 0.04312904  0.1071874 ]\n",
            " [ 0.43508365  0.22088122]\n",
            " [ 0.88062207  0.71968754]\n",
            " [ 0.71300729  0.76985966]\n",
            " [ 0.33074703  0.22861025]\n",
            " [ 0.62634396  0.41447925]\n",
            " [ 0.93678107  0.64245242]\n",
            " [ 0.38690034  0.85511966]\n",
            " [ 0.38079258  0.17830983]\n",
            " [ 0.78165943  0.47220859]\n",
            " [ 0.2594804   0.69239925]\n",
            " [ 0.98048508  0.24625359]\n",
            " [ 0.7902438   0.76233524]\n",
            " [ 0.12003979  0.83890259]\n",
            " [ 0.4617389   0.12578138]\n",
            " [ 0.53634347  0.29651275]\n",
            " [ 0.17572419  0.07923817]\n",
            " [ 0.19889909  0.42958862]\n",
            " [ 0.64181176  0.08737918]\n",
            " [ 0.71573059  0.10174481]\n",
            " [ 0.17559907  0.71332156]\n",
            " [ 0.88526367  0.98313836]\n",
            " [ 0.65290695  0.47773635]\n",
            " [ 0.08778755  0.55895079]\n",
            " [ 0.18115023  0.51440206]\n",
            " [ 0.60893015  0.83321249]\n",
            " [ 0.32375058  0.98886209]\n",
            " [ 0.99495026  0.82615082]\n",
            " [ 0.69415255  0.7336698 ]\n",
            " [ 0.87526881  0.95151015]\n",
            " [ 0.85226293  0.64093864]\n",
            " [ 0.07349838  0.62338471]\n",
            " [ 0.35321389  0.16477862]\n",
            " [ 0.89316619  0.82489048]\n",
            " [ 0.52663842  0.46344926]\n",
            " [ 0.48930129  0.26072002]\n",
            " [ 0.40263792  0.43666988]\n",
            " [ 0.01505613  0.89290588]]\n"
          ]
        }
      ]
    },
    {
      "cell_type": "markdown",
      "metadata": {
        "id": "poFzflLjXJDp"
      },
      "source": [
        "Next, create a scatter plot to visualise the above 2D array. For this,\n",
        "\n",
        "1. Pass the first column of the above array for $x$-axis.\n",
        "2. Pass the second column of the above array for $y$-axis.\n",
        "\n"
      ]
    },
    {
      "cell_type": "code",
      "metadata": {
        "id": "Rxveer0jF1pi",
        "colab": {
          "base_uri": "https://localhost:8080/",
          "height": 268
        },
        "outputId": "25d59f9e-5be5-443c-c139-fceba09e37be"
      },
      "source": [
        "# S3.2: Plot the 2D array.\n",
        "plt.figure(figsize = (14, 5))\n",
        "plt.scatter(two_dim[ :, 0], two_dim[ :, 1])\n",
        "plt.title('2-Dimensional data points')\n",
        "plt.xlabel('Feature 1')\n",
        "plt.ylabel('Feature 2')\n",
        "plt.show()"
      ],
      "execution_count": null,
      "outputs": [
        {
          "output_type": "display_data",
          "data": {
            "image/png": "[encoded data removed]",
            "text/plain": [
              "<Figure size 1008x360 with 1 Axes>"
            ]
          },
          "metadata": {
            "needs_background": "light"
          }
        }
      ]
    },
    {
      "cell_type": "markdown",
      "metadata": {
        "id": "ZvMCbtl_YPhf"
      },
      "source": [
        "Let us apply K-Means clustering to the above generated 2D dataset. From the scatter plot, it is clearly visible that two clusters can be obtained for this dataset i.e `k = 2`.\n",
        "\n",
        "**Note:** For a real world dataset, it is not always possible to decide correct value of `k` (number of clusters) by simply looking at the graph. There are several methods to find the best value of `k`. We will discuss them in the upcoming section.\n",
        "\n",
        "\n",
        "Now, create an object (say `kmeans_2d`) of the `KMeans` constructor and pass following values as input to the constructor:\n",
        "\n",
        "  - `n_clusters = 2`.\n",
        "\n",
        "  - `random_state = 10`.\n",
        "\n",
        "Next, train the model and determine the cluster labels."
      ]
    },
    {
      "cell_type": "code",
      "metadata": {
        "colab": {
          "base_uri": "https://localhost:8080/"
        },
        "id": "D20B0FSzx1TY",
        "outputId": "12e845ba-3bdb-402f-82e2-42f4b2bdf347"
      },
      "source": [
        "# S3.3: Determine the clusters for 2D dataset.\n",
        "kmeans_2d = KMeans(n_clusters = 2, random_state = 10)\n",
        "kmeans_2d.fit(two_dim)\n",
        "labels_2d = kmeans_2d.predict(two_dim)\n",
        "print(labels_2d)"
      ],
      "execution_count": null,
      "outputs": [
        {
          "output_type": "stream",
          "name": "stdout",
          "text": [
            "[0 0 0 0 0 0 0 0 0 0 0 0 0 0 0 0 0 0 0 0 0 0 0 0 0 0 0 0 0 0 0 0 0 0 0 0 0\n",
            " 0 0 0 0 0 0 0 0 0 0 0 0 0 1 1 1 1 1 1 1 1 1 1 1 1 1 1 1 1 1 1 1 1 1 1 1 1\n",
            " 1 1 1 1 1 1 1 1 1 1 1 1 1 1 1 1 1 1 1 1 1 1 1 1 1 1]\n"
          ]
        }
      ]
    },
    {
      "cell_type": "markdown",
      "metadata": {
        "id": "S-soDfJyyPAs"
      },
      "source": [
        "As you can see in the output, our 2D data is divided into 2 clusters where,\n",
        "- The first cluster is labelled as `0`.\n",
        "- The second cluster is labelled as `1`.\n",
        "\n",
        "\n",
        "Now, print the cluster’s centers or centroids picked by k-means Python estimator using `cluster_centers_` attribute."
      ]
    },
    {
      "cell_type": "code",
      "metadata": {
        "id": "eRAsNvDrY3cv",
        "colab": {
          "base_uri": "https://localhost:8080/"
        },
        "outputId": "38ec9d55-21a3-43c7-d06e-f22d50a6a386"
      },
      "source": [
        "# S3.4: Determine the centroids using KMeans\n",
        "kmeans_2d.cluster_centers_"
      ],
      "execution_count": null,
      "outputs": [
        {
          "output_type": "execute_result",
          "data": {
            "text/plain": [
              "array([[-0.51390814, -0.40614835],\n",
              "       [ 0.53088384,  0.54057735]])"
            ]
          },
          "metadata": {},
          "execution_count": 25
        }
      ]
    },
    {
      "cell_type": "markdown",
      "metadata": {
        "id": "rUPUdwDxeOC2"
      },
      "source": [
        "In the above output, the k-means estimator determined the cluster centers for the two clusters. The cluster centers  array has two columns as our dataset is 2D. The first column indicates $x$-axis values and the second column indicates $y$-axis values.\n",
        "\n",
        "Let us plot the obtained clusters and visualize the cluster’s centers using a scatter plot."
      ]
    },
    {
      "cell_type": "code",
      "metadata": {
        "id": "N731eVcRfQ8S",
        "colab": {
          "base_uri": "https://localhost:8080/",
          "height": 268
        },
        "outputId": "30def53f-7e11-4588-8b0a-ff61863e2fe2"
      },
      "source": [
        "# S3.5: Plot the datapoints corresponding to clusters\n",
        "plt.figure(figsize = (14, 5))\n",
        "plt.scatter(two_dim[ : , 0], two_dim[ : , 1], c = labels_2d)\n",
        "plt.scatter(kmeans_2d.cluster_centers_[:, 0], kmeans_2d.cluster_centers_[:, 1],\n",
        "            marker = 'x', c ='black', s = 100)\n",
        "plt.xlabel('Feature 1')\n",
        "plt.ylabel('Feature 2')\n",
        "plt.title('Clustering 2-Dimensional data points')\n",
        "plt.show()"
      ],
      "execution_count": null,
      "outputs": [
        {
          "output_type": "display_data",
          "data": {
            "image/png": "[encoded data removed]",
            "text/plain": [
              "<Figure size 1008x360 with 1 Axes>"
            ]
          },
          "metadata": {
            "needs_background": "light"
          }
        }
      ]
    },
    {
      "cell_type": "markdown",
      "metadata": {
        "id": "OGGH8GJH1K0s"
      },
      "source": [
        "In the above plot, you may observe that we obtained two clusters with their respective cluster centers marked with `x` mark.\n",
        "\n",
        "- The purple coloured cluster with the centroid located at `[-0.51390814, -0.40614835]`.\n",
        "\n",
        "- The yellow coloured cluster with the centroid located at `[0.53088384, 0.54057735]`.\n",
        "\n",
        "\n"
      ]
    },
    {
      "cell_type": "markdown",
      "metadata": {
        "id": "eZwvHAWO3dr1"
      },
      "source": [
        "---"
      ]
    },
    {
      "cell_type": "markdown",
      "metadata": {
        "id": "yzFrWAIepiIL"
      },
      "source": [
        "#### Activity 4: Cluster Visualisation using Interactive Plot\n",
        "\n",
        "We can also obtain an interactive scatter plot using `plotly.express`. It enables us to know the coordinates of a datapoint when we hover the mouse pointer over the respective datapoint on the plot.\n",
        "\n",
        "For interactive plot, import `plotly.express` module."
      ]
    },
    {
      "cell_type": "code",
      "metadata": {
        "id": "ZR2Lx7tqssiv"
      },
      "source": [
        "# S4.1: Import the required module for interactive plot.\n",
        "import plotly.express as px"
      ],
      "execution_count": null,
      "outputs": []
    },
    {
      "cell_type": "markdown",
      "metadata": {
        "id": "s2420WDO5i9w"
      },
      "source": [
        "Next, use `scatter()` function  of `plotly.express` module to obtain an interactive scatter plot for the clusters determined by the K-Means estimator. Pass the following parameters to this `scatter()` function:\n",
        "\n",
        "- Entire dataset: `two_dim`\n",
        "\n",
        "- The x-axis data-points: `x = two_dim[:, 0]`\n",
        "\n",
        "- The y-axis data-points: `y = two_dim[:, 1]`\n",
        "\n",
        "- To colour code the datapoints with respect to the cluster, pass `color = labels_2d`\n",
        "\n",
        "- To select the colour palette in the `plotly`,  pass `color_continuous_scale = geyser`\n",
        "\n",
        "**Note:** You can visit this [Plotly](https://plotly.com/python/builtin-colorscales/) website to explore various colour palette options for `color_continuous_scale` parameter.\n",
        "\n",
        "You can get more details on `scatter()` function of `plotly.express` module using the `help()` function."
      ]
    },
    {
      "cell_type": "code",
      "metadata": {
        "id": "hgGbtRi6g2Hi",
        "colab": {
          "base_uri": "https://localhost:8080/",
          "height": 542
        },
        "outputId": "6f8fdc6f-e171-4dfd-eb77-804980a9b99d"
      },
      "source": [
        "# S4.2: Plot Interactive Plot using Plotly\n",
        "fig = px.scatter(two_dim, x = two_dim[ :, 0], y = two_dim[ :, 1],\n",
        "                 color = labels_2d, color_continuous_scale = 'geyser'\n",
        "                 )\n",
        "fig.show()"
      ],
      "execution_count": null,
      "outputs": [
        {
          "output_type": "display_data",
          "data": {
            "text/html": [
              "<html>\n",
              "<head><meta charset=\"utf-8\" /></head>\n",
              "<body>\n",
              "    <div>\n",
              "            <script src=\"https://cdnjs.cloudflare.com/ajax/libs/mathjax/2.7.5/MathJax.js?config=TeX-AMS-MML_SVG\"></script><script type=\"text/javascript\">if (window.MathJax) {MathJax.Hub.Config({SVG: {font: \"STIX-Web\"}});}</script>\n",
              "                <script type=\"text/javascript\">window.PlotlyConfig = {MathJaxConfig: 'local'};</script>\n",
              "        <script src=\"https://cdn.plot.ly/plotly-latest.min.js\"></script>    \n",
              "            <div id=\"8ebb9785-910e-4493-9bf7-8dca2f6e0a0f\" class=\"plotly-graph-div\" style=\"height:525px; width:100%;\"></div>\n",
              "            <script type=\"text/javascript\">\n",
              "                \n",
              "                    window.PLOTLYENV=window.PLOTLYENV || {};\n",
              "                    \n",
              "                if (document.getElementById(\"8ebb9785-910e-4493-9bf7-8dca2f6e0a0f\")) {\n",
              "                    Plotly.newPlot(\n",
              "                        '8ebb9785-910e-4493-9bf7-8dca2f6e0a0f',\n",
              "                        [{\"hoverlabel\": {\"namelength\": 0}, \"hovertemplate\": \"x=%{x}<br>y=%{y}<br>color=%{marker.color}\", \"legendgroup\": \"\", \"marker\": {\"color\": [0, 0, 0, 0, 0, 0, 0, 0, 0, 0, 0, 0, 0, 0, 0, 0, 0, 0, 0, 0, 0, 0, 0, 0, 0, 0, 0, 0, 0, 0, 0, 0, 0, 0, 0, 0, 0, 0, 0, 0, 0, 0, 0, 0, 0, 0, 0, 0, 0, 0, 1, 1, 1, 1, 1, 1, 1, 1, 1, 1, 1, 1, 1, 1, 1, 1, 1, 1, 1, 1, 1, 1, 1, 1, 1, 1, 1, 1, 1, 1, 1, 1, 1, 1, 1, 1, 1, 1, 1, 1, 1, 1, 1, 1, 1, 1, 1, 1, 1, 1], \"coloraxis\": \"coloraxis\", \"symbol\": \"circle\"}, \"mode\": \"markers\", \"name\": \"\", \"showlegend\": false, \"type\": \"scatter\", \"x\": [-0.43599490214200376, -0.5496624778787091, -0.42036780208748903, -0.2046486340378425, -0.29965467367452314, -0.6211338327692949, -0.13457994534493356, -0.18443986564691528, -0.8539752926394888, -0.846561485357468, -0.505246090121704, -0.42812232759738944, -0.12715997170127746, -0.22601200060423587, -0.2203062070705597, -0.46778748458230024, -0.6404067252149148, -0.5052367200185491, -0.7936374544415771, -0.16229859850231387, -0.9645510800892552, -0.8895200639461449, -0.5671441276277093, -0.436747263026799, -0.5356041734976563, -0.5442081601481021, -0.3663424016750204, -0.4062750430479508, -0.24717723899735333, -0.9938520114212729, -0.8002583511325868, -0.7649598604516815, -0.2930232318194398, -0.3566242811227589, -0.9831534453572127, -0.5040004393791526, -0.25974475274713704, -0.8320168996345009, -0.37921056694163746, -0.7974049390325936, -0.5826848885290346, -0.6622020192683258, -0.49707379873451263, -0.3508719013016405, -0.9729106898748249, -0.3132585284297136, -0.7383997586209003, -0.21463574639995364, -0.643841934148195, -0.1704771334837707, 0.501216451687087, 0.21882078632937274, 0.4178362440027158, 0.8765618684233271, 0.8423330461034713, 0.9411158736336223, 0.13139460547944382, 0.2085024945255225, 0.7923302193062579, 0.5691405320556354, 0.8331612447339762, 0.7306802005261156, 0.04312903635336274, 0.43508364985882764, 0.8806220661656807, 0.713007293546981, 0.33074702616940477, 0.6263439592010264, 0.9367810722341859, 0.3869003430123682, 0.38079258371620806, 0.7816594256660814, 0.2594804044042771, 0.9804850789987785, 0.7902438025940453, 0.120039792177414, 0.4617389047565317, 0.5363434730960686, 0.1757241932567306, 0.19889909182949916, 0.6418117636288316, 0.7157305877709652, 0.17559907090882187, 0.8852636744104891, 0.6529069507012145, 0.08778755488499446, 0.18115022940864645, 0.6089301489343916, 0.3237505822561465, 0.9949502599677932, 0.6941525454251833, 0.8752688098046626, 0.8522629265975512, 0.0734983847144366, 0.35321389178551854, 0.8931661865670434, 0.5266384238528333, 0.4893012881271256, 0.4026379231331474, 0.015056134248370046], \"xaxis\": \"x\", \"y\": [-0.025926231827891333, -0.4353223926182769, -0.3303348210038741, -0.6192709663506637, -0.26682727510286663, -0.5291420942770391, -0.5135781212657464, -0.7853351478166735, -0.4942368373819278, -0.079645477009061, -0.06528650438687811, -0.09653091566061256, -0.5967453089785958, -0.10694568430998297, -0.34982628500329926, -0.20174322626496533, -0.48306983555175165, -0.3868926511185593, -0.5800041788778066, -0.7007523466071562, -0.5000083611702167, -0.34161365267110966, -0.42754596329611005, -0.7765591849971003, -0.9537422269448667, -0.0820949222750248, -0.8508505040045017, -0.02720236589484959, -0.06714437073695467, -0.9705803133771735, -0.6018171214054674, -0.16922544658417793, -0.5240668753003642, -0.04567896524540005, -0.4413549193548467, -0.32354131753469884, -0.3868898853207624, -0.7367470562871129, -0.01301733669455063, -0.2693887975963012, -0.025550941849692754, -0.3875234258732815, -0.4149058373746872, -0.5509779053244193, -0.11277621523807146, -0.04179770981531006, -0.657512387659044, -0.4167534401953371, -0.6614813267154414, -0.8816522357485486, 0.5060868335126388, 0.004663522735049885, 0.5633761103390351, 0.6775848402279094, 0.92616128692492, 0.816019151924394, 0.346630014990264, 0.8673815371565234, 0.3490016406838594, 0.8051315402557015, 0.205793676950072, 0.803414164159449, 0.10718740423157991, 0.2208812218607441, 0.7196875377244113, 0.769859656992702, 0.2286102518330989, 0.41447924952538917, 0.6424524189027923, 0.8551196608041906, 0.1783098277777202, 0.4722085874158014, 0.692399245881231, 0.24625358896778982, 0.7623352442240589, 0.8389025945590006, 0.12578138255308757, 0.296512750794629, 0.07923817070079964, 0.42958861905641377, 0.0873791787897964, 0.10174481096338206, 0.7133215621574106, 0.9831383610430723, 0.4777363530063754, 0.5589507946972767, 0.5144020604712206, 0.8332124901226042, 0.9888620933197065, 0.8261508194397967, 0.7336697980969766, 0.9515101483457323, 0.6409386397788642, 0.6233847142958386, 0.16477862322429637, 0.8248904812066794, 0.46344925615357246, 0.260720019719452, 0.43666987972703, 0.8929058830787158], \"yaxis\": \"y\"}],\n",
              "                        {\"coloraxis\": {\"colorbar\": {\"title\": {\"text\": \"color\"}}, \"colorscale\": [[0.0, \"rgb(0, 128, 128)\"], [0.16666666666666666, \"rgb(112, 164, 148)\"], [0.3333333333333333, \"rgb(180, 200, 168)\"], [0.5, \"rgb(246, 237, 189)\"], [0.6666666666666666, \"rgb(237, 187, 138)\"], [0.8333333333333334, \"rgb(222, 138, 90)\"], [1.0, \"rgb(202, 86, 44)\"]]}, \"legend\": {\"tracegroupgap\": 0}, \"margin\": {\"t\": 60}, \"template\": {\"data\": {\"bar\": [{\"error_x\": {\"color\": \"#2a3f5f\"}, \"error_y\": {\"color\": \"#2a3f5f\"}, \"marker\": {\"line\": {\"color\": \"#E5ECF6\", \"width\": 0.5}}, \"type\": \"bar\"}], \"barpolar\": [{\"marker\": {\"line\": {\"color\": \"#E5ECF6\", \"width\": 0.5}}, \"type\": \"barpolar\"}], \"carpet\": [{\"aaxis\": {\"endlinecolor\": \"#2a3f5f\", \"gridcolor\": \"white\", \"linecolor\": \"white\", \"minorgridcolor\": \"white\", \"startlinecolor\": \"#2a3f5f\"}, \"baxis\": {\"endlinecolor\": \"#2a3f5f\", \"gridcolor\": \"white\", \"linecolor\": \"white\", \"minorgridcolor\": \"white\", \"startlinecolor\": \"#2a3f5f\"}, \"type\": \"carpet\"}], \"choropleth\": [{\"colorbar\": {\"outlinewidth\": 0, \"ticks\": \"\"}, \"type\": \"choropleth\"}], \"contour\": [{\"colorbar\": {\"outlinewidth\": 0, \"ticks\": \"\"}, \"colorscale\": [[0.0, \"#0d0887\"], [0.1111111111111111, \"#46039f\"], [0.2222222222222222, \"#7201a8\"], [0.3333333333333333, \"#9c179e\"], [0.4444444444444444, \"#bd3786\"], [0.5555555555555556, \"#d8576b\"], [0.6666666666666666, \"#ed7953\"], [0.7777777777777778, \"#fb9f3a\"], [0.8888888888888888, \"#fdca26\"], [1.0, \"#f0f921\"]], \"type\": \"contour\"}], \"contourcarpet\": [{\"colorbar\": {\"outlinewidth\": 0, \"ticks\": \"\"}, \"type\": \"contourcarpet\"}], \"heatmap\": [{\"colorbar\": {\"outlinewidth\": 0, \"ticks\": \"\"}, \"colorscale\": [[0.0, \"#0d0887\"], [0.1111111111111111, \"#46039f\"], [0.2222222222222222, \"#7201a8\"], [0.3333333333333333, \"#9c179e\"], [0.4444444444444444, \"#bd3786\"], [0.5555555555555556, \"#d8576b\"], [0.6666666666666666, \"#ed7953\"], [0.7777777777777778, \"#fb9f3a\"], [0.8888888888888888, \"#fdca26\"], [1.0, \"#f0f921\"]], \"type\": \"heatmap\"}], \"heatmapgl\": [{\"colorbar\": {\"outlinewidth\": 0, \"ticks\": \"\"}, \"colorscale\": [[0.0, \"#0d0887\"], [0.1111111111111111, \"#46039f\"], [0.2222222222222222, \"#7201a8\"], [0.3333333333333333, \"#9c179e\"], [0.4444444444444444, \"#bd3786\"], [0.5555555555555556, \"#d8576b\"], [0.6666666666666666, \"#ed7953\"], [0.7777777777777778, \"#fb9f3a\"], [0.8888888888888888, \"#fdca26\"], [1.0, \"#f0f921\"]], \"type\": \"heatmapgl\"}], \"histogram\": [{\"marker\": {\"colorbar\": {\"outlinewidth\": 0, \"ticks\": \"\"}}, \"type\": \"histogram\"}], \"histogram2d\": [{\"colorbar\": {\"outlinewidth\": 0, \"ticks\": \"\"}, \"colorscale\": [[0.0, \"#0d0887\"], [0.1111111111111111, \"#46039f\"], [0.2222222222222222, \"#7201a8\"], [0.3333333333333333, \"#9c179e\"], [0.4444444444444444, \"#bd3786\"], [0.5555555555555556, \"#d8576b\"], [0.6666666666666666, \"#ed7953\"], [0.7777777777777778, \"#fb9f3a\"], [0.8888888888888888, \"#fdca26\"], [1.0, \"#f0f921\"]], \"type\": \"histogram2d\"}], \"histogram2dcontour\": [{\"colorbar\": {\"outlinewidth\": 0, \"ticks\": \"\"}, \"colorscale\": [[0.0, \"#0d0887\"], [0.1111111111111111, \"#46039f\"], [0.2222222222222222, \"#7201a8\"], [0.3333333333333333, \"#9c179e\"], [0.4444444444444444, \"#bd3786\"], [0.5555555555555556, \"#d8576b\"], [0.6666666666666666, \"#ed7953\"], [0.7777777777777778, \"#fb9f3a\"], [0.8888888888888888, \"#fdca26\"], [1.0, \"#f0f921\"]], \"type\": \"histogram2dcontour\"}], \"mesh3d\": [{\"colorbar\": {\"outlinewidth\": 0, \"ticks\": \"\"}, \"type\": \"mesh3d\"}], \"parcoords\": [{\"line\": {\"colorbar\": {\"outlinewidth\": 0, \"ticks\": \"\"}}, \"type\": \"parcoords\"}], \"pie\": [{\"automargin\": true, \"type\": \"pie\"}], \"scatter\": [{\"marker\": {\"colorbar\": {\"outlinewidth\": 0, \"ticks\": \"\"}}, \"type\": \"scatter\"}], \"scatter3d\": [{\"line\": {\"colorbar\": {\"outlinewidth\": 0, \"ticks\": \"\"}}, \"marker\": {\"colorbar\": {\"outlinewidth\": 0, \"ticks\": \"\"}}, \"type\": \"scatter3d\"}], \"scattercarpet\": [{\"marker\": {\"colorbar\": {\"outlinewidth\": 0, \"ticks\": \"\"}}, \"type\": \"scattercarpet\"}], \"scattergeo\": [{\"marker\": {\"colorbar\": {\"outlinewidth\": 0, \"ticks\": \"\"}}, \"type\": \"scattergeo\"}], \"scattergl\": [{\"marker\": {\"colorbar\": {\"outlinewidth\": 0, \"ticks\": \"\"}}, \"type\": \"scattergl\"}], \"scattermapbox\": [{\"marker\": {\"colorbar\": {\"outlinewidth\": 0, \"ticks\": \"\"}}, \"type\": \"scattermapbox\"}], \"scatterpolar\": [{\"marker\": {\"colorbar\": {\"outlinewidth\": 0, \"ticks\": \"\"}}, \"type\": \"scatterpolar\"}], \"scatterpolargl\": [{\"marker\": {\"colorbar\": {\"outlinewidth\": 0, \"ticks\": \"\"}}, \"type\": \"scatterpolargl\"}], \"scatterternary\": [{\"marker\": {\"colorbar\": {\"outlinewidth\": 0, \"ticks\": \"\"}}, \"type\": \"scatterternary\"}], \"surface\": [{\"colorbar\": {\"outlinewidth\": 0, \"ticks\": \"\"}, \"colorscale\": [[0.0, \"#0d0887\"], [0.1111111111111111, \"#46039f\"], [0.2222222222222222, \"#7201a8\"], [0.3333333333333333, \"#9c179e\"], [0.4444444444444444, \"#bd3786\"], [0.5555555555555556, \"#d8576b\"], [0.6666666666666666, \"#ed7953\"], [0.7777777777777778, \"#fb9f3a\"], [0.8888888888888888, \"#fdca26\"], [1.0, \"#f0f921\"]], \"type\": \"surface\"}], \"table\": [{\"cells\": {\"fill\": {\"color\": \"#EBF0F8\"}, \"line\": {\"color\": \"white\"}}, \"header\": {\"fill\": {\"color\": \"#C8D4E3\"}, \"line\": {\"color\": \"white\"}}, \"type\": \"table\"}]}, \"layout\": {\"annotationdefaults\": {\"arrowcolor\": \"#2a3f5f\", \"arrowhead\": 0, \"arrowwidth\": 1}, \"coloraxis\": {\"colorbar\": {\"outlinewidth\": 0, \"ticks\": \"\"}}, \"colorscale\": {\"diverging\": [[0, \"#8e0152\"], [0.1, \"#c51b7d\"], [0.2, \"#de77ae\"], [0.3, \"#f1b6da\"], [0.4, \"#fde0ef\"], [0.5, \"#f7f7f7\"], [0.6, \"#e6f5d0\"], [0.7, \"#b8e186\"], [0.8, \"#7fbc41\"], [0.9, \"#4d9221\"], [1, \"#276419\"]], \"sequential\": [[0.0, \"#0d0887\"], [0.1111111111111111, \"#46039f\"], [0.2222222222222222, \"#7201a8\"], [0.3333333333333333, \"#9c179e\"], [0.4444444444444444, \"#bd3786\"], [0.5555555555555556, \"#d8576b\"], [0.6666666666666666, \"#ed7953\"], [0.7777777777777778, \"#fb9f3a\"], [0.8888888888888888, \"#fdca26\"], [1.0, \"#f0f921\"]], \"sequentialminus\": [[0.0, \"#0d0887\"], [0.1111111111111111, \"#46039f\"], [0.2222222222222222, \"#7201a8\"], [0.3333333333333333, \"#9c179e\"], [0.4444444444444444, \"#bd3786\"], [0.5555555555555556, \"#d8576b\"], [0.6666666666666666, \"#ed7953\"], [0.7777777777777778, \"#fb9f3a\"], [0.8888888888888888, \"#fdca26\"], [1.0, \"#f0f921\"]]}, \"colorway\": [\"#636efa\", \"#EF553B\", \"#00cc96\", \"#ab63fa\", \"#FFA15A\", \"#19d3f3\", \"#FF6692\", \"#B6E880\", \"#FF97FF\", \"#FECB52\"], \"font\": {\"color\": \"#2a3f5f\"}, \"geo\": {\"bgcolor\": \"white\", \"lakecolor\": \"white\", \"landcolor\": \"#E5ECF6\", \"showlakes\": true, \"showland\": true, \"subunitcolor\": \"white\"}, \"hoverlabel\": {\"align\": \"left\"}, \"hovermode\": \"closest\", \"mapbox\": {\"style\": \"light\"}, \"paper_bgcolor\": \"white\", \"plot_bgcolor\": \"#E5ECF6\", \"polar\": {\"angularaxis\": {\"gridcolor\": \"white\", \"linecolor\": \"white\", \"ticks\": \"\"}, \"bgcolor\": \"#E5ECF6\", \"radialaxis\": {\"gridcolor\": \"white\", \"linecolor\": \"white\", \"ticks\": \"\"}}, \"scene\": {\"xaxis\": {\"backgroundcolor\": \"#E5ECF6\", \"gridcolor\": \"white\", \"gridwidth\": 2, \"linecolor\": \"white\", \"showbackground\": true, \"ticks\": \"\", \"zerolinecolor\": \"white\"}, \"yaxis\": {\"backgroundcolor\": \"#E5ECF6\", \"gridcolor\": \"white\", \"gridwidth\": 2, \"linecolor\": \"white\", \"showbackground\": true, \"ticks\": \"\", \"zerolinecolor\": \"white\"}, \"zaxis\": {\"backgroundcolor\": \"#E5ECF6\", \"gridcolor\": \"white\", \"gridwidth\": 2, \"linecolor\": \"white\", \"showbackground\": true, \"ticks\": \"\", \"zerolinecolor\": \"white\"}}, \"shapedefaults\": {\"line\": {\"color\": \"#2a3f5f\"}}, \"ternary\": {\"aaxis\": {\"gridcolor\": \"white\", \"linecolor\": \"white\", \"ticks\": \"\"}, \"baxis\": {\"gridcolor\": \"white\", \"linecolor\": \"white\", \"ticks\": \"\"}, \"bgcolor\": \"#E5ECF6\", \"caxis\": {\"gridcolor\": \"white\", \"linecolor\": \"white\", \"ticks\": \"\"}}, \"title\": {\"x\": 0.05}, \"xaxis\": {\"automargin\": true, \"gridcolor\": \"white\", \"linecolor\": \"white\", \"ticks\": \"\", \"title\": {\"standoff\": 15}, \"zerolinecolor\": \"white\", \"zerolinewidth\": 2}, \"yaxis\": {\"automargin\": true, \"gridcolor\": \"white\", \"linecolor\": \"white\", \"ticks\": \"\", \"title\": {\"standoff\": 15}, \"zerolinecolor\": \"white\", \"zerolinewidth\": 2}}}, \"xaxis\": {\"anchor\": \"y\", \"domain\": [0.0, 1.0], \"title\": {\"text\": \"x\"}}, \"yaxis\": {\"anchor\": \"x\", \"domain\": [0.0, 1.0], \"title\": {\"text\": \"y\"}}},\n",
              "                        {\"responsive\": true}\n",
              "                    ).then(function(){\n",
              "                            \n",
              "var gd = document.getElementById('8ebb9785-910e-4493-9bf7-8dca2f6e0a0f');\n",
              "var x = new MutationObserver(function (mutations, observer) {{\n",
              "        var display = window.getComputedStyle(gd).display;\n",
              "        if (!display || display === 'none') {{\n",
              "            console.log([gd, 'removed!']);\n",
              "            Plotly.purge(gd);\n",
              "            observer.disconnect();\n",
              "        }}\n",
              "}});\n",
              "\n",
              "// Listen for the removal of the full notebook cells\n",
              "var notebookContainer = gd.closest('#notebook-container');\n",
              "if (notebookContainer) {{\n",
              "    x.observe(notebookContainer, {childList: true});\n",
              "}}\n",
              "\n",
              "// Listen for the clearing of the current output cell\n",
              "var outputEl = gd.closest('.output');\n",
              "if (outputEl) {{\n",
              "    x.observe(outputEl, {childList: true});\n",
              "}}\n",
              "\n",
              "                        })\n",
              "                };\n",
              "                \n",
              "            </script>\n",
              "        </div>\n",
              "</body>\n",
              "</html>"
            ]
          },
          "metadata": {}
        }
      ]
    },
    {
      "cell_type": "markdown",
      "metadata": {
        "id": "SdnbhKxt1uNP"
      },
      "source": [
        "---"
      ]
    },
    {
      "cell_type": "markdown",
      "metadata": {
        "id": "vWTZnihW1il7"
      },
      "source": [
        "#### Activity 5: Euclidean Distance for n-dimensional Dataset\n",
        "\n",
        "For one-dimensional dataset, the K-means algorithm used absolute distance to calculate the distance between two data points. However, n-dimensional dataset, K-means clustering uses the **Euclidean Distance** method to find out the distance between the points.\n",
        "\n",
        "**The Pythagoras theorem:**\n",
        "\n",
        "The Pythagoras theorem states that *in right triangles, the squared length of the hypotenuse equals the sum of squared lengths of other sides.*\n",
        "\n",
        "<center>\n",
        "<img src =\"https://s3-whjr-v2-prod-bucket.whjr.online/f835c872-fec5-41b7-98c4-53122d8ced81.jpg\"/></center>\n",
        "\n",
        "\n",
        "\n",
        "Consider the points A: $(x_1 , y_1)$, and B: $(x_2 , y_2)$. in a 2-dimensional cartesian space.\n",
        "\n",
        "<center>\n",
        "<img src = https://s3-whjr-v2-prod-bucket.whjr.online/bfcf44d3-a56a-4b21-9b9d-ecb32676d77a.png height=500></center>\n",
        "\n",
        "The **Euclidean Distance** between these points can be calculated from the Cartesian coordinates of the points using the Pythagorean theorem:\n",
        "\n",
        "\\begin{align}\n",
        "  AB^2 = AO^2 + OB^2  \n",
        "\\end{align}\n",
        "\n",
        "\\begin{align}\n",
        "  AB = \\sqrt{AO^2 + OB^2}  \n",
        "\\end{align}\n",
        "\n",
        "<br>\n",
        "\n",
        "\\begin{align}\n",
        "  AB = \\sqrt{(x_2 - x_1)^2 + (y_2 - y_1)^2 }\n",
        "\\end{align}\n",
        "\n",
        "<br>\n",
        "\n",
        "\n",
        "**Generalising the Euclidean Distance for n-dimensions**:\n",
        "\n",
        "Consider two points $p$ and $q$ in $n$-dimensional space represented by coordinates:\n",
        "\n",
        "\\begin{align}\n",
        "  p = (p_0, p_1,\\dots, p_n)\n",
        "\\end{align}\n",
        "\n",
        "\n",
        "\\begin{align}\n",
        "  q = (q_0, q_1, \\dots, q_n)\n",
        "\\end{align}\n",
        "\n",
        "The Euclidean distance between these two points can be calculated using as an extension of Pythagoras theorem.\n",
        "\n",
        "\n",
        "\\begin{align}\n",
        "  d(p,q) = \\sqrt{\\sum_{i = 1}^{n} (p_i - q_i)^2}\n",
        "\\end{align}\n",
        "\n",
        "Where,\n",
        "\n",
        "> $p,q$ are two points in n-dimensional space\n",
        "\n",
        "> $p_i$, $q_i$ are Euclidean vectors\n",
        "\n",
        "> $n$ is the n-dimensional space\n",
        "\n",
        "\n",
        "For points $(x_1,y_1,z_1)$ and $(x_2,y_2,z_2)$ in 3-dimensional space,\n",
        "\n",
        "the Euclidean distance between them is $\\sqrt{(x_2−x_1)^2 + (y_2−y_1)^2 + (z_2−z_1)^2}$.\n",
        "\n",
        "For example,\n",
        "\n",
        "- The Euclidean distance between $(1,3)$ and $(2,0)$ is:\n",
        "  \n",
        "  $\\sqrt{(2-1)^2 + (0-3)^2}=\\sqrt{1 + 9} =\\sqrt{10}$\n",
        "\n",
        "- The Euclidean distance between $(−1,2,3)$ and $(4,0,−3)$ is:\n",
        "\n",
        "   $\\sqrt{(4-(-1))^2 + (0-2)^2 + (-3-3)^2}=\\sqrt{25+4+36}=\\sqrt{65}$\n",
        "\n",
        "In this way, the K-Means algorithm uses Euclidean distance to calculate the distance between centroid and data points to form a cluster.\n",
        "\n",
        "We will stop here. In the next class, we will discuss different methods by which we can select an optimal number of clusters (`K`) for K-Means clustering.\n"
      ]
    },
    {
      "cell_type": "markdown",
      "metadata": {
        "id": "xZCpql7h1xFD"
      },
      "source": [
        "---"
      ]
    },
    {
      "cell_type": "markdown",
      "metadata": {
        "id": "2G00h4Epu97v"
      },
      "source": [
        "#### Activities\n",
        "\n",
        "**Teacher Activities:**\n",
        "\n",
        "1. K-Means Clustering - Clustering 1D and 2D Data (Class Copy)\n",
        "\n",
        "   Link on Panel?usp=sharing\n",
        "   \n",
        "2. K-Means Clustering - Clustering 1D and 2D Data (Reference)\n",
        "\n",
        "   https://colab.research.google.com/drive/1ZBA7VH1VK8BZQIPpp3qv4Utqbsesea3H"
      ]
    },
    {
      "cell_type": "markdown",
      "metadata": {
        "id": "trWCYk-DswaH"
      },
      "source": [
        "---"
      ]
    }
  ]
}