{
  "nbformat": 4,
  "nbformat_minor": 0,
  "metadata": {
    "colab": {
      "provenance": [],
      "include_colab_link": true
    },
    "kernelspec": {
      "name": "python3",
      "display_name": "Python 3"
    }
  },
  "cells": [
    {
      "cell_type": "markdown",
      "metadata": {
        "id": "view-in-github",
        "colab_type": "text"
      },
      "source": [
        "<a href=\"https://colab.research.google.com/github/nalinis07/APT_Ref_Copy_Links/blob/MASTER/AT_Lesson_3_Reference.ipynb\" target=\"_parent\"><img src=\"https://colab.research.google.com/assets/colab-badge.svg\" alt=\"Open In Colab\"/></a>"
      ]
    },
    {
      "cell_type": "markdown",
      "metadata": {
        "id": "36AnVJBlmWqU"
      },
      "source": [
        "# Lesson 3: Mind Reader Game - Improving The Algorithm"
      ]
    },
    {
      "cell_type": "markdown",
      "metadata": {
        "id": "8DAE10egXNbW"
      },
      "source": [
        "**WARNING:** The reference notebook is meant for **ONLY** for a teacher. Please **DON'T** share it with any student.\n",
        "\n",
        "The contents of the reference notebook are meant only to prepare a teacher for a class. To conduct the class, use the class copy of the reference notebook. The link and the instructions for the same are provided in the **Notes To The Teacher** section.\n",
        "\n",
        "\n",
        "|Particulars|Description|\n",
        "|-|-|\n",
        "|**Topic**|Mind Reader Game - Improving The Algorithm|\n",
        "|||\n",
        "|**Class Description**|Improve the Mind Reader game algorithm created in the previous class so that a computer can make better predictions.|\n",
        "||The improved algorithm works on the basis of the counts of the player's inputs.|\n",
        "|||\n",
        "|**Class**|C3|\n",
        "|||\n",
        "|**Class Time**|45 minutes|\n",
        "|||\n",
        "|**Goals**|Keep a count of the number of times a player enters `Heads` or `Tails`|\n",
        "||Compare the player input counts|\n",
        "||Return the value having the maximum count as a prediction|\n",
        "|||\n",
        "|**Teacher Resources**|Google Account|\n",
        "||Link to Lesson 3 Colab reference notebook|\n",
        "||Laptop with internet connectivity|\n",
        "||Earphones with mic|\n",
        "|||\n",
        "|**Student Resources**|Google Account|\n",
        "||Laptop with internet connectivity|\n",
        "||Earphones with mic|"
      ]
    },
    {
      "cell_type": "markdown",
      "metadata": {
        "id": "6JCr4gwYmgiK"
      },
      "source": [
        "---"
      ]
    },
    {
      "cell_type": "markdown",
      "metadata": {
        "id": "BPm8c5EQ6bj1"
      },
      "source": [
        "### Class Structure\n",
        "\n",
        "A class is divided into three parts, as shown in the table below.\n",
        "\n",
        "|Parts|Duration|\n",
        "|-|-|\n",
        "|**Warm-Up**|5 minutes|\n",
        "|||\n",
        "|**Teacher-Student Activities**|35 minutes|\n",
        "|||\n",
        "|**Wrap-Up**|5 minutes|"
      ]
    },
    {
      "cell_type": "markdown",
      "metadata": {
        "id": "9C8CHitZ6axW"
      },
      "source": [
        "---"
      ]
    },
    {
      "cell_type": "markdown",
      "metadata": {
        "id": "s2vwJtKI9xp6"
      },
      "source": [
        "### Notes To The Teacher\n",
        "\n",
        "Before beginning the class:\n",
        "\n",
        "1. Open the **ATV - Lesson 3 - Class Copy- v0.3** file by clicking on the link provided in the **Activities** section under the title **Improving The Algorithm (Class Copy)**.  \n",
        "\n",
        "     <font color=\"red\">Refer both Reference and Class Copy before conducting the class.</font>\n",
        "     \n",
        "2. After opening the file mentioned in the first point, create its duplicate copy by following the steps described below:\n",
        "\n",
        "    - Click on the **File** menu. A new drop-down list will appear.\n",
        "\n",
        "      <img src='https://student-datasets-bucket.s3.ap-south-1.amazonaws.com/images/lesson-0/0_file_menu.png' width=500>\n",
        "\n",
        "    - Click on the **Save a copy in Drive** option. A duplicate copy will get created. It will open up in the new tab on your web browser.\n",
        "\n",
        "      <img src='https://student-datasets-bucket.s3.ap-south-1.amazonaws.com/images/lesson-0/1_create_colab_duplicate_copy.png' width=500>\n",
        "\n",
        "    - In the duplicate copy, click on the **Share** button on the top right corner of the notebook. A new dialog box will appear.\n",
        "\n",
        "      <img src='https://student-datasets-bucket.s3.ap-south-1.amazonaws.com/images/lesson-0/2_share_button.png' width=500>\n",
        "\n",
        "    - Click on the tiny downward arrow next to **Anyone with the link can view** text. A drop-down list will appear.\n",
        "\n",
        "      <img src='https://student-datasets-bucket.s3.ap-south-1.amazonaws.com/images/lesson-0/3_anyone_can_view.png' width=500>\n",
        "\n",
        "    - Click on the **More...** option. A new page on the dialog box will appear.\n",
        "\n",
        "      <img src='https://student-datasets-bucket.s3.ap-south-1.amazonaws.com/images/lesson-0/4_more_option.png' width=500>\n",
        "\n",
        "    - Click on the circle next to **On - Anyone with the link** option. Now, go down and click on the tiny downward box next to **Can edit** text. A drop-down list will appear.\n",
        "\n",
        "      <img src='https://student-datasets-bucket.s3.ap-south-1.amazonaws.com/images/lesson-0/5_anyone_with_the_link.png' width=500>\n",
        "\n",
        "    - Click on the **Can edit** option. Then click on the **Save** button. You will be directed back to the first page of the dialog box.\n",
        "\n",
        "      <img src='https://student-datasets-bucket.s3.ap-south-1.amazonaws.com/images/lesson-0/6_can_edit.png' width=500>\n",
        "\n",
        "    - Make sure that under the **Link sharing on** section, **Anyone with the link can edit** option is selected.\n",
        "\n",
        "      <img src='https://student-datasets-bucket.s3.ap-south-1.amazonaws.com/images/lesson-0/7_anyone_can_edit.png' width=500>\n",
        "\n",
        "    - Then click on the **Done** button.\n",
        "\n",
        "3. After creating the duplicate copy of the notebook, please rename it in the **YYYY-MM-DD_StudentName_Lesson3** format.\n",
        "\n",
        "4. Now, finish the **Warm-Up** section. Afterwards, proceed with the class using the duplicate copy of the notebook. You can share the link of the duplicate copy (named as **YYYY-MM-DD_StudentName_Lesson3**) with the student through the chat window.\n",
        "\n",
        "5. When a student executes the code for the first time in the duplicate copy that you shared with them, they may get the following warning:\n",
        "\n",
        "   ```\n",
        "    Warning: This notebook was not authored by Google. This notebook was\n",
        "    authored by xyz@gmail.com. It may request access to your data stored\n",
        "    with Google such as files, emails and contacts. Please review the source\n",
        "    code and contact the creator of this notebook at xyz@gmail.com with any\n",
        "    additional questions.\n",
        "\n",
        "                                                      Cancel. Run Anyway.\n",
        "  ```\n",
        "\n",
        "6. Ask the student to click on the `Run Anyway` button.\n",
        "\n",
        "7. Wherever you see the hat (**^**) sign on the heading of activity, give a hats-off to the student at the end of the activity.\n",
        "\n",
        "    - Single hat sign, i.e., **^** denotes give hats-off for concentration. You have to assess the concentration level of a student based on their attentiveness and understanding of the concept.\n",
        "\n",
        "    - Double hat signs, i.e., **^^** denotes give hats-off for creativity. It can be an alternative approach to writing a code for an activity or applying the logic in a totally different problem statement.\n",
        "\n",
        "    - Triple hat signs, i.e., **^^^** denotes give hats-off for persistence. It is the ability of a student to not give up on writing code and writing code with minimal teacher support.\n",
        "\n",
        "8. Every time you execute your code in the Google Colab notebook, please don't forget to save it by pressing the **Ctrl + S** keys (or **Command + S** keys if you are using a Mac). While saving the notebook, you or student may encounter the following error:\n",
        "\n",
        "   ```\n",
        "    Save failed\n",
        "    \n",
        "    The notebook has been changed outside of this session. Would you like to\n",
        "    overwrite existing changes?\n",
        "    \n",
        "                                                              CANCEL    YES\n",
        "   ```\n",
        "\n",
        "   Click on the `YES` button.\n",
        "\n",
        "9. Occasionally, you may encounter some error such as `NameError, ReferenceError, ImportError` or `ModuleNotFoundError` after executing the code in $k^{th}$ code cell (where $k > 0$). Most likely, due to poor internet speed, the Colab notebook might have lost the information that all the previous codes have been executed already. As a remedy, run codes in the code cells beginning from the first code cell till the $(k - 1)^{th}$ code cell. For e.g., if the code in the $5^{th}$ code cell fails to run because of one of the aforementioned errors, execute the codes in all the first four code cells again.\n",
        "\n",
        "10. For every **Teacher Action**, the teacher is supposed to share their screen with the student. Similarly, for every **Student Action**, the student is supposed to share their screen with the teacher.\n"
      ]
    },
    {
      "cell_type": "markdown",
      "metadata": {
        "id": "JIQO0e1A0Laq"
      },
      "source": [
        "\n",
        "\n",
        "```\n",
        "# This is formatted as code\n",
        "```\n",
        "\n"
      ]
    },
    {
      "cell_type": "markdown",
      "metadata": {
        "id": "Y5ggFMVq9nzn"
      },
      "source": [
        "---"
      ]
    },
    {
      "cell_type": "markdown",
      "metadata": {
        "id": "MRV2vgCRyEg-"
      },
      "source": [
        "### Warm-Up\n",
        "\n",
        "```\n",
        "TEACHER\n",
        "  Hi student_name! How are you doing?\n",
        "\n",
        "EXPECTED STUDENT RESPONSE\n",
        "  I am doing good, teacher. How about you?\n",
        "\n",
        "\n",
        "TEACHER\n",
        "  I am having a good time, thank you. So, how was your day? What did you do\n",
        "  today?\n",
        "\n",
        "EXPECTED STUDENT RESPONSE\n",
        "  I went to school. Had my lunch. Played a game and then did my homework\n",
        "  before this class.\n",
        "\n",
        "\n",
        "TEACHER\n",
        "  That's great. I am glad that you are having a good day. Now, let's do a\n",
        "  little recap of our previous class. Could you recall the concepts you\n",
        "  learnt in the previous lesson?\n",
        "\n",
        "EXPECTED STUDENT RESPONSE\n",
        "  We added more functionalities to the very simple algorithm for the Mind\n",
        "  Reader game. We created variables to keep the scores for both the computer\n",
        "  and the player. We also executed the game until either the computer or the\n",
        "  player reaches a score of 50 points.\n",
        "\n",
        "\n",
        "TEACHER\n",
        "  Excellent! You recalled everything that you learnt in the last class.\n",
        "  Great job! Keep it up.\n",
        "  I have an exciting quiz question for you! Are you ready to answer this question?   \n",
        "```\n",
        "**Instructions for the Teacher:**\n",
        "  -  Please click on the \"Quiz Time\" button on the bottom right corner of your screen to start the In-Class Quiz.<img src='https://student-datasets-bucket.s3.ap-south-1.amazonaws.com/images/quiz-time.png' width=100>   \n",
        "  - A quiz will be visible to both you and the student. Encourage the student to answer the quiz question.\n",
        "  - The student may choose the wrong option, help the student to think correctly about the question and then answer again.\n",
        "  - After the student selects the correct option, the \"End Quiz\" button will start appearing on your screen.  <img src='https://student-datasets-bucket.s3.ap-south-1.amazonaws.com/images/end-quiz.png' width=100>  \n",
        "  - Click the \"End quiz\" to close the quiz pop-up and continue the class.\n",
        "  - Do not spend more than 2 minutes on this quiz.\n",
        "\n",
        "```\n",
        "TEACHER\n",
        "  Today, we are going to improve the algorithm we created last time.\n",
        "  \n",
        "  But before we do that, let me ask you few general questions.\n",
        "  (Refer the visuals added in Class copy).\n",
        "```\n",
        "**Instructions for the Teacher:**\n",
        "1. The Class copy contains the questions which the teacher is supposed to ask the student before starting the actual activities. This must be done to improve student's engagement in the class.\n",
        "2. Encourage the student to answer every question.\n",
        "3. Once the student answers a question, click on the icon <img src=\"https://curriculum.whitehatjr.com/APT+Asset/Final+C2+images/download.jpg\"/> next to the question (Do not ask the student to click on this icon). This icon will redirect to some image or gif which will provide answer to that question alongwith some explanation.\n",
        "4. Some questions are very general and you will not find green icon <img src=\"https://curriculum.whitehatjr.com/APT+Asset/Final+C2+images/download.jpg\"/> next to that question. This is because there is no specific answer or explanation for that question.\n",
        "   \n",
        "\n",
        "```\n",
        "TEACHER\n",
        "    Have you ever ordered anything from any e-commerce website ? Like\n",
        "    Amazon, Flipkart or Myntra ?\n",
        "\n",
        "EXPECTED STUDENT RESPONSE\n",
        "    Student answers.\n",
        "\n",
        "TEACHER\n",
        "   Have you ever noticed a recommendation section like this when you\n",
        "   shop for more than twice from these sites?\n",
        "```\n",
        "<img src=\"https://curriculum.whitehatjr.com/APT+Asset/APT+C3+images/recommend3.PNG\" /> <img src=\"https://curriculum.whitehatjr.com/APT+Asset/APT+C3+images/recommend4.jpg\"/>\n",
        "\n",
        "*Image credits: https://www.amazon.com/*\n",
        "```\n",
        "EXPECTED STUDENT RESPONSE\n",
        "  Yes\n",
        "\n",
        "TEACHER\n",
        "  Can you guess how these e commerce websites are able to give\n",
        "  such recommendations for products we might like?\n",
        "\n",
        "EXPECTED STUDENT RESPONSE\n",
        "  They are recommending these products based on our past purchase\n",
        "  behavior. (If the student is not able to answer this, teacher will\n",
        "  answer and will click on the green icon next to the question.)\n",
        "  \n",
        "TEACHER\n",
        "  Absolutely right. It means they are tracking your inputs each time\n",
        "  you visit their website and then predicts your future buying\n",
        "  behavior based on these inputs.\n",
        "  Not only they track their inputs, they even try to identify a\n",
        "  pattern in those inputs and based on that\n",
        "  pattern, these e commerce sites can make predictions.\n",
        "\n",
        "  For example, they may notice that you are more inclined towards\n",
        "  books rather than clothing or any other product.\n",
        "  Thus, they will recommend you different categories of books\n",
        "  everytime you visit their website.\n",
        "\n",
        "  Similarly, for our Mind Reader game, Let's say a player is\n",
        "  consistently and more frequently entering\n",
        "  'Heads', then we can enable the computer to predict 'Heads' more\n",
        "  often.\n",
        "\n",
        "  Does this make sense?\n",
        "\n",
        "EXPECTED STUDENT RESPONSE\n",
        "  Yes, teacher!\n",
        "  \n",
        "\n",
        "TEACHER\n",
        "  All right. I am going to share the Colab Notebook with you in which we\n",
        "  will write our improved algorithm.\n",
        "\n",
        "  Note:\n",
        "    - Share the duplicate copy of the notebook with the student that you\n",
        "      just created through the chat window.\n",
        "    \n",
        "EXPECTED STUDENT RESPONSE\n",
        "  The student opens the Colab notebook.\n",
        "```"
      ]
    },
    {
      "cell_type": "markdown",
      "metadata": {
        "id": "dMvXy0Qb9vNF"
      },
      "source": [
        "---"
      ]
    },
    {
      "cell_type": "markdown",
      "metadata": {
        "id": "QLYAW7dsZp8M"
      },
      "source": [
        "### Teacher-Student Activities\n",
        "\n",
        "\n",
        "\n",
        "In this class, we are going to improve our Mind Reader algorithm so that it can make better predictions instead of making predictions randomly.\n",
        "\n",
        "In this new algorithm, we will perform following tasks:\n",
        "\n",
        "<img src=\"https://curriculum.whitehatjr.com/APT+Asset/APT+C3+images/coin.gif\" />\n",
        "\n",
        "\n",
        "\n",
        "Let's start creating the improved version of Mind Reader algorithm.\n"
      ]
    },
    {
      "cell_type": "markdown",
      "metadata": {
        "id": "PVzucGhM5-M-"
      },
      "source": [
        "---"
      ]
    },
    {
      "cell_type": "markdown",
      "metadata": {
        "id": "T8h_6DdeM8nm"
      },
      "source": [
        "#### Activity 1: Initialise The Variables\n",
        "Let's create four variables:\n",
        "\n",
        "- `count_zero` - to store the count of the number of times a player has entered `0`.\n",
        "    \n",
        "- `count_one` - to store the count of the number of times a player has entered `1`.\n",
        "\n",
        "- `player_score` - to keep the score of a player.\n",
        "\n",
        "- `computer_score` - to keep the score of the computer."
      ]
    },
    {
      "cell_type": "code",
      "metadata": {
        "id": "W4LxntSS4TLQ"
      },
      "source": [
        "# Student Action: Create the 'count_zero', 'count_one', 'player_score' and 'computer_score' variables. Set their initial values equal to 0.\n",
        "count_zero = 0\n",
        "count_one = 0\n",
        "\n",
        "player_score = 0\n",
        "computer_score = 0"
      ],
      "execution_count": null,
      "outputs": []
    },
    {
      "cell_type": "markdown",
      "metadata": {
        "id": "QEV4jQkV4MDR"
      },
      "source": [
        "---"
      ]
    },
    {
      "cell_type": "markdown",
      "metadata": {
        "id": "oA5obgxNw79x"
      },
      "source": [
        "#### Activity 2: Functions^^\n",
        "\n",
        "Now we need to create four functions:\n",
        "\n",
        "- The `prediction()` function to predict `0` or `1`.\n",
        "\n",
        "- The `update_counts()` function to update the `count_zero` and `count_one` values.\n",
        "\n",
        "- The `update_scores()` function to update the `player_score` and `computer_score` values.\n",
        "\n",
        "- The `gameplay()` function to run the game.\n",
        "\n",
        "Unfortunately, we don't have a ready-made function (like the `print()` and `input()` functions) to do this. Hence, we need to create these four functions by ourselves.\n",
        "\n",
        "So before creating these functions, first let's learn the **Python functions** in detail.\n",
        "\n",
        "------------\n",
        "<h3>Python Functions</h3>\n",
        "\n",
        "A function is like a machine which takes some input (not always needed) and gives some output. For example: An ATM machine is a function which takes your debit card and your pin number as inputs and returns the cash as an output.\n",
        "\n",
        "<img src=\"https://curriculum.whitehatjr.com/APT+Asset/APT+C3+images/atm3.gif\"/>\n",
        "\n",
        "\n",
        "\n",
        "\n",
        "To create a user-defined function, we use a keyword called `def` followed by the name of the function, followed by common brackets, followed by the colon `(:)` symbol.\n",
        "\n",
        "The input(s) to the function is/are provided within the common brackets.\n",
        "\n",
        "The syntax for creating a user-defined function is\n",
        "\n",
        "`def function_name(input1, input2, ..., inputN):`\n",
        "\n",
        "**Note**:\n",
        "\n",
        "1. The function attributes must be written in the subsequent lines after leaving two blank spaces between the code cell and the code. To exit the function, remove the blank spaces between the code cell and the code in the subsequent lines.\n",
        "\n",
        "2. The function name must begin with a lowercase letter.\n",
        "\n",
        "\n",
        "\n",
        "\n",
        "**Let us understand different categories of User defined functions.**\n",
        "\n",
        "<img src=\"https://user-images.githubusercontent.com/67689674/102910007-d6d98300-449f-11eb-8b11-30e51f10cb82.PNG\" height=300 width=1200/>\n",
        "\n"
      ]
    },
    {
      "cell_type": "markdown",
      "metadata": {
        "id": "VhNVuL4g9O0q"
      },
      "source": [
        "<ul><b><h3><font color=red><li>Function which takes input and returns output:</h3></font></b>\n",
        "</li>\n",
        "\n",
        "   Let's create a function which takes  two numbers as inputs and   returns their addition as an output."
      ]
    },
    {
      "cell_type": "code",
      "metadata": {
        "id": "pLGmknOMVy4R"
      },
      "source": [
        "# Teacher Action: Write a function which adds two numbers and returns their addition as an output.\n",
        "def add_numbers(num1, num2):\n",
        "  result = num1 + num2\n",
        "  return result"
      ],
      "execution_count": null,
      "outputs": []
    },
    {
      "cell_type": "markdown",
      "metadata": {
        "id": "Yj1dViu2A5is"
      },
      "source": [
        "Here:\n",
        "\n",
        "1. The `add_numbers()` is a function which takes two inputs, `num1` and `num2`. You can provide any name of your choice to the function. However, some of the function names are reserved for the ready-made functions in Python. So, you need to avoid those names for naming a function such as `print(), input(), sum()` etc.\n",
        "\n",
        "2. The `+` operator adds the values stored in the `num1` and `num2` variables.\n",
        "\n",
        "3. The variable `result` stores the sum of the values stored in the `num1` and `num2` variables.\n",
        "\n",
        "4. The `return` keyword returns the output. If you don't write the `return` statement, then this function will only add the numbers but won't give any output.\n",
        "\n",
        "5. While creating a function, make sure that you follow indentation, i.e., after declaring the function, leave two blank spaces between the code cell and the code in the subsequent lines. Otherwise, your code will throw the `IndentationError` at the time of its execution.\n",
        "\n",
        "6. To exit from the function, remove the blank spaces between the code cell and the code in the subsequent lines.\n",
        "\n",
        "<font color=blue>When we run the above code, we do not get anything in the output. This is because, to use a function, you need to **call** the function.</font>\n",
        "\n",
        "**Calling a function:**\n",
        "\n",
        "You can call a function by using function name followed by the inputs in the parenthesis. As `add_number()` function needs two inputs, let's call this function by passing two integers as input."
      ]
    },
    {
      "cell_type": "code",
      "metadata": {
        "colab": {
          "base_uri": "https://localhost:8080/"
        },
        "id": "5cxxcDE8FHyc",
        "outputId": "52a4e277-7941-46d6-f523-5bd220b9119b"
      },
      "source": [
        "#  Teacher Action: Call the add_numbers() function and pass two numbers as input.\n",
        "add_numbers(8,5)"
      ],
      "execution_count": null,
      "outputs": [
        {
          "output_type": "execute_result",
          "data": {
            "text/plain": [
              "13"
            ]
          },
          "metadata": {
            "tags": []
          },
          "execution_count": 2
        }
      ]
    },
    {
      "cell_type": "markdown",
      "metadata": {
        "id": "Uzb6fz5bJ_8k"
      },
      "source": [
        "<ul><b><h3><font color=red><li>Function which takes input but does not returns any output:</h3></font></b>\n",
        "</li>\n",
        "\n",
        "For some problem statements, a function may take one or more input, but it may not return any output.\n",
        "\n",
        "Let's create a function which takes two numbers as inputs and   stores their sum in a variable, but does not return any output."
      ]
    },
    {
      "cell_type": "code",
      "metadata": {
        "id": "p4dmZJytKDhU"
      },
      "source": [
        "# Teacher Action: Write a function which adds two numbers but does not returns their addition as an output.\n",
        "def add_numbers(num1, num2):\n",
        "  result = num1 + num2\n",
        "\n",
        "add_numbers(10,15)"
      ],
      "execution_count": null,
      "outputs": []
    },
    {
      "cell_type": "markdown",
      "metadata": {
        "id": "hm8OPJl_-vOu"
      },
      "source": [
        "<ul><b><h3><font color=red><li>Function which does not take any input but returns output:</h3></font></b>\n",
        "</li>\n",
        "\n",
        "For some problem statements, a function does not take any input, yet it produces the output.\n",
        "\n",
        "Let's create a function which returns `\"WhiteHat Jr\"` whenever you call it."
      ]
    },
    {
      "cell_type": "code",
      "metadata": {
        "id": "N5A0HxDHuQIm",
        "colab": {
          "base_uri": "https://localhost:8080/",
          "height": 68
        },
        "outputId": "eae513f2-dbba-4d95-dd17-b9203bc11cf3"
      },
      "source": [
        "# Student Action: Create a function and name it \"no_input()\". It should not take any input and should return \"WhiteHat Jr\" as an output.\n",
        "def no_input():\n",
        "  return \"WhiteHat Jr\"\n",
        "\n",
        "print(no_input())\n",
        "print(no_input())\n",
        "print(no_input())"
      ],
      "execution_count": null,
      "outputs": [
        {
          "output_type": "stream",
          "text": [
            "WhiteHat Jr\n",
            "WhiteHat Jr\n",
            "WhiteHat Jr\n"
          ],
          "name": "stdout"
        }
      ]
    },
    {
      "cell_type": "markdown",
      "metadata": {
        "id": "k_HyzsvRtpY1"
      },
      "source": [
        "As you can see, we called the `no_input()` function thrice and thrice it returned an output without taking an input.\n",
        "\n",
        "Now we are in the position to create the four functions. Let's start with the `prediction()` function."
      ]
    },
    {
      "cell_type": "markdown",
      "metadata": {
        "id": "CqCzEbrLWWJv"
      },
      "source": [
        "---"
      ]
    },
    {
      "cell_type": "markdown",
      "metadata": {
        "id": "ut_QJ8MgCrit"
      },
      "source": [
        "#### Activity 3: The `prediction()` Function\n",
        "\n",
        "The `prediction()` function should return 0 or 1 as output by comparing the values stored in the `count_zero` and `count_one` variables.\n",
        "\n",
        "<img src=\"https://curriculum.whitehatjr.com/APT+Asset/APT+C3+images/whj-jar-prediction-apt-c3-01.gif\" />\n"
      ]
    },
    {
      "cell_type": "code",
      "metadata": {
        "id": "3qhYChiwG0XG",
        "colab": {
          "base_uri": "https://localhost:8080/",
          "height": 34
        },
        "outputId": "8b15e9e6-e407-4d9a-98d9-44be88028851"
      },
      "source": [
        "# Student Action: Create the 'prediction()' function. It should not take any input and should return the prediction value as an output.\n",
        "import random\n",
        "\n",
        "def prediction():\n",
        "  if count_zero > count_one:\n",
        "    predict = 0\n",
        "  elif count_one > count_zero:\n",
        "    predict = 1\n",
        "  else:\n",
        "    predict = random.randint(0, 1)\n",
        "  return predict\n",
        "\n",
        "prediction()"
      ],
      "execution_count": null,
      "outputs": [
        {
          "output_type": "execute_result",
          "data": {
            "text/plain": [
              "0"
            ]
          },
          "metadata": {
            "tags": []
          },
          "execution_count": 3
        }
      ]
    },
    {
      "cell_type": "markdown",
      "metadata": {
        "id": "Dkl9RHcuHfvs"
      },
      "source": [
        "Currently, since both the `count_zero` and `count_one` values are `0` (or equal), the `prediction()` function will return `0` or `1` randomly. Run the above code again and again to observe the function behaviour.\n",
        "\n",
        "Now, let's create the `update_count()` function."
      ]
    },
    {
      "cell_type": "markdown",
      "metadata": {
        "id": "zbiqUd30JH3j"
      },
      "source": [
        "---"
      ]
    },
    {
      "cell_type": "markdown",
      "metadata": {
        "id": "RSRhb-AKHz2l"
      },
      "source": [
        "#### Activity 4: The `update_counts()` Function And The `global` Keyword\n",
        "\n",
        "The `update_counts()` function should update the values stored in the `count_zero` and `count_one` variables based on the player inputs.\n",
        "\n",
        "<img src=\"https://curriculum.whitehatjr.com/APT+Asset/APT+C3+images/WHJ-Jar-Coins-More-C3-01.jpg\"/>\n",
        "\n",
        "The `update_counts()` function should not return anything. It should just update the values stored in the `count_zero` and `count_one` variables.\n",
        "\n",
        "---\n",
        "**NOTE:**\n",
        "\n",
        "- Now we are going to modify the `count_zero` and `count_one` variables using the `update_counts()` function.\n",
        "- But, `count_zero` and `count_one` are global variables.\n",
        "\n",
        "<b><font color=red>What is  meant by global variables?</b></font>\n",
        "\n",
        "<img src=\"https://curriculum.whitehatjr.com/APT+Asset/APT+C3+images/fn5.png\" />\n",
        "\n",
        "\n",
        "- So, `count_zero` and `count_one` are **global variables** as they were already declared outside the `update_counts()` function.\n",
        "- Now, we need to update values of these global variables inside `update_counts()` function. But, you cannot do this directly. Let's try to understand why?\n",
        "\n",
        "\n",
        "\n",
        "\n",
        "**For Example:**\n",
        "```\n",
        "TEACHER\n",
        "   Have you ever visited Maldives?\n",
        "STUDENT\n",
        "   Student answers\n",
        "TEACHER\n",
        "   Do you know that there are around 58 countries where no visa is\n",
        "   needed for Indian passport and Maldives is one of them. But this\n",
        "   is only applicable when you are travelling as a tourist. What if\n",
        "   you want to work in Maldives? Do you think still visa is not\n",
        "   needed?\n",
        "STUDENT\n",
        "   Yes Visa is needed if we need to work in Maldives.\n",
        "TEACHER\n",
        "  Absolutely correct. So to travel, there is no need of Visa.\n",
        "  However, we need Work permit or Work Visa for working in such countries.\n",
        "  Similarly, we can directly access global variables inside a function,\n",
        "  but to modify such global variables, we need to use `global`\n",
        "  keyword (just as we need to Work Visa).\n",
        "```\n",
        "<center>\n",
        "<img src=\"https://curriculum.whitehatjr.com/APT+Asset/APT+C3+images/APT+C2-25+%281%29.png\" />\n",
        "\n",
        "</center>\n"
      ]
    },
    {
      "cell_type": "code",
      "metadata": {
        "id": "SzOH8m_2Iyls"
      },
      "source": [
        "# Student Action: Create the 'update_counts' function. It should take 'player_input' variable as input and should not return anything.\n",
        "def update_counts(player_input):\n",
        "  global count_zero, count_one # Declaring variables with the global keyword whose values need to be modified.\n",
        "  if player_input == 0:\n",
        "    count_zero = count_zero + 1\n",
        "  else:\n",
        "    count_one = count_one + 1"
      ],
      "execution_count": null,
      "outputs": []
    },
    {
      "cell_type": "markdown",
      "metadata": {
        "id": "Sch4JlDWK5xt"
      },
      "source": [
        "Now let's test the above function by giving `0, 0` and `1` values as the inputs to the `update_counts()` function and printing the values stored in the `count_zero` and `count_one` variables.\n",
        "\n",
        "The output should be `count_zero = 2` and `count_one = 1`"
      ]
    },
    {
      "cell_type": "code",
      "metadata": {
        "id": "8XAlsW5wLKyh",
        "colab": {
          "base_uri": "https://localhost:8080/",
          "height": 51
        },
        "outputId": "77ff5abe-5e28-47b0-a6a9-d2a22a5f15da"
      },
      "source": [
        "# Student Action: Enter 0, 0 and 1 as inputs to the 'update_counts()' function one-by-one.\n",
        "# Print the values stored in the 'count_zero' and 'count_one' variables.\n",
        "update_counts(0)\n",
        "update_counts(0)\n",
        "update_counts(1)\n",
        "\n",
        "print(\"count_zero =\", count_zero)\n",
        "print(\"count_one =\", count_one)"
      ],
      "execution_count": null,
      "outputs": [
        {
          "output_type": "stream",
          "text": [
            "count_zero = 2\n",
            "count_one = 1\n"
          ],
          "name": "stdout"
        }
      ]
    },
    {
      "cell_type": "markdown",
      "metadata": {
        "id": "JzRet-WyMP06"
      },
      "source": [
        "Similarly, let's create the `update_scores()` function."
      ]
    },
    {
      "cell_type": "markdown",
      "metadata": {
        "id": "ig1UGSn1MWy_"
      },
      "source": [
        "---"
      ]
    },
    {
      "cell_type": "markdown",
      "metadata": {
        "id": "z_qOozBHMYz-"
      },
      "source": [
        "#### Activity 5: The `update_scores()` Function^\n",
        "\n",
        "<img src=\"https://curriculum.whitehatjr.com/APT+Asset/APT+C3+images/WHJ-boy-robot-apt-c3-02-01.jpg\" height=550/>\n",
        "\n",
        "\n",
        "\n",
        "\n",
        "The predicted value is obtained from the `prediction()` function. Immediately after updating the scores, the `update_scores()` function must print the updated values stored in the `player_score` and `computer_score` variables.\n",
        "\n",
        "**Note:** To modify the value stored in a variable using a user-defined function, we need to declare that variable with the `global` keyword inside the function.\n",
        "\n",
        "In this case, we are going to modify the `player_score` and `computer_score` values using the `update_scores()` function. Hence, we need to add the `global player_score, computer_score` statement inside the function."
      ]
    },
    {
      "cell_type": "code",
      "metadata": {
        "id": "0kmauZcVVDEK"
      },
      "source": [
        "# Student Action: Create the 'update_scores()' function. It should take the 'predicted' and 'player_input' variables as inputs.\n",
        "# It should update the 'player_score' and 'computer_score' values and should print them. It should not return anything.\n",
        "def update_scores(predicted, player_input):\n",
        "  global player_score, computer_score\n",
        "  if predicted == player_input:\n",
        "    computer_score = computer_score + 1\n",
        "    print(\"Computer Score:\", computer_score)\n",
        "    print(\"Player Score:\", player_score)\n",
        "  else:\n",
        "    player_score = player_score + 1\n",
        "    print(\"Computer Score:\", computer_score)\n",
        "    print(\"Player Score:\", player_score)"
      ],
      "execution_count": null,
      "outputs": []
    },
    {
      "cell_type": "markdown",
      "metadata": {
        "id": "akNKltPwWKgA"
      },
      "source": [
        "Let's test the above function by giving `0` as an input to the `update_counts()` and `update_scores()` functions and then printing the values stored in the `player_score` and `computer_scores` variables.\n",
        "\n",
        "Initially, `count_zero` value is the same as the `count_one` value. So, the `prediction()` function will predict `0` or `1` randomly. The `computer_score` value will be equal to `1` if the predicted value is same as the `player_input`, i.e. `0`. Else the `player_score` will be equal to `1`.\n",
        "\n",
        "The second time, if you again give `0` as another input, the `prediction()` function will return `0` as the predicted value because the `count_zero = 2` which is greater than `count_one` value.\n",
        "\n",
        "So, the `computer_score` value should be atleast `1`, i.e. either `1` or `2` after the second input."
      ]
    },
    {
      "cell_type": "code",
      "metadata": {
        "id": "kRXCln3jgpzU",
        "colab": {
          "base_uri": "https://localhost:8080/",
          "height": 136
        },
        "outputId": "31d1dfc3-4543-4a60-c316-fcf36dc6b32d"
      },
      "source": [
        "# Student Action: Get the predicted value from the 'prediction()' function and store it in the 'predicted' variable.\n",
        "# Then enter 0 as an input to the 'update_counts()' and 'update_scores()' functions twice.\n",
        "count_zero = 0\n",
        "count_one = 0\n",
        "\n",
        "player_score = 0\n",
        "computer_score = 0\n",
        "\n",
        "# First input.\n",
        "predicted = prediction()\n",
        "print(\"First prediction:\", predicted)\n",
        "update_counts(0)\n",
        "update_scores(predicted, 0)\n",
        "\n",
        "print() # This will add an emtpy line.\n",
        "\n",
        "# Second input.\n",
        "predicted = prediction()\n",
        "print(\"Second prediction:\", predicted)\n",
        "update_counts(0)\n",
        "update_scores(predicted, 0)"
      ],
      "execution_count": null,
      "outputs": [
        {
          "output_type": "stream",
          "text": [
            "First prediction: 1\n",
            "Computer Score: 0\n",
            "Player Score: 1\n",
            "\n",
            "Second prediction: 0\n",
            "Computer Score: 1\n",
            "Player Score: 1\n"
          ],
          "name": "stdout"
        }
      ]
    },
    {
      "cell_type": "markdown",
      "metadata": {
        "id": "RNS0iVQ5g6z-"
      },
      "source": [
        "As you can see, after the second input, the `computer_score` value is at-least `1`. Run this code again and again to observe the behaviour.\n",
        "\n",
        "Now, let's create the `gameplay()` function."
      ]
    },
    {
      "cell_type": "markdown",
      "metadata": {
        "id": "SYoZZ9t7ufNC"
      },
      "source": [
        "---"
      ]
    },
    {
      "cell_type": "markdown",
      "metadata": {
        "id": "vXBQ-FmRhgAh"
      },
      "source": [
        "#### Activity 6: The `gameplay()` Function^^^\n",
        "\n",
        "\n",
        "<img src=\"https://curriculum.whitehatjr.com/APT+Asset/APT+C3+images/whj-jar-player-apt-c3-03-01.jpg\"/>"
      ]
    },
    {
      "cell_type": "code",
      "metadata": {
        "id": "_Ih-2w4qj-cq"
      },
      "source": [
        "# Student Action: Create the 'gameplay()' function.\n",
        "def gameplay():\n",
        "  valid_entries = ['0', '1']\n",
        "  while True:\n",
        "    # Get the predicted value and store it in the 'predicted' variable.\n",
        "    predicted = prediction()\n",
        "    # Take input from the player and store it in the 'player_input' variable.\n",
        "    player_input = input(\"Enter either 0 or 1: \")\n",
        "    while player_input not in valid_entries:\n",
        "      print(\"Invalid Input!\")\n",
        "      player_input = input(\"Please enter either 0 or 1: \")\n",
        "\n",
        "    # Convert the 'player_input' value to an integer value.\n",
        "    player_input = int(player_input)\n",
        "\n",
        "    # Update the 'count_zero' and 'count_one' values using the 'update_counts()' function.\n",
        "    update_counts(player_input)\n",
        "\n",
        "    # Update the 'player_score' and 'computer_score' values using the 'update_scores()' function.\n",
        "    update_scores(predicted, player_input)\n",
        "\n",
        "    if player_score == 50:\n",
        "      print(\"Congrats, You Won!\")\n",
        "      break\n",
        "    elif computer_score == 50:\n",
        "      print(\"Bad Luck, You Lost!\")\n",
        "      break"
      ],
      "execution_count": null,
      "outputs": []
    },
    {
      "cell_type": "markdown",
      "metadata": {
        "id": "SCNwvrfbkFNq"
      },
      "source": [
        "Now, test the game by putting everything together in one place."
      ]
    },
    {
      "cell_type": "markdown",
      "metadata": {
        "id": "0Zt0_-Wbkh5T"
      },
      "source": [
        "---"
      ]
    },
    {
      "cell_type": "markdown",
      "metadata": {
        "id": "APuw2qqzkWDz"
      },
      "source": [
        "#### Activity 7: Running The Game\n",
        "\n",
        "Let's run the game using the `gameplay()` function. We will run this game only until either the computer or the player has reached a score of `10`. Otherwise, the testing will take a very long time.\n",
        "\n",
        "You can replace `10` with `50` after testing the game."
      ]
    },
    {
      "cell_type": "code",
      "metadata": {
        "id": "QzObGx2Etry5",
        "colab": {
          "base_uri": "https://localhost:8080/"
        },
        "outputId": "303dbdd6-84b7-4500-bc81-7d7f288b4e84"
      },
      "source": [
        "# Student Action: Run the game by calling the 'gameplay()' function at the end of the code cell.\n",
        "import random\n",
        "\n",
        "count_zero = 0\n",
        "count_one = 0\n",
        "\n",
        "player_score = 0\n",
        "computer_score = 0\n",
        "\n",
        "def prediction():\n",
        "  if count_zero > count_one:\n",
        "    predict = 0\n",
        "  elif count_one > count_zero:\n",
        "    predict = 1\n",
        "  else:\n",
        "    predict = random.randint(0, 1)\n",
        "\n",
        "  return predict\n",
        "\n",
        "def update_counts(player_input):\n",
        "  global count_zero, count_one\n",
        "  if player_input == 0:\n",
        "    count_zero = count_zero + 1\n",
        "  else:\n",
        "    count_one = count_one + 1\n",
        "\n",
        "def update_scores(predicted, player_input):\n",
        "  global player_score, computer_score\n",
        "  if predicted == player_input:\n",
        "    computer_score = computer_score + 1\n",
        "    print(\"Computer Score:\", computer_score)\n",
        "    print(\"Player Score:\", player_score)\n",
        "  else:\n",
        "    player_score = player_score + 1\n",
        "    print(\"Computer Score:\", computer_score)\n",
        "    print(\"Player Score:\", player_score)\n",
        "\n",
        "def gameplay():\n",
        "  valid_entries = ['0', '1']\n",
        "  while True:\n",
        "    # Get the predicted value and stored it in the 'predicted' variable.\n",
        "    predicted = prediction()\n",
        "    # Take input from the player and store it in the 'player_input' variable.\n",
        "    player_input = input(\"Enter either 0 or 1: \")\n",
        "    while player_input not in valid_entries:\n",
        "      print(\"Invalid Input!\")\n",
        "      player_input = input(\"Please enter either 0 or 1: \")\n",
        "\n",
        "    # Convert the 'player_input' value to an integer value.\n",
        "    player_input = int(player_input)\n",
        "\n",
        "    # Update the 'count_zero' and 'count_one' values using the 'update_counts()' function.\n",
        "    update_counts(player_input)\n",
        "\n",
        "    # Update the 'player_score' and 'computer_score' values using the 'update_scores()' function.\n",
        "    update_scores(predicted, player_input)\n",
        "\n",
        "    if player_score == 10:\n",
        "      print(\"Congrats, You Won!\")\n",
        "      break\n",
        "    elif computer_score == 10:\n",
        "      print(\"Bad Luck, You Lost!\")\n",
        "      break\n",
        "\n",
        "# Call the 'gameplay()' function to run the game.\n",
        "gameplay()"
      ],
      "execution_count": null,
      "outputs": [
        {
          "output_type": "stream",
          "text": [
            "Enter either 0 or 1: 3\n",
            "Invalid Input!\n",
            "Please enter either 0 or 1: 1\n",
            "Computer Score: 0\n",
            "Player Score: 1\n",
            "Enter either 0 or 1: 0\n",
            "Computer Score: 0\n",
            "Player Score: 2\n",
            "Enter either 0 or 1: 1\n",
            "Computer Score: 1\n",
            "Player Score: 2\n",
            "Enter either 0 or 1: 1\n",
            "Computer Score: 2\n",
            "Player Score: 2\n",
            "Enter either 0 or 1: 0\n",
            "Computer Score: 2\n",
            "Player Score: 3\n",
            "Enter either 0 or 1: 0\n",
            "Computer Score: 2\n",
            "Player Score: 4\n",
            "Enter either 0 or 1: 1\n",
            "Computer Score: 2\n",
            "Player Score: 5\n",
            "Enter either 0 or 1: 0\n",
            "Computer Score: 2\n",
            "Player Score: 6\n",
            "Enter either 0 or 1: 1\n",
            "Computer Score: 2\n",
            "Player Score: 7\n",
            "Enter either 0 or 1: 0\n",
            "Computer Score: 2\n",
            "Player Score: 8\n",
            "Enter either 0 or 1: 0\n",
            "Computer Score: 3\n",
            "Player Score: 8\n",
            "Enter either 0 or 1: 0\n",
            "Computer Score: 4\n",
            "Player Score: 8\n",
            "Enter either 0 or 1: 0\n",
            "Computer Score: 5\n",
            "Player Score: 8\n",
            "Enter either 0 or 1: 1\n",
            "Computer Score: 5\n",
            "Player Score: 9\n",
            "Enter either 0 or 1: 1\n",
            "Computer Score: 5\n",
            "Player Score: 10\n",
            "Congrats, You Won!\n"
          ],
          "name": "stdout"
        }
      ]
    },
    {
      "cell_type": "markdown",
      "metadata": {
        "id": "apcHWj3NvWUf"
      },
      "source": [
        "---"
      ]
    },
    {
      "cell_type": "markdown",
      "metadata": {
        "id": "qrNaMQij9wp_"
      },
      "source": [
        "## Additional Activities\n",
        "\n",
        "The activities starting from this point are optional. Please do these activities **ONLY** if you have time to spare in the class. Otherwise, skip to the **Wrap-Up** section. The additional activities will not be available in the class copy of the notebook. You will have to manually add these activities in the class copy by adding new text and code cells.\n",
        "\n",
        "Moreover, you don't have to do all the additional activities. Depending on the availability of time in a class, you can choose the number of additional activities to perform from this collection."
      ]
    },
    {
      "cell_type": "markdown",
      "metadata": {
        "id": "Uo8ag1VhB1Nx"
      },
      "source": [
        "---"
      ]
    },
    {
      "cell_type": "markdown",
      "metadata": {
        "id": "CnG2gZTLB2JN"
      },
      "source": [
        "#### Activity 1: Newton's Equations Of Motion\n",
        "\n",
        "Recall Newton's first equation of motion which relates the initial and final velocities of an object in motion with acceleration and time.\n",
        "\n",
        "$v = u + at$\n",
        "\n",
        "where\n",
        "\n",
        "- $v$ is the final velocity in $ m/s $\n",
        "\n",
        "- $u$ is an initial velocity in $m/s$\n",
        "\n",
        "- $a$ is acceleration in $m/s^2$\n",
        "\n",
        "- $t$ is the time taken in $s$\n",
        "\n",
        "Let's create a function which takes initial velocity, time and acceleration of an object in motion as inputs and returns the final velocity of the object as an output.\n",
        "\n"
      ]
    },
    {
      "cell_type": "code",
      "metadata": {
        "id": "WpNRPVPJB0jf"
      },
      "source": [
        "# Student Action: Create a function which takes 'u', 'a' and 't' of an object as inputs and returns the 'v' of the object as an output.\n",
        "def final_velocity(u, a, t):\n",
        "  v = u + a * t\n",
        "  return v"
      ],
      "execution_count": null,
      "outputs": []
    },
    {
      "cell_type": "markdown",
      "metadata": {
        "id": "UV9prRIBHky4"
      },
      "source": [
        "Now let's test the above function by finding out the velocity of an object after 3 seconds if it moves with an acceleration of 2 $ m/s^2$ and has an initial velocity of 10 $m/s$.\n",
        "\n",
        "The output should be 16 $m/s$ because\n",
        "\n",
        "$u = 10$ $m/s$, $a = 2$  $m/s^2$ and $t = 2$ $s$\n",
        "\n",
        "$\\therefore v = u + at$\n",
        "\n",
        "$\\Rightarrow v = 10 + 2 \\times 3 = 16$ $m/s$\n",
        "\n"
      ]
    },
    {
      "cell_type": "code",
      "metadata": {
        "id": "-6DC6ILYHkZ6",
        "colab": {
          "base_uri": "https://localhost:8080/",
          "height": 34
        },
        "outputId": "1a22f46a-aee0-4250-bcbd-b2eab6adaf34"
      },
      "source": [
        "# Student Action: Find out the velocity of an object after 3 s, if it moves with an acceleration of 2 𝑚/𝑠2 and has an initial velocity of 10 𝑚/𝑠.\n",
        "final_velocity(10, 2, 3)"
      ],
      "execution_count": null,
      "outputs": [
        {
          "output_type": "execute_result",
          "data": {
            "text/plain": [
              "16"
            ]
          },
          "metadata": {
            "tags": []
          },
          "execution_count": 20
        }
      ]
    },
    {
      "cell_type": "markdown",
      "metadata": {
        "id": "BfQQiyM6HA8E"
      },
      "source": [
        "We have got the desired output which means the function is working correctly.\n",
        "\n",
        "Similarly, you create two more functions for Newton's second and third equations of motion.\n",
        "\n",
        "**Newton's Second Equation Of Motion**\n",
        "\n",
        "$s = ut + \\frac{1}{2}at^2$\n",
        "\n",
        "where\n",
        "\n",
        "- $s$ is the distance covered by an object in $m$\n",
        "\n",
        "- $u$ is initial velocity in $m/s$\n",
        "\n",
        "- $a$ is acceleration in $m/s^2$\n",
        "\n",
        "- $t$ is the time taken in $s$\n"
      ]
    },
    {
      "cell_type": "code",
      "metadata": {
        "id": "NTH71V7OJWUo"
      },
      "source": [
        "# Student Action: Create a function for the 2nd equation of motion. It should take 'u', 'a' and 't' as inputs and should return 's' as an output.\n",
        "def distance_covered(u, a, t):\n",
        "  s = u * t + 0.5 * a * (t ** 2)\n",
        "  return s"
      ],
      "execution_count": null,
      "outputs": []
    },
    {
      "cell_type": "markdown",
      "metadata": {
        "id": "hEwqPGS5K-YD"
      },
      "source": [
        "Now let's test the above function by finding out the distance covered by an object after 3 seconds if it moves with an acceleration of 2 $ m/s^2$ and has an initial velocity of 10 $m/s$.\n",
        "\n",
        "The output should be 39 $m$ because\n",
        "\n",
        "$u = 10$ $m/s$, $a = 2$  $m/s^2$ and $t = 3$ $s$\n",
        "\n",
        "$\\therefore s = ut + \\frac{1}{2}at^2$\n",
        "\n",
        "$\\Rightarrow s = 10\\times3 + \\frac{1}{2}\\times2 \\times 3^2 = 30 + 9 = 39$ $m$"
      ]
    },
    {
      "cell_type": "code",
      "metadata": {
        "id": "77cYIU26PzFu",
        "colab": {
          "base_uri": "https://localhost:8080/",
          "height": 34
        },
        "outputId": "2c72e057-2bd6-40ec-cf61-79fef90a2260"
      },
      "source": [
        "# Student Action: Find the distance covered by an object after 3 s, if it moves with an acceleration of 2 𝑚/𝑠2 and has an initial velocity of 10 𝑚/𝑠.\n",
        "distance_covered(10, 2, 3)"
      ],
      "execution_count": null,
      "outputs": [
        {
          "output_type": "execute_result",
          "data": {
            "text/plain": [
              "39.0"
            ]
          },
          "metadata": {
            "tags": []
          },
          "execution_count": 22
        }
      ]
    },
    {
      "cell_type": "markdown",
      "metadata": {
        "id": "D30ZdDKoPuXV"
      },
      "source": [
        "We have got the desired output which means the function is working correctly.\n",
        "\n",
        "Now, let's create a function for the third equation of motion.\n",
        "\n",
        "**Newton's Third Equation Of Motion**\n",
        "\n",
        "$v^2 = u^2 + 2as$\n",
        "\n",
        "$\\Rightarrow v = \\sqrt{u^2 + 2as}$\n",
        "\n",
        "where\n",
        "\n",
        "- $v$ is the final velocity in $m/s$\n",
        "\n",
        "- $u$ is initial velocity in $m/s$\n",
        "\n",
        "- $a$ is acceleration in $m/s^2$\n",
        "\n",
        "**Note:** A square root of a number is equivalent to the number raised to the power 0.5, i.e., $\\sqrt{x} = x^{0.5}$"
      ]
    },
    {
      "cell_type": "code",
      "metadata": {
        "id": "JCMesSu8LggM"
      },
      "source": [
        "# Student Action: Create a function for the 3rd equation of motion. It should take 'u', 'a' and 's' as inputs and should return 'v' as an output.\n",
        "def fin_vel(u, a, s):\n",
        "  v = (u ** 2 + 2 * a * s) ** 0.5\n",
        "  return v"
      ],
      "execution_count": null,
      "outputs": []
    },
    {
      "cell_type": "markdown",
      "metadata": {
        "id": "OoRR9mxWNpUV"
      },
      "source": [
        "Now let's test the above function by finding out the final velocity of an object after it has covered 100 $m$, if it moves with an acceleration of 3 $ m/s^2$ and has an initial velocity of 5 $m/s$.\n",
        "\n",
        "The output should be 25 $m/s$ because\n",
        "\n",
        "$u = 5$ $m/s$, $a = 2$  $m/s^2$ and $s = 100$ $m$\n",
        "\n",
        "$\\therefore v = \\sqrt{u^2 + 2as}$\n",
        "\n",
        "$\\Rightarrow v = \\sqrt{5^2 + 2\\times3\\times100} = \\sqrt{625} = 25$ $m/s$\n"
      ]
    },
    {
      "cell_type": "code",
      "metadata": {
        "id": "4XcMBNehPU03",
        "colab": {
          "base_uri": "https://localhost:8080/",
          "height": 34
        },
        "outputId": "9d3650be-39f0-4a29-9d6a-aa38b0c1983e"
      },
      "source": [
        "# Student Action: Find the final velocity of an object after it has covered a distance of 100 m.\n",
        "# The object moves with an acceleration of 3 m/s2 and has an initial velocity of 5 m/s.\n",
        "fin_vel(5, 3, 100)"
      ],
      "execution_count": null,
      "outputs": [
        {
          "output_type": "execute_result",
          "data": {
            "text/plain": [
              "25.0"
            ]
          },
          "metadata": {
            "tags": []
          },
          "execution_count": 24
        }
      ]
    },
    {
      "cell_type": "markdown",
      "metadata": {
        "id": "GQaBh6cDQMnp"
      },
      "source": [
        "We have got the desired output which means the function is working correctly.\n"
      ]
    },
    {
      "cell_type": "markdown",
      "metadata": {
        "id": "YgNO5lRyVhpm"
      },
      "source": [
        "---"
      ]
    },
    {
      "cell_type": "markdown",
      "metadata": {
        "id": "AVQ9kNrBDBXD"
      },
      "source": [
        "### Wrap-Up Quiz\n",
        "\n",
        "```\n",
        "TEACHER\n",
        "  Let us quickly recollect what we learned and did in today's class.\n",
        "\n",
        "  There are some questions alongwith 4 options in the Class copy.\n",
        "  Tell me the correct answer.\n",
        "```\n",
        "<img src=\"https://curriculum.whitehatjr.com/APT+Asset/APT+C3+images/Q1.PNG\"/>\n",
        "\n",
        "```\n",
        "TEACHER\n",
        "  The correct answer is Option 3.\n",
        "  Remember Work Visa example. We use global keyword\n",
        "  when we need to modify global variables inside any function.\n",
        "```\n",
        "\n",
        "<img src=\"https://curriculum.whitehatjr.com/APT+Asset/APT+C3+images/Q2.PNG\"/>\n",
        "\n",
        "```\n",
        "TEACHER\n",
        "  The correct answer is Option 2.\n",
        "  All the other statements are true about a function except for the\n",
        "  second statement. Some function may not take any input parameters,\n",
        "  but they are still called functions. Recall the function which you\n",
        "  created called no_input() which returned WhiteHatjr.\n",
        "```\n",
        "\n",
        "<img src=\"https://curriculum.whitehatjr.com/APT+Asset/APT+C3+images/Q3.PNG\"/>\n",
        "\n",
        "\n",
        "```\n",
        "TEACHER\n",
        "   There will be no output because here the function is only defined\n",
        "   but not called. A function can execute only when it is called.\n",
        "   To call a function, simply use function name followed by the  \n",
        "   inputs in the parenthesis (if there are any).\n",
        "\n",
        "\n",
        "  You did a great job today.\n",
        "  I hope you had fun in this class and hope to see you in the upcoming\n",
        "  classes to learn Python programming. Bye!\n",
        "\n",
        "EXPECTED STUDENT RESPONSE\n",
        "  Bye teacher!\n",
        "```\n",
        "\n"
      ]
    },
    {
      "cell_type": "markdown",
      "metadata": {
        "id": "pOMWZts3QN1-"
      },
      "source": [
        "---"
      ]
    },
    {
      "cell_type": "markdown",
      "metadata": {
        "id": "ZRwRdY8LD1Cq"
      },
      "source": [
        "### Activities\n",
        "\n",
        "**Teacher Activities**\n",
        "\n",
        "1. Improving The Algorithm (Class Copy)\n",
        "\n",
        "   Link on Panel#scrollTo=JrcAsD9TBdyS\n",
        "      \n",
        "2. Improving The Algorithm (Reference)\n",
        "\n",
        "   Link on Panel"
      ]
    },
    {
      "cell_type": "markdown",
      "metadata": {
        "id": "jIrsLKwpVlS4"
      },
      "source": [
        "---"
      ]
    }
  ]
}