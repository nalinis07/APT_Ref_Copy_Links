{
  "nbformat": 4,
  "nbformat_minor": 0,
  "metadata": {
    "colab": {
      "provenance": [],
      "toc_visible": true,
      "include_colab_link": true
    },
    "kernelspec": {
      "name": "python3",
      "display_name": "Python 3"
    },
    "language_info": {
      "name": "python"
    }
  },
  "cells": [
    {
      "cell_type": "markdown",
      "metadata": {
        "id": "view-in-github",
        "colab_type": "text"
      },
      "source": [
        "<a href=\"https://colab.research.google.com/github/nalinis07/APT_Ref_Copy_Links/blob/MASTER/AT_Lesson_126_Reference.ipynb\" target=\"_parent\"><img src=\"https://colab.research.google.com/assets/colab-badge.svg\" alt=\"Open In Colab\"/></a>"
      ]
    },
    {
      "cell_type": "markdown",
      "metadata": {
        "id": "rOAIiGfXYltE"
      },
      "source": [
        "# Lesson 126: Naive Bayes Classifier - Understanding Bayes' Theorem"
      ]
    },
    {
      "cell_type": "markdown",
      "metadata": {
        "id": "Tsv4gGwPk3qH"
      },
      "source": [
        "**WARNING:** The reference notebook is meant **ONLY** for a teacher. Please **DO NOT** share it with any student.\n",
        "\n",
        "The contents of the reference notebook are meant only to prepare a teacher for a class. To conduct the class, use the class copy of the reference notebook. The link and the instructions for the same are provided in the **Notes To The Teacher** section.\n",
        "\n",
        "\n",
        "|Particulars|Description|\n",
        "|-|-|\n",
        "|**Topic**|Naive Bayes Classifier - Understanding Bayes' Theorem|\n",
        "|||\n",
        "|**Class Description**|In this class, a student will understand the underlying math behind Naive Bayes Classifier|\n",
        "|||\n",
        "|**Class**|C126|\n",
        "|||\n",
        "|**Class Time**|45 minutes|\n",
        "|||\n",
        "|**Goal**|Understand the Conditional Probability|\n",
        "||Derive Bayes' Theorem using Conditional Probability|\n",
        "||Implement the Naive Bayes Classifier without scikit-learn library |\n",
        "|||\n",
        "|**Teacher Resources**|Google Account|\n",
        "||Laptop with internet connectivity|\n",
        "||Earphones with mic|\n",
        "|||\n",
        "|**Student Resources**|Google Account|\n",
        "||Laptop with internet connectivity|\n",
        "||Earphones with mic|"
      ]
    },
    {
      "cell_type": "markdown",
      "metadata": {
        "id": "kRPa0R7t_zrX"
      },
      "source": [
        "---"
      ]
    },
    {
      "cell_type": "markdown",
      "metadata": {
        "id": "pFwYED5rmX0S"
      },
      "source": [
        "### Teacher-Student Activities\n",
        "\n",
        "In the previous class, we implemented Naive Bayes Classifier using `sklearn` module of Python on UCI **Heart Disease dataset** and predicted the chances of a person getting heart disease.  \n",
        "\n",
        "In today's class, we will understand the working of Naive Bayes Classifier with a relatively simple example and explore the underlying mathematics behind the Bayes' theorem.\n",
        "\n",
        "Let us first recall the attributes or columns of the heart disease dataset and begin the class from **Activity 1: Understanding Joint and Conditional Probability**.\n"
      ]
    },
    {
      "cell_type": "markdown",
      "metadata": {
        "id": "xB7ar-Naoen9"
      },
      "source": [
        "---"
      ]
    },
    {
      "cell_type": "markdown",
      "metadata": {
        "id": "kK2zqpfLJad2"
      },
      "source": [
        "#### Problem Statement\n",
        "\n",
        "The Heart Disease UCI dataset contains data collected on 14 different attributes by examining 303 patients. The dataset focuses only on differentiating patients having heart disease; labelled as value 1 and those not having heart disease; labelled as value 0. The 14 attributes (or columns) are as follows:\n",
        "\n",
        "|Name|Description|\n",
        "|-|-|\n",
        "|age|age in years|\n",
        "|sex|sex (1 = male; 0 = female)|\n",
        "|cp|chest pain type <br> -- Value 1: typical angina <br> -- Value 2: atypical angina <br> -- Value 3: non-anginal pain <br> -- Value 4: asymptomatic |\n",
        "|trestbps|resting blood pressure (in mm Hg on admission to the hospital) |\n",
        "|chol|serum cholestoral in mg/dl|\n",
        "|fbs| (fasting blood sugar > 120 mg/dl) (1 = true; 0 = false) |\n",
        "|restecg| resting electrocardiographic results <br> -- Value 0: normal <br> -- Value 1: having ST-T wave abnormality (T wave inversions and/or ST elevation or depression of > 0.05 mV) <br> -- Value 2: showing probable or definite left ventricular hypertrophy by Estes' criteria |\n",
        "|thalach|maximum heart rate achieved|\n",
        "|exang|exercise induced angina (1 = yes; 0 = no) |\n",
        "|oldpeak|ST depression induced by exercise relative to rest|\n",
        "|slope|the slope of the peak exercise ST segment <br> -- Value 1: upsloping <br> -- Value 2: flat <br> -- Value 3: downsloping |\n",
        "|ca|number of major vessels (0-3) colored by flourosopy |\n",
        "|thal| 3 = normal; 6 = fixed defect; 7 = reversable defect|\n",
        "|target|1 = presence of heart disease; 0 = absence of heart disease|\n",
        "\n",
        "**Dataset Source:** https://archive.ics.uci.edu/ml/datasets/Heart+Disease\n",
        "\n",
        "**Acknowledgements:**\n",
        "\n",
        "Creators:\n",
        "\n",
        "1. Hungarian Institute of Cardiology. Budapest: Andras Janosi, M.D.\n",
        "2. University Hospital, Zurich, Switzerland: William Steinbrunn, M.D.\n",
        "3. University Hospital, Basel, Switzerland: Matthias Pfisterer, M.D.\n",
        "4. V.A. Medical Center, Long Beach and Cleveland Clinic Foundation: Robert Detrano, M.D., Ph.D.\n",
        "\n",
        "Donor:\n",
        "David W. Aha (aha '@' ics.uci.edu) (714) 856-8779\n",
        "\n",
        "**Citations:** Dua, D., & Graff, C.. (2017). UCI Machine Learning Repository.\n"
      ]
    },
    {
      "cell_type": "markdown",
      "metadata": {
        "id": "KOWoyttWJiEO"
      },
      "source": [
        "---"
      ]
    },
    {
      "cell_type": "markdown",
      "metadata": {
        "id": "GJKiRHT7oc0k"
      },
      "source": [
        "#### Recap\n",
        "\n",
        "#### Importing Modules and Loading Data\n",
        "\n",
        "Import the basic libraries and load the heart disease dataset.\n",
        "\n",
        "**Dataset Link:** https://s3-student-datasets-bucket.whjr.online/whitehat-ds-datasets/uci-heart-disease/heart.csv\n"
      ]
    },
    {
      "cell_type": "code",
      "metadata": {
        "colab": {
          "base_uri": "https://localhost:8080/",
          "height": 206
        },
        "id": "eN1CA9IWYpTf",
        "outputId": "af62f06f-8744-4057-92a3-fae9353709b3"
      },
      "source": [
        "# Import the required modules and load the heart disease dataset. Also, display the first five rows.\n",
        "import numpy as np\n",
        "import pandas as pd\n",
        "import matplotlib.pyplot as plt\n",
        "import seaborn as sns\n",
        "\n",
        "# Read the csv file and create the DataFrame\n",
        "csv_file = 'https://s3-student-datasets-bucket.whjr.online/whitehat-ds-datasets/uci-heart-disease/heart.csv'\n",
        "df = pd.read_csv(csv_file)\n",
        "df.head()"
      ],
      "execution_count": null,
      "outputs": [
        {
          "output_type": "execute_result",
          "data": {
            "text/html": [
              "\n",
              "  <div id=\"df-510e3e0e-3311-47cb-980e-4f1fe6928a2e\">\n",
              "    <div class=\"colab-df-container\">\n",
              "      <div>\n",
              "<style scoped>\n",
              "    .dataframe tbody tr th:only-of-type {\n",
              "        vertical-align: middle;\n",
              "    }\n",
              "\n",
              "    .dataframe tbody tr th {\n",
              "        vertical-align: top;\n",
              "    }\n",
              "\n",
              "    .dataframe thead th {\n",
              "        text-align: right;\n",
              "    }\n",
              "</style>\n",
              "<table border=\"1\" class=\"dataframe\">\n",
              "  <thead>\n",
              "    <tr style=\"text-align: right;\">\n",
              "      <th></th>\n",
              "      <th>age</th>\n",
              "      <th>sex</th>\n",
              "      <th>cp</th>\n",
              "      <th>trestbps</th>\n",
              "      <th>chol</th>\n",
              "      <th>fbs</th>\n",
              "      <th>restecg</th>\n",
              "      <th>thalach</th>\n",
              "      <th>exang</th>\n",
              "      <th>oldpeak</th>\n",
              "      <th>slope</th>\n",
              "      <th>ca</th>\n",
              "      <th>thal</th>\n",
              "      <th>target</th>\n",
              "    </tr>\n",
              "  </thead>\n",
              "  <tbody>\n",
              "    <tr>\n",
              "      <th>0</th>\n",
              "      <td>63</td>\n",
              "      <td>1</td>\n",
              "      <td>3</td>\n",
              "      <td>145</td>\n",
              "      <td>233</td>\n",
              "      <td>1</td>\n",
              "      <td>0</td>\n",
              "      <td>150</td>\n",
              "      <td>0</td>\n",
              "      <td>2.3</td>\n",
              "      <td>0</td>\n",
              "      <td>0</td>\n",
              "      <td>1</td>\n",
              "      <td>1</td>\n",
              "    </tr>\n",
              "    <tr>\n",
              "      <th>1</th>\n",
              "      <td>37</td>\n",
              "      <td>1</td>\n",
              "      <td>2</td>\n",
              "      <td>130</td>\n",
              "      <td>250</td>\n",
              "      <td>0</td>\n",
              "      <td>1</td>\n",
              "      <td>187</td>\n",
              "      <td>0</td>\n",
              "      <td>3.5</td>\n",
              "      <td>0</td>\n",
              "      <td>0</td>\n",
              "      <td>2</td>\n",
              "      <td>1</td>\n",
              "    </tr>\n",
              "    <tr>\n",
              "      <th>2</th>\n",
              "      <td>41</td>\n",
              "      <td>0</td>\n",
              "      <td>1</td>\n",
              "      <td>130</td>\n",
              "      <td>204</td>\n",
              "      <td>0</td>\n",
              "      <td>0</td>\n",
              "      <td>172</td>\n",
              "      <td>0</td>\n",
              "      <td>1.4</td>\n",
              "      <td>2</td>\n",
              "      <td>0</td>\n",
              "      <td>2</td>\n",
              "      <td>1</td>\n",
              "    </tr>\n",
              "    <tr>\n",
              "      <th>3</th>\n",
              "      <td>56</td>\n",
              "      <td>1</td>\n",
              "      <td>1</td>\n",
              "      <td>120</td>\n",
              "      <td>236</td>\n",
              "      <td>0</td>\n",
              "      <td>1</td>\n",
              "      <td>178</td>\n",
              "      <td>0</td>\n",
              "      <td>0.8</td>\n",
              "      <td>2</td>\n",
              "      <td>0</td>\n",
              "      <td>2</td>\n",
              "      <td>1</td>\n",
              "    </tr>\n",
              "    <tr>\n",
              "      <th>4</th>\n",
              "      <td>57</td>\n",
              "      <td>0</td>\n",
              "      <td>0</td>\n",
              "      <td>120</td>\n",
              "      <td>354</td>\n",
              "      <td>0</td>\n",
              "      <td>1</td>\n",
              "      <td>163</td>\n",
              "      <td>1</td>\n",
              "      <td>0.6</td>\n",
              "      <td>2</td>\n",
              "      <td>0</td>\n",
              "      <td>2</td>\n",
              "      <td>1</td>\n",
              "    </tr>\n",
              "  </tbody>\n",
              "</table>\n",
              "</div>\n",
              "      <button class=\"colab-df-convert\" onclick=\"convertToInteractive('df-510e3e0e-3311-47cb-980e-4f1fe6928a2e')\"\n",
              "              title=\"Convert this dataframe to an interactive table.\"\n",
              "              style=\"display:none;\">\n",
              "        \n",
              "  <svg xmlns=\"http://www.w3.org/2000/svg\" height=\"24px\"viewBox=\"0 0 24 24\"\n",
              "       width=\"24px\">\n",
              "    <path d=\"M0 0h24v24H0V0z\" fill=\"none\"/>\n",
              "    <path d=\"M18.56 5.44l.94 2.06.94-2.06 2.06-.94-2.06-.94-.94-2.06-.94 2.06-2.06.94zm-11 1L8.5 8.5l.94-2.06 2.06-.94-2.06-.94L8.5 2.5l-.94 2.06-2.06.94zm10 10l.94 2.06.94-2.06 2.06-.94-2.06-.94-.94-2.06-.94 2.06-2.06.94z\"/><path d=\"M17.41 7.96l-1.37-1.37c-.4-.4-.92-.59-1.43-.59-.52 0-1.04.2-1.43.59L10.3 9.45l-7.72 7.72c-.78.78-.78 2.05 0 2.83L4 21.41c.39.39.9.59 1.41.59.51 0 1.02-.2 1.41-.59l7.78-7.78 2.81-2.81c.8-.78.8-2.07 0-2.86zM5.41 20L4 18.59l7.72-7.72 1.47 1.35L5.41 20z\"/>\n",
              "  </svg>\n",
              "      </button>\n",
              "      \n",
              "  <style>\n",
              "    .colab-df-container {\n",
              "      display:flex;\n",
              "      flex-wrap:wrap;\n",
              "      gap: 12px;\n",
              "    }\n",
              "\n",
              "    .colab-df-convert {\n",
              "      background-color: #E8F0FE;\n",
              "      border: none;\n",
              "      border-radius: 50%;\n",
              "      cursor: pointer;\n",
              "      display: none;\n",
              "      fill: #1967D2;\n",
              "      height: 32px;\n",
              "      padding: 0 0 0 0;\n",
              "      width: 32px;\n",
              "    }\n",
              "\n",
              "    .colab-df-convert:hover {\n",
              "      background-color: #E2EBFA;\n",
              "      box-shadow: 0px 1px 2px rgba(60, 64, 67, 0.3), 0px 1px 3px 1px rgba(60, 64, 67, 0.15);\n",
              "      fill: #174EA6;\n",
              "    }\n",
              "\n",
              "    [theme=dark] .colab-df-convert {\n",
              "      background-color: #3B4455;\n",
              "      fill: #D2E3FC;\n",
              "    }\n",
              "\n",
              "    [theme=dark] .colab-df-convert:hover {\n",
              "      background-color: #434B5C;\n",
              "      box-shadow: 0px 1px 3px 1px rgba(0, 0, 0, 0.15);\n",
              "      filter: drop-shadow(0px 1px 2px rgba(0, 0, 0, 0.3));\n",
              "      fill: #FFFFFF;\n",
              "    }\n",
              "  </style>\n",
              "\n",
              "      <script>\n",
              "        const buttonEl =\n",
              "          document.querySelector('#df-510e3e0e-3311-47cb-980e-4f1fe6928a2e button.colab-df-convert');\n",
              "        buttonEl.style.display =\n",
              "          google.colab.kernel.accessAllowed ? 'block' : 'none';\n",
              "\n",
              "        async function convertToInteractive(key) {\n",
              "          const element = document.querySelector('#df-510e3e0e-3311-47cb-980e-4f1fe6928a2e');\n",
              "          const dataTable =\n",
              "            await google.colab.kernel.invokeFunction('convertToInteractive',\n",
              "                                                     [key], {});\n",
              "          if (!dataTable) return;\n",
              "\n",
              "          const docLinkHtml = 'Like what you see? Visit the ' +\n",
              "            '<a target=\"_blank\" href=https://colab.research.google.com/notebooks/data_table.ipynb>data table notebook</a>'\n",
              "            + ' to learn more about interactive tables.';\n",
              "          element.innerHTML = '';\n",
              "          dataTable['output_type'] = 'display_data';\n",
              "          await google.colab.output.renderOutput(dataTable, element);\n",
              "          const docLink = document.createElement('div');\n",
              "          docLink.innerHTML = docLinkHtml;\n",
              "          element.appendChild(docLink);\n",
              "        }\n",
              "      </script>\n",
              "    </div>\n",
              "  </div>\n",
              "  "
            ],
            "text/plain": [
              "   age  sex  cp  trestbps  chol  fbs  ...  exang  oldpeak  slope  ca  thal  target\n",
              "0   63    1   3       145   233    1  ...      0      2.3      0   0     1       1\n",
              "1   37    1   2       130   250    0  ...      0      3.5      0   0     2       1\n",
              "2   41    0   1       130   204    0  ...      0      1.4      2   0     2       1\n",
              "3   56    1   1       120   236    0  ...      0      0.8      2   0     2       1\n",
              "4   57    0   0       120   354    0  ...      1      0.6      2   0     2       1\n",
              "\n",
              "[5 rows x 14 columns]"
            ]
          },
          "metadata": {},
          "execution_count": 1
        }
      ]
    },
    {
      "cell_type": "code",
      "metadata": {
        "colab": {
          "base_uri": "https://localhost:8080/"
        },
        "id": "drE_LxcZrnNU",
        "outputId": "15fa8503-637d-4663-a558-438262c1c3fb"
      },
      "source": [
        "# Apply the 'info()' function on the 'df' DataFrame.\n",
        "\n",
        "df.info()"
      ],
      "execution_count": null,
      "outputs": [
        {
          "output_type": "stream",
          "name": "stdout",
          "text": [
            "<class 'pandas.core.frame.DataFrame'>\n",
            "RangeIndex: 303 entries, 0 to 302\n",
            "Data columns (total 14 columns):\n",
            " #   Column    Non-Null Count  Dtype  \n",
            "---  ------    --------------  -----  \n",
            " 0   age       303 non-null    int64  \n",
            " 1   sex       303 non-null    int64  \n",
            " 2   cp        303 non-null    int64  \n",
            " 3   trestbps  303 non-null    int64  \n",
            " 4   chol      303 non-null    int64  \n",
            " 5   fbs       303 non-null    int64  \n",
            " 6   restecg   303 non-null    int64  \n",
            " 7   thalach   303 non-null    int64  \n",
            " 8   exang     303 non-null    int64  \n",
            " 9   oldpeak   303 non-null    float64\n",
            " 10  slope     303 non-null    int64  \n",
            " 11  ca        303 non-null    int64  \n",
            " 12  thal      303 non-null    int64  \n",
            " 13  target    303 non-null    int64  \n",
            "dtypes: float64(1), int64(13)\n",
            "memory usage: 33.3 KB\n"
          ]
        }
      ]
    },
    {
      "cell_type": "code",
      "metadata": {
        "id": "qY5CNVmKbUFP",
        "colab": {
          "base_uri": "https://localhost:8080/"
        },
        "outputId": "31b681cc-16f8-4c2b-e2f3-411c40ea2f6e"
      },
      "source": [
        "# Print the number of records in each target label\n",
        "\n",
        "print(\"Number of records in each label are\")\n",
        "print(df['target'].value_counts())\n",
        "\n",
        "# Create separate DataFrames for features and target\n",
        "features_df = df.drop('target', axis=1)\n",
        "target_df = df['target']\n",
        "\n",
        "# Print shape of features and target DataFrames\n",
        "print(features_df.shape)\n",
        "print(target_df.shape)"
      ],
      "execution_count": null,
      "outputs": [
        {
          "output_type": "stream",
          "name": "stdout",
          "text": [
            "Number of records in each label are\n",
            "1    165\n",
            "0    138\n",
            "Name: target, dtype: int64\n",
            "(303, 13)\n",
            "(303,)\n"
          ]
        }
      ]
    },
    {
      "cell_type": "markdown",
      "metadata": {
        "id": "0B6K5_Ytf59x"
      },
      "source": [
        "---"
      ]
    },
    {
      "cell_type": "markdown",
      "metadata": {
        "id": "IpfEMXIjtPNz"
      },
      "source": [
        "#### EDA and Train-Test Split\n",
        "\n",
        "\n"
      ]
    },
    {
      "cell_type": "code",
      "metadata": {
        "colab": {
          "base_uri": "https://localhost:8080/",
          "height": 733
        },
        "id": "RT9oO_T8tJ4W",
        "outputId": "71eba466-387c-415e-9473-187c8ae9f311"
      },
      "source": [
        "# Obtain boxplot for continuous features\n",
        "\n",
        "fig, axis = plt.subplots(nrows = 2, ncols = 3, figsize = (14, 8), dpi = 96, sharey = False)\n",
        "sns.boxplot(y = 'age', x = 'sex', hue = 'target', data = df, ax = axis[0, 0])\n",
        "sns.boxplot(y = 'trestbps', x = 'sex', hue = 'target', data = df, ax = axis[0, 1])\n",
        "sns.boxplot(y = 'chol', x = 'sex', hue = 'target', data = df, ax = axis[0, 2])\n",
        "sns.boxplot(y = 'thalach', x = 'sex', hue = 'target', data = df, ax = axis[1, 0])\n",
        "sns.boxplot(y = 'oldpeak', x = 'sex', hue = 'target', data = df, ax = axis[1, 1])\n",
        "sns.boxplot(y = 'cp', x = 'sex', hue = 'target', data = df, ax = axis[1, 2])\n",
        "fig.suptitle('Box Plots Showing Distribution of Continuous Features')\n",
        "plt.show()"
      ],
      "execution_count": null,
      "outputs": [
        {
          "output_type": "display_data",
          "data": {
            "image/png": "[encoded data removed]",
            "text/plain": [
              "<Figure size 1344x768 with 6 Axes>"
            ]
          },
          "metadata": {
            "needs_background": "light"
          }
        }
      ]
    },
    {
      "cell_type": "code",
      "metadata": {
        "colab": {
          "base_uri": "https://localhost:8080/",
          "height": 650
        },
        "id": "Hf0kVbegk_Rj",
        "outputId": "2328dcd1-774f-49e0-9a61-e2a28bd842a2"
      },
      "source": [
        "# Obtain the correlation heatmap\n",
        "\n",
        "corr_df = df.corr()\n",
        "plt.figure(figsize = (15, 11))\n",
        "sns.heatmap(corr_df, annot = True)\n",
        "plt.show()"
      ],
      "execution_count": null,
      "outputs": [
        {
          "output_type": "display_data",
          "data": {
            "image/png": "[encoded data removed]",
            "text/plain": [
              "<Figure size 1080x792 with 2 Axes>"
            ]
          },
          "metadata": {
            "needs_background": "light"
          }
        }
      ]
    },
    {
      "cell_type": "code",
      "metadata": {
        "colab": {
          "base_uri": "https://localhost:8080/"
        },
        "id": "7n5G-iyNbUMn",
        "outputId": "2b2e8962-4077-440a-995b-af2749822dc8"
      },
      "source": [
        "# Import train_test_split function\n",
        "from sklearn.model_selection import train_test_split\n",
        "\n",
        "# Split dataset into training set and test set\n",
        "X_train, X_test, y_train, y_test = train_test_split(features_df, target_df, test_size = 0.3, random_state = 42, stratify = target_df)\n",
        "\n",
        "# Print the shape of train and test sets.\n",
        "print(\"Shape of X_train:\", X_train.shape)\n",
        "print(\"Shape of X_test:\", X_test.shape)\n",
        "print(\"Shape of y_train:\", y_train.shape)\n",
        "print(\"Shape of y_test:\", y_test.shape)"
      ],
      "execution_count": null,
      "outputs": [
        {
          "output_type": "stream",
          "name": "stdout",
          "text": [
            "Shape of X_train: (212, 13)\n",
            "Shape of X_test: (91, 13)\n",
            "Shape of y_train: (212,)\n",
            "Shape of y_test: (91,)\n"
          ]
        }
      ]
    },
    {
      "cell_type": "markdown",
      "metadata": {
        "id": "uFfl1SkgtMD0"
      },
      "source": [
        "---"
      ]
    },
    {
      "cell_type": "markdown",
      "metadata": {
        "id": "CR-15y72gIC-"
      },
      "source": [
        "#### Naive Bayes Classifier\n",
        "\n",
        "To construct a Classifier using Naive Bayes:\n",
        "\n",
        "1. Import the required library which contains methods and attributed to design a Naive Bayes Classifier.\n",
        "\n",
        "  ```python\n",
        "  from sklearn.naive_bayes import GuassianNB\n",
        "  ```\n",
        "2. Create an object (say `nb_clf`) of the `GaussianNB()` constructor.\n",
        "\n",
        "4. Call the `fit()` function on the above constructor with train features and target variables as inputs.\n",
        "\n",
        "5. Get the predicted target values for both train and test sets by calling the `predict()` function on `nb_clf`.\n",
        "\n",
        "6. Get the accuracy score on both train and test sets by calling the `accuracy_score()` function on the `metrics` object.\n",
        "\n",
        "\n"
      ]
    },
    {
      "cell_type": "code",
      "metadata": {
        "colab": {
          "base_uri": "https://localhost:8080/",
          "height": 480
        },
        "id": "a0pqliiMbUMo",
        "outputId": "19a80c03-e86b-4a5c-d3e5-8f8b213981ce"
      },
      "source": [
        "# Naive Bayes Classifier\n",
        "\n",
        "# Import the required library\n",
        "from sklearn.naive_bayes import GaussianNB\n",
        "\n",
        "import warnings\n",
        "warnings.filterwarnings(\"ignore\")\n",
        "\n",
        "# Modeling the NB Classifier\n",
        "nb_clf = GaussianNB()\n",
        "nb_clf.fit(X_train, y_train)\n",
        "\n",
        "# Predicting the train and test sets\n",
        "y_train_predict_nb = nb_clf.predict(X_train)\n",
        "y_test_predict_nb = nb_clf.predict(X_test)\n",
        "\n",
        "# Evaluating accuracy scores\n",
        "print('Accuracy on the training set: {:.2f}'.format(nb_clf.score(X_train, y_train)))\n",
        "print('Accuracy on the test set: {:.2f}'.format(nb_clf.score(X_test, y_test)))\n",
        "\n",
        "# Obtain the Confusion Matrix for the Classifier\n",
        "\n",
        "from sklearn.metrics import plot_confusion_matrix, classification_report\n",
        "\n",
        "plot_confusion_matrix(nb_clf, X_test, y_test, values_format = 'd')\n",
        "print(classification_report(y_test, y_test_predict_nb))"
      ],
      "execution_count": null,
      "outputs": [
        {
          "output_type": "stream",
          "name": "stdout",
          "text": [
            "Accuracy on the training set: 0.86\n",
            "Accuracy on the test set: 0.79\n",
            "              precision    recall  f1-score   support\n",
            "\n",
            "           0       0.81      0.71      0.75        41\n",
            "           1       0.78      0.86      0.82        50\n",
            "\n",
            "    accuracy                           0.79        91\n",
            "   macro avg       0.79      0.78      0.79        91\n",
            "weighted avg       0.79      0.79      0.79        91\n",
            "\n"
          ]
        },
        {
          "output_type": "display_data",
          "data": {
            "image/png": "[encoded data removed]",
            "text/plain": [
              "<Figure size 432x288 with 2 Axes>"
            ]
          },
          "metadata": {
            "needs_background": "light"
          }
        }
      ]
    },
    {
      "cell_type": "markdown",
      "metadata": {
        "id": "6_ZcgNymtKQv"
      },
      "source": [
        "---"
      ]
    },
    {
      "cell_type": "markdown",
      "metadata": {
        "id": "0wRi7bmRYZAD"
      },
      "source": [
        "#### Model Evaluation: ROC Curve\n"
      ]
    },
    {
      "cell_type": "code",
      "metadata": {
        "colab": {
          "base_uri": "https://localhost:8080/",
          "height": 313
        },
        "id": "2lfQJRLiQ2Kt",
        "outputId": "0c83bf21-47ff-41a1-c1f3-621e654f3278"
      },
      "source": [
        "# Obtain the AUC Scores\n",
        "\n",
        "from sklearn.metrics import roc_auc_score\n",
        "\n",
        "roc_nb = roc_auc_score(y_test,y_test_predict_nb)\n",
        "print('AUC Score for Naive Bayes Classifier: {:.2f} %'.format(roc_nb))\n",
        "\n",
        "# Plot the ROC curve\n",
        "\n",
        "from sklearn.metrics import roc_curve\n",
        "# Obtain 'fpr', 'tpr' and threshold values\n",
        "fpr_nb, tpr_nb, threshold_nb = roc_curve(y_test, y_test_predict_nb)\n",
        "\n",
        "\n",
        "# Plot roc curves\n",
        "plt.plot([0, 1], [0, 1], linestyle = '--', label = 'Baseline')\n",
        "plt.plot(fpr_nb, tpr_nb, color = 'orange', label = 'Naive Bayes Classifier')\n",
        "\n",
        "\n",
        "plt.title('ROC Curve')\n",
        "plt.xlabel('False Positive Rate')\n",
        "plt.ylabel('True Positive Rate')\n",
        "plt.legend()\n",
        "\n",
        "plt.show()"
      ],
      "execution_count": null,
      "outputs": [
        {
          "output_type": "stream",
          "name": "stdout",
          "text": [
            "AUC Score for Naive Bayes Classifier: 0.78 %\n"
          ]
        },
        {
          "output_type": "display_data",
          "data": {
            "image/png": "[encoded data removed]",
            "text/plain": [
              "<Figure size 432x288 with 1 Axes>"
            ]
          },
          "metadata": {
            "needs_background": "light"
          }
        }
      ]
    },
    {
      "cell_type": "markdown",
      "metadata": {
        "id": "riwP4YsQ_2U_"
      },
      "source": [
        "---"
      ]
    },
    {
      "cell_type": "markdown",
      "metadata": {
        "id": "uvqK48u8emBC"
      },
      "source": [
        "#### Activity 1: Understanding Joint and Conditional Probability\n",
        "\n",
        "Let us first recall the important concepts of Probability.\n",
        "\n",
        "**Probability**: Probability of an outcome or an event is defined as the ratio of the number of favourable outcomes to the total number of possible outcomes.\n",
        "\n",
        "**Event**: In probability, event is an outcome of a random experiment.\n",
        "\n",
        "Mathematically, the probability of an outcome or an event $E$ is given by:\n",
        "\n",
        "$$P(E) = \\frac{\\text{Number of favourable outcomes}}{\\text{Total number of outcomes}}$$\n",
        "\n",
        "or\n",
        "\n",
        "$$P(E) = \\frac{n(E)}{n(S)}$$\n",
        "\n",
        "Where,\n",
        "\n",
        "- $E$ is a set containing favourable outcomes.\n",
        "\n",
        "- $n(E)$ is the number of items contained in the set $E$.\n",
        "\n",
        "- $S$ is a set of all possible outcomes which is also known as **sample space**.\n",
        "\n",
        "- $n(S)$ the number of items contained in the set $S$.\n",
        "\n",
        "**Question**: What is the probability of drawing an Ace from a pack of 52 cards?\n",
        "\n",
        "**Answer**: As we know a pack of cards has four Aces, the probability of drawing an Ace from 52 cards will be:\n",
        "\n",
        "\\begin{align}\n",
        "P(\\text {Ace}) = \\frac {4}{52} = \\frac{1}{13}\n",
        "\\end{align}\n",
        "\n",
        "<center><img src=https://s3-whjr-v2-prod-bucket.whjr.online/whjr-v2-prod-bucket/d7d5a902-ec60-4296-950b-2be1ca073b7b.png width=300>\n",
        "\n",
        "`Image by` <a href=\"https://pixabay.com/images/id-161404/\">`OpenClipart-Vectors`</a> `from` <a href=\"https://pixabay.com\">`Pixabay`</a></center>\n",
        "\n",
        "<br>\n",
        "\n",
        "Now let's have a look at the types of Probability:\n",
        "\n",
        "1. Joint Probability\n",
        "\n",
        "2. Conditional Probability\n",
        "\n",
        "#### **Joint Probability**:\n",
        "\n",
        "A **joint probability** is the probability of two events occurring simultaneously. Let's say probability of event A is $P(A)$ and that of event B is $P(B)$, then the joint probability of event A and B can be expressed as:\n",
        "\n",
        "\\begin{align}\n",
        "P(A,B) = P(A \\cap B) = P(A) \\times P(B)\n",
        "\\tag{1.1}\n",
        "\\end{align}\n",
        "\n",
        "**Joint Probability and Independent Events**\n",
        "\n",
        "For joint probability calculations to work, the events must be **independent**. In other words, the outcome of one event must not impact the outcome of the other event.\n",
        "\n",
        "$\\Rightarrow$ For example, two coin tosses are **independent events** as first coin toss does not impact second coin toss.\n",
        "\n",
        "$\\Rightarrow$ On the other hand,  removing coloured balls from a bag are **dependent events**. Each time you remove a coloured ball,  the probability of drawing out a certain coloured ball will change.\n",
        "\n",
        "\n",
        "**Question**: What is the probability of drawing an Ace of black colour from a pack of 52 cards?\n",
        "\n",
        "**Solution:** Let us use the concept of joint probability here.\n",
        "\n",
        "Suppose:   \n",
        "\n",
        "1. Event A: Drawing an Ace from the pack of cards.\n",
        "\n",
        "2. Event B: Drawing a black coloured card.\n",
        "\n",
        "Probability of event A: $P(A) = \\frac {4}{52}$\n",
        "as a pack of 52 cards has 4 Aces in total.\n",
        "\n",
        "Probability of event B: $P(B) = \\frac {26}{52}$ as a pack of 52 cards has 26 black coloured cards in total.\n",
        "\n",
        "Hence using equation $1.1$, we have:\n",
        "\n",
        "\\begin{align}\n",
        "\\boxed {P(A,B) = P(A \\cap B) = \\frac {4}{52} \\times \\frac {26}{52} = \\frac{1}{26}}\n",
        "\\end{align}\n",
        "\n",
        "**Alternate Solution**: As we know a pack of cards has two Aces of black colour the probability of drawing an Ace of black colour would be:\n",
        "\n",
        "\\begin{align}\n",
        "P(\\text {Ace}) = \\frac {2}{52} = \\frac{1}{26}\n",
        "\\end{align}\n",
        "\n",
        "which is the same as inferred from the joint probability.\n",
        "\n",
        "<center><img src=https://s3-whjr-v2-prod-bucket.whjr.online/whjr-v2-prod-bucket/b7d269b1-fb02-48ab-8c3a-59da94b64ce7.png width=200>\n",
        "\n",
        "`Image by` <a href=\"https://pixabay.com/images/id-785262/\">`Laci Molnár`</a> `from` <a href=\"https://pixabay.com\">`Pixabay`</a></center>\n",
        "\n",
        "\n",
        "\n",
        "<br/>\n",
        "\n",
        "#### **Conditional Probability**:\n",
        "\n",
        "A conditional probability is the probability of event A, given that event B is *true*. Mathematically expressed as:\n",
        "\n",
        "\\begin{align}\n",
        "P(A|B) = \\frac{P(A \\cap B)}{P(B)}\n",
        "\\tag{1.2}\n",
        "\\end{align}\n",
        "\n",
        "Let us understand this with the help of a simple example:\n",
        "\n",
        "**Question**: What is the probability of drawing an Ace, given it is a black card.\n",
        "\n",
        "**Solution**:\n",
        "\n",
        "1. Event A: Drawing an Ace from the pack of cards.\n",
        "\n",
        "2. Event B: Drawing a black coloured card.\n",
        "\n",
        "To find conditional probability $P(A|B)$, we first obtain the value of joint probability $P(A \\cap B)$. Hence from equation $1.1$,  we have:\n",
        "\n",
        "\\begin{align}\n",
        "P(A \\cap B) = P(A) \\times P(B) = \\frac {4}{52} \\times \\frac {26}{52} = \\frac{1}{26}\n",
        "\\end{align}\n",
        "\n",
        "Also, $P(B)$ can be calculated as:\n",
        "\n",
        "\\begin{align}\n",
        "P(B) = \\frac{26}{52} = \\frac{1}{2}\n",
        "\\end{align}\n",
        "\n",
        "Since, there are a total of 26 black coloured cards in a deck of 52 cards.\n",
        "\n",
        "Hence, using above two probabilities and substituting the values in equation $1.2$ we have:\n",
        "\n",
        "\\begin{align}\n",
        "P(A|B) = \\frac{P(A \\cap B)}{P(B)} = \\frac{1/26}{1/2} = \\frac{2}{26} = \\frac{1}{13}\n",
        "\\end{align}\n",
        "\n",
        "**Alternate Solution:** As we know that there are 26 black cards in a deck out of which we have 2 Aces. Hence:\n",
        "\n",
        "\\begin{align}\n",
        "P(\\text {Ace}) = \\frac{2}{26} = \\frac{1}{13}\n",
        "\\end{align}\n",
        "\n",
        "\n",
        "which is the same as inferred from our common knowledge of a deck of cards of drawing an Ace given the card is of black colour.\n",
        "\n",
        "<center><img src=https://s3-whjr-v2-prod-bucket.whjr.online/whjr-v2-prod-bucket/ba177a37-d399-44d0-99e2-603dfe5adaf6.png width=700>\n",
        "\n",
        "`Image by` <a href=\"https://pixabay.com/images/id-37194/\">`Clker-Free-Vector-Images`</a> `from` <a href=\"https://pixabay.com\">`Pixabay`</a></center>"
      ]
    },
    {
      "cell_type": "markdown",
      "metadata": {
        "id": "t_xgpMWqG9a6"
      },
      "source": [
        "---"
      ]
    },
    {
      "cell_type": "markdown",
      "metadata": {
        "id": "8XI40cr1AfgG"
      },
      "source": [
        "#### Activity 2: Bayes' Theorem\n",
        "\n",
        "To recall Naive Bayes is a simple algorithm which falls under Supervised Learning technique. Why is it called Naive Bayes?\n",
        "\n",
        "- **Naive:** It is called **naive** as it is based on a simple assumption that all the features of a dataset are mutually independent of each other.\n",
        "\n",
        "- **Bayes:** It is based on **Bayes' Theorem**.\n",
        "\n",
        "<br>\n",
        "\n",
        "**Bayes' Theorem**:\n",
        "\n",
        "Named after Thomas Bayes an English statistician and a philosopher, Bayes' theorem is a way of finding a probability when we know certain other probabilities.\n",
        "\n",
        "Bayes' theorem is based on **Conditional probability** which states that something will happen, given that something else has already occurred.  \n",
        "\n",
        "Mathematically Bayes' theorem can be expressed as:\n",
        "\n",
        "\\begin{align}\n",
        "P(A|B) = \\frac{P(B|A) \\times P(A)}{P(B)}\n",
        "\\end{align}\n",
        "\n",
        "Where,\n",
        "\n",
        "- $P(A)$ is the probability of event A. It is also called as **Prior probability** of A. Prior probability is  nothing but the probability of an event before any new data is collected.\n",
        "\n",
        "- $P(B)$ is the prior probability of event B. It is also called as **Marginal probability** or **Evidence** of B . Marginal probability or evidence is the probability of a single event occurring, independent of other events.\n",
        "\n",
        "- $P(A|B)$ is the probability of event A given value of event B. Hence, it is a conditional probability and not marginal probability as occurring of event A depends on event B. It is also called as **Posterior  probability** or revised probability, as prior probability $P(A)$ is now revised to $P(A|B)$.\n",
        "\n",
        "- $P(B|A)$ is the probability of event B given value of event A. Hence, it is also a conditional probability as occurring of event B depends on event A. It is also called as **Likelihood** of event B given event A is true.\n",
        "\n",
        "Hence, the Bayes' theorem can also be restated as:\n",
        "\\begin{align}\n",
        "\\text{Posterior} = \\frac{\\text{Likelihood} \\times \\text{Prior}}{\\text {Evidence}}\n",
        "\\end{align}\n",
        "\n",
        "You may notice that the Bayes' Theorem includes two conditional probabilities for the events A and B.\n",
        "\n",
        "Let us understand this theorem using a simple example:\n",
        "\n",
        "**Problem:** The probability of raining is 20% and probability that the weather will be cloudy is 30%. The probability of cloudy weather given that rain happens is 60%. What is the chance of raining given that the weather is cloudy?\n",
        "\n",
        "**Solution:**\n",
        "\n",
        "- $P(\\text{Rain}) = 20\\%$\n",
        "- $P(\\text{Cloud}) = 30\\%$\n",
        "- $P(\\text{Cloud|Rain}) = 60\\%$\n",
        "- $P(\\text{Rain|Cloud}) = ? $\n",
        "\n",
        "Using Bayes' Theorem,\n",
        "\n",
        "\\begin{align}\n",
        "P(\\text{Rain|Cloud}) &= \\frac{P(\\text{Cloud|Rain}) \\times P(\\text{Rain})}{P(\\text{Cloud})} \\\\ &= \\frac{0.6 \\times 0.2}{0.3} = 0.4\n",
        "\\end{align}\n",
        "\n",
        "Hence, there is $40\\%$ chance of raining given that the weather is cloudy.\n",
        "\n",
        "The Bayes' theorem is also a primary way of calculating conditional probability without calculating joint probability as seen in equation 1.2\n",
        "\n",
        "**Deriving Bayes' theorem using conditional probability:**\n",
        "\n",
        "Let's derive the Bayes' theorem with the help of conditional probability. From equation 1.2,  we have:\n",
        "\n",
        "\\begin{align}\n",
        "P(A|B) &= \\frac{P(A \\cap B)}{P(B)}\\\\\n",
        "\\Rightarrow P(A \\cap B) &= P(A|B) \\times P(B)\n",
        "\\tag{2.1}\n",
        "\\end{align}\n",
        "\n",
        "Similarly,\n",
        "\n",
        "\\begin{align}\n",
        "P(B|A) &= \\frac{P(B \\cap A)}{P(A)}\\\\\n",
        "\\Rightarrow P(B \\cap A) &= P(B|A) \\times P(A)\n",
        "\\tag{2.2}\n",
        "\\end{align}\n",
        "\n",
        "The intersection of two probabilities is **associative** which means:\n",
        "\n",
        "\\begin{align}\n",
        "P(A \\cap B) = P(B \\cap A)\n",
        "\\end{align}\n",
        "\n",
        "Therefore, from equations 2.1 and 2.2, we can write:\n",
        "\n",
        "\\begin{align}\n",
        "P(A|B) \\times P(B) &= P(B|A) \\times P(A) \\\\\n",
        "\\Rightarrow P(A|B) &= \\frac{P(B|A) \\times P(A)}{P(B)}\n",
        "\\tag{2.3}\n",
        "\\end{align}\n",
        "\n",
        "which is nothing but the Bayes' theorem.\n",
        "\n",
        "\n",
        "\n",
        "Let's rewrite the Bayes' theorem keeping a supervised Machine Learning problem statement as objective. Say we have a dataset having $n$ features  $x_1, x_2, \\dots, x_n$ and a target label denoted as $y$. For this,  the Bayes' theorem can be expressed as:\n",
        "\n",
        "\n",
        "\\begin{align}\n",
        "P(y|x_1, x_2, \\dots , x_n) = \\frac{P(x_1, x_2, \\dots, x_n|y) }{P(x_1, x_2, \\dots, x_n)} \\times P(y)\n",
        "\\tag{2.4}\n",
        "\\end{align}\n",
        "\n",
        "\n",
        "Now that we have understood Bayes' theorem, let us use this theorem in performing classification with Naive Bayes Classifier.\n",
        "\n"
      ]
    },
    {
      "cell_type": "markdown",
      "metadata": {
        "id": "IAdIoxqpucb_"
      },
      "source": [
        "---"
      ]
    },
    {
      "cell_type": "markdown",
      "metadata": {
        "id": "t0VjIlGyuZ64"
      },
      "source": [
        "#### Activity 3: Understanding Naive Bayes Classifier\n",
        "\n",
        "The Naive Bayes Classifier or simple Bayesian Classifier works as follows:\n",
        "\n",
        "1. Suppose that $X = (x_1, x_2, \\dots , x_n)$ is a tuple or instance whose target class is to be predicted. Here,  $x_1, x_2, \\dots , x_n$ are the features of that instance.\n",
        "\n",
        "\n",
        "2. Let's say that the target variable has $m$ unique classes and $c_i$ denotes one of $m$ classes.\n",
        "\n",
        "\n",
        "3. Using Bayes’ theorem we can calculate the\n",
        "posterior probability, $P(c_i|X)$, from $P(c_i)$, $P(X)$, and $P(X|c_i)$ as follows:\n",
        "\n",
        "\\begin{align}\n",
        "P(c_i|X) = \\frac{P(X|c_i) \\times P(c_i)}{P(X)}\n",
        "\\end{align}\n",
        "\n",
        "4. The Classifier will predict that $X$ belongs to class **having highest posterior probability** condition on $X$.\n",
        "\n",
        "  In simple words, a tuple $X$ belongs to class $c_i$ if:\n",
        "\n",
        "\\begin{align}\n",
        "P(c_i | X) > P(c_j | X) \\qquad \\text{for} \\space 1 \\leq j \\leq m \\space \\text{and} \\space j \\ne i\n",
        "\\end{align}\n",
        "\n",
        "\n",
        "💡 **Note:**\n",
        "- It would be difficult to compute $P(X|c_i)$ if the features of $X$ are dependent on each other. Hence, the Naive Bayes Classifier makes a simplistic (Naive) assumption called **class conditional independence**. According to this, the Classifier assumes that the feature values are independent of each other.\n",
        "\n",
        "- Thus, the conditional probability calculation of $P(X|c_i)$ is reduced to multiplication of the independent event probabilities as follows:\n",
        "\n",
        "\\begin{align}\n",
        "P(X|c_i) = P(x_1 | c_i) \\times P(x_2 |c_i) \\times \\dots \\times P(x_n | c_i)\n",
        "\\end{align}\n",
        "\n",
        "\n",
        "Let us understand these steps using a simple problem statement.\n",
        "\n",
        "\n",
        "**Problem Statement:** Let's say you have to schedule a football/soccer game based on the weather conditions. You are provided with a dataset of game played/not played based on weather conditions for previous 14 days.\n",
        "\n",
        "\n",
        "| Day | Outlook | Temperature | Humidity | Wind | Play |\n",
        "| -- | -- | -- | -- | -- | --|\n",
        "| 1 | Sunny | Hot | High | Weak | No |\n",
        "| 2 | Sunny | Hot | High | Strong | No |\n",
        "| 3 | Overcast | Hot | High | Weak | Yes |\n",
        "| 4 | Rain | Mild | High | Weak | Yes |\n",
        "| 5 | Rain | Cool | Normal | Weak | Yes |\n",
        "| 6 | Rain | Cool | Normal | Strong | No |\n",
        "| 7 | Overcast | Cool | Normal | Strong | Yes |\n",
        "| 8 | Sunny | Mild | High | Weak | No |\n",
        "| 9 | Sunny | Cool | Normal | Weak | Yes |\n",
        "| 10 | Rain | Mild | Normal | Weak | Yes |\n",
        "| 11 | Sunny | Mild | Normal | Strong | Yes |\n",
        "| 12 | Overcast | Mild | High | Strong | Yes |\n",
        "| 13 | Overcast | Hot | Normal | Weak | Yes |\n",
        "| 14 | Rain | Mild | High | Strong | No |\n",
        "\n",
        "<br>\n",
        "<center><code>Table 1: Game Play Record for Previous 14 Days</code></center>\n",
        "\n",
        "\n",
        "Based on the dataset above, you need to decide whether to play football on day 15 with following weather conditions:\n",
        "\n",
        "| Day | Outlook | Temperature | Humidity | Wind | Play |\n",
        "| -- | -- | -- | -- | -- | --|\n",
        "| 15 | Sunny | Cool | High | Strong | ❓ |\n",
        "\n",
        "<br>\n",
        "\n",
        "<center>\n",
        "\n",
        "*Will there be a game on day 15*?⛹\n",
        "\n",
        "<img src=https://s3-whjr-v2-prod-bucket.whjr.online/whjr-v2-prod-bucket/078b4b8c-aefa-4379-afed-c32203ac548f.jpg width=300>\n",
        "\n",
        "`Image by` <a href=\"https://pixabay.com/images/id-390945/\">`PDPics`</a> `from` <a href=\"https://pixabay.com\">`Pixabay`</a></center>\n",
        "\n",
        "**Solution:**\n",
        "\n",
        "Let's create a DataFrame for the above dataset using the following link:\n",
        "\n",
        "https://s3-whjr-curriculum-uploads.whjr.online/31ab35aa-0632-4c14-8ee5-66bb72344576.csv"
      ]
    },
    {
      "cell_type": "code",
      "metadata": {
        "colab": {
          "base_uri": "https://localhost:8080/",
          "height": 206
        },
        "id": "o29AepIlJkJr",
        "outputId": "3c95c8e8-618d-486d-bd01-059fc25bfe66"
      },
      "source": [
        "# S3.1: Import the required modules and load the game play dataset. Also, display the first five rows.\n",
        "\n",
        "import numpy as np\n",
        "import pandas as pd\n",
        "\n",
        "import warnings\n",
        "warnings.filterwarnings(\"ignore\")\n",
        "\n",
        "# Read the csv file and create the DataFrame\n",
        "df_play = pd.read_csv('https://s3-whjr-curriculum-uploads.whjr.online/31ab35aa-0632-4c14-8ee5-66bb72344576.csv')\n",
        "df_play.head()"
      ],
      "execution_count": null,
      "outputs": [
        {
          "output_type": "execute_result",
          "data": {
            "text/html": [
              "\n",
              "  <div id=\"df-782b6e8f-e519-49d0-813f-1613b6e081f0\">\n",
              "    <div class=\"colab-df-container\">\n",
              "      <div>\n",
              "<style scoped>\n",
              "    .dataframe tbody tr th:only-of-type {\n",
              "        vertical-align: middle;\n",
              "    }\n",
              "\n",
              "    .dataframe tbody tr th {\n",
              "        vertical-align: top;\n",
              "    }\n",
              "\n",
              "    .dataframe thead th {\n",
              "        text-align: right;\n",
              "    }\n",
              "</style>\n",
              "<table border=\"1\" class=\"dataframe\">\n",
              "  <thead>\n",
              "    <tr style=\"text-align: right;\">\n",
              "      <th></th>\n",
              "      <th>Outlook</th>\n",
              "      <th>Temperature</th>\n",
              "      <th>Humidity</th>\n",
              "      <th>Wind</th>\n",
              "      <th>Play</th>\n",
              "    </tr>\n",
              "  </thead>\n",
              "  <tbody>\n",
              "    <tr>\n",
              "      <th>0</th>\n",
              "      <td>Sunny</td>\n",
              "      <td>Hot</td>\n",
              "      <td>High</td>\n",
              "      <td>Weak</td>\n",
              "      <td>No</td>\n",
              "    </tr>\n",
              "    <tr>\n",
              "      <th>1</th>\n",
              "      <td>Sunny</td>\n",
              "      <td>Hot</td>\n",
              "      <td>High</td>\n",
              "      <td>Strong</td>\n",
              "      <td>No</td>\n",
              "    </tr>\n",
              "    <tr>\n",
              "      <th>2</th>\n",
              "      <td>Overcast</td>\n",
              "      <td>Hot</td>\n",
              "      <td>High</td>\n",
              "      <td>Weak</td>\n",
              "      <td>Yes</td>\n",
              "    </tr>\n",
              "    <tr>\n",
              "      <th>3</th>\n",
              "      <td>Rain</td>\n",
              "      <td>Mild</td>\n",
              "      <td>High</td>\n",
              "      <td>Weak</td>\n",
              "      <td>Yes</td>\n",
              "    </tr>\n",
              "    <tr>\n",
              "      <th>4</th>\n",
              "      <td>Rain</td>\n",
              "      <td>Cool</td>\n",
              "      <td>Normal</td>\n",
              "      <td>Weak</td>\n",
              "      <td>Yes</td>\n",
              "    </tr>\n",
              "  </tbody>\n",
              "</table>\n",
              "</div>\n",
              "      <button class=\"colab-df-convert\" onclick=\"convertToInteractive('df-782b6e8f-e519-49d0-813f-1613b6e081f0')\"\n",
              "              title=\"Convert this dataframe to an interactive table.\"\n",
              "              style=\"display:none;\">\n",
              "        \n",
              "  <svg xmlns=\"http://www.w3.org/2000/svg\" height=\"24px\"viewBox=\"0 0 24 24\"\n",
              "       width=\"24px\">\n",
              "    <path d=\"M0 0h24v24H0V0z\" fill=\"none\"/>\n",
              "    <path d=\"M18.56 5.44l.94 2.06.94-2.06 2.06-.94-2.06-.94-.94-2.06-.94 2.06-2.06.94zm-11 1L8.5 8.5l.94-2.06 2.06-.94-2.06-.94L8.5 2.5l-.94 2.06-2.06.94zm10 10l.94 2.06.94-2.06 2.06-.94-2.06-.94-.94-2.06-.94 2.06-2.06.94z\"/><path d=\"M17.41 7.96l-1.37-1.37c-.4-.4-.92-.59-1.43-.59-.52 0-1.04.2-1.43.59L10.3 9.45l-7.72 7.72c-.78.78-.78 2.05 0 2.83L4 21.41c.39.39.9.59 1.41.59.51 0 1.02-.2 1.41-.59l7.78-7.78 2.81-2.81c.8-.78.8-2.07 0-2.86zM5.41 20L4 18.59l7.72-7.72 1.47 1.35L5.41 20z\"/>\n",
              "  </svg>\n",
              "      </button>\n",
              "      \n",
              "  <style>\n",
              "    .colab-df-container {\n",
              "      display:flex;\n",
              "      flex-wrap:wrap;\n",
              "      gap: 12px;\n",
              "    }\n",
              "\n",
              "    .colab-df-convert {\n",
              "      background-color: #E8F0FE;\n",
              "      border: none;\n",
              "      border-radius: 50%;\n",
              "      cursor: pointer;\n",
              "      display: none;\n",
              "      fill: #1967D2;\n",
              "      height: 32px;\n",
              "      padding: 0 0 0 0;\n",
              "      width: 32px;\n",
              "    }\n",
              "\n",
              "    .colab-df-convert:hover {\n",
              "      background-color: #E2EBFA;\n",
              "      box-shadow: 0px 1px 2px rgba(60, 64, 67, 0.3), 0px 1px 3px 1px rgba(60, 64, 67, 0.15);\n",
              "      fill: #174EA6;\n",
              "    }\n",
              "\n",
              "    [theme=dark] .colab-df-convert {\n",
              "      background-color: #3B4455;\n",
              "      fill: #D2E3FC;\n",
              "    }\n",
              "\n",
              "    [theme=dark] .colab-df-convert:hover {\n",
              "      background-color: #434B5C;\n",
              "      box-shadow: 0px 1px 3px 1px rgba(0, 0, 0, 0.15);\n",
              "      filter: drop-shadow(0px 1px 2px rgba(0, 0, 0, 0.3));\n",
              "      fill: #FFFFFF;\n",
              "    }\n",
              "  </style>\n",
              "\n",
              "      <script>\n",
              "        const buttonEl =\n",
              "          document.querySelector('#df-782b6e8f-e519-49d0-813f-1613b6e081f0 button.colab-df-convert');\n",
              "        buttonEl.style.display =\n",
              "          google.colab.kernel.accessAllowed ? 'block' : 'none';\n",
              "\n",
              "        async function convertToInteractive(key) {\n",
              "          const element = document.querySelector('#df-782b6e8f-e519-49d0-813f-1613b6e081f0');\n",
              "          const dataTable =\n",
              "            await google.colab.kernel.invokeFunction('convertToInteractive',\n",
              "                                                     [key], {});\n",
              "          if (!dataTable) return;\n",
              "\n",
              "          const docLinkHtml = 'Like what you see? Visit the ' +\n",
              "            '<a target=\"_blank\" href=https://colab.research.google.com/notebooks/data_table.ipynb>data table notebook</a>'\n",
              "            + ' to learn more about interactive tables.';\n",
              "          element.innerHTML = '';\n",
              "          dataTable['output_type'] = 'display_data';\n",
              "          await google.colab.output.renderOutput(dataTable, element);\n",
              "          const docLink = document.createElement('div');\n",
              "          docLink.innerHTML = docLinkHtml;\n",
              "          element.appendChild(docLink);\n",
              "        }\n",
              "      </script>\n",
              "    </div>\n",
              "  </div>\n",
              "  "
            ],
            "text/plain": [
              "    Outlook Temperature Humidity    Wind Play\n",
              "0     Sunny         Hot     High    Weak   No\n",
              "1     Sunny         Hot     High  Strong   No\n",
              "2  Overcast         Hot     High    Weak  Yes\n",
              "3      Rain        Mild     High    Weak  Yes\n",
              "4      Rain        Cool   Normal    Weak  Yes"
            ]
          },
          "metadata": {},
          "execution_count": 9
        }
      ]
    },
    {
      "cell_type": "markdown",
      "metadata": {
        "id": "6lYjPJRCS_9C"
      },
      "source": [
        "For the above dataset, the `Play` column is the target variable and the other 4 columns except `Play` are feature variables.\n",
        "\n",
        "The target variable `Play` takes two possible values: `Yes` and `No`. Hence, we have two classes,\n",
        " - $c_1 \\rightarrow Yes$\n",
        " - $c_2 \\rightarrow No$\n",
        "\n",
        "Let $X$ be the instance whose class label is to be predicted (day 15):\n",
        "\n",
        "| Day | Outlook | Temperature | Humidity | Wind | Play |\n",
        "| -- | -- | -- | -- | -- | --|\n",
        "| 15 | Sunny | Cool | High | Strong | ❓ |\n",
        "\n",
        "Thus,\n",
        "\n",
        "$X = (\\text{Outlook = Sunny, Temperature = Cool,\n",
        "Humidity = High, Wind = Strong})$\n",
        "\n",
        "Recall the Bayes' theorem:\n",
        "\n",
        "\\begin{align}\n",
        " P(c_i|X) = \\frac{P(X|c_i) \\times P(c_i)}{P(X)} && \\text{i.e.} &&\n",
        "\\text{Posterior} = \\space \\frac{\\text{Likelihood} \\times \\text{Prior}}{\\text {Evidence}}\n",
        "\\end{align}\n",
        "\n",
        "\n",
        "\n",
        "Let us first calculate prior probability  $P(c_i)$\n",
        "\n",
        "**Step 1: Calculate Prior Probabilities:**\n",
        "\n",
        "\n",
        "As there are two class labels (Yes/No), $P(\\text {Yes})$ and $P(\\text {No})$ are the prior probabilities. From the game play dataset we have:\n",
        "\n",
        "<center>\n",
        "<img src=https://s3-whjr-v2-prod-bucket.whjr.online/whjr-v2-prod-bucket/9e1b4eec-7d6d-43f8-9228-072085796da8.png width=350></center>\n",
        "\n",
        "As the record is for 14 days, **Prior Probabilities** can be calculated as:\n",
        "\n",
        "\\begin{align}\n",
        "P(c_1) = P(\\text {Yes}) = \\frac{\\text {no. of days on which game was played}}{\\text{total no. of days}} = \\frac{9}{14} = 0.6428\\\\\n",
        "P(c_2) = P(\\text {No}) = \\frac{\\text {no. of days on which game was not played}}{\\text{total no. of days}} = \\frac{5}{14} = 0.3571\n",
        "\\end{align}\n",
        "\n",
        "Let us also perform this computation using Python."
      ]
    },
    {
      "cell_type": "code",
      "metadata": {
        "colab": {
          "base_uri": "https://localhost:8080/"
        },
        "id": "XVzZTrxzWwtS",
        "outputId": "3e3e0871-2272-46c7-8548-2cd74665ec44"
      },
      "source": [
        "# S3.2: Calculate Prior Probabilities\n",
        "\n",
        "# Obtain total 'Yes' and 'No' values for 'Play'\n",
        "num_yes = (df_play['Play'] == \"Yes\").sum()\n",
        "num_no = (df_play['Play'] == \"No\").sum()\n",
        "\n",
        "# Calculate prior probabilities from Yes and No occurrences in the 'Play' Column\n",
        "P_Yes = num_yes / df_play.shape[0]\n",
        "P_No = num_no / df_play.shape[0]\n",
        "\n",
        "# Print the probability\n",
        "print(\"P(Yes): \", P_Yes)\n",
        "print(\"P(No): \", P_No)"
      ],
      "execution_count": null,
      "outputs": [
        {
          "output_type": "stream",
          "name": "stdout",
          "text": [
            "P(Yes):  0.6428571428571429\n",
            "P(No):  0.35714285714285715\n"
          ]
        }
      ]
    },
    {
      "cell_type": "markdown",
      "metadata": {
        "id": "OQdWpj03XIf6"
      },
      "source": [
        "**Step 2: Calculate Likelihood $P(X|c_i)$:**\n",
        "\n",
        "Now, we need to calculate likelihood of all the 4  features for both target labels. Let us compute it one by one for each feature.\n",
        "\n",
        "- **For feature `Outlook`:**\n",
        "\n",
        "The possible values of `Outlook` feature for both target labels are summarised in the image given below:\n",
        "\n",
        "<center><img src=\"https://s3-whjr-v2-prod-bucket.whjr.online/whjr-v2-prod-bucket/24c134f9-bdc3-4fed-a667-1be7f52c6986.png\"/></center>\n",
        "\n",
        "From the dataset and the above image, we can see that the `Outlook` feature has three values: `Sunny`, `Overcast` and `Rain`. However, we are  interested in calculating probability for `Sunny` only, as the unknown instance $X$ has `Outlook = Sunny`.\n",
        "\n",
        "Thus, $P(X|c_i)$ for feature `Outlook = Sunny` is calculated as:\n",
        "- $P(x_1|c_1) = P(Sunny|Yes) = \\frac{2}{9}$ . This is because, out of 9 `Play = Yes` tuples, 2 tuples has `Outlook = Sunny`.\n",
        "- $P(x_1|c_2) = P(Sunny|No) = \\frac{3}{5}$ . This is because, out of 5 `Play = No` tuples, 3 tuples has `Outlook = Sunny`.\n",
        "\n",
        "**Note:** Similarly, if you want to calculate probability for `Outlook = Overcast`, then the respective probabilities would be:               \n",
        "- $P(Overcast|Yes) = \\frac{4}{9}$ . This is because, out of 9 `Play = Yes` tuples, 4 tuples has `Outlook = Overcast`.\n",
        "- $P(Overcast|No) = \\frac{0}{5}$ . This is because, out of 5 `Play = No` tuples, 0 tuples has `Outlook = Overcast`."
      ]
    },
    {
      "cell_type": "code",
      "metadata": {
        "colab": {
          "base_uri": "https://localhost:8080/"
        },
        "id": "_CEnrLjhjOKK",
        "outputId": "b5a2b5df-495d-4c98-bdbe-b0e47c515873"
      },
      "source": [
        "# S3.3: Calculate Conditional Probability or Likelihood for 'Outlook'\n",
        "P_Sunny_Yes = len(df_play[(df_play['Outlook'] == \"Sunny\") & (df_play['Play'] == \"Yes\")]) / num_yes\n",
        "P_Sunny_No = len(df_play[(df_play['Outlook'] == \"Sunny\") & (df_play['Play'] == \"No\")]) / num_no\n",
        "print(\"P(Sunny|Yes):\", P_Sunny_Yes)\n",
        "print(\"P(Sunny|No):\", P_Sunny_No)"
      ],
      "execution_count": null,
      "outputs": [
        {
          "output_type": "stream",
          "name": "stdout",
          "text": [
            "P(Sunny|Yes): 0.2222222222222222\n",
            "P(Sunny|No): 0.6\n"
          ]
        }
      ]
    },
    {
      "cell_type": "markdown",
      "metadata": {
        "id": "cUkIj_DLkWz5"
      },
      "source": [
        "Similarly, let us calculate the likelihood for remaining 3 features.\n",
        "\n",
        "- **For feature `Temperature`:**\n",
        "\n",
        "The possible values of `Temperature` feature for both target labels are summarised in the image given below:\n",
        "\n",
        "<center><img src=\"https://s3-whjr-v2-prod-bucket.whjr.online/whjr-v2-prod-bucket/c1013fb7-d0d5-4d3b-a1ae-cfd330381bdf.png\"/></center>\n",
        "\n",
        "From the dataset and the above image, we can see that the `Temperature` feature has three values: `Hot`, `Mild` and `Cool`. However, we are  interested in calculating probability for `Cool` only, as the unknown instance $X$ has `Temperature = Cool`.\n",
        "\n",
        "Thus, $P(X|c_i)$ for feature `Temperature = Cool` is calculated as:\n",
        "- $P(x_2|c_1) = P(Cool|Yes) = \\frac{3}{9}$ . This is because, out of 9 `Play = Yes` tuples, 3 tuples has `Temperature = Cool`.\n",
        "- $P(x_2|c_2) = P(Cool|No) = \\frac{1}{5}$ . This is because, out of 5 `Play = No` tuples, 1 tuple has `Temperature = Cool`.\n",
        "\n"
      ]
    },
    {
      "cell_type": "code",
      "metadata": {
        "colab": {
          "base_uri": "https://localhost:8080/"
        },
        "id": "xIosyXkIl41J",
        "outputId": "de028c0a-f4d0-4654-c2a3-e31cc607ad55"
      },
      "source": [
        "# S3.4: Calculate Conditional Probability or Likelihood for 'Temperature'\n",
        "P_Cool_Yes = len(df_play[(df_play['Temperature'] == \"Cool\") & (df_play['Play'] == \"Yes\")]) / num_yes\n",
        "P_Cool_No = len(df_play[(df_play['Temperature'] == \"Cool\") & (df_play['Play'] == \"No\")]) / num_no\n",
        "print(\"P(Cool|Yes):\", P_Cool_Yes)\n",
        "print(\"P(Cool|No):\", P_Cool_No)"
      ],
      "execution_count": null,
      "outputs": [
        {
          "output_type": "stream",
          "name": "stdout",
          "text": [
            "P(Cool|Yes): 0.3333333333333333\n",
            "P(Cool|No): 0.2\n"
          ]
        }
      ]
    },
    {
      "cell_type": "markdown",
      "metadata": {
        "id": "nZslLIgflu45"
      },
      "source": [
        "- **For feature `Humidity`:**\n",
        "\n",
        "\n",
        "<center><img src=\"https://s3-whjr-v2-prod-bucket.whjr.online/whjr-v2-prod-bucket/b53f7437-1afa-42a8-b65f-4bd4dcf25c5e.png\"/></center>\n",
        "\n",
        "\n",
        "$P(X|c_i)$ for feature `Humidity = High` is calculated as:\n",
        "- $P(x_3|c_1) = P(High|Yes) = \\frac{3}{9}$ . This is because, out of 9 `Play = Yes` tuples, 3 tuples has `Humidity = High`.\n",
        "- $P(x_3|c_2) = P(High|No) = \\frac{4}{5}$ . This is because, out of 5 `Play = No` tuples, 4 tuples has `Humidity = High`.\n",
        "\n"
      ]
    },
    {
      "cell_type": "code",
      "metadata": {
        "colab": {
          "base_uri": "https://localhost:8080/"
        },
        "id": "gNGtdtAXnMSv",
        "outputId": "d687c3a0-7ed2-436e-f87b-74ce606eebd1"
      },
      "source": [
        "# S3.5: Calculate Conditional Probability or Likelihood for 'Humidity'\n",
        "P_High_Yes = len(df_play[(df_play['Humidity'] == \"High\") & (df_play['Play'] == \"Yes\")]) / num_yes\n",
        "P_High_No = len(df_play[(df_play['Humidity'] == \"High\") & (df_play['Play'] == \"No\")]) / num_no\n",
        "print(\"P(High|Yes):\", P_High_Yes)\n",
        "print(\"P(High|No):\", P_High_No)"
      ],
      "execution_count": null,
      "outputs": [
        {
          "output_type": "stream",
          "name": "stdout",
          "text": [
            "P(High|Yes): 0.3333333333333333\n",
            "P(High|No): 0.8\n"
          ]
        }
      ]
    },
    {
      "cell_type": "markdown",
      "metadata": {
        "id": "wpCtenIkneaA"
      },
      "source": [
        "- **For feature `Wind`:**\n",
        "\n",
        "\n",
        "<center><img src=\"https://s3-whjr-v2-prod-bucket.whjr.online/whjr-v2-prod-bucket/9577f00d-a4f5-4b87-a808-a360ae6e77ff.PNG\"/></center>\n",
        "\n",
        "\n",
        "$P(X|c_i)$ for feature `Wind = Strong` is calculated as:\n",
        "- $P(x_4|c_1) = P(Strong|Yes) = \\frac{3}{9}$ . This is because, out of 9 `Play = Yes` tuples, 3 tuples has `Wind = Strong`.\n",
        "- $P(x_4|c_2) = P(Strong|No) = \\frac{3}{5}$ . This is because, out of 5 `Play = No` tuples, 3 tuples has `Wind = Strong`.\n",
        "\n",
        "\n"
      ]
    },
    {
      "cell_type": "code",
      "metadata": {
        "colab": {
          "base_uri": "https://localhost:8080/"
        },
        "id": "MNLvpHLdokSp",
        "outputId": "c2f1eed7-52cf-4b8e-d4f3-0cb34c9711ef"
      },
      "source": [
        "# S3.6: Calculate Conditional Probability or Likelihood for 'Wind'\n",
        "P_Strong_Yes = len(df_play[(df_play['Wind'] == \"Strong\") & (df_play['Play'] == \"Yes\")]) / num_yes\n",
        "P_Strong_No = len(df_play[(df_play['Wind'] == \"Strong\") & (df_play['Play'] == \"No\")]) / num_no\n",
        "print(\"P(Strong|Yes):\", P_Strong_Yes)\n",
        "print(\"P(Strong|No):\", P_Strong_No)"
      ],
      "execution_count": null,
      "outputs": [
        {
          "output_type": "stream",
          "name": "stdout",
          "text": [
            "P(Strong|Yes): 0.3333333333333333\n",
            "P(Strong|No): 0.6\n"
          ]
        }
      ]
    },
    {
      "cell_type": "markdown",
      "metadata": {
        "id": "tvMwGm8sozxo"
      },
      "source": [
        "Now that we have obtained the likelihood for each features, we need to obtain final value of $P(X|c_1)$ and $P(X|c_2)$. For this, simply multiply the likelihood values of all the features, as the Naive Bayes Classifier assumes that the feature values are independent of one another.\n",
        "\n",
        "Thus,\n",
        "\n",
        "\\begin{align}\n",
        "P(X|c_1): P(\\text {Sunny, Cool, High, Strong}|\\text {Yes}) &= P(Sunny|Yes) \\times P(Cool|Yes) \\times P(High|Yes) \\times P(Strong|Yes) \\\\ &=\\frac {2}{9} \\times \\frac{3}{9} \\times \\frac{3}{9} \\times \\frac{3}{9}\n",
        "\\end{align}\n",
        "\n",
        "\\begin{align}\n",
        "P(X|c_2): P(\\text {Sunny, Cool, High, Strong}|\\text {No}) &= P(Sunny|No) \\times P(Cool|No) \\times P(High|No) \\times P(Strong|No) \\\\ &=\\frac {3}{5} \\times \\frac{1}{5} \\times \\frac{4}{5} \\times \\frac{3}{5}\n",
        "\\end{align}\n",
        "\n",
        "Let us perform this calculation using Python.\n",
        "\n"
      ]
    },
    {
      "cell_type": "code",
      "metadata": {
        "colab": {
          "base_uri": "https://localhost:8080/"
        },
        "id": "n7TVtvzqrSpI",
        "outputId": "c4f66f2c-8c47-43da-b435-26d8e3b691fd"
      },
      "source": [
        "# S3.7: Calculate final likelihood or conditional probabilities for 'Yes' and 'No' values\n",
        "P_X_c1 = P_Sunny_Yes * P_Cool_Yes * P_High_Yes * P_Strong_Yes\n",
        "P_X_c2 = P_Sunny_No * P_Cool_No * P_High_No * P_Strong_No\n",
        "print(\"P(X|c1):\", P_X_c1)\n",
        "print(\"P(X|c2):\", P_X_c2)"
      ],
      "execution_count": null,
      "outputs": [
        {
          "output_type": "stream",
          "name": "stdout",
          "text": [
            "P(X|c1): 0.008230452674897118\n",
            "P(X|c2): 0.0576\n"
          ]
        }
      ]
    },
    {
      "cell_type": "markdown",
      "metadata": {
        "id": "tUgdw0SKtCOg"
      },
      "source": [
        "Now, we have calculated both prior probability and likelihood, let us look how to find Marginal Probability or Evidence.\n",
        "\n",
        "**Calculating Marginal Probability or Evidence:**  \n",
        "\n",
        "To calculate Evidence $P(X)$ we need to check how many times each of the weather events (or feature) occurred in previous 14 days.\n",
        "\n",
        "Consider the feature `Outlook`:               \n",
        "\n",
        "<center><img src =\"https://s3-whjr-v2-prod-bucket.whjr.online/whjr-v2-prod-bucket/14c0c4d7-de84-49bc-9a52-3e0e5215cbe6.PNG\"/></center>\n",
        "\n",
        "As we are interested only in `Outlook = Sunny`, there are 5 tuples out of total 14 tuples where the value of `Outlook` is `Sunny`.\n",
        "\n",
        "Thus, $P(x_1): P(Sunny) = \\frac{5}{14}$\n",
        "\n",
        "Similarly, we can calculate the values for:\n",
        "- $P(x_2): P(Cool)$\n",
        "- $P(x_3): P(High)$\n",
        "- $P(x_4): P(Strong)$\n",
        "\n",
        "But wait ✋, before doing further calculations, let's recall the Bayes' theorem:\n",
        "\n",
        "\\begin{align}\n",
        "P(c_i|X) = \\frac{P(X|c_i) \\times P(c_i)}{P(X)}\n",
        "\\end{align}\n",
        "\n",
        "- For class $c_1$, Bayes' theorem would be:        \n",
        "\n",
        "$$P(c_1|X) = \\frac{P(X|c_1) \\times P(c_1)}{P(X)}$$\n",
        "\n",
        "- For class $c_2$, Bayes' theorem would be:        \n",
        "\n",
        "$$P(c_2|X) = \\frac{P(X|c_2) \\times P(c_2)}{P(X)}$$\n",
        "\n",
        "\n",
        " Note, that the denominator (Evidence) will be same for both $P(c_1|X)$ and $P(c_2|X)$.\n",
        "\n",
        " Hence, while comparing $P(c_1|X)$ with  $P(c_2|X)$ for identifying the class of unknown tuple $X$, the denominator (Evidence) is useless. Hence, there is no need to calculate Evidence while performing classification using Naive Bayes Classifier.\n",
        "\n",
        "Now that all the probabilities are calculated, let us proceed to the final step of calculating posterior probabilities for both the class and comparing them to obtain the final result.\n",
        "\n",
        "**Predicting the game play decision for day 15:**\n",
        "\n",
        "Considering the numerator part from Bayes' theorem we can obtain the posterior probabilities for class `Yes` and `No` as follows:\n",
        "\n",
        "- For class $c_1$ (`Play = Yes`)\n",
        "\\begin{align}\n",
        "P(c_1 | \\text{X}): P(\\text {Yes} | \\text{(Sunny, Cool, High, Strong)} &= P(\\text {Sunny, Cool, High, Strong}|\\text {Yes}) \\times P(\\text{Yes}) \\\\   \n",
        "\\end{align}\n",
        "\n",
        "- For class $c_2$ (`Play = No`)\n",
        "\\begin{align}\n",
        "P(c_2 | \\text{X}): P(\\text {No} | \\text{(Sunny, Cool, High, Strong)} &= P(\\text {Sunny, Cool, High, Strong}|\\text {Yes}) \\times P(\\text{No}) \\\\   \n",
        "\\end{align}\n",
        "\n",
        "Let us perform this calculation using Python."
      ]
    },
    {
      "cell_type": "code",
      "metadata": {
        "colab": {
          "base_uri": "https://localhost:8080/"
        },
        "id": "bnD7oNRbz67H",
        "outputId": "5b80de6b-163c-46c6-b6d0-a92aa6d5ca4e"
      },
      "source": [
        "# S3.8: Evaluate Game Play Probabilities Using Bayes' Theorem\n",
        "\n",
        "# Probability for having a game\n",
        "P_c1_X = P_X_c1 * P_Yes\n",
        "print(\"Probability of having a game : \", P_c1_X)\n",
        "\n",
        "# Probability for not having a game\n",
        "P_c2_X = P_X_c2 * P_No\n",
        "print(\"Probability of not having a game : \", P_c2_X)"
      ],
      "execution_count": null,
      "outputs": [
        {
          "output_type": "stream",
          "name": "stdout",
          "text": [
            "Probability of having a game :  0.005291005291005291\n",
            "Probability of not having a game :  0.02057142857142857\n"
          ]
        }
      ]
    },
    {
      "cell_type": "markdown",
      "metadata": {
        "id": "GJRTXgagLmGM"
      },
      "source": [
        "From the output, you may observe that:   \n",
        " $$P(c_1 | \\text{X}) < P(c_2 | \\text{X})$$ i.e.\n",
        "$$P(Yes | \\text{X}) < P(No | \\text{X})$$\n",
        "\n",
        "**Answer:** Since the probability for **not** having a game is higher when compared with probability for having a game, we predict that the outcome for day  15 is **No**.\n",
        "\n",
        "| Day | Outlook | Temperature | Humidity | Wind | Play |\n",
        "| -- | -- | -- | -- | -- | --|\n",
        "| 15 | Sunny | Cool | High | Strong | <font color = red> **No** </font> |\n",
        "\n",
        "**Summarising the steps of Naive Bayes Classifier:**\n",
        "1. Calculate prior probability $P(c_i)$ for each class.\n",
        "2. Calculate likelihood for all the feature values $P(X|c_i)$.\n",
        "3. Calculate $P(X|c_i) \\times P(c_i)$ for each class. The class $c_i$ for which $P(X|c_i) \\times P(c_i)$ is maximum would be the predicted class label.\n",
        "\n",
        "The detailed steps for Naive Bayes Classifier is shown in the flowchart below:\n",
        "\n",
        "<center><img src=https://s3-whjr-v2-prod-bucket.whjr.online/whjr-v2-prod-bucket/1fd6ebcc-33c0-46e1-ba64-e79696b15353.png width=200></center>\n",
        "\n",
        "\n",
        "\n",
        "Next let's  predict the game play on day $15^{th }$ using Naive Bayes Classifier model available in scikit-learn.\n",
        "\n"
      ]
    },
    {
      "cell_type": "markdown",
      "metadata": {
        "id": "8BWP3KIxEuSR"
      },
      "source": [
        "---"
      ]
    },
    {
      "cell_type": "markdown",
      "metadata": {
        "id": "hg9eqmcJJkI2"
      },
      "source": [
        "#### Activity 4: Naive Bayes Classifier Using `sklearn.naive_bayes`\n",
        "\n",
        "Let us determine the target label for the above gameplay dataset using scikit-learn module of Python.\n",
        "\n",
        "Before, let us display the total number of rows, features, data types of columns (features) and check for any missing values in the dataset."
      ]
    },
    {
      "cell_type": "code",
      "metadata": {
        "colab": {
          "base_uri": "https://localhost:8080/"
        },
        "id": "-xjd-kgQemjW",
        "outputId": "d69a9dbf-3356-4bbf-a569-4b61cb151dee"
      },
      "source": [
        "# S4.1: Apply the 'info()' function on the 'df_play' DataFrame.\n",
        "df_play.info()"
      ],
      "execution_count": null,
      "outputs": [
        {
          "output_type": "stream",
          "name": "stdout",
          "text": [
            "<class 'pandas.core.frame.DataFrame'>\n",
            "RangeIndex: 14 entries, 0 to 13\n",
            "Data columns (total 5 columns):\n",
            " #   Column       Non-Null Count  Dtype \n",
            "---  ------       --------------  ----- \n",
            " 0   Outlook      14 non-null     object\n",
            " 1   Temperature  14 non-null     object\n",
            " 2   Humidity     14 non-null     object\n",
            " 3   Wind         14 non-null     object\n",
            " 4   Play         14 non-null     object\n",
            "dtypes: object(5)\n",
            "memory usage: 688.0+ bytes\n"
          ]
        }
      ]
    },
    {
      "cell_type": "markdown",
      "metadata": {
        "id": "P59uApOKeDgI"
      },
      "source": [
        "All the columns of the dataset are categorical. However, to use Naive Bayes Classifier, these features must be converted to integer values.\n",
        "\n",
        "Let us perform label encoding on the DataFrame using the steps given below:     \n",
        "\n",
        "1. Import `LabelEncoder` class from `sklearn.preprocessing` module.\n",
        "\n",
        "2. Create an object of `LabelEncoder` class say `label`.\n",
        "\n",
        "3. Initiate a `for` loop to iterate through all the columns of the DataFrame. In this loop, call the `fit_transform()` function and pass column values of the DataFrame.\n",
        "\n",
        "4. Print the DataFrame to verify label encoding."
      ]
    },
    {
      "cell_type": "code",
      "metadata": {
        "colab": {
          "base_uri": "https://localhost:8080/",
          "height": 488
        },
        "id": "JCDtr3rScDB1",
        "outputId": "e2fefdfe-5e9d-4cdf-a49d-535beb6bf540"
      },
      "source": [
        "# S4.2: Encode the categorical values\n",
        "\n",
        "from sklearn.preprocessing import LabelEncoder\n",
        "\n",
        "label = LabelEncoder()\n",
        "for column in df_play.columns:\n",
        "  df_play[column] = label.fit_transform(df_play[column])\n",
        "\n",
        "df_play"
      ],
      "execution_count": null,
      "outputs": [
        {
          "output_type": "execute_result",
          "data": {
            "text/html": [
              "\n",
              "  <div id=\"df-a3961dd9-0bab-4a17-92d0-d1dca0a35b0b\">\n",
              "    <div class=\"colab-df-container\">\n",
              "      <div>\n",
              "<style scoped>\n",
              "    .dataframe tbody tr th:only-of-type {\n",
              "        vertical-align: middle;\n",
              "    }\n",
              "\n",
              "    .dataframe tbody tr th {\n",
              "        vertical-align: top;\n",
              "    }\n",
              "\n",
              "    .dataframe thead th {\n",
              "        text-align: right;\n",
              "    }\n",
              "</style>\n",
              "<table border=\"1\" class=\"dataframe\">\n",
              "  <thead>\n",
              "    <tr style=\"text-align: right;\">\n",
              "      <th></th>\n",
              "      <th>Outlook</th>\n",
              "      <th>Temperature</th>\n",
              "      <th>Humidity</th>\n",
              "      <th>Wind</th>\n",
              "      <th>Play</th>\n",
              "    </tr>\n",
              "  </thead>\n",
              "  <tbody>\n",
              "    <tr>\n",
              "      <th>0</th>\n",
              "      <td>2</td>\n",
              "      <td>1</td>\n",
              "      <td>0</td>\n",
              "      <td>1</td>\n",
              "      <td>0</td>\n",
              "    </tr>\n",
              "    <tr>\n",
              "      <th>1</th>\n",
              "      <td>2</td>\n",
              "      <td>1</td>\n",
              "      <td>0</td>\n",
              "      <td>0</td>\n",
              "      <td>0</td>\n",
              "    </tr>\n",
              "    <tr>\n",
              "      <th>2</th>\n",
              "      <td>0</td>\n",
              "      <td>1</td>\n",
              "      <td>0</td>\n",
              "      <td>1</td>\n",
              "      <td>1</td>\n",
              "    </tr>\n",
              "    <tr>\n",
              "      <th>3</th>\n",
              "      <td>1</td>\n",
              "      <td>2</td>\n",
              "      <td>0</td>\n",
              "      <td>1</td>\n",
              "      <td>1</td>\n",
              "    </tr>\n",
              "    <tr>\n",
              "      <th>4</th>\n",
              "      <td>1</td>\n",
              "      <td>0</td>\n",
              "      <td>1</td>\n",
              "      <td>1</td>\n",
              "      <td>1</td>\n",
              "    </tr>\n",
              "    <tr>\n",
              "      <th>5</th>\n",
              "      <td>1</td>\n",
              "      <td>0</td>\n",
              "      <td>1</td>\n",
              "      <td>0</td>\n",
              "      <td>0</td>\n",
              "    </tr>\n",
              "    <tr>\n",
              "      <th>6</th>\n",
              "      <td>0</td>\n",
              "      <td>0</td>\n",
              "      <td>1</td>\n",
              "      <td>0</td>\n",
              "      <td>1</td>\n",
              "    </tr>\n",
              "    <tr>\n",
              "      <th>7</th>\n",
              "      <td>2</td>\n",
              "      <td>2</td>\n",
              "      <td>0</td>\n",
              "      <td>1</td>\n",
              "      <td>0</td>\n",
              "    </tr>\n",
              "    <tr>\n",
              "      <th>8</th>\n",
              "      <td>2</td>\n",
              "      <td>0</td>\n",
              "      <td>1</td>\n",
              "      <td>1</td>\n",
              "      <td>1</td>\n",
              "    </tr>\n",
              "    <tr>\n",
              "      <th>9</th>\n",
              "      <td>1</td>\n",
              "      <td>2</td>\n",
              "      <td>1</td>\n",
              "      <td>1</td>\n",
              "      <td>1</td>\n",
              "    </tr>\n",
              "    <tr>\n",
              "      <th>10</th>\n",
              "      <td>2</td>\n",
              "      <td>2</td>\n",
              "      <td>1</td>\n",
              "      <td>0</td>\n",
              "      <td>1</td>\n",
              "    </tr>\n",
              "    <tr>\n",
              "      <th>11</th>\n",
              "      <td>0</td>\n",
              "      <td>2</td>\n",
              "      <td>0</td>\n",
              "      <td>0</td>\n",
              "      <td>1</td>\n",
              "    </tr>\n",
              "    <tr>\n",
              "      <th>12</th>\n",
              "      <td>0</td>\n",
              "      <td>1</td>\n",
              "      <td>1</td>\n",
              "      <td>1</td>\n",
              "      <td>1</td>\n",
              "    </tr>\n",
              "    <tr>\n",
              "      <th>13</th>\n",
              "      <td>1</td>\n",
              "      <td>2</td>\n",
              "      <td>0</td>\n",
              "      <td>0</td>\n",
              "      <td>0</td>\n",
              "    </tr>\n",
              "  </tbody>\n",
              "</table>\n",
              "</div>\n",
              "      <button class=\"colab-df-convert\" onclick=\"convertToInteractive('df-a3961dd9-0bab-4a17-92d0-d1dca0a35b0b')\"\n",
              "              title=\"Convert this dataframe to an interactive table.\"\n",
              "              style=\"display:none;\">\n",
              "        \n",
              "  <svg xmlns=\"http://www.w3.org/2000/svg\" height=\"24px\"viewBox=\"0 0 24 24\"\n",
              "       width=\"24px\">\n",
              "    <path d=\"M0 0h24v24H0V0z\" fill=\"none\"/>\n",
              "    <path d=\"M18.56 5.44l.94 2.06.94-2.06 2.06-.94-2.06-.94-.94-2.06-.94 2.06-2.06.94zm-11 1L8.5 8.5l.94-2.06 2.06-.94-2.06-.94L8.5 2.5l-.94 2.06-2.06.94zm10 10l.94 2.06.94-2.06 2.06-.94-2.06-.94-.94-2.06-.94 2.06-2.06.94z\"/><path d=\"M17.41 7.96l-1.37-1.37c-.4-.4-.92-.59-1.43-.59-.52 0-1.04.2-1.43.59L10.3 9.45l-7.72 7.72c-.78.78-.78 2.05 0 2.83L4 21.41c.39.39.9.59 1.41.59.51 0 1.02-.2 1.41-.59l7.78-7.78 2.81-2.81c.8-.78.8-2.07 0-2.86zM5.41 20L4 18.59l7.72-7.72 1.47 1.35L5.41 20z\"/>\n",
              "  </svg>\n",
              "      </button>\n",
              "      \n",
              "  <style>\n",
              "    .colab-df-container {\n",
              "      display:flex;\n",
              "      flex-wrap:wrap;\n",
              "      gap: 12px;\n",
              "    }\n",
              "\n",
              "    .colab-df-convert {\n",
              "      background-color: #E8F0FE;\n",
              "      border: none;\n",
              "      border-radius: 50%;\n",
              "      cursor: pointer;\n",
              "      display: none;\n",
              "      fill: #1967D2;\n",
              "      height: 32px;\n",
              "      padding: 0 0 0 0;\n",
              "      width: 32px;\n",
              "    }\n",
              "\n",
              "    .colab-df-convert:hover {\n",
              "      background-color: #E2EBFA;\n",
              "      box-shadow: 0px 1px 2px rgba(60, 64, 67, 0.3), 0px 1px 3px 1px rgba(60, 64, 67, 0.15);\n",
              "      fill: #174EA6;\n",
              "    }\n",
              "\n",
              "    [theme=dark] .colab-df-convert {\n",
              "      background-color: #3B4455;\n",
              "      fill: #D2E3FC;\n",
              "    }\n",
              "\n",
              "    [theme=dark] .colab-df-convert:hover {\n",
              "      background-color: #434B5C;\n",
              "      box-shadow: 0px 1px 3px 1px rgba(0, 0, 0, 0.15);\n",
              "      filter: drop-shadow(0px 1px 2px rgba(0, 0, 0, 0.3));\n",
              "      fill: #FFFFFF;\n",
              "    }\n",
              "  </style>\n",
              "\n",
              "      <script>\n",
              "        const buttonEl =\n",
              "          document.querySelector('#df-a3961dd9-0bab-4a17-92d0-d1dca0a35b0b button.colab-df-convert');\n",
              "        buttonEl.style.display =\n",
              "          google.colab.kernel.accessAllowed ? 'block' : 'none';\n",
              "\n",
              "        async function convertToInteractive(key) {\n",
              "          const element = document.querySelector('#df-a3961dd9-0bab-4a17-92d0-d1dca0a35b0b');\n",
              "          const dataTable =\n",
              "            await google.colab.kernel.invokeFunction('convertToInteractive',\n",
              "                                                     [key], {});\n",
              "          if (!dataTable) return;\n",
              "\n",
              "          const docLinkHtml = 'Like what you see? Visit the ' +\n",
              "            '<a target=\"_blank\" href=https://colab.research.google.com/notebooks/data_table.ipynb>data table notebook</a>'\n",
              "            + ' to learn more about interactive tables.';\n",
              "          element.innerHTML = '';\n",
              "          dataTable['output_type'] = 'display_data';\n",
              "          await google.colab.output.renderOutput(dataTable, element);\n",
              "          const docLink = document.createElement('div');\n",
              "          docLink.innerHTML = docLinkHtml;\n",
              "          element.appendChild(docLink);\n",
              "        }\n",
              "      </script>\n",
              "    </div>\n",
              "  </div>\n",
              "  "
            ],
            "text/plain": [
              "    Outlook  Temperature  Humidity  Wind  Play\n",
              "0         2            1         0     1     0\n",
              "1         2            1         0     0     0\n",
              "2         0            1         0     1     1\n",
              "3         1            2         0     1     1\n",
              "4         1            0         1     1     1\n",
              "5         1            0         1     0     0\n",
              "6         0            0         1     0     1\n",
              "7         2            2         0     1     0\n",
              "8         2            0         1     1     1\n",
              "9         1            2         1     1     1\n",
              "10        2            2         1     0     1\n",
              "11        0            2         0     0     1\n",
              "12        0            1         1     1     1\n",
              "13        1            2         0     0     0"
            ]
          },
          "metadata": {},
          "execution_count": 18
        }
      ]
    },
    {
      "cell_type": "markdown",
      "metadata": {
        "id": "tCz9POeplqen"
      },
      "source": [
        "When label encoding is applied to this column, the labels would be arranged in alphabetical order and a unique index is assigned to each label starting from `0`. For example, in the feature column: `Outlook`: `Overcast` label would be encoded as `0`, `Rain` would be `1`, `Sunny` would be `2` and so on.\n",
        "\n",
        "Also, note that the target label `Yes` is replaced with `1` and `No` is replaced with `0` by the label encoder.\n",
        "\n",
        "Before we proceed with the Classifier design,\n",
        "let's create separate DataFrames for features and the target column.\n",
        "\n",
        "1. Create a `features_df` DataFrame by dropping the `target` column from the original DataFrame.   \n",
        "\n",
        "2. Create a `target_df` DataFrame consisting of target values from the original DataFrame.\n",
        "\n",
        "\n",
        "Also, print the shape of the features and target DataFrames."
      ]
    },
    {
      "cell_type": "code",
      "metadata": {
        "colab": {
          "base_uri": "https://localhost:8080/"
        },
        "id": "TcpwU4oskR4U",
        "outputId": "fa3afa7d-3158-4d03-c858-bb435625fbca"
      },
      "source": [
        "# S4.3: Create separate DataFrames for feature and target\n",
        "\n",
        "features_df = df_play.drop('Play', axis = 1)\n",
        "target_df = df_play['Play']\n",
        "\n",
        "print(features_df.shape)\n",
        "print(target_df.shape)"
      ],
      "execution_count": null,
      "outputs": [
        {
          "output_type": "stream",
          "name": "stdout",
          "text": [
            "(14, 4)\n",
            "(14,)\n"
          ]
        }
      ]
    },
    {
      "cell_type": "markdown",
      "metadata": {
        "id": "cilscjK-BUBt"
      },
      "source": [
        "Next, split the DataFrames into train/test sets and display the shape of each set."
      ]
    },
    {
      "cell_type": "code",
      "metadata": {
        "colab": {
          "base_uri": "https://localhost:8080/"
        },
        "id": "Y8mI5UhvR7DL",
        "outputId": "8f751b59-1c66-492f-e16b-7e9478e24679"
      },
      "source": [
        "# S4.4: Import train_test_split function\n",
        "from sklearn.model_selection import train_test_split\n",
        "\n",
        "# Split dataset into training set and test set\n",
        "X_train, X_test, y_train, y_test = train_test_split(features_df, target_df, test_size = 0.3,\n",
        "                                                    random_state = 2)\n",
        "\n",
        "# Print the shape of train and test sets.\n",
        "print(\"Shape of X_train:\", X_train.shape)\n",
        "print(\"Shape of X_test:\", X_test.shape)\n",
        "print(\"Shape of y_train:\", y_train.shape)\n",
        "print(\"Shape of y_test:\", y_test.shape)"
      ],
      "execution_count": null,
      "outputs": [
        {
          "output_type": "stream",
          "name": "stdout",
          "text": [
            "Shape of X_train: (9, 4)\n",
            "Shape of X_test: (5, 4)\n",
            "Shape of y_train: (9,)\n",
            "Shape of y_test: (5,)\n"
          ]
        }
      ]
    },
    {
      "cell_type": "markdown",
      "metadata": {
        "id": "TgLBfhXfm44m"
      },
      "source": [
        "Next, let's create a Naive Bayes Classifier model. In the previous class, we used `GaussianNB` Classifier which is suitable specifically for continuous features. However, the features of our dataset contains discrete values.\n",
        "\n",
        "Thus, we will use `CategoricalNB` Classifier which is another variant of Naive Bayes Classifier suitable for classification problems having discrete features.\n",
        "\n",
        "To construct a Classifier using `CategoricalNB` Classifier, follow the steps given below:\n",
        "\n",
        "1. Import the required library which contains methods and attributes to design a Naive Bayes Classifier.\n",
        "\n",
        "  ```python\n",
        "  from sklearn.naive_bayes import CategoricalNB\n",
        "  ```\n",
        "2. Create an object (say `nb_clf`) of the `CategoricalNB()` constructor.\n",
        "\n",
        "4. Call the `fit()` function on the above constructor with train features and target variables as inputs."
      ]
    },
    {
      "cell_type": "code",
      "metadata": {
        "colab": {
          "base_uri": "https://localhost:8080/"
        },
        "id": "BrID-CVYSJ7w",
        "outputId": "a5f7a468-003e-43b8-fe3b-059e0455c5c1"
      },
      "source": [
        "# S4.5: Implement Naive Bayes Classifier\n",
        "\n",
        "# Import the required library\n",
        "from sklearn.naive_bayes import CategoricalNB\n",
        "\n",
        "# Model the NB Classifier\n",
        "nb_clf = CategoricalNB()\n",
        "nb_clf.fit(X_train, y_train)\n",
        "\n",
        "# Predict the train and test sets\n",
        "y_train_predict_nb = nb_clf.predict(X_train)\n",
        "y_test_predict_nb = nb_clf.predict(X_test)\n",
        "\n",
        "# Evaluate the accuracy scores\n",
        "print('Accuracy on the training set: {:.2f}'.format(nb_clf.score(X_train, y_train)))\n",
        "print('Accuracy on the test set: {:.2f}'.format(nb_clf.score(X_test, y_test)))"
      ],
      "execution_count": null,
      "outputs": [
        {
          "output_type": "stream",
          "name": "stdout",
          "text": [
            "Accuracy on the training set: 0.89\n",
            "Accuracy on the test set: 0.80\n"
          ]
        }
      ]
    },
    {
      "cell_type": "markdown",
      "metadata": {
        "id": "HG9SwFxmndzx"
      },
      "source": [
        "Now the Classifier model has been trained. Even from a small dataset of merely 14 data points and after splitting them into train/test with 9 and 5 datapoints, we observe that  the Naive Bayes Classifier returns an exceptional accuracy of 0.89 and 0.80 for the train and test sets. Hence, Naive Bayes Classifier performs well even for small datasets.\n",
        "\n",
        "\n",
        "Let us use the Classifier to predict the game play for the $15^{th}$ day. To recall weather conditions for day 15 are given as:\n",
        "\n",
        "| Day | Outlook | Temperature | Humidity | Wind | Play |\n",
        "| -- | -- | -- | -- | -- | --|\n",
        "| 15 | Sunny | Cool | High | Strong | ❓ |\n",
        "\n",
        "Since we have encoded the features using label encoder, let pass the encoded values for features while performing prediction.\n",
        "\n",
        "Hence, the feature set will become:\n",
        "\n",
        "| Day | Outlook | Temperature | Humidity | Wind | Play |\n",
        "| -- | -- | -- | -- | -- | --|\n",
        "| 15 | 1| 0 | 0 | 0 | ❓ |\n",
        "\n",
        "<br>\n",
        "\n",
        "To predict the outcome of the game based on the features, call the `predict()` function using Classifier object and pass the two-dimensional array `[1, 0, 0, 0]`  as input to the predict the outcome for day 15."
      ]
    },
    {
      "cell_type": "code",
      "metadata": {
        "colab": {
          "base_uri": "https://localhost:8080/"
        },
        "id": "WiDHe855nD1f",
        "outputId": "0c69139e-23f8-4651-eadd-9210bf43c37c"
      },
      "source": [
        "# S4.6: Predict the outcome for Day 15\n",
        "nb_clf.predict([[1, 0, 0, 0]])"
      ],
      "execution_count": null,
      "outputs": [
        {
          "output_type": "execute_result",
          "data": {
            "text/plain": [
              "array([0])"
            ]
          },
          "metadata": {},
          "execution_count": 22
        }
      ]
    },
    {
      "cell_type": "markdown",
      "metadata": {
        "id": "gpsZdY8CwtW0"
      },
      "source": [
        "The outcome has been predicted as `array([0])` which means the predicted value for target is `No`, which matches with  prediction performed without using scikit-learn library in the previous activity.\n",
        "\n",
        "\n",
        "**Takeaway points:** Naive Bayes Classifier can give fast results with very high accuracy when:\n",
        "\n",
        "1. When the features as independent i.e. Naive assumptions are true (although this happens rarely with real-world data.)\n",
        "\n",
        "2. When we have well-separated categories, especially when model is not very complex.\n",
        "\n",
        "3. For very high-dimensional data, which can be well reduced by some feature engineering method and the model is not very complex.\n",
        "\n",
        "4. For categorical features,  `CategoricalNB`  Naive Bayes Classifier model is advised and for continuous features `GaussianNB` Naive Bayes Classifier model is advised.\n",
        "\n",
        "**Advantages:** Naive Bayes Classifier has several advantages:\n",
        "\n",
        "1. They are extremely fast for both training and making predictions.\n",
        "\n",
        "2. They provide easy to understand probability based predictions.\n",
        "\n",
        "3. They have very few (if any) tunable parameters.\n",
        "\n",
        "We will stop here. In the next class, we will start working on a new category of machine learning models and address a different problem statement."
      ]
    },
    {
      "cell_type": "markdown",
      "metadata": {
        "id": "BogMCIXRSM7l"
      },
      "source": [
        "---"
      ]
    },
    {
      "cell_type": "markdown",
      "metadata": {
        "id": "Y4z16AW6FVWe"
      },
      "source": [
        "## Additional Activities\n",
        "\n",
        "The activities starting from this point are optional. Please do these activities ONLY if you have time to spare in the class. Otherwise, skip to the Wrap-Up section. The additional activities will not be available in the class copy of the notebook. You will have to manually add these activities in the class copy by adding new text and code cells.\n",
        "\n",
        "Moreover, you don't have to do all the additional activities. Depending on the availability of time in a class, you can choose the number of additional activities to perform from this collection."
      ]
    },
    {
      "cell_type": "markdown",
      "metadata": {
        "id": "3tePTc03Fmph"
      },
      "source": [
        "---"
      ]
    },
    {
      "cell_type": "markdown",
      "metadata": {
        "id": "GZZg2DXy5pcW"
      },
      "source": [
        "#### Activity 1: Continuous Features and Gaussian Naive Bayes Classifier\n",
        "\n",
        "Often the features for the classification may include continuous variables as features. For example:\n",
        "\n",
        "In the UCI's heart disease dataset used in previous lesson the features: `age`, `trestbps`, `chol`, `thalach`, `oldpeak` are continuous numeric features. Let's look into these features and determine whether these features can be considered as categorical features. For this:\n",
        "\n",
        "- Use `df[feature].unique()` function to get a list of unique values in the respective feature.\n",
        "\n",
        "- Print the length of the respective lists using `len()` function.\n",
        "\n",
        "**Note:** Make sure you have read the dataset in the recap section.\n",
        "\n"
      ]
    },
    {
      "cell_type": "code",
      "metadata": {
        "colab": {
          "base_uri": "https://localhost:8080/"
        },
        "id": "TY0QCvI5cIGX",
        "outputId": "de24da38-3359-4be9-f679-88bb5d310bed"
      },
      "source": [
        "# Obtain the number of unique values for the continuous features in UCI's hear disease dataset\n",
        "\n",
        "print('The number of unique entries in age feature are: ',len(df['age'].unique()))\n",
        "print('The number of unique entries in trestbps feature are: ',len(df['trestbps'].unique()))\n",
        "print('The number of unique entries in chol feature are: ',len(df['chol'].unique()))\n",
        "print('The number of unique entries in thalach feature are: ',len(df['thalach'].unique()))\n",
        "print('The number of unique entries in oldpeak feature are: ',len(df['oldpeak'].unique()))\n",
        "print('The number of unique entries in cp feature are: ',len(df['cp'].unique()))"
      ],
      "execution_count": null,
      "outputs": [
        {
          "output_type": "stream",
          "name": "stdout",
          "text": [
            "The number of unique entries in age feature are:  41\n",
            "The number of unique entries in trestbps feature are:  49\n",
            "The number of unique entries in chol feature are:  152\n",
            "The number of unique entries in thalach feature are:  91\n",
            "The number of unique entries in oldpeak feature are:  40\n",
            "The number of unique entries in cp feature are:  4\n"
          ]
        }
      ]
    },
    {
      "cell_type": "markdown",
      "metadata": {
        "id": "NVau66oUeeuf"
      },
      "source": [
        "Here we observe that the number of unique elements in continuous features are quite higher to be considered as categorical elements. Further let's obtain the distribution using `sns.distplot()`:\n",
        "\n"
      ]
    },
    {
      "cell_type": "code",
      "metadata": {
        "colab": {
          "base_uri": "https://localhost:8080/",
          "height": 656
        },
        "id": "INoiyXHdbFOS",
        "outputId": "d8245ae3-8b7f-4487-abaf-0e5cd984d58a"
      },
      "source": [
        "# Obtain the distribution for continuous features in UCI heart disease dataset\n",
        "\n",
        "fig, axis = plt.subplots(nrows = 2, ncols = 3, figsize = (14, 8), dpi = 96, sharey = False)\n",
        "sns.distplot(df['age'], ax = axis[0, 0])\n",
        "sns.distplot(df['trestbps'], ax = axis[0, 1])\n",
        "sns.distplot(df['chol'], ax = axis[0, 2])\n",
        "sns.distplot(df['thalach'], ax = axis[1, 0])\n",
        "sns.distplot(df['oldpeak'], ax = axis[1, 1])\n",
        "sns.distplot(df['cp'], ax = axis[1, 2])\n",
        "plt.show()"
      ],
      "execution_count": null,
      "outputs": [
        {
          "output_type": "display_data",
          "data": {
            "image/png": "[encoded data removed]",
            "text/plain": [
              "<Figure size 1344x768 with 6 Axes>"
            ]
          },
          "metadata": {
            "needs_background": "light"
          }
        }
      ]
    },
    {
      "cell_type": "markdown",
      "metadata": {
        "id": "aSDWNKondjAG"
      },
      "source": [
        "Here we observe that the distribution of the continuous features is approximately Gauusian which means:\n",
        "\n",
        "1. If we use Categorical Naive Bayes algorithm for these features we might not get the expected outcome.\n",
        "\n",
        "2. The modeling time will increase with an increase in features/datapoints if we apply `CategoricalNB` to the continuous features data.\n",
        "\n",
        "3. Also, the categorical features may not follow Gaussian distribution hence they may produce inaccurate results for `CategoricalNB` Classifier.\n",
        "\n",
        "Hence, for continuous features we use Gaussian Naive Bayes model.\n",
        "\n",
        "<br>\n",
        "\n",
        "**Gaussian Naive Bayes Model**\n",
        "\n",
        "A Gaussian Naive Bayes model assumes that the continuous features associated to the target label follow Gaussian (normal) distribution. Hence, the likelihood (conditional probability) function $P(x_1, x_2, ..., x_n|y)$ changes to:\n",
        "\n",
        "\\begin{align}\n",
        "P (x_1, x_2, ..., x_n|y) = \\frac {1}{\\sqrt {2 \\pi \\sigma^2_y}} \\times \\text {exp} \\left(- \\frac{(x_i - μ_y)^{2}}{2 \\sigma ^2_y}\\right)\n",
        "\\end{align}\n",
        "\n",
        "Where the parameters:\n",
        "\n",
        "- $\\mu _y$ is the mean of the values in feature $x$  associated with respective target class.\n",
        "\n",
        "- $\\sigma _y$ is standard deviation of values in feature $x$ associated with respective target class.\n",
        "\n",
        "- $\\sigma^2_y$ is commonly known as Bessel corrected variance.\n",
        "\n",
        "To calculate the mean and standard deviation where the training data contains a continuous attribute. The data is first segmented by the target labels, and then the mean and variance of respective feature $x$ is computed for datapoints with respect to each class label.\n",
        "\n",
        "To recall we have already used `GaussianNB` while modeling the Classifier for the heart disease dataset in the previous class.\n",
        "\n",
        "\n"
      ]
    },
    {
      "cell_type": "markdown",
      "metadata": {
        "id": "nGI7jGns6lqO"
      },
      "source": [
        "---\n"
      ]
    },
    {
      "cell_type": "markdown",
      "metadata": {
        "id": "VVlSsULXcUwk"
      },
      "source": [
        "#### Activities\n",
        "\n",
        "\n",
        "**Teacher Activities:**\n",
        "\n",
        "1.   Naive Bayes Classifier - Understanding Bayes' Theorem (Class Copy)\n",
        "\n",
        "\thttps://colab.research.google.com/drive/1yz8GaXXkVB7LvcV47w8mYTB7ZYZRQXsP\n",
        "\n",
        "2.    Naive Bayes Classifier - Understanding Bayes' Theorem (Reference)\n",
        "\n",
        "\thttps://colab.research.google.com/drive/1xhcgJkRNg-Kp2Pwygwd8S7FpqWZWOh6s"
      ]
    },
    {
      "cell_type": "markdown",
      "metadata": {
        "id": "K366daK2ccg0"
      },
      "source": [
        "---"
      ]
    }
  ]
}