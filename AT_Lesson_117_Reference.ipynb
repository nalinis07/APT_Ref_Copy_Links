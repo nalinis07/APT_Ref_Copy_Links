{
  "nbformat": 4,
  "nbformat_minor": 0,
  "metadata": {
    "colab": {
      "provenance": [],
      "include_colab_link": true
    },
    "kernelspec": {
      "name": "python3",
      "display_name": "Python 3"
    },
    "language_info": {
      "name": "python"
    }
  },
  "cells": [
    {
      "cell_type": "markdown",
      "metadata": {
        "id": "view-in-github",
        "colab_type": "text"
      },
      "source": [
        "<a href=\"https://colab.research.google.com/github/nalinis07/APT_Ref_Copy_Links/blob/MASTER/AT_Lesson_117_Reference.ipynb\" target=\"_parent\"><img src=\"https://colab.research.google.com/assets/colab-badge.svg\" alt=\"Open In Colab\"/></a>"
      ]
    },
    {
      "cell_type": "markdown",
      "metadata": {
        "id": "dH0juTm_ISGg"
      },
      "source": [
        "\n",
        "# Lesson 117: PCA - Vector Projections\n",
        "\n",
        "\n"
      ]
    },
    {
      "cell_type": "markdown",
      "metadata": {
        "id": "yauWJFvFIkBo"
      },
      "source": [
        "---"
      ]
    },
    {
      "cell_type": "markdown",
      "metadata": {
        "id": "YPSqesdHIgnK"
      },
      "source": [
        "**WARNING:** The reference notebook is meant **ONLY** for a teacher. Please **DO NOT** share it with any student.\n",
        "\n",
        "The contents of the reference notebook are meant only to prepare a teacher for a class. To conduct the class, use the class copy of the reference notebook. The link and the instructions for the same are provided in the **Notes To The Teacher** section.\n",
        "\n",
        "\n",
        "|Particulars|Description|\n",
        "|-|-|\n",
        "|**Topic**|PCA - Vector Projections|\n",
        "|||\n",
        "|**Class Description**|In this class, a student will understand how to obtain the desired vector which gives maximum variance in PCA|\n",
        "|||\n",
        "|**Class**|C117|\n",
        "|||\n",
        "|**Class Time**|45 minutes|\n",
        "|||\n",
        "|**Goal**|Understand how vectors are scaled|\n",
        "||Calculate dot product of vectors|\n",
        "||Understand how to project one vector onto another|\n",
        "||Derive maximisation function for vector projection|\n",
        "|||\n",
        "|**Teacher Resources**|Google Account|\n",
        "||Laptop with internet connectivity|\n",
        "||Earphones with mic|\n",
        "|||\n",
        "|**Student Resources**|Google Account|\n",
        "||Laptop with internet connectivity|\n",
        "||Earphones with mic|"
      ]
    },
    {
      "cell_type": "markdown",
      "metadata": {
        "id": "uiNHVuDWIb0L"
      },
      "source": [
        "---"
      ]
    },
    {
      "cell_type": "markdown",
      "metadata": {
        "id": "mX5f6VWWwJrz"
      },
      "source": [
        "### Warm-up Quiz\n",
        "\n",
        "```\n",
        "TEACHER\n",
        "I have an exciting quiz question for you! Are you ready to answer this question?\n",
        "\n",
        "EXPECTED STUDENT RESPONSE\n",
        "Yes.\n",
        "```\n",
        "\n",
        "**Instructions for the Teacher:**\n",
        "- Please click on the \"Quiz Time\" button on the bottom right corner of your screen to start the In-Class Quiz. <img src='https://student-datasets-bucket.s3.ap-south-1.amazonaws.com/images/quiz-time.png' width = 150>\n",
        "\n",
        "- A quiz will be visible to both you and the student. Encourage the student to answer the quiz question.\n",
        "\n",
        "- The student may choose the wrong option, help the student to think correctly about the question and then answer again.\n",
        "\n",
        "- After the student selects the correct option, the \"End Quiz\" button will start appearing on your screen. <img src='https://student-datasets-bucket.s3.ap-south-1.amazonaws.com/images/end-quiz.png' width = 150>  \n",
        "\n",
        "- Click the \"End quiz\" button to close the quiz pop-up and continue the class.\n",
        "  \n",
        "- Do not spend more than 2 minutes on this quiz."
      ]
    },
    {
      "cell_type": "markdown",
      "metadata": {
        "id": "OHeWj9ZgwKiT"
      },
      "source": [
        "---"
      ]
    },
    {
      "cell_type": "markdown",
      "metadata": {
        "id": "FDA9Q0skyt9Y"
      },
      "source": [
        "#### Teacher-Student Activities\n",
        "\n",
        "In the previous class, we understood various concepts of linear algebra that are used in PCA. We also started exploring vectors that form the basis of principal components.\n",
        "\n",
        "In today's class, we will understand a few more concepts of vectors that are vital in PCA. We will also try to figure out mathematically the best vector for PCA projection.\n",
        "\n",
        "Before that, let us go through the concepts covered in the previous class and begin the class from the topic: **Activity 1: Scaling of Vectors**."
      ]
    },
    {
      "cell_type": "markdown",
      "metadata": {
        "id": "LqF-onlKrUBd"
      },
      "source": [
        "---"
      ]
    },
    {
      "cell_type": "markdown",
      "source": [
        "### Recap"
      ],
      "metadata": {
        "id": "gmfazayTRbEL"
      }
    },
    {
      "cell_type": "markdown",
      "metadata": {
        "id": "QeYPsKY8rlek"
      },
      "source": [
        "#### Loading the Dataset\n",
        "\n",
        "**Dataset Link:**  https://s3-whjr-curriculum-uploads.whjr.online/be99ea2b-cb07-4e52-b9ee-4c7e893ae48d.csv\n",
        "\n"
      ]
    },
    {
      "cell_type": "code",
      "metadata": {
        "colab": {
          "base_uri": "https://localhost:8080/",
          "height": 206
        },
        "id": "BAhH4jKBrpHV",
        "outputId": "027014b9-dc56-4c6d-f77c-5fd6b50a35af"
      },
      "source": [
        "# Import the Python modules, read the dataset and create a Pandas DataFrame\n",
        "import numpy as np\n",
        "import pandas as pd\n",
        "import matplotlib.pyplot as plt\n",
        "import seaborn as sns\n",
        "import plotly.express as px\n",
        "\n",
        "# Read the dataset\n",
        "wheat_df = pd.read_csv('https://s3-whjr-curriculum-uploads.whjr.online/52e55558-5ad7-4f93-a854-8186f415bc55.csv')\n",
        "wheat_df.head()"
      ],
      "execution_count": null,
      "outputs": [
        {
          "output_type": "execute_result",
          "data": {
            "text/html": [
              "<div>\n",
              "<style scoped>\n",
              "    .dataframe tbody tr th:only-of-type {\n",
              "        vertical-align: middle;\n",
              "    }\n",
              "\n",
              "    .dataframe tbody tr th {\n",
              "        vertical-align: top;\n",
              "    }\n",
              "\n",
              "    .dataframe thead th {\n",
              "        text-align: right;\n",
              "    }\n",
              "</style>\n",
              "<table border=\"1\" class=\"dataframe\">\n",
              "  <thead>\n",
              "    <tr style=\"text-align: right;\">\n",
              "      <th></th>\n",
              "      <th>A</th>\n",
              "      <th>P</th>\n",
              "      <th>C</th>\n",
              "      <th>LK</th>\n",
              "      <th>WK</th>\n",
              "      <th>A_Coef</th>\n",
              "      <th>LKG</th>\n",
              "      <th>target</th>\n",
              "    </tr>\n",
              "  </thead>\n",
              "  <tbody>\n",
              "    <tr>\n",
              "      <th>0</th>\n",
              "      <td>15.26</td>\n",
              "      <td>14.84</td>\n",
              "      <td>0.8710</td>\n",
              "      <td>5.763</td>\n",
              "      <td>3.312</td>\n",
              "      <td>2.221</td>\n",
              "      <td>5.220</td>\n",
              "      <td>0</td>\n",
              "    </tr>\n",
              "    <tr>\n",
              "      <th>1</th>\n",
              "      <td>14.88</td>\n",
              "      <td>14.57</td>\n",
              "      <td>0.8811</td>\n",
              "      <td>5.554</td>\n",
              "      <td>3.333</td>\n",
              "      <td>1.018</td>\n",
              "      <td>4.956</td>\n",
              "      <td>0</td>\n",
              "    </tr>\n",
              "    <tr>\n",
              "      <th>2</th>\n",
              "      <td>14.29</td>\n",
              "      <td>14.09</td>\n",
              "      <td>0.9050</td>\n",
              "      <td>5.291</td>\n",
              "      <td>3.337</td>\n",
              "      <td>2.699</td>\n",
              "      <td>4.825</td>\n",
              "      <td>0</td>\n",
              "    </tr>\n",
              "    <tr>\n",
              "      <th>3</th>\n",
              "      <td>13.84</td>\n",
              "      <td>13.94</td>\n",
              "      <td>0.8955</td>\n",
              "      <td>5.324</td>\n",
              "      <td>3.379</td>\n",
              "      <td>2.259</td>\n",
              "      <td>4.805</td>\n",
              "      <td>0</td>\n",
              "    </tr>\n",
              "    <tr>\n",
              "      <th>4</th>\n",
              "      <td>16.14</td>\n",
              "      <td>14.99</td>\n",
              "      <td>0.9034</td>\n",
              "      <td>5.658</td>\n",
              "      <td>3.562</td>\n",
              "      <td>1.355</td>\n",
              "      <td>5.175</td>\n",
              "      <td>0</td>\n",
              "    </tr>\n",
              "  </tbody>\n",
              "</table>\n",
              "</div>"
            ],
            "text/plain": [
              "       A      P       C     LK     WK  A_Coef    LKG  target\n",
              "0  15.26  14.84  0.8710  5.763  3.312   2.221  5.220       0\n",
              "1  14.88  14.57  0.8811  5.554  3.333   1.018  4.956       0\n",
              "2  14.29  14.09  0.9050  5.291  3.337   2.699  4.825       0\n",
              "3  13.84  13.94  0.8955  5.324  3.379   2.259  4.805       0\n",
              "4  16.14  14.99  0.9034  5.658  3.562   1.355  5.175       0"
            ]
          },
          "metadata": {},
          "execution_count": 22
        }
      ]
    },
    {
      "cell_type": "code",
      "metadata": {
        "colab": {
          "base_uri": "https://localhost:8080/",
          "height": 206
        },
        "id": "ickKM991rv03",
        "outputId": "1565eb6b-a32d-4a30-dc29-3676c3fbc4c0"
      },
      "source": [
        "# Rename the columns for better understandability\n",
        "wheat_df.rename(columns = {'A': 'area', 'P': 'perimeter', 'C': 'compactness',\n",
        "                            'LK': 'kernel_length', 'WK': 'kernel_width',\n",
        "                            'A_Coef': 'asymmetry_coefficient', 'LKG':'kernel_groove_length'}, inplace = True)\n",
        "wheat_df.head()"
      ],
      "execution_count": null,
      "outputs": [
        {
          "output_type": "execute_result",
          "data": {
            "text/html": [
              "<div>\n",
              "<style scoped>\n",
              "    .dataframe tbody tr th:only-of-type {\n",
              "        vertical-align: middle;\n",
              "    }\n",
              "\n",
              "    .dataframe tbody tr th {\n",
              "        vertical-align: top;\n",
              "    }\n",
              "\n",
              "    .dataframe thead th {\n",
              "        text-align: right;\n",
              "    }\n",
              "</style>\n",
              "<table border=\"1\" class=\"dataframe\">\n",
              "  <thead>\n",
              "    <tr style=\"text-align: right;\">\n",
              "      <th></th>\n",
              "      <th>area</th>\n",
              "      <th>perimeter</th>\n",
              "      <th>compactness</th>\n",
              "      <th>kernel_length</th>\n",
              "      <th>kernel_width</th>\n",
              "      <th>asymmetry_coefficient</th>\n",
              "      <th>kernel_groove_length</th>\n",
              "      <th>target</th>\n",
              "    </tr>\n",
              "  </thead>\n",
              "  <tbody>\n",
              "    <tr>\n",
              "      <th>0</th>\n",
              "      <td>15.26</td>\n",
              "      <td>14.84</td>\n",
              "      <td>0.8710</td>\n",
              "      <td>5.763</td>\n",
              "      <td>3.312</td>\n",
              "      <td>2.221</td>\n",
              "      <td>5.220</td>\n",
              "      <td>0</td>\n",
              "    </tr>\n",
              "    <tr>\n",
              "      <th>1</th>\n",
              "      <td>14.88</td>\n",
              "      <td>14.57</td>\n",
              "      <td>0.8811</td>\n",
              "      <td>5.554</td>\n",
              "      <td>3.333</td>\n",
              "      <td>1.018</td>\n",
              "      <td>4.956</td>\n",
              "      <td>0</td>\n",
              "    </tr>\n",
              "    <tr>\n",
              "      <th>2</th>\n",
              "      <td>14.29</td>\n",
              "      <td>14.09</td>\n",
              "      <td>0.9050</td>\n",
              "      <td>5.291</td>\n",
              "      <td>3.337</td>\n",
              "      <td>2.699</td>\n",
              "      <td>4.825</td>\n",
              "      <td>0</td>\n",
              "    </tr>\n",
              "    <tr>\n",
              "      <th>3</th>\n",
              "      <td>13.84</td>\n",
              "      <td>13.94</td>\n",
              "      <td>0.8955</td>\n",
              "      <td>5.324</td>\n",
              "      <td>3.379</td>\n",
              "      <td>2.259</td>\n",
              "      <td>4.805</td>\n",
              "      <td>0</td>\n",
              "    </tr>\n",
              "    <tr>\n",
              "      <th>4</th>\n",
              "      <td>16.14</td>\n",
              "      <td>14.99</td>\n",
              "      <td>0.9034</td>\n",
              "      <td>5.658</td>\n",
              "      <td>3.562</td>\n",
              "      <td>1.355</td>\n",
              "      <td>5.175</td>\n",
              "      <td>0</td>\n",
              "    </tr>\n",
              "  </tbody>\n",
              "</table>\n",
              "</div>"
            ],
            "text/plain": [
              "    area  perimeter  ...  kernel_groove_length  target\n",
              "0  15.26      14.84  ...                 5.220       0\n",
              "1  14.88      14.57  ...                 4.956       0\n",
              "2  14.29      14.09  ...                 4.825       0\n",
              "3  13.84      13.94  ...                 4.805       0\n",
              "4  16.14      14.99  ...                 5.175       0\n",
              "\n",
              "[5 rows x 8 columns]"
            ]
          },
          "metadata": {},
          "execution_count": 23
        }
      ]
    },
    {
      "cell_type": "code",
      "metadata": {
        "colab": {
          "base_uri": "https://localhost:8080/"
        },
        "id": "lmNExPGAr1G9",
        "outputId": "bde6ffb0-e724-4158-e0cb-26dfc2d100b3"
      },
      "source": [
        "# Get the total number of rows and columns, data types of columns and missing values (if exist) in the dataset.\n",
        "wheat_df.info()"
      ],
      "execution_count": null,
      "outputs": [
        {
          "output_type": "stream",
          "name": "stdout",
          "text": [
            "<class 'pandas.core.frame.DataFrame'>\n",
            "RangeIndex: 210 entries, 0 to 209\n",
            "Data columns (total 8 columns):\n",
            " #   Column                 Non-Null Count  Dtype  \n",
            "---  ------                 --------------  -----  \n",
            " 0   area                   210 non-null    float64\n",
            " 1   perimeter              210 non-null    float64\n",
            " 2   compactness            210 non-null    float64\n",
            " 3   kernel_length          210 non-null    float64\n",
            " 4   kernel_width           210 non-null    float64\n",
            " 5   asymmetry_coefficient  210 non-null    float64\n",
            " 6   kernel_groove_length   210 non-null    float64\n",
            " 7   target                 210 non-null    int64  \n",
            "dtypes: float64(7), int64(1)\n",
            "memory usage: 13.2 KB\n"
          ]
        }
      ]
    },
    {
      "cell_type": "markdown",
      "metadata": {
        "id": "0pU0Vezyr_bL"
      },
      "source": [
        "---"
      ]
    },
    {
      "cell_type": "markdown",
      "metadata": {
        "id": "Lt2hcr6VsAIL"
      },
      "source": [
        "#### Exploratory Data Analysis\n",
        "\n",
        "\n",
        "1. Analysis of data where kernel width is more than kernel length.\n",
        "2. Check for anomalies in kernel groove length and kernel length.\n",
        "3. Calculating compactness using area and perimeter.\n",
        "\n",
        "$Compactness = \\frac{4*Π*Area}{Circumference^2}$\n",
        "\n"
      ]
    },
    {
      "cell_type": "code",
      "metadata": {
        "colab": {
          "base_uri": "https://localhost:8080/",
          "height": 50
        },
        "id": "MX1XHRb7sD5-",
        "outputId": "20766b24-f1ca-4391-edb0-c028fdc1ec82"
      },
      "source": [
        "# Check for anomalies in 'kernel_width' and 'kernel_length'.\n",
        "wheat_df[wheat_df['kernel_width'] > wheat_df['kernel_length']]"
      ],
      "execution_count": null,
      "outputs": [
        {
          "output_type": "execute_result",
          "data": {
            "text/html": [
              "<div>\n",
              "<style scoped>\n",
              "    .dataframe tbody tr th:only-of-type {\n",
              "        vertical-align: middle;\n",
              "    }\n",
              "\n",
              "    .dataframe tbody tr th {\n",
              "        vertical-align: top;\n",
              "    }\n",
              "\n",
              "    .dataframe thead th {\n",
              "        text-align: right;\n",
              "    }\n",
              "</style>\n",
              "<table border=\"1\" class=\"dataframe\">\n",
              "  <thead>\n",
              "    <tr style=\"text-align: right;\">\n",
              "      <th></th>\n",
              "      <th>area</th>\n",
              "      <th>perimeter</th>\n",
              "      <th>compactness</th>\n",
              "      <th>kernel_length</th>\n",
              "      <th>kernel_width</th>\n",
              "      <th>asymmetry_coefficient</th>\n",
              "      <th>kernel_groove_length</th>\n",
              "      <th>target</th>\n",
              "    </tr>\n",
              "  </thead>\n",
              "  <tbody>\n",
              "  </tbody>\n",
              "</table>\n",
              "</div>"
            ],
            "text/plain": [
              "Empty DataFrame\n",
              "Columns: [area, perimeter, compactness, kernel_length, kernel_width, asymmetry_coefficient, kernel_groove_length, target]\n",
              "Index: []"
            ]
          },
          "metadata": {},
          "execution_count": 25
        }
      ]
    },
    {
      "cell_type": "code",
      "metadata": {
        "colab": {
          "base_uri": "https://localhost:8080/",
          "height": 556
        },
        "id": "JwRA0DKfsGHA",
        "outputId": "f54a9061-1e17-4ae8-b46f-a95b44f5ce92"
      },
      "source": [
        "# Check for anomalies in kernel_groove_length and kernel_length.\n",
        "print(\"Number of rows having kernel groove length > kernel length =\",\n",
        "      wheat_df[wheat_df['kernel_groove_length'] > wheat_df['kernel_length']].shape[0], \"\\n\") # You can add this code part later.\n",
        "\n",
        "wheat_df[wheat_df['kernel_groove_length'] > wheat_df['kernel_length']] # Write only this part of code first. Then add the preceding part later."
      ],
      "execution_count": null,
      "outputs": [
        {
          "output_type": "stream",
          "name": "stdout",
          "text": [
            "Number of rows having kernel groove length > kernel length = 15 \n",
            "\n"
          ]
        },
        {
          "output_type": "execute_result",
          "data": {
            "text/html": [
              "<div>\n",
              "<style scoped>\n",
              "    .dataframe tbody tr th:only-of-type {\n",
              "        vertical-align: middle;\n",
              "    }\n",
              "\n",
              "    .dataframe tbody tr th {\n",
              "        vertical-align: top;\n",
              "    }\n",
              "\n",
              "    .dataframe thead th {\n",
              "        text-align: right;\n",
              "    }\n",
              "</style>\n",
              "<table border=\"1\" class=\"dataframe\">\n",
              "  <thead>\n",
              "    <tr style=\"text-align: right;\">\n",
              "      <th></th>\n",
              "      <th>area</th>\n",
              "      <th>perimeter</th>\n",
              "      <th>compactness</th>\n",
              "      <th>kernel_length</th>\n",
              "      <th>kernel_width</th>\n",
              "      <th>asymmetry_coefficient</th>\n",
              "      <th>kernel_groove_length</th>\n",
              "      <th>target</th>\n",
              "    </tr>\n",
              "  </thead>\n",
              "  <tbody>\n",
              "    <tr>\n",
              "      <th>80</th>\n",
              "      <td>16.53</td>\n",
              "      <td>15.34</td>\n",
              "      <td>0.8823</td>\n",
              "      <td>5.875</td>\n",
              "      <td>3.467</td>\n",
              "      <td>5.532</td>\n",
              "      <td>5.880</td>\n",
              "      <td>1</td>\n",
              "    </tr>\n",
              "    <tr>\n",
              "      <th>85</th>\n",
              "      <td>18.27</td>\n",
              "      <td>16.09</td>\n",
              "      <td>0.8870</td>\n",
              "      <td>6.173</td>\n",
              "      <td>3.651</td>\n",
              "      <td>2.443</td>\n",
              "      <td>6.197</td>\n",
              "      <td>1</td>\n",
              "    </tr>\n",
              "    <tr>\n",
              "      <th>86</th>\n",
              "      <td>18.88</td>\n",
              "      <td>16.26</td>\n",
              "      <td>0.8969</td>\n",
              "      <td>6.084</td>\n",
              "      <td>3.764</td>\n",
              "      <td>1.649</td>\n",
              "      <td>6.109</td>\n",
              "      <td>1</td>\n",
              "    </tr>\n",
              "    <tr>\n",
              "      <th>97</th>\n",
              "      <td>18.98</td>\n",
              "      <td>16.57</td>\n",
              "      <td>0.8687</td>\n",
              "      <td>6.449</td>\n",
              "      <td>3.552</td>\n",
              "      <td>2.144</td>\n",
              "      <td>6.453</td>\n",
              "      <td>1</td>\n",
              "    </tr>\n",
              "    <tr>\n",
              "      <th>98</th>\n",
              "      <td>18.17</td>\n",
              "      <td>16.26</td>\n",
              "      <td>0.8637</td>\n",
              "      <td>6.271</td>\n",
              "      <td>3.512</td>\n",
              "      <td>2.853</td>\n",
              "      <td>6.273</td>\n",
              "      <td>1</td>\n",
              "    </tr>\n",
              "    <tr>\n",
              "      <th>106</th>\n",
              "      <td>18.85</td>\n",
              "      <td>16.17</td>\n",
              "      <td>0.9056</td>\n",
              "      <td>6.152</td>\n",
              "      <td>3.806</td>\n",
              "      <td>2.843</td>\n",
              "      <td>6.200</td>\n",
              "      <td>1</td>\n",
              "    </tr>\n",
              "    <tr>\n",
              "      <th>134</th>\n",
              "      <td>15.56</td>\n",
              "      <td>14.89</td>\n",
              "      <td>0.8823</td>\n",
              "      <td>5.776</td>\n",
              "      <td>3.408</td>\n",
              "      <td>4.972</td>\n",
              "      <td>5.847</td>\n",
              "      <td>1</td>\n",
              "    </tr>\n",
              "    <tr>\n",
              "      <th>139</th>\n",
              "      <td>16.23</td>\n",
              "      <td>15.18</td>\n",
              "      <td>0.8850</td>\n",
              "      <td>5.872</td>\n",
              "      <td>3.472</td>\n",
              "      <td>3.769</td>\n",
              "      <td>5.922</td>\n",
              "      <td>1</td>\n",
              "    </tr>\n",
              "    <tr>\n",
              "      <th>150</th>\n",
              "      <td>11.83</td>\n",
              "      <td>13.23</td>\n",
              "      <td>0.8496</td>\n",
              "      <td>5.263</td>\n",
              "      <td>2.840</td>\n",
              "      <td>5.195</td>\n",
              "      <td>5.307</td>\n",
              "      <td>2</td>\n",
              "    </tr>\n",
              "    <tr>\n",
              "      <th>154</th>\n",
              "      <td>11.36</td>\n",
              "      <td>13.05</td>\n",
              "      <td>0.8382</td>\n",
              "      <td>5.175</td>\n",
              "      <td>2.755</td>\n",
              "      <td>4.048</td>\n",
              "      <td>5.263</td>\n",
              "      <td>2</td>\n",
              "    </tr>\n",
              "    <tr>\n",
              "      <th>159</th>\n",
              "      <td>11.49</td>\n",
              "      <td>13.22</td>\n",
              "      <td>0.8263</td>\n",
              "      <td>5.304</td>\n",
              "      <td>2.695</td>\n",
              "      <td>5.388</td>\n",
              "      <td>5.310</td>\n",
              "      <td>2</td>\n",
              "    </tr>\n",
              "    <tr>\n",
              "      <th>160</th>\n",
              "      <td>12.54</td>\n",
              "      <td>13.67</td>\n",
              "      <td>0.8425</td>\n",
              "      <td>5.451</td>\n",
              "      <td>2.879</td>\n",
              "      <td>3.082</td>\n",
              "      <td>5.491</td>\n",
              "      <td>2</td>\n",
              "    </tr>\n",
              "    <tr>\n",
              "      <th>164</th>\n",
              "      <td>11.14</td>\n",
              "      <td>12.79</td>\n",
              "      <td>0.8558</td>\n",
              "      <td>5.011</td>\n",
              "      <td>2.794</td>\n",
              "      <td>6.388</td>\n",
              "      <td>5.049</td>\n",
              "      <td>2</td>\n",
              "    </tr>\n",
              "    <tr>\n",
              "      <th>175</th>\n",
              "      <td>10.80</td>\n",
              "      <td>12.57</td>\n",
              "      <td>0.8590</td>\n",
              "      <td>4.981</td>\n",
              "      <td>2.821</td>\n",
              "      <td>4.773</td>\n",
              "      <td>5.063</td>\n",
              "      <td>2</td>\n",
              "    </tr>\n",
              "    <tr>\n",
              "      <th>183</th>\n",
              "      <td>11.65</td>\n",
              "      <td>13.07</td>\n",
              "      <td>0.8575</td>\n",
              "      <td>5.108</td>\n",
              "      <td>2.850</td>\n",
              "      <td>5.209</td>\n",
              "      <td>5.135</td>\n",
              "      <td>2</td>\n",
              "    </tr>\n",
              "  </tbody>\n",
              "</table>\n",
              "</div>"
            ],
            "text/plain": [
              "      area  perimeter  ...  kernel_groove_length  target\n",
              "80   16.53      15.34  ...                 5.880       1\n",
              "85   18.27      16.09  ...                 6.197       1\n",
              "86   18.88      16.26  ...                 6.109       1\n",
              "97   18.98      16.57  ...                 6.453       1\n",
              "98   18.17      16.26  ...                 6.273       1\n",
              "106  18.85      16.17  ...                 6.200       1\n",
              "134  15.56      14.89  ...                 5.847       1\n",
              "139  16.23      15.18  ...                 5.922       1\n",
              "150  11.83      13.23  ...                 5.307       2\n",
              "154  11.36      13.05  ...                 5.263       2\n",
              "159  11.49      13.22  ...                 5.310       2\n",
              "160  12.54      13.67  ...                 5.491       2\n",
              "164  11.14      12.79  ...                 5.049       2\n",
              "175  10.80      12.57  ...                 5.063       2\n",
              "183  11.65      13.07  ...                 5.135       2\n",
              "\n",
              "[15 rows x 8 columns]"
            ]
          },
          "metadata": {},
          "execution_count": 26
        }
      ]
    },
    {
      "cell_type": "code",
      "metadata": {
        "colab": {
          "base_uri": "https://localhost:8080/",
          "height": 423
        },
        "id": "_J3lCNKAsfbm",
        "outputId": "499c5d07-4781-48a3-8efb-07047cc2e7df"
      },
      "source": [
        "# Obtain a clean DataFrame\n",
        "clean_df = wheat_df[wheat_df['kernel_groove_length'] < wheat_df['kernel_length']]\n",
        "clean_df"
      ],
      "execution_count": null,
      "outputs": [
        {
          "output_type": "execute_result",
          "data": {
            "text/html": [
              "<div>\n",
              "<style scoped>\n",
              "    .dataframe tbody tr th:only-of-type {\n",
              "        vertical-align: middle;\n",
              "    }\n",
              "\n",
              "    .dataframe tbody tr th {\n",
              "        vertical-align: top;\n",
              "    }\n",
              "\n",
              "    .dataframe thead th {\n",
              "        text-align: right;\n",
              "    }\n",
              "</style>\n",
              "<table border=\"1\" class=\"dataframe\">\n",
              "  <thead>\n",
              "    <tr style=\"text-align: right;\">\n",
              "      <th></th>\n",
              "      <th>area</th>\n",
              "      <th>perimeter</th>\n",
              "      <th>compactness</th>\n",
              "      <th>kernel_length</th>\n",
              "      <th>kernel_width</th>\n",
              "      <th>asymmetry_coefficient</th>\n",
              "      <th>kernel_groove_length</th>\n",
              "      <th>target</th>\n",
              "    </tr>\n",
              "  </thead>\n",
              "  <tbody>\n",
              "    <tr>\n",
              "      <th>0</th>\n",
              "      <td>15.26</td>\n",
              "      <td>14.84</td>\n",
              "      <td>0.8710</td>\n",
              "      <td>5.763</td>\n",
              "      <td>3.312</td>\n",
              "      <td>2.221</td>\n",
              "      <td>5.220</td>\n",
              "      <td>0</td>\n",
              "    </tr>\n",
              "    <tr>\n",
              "      <th>1</th>\n",
              "      <td>14.88</td>\n",
              "      <td>14.57</td>\n",
              "      <td>0.8811</td>\n",
              "      <td>5.554</td>\n",
              "      <td>3.333</td>\n",
              "      <td>1.018</td>\n",
              "      <td>4.956</td>\n",
              "      <td>0</td>\n",
              "    </tr>\n",
              "    <tr>\n",
              "      <th>2</th>\n",
              "      <td>14.29</td>\n",
              "      <td>14.09</td>\n",
              "      <td>0.9050</td>\n",
              "      <td>5.291</td>\n",
              "      <td>3.337</td>\n",
              "      <td>2.699</td>\n",
              "      <td>4.825</td>\n",
              "      <td>0</td>\n",
              "    </tr>\n",
              "    <tr>\n",
              "      <th>3</th>\n",
              "      <td>13.84</td>\n",
              "      <td>13.94</td>\n",
              "      <td>0.8955</td>\n",
              "      <td>5.324</td>\n",
              "      <td>3.379</td>\n",
              "      <td>2.259</td>\n",
              "      <td>4.805</td>\n",
              "      <td>0</td>\n",
              "    </tr>\n",
              "    <tr>\n",
              "      <th>4</th>\n",
              "      <td>16.14</td>\n",
              "      <td>14.99</td>\n",
              "      <td>0.9034</td>\n",
              "      <td>5.658</td>\n",
              "      <td>3.562</td>\n",
              "      <td>1.355</td>\n",
              "      <td>5.175</td>\n",
              "      <td>0</td>\n",
              "    </tr>\n",
              "    <tr>\n",
              "      <th>...</th>\n",
              "      <td>...</td>\n",
              "      <td>...</td>\n",
              "      <td>...</td>\n",
              "      <td>...</td>\n",
              "      <td>...</td>\n",
              "      <td>...</td>\n",
              "      <td>...</td>\n",
              "      <td>...</td>\n",
              "    </tr>\n",
              "    <tr>\n",
              "      <th>205</th>\n",
              "      <td>12.19</td>\n",
              "      <td>13.20</td>\n",
              "      <td>0.8783</td>\n",
              "      <td>5.137</td>\n",
              "      <td>2.981</td>\n",
              "      <td>3.631</td>\n",
              "      <td>4.870</td>\n",
              "      <td>2</td>\n",
              "    </tr>\n",
              "    <tr>\n",
              "      <th>206</th>\n",
              "      <td>11.23</td>\n",
              "      <td>12.88</td>\n",
              "      <td>0.8511</td>\n",
              "      <td>5.140</td>\n",
              "      <td>2.795</td>\n",
              "      <td>4.325</td>\n",
              "      <td>5.003</td>\n",
              "      <td>2</td>\n",
              "    </tr>\n",
              "    <tr>\n",
              "      <th>207</th>\n",
              "      <td>13.20</td>\n",
              "      <td>13.66</td>\n",
              "      <td>0.8883</td>\n",
              "      <td>5.236</td>\n",
              "      <td>3.232</td>\n",
              "      <td>8.315</td>\n",
              "      <td>5.056</td>\n",
              "      <td>2</td>\n",
              "    </tr>\n",
              "    <tr>\n",
              "      <th>208</th>\n",
              "      <td>11.84</td>\n",
              "      <td>13.21</td>\n",
              "      <td>0.8521</td>\n",
              "      <td>5.175</td>\n",
              "      <td>2.836</td>\n",
              "      <td>3.598</td>\n",
              "      <td>5.044</td>\n",
              "      <td>2</td>\n",
              "    </tr>\n",
              "    <tr>\n",
              "      <th>209</th>\n",
              "      <td>12.30</td>\n",
              "      <td>13.34</td>\n",
              "      <td>0.8684</td>\n",
              "      <td>5.243</td>\n",
              "      <td>2.974</td>\n",
              "      <td>5.637</td>\n",
              "      <td>5.063</td>\n",
              "      <td>2</td>\n",
              "    </tr>\n",
              "  </tbody>\n",
              "</table>\n",
              "<p>194 rows × 8 columns</p>\n",
              "</div>"
            ],
            "text/plain": [
              "      area  perimeter  ...  kernel_groove_length  target\n",
              "0    15.26      14.84  ...                 5.220       0\n",
              "1    14.88      14.57  ...                 4.956       0\n",
              "2    14.29      14.09  ...                 4.825       0\n",
              "3    13.84      13.94  ...                 4.805       0\n",
              "4    16.14      14.99  ...                 5.175       0\n",
              "..     ...        ...  ...                   ...     ...\n",
              "205  12.19      13.20  ...                 4.870       2\n",
              "206  11.23      12.88  ...                 5.003       2\n",
              "207  13.20      13.66  ...                 5.056       2\n",
              "208  11.84      13.21  ...                 5.044       2\n",
              "209  12.30      13.34  ...                 5.063       2\n",
              "\n",
              "[194 rows x 8 columns]"
            ]
          },
          "metadata": {},
          "execution_count": 27
        }
      ]
    },
    {
      "cell_type": "code",
      "metadata": {
        "colab": {
          "base_uri": "https://localhost:8080/",
          "height": 206
        },
        "id": "24jQWK9Vsh0e",
        "outputId": "975c99c7-dc6a-4759-e38f-2b27c3425088"
      },
      "source": [
        "# Create a duplicate copy of the 'clean_df' DataFrame.\n",
        "validation_df = clean_df.copy()\n",
        "validation_df.head()"
      ],
      "execution_count": null,
      "outputs": [
        {
          "output_type": "execute_result",
          "data": {
            "text/html": [
              "<div>\n",
              "<style scoped>\n",
              "    .dataframe tbody tr th:only-of-type {\n",
              "        vertical-align: middle;\n",
              "    }\n",
              "\n",
              "    .dataframe tbody tr th {\n",
              "        vertical-align: top;\n",
              "    }\n",
              "\n",
              "    .dataframe thead th {\n",
              "        text-align: right;\n",
              "    }\n",
              "</style>\n",
              "<table border=\"1\" class=\"dataframe\">\n",
              "  <thead>\n",
              "    <tr style=\"text-align: right;\">\n",
              "      <th></th>\n",
              "      <th>area</th>\n",
              "      <th>perimeter</th>\n",
              "      <th>compactness</th>\n",
              "      <th>kernel_length</th>\n",
              "      <th>kernel_width</th>\n",
              "      <th>asymmetry_coefficient</th>\n",
              "      <th>kernel_groove_length</th>\n",
              "      <th>target</th>\n",
              "    </tr>\n",
              "  </thead>\n",
              "  <tbody>\n",
              "    <tr>\n",
              "      <th>0</th>\n",
              "      <td>15.26</td>\n",
              "      <td>14.84</td>\n",
              "      <td>0.8710</td>\n",
              "      <td>5.763</td>\n",
              "      <td>3.312</td>\n",
              "      <td>2.221</td>\n",
              "      <td>5.220</td>\n",
              "      <td>0</td>\n",
              "    </tr>\n",
              "    <tr>\n",
              "      <th>1</th>\n",
              "      <td>14.88</td>\n",
              "      <td>14.57</td>\n",
              "      <td>0.8811</td>\n",
              "      <td>5.554</td>\n",
              "      <td>3.333</td>\n",
              "      <td>1.018</td>\n",
              "      <td>4.956</td>\n",
              "      <td>0</td>\n",
              "    </tr>\n",
              "    <tr>\n",
              "      <th>2</th>\n",
              "      <td>14.29</td>\n",
              "      <td>14.09</td>\n",
              "      <td>0.9050</td>\n",
              "      <td>5.291</td>\n",
              "      <td>3.337</td>\n",
              "      <td>2.699</td>\n",
              "      <td>4.825</td>\n",
              "      <td>0</td>\n",
              "    </tr>\n",
              "    <tr>\n",
              "      <th>3</th>\n",
              "      <td>13.84</td>\n",
              "      <td>13.94</td>\n",
              "      <td>0.8955</td>\n",
              "      <td>5.324</td>\n",
              "      <td>3.379</td>\n",
              "      <td>2.259</td>\n",
              "      <td>4.805</td>\n",
              "      <td>0</td>\n",
              "    </tr>\n",
              "    <tr>\n",
              "      <th>4</th>\n",
              "      <td>16.14</td>\n",
              "      <td>14.99</td>\n",
              "      <td>0.9034</td>\n",
              "      <td>5.658</td>\n",
              "      <td>3.562</td>\n",
              "      <td>1.355</td>\n",
              "      <td>5.175</td>\n",
              "      <td>0</td>\n",
              "    </tr>\n",
              "  </tbody>\n",
              "</table>\n",
              "</div>"
            ],
            "text/plain": [
              "    area  perimeter  ...  kernel_groove_length  target\n",
              "0  15.26      14.84  ...                 5.220       0\n",
              "1  14.88      14.57  ...                 4.956       0\n",
              "2  14.29      14.09  ...                 4.825       0\n",
              "3  13.84      13.94  ...                 4.805       0\n",
              "4  16.14      14.99  ...                 5.175       0\n",
              "\n",
              "[5 rows x 8 columns]"
            ]
          },
          "metadata": {},
          "execution_count": 28
        }
      ]
    },
    {
      "cell_type": "code",
      "metadata": {
        "colab": {
          "base_uri": "https://localhost:8080/",
          "height": 423
        },
        "id": "no-qkn99sloO",
        "outputId": "62b7f62b-2458-4290-cc81-633c5b1258a0"
      },
      "source": [
        "# Calculate the compactness value using the given formula\n",
        "import math\n",
        "validation_df['compactness_formula'] = (validation_df['area'] * 4 * (math.pi)) / (validation_df['perimeter'] ** 2)\n",
        "validation_df"
      ],
      "execution_count": null,
      "outputs": [
        {
          "output_type": "execute_result",
          "data": {
            "text/html": [
              "<div>\n",
              "<style scoped>\n",
              "    .dataframe tbody tr th:only-of-type {\n",
              "        vertical-align: middle;\n",
              "    }\n",
              "\n",
              "    .dataframe tbody tr th {\n",
              "        vertical-align: top;\n",
              "    }\n",
              "\n",
              "    .dataframe thead th {\n",
              "        text-align: right;\n",
              "    }\n",
              "</style>\n",
              "<table border=\"1\" class=\"dataframe\">\n",
              "  <thead>\n",
              "    <tr style=\"text-align: right;\">\n",
              "      <th></th>\n",
              "      <th>area</th>\n",
              "      <th>perimeter</th>\n",
              "      <th>compactness</th>\n",
              "      <th>kernel_length</th>\n",
              "      <th>kernel_width</th>\n",
              "      <th>asymmetry_coefficient</th>\n",
              "      <th>kernel_groove_length</th>\n",
              "      <th>target</th>\n",
              "      <th>compactness_formula</th>\n",
              "    </tr>\n",
              "  </thead>\n",
              "  <tbody>\n",
              "    <tr>\n",
              "      <th>0</th>\n",
              "      <td>15.26</td>\n",
              "      <td>14.84</td>\n",
              "      <td>0.8710</td>\n",
              "      <td>5.763</td>\n",
              "      <td>3.312</td>\n",
              "      <td>2.221</td>\n",
              "      <td>5.220</td>\n",
              "      <td>0</td>\n",
              "      <td>0.870756</td>\n",
              "    </tr>\n",
              "    <tr>\n",
              "      <th>1</th>\n",
              "      <td>14.88</td>\n",
              "      <td>14.57</td>\n",
              "      <td>0.8811</td>\n",
              "      <td>5.554</td>\n",
              "      <td>3.333</td>\n",
              "      <td>1.018</td>\n",
              "      <td>4.956</td>\n",
              "      <td>0</td>\n",
              "      <td>0.880833</td>\n",
              "    </tr>\n",
              "    <tr>\n",
              "      <th>2</th>\n",
              "      <td>14.29</td>\n",
              "      <td>14.09</td>\n",
              "      <td>0.9050</td>\n",
              "      <td>5.291</td>\n",
              "      <td>3.337</td>\n",
              "      <td>2.699</td>\n",
              "      <td>4.825</td>\n",
              "      <td>0</td>\n",
              "      <td>0.904524</td>\n",
              "    </tr>\n",
              "    <tr>\n",
              "      <th>3</th>\n",
              "      <td>13.84</td>\n",
              "      <td>13.94</td>\n",
              "      <td>0.8955</td>\n",
              "      <td>5.324</td>\n",
              "      <td>3.379</td>\n",
              "      <td>2.259</td>\n",
              "      <td>4.805</td>\n",
              "      <td>0</td>\n",
              "      <td>0.894995</td>\n",
              "    </tr>\n",
              "    <tr>\n",
              "      <th>4</th>\n",
              "      <td>16.14</td>\n",
              "      <td>14.99</td>\n",
              "      <td>0.9034</td>\n",
              "      <td>5.658</td>\n",
              "      <td>3.562</td>\n",
              "      <td>1.355</td>\n",
              "      <td>5.175</td>\n",
              "      <td>0</td>\n",
              "      <td>0.902631</td>\n",
              "    </tr>\n",
              "    <tr>\n",
              "      <th>...</th>\n",
              "      <td>...</td>\n",
              "      <td>...</td>\n",
              "      <td>...</td>\n",
              "      <td>...</td>\n",
              "      <td>...</td>\n",
              "      <td>...</td>\n",
              "      <td>...</td>\n",
              "      <td>...</td>\n",
              "      <td>...</td>\n",
              "    </tr>\n",
              "    <tr>\n",
              "      <th>205</th>\n",
              "      <td>12.19</td>\n",
              "      <td>13.20</td>\n",
              "      <td>0.8783</td>\n",
              "      <td>5.137</td>\n",
              "      <td>2.981</td>\n",
              "      <td>3.631</td>\n",
              "      <td>4.870</td>\n",
              "      <td>2</td>\n",
              "      <td>0.879156</td>\n",
              "    </tr>\n",
              "    <tr>\n",
              "      <th>206</th>\n",
              "      <td>11.23</td>\n",
              "      <td>12.88</td>\n",
              "      <td>0.8511</td>\n",
              "      <td>5.140</td>\n",
              "      <td>2.795</td>\n",
              "      <td>4.325</td>\n",
              "      <td>5.003</td>\n",
              "      <td>2</td>\n",
              "      <td>0.850664</td>\n",
              "    </tr>\n",
              "    <tr>\n",
              "      <th>207</th>\n",
              "      <td>13.20</td>\n",
              "      <td>13.66</td>\n",
              "      <td>0.8883</td>\n",
              "      <td>5.236</td>\n",
              "      <td>3.232</td>\n",
              "      <td>8.315</td>\n",
              "      <td>5.056</td>\n",
              "      <td>2</td>\n",
              "      <td>0.888960</td>\n",
              "    </tr>\n",
              "    <tr>\n",
              "      <th>208</th>\n",
              "      <td>11.84</td>\n",
              "      <td>13.21</td>\n",
              "      <td>0.8521</td>\n",
              "      <td>5.175</td>\n",
              "      <td>2.836</td>\n",
              "      <td>3.598</td>\n",
              "      <td>5.044</td>\n",
              "      <td>2</td>\n",
              "      <td>0.852621</td>\n",
              "    </tr>\n",
              "    <tr>\n",
              "      <th>209</th>\n",
              "      <td>12.30</td>\n",
              "      <td>13.34</td>\n",
              "      <td>0.8684</td>\n",
              "      <td>5.243</td>\n",
              "      <td>2.974</td>\n",
              "      <td>5.637</td>\n",
              "      <td>5.063</td>\n",
              "      <td>2</td>\n",
              "      <td>0.868567</td>\n",
              "    </tr>\n",
              "  </tbody>\n",
              "</table>\n",
              "<p>194 rows × 9 columns</p>\n",
              "</div>"
            ],
            "text/plain": [
              "      area  perimeter  ...  target  compactness_formula\n",
              "0    15.26      14.84  ...       0             0.870756\n",
              "1    14.88      14.57  ...       0             0.880833\n",
              "2    14.29      14.09  ...       0             0.904524\n",
              "3    13.84      13.94  ...       0             0.894995\n",
              "4    16.14      14.99  ...       0             0.902631\n",
              "..     ...        ...  ...     ...                  ...\n",
              "205  12.19      13.20  ...       2             0.879156\n",
              "206  11.23      12.88  ...       2             0.850664\n",
              "207  13.20      13.66  ...       2             0.888960\n",
              "208  11.84      13.21  ...       2             0.852621\n",
              "209  12.30      13.34  ...       2             0.868567\n",
              "\n",
              "[194 rows x 9 columns]"
            ]
          },
          "metadata": {},
          "execution_count": 29
        }
      ]
    },
    {
      "cell_type": "code",
      "metadata": {
        "colab": {
          "base_uri": "https://localhost:8080/",
          "height": 50
        },
        "id": "pZZRpKpdsoL-",
        "outputId": "4a0081c4-9013-493b-dec9-f18b49eb8b59"
      },
      "source": [
        "# Check for anomalies in 'compactness' feature\n",
        "validation_df[validation_df['compactness'] - validation_df['compactness_formula'] > 0.01]"
      ],
      "execution_count": null,
      "outputs": [
        {
          "output_type": "execute_result",
          "data": {
            "text/html": [
              "<div>\n",
              "<style scoped>\n",
              "    .dataframe tbody tr th:only-of-type {\n",
              "        vertical-align: middle;\n",
              "    }\n",
              "\n",
              "    .dataframe tbody tr th {\n",
              "        vertical-align: top;\n",
              "    }\n",
              "\n",
              "    .dataframe thead th {\n",
              "        text-align: right;\n",
              "    }\n",
              "</style>\n",
              "<table border=\"1\" class=\"dataframe\">\n",
              "  <thead>\n",
              "    <tr style=\"text-align: right;\">\n",
              "      <th></th>\n",
              "      <th>area</th>\n",
              "      <th>perimeter</th>\n",
              "      <th>compactness</th>\n",
              "      <th>kernel_length</th>\n",
              "      <th>kernel_width</th>\n",
              "      <th>asymmetry_coefficient</th>\n",
              "      <th>kernel_groove_length</th>\n",
              "      <th>target</th>\n",
              "      <th>compactness_formula</th>\n",
              "    </tr>\n",
              "  </thead>\n",
              "  <tbody>\n",
              "  </tbody>\n",
              "</table>\n",
              "</div>"
            ],
            "text/plain": [
              "Empty DataFrame\n",
              "Columns: [area, perimeter, compactness, kernel_length, kernel_width, asymmetry_coefficient, kernel_groove_length, target, compactness_formula]\n",
              "Index: []"
            ]
          },
          "metadata": {},
          "execution_count": 30
        }
      ]
    },
    {
      "cell_type": "markdown",
      "metadata": {
        "id": "_D_22e-MstXe"
      },
      "source": [
        "---"
      ]
    },
    {
      "cell_type": "markdown",
      "metadata": {
        "id": "FJukgoUVsxoy"
      },
      "source": [
        "#### Applying PCA\n",
        "\n",
        "By doing PCA, a major chunk of the information of the entire dataset is effectively compressed into fewer columns.\n",
        "\n",
        "Let us first implement PCA using `sklearn` library and then we will discuss the complete concept behind the PCA algorithm in the later section.\n",
        "\n",
        "Before applying PCA, let us obtain a new DataFrame containing only feature variables.\n"
      ]
    },
    {
      "cell_type": "code",
      "metadata": {
        "colab": {
          "base_uri": "https://localhost:8080/",
          "height": 206
        },
        "id": "ZddzBmyjs1sF",
        "outputId": "8ab4a3da-34bd-4e59-8694-975d9fa0a068"
      },
      "source": [
        "# Create a DataFrame having only feature variables\n",
        "wheat_features = clean_df.drop(['target'], axis = 1)\n",
        "wheat_features.head()"
      ],
      "execution_count": null,
      "outputs": [
        {
          "output_type": "execute_result",
          "data": {
            "text/html": [
              "<div>\n",
              "<style scoped>\n",
              "    .dataframe tbody tr th:only-of-type {\n",
              "        vertical-align: middle;\n",
              "    }\n",
              "\n",
              "    .dataframe tbody tr th {\n",
              "        vertical-align: top;\n",
              "    }\n",
              "\n",
              "    .dataframe thead th {\n",
              "        text-align: right;\n",
              "    }\n",
              "</style>\n",
              "<table border=\"1\" class=\"dataframe\">\n",
              "  <thead>\n",
              "    <tr style=\"text-align: right;\">\n",
              "      <th></th>\n",
              "      <th>area</th>\n",
              "      <th>perimeter</th>\n",
              "      <th>compactness</th>\n",
              "      <th>kernel_length</th>\n",
              "      <th>kernel_width</th>\n",
              "      <th>asymmetry_coefficient</th>\n",
              "      <th>kernel_groove_length</th>\n",
              "    </tr>\n",
              "  </thead>\n",
              "  <tbody>\n",
              "    <tr>\n",
              "      <th>0</th>\n",
              "      <td>15.26</td>\n",
              "      <td>14.84</td>\n",
              "      <td>0.8710</td>\n",
              "      <td>5.763</td>\n",
              "      <td>3.312</td>\n",
              "      <td>2.221</td>\n",
              "      <td>5.220</td>\n",
              "    </tr>\n",
              "    <tr>\n",
              "      <th>1</th>\n",
              "      <td>14.88</td>\n",
              "      <td>14.57</td>\n",
              "      <td>0.8811</td>\n",
              "      <td>5.554</td>\n",
              "      <td>3.333</td>\n",
              "      <td>1.018</td>\n",
              "      <td>4.956</td>\n",
              "    </tr>\n",
              "    <tr>\n",
              "      <th>2</th>\n",
              "      <td>14.29</td>\n",
              "      <td>14.09</td>\n",
              "      <td>0.9050</td>\n",
              "      <td>5.291</td>\n",
              "      <td>3.337</td>\n",
              "      <td>2.699</td>\n",
              "      <td>4.825</td>\n",
              "    </tr>\n",
              "    <tr>\n",
              "      <th>3</th>\n",
              "      <td>13.84</td>\n",
              "      <td>13.94</td>\n",
              "      <td>0.8955</td>\n",
              "      <td>5.324</td>\n",
              "      <td>3.379</td>\n",
              "      <td>2.259</td>\n",
              "      <td>4.805</td>\n",
              "    </tr>\n",
              "    <tr>\n",
              "      <th>4</th>\n",
              "      <td>16.14</td>\n",
              "      <td>14.99</td>\n",
              "      <td>0.9034</td>\n",
              "      <td>5.658</td>\n",
              "      <td>3.562</td>\n",
              "      <td>1.355</td>\n",
              "      <td>5.175</td>\n",
              "    </tr>\n",
              "  </tbody>\n",
              "</table>\n",
              "</div>"
            ],
            "text/plain": [
              "    area  perimeter  ...  asymmetry_coefficient  kernel_groove_length\n",
              "0  15.26      14.84  ...                  2.221                 5.220\n",
              "1  14.88      14.57  ...                  1.018                 4.956\n",
              "2  14.29      14.09  ...                  2.699                 4.825\n",
              "3  13.84      13.94  ...                  2.259                 4.805\n",
              "4  16.14      14.99  ...                  1.355                 5.175\n",
              "\n",
              "[5 rows x 7 columns]"
            ]
          },
          "metadata": {},
          "execution_count": 31
        }
      ]
    },
    {
      "cell_type": "code",
      "metadata": {
        "colab": {
          "base_uri": "https://localhost:8080/",
          "height": 206
        },
        "id": "ZYxv_mJws4vX",
        "outputId": "d48f83c2-7f20-486d-aae5-7b42be2e9a32"
      },
      "source": [
        "# Normalise the column values.\n",
        "from sklearn.preprocessing import StandardScaler\n",
        "\n",
        "standard_scaler = StandardScaler()\n",
        "scaled_values = standard_scaler.fit_transform(wheat_features)\n",
        "wheat_scaled = pd.DataFrame(scaled_values)\n",
        "wheat_scaled.columns = wheat_features.columns\n",
        "wheat_scaled.head()"
      ],
      "execution_count": null,
      "outputs": [
        {
          "output_type": "execute_result",
          "data": {
            "text/html": [
              "<div>\n",
              "<style scoped>\n",
              "    .dataframe tbody tr th:only-of-type {\n",
              "        vertical-align: middle;\n",
              "    }\n",
              "\n",
              "    .dataframe tbody tr th {\n",
              "        vertical-align: top;\n",
              "    }\n",
              "\n",
              "    .dataframe thead th {\n",
              "        text-align: right;\n",
              "    }\n",
              "</style>\n",
              "<table border=\"1\" class=\"dataframe\">\n",
              "  <thead>\n",
              "    <tr style=\"text-align: right;\">\n",
              "      <th></th>\n",
              "      <th>area</th>\n",
              "      <th>perimeter</th>\n",
              "      <th>compactness</th>\n",
              "      <th>kernel_length</th>\n",
              "      <th>kernel_width</th>\n",
              "      <th>asymmetry_coefficient</th>\n",
              "      <th>kernel_groove_length</th>\n",
              "    </tr>\n",
              "  </thead>\n",
              "  <tbody>\n",
              "    <tr>\n",
              "      <th>0</th>\n",
              "      <td>0.137294</td>\n",
              "      <td>0.211526</td>\n",
              "      <td>-0.012130</td>\n",
              "      <td>0.307200</td>\n",
              "      <td>0.129752</td>\n",
              "      <td>-0.964557</td>\n",
              "      <td>-0.343965</td>\n",
              "    </tr>\n",
              "    <tr>\n",
              "      <th>1</th>\n",
              "      <td>0.005179</td>\n",
              "      <td>0.002040</td>\n",
              "      <td>0.413828</td>\n",
              "      <td>-0.169903</td>\n",
              "      <td>0.185749</td>\n",
              "      <td>-1.762019</td>\n",
              "      <td>-0.887953</td>\n",
              "    </tr>\n",
              "    <tr>\n",
              "      <th>2</th>\n",
              "      <td>-0.199947</td>\n",
              "      <td>-0.370380</td>\n",
              "      <td>1.421788</td>\n",
              "      <td>-0.770278</td>\n",
              "      <td>0.196415</td>\n",
              "      <td>-0.647693</td>\n",
              "      <td>-1.157887</td>\n",
              "    </tr>\n",
              "    <tr>\n",
              "      <th>3</th>\n",
              "      <td>-0.356398</td>\n",
              "      <td>-0.486762</td>\n",
              "      <td>1.021134</td>\n",
              "      <td>-0.694946</td>\n",
              "      <td>0.308408</td>\n",
              "      <td>-0.939367</td>\n",
              "      <td>-1.199098</td>\n",
              "    </tr>\n",
              "    <tr>\n",
              "      <th>4</th>\n",
              "      <td>0.443244</td>\n",
              "      <td>0.327907</td>\n",
              "      <td>1.354309</td>\n",
              "      <td>0.067507</td>\n",
              "      <td>0.796380</td>\n",
              "      <td>-1.538624</td>\n",
              "      <td>-0.436690</td>\n",
              "    </tr>\n",
              "  </tbody>\n",
              "</table>\n",
              "</div>"
            ],
            "text/plain": [
              "       area  perimeter  ...  asymmetry_coefficient  kernel_groove_length\n",
              "0  0.137294   0.211526  ...              -0.964557             -0.343965\n",
              "1  0.005179   0.002040  ...              -1.762019             -0.887953\n",
              "2 -0.199947  -0.370380  ...              -0.647693             -1.157887\n",
              "3 -0.356398  -0.486762  ...              -0.939367             -1.199098\n",
              "4  0.443244   0.327907  ...              -1.538624             -0.436690\n",
              "\n",
              "[5 rows x 7 columns]"
            ]
          },
          "metadata": {},
          "execution_count": 32
        }
      ]
    },
    {
      "cell_type": "markdown",
      "metadata": {
        "id": "f-m97iLdgORy"
      },
      "source": [
        "---"
      ]
    },
    {
      "cell_type": "markdown",
      "metadata": {
        "id": "BAfB97qHiRtX"
      },
      "source": [
        "#### The Recipe of PCA\n",
        "\n",
        "As you might have understood so far, PCA is all about finding Principal Components for which the steps are as follows:\n",
        "\n",
        "1. Take only the features (or dimensions) from a DataFrame.\n",
        "\n",
        "2. Compute the mean for every dimension (or feature) of the whole dataset.\n",
        "\n",
        "3. Compute the covariance matrix of the whole dataset. You will learn this concept in this lesson shortly.\n",
        "\n",
        "4. Compute eigenvectors and the corresponding eigenvalues. You will learn this concept in this lesson shortly.\n",
        "\n",
        "5. Sort the eigenvectors by decreasing eigenvalues and choose $k$ eigenvectors having the greatest eigenvalues to form a $n \\times k$ dimensional matrix, say $W$ i.e., $W_{n \\times k}$ where $n$ is the total number of features (or dimensions) in a DataFrame.\n",
        "\n",
        "6. Use this $W_{n \\times k}$ eigenvector matrix to transform the samples onto the new subspace.\n",
        "\n",
        "<center>\n",
        "<img src=https://s3-whjr-v2-prod-bucket.whjr.online/whjr-v2-prod-bucket/c64fbd2d-4017-490a-a568-ad557a3eac30.png> </center>\n",
        "\n",
        "Let us now manually execute PCA (without `sklearn` module) and reduce the number of dimensions for the scaled wheat kernel dataset.\n",
        "\n"
      ]
    },
    {
      "cell_type": "markdown",
      "metadata": {
        "id": "o7ptGfgMus_I"
      },
      "source": [
        "---"
      ]
    },
    {
      "cell_type": "markdown",
      "metadata": {
        "id": "jE1KJu9ousOp"
      },
      "source": [
        "#### Covariance\n",
        "\n",
        "**Covariance** is a statistical parameter that indicates the relationship between two features (or variables).\n",
        " - If an increase in one variable results in an increase in the other variable, then both the variables are said to have **positive** covariance.\n",
        " - If an increase or decrease in one variable results in an opposite change in the other variable, then both the variables are said to have a **negative** covariance.\n",
        "\n",
        "Now, you might be wondering if this sounds exactly  like **correlation**. Well, not entirely. We will soon find out. Till then, to get a better understanding of both covariances, let's look at their mathematical formula.\n",
        "\n",
        "Let $x_1$ and $x_2$ be two different features of a DataFrame. Then, mathematically, **covariance** is defined as\n",
        "\n",
        "\\begin{align}\n",
        "\\text{cov}(x_1, x_2) = \\frac{1}{N}\\sum_{i = 1} ^N (x_{1i} - \\bar x_1)(x_{2i} - \\bar x_2)\n",
        "\\end{align}\n",
        "\n",
        "Where,\n",
        "\n",
        "- $\\bar x_1$ is the mean value of feature $x_1$\n",
        "- $\\bar x_2$ is the mean value of feature $x_2$\n",
        "- $N$ is the total number of samples in a DataFrame\n",
        "- $i$ is one of the samples in a DataFrame\n",
        "\n",
        "\n",
        "Let us determine the covariance between all the features of the wheat kernel DataFrame.\n",
        "\n",
        "**Step 1:** Get all the features (or dimensions) in an array (or data-frame or matrix) that we have already got and stored in the `wheat_features` variables.\n"
      ]
    },
    {
      "cell_type": "code",
      "metadata": {
        "colab": {
          "base_uri": "https://localhost:8080/",
          "height": 423
        },
        "id": "-Wy9YkKCzKSW",
        "outputId": "e3bb957a-a81d-4209-b5ad-eef61e287786"
      },
      "source": [
        "# Print the features of wheat kernel DataFrame.\n",
        "wheat_features"
      ],
      "execution_count": null,
      "outputs": [
        {
          "output_type": "execute_result",
          "data": {
            "text/html": [
              "<div>\n",
              "<style scoped>\n",
              "    .dataframe tbody tr th:only-of-type {\n",
              "        vertical-align: middle;\n",
              "    }\n",
              "\n",
              "    .dataframe tbody tr th {\n",
              "        vertical-align: top;\n",
              "    }\n",
              "\n",
              "    .dataframe thead th {\n",
              "        text-align: right;\n",
              "    }\n",
              "</style>\n",
              "<table border=\"1\" class=\"dataframe\">\n",
              "  <thead>\n",
              "    <tr style=\"text-align: right;\">\n",
              "      <th></th>\n",
              "      <th>area</th>\n",
              "      <th>perimeter</th>\n",
              "      <th>compactness</th>\n",
              "      <th>kernel_length</th>\n",
              "      <th>kernel_width</th>\n",
              "      <th>asymmetry_coefficient</th>\n",
              "      <th>kernel_groove_length</th>\n",
              "    </tr>\n",
              "  </thead>\n",
              "  <tbody>\n",
              "    <tr>\n",
              "      <th>0</th>\n",
              "      <td>15.26</td>\n",
              "      <td>14.84</td>\n",
              "      <td>0.8710</td>\n",
              "      <td>5.763</td>\n",
              "      <td>3.312</td>\n",
              "      <td>2.221</td>\n",
              "      <td>5.220</td>\n",
              "    </tr>\n",
              "    <tr>\n",
              "      <th>1</th>\n",
              "      <td>14.88</td>\n",
              "      <td>14.57</td>\n",
              "      <td>0.8811</td>\n",
              "      <td>5.554</td>\n",
              "      <td>3.333</td>\n",
              "      <td>1.018</td>\n",
              "      <td>4.956</td>\n",
              "    </tr>\n",
              "    <tr>\n",
              "      <th>2</th>\n",
              "      <td>14.29</td>\n",
              "      <td>14.09</td>\n",
              "      <td>0.9050</td>\n",
              "      <td>5.291</td>\n",
              "      <td>3.337</td>\n",
              "      <td>2.699</td>\n",
              "      <td>4.825</td>\n",
              "    </tr>\n",
              "    <tr>\n",
              "      <th>3</th>\n",
              "      <td>13.84</td>\n",
              "      <td>13.94</td>\n",
              "      <td>0.8955</td>\n",
              "      <td>5.324</td>\n",
              "      <td>3.379</td>\n",
              "      <td>2.259</td>\n",
              "      <td>4.805</td>\n",
              "    </tr>\n",
              "    <tr>\n",
              "      <th>4</th>\n",
              "      <td>16.14</td>\n",
              "      <td>14.99</td>\n",
              "      <td>0.9034</td>\n",
              "      <td>5.658</td>\n",
              "      <td>3.562</td>\n",
              "      <td>1.355</td>\n",
              "      <td>5.175</td>\n",
              "    </tr>\n",
              "    <tr>\n",
              "      <th>...</th>\n",
              "      <td>...</td>\n",
              "      <td>...</td>\n",
              "      <td>...</td>\n",
              "      <td>...</td>\n",
              "      <td>...</td>\n",
              "      <td>...</td>\n",
              "      <td>...</td>\n",
              "    </tr>\n",
              "    <tr>\n",
              "      <th>205</th>\n",
              "      <td>12.19</td>\n",
              "      <td>13.20</td>\n",
              "      <td>0.8783</td>\n",
              "      <td>5.137</td>\n",
              "      <td>2.981</td>\n",
              "      <td>3.631</td>\n",
              "      <td>4.870</td>\n",
              "    </tr>\n",
              "    <tr>\n",
              "      <th>206</th>\n",
              "      <td>11.23</td>\n",
              "      <td>12.88</td>\n",
              "      <td>0.8511</td>\n",
              "      <td>5.140</td>\n",
              "      <td>2.795</td>\n",
              "      <td>4.325</td>\n",
              "      <td>5.003</td>\n",
              "    </tr>\n",
              "    <tr>\n",
              "      <th>207</th>\n",
              "      <td>13.20</td>\n",
              "      <td>13.66</td>\n",
              "      <td>0.8883</td>\n",
              "      <td>5.236</td>\n",
              "      <td>3.232</td>\n",
              "      <td>8.315</td>\n",
              "      <td>5.056</td>\n",
              "    </tr>\n",
              "    <tr>\n",
              "      <th>208</th>\n",
              "      <td>11.84</td>\n",
              "      <td>13.21</td>\n",
              "      <td>0.8521</td>\n",
              "      <td>5.175</td>\n",
              "      <td>2.836</td>\n",
              "      <td>3.598</td>\n",
              "      <td>5.044</td>\n",
              "    </tr>\n",
              "    <tr>\n",
              "      <th>209</th>\n",
              "      <td>12.30</td>\n",
              "      <td>13.34</td>\n",
              "      <td>0.8684</td>\n",
              "      <td>5.243</td>\n",
              "      <td>2.974</td>\n",
              "      <td>5.637</td>\n",
              "      <td>5.063</td>\n",
              "    </tr>\n",
              "  </tbody>\n",
              "</table>\n",
              "<p>194 rows × 7 columns</p>\n",
              "</div>"
            ],
            "text/plain": [
              "      area  perimeter  ...  asymmetry_coefficient  kernel_groove_length\n",
              "0    15.26      14.84  ...                  2.221                 5.220\n",
              "1    14.88      14.57  ...                  1.018                 4.956\n",
              "2    14.29      14.09  ...                  2.699                 4.825\n",
              "3    13.84      13.94  ...                  2.259                 4.805\n",
              "4    16.14      14.99  ...                  1.355                 5.175\n",
              "..     ...        ...  ...                    ...                   ...\n",
              "205  12.19      13.20  ...                  3.631                 4.870\n",
              "206  11.23      12.88  ...                  4.325                 5.003\n",
              "207  13.20      13.66  ...                  8.315                 5.056\n",
              "208  11.84      13.21  ...                  3.598                 5.044\n",
              "209  12.30      13.34  ...                  5.637                 5.063\n",
              "\n",
              "[194 rows x 7 columns]"
            ]
          },
          "metadata": {},
          "execution_count": 33
        }
      ]
    },
    {
      "cell_type": "code",
      "metadata": {
        "colab": {
          "base_uri": "https://localhost:8080/"
        },
        "id": "S_CE6aF8z8te",
        "outputId": "dce36a89-5106-4fbd-c810-144731f390aa"
      },
      "source": [
        "# Compute mean of features\n",
        "wheat_features.mean()"
      ],
      "execution_count": null,
      "outputs": [
        {
          "output_type": "execute_result",
          "data": {
            "text/plain": [
              "area                     14.865103\n",
              "perimeter                14.567371\n",
              "compactness               0.871288\n",
              "kernel_length             5.628428\n",
              "kernel_width              3.263340\n",
              "asymmetry_coefficient     3.676068\n",
              "kernel_groove_length      5.386928\n",
              "dtype: float64"
            ]
          },
          "metadata": {},
          "execution_count": 34
        }
      ]
    },
    {
      "cell_type": "markdown",
      "metadata": {
        "id": "X-MFGBlxy74Y"
      },
      "source": [
        "**Step 3:** Compute the covariance matrix for all the features in the `wheat_features` DatFrame.\n",
        "\n",
        "Instead of using the following formula:\n",
        "\n",
        "\\begin{align}\n",
        "\\text{cov}(x_1, x_2) = \\frac{1}{N}\\sum_{i = 1} ^N (x_{1i} - \\bar x_1)(x_{2i} - \\bar x_2)\n",
        "\\end{align}\n",
        "\n",
        "\n",
        "We will use the `cov()` function of the Pandas module to calculate the covariance values between the features.\n"
      ]
    },
    {
      "cell_type": "code",
      "metadata": {
        "colab": {
          "base_uri": "https://localhost:8080/",
          "height": 268
        },
        "id": "ZURKyFg61HmK",
        "outputId": "19c9785e-1c36-41dc-dc63-cfb43eda1608"
      },
      "source": [
        "# Compute covariance matrix for the wheat kernel DataFrame\n",
        "wheat_features_cov_df = wheat_features.cov()\n",
        "wheat_features_cov_df"
      ],
      "execution_count": null,
      "outputs": [
        {
          "output_type": "execute_result",
          "data": {
            "text/html": [
              "<div>\n",
              "<style scoped>\n",
              "    .dataframe tbody tr th:only-of-type {\n",
              "        vertical-align: middle;\n",
              "    }\n",
              "\n",
              "    .dataframe tbody tr th {\n",
              "        vertical-align: top;\n",
              "    }\n",
              "\n",
              "    .dataframe thead th {\n",
              "        text-align: right;\n",
              "    }\n",
              "</style>\n",
              "<table border=\"1\" class=\"dataframe\">\n",
              "  <thead>\n",
              "    <tr style=\"text-align: right;\">\n",
              "      <th></th>\n",
              "      <th>area</th>\n",
              "      <th>perimeter</th>\n",
              "      <th>compactness</th>\n",
              "      <th>kernel_length</th>\n",
              "      <th>kernel_width</th>\n",
              "      <th>asymmetry_coefficient</th>\n",
              "      <th>kernel_groove_length</th>\n",
              "    </tr>\n",
              "  </thead>\n",
              "  <tbody>\n",
              "    <tr>\n",
              "      <th>area</th>\n",
              "      <td>8.315874</td>\n",
              "      <td>3.704539</td>\n",
              "      <td>0.040995</td>\n",
              "      <td>1.199738</td>\n",
              "      <td>1.052290</td>\n",
              "      <td>-0.828353</td>\n",
              "      <td>1.218330</td>\n",
              "    </tr>\n",
              "    <tr>\n",
              "      <th>perimeter</th>\n",
              "      <td>3.704539</td>\n",
              "      <td>1.669786</td>\n",
              "      <td>0.015873</td>\n",
              "      <td>0.550923</td>\n",
              "      <td>0.458613</td>\n",
              "      <td>-0.344486</td>\n",
              "      <td>0.564172</td>\n",
              "    </tr>\n",
              "    <tr>\n",
              "      <th>compactness</th>\n",
              "      <td>0.040995</td>\n",
              "      <td>0.015873</td>\n",
              "      <td>0.000565</td>\n",
              "      <td>0.003642</td>\n",
              "      <td>0.006741</td>\n",
              "      <td>-0.011537</td>\n",
              "      <td>0.002409</td>\n",
              "    </tr>\n",
              "    <tr>\n",
              "      <th>kernel_length</th>\n",
              "      <td>1.199738</td>\n",
              "      <td>0.550923</td>\n",
              "      <td>0.003642</td>\n",
              "      <td>0.192891</td>\n",
              "      <td>0.141289</td>\n",
              "      <td>-0.085096</td>\n",
              "      <td>0.200653</td>\n",
              "    </tr>\n",
              "    <tr>\n",
              "      <th>kernel_width</th>\n",
              "      <td>1.052290</td>\n",
              "      <td>0.458613</td>\n",
              "      <td>0.006741</td>\n",
              "      <td>0.141289</td>\n",
              "      <td>0.141370</td>\n",
              "      <td>-0.127982</td>\n",
              "      <td>0.137488</td>\n",
              "    </tr>\n",
              "    <tr>\n",
              "      <th>asymmetry_coefficient</th>\n",
              "      <td>-0.828353</td>\n",
              "      <td>-0.344486</td>\n",
              "      <td>-0.011537</td>\n",
              "      <td>-0.085096</td>\n",
              "      <td>-0.127982</td>\n",
              "      <td>2.287469</td>\n",
              "      <td>0.022468</td>\n",
              "    </tr>\n",
              "    <tr>\n",
              "      <th>kernel_groove_length</th>\n",
              "      <td>1.218330</td>\n",
              "      <td>0.564172</td>\n",
              "      <td>0.002409</td>\n",
              "      <td>0.200653</td>\n",
              "      <td>0.137488</td>\n",
              "      <td>0.022468</td>\n",
              "      <td>0.236741</td>\n",
              "    </tr>\n",
              "  </tbody>\n",
              "</table>\n",
              "</div>"
            ],
            "text/plain": [
              "                           area  ...  kernel_groove_length\n",
              "area                   8.315874  ...              1.218330\n",
              "perimeter              3.704539  ...              0.564172\n",
              "compactness            0.040995  ...              0.002409\n",
              "kernel_length          1.199738  ...              0.200653\n",
              "kernel_width           1.052290  ...              0.137488\n",
              "asymmetry_coefficient -0.828353  ...              0.022468\n",
              "kernel_groove_length   1.218330  ...              0.236741\n",
              "\n",
              "[7 rows x 7 columns]"
            ]
          },
          "metadata": {},
          "execution_count": 35
        }
      ]
    },
    {
      "cell_type": "markdown",
      "metadata": {
        "id": "PVQjUVyu6sco"
      },
      "source": [
        "Notice that the covariance values do not necessarily range between $-1$ to $1$ which is the case with correlation.\n",
        "\n",
        "Let's create a heatmap for the above covariance matrix."
      ]
    },
    {
      "cell_type": "code",
      "metadata": {
        "colab": {
          "base_uri": "https://localhost:8080/",
          "height": 582
        },
        "id": "7RW703rY6wGf",
        "outputId": "338aa780-f7e3-4d7b-fa70-47860eb09120"
      },
      "source": [
        "# Create a covariance heatmap\n",
        "plt.figure(figsize = (10, 5), dpi = 100)\n",
        "sns.heatmap(wheat_features_cov_df, annot = True, cmap = 'YlGnBu')\n",
        "plt.show()"
      ],
      "execution_count": null,
      "outputs": [
        {
          "output_type": "display_data",
          "data": {
            "image/png": "[encoded data removed]",
            "text/plain": [
              "<Figure size 1000x500 with 2 Axes>"
            ]
          },
          "metadata": {
            "needs_background": "light"
          }
        }
      ]
    },
    {
      "cell_type": "markdown",
      "metadata": {
        "id": "_siuSu2p7G7I"
      },
      "source": [
        "\n",
        "\n",
        "We can see that `'area'` and `'perimeter'` columns have the highest positive covariance. This shouldn't be surprising because both area and perimeter of any object are highly dependent on each other. So, let's create a scatter plot between them."
      ]
    },
    {
      "cell_type": "code",
      "metadata": {
        "colab": {
          "base_uri": "https://localhost:8080/",
          "height": 434
        },
        "id": "PcRx6f5R2JS-",
        "outputId": "e00f8a6a-ad7b-4bc2-b3c9-e7ecbf66b7bd"
      },
      "source": [
        "# Create a scatterplot between area and perimeter.\n",
        "plt.figure(figsize = (9, 4), dpi = 108)\n",
        "plt.title(\"Scatter Plot Between Area and Perimeter\")\n",
        "sns.scatterplot(x = 'area', y = 'perimeter', data = wheat_features)\n",
        "plt.show()"
      ],
      "execution_count": null,
      "outputs": [
        {
          "output_type": "display_data",
          "data": {
            "image/png": "[encoded data removed]",
            "text/plain": [
              "<Figure size 972x432 with 1 Axes>"
            ]
          },
          "metadata": {
            "needs_background": "light"
          }
        }
      ]
    },
    {
      "cell_type": "markdown",
      "metadata": {
        "id": "rgZS7Ni_8HiO"
      },
      "source": [
        "The above scatter plot confirms that as the `area` increases, the `perimeter` also increases and vice versa.\n",
        "\n",
        "The features `'area'` and `'asymmetry_coefficient'` have the greatest negative correlation (`-0.83`). So, let's create a scatter plot between them."
      ]
    },
    {
      "cell_type": "code",
      "metadata": {
        "colab": {
          "base_uri": "https://localhost:8080/",
          "height": 434
        },
        "id": "EYKcSoyM2ZEF",
        "outputId": "0a937de9-dea2-473c-d06f-8668e50620db"
      },
      "source": [
        "# Create a scatterplot between area and asymmetry coefficient.\n",
        "plt.figure(figsize = (9, 4), dpi = 108)\n",
        "plt.title(\"Scatter Plot Between Area and Asymmetry Coefficient\")\n",
        "sns.scatterplot(x = 'area', y = 'asymmetry_coefficient', data = wheat_features)\n",
        "plt.show()"
      ],
      "execution_count": null,
      "outputs": [
        {
          "output_type": "display_data",
          "data": {
            "image/png": "[encoded data removed]",
            "text/plain": [
              "<Figure size 972x432 with 1 Axes>"
            ]
          },
          "metadata": {
            "needs_background": "light"
          }
        }
      ]
    },
    {
      "cell_type": "markdown",
      "metadata": {
        "id": "ubrzaSnz9Qzo"
      },
      "source": [
        "When the negative covariance is very high, the slope of the straight line that fits the scatters in a plot, has a negative slope.\n",
        "\n",
        "The above plot isn't the ideal example to understand negative covariance. Hence, let's create new arrays that will have a negative covariance with each other and then plot them through a scatter plot."
      ]
    },
    {
      "cell_type": "code",
      "metadata": {
        "colab": {
          "base_uri": "https://localhost:8080/",
          "height": 415
        },
        "id": "RSMPoaCg_j5t",
        "outputId": "15ec166b-d947-4c34-8f6d-570e05e76525"
      },
      "source": [
        "# Demonstrate negative covariance\n",
        "array1 = np.random.randint(low = -100, high = 100, size = 194)\n",
        "array2 =  - (0.5 * array1 + 3 * wheat_features['area'].values)\n",
        "\n",
        "plt.figure(figsize = (9, 4), dpi = 108)\n",
        "plt.xlabel(\"array1\")\n",
        "plt.ylabel(\"array2\")\n",
        "plt.scatter(array1, array2)\n",
        "plt.show()"
      ],
      "execution_count": null,
      "outputs": [
        {
          "output_type": "display_data",
          "data": {
            "image/png": "[encoded data removed]",
            "text/plain": [
              "<Figure size 972x432 with 1 Axes>"
            ]
          },
          "metadata": {
            "needs_background": "light"
          }
        }
      ]
    },
    {
      "cell_type": "markdown",
      "metadata": {
        "id": "9xV7VsiyxbBI"
      },
      "source": [
        "Hence, the above scatterplot demonstrates how negative covariance looks like.\n",
        "\n",
        "As you can see, much like correlation, covariance too tells the kind of relationship the two variables are having. Let us understand the difference between these two terms.\n",
        "\n",
        "**Difference Between Covariance and Correlation:**\n",
        "\n",
        "- **Covariance** indicates the direction of the linear relationship between variables.\n",
        "- **Correlation**, on the other hand, measures both the strength and direction of the linear relationship between two variables.\n",
        "- Correlation is a function of covariance.\n",
        "- Another key difference between them is the fact that correlation values are standardised (lies between $-1$ and $1$) whereas, covariance values are not.\n",
        "\n",
        "Mathematically, correlation is defined as\n",
        "\n",
        "\\begin{align}\n",
        "r = \\frac{\\sum_{i = 1} ^N (x_{1i} - \\bar x_1)(x_{2i} - \\bar x_2)}{\\sqrt{\\sum_{i = 1} ^N (x_{1i} - \\bar x_1)^2 \\sum_{i = 1} ^N(x_{2i} - \\bar x_2)^2}}\n",
        "\\end{align}\n",
        "\n",
        "Where,\n",
        "\n",
        "- $r$ is\tthe correlation coefficient.\n",
        "\n",
        "- $x_{1i}$ is the value of some $i^{\\text{th}}$ sample of the $x_1$ feature in a DataFrame.\n",
        "\n",
        "- $x_{2i}$ is the value of some $i^{\\text{th}}$ sample of the $x_2$ feature in a DataFrame.\n",
        "\n",
        "- $\\bar{x}_1$\tis the mean of the values of the $x_1$ feature in a DataFrame.\n",
        "\n",
        "- $\\bar{x}_2$\tis the mean of the values of the $x_2$ feature in a DataFrame.\n",
        "\n",
        "- $N$ is the total number of samples.\n",
        "\n",
        "Now, on dividing the numerator and denominator of $r$ by $N$, we get\n",
        "\n",
        "\\begin{align}\n",
        "r = \\frac{\\frac{1}{N}\\sum_{i = 1} ^N (x_{1i} - \\bar x_1)(x_{2i} - \\bar x_2)}{\\frac{1}{N}\\sqrt{\\sum_{i = 1} ^N (x_{1i} - \\bar x_1)^2 \\sum_{i = 1} ^N(x_{2i} - \\bar x_2)^2}}\n",
        "\\end{align}\n",
        "\n",
        "The numerator in the above expression becomes $\\text{cov}(x_1, x_2)$.\n",
        "\n",
        "\\begin{align}\n",
        "\\Rightarrow r = \\frac{\\text{cov}(x_1, x_2)}{\\frac{1}{N}\\sqrt{\\sum_{i = 1} ^N (x_{1i} - \\bar x_1)^2 \\sum_{i = 1} ^N (x_{2i} - \\bar x_2)^2}}\n",
        "\\end{align}\n",
        "\n",
        "Now, consider the denominator. It becomes:\n",
        "\n",
        "\\begin{align}\n",
        "\\sqrt{\\frac{\\sum_{i = 1} ^N (x_{1i} - \\bar x_1)^2 \\sum_{i = 1} ^N (x_{2i} - \\bar x_2)^2}{N^2}} \\\n",
        "\\Rightarrow \\sqrt{ \\left( \\frac{\\sum_{i = 1} ^N (x_{1i} - \\bar x_1)^2}{N} \\right) \\left( \\frac{\\sum_{i = 1} ^N (x_{2i} - \\bar x_2)^2}{N} \\right) } \\\n",
        "\\Rightarrow \\sqrt{ \\left( \\frac{\\sum_{i = 1} ^N (x_{1i} - \\bar x_1)^2}{N} \\right)} \\sqrt{\\left( \\frac{\\sum_{i = 1} ^N (x_{2i} - \\bar x_2)^2}{N} \\right) }\n",
        "\\end{align}\n",
        "\n",
        "We already know that:\n",
        "\n",
        "$$\\sqrt{ \\left( \\frac{\\sum_{i = 1} ^N (x_{1i} - \\bar x_1)^2}{N} \\right)}$$\n",
        "\n",
        "denotes standard deviation in the values of $x_1$ feature\n",
        "\n",
        "$$\\therefore \\sigma_{x_1} = \\sqrt{ \\left( \\frac{\\sum_{i = 1} ^N (x_{1i} - \\bar x_1)^2}{N} \\right)}$$\n",
        "\n",
        "Similarly,\n",
        "\n",
        "$$\\therefore \\sigma_{x_2} = \\sqrt{ \\left( \\frac{\\sum_{i = 1} ^N (x_{2i} - \\bar x_2)^2}{N} \\right)}$$\n",
        "\n",
        "Therefore, the denominator becomes\n",
        "\n",
        "$$\\sigma_{x_1} \\times \\sigma_{x_2}$$\n",
        "\n",
        "So, the correlation expression becomes\n",
        "\n",
        "\\begin{align}\n",
        "r = \\frac{\\text{cov}(x_1, x_2)}{\\sigma_{x_1} \\sigma_{x_2}}\n",
        "\\end{align}\n",
        "\n",
        "In other words, the correlation is **covariance between two features divided by the product of their corresponding standard deviations**.\n",
        "\n",
        "Now that we have computed the covariance matrix for wheat kernel dataset, we will proceed to the next step of PCA i.e. computing eigenvectors and eigenvalues."
      ]
    },
    {
      "cell_type": "markdown",
      "metadata": {
        "id": "KlBnUpGiZkOP"
      },
      "source": [
        "---"
      ]
    },
    {
      "cell_type": "markdown",
      "metadata": {
        "id": "DMnFgNSHZAiR"
      },
      "source": [
        "#### Vectors\n",
        "\n",
        "The next step is to calculate the eigenvectors and eigenvalues. But before that, you need to learn about vectors.\n",
        "\n",
        "**Q:** What is a vector?\n",
        "\n",
        "**A vector is an object that has magnitude as well as direction**. For example, consider the following two statements:\n",
        "\n",
        "*Statement 1: Nikhil is driving his car at a speed of $6$ Km/hr*\n",
        "\n",
        "*Statement 2: Nikhil is driving his car towards **east** on M.G. Road at a speed of $6$ Km/hr*\n",
        "\n",
        "Whenever we attach direction to an object it becomes a **vector**. The figure below illustrates statement 2.\n",
        "\n",
        "<br>\n",
        "\n",
        "<center> <img src=https://s3-whjr-v2-prod-bucket.whjr.online/dc952b93-c716-492c-ba50-add03a143fc2.png width=500></center>\n",
        "\n",
        "The figure above represents the **Velocity** of the car.\n",
        "\n",
        "**Q:** What is Velocity?\n",
        "\n",
        "**A:** Velocity is a measure of how fast something moves in a particular direction.\n",
        "\n",
        "Hence, direction becomes an important factor. Speed is only half the information on velocity and direction is the other half.\n",
        "\n",
        "The <b><font color ='maroon'>velocity arrow</font></b> (Velocity vector) indicates the direction of the vehicle and the length of the line joining A to B indicates the magnitude (speed).\n",
        "\n",
        "Hence we can picture a vector as a directed line segment, the length of which determines the magnitude of the vector and the arrow indicates the direction. The direction of the vector is always from its tail to its head.\n",
        "\n",
        "<center><img src=https://s3-whjr-v2-prod-bucket.whjr.online/758d2ad5-9009-4c38-a341-9575baedec35.png width=500></center>\n",
        "\n",
        "The **Tail** is the starting point of the vector and the **Head** is the terminating point of the vector.\n",
        "\n",
        "<br>\n",
        "\n",
        "**Vectors in 3-D space:**\n",
        "\n",
        "Consider an aeroplane taking off from Mumbai airport and flying to New Delhi airport. Here we need to specify $x, y,$ and $z$ coordinates to specify its location and velocity.\n",
        "\n",
        "<center> <img src=https://s3-whjr-v2-prod-bucket.whjr.online/b4e1dcb2-85ab-4a57-aab0-0b132fbadf66.png width=1000></center>\n",
        "\n",
        "As we know Mumbai is located in the southern part of India relative to New Delhi, we can say that the plane has to fly back to the North to reach New Delhi airport. During take-off say,  the target is to reach a certain height represent by point $B$ from the origin which is at Mumbai Airport.\n",
        "\n",
        "\n",
        "\n",
        "\n",
        "\n",
        "\n"
      ]
    },
    {
      "cell_type": "markdown",
      "metadata": {
        "id": "VtIjVBU4JyjC"
      },
      "source": [
        "---"
      ]
    },
    {
      "cell_type": "markdown",
      "metadata": {
        "id": "PulUbAIzJzFG"
      },
      "source": [
        "#### Vector Representation\n",
        "\n",
        "Let's see how to define vectors. In the above aeroplane example, we had an intermediate point $B$ in the 3-D space, the coordinates of which are:\n",
        "\n",
        "\\begin{align}\n",
        "B = (-5,1.5,1)\n",
        "\\end{align}\n",
        "\n",
        "If we draw a vector to this point from origin $A$, the vector can be described as:\n",
        "\n",
        "\\begin{align}\n",
        "\\vec{AB} = \\begin{bmatrix}-5\\\\ 1.5\\\\ 1 \\end{bmatrix}\n",
        "\\end{align}\n",
        "\n",
        "**Note:** The $\\rightarrow$ on $AB$ indicates that the object $AB$ is a vector.\n",
        "\n",
        "Now let's define this vector by creating a NumPy array.\n"
      ]
    },
    {
      "cell_type": "code",
      "metadata": {
        "id": "OPnuvLy5J2mA",
        "colab": {
          "base_uri": "https://localhost:8080/"
        },
        "outputId": "28ac47e1-956b-4204-e1c7-be9d86e583e1"
      },
      "source": [
        "# Create a 3D vector\n",
        "vector_AB = np.array([-5, 1.5, 1])\n",
        "print(vector_AB)"
      ],
      "execution_count": null,
      "outputs": [
        {
          "output_type": "stream",
          "name": "stdout",
          "text": [
            "[-5.   1.5  1. ]\n"
          ]
        }
      ]
    },
    {
      "cell_type": "markdown",
      "metadata": {
        "id": "tQRRLAtcJ_m-"
      },
      "source": [
        "Here we see a vector in a 3-dimensional space. We can easily visualise the vectors in $2$ or $3$ dimensions, however, vectors can exist in higher dimensions as well.\n",
        "\n",
        "When we have more than $3$ features in our dataset,  the elements in the array will also increase. For example, considering the wheat kernel dataset:\n",
        "\n",
        "<center><img src=https://s3-whjr-v2-prod-bucket.whjr.online/2a82f726-ccea-45cd-91ce-b2d8edce8535.png width=900></center>\n",
        "\n",
        "If we represent row $1$ in vector form it would be a 7-dimensional vector. It can be represented as:\n",
        "\n",
        "\\begin{align}\n",
        "\\vec {X_1} = \\begin{bmatrix}14.88\\\\ 14.57\\\\ 0.8811\\\\ 5.554\\\\ 3.333\\\\ 1.018\\\\ 4.956\\end{bmatrix}\n",
        "\\end{align}\n",
        "\n",
        "Let's define this 7-dimensional vector by again creating a NumPy array.\n"
      ]
    },
    {
      "cell_type": "code",
      "metadata": {
        "id": "Qcs_3vmeKMaF",
        "colab": {
          "base_uri": "https://localhost:8080/"
        },
        "outputId": "7141659a-3a5b-4a71-b435-69fdc3300052"
      },
      "source": [
        "# Create a 7-dimensional vector.\n",
        "\n",
        "vector_X1 = np.array([14.88, 14.57, 0.8811, 5.554, 3.333, 1.018, 4.956])\n",
        "print('Vector for row 1: ', vector_X1)"
      ],
      "execution_count": null,
      "outputs": [
        {
          "output_type": "stream",
          "name": "stdout",
          "text": [
            "Vector for row 1:  [14.88   14.57    0.8811  5.554   3.333   1.018   4.956 ]\n"
          ]
        }
      ]
    },
    {
      "cell_type": "markdown",
      "metadata": {
        "id": "EOiRhkmJKTmu"
      },
      "source": [
        "So far the vectors we have seen start from the origin and hence the coordinates become the vector. *But what if the starting point is not the origin?*\n",
        "\n",
        " If the starting point of the vector is point $A(x_A, y_A)$ and the end point is $B(x_B, y_B)$, then the vector $\\vec{AB}$ is represented as:\n",
        "\n",
        "\\begin{align}\n",
        "\\vec{AB} &= \\vec{B} - \\vec{A} \\\\\n",
        "&= (x_B - x_A, y_B - y_A)\n",
        "\\end{align}\n",
        "\n",
        "Let us take a simple problem statement to understand this:\n",
        "\n",
        "**Statement**: You start from your home, pick up some burgers from McDonald's and go to your friend's home for a party.\n",
        "\n",
        "Let us represent this using vectors.\n",
        "\n",
        "<center> <img src=https://s3-whjr-v2-prod-bucket.whjr.online/whjr-v2-prod-bucket/bf75e1b4-5af7-49b2-b081-a8618f34f4c9.png width=650></center>\n",
        "\n",
        "The image above describes the problem statement. The coordinates for various locations are:\n",
        "\n",
        "1. Home $(x_h, y_h) = (0,0)$\n",
        "\n",
        "2. McD $(x_m, y_m) = (6, 1.5)$\n",
        "\n",
        "3. Party $(x_p, y_p) = (4, 4)$\n",
        "\n",
        "The vector for Home to McD is calculated as:\n",
        "\n",
        "\\begin{align}\n",
        "\\vec{hm} &= \\text{McD} - \\text{Home} \\\\\n",
        "&= (x_m - x_h, y_m - y_h) \\\\\n",
        "&= \\begin{bmatrix} 6 - 0 \\\\ 1.5 - 0 \\end{bmatrix} \\\\\n",
        "&= \\begin{bmatrix} 6\\\\ 1.5\\end{bmatrix}\n",
        "\\end{align}\n",
        "\n",
        "Similarly, the vector for McD to Party is calculated as:\n",
        "\n",
        "\\begin{align}\n",
        "\\vec{mp} &= \\text{Party} - \\text{McD} \\\\\n",
        "&= (x_p - x_m, y_p - y_m) \\\\\n",
        "&= \\begin{bmatrix}4 - 6 \\\\ 4 - 1.5 \\end{bmatrix} \\\\\n",
        "&= \\begin{bmatrix} -2\\\\ 2.5\\end{bmatrix}\n",
        "\\end{align}\n",
        "\n",
        "The negative sign indicates that you have to ride the motorbike into another direction to reach your destination.\n",
        "\n",
        "The same can be calculated using `numpy` module. For this, first define the coordinates for Home, McD and Party place as follows:\n",
        "\n",
        "- `home = array([0, 0])`\n",
        "\n",
        "- `mcd = array([6, 1.5])`\n",
        "\n",
        "- `party = array([4, 4])`\n",
        "\n",
        "Next obtain the respective vectors by subtracting the starting-point coordinates from the ending-point coordinates, Hence:\n",
        "\n",
        "- $\\vec{hm}$ will be calculated as `mcd - home`\n",
        "\n",
        "- $\\vec{mp}$ will be calculated as `party - mcd`\n"
      ]
    },
    {
      "cell_type": "code",
      "metadata": {
        "id": "qLiEJCoRK8o6",
        "colab": {
          "base_uri": "https://localhost:8080/"
        },
        "outputId": "303806dd-3e1c-42e1-b076-d9e7176667a0"
      },
      "source": [
        "# Obtaining Vectors from Coordinates\n",
        "\n",
        "# Define the coordinates\n",
        "home = np.array([0, 0])\n",
        "mcd = np.array([6, 1.5])\n",
        "party = np.array([4, 4])\n",
        "\n",
        "# Obtain the respective Vectors\n",
        "hm = mcd - home\n",
        "mp = party - mcd\n",
        "\n",
        "print('Vector from Home to McD is: ', hm)\n",
        "print('Vector from McDonalds to Party place is: ', mp)"
      ],
      "execution_count": null,
      "outputs": [
        {
          "output_type": "stream",
          "name": "stdout",
          "text": [
            "Vector from Home to McD is:  [6.  1.5]\n",
            "Vector from McDonalds to Party place is:  [-2.   2.5]\n"
          ]
        }
      ]
    },
    {
      "cell_type": "markdown",
      "source": [
        "Hence, we calculated the vector $\\vec{hm}$  and $\\vec{mp}$ by subtracting the starting-point coordinates from the ending-point coordinates."
      ],
      "metadata": {
        "id": "tNTtI7dhGzVp"
      }
    },
    {
      "cell_type": "markdown",
      "metadata": {
        "id": "3w2aPgWdj9-9"
      },
      "source": [
        "---"
      ]
    },
    {
      "cell_type": "markdown",
      "metadata": {
        "id": "r0fTeahJK-xY"
      },
      "source": [
        "**Vector Magnitude**\n",
        "\n",
        "Now that we know about vector representation let us see how to calculate magnitude (also referred to as **norm**) of a vector. Recall the vector representation:\n",
        "\n",
        "<center><img src=https://s3-whjr-v2-prod-bucket.whjr.online/758d2ad5-9009-4c38-a341-9575baedec35.png width=500></center>\n",
        "\n",
        "Consider a vector starting from point $A = (x_A, y_A)$ and the terminating at point $B = (x_B, y_B)$. The magnitude/norm of a vector $\\vec{AB}$ is defined as:\n",
        "\n",
        "\\begin{align}\n",
        "|\\vec{AB}| = \\sqrt{(x_B - x_A)^2 + (y_B - y_A)^2}\n",
        "\\end{align}\n",
        "\n",
        "Similarly consider the above vector $\\vec{hm}$:\n",
        "\n",
        "\\begin{align}\n",
        "\\vec{hm} = \\begin{bmatrix} 6\\\\ 1.5\\end{bmatrix}\n",
        "\\end{align}\n",
        "\n",
        "The magnitude of vector $\\vec{hm}$ will be calculated as:\n",
        "\n",
        "\\begin{align}\n",
        "|\\vec{hm}| =& \\sqrt{(x)^2 + (y)^2} \\\\\n",
        "&= \\sqrt{6^2 + 1.5^2}  \\\\\n",
        "&= \\sqrt{36 + 2.25} \\\\\n",
        "&= \\sqrt{38.25} \\\\\n",
        "&= 6.1846\n",
        "\\end{align}\n",
        "\n",
        "<br>\n",
        "\n",
        "Similarly, consider an $n^{th}$ dimensional vector represented as:\n",
        "\n",
        "\\begin{align}\n",
        "\\vec V = \\begin{bmatrix} x_1 \\\\ x_2 \\\\ .. \\\\ .. \\\\ .. \\\\ x_n\\end{bmatrix}\n",
        "\\end{align}\n",
        "\n",
        "The norm of vector $\\vec V$ will be calculated as:\n",
        "\n",
        "\\begin{align}\n",
        "|\\vec V| = \\sqrt{{x_1}^2 + {x_2}^2 + ..... +{x_n}^2}\n",
        "\\end{align}\n",
        "\n",
        "For example, the 7-dimensional vector $\\vec {X_1}$ represented by:\n",
        "\n",
        "\\begin{align}\n",
        "\\vec {X_1} = \\begin{bmatrix} x_1 \\\\ x_2 \\\\ x_3 \\\\ x_4 \\\\ x_5 \\\\ x_6 \\\\ x_7 \\end{bmatrix} =  \\begin{bmatrix}14.88\\\\ 14.57\\\\ 0.8811\\\\ 5.554\\\\ 3.333\\\\ 1.018\\\\ 4.956\\end{bmatrix}\n",
        "\\end{align}\n",
        "\n",
        "The norm of the vector $\\vec {X_1}$ will be defined as:\n",
        "\n",
        "\\begin{align}\n",
        "|\\vec {X_1}| &= \\sqrt{{x_1}^2 + {x_2}^2 + {x_3}^2 + {x_4}^2 + {x_5}^2 + {x_6}^2 + {x_7}^2} \\\\\n",
        "&= \\sqrt{14.88^2 + 14.57^2 + 0.8811^2 + 5.554^2 + 3.33^2 + 1.018^2 + 4.956^2} \\\\\n",
        "&= \\sqrt{221.4144 + 212.2849 + 0.776 + 30.847 + 11.11 + 1.036 + 24.562} \\\\\n",
        "&= \\sqrt{502.0303} \\\\\n",
        "&= 22.406\n",
        "\\end{align}\n",
        "\n",
        "<br>\n",
        "\n",
        "The `linalg.norm()` function of `numpy` is used to calculate the norm of vectors. Let us calculate the norm of vector `X1` using this function."
      ]
    },
    {
      "cell_type": "code",
      "metadata": {
        "id": "-RXnJFZuOPXz",
        "colab": {
          "base_uri": "https://localhost:8080/"
        },
        "outputId": "713c6078-28bc-40e5-deb9-d91614d53e1d"
      },
      "source": [
        "# Calculate the norm of a vector X1\n",
        "print('For the vector X1: ', vector_X1)\n",
        "print('Norm of vector is: ', np.linalg.norm(vector_X1))"
      ],
      "execution_count": null,
      "outputs": [
        {
          "output_type": "stream",
          "name": "stdout",
          "text": [
            "For the vector X1:  [14.88   14.57    0.8811  5.554   3.333   1.018   4.956 ]\n",
            "Norm of vector is:  22.406019329858662\n"
          ]
        }
      ]
    },
    {
      "cell_type": "markdown",
      "metadata": {
        "id": "VNZmpEQENo2X"
      },
      "source": [
        "---"
      ]
    },
    {
      "cell_type": "markdown",
      "metadata": {
        "id": "7x0KkBnUMDDW"
      },
      "source": [
        "**Components of a Vector**\n",
        "\n",
        "Consider a 2-dimensional vector $\\vec u$:\n",
        "\n",
        "\\begin{align}\n",
        "\\vec u = \\begin{bmatrix} u_x \\\\ u_y \\end{bmatrix} = \\begin{bmatrix} 5 \\\\ 5 \\end{bmatrix}\n",
        "\\end{align}\n",
        "\n",
        "<center><img src=https://s3-whjr-v2-prod-bucket.whjr.online/13368db4-600d-4571-b20c-e5ca1bc9418d.png width=500></center>\n",
        "\n",
        "Let's say we are riding our bike along the vector $\\vec u$ in the above figure. This means the effective direction in which we are riding will be **North-East**.  This indicates that we would also be moving:\n",
        "\n",
        "- In the East direction - indicated by $\\vec {U_x}$.\n",
        "\n",
        "- At the same time, in the west direction - indicated by $\\vec {U_y}$.\n",
        "\n",
        "The $\\vec {U_x}$ and $\\vec {U_y}$ are known as **vector components** or **projections**. Any given $n$-dimensional vector can always be represented by its $n$ components/projections.\n",
        "\n",
        "**Vector Angle:**\n",
        "\n",
        "The vector angle gives us a sense of direction for any given vector. In the above figure, the vector angle is indicated as $\\theta$. It is the angle a vector makes with the horizontal-axis ($x$-axis).\n",
        "\n",
        "The vector angle $\\theta$ can easily be calculated with the help of trigonometry ratios:\n",
        "\n",
        "\\begin{align}\n",
        "\\text{tan} \\space \\theta = \\frac{\\text{Perpendicular}}{\\text{Base}}\n",
        "\\end{align}\n",
        "\n",
        "For the vector $\\vec u$ this can be written as:\n",
        "\n",
        "\\begin{align}\n",
        "\\text{tan} \\space \\theta &= \\frac{|\\vec {U_y|}}{|\\vec {U_x}|} \\\\\n",
        "&= \\frac{5}{5} \\\\\n",
        "&= 1 \\\\\n",
        "\\Rightarrow \\theta &= 45^o\n",
        "\\end{align}\n",
        "\n",
        "<br>\n",
        "\n",
        "We can also define a vector with the help of it's **magnitude** and **angle**.\n",
        "\n",
        "For the vector $\\vec u$, the magnitude be:\n",
        "\n",
        "\\begin{align}\n",
        "|\\vec u| = \\sqrt{5^2 +5^2} = \\sqrt {25+25} = \\sqrt{50} = 7.07\n",
        "\\end{align}\n",
        "\n",
        "**The vector $\\vec u$ can also be represented as:**\n",
        "\n",
        "\\begin{align}\n",
        "\\vec u = \\begin{cases} |\\vec u| = 7.07 \\\\ \\theta = 45^o \\end{cases}\n",
        "\\end{align}\n",
        "\n",
        "\n",
        "**Q**: How to calculate components of vectors if you are given with the above representation?\n",
        "\n",
        "**A**: We can calculate the components of vectors using the trigonometric ratios.\n",
        "\n",
        "**Trigonometric Ratios:**\n",
        "The Trigonometry ratios of an angle $\\theta$ in a right-angled triangle are defined as:\n",
        "\n",
        "\\begin{align}\n",
        "\\text{sin} \\space \\theta &= \\frac{\\text {Perpendicular}}{\\text {Hypotenuse}}\n",
        "\\end{align}\n",
        "\n",
        "\\begin{align}\n",
        "\\text{cos} \\space \\theta &= \\frac{\\text {Base}}{\\text {Hypotenuse}}\n",
        "\\end{align}\n",
        "\n",
        "For the angle $\\theta$ in the above image,\n",
        "\n",
        "- $\\text{Perpendicular} = \\vec{u_y}$\n",
        "- $\\text{Base} = \\vec{u_x}$\n",
        "- $\\text{Hypotenuse} = \\vec{u}$\n",
        "\n",
        "Thus,\n",
        "\n",
        "\\begin{align}\n",
        "\\text{sin} \\space \\theta &= \\frac{|\\vec u_y|}{|\\vec u|}\n",
        "\\end{align}\n",
        "\n",
        "Similarly,\n",
        "\n",
        "\\begin{align}\n",
        "\\text{cos} \\space \\theta &=  \\frac{|\\vec u_x|}{|\\vec u|}\n",
        "\\end{align}\n",
        "\n",
        "Hence, if we are given with magnitude of a vector ($|\\vec u|$) and angle ($\\theta$), we can find the component of the vectors ($|\\vec u_x|$ and $|\\vec u_y|$) using the above trigonometric ratios.\n",
        "\n"
      ]
    },
    {
      "cell_type": "markdown",
      "metadata": {
        "id": "Xh7romO_MCko"
      },
      "source": [
        "---"
      ]
    },
    {
      "cell_type": "markdown",
      "metadata": {
        "id": "6g84SC_Jgw3c"
      },
      "source": [
        "#### Activity 1: Scaling of Vectors\n",
        "\n",
        "\n",
        "A **scalar** is an object that does not have any direction and is described with magnitude only. For example, if we want to describe $1$ Kg of apple we do not need its direction.\n",
        "\n",
        "Since the scalar does not have any direction, when we multiply a vector by a scalar it is called **scaling** a vector, because we specify how big or small the vector is.\n",
        "\n",
        "For example consider the following vector $\\vec a$:\n",
        "\n",
        "\\begin{align}\n",
        "a = \\begin{bmatrix} 2 \\\\ 3 \\\\ 6 \\end{bmatrix}\n",
        "\\end{align}\n",
        "\n",
        "Let's say we have a scalar number $k = 1.5$\n",
        "\n",
        "The multiplication of scalar to the vector can be calculated as:\n",
        "\n",
        "\\begin{align}\n",
        "k \\times a = 1.5 \\times \\begin{bmatrix} 2 \\\\ 3 \\\\ 6 \\end{bmatrix} = \\begin{bmatrix} 1.5 \\times 2 \\\\ 1.5 \\times 3 \\\\ 1.5 \\times 6 \\end{bmatrix}  = \\begin{bmatrix} 3 \\\\ 4.5 \\\\ 9 \\end{bmatrix}\n",
        "\\end{align}\n",
        "\n",
        "The scalar multiplication can be described as:\n",
        "\n",
        "<center><img src=https://s3-whjr-v2-prod-bucket.whjr.online/d5ee857c-2300-4508-a5d8-ebd5d257b81a.png></center>\n",
        "\n",
        "**Note:** The direction of a vector is unaffected by scalar multiplication.\n",
        "\n",
        "\n",
        "We can perform this operation directly using the NumPy array. For example,  create a vector $\\vec{a}= \\begin{bmatrix} 2 \\\\ 3 \\\\ 6 \\end{bmatrix}$ and scale this vector by a magnitude of $1.5$."
      ]
    },
    {
      "cell_type": "code",
      "metadata": {
        "colab": {
          "base_uri": "https://localhost:8080/"
        },
        "id": "2b1VdrcMhrzs",
        "outputId": "2046558b-3ef0-402e-bad5-d70917a843b1"
      },
      "source": [
        "# S1.1: Scaling a vector\n",
        "\n",
        "# Define vector 'a'\n",
        "a = np.array([2, 3, 6])\n",
        "print(\"Original vector:\", a)\n",
        "# Define scalar\n",
        "k = 1.5\n",
        "print(\"Scalar magnitude:\", k)\n",
        "# multiplication\n",
        "scaled_vec = k * a\n",
        "print(\"Scaled vector:\", scaled_vec)"
      ],
      "execution_count": null,
      "outputs": [
        {
          "output_type": "stream",
          "name": "stdout",
          "text": [
            "Original vector: [2 3 6]\n",
            "Scalar magnitude: 1.5\n",
            "Scaled vector: [3.  4.5 9. ]\n"
          ]
        }
      ]
    },
    {
      "cell_type": "markdown",
      "source": [
        "Here, `scalar magnitude` is multiplied with each values of `Original vector` that gives `Scaled vector`."
      ],
      "metadata": {
        "id": "4AwR_85zUdZJ"
      }
    },
    {
      "cell_type": "markdown",
      "metadata": {
        "id": "gG4dFtrKjclU"
      },
      "source": [
        "---"
      ]
    },
    {
      "cell_type": "markdown",
      "metadata": {
        "id": "OBx533VXjf47"
      },
      "source": [
        "#### Activity 2: Unit Vector\n",
        "\n",
        "A vector that has a magnitude of 1 is known as a **unit vector**. It is represented by the symbol **^**, which is called a cap or hat. For example, the unit vector of a vector $\\vec a$ is represented as $\\hat{a}$.\n",
        "\n",
        "The unit vector has the same direction coordinates as that of the given vector. It is also known as **direction vector** as it determines only direction.\n",
        "\n",
        "<center>\n",
        "<img src=\"https://s3-whjr-v2-prod-bucket.whjr.online/whjr-v2-prod-bucket/7147cb35-d4c8-49f4-b48b-53e9fe140b86.png\" width=350/></center>\n",
        "\n",
        "The unit vector $\\hat{a}$ of $\\vec a$ is obtained by dividing the vector $\\vec a$ with its magnitude as follows:\n",
        "\n",
        "\n",
        "\\begin{align}\n",
        "  \\hat{a}=\\frac{\\vec{a}}{\\left | \\vec{a} \\right |}\n",
        "\\end{align}\n",
        "\n",
        "Consider a vector $\\vec{A} = (12, 3, 4)$.\n",
        "\n",
        "Thus, unit vector of $\\vec{A}$ is calculated as:\n",
        "\n",
        "\n",
        "\\begin{align}\n",
        "\\hat{A} &=\\frac{\\vec{A}}{\\left | \\vec{A} \\right |} \\\\\n",
        "&= \\frac{(12, 3, 4)}{\\left | \\sqrt{12^2 + 3^2 + 4^2} \\right |} \\\\\n",
        "&= \\frac{(12, 3, 4)}{\\left | \\sqrt{169} \\right |} \\\\\n",
        "&= \\frac{(12, 3, 4)}{13} \\\\\n",
        "\\end{align}\n",
        "\n",
        "Thus,\n",
        "\\begin{align}\n",
        "\\hat{A} &= \\bigg(\\frac{12}{13}, \\frac{3}{13}, \\frac{4}{13} \\bigg)\n",
        "\\end{align}\n",
        "\n",
        "If we calculate $|\\hat{A}|$, we will find that it is equal to $1$. In this way, you can obtain the unit vector of any given vector.\n",
        "\n",
        "Let us normalise the above vector $\\vec{A}$ to its unit vector by first calculating its magnitude (norm) using `np.linalg.norm()` function and then dividing the vector $\\vec{A}$ by this norm value."
      ]
    },
    {
      "cell_type": "code",
      "metadata": {
        "colab": {
          "base_uri": "https://localhost:8080/"
        },
        "id": "xqIFnVm10IjD",
        "outputId": "20d71129-3938-4fb3-8ede-d3953c2626d8"
      },
      "source": [
        "# S2.1: Obtain unit vector of 'A'\n",
        "\n",
        "A = np.array([12, 3, 4])\n",
        "print(\"Orginal vector:\", A)\n",
        "unit_vecA = A / np.linalg.norm(A)\n",
        "print(\"Unit vector:\", unit_vecA)"
      ],
      "execution_count": null,
      "outputs": [
        {
          "output_type": "stream",
          "name": "stdout",
          "text": [
            "Orginal vector: [12  3  4]\n",
            "Unit vector: [0.92307692 0.23076923 0.30769231]\n"
          ]
        }
      ]
    },
    {
      "cell_type": "markdown",
      "metadata": {
        "id": "frgWNo-XwR94"
      },
      "source": [
        "Hence, we obtained the same value of unit vector as that obtained mathematically.\n",
        "\n",
        "Suppose unit vector $\\hat{A}$ is a column matrix:\n",
        "\n",
        "$$\\hat{A}= \\begin{bmatrix} \\frac{12}{13} \\\\ \\frac{3}{13} \\\\ \\frac{4}{13} \\end{bmatrix}$$\n",
        "\n",
        "Transpose of this matrix would be:\n",
        "\n",
        "$$\\hat{A}^T= \\begin{bmatrix} \\frac{12}{13} & \\frac{3}{13} & \\frac{4}{13} \\end{bmatrix}$$\n",
        "\n",
        "If we multiply these two vectors i.e $\\hat{A}. \\hat{A}^T$:\n",
        "\n",
        "$$\\hat{A}. \\hat{A}^T$$\n",
        "\n",
        "\\begin{align}  \n",
        "\\hat{A}. \\hat{A}^T &= \\begin{bmatrix} \\frac{12}{13} \\\\ \\frac{3}{13} \\\\ \\frac{4}{13} \\end{bmatrix} \\begin{bmatrix} \\frac{12}{13} & \\frac{3}{13} & \\frac{4}{13} \\end{bmatrix} \\\\\n",
        "&= \\begin{bmatrix}\\frac{144}{169} & \\frac{9}{169} & \\frac{16}{169} \\end{bmatrix} \\\\\n",
        "&= \\begin{bmatrix}\\frac{169}{169}  \\end{bmatrix} \\\\\n",
        "&= 1\n",
        "\\end{align}  \n",
        "\n",
        "\\begin{equation}\n",
        "\\boxed{\\hat{A}. \\hat{A}^T= 1}\n",
        "\\end{equation}\n",
        "\n",
        "Thus, product of  a unit vector with its transpose is always equal to $1$.\n",
        "\n",
        "\n",
        "\n"
      ]
    },
    {
      "cell_type": "markdown",
      "metadata": {
        "id": "pXV3-p8L2Ns1"
      },
      "source": [
        "---"
      ]
    },
    {
      "cell_type": "markdown",
      "metadata": {
        "id": "T1YsBdHmHruP"
      },
      "source": [
        "#### Activity 3: Vector Products\n",
        "\n",
        "Vectors can be multiplied in the following ways:\n",
        "\n",
        "1. Vector product or Cross product:\n",
        "    \n",
        "    A cross product is used when we need the result to be a vector quantity. In essence the cross product describes how much the two vectors point in different directions.\n",
        "\n",
        "2. Scalar product or Dot product:\n",
        "\n",
        "    A dot product is used when we need the result to be a scalar quantity. In essence the dot product describes how much the vectors points in same direction.\n",
        "\n",
        "Assume two vectors $\\vec A$ and $\\vec B$ defined in three dimensions as:\n",
        "\n",
        "\\begin{matrix}  \n",
        "{\\vec A} = \\begin{bmatrix} A_x \\\\ A_y \\\\ A_z \\end{bmatrix} &\n",
        "{\\vec B} = \\begin{bmatrix} B_x \\\\ B_y \\\\ B_z \\end{bmatrix}\n",
        "\\tag{3.1}\n",
        "\\end{matrix}  \n",
        "\n",
        "Let's make a grid of the all the possible interactions for these two vectors:\n",
        "\n",
        "<center><img src=https://s3-whjr-v2-prod-bucket.whjr.online/whjr-v2-prod-bucket/732bd190-4509-4a9e-8021-e283cf7b7829.png width=300></center>\n",
        "\n",
        "As the vectors each have 3 componenets we will have a total of $ 3\\times 3 = 9$ interactions where:\n",
        "\n",
        "<center><h4><i>All possible interactions = interactions in similar dimensions + interactions in different dimensions</h4></i></center>\n",
        "\n",
        "<br>\n",
        "\n",
        "1. Dot product: The interactions of the same dimensions gives us the dot product.\n",
        "\n",
        "2. Cross product: The interactions of the different dimensions gives us the cross product.\n"
      ]
    },
    {
      "cell_type": "markdown",
      "metadata": {
        "id": "a0ugsiDl_ACz"
      },
      "source": [
        "**CROSS PRODUCT OF VECTORS**\n",
        "\n",
        "When two vectors are multiplied with each other and the product of the vectors is also a vector quantity, then the resultant vector is called the cross product of two vectors or the vector product. The resultant vector is perpendicular to the plane containing the two given vectors.\n",
        "\n",
        "Mathematically the **cross product** of two vectors $\\vec A$ and $\\vec B$ is defined as:\n",
        "\n",
        "\\begin{equation}\n",
        "\\vec A \\times \\vec B = |\\vec A| \\space |\\vec B| \\space \\text{sin} \\theta \\space \\hat n\n",
        "\\tag{3.2}\n",
        "\\end{equation}\n",
        "\n",
        "Where,\n",
        "\n",
        "$\\theta$ is the angle between vectors $\\vec A$ and $\\vec B$.\n",
        "\n",
        "$\\hat n$ is a unit vector orthogonal (perpendicular) to the plane containing $\\vec A$ and $\\vec B$.\n",
        "\n",
        "**IMPORTANT NOTE :** The direction of the resulting vector is obtained with the help of right hand rule:\n",
        "\n",
        "<img src=https://s3-whjr-v2-prod-bucket.whjr.online/whjr-v2-prod-bucket/b06b8b37-e680-4834-a7a4-57d08aec998e.png width=300>\n",
        "\n",
        "**Right hand rule**: In this rule, if we use our index finger of the right hand in the direction of the first vector and the middle finger in the direction of the second vector. Then, the thumb of the right hand indicates the direction of the cross product of these two vectors.\n",
        "\n",
        "**Cross product in matrix notation:**\n",
        "\n",
        "From equation $3.1$ we have:\n",
        "\n",
        "\\begin{matrix}  \n",
        "{\\vec A} = \\begin{bmatrix} A_x \\\\ A_y \\\\ A_z \\end{bmatrix} &\n",
        "{\\vec B} = \\begin{bmatrix} B_x \\\\ B_y \\\\ B_z \\end{bmatrix}\n",
        "\\end{matrix}\n",
        "\n",
        "The cross product for the matrix can be found by arranging the components of the vectors $\\vec A$ and $\\vec B$ along with the respective dimensions (in this case $x,y, z$) in a matrix form:\n",
        "\n",
        "\\begin{matrix}\n",
        "\\vec A \\times \\vec B = \\begin{bmatrix} x & y & z \\\\ A_x & A_y & A_z \\\\ B_x & B_y & B_z\\end{bmatrix}\n",
        "\\end{matrix}\n",
        "\n",
        "After solving the above matrix we get the cross product as:\n",
        "\n",
        "\\begin{align}\n",
        "\\vec A \\times \\vec B = (A_y B_z - A_z B_y)x - (A_x B_z - A_z B_x)y + (A_x B_y - A_y B_x)z\n",
        "\\end{align}\n",
        "\n",
        "In matrix from this can be represented as:\n",
        "\n",
        "\\begin{matrix}\n",
        "\\vec A \\times \\vec B = \\begin{bmatrix} A_y B_z - A_z B_y \\\\ -(A_x B_z - A_z B_x) \\\\ A_x B_y - A_y B_x \\end{bmatrix} = \\begin{bmatrix} A_y B_z - A_z B_y \\\\ A_z B_x - A_x B_z \\\\ A_x B_y - A_y B_x \\end{bmatrix}\n",
        "\\tag{3.3}\n",
        "\\end{matrix}\n",
        "\n",
        "**Note:**\n",
        "\n",
        "1. Instead of memorising the result $3.3$ obtained above, remember the procedure of getting it.\n",
        "\n",
        "2. Do not confuse matrix multiplication with vector cross product. They both are different.\n",
        "\n",
        "**Direction of the resultant vector:** The resultant vector is always perpendicular to the vectors $\\vec A$ and $\\vec B$. The cross product is mostly used to determine the vector, which is perpendicular (orthogonal) to the plane surface spanned by two vectors.\n",
        "\n",
        "<br>\n",
        "\n",
        "Let's take a simple example to understand this:\n",
        "\n",
        "\\begin{matrix}  \n",
        "{\\vec A} = \\begin{bmatrix} 3 \\\\ 2 \\\\ 3 \\end{bmatrix} &\n",
        "{\\vec B} = \\begin{bmatrix} 2 \\\\ 1 \\\\ 3 \\end{bmatrix}\n",
        "\\end{matrix}\n",
        "\n",
        "The resultant vector after applying cross product can be obtained from equation $3.3$:\n",
        "\n",
        "\\begin{matrix}\n",
        "\\vec A \\times \\vec B = \\begin{bmatrix} 2 \\times 3 - 3 \\times 1 \\\\ 3 \\times 2 - 3 \\times 3 \\\\ 3 \\times 1 - 2 \\times 2 \\end{bmatrix}\n",
        "\\end{matrix}\n",
        "\n",
        "\\begin{matrix}\n",
        "\\Rightarrow \\vec A \\times \\vec B = \\begin{bmatrix} 6 - 3 \\\\ 6 - 9 \\\\ 3 - 4 \\end{bmatrix}\n",
        "\\end{matrix}\n",
        "\n",
        "\\begin{matrix}\n",
        "\\Rightarrow \\vec A \\times \\vec B = \\begin{bmatrix} 3 \\\\ -3 \\\\ -1 \\end{bmatrix}\n",
        "\\end{matrix}"
      ]
    },
    {
      "cell_type": "markdown",
      "source": [
        "Find the cross product of two vectors (Ā and B̄)."
      ],
      "metadata": {
        "id": "tKC_p1TuXTf3"
      }
    },
    {
      "cell_type": "code",
      "metadata": {
        "colab": {
          "base_uri": "https://localhost:8080/"
        },
        "id": "SsqhjqgeLlsQ",
        "outputId": "ae6f8ef4-0d34-4273-eaaf-0a5c58360322"
      },
      "source": [
        "# S3.1: Finding cross product of two vectors\n",
        "\n",
        "# First vector\n",
        "A = np.array([3, 2, 3])\n",
        "print(\"First vector:\", A)\n",
        "\n",
        "# Second vector\n",
        "B = np.array([2, 1, 3])\n",
        "print(\"Second vector:\", B)\n",
        "\n",
        "# Using 'np.cross()' function to calculate cross product\n",
        "cross_prod_AB = np.cross(A, B)\n",
        "print(\"Cross Product:\", cross_prod_AB)"
      ],
      "execution_count": null,
      "outputs": [
        {
          "output_type": "stream",
          "name": "stdout",
          "text": [
            "First vector: [3 2 3]\n",
            "Second vector: [2 1 3]\n",
            "Cross Product: [ 3 -3 -1]\n"
          ]
        }
      ]
    },
    {
      "cell_type": "markdown",
      "metadata": {
        "id": "uBgw81kfbZZh"
      },
      "source": [
        "Hence, we obtained the cross product of vectors $\\vec A$ and $\\vec B$ which is vector, hence has components in all the three dimensions as the input vectors.\n",
        "\n",
        "Let's verify the direction of the resultant vector by plotting the plane spanning across vectors $\\vec A$, $\\vec B$ and the resulting cross product of these two vectors:\n",
        "\n",
        "<center><img src=https://s3-whjr-v2-prod-bucket.whjr.online/whjr-v2-prod-bucket/0db92848-e803-4490-a62c-e369d9c81b1e.png width=600></center>\n",
        "\n",
        "In the above graph we can observe the plane passing through the vectors $\\vec A$, and $\\vec B$ is indicated in green and the resultant vector $\\vec A \\times \\vec B$ is orthogonal (perpendicular) to the plane.\n"
      ]
    },
    {
      "cell_type": "markdown",
      "metadata": {
        "id": "U4hbgy9rbZEf"
      },
      "source": [
        "---"
      ]
    },
    {
      "cell_type": "markdown",
      "metadata": {
        "id": "nh-GJzeLLmI_"
      },
      "source": [
        "**DOT PRODUCT OF VECTORS**\n",
        "\n",
        "Mathematically the **dot product** of two vectors $\\vec a$ and $\\vec b$ is defined as:\n",
        "\n",
        "\\begin{equation}\n",
        "\\vec a \\cdot \\vec b = |\\vec a| |\\vec b| \\text{cos} \\space \\theta\n",
        "\\tag{3.4}\n",
        "\\end{equation}\n",
        "\n",
        "Where, $\\theta$ is the angle between vectors $\\vec a$ and $\\vec b$. The result of this dot product is a scalar value. Hence, it is also commonly known as **scalar Product** or **inner Product** of two vectors.\n",
        "\n",
        "**Dot product in matrix notation:**\n",
        "\n",
        "\n",
        "Let us represent the vectors $\\vec{a}$ and $\\vec{b}$ in matrix form as follows:\n",
        "\n",
        "\\begin{matrix}  \n",
        "{a} = \\begin{bmatrix} a_1 \\\\ a_2 \\\\ a_3 \\\\ \\vdots \\\\ a_n \\end{bmatrix}_{n \\times 1} &\n",
        "{b} = \\begin{bmatrix} b_1 \\\\ b_2 \\\\ b_3 \\\\ \\vdots \\\\ b_n \\end{bmatrix}_{n \\times 1}\n",
        "\\end{matrix}  \n",
        "\n",
        "The dot product of $\\vec{a}$ and $\\vec{b}$ can also be calculated as:\n",
        "\n",
        "\n",
        "\\begin{equation}\n",
        "\\vec a \\cdot \\vec b = [(a_1 b_1) + (a_2 b_2) + (a_3 b_3) + \\dots + (a_n b_n)]\n",
        "\\tag{3.5}\n",
        "\\end{equation}\n",
        "\n",
        "If we try to multiply the above two vectors $\\vec{a}$ and $\\vec{b}$ using matrix multiplication, their product will not be defined. This is because, as per the rules of matrix multiplication, the number of columns of the first matrix must match the number of rows of the second matrix.\n",
        "\n",
        "To rectify this problem, we can take transpose of the first matrix, turning it into a $1 n$ row matrix as follows:\n",
        "\n",
        "\\begin{matrix}  \n",
        "a^T = \\begin{bmatrix} a_1 & a_2 & a_3 & \\cdots & a_n \\end{bmatrix}_{1 \\times n} &&\n",
        "{b} = \\begin{bmatrix} b_1 \\\\ b_2 \\\\ b_3 \\\\ \\vdots \\\\ b_n \\end{bmatrix}_{n \\times 1}\n",
        "\\end{matrix}  \n",
        "\n",
        "After taking transpose of $\\vec{a}$, the product of vectors $\\vec{a}$ and $\\vec{b}$ is now well-defined as the number of columns of $\\vec{a}$ is now equal to the number of rows of  $\\vec{b}$ .\n",
        "\n",
        "\n",
        "\\begin{align}  \n",
        "a^Tb &= \\begin{bmatrix} a_1 & a_2 & a_3 & \\cdots & a_n \\end{bmatrix} \\begin{bmatrix} b_1 \\\\ b_2 \\\\ b_3 \\\\ \\vdots \\\\ b_n \\end{bmatrix} \\\\\n",
        "&= [(a_1 b_1) + (a_2 b_2) + (a_3 b_3) + \\dots + (a_n b_n)]\n",
        "\\end{align}  \n",
        "\n",
        "You may observe that the result of  above matrix multiplication $a^Tb$ is equivalent to the dot product of $\\vec{a} . \\vec{b}$ (Equation $3.2$).\n",
        "\n",
        "Thus,\n",
        "\\begin{equation}\n",
        "\\boxed{\\vec a \\cdot \\vec b = a^Tb}\n",
        "\\tag{3.6}\n",
        "\\end{equation}\n",
        "\n",
        "In Python, we can obtain dot product of two vectors or matrices using `dot()` function of `numpy` module.\n",
        "\n",
        "Let us find the dot product of following two vectors:\n",
        "\n",
        "\\begin{align}\n",
        "\\vec{A} = (12, 3, 4) &&  \\vec{B} = (10, 20, 30)\n",
        "\\end{align}"
      ]
    },
    {
      "cell_type": "code",
      "metadata": {
        "colab": {
          "base_uri": "https://localhost:8080/"
        },
        "id": "uHMlAJxuHruR",
        "outputId": "c7c4d8ea-7b01-4160-fa2f-e9f694f3275e"
      },
      "source": [
        "# S3.2: Finding dot product of two vectors\n",
        "\n",
        "# First vector\n",
        "A = np.array([12, 3, 4])\n",
        "print(\"First vector:\", A)\n",
        "\n",
        "# Second vector\n",
        "B = np.array([10, 20, 30])\n",
        "print(\"Second vector:\", B)\n",
        "\n",
        "# Using 'np.dot()' function to calculate dot product\n",
        "dot_prod_AB = np.dot(A, B)\n",
        "print(\"Dot Product:\", dot_prod_AB)"
      ],
      "execution_count": null,
      "outputs": [
        {
          "output_type": "stream",
          "name": "stdout",
          "text": [
            "First vector: [12  3  4]\n",
            "Second vector: [10 20 30]\n",
            "Dot Product: 300\n"
          ]
        }
      ]
    },
    {
      "cell_type": "markdown",
      "metadata": {
        "id": "ClBWrI47HruR"
      },
      "source": [
        "Hence, we obtained the dot product of vectors $\\vec A$ and $\\vec B$ which is a scalar value.\n",
        "\n",
        "One important use of dot products is in projection of one vector onto another vector. Let us understand this concept as it is the core of PCA."
      ]
    },
    {
      "cell_type": "markdown",
      "metadata": {
        "id": "IXHUK_xzHruR"
      },
      "source": [
        "---"
      ]
    },
    {
      "cell_type": "markdown",
      "metadata": {
        "id": "CUIJjNW2Ivc5"
      },
      "source": [
        "#### Activity 4: Projection of Vectors\n",
        "\n",
        "Let's say we have two vectors $\\vec u$ and $\\vec v$ and the vector $\\vec u$ makes an angle $\\theta$ with respect to vector $\\vec v$ as shown in image below:\n",
        "\n",
        "<center><img src=https://s3-whjr-v2-prod-bucket.whjr.online/a59e9078-e6ed-4aad-b39c-f11f9dd821d0.png width = 700></center>\n",
        "\n",
        "Imagine a light source, parallel to $\\vec v$ , above $\\vec u$. The light would cast rays perpendicular or orthogonal to $\\vec v$.\n",
        "\n",
        "$g$ is the shadow cast by $\\vec u$ on $\\vec v$. This shadow vector is known as the **projection** of vector $\\vec u$ on vector $\\vec v$.\n",
        "\n",
        " The line segment $g$ indicates the magnitude or length of this shadow vector and is also known as the **projection** of $\\vec u$ on $\\vec v$ or $\\text{proj}_\\vec{v} \\vec {u}$. Let us determine the value  of $g$.\n",
        "\n",
        "**Projection  of $\\vec u$ on $\\vec v$:**\n",
        "\n",
        "We know that as per the trigonometry ratios of an angle $θ$  in a right-angled triangle:\n",
        "\n",
        "\\begin{align}\n",
        "\\text{cos} \\space \\theta &= \\frac{\\text {Base}}{\\text {Hypotenuse}}\n",
        "\\end{align}\n",
        "\n",
        "In the above image,\n",
        "- $\\text{Base} = g$\n",
        "- $\\text{Hypotenuse} = |\\vec {u}|$\n",
        "\n",
        "Therefore,\n",
        "\n",
        "\\begin{align}\n",
        "\\text{cos} \\space \\theta &= \\frac{\\text {g}}{|\\vec {u}|}\n",
        "\\end{align}\n",
        "\n",
        "This can be rewritten as:\n",
        "\\begin{align}\n",
        "\\text {g} &= |\\vec {u}| \\text{cos} \\space \\theta \\\\\n",
        "\\tag{4.1}\n",
        "\\end{align}\n",
        "\n",
        "Recall the dot product formula of two vectors (equation $(3.1)$):\n",
        "\n",
        "\\begin{align}\n",
        "\\vec u . \\vec v &= |\\vec u| |\\vec v| \\text{cos} \\space \\theta \\\\\n",
        "\\Rightarrow\n",
        "\\text{cos} \\space \\theta &= \\frac{\\vec u . \\vec v }{|\\vec u| |\\vec v|}\n",
        "\\tag{4.2}\n",
        "\\end{align}\n",
        "\n",
        "Let us substitute this value of   $\\text{cos} \\space \\theta$ in the equation $(4.1)$.\n",
        "\n",
        "\\begin{align}\n",
        "\\text {g} &= |\\vec {u}| \\times  \\frac{\\vec u . \\vec v }{|\\vec u| |\\vec v|} \\\\\n",
        "&= \\frac{\\vec u . \\vec v }{|\\vec v|} \\\\\n",
        "\\end{align}\n",
        "\n",
        "Thus, the formula for calculating the projection of vector $\\vec u$ onto another vector $\\vec v$ is:\n",
        "\n",
        "\\begin{equation}\n",
        "\\boxed{\\text{proj}_{\\vec{v} \\vec {u}} = \\frac{\\vec u . \\vec v }{|\\vec v|}}\n",
        "\\tag{4.3}\n",
        "\\end{equation}\n",
        "\n",
        "\n",
        "Now that we have explored all the necessary concepts needed to understand the working of PCA, let us now learn how to determine the desired principal components or vectors mathematically.\n",
        "\n",
        "\n"
      ]
    },
    {
      "cell_type": "markdown",
      "metadata": {
        "id": "lOHH4A7skbCo"
      },
      "source": [
        "---"
      ]
    },
    {
      "cell_type": "markdown",
      "metadata": {
        "id": "COMH4OKDb5B5"
      },
      "source": [
        "#### Mathematics of Principal Components\n",
        "\n",
        "In PCA, we start with $d$-dimensional vectors, and want to summarise them by projecting them\n",
        "down into a $k$-dimensional subspace, where $k <= d$. Hence, we need to project original vectors onto the $k$ directions. These $k$-directions are nothing but the principal components.\n",
        "\n",
        "**Q:** How to derive these principal components mathematically?\n",
        "\n",
        "**A:** To derive these principal components, find the projections which maximize the variance.\n",
        "\n",
        "Let us understand this concept with the help of an example.  Consider the following two-dimensional dataset.\n",
        "\n",
        "<center>\n",
        "<img src=\"https://s3-whjr-v2-prod-bucket.whjr.online/cd975e30-9fdd-4ddb-bf2e-22a47e246254.png\"/></center>\n",
        "\n",
        "\n",
        "It appears that both the variables are highly and positively correlated with one another and most of the points lie along the <font color=red><b>\n",
        "red</font></b> line as shown in the image below:\n",
        "\n",
        "<center>\n",
        "<img src=\"https://s3-whjr-v2-prod-bucket.whjr.online/cd7f92ff-9b48-427d-bade-e1e306671147.png\"/></center>\n",
        "\n",
        "As such, we could reorient the axes to be centered on the data and parallel to the line above.\n",
        "\n",
        "<center>\n",
        "<img src=\"https://s3-whjr-v2-prod-bucket.whjr.online/6d04fa50-0e30-4ed8-864c-202f34bd86a4.png\"/></center>\n",
        "\n",
        "Let's project each observation onto the primary axis.\n",
        "\n",
        "<center>\n",
        "<img src=\"https://s3-whjr-v2-prod-bucket.whjr.online/b5992a88-f0d1-4939-99ca-566a3bd4785f.png\"/></center>\n",
        "\n",
        "Now, every observation lies on the primary axis.\n",
        "\n",
        "<center>\n",
        "<img src=\"https://s3-whjr-v2-prod-bucket.whjr.online/31d3b6c2-cbb5-4f05-8535-4942f4fbf215.png\"/></center>\n",
        "\n",
        "Hence, we just compressed a two-dimensional dataset into one dimension by translating and rotating our axes. After this transformation, we only really have one relevant dimension and thus we can discard the second axis as shown in image below:\n",
        "\n",
        "<center>\n",
        "<img src=\"https://s3-whjr-v2-prod-bucket.whjr.online/f9468a34-b08f-4f9f-a991-949075dcdd79.png\"/></center>\n",
        "\n",
        "If we compare the original observations with our new projections, we can see that it's not an exact representation of our data (refer the image below).\n",
        "\n",
        "<center>\n",
        "<img src=\"https://s3-whjr-v2-prod-bucket.whjr.online/fbb3b9a7-aad4-405b-94d2-b901f354c4b2.png\"/></center>\n",
        "\n",
        "The distance between original observations and projections is a measure of information loss. Thus, the primary axis or first principal component is chosen in such a way that it gives minimum distance between projections and observations and thereby, less information loss.\n",
        "\n",
        "\n",
        "Let us observe the above dataset in a different way. Observe the spread of the data along the green and orange directions.\n",
        "\n",
        "<center>\n",
        "<img src=\"https://s3-whjr-v2-prod-bucket.whjr.online/e4755ec5-6f56-4dd0-a03d-f1dbd011a716.png\"/></center>\n",
        "\n",
        "Projecting our observations onto the orange vector would result in much more information loss as compared to projecting onto the green vector. Thus, the green vector not only captures the maximum variance of the data, but also minimises the distance between observations and their projections onto the vector.\n",
        "\n",
        "<center>\n",
        "<img src=\"https://s3-whjr-v2-prod-bucket.whjr.online/19a196ed-d72d-4c01-a7ee-e7872dd6fecd.png\"/></center>\n",
        "\n",
        "Hence, we can say that:\n",
        "\n",
        "In PCA, minimising projection error or information loss can be accomplished by finding the direction of maximum variance within the data.\n",
        "\n",
        "Let us learn how to find the vector that carries maximum variance in data mathematically.\n"
      ]
    },
    {
      "cell_type": "markdown",
      "metadata": {
        "id": "VYL1C44t2RzR"
      },
      "source": [
        "---"
      ]
    },
    {
      "cell_type": "markdown",
      "metadata": {
        "id": "osNB0QEIUL8p"
      },
      "source": [
        "#### Activity 5: Maximising  Variance\n",
        "\n",
        "Given the set of observations ${x_i}$  in a $d$-dimensional dataset where, $i = 1, 2, …, N$.\n",
        "\n",
        "Our goal is to find the projection of $x_i$ onto a space with dimensions $k < d$ such that it gives maximum variance.\n",
        "\n",
        "We’ll start by looking for a one-dimensional projection. We define a vector $u_1$ as the direction of the lower-dimensional space.\n",
        "\n",
        "<center>\n",
        "<img src=\"https://s3-whjr-v2-prod-bucket.whjr.online/4ebdf0ff-eafb-440d-b0e7-361f804bc732.jpg\"/></center>\n",
        "\n",
        "Since we are only interested in the direction of  this vector, we will consider $u_1$ to be a unit vector i.e. $|\\vec u_1| = 1$.\n",
        "\n",
        "The projection of a data vector $x_i$ onto\n",
        "the unit vector $\\vec u$ can be given as:\n",
        "\\begin{equation}\n",
        "\\text{proj}_\\vec{u_1} \\vec {x_i}=\\frac{\\vec u_1 . \\vec x_i }{|\\vec u_1|}\n",
        "\\tag{from equation 4.3 }\n",
        "\\end{equation}\n",
        "\n",
        "As, $|\\vec u_1| = 1$ and $\\vec u_1 . \\vec x_i = u_1^T.x$ (from equation $3.3$),\n",
        "\n",
        "\\begin{equation}\n",
        "\\text{proj}_\\vec{u_1} \\vec {x_i}= u_1^T.x_i\n",
        "\\tag{5.1}\n",
        "\\end{equation}\n",
        "\n",
        "If $\\bar{x}$ is the mean of the data observations $x_i$ in the original space, then the mean of $x_i$ in the projected space is given by:\n",
        "\n",
        "\\begin{equation}\n",
        "\\text{proj}_\\vec{u_1} \\bar {x}= u_1^T.\\bar{x}\n",
        "\\tag{5.2}\n",
        "\\end{equation}\n",
        "\n",
        "**Calculating variance:**\n",
        "\n",
        "The variance of a dataset from its mean is calculated by finding the difference between each data value and the mean, squaring the differences and then finding the sum of all squared differences.\n",
        "\n",
        "Thus, the variance of projections is given as:\n",
        "\n",
        "\n",
        "\\begin{align}\n",
        "\\text {var}(x_i) &= \\frac{1}{N} \\sum\\limits_{i = 1}^N \\bigg[\\text{proj}_\\vec{u_1} \\vec {x_i} - \\text{proj}_\\vec{u_1} \\bar {x}\\bigg]^2 \\\\\n",
        "&= \\frac{1}{N} \\sum\\limits_{i = 1}^N \\bigg[u_1^T.x_i - u_1^T.\\bar{x}\\bigg]^2 \\\\\n",
        "&= \\frac{1}{N} \\sum\\limits_{i = 1}^N \\bigg[u_1^T .(x_i - \\bar{x})\\bigg]^2 \\\\\n",
        "&= \\frac{1}{N} \\sum\\limits_{i = 1}^N \\underbrace{\\bigg[u_1^T . (x_i - \\bar{x})\\bigg]}_\\text{1st term} \\underbrace{\\bigg[u_1^T . (x_i - \\bar{x})\\bigg]}_\\text{2nd term} \\\\ \\\\\n",
        "\\end{align}\n",
        "\n",
        "The $2^{nd}$ term in the above equation can also be written as : $\\bigg[u_1. (x_i - \\bar{x})^T\\bigg]$ as both $u_1$ and $(x_i - \\bar{x})$ are vectors and their dot product will be same no matter in whichever order we take transpose i.e.\n",
        "\n",
        "$\\bigg[u_1^T. (x_i - \\bar{x})\\bigg] \\equiv \\bigg[u_1. (x_i - \\bar{x})^T\\bigg]$\n",
        "\n",
        "Thus,\n",
        "\n",
        "\\begin{align}\n",
        "\\text {var}(x_i) &= \\frac{1}{N} \\sum\\limits_{i = 1}^N \\bigg[u_1^T . (x_i - \\bar{x})\\bigg]\\bigg[u_1 . (x_i - \\bar{x})^T\\bigg] \\\\\n",
        "&= u_1^T. u_1.\\frac{1}{N} \\sum\\limits_{i = 1}^N \\bigg[(x_i - \\bar{x}).(x_i - \\bar{x})^T \\bigg] \\\\\n",
        "&= u_1^T. S. u_1 \\\\\n",
        "\\end{align}\n",
        "\n",
        "Where, $S$ is the  covariance matrix of the observed data in the original high dimensional space.\n",
        "\n",
        "\n",
        "$S = \\frac{1}{N} \\sum\\limits_{i = 1}^N \\bigg[(x_i - \\bar{x}).(x_i - \\bar{x})^T \\bigg]$\n",
        "\n",
        "**Note:** Such covariance matrix is known as **closed form of covariance matrix**. We will not explore this in much detail.\n",
        "\n",
        "Thus,\n",
        "\\begin{align}\n",
        "\\text {var}(x_i) = u_1^T. S. u_1\n",
        "\\end{align}\n",
        "\n",
        "Our goal is to obtain a vector $u_1$ such that it  maximises variance of projections i.e. $\\text{var}(x_i)$ with the constraint $|u_1| = 1$ or $u_1^T. u_1 = 1$.\n",
        "\n",
        "Thus, the maximisation function looks like this:\n",
        "\n",
        "\\begin{align}\n",
        "\\text{max} \\space && u_1^T. S. u_1 \\\\\n",
        "\\text{subject to} \\space && u_1^T. u_1 = 1\n",
        "\\end{align}\n",
        "\n",
        "Such problems of constrained optimization can be solved easily using **Lagrangian multipliers**.\n",
        "This technique says that if we need to maximise a function $f(x)$ subject to constraint $g(x)=c$, we introduce the Lagrange multiplier $\\lambda$ and construct the Lagrangian $\\mathcal{L}(x, \\lambda)$:\n",
        "\n",
        "$$\\mathcal{L}(x, \\lambda) = f(x) - \\lambda (g(x) - c)$$\n",
        "\n",
        "In our case,\n",
        "- $f(x) = u_1^T. S. u_1$\n",
        "- $g(x) = u_1^T. u_1$\n",
        "- $c = 1$\n",
        "\n",
        "Thus, our Lagrangian is:\n",
        "\n",
        "$$\\mathcal{L}(u_1, \\lambda_1) = u_1^T. S. u_1 - \\lambda_1 (u_1^T. u_1 - 1)$$\n",
        "\n",
        "Taking partial derivative of above lagrangian function with respect to $u_1$,\n",
        "\n",
        "\\begin{align}\n",
        "\\frac{\\partial \\mathcal{L}}{\\partial u_1} = 2.S.u_1 - 2 .\\lambda_1. u_1\n",
        "\\tag{5.3}\n",
        "\\end{align}\n",
        "\n",
        "**Note:** We will not get into details of how to take partial derivatives of vectors. You can refer the following examples to understand common vector derivative. They look similar to scalar ones, hence you can memorise them easily. In these examples, $b$ is a constant scalar, and $B$ is a constant matrix.\n",
        "\n",
        "<img src=\"https://s3-whjr-v2-prod-bucket.whjr.online/5878b96e-c166-422c-9d1d-dad77589a6b8.PNG\"/>\n",
        "\n",
        "is beyond the scope\n",
        "equating the above equation to $0$, we get\n",
        "\\begin{align}\n",
        "2.S.u_1 - 2 .\\lambda_1. u_1 = 0 \\\\\n",
        "S.u_1 - \\lambda_1. u_1 = 0 \\\\\n",
        "\\boxed{S.u_1 = \\lambda_1. u_1} \\tag{5.4}\n",
        "\\end{align}\n",
        "\n",
        "This desired vector $u_1$ is nothing but an **eigenvector** of the covariance matrix $S$, and the maximum variance is equal to the **eigenvalue** $\\lambda_1$. This is good news because, all you need to do is find eigenvectors having the largest eigenvalue and you will get your principal component or the desired dimension.\n",
        "\n",
        "Similarly, we can obtain additional principal components  by choosing directions that maximise variance while being orthogonal to the existing ones.\n",
        "\n",
        "In the next class, we will learn how to calculate the eigenvectors and their corresponding eigenvalues and obtain the desired transformed axis.\n",
        "\n"
      ]
    },
    {
      "cell_type": "markdown",
      "metadata": {
        "id": "tcU6304LJ-q-"
      },
      "source": [
        "---"
      ]
    },
    {
      "cell_type": "markdown",
      "metadata": {
        "id": "KzzbtYirKA9_"
      },
      "source": [
        "#### Activities\n",
        "\n",
        "\n",
        "**Teacher Activities:**\n",
        "\n",
        "1. PCA - Vector Projections (Class Copy)\n",
        "\n",
        "   Link on Panel\n",
        "   \n",
        "2. PCA - Vector Projections (Reference)\n",
        "\n",
        "   Link on Panel"
      ]
    }
  ]
}