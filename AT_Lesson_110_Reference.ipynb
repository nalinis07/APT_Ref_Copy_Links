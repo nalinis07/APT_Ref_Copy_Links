{
  "nbformat": 4,
  "nbformat_minor": 0,
  "metadata": {
    "colab": {
      "provenance": [],
      "include_colab_link": true
    },
    "kernelspec": {
      "name": "python3",
      "display_name": "Python 3"
    },
    "language_info": {
      "name": "python"
    }
  },
  "cells": [
    {
      "cell_type": "markdown",
      "metadata": {
        "id": "view-in-github",
        "colab_type": "text"
      },
      "source": [
        "<a href=\"https://colab.research.google.com/github/nalinis07/APT_Ref_Copy_Links/blob/MASTER/AT_Lesson_110_Reference.ipynb\" target=\"_parent\"><img src=\"https://colab.research.google.com/assets/colab-badge.svg\" alt=\"Open In Colab\"/></a>"
      ]
    },
    {
      "cell_type": "markdown",
      "metadata": {
        "id": "b_RIOW8yUrd0"
      },
      "source": [
        "#Lesson 110: K-Means Clustering - RFM Analysis"
      ]
    },
    {
      "cell_type": "markdown",
      "metadata": {
        "id": "RhkBxdQRnPPY"
      },
      "source": [
        "**WARNING:** The reference notebook is meant **ONLY** for a teacher. Please **DO NOT** share it with any student.\n",
        "\n",
        "The contents of the reference notebook are meant only to prepare a teacher for a class. To conduct the class, use the class copy of the reference notebook. The link and the instructions for the same are provided in the **Notes To The Teacher** section.\n",
        "\n",
        "\n",
        "|Particulars|Description|\n",
        "|-|-|\n",
        "|**Topic**|K-Means Clustering - RFM Analysis|\n",
        "|||\n",
        "|**Class Description**|In this class, a student will learn a customer behaviour segmentation technique called RFM.|\n",
        "|||\n",
        "|**Class**|C110|\n",
        "|||\n",
        "|**Class Time**|55 minutes|\n",
        "|||\n",
        "|**Goal**|Removing cancelled orders and null values|\n",
        "||Understanding RFM analysis|\n",
        "||Merging DataFrames|\n",
        "|||\n",
        "|**Teacher Resources**|Google Account|\n",
        "||Laptop with internet connectivity|\n",
        "||Earphones with mic|\n",
        "|||\n",
        "|**Student Resources**|Google Account|\n",
        "||Laptop with internet connectivity|\n",
        "||Earphones with mic|"
      ]
    },
    {
      "cell_type": "markdown",
      "metadata": {
        "id": "kk7HmTyEn348"
      },
      "source": [
        "---"
      ]
    },
    {
      "cell_type": "markdown",
      "metadata": {
        "id": "RT7iiLnUnwFN"
      },
      "source": [
        "### Warm-up Quiz\n",
        "\n",
        "```\n",
        "TEACHER\n",
        "I have an exciting quiz question for you! Are you ready to answer this question?\n",
        "\n",
        "EXPECTED STUDENT RESPONSE\n",
        "Yes.\n",
        "```\n",
        "\n",
        "**Instructions for the Teacher:**\n",
        "- Please click on the \"Quiz Time\" button on the bottom right corner of your screen to start the In-Class Quiz. <img src='https://student-datasets-bucket.s3.ap-south-1.amazonaws.com/images/quiz-time.png' width = 150>\n",
        "\n",
        "- A quiz will be visible to both you and the student. Encourage the student to answer the quiz question.\n",
        "\n",
        "- The student may choose the wrong option, help the student to think correctly about the question and then answer again.\n",
        "\n",
        "- After the student selects the correct option, the \"End Quiz\" button will start appearing on your screen. <img src='https://student-datasets-bucket.s3.ap-south-1.amazonaws.com/images/end-quiz.png' width = 150>  \n",
        "\n",
        "- Click the \"End quiz\" button to close the quiz pop-up and continue the class.\n",
        "  \n",
        "- Do not spend more than 2 minutes on this quiz."
      ]
    },
    {
      "cell_type": "markdown",
      "metadata": {
        "id": "fIDGouSqn85Y"
      },
      "source": [
        "---"
      ]
    },
    {
      "cell_type": "markdown",
      "metadata": {
        "id": "EL8AB1d5_zeX"
      },
      "source": [
        "### Teacher-Student Activities\n",
        "\n",
        "In the previous class, we implemented the K-Means algorithm on a 3D dataset. We created clusters of customers based on their age, annual income, and spending score. We  also started working on a more complex problem statement of Customer Segmentation.\n",
        "\n",
        "In this class, we will continue working on the same problem statement. We will also learn a strategy for analysing customers based on three factors: Recency, Frequency, and Monetary Value, known as the **RFM** technique.\n",
        "\n",
        "Let's quickly run the code cells and go through the problem statement covered in the previous lesson and begin this lesson from **Activity 1: Removing the Cancelled Orders**.\n"
      ]
    },
    {
      "cell_type": "markdown",
      "metadata": {
        "id": "KPgOQQlKEUm7"
      },
      "source": [
        "---"
      ]
    },
    {
      "cell_type": "markdown",
      "metadata": {
        "id": "ij_TzinVbGn8"
      },
      "source": [
        "#### Customer Segmentation Problem Statement\n",
        "\n",
        "\n",
        "We have a transactional dataset that contains all the transactions occurring between 01/12/2010 and 09/12/2011 for a UK-based and registered non-store online retail. The company mainly sells unique all-occasion gifts. Many customers of the company are wholesalers.\n",
        "\n",
        "The company wants to segment its customers and determine marketing strategies according to these segments.\n",
        "\n",
        "The dataset consists of the following attributes:\n",
        "\n",
        "- `InvoiceNo`: Invoice number. Nominal, a 6-digit integral number uniquely assigned to each transaction. If this code starts with the letter 'c', it indicates a cancellation.\n",
        "\n",
        "- `StockCode`: Product (item) code. Nominal, a 5-digit integral number uniquely assigned to each distinct product.\n",
        "\n",
        "- `Description`: Product (item) name. Nominal.\n",
        "\n",
        "- `Quantity`: The quantities of each product (item) per transaction. Numeric.\n",
        "\n",
        "- `InvoiceDate`: Invoice date and time. Numeric, the day and time when each transaction was generated. The date-time format used here is `yyyy-mm-dd hh:mm:ss`.\n",
        "\n",
        "- `UnitPrice`: Unit price. Numeric, product price per unit in pound sterling, also known as GBP (Great Britain Pound).\n",
        "\n",
        "- `CustomerID`: Customer number. Nominal, a 5-digit integral number uniquely assigned to each customer.\n",
        "\n",
        "- `Country`: Country name. Nominal, the name of the country where each customer resides.\n",
        "\n",
        "\n",
        "\n",
        "**Dataset Credits:** https://archive.ics.uci.edu/ml/datasets/online+retail\n",
        "\n",
        "**Citation:** Dr Daqing Chen, Director: Public Analytics group. chend '@' lsbu.ac.uk, School of Engineering, London South Bank University, London SE1 0AA, UK.\n"
      ]
    },
    {
      "cell_type": "markdown",
      "metadata": {
        "id": "0ykAJfZMbxmD"
      },
      "source": [
        "---"
      ]
    },
    {
      "cell_type": "markdown",
      "metadata": {
        "id": "hxtni1ljbyeS"
      },
      "source": [
        "#### Loading the Dataset\n",
        "\n",
        "Let's import the necessary Python modules (if not imported yet) and read the data from an excel file to create a Pandas DataFrame.\n",
        "\n",
        "\n",
        "\n",
        "**Dataset Link:** https://s3-student-datasets-bucket.whjr.online/whitehat-ds-datasets/online-retail-customers.xlsx\n",
        "\n",
        "\n",
        "**Note:** Since the dataset is a Microsoft Excel file, i.e., in the `xlsx` format, we need to use the `read_excel()` function of the Pandas module."
      ]
    },
    {
      "cell_type": "code",
      "metadata": {
        "id": "aRmuQdXdbw1j"
      },
      "source": [
        "# Read the dataset and create a Pandas DataFrame.\n",
        "import numpy as np\n",
        "import pandas as pd\n",
        "import matplotlib.pyplot as plt\n",
        "import seaborn as sns\n",
        "\n",
        "file_path = \"https://s3-student-datasets-bucket.whjr.online/whitehat-ds-datasets/online-retail-customers.xlsx\"\n",
        "df = pd.read_excel(file_path)\n",
        "df.head()"
      ],
      "execution_count": null,
      "outputs": []
    },
    {
      "cell_type": "markdown",
      "metadata": {
        "id": "in97ZkG_ciVu"
      },
      "source": [
        "Now, let's find out the total number of rows and columns, datatypes of columns and missing values (if exist) in the dataset."
      ]
    },
    {
      "cell_type": "code",
      "metadata": {
        "id": "6Eqlk8JZcl0U"
      },
      "source": [
        "# Get the total number of rows and columns, datatypes of columns and missing values (if exist) in the dataset.\n",
        "df.info()"
      ],
      "execution_count": null,
      "outputs": []
    },
    {
      "cell_type": "markdown",
      "metadata": {
        "id": "AntXcXZnclP-"
      },
      "source": [
        "There are **541909 rows and 8 columns** and some columns have missing values in the dataset.  We will deal with these missing values in the upcoming section. Let us first deal with cancelled orders.\n",
        "\n",
        "As per the dataset description,  some of the values in field `InvoiceNo` may start with the letter **'C'**, to indicate cancelled orders. To search for the rows in the dataset where the `InvoiceNo` starts with 'C', we will use **Regular Expressions**."
      ]
    },
    {
      "cell_type": "markdown",
      "metadata": {
        "id": "8dn1MzbuiVZb"
      },
      "source": [
        "---"
      ]
    },
    {
      "cell_type": "markdown",
      "metadata": {
        "id": "xBO-urTixC1T"
      },
      "source": [
        "#### The `Series.str.contains()` function\n",
        "\n",
        "The `Series.str.contains()` function  is used to check if a pattern or regex is contained within a string of a pandas series or not.\n",
        "\n",
        "For example, let us use  `Series.str.contains()` function to find if a regex `i[a-n]` is present in the strings in the following pandas series:\n",
        "\n",
        "[`'India', 'China', 'Russia', 'Sweden', 'Syrian_Arab'`]\n",
        "\n"
      ]
    },
    {
      "cell_type": "code",
      "metadata": {
        "id": "3jTC-mTa0X38"
      },
      "source": [
        "# Look for pattern 'ia' in a pandas series.\n",
        "sr = pd.Series(['India', 'China', 'Russia', 'Sweden', 'Syrian_Arab'])\n",
        "result = sr.str.contains(pat = 'i[a-n]')\n",
        "\n",
        "# print the result\n",
        "print(result)"
      ],
      "execution_count": null,
      "outputs": []
    },
    {
      "cell_type": "markdown",
      "metadata": {
        "id": "4K3dkrwy2GbE"
      },
      "source": [
        "As we can see in the output, the `Series.str.contains()` function has returned boolean values for each string in the series. It is `True` if the passed regex is present in the string, else `False` is returned.\n",
        "\n",
        "Now we will use regex to search for cancelled orders in our dataset and will perform other data processing operations."
      ]
    },
    {
      "cell_type": "markdown",
      "metadata": {
        "id": "dSUaW6SqfxDu"
      },
      "source": [
        "---"
      ]
    },
    {
      "cell_type": "markdown",
      "metadata": {
        "id": "xrTg8DbrYas4"
      },
      "source": [
        "#### Activity 1: Removing the Cancelled Orders\n",
        "\n",
        "Now that we have learned how to use regex expressions to search for a pattern within a string, we will now utilise them to search for cancelled orders in our dataset.\n",
        "\n",
        "As per the dataset description, some of the values in field `InvoiceNo` may start with the letter 'C', to indicate cancelled orders. Let us first check the data type of the first row of `InvoiceNo` field.\n"
      ]
    },
    {
      "cell_type": "code",
      "metadata": {
        "colab": {
          "base_uri": "https://localhost:8080/"
        },
        "id": "FQV34_y6Zt-O",
        "outputId": "17531313-09d7-4705-c298-42f3ef74bce7"
      },
      "source": [
        "# S1.1: Check the data type of 'InvoiceNo' field\n",
        "type(df['InvoiceNo'][0])"
      ],
      "execution_count": null,
      "outputs": [
        {
          "output_type": "execute_result",
          "data": {
            "text/plain": [
              "int"
            ]
          },
          "metadata": {},
          "execution_count": 4
        }
      ]
    },
    {
      "cell_type": "markdown",
      "metadata": {
        "id": "gkQAynUnfnRe"
      },
      "source": [
        "The `InvoiceNo` field has integer values but to find the cancelled orders using **RegEx**, it has to be converted to string data type.\n",
        "\n",
        "Use `DataFrame.astype('str')` function to convert the data type of `InvoiceNo` column to string."
      ]
    },
    {
      "cell_type": "code",
      "metadata": {
        "colab": {
          "base_uri": "https://localhost:8080/"
        },
        "id": "xQBlGdpZdiyu",
        "outputId": "53b70bc7-5d40-4602-dec1-a7b050d8643d"
      },
      "source": [
        "# S1.2: Convert 'InvoiceNo' field to string and verify whether the data type is converted or not.\n",
        "df['InvoiceNo'] = df['InvoiceNo'].astype('str')\n",
        "type(df['InvoiceNo'][0])"
      ],
      "execution_count": null,
      "outputs": [
        {
          "output_type": "execute_result",
          "data": {
            "text/plain": [
              "str"
            ]
          },
          "metadata": {},
          "execution_count": 5
        }
      ]
    },
    {
      "cell_type": "markdown",
      "metadata": {
        "id": "NML-VuK6gslX"
      },
      "source": [
        "The values of the `InvoiceNo` column has now been converted into a string. Next, let's search for  the `InvoiceNo` that contains `C` using Regular Expressions.\n",
        "\n",
        "\n",
        "We will use `Series.str.contains()` function to check whether any `InvoiceNo` column values contains `C`. Recall the syntax of  `Series.str.contains()` function.\n",
        "\n",
        "**Syntax:** `Series.str.contains(pat, flags = 0, regex = True)`\n",
        "\n",
        "Pass the following values to the above function:\n",
        "\n",
        "- `df[df['InvoiceNo']]` as `Series`.\n",
        "- `pat = C`\n",
        "\n",
        "-  `flags = re.IGNORECASE`: To include both lowercase and uppercase strings in the search.\n",
        "- `regex = True` to indicate that the pattern `pat = C`  is a regex.\n",
        ""
      ]
    },
    {
      "cell_type": "code",
      "metadata": {
        "colab": {
          "base_uri": "https://localhost:8080/",
          "height": 589
        },
        "id": "b4SkZY-ZcodY",
        "outputId": "c4303fe0-9cd1-4f7a-b72d-351286cbbee5"
      },
      "source": [
        "# S1.3: Use regex to find 'C' in the 'InvoiceNo' field\n",
        "import re\n",
        "df[df['InvoiceNo'].str.contains(pat = 'C', flags = re.IGNORECASE)]"
      ],
      "execution_count": null,
      "outputs": [
        {
          "output_type": "execute_result",
          "data": {
            "text/html": [
              "<div>\n",
              "<style scoped>\n",
              "    .dataframe tbody tr th:only-of-type {\n",
              "        vertical-align: middle;\n",
              "    }\n",
              "\n",
              "    .dataframe tbody tr th {\n",
              "        vertical-align: top;\n",
              "    }\n",
              "\n",
              "    .dataframe thead th {\n",
              "        text-align: right;\n",
              "    }\n",
              "</style>\n",
              "<table border=\"1\" class=\"dataframe\">\n",
              "  <thead>\n",
              "    <tr style=\"text-align: right;\">\n",
              "      <th></th>\n",
              "      <th>InvoiceNo</th>\n",
              "      <th>StockCode</th>\n",
              "      <th>Description</th>\n",
              "      <th>Quantity</th>\n",
              "      <th>InvoiceDate</th>\n",
              "      <th>UnitPrice</th>\n",
              "      <th>CustomerID</th>\n",
              "      <th>Country</th>\n",
              "    </tr>\n",
              "  </thead>\n",
              "  <tbody>\n",
              "    <tr>\n",
              "      <th>141</th>\n",
              "      <td>C536379</td>\n",
              "      <td>D</td>\n",
              "      <td>Discount</td>\n",
              "      <td>-1</td>\n",
              "      <td>2010-12-01 09:41:00</td>\n",
              "      <td>27.50</td>\n",
              "      <td>14527.0</td>\n",
              "      <td>United Kingdom</td>\n",
              "    </tr>\n",
              "    <tr>\n",
              "      <th>154</th>\n",
              "      <td>C536383</td>\n",
              "      <td>35004C</td>\n",
              "      <td>SET OF 3 COLOURED  FLYING DUCKS</td>\n",
              "      <td>-1</td>\n",
              "      <td>2010-12-01 09:49:00</td>\n",
              "      <td>4.65</td>\n",
              "      <td>15311.0</td>\n",
              "      <td>United Kingdom</td>\n",
              "    </tr>\n",
              "    <tr>\n",
              "      <th>235</th>\n",
              "      <td>C536391</td>\n",
              "      <td>22556</td>\n",
              "      <td>PLASTERS IN TIN CIRCUS PARADE</td>\n",
              "      <td>-12</td>\n",
              "      <td>2010-12-01 10:24:00</td>\n",
              "      <td>1.65</td>\n",
              "      <td>17548.0</td>\n",
              "      <td>United Kingdom</td>\n",
              "    </tr>\n",
              "    <tr>\n",
              "      <th>236</th>\n",
              "      <td>C536391</td>\n",
              "      <td>21984</td>\n",
              "      <td>PACK OF 12 PINK PAISLEY TISSUES</td>\n",
              "      <td>-24</td>\n",
              "      <td>2010-12-01 10:24:00</td>\n",
              "      <td>0.29</td>\n",
              "      <td>17548.0</td>\n",
              "      <td>United Kingdom</td>\n",
              "    </tr>\n",
              "    <tr>\n",
              "      <th>237</th>\n",
              "      <td>C536391</td>\n",
              "      <td>21983</td>\n",
              "      <td>PACK OF 12 BLUE PAISLEY TISSUES</td>\n",
              "      <td>-24</td>\n",
              "      <td>2010-12-01 10:24:00</td>\n",
              "      <td>0.29</td>\n",
              "      <td>17548.0</td>\n",
              "      <td>United Kingdom</td>\n",
              "    </tr>\n",
              "    <tr>\n",
              "      <th>...</th>\n",
              "      <td>...</td>\n",
              "      <td>...</td>\n",
              "      <td>...</td>\n",
              "      <td>...</td>\n",
              "      <td>...</td>\n",
              "      <td>...</td>\n",
              "      <td>...</td>\n",
              "      <td>...</td>\n",
              "    </tr>\n",
              "    <tr>\n",
              "      <th>540449</th>\n",
              "      <td>C581490</td>\n",
              "      <td>23144</td>\n",
              "      <td>ZINC T-LIGHT HOLDER STARS SMALL</td>\n",
              "      <td>-11</td>\n",
              "      <td>2011-12-09 09:57:00</td>\n",
              "      <td>0.83</td>\n",
              "      <td>14397.0</td>\n",
              "      <td>United Kingdom</td>\n",
              "    </tr>\n",
              "    <tr>\n",
              "      <th>541541</th>\n",
              "      <td>C581499</td>\n",
              "      <td>M</td>\n",
              "      <td>Manual</td>\n",
              "      <td>-1</td>\n",
              "      <td>2011-12-09 10:28:00</td>\n",
              "      <td>224.69</td>\n",
              "      <td>15498.0</td>\n",
              "      <td>United Kingdom</td>\n",
              "    </tr>\n",
              "    <tr>\n",
              "      <th>541715</th>\n",
              "      <td>C581568</td>\n",
              "      <td>21258</td>\n",
              "      <td>VICTORIAN SEWING BOX LARGE</td>\n",
              "      <td>-5</td>\n",
              "      <td>2011-12-09 11:57:00</td>\n",
              "      <td>10.95</td>\n",
              "      <td>15311.0</td>\n",
              "      <td>United Kingdom</td>\n",
              "    </tr>\n",
              "    <tr>\n",
              "      <th>541716</th>\n",
              "      <td>C581569</td>\n",
              "      <td>84978</td>\n",
              "      <td>HANGING HEART JAR T-LIGHT HOLDER</td>\n",
              "      <td>-1</td>\n",
              "      <td>2011-12-09 11:58:00</td>\n",
              "      <td>1.25</td>\n",
              "      <td>17315.0</td>\n",
              "      <td>United Kingdom</td>\n",
              "    </tr>\n",
              "    <tr>\n",
              "      <th>541717</th>\n",
              "      <td>C581569</td>\n",
              "      <td>20979</td>\n",
              "      <td>36 PENCILS TUBE RED RETROSPOT</td>\n",
              "      <td>-5</td>\n",
              "      <td>2011-12-09 11:58:00</td>\n",
              "      <td>1.25</td>\n",
              "      <td>17315.0</td>\n",
              "      <td>United Kingdom</td>\n",
              "    </tr>\n",
              "  </tbody>\n",
              "</table>\n",
              "<p>9288 rows × 8 columns</p>\n",
              "</div>"
            ],
            "text/plain": [
              "       InvoiceNo StockCode  ... CustomerID         Country\n",
              "141      C536379         D  ...    14527.0  United Kingdom\n",
              "154      C536383    35004C  ...    15311.0  United Kingdom\n",
              "235      C536391     22556  ...    17548.0  United Kingdom\n",
              "236      C536391     21984  ...    17548.0  United Kingdom\n",
              "237      C536391     21983  ...    17548.0  United Kingdom\n",
              "...          ...       ...  ...        ...             ...\n",
              "540449   C581490     23144  ...    14397.0  United Kingdom\n",
              "541541   C581499         M  ...    15498.0  United Kingdom\n",
              "541715   C581568     21258  ...    15311.0  United Kingdom\n",
              "541716   C581569     84978  ...    17315.0  United Kingdom\n",
              "541717   C581569     20979  ...    17315.0  United Kingdom\n",
              "\n",
              "[9288 rows x 8 columns]"
            ]
          },
          "metadata": {},
          "execution_count": 6
        }
      ]
    },
    {
      "cell_type": "markdown",
      "metadata": {
        "id": "iwrV9XeqkfhG"
      },
      "source": [
        "In the output, you may observe that there are 9288 orders whose `InvoiceNo` contains 'C'. Thus, there are 9288 cancelled orders.\n",
        "\n",
        "Let us remove these cancelled orders from total orders. For that, first, check the total number of orders."
      ]
    },
    {
      "cell_type": "code",
      "metadata": {
        "colab": {
          "base_uri": "https://localhost:8080/"
        },
        "id": "ngZZCcVYke_G",
        "outputId": "ca252be7-39be-4760-ba30-5d2739d50ca7"
      },
      "source": [
        "# S1.4: Check total number of orders including cancelled orders.\n",
        "df['InvoiceNo'].shape[0]"
      ],
      "execution_count": null,
      "outputs": [
        {
          "output_type": "execute_result",
          "data": {
            "text/plain": [
              "541909"
            ]
          },
          "metadata": {},
          "execution_count": 7
        }
      ]
    },
    {
      "cell_type": "markdown",
      "metadata": {
        "id": "zBHJPLO6m7uf"
      },
      "source": [
        "Thus, there are total 541909 orders out of which 9288 orders were cancelled.\n",
        "\n",
        "Let us remove cancelled orders from the DataFrame which will give us **532621** (541909 - 9288 = 532621) delivered orders."
      ]
    },
    {
      "cell_type": "code",
      "metadata": {
        "colab": {
          "base_uri": "https://localhost:8080/",
          "height": 589
        },
        "id": "O6rFuUpLn0jm",
        "outputId": "332ffd59-d17f-48ef-b1dd-23196120e994"
      },
      "source": [
        "# S1.5: Remove cancelled invoices from the dataset\n",
        "df = df[~(df['InvoiceNo'].str.contains('C', flags = re.IGNORECASE, regex = True))]\n",
        "df"
      ],
      "execution_count": null,
      "outputs": [
        {
          "output_type": "execute_result",
          "data": {
            "text/html": [
              "<div>\n",
              "<style scoped>\n",
              "    .dataframe tbody tr th:only-of-type {\n",
              "        vertical-align: middle;\n",
              "    }\n",
              "\n",
              "    .dataframe tbody tr th {\n",
              "        vertical-align: top;\n",
              "    }\n",
              "\n",
              "    .dataframe thead th {\n",
              "        text-align: right;\n",
              "    }\n",
              "</style>\n",
              "<table border=\"1\" class=\"dataframe\">\n",
              "  <thead>\n",
              "    <tr style=\"text-align: right;\">\n",
              "      <th></th>\n",
              "      <th>InvoiceNo</th>\n",
              "      <th>StockCode</th>\n",
              "      <th>Description</th>\n",
              "      <th>Quantity</th>\n",
              "      <th>InvoiceDate</th>\n",
              "      <th>UnitPrice</th>\n",
              "      <th>CustomerID</th>\n",
              "      <th>Country</th>\n",
              "    </tr>\n",
              "  </thead>\n",
              "  <tbody>\n",
              "    <tr>\n",
              "      <th>0</th>\n",
              "      <td>536365</td>\n",
              "      <td>85123A</td>\n",
              "      <td>WHITE HANGING HEART T-LIGHT HOLDER</td>\n",
              "      <td>6</td>\n",
              "      <td>2010-12-01 08:26:00</td>\n",
              "      <td>2.55</td>\n",
              "      <td>17850.0</td>\n",
              "      <td>United Kingdom</td>\n",
              "    </tr>\n",
              "    <tr>\n",
              "      <th>1</th>\n",
              "      <td>536365</td>\n",
              "      <td>71053</td>\n",
              "      <td>WHITE METAL LANTERN</td>\n",
              "      <td>6</td>\n",
              "      <td>2010-12-01 08:26:00</td>\n",
              "      <td>3.39</td>\n",
              "      <td>17850.0</td>\n",
              "      <td>United Kingdom</td>\n",
              "    </tr>\n",
              "    <tr>\n",
              "      <th>2</th>\n",
              "      <td>536365</td>\n",
              "      <td>84406B</td>\n",
              "      <td>CREAM CUPID HEARTS COAT HANGER</td>\n",
              "      <td>8</td>\n",
              "      <td>2010-12-01 08:26:00</td>\n",
              "      <td>2.75</td>\n",
              "      <td>17850.0</td>\n",
              "      <td>United Kingdom</td>\n",
              "    </tr>\n",
              "    <tr>\n",
              "      <th>3</th>\n",
              "      <td>536365</td>\n",
              "      <td>84029G</td>\n",
              "      <td>KNITTED UNION FLAG HOT WATER BOTTLE</td>\n",
              "      <td>6</td>\n",
              "      <td>2010-12-01 08:26:00</td>\n",
              "      <td>3.39</td>\n",
              "      <td>17850.0</td>\n",
              "      <td>United Kingdom</td>\n",
              "    </tr>\n",
              "    <tr>\n",
              "      <th>4</th>\n",
              "      <td>536365</td>\n",
              "      <td>84029E</td>\n",
              "      <td>RED WOOLLY HOTTIE WHITE HEART.</td>\n",
              "      <td>6</td>\n",
              "      <td>2010-12-01 08:26:00</td>\n",
              "      <td>3.39</td>\n",
              "      <td>17850.0</td>\n",
              "      <td>United Kingdom</td>\n",
              "    </tr>\n",
              "    <tr>\n",
              "      <th>...</th>\n",
              "      <td>...</td>\n",
              "      <td>...</td>\n",
              "      <td>...</td>\n",
              "      <td>...</td>\n",
              "      <td>...</td>\n",
              "      <td>...</td>\n",
              "      <td>...</td>\n",
              "      <td>...</td>\n",
              "    </tr>\n",
              "    <tr>\n",
              "      <th>541904</th>\n",
              "      <td>581587</td>\n",
              "      <td>22613</td>\n",
              "      <td>PACK OF 20 SPACEBOY NAPKINS</td>\n",
              "      <td>12</td>\n",
              "      <td>2011-12-09 12:50:00</td>\n",
              "      <td>0.85</td>\n",
              "      <td>12680.0</td>\n",
              "      <td>France</td>\n",
              "    </tr>\n",
              "    <tr>\n",
              "      <th>541905</th>\n",
              "      <td>581587</td>\n",
              "      <td>22899</td>\n",
              "      <td>CHILDREN'S APRON DOLLY GIRL</td>\n",
              "      <td>6</td>\n",
              "      <td>2011-12-09 12:50:00</td>\n",
              "      <td>2.10</td>\n",
              "      <td>12680.0</td>\n",
              "      <td>France</td>\n",
              "    </tr>\n",
              "    <tr>\n",
              "      <th>541906</th>\n",
              "      <td>581587</td>\n",
              "      <td>23254</td>\n",
              "      <td>CHILDRENS CUTLERY DOLLY GIRL</td>\n",
              "      <td>4</td>\n",
              "      <td>2011-12-09 12:50:00</td>\n",
              "      <td>4.15</td>\n",
              "      <td>12680.0</td>\n",
              "      <td>France</td>\n",
              "    </tr>\n",
              "    <tr>\n",
              "      <th>541907</th>\n",
              "      <td>581587</td>\n",
              "      <td>23255</td>\n",
              "      <td>CHILDRENS CUTLERY CIRCUS PARADE</td>\n",
              "      <td>4</td>\n",
              "      <td>2011-12-09 12:50:00</td>\n",
              "      <td>4.15</td>\n",
              "      <td>12680.0</td>\n",
              "      <td>France</td>\n",
              "    </tr>\n",
              "    <tr>\n",
              "      <th>541908</th>\n",
              "      <td>581587</td>\n",
              "      <td>22138</td>\n",
              "      <td>BAKING SET 9 PIECE RETROSPOT</td>\n",
              "      <td>3</td>\n",
              "      <td>2011-12-09 12:50:00</td>\n",
              "      <td>4.95</td>\n",
              "      <td>12680.0</td>\n",
              "      <td>France</td>\n",
              "    </tr>\n",
              "  </tbody>\n",
              "</table>\n",
              "<p>532621 rows × 8 columns</p>\n",
              "</div>"
            ],
            "text/plain": [
              "       InvoiceNo StockCode  ... CustomerID         Country\n",
              "0         536365    85123A  ...    17850.0  United Kingdom\n",
              "1         536365     71053  ...    17850.0  United Kingdom\n",
              "2         536365    84406B  ...    17850.0  United Kingdom\n",
              "3         536365    84029G  ...    17850.0  United Kingdom\n",
              "4         536365    84029E  ...    17850.0  United Kingdom\n",
              "...          ...       ...  ...        ...             ...\n",
              "541904    581587     22613  ...    12680.0          France\n",
              "541905    581587     22899  ...    12680.0          France\n",
              "541906    581587     23254  ...    12680.0          France\n",
              "541907    581587     23255  ...    12680.0          France\n",
              "541908    581587     22138  ...    12680.0          France\n",
              "\n",
              "[532621 rows x 8 columns]"
            ]
          },
          "metadata": {},
          "execution_count": 8
        }
      ]
    },
    {
      "cell_type": "markdown",
      "metadata": {
        "id": "vT_IamR2oCWw"
      },
      "source": [
        "Thus, we obtained a DataFrame of 532621 rows consisting of delivered orders. Let us now remove the null values from the DataFrame."
      ]
    },
    {
      "cell_type": "markdown",
      "metadata": {
        "id": "GfJp3XPLo3_X"
      },
      "source": [
        "---"
      ]
    },
    {
      "cell_type": "markdown",
      "metadata": {
        "id": "81odQgmJo4mH"
      },
      "source": [
        "#### Activity 2: Removing Null Values\n",
        "\n",
        "Now it's time to check which column has missing or null values. Let us now obtain the total count of null values in each column of `df`."
      ]
    },
    {
      "cell_type": "code",
      "metadata": {
        "colab": {
          "base_uri": "https://localhost:8080/"
        },
        "id": "U_FqhoLopf2f",
        "outputId": "a812d355-f6e4-4ee7-9e04-5873b5d1d4ac"
      },
      "source": [
        "# S2.1: Obtain the number of missing or null values in df\n",
        "df.isnull().sum()"
      ],
      "execution_count": null,
      "outputs": [
        {
          "output_type": "execute_result",
          "data": {
            "text/plain": [
              "InvoiceNo           0\n",
              "StockCode           0\n",
              "Description      1454\n",
              "Quantity            0\n",
              "InvoiceDate         0\n",
              "UnitPrice           0\n",
              "CustomerID     134697\n",
              "Country             0\n",
              "dtype: int64"
            ]
          },
          "metadata": {},
          "execution_count": 9
        }
      ]
    },
    {
      "cell_type": "markdown",
      "metadata": {
        "id": "Dpex8p6zqBPP"
      },
      "source": [
        "So, there are null values in the `Description` and `CustomerID` column. Let us obtain the percentage of null values with respect to the total rows in the DataFrame."
      ]
    },
    {
      "cell_type": "code",
      "metadata": {
        "colab": {
          "base_uri": "https://localhost:8080/"
        },
        "id": "8RMFyvJKqxph",
        "outputId": "bcc1e194-e670-4ac6-dcf6-97d96ffc0572"
      },
      "source": [
        "# S2.2: Determine the percentage of null values in each column.\n",
        "df.isnull().sum() * 100 / df.shape[0]"
      ],
      "execution_count": null,
      "outputs": [
        {
          "output_type": "execute_result",
          "data": {
            "text/plain": [
              "InvoiceNo       0.000000\n",
              "StockCode       0.000000\n",
              "Description     0.272990\n",
              "Quantity        0.000000\n",
              "InvoiceDate     0.000000\n",
              "UnitPrice       0.000000\n",
              "CustomerID     25.289465\n",
              "Country         0.000000\n",
              "dtype: float64"
            ]
          },
          "metadata": {},
          "execution_count": 10
        }
      ]
    },
    {
      "cell_type": "markdown",
      "metadata": {
        "id": "-h93ZBQksmw5"
      },
      "source": [
        "Thus, the `CustomerID` column has around 25% null values and the `Description` column has around 0.27% null values. Let us simply remove these null value rows from the DataFrame."
      ]
    },
    {
      "cell_type": "code",
      "metadata": {
        "colab": {
          "base_uri": "https://localhost:8080/"
        },
        "id": "Wyrk8xrgtDOf",
        "outputId": "272f0107-14ad-483b-e6c5-488aecc4fddf"
      },
      "source": [
        "# S2.3: Remove the null valued rows.\n",
        "print(f\"Before removing null values:\\nNumber of rows = {df.shape[0]}\")\n",
        "df.dropna(inplace = True)\n",
        "print(f\"After removing null values:\\nNumber of rows = {df.shape[0]}\")"
      ],
      "execution_count": null,
      "outputs": [
        {
          "output_type": "stream",
          "name": "stdout",
          "text": [
            "Before removing null values:\n",
            "Number of rows = 532621\n",
            "After removing null values:\n",
            "Number of rows = 397924\n"
          ]
        }
      ]
    },
    {
      "cell_type": "markdown",
      "metadata": {
        "id": "PxyEADWDtcLH"
      },
      "source": [
        "Let us reconfirm whether there are still any missing or null values in the DataFrame."
      ]
    },
    {
      "cell_type": "code",
      "metadata": {
        "colab": {
          "base_uri": "https://localhost:8080/"
        },
        "id": "wmO1TgxPtxgG",
        "outputId": "3199fffa-4da6-4525-9055-7bd6c8f469fb"
      },
      "source": [
        "# S2.4: Again obtain the number of null values in df.\n",
        "df.isnull().sum()"
      ],
      "execution_count": null,
      "outputs": [
        {
          "output_type": "execute_result",
          "data": {
            "text/plain": [
              "InvoiceNo      0\n",
              "StockCode      0\n",
              "Description    0\n",
              "Quantity       0\n",
              "InvoiceDate    0\n",
              "UnitPrice      0\n",
              "CustomerID     0\n",
              "Country        0\n",
              "dtype: int64"
            ]
          },
          "metadata": {},
          "execution_count": 12
        }
      ]
    },
    {
      "cell_type": "markdown",
      "metadata": {
        "id": "-OyC2glSuGeP"
      },
      "source": [
        "Our DataFrame is now free from null or missing values. Let us check the data type of `CustomerID` column."
      ]
    },
    {
      "cell_type": "code",
      "metadata": {
        "colab": {
          "base_uri": "https://localhost:8080/"
        },
        "id": "hvR3hV4duS1m",
        "outputId": "d6adb875-4a73-4458-86d8-f10f82d28bc7"
      },
      "source": [
        "# S2.5: Check the data type of CustomerID column.\n",
        "df['CustomerID'].dtype"
      ],
      "execution_count": null,
      "outputs": [
        {
          "output_type": "execute_result",
          "data": {
            "text/plain": [
              "dtype('float64')"
            ]
          },
          "metadata": {},
          "execution_count": 13
        }
      ]
    },
    {
      "cell_type": "markdown",
      "metadata": {
        "id": "c3qQ2rJ340eP"
      },
      "source": [
        "The `CustomerID` column is of float data type. We need to convert it into integer-based categorical column as `CustomerID` cannot be a floating-point value."
      ]
    },
    {
      "cell_type": "code",
      "metadata": {
        "colab": {
          "base_uri": "https://localhost:8080/"
        },
        "id": "CUgC1hwh6NeH",
        "outputId": "70711bf1-e11d-4da8-e079-2a1938d80864"
      },
      "source": [
        "# S2.6: Convert 'CustomerID' field to integer based categorical column.\n",
        "df['CustomerID'] = df['CustomerID'].astype('int64').astype('category')\n",
        "df['CustomerID'].dtype"
      ],
      "execution_count": null,
      "outputs": [
        {
          "output_type": "execute_result",
          "data": {
            "text/plain": [
              "CategoricalDtype(categories=[12346, 12347, 12348, 12349, 12350, 12352, 12353, 12354,\n",
              "                  12355, 12356,\n",
              "                  ...\n",
              "                  18273, 18274, 18276, 18277, 18278, 18280, 18281, 18282,\n",
              "                  18283, 18287],\n",
              "                 ordered=False)"
            ]
          },
          "metadata": {},
          "execution_count": 14
        }
      ]
    },
    {
      "cell_type": "markdown",
      "metadata": {
        "id": "kDrOkPwy6Yda"
      },
      "source": [
        "Here we can see the `CustomerID` field is now a category based field. Next, proceed with clustering for customer segmentation. For customer segmentation, we will use a well-established approach known as **RFM Analysis**."
      ]
    },
    {
      "cell_type": "markdown",
      "metadata": {
        "id": "yGTdeUWCETjj"
      },
      "source": [
        "---"
      ]
    },
    {
      "cell_type": "markdown",
      "metadata": {
        "id": "iIUTjZ_dEUX2"
      },
      "source": [
        "#### Understanding RFM\n",
        "\n",
        "RFM stands for Recency, Frequency and Monetary. It is a customer segmentation technique that uses past purchase transactions to divide customers into groups. RFM analysis involves calculating the following three factors:\n",
        " - **Recency:**  How recently the customer has made their purchase.\n",
        " - **Frequency:**  How often customers have made their purchases.\n",
        " - **Monetary:** How much money customers have paid for their purchases.\n",
        "\n",
        "Let us understand these three factors in more detail.\n",
        "\n",
        "**1. Recency**\n",
        "\n",
        "- It indicates how recently the customer has made their purchase.\n",
        "- It will give you the number of days that have passed since the last purchase made by a customer.\n",
        "- For example, if `recency = 10` for a particular customer, it means that the last transaction made by that customer was 10 days before.\n",
        "\n",
        "Consider the following rows from the given dataset:\n",
        "\n",
        "<img src=\"https://s3-whjr-v2-prod-bucket.whjr.online/0ff9de93-0dc3-4880-9698-e193c139b47c.PNG\"/>\n",
        "\n",
        "\n",
        "From the above table, it is visible that the customers having `CustomerID` as 12680 and 12462 have recently ordered some items. Thus, the **recency** of purchase can be easily calculated by inspecting `InvoiceDate` and `CustomerID` columns.\n",
        "\n"
      ]
    },
    {
      "cell_type": "markdown",
      "metadata": {
        "id": "FPTBrITZiOFU"
      },
      "source": [
        "**2. Frequency:**\n",
        "\n",
        "- It indicates how frequently the customers have made their purchases.\n",
        "- It will give you the total number of transactions made by a customer.\n",
        "- For example, if `frequency = 2` for a particular customer, it means that the customer has made 2 purchases in total.\n",
        "\n",
        "Consider the following rows from the given dataset:\n",
        "\n",
        "<img src=\"https://s3-whjr-v2-prod-bucket.whjr.online/b0af1160-4d33-4001-b541-76883ba5c8c7.PNG\"/>\n",
        "\n",
        "\n",
        "\n",
        "By looking at `InvoiceNo` and `CustomerID` column, we can say that:\n",
        "- `CustomerID` 13081 has made 3 transactions.\n",
        "- `CustomerID` 17850 has made 1 transaction and `CustomerID` 12462 has made 2 transactions.\n",
        "\n",
        "Thus, the **frequency** of purchase can be easily calculated by inspecting `InvoiceNo` and `CustomerID` columns."
      ]
    },
    {
      "cell_type": "markdown",
      "metadata": {
        "id": "QExXm8Ein6gQ"
      },
      "source": [
        "**3. Monetary**\n",
        "\n",
        "- It indicates how much money customers have paid for their purchases.\n",
        "- It will give you the total amount spent by a customer.\n",
        "\n",
        "Consider the following rows from the given dataset:\n",
        "\n",
        "<img src= 'https://s3-whjr-v2-prod-bucket.whjr.online/b3937de2-b1ab-4e76-9632-b904088e9628.png'/>\n",
        "\n",
        "\n",
        "The total amount made by a customer in a transaction can be obtained by multiplying the values of `Quantity` and `UnitPrice` columns.\n",
        "\n",
        "\n",
        "From the above table, we can say that:\n",
        "\n",
        "- The total amount spent by `CustomerID` 13081 is: $10 \\times 1.65 = 16.5$ GBP (Great Britain Pound).\n",
        "\n",
        "- Total amount spent by `CustomerID` 17850 is: $ (6 \\times 2.55) +(6 \\times 3.39) = 15.3 + 20.34 = 35.64$ GBP.\n",
        "\n",
        "Thus, the **monetary** value of the purchase can be easily calculated by inspecting `Quantity`, `UnitPrice` and `CustomerID` columns.\n",
        "\n",
        "**Summarising RFM:**\n",
        "\n",
        "Consider customer `A` made 2 transactions in this year: one was 100 days ago with 200 GBP and the other one was 90 days ago with 300 GBP. In this case,\n",
        "- `recency = 90 days`\n",
        "- `frequency = 2`\n",
        "- `monetary = 500 GBP`\n",
        "\n",
        "**Advantages of RFM model in customer analysis:**\n",
        "\n",
        "- The more recent the purchase, the more responsive the customer is to promotions.\n",
        "\n",
        "- The more frequently the customer buys, the more engaged and satisfied they are.\n",
        "\n",
        "- Monetary value differentiates heavy spenders from low spenders.\n",
        "\n",
        "Let us now obtain the **RFM** model from our customer segmentation dataset."
      ]
    },
    {
      "cell_type": "markdown",
      "metadata": {
        "id": "3nYho9nAwpwR"
      },
      "source": [
        "---"
      ]
    },
    {
      "cell_type": "markdown",
      "metadata": {
        "id": "5adWsY8fwq24"
      },
      "source": [
        "#### Activity 3: RFM analysis\n",
        "\n",
        "Let us first check the first 5 rows of this dataset."
      ]
    },
    {
      "cell_type": "code",
      "metadata": {
        "colab": {
          "base_uri": "https://localhost:8080/",
          "height": 289
        },
        "id": "wtf2xnHI4kSU",
        "outputId": "3ea9beeb-fb33-4337-f8a0-5bf870062820"
      },
      "source": [
        "# S3.1: Check the first 5 samples of the DataFrame\n",
        "df.head()"
      ],
      "execution_count": null,
      "outputs": [
        {
          "output_type": "execute_result",
          "data": {
            "text/html": [
              "<div>\n",
              "<style scoped>\n",
              "    .dataframe tbody tr th:only-of-type {\n",
              "        vertical-align: middle;\n",
              "    }\n",
              "\n",
              "    .dataframe tbody tr th {\n",
              "        vertical-align: top;\n",
              "    }\n",
              "\n",
              "    .dataframe thead th {\n",
              "        text-align: right;\n",
              "    }\n",
              "</style>\n",
              "<table border=\"1\" class=\"dataframe\">\n",
              "  <thead>\n",
              "    <tr style=\"text-align: right;\">\n",
              "      <th></th>\n",
              "      <th>InvoiceNo</th>\n",
              "      <th>StockCode</th>\n",
              "      <th>Description</th>\n",
              "      <th>Quantity</th>\n",
              "      <th>InvoiceDate</th>\n",
              "      <th>UnitPrice</th>\n",
              "      <th>CustomerID</th>\n",
              "      <th>Country</th>\n",
              "    </tr>\n",
              "  </thead>\n",
              "  <tbody>\n",
              "    <tr>\n",
              "      <th>0</th>\n",
              "      <td>536365</td>\n",
              "      <td>85123A</td>\n",
              "      <td>WHITE HANGING HEART T-LIGHT HOLDER</td>\n",
              "      <td>6</td>\n",
              "      <td>2010-12-01 08:26:00</td>\n",
              "      <td>2.55</td>\n",
              "      <td>17850</td>\n",
              "      <td>United Kingdom</td>\n",
              "    </tr>\n",
              "    <tr>\n",
              "      <th>1</th>\n",
              "      <td>536365</td>\n",
              "      <td>71053</td>\n",
              "      <td>WHITE METAL LANTERN</td>\n",
              "      <td>6</td>\n",
              "      <td>2010-12-01 08:26:00</td>\n",
              "      <td>3.39</td>\n",
              "      <td>17850</td>\n",
              "      <td>United Kingdom</td>\n",
              "    </tr>\n",
              "    <tr>\n",
              "      <th>2</th>\n",
              "      <td>536365</td>\n",
              "      <td>84406B</td>\n",
              "      <td>CREAM CUPID HEARTS COAT HANGER</td>\n",
              "      <td>8</td>\n",
              "      <td>2010-12-01 08:26:00</td>\n",
              "      <td>2.75</td>\n",
              "      <td>17850</td>\n",
              "      <td>United Kingdom</td>\n",
              "    </tr>\n",
              "    <tr>\n",
              "      <th>3</th>\n",
              "      <td>536365</td>\n",
              "      <td>84029G</td>\n",
              "      <td>KNITTED UNION FLAG HOT WATER BOTTLE</td>\n",
              "      <td>6</td>\n",
              "      <td>2010-12-01 08:26:00</td>\n",
              "      <td>3.39</td>\n",
              "      <td>17850</td>\n",
              "      <td>United Kingdom</td>\n",
              "    </tr>\n",
              "    <tr>\n",
              "      <th>4</th>\n",
              "      <td>536365</td>\n",
              "      <td>84029E</td>\n",
              "      <td>RED WOOLLY HOTTIE WHITE HEART.</td>\n",
              "      <td>6</td>\n",
              "      <td>2010-12-01 08:26:00</td>\n",
              "      <td>3.39</td>\n",
              "      <td>17850</td>\n",
              "      <td>United Kingdom</td>\n",
              "    </tr>\n",
              "  </tbody>\n",
              "</table>\n",
              "</div>"
            ],
            "text/plain": [
              "  InvoiceNo StockCode  ... CustomerID         Country\n",
              "0    536365    85123A  ...      17850  United Kingdom\n",
              "1    536365     71053  ...      17850  United Kingdom\n",
              "2    536365    84406B  ...      17850  United Kingdom\n",
              "3    536365    84029G  ...      17850  United Kingdom\n",
              "4    536365    84029E  ...      17850  United Kingdom\n",
              "\n",
              "[5 rows x 8 columns]"
            ]
          },
          "metadata": {},
          "execution_count": 15
        }
      ]
    },
    {
      "cell_type": "markdown",
      "metadata": {
        "id": "Eva1GEBB42Wk"
      },
      "source": [
        "**Calculating Monetary:**\n",
        "\n",
        "Monetary value is how much money a customer spends on purchases.  \n",
        "\n",
        "To calculate the monetary value, we first need to calculate the total purchase value for the customers. This can be obtained by multiplying the values of the `Quantity` column by the `UnitPrice` column.\n",
        "\n",
        "Let's add a column `TotalPrice` whose values will be the product of `Quantity` and `UnitPrice` column values to the DataFrame."
      ]
    },
    {
      "cell_type": "code",
      "metadata": {
        "colab": {
          "base_uri": "https://localhost:8080/",
          "height": 289
        },
        "id": "wfitm3N3568v",
        "outputId": "a5b0e0a2-61fb-4e94-9263-3ca9bc4b8ddf"
      },
      "source": [
        "# S3.2: Obtain the the total purchase amount for the customers\n",
        "df['TotalPrice'] = df['Quantity'] * df['UnitPrice']\n",
        "df.head()"
      ],
      "execution_count": null,
      "outputs": [
        {
          "output_type": "execute_result",
          "data": {
            "text/html": [
              "<div>\n",
              "<style scoped>\n",
              "    .dataframe tbody tr th:only-of-type {\n",
              "        vertical-align: middle;\n",
              "    }\n",
              "\n",
              "    .dataframe tbody tr th {\n",
              "        vertical-align: top;\n",
              "    }\n",
              "\n",
              "    .dataframe thead th {\n",
              "        text-align: right;\n",
              "    }\n",
              "</style>\n",
              "<table border=\"1\" class=\"dataframe\">\n",
              "  <thead>\n",
              "    <tr style=\"text-align: right;\">\n",
              "      <th></th>\n",
              "      <th>InvoiceNo</th>\n",
              "      <th>StockCode</th>\n",
              "      <th>Description</th>\n",
              "      <th>Quantity</th>\n",
              "      <th>InvoiceDate</th>\n",
              "      <th>UnitPrice</th>\n",
              "      <th>CustomerID</th>\n",
              "      <th>Country</th>\n",
              "      <th>TotalPrice</th>\n",
              "    </tr>\n",
              "  </thead>\n",
              "  <tbody>\n",
              "    <tr>\n",
              "      <th>0</th>\n",
              "      <td>536365</td>\n",
              "      <td>85123A</td>\n",
              "      <td>WHITE HANGING HEART T-LIGHT HOLDER</td>\n",
              "      <td>6</td>\n",
              "      <td>2010-12-01 08:26:00</td>\n",
              "      <td>2.55</td>\n",
              "      <td>17850</td>\n",
              "      <td>United Kingdom</td>\n",
              "      <td>15.30</td>\n",
              "    </tr>\n",
              "    <tr>\n",
              "      <th>1</th>\n",
              "      <td>536365</td>\n",
              "      <td>71053</td>\n",
              "      <td>WHITE METAL LANTERN</td>\n",
              "      <td>6</td>\n",
              "      <td>2010-12-01 08:26:00</td>\n",
              "      <td>3.39</td>\n",
              "      <td>17850</td>\n",
              "      <td>United Kingdom</td>\n",
              "      <td>20.34</td>\n",
              "    </tr>\n",
              "    <tr>\n",
              "      <th>2</th>\n",
              "      <td>536365</td>\n",
              "      <td>84406B</td>\n",
              "      <td>CREAM CUPID HEARTS COAT HANGER</td>\n",
              "      <td>8</td>\n",
              "      <td>2010-12-01 08:26:00</td>\n",
              "      <td>2.75</td>\n",
              "      <td>17850</td>\n",
              "      <td>United Kingdom</td>\n",
              "      <td>22.00</td>\n",
              "    </tr>\n",
              "    <tr>\n",
              "      <th>3</th>\n",
              "      <td>536365</td>\n",
              "      <td>84029G</td>\n",
              "      <td>KNITTED UNION FLAG HOT WATER BOTTLE</td>\n",
              "      <td>6</td>\n",
              "      <td>2010-12-01 08:26:00</td>\n",
              "      <td>3.39</td>\n",
              "      <td>17850</td>\n",
              "      <td>United Kingdom</td>\n",
              "      <td>20.34</td>\n",
              "    </tr>\n",
              "    <tr>\n",
              "      <th>4</th>\n",
              "      <td>536365</td>\n",
              "      <td>84029E</td>\n",
              "      <td>RED WOOLLY HOTTIE WHITE HEART.</td>\n",
              "      <td>6</td>\n",
              "      <td>2010-12-01 08:26:00</td>\n",
              "      <td>3.39</td>\n",
              "      <td>17850</td>\n",
              "      <td>United Kingdom</td>\n",
              "      <td>20.34</td>\n",
              "    </tr>\n",
              "  </tbody>\n",
              "</table>\n",
              "</div>"
            ],
            "text/plain": [
              "  InvoiceNo StockCode  ...         Country  TotalPrice\n",
              "0    536365    85123A  ...  United Kingdom       15.30\n",
              "1    536365     71053  ...  United Kingdom       20.34\n",
              "2    536365    84406B  ...  United Kingdom       22.00\n",
              "3    536365    84029G  ...  United Kingdom       20.34\n",
              "4    536365    84029E  ...  United Kingdom       20.34\n",
              "\n",
              "[5 rows x 9 columns]"
            ]
          },
          "metadata": {},
          "execution_count": 16
        }
      ]
    },
    {
      "cell_type": "markdown",
      "metadata": {
        "id": "MFolA1WE6H9n"
      },
      "source": [
        "Now we have a new column named: `TotalPrice` which indicates the total amount spent by each customer.\n",
        "\n",
        "For Monetary, calculate the amount for all the purchases made by every individual customer. For this, first, let us check how many customers do we have in our dataset."
      ]
    },
    {
      "cell_type": "code",
      "metadata": {
        "colab": {
          "base_uri": "https://localhost:8080/"
        },
        "id": "emt8eHsC6HdN",
        "outputId": "81b38b26-d078-4c8d-ecb9-cd0b6ffbf3a8"
      },
      "source": [
        "# S3.3: Obtain the number of unique customers\n",
        "df['CustomerID'].unique()"
      ],
      "execution_count": null,
      "outputs": [
        {
          "output_type": "execute_result",
          "data": {
            "text/plain": [
              "[17850, 13047, 12583, 13748, 15100, ..., 13436, 15520, 13298, 14569, 12713]\n",
              "Length: 4339\n",
              "Categories (4339, int64): [17850, 13047, 12583, 13748, ..., 15520, 13298, 14569, 12713]"
            ]
          },
          "metadata": {},
          "execution_count": 17
        }
      ]
    },
    {
      "cell_type": "markdown",
      "metadata": {
        "id": "kxnhbsm87HEt"
      },
      "source": [
        "Here we can see that there 4339 categories which imply that our dataset has 4339 unique customers.\n",
        "The next step is to calculate the total purchase amount spent by these 4339 customers. For this,\n",
        "\n",
        "1.  Create a DataFrame `monetary_df` consisting of the following two columns:\n",
        "\n",
        "  1.1. `CustomerID` column.\n",
        "\n",
        "  1.2. `TotalPrice`  column grouped by unique customers.\n",
        "  \n",
        "      - Set the `as_index = False` to reset the index in the new DataFrame.\n",
        "      - Apply `sum()` function on the grouped DataFrame to get the total amount spent by the customer.\n",
        "\n",
        "2. Rename the column `TotalPrice` to `Monetary` in `monetary_df` DataFrame.\n",
        "\n"
      ]
    },
    {
      "cell_type": "code",
      "metadata": {
        "colab": {
          "base_uri": "https://localhost:8080/",
          "height": 419
        },
        "id": "s7bjKMJh7Gj8",
        "outputId": "d6a47a28-bdd2-4a11-a955-39bc08ed384a"
      },
      "source": [
        "# S3.4: Obtain the Monetary information from the DataFrame\n",
        "monetary_df = df[['CustomerID', 'TotalPrice']].groupby('CustomerID', as_index = False).sum()\n",
        "monetary_df.rename(columns = {'TotalPrice' : 'Monetary'}, inplace = True)\n",
        "monetary_df"
      ],
      "execution_count": null,
      "outputs": [
        {
          "output_type": "execute_result",
          "data": {
            "text/html": [
              "<div>\n",
              "<style scoped>\n",
              "    .dataframe tbody tr th:only-of-type {\n",
              "        vertical-align: middle;\n",
              "    }\n",
              "\n",
              "    .dataframe tbody tr th {\n",
              "        vertical-align: top;\n",
              "    }\n",
              "\n",
              "    .dataframe thead th {\n",
              "        text-align: right;\n",
              "    }\n",
              "</style>\n",
              "<table border=\"1\" class=\"dataframe\">\n",
              "  <thead>\n",
              "    <tr style=\"text-align: right;\">\n",
              "      <th></th>\n",
              "      <th>CustomerID</th>\n",
              "      <th>Monetary</th>\n",
              "    </tr>\n",
              "  </thead>\n",
              "  <tbody>\n",
              "    <tr>\n",
              "      <th>0</th>\n",
              "      <td>12346</td>\n",
              "      <td>77183.60</td>\n",
              "    </tr>\n",
              "    <tr>\n",
              "      <th>1</th>\n",
              "      <td>12347</td>\n",
              "      <td>4310.00</td>\n",
              "    </tr>\n",
              "    <tr>\n",
              "      <th>2</th>\n",
              "      <td>12348</td>\n",
              "      <td>1797.24</td>\n",
              "    </tr>\n",
              "    <tr>\n",
              "      <th>3</th>\n",
              "      <td>12349</td>\n",
              "      <td>1757.55</td>\n",
              "    </tr>\n",
              "    <tr>\n",
              "      <th>4</th>\n",
              "      <td>12350</td>\n",
              "      <td>334.40</td>\n",
              "    </tr>\n",
              "    <tr>\n",
              "      <th>...</th>\n",
              "      <td>...</td>\n",
              "      <td>...</td>\n",
              "    </tr>\n",
              "    <tr>\n",
              "      <th>4334</th>\n",
              "      <td>18280</td>\n",
              "      <td>180.60</td>\n",
              "    </tr>\n",
              "    <tr>\n",
              "      <th>4335</th>\n",
              "      <td>18281</td>\n",
              "      <td>80.82</td>\n",
              "    </tr>\n",
              "    <tr>\n",
              "      <th>4336</th>\n",
              "      <td>18282</td>\n",
              "      <td>178.05</td>\n",
              "    </tr>\n",
              "    <tr>\n",
              "      <th>4337</th>\n",
              "      <td>18283</td>\n",
              "      <td>2094.88</td>\n",
              "    </tr>\n",
              "    <tr>\n",
              "      <th>4338</th>\n",
              "      <td>18287</td>\n",
              "      <td>1837.28</td>\n",
              "    </tr>\n",
              "  </tbody>\n",
              "</table>\n",
              "<p>4339 rows × 2 columns</p>\n",
              "</div>"
            ],
            "text/plain": [
              "     CustomerID  Monetary\n",
              "0         12346  77183.60\n",
              "1         12347   4310.00\n",
              "2         12348   1797.24\n",
              "3         12349   1757.55\n",
              "4         12350    334.40\n",
              "...         ...       ...\n",
              "4334      18280    180.60\n",
              "4335      18281     80.82\n",
              "4336      18282    178.05\n",
              "4337      18283   2094.88\n",
              "4338      18287   1837.28\n",
              "\n",
              "[4339 rows x 2 columns]"
            ]
          },
          "metadata": {},
          "execution_count": 18
        }
      ]
    },
    {
      "cell_type": "markdown",
      "metadata": {
        "id": "6oqxbIzWBl4l"
      },
      "source": [
        "Thus, we have now obtained a DataFrame that tells us the total amount spent by each customer. We can easily differentiate between heavy spenders and low spenders using the `monetary_df` DataFrame.\n",
        "\n",
        "Let us get the frequency of purchase for respective customers.\n",
        "\n",
        "**Calculating Frequency:**\n",
        "\n",
        "Here, we need to count the frequency of purchases made by 4339 unique customers. As already discussed, `CustomerID` and `InvoiceNo` columns are useful to calculate frequency using the steps given below:\n",
        "\n",
        "1. Create a new DataFrame `frequency_df` consisting of the following columns:\n",
        "  \n",
        "  1.1. `CustomerID` column.\n",
        "  \n",
        "  1.2. `InvoiceNo` column grouped by unique customers.    \n",
        "    - Set the `as_index = False` to reset the index in the new DataFrame.\n",
        "    - Apply `count()` function on the grouped DataFrame to get the total number of invoices for each customer.\n",
        "\n",
        "2. Rename the column `InvoiceNo` to `Frequency` in `frequency_df` DataFrame.\n",
        "\n"
      ]
    },
    {
      "cell_type": "code",
      "metadata": {
        "colab": {
          "base_uri": "https://localhost:8080/",
          "height": 419
        },
        "id": "v3Pn8lflBlYc",
        "outputId": "3b61d15f-8b99-4184-cfc0-a168f0ae3504"
      },
      "source": [
        "# S3.5: Obtain the Frequency information from the DataFrame\n",
        "frequency_df =  df[['CustomerID', 'InvoiceNo']].groupby('CustomerID', as_index = False).count()\n",
        "frequency_df.rename(columns = {'InvoiceNo': 'Frequency'}, inplace = True)\n",
        "frequency_df"
      ],
      "execution_count": null,
      "outputs": [
        {
          "output_type": "execute_result",
          "data": {
            "text/html": [
              "<div>\n",
              "<style scoped>\n",
              "    .dataframe tbody tr th:only-of-type {\n",
              "        vertical-align: middle;\n",
              "    }\n",
              "\n",
              "    .dataframe tbody tr th {\n",
              "        vertical-align: top;\n",
              "    }\n",
              "\n",
              "    .dataframe thead th {\n",
              "        text-align: right;\n",
              "    }\n",
              "</style>\n",
              "<table border=\"1\" class=\"dataframe\">\n",
              "  <thead>\n",
              "    <tr style=\"text-align: right;\">\n",
              "      <th></th>\n",
              "      <th>CustomerID</th>\n",
              "      <th>Frequency</th>\n",
              "    </tr>\n",
              "  </thead>\n",
              "  <tbody>\n",
              "    <tr>\n",
              "      <th>0</th>\n",
              "      <td>12346</td>\n",
              "      <td>1</td>\n",
              "    </tr>\n",
              "    <tr>\n",
              "      <th>1</th>\n",
              "      <td>12347</td>\n",
              "      <td>182</td>\n",
              "    </tr>\n",
              "    <tr>\n",
              "      <th>2</th>\n",
              "      <td>12348</td>\n",
              "      <td>31</td>\n",
              "    </tr>\n",
              "    <tr>\n",
              "      <th>3</th>\n",
              "      <td>12349</td>\n",
              "      <td>73</td>\n",
              "    </tr>\n",
              "    <tr>\n",
              "      <th>4</th>\n",
              "      <td>12350</td>\n",
              "      <td>17</td>\n",
              "    </tr>\n",
              "    <tr>\n",
              "      <th>...</th>\n",
              "      <td>...</td>\n",
              "      <td>...</td>\n",
              "    </tr>\n",
              "    <tr>\n",
              "      <th>4334</th>\n",
              "      <td>18280</td>\n",
              "      <td>10</td>\n",
              "    </tr>\n",
              "    <tr>\n",
              "      <th>4335</th>\n",
              "      <td>18281</td>\n",
              "      <td>7</td>\n",
              "    </tr>\n",
              "    <tr>\n",
              "      <th>4336</th>\n",
              "      <td>18282</td>\n",
              "      <td>12</td>\n",
              "    </tr>\n",
              "    <tr>\n",
              "      <th>4337</th>\n",
              "      <td>18283</td>\n",
              "      <td>756</td>\n",
              "    </tr>\n",
              "    <tr>\n",
              "      <th>4338</th>\n",
              "      <td>18287</td>\n",
              "      <td>70</td>\n",
              "    </tr>\n",
              "  </tbody>\n",
              "</table>\n",
              "<p>4339 rows × 2 columns</p>\n",
              "</div>"
            ],
            "text/plain": [
              "     CustomerID  Frequency\n",
              "0         12346          1\n",
              "1         12347        182\n",
              "2         12348         31\n",
              "3         12349         73\n",
              "4         12350         17\n",
              "...         ...        ...\n",
              "4334      18280         10\n",
              "4335      18281          7\n",
              "4336      18282         12\n",
              "4337      18283        756\n",
              "4338      18287         70\n",
              "\n",
              "[4339 rows x 2 columns]"
            ]
          },
          "metadata": {},
          "execution_count": 19
        }
      ]
    },
    {
      "cell_type": "markdown",
      "metadata": {
        "id": "gZK65Do0FCM9"
      },
      "source": [
        "Thus, we obtained a DataFrame that shows the frequency of purchases made by each unique customer.\n",
        "\n",
        "Let us merge the above 2 DataFrames i.e. `monetary_df` and `frequency_df` into a single DataFrame. Before that, let us first learn what are the different ways of merging DataFrames."
      ]
    },
    {
      "cell_type": "markdown",
      "metadata": {
        "id": "x7ibRz7vjkjS"
      },
      "source": [
        "---"
      ]
    },
    {
      "cell_type": "markdown",
      "metadata": {
        "id": "R6GK3ZSqjliq"
      },
      "source": [
        "#### Activity 4: Merging DataFrames\n",
        "\n",
        "The `merge()` function of the `pandas` module is used to combine two or more DataFrames, based on a common feature among them. The merging of DataFrames is based on **join** operations. Let us understand the two most commonly used join operations:\n",
        "1. Inner join\n",
        "2. Outer join\n",
        "\n",
        "**1. Inner join:**\n",
        "- This is the most widely used merging technique.\n",
        "- It returns a DataFrame with only those rows that have common characteristics.\n",
        "- An inner join requires each row in the two joined DataFrames to have matching column values.\n",
        "- This is similar to the intersection of two sets.\n",
        "\n",
        "<center><img src=\"https://s3-whjr-v2-prod-bucket.whjr.online/0fe6ee12-b61a-4465-af87-b9144f4c0d9d.png\"/></center>\n",
        "\n",
        "Let us consider a similar problem statement of an online seller in India. Consider a sample DataFrame `products_df` which consists of basic product details.\n",
        "\n",
        "|Product_ID | Product_name | Category\t| Price\t|\n",
        "| -- | -- | -- | -- |\n",
        "| 1001 |\tWatch |\tFashion |\t299.0 |\n",
        "| 1002 |\tBag |\tFashion |\t1350.5 |\n",
        "| 1003 |\tShoes |\tFashion |\t2999.0 |\n",
        "| 1004 | Smartphone |\tElectronics |\t14999.0 |\n",
        "| 1005 | Books |\tStudy |\t145.0 |\n",
        "| 1006 |\tCheese |\tGrocery |\t110.0 |\n",
        "| 1007 |\tLaptop |\tElectronics |\t79999.0 |\n",
        "\n",
        "Consider another sample DataFrame `customer_df` of the same company keeping track of the customers details and their purchase.\n",
        "\n",
        "| Customer_ID |\tName |\tAge |\tProduct_ID |\tPurchased_Product |\n",
        "| -- | -- | -- | -- | -- |\n",
        "|1\t| Priyanshu\t| 20\t| 1001\t| Watch\t|\n",
        "|2\t| Rohit\t| 25\t| 0\t| NA\t|\n",
        "|3\t| Apeksha\t| 15 | 1006 |\tOil |\n",
        "|4\t| Rohan\t| 10\t| 0 | NA |\n",
        "|5\t| Karan\t| 30\t| 1003 |\tShoes |\n",
        "|6\t| Divya\t| 65\t| 1004 |\tSmartphone |\n",
        "|7\t| Abhinav\t| 35\t| 0 |\tNA |\n",
        "|8\t| Isha\t| 18\t| 0 |\tNA |\n",
        "|9\t| Vivek\t| 23\t| 1007|\tLaptop |\n",
        "\n",
        "Let's say the company needs information on all the products sold online as well as the details of customers who purchased those products. This information can be obtained by merging both the DataFrames based on the common column `Product_ID` using inner join.\n",
        "\n",
        "**Syntax for inner join:**\n",
        "\n",
        "`pd.merge(df1, df2, on='common_column', how='inner')`\n",
        "\n",
        "Where,\n",
        " `df1` and `df2` are the two DataFrames to be merged.\n",
        "\n",
        "The inner join will return only those rows from both the DataFrames that have common `ProductID`.\n",
        "\n",
        "Let us see how this works. First, create both the DataFrames and apply inner join to merge both the DataFrames.\n"
      ]
    },
    {
      "cell_type": "code",
      "metadata": {
        "colab": {
          "base_uri": "https://localhost:8080/",
          "height": 266
        },
        "id": "sh2x01U9BSEY",
        "outputId": "a4b0d42a-7e53-4e94-afd0-5f3c9c5f9053"
      },
      "source": [
        "# T4.1: Create 'products_df' DataFrame.\n",
        "\n",
        "products_df = pd.DataFrame({\n",
        "    'Product_ID':[1001,1002,1003,1004,1005,1006,1007],\n",
        "    'Product_name':['Watch','Bag','Shoes','Smartphone','Books','Cheese','Laptop'],\n",
        "    'Category':['Fashion','Fashion','Fashion','Electronics','Study','Grocery','Electronics'],\n",
        "    'Price':[299.0,1350.50,2999.0,14999.0,145.0,110.0,79999.0],\n",
        "    })\n",
        "\n",
        "products_df"
      ],
      "execution_count": null,
      "outputs": [
        {
          "output_type": "execute_result",
          "data": {
            "text/html": [
              "<div>\n",
              "<style scoped>\n",
              "    .dataframe tbody tr th:only-of-type {\n",
              "        vertical-align: middle;\n",
              "    }\n",
              "\n",
              "    .dataframe tbody tr th {\n",
              "        vertical-align: top;\n",
              "    }\n",
              "\n",
              "    .dataframe thead th {\n",
              "        text-align: right;\n",
              "    }\n",
              "</style>\n",
              "<table border=\"1\" class=\"dataframe\">\n",
              "  <thead>\n",
              "    <tr style=\"text-align: right;\">\n",
              "      <th></th>\n",
              "      <th>Product_ID</th>\n",
              "      <th>Product_name</th>\n",
              "      <th>Category</th>\n",
              "      <th>Price</th>\n",
              "    </tr>\n",
              "  </thead>\n",
              "  <tbody>\n",
              "    <tr>\n",
              "      <th>0</th>\n",
              "      <td>1001</td>\n",
              "      <td>Watch</td>\n",
              "      <td>Fashion</td>\n",
              "      <td>299.0</td>\n",
              "    </tr>\n",
              "    <tr>\n",
              "      <th>1</th>\n",
              "      <td>1002</td>\n",
              "      <td>Bag</td>\n",
              "      <td>Fashion</td>\n",
              "      <td>1350.5</td>\n",
              "    </tr>\n",
              "    <tr>\n",
              "      <th>2</th>\n",
              "      <td>1003</td>\n",
              "      <td>Shoes</td>\n",
              "      <td>Fashion</td>\n",
              "      <td>2999.0</td>\n",
              "    </tr>\n",
              "    <tr>\n",
              "      <th>3</th>\n",
              "      <td>1004</td>\n",
              "      <td>Smartphone</td>\n",
              "      <td>Electronics</td>\n",
              "      <td>14999.0</td>\n",
              "    </tr>\n",
              "    <tr>\n",
              "      <th>4</th>\n",
              "      <td>1005</td>\n",
              "      <td>Books</td>\n",
              "      <td>Study</td>\n",
              "      <td>145.0</td>\n",
              "    </tr>\n",
              "    <tr>\n",
              "      <th>5</th>\n",
              "      <td>1006</td>\n",
              "      <td>Cheese</td>\n",
              "      <td>Grocery</td>\n",
              "      <td>110.0</td>\n",
              "    </tr>\n",
              "    <tr>\n",
              "      <th>6</th>\n",
              "      <td>1007</td>\n",
              "      <td>Laptop</td>\n",
              "      <td>Electronics</td>\n",
              "      <td>79999.0</td>\n",
              "    </tr>\n",
              "  </tbody>\n",
              "</table>\n",
              "</div>"
            ],
            "text/plain": [
              "   Product_ID Product_name     Category    Price\n",
              "0        1001        Watch      Fashion    299.0\n",
              "1        1002          Bag      Fashion   1350.5\n",
              "2        1003        Shoes      Fashion   2999.0\n",
              "3        1004   Smartphone  Electronics  14999.0\n",
              "4        1005        Books        Study    145.0\n",
              "5        1006       Cheese      Grocery    110.0\n",
              "6        1007       Laptop  Electronics  79999.0"
            ]
          },
          "metadata": {},
          "execution_count": 20
        }
      ]
    },
    {
      "cell_type": "markdown",
      "source": [
        "Create a new DataFrame to which we will apply inner join."
      ],
      "metadata": {
        "id": "zzniHDvm2Uqh"
      }
    },
    {
      "cell_type": "code",
      "metadata": {
        "colab": {
          "base_uri": "https://localhost:8080/",
          "height": 328
        },
        "id": "gbGYcTXAByOm",
        "outputId": "a541238f-9fe8-4abc-c5eb-b10132540bd6"
      },
      "source": [
        "# T4.2: Create 'customer_df' DataFrame.\n",
        "\n",
        "customer_df = pd.DataFrame({\n",
        "    'Customer_ID':[1,2,3,4,5,6,7,8,9],\n",
        "    'name':['Priyanshu','Rohit','Apeksha','Rohan','Karan','Divya','Abhinav','Isha','Vivek'],\n",
        "    'age':[20,25,15,10,30,65,35,18,23],\n",
        "    'Product_ID':[1001,0,1006,0,1003,1004,0,0,1007],\n",
        "    'Purchased_Product':['Watch','NA','Oil','NA','Shoes','Smartphone','NA','NA','Laptop'],\n",
        "   })\n",
        "\n",
        "customer_df"
      ],
      "execution_count": null,
      "outputs": [
        {
          "output_type": "execute_result",
          "data": {
            "text/html": [
              "<div>\n",
              "<style scoped>\n",
              "    .dataframe tbody tr th:only-of-type {\n",
              "        vertical-align: middle;\n",
              "    }\n",
              "\n",
              "    .dataframe tbody tr th {\n",
              "        vertical-align: top;\n",
              "    }\n",
              "\n",
              "    .dataframe thead th {\n",
              "        text-align: right;\n",
              "    }\n",
              "</style>\n",
              "<table border=\"1\" class=\"dataframe\">\n",
              "  <thead>\n",
              "    <tr style=\"text-align: right;\">\n",
              "      <th></th>\n",
              "      <th>Customer_ID</th>\n",
              "      <th>name</th>\n",
              "      <th>age</th>\n",
              "      <th>Product_ID</th>\n",
              "      <th>Purchased_Product</th>\n",
              "    </tr>\n",
              "  </thead>\n",
              "  <tbody>\n",
              "    <tr>\n",
              "      <th>0</th>\n",
              "      <td>1</td>\n",
              "      <td>Priyanshu</td>\n",
              "      <td>20</td>\n",
              "      <td>1001</td>\n",
              "      <td>Watch</td>\n",
              "    </tr>\n",
              "    <tr>\n",
              "      <th>1</th>\n",
              "      <td>2</td>\n",
              "      <td>Rohit</td>\n",
              "      <td>25</td>\n",
              "      <td>0</td>\n",
              "      <td>NA</td>\n",
              "    </tr>\n",
              "    <tr>\n",
              "      <th>2</th>\n",
              "      <td>3</td>\n",
              "      <td>Apeksha</td>\n",
              "      <td>15</td>\n",
              "      <td>1006</td>\n",
              "      <td>Oil</td>\n",
              "    </tr>\n",
              "    <tr>\n",
              "      <th>3</th>\n",
              "      <td>4</td>\n",
              "      <td>Rohan</td>\n",
              "      <td>10</td>\n",
              "      <td>0</td>\n",
              "      <td>NA</td>\n",
              "    </tr>\n",
              "    <tr>\n",
              "      <th>4</th>\n",
              "      <td>5</td>\n",
              "      <td>Karan</td>\n",
              "      <td>30</td>\n",
              "      <td>1003</td>\n",
              "      <td>Shoes</td>\n",
              "    </tr>\n",
              "    <tr>\n",
              "      <th>5</th>\n",
              "      <td>6</td>\n",
              "      <td>Divya</td>\n",
              "      <td>65</td>\n",
              "      <td>1004</td>\n",
              "      <td>Smartphone</td>\n",
              "    </tr>\n",
              "    <tr>\n",
              "      <th>6</th>\n",
              "      <td>7</td>\n",
              "      <td>Abhinav</td>\n",
              "      <td>35</td>\n",
              "      <td>0</td>\n",
              "      <td>NA</td>\n",
              "    </tr>\n",
              "    <tr>\n",
              "      <th>7</th>\n",
              "      <td>8</td>\n",
              "      <td>Isha</td>\n",
              "      <td>18</td>\n",
              "      <td>0</td>\n",
              "      <td>NA</td>\n",
              "    </tr>\n",
              "    <tr>\n",
              "      <th>8</th>\n",
              "      <td>9</td>\n",
              "      <td>Vivek</td>\n",
              "      <td>23</td>\n",
              "      <td>1007</td>\n",
              "      <td>Laptop</td>\n",
              "    </tr>\n",
              "  </tbody>\n",
              "</table>\n",
              "</div>"
            ],
            "text/plain": [
              "   Customer_ID       name  age  Product_ID Purchased_Product\n",
              "0            1  Priyanshu   20        1001             Watch\n",
              "1            2      Rohit   25           0                NA\n",
              "2            3    Apeksha   15        1006               Oil\n",
              "3            4      Rohan   10           0                NA\n",
              "4            5      Karan   30        1003             Shoes\n",
              "5            6      Divya   65        1004        Smartphone\n",
              "6            7    Abhinav   35           0                NA\n",
              "7            8       Isha   18           0                NA\n",
              "8            9      Vivek   23        1007            Laptop"
            ]
          },
          "metadata": {},
          "execution_count": 21
        }
      ]
    },
    {
      "cell_type": "markdown",
      "metadata": {
        "id": "Py_W5MrdoQwS"
      },
      "source": [
        "Let's now merge the `products_df` and `customer_df` DataFrames using the inner join approach."
      ]
    },
    {
      "cell_type": "code",
      "metadata": {
        "colab": {
          "base_uri": "https://localhost:8080/",
          "height": 204
        },
        "id": "Ip8wD_veCeB_",
        "outputId": "3dcf7644-2e51-49f4-fd9a-10ced566831f"
      },
      "source": [
        "# S4.1: Use inner join to merge both DataFrames\n",
        "\n",
        "pd.merge(products_df, customer_df, on='Product_ID', how = 'inner')"
      ],
      "execution_count": null,
      "outputs": [
        {
          "output_type": "execute_result",
          "data": {
            "text/html": [
              "<div>\n",
              "<style scoped>\n",
              "    .dataframe tbody tr th:only-of-type {\n",
              "        vertical-align: middle;\n",
              "    }\n",
              "\n",
              "    .dataframe tbody tr th {\n",
              "        vertical-align: top;\n",
              "    }\n",
              "\n",
              "    .dataframe thead th {\n",
              "        text-align: right;\n",
              "    }\n",
              "</style>\n",
              "<table border=\"1\" class=\"dataframe\">\n",
              "  <thead>\n",
              "    <tr style=\"text-align: right;\">\n",
              "      <th></th>\n",
              "      <th>Product_ID</th>\n",
              "      <th>Product_name</th>\n",
              "      <th>Category</th>\n",
              "      <th>Price</th>\n",
              "      <th>Customer_ID</th>\n",
              "      <th>name</th>\n",
              "      <th>age</th>\n",
              "      <th>Purchased_Product</th>\n",
              "    </tr>\n",
              "  </thead>\n",
              "  <tbody>\n",
              "    <tr>\n",
              "      <th>0</th>\n",
              "      <td>1001</td>\n",
              "      <td>Watch</td>\n",
              "      <td>Fashion</td>\n",
              "      <td>299.0</td>\n",
              "      <td>1</td>\n",
              "      <td>Priyanshu</td>\n",
              "      <td>20</td>\n",
              "      <td>Watch</td>\n",
              "    </tr>\n",
              "    <tr>\n",
              "      <th>1</th>\n",
              "      <td>1003</td>\n",
              "      <td>Shoes</td>\n",
              "      <td>Fashion</td>\n",
              "      <td>2999.0</td>\n",
              "      <td>5</td>\n",
              "      <td>Karan</td>\n",
              "      <td>30</td>\n",
              "      <td>Shoes</td>\n",
              "    </tr>\n",
              "    <tr>\n",
              "      <th>2</th>\n",
              "      <td>1004</td>\n",
              "      <td>Smartphone</td>\n",
              "      <td>Electronics</td>\n",
              "      <td>14999.0</td>\n",
              "      <td>6</td>\n",
              "      <td>Divya</td>\n",
              "      <td>65</td>\n",
              "      <td>Smartphone</td>\n",
              "    </tr>\n",
              "    <tr>\n",
              "      <th>3</th>\n",
              "      <td>1006</td>\n",
              "      <td>Cheese</td>\n",
              "      <td>Grocery</td>\n",
              "      <td>110.0</td>\n",
              "      <td>3</td>\n",
              "      <td>Apeksha</td>\n",
              "      <td>15</td>\n",
              "      <td>Oil</td>\n",
              "    </tr>\n",
              "    <tr>\n",
              "      <th>4</th>\n",
              "      <td>1007</td>\n",
              "      <td>Laptop</td>\n",
              "      <td>Electronics</td>\n",
              "      <td>79999.0</td>\n",
              "      <td>9</td>\n",
              "      <td>Vivek</td>\n",
              "      <td>23</td>\n",
              "      <td>Laptop</td>\n",
              "    </tr>\n",
              "  </tbody>\n",
              "</table>\n",
              "</div>"
            ],
            "text/plain": [
              "   Product_ID Product_name     Category  ...       name  age Purchased_Product\n",
              "0        1001        Watch      Fashion  ...  Priyanshu   20             Watch\n",
              "1        1003        Shoes      Fashion  ...      Karan   30             Shoes\n",
              "2        1004   Smartphone  Electronics  ...      Divya   65        Smartphone\n",
              "3        1006       Cheese      Grocery  ...    Apeksha   15               Oil\n",
              "4        1007       Laptop  Electronics  ...      Vivek   23            Laptop\n",
              "\n",
              "[5 rows x 8 columns]"
            ]
          },
          "metadata": {},
          "execution_count": 22
        }
      ]
    },
    {
      "cell_type": "markdown",
      "metadata": {
        "id": "maFjVzlNCuGX"
      },
      "source": [
        "From the output, you may observe that only rows having matching `ProductID` are obtained from both the DataFrames.\n",
        "\n",
        "But what if we need to combine both DataFrames such that we can find all the products that are not sold and all the customers who didn’t purchase anything from us. In such a case, we will use **outer join** operation.\n",
        "\n",
        "**Outer Join:**\n",
        "- An outer join returns a set of records (or rows) that include what an inner join would return along with other rows for which no corresponding match is found in the other table.\n",
        "- The fields where matching data is missing, nulls are produced.\n",
        "\n",
        "<center><img src=\"https://s3-whjr-v2-prod-bucket.whjr.online/260fc528-a6ba-47cf-90b1-2fb207e5377d.png\"/></center>\n",
        "\n",
        "  **Syntax for outer join:**\n",
        "\n",
        "  `pd.merge(df1, df2, on='common_column', how='outer')`\n",
        "\n",
        "  Where,\n",
        "   `df1` and `df2` are the two DataFrames to be merged.\n",
        "\n",
        "Let us perform outer join operation on both the DataFrames and observe the results."
      ]
    },
    {
      "cell_type": "code",
      "metadata": {
        "colab": {
          "base_uri": "https://localhost:8080/",
          "height": 390
        },
        "id": "rhsJiUlXEV_W",
        "outputId": "d0053d6c-9b27-4773-fd37-99ee2f11efc6"
      },
      "source": [
        "# S4.2: Use outer join to merge both DataFrames\n",
        "\n",
        "pd.merge(products_df, customer_df, on='Product_ID', how = 'outer')"
      ],
      "execution_count": null,
      "outputs": [
        {
          "output_type": "execute_result",
          "data": {
            "text/html": [
              "<div>\n",
              "<style scoped>\n",
              "    .dataframe tbody tr th:only-of-type {\n",
              "        vertical-align: middle;\n",
              "    }\n",
              "\n",
              "    .dataframe tbody tr th {\n",
              "        vertical-align: top;\n",
              "    }\n",
              "\n",
              "    .dataframe thead th {\n",
              "        text-align: right;\n",
              "    }\n",
              "</style>\n",
              "<table border=\"1\" class=\"dataframe\">\n",
              "  <thead>\n",
              "    <tr style=\"text-align: right;\">\n",
              "      <th></th>\n",
              "      <th>Product_ID</th>\n",
              "      <th>Product_name</th>\n",
              "      <th>Category</th>\n",
              "      <th>Price</th>\n",
              "      <th>Customer_ID</th>\n",
              "      <th>name</th>\n",
              "      <th>age</th>\n",
              "      <th>Purchased_Product</th>\n",
              "    </tr>\n",
              "  </thead>\n",
              "  <tbody>\n",
              "    <tr>\n",
              "      <th>0</th>\n",
              "      <td>1001</td>\n",
              "      <td>Watch</td>\n",
              "      <td>Fashion</td>\n",
              "      <td>299.0</td>\n",
              "      <td>1.0</td>\n",
              "      <td>Priyanshu</td>\n",
              "      <td>20.0</td>\n",
              "      <td>Watch</td>\n",
              "    </tr>\n",
              "    <tr>\n",
              "      <th>1</th>\n",
              "      <td>1002</td>\n",
              "      <td>Bag</td>\n",
              "      <td>Fashion</td>\n",
              "      <td>1350.5</td>\n",
              "      <td>NaN</td>\n",
              "      <td>NaN</td>\n",
              "      <td>NaN</td>\n",
              "      <td>NaN</td>\n",
              "    </tr>\n",
              "    <tr>\n",
              "      <th>2</th>\n",
              "      <td>1003</td>\n",
              "      <td>Shoes</td>\n",
              "      <td>Fashion</td>\n",
              "      <td>2999.0</td>\n",
              "      <td>5.0</td>\n",
              "      <td>Karan</td>\n",
              "      <td>30.0</td>\n",
              "      <td>Shoes</td>\n",
              "    </tr>\n",
              "    <tr>\n",
              "      <th>3</th>\n",
              "      <td>1004</td>\n",
              "      <td>Smartphone</td>\n",
              "      <td>Electronics</td>\n",
              "      <td>14999.0</td>\n",
              "      <td>6.0</td>\n",
              "      <td>Divya</td>\n",
              "      <td>65.0</td>\n",
              "      <td>Smartphone</td>\n",
              "    </tr>\n",
              "    <tr>\n",
              "      <th>4</th>\n",
              "      <td>1005</td>\n",
              "      <td>Books</td>\n",
              "      <td>Study</td>\n",
              "      <td>145.0</td>\n",
              "      <td>NaN</td>\n",
              "      <td>NaN</td>\n",
              "      <td>NaN</td>\n",
              "      <td>NaN</td>\n",
              "    </tr>\n",
              "    <tr>\n",
              "      <th>5</th>\n",
              "      <td>1006</td>\n",
              "      <td>Cheese</td>\n",
              "      <td>Grocery</td>\n",
              "      <td>110.0</td>\n",
              "      <td>3.0</td>\n",
              "      <td>Apeksha</td>\n",
              "      <td>15.0</td>\n",
              "      <td>Oil</td>\n",
              "    </tr>\n",
              "    <tr>\n",
              "      <th>6</th>\n",
              "      <td>1007</td>\n",
              "      <td>Laptop</td>\n",
              "      <td>Electronics</td>\n",
              "      <td>79999.0</td>\n",
              "      <td>9.0</td>\n",
              "      <td>Vivek</td>\n",
              "      <td>23.0</td>\n",
              "      <td>Laptop</td>\n",
              "    </tr>\n",
              "    <tr>\n",
              "      <th>7</th>\n",
              "      <td>0</td>\n",
              "      <td>NaN</td>\n",
              "      <td>NaN</td>\n",
              "      <td>NaN</td>\n",
              "      <td>2.0</td>\n",
              "      <td>Rohit</td>\n",
              "      <td>25.0</td>\n",
              "      <td>NA</td>\n",
              "    </tr>\n",
              "    <tr>\n",
              "      <th>8</th>\n",
              "      <td>0</td>\n",
              "      <td>NaN</td>\n",
              "      <td>NaN</td>\n",
              "      <td>NaN</td>\n",
              "      <td>4.0</td>\n",
              "      <td>Rohan</td>\n",
              "      <td>10.0</td>\n",
              "      <td>NA</td>\n",
              "    </tr>\n",
              "    <tr>\n",
              "      <th>9</th>\n",
              "      <td>0</td>\n",
              "      <td>NaN</td>\n",
              "      <td>NaN</td>\n",
              "      <td>NaN</td>\n",
              "      <td>7.0</td>\n",
              "      <td>Abhinav</td>\n",
              "      <td>35.0</td>\n",
              "      <td>NA</td>\n",
              "    </tr>\n",
              "    <tr>\n",
              "      <th>10</th>\n",
              "      <td>0</td>\n",
              "      <td>NaN</td>\n",
              "      <td>NaN</td>\n",
              "      <td>NaN</td>\n",
              "      <td>8.0</td>\n",
              "      <td>Isha</td>\n",
              "      <td>18.0</td>\n",
              "      <td>NA</td>\n",
              "    </tr>\n",
              "  </tbody>\n",
              "</table>\n",
              "</div>"
            ],
            "text/plain": [
              "    Product_ID Product_name     Category  ...       name   age Purchased_Product\n",
              "0         1001        Watch      Fashion  ...  Priyanshu  20.0             Watch\n",
              "1         1002          Bag      Fashion  ...        NaN   NaN               NaN\n",
              "2         1003        Shoes      Fashion  ...      Karan  30.0             Shoes\n",
              "3         1004   Smartphone  Electronics  ...      Divya  65.0        Smartphone\n",
              "4         1005        Books        Study  ...        NaN   NaN               NaN\n",
              "5         1006       Cheese      Grocery  ...    Apeksha  15.0               Oil\n",
              "6         1007       Laptop  Electronics  ...      Vivek  23.0            Laptop\n",
              "7            0          NaN          NaN  ...      Rohit  25.0                NA\n",
              "8            0          NaN          NaN  ...      Rohan  10.0                NA\n",
              "9            0          NaN          NaN  ...    Abhinav  35.0                NA\n",
              "10           0          NaN          NaN  ...       Isha  18.0                NA\n",
              "\n",
              "[11 rows x 8 columns]"
            ]
          },
          "metadata": {},
          "execution_count": 23
        }
      ]
    },
    {
      "cell_type": "markdown",
      "metadata": {
        "id": "Re0m5vPxBPeK"
      },
      "source": [
        "From the above output, you may observe that the `merge()` function returned `NaN` for every column of the DataFrame that lacks a matching row.\n",
        "\n",
        "Let us now use the `merge()` function to merge the two DataFrames `monetary_df` and `frequency_df` using inner join. Store the merged DataFrame in the `rfm_df` variable.\n"
      ]
    },
    {
      "cell_type": "code",
      "metadata": {
        "colab": {
          "base_uri": "https://localhost:8080/",
          "height": 204
        },
        "id": "lf7DNhq_FTcn",
        "outputId": "67991f5c-345e-4e21-d930-ec764f4fae95"
      },
      "source": [
        "# S4.3: Merge 'monetary_df' and 'frequency_df' DataFrames.\n",
        "rfm_df = pd.merge(monetary_df, frequency_df, on='CustomerID', how = 'inner')\n",
        "rfm_df.head()"
      ],
      "execution_count": null,
      "outputs": [
        {
          "output_type": "execute_result",
          "data": {
            "text/html": [
              "<div>\n",
              "<style scoped>\n",
              "    .dataframe tbody tr th:only-of-type {\n",
              "        vertical-align: middle;\n",
              "    }\n",
              "\n",
              "    .dataframe tbody tr th {\n",
              "        vertical-align: top;\n",
              "    }\n",
              "\n",
              "    .dataframe thead th {\n",
              "        text-align: right;\n",
              "    }\n",
              "</style>\n",
              "<table border=\"1\" class=\"dataframe\">\n",
              "  <thead>\n",
              "    <tr style=\"text-align: right;\">\n",
              "      <th></th>\n",
              "      <th>CustomerID</th>\n",
              "      <th>Monetary</th>\n",
              "      <th>Frequency</th>\n",
              "    </tr>\n",
              "  </thead>\n",
              "  <tbody>\n",
              "    <tr>\n",
              "      <th>0</th>\n",
              "      <td>12346</td>\n",
              "      <td>77183.60</td>\n",
              "      <td>1</td>\n",
              "    </tr>\n",
              "    <tr>\n",
              "      <th>1</th>\n",
              "      <td>12347</td>\n",
              "      <td>4310.00</td>\n",
              "      <td>182</td>\n",
              "    </tr>\n",
              "    <tr>\n",
              "      <th>2</th>\n",
              "      <td>12348</td>\n",
              "      <td>1797.24</td>\n",
              "      <td>31</td>\n",
              "    </tr>\n",
              "    <tr>\n",
              "      <th>3</th>\n",
              "      <td>12349</td>\n",
              "      <td>1757.55</td>\n",
              "      <td>73</td>\n",
              "    </tr>\n",
              "    <tr>\n",
              "      <th>4</th>\n",
              "      <td>12350</td>\n",
              "      <td>334.40</td>\n",
              "      <td>17</td>\n",
              "    </tr>\n",
              "  </tbody>\n",
              "</table>\n",
              "</div>"
            ],
            "text/plain": [
              "  CustomerID  Monetary  Frequency\n",
              "0      12346  77183.60          1\n",
              "1      12347   4310.00        182\n",
              "2      12348   1797.24         31\n",
              "3      12349   1757.55         73\n",
              "4      12350    334.40         17"
            ]
          },
          "metadata": {},
          "execution_count": 24
        }
      ]
    },
    {
      "cell_type": "markdown",
      "metadata": {
        "id": "ymDNBzJRFQhc"
      },
      "source": [
        "Now that we have obtained monetary and frequency values for RFM analysis, let us proceed with calculating the last factor i.e  `recency` for our dataset."
      ]
    },
    {
      "cell_type": "markdown",
      "metadata": {
        "id": "XSAgWs6Mj4oZ"
      },
      "source": [
        "---"
      ]
    },
    {
      "cell_type": "markdown",
      "metadata": {
        "id": "SvXtAQzCj5ox"
      },
      "source": [
        "#### Activity 5: Calculating Recency\n",
        "\n",
        "For recency, we need to calculate the number of days between the present date and the date of the last purchase made by each customer. As already discussed, `CustomerID` and `InvoiceDate` columns can be used to obtain  the date of last purchase made by a customer. For this,\n",
        "\n",
        "1. Create a DataFrame `recency_df` consisting of the following columns:\n",
        "  \n",
        "  1.1. `CustomerID` column.\n",
        "  \n",
        "  1.2. `InvoiceDate` column grouped by unique customers.\n",
        "      - Set the `as_index = False` to reset the index in the new DataFrame.\n",
        "      - Apply `max()` function to get the latest purchase date for each customer.\n",
        "\n",
        "2. Rename the column `InvoiceDate` to `LastPurchaseDate` in `recency_df` DataFrame."
      ]
    },
    {
      "cell_type": "code",
      "metadata": {
        "colab": {
          "base_uri": "https://localhost:8080/",
          "height": 419
        },
        "id": "ol7FvzyXJYMp",
        "outputId": "0b3846d6-0d69-4166-bfdd-a7bc6c5f56ce"
      },
      "source": [
        "# S5.1: Obtain the last purchase date for each customer\n",
        "recency_df = df[['CustomerID', 'InvoiceDate']].groupby('CustomerID', as_index = False).max()\n",
        "recency_df.rename(columns = {'InvoiceDate': 'LastPurchaseDate'}, inplace = True)\n",
        "recency_df"
      ],
      "execution_count": null,
      "outputs": [
        {
          "output_type": "execute_result",
          "data": {
            "text/html": [
              "<div>\n",
              "<style scoped>\n",
              "    .dataframe tbody tr th:only-of-type {\n",
              "        vertical-align: middle;\n",
              "    }\n",
              "\n",
              "    .dataframe tbody tr th {\n",
              "        vertical-align: top;\n",
              "    }\n",
              "\n",
              "    .dataframe thead th {\n",
              "        text-align: right;\n",
              "    }\n",
              "</style>\n",
              "<table border=\"1\" class=\"dataframe\">\n",
              "  <thead>\n",
              "    <tr style=\"text-align: right;\">\n",
              "      <th></th>\n",
              "      <th>CustomerID</th>\n",
              "      <th>LastPurchaseDate</th>\n",
              "    </tr>\n",
              "  </thead>\n",
              "  <tbody>\n",
              "    <tr>\n",
              "      <th>0</th>\n",
              "      <td>12346</td>\n",
              "      <td>2011-01-18 10:01:00</td>\n",
              "    </tr>\n",
              "    <tr>\n",
              "      <th>1</th>\n",
              "      <td>12347</td>\n",
              "      <td>2011-12-07 15:52:00</td>\n",
              "    </tr>\n",
              "    <tr>\n",
              "      <th>2</th>\n",
              "      <td>12348</td>\n",
              "      <td>2011-09-25 13:13:00</td>\n",
              "    </tr>\n",
              "    <tr>\n",
              "      <th>3</th>\n",
              "      <td>12349</td>\n",
              "      <td>2011-11-21 09:51:00</td>\n",
              "    </tr>\n",
              "    <tr>\n",
              "      <th>4</th>\n",
              "      <td>12350</td>\n",
              "      <td>2011-02-02 16:01:00</td>\n",
              "    </tr>\n",
              "    <tr>\n",
              "      <th>...</th>\n",
              "      <td>...</td>\n",
              "      <td>...</td>\n",
              "    </tr>\n",
              "    <tr>\n",
              "      <th>4334</th>\n",
              "      <td>18280</td>\n",
              "      <td>2011-03-07 09:52:00</td>\n",
              "    </tr>\n",
              "    <tr>\n",
              "      <th>4335</th>\n",
              "      <td>18281</td>\n",
              "      <td>2011-06-12 10:53:00</td>\n",
              "    </tr>\n",
              "    <tr>\n",
              "      <th>4336</th>\n",
              "      <td>18282</td>\n",
              "      <td>2011-12-02 11:43:00</td>\n",
              "    </tr>\n",
              "    <tr>\n",
              "      <th>4337</th>\n",
              "      <td>18283</td>\n",
              "      <td>2011-12-06 12:02:00</td>\n",
              "    </tr>\n",
              "    <tr>\n",
              "      <th>4338</th>\n",
              "      <td>18287</td>\n",
              "      <td>2011-10-28 09:29:00</td>\n",
              "    </tr>\n",
              "  </tbody>\n",
              "</table>\n",
              "<p>4339 rows × 2 columns</p>\n",
              "</div>"
            ],
            "text/plain": [
              "     CustomerID    LastPurchaseDate\n",
              "0         12346 2011-01-18 10:01:00\n",
              "1         12347 2011-12-07 15:52:00\n",
              "2         12348 2011-09-25 13:13:00\n",
              "3         12349 2011-11-21 09:51:00\n",
              "4         12350 2011-02-02 16:01:00\n",
              "...         ...                 ...\n",
              "4334      18280 2011-03-07 09:52:00\n",
              "4335      18281 2011-06-12 10:53:00\n",
              "4336      18282 2011-12-02 11:43:00\n",
              "4337      18283 2011-12-06 12:02:00\n",
              "4338      18287 2011-10-28 09:29:00\n",
              "\n",
              "[4339 rows x 2 columns]"
            ]
          },
          "metadata": {},
          "execution_count": 25
        }
      ]
    },
    {
      "cell_type": "markdown",
      "metadata": {
        "id": "8Pwj9w_Dn6eb"
      },
      "source": [
        "Now, we have obtained a DataFrame that shows the last purchase date of each customer. But for recency, we need the number of days between the last purchase date and the present date (or a reference date).\n",
        "\n",
        "First, find out the last invoice date in the dataset from the `InvoiceDate` column."
      ]
    },
    {
      "cell_type": "code",
      "metadata": {
        "colab": {
          "base_uri": "https://localhost:8080/"
        },
        "id": "jANm7QEOJHMR",
        "outputId": "67d1a8be-7a1f-4aa1-c147-36ab39329b7d"
      },
      "source": [
        "# S5.2: Obtain the last invoice date in the dataset.\n",
        "df['InvoiceDate'].max()"
      ],
      "execution_count": null,
      "outputs": [
        {
          "output_type": "execute_result",
          "data": {
            "text/plain": [
              "Timestamp('2011-12-09 12:50:00')"
            ]
          },
          "metadata": {},
          "execution_count": 26
        }
      ]
    },
    {
      "cell_type": "markdown",
      "metadata": {
        "id": "16RNoIAYJmTV"
      },
      "source": [
        "Since the last invoice date is `2011–12–09`, we will consider `2011–12–10` as the present date to calculate recency.\n",
        "\n",
        "**Note:** You can also consider `2011–12–09` as the present date to calculate recency. However, in that case,  we will obtain recency as `0` for purchases made on `2011–12–09` date.\n",
        "\n",
        "So let us first add 1 day to the last invoice date to obtain the present date (i.e. `2011–12–10`). To do so, use the `Timedelta()` function of `pandas` module as follows:\n",
        "\n",
        "`pd.Timedelta(\"1 day\")`\n",
        "\n",
        "**Note:** You can use `help(pd.Timedelta)` function to learn more about the syntax of `Timedelta()` function."
      ]
    },
    {
      "cell_type": "code",
      "metadata": {
        "colab": {
          "base_uri": "https://localhost:8080/"
        },
        "id": "LyM7Q6t-pkt6",
        "outputId": "8900bcd4-d668-49d4-a2a0-e2bdc30e6d2d"
      },
      "source": [
        "# S5.3: Obtain the present date i.e LastPurchaseDate + 1 day\n",
        "present_date = df['InvoiceDate'].max() + pd.Timedelta(\"1 day\")\n",
        "present_date"
      ],
      "execution_count": null,
      "outputs": [
        {
          "output_type": "execute_result",
          "data": {
            "text/plain": [
              "Timestamp('2011-12-10 12:50:00')"
            ]
          },
          "metadata": {},
          "execution_count": 27
        }
      ]
    },
    {
      "cell_type": "markdown",
      "metadata": {
        "id": "I5dZ28wuvbxC"
      },
      "source": [
        "Now, we have both the dates i.e. the last purchase date of each customer (`recency_df['LastPurchaseDate']`) and the present date (`present_date`). We can now easily calculate the number of days that have passed since the customer's  last purchase.\n"
      ]
    },
    {
      "cell_type": "code",
      "metadata": {
        "colab": {
          "base_uri": "https://localhost:8080/"
        },
        "id": "RzDouss3JnEb",
        "outputId": "577469b7-6e20-46f0-f0e5-ee5222cc3d92"
      },
      "source": [
        "# S5.4: Obtain the days since last purchase made by a customer\n",
        "days_last_purchase = present_date - recency_df['LastPurchaseDate']\n",
        "days_last_purchase"
      ],
      "execution_count": null,
      "outputs": [
        {
          "output_type": "execute_result",
          "data": {
            "text/plain": [
              "0      326 days 02:49:00\n",
              "1        2 days 20:58:00\n",
              "2       75 days 23:37:00\n",
              "3       19 days 02:59:00\n",
              "4      310 days 20:49:00\n",
              "              ...       \n",
              "4334   278 days 02:58:00\n",
              "4335   181 days 01:57:00\n",
              "4336     8 days 01:07:00\n",
              "4337     4 days 00:48:00\n",
              "4338    43 days 03:21:00\n",
              "Name: LastPurchaseDate, Length: 4339, dtype: timedelta64[ns]"
            ]
          },
          "metadata": {},
          "execution_count": 28
        }
      ]
    },
    {
      "cell_type": "markdown",
      "metadata": {
        "id": "2Jixu6910WL6"
      },
      "source": [
        "We obtained the `timedelta64` object after subtracting the last purchase date from the present date for each customer. (Here, `64` indicates 64-bit integers.)\n",
        "\n",
        "However, for recency we are interested only in the number of days that have elapsed since the last order. To extract days, use `dt.days` attribute with the above pandas series."
      ]
    },
    {
      "cell_type": "code",
      "metadata": {
        "colab": {
          "base_uri": "https://localhost:8080/"
        },
        "id": "VBmImRZwLBM9",
        "outputId": "273f8cec-d0d8-410a-ca70-af9b727bdf70"
      },
      "source": [
        "# S5.5: Extract days from datetime using 'dt.days' attribute\n",
        "recency_days = days_last_purchase.dt.days\n",
        "recency_days"
      ],
      "execution_count": null,
      "outputs": [
        {
          "output_type": "execute_result",
          "data": {
            "text/plain": [
              "0       326\n",
              "1         2\n",
              "2        75\n",
              "3        19\n",
              "4       310\n",
              "       ... \n",
              "4334    278\n",
              "4335    181\n",
              "4336      8\n",
              "4337      4\n",
              "4338     43\n",
              "Name: LastPurchaseDate, Length: 4339, dtype: int64"
            ]
          },
          "metadata": {},
          "execution_count": 29
        }
      ]
    },
    {
      "cell_type": "markdown",
      "metadata": {
        "id": "ut4eC4TX3CTX"
      },
      "source": [
        "Thus, we obtained recency for 4339 customers. Let's add these days as a column `Recency` to the `rfm_df` DataFrame."
      ]
    },
    {
      "cell_type": "code",
      "metadata": {
        "colab": {
          "base_uri": "https://localhost:8080/",
          "height": 419
        },
        "id": "1Uz08HuRN3k9",
        "outputId": "4357b6a8-b6e9-4174-9b30-0819e5e9c5cb"
      },
      "source": [
        "# S5.6: Add 'recency_days' as column to the merged DataFrame 'rfm_df'.\n",
        "rfm_df['Recency'] = recency_days\n",
        "rfm_df"
      ],
      "execution_count": null,
      "outputs": [
        {
          "output_type": "execute_result",
          "data": {
            "text/html": [
              "<div>\n",
              "<style scoped>\n",
              "    .dataframe tbody tr th:only-of-type {\n",
              "        vertical-align: middle;\n",
              "    }\n",
              "\n",
              "    .dataframe tbody tr th {\n",
              "        vertical-align: top;\n",
              "    }\n",
              "\n",
              "    .dataframe thead th {\n",
              "        text-align: right;\n",
              "    }\n",
              "</style>\n",
              "<table border=\"1\" class=\"dataframe\">\n",
              "  <thead>\n",
              "    <tr style=\"text-align: right;\">\n",
              "      <th></th>\n",
              "      <th>CustomerID</th>\n",
              "      <th>Monetary</th>\n",
              "      <th>Frequency</th>\n",
              "      <th>Recency</th>\n",
              "    </tr>\n",
              "  </thead>\n",
              "  <tbody>\n",
              "    <tr>\n",
              "      <th>0</th>\n",
              "      <td>12346</td>\n",
              "      <td>77183.60</td>\n",
              "      <td>1</td>\n",
              "      <td>326</td>\n",
              "    </tr>\n",
              "    <tr>\n",
              "      <th>1</th>\n",
              "      <td>12347</td>\n",
              "      <td>4310.00</td>\n",
              "      <td>182</td>\n",
              "      <td>2</td>\n",
              "    </tr>\n",
              "    <tr>\n",
              "      <th>2</th>\n",
              "      <td>12348</td>\n",
              "      <td>1797.24</td>\n",
              "      <td>31</td>\n",
              "      <td>75</td>\n",
              "    </tr>\n",
              "    <tr>\n",
              "      <th>3</th>\n",
              "      <td>12349</td>\n",
              "      <td>1757.55</td>\n",
              "      <td>73</td>\n",
              "      <td>19</td>\n",
              "    </tr>\n",
              "    <tr>\n",
              "      <th>4</th>\n",
              "      <td>12350</td>\n",
              "      <td>334.40</td>\n",
              "      <td>17</td>\n",
              "      <td>310</td>\n",
              "    </tr>\n",
              "    <tr>\n",
              "      <th>...</th>\n",
              "      <td>...</td>\n",
              "      <td>...</td>\n",
              "      <td>...</td>\n",
              "      <td>...</td>\n",
              "    </tr>\n",
              "    <tr>\n",
              "      <th>4334</th>\n",
              "      <td>18280</td>\n",
              "      <td>180.60</td>\n",
              "      <td>10</td>\n",
              "      <td>278</td>\n",
              "    </tr>\n",
              "    <tr>\n",
              "      <th>4335</th>\n",
              "      <td>18281</td>\n",
              "      <td>80.82</td>\n",
              "      <td>7</td>\n",
              "      <td>181</td>\n",
              "    </tr>\n",
              "    <tr>\n",
              "      <th>4336</th>\n",
              "      <td>18282</td>\n",
              "      <td>178.05</td>\n",
              "      <td>12</td>\n",
              "      <td>8</td>\n",
              "    </tr>\n",
              "    <tr>\n",
              "      <th>4337</th>\n",
              "      <td>18283</td>\n",
              "      <td>2094.88</td>\n",
              "      <td>756</td>\n",
              "      <td>4</td>\n",
              "    </tr>\n",
              "    <tr>\n",
              "      <th>4338</th>\n",
              "      <td>18287</td>\n",
              "      <td>1837.28</td>\n",
              "      <td>70</td>\n",
              "      <td>43</td>\n",
              "    </tr>\n",
              "  </tbody>\n",
              "</table>\n",
              "<p>4339 rows × 4 columns</p>\n",
              "</div>"
            ],
            "text/plain": [
              "     CustomerID  Monetary  Frequency  Recency\n",
              "0         12346  77183.60          1      326\n",
              "1         12347   4310.00        182        2\n",
              "2         12348   1797.24         31       75\n",
              "3         12349   1757.55         73       19\n",
              "4         12350    334.40         17      310\n",
              "...         ...       ...        ...      ...\n",
              "4334      18280    180.60         10      278\n",
              "4335      18281     80.82          7      181\n",
              "4336      18282    178.05         12        8\n",
              "4337      18283   2094.88        756        4\n",
              "4338      18287   1837.28         70       43\n",
              "\n",
              "[4339 rows x 4 columns]"
            ]
          },
          "metadata": {},
          "execution_count": 30
        }
      ]
    },
    {
      "cell_type": "markdown",
      "metadata": {
        "id": "7-gD_Mvy3kt3"
      },
      "source": [
        "We now have a DataFrame for **RFM** analysis consisting of the necessary fields to carry out the customer segmentation.\n",
        "\n",
        "In the next class, we will analyse the RFM  DataFrame and prepare it for K-Means clustering."
      ]
    },
    {
      "cell_type": "markdown",
      "metadata": {
        "id": "Lr76aCXF57xb"
      },
      "source": [
        "---"
      ]
    },
    {
      "cell_type": "markdown",
      "metadata": {
        "id": "jawoyD3fL8aI"
      },
      "source": [
        "#### Activities\n",
        "\n",
        "**Teacher Activities**\n",
        "\n",
        "1. K-Means Clustering - RFM Analysis (Class Copy)\n",
        "\n",
        "   Link on Panel\n",
        "\n",
        "2. K-Means Clustering - RFM Analysis (Reference)\n",
        "\n",
        "   Link on Panel"
      ]
    },
    {
      "cell_type": "markdown",
      "metadata": {
        "id": "c_6ro7-8L9LN"
      },
      "source": [
        "---"
      ]
    }
  ]
}