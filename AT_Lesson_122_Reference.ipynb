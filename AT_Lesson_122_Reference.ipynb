{
  "nbformat": 4,
  "nbformat_minor": 0,
  "metadata": {
    "colab": {
      "provenance": [],
      "include_colab_link": true
    },
    "kernelspec": {
      "name": "python3",
      "display_name": "Python 3"
    },
    "language_info": {
      "name": "python"
    }
  },
  "cells": [
    {
      "cell_type": "markdown",
      "metadata": {
        "id": "view-in-github",
        "colab_type": "text"
      },
      "source": [
        "<a href=\"https://colab.research.google.com/github/nalinis07/APT_Ref_Copy_Links/blob/MASTER/AT_Lesson_122_Reference.ipynb\" target=\"_parent\"><img src=\"https://colab.research.google.com/assets/colab-badge.svg\" alt=\"Open In Colab\"/></a>"
      ]
    },
    {
      "cell_type": "markdown",
      "metadata": {
        "id": "98EVEazf_LLM"
      },
      "source": [
        "# Lesson 122: kNN Classification II - Resampling"
      ]
    },
    {
      "cell_type": "markdown",
      "metadata": {
        "id": "aMa2XShG_Uv8"
      },
      "source": [
        "**WARNING:** The reference notebook is meant **ONLY** for a teacher. Please **DO NOT** share it with any student.\n",
        "\n",
        "The contents of the reference notebook are meant only to prepare a teacher for a class. To conduct the class, use the class copy of the reference notebook. The link and the instructions for the same are provided in the **Notes To The Teacher** section.\n",
        "\n",
        "\n",
        "|Particulars|Description|\n",
        "|-|-|\n",
        "|**Topic**|kNN Classification II - Resampling|\n",
        "|||\n",
        "|**Class Description**|In this class, a student will learn to build a kNN classifier model using `sklearn` module|\n",
        "|||\n",
        "|**Class**|C122|\n",
        "|||\n",
        "|**Class Time**|55 minutes|\n",
        "|||\n",
        "|**Goal**|Build a kNN classifier using `sklearn` module|\n",
        "||Find optimal number of neighbours for kNN|\n",
        "||Resample datasets using undersampling and oversampling techniques|\n",
        "|||\n",
        "|**Teacher Resources**|Google Account|\n",
        "||Laptop with internet connectivity|\n",
        "||Earphones with mic|\n",
        "|||\n",
        "|**Student Resources**|Google Account|\n",
        "||Laptop with internet connectivity|\n",
        "||Earphones with mic|"
      ]
    },
    {
      "cell_type": "markdown",
      "metadata": {
        "id": "iSxtp-QD_a-F"
      },
      "source": [
        "---"
      ]
    },
    {
      "cell_type": "markdown",
      "metadata": {
        "id": "xH-HX1hzR1Bx"
      },
      "source": [
        "### Warm-up Quiz\n",
        "\n",
        "```\n",
        "TEACHER\n",
        "I have an exciting quiz question for you! Are you ready to answer this question?\n",
        "\n",
        "EXPECTED STUDENT RESPONSE\n",
        "Yes.\n",
        "```\n",
        "\n",
        "**Instructions for the Teacher:**\n",
        "- Please click on the \"Quiz Time\" button on the bottom right corner of your screen to start the In-Class Quiz. <img src='https://student-datasets-bucket.s3.ap-south-1.amazonaws.com/images/quiz-time.png' width = 150>\n",
        "\n",
        "- A quiz will be visible to both you and the student. Encourage the student to answer the quiz question.\n",
        "\n",
        "- The student may choose the wrong option, help the student to think correctly about the question and then answer again.\n",
        "\n",
        "- After the student selects the correct option, the \"End Quiz\" button will start appearing on your screen. <img src='https://student-datasets-bucket.s3.ap-south-1.amazonaws.com/images/end-quiz.png' width = 150>  \n",
        "\n",
        "- Click the \"End quiz\" button to close the quiz pop-up and continue the class.\n",
        "  \n",
        "- Do not spend more than 2 minutes on this quiz."
      ]
    },
    {
      "cell_type": "markdown",
      "metadata": {
        "id": "NvXbL4zXR1-6"
      },
      "source": [
        "---"
      ]
    },
    {
      "cell_type": "markdown",
      "metadata": {
        "id": "6ZUjQYr0_gu0"
      },
      "source": [
        "### Teacher-Student Activities\n",
        "\n",
        "In the previous class, we started learning a new supervised machine learning algorithm called **k‐Nearest Neighbours (kNN)**. We also explored a binary classification problem statement and performed necessary data preprocessing and data preparation operations.\n",
        "\n",
        "In today's class, we will implement kNN classifier using `sklearn` module of Python. We will also learn how to decide the number of neighbours ($k$) for kNN classifier.\n",
        "\n",
        "Before that, let us revisit the problem statement and recall the concepts learned in the previous class and start this class from **Activity 1: Building kNN Classifier Model**.\n",
        "\n",
        "\n",
        "\n"
      ]
    },
    {
      "cell_type": "markdown",
      "metadata": {
        "id": "IHVLPGyJ_Zns"
      },
      "source": [
        "---"
      ]
    },
    {
      "cell_type": "markdown",
      "metadata": {
        "id": "kxbhtj--_axi"
      },
      "source": [
        "#### Problem Statement\n",
        "\n",
        "Safe drinking water is essential for every form of life on earth. for public health. The United Nations (UN) and other countries declared access to safe drinking water as a fundamental human right. This is important as a health and development issue at a national, regional, and local level.\n",
        "\n",
        "You are provided with a dataset consisting of water quality metrics for 3276 different water bodies. Your job is to  create a model to determine if the sample tested from the water body is fit for human consumption or not.\n",
        "\n",
        "Following are the attributes of this dataset:\n",
        "\n",
        "\n",
        "1. `ph`: The pH value indicates the acidic or alkaline condition of water status. The pH of pure water is 7. WHO has recommended maximum permissible limit of pH from 6.5 to 8.5.\n",
        "\n",
        "2. `Hardness`: Hardness is mainly caused by calcium and magnesium salts. These salts are dissolved from geologic deposits through which water travels.\n",
        "\n",
        "3. `Solids`: Also known as TDS (total dissolved solids). Water has the ability to dissolve a wide range of inorganic and some organic minerals or salts such as potassium, calcium, sodium, bicarbonates, etc. These minerals produced un-wanted taste and diluted colour in appearance of water.  The water with high TDS value indicates that water is highly mineralized. Desirable limit for TDS is 500 mg/l and maximum limit is 1000 mg/l prescribed for drinking purposes.\n",
        "\n",
        "4. `Chloramines`: Chlorine and chloramine are the major disinfectants used in public water systems. Chloramines are most commonly formed when ammonia is added to chlorine to treat drinking water. Chlorine levels up to 4 milligrams per litre ($mg/L$ or 4 parts per million (ppm)) are considered safe in drinking water.\n",
        "\n",
        "5. `Sulfate`: Sulfates are naturally occurring substances that are found in minerals, soil, and rocks.  Sulfate concentration in seawater is about 2,700 milligrams per litre ($mg/L$). It ranges from 3 to 30 $mg/L$ in most freshwater supplies.\n",
        "\n",
        "\n",
        "6. `Conductivity`: Pure water is not a good conductor of electric current rather’s a good insulator.  Electrical conductivity (EC) measures the ionic process of a solution that enables it to transmit current. According to WHO standards, EC value should not exceed 400 micro siemens per centimetre ($\\mu S/cm$).\n",
        "\n",
        "7. `Organic_carbon`: Total Organic Carbon (TOC) is a measure of the total amount of carbon in organic compounds in pure water.\n",
        "\n",
        "8. `Trihalomethanes`: Trihalomethanes (THMs) are chemicals which may be found in water treated with chlorine. THM levels up to 80 ppm is considered safe in drinking water.\n",
        "\n",
        "9. `Turbidity`: The turbidity of water depends on the quantity of solid matter present in the suspended state. The mean turbidity value obtained for Wondo Genet Campus (0.98 NTU) is lower than the WHO recommended value of 5.00 NTU.\n",
        "\n",
        "10. `Potability`: Indicates if water is safe for human consumption where `1` means Potable and `0` means Not potable.\n",
        "\n",
        "\n",
        "**Dataset Credits:** https://www.kaggle.com/adityakadiwal/water-potability\n",
        "\n",
        "**Dataset Link:** https://s3-whjr-v2-prod-bucket.whjr.online/69e55114-dbd8-46c8-9c0a-4bdf19008d79.csv\n",
        "\n",
        "\n"
      ]
    },
    {
      "cell_type": "code",
      "metadata": {
        "colab": {
          "base_uri": "https://localhost:8080/",
          "height": 270
        },
        "id": "uJQrhAirce86",
        "outputId": "df5b15ae-d4dd-4c49-f755-daa1d95c1b26"
      },
      "source": [
        "# Import the Python modules and the data.\n",
        "import numpy as np\n",
        "import pandas as pd\n",
        "import matplotlib.pyplot as plt\n",
        "import seaborn as sns\n",
        "\n",
        "import warnings\n",
        "warnings.filterwarnings(\"ignore\")\n",
        "\n",
        "water_df = pd.read_csv(\"https://s3-whjr-v2-prod-bucket.whjr.online/69e55114-dbd8-46c8-9c0a-4bdf19008d79.csv\")\n",
        "water_df.head()"
      ],
      "execution_count": null,
      "outputs": [
        {
          "output_type": "execute_result",
          "data": {
            "text/html": [
              "\n",
              "  <div id=\"df-05af77f5-9c6f-45cc-80cf-8a225077a82a\">\n",
              "    <div class=\"colab-df-container\">\n",
              "      <div>\n",
              "<style scoped>\n",
              "    .dataframe tbody tr th:only-of-type {\n",
              "        vertical-align: middle;\n",
              "    }\n",
              "\n",
              "    .dataframe tbody tr th {\n",
              "        vertical-align: top;\n",
              "    }\n",
              "\n",
              "    .dataframe thead th {\n",
              "        text-align: right;\n",
              "    }\n",
              "</style>\n",
              "<table border=\"1\" class=\"dataframe\">\n",
              "  <thead>\n",
              "    <tr style=\"text-align: right;\">\n",
              "      <th></th>\n",
              "      <th>ph</th>\n",
              "      <th>Hardness</th>\n",
              "      <th>Solids</th>\n",
              "      <th>Chloramines</th>\n",
              "      <th>Sulfate</th>\n",
              "      <th>Conductivity</th>\n",
              "      <th>Organic_carbon</th>\n",
              "      <th>Trihalomethanes</th>\n",
              "      <th>Turbidity</th>\n",
              "      <th>Potability</th>\n",
              "    </tr>\n",
              "  </thead>\n",
              "  <tbody>\n",
              "    <tr>\n",
              "      <th>0</th>\n",
              "      <td>NaN</td>\n",
              "      <td>204.890455</td>\n",
              "      <td>20791.318981</td>\n",
              "      <td>7.300212</td>\n",
              "      <td>368.516441</td>\n",
              "      <td>564.308654</td>\n",
              "      <td>10.379783</td>\n",
              "      <td>86.990970</td>\n",
              "      <td>2.963135</td>\n",
              "      <td>0</td>\n",
              "    </tr>\n",
              "    <tr>\n",
              "      <th>1</th>\n",
              "      <td>3.716080</td>\n",
              "      <td>129.422921</td>\n",
              "      <td>18630.057858</td>\n",
              "      <td>6.635246</td>\n",
              "      <td>NaN</td>\n",
              "      <td>592.885359</td>\n",
              "      <td>15.180013</td>\n",
              "      <td>56.329076</td>\n",
              "      <td>4.500656</td>\n",
              "      <td>0</td>\n",
              "    </tr>\n",
              "    <tr>\n",
              "      <th>2</th>\n",
              "      <td>8.099124</td>\n",
              "      <td>224.236259</td>\n",
              "      <td>19909.541732</td>\n",
              "      <td>9.275884</td>\n",
              "      <td>NaN</td>\n",
              "      <td>418.606213</td>\n",
              "      <td>16.868637</td>\n",
              "      <td>66.420093</td>\n",
              "      <td>3.055934</td>\n",
              "      <td>0</td>\n",
              "    </tr>\n",
              "    <tr>\n",
              "      <th>3</th>\n",
              "      <td>8.316766</td>\n",
              "      <td>214.373394</td>\n",
              "      <td>22018.417441</td>\n",
              "      <td>8.059332</td>\n",
              "      <td>356.886136</td>\n",
              "      <td>363.266516</td>\n",
              "      <td>18.436524</td>\n",
              "      <td>100.341674</td>\n",
              "      <td>4.628771</td>\n",
              "      <td>0</td>\n",
              "    </tr>\n",
              "    <tr>\n",
              "      <th>4</th>\n",
              "      <td>9.092223</td>\n",
              "      <td>181.101509</td>\n",
              "      <td>17978.986339</td>\n",
              "      <td>6.546600</td>\n",
              "      <td>310.135738</td>\n",
              "      <td>398.410813</td>\n",
              "      <td>11.558279</td>\n",
              "      <td>31.997993</td>\n",
              "      <td>4.075075</td>\n",
              "      <td>0</td>\n",
              "    </tr>\n",
              "  </tbody>\n",
              "</table>\n",
              "</div>\n",
              "      <button class=\"colab-df-convert\" onclick=\"convertToInteractive('df-05af77f5-9c6f-45cc-80cf-8a225077a82a')\"\n",
              "              title=\"Convert this dataframe to an interactive table.\"\n",
              "              style=\"display:none;\">\n",
              "        \n",
              "  <svg xmlns=\"http://www.w3.org/2000/svg\" height=\"24px\"viewBox=\"0 0 24 24\"\n",
              "       width=\"24px\">\n",
              "    <path d=\"M0 0h24v24H0V0z\" fill=\"none\"/>\n",
              "    <path d=\"M18.56 5.44l.94 2.06.94-2.06 2.06-.94-2.06-.94-.94-2.06-.94 2.06-2.06.94zm-11 1L8.5 8.5l.94-2.06 2.06-.94-2.06-.94L8.5 2.5l-.94 2.06-2.06.94zm10 10l.94 2.06.94-2.06 2.06-.94-2.06-.94-.94-2.06-.94 2.06-2.06.94z\"/><path d=\"M17.41 7.96l-1.37-1.37c-.4-.4-.92-.59-1.43-.59-.52 0-1.04.2-1.43.59L10.3 9.45l-7.72 7.72c-.78.78-.78 2.05 0 2.83L4 21.41c.39.39.9.59 1.41.59.51 0 1.02-.2 1.41-.59l7.78-7.78 2.81-2.81c.8-.78.8-2.07 0-2.86zM5.41 20L4 18.59l7.72-7.72 1.47 1.35L5.41 20z\"/>\n",
              "  </svg>\n",
              "      </button>\n",
              "      \n",
              "  <style>\n",
              "    .colab-df-container {\n",
              "      display:flex;\n",
              "      flex-wrap:wrap;\n",
              "      gap: 12px;\n",
              "    }\n",
              "\n",
              "    .colab-df-convert {\n",
              "      background-color: #E8F0FE;\n",
              "      border: none;\n",
              "      border-radius: 50%;\n",
              "      cursor: pointer;\n",
              "      display: none;\n",
              "      fill: #1967D2;\n",
              "      height: 32px;\n",
              "      padding: 0 0 0 0;\n",
              "      width: 32px;\n",
              "    }\n",
              "\n",
              "    .colab-df-convert:hover {\n",
              "      background-color: #E2EBFA;\n",
              "      box-shadow: 0px 1px 2px rgba(60, 64, 67, 0.3), 0px 1px 3px 1px rgba(60, 64, 67, 0.15);\n",
              "      fill: #174EA6;\n",
              "    }\n",
              "\n",
              "    [theme=dark] .colab-df-convert {\n",
              "      background-color: #3B4455;\n",
              "      fill: #D2E3FC;\n",
              "    }\n",
              "\n",
              "    [theme=dark] .colab-df-convert:hover {\n",
              "      background-color: #434B5C;\n",
              "      box-shadow: 0px 1px 3px 1px rgba(0, 0, 0, 0.15);\n",
              "      filter: drop-shadow(0px 1px 2px rgba(0, 0, 0, 0.3));\n",
              "      fill: #FFFFFF;\n",
              "    }\n",
              "  </style>\n",
              "\n",
              "      <script>\n",
              "        const buttonEl =\n",
              "          document.querySelector('#df-05af77f5-9c6f-45cc-80cf-8a225077a82a button.colab-df-convert');\n",
              "        buttonEl.style.display =\n",
              "          google.colab.kernel.accessAllowed ? 'block' : 'none';\n",
              "\n",
              "        async function convertToInteractive(key) {\n",
              "          const element = document.querySelector('#df-05af77f5-9c6f-45cc-80cf-8a225077a82a');\n",
              "          const dataTable =\n",
              "            await google.colab.kernel.invokeFunction('convertToInteractive',\n",
              "                                                     [key], {});\n",
              "          if (!dataTable) return;\n",
              "\n",
              "          const docLinkHtml = 'Like what you see? Visit the ' +\n",
              "            '<a target=\"_blank\" href=Link on Panelotebook</a>'\n",
              "            + ' to learn more about interactive tables.';\n",
              "          element.innerHTML = '';\n",
              "          dataTable['output_type'] = 'display_data';\n",
              "          await google.colab.output.renderOutput(dataTable, element);\n",
              "          const docLink = document.createElement('div');\n",
              "          docLink.innerHTML = docLinkHtml;\n",
              "          element.appendChild(docLink);\n",
              "        }\n",
              "      </script>\n",
              "    </div>\n",
              "  </div>\n",
              "  "
            ],
            "text/plain": [
              "         ph    Hardness        Solids  ...  Trihalomethanes  Turbidity  Potability\n",
              "0       NaN  204.890455  20791.318981  ...        86.990970   2.963135           0\n",
              "1  3.716080  129.422921  18630.057858  ...        56.329076   4.500656           0\n",
              "2  8.099124  224.236259  19909.541732  ...        66.420093   3.055934           0\n",
              "3  8.316766  214.373394  22018.417441  ...       100.341674   4.628771           0\n",
              "4  9.092223  181.101509  17978.986339  ...        31.997993   4.075075           0\n",
              "\n",
              "[5 rows x 10 columns]"
            ]
          },
          "metadata": {},
          "execution_count": 1
        }
      ]
    },
    {
      "cell_type": "markdown",
      "metadata": {
        "id": "EAjJnrbklm62"
      },
      "source": [
        "---"
      ]
    },
    {
      "cell_type": "markdown",
      "metadata": {
        "id": "b2ip4t9Oln_s"
      },
      "source": [
        "#### Recap\n",
        "\n",
        "#### Understanding kNN\n",
        "\n",
        "\n",
        " The k-Nearest Neighbours (kNN) is a simple algorithm that is used for both classification and regression problems in Machine Learning. Let us first understand how kNN classification works  using a simple example. We will cover kNN regression in the upcoming lessons.\n",
        "\n",
        "Imagine that we were presented with two features of balls i.e `size` and `weight` and a target label `category` (`0` = tennis ball and `1` = soccer ball):\n",
        "\n",
        "\n",
        "|size|weight|category|\n",
        "|-|-|-|\n",
        "|10|150|0|\n",
        "|11|190|0|\n",
        "|15|190|0|\n",
        "|12|160|0|\n",
        "|18|200|1|\n",
        "|20|220|1|\n",
        "|21|230|1|\n",
        "|22|245|1|\n",
        "\n",
        "Let us create a two-dimensional numpy array storing the size and weights of balls and a separate numpy array that contains the category values.\n"
      ]
    },
    {
      "cell_type": "code",
      "metadata": {
        "id": "51xkjRPrBGLe"
      },
      "source": [
        "# Create a 2D numpy array of balls size and weights.\n",
        "# Create an array consisting of category values.\n",
        "\n",
        "balls_arr = np.array([[10, 11, 15, 12, 18, 20, 21, 22],\n",
        "                      [150, 190, 190, 160, 200, 220, 230, 245]])\n",
        "category_arr = np.array([0, 0, 0, 0, 1, 1, 1, 1])"
      ],
      "execution_count": null,
      "outputs": []
    },
    {
      "cell_type": "markdown",
      "metadata": {
        "id": "HLsMc8kfGaSe"
      },
      "source": [
        "\n",
        "Create a scatter plot with size on $x$-axis and weight on $y$-axis and colour code the data points on the basis of the categories of balls.  "
      ]
    },
    {
      "cell_type": "code",
      "metadata": {
        "colab": {
          "base_uri": "https://localhost:8080/",
          "height": 350
        },
        "id": "qVjpyi1HGSf8",
        "outputId": "f22a7aa0-76f3-4d4f-c36c-c0e9c01756ed"
      },
      "source": [
        "# Create a scatter plot for size vs weight.\n",
        "plt.figure(figsize = (10, 5))\n",
        "color_arr = np.array(['r', 'b'])\n",
        "\n",
        "plt.scatter(balls_arr[0], balls_arr[1], s = 100,  c = color_arr[category_arr])\n",
        "plt.xlabel('Size')\n",
        "plt.ylabel('Weight')\n",
        "plt.title('Size vs Weight')\n",
        "plt.show()"
      ],
      "execution_count": null,
      "outputs": [
        {
          "output_type": "display_data",
          "data": {
            "image/png": "[encoded data removed]",
            "text/plain": [
              "<Figure size 720x360 with 1 Axes>"
            ]
          },
          "metadata": {
            "needs_background": "light"
          }
        }
      ]
    },
    {
      "cell_type": "markdown",
      "metadata": {
        "id": "sYtvLjTYIG0k"
      },
      "source": [
        "Suppose there is a new ball (marked as **X**) whose size is `16` and weight is `200` as seen in the figure below:\n",
        "\n",
        "<center>\n",
        "<img src = \"https://s3-whjr-v2-prod-bucket.whjr.online/572dd9e9-c093-4b5f-b6a2-7586493aace1.png\"/>\n",
        "\n",
        "`Fig 1.1: Predicting label of new data point`\n",
        "</center>\n",
        "\n",
        "Our task is to classify this new ball into either  class <font color = red><b>$0$ </b></font> or   class <font color = blue><b>$1$ </b></font>.\n",
        "\n",
        "Suppose the value of $k$ is 3. The kNN algorithm starts by calculating the distance of point **X** from all the points. It will then find the 3 nearest points having least distance to point **X**. This is shown in the figure below. The three nearest points have been encircled.\n",
        "\n",
        "<center>\n",
        "<img src = \"https://s3-whjr-v2-prod-bucket.whjr.online/2bf6a3c6-9ff2-4d9b-b89a-c9235b852c6a.png\"/>\n",
        "\n",
        "`Fig 1.2: When k = 3`\n",
        "</center>\n",
        "\n",
        "The final step of the kNN algorithm is to assign new point **X** to the class to which majority of the three nearest points belong. From the figure above, we can see that two of the three nearest points belong to class <font color = blue><b>$1$ </b></font> while one belongs to the class <font color = red><b>$0$ </b></font>. Therefore the new data point will be classified as <font color = blue><b>$1$ </b></font> i.e the new ball is a soccer ball.\n",
        "\n",
        "Hence in kNN, $k$ is the number of nearest neighbours. $k$ is generally an odd number if the number of classes is 2.\n",
        "\n",
        "The simplest case of kNN algorithm is when $k$ = 1.  In this case, we find the only 1 closest point to point **X** and then the label of the nearest point is assigned to **X**. Thus, for balls example, if $k$ = 1 then the predicted class would be  <font color = red><b>$0$ </b></font> as seen in the figure below:\n",
        "\n",
        "<center>\n",
        "<img src= \"https://s3-whjr-v2-prod-bucket.whjr.online/111927ea-e7bb-4098-8f18-4d77ec60832a.png\"/>\n",
        "\n",
        "`Fig 1.3: When k = 1`\n",
        "</center>\n",
        "\n",
        "Hence, the number of neighbours $k$ is the core deciding factor in kNN. Thus, kNN classification has the following basic steps:\n",
        "<center>\n",
        "<img src=\"https://s3-whjr-v2-prod-bucket.whjr.online/whjr-v2-prod-bucket/63318078-30b6-4ed6-a88c-7d0cc1baea6d.png\"/></center>\n",
        "\n",
        "To find the distance between points, we use various distance measures in which Euclidean distance function is the most widely used one. Let us learn other distance functions that can be used in kNN."
      ]
    },
    {
      "cell_type": "markdown",
      "metadata": {
        "id": "0LmWtUK0DknV"
      },
      "source": [
        "---"
      ]
    },
    {
      "cell_type": "markdown",
      "metadata": {
        "id": "4R6OBdTWDmDc"
      },
      "source": [
        "#### Distance Functions\n",
        "\n",
        "To measure the distance between points $A$ and $B$ in a feature space, the Euclidean distance function is the most widely used one.\n",
        "\n",
        "However, depending on the context of the problem several distance metrics can be used.\n",
        "\n",
        "Let $A$ and $B$  are represented by feature vectors\n",
        "$A = (x_1, x_2, …, x_n)$ and $B = (y_1, y_2, …, y_n)$,  where $n$ is the dimensionality of the feature space.\n",
        "\n",
        "**1. Manhattan Distance:**\n",
        "\n",
        "Manhattan distance is calculated as the sum of the absolute differences between the two vectors.\n",
        "\n",
        "\\begin{equation}\n",
        "d(A, B) = \\sum _{i=1}^n |x_i - y_i|\n",
        "\\end{equation}\n",
        "\n",
        "Thus, the Manhattan distance between two points $(x_1, y_1)$ and $(x_2, y_2)$ is given by  $|x_1 – x_2| + |y_1 – y_2|$.\n",
        "\n",
        "For example, consider two data points $A =(1, 2)$ and $B =(3, 4)$,\n",
        "\n",
        "The Manhattan distance between these two points is calculated as:\n",
        "\n",
        "\\begin{equation}\n",
        "d(A, B) = |3 -1|+|4-2| = 4\n",
        "\\end{equation}\n",
        "\n",
        "**2. Euclidean  Distance:**\n",
        "\n",
        "The Euclidean distance between two points is the length of a line segment between the two points.\n",
        "\n",
        "<center>\n",
        "<img src = https://s3-whjr-v2-prod-bucket.whjr.online/f57e2015-ba39-4646-933f-3cbaa2dac4df.png height=500></center>\n",
        "\n",
        "The **Euclidean Distance** between  points  $A (x_1 , y_1)$, and $B (x_2 , y_2)$ can be calculated from the Cartesian coordinates of the points using the Pythagorean theorem:\n",
        "\n",
        "\\begin{align}\n",
        "  d(A, B) = \\sqrt{(x_2 - x_1)^2 + (y_2 - y_1)^2 }\n",
        "\\end{align}\n",
        "\n",
        "For example, the Euclidean distance between $(1,2)$ and $(3, 4)$ is:\n",
        "  \n",
        "  $\\sqrt{(3-1)^2 + (4-2)^2}=\\sqrt{4 + 4} =\\sqrt{8} = 2.828 $\n",
        "\n",
        "**3. Minkowski Distance:**\n",
        "\n",
        "It is a generalisation of the Euclidean distance and the Manhattan distance.\n",
        "\n",
        "$$ d(A, B) = \\sqrt[p]{{(x_1-y_1)}^p\\ +\\ {(x_2-y_2)}^p\\ +\\ ...\\ +\\ {(x_n-y_n)}^p}\n",
        "$$\n",
        "\n",
        "The value of $p$ in Minkowski Distance is set based on experimentation. The usual value of $p$ is either `2`, `3` or `4` for most problems. The exact value depends on the applications.\n",
        "- When $p = 1$, Minkowski distance is same as Manhattan distance.\n",
        "- When $p = 2$, Minkowski distance is same as Euclidean distance.\n",
        "\n",
        "**4. Hamming Distance:**\n",
        "\n",
        " It is used for categorical variables. If the value of variable $x$ and the value of variable $y$ are the same, the distance $d_H$ will be equal to 0. Otherwise $d_H$ will be equal to 1.\n",
        "\n",
        "\\begin{align}\n",
        "  d_H(x, y)= \\sum_{i = 1}^k |x_i - y_i|\n",
        "\\end{align}\n",
        " - If $x = y$, then $d_H = 0$\n",
        " - If $x \\neq y$, then $d_H = 1$\n",
        "\n",
        "\n",
        "For example:\n",
        "\n",
        "|Fruit|Sphere|Sweet|Sour|Crunchy|\n",
        "|-|-|-|-|-|\n",
        "|Apple|Yes|Yes|No|Yes|\n",
        "|Banana|No|Yes|No|No|\n",
        "\n",
        "Since each object is represented by 4 variables, we can say that each object has 4 dimensions. Thus, coordinate of Apple is (1, 1, 0, 1) and coordinate of Banana is (0, 1, 0, 0).\n",
        "\n",
        "|Fruit|Sphere|Sweet|Sour|Crunchy|\n",
        "|-|-|-|-|-|\n",
        "|Apple|1|1|0|1|\n",
        "|Banana|0|1|0|0|\n",
        "|Is different|Yes|No|No|Yes|\n",
        "\n",
        "Since there are 2 digits different here, we can say that the hamming distance between Apple and Banana is 2.\n",
        "\n",
        "\n",
        "Now that we have understood the basic idea behind kNN classification, let us proceed with the water quality prediction problem statement.\n",
        "\n"
      ]
    },
    {
      "cell_type": "markdown",
      "metadata": {
        "id": "bpoAJdfElkOT"
      },
      "source": [
        "---"
      ]
    },
    {
      "cell_type": "markdown",
      "metadata": {
        "id": "bYdHVXeSlloO"
      },
      "source": [
        "#### Data Preprocessing\n",
        "\n",
        "Let's find out the total number of rows and columns, data types of columns and missing values (if exist) in the `water_df` DataFrame.\n"
      ]
    },
    {
      "cell_type": "code",
      "metadata": {
        "colab": {
          "base_uri": "https://localhost:8080/"
        },
        "id": "eklSHu1mmdNx",
        "outputId": "ab03b6ef-6111-443c-a26f-f45709052807"
      },
      "source": [
        "# Get the total number of rows and columns, data types of columns and missing values (if exist) in the dataset.\n",
        "water_df.info()"
      ],
      "execution_count": null,
      "outputs": [
        {
          "output_type": "stream",
          "name": "stdout",
          "text": [
            "<class 'pandas.core.frame.DataFrame'>\n",
            "RangeIndex: 3276 entries, 0 to 3275\n",
            "Data columns (total 10 columns):\n",
            " #   Column           Non-Null Count  Dtype  \n",
            "---  ------           --------------  -----  \n",
            " 0   ph               2785 non-null   float64\n",
            " 1   Hardness         3276 non-null   float64\n",
            " 2   Solids           3276 non-null   float64\n",
            " 3   Chloramines      3276 non-null   float64\n",
            " 4   Sulfate          2495 non-null   float64\n",
            " 5   Conductivity     3276 non-null   float64\n",
            " 6   Organic_carbon   3276 non-null   float64\n",
            " 7   Trihalomethanes  3114 non-null   float64\n",
            " 8   Turbidity        3276 non-null   float64\n",
            " 9   Potability       3276 non-null   int64  \n",
            "dtypes: float64(9), int64(1)\n",
            "memory usage: 256.1 KB\n"
          ]
        }
      ]
    },
    {
      "cell_type": "code",
      "metadata": {
        "colab": {
          "base_uri": "https://localhost:8080/"
        },
        "id": "3QfboNo_prXd",
        "outputId": "f60effad-0d41-4dcd-dbf5-999da59416bc"
      },
      "source": [
        "# Check missing values using the 'isnull().sum()' function.\n",
        "water_df.isnull().sum()"
      ],
      "execution_count": null,
      "outputs": [
        {
          "output_type": "execute_result",
          "data": {
            "text/plain": [
              "ph                 491\n",
              "Hardness             0\n",
              "Solids               0\n",
              "Chloramines          0\n",
              "Sulfate            781\n",
              "Conductivity         0\n",
              "Organic_carbon       0\n",
              "Trihalomethanes    162\n",
              "Turbidity            0\n",
              "Potability           0\n",
              "dtype: int64"
            ]
          },
          "metadata": {},
          "execution_count": 5
        }
      ]
    },
    {
      "cell_type": "code",
      "metadata": {
        "colab": {
          "base_uri": "https://localhost:8080/"
        },
        "id": "JSiX20sqq2nH",
        "outputId": "f3f98dc6-5597-4a7c-a0a8-ed4728b8e721"
      },
      "source": [
        "# Check the percentage of missing values\n",
        "water_df.isnull().sum() * 100 / water_df.shape[0]"
      ],
      "execution_count": null,
      "outputs": [
        {
          "output_type": "execute_result",
          "data": {
            "text/plain": [
              "ph                 14.987790\n",
              "Hardness            0.000000\n",
              "Solids              0.000000\n",
              "Chloramines         0.000000\n",
              "Sulfate            23.840049\n",
              "Conductivity        0.000000\n",
              "Organic_carbon      0.000000\n",
              "Trihalomethanes     4.945055\n",
              "Turbidity           0.000000\n",
              "Potability          0.000000\n",
              "dtype: float64"
            ]
          },
          "metadata": {},
          "execution_count": 6
        }
      ]
    },
    {
      "cell_type": "code",
      "metadata": {
        "id": "ROLO7flLwIXZ"
      },
      "source": [
        "# Handle missing value with median of features\n",
        "water_df[\"ph\"].fillna(value = water_df[\"ph\"].median(), inplace = True)\n",
        "water_df[\"Sulfate\"].fillna(value = water_df[\"Sulfate\"].median(), inplace = True)\n",
        "water_df[\"Trihalomethanes\"].fillna(value = water_df[\"Trihalomethanes\"].median(), inplace = True)"
      ],
      "execution_count": null,
      "outputs": []
    },
    {
      "cell_type": "code",
      "metadata": {
        "colab": {
          "base_uri": "https://localhost:8080/"
        },
        "id": "NPQ9rJvrxIax",
        "outputId": "79cd4299-7625-4db3-e98e-d9eed0646467"
      },
      "source": [
        "# Check the percentage of missing values\n",
        "water_df.isnull().sum() * 100 / water_df.shape[0]"
      ],
      "execution_count": null,
      "outputs": [
        {
          "output_type": "execute_result",
          "data": {
            "text/plain": [
              "ph                 0.0\n",
              "Hardness           0.0\n",
              "Solids             0.0\n",
              "Chloramines        0.0\n",
              "Sulfate            0.0\n",
              "Conductivity       0.0\n",
              "Organic_carbon     0.0\n",
              "Trihalomethanes    0.0\n",
              "Turbidity          0.0\n",
              "Potability         0.0\n",
              "dtype: float64"
            ]
          },
          "metadata": {},
          "execution_count": 8
        }
      ]
    },
    {
      "cell_type": "markdown",
      "metadata": {
        "id": "2E7XyAF4xe5D"
      },
      "source": [
        "---"
      ]
    },
    {
      "cell_type": "markdown",
      "metadata": {
        "id": "apfWC4vLxgIj"
      },
      "source": [
        "#### EDA and Data Preparation\n",
        "\n",
        "For our dataset, the column `Potability` is the target variable and other columns except `Potability` are the feature variables.\n",
        "Let us create a countplot to display the count of  each target class."
      ]
    },
    {
      "cell_type": "code",
      "metadata": {
        "colab": {
          "base_uri": "https://localhost:8080/",
          "height": 296
        },
        "id": "iyYxkGYa9eOH",
        "outputId": "67ee49f7-240a-492c-85bb-8b16bfd6ea25"
      },
      "source": [
        "# Create a countplot for target class.\n",
        "sns.countplot(water_df['Potability'])"
      ],
      "execution_count": null,
      "outputs": [
        {
          "output_type": "execute_result",
          "data": {
            "text/plain": [
              "<matplotlib.axes._subplots.AxesSubplot at 0x7f4ca9be2390>"
            ]
          },
          "metadata": {},
          "execution_count": 9
        },
        {
          "output_type": "display_data",
          "data": {
            "image/png": "[encoded data removed]",
            "text/plain": [
              "<Figure size 432x288 with 1 Axes>"
            ]
          },
          "metadata": {
            "needs_background": "light"
          }
        }
      ]
    },
    {
      "cell_type": "code",
      "metadata": {
        "colab": {
          "base_uri": "https://localhost:8080/",
          "height": 490
        },
        "id": "2eDeG5jOJZMC",
        "outputId": "8df57031-0b75-4845-f1a9-8b33fdd55fe0"
      },
      "source": [
        "# Create boxplots for 'water_df' columns using subplot.\n",
        "fig, axis = plt.subplots(nrows = 3, ncols = 3, figsize = (20, 10), dpi = 96, sharex = False)\n",
        "count = 0\n",
        "\n",
        "for i in range(0, 3):\n",
        "  for j in range (0, 3):\n",
        "    column = water_df.iloc[:, count]    # Fetching the current column and all rows of that column.\n",
        "    sns.boxplot(x = 'Potability', y = column, data = water_df, ax = axis[i, j])\n",
        "    count = count + 1\n",
        "\n",
        "plt.show()"
      ],
      "execution_count": null,
      "outputs": [
        {
          "output_type": "display_data",
          "data": {
            "image/png": "[encoded data removed]",
            "text/plain": [
              "<Figure size 1920x960 with 9 Axes>"
            ]
          },
          "metadata": {
            "needs_background": "light"
          }
        }
      ]
    },
    {
      "cell_type": "code",
      "metadata": {
        "colab": {
          "base_uri": "https://localhost:8080/",
          "height": 740
        },
        "id": "5b7nyMj_IsYh",
        "outputId": "a4bc5794-aa6d-429c-a6cb-ef56d776aa7a"
      },
      "source": [
        "# Create histogram for numeric columns using subplot.\n",
        "fig, axis = plt.subplots(nrows = 3, ncols = 3, figsize = (13, 10), dpi = 100)\n",
        "# As there are 9 columns, we created subplot having 3 rows and 3 columns.\n",
        "count = 0\n",
        "\n",
        "for i in range(0, 3):\n",
        "  for j in range (0, 3):\n",
        "    column = water_df.iloc[:, count]      # Fetching the current column and all rows of that column.\n",
        "\n",
        "    sns.distplot(column, hist = True, ax = axis[i, j])\n",
        "    count = count + 1\n",
        "\n",
        "plt.show()"
      ],
      "execution_count": null,
      "outputs": [
        {
          "output_type": "display_data",
          "data": {
            "image/png": "[encoded data removed]",
            "text/plain": [
              "<Figure size 1300x1000 with 9 Axes>"
            ]
          },
          "metadata": {
            "needs_background": "light"
          }
        }
      ]
    },
    {
      "cell_type": "code",
      "metadata": {
        "colab": {
          "base_uri": "https://localhost:8080/",
          "height": 524
        },
        "id": "9GBFJyzRKia9",
        "outputId": "bc7f7014-0739-40e2-db54-957c91339550"
      },
      "source": [
        "# Check the correlation of features\n",
        "corr_df = water_df.corr()\n",
        "plt.figure(figsize = (10, 6), dpi = 84)\n",
        "sns.heatmap(corr_df, annot = True)\n",
        "plt.show()"
      ],
      "execution_count": null,
      "outputs": [
        {
          "output_type": "display_data",
          "data": {
            "image/png": "[encoded data removed]",
            "text/plain": [
              "<Figure size 840x504 with 2 Axes>"
            ]
          },
          "metadata": {
            "needs_background": "light"
          }
        }
      ]
    },
    {
      "cell_type": "code",
      "metadata": {
        "colab": {
          "base_uri": "https://localhost:8080/",
          "height": 250
        },
        "id": "efOp10WONzIZ",
        "outputId": "a7c04d49-402b-43fd-85e2-a37916501edd"
      },
      "source": [
        "# Split the data into dependent and independent features\n",
        "features_df = water_df.drop(['Potability'], axis = 1)\n",
        "target_df = water_df['Potability']\n",
        "features_df.head()"
      ],
      "execution_count": null,
      "outputs": [
        {
          "output_type": "execute_result",
          "data": {
            "text/html": [
              "\n",
              "  <div id=\"df-cdedb31d-445f-4f8c-a7ab-fca17b736393\">\n",
              "    <div class=\"colab-df-container\">\n",
              "      <div>\n",
              "<style scoped>\n",
              "    .dataframe tbody tr th:only-of-type {\n",
              "        vertical-align: middle;\n",
              "    }\n",
              "\n",
              "    .dataframe tbody tr th {\n",
              "        vertical-align: top;\n",
              "    }\n",
              "\n",
              "    .dataframe thead th {\n",
              "        text-align: right;\n",
              "    }\n",
              "</style>\n",
              "<table border=\"1\" class=\"dataframe\">\n",
              "  <thead>\n",
              "    <tr style=\"text-align: right;\">\n",
              "      <th></th>\n",
              "      <th>ph</th>\n",
              "      <th>Hardness</th>\n",
              "      <th>Solids</th>\n",
              "      <th>Chloramines</th>\n",
              "      <th>Sulfate</th>\n",
              "      <th>Conductivity</th>\n",
              "      <th>Organic_carbon</th>\n",
              "      <th>Trihalomethanes</th>\n",
              "      <th>Turbidity</th>\n",
              "    </tr>\n",
              "  </thead>\n",
              "  <tbody>\n",
              "    <tr>\n",
              "      <th>0</th>\n",
              "      <td>7.036752</td>\n",
              "      <td>204.890455</td>\n",
              "      <td>20791.318981</td>\n",
              "      <td>7.300212</td>\n",
              "      <td>368.516441</td>\n",
              "      <td>564.308654</td>\n",
              "      <td>10.379783</td>\n",
              "      <td>86.990970</td>\n",
              "      <td>2.963135</td>\n",
              "    </tr>\n",
              "    <tr>\n",
              "      <th>1</th>\n",
              "      <td>3.716080</td>\n",
              "      <td>129.422921</td>\n",
              "      <td>18630.057858</td>\n",
              "      <td>6.635246</td>\n",
              "      <td>333.073546</td>\n",
              "      <td>592.885359</td>\n",
              "      <td>15.180013</td>\n",
              "      <td>56.329076</td>\n",
              "      <td>4.500656</td>\n",
              "    </tr>\n",
              "    <tr>\n",
              "      <th>2</th>\n",
              "      <td>8.099124</td>\n",
              "      <td>224.236259</td>\n",
              "      <td>19909.541732</td>\n",
              "      <td>9.275884</td>\n",
              "      <td>333.073546</td>\n",
              "      <td>418.606213</td>\n",
              "      <td>16.868637</td>\n",
              "      <td>66.420093</td>\n",
              "      <td>3.055934</td>\n",
              "    </tr>\n",
              "    <tr>\n",
              "      <th>3</th>\n",
              "      <td>8.316766</td>\n",
              "      <td>214.373394</td>\n",
              "      <td>22018.417441</td>\n",
              "      <td>8.059332</td>\n",
              "      <td>356.886136</td>\n",
              "      <td>363.266516</td>\n",
              "      <td>18.436524</td>\n",
              "      <td>100.341674</td>\n",
              "      <td>4.628771</td>\n",
              "    </tr>\n",
              "    <tr>\n",
              "      <th>4</th>\n",
              "      <td>9.092223</td>\n",
              "      <td>181.101509</td>\n",
              "      <td>17978.986339</td>\n",
              "      <td>6.546600</td>\n",
              "      <td>310.135738</td>\n",
              "      <td>398.410813</td>\n",
              "      <td>11.558279</td>\n",
              "      <td>31.997993</td>\n",
              "      <td>4.075075</td>\n",
              "    </tr>\n",
              "  </tbody>\n",
              "</table>\n",
              "</div>\n",
              "      <button class=\"colab-df-convert\" onclick=\"convertToInteractive('df-cdedb31d-445f-4f8c-a7ab-fca17b736393')\"\n",
              "              title=\"Convert this dataframe to an interactive table.\"\n",
              "              style=\"display:none;\">\n",
              "        \n",
              "  <svg xmlns=\"http://www.w3.org/2000/svg\" height=\"24px\"viewBox=\"0 0 24 24\"\n",
              "       width=\"24px\">\n",
              "    <path d=\"M0 0h24v24H0V0z\" fill=\"none\"/>\n",
              "    <path d=\"M18.56 5.44l.94 2.06.94-2.06 2.06-.94-2.06-.94-.94-2.06-.94 2.06-2.06.94zm-11 1L8.5 8.5l.94-2.06 2.06-.94-2.06-.94L8.5 2.5l-.94 2.06-2.06.94zm10 10l.94 2.06.94-2.06 2.06-.94-2.06-.94-.94-2.06-.94 2.06-2.06.94z\"/><path d=\"M17.41 7.96l-1.37-1.37c-.4-.4-.92-.59-1.43-.59-.52 0-1.04.2-1.43.59L10.3 9.45l-7.72 7.72c-.78.78-.78 2.05 0 2.83L4 21.41c.39.39.9.59 1.41.59.51 0 1.02-.2 1.41-.59l7.78-7.78 2.81-2.81c.8-.78.8-2.07 0-2.86zM5.41 20L4 18.59l7.72-7.72 1.47 1.35L5.41 20z\"/>\n",
              "  </svg>\n",
              "      </button>\n",
              "      \n",
              "  <style>\n",
              "    .colab-df-container {\n",
              "      display:flex;\n",
              "      flex-wrap:wrap;\n",
              "      gap: 12px;\n",
              "    }\n",
              "\n",
              "    .colab-df-convert {\n",
              "      background-color: #E8F0FE;\n",
              "      border: none;\n",
              "      border-radius: 50%;\n",
              "      cursor: pointer;\n",
              "      display: none;\n",
              "      fill: #1967D2;\n",
              "      height: 32px;\n",
              "      padding: 0 0 0 0;\n",
              "      width: 32px;\n",
              "    }\n",
              "\n",
              "    .colab-df-convert:hover {\n",
              "      background-color: #E2EBFA;\n",
              "      box-shadow: 0px 1px 2px rgba(60, 64, 67, 0.3), 0px 1px 3px 1px rgba(60, 64, 67, 0.15);\n",
              "      fill: #174EA6;\n",
              "    }\n",
              "\n",
              "    [theme=dark] .colab-df-convert {\n",
              "      background-color: #3B4455;\n",
              "      fill: #D2E3FC;\n",
              "    }\n",
              "\n",
              "    [theme=dark] .colab-df-convert:hover {\n",
              "      background-color: #434B5C;\n",
              "      box-shadow: 0px 1px 3px 1px rgba(0, 0, 0, 0.15);\n",
              "      filter: drop-shadow(0px 1px 2px rgba(0, 0, 0, 0.3));\n",
              "      fill: #FFFFFF;\n",
              "    }\n",
              "  </style>\n",
              "\n",
              "      <script>\n",
              "        const buttonEl =\n",
              "          document.querySelector('#df-cdedb31d-445f-4f8c-a7ab-fca17b736393 button.colab-df-convert');\n",
              "        buttonEl.style.display =\n",
              "          google.colab.kernel.accessAllowed ? 'block' : 'none';\n",
              "\n",
              "        async function convertToInteractive(key) {\n",
              "          const element = document.querySelector('#df-cdedb31d-445f-4f8c-a7ab-fca17b736393');\n",
              "          const dataTable =\n",
              "            await google.colab.kernel.invokeFunction('convertToInteractive',\n",
              "                                                     [key], {});\n",
              "          if (!dataTable) return;\n",
              "\n",
              "          const docLinkHtml = 'Like what you see? Visit the ' +\n",
              "            '<a target=\"_blank\" href=Link on Panelotebook</a>'\n",
              "            + ' to learn more about interactive tables.';\n",
              "          element.innerHTML = '';\n",
              "          dataTable['output_type'] = 'display_data';\n",
              "          await google.colab.output.renderOutput(dataTable, element);\n",
              "          const docLink = document.createElement('div');\n",
              "          docLink.innerHTML = docLinkHtml;\n",
              "          element.appendChild(docLink);\n",
              "        }\n",
              "      </script>\n",
              "    </div>\n",
              "  </div>\n",
              "  "
            ],
            "text/plain": [
              "         ph    Hardness  ...  Trihalomethanes  Turbidity\n",
              "0  7.036752  204.890455  ...        86.990970   2.963135\n",
              "1  3.716080  129.422921  ...        56.329076   4.500656\n",
              "2  8.099124  224.236259  ...        66.420093   3.055934\n",
              "3  8.316766  214.373394  ...       100.341674   4.628771\n",
              "4  9.092223  181.101509  ...        31.997993   4.075075\n",
              "\n",
              "[5 rows x 9 columns]"
            ]
          },
          "metadata": {},
          "execution_count": 13
        }
      ]
    },
    {
      "cell_type": "code",
      "metadata": {
        "colab": {
          "base_uri": "https://localhost:8080/",
          "height": 206
        },
        "id": "PqKj1bSLO44j",
        "outputId": "66d55bda-486d-4c39-9507-e47af743cc3f"
      },
      "source": [
        "# Normalise the column values.\n",
        "from sklearn.preprocessing import StandardScaler\n",
        "\n",
        "standard_scaler = StandardScaler()\n",
        "scaled_features = standard_scaler.fit_transform(features_df)\n",
        "X_scaled = pd.DataFrame(scaled_features)\n",
        "X_scaled.columns = features_df.columns\n",
        "X_scaled.head()"
      ],
      "execution_count": null,
      "outputs": [
        {
          "output_type": "execute_result",
          "data": {
            "text/html": [
              "\n",
              "  <div id=\"df-c2156ba8-d985-42f1-bc8c-7d23654f4979\">\n",
              "    <div class=\"colab-df-container\">\n",
              "      <div>\n",
              "<style scoped>\n",
              "    .dataframe tbody tr th:only-of-type {\n",
              "        vertical-align: middle;\n",
              "    }\n",
              "\n",
              "    .dataframe tbody tr th {\n",
              "        vertical-align: top;\n",
              "    }\n",
              "\n",
              "    .dataframe thead th {\n",
              "        text-align: right;\n",
              "    }\n",
              "</style>\n",
              "<table border=\"1\" class=\"dataframe\">\n",
              "  <thead>\n",
              "    <tr style=\"text-align: right;\">\n",
              "      <th></th>\n",
              "      <th>ph</th>\n",
              "      <th>Hardness</th>\n",
              "      <th>Solids</th>\n",
              "      <th>Chloramines</th>\n",
              "      <th>Sulfate</th>\n",
              "      <th>Conductivity</th>\n",
              "      <th>Organic_carbon</th>\n",
              "      <th>Trihalomethanes</th>\n",
              "      <th>Turbidity</th>\n",
              "    </tr>\n",
              "  </thead>\n",
              "  <tbody>\n",
              "    <tr>\n",
              "      <th>0</th>\n",
              "      <td>-0.025474</td>\n",
              "      <td>0.259195</td>\n",
              "      <td>-0.139471</td>\n",
              "      <td>0.112415</td>\n",
              "      <td>0.965957</td>\n",
              "      <td>1.708954</td>\n",
              "      <td>-1.180651</td>\n",
              "      <td>1.305434</td>\n",
              "      <td>-1.286298</td>\n",
              "    </tr>\n",
              "    <tr>\n",
              "      <th>1</th>\n",
              "      <td>-2.284717</td>\n",
              "      <td>-2.036414</td>\n",
              "      <td>-0.385987</td>\n",
              "      <td>-0.307694</td>\n",
              "      <td>-0.014799</td>\n",
              "      <td>2.062575</td>\n",
              "      <td>0.270597</td>\n",
              "      <td>-0.639186</td>\n",
              "      <td>0.684218</td>\n",
              "    </tr>\n",
              "    <tr>\n",
              "      <th>2</th>\n",
              "      <td>0.697319</td>\n",
              "      <td>0.847665</td>\n",
              "      <td>-0.240047</td>\n",
              "      <td>1.360594</td>\n",
              "      <td>-0.014799</td>\n",
              "      <td>-0.094032</td>\n",
              "      <td>0.781117</td>\n",
              "      <td>0.000800</td>\n",
              "      <td>-1.167365</td>\n",
              "    </tr>\n",
              "    <tr>\n",
              "      <th>3</th>\n",
              "      <td>0.845393</td>\n",
              "      <td>0.547651</td>\n",
              "      <td>0.000493</td>\n",
              "      <td>0.592008</td>\n",
              "      <td>0.644130</td>\n",
              "      <td>-0.778830</td>\n",
              "      <td>1.255134</td>\n",
              "      <td>2.152154</td>\n",
              "      <td>0.848412</td>\n",
              "    </tr>\n",
              "    <tr>\n",
              "      <th>4</th>\n",
              "      <td>1.372982</td>\n",
              "      <td>-0.464429</td>\n",
              "      <td>-0.460249</td>\n",
              "      <td>-0.363698</td>\n",
              "      <td>-0.649522</td>\n",
              "      <td>-0.343939</td>\n",
              "      <td>-0.824357</td>\n",
              "      <td>-2.182297</td>\n",
              "      <td>0.138786</td>\n",
              "    </tr>\n",
              "  </tbody>\n",
              "</table>\n",
              "</div>\n",
              "      <button class=\"colab-df-convert\" onclick=\"convertToInteractive('df-c2156ba8-d985-42f1-bc8c-7d23654f4979')\"\n",
              "              title=\"Convert this dataframe to an interactive table.\"\n",
              "              style=\"display:none;\">\n",
              "        \n",
              "  <svg xmlns=\"http://www.w3.org/2000/svg\" height=\"24px\"viewBox=\"0 0 24 24\"\n",
              "       width=\"24px\">\n",
              "    <path d=\"M0 0h24v24H0V0z\" fill=\"none\"/>\n",
              "    <path d=\"M18.56 5.44l.94 2.06.94-2.06 2.06-.94-2.06-.94-.94-2.06-.94 2.06-2.06.94zm-11 1L8.5 8.5l.94-2.06 2.06-.94-2.06-.94L8.5 2.5l-.94 2.06-2.06.94zm10 10l.94 2.06.94-2.06 2.06-.94-2.06-.94-.94-2.06-.94 2.06-2.06.94z\"/><path d=\"M17.41 7.96l-1.37-1.37c-.4-.4-.92-.59-1.43-.59-.52 0-1.04.2-1.43.59L10.3 9.45l-7.72 7.72c-.78.78-.78 2.05 0 2.83L4 21.41c.39.39.9.59 1.41.59.51 0 1.02-.2 1.41-.59l7.78-7.78 2.81-2.81c.8-.78.8-2.07 0-2.86zM5.41 20L4 18.59l7.72-7.72 1.47 1.35L5.41 20z\"/>\n",
              "  </svg>\n",
              "      </button>\n",
              "      \n",
              "  <style>\n",
              "    .colab-df-container {\n",
              "      display:flex;\n",
              "      flex-wrap:wrap;\n",
              "      gap: 12px;\n",
              "    }\n",
              "\n",
              "    .colab-df-convert {\n",
              "      background-color: #E8F0FE;\n",
              "      border: none;\n",
              "      border-radius: 50%;\n",
              "      cursor: pointer;\n",
              "      display: none;\n",
              "      fill: #1967D2;\n",
              "      height: 32px;\n",
              "      padding: 0 0 0 0;\n",
              "      width: 32px;\n",
              "    }\n",
              "\n",
              "    .colab-df-convert:hover {\n",
              "      background-color: #E2EBFA;\n",
              "      box-shadow: 0px 1px 2px rgba(60, 64, 67, 0.3), 0px 1px 3px 1px rgba(60, 64, 67, 0.15);\n",
              "      fill: #174EA6;\n",
              "    }\n",
              "\n",
              "    [theme=dark] .colab-df-convert {\n",
              "      background-color: #3B4455;\n",
              "      fill: #D2E3FC;\n",
              "    }\n",
              "\n",
              "    [theme=dark] .colab-df-convert:hover {\n",
              "      background-color: #434B5C;\n",
              "      box-shadow: 0px 1px 3px 1px rgba(0, 0, 0, 0.15);\n",
              "      filter: drop-shadow(0px 1px 2px rgba(0, 0, 0, 0.3));\n",
              "      fill: #FFFFFF;\n",
              "    }\n",
              "  </style>\n",
              "\n",
              "      <script>\n",
              "        const buttonEl =\n",
              "          document.querySelector('#df-c2156ba8-d985-42f1-bc8c-7d23654f4979 button.colab-df-convert');\n",
              "        buttonEl.style.display =\n",
              "          google.colab.kernel.accessAllowed ? 'block' : 'none';\n",
              "\n",
              "        async function convertToInteractive(key) {\n",
              "          const element = document.querySelector('#df-c2156ba8-d985-42f1-bc8c-7d23654f4979');\n",
              "          const dataTable =\n",
              "            await google.colab.kernel.invokeFunction('convertToInteractive',\n",
              "                                                     [key], {});\n",
              "          if (!dataTable) return;\n",
              "\n",
              "          const docLinkHtml = 'Like what you see? Visit the ' +\n",
              "            '<a target=\"_blank\" href=Link on Panelotebook</a>'\n",
              "            + ' to learn more about interactive tables.';\n",
              "          element.innerHTML = '';\n",
              "          dataTable['output_type'] = 'display_data';\n",
              "          await google.colab.output.renderOutput(dataTable, element);\n",
              "          const docLink = document.createElement('div');\n",
              "          docLink.innerHTML = docLinkHtml;\n",
              "          element.appendChild(docLink);\n",
              "        }\n",
              "      </script>\n",
              "    </div>\n",
              "  </div>\n",
              "  "
            ],
            "text/plain": [
              "         ph  Hardness    Solids  ...  Organic_carbon  Trihalomethanes  Turbidity\n",
              "0 -0.025474  0.259195 -0.139471  ...       -1.180651         1.305434  -1.286298\n",
              "1 -2.284717 -2.036414 -0.385987  ...        0.270597        -0.639186   0.684218\n",
              "2  0.697319  0.847665 -0.240047  ...        0.781117         0.000800  -1.167365\n",
              "3  0.845393  0.547651  0.000493  ...        1.255134         2.152154   0.848412\n",
              "4  1.372982 -0.464429 -0.460249  ...       -0.824357        -2.182297   0.138786\n",
              "\n",
              "[5 rows x 9 columns]"
            ]
          },
          "metadata": {},
          "execution_count": 14
        }
      ]
    },
    {
      "cell_type": "code",
      "source": [
        "# Perform train-test split\n",
        "from sklearn.model_selection import train_test_split\n",
        "\n",
        "X_train, X_test, y_train, y_test = train_test_split(X_scaled, target_df, test_size = 0.3,\n",
        "                                                    random_state = 42, stratify = target_df)\n",
        "\n",
        "# Print the shape of train and test sets.\n",
        "print(\"Shape of X_train:\", X_train.shape)\n",
        "print(\"Shape of X_test:\", X_test.shape)\n",
        "print(\"Shape of y_train:\", y_train.shape)\n",
        "print(\"Shape of y_test:\", y_test.shape)"
      ],
      "metadata": {
        "colab": {
          "base_uri": "https://localhost:8080/"
        },
        "id": "z0pLYSs_HMvG",
        "outputId": "a2b21f2d-d2af-4be0-e306-2a8caf4a41e1"
      },
      "execution_count": null,
      "outputs": [
        {
          "output_type": "stream",
          "name": "stdout",
          "text": [
            "Shape of X_train: (2293, 9)\n",
            "Shape of X_test: (983, 9)\n",
            "Shape of y_train: (2293,)\n",
            "Shape of y_test: (983,)\n"
          ]
        }
      ]
    },
    {
      "cell_type": "markdown",
      "metadata": {
        "id": "WUIsGsoTPXoM"
      },
      "source": [
        "Hence, our dataset is now ready for model building and prediction. Let us now perform kNN classification using `sklearn` module."
      ]
    },
    {
      "cell_type": "markdown",
      "metadata": {
        "id": "ixEfEMPnVmVd"
      },
      "source": [
        "---"
      ]
    },
    {
      "cell_type": "markdown",
      "metadata": {
        "id": "kRuBTtSxXalQ"
      },
      "source": [
        "#### Activity 1: Building kNN Classifier Model\n"
      ]
    },
    {
      "cell_type": "markdown",
      "metadata": {
        "id": "l5XKim9mY9dz"
      },
      "source": [
        "**Generating Model for $k=3$:**\n",
        "\n",
        "Let's build kNN classifier model for $k=3$ using the steps given below:\n",
        "1. Import the `KNeighborsClassifier` class from the `sklearn.neighbors` module.\n",
        "2. Create an object of this class using the following syntax:\n",
        "\n",
        "  `KNeighborsClassifier(n_neighbors, metric)`\n",
        "  \n",
        "  Where,\n",
        "  - `n_neighbors` is basically the value for the $k$. There is no ideal value for $k$ and it is selected after testing and evaluation, however to start out, we would select `3`  as the value of $k$.\n",
        "\n",
        "  - `metric` is the distance metric. By default, it is `euclidean`. You may also use `manhattan` distance.\n",
        "  \n",
        "\n",
        "3. Call the `fit()` function using the classifier object and pass the train set as inputs to this function.\n",
        "\n",
        "4. Call the `score()` function  using the classifier object  and pass the train set as inputs to determine the train set accuracy of the model.\n",
        "\n",
        "5. Also, determine the accuracy score of the test set using the `score()` function."
      ]
    },
    {
      "cell_type": "code",
      "metadata": {
        "colab": {
          "base_uri": "https://localhost:8080/"
        },
        "id": "eeo7GeCVbWnh",
        "outputId": "95f69915-823c-4cee-ef3f-46552be18100"
      },
      "source": [
        "# S1.1: Train kNN classifier model for 'k = 3'\n",
        "from sklearn.neighbors import KNeighborsClassifier\n",
        "knn3 = KNeighborsClassifier(n_neighbors = 3)\n",
        "knn3.fit(X_train, y_train)\n",
        "\n",
        "# Call the 'score()' function to check the accuracy score of the train set and test set.\n",
        "print(\"Train set accuracy:\", knn3.score(X_train, y_train))\n",
        "print(\"Test set accuracy:\", knn3.score(X_test, y_test))"
      ],
      "execution_count": null,
      "outputs": [
        {
          "output_type": "stream",
          "name": "stdout",
          "text": [
            "Train set accuracy: 0.8146532926297427\n",
            "Test set accuracy: 0.612410986775178\n"
          ]
        }
      ]
    },
    {
      "cell_type": "markdown",
      "metadata": {
        "id": "oWCSwnCySZzT"
      },
      "source": [
        "We can observe that the accuracy score for train set is very good. However, the test set accuracy is not that good. Let us try to improve the accuracy by creating a model for a different number of neighbours.\n",
        "\n",
        "**Re-generating Model for $k = 7$:**\n",
        "\n",
        "Let's build kNN classifier model for $k=7$."
      ]
    },
    {
      "cell_type": "code",
      "metadata": {
        "colab": {
          "base_uri": "https://localhost:8080/"
        },
        "id": "eG_xWwMnYdGK",
        "outputId": "8c35a154-0baa-468f-ec6f-87c11dc773d3"
      },
      "source": [
        "# S1.2: Train kNN classifier model for 'k = 7'\n",
        "knn7 = KNeighborsClassifier(n_neighbors = 7)\n",
        "knn7.fit(X_train, y_train)\n",
        "\n",
        "# Call the 'score()' function to check the accuracy score of the train set and test set.\n",
        "print(\"Train set accuracy:\", knn7.score(X_train, y_train))\n",
        "print(\"Test set accuracy:\", knn7.score(X_test, y_test))"
      ],
      "execution_count": null,
      "outputs": [
        {
          "output_type": "stream",
          "name": "stdout",
          "text": [
            "Train set accuracy: 0.7313563017880506\n",
            "Test set accuracy: 0.6185147507629705\n"
          ]
        }
      ]
    },
    {
      "cell_type": "markdown",
      "metadata": {
        "id": "Qy_K94m6lPwu"
      },
      "source": [
        "We can observe that the accuracy score for train set for $k = 7$ is less as compared to that of $k = 3$. However, there is slight improvement in the test set accuracy. Here, we have increased the number of neighbours in the model and test accuracy got increased. But, this is not necessary for each case that an increase in the number of neighbours increases the accuracy.\n",
        "\n",
        "Thus, the question arises that *how to choose the optimal number of neighbours*? Let us find out.\n"
      ]
    },
    {
      "cell_type": "markdown",
      "metadata": {
        "id": "JFLEwE6-oumY"
      },
      "source": [
        "---"
      ]
    },
    {
      "cell_type": "markdown",
      "metadata": {
        "id": "uYHSt9ACHB_n"
      },
      "source": [
        "#### Activity 2: Finding an Optimal $k$ Value\n",
        "\n",
        "We need to find a value of $k$ which can give a  good train and test set accuracy. For this, we can determine the accuracy scores for neighbours from `1` to `20` and plot these scores using the steps given below:\n",
        "\n",
        "1. Create two lists `accuracy_train` and `accuracy_test` to store the accuracy scores of train set and test set for various $k$ values.\n",
        "\n",
        "2. Initiate a `for` loop that ranges from `1` to `20` with current iterator stored in variable `k`. Inside this `for` loop:\n",
        "  - Create an object of `KNeighborsClassifier` class with `n_neighbors = k` as input.\n",
        "  - Call the `fit()` function using the object of  `KNeighborsClassifier` class and pass train set as inputs to this function.\n",
        "  - Determine the train set and test set accuracy scores for current `k` value and append these scores to the `accuracy_train` and `accuracy_test` lists respectively.\n",
        "\n",
        "3. Visualise the  values of `accuracy_train` and `accuracy_test` lists using line plots.\n",
        "\n",
        "\n"
      ]
    },
    {
      "cell_type": "code",
      "metadata": {
        "colab": {
          "base_uri": "https://localhost:8080/",
          "height": 513
        },
        "id": "m8JRBGpRS-48",
        "outputId": "119d2bbd-3c14-4a4d-9131-8441227ddbe4"
      },
      "source": [
        "# S2.1: Plot accuracy scores of train and test sets for 1 to 20 neighbours.\n",
        "\n",
        "# Create two lists store the accuracy scores of train and test set\n",
        "accuracy_train = []\n",
        "accuracy_test= []\n",
        "\n",
        "# Create a 'for' loop to get the accuracy scores of train and test set\n",
        "for k in range(1, 21):\n",
        "\n",
        "    # Perform KNeighborsClassifier with n_neighbors = k\n",
        "    knn = KNeighborsClassifier(n_neighbors = k)\n",
        "\n",
        "    # Fit the train data in the model\n",
        "    knn.fit(X_train, y_train)\n",
        "\n",
        "    # Append the score into different lists\n",
        "    accuracy_train.append(knn.score(X_train, y_train))\n",
        "    accuracy_test.append(knn.score(X_test, y_test))\n",
        "\n",
        "# Plot the accuracy scores of train and test sets\n",
        "plt.figure(figsize = (10, 8))\n",
        "plt.grid()\n",
        "plt.xticks(range(1, 21, 1))\n",
        "plt.plot(range(1, 21), accuracy_train, color= 'blue', label = \"Train set accuracy\")\n",
        "plt.plot(range(1, 21), accuracy_test, color= 'red', label = \"Test set accuracy\")\n",
        "plt.title('Accuracy Score vs. K Value')\n",
        "plt.legend()\n",
        "plt.xlabel('K')\n",
        "plt.ylabel('Accuracy')\n",
        "plt.show()"
      ],
      "execution_count": null,
      "outputs": [
        {
          "output_type": "display_data",
          "data": {
            "image/png": "[encoded data removed]",
            "text/plain": [
              "<Figure size 720x576 with 1 Axes>"
            ]
          },
          "metadata": {
            "needs_background": "light"
          }
        }
      ]
    },
    {
      "cell_type": "markdown",
      "metadata": {
        "id": "xCEe_50qYldC"
      },
      "source": [
        "You may observe that with an increase in the number of neighbours, train set accuracy decreases whereas test set accuracy increases. As test set accuracy is a better estimate than train set accuracy for unseen data, we can say that $15$ is an optimal value for $k$.\n",
        "\n",
        "Let us now deploy the kNN classifier model for $k = 15$ and evaluate the performance of this model."
      ]
    },
    {
      "cell_type": "code",
      "metadata": {
        "colab": {
          "base_uri": "https://localhost:8080/"
        },
        "id": "F9_J8U6-UOXk",
        "outputId": "bbb49433-1c42-4b33-a2bc-facec8660692"
      },
      "source": [
        "# S2.2: Train kNN classifier model for 'k = 15'\n",
        "knn15 = KNeighborsClassifier(n_neighbors = 15)\n",
        "knn15.fit(X_train, y_train)\n",
        "\n",
        "# Call the 'score()' function to check the accuracy score of the train set and test set.\n",
        "print(\"Train set accuracy:\", knn15.score(X_train, y_train))\n",
        "print(\"Test set accuracy:\", knn15.score(X_test, y_test))"
      ],
      "execution_count": null,
      "outputs": [
        {
          "output_type": "stream",
          "name": "stdout",
          "text": [
            "Train set accuracy: 0.6964675098124727\n",
            "Test set accuracy: 0.6510681586978637\n"
          ]
        }
      ]
    },
    {
      "cell_type": "markdown",
      "metadata": {
        "id": "Ka5NfZkZvFIA"
      },
      "source": [
        "Hence, we obtained decent accuracy scores for both train and test sets with $k = 15$. Let us also inspect the precision, recall and f1 scores for both the target labels."
      ]
    },
    {
      "cell_type": "code",
      "metadata": {
        "colab": {
          "base_uri": "https://localhost:8080/"
        },
        "id": "wwF3kG1-L12Y",
        "outputId": "4640f90b-482a-4b11-f902-9c88de972a18"
      },
      "source": [
        "# S2.3: Display the precision, recall and f1-score values.\n",
        "from sklearn.metrics import classification_report\n",
        "print(classification_report(y_test, knn15.predict(X_test)))"
      ],
      "execution_count": null,
      "outputs": [
        {
          "output_type": "stream",
          "name": "stdout",
          "text": [
            "              precision    recall  f1-score   support\n",
            "\n",
            "           0       0.66      0.89      0.76       600\n",
            "           1       0.62      0.28      0.38       383\n",
            "\n",
            "    accuracy                           0.65       983\n",
            "   macro avg       0.64      0.58      0.57       983\n",
            "weighted avg       0.64      0.65      0.61       983\n",
            "\n"
          ]
        }
      ]
    },
    {
      "cell_type": "markdown",
      "metadata": {
        "id": "MPXmO6i4uUix"
      },
      "source": [
        "You may observe that recall for class `0` is high but it is very poor for class `1`. Thus, f1 score is very poor for target label `1`. This means that the algorithm predicts class `0` very well but fails to capture class `1`. One of the reasons behind this may be an **imbalanced dataset**. Let us investigate this.\n",
        "\n",
        "\n"
      ]
    },
    {
      "cell_type": "markdown",
      "metadata": {
        "id": "WriY7XD6yjKY"
      },
      "source": [
        "---"
      ]
    },
    {
      "cell_type": "markdown",
      "metadata": {
        "id": "buOXobLJykOv"
      },
      "source": [
        "#### Activity 3: Resampling\n",
        "\n",
        "Let us first recall the concept of imbalanced dataset that we had studied in one of the previous classes (**Lesson: Hunting Exoplanets In Space - Oversampling & XGBoost Classifier**)\n",
        "\n",
        "**What is meant by Class Imbalance?**\n",
        "- Generally, in some classification problems, the data is highly imbalanced.\n",
        "- In highly imbalanced data, the number of data points for one class is very high compared to another class.\n",
        "- The class having the most number of data points is called the **majority class** whereas the class having the least number of data points is called the **minority class**.\n",
        "\n",
        "Let us first calculate the percentage of values in  class `0` and class `1` labels in the training dataset using `value_counts()` function.\n",
        "\n",
        "**Note:** Pass `normalize = True` as input to the `value_counts()` function to obtain relative frequencies of each target label."
      ]
    },
    {
      "cell_type": "code",
      "metadata": {
        "colab": {
          "base_uri": "https://localhost:8080/"
        },
        "id": "uUBYGAMY0ObI",
        "outputId": "0dda322f-82d1-4ef4-e7ad-e945a41dcc95"
      },
      "source": [
        "# S3.1: Determine the percentage of samples belonging to class '0' and class '1' in 'y_train'.\n",
        "y_train.value_counts(normalize = True) * 100"
      ],
      "execution_count": null,
      "outputs": [
        {
          "output_type": "execute_result",
          "data": {
            "text/plain": [
              "0    60.968164\n",
              "1    39.031836\n",
              "Name: Potability, dtype: float64"
            ]
          },
          "metadata": {},
          "execution_count": 21
        }
      ]
    },
    {
      "cell_type": "markdown",
      "metadata": {
        "id": "hFXT1dpR3B-f"
      },
      "source": [
        "Thus, we can say that approximately $60\\%$ of the train set samples are classified as class `0`, while nearly $40\\%$ values are classified as class `1`. This is a case of an imbalanced dataset, where class `0` is the majority class and class `1` is the minority class.\n",
        "\n",
        "In such cases, the prediction model will always be biased in favour of the majority class in making predictions as it will not have enough data to learn the patterns present in the minority class. Also, the accuracy scores obtained can be misleading.\n",
        "\n",
        "**Resampling** is a common practice to address the imbalanced dataset issue. Although\n",
        "there are many techniques within resampling, here we’ll be learning the three most\n",
        "popular techniques:\n",
        "1. Random Undersampling\n",
        "2. Random Oversampling\n",
        "3. Synthetic Minority Oversampling Technique (SMOTE)\n",
        "\n"
      ]
    },
    {
      "cell_type": "markdown",
      "metadata": {
        "id": "D9bOvx-WBjXL"
      },
      "source": [
        "---"
      ]
    },
    {
      "cell_type": "markdown",
      "metadata": {
        "id": "YP_kMcobBkar"
      },
      "source": [
        "#### Activity 4: Random Undersampling\n",
        "\n",
        "In **undersampling**, samples from the majority class are deleted. Thus, **random undersampling** randomly selects and removes the samples from the majority class to match minority class count. This is illustrated in the image below:\n",
        "\n",
        "<center>\n",
        "<img src=\"https://user-images.githubusercontent.com/67689674/140765839-d390b148-51f6-4f83-a7a4-8fd2db23594f.PNG\" height=\"300\"/>\n",
        "\n",
        "`Fig 4.1: Random undersampling`\n",
        "</center>\n",
        "\n",
        "We can observe that the <font color = \"blue\"><b>majority class samples</b></font> are reduced to match the count of <font color = \"red\"> <b>minority class samples</b></font>.\n",
        "\n",
        "Random undersampling can be easily implemented using **`RandomUnderSampler`** class of `imblearn.under_sampling` module in Python.\n",
        "\n",
        "Let us first count the number of occurrences of target labels `0` and `1` in train set using `value_counts()` function."
      ]
    },
    {
      "cell_type": "code",
      "metadata": {
        "colab": {
          "base_uri": "https://localhost:8080/"
        },
        "id": "9pXwkGBHKEPC",
        "outputId": "35dc712b-8c71-40d3-cc36-375080992a01"
      },
      "source": [
        "# S4.1: Count the number of class 0 and 1 samples in train set before undersampling.\n",
        "y_train.value_counts()"
      ],
      "execution_count": null,
      "outputs": [
        {
          "output_type": "execute_result",
          "data": {
            "text/plain": [
              "0    1398\n",
              "1     895\n",
              "Name: Potability, dtype: int64"
            ]
          },
          "metadata": {},
          "execution_count": 22
        }
      ]
    },
    {
      "cell_type": "markdown",
      "metadata": {
        "id": "WCKTjZOPK8iB"
      },
      "source": [
        "Hence, `1398` samples are belonging to class `0` and `895` samples belonging to class `1`.\n",
        "\n",
        "To perform random undersampling on train set, follow the steps given below:\n",
        "1. From the `imblearn.under_sampling` module,  import the `RandomUnderSampler` class.\n",
        "\n",
        "2. Create an object of `RandomUnderSampler` class by passing `random_state = 42` as input.\n",
        "\n",
        "3. Call the `fit_resample()` function using the object of `RandomUnderSampler` class and pass the train set `X_train` and `y_train` as inputs to this function."
      ]
    },
    {
      "cell_type": "code",
      "metadata": {
        "id": "HVu46_payVq_"
      },
      "source": [
        "# T4.1: Perform random undersampling on train set\n",
        "from imblearn.under_sampling import RandomUnderSampler\n",
        "\n",
        "rus = RandomUnderSampler(random_state = 42)\n",
        "X_rus_train, y_rus_train = rus.fit_resample(X_train, y_train) # fit predictor and target variable"
      ],
      "execution_count": null,
      "outputs": []
    },
    {
      "cell_type": "markdown",
      "metadata": {
        "id": "x43LD2LZLe7q"
      },
      "source": [
        "Let's check the type and shapes of the undersampled datasets."
      ]
    },
    {
      "cell_type": "code",
      "metadata": {
        "colab": {
          "base_uri": "https://localhost:8080/"
        },
        "id": "XVC9d8q4Nquw",
        "outputId": "8fda9b08-1fc5-4d26-a3c6-38b58a71a2ea"
      },
      "source": [
        "# S4.2: Check the type and shapes of the 'X_rus_train' and 'y_rus_train' datasets.\n",
        "print(type(X_rus_train), X_rus_train.shape)\n",
        "print(type(y_rus_train), y_rus_train.shape)"
      ],
      "execution_count": null,
      "outputs": [
        {
          "output_type": "stream",
          "name": "stdout",
          "text": [
            "<class 'pandas.core.frame.DataFrame'> (1790, 9)\n",
            "<class 'pandas.core.series.Series'> (1790,)\n"
          ]
        }
      ]
    },
    {
      "cell_type": "markdown",
      "metadata": {
        "id": "DnCBcdk_N4E5"
      },
      "source": [
        "We now have `1790` data points for the training dataset containing `895` class `0` values and `895` class `1` values.\n",
        "\n",
        "Let's verify it by using the `value_counts()` function."
      ]
    },
    {
      "cell_type": "code",
      "metadata": {
        "colab": {
          "base_uri": "https://localhost:8080/"
        },
        "id": "311b2OCQN3kw",
        "outputId": "1326e682-cda9-4bde-f653-412c035d8ae9"
      },
      "source": [
        "# S4.3: Find the number of occurrences of class '0' and class '1' values in 'y_rus_train'\n",
        "y_rus_train.value_counts()"
      ],
      "execution_count": null,
      "outputs": [
        {
          "output_type": "execute_result",
          "data": {
            "text/plain": [
              "1    895\n",
              "0    895\n",
              "Name: Potability, dtype: int64"
            ]
          },
          "metadata": {},
          "execution_count": 25
        }
      ]
    },
    {
      "cell_type": "markdown",
      "metadata": {
        "id": "x43rmTLhOxWQ"
      },
      "source": [
        "As you can see, both the classes, i.e., `0` and `1` appear the same number of times in the train set and the majority class samples are reduced to match the count of minority class.\n",
        "\n",
        "Now, let's train the kNN classifier model again for $k = 15$ using undersampled train set and evaluate the accuracy of the model for both target labels."
      ]
    },
    {
      "cell_type": "code",
      "metadata": {
        "colab": {
          "base_uri": "https://localhost:8080/"
        },
        "id": "UQ4q9BnOyslu",
        "outputId": "b306fac0-4b7f-4e60-9566-68d54da15f8b"
      },
      "source": [
        "# S4.4: Train kNN classifier model again for 'k = 15' with undersampled train set.\n",
        "from sklearn.neighbors import KNeighborsClassifier\n",
        "knn_rus= KNeighborsClassifier(n_neighbors = 15)\n",
        "knn_rus.fit(X_rus_train, y_rus_train)\n",
        "\n",
        "# Call the 'score()' function to check the accuracy score of the train and test set.\n",
        "print(\"Train set accuracy:\", knn_rus.score(X_rus_train, y_rus_train))\n",
        "print(\"Test set accuracy:\", knn_rus.score(X_test, y_test))"
      ],
      "execution_count": null,
      "outputs": [
        {
          "output_type": "stream",
          "name": "stdout",
          "text": [
            "Train set accuracy: 0.6849162011173184\n",
            "Test set accuracy: 0.624618514750763\n"
          ]
        }
      ]
    },
    {
      "cell_type": "markdown",
      "metadata": {
        "id": "TudaHsGIQJ-X"
      },
      "source": [
        "You may observe that the accuracy scores for train and test sets have declined after undersampling. But, let us first inspect the f1 scores for both the target labels before arriving at any conclusion."
      ]
    },
    {
      "cell_type": "code",
      "metadata": {
        "colab": {
          "base_uri": "https://localhost:8080/"
        },
        "id": "qOBx-AFryy9G",
        "outputId": "e21f91f9-63da-44ac-c396-940fbe4b249f"
      },
      "source": [
        "# S4.5: Display the precision, recall and f1-score values.\n",
        "print(classification_report(y_test, knn_rus.predict(X_test)))"
      ],
      "execution_count": null,
      "outputs": [
        {
          "output_type": "stream",
          "name": "stdout",
          "text": [
            "              precision    recall  f1-score   support\n",
            "\n",
            "           0       0.69      0.70      0.70       600\n",
            "           1       0.52      0.50      0.51       383\n",
            "\n",
            "    accuracy                           0.62       983\n",
            "   macro avg       0.60      0.60      0.60       983\n",
            "weighted avg       0.62      0.62      0.62       983\n",
            "\n"
          ]
        }
      ]
    },
    {
      "cell_type": "markdown",
      "metadata": {
        "id": "aXGKAZhPQ9Zh"
      },
      "source": [
        "We can see that the f1 score has improved from `0.38` to `0.51` for target label `1`. This is a more realistic accuracy score as compared to the one obtained with unbalanced dataset, as it is not biased towards a particular class label.\n",
        "\n",
        "Let us perform oversampling for train dataset and evaluate whether there is any improvement in the accuracy scores."
      ]
    },
    {
      "cell_type": "markdown",
      "metadata": {
        "id": "tUnYIXQxeJzc"
      },
      "source": [
        "---"
      ]
    },
    {
      "cell_type": "markdown",
      "metadata": {
        "id": "7mJQK-Bk15sm"
      },
      "source": [
        "#### Activity 5: Random Oversampling\n",
        "\n",
        "\n",
        "In **oversampling**, samples are added to the minority class. **Random oversampling** increases minority class by randomly picking samples within minority class till counts of both classes match. This is illustrated in the image below:\n",
        "\n",
        "\n",
        "<center>\n",
        "<img src=\"https://s3-whjr-v2-prod-bucket.whjr.online/whjr-v2-prod-bucket/07db2df8-bfae-4b3b-966c-b03241fc48fc.PNG\" height=\"300\"/>\n",
        "\n",
        "`Fig 5.1: Random Oversampling`\n",
        "</center>\n",
        "\n",
        "\n",
        "We can observe that some random samples from the <font color = \"red\"><b>minority class</b></font> are added to the minority class to match the count of <font color = \"blue\"> <b>majority class samples</b></font>.\n",
        "\n",
        "Random oversampling can be easily implemented using **`RandomOverSampler`** class of `imblearn.over_sampling` module in Python.\n",
        "\n",
        "To perform random oversampling on train set, follow the steps given below:\n",
        "1. From the `imblearn.over_sampling` module,  import the `RandomOverSampler` class.\n",
        "\n",
        "2. Create an object of `RandomOverSampler` class by passing `random_state = 42` as input.\n",
        "\n",
        "3. Call the `fit_resample()` function using the object of `RandomOverSampler` class and pass the train set `X_train` and `y_train` as inputs to this function.\n"
      ]
    },
    {
      "cell_type": "code",
      "metadata": {
        "id": "WatVWlI82GWN"
      },
      "source": [
        "# T5.1: Perform random undersampling on train set\n",
        "from imblearn.over_sampling import RandomOverSampler\n",
        "\n",
        "ros = RandomOverSampler(random_state = 42)\n",
        "X_ros_train, y_ros_train = ros.fit_resample(X_train, y_train) # fit predictor and target variable"
      ],
      "execution_count": null,
      "outputs": []
    },
    {
      "cell_type": "markdown",
      "metadata": {
        "id": "AZRUw9TYTlKb"
      },
      "source": [
        "Let's check the type and shapes of these oversampled datasets."
      ]
    },
    {
      "cell_type": "code",
      "metadata": {
        "colab": {
          "base_uri": "https://localhost:8080/"
        },
        "id": "ffc9ZUwuaNLE",
        "outputId": "e324eb2a-be7e-471c-fdb0-5eb180559b39"
      },
      "source": [
        "# S5.1: Check the type and shapes of the 'X_ros_train' and 'y_ros_train' datasets.\n",
        "print(type(X_ros_train), X_ros_train.shape)\n",
        "print(type(y_ros_train), y_ros_train.shape)"
      ],
      "execution_count": null,
      "outputs": [
        {
          "output_type": "stream",
          "name": "stdout",
          "text": [
            "<class 'pandas.core.frame.DataFrame'> (2796, 9)\n",
            "<class 'pandas.core.series.Series'> (2796,)\n"
          ]
        }
      ]
    },
    {
      "cell_type": "markdown",
      "metadata": {
        "id": "Ly9GGyWbT0Sf"
      },
      "source": [
        "We now have `2796` data points for the training dataset containing `1398` class `0` values and `1398` class `1` values.\n",
        "\n",
        "Let's verify it by using the `value_counts()` function."
      ]
    },
    {
      "cell_type": "code",
      "metadata": {
        "colab": {
          "base_uri": "https://localhost:8080/"
        },
        "id": "mVUPbA0E2kT8",
        "outputId": "eb54768f-49da-49c2-ef8f-1fb0be537d03"
      },
      "source": [
        "# S5.2: Find the number of occurrences of class '0' and class '1' values in the 'y_ros_train' NumPy array.\n",
        "y_ros_train.value_counts()"
      ],
      "execution_count": null,
      "outputs": [
        {
          "output_type": "execute_result",
          "data": {
            "text/plain": [
              "1    1398\n",
              "0    1398\n",
              "Name: Potability, dtype: int64"
            ]
          },
          "metadata": {},
          "execution_count": 30
        }
      ]
    },
    {
      "cell_type": "markdown",
      "metadata": {
        "id": "E64tQJs_UZlo"
      },
      "source": [
        "As you can see, both the classes, i.e., `0` and `1` appear the same number of times in the train set and the count of minority class is now equal to the majority class.\n",
        "\n",
        "Now, let's train the kNN classifier model again for $k = 15$ using oversampled train set and evaluate the accuracy of the model for both target labels."
      ]
    },
    {
      "cell_type": "code",
      "metadata": {
        "colab": {
          "base_uri": "https://localhost:8080/"
        },
        "id": "OqcISgnY26hV",
        "outputId": "8c697625-1ea0-464d-9024-db3da0ccc037"
      },
      "source": [
        "# S5.3: Train kNN classifier model for 'k = 15'\n",
        "from sklearn.neighbors import KNeighborsClassifier\n",
        "knn_ros = KNeighborsClassifier(n_neighbors = 15)\n",
        "knn_ros.fit(X_ros_train, y_ros_train)\n",
        "\n",
        "# Call the 'score()' function to check the accuracy score of the train and test set.\n",
        "print(\"Train set accuracy:\", knn_ros.score(X_ros_train, y_ros_train))\n",
        "print(\"Test set accuracy:\", knn_ros.score(X_test, y_test))"
      ],
      "execution_count": null,
      "outputs": [
        {
          "output_type": "stream",
          "name": "stdout",
          "text": [
            "Train set accuracy: 0.7174535050071531\n",
            "Test set accuracy: 0.5839267548321465\n"
          ]
        }
      ]
    },
    {
      "cell_type": "markdown",
      "metadata": {
        "id": "hIIUWLixUi3t"
      },
      "source": [
        "You may observe that the accuracy score for test set is not that good after oversampling.\n",
        "\n",
        "Also, inspect the precision, recall and f1 scores for both the target labels."
      ]
    },
    {
      "cell_type": "code",
      "metadata": {
        "colab": {
          "base_uri": "https://localhost:8080/"
        },
        "id": "r5-Lq4nr3Tdc",
        "outputId": "3e33a61f-776a-4285-8df1-08a46e7f1dd9"
      },
      "source": [
        "# S5.4: Display the precision, recall and f1-score values.\n",
        "print(classification_report(y_test, knn_ros.predict(X_test)))"
      ],
      "execution_count": null,
      "outputs": [
        {
          "output_type": "stream",
          "name": "stdout",
          "text": [
            "              precision    recall  f1-score   support\n",
            "\n",
            "           0       0.66      0.66      0.66       600\n",
            "           1       0.47      0.47      0.47       383\n",
            "\n",
            "    accuracy                           0.58       983\n",
            "   macro avg       0.56      0.56      0.56       983\n",
            "weighted avg       0.58      0.58      0.58       983\n",
            "\n"
          ]
        }
      ]
    },
    {
      "cell_type": "markdown",
      "metadata": {
        "id": "Q-aMV4rnVM2F"
      },
      "source": [
        "We can see that the f1 score has improved from `0.38` (unbalanced) to `0.47` for target label `1`. However, it is less than the f1 score of undersampled train set (`0.51`).\n",
        "\n",
        "Let us use another oversampling technique for train dataset and evaluate whether there is any improvement in accuracy scores."
      ]
    },
    {
      "cell_type": "markdown",
      "metadata": {
        "id": "0KQx5SowbFE2"
      },
      "source": [
        "---"
      ]
    },
    {
      "cell_type": "markdown",
      "metadata": {
        "id": "xaYINTUNa12u"
      },
      "source": [
        "#### Activity 6: Resampling Using SMOTE\n",
        "\n",
        "In one of the previous classes (**Lesson: Hunting Exoplanets In Space - Oversampling & XGBoost Classifier**), we employed an oversampling technique called SMOTE. Let us recall this technique.\n",
        "\n",
        "**Recalling SMOTE:**\n",
        "- The term SMOTE stands for **Synthetic Minority Oversampling Technique**.\n",
        "- This technique synthesizes the artificial data points for the minority class data to balance a highly imbalanced dataset.\n",
        "\n",
        "SMOTE works by utilising kNN algorithm to create synthetic data. Here we are not covering detailed working of SMOTE but let us try to understand how SMOTE works in general:\n",
        "\n",
        "1. A random data point or an instance from the minority class is first chosen.\n",
        "2. Then the nearest neighbours for that instance are found (usually 5 neighbours).\n",
        "3. One of the neighbours of that instance is randomly chosen and an artificial data point is generated between that neighbour and the instance.\n",
        "4. This process keeps on repeating to create the required number of synthetic data points for the minority class.\n",
        "\n",
        "<center>\n",
        "<img src=\"https://curriculum.whitehatjr.com/APT+Asset/APT+C20/APT_C20_slide_7.png\"/>\n",
        "\n",
        "`Fig 6.1: SMOTE resampling`\n",
        "</center>\n",
        "\n",
        "To apply the `SMOTE` method, follow the steps given below:\n",
        "1. From the `imblearn.over_sampling` module,  import the `SMOTE` class.\n",
        "\n",
        "2. Create an object of `SMOTE` class by passing `random_state = 42` as input.\n",
        "\n",
        "3. Call the `fit_resample()` function using the object of `SMOTE` class and pass the train set `X_train` and `y_train` as inputs to this function.\n"
      ]
    },
    {
      "cell_type": "code",
      "metadata": {
        "id": "QIGJCMmR3mE8"
      },
      "source": [
        "# S6.1: Apply the 'SMOTE()' function to balance the training data.\n",
        "\n",
        "# Import the 'SMOTE' class from the 'imblearn.over_sampling' module.\n",
        "from imblearn.over_sampling import SMOTE\n",
        "\n",
        "# Initialise the 'SMOTE()' constructor.\n",
        "smote = SMOTE(random_state = 42)\n",
        "\n",
        "# Call the 'fit_resample()' function with 'X_train' and 'y_train' as inputs.\n",
        "X_sm_train, y_sm_train = smote.fit_resample(X_train, y_train)"
      ],
      "execution_count": null,
      "outputs": []
    },
    {
      "cell_type": "markdown",
      "metadata": {
        "id": "EGLDMMjSgoLW"
      },
      "source": [
        "Now, count the number of data points belonging to class `0` and class `1` using the `value_counts()` function and verify whether the count of both target labels are equal or not."
      ]
    },
    {
      "cell_type": "code",
      "metadata": {
        "colab": {
          "base_uri": "https://localhost:8080/"
        },
        "id": "tj2A6kv33ue7",
        "outputId": "9e8800ce-a76d-4316-9200-a1dea7b4bcab"
      },
      "source": [
        "# S6.2: Find the number of occurrences of class '0' and class '1' values in 'y_sm_train'\n",
        "y_sm_train.value_counts()"
      ],
      "execution_count": null,
      "outputs": [
        {
          "output_type": "execute_result",
          "data": {
            "text/plain": [
              "1    1398\n",
              "0    1398\n",
              "Name: Potability, dtype: int64"
            ]
          },
          "metadata": {},
          "execution_count": 34
        }
      ]
    },
    {
      "cell_type": "markdown",
      "metadata": {
        "id": "0opTIz6vhBV1"
      },
      "source": [
        "Now that we have equal number of samples in both the classes, let's train the kNN classifier model again for $k = 15$ using oversampled train set and evaluate the accuracy of the model for both target labels.\n",
        "\n"
      ]
    },
    {
      "cell_type": "code",
      "metadata": {
        "colab": {
          "base_uri": "https://localhost:8080/"
        },
        "id": "Lme4gsp83y_9",
        "outputId": "bdf31f3c-3258-4381-fa4f-a5c63fbeb028"
      },
      "source": [
        "# S6.3: Train kNN classifier model for 'k = 15'\n",
        "# Build the model.\n",
        "knn_sm = KNeighborsClassifier(n_neighbors = 15)\n",
        "\n",
        "# Call the 'fit()' function.\n",
        "knn_sm.fit(X_sm_train, y_sm_train)\n",
        "\n",
        "# Call the 'score()' function to check the accuracy score of the train and test set.\n",
        "print(\"Train set accuracy:\", knn_sm.score(X_ros_train, y_ros_train))\n",
        "print(\"Test set accuracy:\", knn_sm.score(X_test, y_test))"
      ],
      "execution_count": null,
      "outputs": [
        {
          "output_type": "stream",
          "name": "stdout",
          "text": [
            "Train set accuracy: 0.6938483547925608\n",
            "Test set accuracy: 0.5859613428280773\n"
          ]
        }
      ]
    },
    {
      "cell_type": "markdown",
      "metadata": {
        "id": "0wX-Y5nJhh-8"
      },
      "source": [
        "You may observe that the accuracy score for test set is not that good after oversampling dataset using SMOTE.\n",
        "\n",
        "Let us inspect the precision, recall and f1 scores for both the target labels."
      ]
    },
    {
      "cell_type": "code",
      "metadata": {
        "colab": {
          "base_uri": "https://localhost:8080/"
        },
        "id": "fz8atTQH4oBT",
        "outputId": "ab0eb618-86d9-45c2-ce95-df05145b2965"
      },
      "source": [
        "# S6.4: Display the precision, recall and f1-score values.\n",
        "print(classification_report(y_test, knn_sm.predict(X_test)))"
      ],
      "execution_count": null,
      "outputs": [
        {
          "output_type": "stream",
          "name": "stdout",
          "text": [
            "              precision    recall  f1-score   support\n",
            "\n",
            "           0       0.68      0.61      0.64       600\n",
            "           1       0.47      0.54      0.50       383\n",
            "\n",
            "    accuracy                           0.59       983\n",
            "   macro avg       0.57      0.58      0.57       983\n",
            "weighted avg       0.60      0.59      0.59       983\n",
            "\n"
          ]
        }
      ]
    },
    {
      "cell_type": "markdown",
      "metadata": {
        "id": "hmzH7puYh9RN"
      },
      "source": [
        "We can see that the f1 score has improved from `0.38` (unbalanced dataset) to `0.50` for target label `1`. However, it is less than that of undersampled train set and more than that of randomly oversampled train set.\n",
        "\n",
        "**Which resampling technique is the best❓**\n",
        "\n",
        "There is no one answer to this question! We can build classification models on the resampled datasets and compare the accuracy scores.\n",
        "\n",
        "By looking at various evaluation metrics obtained for each of the resampled datasets, we can say that **random undersampling** is performing better for both target labels for $k = 15$ nearest neighbour model.\n",
        "\n",
        "**Note:** You may obtain different accuracy scores for other $k$ values and thus, you can choose a resampling technique which provides the best result.\n",
        "\n",
        "We will stop here. In the next class, we will understand how kNN can be used to solve a regression problem statement.\n"
      ]
    },
    {
      "cell_type": "markdown",
      "metadata": {
        "id": "cue4gY3Wquiq"
      },
      "source": [
        "---"
      ]
    },
    {
      "cell_type": "markdown",
      "metadata": {
        "id": "ZQ_O0tC5AFVs"
      },
      "source": [
        "#### Activities\n",
        "\n",
        "\n",
        "**Teacher Activities:**\n",
        "\n",
        "1. kNN Classification II - Resampling (Class Copy)\n",
        "\n",
        "   Link on Panel\n",
        "   \n",
        "2. kNN Classification II - Resampling (Reference)\n",
        "\n",
        "    https://colab.research.google.com/drive/1qkbk8F1THU-UQ1zvcC9vL-fnlkjmlOeq"
      ]
    },
    {
      "cell_type": "markdown",
      "metadata": {
        "id": "yWSZZyk8AGRb"
      },
      "source": [
        "---"
      ]
    }
  ]
}