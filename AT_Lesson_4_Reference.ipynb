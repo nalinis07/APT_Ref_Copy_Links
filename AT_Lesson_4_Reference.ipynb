{
  "nbformat": 4,
  "nbformat_minor": 0,
  "metadata": {
    "colab": {
      "provenance": [],
      "include_colab_link": true
    },
    "kernelspec": {
      "name": "python3",
      "display_name": "Python 3"
    }
  },
  "cells": [
    {
      "cell_type": "markdown",
      "metadata": {
        "id": "view-in-github",
        "colab_type": "text"
      },
      "source": [
        "<a href=\"https://colab.research.google.com/github/nalinis07/APT_Ref_Copy_Links/blob/MASTER/AT_Lesson_4_Reference.ipynb\" target=\"_parent\"><img src=\"https://colab.research.google.com/assets/colab-badge.svg\" alt=\"Open In Colab\"/></a>"
      ]
    },
    {
      "cell_type": "markdown",
      "metadata": {
        "id": "1Yq2bflbjz18"
      },
      "source": [
        "# Lesson 4: The `gameplay()` Function\n",
        "\n",
        "\n"
      ]
    },
    {
      "cell_type": "markdown",
      "metadata": {
        "id": "t-HRvtWNlvRS"
      },
      "source": [
        "**WARNING:** The reference notebook is meant **ONLY** for a teacher. Please **DON'T** share it with any student.\n",
        "\n",
        "The contents of the reference notebook are meant only to prepare a teacher for a class. To conduct the class, use the class copy of the reference notebook. The link and the instructions for the same are provided in the **Notes To The Teacher** section.\n",
        "\n",
        "|Particulars|Description|\n",
        "|-|-|\n",
        "|**Topic**|The `gameplay()` Function|\n",
        "|||\n",
        "|**Class Description**|A student will get a full understanding of the `gameplay()` function for the Mind Reader game created in the previous classes.|\n",
        "|||\n",
        "|**Class**|C4|\n",
        "|||\n",
        "|**Class Time**|45 minutes|\n",
        "|||\n",
        "|**Goals**|Create a basic Python list.|\n",
        "||Search an item in a list using the keywords `in` and `not in`.|\n",
        "||Create an infinite and a nested `while` loop.|\n",
        "|||\n",
        "|**Teacher Resources**|Google Account|\n",
        "||Link to Lesson 4 Colab reference notebook|\n",
        "||Laptop with internet connectivity|\n",
        "||Earphones with mic|\n",
        "|||\n",
        "|**Student Resources**|Google Account|\n",
        "||Laptop with internet connectivity|\n",
        "||Earphones with mic|"
      ]
    },
    {
      "cell_type": "markdown",
      "metadata": {
        "id": "D-cxvhZGlgV3"
      },
      "source": [
        "---"
      ]
    },
    {
      "cell_type": "markdown",
      "metadata": {
        "id": "hFNaFZtDnMZU"
      },
      "source": [
        "### Class Structure\n",
        "\n",
        "A class is divided into three parts, as shown in the table below.\n",
        "\n",
        "|Parts|Duration|\n",
        "|-|-|\n",
        "|**Warm-Up**|5 minutes|\n",
        "|||\n",
        "|**Teacher-Student Activities**|35 minutes|\n",
        "|||\n",
        "|**Wrap-Up**|5 minutes|"
      ]
    },
    {
      "cell_type": "markdown",
      "metadata": {
        "id": "rBzMS3WRnOCs"
      },
      "source": [
        "---"
      ]
    },
    {
      "cell_type": "markdown",
      "metadata": {
        "id": "7t2A_740ncNq"
      },
      "source": [
        "### Notes To The Teacher\n",
        "\n",
        "Before beginning the class:\n",
        "\n",
        "1. Open the **ATV - Lesson 4 - Class Copy - v0.3** file by clicking on the link provided in the **Activities** section under the title **The `gameplay()` Function (Class Copy)**.  \n",
        "<font color=\"red\">Refer both Reference and Class Copy before conducting the class.</font>\n",
        "2. After opening the file mentioned in the first point, create its duplicate copy by following the steps described below:\n",
        "\n",
        "    - Click on the **File** menu. A new drop-down list will appear.\n",
        "\n",
        "      <img src='https://student-datasets-bucket.s3.ap-south-1.amazonaws.com/images/lesson-0/0_file_menu.png' width=500>\n",
        "\n",
        "    - Click on the **Save a copy in Drive** option. A duplicate copy will get created. It will open up in the new tab on your web browser.\n",
        "\n",
        "      <img src='https://student-datasets-bucket.s3.ap-south-1.amazonaws.com/images/lesson-0/1_create_colab_duplicate_copy.png' width=500>\n",
        "\n",
        "    - In the duplicate copy, click on the **Share** button on the top right corner of the notebook. A new dialog box will appear.\n",
        "\n",
        "      <img src='https://student-datasets-bucket.s3.ap-south-1.amazonaws.com/images/lesson-0/2_share_button.png' width=500>\n",
        "\n",
        "    - Click on the tiny downward arrow next to **Anyone with the link can view** text. A drop-down list will appear.\n",
        "\n",
        "      <img src='https://student-datasets-bucket.s3.ap-south-1.amazonaws.com/images/lesson-0/3_anyone_can_view.png' width=500>\n",
        "\n",
        "    - Click on the **More...** option. A new page on the dialog box will appear.\n",
        "\n",
        "      <img src='https://student-datasets-bucket.s3.ap-south-1.amazonaws.com/images/lesson-0/4_more_option.png' width=500>\n",
        "\n",
        "    - Click on the circle next to **On - Anyone with the link** option. Now, go down and click on the tiny downward box next to **Can edit** text. A drop-down list will appear.\n",
        "\n",
        "      <img src='https://student-datasets-bucket.s3.ap-south-1.amazonaws.com/images/lesson-0/5_anyone_with_the_link.png' width=500>\n",
        "\n",
        "    - Click on the **Can edit** option. Then click on the **Save** button. You will be directed back to the first page of the dialog box.\n",
        "\n",
        "      <img src='https://student-datasets-bucket.s3.ap-south-1.amazonaws.com/images/lesson-0/6_can_edit.png' width=500>\n",
        "\n",
        "    - Make sure that under the **Link sharing on** section, **Anyone with the link can edit** option is selected.\n",
        "\n",
        "      <img src='https://student-datasets-bucket.s3.ap-south-1.amazonaws.com/images/lesson-0/7_anyone_can_edit.png' width=500>\n",
        "\n",
        "    - Then click on the **Done** button.\n",
        "\n",
        "3. After creating the duplicate copy of the notebook, please rename it in the **YYYY-MM-DD_StudentName_Lesson4** format.\n",
        "\n",
        "4. Now, finish the **Warm-Up** section. Afterwards, proceed with the class using the duplicate copy of the notebook. You can share the link of the duplicate copy (named as **YYYY-MM-DD_StudentName_Lesson4**) with the student through the chat window.\n",
        "\n",
        "5. When a student executes the code for the first time in the duplicate copy that you shared with them, they may get the following warning:\n",
        "\n",
        "   ```\n",
        "    Warning: This notebook was not authored by Google. This notebook was\n",
        "    authored by xyz@gmail.com. It may request access to your data stored\n",
        "    with Google such as files, emails and contacts. Please review the source\n",
        "    code and contact the creator of this notebook at xyz@gmail.com with any\n",
        "    additional questions.\n",
        "\n",
        "                                                      Cancel. Run Anyway.\n",
        "  ```\n",
        "\n",
        "6. Ask the student to click on the `Run Anyway` button.\n",
        "\n",
        "7. Wherever you see the hat (**^**) sign on the heading of activity, give a hats-off to the student at the end of the activity.\n",
        "\n",
        "    - Single hat sign, i.e., **^** denotes give hats-off for concentration. You have to assess the concentration level of a student based on their attentiveness and understanding of the concept.\n",
        "\n",
        "    - Double hat signs, i.e., **^^** denotes give hats-off for creativity. It can be an alternative approach to writing a code for an activity or applying the logic in a totally different problem statement.\n",
        "\n",
        "    - Triple hat signs, i.e., **^^^** denotes give hats-off for persistence. It is the ability of a student to not give up on writing code and writing code with minimal teacher support.\n",
        "\n",
        "8. Every time you execute your code in the Google Colab notebook, please don't forget to save it by pressing the **Ctrl + S** keys (or **Command + S** keys if you are using a Mac). While saving the notebook, you or student may encounter the following error:\n",
        "\n",
        "   ```\n",
        "    Save failed\n",
        "    \n",
        "    The notebook has been changed outside of this session. Would you like to\n",
        "    overwrite existing changes?\n",
        "    \n",
        "                                                              CANCEL    YES\n",
        "   ```\n",
        "\n",
        "   Click on the `YES` button.\n",
        "\n",
        "9. Occasionally, you may encounter some error such as `NameError, ReferenceError, ImportError` or `ModuleNotFoundError` after executing the code in $k^{th}$ code cell (where $k > 0$). Most likely, due to poor internet speed, the Colab notebook might have lost the information that all the previous codes have been executed already. As a remedy, run codes in the code cells beginning from the first code cell till the $(k - 1)^{th}$ code cell. For e.g., if the code in the $5^{th}$ code cell fails to run because of one of the aforementioned errors, execute the codes in all the first four code cells again.\n",
        "\n",
        "10. For every **Teacher Action**, the teacher is supposed to share their screen with the student. Similarly, for every **Student Action**, the student is supposed to share their screen with the teacher.\n"
      ]
    },
    {
      "cell_type": "markdown",
      "metadata": {
        "id": "tIA_YjdWnWly"
      },
      "source": [
        "---"
      ]
    },
    {
      "cell_type": "markdown",
      "metadata": {
        "id": "Yt6PvnlDnXwY"
      },
      "source": [
        "### Warm-Up\n",
        "\n",
        "```\n",
        "TEACHER\n",
        "  Hi student_name! How are you doing?\n",
        "\n",
        "EXPECTED STUDENT RESPONSE\n",
        "  I am doing good, teacher. How about you?\n",
        "\n",
        "\n",
        "TEACHER\n",
        "  I am having a good time, thank you. So, how was your day? What did you do\n",
        "  today?\n",
        "\n",
        "EXPECTED STUDENT RESPONSE\n",
        "  I went to school. Had my lunch. Played a game and then did my homework\n",
        "  before this class.\n",
        "\n",
        "\n",
        "TEACHER\n",
        "  That's great. I am glad that you are having a good day. Now, let's do a\n",
        "  quick recap of our previous class. Can you recall the concepts you\n",
        "  learnt in the previous lesson?\n",
        "\n",
        "EXPECTED STUDENT RESPONSE\n",
        "  We learnt how to create user-defined functions, how to use a while loop to\n",
        "  continuously increase the value stored in a variable. We also created the\n",
        "  better version of the Mind Reader game algorithm using the user-defined\n",
        "  functions. We created a function to predict a value, update the counts of\n",
        "  the user inputs and updates the scores for both the computer and a player.\n",
        "\n",
        "\n",
        "TEACHER\n",
        "  Excellent! You recalled everything that you learnt in the last class.\n",
        "  Great job! Keep it up.\n",
        "  I have an exciting quiz question for you! Are you ready to answer this question?    \n",
        "  ```   \n",
        "  **Instructions for the Teacher:**\n",
        "  -  Please click on the \"Quiz Time\" button on the bottom right corner of your screen to start the In-Class Quiz.<img src='https://student-datasets-bucket.s3.ap-south-1.amazonaws.com/images/quiz-time.png' width=100>   \n",
        "  - A quiz will be visible to both you and the student. Encourage the student to answer the quiz question.\n",
        "  - The student may choose the wrong option, help the student to think correctly about the question and then answer again.\n",
        "  - After the student selects the correct option, the \"End Quiz\" button will start appearing on your screen.  <img src='https://student-datasets-bucket.s3.ap-south-1.amazonaws.com/images/end-quiz.png' width=100>  \n",
        "  - Click the \"End quiz\" to close the quiz pop-up and continue the class.\n",
        "  - Do not spend more than 2 minutes on this quiz.\n",
        "\n",
        "```\n",
        "TEACHER  \n",
        "  Today, we will develop a deeper understanding of the gameplay() function\n",
        "   for the Mind Reader game created in the previous classes.\n",
        "\n",
        "   Before that, I want to ask few general questions.\n",
        "\n",
        "   Have you ever played the game of Ludo.(Refer the visuals added in Class copy).\n",
        "```\n",
        "**Instructions for the Teacher:**\n",
        "1. The Class copy contains the questions which the teacher is supposed to ask the student before starting the actual activities. This must be done to improve student's engagement in the class.\n",
        "2. Encourage the student to answer every question.\n",
        "3. Once the student answers a question, click on the icon <img src=\"https://curriculum.whitehatjr.com/APT+Asset/Final+C2+images/download.jpg\"/> next to the question (Do not ask the student to click on this icon). This icon will redirect to some image or gif which will provide answer to that question along with some explanation.\n",
        "4. Some questions are very general and you will not find green icon <img src=\"https://curriculum.whitehatjr.com/APT+Asset/Final+C2+images/download.jpg\"/> next to that question. This is because there is no specific answer or explanation for that question.\n",
        "\n",
        "\n",
        "\n",
        "```\n",
        "EXPECTED STUDENT RESPONSE\n",
        "  Yes, teacher.\n",
        "\n",
        "TEACHER\n",
        "  Can you tell me the rule to bring your first pawn onto the board?\n",
        "\n",
        "EXPECTED STUDENT RESPONSE\n",
        "  We have to get 6 on the dice to start with our first pawn\n",
        "\n",
        "TEACHER\n",
        "  Good. So what are the tasks that keeps on repeating or looping in\n",
        "  this game?\n",
        "\n",
        "STUDENT\n",
        "  Student answers. (once the student answers, click on green icon)\n",
        "\n",
        "TEACHER\n",
        "   There are two main task which keeps looping unless the game ends.\n",
        "\n",
        "   Task 1: Both players keep rolling their dice and moving their pawn\n",
        "   one after another.\n",
        "   Task 2: Both players will keep rolling their dice unless they get\n",
        "    6 on their dice to bring their pawn onto the board\n",
        "   \n",
        "    Thus, we need a loop within another loop(nested loop).\n",
        "\n",
        "    One outer loop which will run infinitely or unless there is a\n",
        "    winner. (for performing Task 1)\n",
        "    One inner loop which will run unless one get 6 on the dice.\n",
        "    (for performing Task 2)\n",
        "     \n",
        "    Similarly, our Mind Reader game algorithm also uses infinite\n",
        "    loop and nested loop.    \n",
        "    Today, we will study this concept in detail.We will also\n",
        "    introduce Python lists.\n",
        "\n",
        "  Are you excited?\n",
        "\n",
        "EXPECTED STUDENT RESPONSE\n",
        "  Yes, teacher.\n",
        "\n",
        "\n",
        "TEACHER\n",
        "  All right. I am going to share the Colab Notebook with you.\n",
        "\n",
        "  Note:\n",
        "    - Share the duplicate copy that you just created with the student\n",
        "      through the chat window.\n",
        "    \n",
        "EXPECTED STUDENT RESPONSE\n",
        "  The student opens the Colab notebook.\n",
        "```"
      ]
    },
    {
      "cell_type": "markdown",
      "metadata": {
        "id": "MCY3Soc2ndyT"
      },
      "source": [
        "---"
      ]
    },
    {
      "cell_type": "markdown",
      "metadata": {
        "id": "7LlG_PPFjJUz"
      },
      "source": [
        "### Teacher-Student Activities\n",
        "\n",
        "In the previous lesson, we created a slightly better version of the Mind Reader game algorithm by keeping the counts of the player inputs. Based on the player input, the computer predicted `0` or `1`, i.e., `'Heads'` or `'Tails'`. We also learnt how to create a user-defined function in Python and how to use them. However, we didn't quite fully cover the `gameplay()` function.\n",
        "\n",
        "In this lesson, we will learn the following:\n",
        "\n",
        "1. The working of the `gameplay()` function.\n",
        "\n",
        "2. Python list to unravel the mystery behind the `valid_entries = ['0', '1']` statement.\n",
        "\n",
        "3. The working of the `while player_input not in valid_entries` statement.\n",
        "\n",
        "4. The use of the `break` keyword.\n",
        "\n",
        "<center>\n",
        "<img src=\"https://curriculum.whitehatjr.com/APT+Asset/APT+C4+images/concepts.png\"/>\n",
        "\n",
        "\n",
        "Let's get started."
      ]
    },
    {
      "cell_type": "markdown",
      "metadata": {
        "id": "A9DUkIzL8p6S"
      },
      "source": [
        "---"
      ]
    },
    {
      "cell_type": "markdown",
      "metadata": {
        "id": "jF60fIhH8q66"
      },
      "source": [
        "#### Activity 1: Python Lists\n",
        "\n",
        "Before starting Python lists, let us understand the concept of Data Structure.\n",
        "\n",
        "**Data Structure:**\n",
        "- We know that variables can store only 1 value at a time.\n",
        "- Data structures are used to store **multiple** values inside a single variable in an organised way such that the values can be easily accessed and modified.\n",
        "\n",
        "<img src=\"https://curriculum.whitehatjr.com/APT+Asset/APT+C4+images/disorganised-organised-wardrobe-01.jpg\"/>\n",
        "\n",
        "\n",
        "\n",
        "\n",
        "**What is a Python List?**\n",
        "\n",
        "A Python list is a **data structure** which can contain more than one value at-a-time.\n",
        "\n",
        "For e.g: The `gameplay()` function, begins with a Python list which is `valid_entries = ['0', '1']`. The list contains two string values. They are `'0'` and `'1'`.\n",
        "\n",
        "\n",
        "\n",
        "A value in a list is generally referred to as an **item** or an **element**.\n",
        "<center>\n",
        "<img src=\"https://curriculum.whitehatjr.com/APT+Asset/APT+C3+images/valid_entries2.PNG\"/>\n",
        "</center>\n",
        "\n",
        "Let's suppose that you want to store the names of the countries who won the FIFA world cup from `1982` till `2018`.\n",
        "\n",
        "|Year|Winner|\n",
        "|-|-|\n",
        "|1982|Italy|\n",
        "|1986|Argentina|\n",
        "|1990|Germany|\n",
        "|1994|Brazil|\n",
        "|1998|France|\n",
        "|2002|Brazil|\n",
        "|2006|Italy|\n",
        "|2010|Spain|\n",
        "|2014|Germany|\n",
        "|2018|France|\n",
        "\n",
        "In this, you would require a variable for every winner. But using a Python list, you can store all the winners within a single variable.\n",
        "\n",
        "A Python list is created using the square brackets `[]`. Each item in a Python list is separated by a comma.\n",
        "\n"
      ]
    },
    {
      "cell_type": "code",
      "metadata": {
        "id": "kRE_dZzB-Fy_",
        "colab": {
          "base_uri": "https://localhost:8080/",
          "height": 194
        },
        "outputId": "5c2fc864-7ada-4623-f9de-6afb956af120"
      },
      "source": [
        "# Teacher Action: Create a Python list containing all the winners of the FIFA world cup from 1982 to 2018. Store it in the 'fifa_wc_winners' variable.\n",
        "fifa_wc_winners = ['Italy', 'Argentina', 'Germany', 'Brazil', 'France', 'Brazil', 'Italy', 'Spain', 'Germany', 'France']\n",
        "fifa_wc_winners"
      ],
      "execution_count": null,
      "outputs": [
        {
          "output_type": "execute_result",
          "data": {
            "text/plain": [
              "['Italy',\n",
              " 'Argentina',\n",
              " 'Germany',\n",
              " 'Brazil',\n",
              " 'France',\n",
              " 'Brazil',\n",
              " 'Italy',\n",
              " 'Spain',\n",
              " 'Germany',\n",
              " 'France']"
            ]
          },
          "metadata": {
            "tags": []
          },
          "execution_count": 1
        }
      ]
    },
    {
      "cell_type": "markdown",
      "metadata": {
        "id": "9Ep2IuAAB6K6"
      },
      "source": [
        "As you can see, we have created a Python list using the square brackets. Each item in the list is separated by a comma.\n",
        "\n",
        "<img src=\"https://curriculum.whitehatjr.com/APT+Asset/APT+C4+images/list.png\"/>\n",
        "\n",
        "You can verify whether a value stored in a variable is a list or not using the `type()` function.\n",
        "\n",
        "**Note:** The `type()` function is one of the default functions in python and need not be created."
      ]
    },
    {
      "cell_type": "code",
      "metadata": {
        "id": "WIptCLgQCWkq",
        "colab": {
          "base_uri": "https://localhost:8080/",
          "height": 34
        },
        "outputId": "e30d1521-6d2f-40c4-eb59-f905bedf0a65"
      },
      "source": [
        "# Student Action: Verify whether the 'fifa_wc_winners' is a list or not using the 'type()' function.\n",
        "type(fifa_wc_winners)"
      ],
      "execution_count": null,
      "outputs": [
        {
          "output_type": "execute_result",
          "data": {
            "text/plain": [
              "list"
            ]
          },
          "metadata": {
            "tags": []
          },
          "execution_count": 2
        }
      ]
    },
    {
      "cell_type": "markdown",
      "metadata": {
        "id": "z6bJb6BZCi2D"
      },
      "source": [
        "As you can see, the `type()` function has returned `list` as an output which confirms the value stored in the `fifa_wc_winners` variable is indeed a list."
      ]
    },
    {
      "cell_type": "markdown",
      "metadata": {
        "id": "DM52LM5m_paC"
      },
      "source": [
        "---"
      ]
    },
    {
      "cell_type": "markdown",
      "metadata": {
        "id": "xxtMQ0maBN8v"
      },
      "source": [
        "#### Activity 2: The `in` And `not in` Keywords\n",
        "\n",
        "\n",
        "\n",
        "Now, let's learn the `in` and `not in` keywords. The `not in` keyword is used in the `while player_input not in valid_entries` statement.\n",
        "\n",
        "These keywords are used to check whether an item exists in a Python list or not.\n",
        "\n",
        "\n",
        "\n",
        "<b><u>The `in` Keyword:</u></b>\n",
        "\n",
        "If an item exists in a list, then `in` returns `True` otherwise it returns `False`.\n",
        "\n",
        "For example: Suppose you want to check whether the item `'Spain'` exists in the `fifa_wc_winners` list or not.\n",
        "\n",
        "<img src=\"https://curriculum.whitehatjr.com/APT+Asset/APT+C4+images/list.png\"/>\n",
        "\n",
        "You can do this using `in` keyword.\n",
        "\n",
        "If `'Spain'` exists in the list, `in` will return `True` else it will return `False`."
      ]
    },
    {
      "cell_type": "code",
      "metadata": {
        "id": "JHnfoXJ_D0GW",
        "colab": {
          "base_uri": "https://localhost:8080/",
          "height": 34
        },
        "outputId": "2b2ae8de-9280-48bc-eab8-0b79f92d00bd"
      },
      "source": [
        "# Student Action: Check whether 'Spain' exists in the 'fifa_wc_winners' list or not.\n",
        "'Spain' in fifa_wc_winners"
      ],
      "execution_count": null,
      "outputs": [
        {
          "output_type": "execute_result",
          "data": {
            "text/plain": [
              "True"
            ]
          },
          "metadata": {
            "tags": []
          },
          "execution_count": 3
        }
      ]
    },
    {
      "cell_type": "markdown",
      "metadata": {
        "id": "Mpu9o8_fEAch"
      },
      "source": [
        "<b><u>The `not in` Keyword:</u></b>\n",
        "\n",
        "The `not in` keyword is the exact opposite of the `in` keyword. If an item exists in a list, then `not in` returns `False` otherwise it returns `True`.\n",
        "\n",
        "Using the `not in` keyword, check whether `'Spain'` exists in the `fifa_wc_winners` list or not."
      ]
    },
    {
      "cell_type": "code",
      "metadata": {
        "id": "7IyMql4zJZrU",
        "colab": {
          "base_uri": "https://localhost:8080/",
          "height": 34
        },
        "outputId": "2cae626a-6ed3-4ba2-b7c6-1238f27ba139"
      },
      "source": [
        "# Student Action: Check whether 'Spain' exists in the 'fifa_wc_winners' list or not.\n",
        "'Spain' not in fifa_wc_winners"
      ],
      "execution_count": null,
      "outputs": [
        {
          "output_type": "execute_result",
          "data": {
            "text/plain": [
              "False"
            ]
          },
          "metadata": {
            "tags": []
          },
          "execution_count": 4
        }
      ]
    },
    {
      "cell_type": "markdown",
      "metadata": {
        "id": "iw19ZgsJJgoO"
      },
      "source": [
        "The `not in` keyword returned `False` which means `Spain` exists in the `fifa_wc_winners` list.\n",
        "\n",
        "Now, create the `valid_entries` variable storing the list `['0', '1']`. Also, ask a player of the Mind Reader game to enter either `0` or `1` and store the input in the `player_input` variable. Then check whether the value stored in the `player_input` variable exists in the `valid_entries` list or not."
      ]
    },
    {
      "cell_type": "code",
      "metadata": {
        "id": "wehMgS2-K1Ne",
        "colab": {
          "base_uri": "https://localhost:8080/",
          "height": 52
        },
        "outputId": "d6478372-f4b4-499a-9e7f-03d90d2dfce4"
      },
      "source": [
        "# Student Action: Take input from a player and store it in the 'player_input' variable.\n",
        "# Check whether the value stored in the 'player_input' variable exists in the ['0', '1'] list or not using the 'not in' keyword.\n",
        "valid_entries = ['0', '1']\n",
        "player_input = input(\"Enter either 0 or 1: \")\n",
        "player_input not in valid_entries"
      ],
      "execution_count": null,
      "outputs": [
        {
          "output_type": "stream",
          "text": [
            "Enter either 0 or 1: 0\n"
          ],
          "name": "stdout"
        },
        {
          "output_type": "execute_result",
          "data": {
            "text/plain": [
              "False"
            ]
          },
          "metadata": {
            "tags": []
          },
          "execution_count": 5
        }
      ]
    },
    {
      "cell_type": "markdown",
      "metadata": {
        "id": "ApiREfhaLggO"
      },
      "source": [
        "The `not in` keyword returned `False` which confirms that the value stored in the `player_input` variable does exist in the `valid_entries` list."
      ]
    },
    {
      "cell_type": "markdown",
      "metadata": {
        "id": "Yif48zt746J9"
      },
      "source": [
        "---"
      ]
    },
    {
      "cell_type": "markdown",
      "metadata": {
        "id": "E0R38jdqOh4L"
      },
      "source": [
        "#### Activity 3: Infinite `while` Loops^^\n",
        "\n",
        "\n",
        "<img src=\"https://curriculum.whitehatjr.com/APT+Asset/Final+C2+images/question.jpg\"/><b><font color=red> What will you do when your phone gets hanged up?</font></b>\n",
        "\n",
        "<img src=\"https://curriculum.whitehatjr.com/APT+Asset/APT+C4+images/angry+person+due+to+phone-01.jpg\"  height=500/>\n",
        "\n",
        "Your phone gets into an infinite loop due to any of the reasons such as hardware or software defects, multitasking, insufficient RAM etc.\n",
        "\n",
        "Similarly, an infinite `while` loop is a never-ending `while` loop.\n",
        "\n",
        "It does not have any stopping condition. In other words, **the condition specified in an infinite `while` loop is always true.** To stop an infinite `while` loop, you have to manually stop it by interrupting the code execution.\n",
        "\n",
        "For example, the `while True` is a never-ending loop. Because the condition `True` is always true.\n",
        "\n",
        "e.g:\n",
        "```python\n",
        "while True:\n",
        "  //statements\n",
        "```\n",
        "\n",
        "Consider a variable `counter` whose initial value is `0`. Say, if you try to increase the value stored in the `counter` variable using the `while` loop, then the value stored in the `counter` variable will continuously keep increasing unless you stop the loop by pressing the **Stop** button on the left-hand side of the code cell.\n",
        "\n",
        "**Note:** After interrupting the code execution, Python will throw `KeyboardInterrupt` error. Ignore it! It's nothing to worry about."
      ]
    },
    {
      "cell_type": "code",
      "metadata": {
        "id": "g3PiGOTuP5Yb"
      },
      "source": [
        "# Teacher Action: Demonstrate how an infinite 'loop' runs endlessly until the coder interrupts the code execution.\n",
        "counter = 0\n",
        "while True:\n",
        "  counter = counter + 1"
      ],
      "execution_count": null,
      "outputs": []
    },
    {
      "cell_type": "markdown",
      "metadata": {
        "id": "c_oKwSI8QT4i"
      },
      "source": [
        "As you can see, we had to interrupt the code execution to stop the infinite `while` loop. Let's print the value stored in the `counter` variable. It should contain a very high integer value."
      ]
    },
    {
      "cell_type": "code",
      "metadata": {
        "id": "v4oypjLaQgG2"
      },
      "source": [
        "# Teacher Action: Print the value stored in the 'counter' variable.\n",
        "counter"
      ],
      "execution_count": null,
      "outputs": []
    },
    {
      "cell_type": "markdown",
      "metadata": {
        "id": "M5DEJ9fwQmUo"
      },
      "source": [
        "The value stored in the `counter` variable is a very high integer value because the loop kept increasing the value stored in the `counter` variable more than a million times in just a few seconds. That's the power of an `infinite` while loop. Hence, it must be handled with extreme care otherwise your laptop/desktop will crash if an infinite `while` loop runs for more than a few seconds.\n",
        "\n",
        "Now, you create a `factor` variable and another infinite `while` loop by specifying a condition which is always true. The infinite `while` loop should continuously multiply the value with `2` stored in the `factor` variable.\n",
        "\n",
        "Immediately after executing the code, interrupt the execution by clicking on the **Stop** button on the left-hand side of the code cell. Otherwise, your laptop might crash.\n",
        "\n",
        "**Note:** After interrupting the code execution, Python will throw `KeyboardInterrupt` error. Ignore it! It's nothing to worry about."
      ]
    },
    {
      "cell_type": "code",
      "metadata": {
        "id": "M5TzBOCuR20x"
      },
      "source": [
        "# Student Action: Create an infinite 'while' loop.\n",
        "factor = 1\n",
        "while factor > 0: # 'factor' value is always greater than zero. Hence, it is an infinite while loop because the condition is always true.\n",
        "  factor = factor * 2"
      ],
      "execution_count": null,
      "outputs": []
    },
    {
      "cell_type": "markdown",
      "metadata": {
        "id": "arFngYdNS0Fk"
      },
      "source": [
        "The `factor > 0` condition is always true. Hence, there is no stopping condition. So, the `while` loop above will run indefinitely.\n",
        "\n",
        "Now, print the value stored in the `factor` variable."
      ]
    },
    {
      "cell_type": "code",
      "metadata": {
        "id": "5suk_Y16S3uk"
      },
      "source": [
        "# Student Action: Print the value stored in the 'factor' variable.\n",
        "factor"
      ],
      "execution_count": null,
      "outputs": []
    },
    {
      "cell_type": "markdown",
      "metadata": {
        "id": "4-zaMd2NS6tI"
      },
      "source": [
        "As you can see, the value stored in the `factor` variable is greater than trillions. That's the power of an infinite `while` loop."
      ]
    },
    {
      "cell_type": "markdown",
      "metadata": {
        "id": "b9NMfS-pOg__"
      },
      "source": [
        "---"
      ]
    },
    {
      "cell_type": "markdown",
      "metadata": {
        "id": "qf_vqTXRVTqH"
      },
      "source": [
        "#### Activity 4: The `break` Keyword^\n",
        "\n",
        "There's another way to stop a loop whether it is an infinite loop or a finite loop. A finite loop executes for a fixed number of times. To stop a loop, use the `break` keyword.\n",
        "\n",
        "<img src=\"https://curriculum.whitehatjr.com/APT+Asset/APT+C4+images/true+statement+inside+loop-01+(1).jpg\" height=500/>\n",
        "\n",
        "\n",
        "We have used break statement in the `gameplay()` function to break the infinite `while` loop either when the player_score value reaches 10 or the computer_score value reaches 10.\n",
        "\n",
        "```\n",
        "def gameplay():\n",
        "  valid_entries = ['0', '1']\n",
        "  while True:\n",
        "    predicted = prediction()\n",
        "    player_input = input(\"Enter either 0 or 1: \")\n",
        "    while player_input not in valid_entries:\n",
        "      print(\"Invalid Input!\")\n",
        "      player_input = input(\"Please enter either 0 or 1: \")\n",
        "  \n",
        "    player_input = int(player_input)\n",
        "    update_counts(player_input)\n",
        "    update_scores(predicted, player_input)\n",
        "\n",
        "    if player_score == 10:\n",
        "      print(\"Congrats, You Won!\")\n",
        "      break\n",
        "    elif computer_score == 10:\n",
        "      print(\"Bad Luck, You Lost!\")\n",
        "      break\n",
        "```\n",
        "\n",
        "Let's stop the infinite `while` loop in the previous code when the `counter` value reaches `1000` using the `break` keyword."
      ]
    },
    {
      "cell_type": "code",
      "metadata": {
        "id": "wgwBShK0hUu4"
      },
      "source": [
        "# Teacher Action: Stop the 'while' loop when the 'counter' value reaches 1000, using the 'break' keyword.\n",
        "counter = 0\n",
        "while True:\n",
        "  counter = counter + 1\n",
        "  if counter == 1000:\n",
        "    break\n",
        "\n",
        "counter"
      ],
      "execution_count": null,
      "outputs": []
    },
    {
      "cell_type": "markdown",
      "metadata": {
        "id": "Ix-ZtufVhx6F"
      },
      "source": [
        "As you can see, the `break` keyword stopped the `while` loop when the `counter` value reached `1000`.\n",
        "\n",
        "Similarly, in your previous infinite `while` loop, you stop the loop when the `factor` value reaches $2^{32} = 4294967296$."
      ]
    },
    {
      "cell_type": "code",
      "metadata": {
        "id": "GQkPhQVmjBBi"
      },
      "source": [
        "# Student Action: Stop the 'while' loop when the 'factor' value reaches 4294967296, using the 'break' keyword.\n",
        "factor = 1\n",
        "while factor > 0:\n",
        "  factor = factor * 2\n",
        "  if factor == 2 ** 32:\n",
        "    break\n",
        "\n",
        "factor"
      ],
      "execution_count": null,
      "outputs": []
    },
    {
      "cell_type": "markdown",
      "metadata": {
        "id": "U515DnZDjsv7"
      },
      "source": [
        "So, the `break` keyword stopped the `while` loop when the `factor` value reached $2^{32}$."
      ]
    },
    {
      "cell_type": "markdown",
      "metadata": {
        "id": "v7aD2l3SVS9M"
      },
      "source": [
        "---"
      ]
    },
    {
      "cell_type": "markdown",
      "metadata": {
        "id": "GDhV-c911Omg"
      },
      "source": [
        "#### Activity 5: The Nested `while` Loops^^^\n",
        "\n",
        "The term nested means *something inside something like a gift box inside another gift box.* Refer to the image shown below.\n",
        "\n",
        "<img src='https://student-datasets-bucket.s3.ap-south-1.amazonaws.com/images/nested-boxes.jpg' width=400>\n",
        "\n",
        "Hence, a nested `while` loop means a `while` loop inside another `while` loop.\n",
        "\n",
        "<img src=\"https://curriculum.whitehatjr.com/APT+Asset/APT+C4+images/condition+1+and+2+false-01+(1).jpg\"/></td>\n",
        "\n",
        "\n",
        "\n",
        "The `gameplay()` function works entirely based on a nested `while` loop.\n",
        "\n",
        "```python\n",
        "while True:\n",
        "    predicted = prediction()\n",
        "    player_input = input(\"Enter either 0 or 1: \")\n",
        "    while player_input not in valid_entries:\n",
        "      print(\"Invalid Input!\")\n",
        "      player_input = input(\"Please enter either 0 or 1: \")\n",
        "```\n",
        "\n",
        "- The outer `while` loop condition is always true. So, it is an infinite `while` loop. It stops because of the `break` keyword when the `computer_score` and `player_score` values are being compared.\n",
        "- Inside the `while` loop, there is a statement:\n",
        "     \n",
        "     `player_input = input(\"Enter either 0 or 1: \")`\n",
        "  \n",
        "  followed by another `while` loop (nested loop) which stops when the `player_input` value exists in the `valid_entries` list.\n",
        "\n",
        "- Otherwise, the inner `while` loop continuously asks the player to enter either `0` or `1`.\n",
        "\n",
        "Let us first understand how nested loop works:\n",
        "\n",
        "---\n",
        "\n",
        "Consider a small multiplication table of `2` and `3`.\n",
        "\n",
        "|2|3|\n",
        "|-|-|\n",
        "|2 x 1 = 2|3 x 1 = 3|\n",
        "|2 x 2 = 4|3 x 2 = 6|\n",
        "|2 x 3 = 6|3 x 3 = 9|\n",
        "\n",
        "To print this table, we will use two variables:\n",
        "1. `first_num` for the first number.\n",
        "2. `sec_num` for the second number.\n",
        "\n",
        "\n",
        "\n",
        "<img src=\"https://curriculum.whitehatjr.com/APT+Asset/APT+C4+images/table.PNG\"/>\n",
        "\n",
        "From the above table, we can observe that:\n",
        "\n",
        "- `first_num` will range from `2` to `3`.\n",
        "- `sec_num` will range from `1` to `3` for each `first_num`.\n",
        "\n",
        "So, the `sec_num` will loop using *inner loop* and `first_num` will loop using *outer loop*.\n",
        "\n",
        "\n",
        "\n",
        "<img src=\"https://curriculum.whitehatjr.com/APT+Asset/APT+C4+images/table2.PNG\"/>\n",
        "\n",
        "In nested loops, the inner loop runs many times inside the outer loop. The inner loop must finish all its iterations before the outer loop can continue its next iteration.\n",
        "\n",
        "<img src=\"https://curriculum.whitehatjr.com/APT+Asset/APT+C4+images/apt-c4-ball-rotating-gif.gif\" height=400/>\n",
        "\n",
        "Our nested loop will loop like this:\n",
        "\n",
        "\n",
        "<img src=\"https://curriculum.whitehatjr.com/APT+Asset/APT+C4+images/loop2.png\"  />\n",
        "<img src=\"https://curriculum.whitehatjr.com/APT+Asset/APT+C4+images/new_grid_3.png\" />\n",
        "\n",
        "You may observe `print()` function below `sec_num=sec_num+1` statement. It added to print a new line between multiplication tables of two numbers.\n",
        "\n",
        "\n",
        "\n",
        "Similarly, you can print the complete multiplication table of `2`, `3` and `4` using nested `while` loop.\n",
        "\n",
        "\n",
        "|2|3|4|\n",
        "|-|-|-|\n",
        "|2 x 1 = 2|3 x 1 = 3|4 x 1 = 4|\n",
        "|2 x 2 = 4|3 x 2 = 6|4 x 2 = 8|\n",
        "|2 x 3 = 6|3 x 3 = 9|4 x 3 = 12|\n",
        "|2 x 4 = 8|3 x 4 = 12|4 x 4 = 16|\n",
        "|2 x 5 = 10|3 x 5 = 15|4 x 5 = 20|\n",
        "|2 x 6 = 12|3 x 6 = 18|4 x 6 = 24|\n",
        "|2 x 7 = 14|3 x 7 = 21|4 x 7 = 28|\n",
        "|2 x 8 = 16|3 x 8 = 24|4 x 8 = 32|\n",
        "|2 x 9 = 18|3 x 9 = 27|4 x 9 = 36|\n",
        "|2 x 10 = 20|3 x 10 = 30|4 x 10 = 40|\n",
        "\n"
      ]
    },
    {
      "cell_type": "code",
      "metadata": {
        "id": "HMdfqHhbYHTO",
        "colab": {
          "base_uri": "https://localhost:8080/"
        },
        "outputId": "a0b6749e-dcb5-4673-cc82-5b532802fe92"
      },
      "source": [
        "# Student Action: Use a nested 'while' loop and generate a mutiplication table for 2, 3 and 4.\n",
        "first_num = 2\n",
        "while first_num < 5:\n",
        "  print(\"Table of:\", first_num)\n",
        "  sec_num = 1\n",
        "  while sec_num < 11:\n",
        "    multiple = first_num * sec_num\n",
        "    print(first_num, \"x\", sec_num, \"=\", multiple)\n",
        "    sec_num = sec_num + 1\n",
        "  print() # This 'print()' function without any input will print a new line between multiplication tables of two numbers.\n",
        "  first_num = first_num + 1"
      ],
      "execution_count": null,
      "outputs": [
        {
          "output_type": "stream",
          "text": [
            "Table of: 2\n",
            "2 x 1 = 2\n",
            "2 x 2 = 4\n",
            "2 x 3 = 6\n",
            "2 x 4 = 8\n",
            "2 x 5 = 10\n",
            "2 x 6 = 12\n",
            "2 x 7 = 14\n",
            "2 x 8 = 16\n",
            "2 x 9 = 18\n",
            "2 x 10 = 20\n",
            "\n",
            "Table of: 3\n",
            "3 x 1 = 3\n",
            "3 x 2 = 6\n",
            "3 x 3 = 9\n",
            "3 x 4 = 12\n",
            "3 x 5 = 15\n",
            "3 x 6 = 18\n",
            "3 x 7 = 21\n",
            "3 x 8 = 24\n",
            "3 x 9 = 27\n",
            "3 x 10 = 30\n",
            "\n",
            "Table of: 4\n",
            "4 x 1 = 4\n",
            "4 x 2 = 8\n",
            "4 x 3 = 12\n",
            "4 x 4 = 16\n",
            "4 x 5 = 20\n",
            "4 x 6 = 24\n",
            "4 x 7 = 28\n",
            "4 x 8 = 32\n",
            "4 x 9 = 36\n",
            "4 x 10 = 40\n",
            "\n"
          ],
          "name": "stdout"
        }
      ]
    },
    {
      "cell_type": "markdown",
      "metadata": {
        "id": "LKKZN2LDuU-d"
      },
      "source": [
        "In the above code,\n",
        "\n",
        "1. The outer `while` loop runs thrice because the values of the `first_num` variable go from `2` to `4` as a result of the condition `while first_num < 5`.\n",
        "\n",
        "2. For every value of the `first_num` variable, the inner `while` loop runs `10` times because the values of the `sec_num` variable go from `1` to `10` as a result of the condition `while sec_num < 11`.\n",
        "\n",
        "3. Every value of the `sec_num` variable gets multiplied with the value of the `first_num` variable and gets stored in the `multiply` variable because of the `multiply = first_num * sec_num` statement.\n",
        "\n",
        "4. The `print()` function inside the inner `while` loop, prints the values of the `multiple` variable one-by-one.\n",
        "\n",
        "5. The `sec_num = sec_num + 1` statement increases the value of the `sec_num` variable by `1` unit. The inner `while` loop reaches its stopping condition because of this statement.\n",
        "\n",
        "6. The `first_num = first_num + 1` statement increases the value of the `first_num` variable by `1` unit. The outer `while` loop reaches its stopping condition because of this statement.\n",
        "\n",
        "So, we have covered all the ingredients and recipe for the `gameplay()` function. Hopefully, you understood how this function works.\n",
        "\n",
        "This is it for now. In the next class, we will learn more about Python lists. We will also create a better version of the Mind Reader game algorithm (that we created in the last class) using the Python list concepts.\n",
        "\n"
      ]
    },
    {
      "cell_type": "markdown",
      "metadata": {
        "id": "OKJ5eeh8keWY"
      },
      "source": [
        "---"
      ]
    },
    {
      "cell_type": "markdown",
      "metadata": {
        "id": "EsBCGOLQ_zKn"
      },
      "source": [
        "## Additional Activities\n",
        "\n",
        "The activities starting from this point are optional. Please do these activities **ONLY** if you have time to spare in the class. Otherwise, skip to the **Wrap-Up** section. The additional activities will not be available in the class copy of the notebook. You will have to manually add these activities in the class copy by adding new text and code cells.\n",
        "\n",
        "Moreover, you don't have to do all the additional activities. Depending on the availability of time in a class, you can choose the number of additional activities to perform from this collection."
      ]
    },
    {
      "cell_type": "markdown",
      "metadata": {
        "id": "CHjUbKcC_b2A"
      },
      "source": [
        "---"
      ]
    },
    {
      "cell_type": "markdown",
      "metadata": {
        "id": "QJXhgh2C_b0C"
      },
      "source": [
        "#### Activity 1: Triangle I\n",
        "\n",
        "Write a code to get the following output using a while loop.\n",
        "\n",
        "```\n",
        "1\n",
        "11\n",
        "111\n",
        "1111\n",
        "11111\n",
        "```"
      ]
    },
    {
      "cell_type": "code",
      "metadata": {
        "id": "hjighqMp_IE5"
      },
      "source": [
        "# Solution:\n",
        "num1 = 1\n",
        "num2 = 0\n",
        "while num2 < 5:\n",
        "  print(num1)\n",
        "  num1 = num1 * 10 + 1\n",
        "  num2 = num2 + 1"
      ],
      "execution_count": null,
      "outputs": []
    },
    {
      "cell_type": "markdown",
      "metadata": {
        "id": "nsQYuuGF_G3W"
      },
      "source": [
        "---"
      ]
    },
    {
      "cell_type": "markdown",
      "metadata": {
        "id": "6T49aYcGCN1S"
      },
      "source": [
        "#### Activity 2: Triangle II\n",
        "\n",
        "Write a code to get the following output using a while loop.\n",
        "\n",
        "```\n",
        "1\n",
        "101\n",
        "10101\n",
        "1010101\n",
        "101010101\n",
        "```"
      ]
    },
    {
      "cell_type": "code",
      "metadata": {
        "id": "eU8qxudo_7iQ"
      },
      "source": [
        "# Solution\n",
        "num1 = 1\n",
        "num2 = 0\n",
        "while num2 < 5:\n",
        "  print(num1)\n",
        "  num1 = num1 * 100 + 1\n",
        "  num2 = num2 + 1"
      ],
      "execution_count": null,
      "outputs": []
    },
    {
      "cell_type": "markdown",
      "metadata": {
        "id": "v9hnEL0sCU25"
      },
      "source": [
        "---"
      ]
    },
    {
      "cell_type": "markdown",
      "metadata": {
        "id": "3245o66ZF-8r"
      },
      "source": [
        "#### Activity 3: Powers of 11\n",
        "\n",
        "Print the first five powers of 11 without using the `**` operator. Here's the expected output.\n",
        "\n",
        "```\n",
        "11\n",
        "121\n",
        "1331\n",
        "14641\n",
        "161051\n",
        "```\n",
        "\n"
      ]
    },
    {
      "cell_type": "code",
      "metadata": {
        "id": "XW8KqcYlCX3z"
      },
      "source": [
        "# Solution\n",
        "num1 = 11\n",
        "num2 = 0\n",
        "while num2 < 5:\n",
        "  print(num1)\n",
        "  num1 = num1 * 10 + num1\n",
        "  num2 = num2 + 1"
      ],
      "execution_count": null,
      "outputs": []
    },
    {
      "cell_type": "markdown",
      "metadata": {
        "id": "oee0jX-ACV63"
      },
      "source": [
        "---"
      ]
    },
    {
      "cell_type": "markdown",
      "metadata": {
        "id": "mNeU2oG0uJ5x"
      },
      "source": [
        "### Wrap-Up Quiz\n",
        "\n",
        "```\n",
        "TEACHER\n",
        "  Let us quickly recollect what we learned and did in today's class.\n",
        "\n",
        "  There are some questions alongwith 4 options in the Class copy.\n",
        "  Tell me the correct answer.\n",
        "```\n",
        "<img src=\"https://curriculum.whitehatjr.com/APT+Asset/APT+C4+images/q1.PNG\"/>\n",
        "\n",
        "```\n",
        "TEACHER\n",
        "  The correct answer is Option 2.\n",
        "  It does not pauses program execution\n",
        "```\n",
        "\n",
        "<img src=\"https://curriculum.whitehatjr.com/APT+Asset/APT+C4+images/q2.PNG\"/>\n",
        "\n",
        "```\n",
        "TEACHER\n",
        "  The output will be\n",
        "  1\n",
        "  2\n",
        "  3\n",
        "  4\n",
        "  5\n",
        "\n",
        "  Here using while loop, we are printing numbers from 1 to 9, but\n",
        "  inside while loop there is a condition which says that, if the\n",
        "  number is 5, then break the while loop.\n",
        "\n",
        "  You did a great job today.\n",
        "  I hope you had fun in this class and hope to see you in the upcoming\n",
        "  classes to learn Python programming. Bye!\n",
        "\n",
        "EXPECTED STUDENT RESPONSE\n",
        "  Bye teacher!\n",
        "```\n",
        "\n"
      ]
    },
    {
      "cell_type": "markdown",
      "metadata": {
        "id": "T_I9m1UUuNuo"
      },
      "source": [
        "---"
      ]
    },
    {
      "cell_type": "markdown",
      "metadata": {
        "id": "IbR_WOvmuOlQ"
      },
      "source": [
        "### Activities\n",
        "\n",
        "**Teacher Activities**\n",
        "\n",
        "1. The `gameplay()` Function (Class Copy)\n",
        "\n",
        "   Link on Panel\n",
        "\n",
        "2. The `gameplay()` Function (Reference)\n",
        "\n",
        "   Link on Panel"
      ]
    },
    {
      "cell_type": "markdown",
      "metadata": {
        "id": "Y8rrqEjWuQVR"
      },
      "source": [
        "---"
      ]
    }
  ]
}