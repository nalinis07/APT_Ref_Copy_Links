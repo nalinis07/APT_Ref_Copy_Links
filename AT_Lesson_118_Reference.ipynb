{
  "nbformat": 4,
  "nbformat_minor": 0,
  "metadata": {
    "colab": {
      "provenance": [],
      "include_colab_link": true
    },
    "kernelspec": {
      "name": "python3",
      "display_name": "Python 3"
    },
    "language_info": {
      "name": "python"
    }
  },
  "cells": [
    {
      "cell_type": "markdown",
      "metadata": {
        "id": "view-in-github",
        "colab_type": "text"
      },
      "source": [
        "<a href=\"https://colab.research.google.com/github/nalinis07/APT_Ref_Copy_Links/blob/MASTER/AT_Lesson_118_Reference.ipynb\" target=\"_parent\"><img src=\"https://colab.research.google.com/assets/colab-badge.svg\" alt=\"Open In Colab\"/></a>"
      ]
    },
    {
      "cell_type": "markdown",
      "metadata": {
        "id": "dH0juTm_ISGg"
      },
      "source": [
        "# Lesson 118: PCA - Eigenvectors and Eigenvalues\n",
        "\n",
        "\n"
      ]
    },
    {
      "cell_type": "markdown",
      "metadata": {
        "id": "yauWJFvFIkBo"
      },
      "source": [
        "---"
      ]
    },
    {
      "cell_type": "markdown",
      "metadata": {
        "id": "YPSqesdHIgnK"
      },
      "source": [
        "**WARNING:** The reference notebook is meant **ONLY** for a teacher. Please **DO NOT** share it with any student.\n",
        "\n",
        "The contents of the reference notebook are meant only to prepare a teacher for a class. To conduct the class, use the class copy of the reference notebook. The link and the instructions for the same are provided in the **Notes To The Teacher** section.\n",
        "\n",
        "\n",
        "|Particulars|Description|\n",
        "|-|-|\n",
        "|**Topic**|PCA - Eigenvectors and Eigenvalues|\n",
        "|||\n",
        "|**Class Description**|In this class, a student will learn to calculate Eigenvectors and Eigenvalues and rotate the original dataset onto the transformed axis.|\n",
        "|||\n",
        "|**Class**|C118|\n",
        "|||\n",
        "|**Class Time**|55 minutes|\n",
        "|||\n",
        "|**Goal**|Calculate Eigenvectors and Eigenvalues|\n",
        "||Transform the dataset based on Eigenvectors obtained|\n",
        "||Visualise 1D and 2D projections|\n",
        "||Compare manual PCA with `sklearn` PCA|\n",
        "|||\n",
        "|**Teacher Resources**|Google Account|\n",
        "||Laptop with internet connectivity|\n",
        "||Earphones with mic|\n",
        "|||\n",
        "|**Student Resources**|Google Account|\n",
        "||Laptop with internet connectivity|\n",
        "||Earphones with mic|"
      ]
    },
    {
      "cell_type": "markdown",
      "metadata": {
        "id": "uiNHVuDWIb0L"
      },
      "source": [
        "---"
      ]
    },
    {
      "cell_type": "markdown",
      "metadata": {
        "id": "ci9U1mZMwNCg"
      },
      "source": [
        "### Warm-up Quiz\n",
        "\n",
        "```\n",
        "TEACHER\n",
        "I have an exciting quiz question for you! Are you ready to answer this question?\n",
        "\n",
        "EXPECTED STUDENT RESPONSE\n",
        "Yes.\n",
        "```\n",
        "\n",
        "**Instructions for the Teacher:**\n",
        "- Please click on the \"Quiz Time\" button on the bottom right corner of your screen to start the In-Class Quiz. <img src='https://student-datasets-bucket.s3.ap-south-1.amazonaws.com/images/quiz-time.png' width = 150>\n",
        "\n",
        "- A quiz will be visible to both you and the student. Encourage the student to answer the quiz question.\n",
        "\n",
        "- The student may choose the wrong option, help the student to think correctly about the question and then answer again.\n",
        "\n",
        "- After the student selects the correct option, the \"End Quiz\" button will start appearing on your screen. <img src='https://student-datasets-bucket.s3.ap-south-1.amazonaws.com/images/end-quiz.png' width = 150>  \n",
        "\n",
        "- Click the \"End quiz\" button to close the quiz pop-up and continue the class.\n",
        "  \n",
        "- Do not spend more than 2 minutes on this quiz."
      ]
    },
    {
      "cell_type": "markdown",
      "metadata": {
        "id": "6rsLUKtewM6Z"
      },
      "source": [
        "---"
      ]
    },
    {
      "cell_type": "markdown",
      "metadata": {
        "id": "FDA9Q0skyt9Y"
      },
      "source": [
        "#### Teacher-Student Activities\n",
        "\n",
        "In the previous class, we understood few more concepts of vectors that are vital in PCA. We also learned how eigenvectors and eigenvalues form the basis for PCA projection.\n",
        "\n",
        "In today's class, we will learn how to calculate eigenvectors and eigenvalues. We will also execute PCA manually using eigenvectors and compare their results with `sklearn` PCA.\n",
        "\n",
        "Before that, let us go through the concepts covered in the previous class and begin the class from the topic: **Activity 1: Understanding Eigenvectors and Eigenvalues**."
      ]
    },
    {
      "cell_type": "markdown",
      "metadata": {
        "id": "LqF-onlKrUBd"
      },
      "source": [
        "---"
      ]
    },
    {
      "cell_type": "markdown",
      "source": [
        "#### Recap"
      ],
      "metadata": {
        "id": "OpZKFw1bbMNv"
      }
    },
    {
      "cell_type": "markdown",
      "metadata": {
        "id": "QeYPsKY8rlek"
      },
      "source": [
        "#### Loading the Dataset\n",
        "\n",
        "**Dataset Link:**  https://s3-whjr-curriculum-uploads.whjr.online/be99ea2b-cb07-4e52-b9ee-4c7e893ae48d.csv\n",
        "\n"
      ]
    },
    {
      "cell_type": "code",
      "metadata": {
        "colab": {
          "base_uri": "https://localhost:8080/",
          "height": 204
        },
        "id": "BAhH4jKBrpHV",
        "outputId": "8d547ccd-17b3-4cad-b2c9-8ec9634f2555"
      },
      "source": [
        "# Import the Python modules, read the dataset and create a Pandas DataFrame.\n",
        "import numpy as np\n",
        "import pandas as pd\n",
        "import matplotlib.pyplot as plt\n",
        "import seaborn as sns\n",
        "import plotly.express as px\n",
        "\n",
        "# Read the dataset\n",
        "wheat_df = pd.read_csv('https://s3-whjr-curriculum-uploads.whjr.online/52e55558-5ad7-4f93-a854-8186f415bc55.csv')\n",
        "wheat_df.head()"
      ],
      "execution_count": null,
      "outputs": [
        {
          "output_type": "execute_result",
          "data": {
            "text/html": [
              "<div>\n",
              "<style scoped>\n",
              "    .dataframe tbody tr th:only-of-type {\n",
              "        vertical-align: middle;\n",
              "    }\n",
              "\n",
              "    .dataframe tbody tr th {\n",
              "        vertical-align: top;\n",
              "    }\n",
              "\n",
              "    .dataframe thead th {\n",
              "        text-align: right;\n",
              "    }\n",
              "</style>\n",
              "<table border=\"1\" class=\"dataframe\">\n",
              "  <thead>\n",
              "    <tr style=\"text-align: right;\">\n",
              "      <th></th>\n",
              "      <th>A</th>\n",
              "      <th>P</th>\n",
              "      <th>C</th>\n",
              "      <th>LK</th>\n",
              "      <th>WK</th>\n",
              "      <th>A_Coef</th>\n",
              "      <th>LKG</th>\n",
              "      <th>target</th>\n",
              "    </tr>\n",
              "  </thead>\n",
              "  <tbody>\n",
              "    <tr>\n",
              "      <th>0</th>\n",
              "      <td>15.26</td>\n",
              "      <td>14.84</td>\n",
              "      <td>0.8710</td>\n",
              "      <td>5.763</td>\n",
              "      <td>3.312</td>\n",
              "      <td>2.221</td>\n",
              "      <td>5.220</td>\n",
              "      <td>0</td>\n",
              "    </tr>\n",
              "    <tr>\n",
              "      <th>1</th>\n",
              "      <td>14.88</td>\n",
              "      <td>14.57</td>\n",
              "      <td>0.8811</td>\n",
              "      <td>5.554</td>\n",
              "      <td>3.333</td>\n",
              "      <td>1.018</td>\n",
              "      <td>4.956</td>\n",
              "      <td>0</td>\n",
              "    </tr>\n",
              "    <tr>\n",
              "      <th>2</th>\n",
              "      <td>14.29</td>\n",
              "      <td>14.09</td>\n",
              "      <td>0.9050</td>\n",
              "      <td>5.291</td>\n",
              "      <td>3.337</td>\n",
              "      <td>2.699</td>\n",
              "      <td>4.825</td>\n",
              "      <td>0</td>\n",
              "    </tr>\n",
              "    <tr>\n",
              "      <th>3</th>\n",
              "      <td>13.84</td>\n",
              "      <td>13.94</td>\n",
              "      <td>0.8955</td>\n",
              "      <td>5.324</td>\n",
              "      <td>3.379</td>\n",
              "      <td>2.259</td>\n",
              "      <td>4.805</td>\n",
              "      <td>0</td>\n",
              "    </tr>\n",
              "    <tr>\n",
              "      <th>4</th>\n",
              "      <td>16.14</td>\n",
              "      <td>14.99</td>\n",
              "      <td>0.9034</td>\n",
              "      <td>5.658</td>\n",
              "      <td>3.562</td>\n",
              "      <td>1.355</td>\n",
              "      <td>5.175</td>\n",
              "      <td>0</td>\n",
              "    </tr>\n",
              "  </tbody>\n",
              "</table>\n",
              "</div>"
            ],
            "text/plain": [
              "       A      P       C     LK     WK  A_Coef    LKG  target\n",
              "0  15.26  14.84  0.8710  5.763  3.312   2.221  5.220       0\n",
              "1  14.88  14.57  0.8811  5.554  3.333   1.018  4.956       0\n",
              "2  14.29  14.09  0.9050  5.291  3.337   2.699  4.825       0\n",
              "3  13.84  13.94  0.8955  5.324  3.379   2.259  4.805       0\n",
              "4  16.14  14.99  0.9034  5.658  3.562   1.355  5.175       0"
            ]
          },
          "metadata": {},
          "execution_count": 51
        }
      ]
    },
    {
      "cell_type": "code",
      "metadata": {
        "colab": {
          "base_uri": "https://localhost:8080/",
          "height": 204
        },
        "id": "ickKM991rv03",
        "outputId": "cc53977d-5322-4c35-c7c2-2303ec8a535d"
      },
      "source": [
        "# Rename the columns for better understandability\n",
        "wheat_df.rename(columns = {'A': 'area', 'P': 'perimeter', 'C': 'compactness',\n",
        "                            'LK': 'kernel_length', 'WK': 'kernel_width',\n",
        "                            'A_Coef': 'asymmetry_coefficient', 'LKG':'kernel_groove_length'}, inplace = True)\n",
        "wheat_df.head()"
      ],
      "execution_count": null,
      "outputs": [
        {
          "output_type": "execute_result",
          "data": {
            "text/html": [
              "<div>\n",
              "<style scoped>\n",
              "    .dataframe tbody tr th:only-of-type {\n",
              "        vertical-align: middle;\n",
              "    }\n",
              "\n",
              "    .dataframe tbody tr th {\n",
              "        vertical-align: top;\n",
              "    }\n",
              "\n",
              "    .dataframe thead th {\n",
              "        text-align: right;\n",
              "    }\n",
              "</style>\n",
              "<table border=\"1\" class=\"dataframe\">\n",
              "  <thead>\n",
              "    <tr style=\"text-align: right;\">\n",
              "      <th></th>\n",
              "      <th>area</th>\n",
              "      <th>perimeter</th>\n",
              "      <th>compactness</th>\n",
              "      <th>kernel_length</th>\n",
              "      <th>kernel_width</th>\n",
              "      <th>asymmetry_coefficient</th>\n",
              "      <th>kernel_groove_length</th>\n",
              "      <th>target</th>\n",
              "    </tr>\n",
              "  </thead>\n",
              "  <tbody>\n",
              "    <tr>\n",
              "      <th>0</th>\n",
              "      <td>15.26</td>\n",
              "      <td>14.84</td>\n",
              "      <td>0.8710</td>\n",
              "      <td>5.763</td>\n",
              "      <td>3.312</td>\n",
              "      <td>2.221</td>\n",
              "      <td>5.220</td>\n",
              "      <td>0</td>\n",
              "    </tr>\n",
              "    <tr>\n",
              "      <th>1</th>\n",
              "      <td>14.88</td>\n",
              "      <td>14.57</td>\n",
              "      <td>0.8811</td>\n",
              "      <td>5.554</td>\n",
              "      <td>3.333</td>\n",
              "      <td>1.018</td>\n",
              "      <td>4.956</td>\n",
              "      <td>0</td>\n",
              "    </tr>\n",
              "    <tr>\n",
              "      <th>2</th>\n",
              "      <td>14.29</td>\n",
              "      <td>14.09</td>\n",
              "      <td>0.9050</td>\n",
              "      <td>5.291</td>\n",
              "      <td>3.337</td>\n",
              "      <td>2.699</td>\n",
              "      <td>4.825</td>\n",
              "      <td>0</td>\n",
              "    </tr>\n",
              "    <tr>\n",
              "      <th>3</th>\n",
              "      <td>13.84</td>\n",
              "      <td>13.94</td>\n",
              "      <td>0.8955</td>\n",
              "      <td>5.324</td>\n",
              "      <td>3.379</td>\n",
              "      <td>2.259</td>\n",
              "      <td>4.805</td>\n",
              "      <td>0</td>\n",
              "    </tr>\n",
              "    <tr>\n",
              "      <th>4</th>\n",
              "      <td>16.14</td>\n",
              "      <td>14.99</td>\n",
              "      <td>0.9034</td>\n",
              "      <td>5.658</td>\n",
              "      <td>3.562</td>\n",
              "      <td>1.355</td>\n",
              "      <td>5.175</td>\n",
              "      <td>0</td>\n",
              "    </tr>\n",
              "  </tbody>\n",
              "</table>\n",
              "</div>"
            ],
            "text/plain": [
              "    area  perimeter  ...  kernel_groove_length  target\n",
              "0  15.26      14.84  ...                 5.220       0\n",
              "1  14.88      14.57  ...                 4.956       0\n",
              "2  14.29      14.09  ...                 4.825       0\n",
              "3  13.84      13.94  ...                 4.805       0\n",
              "4  16.14      14.99  ...                 5.175       0\n",
              "\n",
              "[5 rows x 8 columns]"
            ]
          },
          "metadata": {},
          "execution_count": 52
        }
      ]
    },
    {
      "cell_type": "code",
      "metadata": {
        "colab": {
          "base_uri": "https://localhost:8080/"
        },
        "id": "lmNExPGAr1G9",
        "outputId": "b53d6e27-5214-4264-8f39-5c2040450fc4"
      },
      "source": [
        "# Get the total number of rows and columns, data types of columns and missing values (if exist) in the dataset.\n",
        "wheat_df.info()"
      ],
      "execution_count": null,
      "outputs": [
        {
          "output_type": "stream",
          "name": "stdout",
          "text": [
            "<class 'pandas.core.frame.DataFrame'>\n",
            "RangeIndex: 210 entries, 0 to 209\n",
            "Data columns (total 8 columns):\n",
            " #   Column                 Non-Null Count  Dtype  \n",
            "---  ------                 --------------  -----  \n",
            " 0   area                   210 non-null    float64\n",
            " 1   perimeter              210 non-null    float64\n",
            " 2   compactness            210 non-null    float64\n",
            " 3   kernel_length          210 non-null    float64\n",
            " 4   kernel_width           210 non-null    float64\n",
            " 5   asymmetry_coefficient  210 non-null    float64\n",
            " 6   kernel_groove_length   210 non-null    float64\n",
            " 7   target                 210 non-null    int64  \n",
            "dtypes: float64(7), int64(1)\n",
            "memory usage: 13.2 KB\n"
          ]
        }
      ]
    },
    {
      "cell_type": "markdown",
      "metadata": {
        "id": "0pU0Vezyr_bL"
      },
      "source": [
        "---"
      ]
    },
    {
      "cell_type": "markdown",
      "metadata": {
        "id": "Lt2hcr6VsAIL"
      },
      "source": [
        "#### Exploratory Data Analysis\n",
        "\n",
        "1. Analysis of data where kernel width is more than kernel length.\n",
        "2. Check for anomalies in kernel groove length and kernel length.\n",
        "3. Calculating compactness using area and perimeter.\n",
        "\n",
        "$Compactness = \\frac{4*Π*Area}{Circumference^2}$\n"
      ]
    },
    {
      "cell_type": "code",
      "metadata": {
        "colab": {
          "base_uri": "https://localhost:8080/",
          "height": 49
        },
        "id": "MX1XHRb7sD5-",
        "outputId": "889484e0-d2d7-4899-9862-726f88fa11b8"
      },
      "source": [
        "# Check for anomalies in 'kernel_width' and 'kernel_length'.\n",
        "wheat_df[wheat_df['kernel_width'] > wheat_df['kernel_length']]"
      ],
      "execution_count": null,
      "outputs": [
        {
          "output_type": "execute_result",
          "data": {
            "text/html": [
              "<div>\n",
              "<style scoped>\n",
              "    .dataframe tbody tr th:only-of-type {\n",
              "        vertical-align: middle;\n",
              "    }\n",
              "\n",
              "    .dataframe tbody tr th {\n",
              "        vertical-align: top;\n",
              "    }\n",
              "\n",
              "    .dataframe thead th {\n",
              "        text-align: right;\n",
              "    }\n",
              "</style>\n",
              "<table border=\"1\" class=\"dataframe\">\n",
              "  <thead>\n",
              "    <tr style=\"text-align: right;\">\n",
              "      <th></th>\n",
              "      <th>area</th>\n",
              "      <th>perimeter</th>\n",
              "      <th>compactness</th>\n",
              "      <th>kernel_length</th>\n",
              "      <th>kernel_width</th>\n",
              "      <th>asymmetry_coefficient</th>\n",
              "      <th>kernel_groove_length</th>\n",
              "      <th>target</th>\n",
              "    </tr>\n",
              "  </thead>\n",
              "  <tbody>\n",
              "  </tbody>\n",
              "</table>\n",
              "</div>"
            ],
            "text/plain": [
              "Empty DataFrame\n",
              "Columns: [area, perimeter, compactness, kernel_length, kernel_width, asymmetry_coefficient, kernel_groove_length, target]\n",
              "Index: []"
            ]
          },
          "metadata": {},
          "execution_count": 54
        }
      ]
    },
    {
      "cell_type": "code",
      "metadata": {
        "colab": {
          "base_uri": "https://localhost:8080/",
          "height": 548
        },
        "id": "JwRA0DKfsGHA",
        "outputId": "7c8218cf-ae4c-4166-e07d-3f52d69bf2e4"
      },
      "source": [
        "# Check for anomalies in kernel_groove_length and kernel_length.\n",
        "print(\"Number of rows having kernel groove length > kernel length =\",\n",
        "      wheat_df[wheat_df['kernel_groove_length'] > wheat_df['kernel_length']].shape[0], \"\\n\") # You can add this code part later.\n",
        "\n",
        "wheat_df[wheat_df['kernel_groove_length'] > wheat_df['kernel_length']] # Write only this part of code first. Then add the preceding part later."
      ],
      "execution_count": null,
      "outputs": [
        {
          "output_type": "stream",
          "name": "stdout",
          "text": [
            "Number of rows having kernel groove length > kernel length = 15 \n",
            "\n"
          ]
        },
        {
          "output_type": "execute_result",
          "data": {
            "text/html": [
              "<div>\n",
              "<style scoped>\n",
              "    .dataframe tbody tr th:only-of-type {\n",
              "        vertical-align: middle;\n",
              "    }\n",
              "\n",
              "    .dataframe tbody tr th {\n",
              "        vertical-align: top;\n",
              "    }\n",
              "\n",
              "    .dataframe thead th {\n",
              "        text-align: right;\n",
              "    }\n",
              "</style>\n",
              "<table border=\"1\" class=\"dataframe\">\n",
              "  <thead>\n",
              "    <tr style=\"text-align: right;\">\n",
              "      <th></th>\n",
              "      <th>area</th>\n",
              "      <th>perimeter</th>\n",
              "      <th>compactness</th>\n",
              "      <th>kernel_length</th>\n",
              "      <th>kernel_width</th>\n",
              "      <th>asymmetry_coefficient</th>\n",
              "      <th>kernel_groove_length</th>\n",
              "      <th>target</th>\n",
              "    </tr>\n",
              "  </thead>\n",
              "  <tbody>\n",
              "    <tr>\n",
              "      <th>80</th>\n",
              "      <td>16.53</td>\n",
              "      <td>15.34</td>\n",
              "      <td>0.8823</td>\n",
              "      <td>5.875</td>\n",
              "      <td>3.467</td>\n",
              "      <td>5.532</td>\n",
              "      <td>5.880</td>\n",
              "      <td>1</td>\n",
              "    </tr>\n",
              "    <tr>\n",
              "      <th>85</th>\n",
              "      <td>18.27</td>\n",
              "      <td>16.09</td>\n",
              "      <td>0.8870</td>\n",
              "      <td>6.173</td>\n",
              "      <td>3.651</td>\n",
              "      <td>2.443</td>\n",
              "      <td>6.197</td>\n",
              "      <td>1</td>\n",
              "    </tr>\n",
              "    <tr>\n",
              "      <th>86</th>\n",
              "      <td>18.88</td>\n",
              "      <td>16.26</td>\n",
              "      <td>0.8969</td>\n",
              "      <td>6.084</td>\n",
              "      <td>3.764</td>\n",
              "      <td>1.649</td>\n",
              "      <td>6.109</td>\n",
              "      <td>1</td>\n",
              "    </tr>\n",
              "    <tr>\n",
              "      <th>97</th>\n",
              "      <td>18.98</td>\n",
              "      <td>16.57</td>\n",
              "      <td>0.8687</td>\n",
              "      <td>6.449</td>\n",
              "      <td>3.552</td>\n",
              "      <td>2.144</td>\n",
              "      <td>6.453</td>\n",
              "      <td>1</td>\n",
              "    </tr>\n",
              "    <tr>\n",
              "      <th>98</th>\n",
              "      <td>18.17</td>\n",
              "      <td>16.26</td>\n",
              "      <td>0.8637</td>\n",
              "      <td>6.271</td>\n",
              "      <td>3.512</td>\n",
              "      <td>2.853</td>\n",
              "      <td>6.273</td>\n",
              "      <td>1</td>\n",
              "    </tr>\n",
              "    <tr>\n",
              "      <th>106</th>\n",
              "      <td>18.85</td>\n",
              "      <td>16.17</td>\n",
              "      <td>0.9056</td>\n",
              "      <td>6.152</td>\n",
              "      <td>3.806</td>\n",
              "      <td>2.843</td>\n",
              "      <td>6.200</td>\n",
              "      <td>1</td>\n",
              "    </tr>\n",
              "    <tr>\n",
              "      <th>134</th>\n",
              "      <td>15.56</td>\n",
              "      <td>14.89</td>\n",
              "      <td>0.8823</td>\n",
              "      <td>5.776</td>\n",
              "      <td>3.408</td>\n",
              "      <td>4.972</td>\n",
              "      <td>5.847</td>\n",
              "      <td>1</td>\n",
              "    </tr>\n",
              "    <tr>\n",
              "      <th>139</th>\n",
              "      <td>16.23</td>\n",
              "      <td>15.18</td>\n",
              "      <td>0.8850</td>\n",
              "      <td>5.872</td>\n",
              "      <td>3.472</td>\n",
              "      <td>3.769</td>\n",
              "      <td>5.922</td>\n",
              "      <td>1</td>\n",
              "    </tr>\n",
              "    <tr>\n",
              "      <th>150</th>\n",
              "      <td>11.83</td>\n",
              "      <td>13.23</td>\n",
              "      <td>0.8496</td>\n",
              "      <td>5.263</td>\n",
              "      <td>2.840</td>\n",
              "      <td>5.195</td>\n",
              "      <td>5.307</td>\n",
              "      <td>2</td>\n",
              "    </tr>\n",
              "    <tr>\n",
              "      <th>154</th>\n",
              "      <td>11.36</td>\n",
              "      <td>13.05</td>\n",
              "      <td>0.8382</td>\n",
              "      <td>5.175</td>\n",
              "      <td>2.755</td>\n",
              "      <td>4.048</td>\n",
              "      <td>5.263</td>\n",
              "      <td>2</td>\n",
              "    </tr>\n",
              "    <tr>\n",
              "      <th>159</th>\n",
              "      <td>11.49</td>\n",
              "      <td>13.22</td>\n",
              "      <td>0.8263</td>\n",
              "      <td>5.304</td>\n",
              "      <td>2.695</td>\n",
              "      <td>5.388</td>\n",
              "      <td>5.310</td>\n",
              "      <td>2</td>\n",
              "    </tr>\n",
              "    <tr>\n",
              "      <th>160</th>\n",
              "      <td>12.54</td>\n",
              "      <td>13.67</td>\n",
              "      <td>0.8425</td>\n",
              "      <td>5.451</td>\n",
              "      <td>2.879</td>\n",
              "      <td>3.082</td>\n",
              "      <td>5.491</td>\n",
              "      <td>2</td>\n",
              "    </tr>\n",
              "    <tr>\n",
              "      <th>164</th>\n",
              "      <td>11.14</td>\n",
              "      <td>12.79</td>\n",
              "      <td>0.8558</td>\n",
              "      <td>5.011</td>\n",
              "      <td>2.794</td>\n",
              "      <td>6.388</td>\n",
              "      <td>5.049</td>\n",
              "      <td>2</td>\n",
              "    </tr>\n",
              "    <tr>\n",
              "      <th>175</th>\n",
              "      <td>10.80</td>\n",
              "      <td>12.57</td>\n",
              "      <td>0.8590</td>\n",
              "      <td>4.981</td>\n",
              "      <td>2.821</td>\n",
              "      <td>4.773</td>\n",
              "      <td>5.063</td>\n",
              "      <td>2</td>\n",
              "    </tr>\n",
              "    <tr>\n",
              "      <th>183</th>\n",
              "      <td>11.65</td>\n",
              "      <td>13.07</td>\n",
              "      <td>0.8575</td>\n",
              "      <td>5.108</td>\n",
              "      <td>2.850</td>\n",
              "      <td>5.209</td>\n",
              "      <td>5.135</td>\n",
              "      <td>2</td>\n",
              "    </tr>\n",
              "  </tbody>\n",
              "</table>\n",
              "</div>"
            ],
            "text/plain": [
              "      area  perimeter  ...  kernel_groove_length  target\n",
              "80   16.53      15.34  ...                 5.880       1\n",
              "85   18.27      16.09  ...                 6.197       1\n",
              "86   18.88      16.26  ...                 6.109       1\n",
              "97   18.98      16.57  ...                 6.453       1\n",
              "98   18.17      16.26  ...                 6.273       1\n",
              "106  18.85      16.17  ...                 6.200       1\n",
              "134  15.56      14.89  ...                 5.847       1\n",
              "139  16.23      15.18  ...                 5.922       1\n",
              "150  11.83      13.23  ...                 5.307       2\n",
              "154  11.36      13.05  ...                 5.263       2\n",
              "159  11.49      13.22  ...                 5.310       2\n",
              "160  12.54      13.67  ...                 5.491       2\n",
              "164  11.14      12.79  ...                 5.049       2\n",
              "175  10.80      12.57  ...                 5.063       2\n",
              "183  11.65      13.07  ...                 5.135       2\n",
              "\n",
              "[15 rows x 8 columns]"
            ]
          },
          "metadata": {},
          "execution_count": 55
        }
      ]
    },
    {
      "cell_type": "code",
      "metadata": {
        "colab": {
          "base_uri": "https://localhost:8080/",
          "height": 419
        },
        "id": "_J3lCNKAsfbm",
        "outputId": "8b5ad1ac-3378-423d-a825-bb4cbf707865"
      },
      "source": [
        "# Obtain a clean DataFrame\n",
        "clean_df = wheat_df[wheat_df['kernel_groove_length'] < wheat_df['kernel_length']]\n",
        "clean_df"
      ],
      "execution_count": null,
      "outputs": [
        {
          "output_type": "execute_result",
          "data": {
            "text/html": [
              "<div>\n",
              "<style scoped>\n",
              "    .dataframe tbody tr th:only-of-type {\n",
              "        vertical-align: middle;\n",
              "    }\n",
              "\n",
              "    .dataframe tbody tr th {\n",
              "        vertical-align: top;\n",
              "    }\n",
              "\n",
              "    .dataframe thead th {\n",
              "        text-align: right;\n",
              "    }\n",
              "</style>\n",
              "<table border=\"1\" class=\"dataframe\">\n",
              "  <thead>\n",
              "    <tr style=\"text-align: right;\">\n",
              "      <th></th>\n",
              "      <th>area</th>\n",
              "      <th>perimeter</th>\n",
              "      <th>compactness</th>\n",
              "      <th>kernel_length</th>\n",
              "      <th>kernel_width</th>\n",
              "      <th>asymmetry_coefficient</th>\n",
              "      <th>kernel_groove_length</th>\n",
              "      <th>target</th>\n",
              "    </tr>\n",
              "  </thead>\n",
              "  <tbody>\n",
              "    <tr>\n",
              "      <th>0</th>\n",
              "      <td>15.26</td>\n",
              "      <td>14.84</td>\n",
              "      <td>0.8710</td>\n",
              "      <td>5.763</td>\n",
              "      <td>3.312</td>\n",
              "      <td>2.221</td>\n",
              "      <td>5.220</td>\n",
              "      <td>0</td>\n",
              "    </tr>\n",
              "    <tr>\n",
              "      <th>1</th>\n",
              "      <td>14.88</td>\n",
              "      <td>14.57</td>\n",
              "      <td>0.8811</td>\n",
              "      <td>5.554</td>\n",
              "      <td>3.333</td>\n",
              "      <td>1.018</td>\n",
              "      <td>4.956</td>\n",
              "      <td>0</td>\n",
              "    </tr>\n",
              "    <tr>\n",
              "      <th>2</th>\n",
              "      <td>14.29</td>\n",
              "      <td>14.09</td>\n",
              "      <td>0.9050</td>\n",
              "      <td>5.291</td>\n",
              "      <td>3.337</td>\n",
              "      <td>2.699</td>\n",
              "      <td>4.825</td>\n",
              "      <td>0</td>\n",
              "    </tr>\n",
              "    <tr>\n",
              "      <th>3</th>\n",
              "      <td>13.84</td>\n",
              "      <td>13.94</td>\n",
              "      <td>0.8955</td>\n",
              "      <td>5.324</td>\n",
              "      <td>3.379</td>\n",
              "      <td>2.259</td>\n",
              "      <td>4.805</td>\n",
              "      <td>0</td>\n",
              "    </tr>\n",
              "    <tr>\n",
              "      <th>4</th>\n",
              "      <td>16.14</td>\n",
              "      <td>14.99</td>\n",
              "      <td>0.9034</td>\n",
              "      <td>5.658</td>\n",
              "      <td>3.562</td>\n",
              "      <td>1.355</td>\n",
              "      <td>5.175</td>\n",
              "      <td>0</td>\n",
              "    </tr>\n",
              "    <tr>\n",
              "      <th>...</th>\n",
              "      <td>...</td>\n",
              "      <td>...</td>\n",
              "      <td>...</td>\n",
              "      <td>...</td>\n",
              "      <td>...</td>\n",
              "      <td>...</td>\n",
              "      <td>...</td>\n",
              "      <td>...</td>\n",
              "    </tr>\n",
              "    <tr>\n",
              "      <th>205</th>\n",
              "      <td>12.19</td>\n",
              "      <td>13.20</td>\n",
              "      <td>0.8783</td>\n",
              "      <td>5.137</td>\n",
              "      <td>2.981</td>\n",
              "      <td>3.631</td>\n",
              "      <td>4.870</td>\n",
              "      <td>2</td>\n",
              "    </tr>\n",
              "    <tr>\n",
              "      <th>206</th>\n",
              "      <td>11.23</td>\n",
              "      <td>12.88</td>\n",
              "      <td>0.8511</td>\n",
              "      <td>5.140</td>\n",
              "      <td>2.795</td>\n",
              "      <td>4.325</td>\n",
              "      <td>5.003</td>\n",
              "      <td>2</td>\n",
              "    </tr>\n",
              "    <tr>\n",
              "      <th>207</th>\n",
              "      <td>13.20</td>\n",
              "      <td>13.66</td>\n",
              "      <td>0.8883</td>\n",
              "      <td>5.236</td>\n",
              "      <td>3.232</td>\n",
              "      <td>8.315</td>\n",
              "      <td>5.056</td>\n",
              "      <td>2</td>\n",
              "    </tr>\n",
              "    <tr>\n",
              "      <th>208</th>\n",
              "      <td>11.84</td>\n",
              "      <td>13.21</td>\n",
              "      <td>0.8521</td>\n",
              "      <td>5.175</td>\n",
              "      <td>2.836</td>\n",
              "      <td>3.598</td>\n",
              "      <td>5.044</td>\n",
              "      <td>2</td>\n",
              "    </tr>\n",
              "    <tr>\n",
              "      <th>209</th>\n",
              "      <td>12.30</td>\n",
              "      <td>13.34</td>\n",
              "      <td>0.8684</td>\n",
              "      <td>5.243</td>\n",
              "      <td>2.974</td>\n",
              "      <td>5.637</td>\n",
              "      <td>5.063</td>\n",
              "      <td>2</td>\n",
              "    </tr>\n",
              "  </tbody>\n",
              "</table>\n",
              "<p>194 rows × 8 columns</p>\n",
              "</div>"
            ],
            "text/plain": [
              "      area  perimeter  ...  kernel_groove_length  target\n",
              "0    15.26      14.84  ...                 5.220       0\n",
              "1    14.88      14.57  ...                 4.956       0\n",
              "2    14.29      14.09  ...                 4.825       0\n",
              "3    13.84      13.94  ...                 4.805       0\n",
              "4    16.14      14.99  ...                 5.175       0\n",
              "..     ...        ...  ...                   ...     ...\n",
              "205  12.19      13.20  ...                 4.870       2\n",
              "206  11.23      12.88  ...                 5.003       2\n",
              "207  13.20      13.66  ...                 5.056       2\n",
              "208  11.84      13.21  ...                 5.044       2\n",
              "209  12.30      13.34  ...                 5.063       2\n",
              "\n",
              "[194 rows x 8 columns]"
            ]
          },
          "metadata": {},
          "execution_count": 56
        }
      ]
    },
    {
      "cell_type": "code",
      "metadata": {
        "colab": {
          "base_uri": "https://localhost:8080/",
          "height": 204
        },
        "id": "24jQWK9Vsh0e",
        "outputId": "0487315a-9c18-4ca1-cdac-9369b1477ede"
      },
      "source": [
        "# Create a duplicate copy of the 'clean_df' DataFrame\n",
        "validation_df = clean_df.copy()\n",
        "validation_df.head()"
      ],
      "execution_count": null,
      "outputs": [
        {
          "output_type": "execute_result",
          "data": {
            "text/html": [
              "<div>\n",
              "<style scoped>\n",
              "    .dataframe tbody tr th:only-of-type {\n",
              "        vertical-align: middle;\n",
              "    }\n",
              "\n",
              "    .dataframe tbody tr th {\n",
              "        vertical-align: top;\n",
              "    }\n",
              "\n",
              "    .dataframe thead th {\n",
              "        text-align: right;\n",
              "    }\n",
              "</style>\n",
              "<table border=\"1\" class=\"dataframe\">\n",
              "  <thead>\n",
              "    <tr style=\"text-align: right;\">\n",
              "      <th></th>\n",
              "      <th>area</th>\n",
              "      <th>perimeter</th>\n",
              "      <th>compactness</th>\n",
              "      <th>kernel_length</th>\n",
              "      <th>kernel_width</th>\n",
              "      <th>asymmetry_coefficient</th>\n",
              "      <th>kernel_groove_length</th>\n",
              "      <th>target</th>\n",
              "    </tr>\n",
              "  </thead>\n",
              "  <tbody>\n",
              "    <tr>\n",
              "      <th>0</th>\n",
              "      <td>15.26</td>\n",
              "      <td>14.84</td>\n",
              "      <td>0.8710</td>\n",
              "      <td>5.763</td>\n",
              "      <td>3.312</td>\n",
              "      <td>2.221</td>\n",
              "      <td>5.220</td>\n",
              "      <td>0</td>\n",
              "    </tr>\n",
              "    <tr>\n",
              "      <th>1</th>\n",
              "      <td>14.88</td>\n",
              "      <td>14.57</td>\n",
              "      <td>0.8811</td>\n",
              "      <td>5.554</td>\n",
              "      <td>3.333</td>\n",
              "      <td>1.018</td>\n",
              "      <td>4.956</td>\n",
              "      <td>0</td>\n",
              "    </tr>\n",
              "    <tr>\n",
              "      <th>2</th>\n",
              "      <td>14.29</td>\n",
              "      <td>14.09</td>\n",
              "      <td>0.9050</td>\n",
              "      <td>5.291</td>\n",
              "      <td>3.337</td>\n",
              "      <td>2.699</td>\n",
              "      <td>4.825</td>\n",
              "      <td>0</td>\n",
              "    </tr>\n",
              "    <tr>\n",
              "      <th>3</th>\n",
              "      <td>13.84</td>\n",
              "      <td>13.94</td>\n",
              "      <td>0.8955</td>\n",
              "      <td>5.324</td>\n",
              "      <td>3.379</td>\n",
              "      <td>2.259</td>\n",
              "      <td>4.805</td>\n",
              "      <td>0</td>\n",
              "    </tr>\n",
              "    <tr>\n",
              "      <th>4</th>\n",
              "      <td>16.14</td>\n",
              "      <td>14.99</td>\n",
              "      <td>0.9034</td>\n",
              "      <td>5.658</td>\n",
              "      <td>3.562</td>\n",
              "      <td>1.355</td>\n",
              "      <td>5.175</td>\n",
              "      <td>0</td>\n",
              "    </tr>\n",
              "  </tbody>\n",
              "</table>\n",
              "</div>"
            ],
            "text/plain": [
              "    area  perimeter  ...  kernel_groove_length  target\n",
              "0  15.26      14.84  ...                 5.220       0\n",
              "1  14.88      14.57  ...                 4.956       0\n",
              "2  14.29      14.09  ...                 4.825       0\n",
              "3  13.84      13.94  ...                 4.805       0\n",
              "4  16.14      14.99  ...                 5.175       0\n",
              "\n",
              "[5 rows x 8 columns]"
            ]
          },
          "metadata": {},
          "execution_count": 57
        }
      ]
    },
    {
      "cell_type": "code",
      "metadata": {
        "colab": {
          "base_uri": "https://localhost:8080/",
          "height": 439
        },
        "id": "no-qkn99sloO",
        "outputId": "3c045a4f-0992-43f2-8f8a-942089270206"
      },
      "source": [
        "# Calculate the compactness value using the given formula\n",
        "import math\n",
        "validation_df['compactness_formula'] = (validation_df['area'] * 4 * (math.pi)) / (validation_df['perimeter'] ** 2)\n",
        "validation_df"
      ],
      "execution_count": null,
      "outputs": [
        {
          "output_type": "execute_result",
          "data": {
            "text/html": [
              "<div>\n",
              "<style scoped>\n",
              "    .dataframe tbody tr th:only-of-type {\n",
              "        vertical-align: middle;\n",
              "    }\n",
              "\n",
              "    .dataframe tbody tr th {\n",
              "        vertical-align: top;\n",
              "    }\n",
              "\n",
              "    .dataframe thead th {\n",
              "        text-align: right;\n",
              "    }\n",
              "</style>\n",
              "<table border=\"1\" class=\"dataframe\">\n",
              "  <thead>\n",
              "    <tr style=\"text-align: right;\">\n",
              "      <th></th>\n",
              "      <th>area</th>\n",
              "      <th>perimeter</th>\n",
              "      <th>compactness</th>\n",
              "      <th>kernel_length</th>\n",
              "      <th>kernel_width</th>\n",
              "      <th>asymmetry_coefficient</th>\n",
              "      <th>kernel_groove_length</th>\n",
              "      <th>target</th>\n",
              "      <th>compactness_formula</th>\n",
              "    </tr>\n",
              "  </thead>\n",
              "  <tbody>\n",
              "    <tr>\n",
              "      <th>0</th>\n",
              "      <td>15.26</td>\n",
              "      <td>14.84</td>\n",
              "      <td>0.8710</td>\n",
              "      <td>5.763</td>\n",
              "      <td>3.312</td>\n",
              "      <td>2.221</td>\n",
              "      <td>5.220</td>\n",
              "      <td>0</td>\n",
              "      <td>0.870756</td>\n",
              "    </tr>\n",
              "    <tr>\n",
              "      <th>1</th>\n",
              "      <td>14.88</td>\n",
              "      <td>14.57</td>\n",
              "      <td>0.8811</td>\n",
              "      <td>5.554</td>\n",
              "      <td>3.333</td>\n",
              "      <td>1.018</td>\n",
              "      <td>4.956</td>\n",
              "      <td>0</td>\n",
              "      <td>0.880833</td>\n",
              "    </tr>\n",
              "    <tr>\n",
              "      <th>2</th>\n",
              "      <td>14.29</td>\n",
              "      <td>14.09</td>\n",
              "      <td>0.9050</td>\n",
              "      <td>5.291</td>\n",
              "      <td>3.337</td>\n",
              "      <td>2.699</td>\n",
              "      <td>4.825</td>\n",
              "      <td>0</td>\n",
              "      <td>0.904524</td>\n",
              "    </tr>\n",
              "    <tr>\n",
              "      <th>3</th>\n",
              "      <td>13.84</td>\n",
              "      <td>13.94</td>\n",
              "      <td>0.8955</td>\n",
              "      <td>5.324</td>\n",
              "      <td>3.379</td>\n",
              "      <td>2.259</td>\n",
              "      <td>4.805</td>\n",
              "      <td>0</td>\n",
              "      <td>0.894995</td>\n",
              "    </tr>\n",
              "    <tr>\n",
              "      <th>4</th>\n",
              "      <td>16.14</td>\n",
              "      <td>14.99</td>\n",
              "      <td>0.9034</td>\n",
              "      <td>5.658</td>\n",
              "      <td>3.562</td>\n",
              "      <td>1.355</td>\n",
              "      <td>5.175</td>\n",
              "      <td>0</td>\n",
              "      <td>0.902631</td>\n",
              "    </tr>\n",
              "    <tr>\n",
              "      <th>...</th>\n",
              "      <td>...</td>\n",
              "      <td>...</td>\n",
              "      <td>...</td>\n",
              "      <td>...</td>\n",
              "      <td>...</td>\n",
              "      <td>...</td>\n",
              "      <td>...</td>\n",
              "      <td>...</td>\n",
              "      <td>...</td>\n",
              "    </tr>\n",
              "    <tr>\n",
              "      <th>205</th>\n",
              "      <td>12.19</td>\n",
              "      <td>13.20</td>\n",
              "      <td>0.8783</td>\n",
              "      <td>5.137</td>\n",
              "      <td>2.981</td>\n",
              "      <td>3.631</td>\n",
              "      <td>4.870</td>\n",
              "      <td>2</td>\n",
              "      <td>0.879156</td>\n",
              "    </tr>\n",
              "    <tr>\n",
              "      <th>206</th>\n",
              "      <td>11.23</td>\n",
              "      <td>12.88</td>\n",
              "      <td>0.8511</td>\n",
              "      <td>5.140</td>\n",
              "      <td>2.795</td>\n",
              "      <td>4.325</td>\n",
              "      <td>5.003</td>\n",
              "      <td>2</td>\n",
              "      <td>0.850664</td>\n",
              "    </tr>\n",
              "    <tr>\n",
              "      <th>207</th>\n",
              "      <td>13.20</td>\n",
              "      <td>13.66</td>\n",
              "      <td>0.8883</td>\n",
              "      <td>5.236</td>\n",
              "      <td>3.232</td>\n",
              "      <td>8.315</td>\n",
              "      <td>5.056</td>\n",
              "      <td>2</td>\n",
              "      <td>0.888960</td>\n",
              "    </tr>\n",
              "    <tr>\n",
              "      <th>208</th>\n",
              "      <td>11.84</td>\n",
              "      <td>13.21</td>\n",
              "      <td>0.8521</td>\n",
              "      <td>5.175</td>\n",
              "      <td>2.836</td>\n",
              "      <td>3.598</td>\n",
              "      <td>5.044</td>\n",
              "      <td>2</td>\n",
              "      <td>0.852621</td>\n",
              "    </tr>\n",
              "    <tr>\n",
              "      <th>209</th>\n",
              "      <td>12.30</td>\n",
              "      <td>13.34</td>\n",
              "      <td>0.8684</td>\n",
              "      <td>5.243</td>\n",
              "      <td>2.974</td>\n",
              "      <td>5.637</td>\n",
              "      <td>5.063</td>\n",
              "      <td>2</td>\n",
              "      <td>0.868567</td>\n",
              "    </tr>\n",
              "  </tbody>\n",
              "</table>\n",
              "<p>194 rows × 9 columns</p>\n",
              "</div>"
            ],
            "text/plain": [
              "      area  perimeter  ...  target  compactness_formula\n",
              "0    15.26      14.84  ...       0             0.870756\n",
              "1    14.88      14.57  ...       0             0.880833\n",
              "2    14.29      14.09  ...       0             0.904524\n",
              "3    13.84      13.94  ...       0             0.894995\n",
              "4    16.14      14.99  ...       0             0.902631\n",
              "..     ...        ...  ...     ...                  ...\n",
              "205  12.19      13.20  ...       2             0.879156\n",
              "206  11.23      12.88  ...       2             0.850664\n",
              "207  13.20      13.66  ...       2             0.888960\n",
              "208  11.84      13.21  ...       2             0.852621\n",
              "209  12.30      13.34  ...       2             0.868567\n",
              "\n",
              "[194 rows x 9 columns]"
            ]
          },
          "metadata": {},
          "execution_count": 58
        }
      ]
    },
    {
      "cell_type": "code",
      "metadata": {
        "colab": {
          "base_uri": "https://localhost:8080/",
          "height": 69
        },
        "id": "pZZRpKpdsoL-",
        "outputId": "e906daa0-2375-4c04-9f35-657f2f2555b6"
      },
      "source": [
        "# Check for anomalies in 'compactness' feature\n",
        "validation_df[validation_df['compactness'] - validation_df['compactness_formula'] > 0.01]"
      ],
      "execution_count": null,
      "outputs": [
        {
          "output_type": "execute_result",
          "data": {
            "text/html": [
              "<div>\n",
              "<style scoped>\n",
              "    .dataframe tbody tr th:only-of-type {\n",
              "        vertical-align: middle;\n",
              "    }\n",
              "\n",
              "    .dataframe tbody tr th {\n",
              "        vertical-align: top;\n",
              "    }\n",
              "\n",
              "    .dataframe thead th {\n",
              "        text-align: right;\n",
              "    }\n",
              "</style>\n",
              "<table border=\"1\" class=\"dataframe\">\n",
              "  <thead>\n",
              "    <tr style=\"text-align: right;\">\n",
              "      <th></th>\n",
              "      <th>area</th>\n",
              "      <th>perimeter</th>\n",
              "      <th>compactness</th>\n",
              "      <th>kernel_length</th>\n",
              "      <th>kernel_width</th>\n",
              "      <th>asymmetry_coefficient</th>\n",
              "      <th>kernel_groove_length</th>\n",
              "      <th>target</th>\n",
              "      <th>compactness_formula</th>\n",
              "    </tr>\n",
              "  </thead>\n",
              "  <tbody>\n",
              "  </tbody>\n",
              "</table>\n",
              "</div>"
            ],
            "text/plain": [
              "Empty DataFrame\n",
              "Columns: [area, perimeter, compactness, kernel_length, kernel_width, asymmetry_coefficient, kernel_groove_length, target, compactness_formula]\n",
              "Index: []"
            ]
          },
          "metadata": {},
          "execution_count": 59
        }
      ]
    },
    {
      "cell_type": "markdown",
      "metadata": {
        "id": "_D_22e-MstXe"
      },
      "source": [
        "---"
      ]
    },
    {
      "cell_type": "markdown",
      "metadata": {
        "id": "FJukgoUVsxoy"
      },
      "source": [
        "#### Scaling Dataset Using `StandardScaler`\n",
        "\n",
        "Scaling data is required to change the numeric values into a scale of data, without distorting differences in the ranges of values or losing information.\n"
      ]
    },
    {
      "cell_type": "code",
      "metadata": {
        "colab": {
          "base_uri": "https://localhost:8080/",
          "height": 204
        },
        "id": "ZddzBmyjs1sF",
        "outputId": "da810d79-d159-455e-959c-93735f3efef5"
      },
      "source": [
        "# Create a DataFrame having only feature variables\n",
        "wheat_features = clean_df.drop(['target'], axis = 1)\n",
        "wheat_features.head()"
      ],
      "execution_count": null,
      "outputs": [
        {
          "output_type": "execute_result",
          "data": {
            "text/html": [
              "<div>\n",
              "<style scoped>\n",
              "    .dataframe tbody tr th:only-of-type {\n",
              "        vertical-align: middle;\n",
              "    }\n",
              "\n",
              "    .dataframe tbody tr th {\n",
              "        vertical-align: top;\n",
              "    }\n",
              "\n",
              "    .dataframe thead th {\n",
              "        text-align: right;\n",
              "    }\n",
              "</style>\n",
              "<table border=\"1\" class=\"dataframe\">\n",
              "  <thead>\n",
              "    <tr style=\"text-align: right;\">\n",
              "      <th></th>\n",
              "      <th>area</th>\n",
              "      <th>perimeter</th>\n",
              "      <th>compactness</th>\n",
              "      <th>kernel_length</th>\n",
              "      <th>kernel_width</th>\n",
              "      <th>asymmetry_coefficient</th>\n",
              "      <th>kernel_groove_length</th>\n",
              "    </tr>\n",
              "  </thead>\n",
              "  <tbody>\n",
              "    <tr>\n",
              "      <th>0</th>\n",
              "      <td>15.26</td>\n",
              "      <td>14.84</td>\n",
              "      <td>0.8710</td>\n",
              "      <td>5.763</td>\n",
              "      <td>3.312</td>\n",
              "      <td>2.221</td>\n",
              "      <td>5.220</td>\n",
              "    </tr>\n",
              "    <tr>\n",
              "      <th>1</th>\n",
              "      <td>14.88</td>\n",
              "      <td>14.57</td>\n",
              "      <td>0.8811</td>\n",
              "      <td>5.554</td>\n",
              "      <td>3.333</td>\n",
              "      <td>1.018</td>\n",
              "      <td>4.956</td>\n",
              "    </tr>\n",
              "    <tr>\n",
              "      <th>2</th>\n",
              "      <td>14.29</td>\n",
              "      <td>14.09</td>\n",
              "      <td>0.9050</td>\n",
              "      <td>5.291</td>\n",
              "      <td>3.337</td>\n",
              "      <td>2.699</td>\n",
              "      <td>4.825</td>\n",
              "    </tr>\n",
              "    <tr>\n",
              "      <th>3</th>\n",
              "      <td>13.84</td>\n",
              "      <td>13.94</td>\n",
              "      <td>0.8955</td>\n",
              "      <td>5.324</td>\n",
              "      <td>3.379</td>\n",
              "      <td>2.259</td>\n",
              "      <td>4.805</td>\n",
              "    </tr>\n",
              "    <tr>\n",
              "      <th>4</th>\n",
              "      <td>16.14</td>\n",
              "      <td>14.99</td>\n",
              "      <td>0.9034</td>\n",
              "      <td>5.658</td>\n",
              "      <td>3.562</td>\n",
              "      <td>1.355</td>\n",
              "      <td>5.175</td>\n",
              "    </tr>\n",
              "  </tbody>\n",
              "</table>\n",
              "</div>"
            ],
            "text/plain": [
              "    area  perimeter  ...  asymmetry_coefficient  kernel_groove_length\n",
              "0  15.26      14.84  ...                  2.221                 5.220\n",
              "1  14.88      14.57  ...                  1.018                 4.956\n",
              "2  14.29      14.09  ...                  2.699                 4.825\n",
              "3  13.84      13.94  ...                  2.259                 4.805\n",
              "4  16.14      14.99  ...                  1.355                 5.175\n",
              "\n",
              "[5 rows x 7 columns]"
            ]
          },
          "metadata": {},
          "execution_count": 60
        }
      ]
    },
    {
      "cell_type": "code",
      "metadata": {
        "colab": {
          "base_uri": "https://localhost:8080/",
          "height": 204
        },
        "id": "ZYxv_mJws4vX",
        "outputId": "4f441d43-a219-45b4-add2-7817a28326a0"
      },
      "source": [
        "# Normalise the column values.\n",
        "from sklearn.preprocessing import StandardScaler\n",
        "\n",
        "standard_scaler = StandardScaler()\n",
        "scaled_values = standard_scaler.fit_transform(wheat_features)\n",
        "wheat_scaled = pd.DataFrame(scaled_values)\n",
        "wheat_scaled.columns = wheat_features.columns\n",
        "wheat_scaled.head()"
      ],
      "execution_count": null,
      "outputs": [
        {
          "output_type": "execute_result",
          "data": {
            "text/html": [
              "<div>\n",
              "<style scoped>\n",
              "    .dataframe tbody tr th:only-of-type {\n",
              "        vertical-align: middle;\n",
              "    }\n",
              "\n",
              "    .dataframe tbody tr th {\n",
              "        vertical-align: top;\n",
              "    }\n",
              "\n",
              "    .dataframe thead th {\n",
              "        text-align: right;\n",
              "    }\n",
              "</style>\n",
              "<table border=\"1\" class=\"dataframe\">\n",
              "  <thead>\n",
              "    <tr style=\"text-align: right;\">\n",
              "      <th></th>\n",
              "      <th>area</th>\n",
              "      <th>perimeter</th>\n",
              "      <th>compactness</th>\n",
              "      <th>kernel_length</th>\n",
              "      <th>kernel_width</th>\n",
              "      <th>asymmetry_coefficient</th>\n",
              "      <th>kernel_groove_length</th>\n",
              "    </tr>\n",
              "  </thead>\n",
              "  <tbody>\n",
              "    <tr>\n",
              "      <th>0</th>\n",
              "      <td>0.137294</td>\n",
              "      <td>0.211526</td>\n",
              "      <td>-0.012130</td>\n",
              "      <td>0.307200</td>\n",
              "      <td>0.129752</td>\n",
              "      <td>-0.964557</td>\n",
              "      <td>-0.343965</td>\n",
              "    </tr>\n",
              "    <tr>\n",
              "      <th>1</th>\n",
              "      <td>0.005179</td>\n",
              "      <td>0.002040</td>\n",
              "      <td>0.413828</td>\n",
              "      <td>-0.169903</td>\n",
              "      <td>0.185749</td>\n",
              "      <td>-1.762019</td>\n",
              "      <td>-0.887953</td>\n",
              "    </tr>\n",
              "    <tr>\n",
              "      <th>2</th>\n",
              "      <td>-0.199947</td>\n",
              "      <td>-0.370380</td>\n",
              "      <td>1.421788</td>\n",
              "      <td>-0.770278</td>\n",
              "      <td>0.196415</td>\n",
              "      <td>-0.647693</td>\n",
              "      <td>-1.157887</td>\n",
              "    </tr>\n",
              "    <tr>\n",
              "      <th>3</th>\n",
              "      <td>-0.356398</td>\n",
              "      <td>-0.486762</td>\n",
              "      <td>1.021134</td>\n",
              "      <td>-0.694946</td>\n",
              "      <td>0.308408</td>\n",
              "      <td>-0.939367</td>\n",
              "      <td>-1.199098</td>\n",
              "    </tr>\n",
              "    <tr>\n",
              "      <th>4</th>\n",
              "      <td>0.443244</td>\n",
              "      <td>0.327907</td>\n",
              "      <td>1.354309</td>\n",
              "      <td>0.067507</td>\n",
              "      <td>0.796380</td>\n",
              "      <td>-1.538624</td>\n",
              "      <td>-0.436690</td>\n",
              "    </tr>\n",
              "  </tbody>\n",
              "</table>\n",
              "</div>"
            ],
            "text/plain": [
              "       area  perimeter  ...  asymmetry_coefficient  kernel_groove_length\n",
              "0  0.137294   0.211526  ...              -0.964557             -0.343965\n",
              "1  0.005179   0.002040  ...              -1.762019             -0.887953\n",
              "2 -0.199947  -0.370380  ...              -0.647693             -1.157887\n",
              "3 -0.356398  -0.486762  ...              -0.939367             -1.199098\n",
              "4  0.443244   0.327907  ...              -1.538624             -0.436690\n",
              "\n",
              "[5 rows x 7 columns]"
            ]
          },
          "metadata": {},
          "execution_count": 61
        }
      ]
    },
    {
      "cell_type": "markdown",
      "metadata": {
        "id": "f-m97iLdgORy"
      },
      "source": [
        "---"
      ]
    },
    {
      "cell_type": "markdown",
      "metadata": {
        "id": "BAfB97qHiRtX"
      },
      "source": [
        "#### The Recipe of PCA\n",
        "\n",
        "As you might have understood so far, PCA is all about finding Principal Components for which the steps are as follows:\n",
        "\n",
        "\n",
        "<center>\n",
        "<img src=https://s3-whjr-v2-prod-bucket.whjr.online/whjr-v2-prod-bucket/c64fbd2d-4017-490a-a568-ad557a3eac30.png </center>\n"
      ]
    },
    {
      "cell_type": "markdown",
      "metadata": {
        "id": "o7ptGfgMus_I"
      },
      "source": [
        "---"
      ]
    },
    {
      "cell_type": "markdown",
      "metadata": {
        "id": "jE1KJu9ousOp"
      },
      "source": [
        "#### Covariance\n",
        "\n",
        "**Covariance** is a statistical parameter that indicates the relationship between two features (or variables).\n",
        " - If an increase in one variable results in an increase in the other variable, then both the variables are said to have **positive** covariance.\n",
        " - If an increase or decrease in one variable results in an opposite change in the other variable, then both the variables are said to have a **negative** covariance.\n",
        "\n",
        "Now, you might be wondering if this sounds exactly  like **correlation**. Well, not entirely. We will soon find out. Till then, to get a better understanding of both covariances, let's look at their mathematical formula.\n",
        "\n",
        "Let $x_1$ and $x_2$ be two different features of a DataFrame. Then, mathematically, **covariance** is defined as\n",
        "\n",
        "\\begin{align}\n",
        "\\text{cov}(x_1, x_2) = \\frac{1}{N}\\sum_{i = 1} ^N (x_{1i} - \\bar x_1)(x_{2i} - \\bar x_2)\n",
        "\\end{align}\n",
        "\n",
        "Where,\n",
        "\n",
        "- $\\bar x_1$ is the mean value of feature $x_1$\n",
        "- $\\bar x_2$ is the mean value of feature $x_2$\n",
        "- $N$ is the total number of samples in a DataFrame\n",
        "- $i$ is one of the samples in a DataFrame\n",
        "\n",
        "\n"
      ]
    },
    {
      "cell_type": "markdown",
      "metadata": {
        "id": "XqCGJAn8auOR"
      },
      "source": [
        "---"
      ]
    },
    {
      "cell_type": "markdown",
      "metadata": {
        "id": "SXu9ZXpF2gIP"
      },
      "source": [
        "#### Dot Product of Vectors and its Matrix Representation\n",
        "\n",
        "\n",
        "Mathematically the **dot product** of two vectors $\\vec a$ and $\\vec b$ is defined as:\n",
        "\n",
        "\\begin{equation}\n",
        "\\vec a . \\vec b = |\\vec a| |\\vec b| \\text{cos} \\space \\theta\n",
        "\\tag{3.1}\n",
        "\\end{equation}\n",
        "\n",
        "Where, $\\theta$ is the angle between vectors $\\vec a$ and $\\vec b$. The result of this dot product is a scalar value. Hence, it is also commonly known as **scalar product** or **inner product** of two vectors.\n",
        "\n",
        "**Dot product in matrix notation:**\n",
        "\n",
        "\n",
        "Let us represent the vectors $\\vec{a}$ and $\\vec{b}$ in matrix form as follows:\n",
        "\n",
        "\\begin{matrix}  \n",
        "{a} = \\begin{bmatrix} a_1 \\\\ a_2 \\\\ a_3 \\\\ \\vdots \\\\ a_n \\end{bmatrix}_{n \\times 1} &\n",
        "{b} = \\begin{bmatrix} b_1 \\\\ b_2 \\\\ b_3 \\\\ \\vdots \\\\ b_n \\end{bmatrix}_{n \\times 1}\n",
        "\\end{matrix}  \n",
        "\n",
        "The dot product of $\\vec{a}$ and $\\vec{b}$ can also be calculated as:\n",
        "\n",
        "\n",
        "\\begin{equation}\n",
        "\\vec a . \\vec b = [(a_1 b_1) + (a_2 b_2) + (a_3 b_3) + \\dots + (a_n b_n)]\n",
        "\\tag{3.2}\n",
        "\\end{equation}\n",
        "\n",
        "If we try to multiply the above two vectors $\\vec{a}$ and $\\vec{b}$ using matrix multiplication, their product will not be defined. This is because, as per the rules of matrix multiplication, the number of columns of the first matrix must match the number of rows of the second matrix.\n",
        "\n",
        "To rectify this problem, we can take transpose of the first matrix, turning it into a $1 n$ row matrix as follows:\n",
        "\n",
        "\\begin{matrix}  \n",
        "a^T = \\begin{bmatrix} a_1 & a_2 & a_3 & \\cdots & a_n \\end{bmatrix}_{1 \\times n} &&\n",
        "{b} = \\begin{bmatrix} b_1 \\\\ b_2 \\\\ b_3 \\\\ \\vdots \\\\ b_n \\end{bmatrix}_{n \\times 1}\n",
        "\\end{matrix}  \n",
        "\n",
        "After taking transpose of $\\vec{a}$, the product of vectors $\\vec{a}$ and $\\vec{b}$ is now well-defined as the number of columns of $\\vec{a}$ is now equal to the number of rows of  $\\vec{b}$ .\n",
        "\n",
        "\n",
        "\\begin{align}  \n",
        "a^Tb &= \\begin{bmatrix} a_1 & a_2 & a_3 & \\cdots & a_n \\end{bmatrix} \\begin{bmatrix} b_1 \\\\ b_2 \\\\ b_3 \\\\ \\vdots \\\\ b_n \\end{bmatrix} \\\\\n",
        "&= [(a_1 b_1) + (a_2 b_2) + (a_3 b_3) + \\dots + (a_n b_n)]\n",
        "\\end{align}  \n",
        "\n",
        "You may observe that the result of  above matrix multiplication $a^Tb$ is equivalent to the dot product of $\\vec{a} . \\vec{b}$ (Equation $3.2$).\n",
        "\n",
        "Thus,\n",
        "\\begin{equation}\n",
        "\\boxed{\\vec a . \\vec b = a^Tb}\n",
        "\\tag{3.3}\n",
        "\\end{equation}\n",
        "\n",
        "In Python, we can obtain dot product of two vectors or matrices using `dot()` function of `numpy` module.\n",
        "\n",
        "\n",
        "\n",
        "\n",
        "\n"
      ]
    },
    {
      "cell_type": "markdown",
      "metadata": {
        "id": "K9Lae1NdItrI"
      },
      "source": [
        "---"
      ]
    },
    {
      "cell_type": "markdown",
      "metadata": {
        "id": "CUIJjNW2Ivc5"
      },
      "source": [
        "#### Projection of Vectors\n",
        "\n",
        "Let's say we have two vectors $\\vec u$ and $\\vec v$ and the vector $\\vec u$ makes an angle $\\theta$ with respect to vector $\\vec v$ as shown in image below:\n",
        "\n",
        "<center><img src=https://s3-whjr-v2-prod-bucket.whjr.online/a59e9078-e6ed-4aad-b39c-f11f9dd821d0.png width = 700></center>\n",
        "\n",
        "Imagine a light source, parallel to $\\vec v$ , above $\\vec u$. The light would cast rays perpendicular or orthogonal to $\\vec v$.\n",
        "\n",
        "$g$ is the shadow cast by $\\vec u$ on $\\vec v$. This shadow vector is known as the **projection** of vector $\\vec u$ on vector $\\vec v$.\n",
        "\n",
        " The line segment $g$ indicates the magnitude or length of this shadow vector and is also known as the **projection** of $\\vec u$ on $\\vec v$ or $\\text{proj}_\\vec{v} \\vec {u}$. Let us determine the value  of $g$.\n",
        "\n",
        "**Projection  of $\\vec u$ on $\\vec v$:**\n",
        "\n",
        "We know that as per the trigonometry ratios of an angle $θ$  in a right-angled triangle:\n",
        "\n",
        "\\begin{align}\n",
        "\\text{cos} \\space \\theta &= \\frac{\\text {Base}}{\\text {Hypotenuse}}\n",
        "\\end{align}\n",
        "\n",
        "In the above image,\n",
        "- $\\text{Base} = g$\n",
        "- $\\text{Hypotenuse} = |\\vec {u}|$\n",
        "\n",
        "Therefore,\n",
        "\n",
        "\\begin{align}\n",
        "\\text{cos} \\space \\theta &= \\frac{\\text {g}}{|\\vec {u}|}\n",
        "\\end{align}\n",
        "\n",
        "This can be rewritten as:\n",
        "\\begin{align}\n",
        "\\text {g} &= |\\vec {u}| \\text{cos} \\space \\theta \\\\\n",
        "\\tag{4.1}\n",
        "\\end{align}\n",
        "\n",
        "Recall the dot product formula of two vectors (equation $(3.1)$):\n",
        "\n",
        "\\begin{align}\n",
        "\\vec u . \\vec v &= |\\vec u| |\\vec v| \\text{cos} \\space \\theta \\\\\n",
        "\\Rightarrow\n",
        "\\text{cos} \\space \\theta &= \\frac{\\vec u . \\vec v }{|\\vec u| |\\vec v|}\n",
        "\\tag{4.2}\n",
        "\\end{align}\n",
        "\n",
        "Let us substitute this value of   $\\text{cos} \\space \\theta$ in the equation $(4.1)$.\n",
        "\n",
        "\\begin{align}\n",
        "\\text {g} &= |\\vec {u}| \\times  \\frac{\\vec u . \\vec v }{|\\vec u| |\\vec v|} \\\\\n",
        "&= \\frac{\\vec u . \\vec v }{|\\vec v|} \\\\\n",
        "\\end{align}\n",
        "\n",
        "Thus, the formula for calculating the projection of vector $\\vec u$ onto another vector $\\vec v$ is:\n",
        "\n",
        "\\begin{equation}\n",
        "\\boxed{\\text{proj}_{\\vec{v} \\vec {u}} = \\frac{\\vec u . \\vec v }{|\\vec v|}}\n",
        "\\tag{4.3}\n",
        "\\end{equation}\n",
        "\n",
        "\n",
        "Now that we have explored all the necessary concepts needed to understand the working of PCA, let us now learn how to determine the desired principal components or vectors mathematically.\n",
        "\n",
        "\n"
      ]
    },
    {
      "cell_type": "markdown",
      "metadata": {
        "id": "lOHH4A7skbCo"
      },
      "source": [
        "---"
      ]
    },
    {
      "cell_type": "markdown",
      "metadata": {
        "id": "osNB0QEIUL8p"
      },
      "source": [
        "#### Maximising  Variance\n",
        "\n",
        "Given the set of observations ${x_i}$  in a $d$-dimensional dataset where, $i = 1, 2, …, N$.\n",
        "\n",
        "Our goal is to find the projection of $x_i$ onto a space with dimensions $k < d$ such that it gives maximum variance.\n",
        "\n",
        "We’ll start by looking for a one-dimensional projection. We define a vector $u_1$ as the direction of the lower-dimensional space.\n",
        "\n",
        "<center>\n",
        "<img src=\"https://s3-whjr-v2-prod-bucket.whjr.online/4ebdf0ff-eafb-440d-b0e7-361f804bc732.jpg\"/></center>\n",
        "\n",
        "Since we are only interested in the direction of  this vector, we will consider $u_1$ to be a unit vector i.e. $|\\vec u_1| = 1$.\n",
        "\n",
        "The projection of a data vector $x_i$ onto\n",
        "the unit vector $\\vec u$ can be given as:\n",
        "\\begin{equation}\n",
        "\\text{proj}_\\vec{u_1} \\vec {x_i}=\\frac{\\vec u_1 . \\vec x_i }{|\\vec u_1|}\n",
        "\\tag{from equation 4.3 }\n",
        "\\end{equation}\n",
        "\n",
        "As, $|\\vec u_1| = 1$ and $\\vec u_1 . \\vec x_i = u_1^T.x$ (from equation $3.3$),\n",
        "\n",
        "\\begin{equation}\n",
        "\\text{proj}_\\vec{u_1} \\vec {x_i}= u_1^T.x_i\n",
        "\\tag{5.1}\n",
        "\\end{equation}\n",
        "\n",
        "If $\\bar{x}$ is the mean of the data observations $x_i$ in the original space, then the mean of $x_i$ in the projected space is given by:\n",
        "\n",
        "\\begin{equation}\n",
        "\\text{proj}_\\vec{u_1} \\bar {x}= u_1^T.\\bar{x}\n",
        "\\tag{5.2}\n",
        "\\end{equation}\n",
        "\n",
        "**Calculating variance:**\n",
        "\n",
        "The variance of a dataset from its mean is calculated by finding the difference between each data value and the mean, squaring the differences and then finding the sum of all squared differences.\n",
        "\n",
        "Thus, the variance of projections is given as:\n",
        "\n",
        "\n",
        "\\begin{align}\n",
        "\\text {var}(x_i) &= \\frac{1}{N} \\sum\\limits_{i = 1}^N \\bigg[\\text{proj}_\\vec{u_1} \\vec {x_i} - \\text{proj}_\\vec{u_1} \\bar {x}\\bigg]^2 \\\\\n",
        "&= \\frac{1}{N} \\sum\\limits_{i = 1}^N \\bigg[u_1^T.x_i - u_1^T.\\bar{x}\\bigg]^2 \\\\\n",
        "&= \\frac{1}{N} \\sum\\limits_{i = 1}^N \\bigg[u_1^T .(x_i - \\bar{x})\\bigg]^2 \\\\\n",
        "&= \\frac{1}{N} \\sum\\limits_{i = 1}^N \\underbrace{\\bigg[u_1^T . (x_i - \\bar{x})\\bigg]}_\\text{1st term} \\underbrace{\\bigg[u_1^T . (x_i - \\bar{x})\\bigg]}_\\text{2nd term} \\\\ \\\\\n",
        "\\end{align}\n",
        "\n",
        "The $2^{nd}$ term in the above equation can also be written as : $\\bigg[u_1. (x_i - \\bar{x})^T\\bigg]$ as both $u_1$ and $(x_i - \\bar{x})$ are vectors and their dot product will be same no matter in whichever order we take transpose i.e.\n",
        "\n",
        "$\\bigg[u_1^T. (x_i - \\bar{x})\\bigg] \\equiv \\bigg[u_1. (x_i - \\bar{x})^T\\bigg]$\n",
        "\n",
        "Thus,\n",
        "\n",
        "\\begin{align}\n",
        "\\text {var}(x_i) &= \\frac{1}{N} \\sum\\limits_{i = 1}^N \\bigg[u_1^T . (x_i - \\bar{x})\\bigg]\\bigg[u_1 . (x_i - \\bar{x})^T\\bigg] \\\\\n",
        "&= u_1^T. u_1.\\frac{1}{N} \\sum\\limits_{i = 1}^N \\bigg[(x_i - \\bar{x}).(x_i - \\bar{x})^T \\bigg] \\\\\n",
        "&= u_1^T. S. u_1 \\\\\n",
        "\\end{align}\n",
        "\n",
        "Where, $S$ is the  covariance matrix of the observed data in the original high dimensional space.\n",
        "\n",
        "\n",
        "$S = \\frac{1}{N} \\sum\\limits_{i = 1}^N \\bigg[(x_i - \\bar{x}).(x_i - \\bar{x})^T \\bigg]$\n",
        "\n",
        "**Note:** Such covariance matrix is known as **closed form of covariance matrix**. We will not explore this in much detail.\n",
        "\n",
        "Thus,\n",
        "\\begin{align}\n",
        "\\text {var}(x_i) = u_1^T. S. u_1\n",
        "\\end{align}\n",
        "\n",
        "Our goal is to obtain a vector $u_1$ such that it  maximises variance of projections i.e. $\\text{var}(x_i)$ with the constraint $|u_1| = 1$ or $u_1^T. u_1 = 1$.\n",
        "\n",
        "Thus, the maximisation function looks like this:\n",
        "\n",
        "\\begin{align}\n",
        "\\text{max} \\space && u_1^T. S. u_1 \\\\\n",
        "\\text{subject to} \\space && u_1^T. u_1 = 1\n",
        "\\end{align}\n",
        "\n",
        "Such problems of constrained optimization can be solved easily using **Lagrangian multipliers**.\n",
        "This technique says that if we need to maximise a function $f(x)$ subject to constraint $g(x)=c$, we introduce the Lagrange multiplier $\\lambda$ and construct the Lagrangian $\\mathcal{L}(x, \\lambda)$:\n",
        "\n",
        "$$\\mathcal{L}(x, \\lambda) = f(x) - \\lambda (g(x) - c)$$\n",
        "\n",
        "In our case,\n",
        "- $f(x) = u_1^T. S. u_1$\n",
        "- $g(x) = u_1^T. u_1$\n",
        "- $c = 1$\n",
        "\n",
        "Thus, our Lagrangian is:\n",
        "\n",
        "$$\\mathcal{L}(u_1, \\lambda_1) = u_1^T. S. u_1 - \\lambda_1 (u_1^T. u_1 - 1)$$\n",
        "\n",
        "Taking partial derivative of above lagrangian function with respect to $u_1$,\n",
        "\n",
        "\\begin{align}\n",
        "\\frac{\\partial \\mathcal{L}}{\\partial u_1} = 2.S.u_1 - 2 .\\lambda_1. u_1\n",
        "\\end{align}\n",
        "\n",
        "Equating the above equation to $0$, we get\n",
        "\\begin{align}\n",
        "2.S.u_1 - 2 .\\lambda_1. u_1 = 0 \\\\\n",
        "S.u_1 - \\lambda_1. u_1 = 0 \\\\\n",
        "\\boxed{S.u_1 = \\lambda_1. u_1} \\tag{5.3}\n",
        "\\end{align}\n",
        "\n",
        "This desired vector $u_1$ is nothing but an **eigenvector** of the covariance matrix $S$, and the maximum variance is equal to the **eigenvalue** $\\lambda_1$. This is good news because all you need to do is find eigenvectors having the largest eigenvalue and you will get your principal component or the desired dimension.\n",
        "\n",
        "Similarly, we can obtain additional principal components  by choosing directions that maximise variance while being orthogonal to the existing ones.\n",
        "\n",
        "Let us now understand the concept of Eigenvectors and Eigenvalues in detail and how to calculate them using Python.\n"
      ]
    },
    {
      "cell_type": "markdown",
      "metadata": {
        "id": "tcU6304LJ-q-"
      },
      "source": [
        "---"
      ]
    },
    {
      "cell_type": "markdown",
      "metadata": {
        "id": "kzNRjEuhkzPK"
      },
      "source": [
        "#### Activity 1: Understanding Eigenvectors and Eigenvalues\n",
        "\n",
        "Let us first understand linear transformations in 1D and 2D.\n",
        "\n",
        "**Linear Transformation in 1D Data:**\n",
        "\n",
        "Consider the following function having one dimension $x$:\n",
        "\n",
        " $$f(x) = 2x + 3$$\n",
        "\n",
        "If $x = 2$, then $f(x) = 2 \\times 2 + 3 = 7$\n",
        "\n",
        "<center>\n",
        "<img src = \"https://s3-whjr-v2-prod-bucket.whjr.online/363834b6-1b34-44f1-a0fd-1733cd2ec392.png\"/>  \n",
        "\n",
        "`Fig: 1D Linear Transformation`</center>\n",
        "\n",
        "Thus, the function $f(x)$ transforms $2$ to $7$.\n",
        "\n",
        "**Linear Transformation in 2D Data:**\n",
        "\n",
        "For 2D data, we use a transformation matrix to transform the data items.\n",
        "\n",
        "For example, consider a vector $\\vec v = (v_x, v_y)$.\n",
        "\n",
        "\\begin{matrix}  \n",
        "\\overbrace{\\begin{bmatrix} 2 & 1 \\\\ 1.5 & 2 \\end{bmatrix}}^A .\n",
        "\\overbrace{\\begin{bmatrix} 0.75 \\\\ 0.25 \\end{bmatrix}}^\\vec v =\n",
        "\\overbrace{\\begin{bmatrix} 1.75 \\\\ 1.625 \\end{bmatrix}}^\\vec b\n",
        "\\end{matrix}  \n",
        "\n",
        "\n",
        "In the above equation, the transformation matrix $A$ transforms a vector $\\vec v$ into another vector $\\vec b$.\n",
        "\n",
        "<center>\n",
        "<img src=\"https://s3-whjr-v2-prod-bucket.whjr.online/dc32811f-248b-4cdf-b68a-fbc05ffa0be3.png\"/>\n",
        "\n",
        "`Fig: 2D Linear Transformation` </center>\n",
        "\n",
        "In the graph below, we can see how matrix $A$ transformed the short vector $\\vec v$ into the long vector $\\vec b$.\n",
        "\n",
        "<center>\n",
        "<img src=\"https://s3-whjr-v2-prod-bucket.whjr.online/36b35ee8-7511-479f-a8e2-ef43eb045d7a.PNG\"/></center>\n",
        "\n",
        "In this transformation, both the magnitude (length) and the direction of the original vector is changed.\n",
        "\n",
        "\n",
        "Consider the vector $(2,1)$ in the following graph:\n",
        "<center>\n",
        "<img src=\"https://s3-whjr-v2-prod-bucket.whjr.online/b9de4fc0-0934-4a0d-8bae-08a802e2a00a.png\"/></center>\n",
        "\n",
        "Here, the vector $(2, 1)$ is transformed into another vector $(4, 2)$. You may observe that the linear transformation changed the magnitude of original vector but the direction of both the vectors is still the same. Such special vectors are called **Eigenvectors**.\n",
        "\n",
        "\n",
        "**What are Eigenvectors?**\n",
        "\n",
        "- An Eigenvector is a vector whose direction remains unchanged when a linear transformation is applied to it.\n",
        "- Eigenvectors satisfy the following equation:\n",
        "$$Av = \\lambda v$$\n",
        "Where,\n",
        "  -  $A$ is an $(n \\times n)$ transformation matrix.\n",
        "  - $v$ is the Eigenvector.\n",
        "  - $\\lambda$ is the magnitude of the scaled vector. It is also known as **Eigenvalue**.\n",
        "  - Thus, $\\vec v$ will become $A \\vec v$ by simply stretching $\\vec v$ in the same direction as shown in the image below.\n",
        "\n",
        "    <img src =\"https://s3-whjr-v2-prod-bucket.whjr.online/da8e7e35-ca3f-4422-b99f-3f5a35e44ed0.png\"/>\n",
        "\n",
        "**Eigenvectors and Eigenvalues in PCA:**\n",
        "\n",
        "The eigenvectors and eigenvalues of a covariance matrix is the core of PCA:\n",
        "- The eigenvectors (principal components) determine the directions of the new axis.\n",
        "- The eigenvalues determine their magnitude (variance explained along the principal components).\n",
        "\n",
        "In PCA, the original axis is rotated by some degree to obtain a new axis that shows the direction of maximum variance in the dataset.\n",
        "<center>\n",
        "<img src=https://s3-whjr-v2-prod-bucket.whjr.online/95a92a74-7087-4798-8dc7-dae1662f6468.png width='500'></center>\n",
        "\n",
        "This new axis (green colour axis) which covers the maximum variance in the dataset is the first eigenvector or the **first principal component**.\n",
        "\n",
        "The second Eigenvector or second principal component will be perpendicular or orthogonal to the first one (red colour axis). The reason the two eigenvectors are orthogonal to each other is because the Eigenvectors should be able to span the whole x-y area. As our dummy dataset had 2 dimensions, there will be 2 principal components or eigenvectors.\n",
        "\n",
        "Thus, determining eigenvectors and eigenvalues will give us the desired new axis or the principal components. Let us now learn how to calculate Eigenvalues and Eigenvectors for our dummy dataset using Python.\n",
        "\n",
        "\n",
        "\n"
      ]
    },
    {
      "cell_type": "markdown",
      "metadata": {
        "id": "iMplbYmWqjwK"
      },
      "source": [
        "---"
      ]
    },
    {
      "cell_type": "markdown",
      "metadata": {
        "id": "4EvAxf85qlHd"
      },
      "source": [
        "#### Activity 2: Computing Eigenvalues and Eigenvectors\n",
        "\n",
        "Let us compute the eigenvalues and eigenvectors of the scaled wheat kernel DataFrame `wheat_scaled` using `numpy` module. For this,\n",
        "1. Import `linalg` module from `numpy` module.\n",
        "2. Obtain the covariance matrix of scaled DataFrame using `cov()` function.\n",
        "3. Pass this covariance matrix as input to `eig()` function of `linalg` module.\n",
        "\n",
        "The `eig()` function returns the eigenvalues and eigenvectors of the corresponding covariance matrix."
      ]
    },
    {
      "cell_type": "code",
      "metadata": {
        "colab": {
          "base_uri": "https://localhost:8080/"
        },
        "id": "bo3fhXpyvdHj",
        "outputId": "1d9e79d9-dcfa-48c6-ee13-27a106120ecc"
      },
      "source": [
        "# S2.1: Compute eigenvalues and eigenvectors for scaled wheat kernel DataFrame\n",
        "from numpy import linalg\n",
        "# Compute covariance matrix\n",
        "wheat_cov_matrix = wheat_scaled.cov()\n",
        "# Use 'linalg.eig()' function to obtain eigenvectors and eigenvalues\n",
        "wheat_eigenval, wheat_eigenvec = linalg.eig(wheat_cov_matrix)\n",
        "print(\"Eigen Vectors: \\n\", wheat_eigenvec)\n",
        "print(\"Eigen Values for corresponding eigenvector: \",wheat_eigenval)"
      ],
      "execution_count": null,
      "outputs": [
        {
          "output_type": "stream",
          "name": "stdout",
          "text": [
            "Eigen Vectors: \n",
            " [[ 0.44612962  0.01777889 -0.02352323  0.1844038   0.2060912  -0.73711055\n",
            "  -0.42460409]\n",
            " [ 0.44340785  0.07649883  0.06297692  0.29095853  0.18540484  0.66804226\n",
            "  -0.47776463]\n",
            " [ 0.27102541 -0.53923669 -0.62375265 -0.32767729 -0.33709953  0.07600323\n",
            "  -0.14112643]\n",
            " [ 0.42466765  0.20113529  0.21736309  0.27156576 -0.76627656 -0.0428862\n",
            "   0.26303672]\n",
            " [ 0.43383285 -0.12662086 -0.2104112   0.19993045  0.45888136  0.03741832\n",
            "   0.70678067]\n",
            " [-0.0975078   0.71534547 -0.68477516  0.09083114 -0.03506532  0.00394929\n",
            "  -0.01898959]\n",
            " [ 0.39094981  0.3672169   0.21442154 -0.8074624   0.10263492  0.03682577\n",
            "   0.0494754 ]]\n",
            "Eigen Values for corresponding eigenvector:  [5.02516274e+00 1.24421571e+00 6.82872292e-01 5.78625912e-02\n",
            " 1.99059203e-02 8.37191350e-04 5.41298415e-03]\n"
          ]
        }
      ]
    },
    {
      "cell_type": "markdown",
      "metadata": {
        "id": "E88tbRmmwXZY"
      },
      "source": [
        "Observe the eigenvalues obtained in the output. As the original dataset had 7 dimensions, we obtained 7 eigenvalues ($\\lambda_1$ to $\\lambda_7$ ).\n",
        "\n",
        "Please note that the `np.linalg.eig()` function lists the entries of the eigenvectors column wise.\n",
        "Thus, the first column of the eigenvector array is the first principal component, second column is the second principal component and so on.\n",
        "\n",
        "You can also take the transpose of the eigenvector array to obtain eigenvectors row-wise using `T` attribute."
      ]
    },
    {
      "cell_type": "code",
      "metadata": {
        "colab": {
          "base_uri": "https://localhost:8080/"
        },
        "id": "3pGk5rk5xiNz",
        "outputId": "917d2997-b3f0-4456-a4dd-982a16974401"
      },
      "source": [
        "# S2.2: Take transpose of eigenvector array.\n",
        "wheat_eigenvec_t = wheat_eigenvec.T\n",
        "wheat_eigenvec_t"
      ],
      "execution_count": null,
      "outputs": [
        {
          "output_type": "execute_result",
          "data": {
            "text/plain": [
              "array([[ 0.44612962,  0.44340785,  0.27102541,  0.42466765,  0.43383285,\n",
              "        -0.0975078 ,  0.39094981],\n",
              "       [ 0.01777889,  0.07649883, -0.53923669,  0.20113529, -0.12662086,\n",
              "         0.71534547,  0.3672169 ],\n",
              "       [-0.02352323,  0.06297692, -0.62375265,  0.21736309, -0.2104112 ,\n",
              "        -0.68477516,  0.21442154],\n",
              "       [ 0.1844038 ,  0.29095853, -0.32767729,  0.27156576,  0.19993045,\n",
              "         0.09083114, -0.8074624 ],\n",
              "       [ 0.2060912 ,  0.18540484, -0.33709953, -0.76627656,  0.45888136,\n",
              "        -0.03506532,  0.10263492],\n",
              "       [-0.73711055,  0.66804226,  0.07600323, -0.0428862 ,  0.03741832,\n",
              "         0.00394929,  0.03682577],\n",
              "       [-0.42460409, -0.47776463, -0.14112643,  0.26303672,  0.70678067,\n",
              "        -0.01898959,  0.0494754 ]])"
            ]
          },
          "metadata": {},
          "execution_count": 74
        }
      ]
    },
    {
      "cell_type": "markdown",
      "metadata": {
        "id": "TBkwUMRax3is"
      },
      "source": [
        "Thus, in the above output, the first row indicates the first eigenvector or principal component coordinates for 7-dimensions, second row indicates the second eigenvector or principal component and so on.\n",
        "\n",
        "\n",
        "\n",
        "**Choosing Top $k$ Eigenvectors:**\n",
        "\n",
        "\n",
        "Recall that the typical goal of a PCA is to reduce the dimensionality of the original feature space.\n",
        "\n",
        "From the above eigenvectors, we need to decide which eigenvector(s) can be dropped without losing too much information to obtain a lower-dimensional subspace. For this, we need to inspect the corresponding eigenvalues of these eigenvectors.\n",
        "\n",
        "Let us rank the eigenvalues from highest to lowest to understand which eigenvalue bears the highest information (variance). This can be calculated in the following way:\n",
        "\n",
        "Variance carried by first principal component:\n",
        "\\begin{align}\n",
        "\\frac{\\lambda _1}{\\lambda _1 + \\lambda _2 + \\lambda _3 + \\lambda _4 + \\lambda _5 + \\lambda _6 + \\lambda _7} = \\frac{5.0252}{7.0362} = 0.71\n",
        "\\end{align}\n",
        "\n",
        "\n",
        "\n",
        "Variance carried by second principal component:\n",
        "\n",
        "\\begin{align}\n",
        "\\frac{\\lambda _2}{\\lambda _1 + \\lambda _2 + \\lambda _3 + \\lambda _4 + \\lambda _5 + \\lambda _6 + \\lambda _7} = \\frac{1.2442}{7.0362} = 0.18\n",
        "\\end{align}\n",
        "\n",
        "Similarly, you can determine the amount of information or variance carried by each principal component by obtaining the ratio of variance (eigenvalue / total eigenvalues) i.e.\n",
        "\n",
        "\\begin{align}\n",
        "\\frac{\\lambda _i}{\\lambda _1 + \\lambda _2 + ...+ \\lambda _n}  \n",
        "\\end{align}\n",
        "Where, $\\lambda_i$ represents the eigenvalue for the corresponding $i^{th}$ eigenvector. This variance ratio is known as **Explained Variance**.\n",
        "\n",
        "Let us obtain the explained variance of all 7 principal components by dividing each eigenvalue by the sum of all eigenvalues using Python.\n"
      ]
    },
    {
      "cell_type": "code",
      "metadata": {
        "colab": {
          "base_uri": "https://localhost:8080/"
        },
        "id": "tEhjj7jc0x0T",
        "outputId": "9574a514-5b60-42a6-ba5c-78cd5c411089"
      },
      "source": [
        "# S2.3: Obtain explained variance of all 7 PCs\n",
        "explained_variance_ratio= np.round(wheat_eigenval / wheat_eigenval.sum(), 2)\n",
        "print('Variance Explained: ', explained_variance_ratio)"
      ],
      "execution_count": null,
      "outputs": [
        {
          "output_type": "stream",
          "name": "stdout",
          "text": [
            "Variance Explained:  [0.71 0.18 0.1  0.01 0.   0.   0.  ]\n"
          ]
        }
      ]
    },
    {
      "cell_type": "markdown",
      "metadata": {
        "id": "7voqeHaJ3zLx"
      },
      "source": [
        "We can see here that the first principal component comprises 71% of the variation within the data, and thus, most of the information. With each subsequent component, less information is contributed to the compressed data.\n",
        "\n",
        "Let us also plot the variance explained by each principal component on a bar plot.\n"
      ]
    },
    {
      "cell_type": "code",
      "metadata": {
        "colab": {
          "base_uri": "https://localhost:8080/",
          "height": 405
        },
        "id": "4xkmtMLC3ya5",
        "outputId": "b73ac677-e4b0-49df-e55b-7f76de438085"
      },
      "source": [
        "# S2.4: Plot the variance explained by each PC\n",
        "plt.figure(figsize = (10, 6))\n",
        "plt.bar(range(1, explained_variance_ratio.shape[0] + 1), explained_variance_ratio)\n",
        "plt.ylabel('Percentage of explained variance')\n",
        "plt.xlabel('Dimensions')"
      ],
      "execution_count": null,
      "outputs": [
        {
          "output_type": "execute_result",
          "data": {
            "text/plain": [
              "Text(0.5, 0, 'Dimensions')"
            ]
          },
          "metadata": {},
          "execution_count": 76
        },
        {
          "output_type": "display_data",
          "data": {
            "image/png": "[encoded data removed]",
            "text/plain": [
              "<Figure size 720x432 with 1 Axes>"
            ]
          },
          "metadata": {
            "needs_background": "light"
          }
        }
      ]
    },
    {
      "cell_type": "markdown",
      "metadata": {
        "id": "TJXeub0P4H9Q"
      },
      "source": [
        "From the above plot, it is observed that:\n",
        "\n",
        "- Most of the variance (approx $71\\%$) can be explained by the first principal component alone.\n",
        "- The second and third principal component still bears some information (approx $18\\%$ and $10\\%$ respectively).\n",
        "- The other principal components can be safely dropped without losing too much information.\n",
        "\n",
        "- Together, the first two principal components explain approx $89\\%$ ($71\\% + 18\\%$ ) of the variance. Hence, if we reduce our 7-dimensional dataset into 2 dimensions, it would retain approx $89\\%$ of the information.\n",
        "\n",
        "- Together, the first three principal components explain approx $99\\%$ ($71\\% + 18\\% + 10\\%$ ) of the variance. Hence, if we reduce our 7-dimensional dataset into 3 dimensions, it would retain approx $99\\%$ of the information.\n",
        "\n",
        "Hence, based on how much information you want to retain in the transformed dataset, you can decide the number of dimensions to be reduced."
      ]
    },
    {
      "cell_type": "markdown",
      "metadata": {
        "id": "ODNoYRIk6bFY"
      },
      "source": [
        "Recall the steps of PCA that we had studied in **\"The Recipe of PCA\"** section.\n",
        "\n",
        "<center>\n",
        "<img src=https://s3-whjr-v2-prod-bucket.whjr.online/whjr-v2-prod-bucket/c64fbd2d-4017-490a-a568-ad557a3eac30.png> </center>\n",
        "\n",
        "\n",
        "We have almost performed all the steps of PCA transformation. The last step  is to rotate our data to fit the transformed axis. But, *what will the coordinates of the rotated data be?* Let us find out."
      ]
    },
    {
      "cell_type": "markdown",
      "metadata": {
        "id": "BixMFZpN5BsS"
      },
      "source": [
        "---"
      ]
    },
    {
      "cell_type": "markdown",
      "metadata": {
        "id": "YCJsH2ny5DDz"
      },
      "source": [
        "#### Activity 3: Transformation to Original Dataset\n",
        "\n",
        "\n",
        "Once we have found the eigenvectors,  we now convert our original data as per the new axis. This means that, we need to find out the coordinates of the data points when they are rotated to fit this new axis. To understand this, refer to the 3 graphs given in the image below:\n",
        "\n",
        "<center>\n",
        "<img src= \"https://s3-whjr-v2-prod-bucket.whjr.online/298f99e0-dbd6-4ec8-bc61-99e9378266bf.png\"/></center>\n",
        "\n",
        "- The first graph illustrates the distribution of data along two features or dimensions.\n",
        "- In the second graph, the data is centered and new axis or principal components are determined.\n",
        "- In the third graph, the dimensions are now the new transformed axis i.e. `PC1` and `PC2` and the coordinates of the original data points are also transformed.\n",
        "\n",
        "\n",
        "To rotate the original data onto the new axis, we will multiply the original scaled data by Eigenvectors as follows:\n",
        "\n",
        "$$\\text{Transformed Data = [Scaled Data].[Eigenvectors]}$$\n",
        "\n",
        "Let us perform  dot multiplication of scaled dataset array with eigenvectors array.\n",
        "\n",
        "Before that, first determine the number of rows and columns of both the arrays.\n"
      ]
    },
    {
      "cell_type": "code",
      "metadata": {
        "colab": {
          "base_uri": "https://localhost:8080/"
        },
        "id": "BB2uG_iC9Guw",
        "outputId": "894d90e6-8d9c-4817-8ee6-157f452fe6da"
      },
      "source": [
        "# S3.1: Determine the shape of 'wheat_scaled' and 'wheat_eigenvec'\n",
        "print(\"Shape of scaled dataset\", wheat_scaled.shape)\n",
        "print(\"Shape of eigenvector array\", wheat_eigenvec.shape)"
      ],
      "execution_count": null,
      "outputs": [
        {
          "output_type": "stream",
          "name": "stdout",
          "text": [
            "Shape of scaled dataset (194, 7)\n",
            "Shape of eigenvector array (7, 7)\n"
          ]
        }
      ]
    },
    {
      "cell_type": "markdown",
      "metadata": {
        "id": "owMO2Pdn9YGn"
      },
      "source": [
        "As the number of columns of first array `wheat_scaled` is equal to the number of rows of second array `wheat_eigenvec`, we can perform dot multiplication on both the arrays. Use `np.dot()` function to obtain the dot product of both the arrays."
      ]
    },
    {
      "cell_type": "code",
      "metadata": {
        "colab": {
          "base_uri": "https://localhost:8080/"
        },
        "id": "Get9v13X9X46",
        "outputId": "ef56a08c-e54b-45ae-8f16-ab8f96f6c2bb"
      },
      "source": [
        "# S3.2: Obtain new coordinates of data points for the transformed axis.\n",
        "wheat_transformed = np.dot(wheat_scaled, wheat_eigenvec)\n",
        "wheat_transformed"
      ],
      "execution_count": null,
      "outputs": [
        {
          "output_type": "execute_result",
          "data": {
            "text/plain": [
              "array([[ 2.98083101e-01, -7.45778132e-01,  6.43882019e-01, ...,\n",
              "        -1.05737851e-01,  1.43896828e-02,  1.61666205e-02],\n",
              "       [-5.15302811e-02, -1.86712030e+00,  6.82057039e-01, ...,\n",
              "         4.80248564e-02,  3.57578358e-03,  1.45453886e-02],\n",
              "       [-4.99512480e-01, -1.86688915e+00, -9.18975513e-01, ...,\n",
              "        -4.91246815e-03,  3.19929630e-03, -4.75758021e-02],\n",
              "       ...,\n",
              "       [-1.35909630e+00,  1.32872992e+00, -2.90736781e+00, ...,\n",
              "        -2.14066181e-02,  3.32687392e-02,  9.40663816e-02],\n",
              "       [-2.36063731e+00, -2.33122328e-02,  3.61868543e-01, ...,\n",
              "         6.03246515e-02, -1.42776595e-02, -4.76914091e-02],\n",
              "       [-1.94917894e+00,  5.82452191e-01, -1.02519434e+00, ...,\n",
              "        -1.13217651e-01,  1.35771660e-03,  1.63789322e-02]])"
            ]
          },
          "metadata": {},
          "execution_count": 78
        }
      ]
    },
    {
      "cell_type": "markdown",
      "metadata": {
        "id": "0CMKf4AD-IoH"
      },
      "source": [
        "Here, the final matrix produced is the matrix multiplication of `wheat_scaled` and `wheat_eigenvec` which is a `194 x 7` matrix.\n",
        "\n",
        "Let us convert the above transformed matrix into a DataFrame and rename the columns.\n",
        "\n"
      ]
    },
    {
      "cell_type": "code",
      "metadata": {
        "colab": {
          "base_uri": "https://localhost:8080/",
          "height": 419
        },
        "id": "6XybHjfc-NM4",
        "outputId": "b73ffd7b-0fdb-41ef-a227-9147458d4bce"
      },
      "source": [
        "# Convert the array obtained after dot multiplication into a DataFrame.\n",
        "wheat_transformed_df = pd.DataFrame(np.array(wheat_transformed),\n",
        "                                    columns = ['PC1', 'PC2', 'PC3', 'PC4', 'PC5', 'PC6', 'PC7'])\n",
        "wheat_transformed_df"
      ],
      "execution_count": null,
      "outputs": [
        {
          "output_type": "execute_result",
          "data": {
            "text/html": [
              "<div>\n",
              "<style scoped>\n",
              "    .dataframe tbody tr th:only-of-type {\n",
              "        vertical-align: middle;\n",
              "    }\n",
              "\n",
              "    .dataframe tbody tr th {\n",
              "        vertical-align: top;\n",
              "    }\n",
              "\n",
              "    .dataframe thead th {\n",
              "        text-align: right;\n",
              "    }\n",
              "</style>\n",
              "<table border=\"1\" class=\"dataframe\">\n",
              "  <thead>\n",
              "    <tr style=\"text-align: right;\">\n",
              "      <th></th>\n",
              "      <th>PC1</th>\n",
              "      <th>PC2</th>\n",
              "      <th>PC3</th>\n",
              "      <th>PC4</th>\n",
              "      <th>PC5</th>\n",
              "      <th>PC6</th>\n",
              "      <th>PC7</th>\n",
              "    </tr>\n",
              "  </thead>\n",
              "  <tbody>\n",
              "    <tr>\n",
              "      <th>0</th>\n",
              "      <td>0.298083</td>\n",
              "      <td>-0.745778</td>\n",
              "      <td>0.643882</td>\n",
              "      <td>0.390331</td>\n",
              "      <td>-0.105738</td>\n",
              "      <td>0.014390</td>\n",
              "      <td>0.016167</td>\n",
              "    </tr>\n",
              "    <tr>\n",
              "      <th>1</th>\n",
              "      <td>-0.051530</td>\n",
              "      <td>-1.867120</td>\n",
              "      <td>0.682057</td>\n",
              "      <td>0.413886</td>\n",
              "      <td>0.048025</td>\n",
              "      <td>0.003576</td>\n",
              "      <td>0.014545</td>\n",
              "    </tr>\n",
              "    <tr>\n",
              "      <th>2</th>\n",
              "      <td>-0.499512</td>\n",
              "      <td>-1.866889</td>\n",
              "      <td>-0.918976</td>\n",
              "      <td>0.095684</td>\n",
              "      <td>-0.004912</td>\n",
              "      <td>0.003199</td>\n",
              "      <td>-0.047576</td>\n",
              "    </tr>\n",
              "    <tr>\n",
              "      <th>3</th>\n",
              "      <td>-0.636595</td>\n",
              "      <td>-1.885336</td>\n",
              "      <td>-0.489012</td>\n",
              "      <td>0.213888</td>\n",
              "      <td>0.075991</td>\n",
              "      <td>0.008613</td>\n",
              "      <td>0.233470</td>\n",
              "    </tr>\n",
              "    <tr>\n",
              "      <th>4</th>\n",
              "      <td>1.063661</td>\n",
              "      <td>-2.045596</td>\n",
              "      <td>-0.027448</td>\n",
              "      <td>0.123776</td>\n",
              "      <td>0.018455</td>\n",
              "      <td>0.000014</td>\n",
              "      <td>0.052241</td>\n",
              "    </tr>\n",
              "    <tr>\n",
              "      <th>...</th>\n",
              "      <td>...</td>\n",
              "      <td>...</td>\n",
              "      <td>...</td>\n",
              "      <td>...</td>\n",
              "      <td>...</td>\n",
              "      <td>...</td>\n",
              "      <td>...</td>\n",
              "    </tr>\n",
              "    <tr>\n",
              "      <th>189</th>\n",
              "      <td>-2.021721</td>\n",
              "      <td>-0.799995</td>\n",
              "      <td>-0.522772</td>\n",
              "      <td>-0.174900</td>\n",
              "      <td>-0.082187</td>\n",
              "      <td>-0.020105</td>\n",
              "      <td>-0.019290</td>\n",
              "    </tr>\n",
              "    <tr>\n",
              "      <th>190</th>\n",
              "      <td>-2.741592</td>\n",
              "      <td>0.287564</td>\n",
              "      <td>0.034551</td>\n",
              "      <td>-0.209599</td>\n",
              "      <td>-0.031151</td>\n",
              "      <td>-0.034074</td>\n",
              "      <td>0.059019</td>\n",
              "    </tr>\n",
              "    <tr>\n",
              "      <th>191</th>\n",
              "      <td>-1.359096</td>\n",
              "      <td>1.328730</td>\n",
              "      <td>-2.907368</td>\n",
              "      <td>0.023246</td>\n",
              "      <td>-0.021407</td>\n",
              "      <td>0.033269</td>\n",
              "      <td>0.094066</td>\n",
              "    </tr>\n",
              "    <tr>\n",
              "      <th>192</th>\n",
              "      <td>-2.360637</td>\n",
              "      <td>-0.023312</td>\n",
              "      <td>0.361869</td>\n",
              "      <td>-0.178248</td>\n",
              "      <td>0.060325</td>\n",
              "      <td>-0.014278</td>\n",
              "      <td>-0.047691</td>\n",
              "    </tr>\n",
              "    <tr>\n",
              "      <th>193</th>\n",
              "      <td>-1.949179</td>\n",
              "      <td>0.582452</td>\n",
              "      <td>-1.025194</td>\n",
              "      <td>-0.137784</td>\n",
              "      <td>-0.113218</td>\n",
              "      <td>0.001358</td>\n",
              "      <td>0.016379</td>\n",
              "    </tr>\n",
              "  </tbody>\n",
              "</table>\n",
              "<p>194 rows × 7 columns</p>\n",
              "</div>"
            ],
            "text/plain": [
              "          PC1       PC2       PC3       PC4       PC5       PC6       PC7\n",
              "0    0.298083 -0.745778  0.643882  0.390331 -0.105738  0.014390  0.016167\n",
              "1   -0.051530 -1.867120  0.682057  0.413886  0.048025  0.003576  0.014545\n",
              "2   -0.499512 -1.866889 -0.918976  0.095684 -0.004912  0.003199 -0.047576\n",
              "3   -0.636595 -1.885336 -0.489012  0.213888  0.075991  0.008613  0.233470\n",
              "4    1.063661 -2.045596 -0.027448  0.123776  0.018455  0.000014  0.052241\n",
              "..        ...       ...       ...       ...       ...       ...       ...\n",
              "189 -2.021721 -0.799995 -0.522772 -0.174900 -0.082187 -0.020105 -0.019290\n",
              "190 -2.741592  0.287564  0.034551 -0.209599 -0.031151 -0.034074  0.059019\n",
              "191 -1.359096  1.328730 -2.907368  0.023246 -0.021407  0.033269  0.094066\n",
              "192 -2.360637 -0.023312  0.361869 -0.178248  0.060325 -0.014278 -0.047691\n",
              "193 -1.949179  0.582452 -1.025194 -0.137784 -0.113218  0.001358  0.016379\n",
              "\n",
              "[194 rows x 7 columns]"
            ]
          },
          "metadata": {},
          "execution_count": 79
        }
      ]
    },
    {
      "cell_type": "markdown",
      "metadata": {
        "id": "LlDi42DP-ciT"
      },
      "source": [
        "You may observe that the above DataFrame obtained after dot multiplication has 194 rows and 7 columns. Each column represents the new coordinates of the 194 data points.\n",
        "- First column represents the coordinates of 194 data points for first axis (PC1). So, if we need only 1 dimension, we will consider only first column of the above array.\n",
        "- Similarly, the second column represents the coordinates of 194 data points for the second axis (PC2). So, if we need only 2 dimensions, we will consider only the first two columns of the above array and so on.\n",
        "\n",
        "Hence, we have transformed our original dataset into a new feature space. Let us visualise the above transformed data."
      ]
    },
    {
      "cell_type": "markdown",
      "metadata": {
        "id": "xXpdWley_Cp_"
      },
      "source": [
        "---"
      ]
    },
    {
      "cell_type": "markdown",
      "metadata": {
        "id": "woCl-rGfAilC"
      },
      "source": [
        "#### Activity 4: PCA 1D projection\n",
        "\n",
        "Suppose we need to transform our 7-dimensional dataset into 1 dimension. Hence, we would consider only the first column of the transformed matrix obtained after dot multiplication."
      ]
    },
    {
      "cell_type": "code",
      "metadata": {
        "colab": {
          "base_uri": "https://localhost:8080/",
          "height": 419
        },
        "id": "lsIGiEmjAvp3",
        "outputId": "5716b922-4d41-4a57-8015-5781e0681f80"
      },
      "source": [
        "# S4.1: Obtain the coordinates of the data points for PC1 axis.\n",
        "pc_1d_manual = wheat_transformed_df.iloc[:, :1]\n",
        "pc_1d_manual"
      ],
      "execution_count": null,
      "outputs": [
        {
          "output_type": "execute_result",
          "data": {
            "text/html": [
              "<div>\n",
              "<style scoped>\n",
              "    .dataframe tbody tr th:only-of-type {\n",
              "        vertical-align: middle;\n",
              "    }\n",
              "\n",
              "    .dataframe tbody tr th {\n",
              "        vertical-align: top;\n",
              "    }\n",
              "\n",
              "    .dataframe thead th {\n",
              "        text-align: right;\n",
              "    }\n",
              "</style>\n",
              "<table border=\"1\" class=\"dataframe\">\n",
              "  <thead>\n",
              "    <tr style=\"text-align: right;\">\n",
              "      <th></th>\n",
              "      <th>PC1</th>\n",
              "    </tr>\n",
              "  </thead>\n",
              "  <tbody>\n",
              "    <tr>\n",
              "      <th>0</th>\n",
              "      <td>0.298083</td>\n",
              "    </tr>\n",
              "    <tr>\n",
              "      <th>1</th>\n",
              "      <td>-0.051530</td>\n",
              "    </tr>\n",
              "    <tr>\n",
              "      <th>2</th>\n",
              "      <td>-0.499512</td>\n",
              "    </tr>\n",
              "    <tr>\n",
              "      <th>3</th>\n",
              "      <td>-0.636595</td>\n",
              "    </tr>\n",
              "    <tr>\n",
              "      <th>4</th>\n",
              "      <td>1.063661</td>\n",
              "    </tr>\n",
              "    <tr>\n",
              "      <th>...</th>\n",
              "      <td>...</td>\n",
              "    </tr>\n",
              "    <tr>\n",
              "      <th>189</th>\n",
              "      <td>-2.021721</td>\n",
              "    </tr>\n",
              "    <tr>\n",
              "      <th>190</th>\n",
              "      <td>-2.741592</td>\n",
              "    </tr>\n",
              "    <tr>\n",
              "      <th>191</th>\n",
              "      <td>-1.359096</td>\n",
              "    </tr>\n",
              "    <tr>\n",
              "      <th>192</th>\n",
              "      <td>-2.360637</td>\n",
              "    </tr>\n",
              "    <tr>\n",
              "      <th>193</th>\n",
              "      <td>-1.949179</td>\n",
              "    </tr>\n",
              "  </tbody>\n",
              "</table>\n",
              "<p>194 rows × 1 columns</p>\n",
              "</div>"
            ],
            "text/plain": [
              "          PC1\n",
              "0    0.298083\n",
              "1   -0.051530\n",
              "2   -0.499512\n",
              "3   -0.636595\n",
              "4    1.063661\n",
              "..        ...\n",
              "189 -2.021721\n",
              "190 -2.741592\n",
              "191 -1.359096\n",
              "192 -2.360637\n",
              "193 -1.949179\n",
              "\n",
              "[194 rows x 1 columns]"
            ]
          },
          "metadata": {},
          "execution_count": 80
        }
      ]
    },
    {
      "cell_type": "markdown",
      "metadata": {
        "id": "ARvNXAkoBFSO"
      },
      "source": [
        "These are the coordinates values of 194 data points for the first axis. Let us visualise these new coordinates values by creating a line plot."
      ]
    },
    {
      "cell_type": "code",
      "metadata": {
        "colab": {
          "base_uri": "https://localhost:8080/",
          "height": 458
        },
        "id": "cnr4Dc04BH1H",
        "outputId": "86d3c88e-2cb2-41fb-80fd-52100b941f47"
      },
      "source": [
        "# S4.2: Visualise 1D projection\n",
        "plt.figure(figsize=(10, 7))\n",
        "plt.plot(pc_1d_manual)\n",
        "plt.title('Manual PCA transformed 1D dataset')\n",
        "plt.xlabel('Data Points')\n",
        "plt.ylabel('PC1')\n",
        "plt.show()"
      ],
      "execution_count": null,
      "outputs": [
        {
          "output_type": "display_data",
          "data": {
            "image/png": "[encoded data removed]",
            "text/plain": [
              "<Figure size 720x504 with 1 Axes>"
            ]
          },
          "metadata": {
            "needs_background": "light"
          }
        }
      ]
    },
    {
      "cell_type": "markdown",
      "metadata": {
        "id": "2YUZHDwrBM6Z"
      },
      "source": [
        "Thus, we have reduced the dimensionality of our dataset to 1D by manually performing PCA. The explained variance for PC1 was `0.71`, which indicates that approx 71% of the original data is retained by PC1.\n",
        "\n",
        " Let us now perform PCA 1D projection using `sklearn` library and compare its results with manual PCA.\n",
        "\n",
        "**Using `sklearn` PCA:**\n",
        "\n",
        "We had already performed PCA using `sklearn` module in one of the previous classes. Let us recall the steps for the same.\n",
        "\n",
        "1. Import `PCA` from `sklearn.decomposition` module.\n",
        "2. Pass the number of components/dimensions to the PCA constructor using the following syntax:\n",
        "\n",
        "  **Syntax of PCA:** `PCA(n_components = None)`\n",
        "\n",
        "  Where, `n_components` is the number of components to keep. As we are projecting the dataset into  1 dimension, `n_components` would be `1` in this case.\n",
        "\n",
        "3. Call the `fit_transform()` function on PCA object to obtain the new set of features or principal components."
      ]
    },
    {
      "cell_type": "code",
      "metadata": {
        "colab": {
          "base_uri": "https://localhost:8080/"
        },
        "id": "jXrPyKG7BThi",
        "outputId": "c9d05bc7-abce-4bda-9021-0ae39569a702"
      },
      "source": [
        "# S4.3: Transform dataset into 1D using sklearn PCA\n",
        "from sklearn.decomposition import PCA\n",
        "pca_1 = PCA(n_components = 1)\n",
        "pca_1d_sklearn = pca_1.fit_transform(wheat_scaled)\n",
        "pca_1d_sklearn"
      ],
      "execution_count": null,
      "outputs": [
        {
          "output_type": "execute_result",
          "data": {
            "text/plain": [
              "array([[ 0.2980831 ],\n",
              "       [-0.05153028],\n",
              "       [-0.49951248],\n",
              "       [-0.63659541],\n",
              "       [ 1.06366126],\n",
              "       [-0.37340412],\n",
              "       [-0.15324135],\n",
              "       [-0.45739298],\n",
              "       [ 1.76525944],\n",
              "       [ 1.42547587],\n",
              "       [ 0.08267765],\n",
              "       [-0.61565262],\n",
              "       [-0.94939055],\n",
              "       [-0.93907419],\n",
              "       [-1.03621835],\n",
              "       [-0.53072559],\n",
              "       [-0.7962988 ],\n",
              "       [ 0.63651564],\n",
              "       [-0.29258417],\n",
              "       [-1.75315269],\n",
              "       [-0.57186772],\n",
              "       [-0.4992543 ],\n",
              "       [ 0.8078508 ],\n",
              "       [-2.03683253],\n",
              "       [-0.02972505],\n",
              "       [ 1.06053237],\n",
              "       [-1.58004045],\n",
              "       [-1.73180792],\n",
              "       [-0.48316606],\n",
              "       [-1.09486822],\n",
              "       [-1.16664328],\n",
              "       [ 0.37606012],\n",
              "       [-0.47474278],\n",
              "       [-0.63783552],\n",
              "       [ 0.37713041],\n",
              "       [ 1.1422534 ],\n",
              "       [ 1.06455905],\n",
              "       [ 1.84916305],\n",
              "       [ 0.12841846],\n",
              "       [-0.65292173],\n",
              "       [-0.76552996],\n",
              "       [-0.76799345],\n",
              "       [-1.231523  ],\n",
              "       [ 0.76278001],\n",
              "       [ 0.39138233],\n",
              "       [-0.83028991],\n",
              "       [ 0.47657569],\n",
              "       [ 0.16182446],\n",
              "       [-0.11497282],\n",
              "       [ 0.10530017],\n",
              "       [-0.32859283],\n",
              "       [ 0.41551188],\n",
              "       [-0.35452209],\n",
              "       [-0.35065014],\n",
              "       [-0.06275957],\n",
              "       [ 0.19910885],\n",
              "       [-0.33880759],\n",
              "       [ 0.1543067 ],\n",
              "       [ 0.50246665],\n",
              "       [-2.45298259],\n",
              "       [-2.80071361],\n",
              "       [-2.69387322],\n",
              "       [-2.01425006],\n",
              "       [-1.26482799],\n",
              "       [-1.61847002],\n",
              "       [-1.66937322],\n",
              "       [-0.25578567],\n",
              "       [-0.5802474 ],\n",
              "       [-0.23511325],\n",
              "       [-1.80312955],\n",
              "       [ 2.27533164],\n",
              "       [ 1.52668427],\n",
              "       [ 1.81986696],\n",
              "       [ 3.54756177],\n",
              "       [ 1.68995423],\n",
              "       [ 1.31183413],\n",
              "       [ 1.7178068 ],\n",
              "       [ 4.24552274],\n",
              "       [ 3.25787769],\n",
              "       [ 1.79960372],\n",
              "       [ 2.800721  ],\n",
              "       [ 3.71267361],\n",
              "       [ 3.72995299],\n",
              "       [ 3.56036642],\n",
              "       [ 3.47467052],\n",
              "       [ 4.55426302],\n",
              "       [ 4.50218182],\n",
              "       [ 4.17702441],\n",
              "       [ 3.19135688],\n",
              "       [ 3.1111466 ],\n",
              "       [ 2.82227437],\n",
              "       [ 2.95145595],\n",
              "       [ 1.80121055],\n",
              "       [ 3.52365048],\n",
              "       [ 3.04611704],\n",
              "       [ 1.19020069],\n",
              "       [ 2.46671886],\n",
              "       [ 3.34590695],\n",
              "       [ 3.28365181],\n",
              "       [ 3.20609123],\n",
              "       [ 2.91063239],\n",
              "       [ 2.15565963],\n",
              "       [ 4.19818821],\n",
              "       [ 2.83133621],\n",
              "       [ 2.79805393],\n",
              "       [ 3.17433998],\n",
              "       [ 3.4395995 ],\n",
              "       [ 2.87772613],\n",
              "       [ 4.46834695],\n",
              "       [ 3.46774539],\n",
              "       [ 3.00565809],\n",
              "       [ 3.43182218],\n",
              "       [ 3.16772661],\n",
              "       [ 4.03194478],\n",
              "       [ 3.82538839],\n",
              "       [ 2.38017446],\n",
              "       [ 0.82696569],\n",
              "       [ 2.841861  ],\n",
              "       [ 0.62441856],\n",
              "       [ 3.1072105 ],\n",
              "       [ 2.75282293],\n",
              "       [ 2.5948927 ],\n",
              "       [ 3.89795226],\n",
              "       [ 1.87296696],\n",
              "       [ 2.8655496 ],\n",
              "       [ 3.14887949],\n",
              "       [ 0.71752007],\n",
              "       [ 1.03734544],\n",
              "       [ 0.56184072],\n",
              "       [ 2.22008456],\n",
              "       [ 0.80593096],\n",
              "       [ 0.72791638],\n",
              "       [-1.32927614],\n",
              "       [-1.04895373],\n",
              "       [-1.22052519],\n",
              "       [-1.89342158],\n",
              "       [-2.46268409],\n",
              "       [-2.94214772],\n",
              "       [-2.63883798],\n",
              "       [-1.86351641],\n",
              "       [-1.55724695],\n",
              "       [-3.17251038],\n",
              "       [-2.42228276],\n",
              "       [-1.97409161],\n",
              "       [-2.95221098],\n",
              "       [-2.93856869],\n",
              "       [-2.58946973],\n",
              "       [-2.47018672],\n",
              "       [-2.52787098],\n",
              "       [-2.00326536],\n",
              "       [-2.36559914],\n",
              "       [-1.72523065],\n",
              "       [-1.87647717],\n",
              "       [-1.89776614],\n",
              "       [-1.84913087],\n",
              "       [-2.90075049],\n",
              "       [-2.89307149],\n",
              "       [-3.05721524],\n",
              "       [-2.7886105 ],\n",
              "       [-2.89839413],\n",
              "       [-2.8551226 ],\n",
              "       [-3.20018663],\n",
              "       [-2.9178501 ],\n",
              "       [-3.30596638],\n",
              "       [-2.79284852],\n",
              "       [-1.81600142],\n",
              "       [-2.88943355],\n",
              "       [-1.72249334],\n",
              "       [-2.03053236],\n",
              "       [-1.40034608],\n",
              "       [-2.65242437],\n",
              "       [-2.39592614],\n",
              "       [-3.19528223],\n",
              "       [-2.93055746],\n",
              "       [-3.29922556],\n",
              "       [-3.1708319 ],\n",
              "       [-2.69955575],\n",
              "       [-3.23080527],\n",
              "       [-2.00360152],\n",
              "       [-1.60100334],\n",
              "       [-1.69172764],\n",
              "       [-1.10538644],\n",
              "       [-1.64302787],\n",
              "       [-1.50557302],\n",
              "       [-1.99784353],\n",
              "       [-1.669076  ],\n",
              "       [-2.84412849],\n",
              "       [-1.80166156],\n",
              "       [-2.02023344],\n",
              "       [-2.0217205 ],\n",
              "       [-2.74159165],\n",
              "       [-1.3590963 ],\n",
              "       [-2.36063731],\n",
              "       [-1.94917894]])"
            ]
          },
          "metadata": {},
          "execution_count": 82
        }
      ]
    },
    {
      "cell_type": "markdown",
      "metadata": {
        "id": "nA01qBlCBczJ"
      },
      "source": [
        "Let us create a line plot to visualise the above PCA transformed 1D data."
      ]
    },
    {
      "cell_type": "code",
      "metadata": {
        "colab": {
          "base_uri": "https://localhost:8080/",
          "height": 458
        },
        "id": "rc1ccMFPBb-d",
        "outputId": "4043f405-de1d-40a1-eb5b-0c3bb6d18810"
      },
      "source": [
        "# S4.4: Visualise sklearn PCA transformed data\n",
        "plt.figure(figsize=(10, 7))\n",
        "plt.plot(pca_1d_sklearn)\n",
        "plt.title('Using sklearn PCA')\n",
        "plt.xlabel('Sample')\n",
        "plt.ylabel('PC1')\n",
        "plt.show()"
      ],
      "execution_count": null,
      "outputs": [
        {
          "output_type": "display_data",
          "data": {
            "image/png": "[encoded data removed]",
            "text/plain": [
              "<Figure size 720x504 with 1 Axes>"
            ]
          },
          "metadata": {
            "needs_background": "light"
          }
        }
      ]
    },
    {
      "cell_type": "markdown",
      "metadata": {
        "id": "X9jnuZfSBoKe"
      },
      "source": [
        "We can observe that the plot obtained using manual PCA and `sklearn` PCA are the same.\n",
        "\n",
        "We can also obtain the eigenvectors, eigenvalues and total variance explained by each principal component using the `sklearn` PCA object. For this, use the following methods:\n",
        "\n",
        "- `pca_object.components_`: To obtain eigenvectors or principal component axis.\n",
        "- `pca_object.explained_variance_`: To obtain eigenvalues.\n",
        "- `pca_object.explained_variance_ratio`: To obtain the total variance explained by each principal component."
      ]
    },
    {
      "cell_type": "code",
      "metadata": {
        "colab": {
          "base_uri": "https://localhost:8080/"
        },
        "id": "tVh9t7ADBrdP",
        "outputId": "fb037ed3-ceb2-402a-ebf0-d765eec15c0e"
      },
      "source": [
        "# S4.5: Print the eigenvectors, eigenvalues and total variance of sklearn PCA object\n",
        "print(\"Eigenvectors:\", pca_1.components_)\n",
        "print(\"Eigenvalues:\", pca_1.explained_variance_)\n",
        "print(\"Total variance explained by first PC:\", pca_1.explained_variance_ratio_)"
      ],
      "execution_count": null,
      "outputs": [
        {
          "output_type": "stream",
          "name": "stdout",
          "text": [
            "Eigenvectors: [[ 0.44612962  0.44340785  0.27102541  0.42466765  0.43383285 -0.0975078\n",
            "   0.39094981]]\n",
            "Eigenvalues: [5.02516274]\n",
            "Total variance explained by first PC: [0.71417998]\n"
          ]
        }
      ]
    },
    {
      "cell_type": "markdown",
      "metadata": {
        "id": "y0VznYXCBvVu"
      },
      "source": [
        "We can observe that the values obtained using `sklearn` module are the same as those obtained by using `eig()` function in **Activity 2: Computing Eigenvalues and Eigenvectors**.\n",
        "\n",
        "Similarly, let us visualise 2D transformed data using manual and `sklearn` PCA.\n",
        "\n",
        "\n"
      ]
    },
    {
      "cell_type": "markdown",
      "metadata": {
        "id": "dY7aSJ_NB4oW"
      },
      "source": [
        "---"
      ]
    },
    {
      "cell_type": "markdown",
      "metadata": {
        "id": "-lwI8BOhB5o3"
      },
      "source": [
        "#### Activity 5: PCA 2D projection\n",
        "\n",
        "\n",
        "To reduce our 7-dimensional dataset into 2 dimensions, consider the first two columns of the transformed matrix obtained after dot multiplication."
      ]
    },
    {
      "cell_type": "code",
      "metadata": {
        "colab": {
          "base_uri": "https://localhost:8080/",
          "height": 419
        },
        "id": "LSLtHLlKBu7-",
        "outputId": "385f2bb1-d710-4476-950e-3175299863c6"
      },
      "source": [
        "# S5.1: Obtain the coordinates of the data points for PC1 and PC2 axis\n",
        "pc_2d_manual = wheat_transformed_df.iloc[:, :2]\n",
        "pc_2d_manual"
      ],
      "execution_count": null,
      "outputs": [
        {
          "output_type": "execute_result",
          "data": {
            "text/html": [
              "<div>\n",
              "<style scoped>\n",
              "    .dataframe tbody tr th:only-of-type {\n",
              "        vertical-align: middle;\n",
              "    }\n",
              "\n",
              "    .dataframe tbody tr th {\n",
              "        vertical-align: top;\n",
              "    }\n",
              "\n",
              "    .dataframe thead th {\n",
              "        text-align: right;\n",
              "    }\n",
              "</style>\n",
              "<table border=\"1\" class=\"dataframe\">\n",
              "  <thead>\n",
              "    <tr style=\"text-align: right;\">\n",
              "      <th></th>\n",
              "      <th>PC1</th>\n",
              "      <th>PC2</th>\n",
              "    </tr>\n",
              "  </thead>\n",
              "  <tbody>\n",
              "    <tr>\n",
              "      <th>0</th>\n",
              "      <td>0.298083</td>\n",
              "      <td>-0.745778</td>\n",
              "    </tr>\n",
              "    <tr>\n",
              "      <th>1</th>\n",
              "      <td>-0.051530</td>\n",
              "      <td>-1.867120</td>\n",
              "    </tr>\n",
              "    <tr>\n",
              "      <th>2</th>\n",
              "      <td>-0.499512</td>\n",
              "      <td>-1.866889</td>\n",
              "    </tr>\n",
              "    <tr>\n",
              "      <th>3</th>\n",
              "      <td>-0.636595</td>\n",
              "      <td>-1.885336</td>\n",
              "    </tr>\n",
              "    <tr>\n",
              "      <th>4</th>\n",
              "      <td>1.063661</td>\n",
              "      <td>-2.045596</td>\n",
              "    </tr>\n",
              "    <tr>\n",
              "      <th>...</th>\n",
              "      <td>...</td>\n",
              "      <td>...</td>\n",
              "    </tr>\n",
              "    <tr>\n",
              "      <th>189</th>\n",
              "      <td>-2.021721</td>\n",
              "      <td>-0.799995</td>\n",
              "    </tr>\n",
              "    <tr>\n",
              "      <th>190</th>\n",
              "      <td>-2.741592</td>\n",
              "      <td>0.287564</td>\n",
              "    </tr>\n",
              "    <tr>\n",
              "      <th>191</th>\n",
              "      <td>-1.359096</td>\n",
              "      <td>1.328730</td>\n",
              "    </tr>\n",
              "    <tr>\n",
              "      <th>192</th>\n",
              "      <td>-2.360637</td>\n",
              "      <td>-0.023312</td>\n",
              "    </tr>\n",
              "    <tr>\n",
              "      <th>193</th>\n",
              "      <td>-1.949179</td>\n",
              "      <td>0.582452</td>\n",
              "    </tr>\n",
              "  </tbody>\n",
              "</table>\n",
              "<p>194 rows × 2 columns</p>\n",
              "</div>"
            ],
            "text/plain": [
              "          PC1       PC2\n",
              "0    0.298083 -0.745778\n",
              "1   -0.051530 -1.867120\n",
              "2   -0.499512 -1.866889\n",
              "3   -0.636595 -1.885336\n",
              "4    1.063661 -2.045596\n",
              "..        ...       ...\n",
              "189 -2.021721 -0.799995\n",
              "190 -2.741592  0.287564\n",
              "191 -1.359096  1.328730\n",
              "192 -2.360637 -0.023312\n",
              "193 -1.949179  0.582452\n",
              "\n",
              "[194 rows x 2 columns]"
            ]
          },
          "metadata": {},
          "execution_count": 85
        }
      ]
    },
    {
      "cell_type": "markdown",
      "metadata": {
        "id": "eOudZrXdCMrt"
      },
      "source": [
        "These are the coordinates values of 194 data points for PC1 and PC2 axis. Let us visualise these new coordinates values by creating a scatter plot. Also, colour code the data points according to the `target` column of the original dataset `clean_df`.\n",
        "\n",
        "\n",
        "\n"
      ]
    },
    {
      "cell_type": "code",
      "metadata": {
        "colab": {
          "base_uri": "https://localhost:8080/",
          "height": 458
        },
        "id": "qXK_OgGaCR3_",
        "outputId": "da1732bd-daa1-47bd-dca8-d8714f79d89b"
      },
      "source": [
        "# S5.2: Visualise 1D projection\n",
        "plt.figure(figsize=(10, 7))\n",
        "plt.scatter(pc_2d_manual['PC1'], pc_2d_manual['PC2'], c = clean_df['target'])\n",
        "plt.title('2D transformed dataset')\n",
        "plt.xlabel('PC1')\n",
        "plt.ylabel('PC2')\n",
        "plt.show()"
      ],
      "execution_count": null,
      "outputs": [
        {
          "output_type": "display_data",
          "data": {
            "image/png": "[encoded data removed]",
            "text/plain": [
              "<Figure size 720x504 with 1 Axes>"
            ]
          },
          "metadata": {
            "needs_background": "light"
          }
        }
      ]
    },
    {
      "cell_type": "markdown",
      "metadata": {
        "id": "b2R5zTPWCfgW"
      },
      "source": [
        "\n",
        " Let us now perform PCA 2D projection using `sklearn` library and compare its results with manual PCA."
      ]
    },
    {
      "cell_type": "code",
      "metadata": {
        "colab": {
          "base_uri": "https://localhost:8080/"
        },
        "id": "QOksAnnmCit1",
        "outputId": "51241794-d871-4582-a5a9-ed9157c27113"
      },
      "source": [
        "# S5.3: Transform dataset into 2D using sklearn PCA\n",
        "from sklearn.decomposition import PCA\n",
        "pca_2 = PCA(n_components = 2)\n",
        "pca_2d_sklearn = pca_2.fit_transform(wheat_scaled)\n",
        "pca_2d_sklearn"
      ],
      "execution_count": null,
      "outputs": [
        {
          "output_type": "execute_result",
          "data": {
            "text/plain": [
              "array([[ 0.2980831 ,  0.74577813],\n",
              "       [-0.05153028,  1.8671203 ],\n",
              "       [-0.49951248,  1.86688915],\n",
              "       [-0.63659541,  1.88533626],\n",
              "       [ 1.06366126,  2.04559645],\n",
              "       [-0.37340412,  1.5952673 ],\n",
              "       [-0.15324135,  0.3998879 ],\n",
              "       [-0.45739298,  1.34735748],\n",
              "       [ 1.76525944,  0.29185592],\n",
              "       [ 1.42547587,  0.99302611],\n",
              "       [ 0.08267765, -0.46000697],\n",
              "       [-0.61565262,  1.50577477],\n",
              "       [-0.94939055,  0.82789433],\n",
              "       [-0.93907419,  0.81981468],\n",
              "       [-1.03621835,  0.90328477],\n",
              "       [-0.53072559,  1.02386397],\n",
              "       [-0.7962988 ,  1.11234625],\n",
              "       [ 0.63651564,  2.14305165],\n",
              "       [-0.29258417,  2.74964278],\n",
              "       [-1.75315269,  0.27961646],\n",
              "       [-0.57186772,  0.10832004],\n",
              "       [-0.4992543 ,  0.65686148],\n",
              "       [ 0.8078508 ,  2.2910195 ],\n",
              "       [-2.03683253,  1.51248838],\n",
              "       [-0.02972505,  0.96659748],\n",
              "       [ 1.06053237,  1.60097287],\n",
              "       [-1.58004045,  0.49181958],\n",
              "       [-1.73180792,  0.67893083],\n",
              "       [-0.48316606,  0.99839273],\n",
              "       [-1.09486822,  0.06645721],\n",
              "       [-1.16664328,  1.51003514],\n",
              "       [ 0.37606012,  0.22211092],\n",
              "       [-0.47474278, -0.51995671],\n",
              "       [-0.63783552,  1.0650564 ],\n",
              "       [ 0.37713041,  0.88000212],\n",
              "       [ 1.1422534 ,  1.28170947],\n",
              "       [ 1.06455905,  0.27365406],\n",
              "       [ 1.84916305,  1.08693396],\n",
              "       [ 0.12841846,  0.57576782],\n",
              "       [-0.65292173, -0.46402906],\n",
              "       [-0.76552996,  1.17741252],\n",
              "       [-0.76799345,  1.2955407 ],\n",
              "       [-1.231523  ,  1.98165447],\n",
              "       [ 0.76278001, -0.44452455],\n",
              "       [ 0.39138233,  1.12748294],\n",
              "       [-0.83028991,  1.6274227 ],\n",
              "       [ 0.47657569,  1.62067842],\n",
              "       [ 0.16182446,  0.95262744],\n",
              "       [-0.11497282,  0.96200587],\n",
              "       [ 0.10530017,  0.64631612],\n",
              "       [-0.32859283,  0.16425127],\n",
              "       [ 0.41551188, -0.23057216],\n",
              "       [-0.35452209, -0.70390166],\n",
              "       [-0.35065014,  0.61274277],\n",
              "       [-0.06275957,  0.50843454],\n",
              "       [ 0.19910885,  0.59819957],\n",
              "       [-0.33880759,  1.07721052],\n",
              "       [ 0.1543067 ,  2.2646951 ],\n",
              "       [ 0.50246665,  1.26975573],\n",
              "       [-2.45298259,  1.17753922],\n",
              "       [-2.80071361,  1.25300098],\n",
              "       [-2.69387322,  1.81507354],\n",
              "       [-2.01425006,  1.56194124],\n",
              "       [-1.26482799,  0.01860723],\n",
              "       [-1.61847002,  1.81056247],\n",
              "       [-1.66937322,  1.8474262 ],\n",
              "       [-0.25578567,  1.31916288],\n",
              "       [-0.5802474 ,  0.68004092],\n",
              "       [-0.23511325,  1.14820103],\n",
              "       [-1.80312955, -0.23738125],\n",
              "       [ 2.27533164, -1.04836807],\n",
              "       [ 1.52668427, -1.22175024],\n",
              "       [ 1.81986696, -0.73363436],\n",
              "       [ 3.54756177,  0.52151663],\n",
              "       [ 1.68995423, -0.50405957],\n",
              "       [ 1.31183413, -1.22130027],\n",
              "       [ 1.7178068 , -0.98170197],\n",
              "       [ 4.24552274, -1.5033339 ],\n",
              "       [ 3.25787769, -1.69893606],\n",
              "       [ 1.79960372,  0.45177984],\n",
              "       [ 2.800721  , -0.64617804],\n",
              "       [ 3.71267361, -1.17282145],\n",
              "       [ 3.72995299,  0.1918624 ],\n",
              "       [ 3.56036642, -0.42562476],\n",
              "       [ 3.47467052, -1.56225981],\n",
              "       [ 4.55426302, -1.37813206],\n",
              "       [ 4.50218182, -0.92094039],\n",
              "       [ 4.17702441, -0.3495758 ],\n",
              "       [ 3.19135688,  0.1855587 ],\n",
              "       [ 3.1111466 , -0.13365109],\n",
              "       [ 2.82227437, -0.76740291],\n",
              "       [ 2.95145595, -2.53125944],\n",
              "       [ 1.80121055, -0.8395846 ],\n",
              "       [ 3.52365048, -0.60746834],\n",
              "       [ 3.04611704,  0.13105337],\n",
              "       [ 1.19020069, -0.0859714 ],\n",
              "       [ 2.46671886,  0.98603188],\n",
              "       [ 3.34590695, -0.30485162],\n",
              "       [ 3.28365181, -0.824606  ],\n",
              "       [ 3.20609123, -0.41939525],\n",
              "       [ 2.91063239,  0.48655486],\n",
              "       [ 2.15565963, -0.42069174],\n",
              "       [ 4.19818821, -1.07283493],\n",
              "       [ 2.83133621,  0.65822817],\n",
              "       [ 2.79805393,  0.68532262],\n",
              "       [ 3.17433998, -0.71847046],\n",
              "       [ 3.4395995 ,  0.90049057],\n",
              "       [ 2.87772613, -2.18592314],\n",
              "       [ 4.46834695, -1.22571679],\n",
              "       [ 3.46774539,  0.06545912],\n",
              "       [ 3.00565809,  0.13907431],\n",
              "       [ 3.43182218, -0.1553759 ],\n",
              "       [ 3.16772661,  0.02290681],\n",
              "       [ 4.03194478, -0.55906596],\n",
              "       [ 3.82538839, -1.49409278],\n",
              "       [ 2.38017446, -0.51961714],\n",
              "       [ 0.82696569, -0.88825942],\n",
              "       [ 2.841861  ,  0.66894322],\n",
              "       [ 0.62441856,  1.34695554],\n",
              "       [ 3.1072105 , -0.18671134],\n",
              "       [ 2.75282293, -1.23651142],\n",
              "       [ 2.5948927 ,  0.79406282],\n",
              "       [ 3.89795226, -0.12906559],\n",
              "       [ 1.87296696, -0.38827969],\n",
              "       [ 2.8655496 ,  0.76662848],\n",
              "       [ 3.14887949,  0.28367988],\n",
              "       [ 0.71752007, -0.83580123],\n",
              "       [ 1.03734544, -0.85341415],\n",
              "       [ 0.56184072,  0.75583441],\n",
              "       [ 2.22008456, -0.42526971],\n",
              "       [ 0.80593096, -0.48748466],\n",
              "       [ 0.72791638, -0.24999857],\n",
              "       [-1.32927614, -1.27726956],\n",
              "       [-1.04895373, -1.83743243],\n",
              "       [-1.22052519, -1.15829757],\n",
              "       [-1.89342158, -0.68707294],\n",
              "       [-2.46268409, -1.1486761 ],\n",
              "       [-2.94214772, -2.26512127],\n",
              "       [-2.63883798,  0.15401914],\n",
              "       [-1.86351641, -0.04047801],\n",
              "       [-1.55724695, -0.19699966],\n",
              "       [-3.17251038, -2.02117176],\n",
              "       [-2.42228276, -2.52101686],\n",
              "       [-1.97409161, -1.32620353],\n",
              "       [-2.95221098, -0.45270406],\n",
              "       [-2.93856869, -1.84421765],\n",
              "       [-2.58946973,  0.42759969],\n",
              "       [-2.47018672, -1.85627882],\n",
              "       [-2.52787098, -1.7409044 ],\n",
              "       [-2.00326536, -0.63388538],\n",
              "       [-2.36559914, -0.92782299],\n",
              "       [-1.72523065, -0.43547483],\n",
              "       [-1.87647717,  1.36481143],\n",
              "       [-1.89776614, -0.98244503],\n",
              "       [-1.84913087, -0.52244145],\n",
              "       [-2.90075049, -0.96558088],\n",
              "       [-2.89307149, -0.32753858],\n",
              "       [-3.05721524, -2.40624206],\n",
              "       [-2.7886105 , -1.52324073],\n",
              "       [-2.89839413, -0.47944915],\n",
              "       [-2.8551226 , -1.28272892],\n",
              "       [-3.20018663, -1.88626393],\n",
              "       [-2.9178501 , -1.24634238],\n",
              "       [-3.30596638, -0.8919933 ],\n",
              "       [-2.79284852, -1.1512026 ],\n",
              "       [-1.81600142,  0.60375777],\n",
              "       [-2.88943355, -0.33019768],\n",
              "       [-1.72249334, -0.27516287],\n",
              "       [-2.03053236, -0.54432608],\n",
              "       [-1.40034608, -1.48627697],\n",
              "       [-2.65242437, -1.17788045],\n",
              "       [-2.39592614, -1.72461538],\n",
              "       [-3.19528223, -0.50879284],\n",
              "       [-2.93055746, -1.5452057 ],\n",
              "       [-3.29922556,  0.01372034],\n",
              "       [-3.1708319 , -1.07990841],\n",
              "       [-2.69955575,  0.01991112],\n",
              "       [-3.23080527, -1.25150505],\n",
              "       [-2.00360152,  0.07635006],\n",
              "       [-1.60100334,  0.37145939],\n",
              "       [-1.69172764, -0.17657969],\n",
              "       [-1.10538644,  0.21406296],\n",
              "       [-1.64302787, -0.18538838],\n",
              "       [-1.50557302,  1.69659784],\n",
              "       [-1.99784353, -0.65149852],\n",
              "       [-1.669076  ,  2.07908553],\n",
              "       [-2.84412849,  0.43413951],\n",
              "       [-1.80166156, -1.37902864],\n",
              "       [-2.02023344,  0.01808725],\n",
              "       [-2.0217205 ,  0.79999518],\n",
              "       [-2.74159165, -0.28756413],\n",
              "       [-1.3590963 , -1.32872992],\n",
              "       [-2.36063731,  0.02331223],\n",
              "       [-1.94917894, -0.58245219]])"
            ]
          },
          "metadata": {},
          "execution_count": 87
        }
      ]
    },
    {
      "cell_type": "markdown",
      "metadata": {
        "id": "zabsp9EVCnxH"
      },
      "source": [
        "Let us create a scatter plot to visualise the above PCA transformed 2D data."
      ]
    },
    {
      "cell_type": "code",
      "metadata": {
        "colab": {
          "base_uri": "https://localhost:8080/",
          "height": 458
        },
        "id": "Q_5KIEZACq-6",
        "outputId": "ecf3fb70-99bb-4b88-9f34-77eaebc96709"
      },
      "source": [
        "# S5.4: Visualise sklearn PCA transformed data\n",
        "plt.figure(figsize=(10, 7))\n",
        "plt.scatter(pca_2d_sklearn[:,0], pca_2d_sklearn[:, 1], c = clean_df['target'])\n",
        "plt.title('2D transformed dataset')\n",
        "plt.xlabel('PC1')\n",
        "plt.ylabel('PC2')\n",
        "plt.show()"
      ],
      "execution_count": null,
      "outputs": [
        {
          "output_type": "display_data",
          "data": {
            "image/png": "[encoded data removed]",
            "text/plain": [
              "<Figure size 720x504 with 1 Axes>"
            ]
          },
          "metadata": {
            "needs_background": "light"
          }
        }
      ]
    },
    {
      "cell_type": "markdown",
      "metadata": {
        "id": "pOR0z7mWCyWV"
      },
      "source": [
        "You may observe that the 2D scatter plots obtained using manual and sklearn PCA are not identical. Let us determine the eigenvectors, eigenvalues, and total variance explained by each principal component using `sklearn` module."
      ]
    },
    {
      "cell_type": "code",
      "metadata": {
        "colab": {
          "base_uri": "https://localhost:8080/"
        },
        "id": "7VLpe_3BC3_V",
        "outputId": "78f6346b-d1ae-46e1-a5a9-b38c242db580"
      },
      "source": [
        "# S5.5: Print the eigenvectors, eigenvalues and total variance of sklearn PCA object.\n",
        "print(\"Eigenvectors:\", pca_2.components_)\n",
        "print(\"Eigenvalues:\", pca_2.explained_variance_)\n",
        "print(\"Total variance explained by first PC:\", pca_2.explained_variance_ratio_)"
      ],
      "execution_count": null,
      "outputs": [
        {
          "output_type": "stream",
          "name": "stdout",
          "text": [
            "Eigenvectors: [[ 0.44612962  0.44340785  0.27102541  0.42466765  0.43383285 -0.0975078\n",
            "   0.39094981]\n",
            " [-0.01777889 -0.07649883  0.53923669 -0.20113529  0.12662086 -0.71534547\n",
            "  -0.3672169 ]]\n",
            "Eigenvalues: [5.02516274 1.24421571]\n",
            "Total variance explained by first PC: [0.71417998 0.17682889]\n"
          ]
        }
      ]
    },
    {
      "cell_type": "markdown",
      "metadata": {
        "id": "QBKewOQBC_bo"
      },
      "source": [
        "If you compare the eigenvectors obtained using `eig()` function (**Activity 2: Computing Eigenvalues and Eigenvectors**) and using `components_` attribute, you may observe that the second principal component values (second row of eigenvectors array) for both manual and sklearn PCA are identical, but the signs are different. This is just a difference in convention, nothing meaningful. Also, note that the negative of eigenvectors is the same eigenvector.\n",
        "\n",
        "Thus, we have reduced the dimensionality of the wheat kernel dataset using manual PCA, as well as the `sklearn` API.\n",
        "\n"
      ]
    },
    {
      "cell_type": "markdown",
      "metadata": {
        "id": "XlD7-HSUDv68"
      },
      "source": [
        "We will stop here. In the next class, we will start exploring a new problem statement for PCA."
      ]
    },
    {
      "cell_type": "markdown",
      "metadata": {
        "id": "ihtVYX1VPh-K"
      },
      "source": [
        "---"
      ]
    },
    {
      "cell_type": "markdown",
      "metadata": {
        "id": "KzzbtYirKA9_"
      },
      "source": [
        "#### Activities\n",
        "\n",
        "\n",
        "**Teacher Activities:**\n",
        "\n",
        "1. PCA - Eigenvectors and Eigenvalues (Class Copy)\n",
        "\n",
        "   Link on Panel\n",
        "   \n",
        "2. PCA - Eigenvectors and Eigenvalues (Reference)\n",
        "\n",
        "    Link on Panel"
      ]
    }
  ]
}