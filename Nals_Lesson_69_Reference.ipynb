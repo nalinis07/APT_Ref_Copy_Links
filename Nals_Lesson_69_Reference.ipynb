{
  "nbformat": 4,
  "nbformat_minor": 0,
  "metadata": {
    "colab": {
      "provenance": [],
      "toc_visible": true,
      "include_colab_link": true
    },
    "kernelspec": {
      "name": "python3",
      "display_name": "Python 3"
    }
  },
  "cells": [
    {
      "cell_type": "markdown",
      "metadata": {
        "id": "view-in-github",
        "colab_type": "text"
      },
      "source": [
        "<a href=\"https://colab.research.google.com/github/nalinis07/APT_Ref_Copy_Links/blob/MASTER/Nals_Lesson_69_Reference.ipynb\" target=\"_parent\"><img src=\"https://colab.research.google.com/assets/colab-badge.svg\" alt=\"Open In Colab\"/></a>"
      ]
    },
    {
      "cell_type": "markdown",
      "metadata": {
        "id": "cN_oEsXfM_LV"
      },
      "source": [
        "# Lesson 69: Car Price Prediction - Interpreting p-value"
      ]
    },
    {
      "cell_type": "markdown",
      "metadata": {
        "id": "dDUbktKVCkBe"
      },
      "source": [
        "**WARNING:** The reference notebook is meant **ONLY** for a teacher. Please **DO NOT** share it with any student.\n",
        "\n",
        "The contents of the reference notebook are meant only to prepare a teacher for a class. To conduct the class, use the class copy of the reference notebook. The link and the instructions for the same are provided in the **Notes To The Teacher** section.\n",
        "\n",
        "\n",
        "|Particulars|Description|\n",
        "|-|-|\n",
        "|**Topic**|Car Price Prediction - Interpreting p-value|\n",
        "|||\n",
        "|**Class Description**|In this class, a student learns to perform hypothesis testing and calculate p-values to determine which features are significant|\n",
        "|||\n",
        "|**Class**|C69|\n",
        "|||\n",
        "|**Class Time**|45 minutes|\n",
        "|||\n",
        "|**Goal**|Perform F-test to measure overall significance of the model|\n",
        "||Perform t-test to measure significance of each individual variable|\n",
        "|||\n",
        "|**Teacher Resources**|Google Account|\n",
        "||Laptop with internet connectivity|\n",
        "||Earphones with mic|\n",
        "|||\n",
        "|**Student Resources**|Google Account|\n",
        "||Laptop with internet connectivity|\n",
        "||Earphones with mic|"
      ]
    },
    {
      "cell_type": "markdown",
      "metadata": {
        "id": "-OfiaBxqxTcE"
      },
      "source": [
        "---"
      ]
    },
    {
      "cell_type": "markdown",
      "metadata": {
        "id": "jT28iI_ixUCr"
      },
      "source": [
        "### Warm-up Quiz\n",
        "\n",
        "```\n",
        "TEACHER\n",
        "I have an exciting quiz question for you! Are you ready to answer this question?\n",
        "\n",
        "EXPECTED STUDENT RESPONSE\n",
        "Yes.\n",
        "```\n",
        "\n",
        "**Instructions for the Teacher:**\n",
        "- Please click on the \"Quiz Time\" button on the bottom right corner of your screen to start the In-Class Quiz. <img src='https://student-datasets-bucket.s3.ap-south-1.amazonaws.com/images/quiz-time.png' width = 150>\n",
        "\n",
        "- A quiz will be visible to both you and the student. Encourage the student to answer the quiz question.\n",
        "\n",
        "- The student may choose the wrong option, help the student to think correctly about the question and then answer again.\n",
        "\n",
        "- After the student selects the correct option, the \"End Quiz\" button will start appearing on your screen. <img src='https://student-datasets-bucket.s3.ap-south-1.amazonaws.com/images/end-quiz.png' width = 150>  \n",
        "\n",
        "- Click the \"End quiz\" button to close the quiz pop-up and continue the class.\n",
        "  \n",
        "- Do not spend more than 2 minutes on this quiz."
      ]
    },
    {
      "cell_type": "markdown",
      "metadata": {
        "id": "to64vHpZC_8f"
      },
      "source": [
        "---"
      ]
    },
    {
      "cell_type": "markdown",
      "metadata": {
        "id": "gFjOAv8nAhzQ"
      },
      "source": [
        "### Teacher-Student Activities\n",
        "\n",
        "In the previous class, you learned feature encoding using the one-hot encoding and dummy coding processes. You also learned to calculate the adjusted R-squared value to evaluate a linear regression model.\n",
        "\n",
        "In this class, you will learn the concept of p-value which will help you to determine which features are significant to the dataset and which are not so that you can create your model with those features which are significantly contributing in prediction.\n",
        "\n",
        "Let's quickly run the codes covered in the previous classes and begin this session from **Activity 1: Understanding Hypothesis Testing** section."
      ]
    },
    {
      "cell_type": "markdown",
      "metadata": {
        "id": "7rqO31eQB5O-"
      },
      "source": [
        "---"
      ]
    },
    {
      "cell_type": "markdown",
      "metadata": {
        "id": "f-uhY3ryaj4N"
      },
      "source": [
        "### Problem Statement\n",
        "\n",
        "Build a linear regression model to predict prices of cars based on its technical specifications such as car manufacturer, its engine capacity, fuel efficiency, body-type etc.\n",
        "\n",
        "**Dataset Description:**\n",
        "\n",
        "The dataset contains 205 rows and 26 columns. Each column represents an attribute of a car as described in the table below.\n",
        "\n",
        "|Sr No.|Attribute|Attribute Information|\n",
        "|-|-|-|\n",
        "|1|Car_ID|Unique id of each car (Interger)|\n",
        "|2|Symboling|Assigned insurance risk rating; a value of +3 indicates that the car is risky; -3 suggests that it is probably a safe car (Categorical)|\n",
        "|3|carCompany|Name of car company (Categorical)|\n",
        "|4|fueltype| fuel-type i.e. petrol or diesel (Categorical)|\n",
        "|5|aspiration|Aspiration used in a car (Categorical)|\n",
        "|6|doornumber|Number of doors in a car (Categorical)|\n",
        "|7|carbody|Body-type of a car (Categorical)|\n",
        "|8|drivewheel|Type of drive wheel (Categorical)|\n",
        "|9|enginelocation|Location of car engine (Categorical)|\n",
        "|10|wheelbase|Weelbase of car (Numeric)|\n",
        "|11|carlength|Length of car (Numeric)|\n",
        "|12|carwidth|Width of car (Numeric)|\n",
        "|13|carheight|Height of car (Numeric)|\n",
        "|14|curbweight|The weight of a car without occupants or baggage (Numeric)|\n",
        "|15|enginetype|Type of engine (Categorical)|\n",
        "|16|cylindernumber|Number of cylinders placed in the car engine (Categorical)||17|enginesize|Capacity of an engine (Numeric)|\n",
        "|18|fuelsystem|Fuel system of a car (Categorical)|\n",
        "|19|boreratio|Bore ratio of car (Numeric)|\n",
        "|20|stroke|Stroke or volume inside the engine (Numeric)|\n",
        "|21|compressionratio|Compression ratio of an engine (Numeric)|\n",
        "|22|horsepower|Power output of an engine (Numeric)|\n",
        "|23|peakrpm|Peak revolutions per minute (Numeric)|\n",
        "|24|citympg|Mileage in city (Numeric)|\n",
        "|25|highwaympg|Mileage on highway (Numeric)|\n",
        "|26|price(Dependent variable)|Price of a car (Numeric)|\n",
        "\n",
        "This data set consists of three types of entities:\n",
        "\n",
        "- the specification of an auto in terms of various characteristics,\n",
        "\n",
        "- its assigned insurance risk rating,\n",
        "\n",
        "- its normalised losses in use as compared to other cars.\n",
        "\n",
        "The second rating corresponds to the degree to which the auto is more risky than its price indicates. Cars are initially assigned a risk factor symbol associated with its price. Then, if it is more risky (or less), this symbol is adjusted by moving it up (or down) the scale. Actuarians call this process **symboling**. A value of $+3$ indicates that the auto is risky, $-3$ that it is probably pretty safe.\n",
        "\n",
        "The third factor is the relative average loss payment per insured vehicle year. This value is normalized for all autos within a particular size classification (two-door small, station wagons, sports/speciality etc.), and represents the average loss per car per year.\n",
        "\n",
        "**Note:** Several of the attributes in the database could be used as a \"class\" attribute.\n",
        "\n",
        "**Dataset source:** https://archive.ics.uci.edu/ml/datasets/Automobile\n",
        "\n",
        "\n",
        "The above dataset consists of data taken from 1985 Ward's Automotive Yearbook. Here's the list of original sources of the data:\n",
        "\n",
        "1. 1985 Model Import Car and Truck Specifications, 1985 Ward's Automotive Yearbook.\n",
        "\n",
        "2. Personal Auto Manuals, Insurance Services Office, 160 Water Street, New York, NY 10038\n",
        "\n",
        "3. Insurance Collision Report, Insurance Institute for Highway Safety, Watergate 600, Washington, DC 20037\n",
        "\n",
        "\n",
        "\n",
        "\n"
      ]
    },
    {
      "cell_type": "markdown",
      "metadata": {
        "id": "SZEA9P6hDG28"
      },
      "source": [
        "---"
      ]
    },
    {
      "cell_type": "markdown",
      "metadata": {
        "id": "keVeYBHNDHh8"
      },
      "source": [
        "#### Recap\n",
        "\n",
        "https://student-datasets-bucket.s3.ap-south-1.amazonaws.com/whitehat-ds-datasets/car-prices.csv"
      ]
    },
    {
      "cell_type": "code",
      "metadata": {
        "id": "5f2emlnJM56A",
        "colab": {
          "base_uri": "https://localhost:8080/"
        },
        "outputId": "836f28a3-77b2-4843-e48a-39ea270368aa"
      },
      "source": [
        "# Import the modules, read the dataset and create a Pandas DataFrame.\n",
        "import numpy as np\n",
        "import pandas as pd\n",
        "import matplotlib.pyplot as plt\n",
        "import seaborn as sns\n",
        "\n",
        "# Read the dataset\n",
        "cars_df = pd.read_csv(\"https://s3-student-datasets-bucket.whjr.online/whitehat-ds-datasets/car-prices.csv\")\n",
        "\n",
        "# Data Cleaning\n",
        "# Extract the name of the manufactures from the car names and display the first 25 cars to verify whether names are extracted successfully.\n",
        "car_companies = pd.Series([car.split(\" \")[0] for car in cars_df['CarName']], index = cars_df.index)\n",
        "\n",
        "# Create a new column named 'car_company'. It should store the company names of a the cars.\n",
        "cars_df['car_company'] = car_companies\n",
        "\n",
        "# Replace the misspelled 'car_company' names with their correct names.\n",
        "# volkswagen\n",
        "cars_df.loc[(cars_df['car_company'] == \"vw\") | (cars_df['car_company'] == \"vokswagen\"), 'car_company'] = 'volkswagen'\n",
        "\n",
        "# porsche\n",
        "cars_df.loc[cars_df['car_company'] == \"porcshce\", 'car_company'] = 'porsche'\n",
        "\n",
        "# toyota\n",
        "cars_df.loc[cars_df['car_company'] == \"toyouta\", 'car_company'] = 'toyota'\n",
        "\n",
        "# nissan\n",
        "cars_df.loc[cars_df['car_company'] == \"Nissan\", 'car_company'] = 'nissan'\n",
        "\n",
        "# mazda\n",
        "cars_df.loc[cars_df['car_company'] == \"maxda\", 'car_company'] = 'mazda'\n",
        "\n",
        "# Drop 'CarName' column from the 'cars_df' DataFrame.\n",
        "cars_df.drop(columns= ['CarName'], axis = 1, inplace = True)\n",
        "\n",
        "# Data Preparation\n",
        "# Extract all the numeric (float and int type) columns from the dataset.\n",
        "cars_numeric_df = cars_df.select_dtypes(include = ['int64', 'float64'])\n",
        "\n",
        "# Drop the 'car_ID' column from the 'cars_numeric_df' DataFrame.\n",
        "cars_numeric_df.drop(columns = ['car_ID'], axis = 1, inplace = True)\n",
        "\n",
        "# Mapping Categorical Values\n",
        "# Map the values of the 'doornumber' and 'cylindernumber' columns to their corresponding numeric values.\n",
        "words_dict = {\"two\": 2, \"three\": 3, \"four\": 4, \"five\": 5, \"six\": 6, \"eight\": 8, \"twelve\": 12}\n",
        "def num_map(series):\n",
        "    return series.map(words_dict)\n",
        "\n",
        "# Applying the function to the two columns\n",
        "cars_df[['cylindernumber', 'doornumber']] = cars_df[['cylindernumber', 'doornumber']].apply(num_map, axis = 1)\n",
        "\n",
        "# Feature Encoding\n",
        "# Create dummy variables for the 'carbody' columns.\n",
        "car_body_dummies = pd.get_dummies(cars_df['carbody'], dtype = int)\n",
        "\n",
        "# Create dummy variables for the 'carbody' columns with 1 column less.\n",
        "car_body_new_dummies = pd.get_dummies(cars_df['carbody'], drop_first = True, dtype = int)\n",
        "\n",
        "# Create a DataFrame containing all the non-numeric type features.\n",
        "cars_categorical_df = cars_df.select_dtypes(include = ['object'])\n",
        "\n",
        "# Get dummy variables for all the categorical type columns using the dummy coding process.\n",
        "cars_dummies_df = pd.get_dummies(cars_categorical_df, drop_first = True, dtype = int)\n",
        "\n",
        "# Drop the categorical type columns from the 'cars_df' DataFrame.\n",
        "cars_df.drop(list(cars_categorical_df.columns), axis = 1, inplace = True)\n",
        "\n",
        "# Concatenate the 'cars_df' and 'cars_dummies_df' DataFrames.\n",
        "cars_df = pd.concat([cars_df, cars_dummies_df], axis = 1)\n",
        "\n",
        "# Drop the 'car_ID' column\n",
        "cars_df.drop('car_ID', axis = 1, inplace = True)\n",
        "\n",
        "# Test-Train Split\n",
        "# Split the 'cars_df' Dataframe into the train and test sets.\n",
        "from sklearn.model_selection import train_test_split\n",
        "train_df, test_df = train_test_split(cars_df, test_size = 0.3, random_state = 42)\n",
        "\n",
        "# Create separate data-frames for the feature and target variables for both the train and test sets.\n",
        "features = list(cars_df.columns)\n",
        "features.remove('price')\n",
        "\n",
        "X_train = train_df[features]\n",
        "y_train = train_df['price']\n",
        "X_test = test_df[features]\n",
        "y_test = test_df['price']\n",
        "\n",
        "# Feature Scaling\n",
        "# Normalise only the numeric columns that were you had prior to any data-cleaning exercise.\n",
        "def standard_norm(series):\n",
        "  new_series = (series - series.mean()) / series.std()\n",
        "  return new_series\n",
        "\n",
        "# Normalising the features in the train and test sets.\n",
        "X_train[X_train.columns[:16]] = X_train[X_train.columns[:16]].apply(standard_norm, axis = 0)\n",
        "X_test[X_train.columns[:16]] = X_test[X_train.columns[:16]].apply(standard_norm, axis = 0)\n",
        "\n",
        "# Model Building\n",
        "# Build a linear regression model using all the features to predict car prices.\n",
        "import statsmodels.api as sm\n",
        "\n",
        "X_train_sm = sm.add_constant(X_train)\n",
        "lin_reg = sm.OLS(y_train, X_train_sm).fit()\n",
        "\n",
        "# Print the summary of the linear regression report.\n",
        "print(lin_reg.summary())"
      ],
      "execution_count": null,
      "outputs": [
        {
          "output_type": "stream",
          "name": "stderr",
          "text": [
            "<ipython-input-1-51939c73ebda>:95: SettingWithCopyWarning: \n",
            "A value is trying to be set on a copy of a slice from a DataFrame.\n",
            "Try using .loc[row_indexer,col_indexer] = value instead\n",
            "\n",
            "See the caveats in the documentation: https://pandas.pydata.org/pandas-docs/stable/user_guide/indexing.html#returning-a-view-versus-a-copy\n",
            "  X_train[X_train.columns[:16]] = X_train[X_train.columns[:16]].apply(standard_norm, axis = 0)\n",
            "<ipython-input-1-51939c73ebda>:96: SettingWithCopyWarning: \n",
            "A value is trying to be set on a copy of a slice from a DataFrame.\n",
            "Try using .loc[row_indexer,col_indexer] = value instead\n",
            "\n",
            "See the caveats in the documentation: https://pandas.pydata.org/pandas-docs/stable/user_guide/indexing.html#returning-a-view-versus-a-copy\n",
            "  X_test[X_train.columns[:16]] = X_test[X_train.columns[:16]].apply(standard_norm, axis = 0)\n"
          ]
        },
        {
          "output_type": "stream",
          "name": "stdout",
          "text": [
            "                            OLS Regression Results                            \n",
            "==============================================================================\n",
            "Dep. Variable:                  price   R-squared:                       0.977\n",
            "Model:                            OLS   Adj. R-squared:                  0.963\n",
            "Method:                 Least Squares   F-statistic:                     67.51\n",
            "Date:                Sat, 06 Apr 2024   Prob (F-statistic):           3.52e-53\n",
            "Time:                        17:36:33   Log-Likelihood:                -1214.5\n",
            "No. Observations:                 143   AIC:                             2541.\n",
            "Df Residuals:                      87   BIC:                             2707.\n",
            "Df Model:                          55                                         \n",
            "Covariance Type:            nonrobust                                         \n",
            "==========================================================================================\n",
            "                             coef    std err          t      P>|t|      [0.025      0.975]\n",
            "------------------------------------------------------------------------------------------\n",
            "const                   1.111e+04   2193.733      5.066      0.000    6752.981    1.55e+04\n",
            "symboling               -259.2601    338.261     -0.766      0.445    -931.591     413.071\n",
            "doornumber               256.3005    276.490      0.927      0.357    -293.252     805.853\n",
            "wheelbase                462.1973    669.416      0.690      0.492    -868.339    1792.734\n",
            "carlength               -627.4075    676.243     -0.928      0.356   -1971.514     716.699\n",
            "carwidth                1488.5498    503.255      2.958      0.004     488.276    2488.824\n",
            "carheight               -330.0812    362.153     -0.911      0.365   -1049.900     389.738\n",
            "curbweight              2138.0076    870.269      2.457      0.016     408.253    3867.762\n",
            "cylindernumber          -847.8692    723.186     -1.172      0.244   -2285.280     589.542\n",
            "enginesize              4083.0225   1082.968      3.770      0.000    1930.507    6235.538\n",
            "boreratio              -1027.6732    378.099     -2.718      0.008   -1779.186    -276.160\n",
            "stroke                   -75.9375    283.049     -0.268      0.789    -638.529     486.654\n",
            "compressionratio         465.2682   1681.273      0.277      0.783   -2876.444    3806.980\n",
            "horsepower               256.2853    832.526      0.308      0.759   -1398.450    1911.020\n",
            "peakrpm                  831.7857    326.495      2.548      0.013     182.842    1480.729\n",
            "citympg                  639.1211    853.572      0.749      0.456   -1057.446    2335.688\n",
            "highwaympg              -239.9637    769.123     -0.312      0.756   -1768.679    1288.752\n",
            "fueltype_gas            6290.6800   2516.294      2.500      0.014    1289.273    1.13e+04\n",
            "aspiration_turbo        2528.1790    820.112      3.083      0.003     898.118    4158.240\n",
            "carbody_hardtop         -233.7527   1674.144     -0.140      0.889   -3561.296    3093.790\n",
            "carbody_hatchback      -3517.0830   1136.021     -3.096      0.003   -5775.048   -1259.118\n",
            "carbody_sedan          -3523.8275   1243.949     -2.833      0.006   -5996.310   -1051.345\n",
            "carbody_wagon          -4154.1619   1363.304     -3.047      0.003   -6863.876   -1444.448\n",
            "drivewheel_fwd          -850.5823   1150.963     -0.739      0.462   -3138.245    1437.080\n",
            "drivewheel_rwd         -1393.0072   1327.046     -1.050      0.297   -4030.655    1244.640\n",
            "enginelocation_rear     4920.8510   1878.236      2.620      0.010    1187.653    8654.049\n",
            "enginetype_dohcv         290.8615   3118.387      0.093      0.926   -5907.270    6488.993\n",
            "enginetype_l           -1259.1940    958.461     -1.314      0.192   -3164.240     645.852\n",
            "enginetype_ohc          -318.0058    902.080     -0.353      0.725   -2110.988    1474.976\n",
            "enginetype_ohcf         1138.9452   1059.824      1.075      0.286    -967.570    3245.460\n",
            "enginetype_ohcv        -1391.8556   1301.970     -1.069      0.288   -3979.663    1195.952\n",
            "enginetype_rotor        6744.3881   2491.565      2.707      0.008    1792.132    1.17e+04\n",
            "fuelsystem_2bbl         2404.4879   1359.986      1.768      0.081    -298.631    5107.607\n",
            "fuelsystem_4bbl         1132.0482   2592.199      0.437      0.663   -4020.227    6284.324\n",
            "fuelsystem_idi          4822.5828   4052.732      1.190      0.237   -3232.661    1.29e+04\n",
            "fuelsystem_mfi         -2.075e-12   3.21e-12     -0.647      0.519   -8.45e-12     4.3e-12\n",
            "fuelsystem_mpfi         1568.0491   1482.816      1.057      0.293   -1379.208    4515.306\n",
            "fuelsystem_spdi         1158.1552   1718.412      0.674      0.502   -2257.375    4573.685\n",
            "fuelsystem_spfi         2039.4149   2480.546      0.822      0.413   -2890.939    6969.769\n",
            "car_company_audi          14.9686   2053.835      0.007      0.994   -4067.251    4097.188\n",
            "car_company_bmw         7272.2594   1965.043      3.701      0.000    3366.524    1.12e+04\n",
            "car_company_buick       6875.9526   2219.913      3.097      0.003    2463.635    1.13e+04\n",
            "car_company_chevrolet  -4172.9890   2343.759     -1.780      0.078   -8831.465     485.487\n",
            "car_company_dodge      -4140.1906   1782.403     -2.323      0.023   -7682.909    -597.472\n",
            "car_company_honda      -2024.8946   2014.830     -1.005      0.318   -6029.588    1979.799\n",
            "car_company_isuzu      -1568.7948   1939.801     -0.809      0.421   -5424.360    2286.770\n",
            "car_company_jaguar      1491.0493   2560.096      0.582      0.562   -3597.419    6579.517\n",
            "car_company_mazda      -2504.6200   1527.853     -1.639      0.105   -5541.394     532.154\n",
            "car_company_mercury    -1594.0387   2486.135     -0.641      0.523   -6535.502    3347.424\n",
            "car_company_mitsubishi -4572.3670   1771.568     -2.581      0.012   -8093.551   -1051.183\n",
            "car_company_nissan     -3072.2827   1501.862     -2.046      0.044   -6057.396     -87.169\n",
            "car_company_peugeot    -1259.1940    958.461     -1.314      0.192   -3164.240     645.852\n",
            "car_company_plymouth   -4405.8614   1752.695     -2.514      0.014   -7889.532    -922.191\n",
            "car_company_porsche     5532.1130   2496.536      2.216      0.029     569.977    1.05e+04\n",
            "car_company_renault    -3693.7631   2120.914     -1.742      0.085   -7909.309     521.783\n",
            "car_company_saab         809.4785   1941.181      0.417      0.678   -3048.828    4667.785\n",
            "car_company_subaru     -3781.9058   1543.236     -2.451      0.016   -6849.254    -714.558\n",
            "car_company_toyota     -2751.7696   1433.614     -1.919      0.058   -5601.233      97.694\n",
            "car_company_volkswagen -1847.2038   1683.429     -1.097      0.276   -5193.202    1498.794\n",
            "car_company_volvo        237.9138   1973.607      0.121      0.904   -3684.843    4160.671\n",
            "==============================================================================\n",
            "Omnibus:                        1.439   Durbin-Watson:                   1.908\n",
            "Prob(Omnibus):                  0.487   Jarque-Bera (JB):                1.004\n",
            "Skew:                           0.119   Prob(JB):                        0.605\n",
            "Kurtosis:                       3.335   Cond. No.                     1.43e+16\n",
            "==============================================================================\n",
            "\n",
            "Notes:\n",
            "[1] Standard Errors assume that the covariance matrix of the errors is correctly specified.\n",
            "[2] The smallest eigenvalue is 5.22e-30. This might indicate that there are\n",
            "strong multicollinearity problems or that the design matrix is singular.\n"
          ]
        }
      ]
    },
    {
      "cell_type": "markdown",
      "metadata": {
        "id": "mebERAD9DtH7"
      },
      "source": [
        "---\n"
      ]
    },
    {
      "cell_type": "markdown",
      "metadata": {
        "id": "g_cZ9JNVTL10"
      },
      "source": [
        "#### Activity 1: Understanding Hypothesis Testing\n",
        "\n",
        "From the summary report of the linear regression, you may observe that each feature variable has a **p-value** `(P>|t|)` associated with it. The p-value is one of the important statistics which can be used to eliminate features which are not relatively significant in our model. Before understanding the p-value concept, let us first explore the concept of hypothesis testing.\n",
        "\n",
        "**Hypothesis Testing**\n",
        "\n",
        "Hypothesis Testing is basically testing an assumption that we make about a parameter. This assumption may or may not be true. Eg., \"students having an affluent background are more likely to do well in academics in higher education\" is one such hypothesis.\n",
        "\n",
        "The steps followed in hypothesis testing are:\n",
        "\n",
        "1. An initial assumption or hypothesis is made.\n",
        "2. The validity of that hypothesis is tested.\n",
        "3. If the hypothesis is found to be true, it is accepted otherwise it is rejected.\n",
        "\n",
        "There are two types of hypothesis:\n",
        "\n",
        "1. **Null hypothesis:** denoted by $H_0$, is a general statement or an initial assumption which we make about a parameter.\n",
        "2. **Alternative hypothesis:** denoted by $H_1$ or $H_a$, It is contrary to the null hypothesis. It is the hypothesis we would accept if our null hypothesis is found to be false.\n",
        "\n",
        "In hypothesis testing, we need to gather enough evidence to either accept or reject our null hypothesis. There are two types of hypothesis tests that can be used for multiple linear regression:\n",
        "- **F-test:** This test measures the overall significance of all the coefficients.\n",
        "- **T-test:** This test measures the significance of each individual coefficient.\n",
        "\n",
        "Let us first determine the overall significance of our model using the F-test."
      ]
    },
    {
      "cell_type": "markdown",
      "metadata": {
        "id": "uVqKWc0FWd_K"
      },
      "source": [
        "---"
      ]
    },
    {
      "cell_type": "markdown",
      "metadata": {
        "id": "VtfCyEXmWqZd"
      },
      "source": [
        "#### Activity 2: F-Test\n",
        "\n",
        "The F-test is used to assess all the coefficients collectively. It validates whether any of the independent variables are significant. Let us apply F-test to the car price prediction model.\n",
        "\n",
        "The regression equation for the car price prediction model can be given as\n",
        "\n",
        "$$Y = \\beta_0 + \\beta_1 x_1 + \\beta_2 x_2 + \\beta_3 x_3 + \\dots + \\beta_{59} x_{59} + \\epsilon$$\n",
        "\n",
        "where,\n",
        " - $x_1$ is `symboling`\n",
        " - $x_2$ is `doornumber`\n",
        " - $x_3$ is `wheelbase`\n",
        "\n",
        " $\\vdots$   \n",
        "\n",
        " - $x_{59}$ is `wheelbase` and\n",
        " - $Y$ is the `price`\n",
        "\n",
        "**Step 1: Define null and alternative hypothesis**\n",
        "\n",
        "$H_0: \\beta_1 = \\beta_2 = \\dots = \\beta_{59} = 0$ i.e. all the regression coefficients are equal to zero.\n",
        "\n",
        "$H_1: \\beta_i \\neq 0$, i.e. at least one of the coefficient is not zero.\n",
        "\n",
        "- $H_0$ means that none of the feature or independent variables have a significant relationship with our target variable `price` and our model has no predictive capability.\n",
        "\n",
        "- $H_1$ means that at least one feature variable has a significant relationship with our target variable `price`.\n",
        "\n",
        "**Step 2: Calculate the test statistic value** (in case of F-test it is F-statistic value)\n",
        "\n",
        "It is calculated as\n",
        "\n",
        "$$F* = \\frac{\\textrm{explained variance}}{\\textrm{unexplained variance}} = \\frac{\\text{MSM}}{\\text{MSE}}$$\n",
        "\n",
        "where,\n",
        "\n",
        "- MSM is the Mean of Squares for Model\n",
        "- MSE is Mean of Squared Errors (or Residuals)\n",
        "\n",
        "Further, MSM  is calculated as\n",
        "\n",
        "$$\\text{MSM} = \\frac{\\text{SSM}}{\\text{DFM}}=\\frac{\\sum(y_{\\text{pred}} - \\bar{y})^2}{ p - 1}$$\n",
        "\n",
        "where,\n",
        "- SSM is the Sum of Squares for Model\n",
        "- DFM is Degrees of Freedom for Model\n",
        "- $p$ is the number of independent variables\n",
        "\n",
        "Similarly, MSE is calculated as:\n",
        "\n",
        "$$\\text{MSE} = \\frac{\\text{SSE}}{\\text{DFE}}=\\frac{\\sum(y - y_{\\text{pred}})^2}{ N - p}$$\n",
        "\n",
        "where,\n",
        "- SSE is the Sum of Squares for Errors\n",
        "- DFE is Degrees of Freedom for Errors\n",
        "- $N$ is number of instances (or rows) in the dataset\n",
        "\n",
        "Let's create `mean_sq_model()` and `mean_sq_error()` functions to calculate the MSM and MSE values using the above formulae respectively.\n",
        "\n",
        "**Note:** You can also obtain the MSM and MSE values using the `mse_model` and `mse_resid` attributes respectively of `statsmodels.api` module."
      ]
    },
    {
      "cell_type": "code",
      "metadata": {
        "id": "k87IbgJ2o-Br",
        "colab": {
          "base_uri": "https://localhost:8080/"
        },
        "outputId": "ba1e474b-0ec9-4802-8b79-4ef2987d8ea8"
      },
      "source": [
        "# S2.1: Calculate N and p values\n",
        "num_rows = X_train.shape[0] # Number of rows or instances\n",
        "num_predictors = X_train.shape[1] # Number of columns or feature (or independent) variables\n",
        "print(\"Number of rows (N):\", num_rows)\n",
        "print(\"Number of predictors (p):\", num_predictors)"
      ],
      "execution_count": null,
      "outputs": [
        {
          "output_type": "stream",
          "name": "stdout",
          "text": [
            "Number of rows (N): 143\n",
            "Number of predictors (p): 59\n"
          ]
        }
      ]
    },
    {
      "cell_type": "code",
      "metadata": {
        "id": "nB_mnlQfq4HM"
      },
      "source": [
        "# S2.2: Create functions to calculate MSM and MSE values respectively.\n",
        "def mean_sq_model(X, y_actual):\n",
        "    y_pred = lin_reg.predict(X)\n",
        "    sq_model = (y_pred - y_actual.mean()) ** 2\n",
        "    msm = sq_model.sum() / (num_predictors - 1)\n",
        "    return msm\n",
        "\n",
        "def mean_sq_error(X, y_actual):\n",
        "    y_pred = lin_reg.predict(X)\n",
        "    sq_error = (y_actual - y_pred) ** 2\n",
        "    mse = sq_error.sum() / (num_rows - num_predictors)\n",
        "    return mse"
      ],
      "execution_count": null,
      "outputs": []
    },
    {
      "cell_type": "code",
      "metadata": {
        "id": "kljuui_SrREE",
        "colab": {
          "base_uri": "https://localhost:8080/"
        },
        "outputId": "27612ad7-ae51-4b94-98fa-06621281c8b1"
      },
      "source": [
        "# S2.3: Calculate the MSM and MSE on the train sets\n",
        "print(f\"Train Set\\n{'-' * 50}\")\n",
        "print(f\"Mean Squared Model (MSM): {mean_sq_model(X_train_sm, y_train):.4f}\")\n",
        "print(f\"Mean Squared Error (MSE): {mean_sq_error(X_train_sm, y_train):.4f}\")"
      ],
      "execution_count": null,
      "outputs": [
        {
          "output_type": "stream",
          "name": "stdout",
          "text": [
            "Train Set\n",
            "--------------------------------------------------\n",
            "Mean Squared Model (MSM): 146831795.7412\n",
            "Mean Squared Error (MSE): 2375608.3602\n"
          ]
        }
      ]
    },
    {
      "cell_type": "markdown",
      "metadata": {
        "id": "SeXUsj5Ds9LN"
      },
      "source": [
        "Now let us calculate the F-statistic value using the\n",
        "\n",
        "$$F* = \\frac{\\text{MSM}}{\\text{MSE}}$$\n",
        "\n",
        " formula."
      ]
    },
    {
      "cell_type": "code",
      "metadata": {
        "id": "iP6rtlBEtS_A",
        "colab": {
          "base_uri": "https://localhost:8080/"
        },
        "outputId": "44d12160-8efe-424b-9a32-986377080537"
      },
      "source": [
        "# S2.4: Calculate the F-statistic using the above formula.\n",
        "f_statistic = mean_sq_model(X_train_sm, y_train) / mean_sq_error(X_train_sm, y_train)\n",
        "print(f_statistic)"
      ],
      "execution_count": null,
      "outputs": [
        {
          "output_type": "stream",
          "name": "stdout",
          "text": [
            "61.808081752800284\n"
          ]
        }
      ]
    },
    {
      "cell_type": "markdown",
      "metadata": {
        "id": "bF35-Ib0ux0R"
      },
      "source": [
        "**Step 3: Determine the p-value or probability value for the F-statistic**\n",
        "\n",
        "We can use manually calculate p-value for any test-statistic using the formula:\n",
        "$$\\textrm{p value} = 2 \\times  (1 - \\textrm{cdf}(|ts|))$$\n",
        "\n",
        "where $|ts|$ is the absolute value of test statistic (in this case, F-statistic)\n",
        "\n"
      ]
    },
    {
      "cell_type": "code",
      "metadata": {
        "id": "6KUSyTPlvNrQ",
        "colab": {
          "base_uri": "https://localhost:8080/"
        },
        "outputId": "080ede51-0de0-4983-ae7b-985c8448c216"
      },
      "source": [
        "# S2.5: Calculate p-value for F-statistic.\n",
        "from scipy.stats import norm\n",
        "pvalue_ftest = (2 * (1 - norm.cdf(abs(f_statistic))))\n",
        "pvalue_ftest"
      ],
      "execution_count": null,
      "outputs": [
        {
          "output_type": "execute_result",
          "data": {
            "text/plain": [
              "0.0"
            ]
          },
          "metadata": {},
          "execution_count": 6
        }
      ]
    },
    {
      "cell_type": "markdown",
      "metadata": {
        "id": "Y1tK5Pjpvab-"
      },
      "source": [
        "We can also directly calculate p-value for F-statistic using `f_pvalue` attribute of the `statsmodels.api` module."
      ]
    },
    {
      "cell_type": "code",
      "metadata": {
        "id": "sqP5GjemvZ__",
        "colab": {
          "base_uri": "https://localhost:8080/"
        },
        "outputId": "c4024683-e5c9-4ba4-a2f2-f6cd543a7324"
      },
      "source": [
        "# S2.6: Calculate p-value using f_pvalue attribute\n",
        "print(f\"p-value for F-test: {lin_reg.f_pvalue:.3f}\")"
      ],
      "execution_count": null,
      "outputs": [
        {
          "output_type": "stream",
          "name": "stdout",
          "text": [
            "p-value for F-test: 0.000\n"
          ]
        }
      ]
    },
    {
      "cell_type": "markdown",
      "metadata": {
        "id": "dPpkhyzvwazi"
      },
      "source": [
        "Thus, the F-statistic value is 61.81 and its p-value is 0.0. You may observe a slight difference in the `F-statistic` and `Prob (F-statistic)` values of the summary table as it works slightly different. This is to show that you can also derive F-statistic and its p-value directly from the summary table.\n",
        "\n",
        "**Step 4: Accept or reject null hypothesis based on the p-value**\n",
        "\n",
        "After determining the p-value, we either accept or reject our null hypothesis.\n",
        "\n",
        "If p-value is below 0.05, the null hypothesis will be rejected. Let's determine whether the p-value is below 0.05 or not.\n",
        "\n"
      ]
    },
    {
      "cell_type": "code",
      "metadata": {
        "id": "-kC7V6ex4V6U",
        "colab": {
          "base_uri": "https://localhost:8080/"
        },
        "outputId": "0d9f26b9-eb73-4d93-c5d1-0ae60a759e02"
      },
      "source": [
        "# S2.7: Create a function to accept or reject null hypothesis.\n",
        "def null_hypothesis(pvalue):\n",
        "  if pvalue < 0.05:\n",
        "    print(\"Reject null hypothesis\")\n",
        "  else:\n",
        "    print(\"Accept null hypothesis\")\n",
        "\n",
        "null_hypothesis(pvalue_ftest)"
      ],
      "execution_count": null,
      "outputs": [
        {
          "output_type": "stream",
          "name": "stdout",
          "text": [
            "Reject null hypothesis\n"
          ]
        }
      ]
    },
    {
      "cell_type": "markdown",
      "metadata": {
        "id": "Rex_Dpqw4iFx"
      },
      "source": [
        "The p-value that we obtained from F-test is equal to 0.00, so we can reject our null hypothesis and conclude that at least one of the independent variable has linear relationship with our target variable `price`. But, what is p-value?\n",
        "\n",
        "**What is meant by p-value?**\n",
        "\n",
        "The p-value is a probability value that helps us to determine whether our hypothesis is correct. The p-value for each feature tests the null hypothesis that there is no correlation between the feature and the target variable. Smaller the p-value, stronger is the evidence that you should reject null hypothesis. A p-value less than 0.05 is statistically significant. It indicates that there is less than 5% probability that the null hypothesis is correct. Therefore, we reject the null hypothesis, and accept the alternative hypothesis. However, a p-value greater than 0.05 indicates weak evidence and we fail to reject the null hypothesis.\n",
        "\n",
        "The F-test for our model rejected the null hypothesis and concluded that at least one feature variable is significant and our model definitely possess predictive capability. Now, we will perform **t-test** to determine which variables are significant in predicting the price of a car and which are not."
      ]
    },
    {
      "cell_type": "markdown",
      "metadata": {
        "id": "GRB8dcxb5lsA"
      },
      "source": [
        "---"
      ]
    },
    {
      "cell_type": "markdown",
      "metadata": {
        "id": "SCeaSQ-n7NXJ"
      },
      "source": [
        "#### Activity 3: T-Test\n",
        "\n",
        "After concluding from the F-test that at least one feature variable is significant, now we may want to know which variables are significant. For this, we can do a **t-test** to find out which independent variable is making a useful contribution in the prediction of the dependent variable.\n",
        "\n",
        "Remember, the regression equation for our model is:\n",
        "\n",
        "\n",
        "\n",
        "$$Y = \\beta_0 + \\beta_1 x_1 + \\beta_2 x_2 + \\beta_3 x_3 + \\dots + \\beta_{59} x_{59} + \\epsilon$$\n",
        "\n",
        "where,\n",
        "\n",
        " - $x_1$ is symboling\n",
        " - $x_2$ is doornumber\n",
        " - $x_3$ is wheelbase\n",
        "\n",
        " $\\vdots$   \n",
        "\n",
        " -  $x_{59}$ is wheelbase    \n",
        "\n",
        " and\n",
        " - $Y$ is the price\n",
        "\n",
        "For example, let us determine whether feature `symboling` is contributing significantly in the prediction of dependent variable `price`. We will follow the same steps as that of F-test.\n",
        "\n",
        "**Step 1:  Define the null and alternative hypothesis**\n",
        "\n",
        "$H_0:   \\beta_1 = 0$ i.e. `symboling` and `price` are not linearly related\n",
        "\n",
        "$H_1:   \\beta_1 \\neq 0$ i.e. `symboling` and `price` are linearly related\n",
        "\n",
        "**Step 2: Calculate the test statistic value** (in case of t-test, it is t-statistic value)\n",
        "\n",
        "The t-statistic is calculated as:\n",
        "\n",
        "$$t∗= \\frac{\\textrm{coefficient - hypothesized  value} }{\\textrm{standard  error  of  coefficient}}$$\n",
        "\n",
        "As the hypothesized value is usually 0,\n",
        "$$t∗= \\frac{\\textrm{coefficient} }{\\textrm{standard  error  of  coefficient}}$$\n",
        "\n",
        "For our example above, the t-statistic is:\n",
        "\n",
        "$$t∗= \\frac{\\beta_1 }{SE(\\beta_1)}$$\n",
        "\n",
        "The **standard error of coefficient (SE)** is an estimate of the standard deviation of the coefficient, the amount it varies across cases. Its formula is quite complicated.\n",
        "\n",
        "However, we can obtain standard error for every coefficient by using `bse` attribute of `statsmodels.api` module. The `b` in `bse` stands for the coefficient $\\beta$ and `se` for standard errors.\n"
      ]
    },
    {
      "cell_type": "code",
      "metadata": {
        "id": "W74Uh6Oa82C7",
        "colab": {
          "base_uri": "https://localhost:8080/"
        },
        "outputId": "c2a63aea-5394-48ec-da0e-716a0a7af7de"
      },
      "source": [
        "# T3.1: Calculate the SE(beta_1) value.\n",
        "se_beta_1 = lin_reg.bse['symboling']\n",
        "se_beta_1"
      ],
      "execution_count": null,
      "outputs": [
        {
          "output_type": "execute_result",
          "data": {
            "text/plain": [
              "338.2612040241069"
            ]
          },
          "metadata": {},
          "execution_count": 9
        }
      ]
    },
    {
      "cell_type": "code",
      "metadata": {
        "id": "2fB6j9d094l8",
        "colab": {
          "base_uri": "https://localhost:8080/"
        },
        "outputId": "37ca449f-d834-465e-f3be-aff42496e01a"
      },
      "source": [
        "# T3.2: Calculate t-statistic for beta_1 using the above formula.\n",
        "t_beta_1 = lin_reg.params['symboling'] / se_beta_1\n",
        "t_beta_1"
      ],
      "execution_count": null,
      "outputs": [
        {
          "output_type": "execute_result",
          "data": {
            "text/plain": [
              "-0.7664492916550303"
            ]
          },
          "metadata": {},
          "execution_count": 10
        }
      ]
    },
    {
      "cell_type": "markdown",
      "metadata": {
        "id": "PXwNEAyT-X0K"
      },
      "source": [
        "**Step 3:  Determine the p-value or probability value for the t-statistic**\n",
        "\n",
        "After obtaining the t-statistic for $\\beta_1$, let's validate the null hypothesis by calculating the p-value.\n"
      ]
    },
    {
      "cell_type": "code",
      "metadata": {
        "id": "mtTAnmdm-fJP",
        "colab": {
          "base_uri": "https://localhost:8080/"
        },
        "outputId": "0675af92-7296-4802-c55c-515b20aa52de"
      },
      "source": [
        "# T3.3: Calculate p-value based on t-statistic.\n",
        "pvalue_beta_1 = (2* (1- norm.cdf(abs(t_beta_1))))\n",
        "pvalue_beta_1"
      ],
      "execution_count": null,
      "outputs": [
        {
          "output_type": "execute_result",
          "data": {
            "text/plain": [
              "0.4434090131014965"
            ]
          },
          "metadata": {},
          "execution_count": 11
        }
      ]
    },
    {
      "cell_type": "markdown",
      "metadata": {
        "id": "y-bMn1aa-1cG"
      },
      "source": [
        "Thus, the t-statistic value for $\\beta_1$ is -0.766 and its p-value is 0.443. You can also derive these values directly from the summary table.\n",
        "\n",
        "**Step 4: Accept or reject null hypothesis based on the p-value**\n",
        "\n",
        "After determining the p-value, we either accept or reject our null hypothesis.\n",
        "\n"
      ]
    },
    {
      "cell_type": "code",
      "metadata": {
        "id": "dx8Bm83l_HpY",
        "colab": {
          "base_uri": "https://localhost:8080/"
        },
        "outputId": "491510ad-a8ac-43a9-ebc7-fb941a39c82a"
      },
      "source": [
        "# S3.1: Accept or reject null hypothesis\n",
        "null_hypothesis(pvalue_beta_1)"
      ],
      "execution_count": null,
      "outputs": [
        {
          "output_type": "stream",
          "name": "stdout",
          "text": [
            "Accept null hypothesis\n"
          ]
        }
      ]
    },
    {
      "cell_type": "markdown",
      "metadata": {
        "id": "AoEIHQEc_d7M"
      },
      "source": [
        "Since the p-value is above 0.05, the null hypothesis will be accepted. This means that `symboling` and `price` are not linearly related and `symboling` is not making a useful contribution in predicting the target variable `price`. Hence, we can remove this feature from our model.\n",
        "\n",
        "Similarly, let's perform t-test for the second feature `doornumber` to determine whether it is significant or not. For this, our null hypothesis and alternate hypothesis would be:\n",
        "\n",
        "$H_0:   \\beta_2 = 0$ i.e. `doornumber` and `price` are not linearly related\n",
        "\n",
        "$H_1:   \\beta_2 \\neq 0$ i.e. `doornumber` and `price` are  linearly related\n",
        "\n"
      ]
    },
    {
      "cell_type": "code",
      "metadata": {
        "id": "S9Nf7rJTAlI2",
        "colab": {
          "base_uri": "https://localhost:8080/"
        },
        "outputId": "6ac77069-2d2f-49e8-dd08-a5abc1ef16df"
      },
      "source": [
        "# S3.2: Calculate the SE (beta_2) value.\n",
        "se_beta_2 = lin_reg.bse['doornumber']\n",
        "se_beta_2"
      ],
      "execution_count": null,
      "outputs": [
        {
          "output_type": "execute_result",
          "data": {
            "text/plain": [
              "276.4895152296257"
            ]
          },
          "metadata": {},
          "execution_count": 13
        }
      ]
    },
    {
      "cell_type": "code",
      "metadata": {
        "id": "lJdf1NrCAtaB",
        "colab": {
          "base_uri": "https://localhost:8080/"
        },
        "outputId": "a00c9a4e-4695-479b-be23-d3a37428a7f1"
      },
      "source": [
        "# S3.3: Calculate t-statistic for beta_2 using formula\n",
        "t_beta_2 = lin_reg.params['doornumber'] / se_beta_2\n",
        "t_beta_2"
      ],
      "execution_count": null,
      "outputs": [
        {
          "output_type": "execute_result",
          "data": {
            "text/plain": [
              "0.9269809100875497"
            ]
          },
          "metadata": {},
          "execution_count": 14
        }
      ]
    },
    {
      "cell_type": "code",
      "metadata": {
        "id": "jl1Nx1f9A6L-",
        "colab": {
          "base_uri": "https://localhost:8080/"
        },
        "outputId": "c49b4895-b3f2-46b9-ee20-e8d9d13214d4"
      },
      "source": [
        "# S3.4: Calculate p-value based on t-statistic\n",
        "pvalue_beta_2 = (2 * (1- norm.cdf(abs(t_beta_2))))\n",
        "pvalue_beta_2"
      ],
      "execution_count": null,
      "outputs": [
        {
          "output_type": "execute_result",
          "data": {
            "text/plain": [
              "0.35393644595478"
            ]
          },
          "metadata": {},
          "execution_count": 15
        }
      ]
    },
    {
      "cell_type": "code",
      "metadata": {
        "id": "14smmrFRCEzJ",
        "colab": {
          "base_uri": "https://localhost:8080/"
        },
        "outputId": "96e49fef-05b0-4e7b-fe8a-ba8b8cca06d3"
      },
      "source": [
        "# S3.5: Accept or reject null hypothesis\n",
        "null_hypothesis(pvalue_beta_2)"
      ],
      "execution_count": null,
      "outputs": [
        {
          "output_type": "stream",
          "name": "stdout",
          "text": [
            "Accept null hypothesis\n"
          ]
        }
      ]
    },
    {
      "cell_type": "markdown",
      "metadata": {
        "id": "JqNFRfH3CLPu"
      },
      "source": [
        "Since the p-value is above 0.05, the null hypothesis will be accepted. This means that the feature `doornumber` is not making a useful contribution in predicting the target variable `price`. Hence, we can remove this feature from our model.\n",
        "\n",
        "Similarly, you can perform t-test for each independent variable and determine which variable is actually contributing in predicting the price of a car.\n",
        "\n",
        "You can obtain p-values for all features all at once either from the summary of linear regression report or by using `pvalues` attribute of Linear regression object."
      ]
    },
    {
      "cell_type": "code",
      "metadata": {
        "id": "FuTVDydcDhB9",
        "colab": {
          "base_uri": "https://localhost:8080/"
        },
        "outputId": "7068265e-6779-4281-cde4-64130e07fa76"
      },
      "source": [
        "# S3.6: Obtain p-values for all features\n",
        "print(lin_reg.pvalues)"
      ],
      "execution_count": null,
      "outputs": [
        {
          "output_type": "stream",
          "name": "stdout",
          "text": [
            "const                     0.000002\n",
            "symboling                 0.445484\n",
            "doornumber                0.356501\n",
            "wheelbase                 0.491750\n",
            "carlength                 0.356087\n",
            "carwidth                  0.003989\n",
            "carheight                 0.364582\n",
            "curbweight                0.016007\n",
            "cylindernumber            0.244234\n",
            "enginesize                0.000297\n",
            "boreratio                 0.007926\n",
            "stroke                    0.789116\n",
            "compressionratio          0.782639\n",
            "horsepower                0.758939\n",
            "peakrpm                   0.012603\n",
            "citympg                   0.456021\n",
            "highwaympg                0.755790\n",
            "fueltype_gas              0.014296\n",
            "aspiration_turbo          0.002748\n",
            "carbody_hardtop           0.889279\n",
            "carbody_hatchback         0.002640\n",
            "carbody_sedan             0.005734\n",
            "carbody_wagon             0.003059\n",
            "drivewheel_fwd            0.461885\n",
            "drivewheel_rwd            0.296761\n",
            "enginelocation_rear       0.010376\n",
            "enginetype_dohcv          0.925901\n",
            "enginetype_l              0.192379\n",
            "enginetype_ohc            0.725297\n",
            "enginetype_ohcf           0.285501\n",
            "enginetype_ohcv           0.288010\n",
            "enginetype_rotor          0.008174\n",
            "fuelsystem_2bbl           0.080563\n",
            "fuelsystem_4bbl           0.663401\n",
            "fuelsystem_idi            0.237300\n",
            "fuelsystem_mfi            0.519402\n",
            "fuelsystem_mpfi           0.293220\n",
            "fuelsystem_spdi           0.502118\n",
            "fuelsystem_spfi           0.413231\n",
            "car_company_audi          0.994202\n",
            "car_company_bmw           0.000376\n",
            "car_company_buick         0.002628\n",
            "car_company_chevrolet     0.078490\n",
            "car_company_dodge         0.022523\n",
            "car_company_honda         0.317686\n",
            "car_company_isuzu         0.420871\n",
            "car_company_jaguar        0.561791\n",
            "car_company_mazda         0.104761\n",
            "car_company_mercury       0.523097\n",
            "car_company_mitsubishi    0.011527\n",
            "car_company_nissan        0.043811\n",
            "car_company_peugeot       0.192379\n",
            "car_company_plymouth      0.013786\n",
            "car_company_porsche       0.029307\n",
            "car_company_renault       0.085115\n",
            "car_company_saab          0.677703\n",
            "car_company_subaru        0.016262\n",
            "car_company_toyota        0.058203\n",
            "car_company_volkswagen    0.275544\n",
            "car_company_volvo         0.904327\n",
            "dtype: float64\n"
          ]
        }
      ]
    },
    {
      "cell_type": "markdown",
      "metadata": {
        "id": "OrL_v5-lDvcz"
      },
      "source": [
        "Let us obtain those features whose p-value is less than 0.05 and perform linear regression using the reduced features.\n",
        "\n"
      ]
    },
    {
      "cell_type": "code",
      "metadata": {
        "id": "1viwlEMcQIIc",
        "colab": {
          "base_uri": "https://localhost:8080/",
          "height": 1000
        },
        "outputId": "0d68ae60-ad12-46eb-a0f9-3a8e895c7b1e"
      },
      "source": [
        "# S3.7: Create a dataframe with Features and their corresponding p-values\n",
        "df_pvalues = pd.DataFrame(zip(features, lin_reg.pvalues.iloc[1:,]), columns = ['Features', 'p-values'])\n",
        "df_pvalues"
      ],
      "execution_count": null,
      "outputs": [
        {
          "output_type": "execute_result",
          "data": {
            "text/plain": [
              "                  Features  p-values\n",
              "0                symboling  0.445484\n",
              "1               doornumber  0.356501\n",
              "2                wheelbase  0.491750\n",
              "3                carlength  0.356087\n",
              "4                 carwidth  0.003989\n",
              "5                carheight  0.364582\n",
              "6               curbweight  0.016007\n",
              "7           cylindernumber  0.244234\n",
              "8               enginesize  0.000297\n",
              "9                boreratio  0.007926\n",
              "10                  stroke  0.789116\n",
              "11        compressionratio  0.782639\n",
              "12              horsepower  0.758939\n",
              "13                 peakrpm  0.012603\n",
              "14                 citympg  0.456021\n",
              "15              highwaympg  0.755790\n",
              "16            fueltype_gas  0.014296\n",
              "17        aspiration_turbo  0.002748\n",
              "18         carbody_hardtop  0.889279\n",
              "19       carbody_hatchback  0.002640\n",
              "20           carbody_sedan  0.005734\n",
              "21           carbody_wagon  0.003059\n",
              "22          drivewheel_fwd  0.461885\n",
              "23          drivewheel_rwd  0.296761\n",
              "24     enginelocation_rear  0.010376\n",
              "25        enginetype_dohcv  0.925901\n",
              "26            enginetype_l  0.192379\n",
              "27          enginetype_ohc  0.725297\n",
              "28         enginetype_ohcf  0.285501\n",
              "29         enginetype_ohcv  0.288010\n",
              "30        enginetype_rotor  0.008174\n",
              "31         fuelsystem_2bbl  0.080563\n",
              "32         fuelsystem_4bbl  0.663401\n",
              "33          fuelsystem_idi  0.237300\n",
              "34          fuelsystem_mfi  0.519402\n",
              "35         fuelsystem_mpfi  0.293220\n",
              "36         fuelsystem_spdi  0.502118\n",
              "37         fuelsystem_spfi  0.413231\n",
              "38        car_company_audi  0.994202\n",
              "39         car_company_bmw  0.000376\n",
              "40       car_company_buick  0.002628\n",
              "41   car_company_chevrolet  0.078490\n",
              "42       car_company_dodge  0.022523\n",
              "43       car_company_honda  0.317686\n",
              "44       car_company_isuzu  0.420871\n",
              "45      car_company_jaguar  0.561791\n",
              "46       car_company_mazda  0.104761\n",
              "47     car_company_mercury  0.523097\n",
              "48  car_company_mitsubishi  0.011527\n",
              "49      car_company_nissan  0.043811\n",
              "50     car_company_peugeot  0.192379\n",
              "51    car_company_plymouth  0.013786\n",
              "52     car_company_porsche  0.029307\n",
              "53     car_company_renault  0.085115\n",
              "54        car_company_saab  0.677703\n",
              "55      car_company_subaru  0.016262\n",
              "56      car_company_toyota  0.058203\n",
              "57  car_company_volkswagen  0.275544\n",
              "58       car_company_volvo  0.904327"
            ],
            "text/html": [
              "\n",
              "  <div id=\"df-21394dc0-7d85-4f73-a151-37617b9892d0\" class=\"colab-df-container\">\n",
              "    <div>\n",
              "<style scoped>\n",
              "    .dataframe tbody tr th:only-of-type {\n",
              "        vertical-align: middle;\n",
              "    }\n",
              "\n",
              "    .dataframe tbody tr th {\n",
              "        vertical-align: top;\n",
              "    }\n",
              "\n",
              "    .dataframe thead th {\n",
              "        text-align: right;\n",
              "    }\n",
              "</style>\n",
              "<table border=\"1\" class=\"dataframe\">\n",
              "  <thead>\n",
              "    <tr style=\"text-align: right;\">\n",
              "      <th></th>\n",
              "      <th>Features</th>\n",
              "      <th>p-values</th>\n",
              "    </tr>\n",
              "  </thead>\n",
              "  <tbody>\n",
              "    <tr>\n",
              "      <th>0</th>\n",
              "      <td>symboling</td>\n",
              "      <td>0.445484</td>\n",
              "    </tr>\n",
              "    <tr>\n",
              "      <th>1</th>\n",
              "      <td>doornumber</td>\n",
              "      <td>0.356501</td>\n",
              "    </tr>\n",
              "    <tr>\n",
              "      <th>2</th>\n",
              "      <td>wheelbase</td>\n",
              "      <td>0.491750</td>\n",
              "    </tr>\n",
              "    <tr>\n",
              "      <th>3</th>\n",
              "      <td>carlength</td>\n",
              "      <td>0.356087</td>\n",
              "    </tr>\n",
              "    <tr>\n",
              "      <th>4</th>\n",
              "      <td>carwidth</td>\n",
              "      <td>0.003989</td>\n",
              "    </tr>\n",
              "    <tr>\n",
              "      <th>5</th>\n",
              "      <td>carheight</td>\n",
              "      <td>0.364582</td>\n",
              "    </tr>\n",
              "    <tr>\n",
              "      <th>6</th>\n",
              "      <td>curbweight</td>\n",
              "      <td>0.016007</td>\n",
              "    </tr>\n",
              "    <tr>\n",
              "      <th>7</th>\n",
              "      <td>cylindernumber</td>\n",
              "      <td>0.244234</td>\n",
              "    </tr>\n",
              "    <tr>\n",
              "      <th>8</th>\n",
              "      <td>enginesize</td>\n",
              "      <td>0.000297</td>\n",
              "    </tr>\n",
              "    <tr>\n",
              "      <th>9</th>\n",
              "      <td>boreratio</td>\n",
              "      <td>0.007926</td>\n",
              "    </tr>\n",
              "    <tr>\n",
              "      <th>10</th>\n",
              "      <td>stroke</td>\n",
              "      <td>0.789116</td>\n",
              "    </tr>\n",
              "    <tr>\n",
              "      <th>11</th>\n",
              "      <td>compressionratio</td>\n",
              "      <td>0.782639</td>\n",
              "    </tr>\n",
              "    <tr>\n",
              "      <th>12</th>\n",
              "      <td>horsepower</td>\n",
              "      <td>0.758939</td>\n",
              "    </tr>\n",
              "    <tr>\n",
              "      <th>13</th>\n",
              "      <td>peakrpm</td>\n",
              "      <td>0.012603</td>\n",
              "    </tr>\n",
              "    <tr>\n",
              "      <th>14</th>\n",
              "      <td>citympg</td>\n",
              "      <td>0.456021</td>\n",
              "    </tr>\n",
              "    <tr>\n",
              "      <th>15</th>\n",
              "      <td>highwaympg</td>\n",
              "      <td>0.755790</td>\n",
              "    </tr>\n",
              "    <tr>\n",
              "      <th>16</th>\n",
              "      <td>fueltype_gas</td>\n",
              "      <td>0.014296</td>\n",
              "    </tr>\n",
              "    <tr>\n",
              "      <th>17</th>\n",
              "      <td>aspiration_turbo</td>\n",
              "      <td>0.002748</td>\n",
              "    </tr>\n",
              "    <tr>\n",
              "      <th>18</th>\n",
              "      <td>carbody_hardtop</td>\n",
              "      <td>0.889279</td>\n",
              "    </tr>\n",
              "    <tr>\n",
              "      <th>19</th>\n",
              "      <td>carbody_hatchback</td>\n",
              "      <td>0.002640</td>\n",
              "    </tr>\n",
              "    <tr>\n",
              "      <th>20</th>\n",
              "      <td>carbody_sedan</td>\n",
              "      <td>0.005734</td>\n",
              "    </tr>\n",
              "    <tr>\n",
              "      <th>21</th>\n",
              "      <td>carbody_wagon</td>\n",
              "      <td>0.003059</td>\n",
              "    </tr>\n",
              "    <tr>\n",
              "      <th>22</th>\n",
              "      <td>drivewheel_fwd</td>\n",
              "      <td>0.461885</td>\n",
              "    </tr>\n",
              "    <tr>\n",
              "      <th>23</th>\n",
              "      <td>drivewheel_rwd</td>\n",
              "      <td>0.296761</td>\n",
              "    </tr>\n",
              "    <tr>\n",
              "      <th>24</th>\n",
              "      <td>enginelocation_rear</td>\n",
              "      <td>0.010376</td>\n",
              "    </tr>\n",
              "    <tr>\n",
              "      <th>25</th>\n",
              "      <td>enginetype_dohcv</td>\n",
              "      <td>0.925901</td>\n",
              "    </tr>\n",
              "    <tr>\n",
              "      <th>26</th>\n",
              "      <td>enginetype_l</td>\n",
              "      <td>0.192379</td>\n",
              "    </tr>\n",
              "    <tr>\n",
              "      <th>27</th>\n",
              "      <td>enginetype_ohc</td>\n",
              "      <td>0.725297</td>\n",
              "    </tr>\n",
              "    <tr>\n",
              "      <th>28</th>\n",
              "      <td>enginetype_ohcf</td>\n",
              "      <td>0.285501</td>\n",
              "    </tr>\n",
              "    <tr>\n",
              "      <th>29</th>\n",
              "      <td>enginetype_ohcv</td>\n",
              "      <td>0.288010</td>\n",
              "    </tr>\n",
              "    <tr>\n",
              "      <th>30</th>\n",
              "      <td>enginetype_rotor</td>\n",
              "      <td>0.008174</td>\n",
              "    </tr>\n",
              "    <tr>\n",
              "      <th>31</th>\n",
              "      <td>fuelsystem_2bbl</td>\n",
              "      <td>0.080563</td>\n",
              "    </tr>\n",
              "    <tr>\n",
              "      <th>32</th>\n",
              "      <td>fuelsystem_4bbl</td>\n",
              "      <td>0.663401</td>\n",
              "    </tr>\n",
              "    <tr>\n",
              "      <th>33</th>\n",
              "      <td>fuelsystem_idi</td>\n",
              "      <td>0.237300</td>\n",
              "    </tr>\n",
              "    <tr>\n",
              "      <th>34</th>\n",
              "      <td>fuelsystem_mfi</td>\n",
              "      <td>0.519402</td>\n",
              "    </tr>\n",
              "    <tr>\n",
              "      <th>35</th>\n",
              "      <td>fuelsystem_mpfi</td>\n",
              "      <td>0.293220</td>\n",
              "    </tr>\n",
              "    <tr>\n",
              "      <th>36</th>\n",
              "      <td>fuelsystem_spdi</td>\n",
              "      <td>0.502118</td>\n",
              "    </tr>\n",
              "    <tr>\n",
              "      <th>37</th>\n",
              "      <td>fuelsystem_spfi</td>\n",
              "      <td>0.413231</td>\n",
              "    </tr>\n",
              "    <tr>\n",
              "      <th>38</th>\n",
              "      <td>car_company_audi</td>\n",
              "      <td>0.994202</td>\n",
              "    </tr>\n",
              "    <tr>\n",
              "      <th>39</th>\n",
              "      <td>car_company_bmw</td>\n",
              "      <td>0.000376</td>\n",
              "    </tr>\n",
              "    <tr>\n",
              "      <th>40</th>\n",
              "      <td>car_company_buick</td>\n",
              "      <td>0.002628</td>\n",
              "    </tr>\n",
              "    <tr>\n",
              "      <th>41</th>\n",
              "      <td>car_company_chevrolet</td>\n",
              "      <td>0.078490</td>\n",
              "    </tr>\n",
              "    <tr>\n",
              "      <th>42</th>\n",
              "      <td>car_company_dodge</td>\n",
              "      <td>0.022523</td>\n",
              "    </tr>\n",
              "    <tr>\n",
              "      <th>43</th>\n",
              "      <td>car_company_honda</td>\n",
              "      <td>0.317686</td>\n",
              "    </tr>\n",
              "    <tr>\n",
              "      <th>44</th>\n",
              "      <td>car_company_isuzu</td>\n",
              "      <td>0.420871</td>\n",
              "    </tr>\n",
              "    <tr>\n",
              "      <th>45</th>\n",
              "      <td>car_company_jaguar</td>\n",
              "      <td>0.561791</td>\n",
              "    </tr>\n",
              "    <tr>\n",
              "      <th>46</th>\n",
              "      <td>car_company_mazda</td>\n",
              "      <td>0.104761</td>\n",
              "    </tr>\n",
              "    <tr>\n",
              "      <th>47</th>\n",
              "      <td>car_company_mercury</td>\n",
              "      <td>0.523097</td>\n",
              "    </tr>\n",
              "    <tr>\n",
              "      <th>48</th>\n",
              "      <td>car_company_mitsubishi</td>\n",
              "      <td>0.011527</td>\n",
              "    </tr>\n",
              "    <tr>\n",
              "      <th>49</th>\n",
              "      <td>car_company_nissan</td>\n",
              "      <td>0.043811</td>\n",
              "    </tr>\n",
              "    <tr>\n",
              "      <th>50</th>\n",
              "      <td>car_company_peugeot</td>\n",
              "      <td>0.192379</td>\n",
              "    </tr>\n",
              "    <tr>\n",
              "      <th>51</th>\n",
              "      <td>car_company_plymouth</td>\n",
              "      <td>0.013786</td>\n",
              "    </tr>\n",
              "    <tr>\n",
              "      <th>52</th>\n",
              "      <td>car_company_porsche</td>\n",
              "      <td>0.029307</td>\n",
              "    </tr>\n",
              "    <tr>\n",
              "      <th>53</th>\n",
              "      <td>car_company_renault</td>\n",
              "      <td>0.085115</td>\n",
              "    </tr>\n",
              "    <tr>\n",
              "      <th>54</th>\n",
              "      <td>car_company_saab</td>\n",
              "      <td>0.677703</td>\n",
              "    </tr>\n",
              "    <tr>\n",
              "      <th>55</th>\n",
              "      <td>car_company_subaru</td>\n",
              "      <td>0.016262</td>\n",
              "    </tr>\n",
              "    <tr>\n",
              "      <th>56</th>\n",
              "      <td>car_company_toyota</td>\n",
              "      <td>0.058203</td>\n",
              "    </tr>\n",
              "    <tr>\n",
              "      <th>57</th>\n",
              "      <td>car_company_volkswagen</td>\n",
              "      <td>0.275544</td>\n",
              "    </tr>\n",
              "    <tr>\n",
              "      <th>58</th>\n",
              "      <td>car_company_volvo</td>\n",
              "      <td>0.904327</td>\n",
              "    </tr>\n",
              "  </tbody>\n",
              "</table>\n",
              "</div>\n",
              "    <div class=\"colab-df-buttons\">\n",
              "\n",
              "  <div class=\"colab-df-container\">\n",
              "    <button class=\"colab-df-convert\" onclick=\"convertToInteractive('df-21394dc0-7d85-4f73-a151-37617b9892d0')\"\n",
              "            title=\"Convert this dataframe to an interactive table.\"\n",
              "            style=\"display:none;\">\n",
              "\n",
              "  <svg xmlns=\"http://www.w3.org/2000/svg\" height=\"24px\" viewBox=\"0 -960 960 960\">\n",
              "    <path d=\"M120-120v-720h720v720H120Zm60-500h600v-160H180v160Zm220 220h160v-160H400v160Zm0 220h160v-160H400v160ZM180-400h160v-160H180v160Zm440 0h160v-160H620v160ZM180-180h160v-160H180v160Zm440 0h160v-160H620v160Z\"/>\n",
              "  </svg>\n",
              "    </button>\n",
              "\n",
              "  <style>\n",
              "    .colab-df-container {\n",
              "      display:flex;\n",
              "      gap: 12px;\n",
              "    }\n",
              "\n",
              "    .colab-df-convert {\n",
              "      background-color: #E8F0FE;\n",
              "      border: none;\n",
              "      border-radius: 50%;\n",
              "      cursor: pointer;\n",
              "      display: none;\n",
              "      fill: #1967D2;\n",
              "      height: 32px;\n",
              "      padding: 0 0 0 0;\n",
              "      width: 32px;\n",
              "    }\n",
              "\n",
              "    .colab-df-convert:hover {\n",
              "      background-color: #E2EBFA;\n",
              "      box-shadow: 0px 1px 2px rgba(60, 64, 67, 0.3), 0px 1px 3px 1px rgba(60, 64, 67, 0.15);\n",
              "      fill: #174EA6;\n",
              "    }\n",
              "\n",
              "    .colab-df-buttons div {\n",
              "      margin-bottom: 4px;\n",
              "    }\n",
              "\n",
              "    [theme=dark] .colab-df-convert {\n",
              "      background-color: #3B4455;\n",
              "      fill: #D2E3FC;\n",
              "    }\n",
              "\n",
              "    [theme=dark] .colab-df-convert:hover {\n",
              "      background-color: #434B5C;\n",
              "      box-shadow: 0px 1px 3px 1px rgba(0, 0, 0, 0.15);\n",
              "      filter: drop-shadow(0px 1px 2px rgba(0, 0, 0, 0.3));\n",
              "      fill: #FFFFFF;\n",
              "    }\n",
              "  </style>\n",
              "\n",
              "    <script>\n",
              "      const buttonEl =\n",
              "        document.querySelector('#df-21394dc0-7d85-4f73-a151-37617b9892d0 button.colab-df-convert');\n",
              "      buttonEl.style.display =\n",
              "        google.colab.kernel.accessAllowed ? 'block' : 'none';\n",
              "\n",
              "      async function convertToInteractive(key) {\n",
              "        const element = document.querySelector('#df-21394dc0-7d85-4f73-a151-37617b9892d0');\n",
              "        const dataTable =\n",
              "          await google.colab.kernel.invokeFunction('convertToInteractive',\n",
              "                                                    [key], {});\n",
              "        if (!dataTable) return;\n",
              "\n",
              "        const docLinkHtml = 'Like what you see? Visit the ' +\n",
              "          '<a target=\"_blank\" href=https://colab.research.google.com/notebooks/data_table.ipynb>data table notebook</a>'\n",
              "          + ' to learn more about interactive tables.';\n",
              "        element.innerHTML = '';\n",
              "        dataTable['output_type'] = 'display_data';\n",
              "        await google.colab.output.renderOutput(dataTable, element);\n",
              "        const docLink = document.createElement('div');\n",
              "        docLink.innerHTML = docLinkHtml;\n",
              "        element.appendChild(docLink);\n",
              "      }\n",
              "    </script>\n",
              "  </div>\n",
              "\n",
              "\n",
              "<div id=\"df-8714e7cb-a8a9-48d6-a3cb-49c007107c28\">\n",
              "  <button class=\"colab-df-quickchart\" onclick=\"quickchart('df-8714e7cb-a8a9-48d6-a3cb-49c007107c28')\"\n",
              "            title=\"Suggest charts\"\n",
              "            style=\"display:none;\">\n",
              "\n",
              "<svg xmlns=\"http://www.w3.org/2000/svg\" height=\"24px\"viewBox=\"0 0 24 24\"\n",
              "     width=\"24px\">\n",
              "    <g>\n",
              "        <path d=\"M19 3H5c-1.1 0-2 .9-2 2v14c0 1.1.9 2 2 2h14c1.1 0 2-.9 2-2V5c0-1.1-.9-2-2-2zM9 17H7v-7h2v7zm4 0h-2V7h2v10zm4 0h-2v-4h2v4z\"/>\n",
              "    </g>\n",
              "</svg>\n",
              "  </button>\n",
              "\n",
              "<style>\n",
              "  .colab-df-quickchart {\n",
              "      --bg-color: #E8F0FE;\n",
              "      --fill-color: #1967D2;\n",
              "      --hover-bg-color: #E2EBFA;\n",
              "      --hover-fill-color: #174EA6;\n",
              "      --disabled-fill-color: #AAA;\n",
              "      --disabled-bg-color: #DDD;\n",
              "  }\n",
              "\n",
              "  [theme=dark] .colab-df-quickchart {\n",
              "      --bg-color: #3B4455;\n",
              "      --fill-color: #D2E3FC;\n",
              "      --hover-bg-color: #434B5C;\n",
              "      --hover-fill-color: #FFFFFF;\n",
              "      --disabled-bg-color: #3B4455;\n",
              "      --disabled-fill-color: #666;\n",
              "  }\n",
              "\n",
              "  .colab-df-quickchart {\n",
              "    background-color: var(--bg-color);\n",
              "    border: none;\n",
              "    border-radius: 50%;\n",
              "    cursor: pointer;\n",
              "    display: none;\n",
              "    fill: var(--fill-color);\n",
              "    height: 32px;\n",
              "    padding: 0;\n",
              "    width: 32px;\n",
              "  }\n",
              "\n",
              "  .colab-df-quickchart:hover {\n",
              "    background-color: var(--hover-bg-color);\n",
              "    box-shadow: 0 1px 2px rgba(60, 64, 67, 0.3), 0 1px 3px 1px rgba(60, 64, 67, 0.15);\n",
              "    fill: var(--button-hover-fill-color);\n",
              "  }\n",
              "\n",
              "  .colab-df-quickchart-complete:disabled,\n",
              "  .colab-df-quickchart-complete:disabled:hover {\n",
              "    background-color: var(--disabled-bg-color);\n",
              "    fill: var(--disabled-fill-color);\n",
              "    box-shadow: none;\n",
              "  }\n",
              "\n",
              "  .colab-df-spinner {\n",
              "    border: 2px solid var(--fill-color);\n",
              "    border-color: transparent;\n",
              "    border-bottom-color: var(--fill-color);\n",
              "    animation:\n",
              "      spin 1s steps(1) infinite;\n",
              "  }\n",
              "\n",
              "  @keyframes spin {\n",
              "    0% {\n",
              "      border-color: transparent;\n",
              "      border-bottom-color: var(--fill-color);\n",
              "      border-left-color: var(--fill-color);\n",
              "    }\n",
              "    20% {\n",
              "      border-color: transparent;\n",
              "      border-left-color: var(--fill-color);\n",
              "      border-top-color: var(--fill-color);\n",
              "    }\n",
              "    30% {\n",
              "      border-color: transparent;\n",
              "      border-left-color: var(--fill-color);\n",
              "      border-top-color: var(--fill-color);\n",
              "      border-right-color: var(--fill-color);\n",
              "    }\n",
              "    40% {\n",
              "      border-color: transparent;\n",
              "      border-right-color: var(--fill-color);\n",
              "      border-top-color: var(--fill-color);\n",
              "    }\n",
              "    60% {\n",
              "      border-color: transparent;\n",
              "      border-right-color: var(--fill-color);\n",
              "    }\n",
              "    80% {\n",
              "      border-color: transparent;\n",
              "      border-right-color: var(--fill-color);\n",
              "      border-bottom-color: var(--fill-color);\n",
              "    }\n",
              "    90% {\n",
              "      border-color: transparent;\n",
              "      border-bottom-color: var(--fill-color);\n",
              "    }\n",
              "  }\n",
              "</style>\n",
              "\n",
              "  <script>\n",
              "    async function quickchart(key) {\n",
              "      const quickchartButtonEl =\n",
              "        document.querySelector('#' + key + ' button');\n",
              "      quickchartButtonEl.disabled = true;  // To prevent multiple clicks.\n",
              "      quickchartButtonEl.classList.add('colab-df-spinner');\n",
              "      try {\n",
              "        const charts = await google.colab.kernel.invokeFunction(\n",
              "            'suggestCharts', [key], {});\n",
              "      } catch (error) {\n",
              "        console.error('Error during call to suggestCharts:', error);\n",
              "      }\n",
              "      quickchartButtonEl.classList.remove('colab-df-spinner');\n",
              "      quickchartButtonEl.classList.add('colab-df-quickchart-complete');\n",
              "    }\n",
              "    (() => {\n",
              "      let quickchartButtonEl =\n",
              "        document.querySelector('#df-8714e7cb-a8a9-48d6-a3cb-49c007107c28 button');\n",
              "      quickchartButtonEl.style.display =\n",
              "        google.colab.kernel.accessAllowed ? 'block' : 'none';\n",
              "    })();\n",
              "  </script>\n",
              "</div>\n",
              "\n",
              "  <div id=\"id_4f2becae-ab86-40d5-98ce-ba060b77610f\">\n",
              "    <style>\n",
              "      .colab-df-generate {\n",
              "        background-color: #E8F0FE;\n",
              "        border: none;\n",
              "        border-radius: 50%;\n",
              "        cursor: pointer;\n",
              "        display: none;\n",
              "        fill: #1967D2;\n",
              "        height: 32px;\n",
              "        padding: 0 0 0 0;\n",
              "        width: 32px;\n",
              "      }\n",
              "\n",
              "      .colab-df-generate:hover {\n",
              "        background-color: #E2EBFA;\n",
              "        box-shadow: 0px 1px 2px rgba(60, 64, 67, 0.3), 0px 1px 3px 1px rgba(60, 64, 67, 0.15);\n",
              "        fill: #174EA6;\n",
              "      }\n",
              "\n",
              "      [theme=dark] .colab-df-generate {\n",
              "        background-color: #3B4455;\n",
              "        fill: #D2E3FC;\n",
              "      }\n",
              "\n",
              "      [theme=dark] .colab-df-generate:hover {\n",
              "        background-color: #434B5C;\n",
              "        box-shadow: 0px 1px 3px 1px rgba(0, 0, 0, 0.15);\n",
              "        filter: drop-shadow(0px 1px 2px rgba(0, 0, 0, 0.3));\n",
              "        fill: #FFFFFF;\n",
              "      }\n",
              "    </style>\n",
              "    <button class=\"colab-df-generate\" onclick=\"generateWithVariable('df_pvalues')\"\n",
              "            title=\"Generate code using this dataframe.\"\n",
              "            style=\"display:none;\">\n",
              "\n",
              "  <svg xmlns=\"http://www.w3.org/2000/svg\" height=\"24px\"viewBox=\"0 0 24 24\"\n",
              "       width=\"24px\">\n",
              "    <path d=\"M7,19H8.4L18.45,9,17,7.55,7,17.6ZM5,21V16.75L18.45,3.32a2,2,0,0,1,2.83,0l1.4,1.43a1.91,1.91,0,0,1,.58,1.4,1.91,1.91,0,0,1-.58,1.4L9.25,21ZM18.45,9,17,7.55Zm-12,3A5.31,5.31,0,0,0,4.9,8.1,5.31,5.31,0,0,0,1,6.5,5.31,5.31,0,0,0,4.9,4.9,5.31,5.31,0,0,0,6.5,1,5.31,5.31,0,0,0,8.1,4.9,5.31,5.31,0,0,0,12,6.5,5.46,5.46,0,0,0,6.5,12Z\"/>\n",
              "  </svg>\n",
              "    </button>\n",
              "    <script>\n",
              "      (() => {\n",
              "      const buttonEl =\n",
              "        document.querySelector('#id_4f2becae-ab86-40d5-98ce-ba060b77610f button.colab-df-generate');\n",
              "      buttonEl.style.display =\n",
              "        google.colab.kernel.accessAllowed ? 'block' : 'none';\n",
              "\n",
              "      buttonEl.onclick = () => {\n",
              "        google.colab.notebook.generateWithVariable('df_pvalues');\n",
              "      }\n",
              "      })();\n",
              "    </script>\n",
              "  </div>\n",
              "\n",
              "    </div>\n",
              "  </div>\n"
            ],
            "application/vnd.google.colaboratory.intrinsic+json": {
              "type": "dataframe",
              "variable_name": "df_pvalues",
              "summary": "{\n  \"name\": \"df_pvalues\",\n  \"rows\": 59,\n  \"fields\": [\n    {\n      \"column\": \"Features\",\n      \"properties\": {\n        \"dtype\": \"string\",\n        \"num_unique_values\": 59,\n        \"samples\": [\n          \"symboling\",\n          \"carheight\",\n          \"fuelsystem_mfi\"\n        ],\n        \"semantic_type\": \"\",\n        \"description\": \"\"\n      }\n    },\n    {\n      \"column\": \"p-values\",\n      \"properties\": {\n        \"dtype\": \"number\",\n        \"std\": 0.30011387387390837,\n        \"min\": 0.00029662640184380376,\n        \"max\": 0.9942016452179917,\n        \"num_unique_values\": 59,\n        \"samples\": [\n          0.44548373544890996,\n          0.3645817333882233,\n          0.519402094354487\n        ],\n        \"semantic_type\": \"\",\n        \"description\": \"\"\n      }\n    }\n  ]\n}"
            }
          },
          "metadata": {},
          "execution_count": 18
        }
      ]
    },
    {
      "cell_type": "code",
      "metadata": {
        "id": "fnllksChTeQS",
        "colab": {
          "base_uri": "https://localhost:8080/",
          "height": 676
        },
        "outputId": "7e4ba375-6efa-40bc-dfc8-28ac52523836"
      },
      "source": [
        "# S3.8: Drop those features whose p-value is greater than 0.05\n",
        "df_reduced = df_pvalues.drop(df_pvalues[df_pvalues['p-values'] > 0.05].index)\n",
        "df_reduced"
      ],
      "execution_count": null,
      "outputs": [
        {
          "output_type": "execute_result",
          "data": {
            "text/plain": [
              "                  Features  p-values\n",
              "4                 carwidth  0.003989\n",
              "6               curbweight  0.016007\n",
              "8               enginesize  0.000297\n",
              "9                boreratio  0.007926\n",
              "13                 peakrpm  0.012603\n",
              "16            fueltype_gas  0.014296\n",
              "17        aspiration_turbo  0.002748\n",
              "19       carbody_hatchback  0.002640\n",
              "20           carbody_sedan  0.005734\n",
              "21           carbody_wagon  0.003059\n",
              "24     enginelocation_rear  0.010376\n",
              "30        enginetype_rotor  0.008174\n",
              "39         car_company_bmw  0.000376\n",
              "40       car_company_buick  0.002628\n",
              "42       car_company_dodge  0.022523\n",
              "48  car_company_mitsubishi  0.011527\n",
              "49      car_company_nissan  0.043811\n",
              "51    car_company_plymouth  0.013786\n",
              "52     car_company_porsche  0.029307\n",
              "55      car_company_subaru  0.016262"
            ],
            "text/html": [
              "\n",
              "  <div id=\"df-65095ac5-9e16-484e-8efe-8bca85be6db7\" class=\"colab-df-container\">\n",
              "    <div>\n",
              "<style scoped>\n",
              "    .dataframe tbody tr th:only-of-type {\n",
              "        vertical-align: middle;\n",
              "    }\n",
              "\n",
              "    .dataframe tbody tr th {\n",
              "        vertical-align: top;\n",
              "    }\n",
              "\n",
              "    .dataframe thead th {\n",
              "        text-align: right;\n",
              "    }\n",
              "</style>\n",
              "<table border=\"1\" class=\"dataframe\">\n",
              "  <thead>\n",
              "    <tr style=\"text-align: right;\">\n",
              "      <th></th>\n",
              "      <th>Features</th>\n",
              "      <th>p-values</th>\n",
              "    </tr>\n",
              "  </thead>\n",
              "  <tbody>\n",
              "    <tr>\n",
              "      <th>4</th>\n",
              "      <td>carwidth</td>\n",
              "      <td>0.003989</td>\n",
              "    </tr>\n",
              "    <tr>\n",
              "      <th>6</th>\n",
              "      <td>curbweight</td>\n",
              "      <td>0.016007</td>\n",
              "    </tr>\n",
              "    <tr>\n",
              "      <th>8</th>\n",
              "      <td>enginesize</td>\n",
              "      <td>0.000297</td>\n",
              "    </tr>\n",
              "    <tr>\n",
              "      <th>9</th>\n",
              "      <td>boreratio</td>\n",
              "      <td>0.007926</td>\n",
              "    </tr>\n",
              "    <tr>\n",
              "      <th>13</th>\n",
              "      <td>peakrpm</td>\n",
              "      <td>0.012603</td>\n",
              "    </tr>\n",
              "    <tr>\n",
              "      <th>16</th>\n",
              "      <td>fueltype_gas</td>\n",
              "      <td>0.014296</td>\n",
              "    </tr>\n",
              "    <tr>\n",
              "      <th>17</th>\n",
              "      <td>aspiration_turbo</td>\n",
              "      <td>0.002748</td>\n",
              "    </tr>\n",
              "    <tr>\n",
              "      <th>19</th>\n",
              "      <td>carbody_hatchback</td>\n",
              "      <td>0.002640</td>\n",
              "    </tr>\n",
              "    <tr>\n",
              "      <th>20</th>\n",
              "      <td>carbody_sedan</td>\n",
              "      <td>0.005734</td>\n",
              "    </tr>\n",
              "    <tr>\n",
              "      <th>21</th>\n",
              "      <td>carbody_wagon</td>\n",
              "      <td>0.003059</td>\n",
              "    </tr>\n",
              "    <tr>\n",
              "      <th>24</th>\n",
              "      <td>enginelocation_rear</td>\n",
              "      <td>0.010376</td>\n",
              "    </tr>\n",
              "    <tr>\n",
              "      <th>30</th>\n",
              "      <td>enginetype_rotor</td>\n",
              "      <td>0.008174</td>\n",
              "    </tr>\n",
              "    <tr>\n",
              "      <th>39</th>\n",
              "      <td>car_company_bmw</td>\n",
              "      <td>0.000376</td>\n",
              "    </tr>\n",
              "    <tr>\n",
              "      <th>40</th>\n",
              "      <td>car_company_buick</td>\n",
              "      <td>0.002628</td>\n",
              "    </tr>\n",
              "    <tr>\n",
              "      <th>42</th>\n",
              "      <td>car_company_dodge</td>\n",
              "      <td>0.022523</td>\n",
              "    </tr>\n",
              "    <tr>\n",
              "      <th>48</th>\n",
              "      <td>car_company_mitsubishi</td>\n",
              "      <td>0.011527</td>\n",
              "    </tr>\n",
              "    <tr>\n",
              "      <th>49</th>\n",
              "      <td>car_company_nissan</td>\n",
              "      <td>0.043811</td>\n",
              "    </tr>\n",
              "    <tr>\n",
              "      <th>51</th>\n",
              "      <td>car_company_plymouth</td>\n",
              "      <td>0.013786</td>\n",
              "    </tr>\n",
              "    <tr>\n",
              "      <th>52</th>\n",
              "      <td>car_company_porsche</td>\n",
              "      <td>0.029307</td>\n",
              "    </tr>\n",
              "    <tr>\n",
              "      <th>55</th>\n",
              "      <td>car_company_subaru</td>\n",
              "      <td>0.016262</td>\n",
              "    </tr>\n",
              "  </tbody>\n",
              "</table>\n",
              "</div>\n",
              "    <div class=\"colab-df-buttons\">\n",
              "\n",
              "  <div class=\"colab-df-container\">\n",
              "    <button class=\"colab-df-convert\" onclick=\"convertToInteractive('df-65095ac5-9e16-484e-8efe-8bca85be6db7')\"\n",
              "            title=\"Convert this dataframe to an interactive table.\"\n",
              "            style=\"display:none;\">\n",
              "\n",
              "  <svg xmlns=\"http://www.w3.org/2000/svg\" height=\"24px\" viewBox=\"0 -960 960 960\">\n",
              "    <path d=\"M120-120v-720h720v720H120Zm60-500h600v-160H180v160Zm220 220h160v-160H400v160Zm0 220h160v-160H400v160ZM180-400h160v-160H180v160Zm440 0h160v-160H620v160ZM180-180h160v-160H180v160Zm440 0h160v-160H620v160Z\"/>\n",
              "  </svg>\n",
              "    </button>\n",
              "\n",
              "  <style>\n",
              "    .colab-df-container {\n",
              "      display:flex;\n",
              "      gap: 12px;\n",
              "    }\n",
              "\n",
              "    .colab-df-convert {\n",
              "      background-color: #E8F0FE;\n",
              "      border: none;\n",
              "      border-radius: 50%;\n",
              "      cursor: pointer;\n",
              "      display: none;\n",
              "      fill: #1967D2;\n",
              "      height: 32px;\n",
              "      padding: 0 0 0 0;\n",
              "      width: 32px;\n",
              "    }\n",
              "\n",
              "    .colab-df-convert:hover {\n",
              "      background-color: #E2EBFA;\n",
              "      box-shadow: 0px 1px 2px rgba(60, 64, 67, 0.3), 0px 1px 3px 1px rgba(60, 64, 67, 0.15);\n",
              "      fill: #174EA6;\n",
              "    }\n",
              "\n",
              "    .colab-df-buttons div {\n",
              "      margin-bottom: 4px;\n",
              "    }\n",
              "\n",
              "    [theme=dark] .colab-df-convert {\n",
              "      background-color: #3B4455;\n",
              "      fill: #D2E3FC;\n",
              "    }\n",
              "\n",
              "    [theme=dark] .colab-df-convert:hover {\n",
              "      background-color: #434B5C;\n",
              "      box-shadow: 0px 1px 3px 1px rgba(0, 0, 0, 0.15);\n",
              "      filter: drop-shadow(0px 1px 2px rgba(0, 0, 0, 0.3));\n",
              "      fill: #FFFFFF;\n",
              "    }\n",
              "  </style>\n",
              "\n",
              "    <script>\n",
              "      const buttonEl =\n",
              "        document.querySelector('#df-65095ac5-9e16-484e-8efe-8bca85be6db7 button.colab-df-convert');\n",
              "      buttonEl.style.display =\n",
              "        google.colab.kernel.accessAllowed ? 'block' : 'none';\n",
              "\n",
              "      async function convertToInteractive(key) {\n",
              "        const element = document.querySelector('#df-65095ac5-9e16-484e-8efe-8bca85be6db7');\n",
              "        const dataTable =\n",
              "          await google.colab.kernel.invokeFunction('convertToInteractive',\n",
              "                                                    [key], {});\n",
              "        if (!dataTable) return;\n",
              "\n",
              "        const docLinkHtml = 'Like what you see? Visit the ' +\n",
              "          '<a target=\"_blank\" href=https://colab.research.google.com/notebooks/data_table.ipynb>data table notebook</a>'\n",
              "          + ' to learn more about interactive tables.';\n",
              "        element.innerHTML = '';\n",
              "        dataTable['output_type'] = 'display_data';\n",
              "        await google.colab.output.renderOutput(dataTable, element);\n",
              "        const docLink = document.createElement('div');\n",
              "        docLink.innerHTML = docLinkHtml;\n",
              "        element.appendChild(docLink);\n",
              "      }\n",
              "    </script>\n",
              "  </div>\n",
              "\n",
              "\n",
              "<div id=\"df-82522741-0182-4a37-8a6d-c60252def22e\">\n",
              "  <button class=\"colab-df-quickchart\" onclick=\"quickchart('df-82522741-0182-4a37-8a6d-c60252def22e')\"\n",
              "            title=\"Suggest charts\"\n",
              "            style=\"display:none;\">\n",
              "\n",
              "<svg xmlns=\"http://www.w3.org/2000/svg\" height=\"24px\"viewBox=\"0 0 24 24\"\n",
              "     width=\"24px\">\n",
              "    <g>\n",
              "        <path d=\"M19 3H5c-1.1 0-2 .9-2 2v14c0 1.1.9 2 2 2h14c1.1 0 2-.9 2-2V5c0-1.1-.9-2-2-2zM9 17H7v-7h2v7zm4 0h-2V7h2v10zm4 0h-2v-4h2v4z\"/>\n",
              "    </g>\n",
              "</svg>\n",
              "  </button>\n",
              "\n",
              "<style>\n",
              "  .colab-df-quickchart {\n",
              "      --bg-color: #E8F0FE;\n",
              "      --fill-color: #1967D2;\n",
              "      --hover-bg-color: #E2EBFA;\n",
              "      --hover-fill-color: #174EA6;\n",
              "      --disabled-fill-color: #AAA;\n",
              "      --disabled-bg-color: #DDD;\n",
              "  }\n",
              "\n",
              "  [theme=dark] .colab-df-quickchart {\n",
              "      --bg-color: #3B4455;\n",
              "      --fill-color: #D2E3FC;\n",
              "      --hover-bg-color: #434B5C;\n",
              "      --hover-fill-color: #FFFFFF;\n",
              "      --disabled-bg-color: #3B4455;\n",
              "      --disabled-fill-color: #666;\n",
              "  }\n",
              "\n",
              "  .colab-df-quickchart {\n",
              "    background-color: var(--bg-color);\n",
              "    border: none;\n",
              "    border-radius: 50%;\n",
              "    cursor: pointer;\n",
              "    display: none;\n",
              "    fill: var(--fill-color);\n",
              "    height: 32px;\n",
              "    padding: 0;\n",
              "    width: 32px;\n",
              "  }\n",
              "\n",
              "  .colab-df-quickchart:hover {\n",
              "    background-color: var(--hover-bg-color);\n",
              "    box-shadow: 0 1px 2px rgba(60, 64, 67, 0.3), 0 1px 3px 1px rgba(60, 64, 67, 0.15);\n",
              "    fill: var(--button-hover-fill-color);\n",
              "  }\n",
              "\n",
              "  .colab-df-quickchart-complete:disabled,\n",
              "  .colab-df-quickchart-complete:disabled:hover {\n",
              "    background-color: var(--disabled-bg-color);\n",
              "    fill: var(--disabled-fill-color);\n",
              "    box-shadow: none;\n",
              "  }\n",
              "\n",
              "  .colab-df-spinner {\n",
              "    border: 2px solid var(--fill-color);\n",
              "    border-color: transparent;\n",
              "    border-bottom-color: var(--fill-color);\n",
              "    animation:\n",
              "      spin 1s steps(1) infinite;\n",
              "  }\n",
              "\n",
              "  @keyframes spin {\n",
              "    0% {\n",
              "      border-color: transparent;\n",
              "      border-bottom-color: var(--fill-color);\n",
              "      border-left-color: var(--fill-color);\n",
              "    }\n",
              "    20% {\n",
              "      border-color: transparent;\n",
              "      border-left-color: var(--fill-color);\n",
              "      border-top-color: var(--fill-color);\n",
              "    }\n",
              "    30% {\n",
              "      border-color: transparent;\n",
              "      border-left-color: var(--fill-color);\n",
              "      border-top-color: var(--fill-color);\n",
              "      border-right-color: var(--fill-color);\n",
              "    }\n",
              "    40% {\n",
              "      border-color: transparent;\n",
              "      border-right-color: var(--fill-color);\n",
              "      border-top-color: var(--fill-color);\n",
              "    }\n",
              "    60% {\n",
              "      border-color: transparent;\n",
              "      border-right-color: var(--fill-color);\n",
              "    }\n",
              "    80% {\n",
              "      border-color: transparent;\n",
              "      border-right-color: var(--fill-color);\n",
              "      border-bottom-color: var(--fill-color);\n",
              "    }\n",
              "    90% {\n",
              "      border-color: transparent;\n",
              "      border-bottom-color: var(--fill-color);\n",
              "    }\n",
              "  }\n",
              "</style>\n",
              "\n",
              "  <script>\n",
              "    async function quickchart(key) {\n",
              "      const quickchartButtonEl =\n",
              "        document.querySelector('#' + key + ' button');\n",
              "      quickchartButtonEl.disabled = true;  // To prevent multiple clicks.\n",
              "      quickchartButtonEl.classList.add('colab-df-spinner');\n",
              "      try {\n",
              "        const charts = await google.colab.kernel.invokeFunction(\n",
              "            'suggestCharts', [key], {});\n",
              "      } catch (error) {\n",
              "        console.error('Error during call to suggestCharts:', error);\n",
              "      }\n",
              "      quickchartButtonEl.classList.remove('colab-df-spinner');\n",
              "      quickchartButtonEl.classList.add('colab-df-quickchart-complete');\n",
              "    }\n",
              "    (() => {\n",
              "      let quickchartButtonEl =\n",
              "        document.querySelector('#df-82522741-0182-4a37-8a6d-c60252def22e button');\n",
              "      quickchartButtonEl.style.display =\n",
              "        google.colab.kernel.accessAllowed ? 'block' : 'none';\n",
              "    })();\n",
              "  </script>\n",
              "</div>\n",
              "\n",
              "  <div id=\"id_3fae79cf-5ad9-4350-84ec-8f2ea7735449\">\n",
              "    <style>\n",
              "      .colab-df-generate {\n",
              "        background-color: #E8F0FE;\n",
              "        border: none;\n",
              "        border-radius: 50%;\n",
              "        cursor: pointer;\n",
              "        display: none;\n",
              "        fill: #1967D2;\n",
              "        height: 32px;\n",
              "        padding: 0 0 0 0;\n",
              "        width: 32px;\n",
              "      }\n",
              "\n",
              "      .colab-df-generate:hover {\n",
              "        background-color: #E2EBFA;\n",
              "        box-shadow: 0px 1px 2px rgba(60, 64, 67, 0.3), 0px 1px 3px 1px rgba(60, 64, 67, 0.15);\n",
              "        fill: #174EA6;\n",
              "      }\n",
              "\n",
              "      [theme=dark] .colab-df-generate {\n",
              "        background-color: #3B4455;\n",
              "        fill: #D2E3FC;\n",
              "      }\n",
              "\n",
              "      [theme=dark] .colab-df-generate:hover {\n",
              "        background-color: #434B5C;\n",
              "        box-shadow: 0px 1px 3px 1px rgba(0, 0, 0, 0.15);\n",
              "        filter: drop-shadow(0px 1px 2px rgba(0, 0, 0, 0.3));\n",
              "        fill: #FFFFFF;\n",
              "      }\n",
              "    </style>\n",
              "    <button class=\"colab-df-generate\" onclick=\"generateWithVariable('df_reduced')\"\n",
              "            title=\"Generate code using this dataframe.\"\n",
              "            style=\"display:none;\">\n",
              "\n",
              "  <svg xmlns=\"http://www.w3.org/2000/svg\" height=\"24px\"viewBox=\"0 0 24 24\"\n",
              "       width=\"24px\">\n",
              "    <path d=\"M7,19H8.4L18.45,9,17,7.55,7,17.6ZM5,21V16.75L18.45,3.32a2,2,0,0,1,2.83,0l1.4,1.43a1.91,1.91,0,0,1,.58,1.4,1.91,1.91,0,0,1-.58,1.4L9.25,21ZM18.45,9,17,7.55Zm-12,3A5.31,5.31,0,0,0,4.9,8.1,5.31,5.31,0,0,0,1,6.5,5.31,5.31,0,0,0,4.9,4.9,5.31,5.31,0,0,0,6.5,1,5.31,5.31,0,0,0,8.1,4.9,5.31,5.31,0,0,0,12,6.5,5.46,5.46,0,0,0,6.5,12Z\"/>\n",
              "  </svg>\n",
              "    </button>\n",
              "    <script>\n",
              "      (() => {\n",
              "      const buttonEl =\n",
              "        document.querySelector('#id_3fae79cf-5ad9-4350-84ec-8f2ea7735449 button.colab-df-generate');\n",
              "      buttonEl.style.display =\n",
              "        google.colab.kernel.accessAllowed ? 'block' : 'none';\n",
              "\n",
              "      buttonEl.onclick = () => {\n",
              "        google.colab.notebook.generateWithVariable('df_reduced');\n",
              "      }\n",
              "      })();\n",
              "    </script>\n",
              "  </div>\n",
              "\n",
              "    </div>\n",
              "  </div>\n"
            ],
            "application/vnd.google.colaboratory.intrinsic+json": {
              "type": "dataframe",
              "variable_name": "df_reduced",
              "summary": "{\n  \"name\": \"df_reduced\",\n  \"rows\": 20,\n  \"fields\": [\n    {\n      \"column\": \"Features\",\n      \"properties\": {\n        \"dtype\": \"string\",\n        \"num_unique_values\": 20,\n        \"samples\": [\n          \"carwidth\",\n          \"car_company_plymouth\",\n          \"car_company_mitsubishi\"\n        ],\n        \"semantic_type\": \"\",\n        \"description\": \"\"\n      }\n    },\n    {\n      \"column\": \"p-values\",\n      \"properties\": {\n        \"dtype\": \"number\",\n        \"std\": 0.010782023720950646,\n        \"min\": 0.00029662640184380376,\n        \"max\": 0.04381117358681199,\n        \"num_unique_values\": 20,\n        \"samples\": [\n          0.00398862139168147,\n          0.013786211096696008,\n          0.011527402593641526\n        ],\n        \"semantic_type\": \"\",\n        \"description\": \"\"\n      }\n    }\n  ]\n}"
            }
          },
          "metadata": {},
          "execution_count": 19
        }
      ]
    },
    {
      "cell_type": "markdown",
      "metadata": {
        "id": "grmZkV4dTozs"
      },
      "source": [
        "As you can see, we created a dataframe with only significant features. Now let us again perform linear regression using the reduced features."
      ]
    },
    {
      "cell_type": "code",
      "metadata": {
        "id": "Wi-4VYmEUOV8",
        "colab": {
          "base_uri": "https://localhost:8080/"
        },
        "outputId": "f9ae4204-a3d7-4996-ae0b-528c59382556"
      },
      "source": [
        "# S3.9: Build a linear regression model again with reduced features\n",
        "X = cars_df[df_reduced['Features']]\n",
        "y = cars_df['price']\n",
        "\n",
        "X_train2, X_test2, y_train2, y_test2 = train_test_split(X, y, test_size = 0.33, random_state = 42)\n",
        "\n",
        "# Add a constant to get an intercept\n",
        "X_train_sm2 = sm.add_constant(X_train2)\n",
        "\n",
        "# Fit the regression line using 'OLS'\n",
        "lr2 = sm.OLS(y_train2, X_train_sm2).fit()\n",
        "\n",
        "# Print the parameters, i.e. the intercept and the slope of the regression line fitted\n",
        "lr2.params"
      ],
      "execution_count": null,
      "outputs": [
        {
          "output_type": "execute_result",
          "data": {
            "text/plain": [
              "const                    -52852.958630\n",
              "carwidth                    737.604242\n",
              "curbweight                    4.354648\n",
              "enginesize                   75.730204\n",
              "boreratio                 -3150.645623\n",
              "peakrpm                       1.475633\n",
              "fueltype_gas               1677.989554\n",
              "aspiration_turbo           2363.705897\n",
              "carbody_hatchback         -3445.857949\n",
              "carbody_sedan             -2551.440063\n",
              "carbody_wagon             -4302.029480\n",
              "enginelocation_rear        6084.921802\n",
              "enginetype_rotor           6127.087813\n",
              "car_company_bmw            7540.541371\n",
              "car_company_buick          6300.551810\n",
              "car_company_dodge          -922.000044\n",
              "car_company_mitsubishi    -2326.313857\n",
              "car_company_nissan        -1704.487232\n",
              "car_company_plymouth      -1600.748980\n",
              "car_company_porsche        6807.882511\n",
              "car_company_subaru          820.487955\n",
              "dtype: float64"
            ]
          },
          "metadata": {},
          "execution_count": 20
        }
      ]
    },
    {
      "cell_type": "code",
      "metadata": {
        "id": "V_5R_5YUXffV",
        "colab": {
          "base_uri": "https://localhost:8080/"
        },
        "outputId": "a4cf4d84-c543-4b2f-d7b7-ce772d83dc63"
      },
      "source": [
        "# S3.10: Print the summary table for the above linear regression model.\n",
        "print(lr2.summary())"
      ],
      "execution_count": null,
      "outputs": [
        {
          "output_type": "stream",
          "name": "stdout",
          "text": [
            "                            OLS Regression Results                            \n",
            "==============================================================================\n",
            "Dep. Variable:                  price   R-squared:                       0.958\n",
            "Model:                            OLS   Adj. R-squared:                  0.951\n",
            "Method:                 Least Squares   F-statistic:                     132.8\n",
            "Date:                Sat, 06 Apr 2024   Prob (F-statistic):           3.34e-70\n",
            "Time:                        17:36:33   Log-Likelihood:                -1206.6\n",
            "No. Observations:                 137   AIC:                             2455.\n",
            "Df Residuals:                     116   BIC:                             2516.\n",
            "Df Model:                          20                                         \n",
            "Covariance Type:            nonrobust                                         \n",
            "==========================================================================================\n",
            "                             coef    std err          t      P>|t|      [0.025      0.975]\n",
            "------------------------------------------------------------------------------------------\n",
            "const                  -5.285e+04   8791.716     -6.012      0.000   -7.03e+04   -3.54e+04\n",
            "carwidth                 737.6042    146.262      5.043      0.000     447.913    1027.295\n",
            "curbweight                 4.3546      0.931      4.678      0.000       2.511       6.198\n",
            "enginesize                75.7302      9.699      7.808      0.000      56.519      94.941\n",
            "boreratio              -3150.6456    881.598     -3.574      0.001   -4896.761   -1404.531\n",
            "peakrpm                    1.4756      0.445      3.319      0.001       0.595       2.356\n",
            "fueltype_gas            1677.9896    756.809      2.217      0.029     179.035    3176.944\n",
            "aspiration_turbo        2363.7059    526.933      4.486      0.000    1320.049    3407.363\n",
            "carbody_hatchback      -3445.8579    829.557     -4.154      0.000   -5088.900   -1802.816\n",
            "carbody_sedan          -2551.4401    806.653     -3.163      0.002   -4149.118    -953.763\n",
            "carbody_wagon          -4302.0295    944.400     -4.555      0.000   -6172.532   -2431.527\n",
            "enginelocation_rear     6084.9218   2050.365      2.968      0.004    2023.916    1.01e+04\n",
            "enginetype_rotor        6127.0878   1403.152      4.367      0.000    3347.969    8906.206\n",
            "car_company_bmw         7540.5414    845.205      8.922      0.000    5866.507    9214.576\n",
            "car_company_buick       6300.5518   1136.994      5.541      0.000    4048.592    8552.512\n",
            "car_company_dodge       -922.0000    810.515     -1.138      0.258   -2527.327     683.327\n",
            "car_company_mitsubishi -2326.3139    687.578     -3.383      0.001   -3688.148    -964.480\n",
            "car_company_nissan     -1704.4872    647.541     -2.632      0.010   -2987.024    -421.951\n",
            "car_company_plymouth   -1600.7490    791.994     -2.021      0.046   -3169.394     -32.104\n",
            "car_company_porsche     6807.8825   1474.859      4.616      0.000    3886.738    9729.027\n",
            "car_company_subaru       820.4880    879.024      0.933      0.353    -920.530    2561.506\n",
            "==============================================================================\n",
            "Omnibus:                        1.936   Durbin-Watson:                   2.053\n",
            "Prob(Omnibus):                  0.380   Jarque-Bera (JB):                1.522\n",
            "Skew:                          -0.118   Prob(JB):                        0.467\n",
            "Kurtosis:                       3.459   Cond. No.                     3.41e+05\n",
            "==============================================================================\n",
            "\n",
            "Notes:\n",
            "[1] Standard Errors assume that the covariance matrix of the errors is correctly specified.\n",
            "[2] The condition number is large, 3.41e+05. This might indicate that there are\n",
            "strong multicollinearity or other numerical problems.\n"
          ]
        }
      ]
    },
    {
      "cell_type": "markdown",
      "metadata": {
        "id": "64zwtdo2PBb0"
      },
      "source": [
        "We build the linear regression model again after removing all the features having the higher p-value and we still have a few features which have high p-values. This is not the right approach to tackle the high-values issue. Ideally, in the first iteration, we should remove only one feature having higher p-value, then rebuild the model, then again check for the p-value and then remove the next feature having highest p-value and so on.\n",
        "\n",
        "These iterations can become very long. We can reduce the number of iterations by finding out the most relevant features in the first go. In the next class, we will how to select such relevant features to reduce the number of iterations for building the most accurate linear regression model."
      ]
    },
    {
      "cell_type": "markdown",
      "metadata": {
        "id": "ijKY83ukqRon"
      },
      "source": [
        "---"
      ]
    },
    {
      "cell_type": "markdown",
      "metadata": {
        "id": "ILiQvaTKv-uC"
      },
      "source": [
        "### Activities\n",
        "\n",
        "**Teacher Activities:**\n",
        "\n",
        "1. Car Price Prediction - Interpreting p-value (Class Copy)\n",
        "\n",
        "   Link on Panel\n",
        "\n",
        "2. Car Price Prediction - Interpreting p-value (Reference)\n",
        "\n",
        "  Link on Panel\n",
        "  "
      ]
    },
    {
      "cell_type": "markdown",
      "metadata": {
        "id": "jGnmOUUtv-UW"
      },
      "source": [
        "---"
      ]
    }
  ]
}