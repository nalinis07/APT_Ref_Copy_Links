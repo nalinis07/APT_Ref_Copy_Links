{
  "nbformat": 4,
  "nbformat_minor": 0,
  "metadata": {
    "colab": {
      "provenance": [],
      "include_colab_link": true
    },
    "kernelspec": {
      "name": "python3",
      "display_name": "Python 3"
    }
  },
  "cells": [
    {
      "cell_type": "markdown",
      "metadata": {
        "id": "view-in-github",
        "colab_type": "text"
      },
      "source": [
        "<a href=\"https://colab.research.google.com/github/nalinis07/APT_Ref_Copy_Links/blob/MASTER/AT_Lesson_6_Reference.ipynb\" target=\"_parent\"><img src=\"https://colab.research.google.com/assets/colab-badge.svg\" alt=\"Open In Colab\"/></a>"
      ]
    },
    {
      "cell_type": "markdown",
      "metadata": {
        "id": "7LlG_PPFjJUz"
      },
      "source": [
        "# Lesson 6: Python Lists II"
      ]
    },
    {
      "cell_type": "markdown",
      "metadata": {
        "id": "uEmTAiYxswSD"
      },
      "source": [
        "**WARNING:** The reference notebook is meant **ONLY** for a teacher. Please **DON'T** share it with any student.\n",
        "\n",
        "The contents of the reference notebook are meant only to prepare a teacher for a class. To conduct the class, use the class copy of the reference notebook. The link and the instructions for the same are provided in the **Notes To The Teacher** section.\n",
        "\n",
        "\n",
        "|Particulars|Description|\n",
        "|-|-|\n",
        "|**Topic**|Python Lists II|\n",
        "|||\n",
        "|**Class Description**|In this class, a student will gain a deeper understanding of using Python lists|\n",
        "|||\n",
        "|**Class**|C6|\n",
        "|||\n",
        "|**Class Time**|45 minutes|\n",
        "|||\n",
        "|**Goals**|Create a Python list storing multiple data-type values|\n",
        "||Retrieve an item from a list|\n",
        "||Slice a Python list|\n",
        "||Replace an existing item from a Python list|\n",
        "|||\n",
        "|**Teacher Resources**|Google Account|\n",
        "||Link to Lesson 6 Colab reference notebook|\n",
        "||Laptop with internet connectivity|\n",
        "||Earphones with mic|\n",
        "|||\n",
        "|**Student Resources**|Google Account|\n",
        "||Laptop with internet connectivity|\n",
        "||Earphones with mic|"
      ]
    },
    {
      "cell_type": "markdown",
      "metadata": {
        "id": "ufJSmLTQs3O3"
      },
      "source": [
        "---"
      ]
    },
    {
      "cell_type": "markdown",
      "metadata": {
        "id": "la5nlRWYs4js"
      },
      "source": [
        "### Class Structure\n",
        "\n",
        "A class is divided into three parts, as shown in the table below.\n",
        "\n",
        "|Parts|Duration|\n",
        "|-|-|\n",
        "|**Warm-Up**|5 minutes|\n",
        "|||\n",
        "|**Teacher-Student Activities**|35 minutes|\n",
        "|||\n",
        "|**Wrap-Up**|5 minutes|"
      ]
    },
    {
      "cell_type": "markdown",
      "metadata": {
        "id": "3lhXQXajs58e"
      },
      "source": [
        "---"
      ]
    },
    {
      "cell_type": "markdown",
      "metadata": {
        "id": "W_JztwUjtFXJ"
      },
      "source": [
        "### Notes To The Teacher\n",
        "\n",
        "Before beginning the class:\n",
        "\n",
        "1. Open the **ATV - Lesson 6 - Class Copy - v0.3** file by clicking on the link provided in the **Activities** section under the title **Python Lists II (Class Copy)**.  \n",
        "<font color=\"red\">Refer both Reference and Class Copy before conducting the class.</font>\n",
        "2. After opening the file mentioned in the first point, create its duplicate copy by following the steps described below:\n",
        "\n",
        "    - Click on the **File** menu. A new drop-down list will appear.\n",
        "\n",
        "      <img src='https://student-datasets-bucket.s3.ap-south-1.amazonaws.com/images/lesson-0/0_file_menu.png' width=500>\n",
        "\n",
        "    - Click on the **Save a copy in Drive** option. A duplicate copy will get created. It will open up in the new tab on your web browser.\n",
        "\n",
        "      <img src='https://student-datasets-bucket.s3.ap-south-1.amazonaws.com/images/lesson-0/1_create_colab_duplicate_copy.png' width=500>\n",
        "\n",
        "    - In the duplicate copy, click on the **Share** button on the top right corner of the notebook. A new dialog box will appear.\n",
        "\n",
        "      <img src='https://student-datasets-bucket.s3.ap-south-1.amazonaws.com/images/lesson-0/2_share_button.png' width=500>\n",
        "\n",
        "    - Click on the tiny downward arrow next to **Anyone with the link can view** text. A drop-down list will appear.\n",
        "\n",
        "      <img src='https://student-datasets-bucket.s3.ap-south-1.amazonaws.com/images/lesson-0/3_anyone_can_view.png' width=500>\n",
        "\n",
        "    - Click on the **More...** option. A new page on the dialog box will appear.\n",
        "\n",
        "      <img src='https://student-datasets-bucket.s3.ap-south-1.amazonaws.com/images/lesson-0/4_more_option.png' width=500>\n",
        "\n",
        "    - Click on the circle next to **On - Anyone with the link** option. Now, go down and click on the tiny downward box next to **Can edit** text. A drop-down list will appear.\n",
        "\n",
        "      <img src='https://student-datasets-bucket.s3.ap-south-1.amazonaws.com/images/lesson-0/5_anyone_with_the_link.png' width=500>\n",
        "\n",
        "    - Click on the **Can edit** option. Then click on the **Save** button. You will be directed back to the first page of the dialog box.\n",
        "\n",
        "      <img src='https://student-datasets-bucket.s3.ap-south-1.amazonaws.com/images/lesson-0/6_can_edit.png' width=500>\n",
        "\n",
        "    - Make sure that under the **Link sharing on** section, **Anyone with the link can edit** option is selected.\n",
        "\n",
        "      <img src='https://student-datasets-bucket.s3.ap-south-1.amazonaws.com/images/lesson-0/7_anyone_can_edit.png' width=500>\n",
        "\n",
        "    - Then click on the **Done** button.\n",
        "\n",
        "3. After creating the duplicate copy of the notebook, please rename it in the **YYYY-MM-DD_StudentName_Lesson6** format.\n",
        "\n",
        "4. Now, finish the **Warm-Up** section. Afterwards, proceed with the class using the duplicate copy of the notebook. You can share the link of the duplicate copy (named as **YYYY-MM-DD_StudentName_Lesson6**) with the student through the chat window.\n",
        "\n",
        "5. When a student executes the code for the first time in the duplicate copy that you shared with them, they may get the following warning:\n",
        "\n",
        "   ```\n",
        "    Warning: This notebook was not authored by Google. This notebook was\n",
        "    authored by xyz@gmail.com. It may request access to your data stored\n",
        "    with Google such as files, emails and contacts. Please review the source\n",
        "    code and contact the creator of this notebook at xyz@gmail.com with any\n",
        "    additional questions.\n",
        "\n",
        "                                                      Cancel. Run Anyway.\n",
        "  ```\n",
        "\n",
        "6. Ask the student to click on the `Run Anyway` button.\n",
        "\n",
        "7. Wherever you see the hat (**^**) sign on the heading of activity, give a hats-off to the student at the end of the activity.\n",
        "\n",
        "    - Single hat sign, i.e., **^** denotes give hats-off for concentration. You have to assess the concentration level of a student based on their attentiveness and understanding of the concept.\n",
        "\n",
        "    - Double hat signs, i.e., **^^** denotes give hats-off for creativity. It can be an alternative approach to writing a code for an activity or applying the logic in a totally different problem statement.\n",
        "\n",
        "    - Triple hat signs, i.e., **^^^** denotes give hats-off for persistence. It is the ability of a student to not give up on writing code and writing code with minimal teacher support.\n",
        "\n",
        "8. Every time you execute your code in the Google Colab notebook, please don't forget to save it by pressing the **Ctrl + S** keys (or **Command + S** keys if you are using a Mac). While saving the notebook, you or student may encounter the following error:\n",
        "\n",
        "   ```\n",
        "    Save failed\n",
        "    \n",
        "    The notebook has been changed outside of this session. Would you like to\n",
        "    overwrite existing changes?\n",
        "    \n",
        "                                                              CANCEL    YES\n",
        "   ```\n",
        "\n",
        "   Click on the `YES` button.\n",
        "\n",
        "9. Occasionally, you may encounter some error such as `NameError, ReferenceError, ImportError` or `ModuleNotFoundError` after executing the code in $k^{th}$ code cell (where $k > 0$). Most likely, due to poor internet speed, the Colab notebook might have lost the information that all the previous codes have been executed already. As a remedy, run codes in the code cells beginning from the first code cell till the $(k - 1)^{th}$ code cell. For e.g., if the code in the $5^{th}$ code cell fails to run because of one of the aforementioned errors, execute the codes in all the first four code cells again.\n",
        "\n",
        "10. For every **Teacher Action**, the teacher is supposed to share their screen with the student. Similarly, for every **Student Action**, the student is supposed to share their screen with the teacher."
      ]
    },
    {
      "cell_type": "markdown",
      "metadata": {
        "id": "sG1t7nCntEam"
      },
      "source": [
        "---"
      ]
    },
    {
      "cell_type": "markdown",
      "metadata": {
        "id": "XmxhEJcos_8_"
      },
      "source": [
        "### Warm-Up\n",
        "\n",
        "```\n",
        "TEACHER\n",
        "  Hi student_name! How are you doing?\n",
        "\n",
        "EXPECTED STUDENT RESPONSE\n",
        "  I am doing good, teacher. How about you?\n",
        "\n",
        "\n",
        "TEACHER\n",
        "  I am having a good time, thank you. So, how was your day? What did you do\n",
        "  today?\n",
        "\n",
        "EXPECTED STUDENT RESPONSE\n",
        "  I went to school. Had my lunch. Played a game and then did my homework\n",
        "  before this class.\n",
        "\n",
        "\n",
        "TEACHER\n",
        "  That's great. I am glad that you are having a good day. Now, let's do a\n",
        "  little recap of our previous class. Can you recall the concepts you\n",
        "  learnt in the previous lesson?\n",
        "\n",
        "EXPECTED STUDENT RESPONSE\n",
        "  We created the count based Mind Reader game algorithm using Python lists.\n",
        "  Hence, we eliminated the 'update_counts()' function. I also learnt\n",
        "  how to use the 'append()' and 'count()' functions.\n",
        "\n",
        "\n",
        "TEACHER\n",
        "  Excellent! You recalled everything that you learnt in the last class.\n",
        "  Great job! Keep it up.\n",
        "  \n",
        "  Today, we are going to learn Python lists in detail.\n",
        "  Before that, Let me ask you few question.\n",
        "\n",
        "  How many coats are there is this wardrobe?\n",
        "  (Refer Class copy for visuals)\n",
        "```\n",
        "**Instructions for the Teacher:**\n",
        "1. The Class copy contains the questions which the teacher is supposed to ask the student before starting the actual activities. This must be done to improve student's engagement in the class.\n",
        "2. Encourage the student to answer every question.\n",
        "3. Once the student answers a question, click on the icon <img src=\"https://curriculum.whitehatjr.com/APT+Asset/Final+C2+images/download.jpg\"/> next to the question (Do not ask the student to click on this icon). This icon will redirect to some image or gif which will provide answer to that question alongwith some explanation.\n",
        "4. Some questions are very general and you will not find green icon <img src=\"https://curriculum.whitehatjr.com/APT+Asset/Final+C2+images/download.jpg\"/> next to that question. This is because there is no specific answer or explanation for that question.\n",
        "\n",
        "\n",
        "```\n",
        "STUDENT\n",
        "  5\n",
        "\n",
        "TEACHER\n",
        "  Consider this wardrobe as a Python list.\n",
        "```\n",
        "<img src=\"https://curriculum.whitehatjr.com/APT+Asset/APT+C6+images/new_coat_2.png\" height=480 />\n",
        "\n",
        "```\n",
        "TEACHER\n",
        "  Below the wardrobe, you can see some button with numbers 0 to 4 on\n",
        "  it. These are nothing but the index or position. Index or position\n",
        "  are the numbers which starts from zero and identifies the location\n",
        "  of each element. It means that first element of a list has index 0,\n",
        "  second element has index 1 and so on.\n",
        "\n",
        "  Understood?\n",
        "\n",
        "STUDENT\n",
        "  Yes Teacher.\n",
        "\n",
        "TEACHER\n",
        "  If you understood this, answer the next question.\n",
        "  Suppose you want to get or access the red coat. So what will be the\n",
        "  index number?\n",
        "\n",
        "STUDENT\n",
        "  The index would be 0.\n",
        "\n",
        "TEACHER\n",
        "  (clicks on green icon)\n",
        "  If we run the code 'print(wardrobe[0])' we will get red coat in the\n",
        "  output.\n",
        "\n",
        "STUDENT\n",
        "  Yes Teacher.\n",
        "\n",
        "TEACHER\n",
        "  What if you want to access or print black coat. What will be the\n",
        "  index number?\n",
        "\n",
        "STUDENT\n",
        "  The index would be 2.\n",
        "\n",
        "TEACHER\n",
        "  (clicks on green icon)\n",
        "  If we run the code 'print(wardrobe[2])' we will get black coat in\n",
        "  the output.\n",
        "\n",
        "STUDENT\n",
        "  Yes Teacher.\n",
        "\n",
        "TEACHER\n",
        "  In the previous class, we learned append() function of Python list.\n",
        "  Can you tell me the code to add a new brown coat to the wardrobe?\n",
        "\n",
        "STUDENT\n",
        "  Student answers.\n",
        "\n",
        "TEACHER\n",
        "  (clicks on green icon and explains the code.)\n",
        "\n",
        "  Today we will perform more operations on such Python lists.\n",
        "\n",
        "  These concepts are essential in the latter part of this course.\n",
        "\n",
        "  So, are you excited for this class?\n",
        "\n",
        "EXPECTED STUDENT RESPONSE\n",
        "  Yes, teacher.\n",
        "\n",
        "\n",
        "TEACHER\n",
        "  All right. Let's get started. I am going to share the Colab notebook with\n",
        "  you for this class.\n",
        "\n",
        "  Note:\n",
        "    - Share the duplicate copy that you just created with the student\n",
        "      through the chat window.\n",
        "    \n",
        "EXPECTED STUDENT RESPONSE\n",
        "  The student opens the Colab notebook.\n",
        "```"
      ]
    },
    {
      "cell_type": "markdown",
      "metadata": {
        "id": "XNDJtkets_QH"
      },
      "source": [
        "----"
      ]
    },
    {
      "cell_type": "markdown",
      "metadata": {
        "id": "bQWxe7FVzpnK"
      },
      "source": [
        "#### Activity 1: Multiple Data Types\n",
        "\n",
        "A Python list can store values of different types. Recall that in the trial class we created 4 different variables to store the attributes of a planet.  \n",
        "\n",
        "||Mercury|\n",
        "|-|-|\n",
        "|Diameter (km)|4879|\n",
        "|Gravity ($m/s^2$)|3.7|\n",
        "|Ring|No|\n",
        "\n",
        "\n",
        "Let's store the name of a planet, its diameter, gravity and whether it has a ring or not in a Python list.\n",
        "\n",
        "<h4><font color=red><b>\n",
        "<img src=\"https://curriculum.whitehatjr.com/APT+Asset/Final+C2+images/question.jpg\"/>But before that do you remember the different data-types in python?</b></font></h4> (once the student answers, click on green icon to see the answer.)\n",
        "\n",
        "Ans: There are four different data-types. They are:\n",
        "1. `int` - a numeric value without a digit after the decimal point.\n",
        "For example: `13, -244` etc.\n",
        "\n",
        "2. `float` - a numeric value with a digit after the decimal point.\n",
        "For example: `2.71, -3.14898` etc.\n",
        "\n",
        "    **Note:** Both the `int` and `float` values can be positive or negative or `0`.\n",
        "\n",
        "3. `str` (stands for string) - any value enclosed within single (`' '`) or double (`\" \"`) quotes. For example: `'Windows 10', '15 August 1947'` etc.\n",
        "\n",
        "4. `bool` (stands for boolean) - either `True` or `False`.\n"
      ]
    },
    {
      "cell_type": "code",
      "metadata": {
        "id": "Zh7dKWu3zvgS",
        "colab": {
          "base_uri": "https://localhost:8080/",
          "height": 34
        },
        "outputId": "2b4d75eb-013c-4c91-c466-3ab2c2a21ab6"
      },
      "source": [
        "# Student Action: Create a list which contains \"Mercury\", its diameter, gravity and whether it has a ring or not.\n",
        "planet = [\"Mercury\", 4879, 3.7, False]\n",
        "planet"
      ],
      "execution_count": null,
      "outputs": [
        {
          "output_type": "execute_result",
          "data": {
            "text/plain": [
              "['Mercury', 4879, 3.7, False]"
            ]
          },
          "metadata": {
            "tags": []
          },
          "execution_count": 1
        }
      ]
    },
    {
      "cell_type": "markdown",
      "metadata": {
        "id": "HCSXokBQzz_M"
      },
      "source": [
        "---"
      ]
    },
    {
      "cell_type": "markdown",
      "metadata": {
        "id": "b449Ffvhz0-D"
      },
      "source": [
        "#### Activity 2: List Length\n",
        "To see how many items are stored in a list, you can use a function called `len()`.\n",
        "\n",
        "<img src=\"https://curriculum.whitehatjr.com/APT+Asset/APT+C6+images/whj-shelf-items-adv-c8-01.png\" height=400/>\n",
        "\n",
        "**Syntax:** `len(list_name)`\n",
        "\n",
        "Let us find out the number of items stored in the `planet` list."
      ]
    },
    {
      "cell_type": "code",
      "metadata": {
        "id": "QmAry8Iyz3hM",
        "colab": {
          "base_uri": "https://localhost:8080/",
          "height": 34
        },
        "outputId": "c72979ed-8da7-4f87-dc48-9e6e21056cdd"
      },
      "source": [
        "# Student Action: Find the number of items stored in the 'planet' list.\n",
        "len(planet)"
      ],
      "execution_count": null,
      "outputs": [
        {
          "output_type": "execute_result",
          "data": {
            "text/plain": [
              "4"
            ]
          },
          "metadata": {
            "tags": []
          },
          "execution_count": 2
        }
      ]
    },
    {
      "cell_type": "markdown",
      "metadata": {
        "id": "VrrdIxJjzja0"
      },
      "source": [
        "---"
      ]
    },
    {
      "cell_type": "markdown",
      "metadata": {
        "id": "h-foVuZpz9cq"
      },
      "source": [
        "#### Activity 3: List Indexing And The `for` Loop^^^\n",
        "\n",
        "Imagine a multi-storey building. When you enter into the lift, you can see such buttons.\n",
        "\n",
        "\n",
        "\n",
        "\n",
        "<img src=\"https://curriculum.whitehatjr.com/APT+Asset/APT+C6+images/apt-c6-lift+(1).gif\" height=450/>\n",
        "\n",
        "- To move to the 2nd floor, you need to press **2**.\n",
        "- To move to the 5th floor, you need to press **5**.\n",
        "- To come back to the ground floor, you need to press **0** or **G** button.\n",
        "\n",
        "So the floor number always starts with **0** and **G**.\n",
        "\n",
        "Similarly, in a list, the index which indicates the location of the element always starts with **0** and **not 1**. This is called as **Zero-Based Indexing.**\n",
        "\n",
        "\n",
        "A list index is also similar to your roll number in your class in the school.\n",
        "\n",
        "<img src=\"https://curriculum.whitehatjr.com/APT+Asset/APT+C6+images/whj-kids-rollno-apt-c6-07.gif\" height=400/>\n",
        "\n",
        "But here's a catch: The roll number of the first student will be `1`. On the other hand, the roll number of the first item in a Python list is `0`.\n",
        "\n",
        "For example: In the 'planet' list, the first item is `\"Mercury\"` so its index is `0`.\n",
        "\n",
        "<img src=\"https://curriculum.whitehatjr.com/APT+Asset/APT+C6+images/index-new.png\"/>\n",
        "\n",
        "To get an item located at each index in a list, just write the list name followed by the square brackets `[]` and inside the brackets, enter the index number.\n",
        "\n",
        "**Syntax:** `list_name[index_number]`\n",
        "\n"
      ]
    },
    {
      "cell_type": "code",
      "metadata": {
        "id": "-5IyZLF2z-Uz",
        "colab": {
          "base_uri": "https://localhost:8080/",
          "height": 85
        },
        "outputId": "491ac8e9-b8c9-4ab0-e5c0-14a90d454cef"
      },
      "source": [
        "# Teacher Action: Print the items at each index in the 'planet' list.\n",
        "print(\"1st item:\", planet[0])\n",
        "print(\"2nd item:\", planet[1])\n",
        "print(\"3rd item:\", planet[2])\n",
        "print(\"4th item:\", planet[3])"
      ],
      "execution_count": null,
      "outputs": [
        {
          "output_type": "stream",
          "text": [
            "1st item: Mercury\n",
            "2nd item: 4879\n",
            "3rd item: 3.7\n",
            "4th item: False\n"
          ],
          "name": "stdout"
        }
      ]
    },
    {
      "cell_type": "markdown",
      "metadata": {
        "id": "50X_qVLV4LIL"
      },
      "source": [
        "Imagine that you have a list containing `100` items. Getting each item of that list using this method will not be feasible. In such cases, you can retrieve every item using a loop called as `for` loop.\n",
        "Let's first learn the `for` loop."
      ]
    },
    {
      "cell_type": "markdown",
      "metadata": {
        "id": "RzPVnLT04NbD"
      },
      "source": [
        "---"
      ]
    },
    {
      "cell_type": "markdown",
      "metadata": {
        "id": "JOpx4Gje0BkH"
      },
      "source": [
        "\n",
        "\n",
        "### For Loops\n",
        "\n",
        "\n",
        "The `for` loop is used to repeat or iterate a set of statements for a fixed number of times.\n",
        "\n",
        "**For e.g:** If we want to print first `5` natural numbers using `for` loop.\n",
        "- First, we will use a ready-made function called `range()` inside `for` loop which generates consecutive natural numbers between two specific numbers.\n",
        "\n",
        "```python\n",
        "for i in range(1, 6):\n",
        "  print(i)\n",
        "```\n",
        "\n",
        "\n",
        "The above code can be read as *for every number in the range of `1` to `6` and except `6`, print a number.* So, in the range of `1` to `6` and except `6`, there are `5` numbers starting from `1` to `5`. So, all these numbers in this range will get printed one-by-one.\n",
        "\n",
        "<img src=\"https://curriculum.whitehatjr.com/APT+Asset/Untitled-1.gif\"/>\n",
        "\n",
        "**The range function:**\n",
        "\n",
        "It is used to generate a range of numbers.\n",
        "\n",
        "**Syntax:** `range(start, end)`\n",
        "\n",
        "where,\n",
        "\n",
        "- `start` (optional):  An integer which specifies from which position to start. Default is 0.\n",
        "- `end` (required): An integer which specifies at which position to stop. This number is not included in the range.\n",
        "\n",
        "**For e.g:**\n",
        "1. `range(0,6)` $\\Rightarrow$ generates numbers from 0 to 5.\n",
        "2.`range(6)` $\\Rightarrow$ generates numbers from 0 to 5.\n",
        "3. `range(1,11)` $\\Rightarrow$ generates numbers from 1 to 10.\n",
        "4. `range(11)` $\\Rightarrow$ generates numbers from 0 to 10.\n",
        "\n",
        "\n"
      ]
    },
    {
      "cell_type": "markdown",
      "metadata": {
        "id": "9Ox6XpAb0Exy"
      },
      "source": [
        "\n",
        "\n",
        "Now, let's retrieve all the values of the `planet` list using the `for` loop."
      ]
    },
    {
      "cell_type": "code",
      "metadata": {
        "id": "C-CoERDG0LUN",
        "colab": {
          "base_uri": "https://localhost:8080/",
          "height": 85
        },
        "outputId": "da1cd414-1439-4b0c-a102-ee676b9a0658"
      },
      "source": [
        "# Teacher Action: Using 'for' loop, print each element of the 'planet' list.\n",
        "# 1. First, find out how many items are there in the 'planet' list and store it in the variable called num_items.\n",
        "num_items = len(planet)\n",
        "\n",
        "# 2. Now iterate through each item using the for loop.\n",
        "for i in range(num_items):\n",
        "\n",
        "  # 3. Now, write the print() function with 'i' and 'planet[i]' as inputs.\n",
        "  print(planet[i])"
      ],
      "execution_count": null,
      "outputs": [
        {
          "output_type": "stream",
          "text": [
            "Mercury\n",
            "4879\n",
            "3.7\n",
            "False\n"
          ],
          "name": "stdout"
        }
      ]
    },
    {
      "cell_type": "markdown",
      "metadata": {
        "id": "0UnmVNi80NR5"
      },
      "source": [
        "Here:\n",
        "\n",
        "- The value of `num_items` is `4` because the length of the `planet` list is `4` as it contains `4` items.\n",
        "\n",
        "- The `range()` function, takes `4` as input and generates numbers from `0` to `3`. The number `4` is excluded.\n",
        "\n",
        "- The value of `i` also goes from `0` to `3`. Hence, `planet[i]` goes from `planet[0]` to `planet[3]`. Essentially, the variable `i` stores the values generated by the `range()` function, but only one value at-a-time.\n",
        "\n",
        "- So, for every value of `i` the `print()` function takes `planet[i]` as input and prints each item contained in the planet list.\n",
        "\n",
        "There is another way to get all the items from a Python list using a for loop.\n"
      ]
    },
    {
      "cell_type": "code",
      "metadata": {
        "id": "9FBF_dDp0V-b",
        "colab": {
          "base_uri": "https://localhost:8080/",
          "height": 85
        },
        "outputId": "b1690722-80d9-4bdb-bad0-0bda266d76bc"
      },
      "source": [
        "# Teacher Action: Demonstrate another way of getting all the items from a list using the 'for' loop.\n",
        "for i in planet:\n",
        "  print(i)"
      ],
      "execution_count": null,
      "outputs": [
        {
          "output_type": "stream",
          "text": [
            "Mercury\n",
            "4879\n",
            "3.7\n",
            "False\n"
          ],
          "name": "stdout"
        }
      ]
    },
    {
      "cell_type": "markdown",
      "metadata": {
        "id": "aSMbRQAF0ZLW"
      },
      "source": [
        "Here, the variable `i` does not take the numeric value because the `range()` function is not used here. So, the value of `i` goes from the first item of the `planet` list till the last item in the `planet` list.\n",
        "\n",
        "**What if you want to print items of a list in the reverse order?**\n",
        "\n",
        "This can be achieved using **Negative Indexing**.\n",
        "\n",
        "---"
      ]
    },
    {
      "cell_type": "markdown",
      "metadata": {
        "id": "2mfUa8mDx1t-"
      },
      "source": [
        "**Negative Indexing:**\n",
        "\n",
        "You can also use negative indices to get items from a list. They are helpful in retrieving items from a list in the reverse order.\n",
        "\n",
        "The negative indices begin with `-1` and go till `-n` where `n` is the number of items in a list.\n",
        "\n",
        "- The last item in a list is located at `-1` index.\n",
        "- The first item in a list is located at `-n` index.\n",
        "\n",
        "\n",
        "<img src='https://curriculum.whitehatjr.com/APT+Asset/APT+C6+images/whj-python-list-apt-c8.gif' height=400>\n",
        "\n"
      ]
    },
    {
      "cell_type": "code",
      "metadata": {
        "id": "eNow53vbeVyj",
        "colab": {
          "base_uri": "https://localhost:8080/",
          "height": 85
        },
        "outputId": "2e287530-f917-4f5b-ae15-cb8946534718"
      },
      "source": [
        "# Student Action: Use the negative indices to retrieve all the items from the 'planet' list.\n",
        "print(\"4th item:\", planet[-1])\n",
        "print(\"3rd item:\", planet[-2])\n",
        "print(\"2nd item:\", planet[-3])\n",
        "print(\"1st item:\", planet[-4])"
      ],
      "execution_count": null,
      "outputs": [
        {
          "output_type": "stream",
          "text": [
            "4th item: False\n",
            "3rd item: 3.7\n",
            "2nd item: 4879\n",
            "1st item: Mercury\n"
          ],
          "name": "stdout"
        }
      ]
    },
    {
      "cell_type": "code",
      "metadata": {
        "id": "bDQ_d0F5fEdn",
        "colab": {
          "base_uri": "https://localhost:8080/",
          "height": 85
        },
        "outputId": "6433b6e0-02d0-4cb7-ad57-f2e0dc5126bb"
      },
      "source": [
        "# Student Action: Using the 'for' loop and negative indices, retrieve all the items from the 'planet' list in the reverse order.\n",
        "n = len(planet)\n",
        "for i in range(1, n + 1):\n",
        "  print(planet[-i])"
      ],
      "execution_count": null,
      "outputs": [
        {
          "output_type": "stream",
          "text": [
            "False\n",
            "3.7\n",
            "4879\n",
            "Mercury\n"
          ],
          "name": "stdout"
        }
      ]
    },
    {
      "cell_type": "markdown",
      "metadata": {
        "id": "MfTs0p63z8fE"
      },
      "source": [
        "---"
      ]
    },
    {
      "cell_type": "markdown",
      "metadata": {
        "id": "ZAylC_zL6ugR"
      },
      "source": [
        "#### Activity 4: List Slicing\n",
        "Suppose that I have a list of `10` cars that I own.\n",
        "\n",
        "`my_cars = ['Chrysler', 'Lamborghini', 'Bugatti', 'Porsche', 'Ford', 'Rolls Royce', 'Suzuki', 'Bentley', 'Lexus', 'Tesla']`\n",
        "\n",
        "<img src=\"https://curriculum.whitehatjr.com/APT+Asset/APT+C6+images/whj-cars-index-apt-c6-08-01.png\"/>\n",
        "\n",
        "Let's say, I want to see a list of only first five cars, then I can use the concept of **list slicing**.\n",
        "\n",
        "To slice a list, write the name of the list followed by square brackets and inside the square brackets, enter the **starting point** (in this case it is zero) followed by a colon sign (`:`) and the **ending point**.\n",
        "\n",
        "**Syntax:** `list_name[start_index:end_index]`\n",
        "\n",
        "**For e.g:** `my_cars[0:5]`\n",
        "\n",
        "<img src=\"https://curriculum.whitehatjr.com/APT+Asset/APT+C6+images/whj-car-slicing-apt-c6-14-01+(1).png\"/>\n",
        "\n",
        "Note that the item at the `end-index` will not be a part of the sub-list."
      ]
    },
    {
      "cell_type": "code",
      "metadata": {
        "id": "AQ_0cIRS0yPB",
        "colab": {
          "base_uri": "https://localhost:8080/",
          "height": 34
        },
        "outputId": "49408011-2a8d-4591-a152-2555ffc17a95"
      },
      "source": [
        "# Teacher Action: Retrieve the items from a list using the slicing method by mentioning both the starting and ending indices.\n",
        "my_cars = ['Chrysler', 'Lamborghini', 'Bugatti', 'Porsche', 'Ford', 'Rolls Royce', 'Suzuki', 'Bentley', 'Lexus', 'Tesla']\n",
        "my_cars[0:5]"
      ],
      "execution_count": null,
      "outputs": [
        {
          "output_type": "execute_result",
          "data": {
            "text/plain": [
              "['Chrysler', 'Lamborghini', 'Bugatti', 'Porsche', 'Ford']"
            ]
          },
          "metadata": {
            "tags": []
          },
          "execution_count": 10
        }
      ]
    },
    {
      "cell_type": "markdown",
      "metadata": {
        "id": "lJ9Hizr40RPE"
      },
      "source": [
        "In `my_cars[0:5]` sub-list, the item at index `5` will not be included in the sub-list. The sub-list will contain the items ranging from indices `0` to `4` from the parent list.\n",
        "\n",
        "If you do not specify the starting point, then Python assumes that you want to get the items starting from the first item of the list."
      ]
    },
    {
      "cell_type": "code",
      "metadata": {
        "id": "c0z7tD64pwDg",
        "colab": {
          "base_uri": "https://localhost:8080/",
          "height": 34
        },
        "outputId": "52db52c1-e710-4482-d638-0967de97c72d"
      },
      "source": [
        "# Teacher Action: Retrieve the first 5 items from the 'my_cars' Python list without mentioning the starting index.\n",
        "my_cars[:5]"
      ],
      "execution_count": null,
      "outputs": [
        {
          "output_type": "execute_result",
          "data": {
            "text/plain": [
              "['Chrysler', 'Lamborghini', 'Bugatti', 'Porsche', 'Ford']"
            ]
          },
          "metadata": {
            "tags": []
          },
          "execution_count": 11
        }
      ]
    },
    {
      "cell_type": "markdown",
      "metadata": {
        "id": "L0EkhHikprK5"
      },
      "source": [
        "Now, using the list slicing concept, you print all the cars stored in the `my_cars` list starting from `'Lamborghini'` to `'Bentley'`."
      ]
    },
    {
      "cell_type": "code",
      "metadata": {
        "id": "iEiOH3rGCIHb",
        "colab": {
          "base_uri": "https://localhost:8080/",
          "height": 136
        },
        "outputId": "1e146986-d28e-430b-91ea-8025f5142d40"
      },
      "source": [
        "# Student Action: Write a code to see all the cars in the list starting from 'Lamborghini' to 'Bentley'.\n",
        "my_cars[1:8]"
      ],
      "execution_count": null,
      "outputs": [
        {
          "output_type": "execute_result",
          "data": {
            "text/plain": [
              "['Lamborghini',\n",
              " 'Bugatti',\n",
              " 'Porsche',\n",
              " 'Ford',\n",
              " 'Rolls Royce',\n",
              " 'Suzuki',\n",
              " 'Bentley']"
            ]
          },
          "metadata": {
            "tags": []
          },
          "execution_count": 12
        }
      ]
    },
    {
      "cell_type": "markdown",
      "metadata": {
        "id": "dFxlkJq6rjaZ"
      },
      "source": [
        "You can also skip intermediate items while retrieving a few other items from a list.\n",
        "\n",
        "Suppose you want to retrieve alternate items from a list starting from the first item, then you can use the list slicing method.\n",
        "\n",
        "Inside the square brackets, after the ending point, you have to include another colon (`:`) sign followed by the number of items to be skipped.\n",
        "\n",
        "**Syntax:** `list_name[start_index:end_index:num_of_items_to_be_skipped]`"
      ]
    },
    {
      "cell_type": "code",
      "metadata": {
        "id": "TKMHaHBHo8Gy",
        "colab": {
          "base_uri": "https://localhost:8080/",
          "height": 34
        },
        "outputId": "0df32e64-514a-4162-e455-47457c962e72"
      },
      "source": [
        "# Student Action: Retrieve all the alternate items from the 'my_cars' list.\n",
        "n = len(my_cars)\n",
        "my_cars[0:n:2]"
      ],
      "execution_count": null,
      "outputs": [
        {
          "output_type": "execute_result",
          "data": {
            "text/plain": [
              "['Chrysler', 'Bugatti', 'Ford', 'Suzuki', 'Lexus']"
            ]
          },
          "metadata": {
            "tags": []
          },
          "execution_count": 13
        }
      ]
    },
    {
      "cell_type": "markdown",
      "metadata": {
        "id": "ex4bN7z7s8Zd"
      },
      "source": [
        "**Note:** If you are retrieving all the items from a list, then you actually do not have to mention the start and end indices. Just put the colon (`:`) signs and Python will know that you wish to retrieve all the items.\n",
        "\n",
        "To retrieve all the items from a list in the reverse order, you can also use the list slicing method with a negative index `-1` after the second colon (`:`) sign."
      ]
    },
    {
      "cell_type": "code",
      "metadata": {
        "id": "1b50S7aptGxL",
        "colab": {
          "base_uri": "https://localhost:8080/",
          "height": 187
        },
        "outputId": "ba4179ef-4986-4087-9370-1c7ee439911e"
      },
      "source": [
        "# Student Action: Retrieve all the items from the 'my_cars' list in the reverse order.\n",
        "my_cars[::-1]"
      ],
      "execution_count": null,
      "outputs": [
        {
          "output_type": "execute_result",
          "data": {
            "text/plain": [
              "['Tesla',\n",
              " 'Lexus',\n",
              " 'Bentley',\n",
              " 'Suzuki',\n",
              " 'Rolls Royce',\n",
              " 'Ford',\n",
              " 'Porsche',\n",
              " 'Bugatti',\n",
              " 'Lamborghini',\n",
              " 'Chrysler']"
            ]
          },
          "metadata": {
            "tags": []
          },
          "execution_count": 14
        }
      ]
    },
    {
      "cell_type": "markdown",
      "metadata": {
        "id": "QFmDbPBs0ye8"
      },
      "source": [
        "---"
      ]
    },
    {
      "cell_type": "markdown",
      "metadata": {
        "id": "R5OAAjHrD-N-"
      },
      "source": [
        "#### Activity 5: Index Of An Item\n",
        "\n",
        "Suppose that you want to find the index of `Ford` in the `my_cars` list, then you can use the `index()` function.\n",
        "\n",
        "To find an index of an item, write the name of the list followed by the dot `(.)` operator followed by the `index()` function. Inside the `index()` function, enter the item whose index you wish to find.\n",
        "\n",
        "**Syntax:** `list_name.index(item)`\n",
        "\n",
        "**For e.g:**\n",
        "\n",
        "1. `my_cars.index('Chrysler')` $\\Rightarrow$ returns `0` as index of `'Chrysler'` is `0`."
      ]
    },
    {
      "cell_type": "code",
      "metadata": {
        "id": "ZNCl8haaDgfZ",
        "colab": {
          "base_uri": "https://localhost:8080/",
          "height": 34
        },
        "outputId": "c6bd1ca3-21d1-4f8f-f26d-1d5cff5c51d5"
      },
      "source": [
        "# Student Action: Find the index of 'Ford'.\n",
        "my_cars.index('Ford')"
      ],
      "execution_count": null,
      "outputs": [
        {
          "output_type": "execute_result",
          "data": {
            "text/plain": [
              "4"
            ]
          },
          "metadata": {
            "tags": []
          },
          "execution_count": 15
        }
      ]
    },
    {
      "cell_type": "markdown",
      "metadata": {
        "id": "DGeWh7-DJE0h"
      },
      "source": [
        "So, the item `'Ford'` exists at the `index = 4` in the `my_cars` list."
      ]
    },
    {
      "cell_type": "markdown",
      "metadata": {
        "id": "-5Y_OPoBGTwZ"
      },
      "source": [
        "---"
      ]
    },
    {
      "cell_type": "markdown",
      "metadata": {
        "id": "Z5pRYBB0CedN"
      },
      "source": [
        "#### Activity 6: Removing An Item\n",
        "\n",
        "Let's say you sold your `'Bentley'` car to your friend. So, you will have to remove it from the list of your cars.\n",
        "\n",
        "To remove an item from a list, use the `remove()` function followed by the item that you wish to remove.\n",
        "\n",
        "<img src=\"https://curriculum.whitehatjr.com/APT+Asset/APT+C6+images/whj-car-bentleycross-apt-c6-10-01.png\"/>\n",
        "\n",
        "**Syntax:** `list_name.remove(item)`\n",
        "\n",
        "\n"
      ]
    },
    {
      "cell_type": "code",
      "metadata": {
        "id": "u_tvV0GzC4Nn",
        "colab": {
          "base_uri": "https://localhost:8080/",
          "height": 170
        },
        "outputId": "30ce5ef8-f5b5-401e-d70a-df6d96668bfc"
      },
      "source": [
        "# Student Action: Remove 'Bentley' from the 'my_cars' list.\n",
        "my_cars.remove('Bentley')\n",
        "my_cars"
      ],
      "execution_count": null,
      "outputs": [
        {
          "output_type": "execute_result",
          "data": {
            "text/plain": [
              "['Chrysler',\n",
              " 'Lamborghini',\n",
              " 'Bugatti',\n",
              " 'Porsche',\n",
              " 'Ford',\n",
              " 'Rolls Royce',\n",
              " 'Suzuki',\n",
              " 'Lexus',\n",
              " 'Tesla']"
            ]
          },
          "metadata": {
            "tags": []
          },
          "execution_count": 17
        }
      ]
    },
    {
      "cell_type": "markdown",
      "metadata": {
        "id": "TdMqCMvbDQ7v"
      },
      "source": [
        "Now, `'Bentley'` is a not part of `my_cars` list anymore."
      ]
    },
    {
      "cell_type": "markdown",
      "metadata": {
        "id": "WxeRaXtGD3D8"
      },
      "source": [
        "---"
      ]
    },
    {
      "cell_type": "markdown",
      "metadata": {
        "id": "HWmHX1zpD44h"
      },
      "source": [
        "#### Activity 7: The `pop()` Function^\n",
        "\n",
        "You can also remove an item from a list using another function called `pop()`. It has two behaviours.\n",
        "\n",
        "**Behaviour I:** If you do not specify any input, it will always remove only the last item from a Python list.\n",
        "\n",
        "<img src=\"https://curriculum.whitehatjr.com/APT+Asset/APT+C6+images/cross.png\"/>\n",
        "\n",
        "**Syntax:** `list_name.pop()`"
      ]
    },
    {
      "cell_type": "code",
      "metadata": {
        "id": "iJv5JtPcD4Hb",
        "colab": {
          "base_uri": "https://localhost:8080/",
          "height": 85
        },
        "outputId": "9cdb084a-5236-4f05-dc77-9a3ebad81962"
      },
      "source": [
        "# Student Action: Remove the last item from the 'my_cars' list using the 'pop()' function.\n",
        "print(\"List of cars before using the pop() function.\")\n",
        "print(my_cars)\n",
        "\n",
        "my_cars.pop()\n",
        "\n",
        "print(\"List of cars after using the pop() function.\")\n",
        "print(my_cars)"
      ],
      "execution_count": null,
      "outputs": [
        {
          "output_type": "stream",
          "text": [
            "List of cars before using the pop() function.\n",
            "['Chrysler', 'Lamborghini', 'Bugatti', 'Porsche', 'Ford', 'Rolls Royce', 'Suzuki', 'Lexus', 'Tesla']\n",
            "List of cars after using the pop() function.\n",
            "['Chrysler', 'Lamborghini', 'Bugatti', 'Porsche', 'Ford', 'Rolls Royce', 'Suzuki', 'Lexus']\n"
          ],
          "name": "stdout"
        }
      ]
    },
    {
      "cell_type": "markdown",
      "metadata": {
        "id": "d1-GtyjIEjA6"
      },
      "source": [
        "**Behaviour II:** If you want to remove an item from a list located at a specific index, then pass the index of that item as an input to the `pop()` function.\n",
        "\n",
        "**For example:** To remove the item at index = 3 from the 'my_cars' list:\n",
        "\n",
        "<img src=\"https://curriculum.whitehatjr.com/APT+Asset/APT+C6+images/cross2.png\"/>\n",
        "\n",
        "**Syntax:** `list_name.pop(item_index)`"
      ]
    },
    {
      "cell_type": "code",
      "metadata": {
        "id": "nvlCvhdqSXkG",
        "colab": {
          "base_uri": "https://localhost:8080/",
          "height": 136
        },
        "outputId": "6ac6528e-878e-400a-a3ab-ed1eab702e3b"
      },
      "source": [
        "# Student Action: Remove the item at 'index = 3' from the 'my_cars' list using the 'pop()' function.\n",
        "my_cars.pop(3)\n",
        "my_cars"
      ],
      "execution_count": null,
      "outputs": [
        {
          "output_type": "execute_result",
          "data": {
            "text/plain": [
              "['Chrysler',\n",
              " 'Lamborghini',\n",
              " 'Bugatti',\n",
              " 'Ford',\n",
              " 'Rolls Royce',\n",
              " 'Suzuki',\n",
              " 'Lexus']"
            ]
          },
          "metadata": {
            "tags": []
          },
          "execution_count": 19
        }
      ]
    },
    {
      "cell_type": "markdown",
      "metadata": {
        "id": "wGbMbNgLEAaF"
      },
      "source": [
        "---"
      ]
    },
    {
      "cell_type": "markdown",
      "metadata": {
        "id": "6MbJIuLm2mru"
      },
      "source": [
        "#### Activity 8: Item Replacement^^\n",
        "\n",
        "You can replace an existing item in a list with a new item. Suppose I exchanged my `Suzuki` car with a `McLaren` car. So, I need to update `my_cars` list accordingly.\n",
        "\n",
        "To replace an item, first get the index of that item. Then using the list indexing method, replace the existing item with the new one.\n",
        "\n",
        "**Syntax:** `list_name[list_name.index('current_item')] = new_item`\n",
        "\n",
        "**For example:** Replace the item `Suzuki` with `McLaren` in the `my_cars` list.\n",
        "\n",
        "<img src=\"https://curriculum.whitehatjr.com/APT+Asset/APT+C6+images/new2_replace.gif\"/>"
      ]
    },
    {
      "cell_type": "code",
      "metadata": {
        "id": "rUdiT9wr3lXk",
        "colab": {
          "base_uri": "https://localhost:8080/",
          "height": 136
        },
        "outputId": "effaab6e-3007-4de9-da74-a02d0729f845"
      },
      "source": [
        "# Student Action: Replace 'Suzuki' with 'McLaren' in the 'my_cars' list.\n",
        "index_of_suzuki = my_cars.index('Suzuki')\n",
        "\n",
        "my_cars[index_of_suzuki] = 'McLaren'\n",
        "my_cars"
      ],
      "execution_count": null,
      "outputs": [
        {
          "output_type": "execute_result",
          "data": {
            "text/plain": [
              "['Chrysler',\n",
              " 'Lamborghini',\n",
              " 'Bugatti',\n",
              " 'Ford',\n",
              " 'Rolls Royce',\n",
              " 'McLaren',\n",
              " 'Lexus']"
            ]
          },
          "metadata": {
            "tags": []
          },
          "execution_count": 20
        }
      ]
    },
    {
      "cell_type": "markdown",
      "metadata": {
        "id": "U853vHUg4IG4"
      },
      "source": [
        "As you can see, the `'Suzuki'` car has been replaced by `'McLaren'` using the list indexing method.\n",
        "\n",
        "Similarly, you replace `'Lexus'` with `'Aston Martin'` using the list indexing method."
      ]
    },
    {
      "cell_type": "code",
      "metadata": {
        "id": "crN7kFwW7v2A",
        "colab": {
          "base_uri": "https://localhost:8080/",
          "height": 136
        },
        "outputId": "928339d6-e0b3-4c0d-a739-d197d9cf18b3"
      },
      "source": [
        "# Student Action: Replace 'Lexus' with 'Aston Martin' in the my_cars list.\n",
        "index_of_lexus = my_cars.index('Lexus')\n",
        "my_cars[index_of_lexus] = 'Aston Martin'\n",
        "my_cars"
      ],
      "execution_count": null,
      "outputs": [
        {
          "output_type": "execute_result",
          "data": {
            "text/plain": [
              "['Chrysler',\n",
              " 'Lamborghini',\n",
              " 'Bugatti',\n",
              " 'Ford',\n",
              " 'Rolls Royce',\n",
              " 'McLaren',\n",
              " 'Aston Martin']"
            ]
          },
          "metadata": {
            "tags": []
          },
          "execution_count": 21
        }
      ]
    },
    {
      "cell_type": "markdown",
      "metadata": {
        "id": "EtZRRJJq8U9D"
      },
      "source": [
        "As you can see, the `'Lexus'` car has been replaced by `'Aston Martin'` using the list indexing method."
      ]
    },
    {
      "cell_type": "markdown",
      "metadata": {
        "id": "Y_pSI5rb8a7y"
      },
      "source": [
        "---"
      ]
    },
    {
      "cell_type": "markdown",
      "metadata": {
        "id": "KtCjtoCnZSR_"
      },
      "source": [
        "### Additional Activities\n",
        "\n",
        "The activities starting from this point are optional. Please do these activities **ONLY** if you have time to spare in the class. Otherwise, skip to the **Wrap-Up** section. The additional activities will not be available in the class copy of the notebook. You will have to manually add these activities in the class copy by adding new text and code cells.\n",
        "\n",
        "Moreover, you don't have to do all the additional activities. Depending on the availability of time in a class, you can choose the number of additional activities to perform from this collection."
      ]
    },
    {
      "cell_type": "markdown",
      "metadata": {
        "id": "i-mGADATZVRV"
      },
      "source": [
        "---"
      ]
    },
    {
      "cell_type": "markdown",
      "metadata": {
        "id": "KNx433c0ZWH1"
      },
      "source": [
        "#### Activity 1: List Triangle I\n",
        "\n",
        "Write a code to get the following output.\n",
        "\n",
        "```\n",
        "[0]\n",
        "[0, 1]\n",
        "[0, 1, 2]\n",
        "[0, 1, 2, 3]\n",
        "[0, 1, 2, 3, 4]\n",
        "[0, 1, 2, 3, 4, 5]\n",
        "[0, 1, 2, 3, 4, 5, 6]\n",
        "[0, 1, 2, 3, 4, 5, 6, 7]\n",
        "[0, 1, 2, 3, 4, 5, 6, 7, 8]\n",
        "[0, 1, 2, 3, 4, 5, 6, 7, 8, 9]\n",
        "```"
      ]
    },
    {
      "cell_type": "code",
      "metadata": {
        "id": "AhtGhVNhZcBF",
        "colab": {
          "base_uri": "https://localhost:8080/",
          "height": 187
        },
        "outputId": "d14e3da6-ae11-44de-d881-c3f33ce540ca"
      },
      "source": [
        "# Solution:\n",
        "nums = [0, 1, 2, 3, 4, 5, 6, 7, 8, 9]\n",
        "for i in range(len(nums)):\n",
        "  print(nums[:i+1])"
      ],
      "execution_count": null,
      "outputs": [
        {
          "output_type": "stream",
          "text": [
            "[0]\n",
            "[0, 1]\n",
            "[0, 1, 2]\n",
            "[0, 1, 2, 3]\n",
            "[0, 1, 2, 3, 4]\n",
            "[0, 1, 2, 3, 4, 5]\n",
            "[0, 1, 2, 3, 4, 5, 6]\n",
            "[0, 1, 2, 3, 4, 5, 6, 7]\n",
            "[0, 1, 2, 3, 4, 5, 6, 7, 8]\n",
            "[0, 1, 2, 3, 4, 5, 6, 7, 8, 9]\n"
          ],
          "name": "stdout"
        }
      ]
    },
    {
      "cell_type": "markdown",
      "metadata": {
        "id": "HbZaa3tvaSKJ"
      },
      "source": [
        "---"
      ]
    },
    {
      "cell_type": "markdown",
      "metadata": {
        "id": "l9sMPgJkaMgF"
      },
      "source": [
        "#### Activity 2: List Triangle II\n",
        "\n",
        "Write a code to get the following output.\n",
        "\n",
        "```\n",
        "[0, 1, 2, 3, 4, 5, 6, 7, 8, 9]\n",
        "[1, 2, 3, 4, 5, 6, 7, 8, 9]\n",
        "[2, 3, 4, 5, 6, 7, 8, 9]\n",
        "[3, 4, 5, 6, 7, 8, 9]\n",
        "[4, 5, 6, 7, 8, 9]\n",
        "[5, 6, 7, 8, 9]\n",
        "[6, 7, 8, 9]\n",
        "[7, 8, 9]\n",
        "[8, 9]\n",
        "[9]\n",
        "```"
      ]
    },
    {
      "cell_type": "code",
      "metadata": {
        "id": "I0Q7nvWPZ0Zv",
        "colab": {
          "base_uri": "https://localhost:8080/",
          "height": 187
        },
        "outputId": "e026232c-7201-4a71-ce9b-0ec91834fcb3"
      },
      "source": [
        "# Solution:\n",
        "nums = [0, 1, 2, 3, 4, 5, 6, 7, 8, 9]\n",
        "for i in range(len(nums)):\n",
        "  print(nums[i:len(nums)])"
      ],
      "execution_count": null,
      "outputs": [
        {
          "output_type": "stream",
          "text": [
            "[0, 1, 2, 3, 4, 5, 6, 7, 8, 9]\n",
            "[1, 2, 3, 4, 5, 6, 7, 8, 9]\n",
            "[2, 3, 4, 5, 6, 7, 8, 9]\n",
            "[3, 4, 5, 6, 7, 8, 9]\n",
            "[4, 5, 6, 7, 8, 9]\n",
            "[5, 6, 7, 8, 9]\n",
            "[6, 7, 8, 9]\n",
            "[7, 8, 9]\n",
            "[8, 9]\n",
            "[9]\n"
          ],
          "name": "stdout"
        }
      ]
    },
    {
      "cell_type": "markdown",
      "metadata": {
        "id": "TceS0EX7dNdt"
      },
      "source": [
        "---"
      ]
    },
    {
      "cell_type": "markdown",
      "metadata": {
        "id": "5FI7MSvQdSU4"
      },
      "source": [
        "#### Activity 3: Exponents\n",
        "\n",
        "Write a code to get the following output.\n",
        "\n",
        "```\n",
        "Numbers raised to power 1 ==> [1, 2, 3, 4, 5, 6, 7, 8, 9]\n",
        "Numbers raised to power 2 ==> [1, 4, 9, 16, 25, 36, 49, 64, 81]\n",
        "Numbers raised to power 3 ==> [1, 8, 27, 64, 125, 216, 343, 512, 729]\n",
        "Numbers raised to power 4 ==> [1, 16, 81, 256, 625, 1296, 2401, 4096, 6561]\n",
        "Numbers raised to power 5 ==> [1, 32, 243, 1024, 3125, 7776, 16807, 32768, 59049]\n",
        "Numbers raised to power 6 ==> [1, 64, 729, 4096, 15625, 46656, 117649, 262144, 531441]\n",
        "Numbers raised to power 7 ==> [1, 128, 2187, 16384, 78125, 279936, 823543, 2097152, 4782969]\n",
        "Numbers raised to power 8 ==> [1, 256, 6561, 65536, 390625, 1679616, 5764801, 16777216, 43046721]\n",
        "Numbers raised to power 9 ==> [1, 512, 19683, 262144, 1953125, 10077696, 40353607, 134217728, 387420489]\n",
        "```"
      ]
    },
    {
      "cell_type": "code",
      "metadata": {
        "id": "1gfgpQi6az9b",
        "colab": {
          "base_uri": "https://localhost:8080/",
          "height": 170
        },
        "outputId": "a079021f-128e-4f82-e7ee-289ee21dc29d"
      },
      "source": [
        "# Solution:\n",
        "num = 1\n",
        "nums = []\n",
        "while num < 10:\n",
        "  nums.append(num)\n",
        "  num = num + 1\n",
        "for i in range(len(nums)):\n",
        "  temp_list = []\n",
        "  for j in range(len(nums)):\n",
        "    temp_list.append(nums[j] ** (i + 1))\n",
        "  print(\"Numbers raised to power\", i + 1, \"==>\", temp_list)"
      ],
      "execution_count": null,
      "outputs": [
        {
          "output_type": "stream",
          "text": [
            "Numbers raised to power 1 ==> [1, 2, 3, 4, 5, 6, 7, 8, 9]\n",
            "Numbers raised to power 2 ==> [1, 4, 9, 16, 25, 36, 49, 64, 81]\n",
            "Numbers raised to power 3 ==> [1, 8, 27, 64, 125, 216, 343, 512, 729]\n",
            "Numbers raised to power 4 ==> [1, 16, 81, 256, 625, 1296, 2401, 4096, 6561]\n",
            "Numbers raised to power 5 ==> [1, 32, 243, 1024, 3125, 7776, 16807, 32768, 59049]\n",
            "Numbers raised to power 6 ==> [1, 64, 729, 4096, 15625, 46656, 117649, 262144, 531441]\n",
            "Numbers raised to power 7 ==> [1, 128, 2187, 16384, 78125, 279936, 823543, 2097152, 4782969]\n",
            "Numbers raised to power 8 ==> [1, 256, 6561, 65536, 390625, 1679616, 5764801, 16777216, 43046721]\n",
            "Numbers raised to power 9 ==> [1, 512, 19683, 262144, 1953125, 10077696, 40353607, 134217728, 387420489]\n"
          ],
          "name": "stdout"
        }
      ]
    },
    {
      "cell_type": "markdown",
      "metadata": {
        "id": "-R6rAVnIZRMn"
      },
      "source": [
        "---"
      ]
    },
    {
      "cell_type": "markdown",
      "metadata": {
        "id": "o0WAXc_8tKra"
      },
      "source": [
        "### Wrap-Up Quiz\n",
        "\n",
        "```\n",
        "TEACHER\n",
        "  Let us quickly recollect what we learned and did in today's class.\n",
        "\n",
        "  There are some questions alongwith 4 options in the Class copy.\n",
        "  Tell me the correct answer.\n",
        "```\n",
        "<img src=\"https://curriculum.whitehatjr.com/APT+Asset/APT+C6+images/Q1_new.PNG\"/>\n",
        "\n",
        "```\n",
        "TEACHER\n",
        "  The correct answer is Option 4.\n",
        "  The colon symbol is missing. This option will give syntax error.\n",
        "```\n",
        "\n",
        "<img src=\"https://curriculum.whitehatjr.com/APT+Asset/APT+C6+images/q2.PNG\"/>\n",
        "\n",
        "\n",
        "```\n",
        "TEACHER\n",
        "  The output will be:\n",
        "  orange\n",
        "  banana\n",
        "  \n",
        "  \n",
        "  You did a great job today.\n",
        "  I hope you had fun in this class and hope to see you in the upcoming\n",
        "  classes to learn Python programming. Bye!\n",
        "\n",
        "EXPECTED STUDENT RESPONSE\n",
        "  Bye teacher!\n",
        "```\n",
        "\n"
      ]
    },
    {
      "cell_type": "markdown",
      "metadata": {
        "id": "szTwZ0gktTlW"
      },
      "source": [
        "---"
      ]
    },
    {
      "cell_type": "markdown",
      "metadata": {
        "id": "f3fJ2bUEtVe4"
      },
      "source": [
        "### Activities\n",
        "\n",
        "**Teacher Activities**\n",
        "\n",
        "1. Python Lists II (Class Copy)\n",
        "\n",
        "  Link on Panel\n",
        "\n",
        "2. Python Lists II (Reference)\n",
        "\n",
        "   Link on Panel"
      ]
    },
    {
      "cell_type": "markdown",
      "metadata": {
        "id": "rZ34Ol_8tUQe"
      },
      "source": [
        "---"
      ]
    }
  ]
}