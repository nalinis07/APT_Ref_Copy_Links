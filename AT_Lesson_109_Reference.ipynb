{
  "nbformat": 4,
  "nbformat_minor": 0,
  "metadata": {
    "colab": {
      "provenance": [],
      "include_colab_link": true
    },
    "kernelspec": {
      "name": "python3",
      "display_name": "Python 3"
    },
    "language_info": {
      "name": "python"
    }
  },
  "cells": [
    {
      "cell_type": "markdown",
      "metadata": {
        "id": "view-in-github",
        "colab_type": "text"
      },
      "source": [
        "<a href=\"https://colab.research.google.com/github/nalinis07/APT_Ref_Copy_Links/blob/MASTER/AT_Lesson_109_Reference.ipynb\" target=\"_parent\"><img src=\"https://colab.research.google.com/assets/colab-badge.svg\" alt=\"Open In Colab\"/></a>"
      ]
    },
    {
      "cell_type": "markdown",
      "metadata": {
        "id": "b_RIOW8yUrd0"
      },
      "source": [
        "#Lesson 109: K-Means Clustering - 3D Data Clustering"
      ]
    },
    {
      "cell_type": "markdown",
      "metadata": {
        "id": "RhkBxdQRnPPY"
      },
      "source": [
        "**WARNING:** The reference notebook is meant **ONLY** for a teacher. Please **DO NOT** share it with any student.\n",
        "\n",
        "The contents of the reference notebook are meant only to prepare a teacher for a class. To conduct the class, use the class copy of the reference notebook. The link and the instructions for the same are provided in the **Notes To The Teacher** section.\n",
        "\n",
        "\n",
        "|Particulars|Description|\n",
        "|-|-|\n",
        "|**Topic**|K-Means Clustering - 3D Data Clustering|\n",
        "|||\n",
        "|**Class Description**|In this class, a student will cluster a three-dimensional dataset and will learn about regular expressions.|\n",
        "|||\n",
        "|**Class**|C109|\n",
        "|||\n",
        "|**Class Time**|55 minutes|\n",
        "|||\n",
        "|**Goal**|Clustering 3D dataset.|\n",
        "||Loading Customer Segmentation Dataset.|\n",
        "||Understanding Regular Expressions.|\n",
        "|||\n",
        "|**Teacher Resources**|Google Account|\n",
        "||Laptop with internet connectivity|\n",
        "||Earphones with mic|\n",
        "|||\n",
        "|**Student Resources**|Google Account|\n",
        "||Laptop with internet connectivity|\n",
        "||Earphones with mic|"
      ]
    },
    {
      "cell_type": "markdown",
      "metadata": {
        "id": "kk7HmTyEn348"
      },
      "source": [
        "---"
      ]
    },
    {
      "cell_type": "markdown",
      "metadata": {
        "id": "RT7iiLnUnwFN"
      },
      "source": [
        "### Warm-up Quiz\n",
        "\n",
        "```\n",
        "TEACHER\n",
        "I have an exciting quiz question for you! Are you ready to answer this question?\n",
        "\n",
        "EXPECTED STUDENT RESPONSE\n",
        "Yes.\n",
        "```\n",
        "\n",
        "**Instructions for the Teacher:**\n",
        "- Please click on the \"Quiz Time\" button on the bottom right corner of your screen to start the In-Class Quiz. <img src='https://student-datasets-bucket.s3.ap-south-1.amazonaws.com/images/quiz-time.png' width = 150>\n",
        "\n",
        "- A quiz will be visible to both you and the student. Encourage the student to answer the quiz question.\n",
        "\n",
        "- The student may choose the wrong option, help the student to think correctly about the question and then answer again.\n",
        "\n",
        "- After the student selects the correct option, the \"End Quiz\" button will start appearing on your screen. <img src='https://student-datasets-bucket.s3.ap-south-1.amazonaws.com/images/end-quiz.png' width = 150>  \n",
        "\n",
        "- Click the \"End quiz\" button to close the quiz pop-up and continue the class.\n",
        "  \n",
        "- Do not spend more than 2 minutes on this quiz."
      ]
    },
    {
      "cell_type": "markdown",
      "metadata": {
        "id": "fIDGouSqn85Y"
      },
      "source": [
        "---"
      ]
    },
    {
      "cell_type": "markdown",
      "metadata": {
        "id": "EL8AB1d5_zeX"
      },
      "source": [
        "### Teacher-Student Activities\n",
        "\n",
        "In the previous class, we implemented K-Means algorithm on **Mall Customers** dataset. We created clusters of customers based on their annual income and spending score. We also learned how to determine optimal number of clusters using Elbow method and Silhouette score.\n",
        "\n",
        "In this class, we will create cluster of customers based on their age, income, and spending. Also, we will start working on a more complex problem statement of Customer Segmentation.\n",
        "\n",
        "Let's quickly run the code cells and go through the problem statement covered in the previous lesson and begin this lesson from the **Activity 1: Clustering Based on Three Features**.\n"
      ]
    },
    {
      "cell_type": "markdown",
      "metadata": {
        "id": "KPgOQQlKEUm7"
      },
      "source": [
        "---"
      ]
    },
    {
      "cell_type": "markdown",
      "metadata": {
        "id": "-p09fhvwzkaN"
      },
      "source": [
        "#### Problem Statement\n",
        "\n",
        "You own a marketing company and working on formulating marketing strategies for a mall based on the customers spending patterns.\n",
        "\n",
        "The mall has provided the consumer dataset comprising of details for 200 customers with following attributes:\n",
        "\n",
        "|Attribute| Description\n",
        "|-|-|\n",
        "|CustomerID|Unique ID assigned to the customer|\n",
        "|Genre|Gender of the customer|\n",
        "| Age | Customer's  Age in years |\n",
        "| Annual Income (k$)| Customer's annual income in multiples of thousands (USD) |\n",
        "| Spending Score (1-100)| Score assigned by the mall based on customer behavior and spending nature (1-100) |\n",
        "\n",
        "Your job is to segregate customers in different groups or clusters, so that different marketing strategies can be devised for different groups.\n",
        "\n",
        "\n",
        "**Dataset Source:** https://www.kaggle.com/shwetabh123/mall-customers"
      ]
    },
    {
      "cell_type": "markdown",
      "metadata": {
        "id": "xz8bPUzc4kZt"
      },
      "source": [
        "---"
      ]
    },
    {
      "cell_type": "markdown",
      "metadata": {
        "id": "ssNK8b5j4lTc"
      },
      "source": [
        "#### Importing Modules and Reading Data\n",
        "\n",
        "\n",
        "Here is the link to the dataset:\n",
        "https://s3-student-datasets-bucket.whjr.online/whitehat-ds-datasets/Mall_Customers.csv\n"
      ]
    },
    {
      "cell_type": "code",
      "metadata": {
        "colab": {
          "base_uri": "https://localhost:8080/",
          "height": 204
        },
        "id": "fjwnqUSX5Yno",
        "outputId": "0ee74d71-3239-4007-9f0e-ea2a217acd6f"
      },
      "source": [
        "# Import the modules, read the dataset and create a Pandas DataFrame.\n",
        "import numpy as np\n",
        "import pandas as pd\n",
        "import seaborn as sns\n",
        "import matplotlib.pyplot as plt\n",
        "\n",
        "mall_df = pd.read_csv(\"https://s3-student-datasets-bucket.whjr.online/whitehat-ds-datasets/Mall_Customers.csv\")\n",
        "\n",
        "# Print the first five records\n",
        "mall_df.head()"
      ],
      "execution_count": null,
      "outputs": [
        {
          "output_type": "execute_result",
          "data": {
            "text/html": [
              "<div>\n",
              "<style scoped>\n",
              "    .dataframe tbody tr th:only-of-type {\n",
              "        vertical-align: middle;\n",
              "    }\n",
              "\n",
              "    .dataframe tbody tr th {\n",
              "        vertical-align: top;\n",
              "    }\n",
              "\n",
              "    .dataframe thead th {\n",
              "        text-align: right;\n",
              "    }\n",
              "</style>\n",
              "<table border=\"1\" class=\"dataframe\">\n",
              "  <thead>\n",
              "    <tr style=\"text-align: right;\">\n",
              "      <th></th>\n",
              "      <th>CustomerID</th>\n",
              "      <th>Genre</th>\n",
              "      <th>Age</th>\n",
              "      <th>Annual Income (k$)</th>\n",
              "      <th>Spending Score (1-100)</th>\n",
              "    </tr>\n",
              "  </thead>\n",
              "  <tbody>\n",
              "    <tr>\n",
              "      <th>0</th>\n",
              "      <td>1</td>\n",
              "      <td>Male</td>\n",
              "      <td>19</td>\n",
              "      <td>15</td>\n",
              "      <td>39</td>\n",
              "    </tr>\n",
              "    <tr>\n",
              "      <th>1</th>\n",
              "      <td>2</td>\n",
              "      <td>Male</td>\n",
              "      <td>21</td>\n",
              "      <td>15</td>\n",
              "      <td>81</td>\n",
              "    </tr>\n",
              "    <tr>\n",
              "      <th>2</th>\n",
              "      <td>3</td>\n",
              "      <td>Female</td>\n",
              "      <td>20</td>\n",
              "      <td>16</td>\n",
              "      <td>6</td>\n",
              "    </tr>\n",
              "    <tr>\n",
              "      <th>3</th>\n",
              "      <td>4</td>\n",
              "      <td>Female</td>\n",
              "      <td>23</td>\n",
              "      <td>16</td>\n",
              "      <td>77</td>\n",
              "    </tr>\n",
              "    <tr>\n",
              "      <th>4</th>\n",
              "      <td>5</td>\n",
              "      <td>Female</td>\n",
              "      <td>31</td>\n",
              "      <td>17</td>\n",
              "      <td>40</td>\n",
              "    </tr>\n",
              "  </tbody>\n",
              "</table>\n",
              "</div>"
            ],
            "text/plain": [
              "   CustomerID   Genre  Age  Annual Income (k$)  Spending Score (1-100)\n",
              "0           1    Male   19                  15                      39\n",
              "1           2    Male   21                  15                      81\n",
              "2           3  Female   20                  16                       6\n",
              "3           4  Female   23                  16                      77\n",
              "4           5  Female   31                  17                      40"
            ]
          },
          "metadata": {},
          "execution_count": 1
        }
      ]
    },
    {
      "cell_type": "code",
      "metadata": {
        "colab": {
          "base_uri": "https://localhost:8080/"
        },
        "id": "PXvVa0Kb5nhO",
        "outputId": "f150c47c-645a-4f20-bd68-1b4b6bf13bb8"
      },
      "source": [
        "# Get the total number of rows and columns, data-types of columns and missing values (if exist) in the dataset.\n",
        "mall_df.info()"
      ],
      "execution_count": null,
      "outputs": [
        {
          "output_type": "stream",
          "name": "stdout",
          "text": [
            "<class 'pandas.core.frame.DataFrame'>\n",
            "RangeIndex: 200 entries, 0 to 199\n",
            "Data columns (total 5 columns):\n",
            " #   Column                  Non-Null Count  Dtype \n",
            "---  ------                  --------------  ----- \n",
            " 0   CustomerID              200 non-null    int64 \n",
            " 1   Genre                   200 non-null    object\n",
            " 2   Age                     200 non-null    int64 \n",
            " 3   Annual Income (k$)      200 non-null    int64 \n",
            " 4   Spending Score (1-100)  200 non-null    int64 \n",
            "dtypes: int64(4), object(1)\n",
            "memory usage: 7.9+ KB\n"
          ]
        }
      ]
    },
    {
      "cell_type": "markdown",
      "metadata": {
        "id": "tTBK5Jnx5-t2"
      },
      "source": [
        "There are 200 rows and 5 columns and 0 missing (or null) values in the dataset.\n",
        "\n",
        "We will rename the following columns for convenience:\n",
        "- `Genre` to `Gender`.\n",
        "- `Annual Income (k$)` to `Annual Income`.\n",
        "- `Spending Score (1-100)` to `Spending Score`.\n",
        "\n"
      ]
    },
    {
      "cell_type": "code",
      "metadata": {
        "colab": {
          "base_uri": "https://localhost:8080/",
          "height": 204
        },
        "id": "RsV67XYF7ogl",
        "outputId": "227cf398-d19f-4f07-d9b6-5d076afb3a01"
      },
      "source": [
        "# Rename 'Genre' to 'Gender', 'Annual Income (k$)' to 'Annual Income' and 'Spending Score (1-100)' to 'Spending Score'.\n",
        "mall_df.rename(columns = {\"Genre\": \"Gender\"}, inplace = True)\n",
        "mall_df.rename(columns = {\"Annual Income (k$)\": \"Annual Income\"}, inplace = True)\n",
        "mall_df.rename(columns = {\"Spending Score (1-100)\": \"Spending Score\"}, inplace = True)\n",
        "\n",
        "# Again print the first five records.\n",
        "mall_df.head()\n"
      ],
      "execution_count": null,
      "outputs": [
        {
          "output_type": "execute_result",
          "data": {
            "text/html": [
              "<div>\n",
              "<style scoped>\n",
              "    .dataframe tbody tr th:only-of-type {\n",
              "        vertical-align: middle;\n",
              "    }\n",
              "\n",
              "    .dataframe tbody tr th {\n",
              "        vertical-align: top;\n",
              "    }\n",
              "\n",
              "    .dataframe thead th {\n",
              "        text-align: right;\n",
              "    }\n",
              "</style>\n",
              "<table border=\"1\" class=\"dataframe\">\n",
              "  <thead>\n",
              "    <tr style=\"text-align: right;\">\n",
              "      <th></th>\n",
              "      <th>CustomerID</th>\n",
              "      <th>Gender</th>\n",
              "      <th>Age</th>\n",
              "      <th>Annual Income</th>\n",
              "      <th>Spending Score</th>\n",
              "    </tr>\n",
              "  </thead>\n",
              "  <tbody>\n",
              "    <tr>\n",
              "      <th>0</th>\n",
              "      <td>1</td>\n",
              "      <td>Male</td>\n",
              "      <td>19</td>\n",
              "      <td>15</td>\n",
              "      <td>39</td>\n",
              "    </tr>\n",
              "    <tr>\n",
              "      <th>1</th>\n",
              "      <td>2</td>\n",
              "      <td>Male</td>\n",
              "      <td>21</td>\n",
              "      <td>15</td>\n",
              "      <td>81</td>\n",
              "    </tr>\n",
              "    <tr>\n",
              "      <th>2</th>\n",
              "      <td>3</td>\n",
              "      <td>Female</td>\n",
              "      <td>20</td>\n",
              "      <td>16</td>\n",
              "      <td>6</td>\n",
              "    </tr>\n",
              "    <tr>\n",
              "      <th>3</th>\n",
              "      <td>4</td>\n",
              "      <td>Female</td>\n",
              "      <td>23</td>\n",
              "      <td>16</td>\n",
              "      <td>77</td>\n",
              "    </tr>\n",
              "    <tr>\n",
              "      <th>4</th>\n",
              "      <td>5</td>\n",
              "      <td>Female</td>\n",
              "      <td>31</td>\n",
              "      <td>17</td>\n",
              "      <td>40</td>\n",
              "    </tr>\n",
              "  </tbody>\n",
              "</table>\n",
              "</div>"
            ],
            "text/plain": [
              "   CustomerID  Gender  Age  Annual Income  Spending Score\n",
              "0           1    Male   19             15              39\n",
              "1           2    Male   21             15              81\n",
              "2           3  Female   20             16               6\n",
              "3           4  Female   23             16              77\n",
              "4           5  Female   31             17              40"
            ]
          },
          "metadata": {},
          "execution_count": 3
        }
      ]
    },
    {
      "cell_type": "markdown",
      "metadata": {
        "id": "uslmt6DT_VZ_"
      },
      "source": [
        "---"
      ]
    },
    {
      "cell_type": "markdown",
      "metadata": {
        "id": "9drYQ8YAtcxY"
      },
      "source": [
        "####Activity 1: Clustering Based on Three Features\n",
        "\n",
        "\n",
        "Let's first create a subset of our dataset consisting of only three columns i.e `Age`, `Annual Income`, and `Spending Score`.\n",
        "\n"
      ]
    },
    {
      "cell_type": "code",
      "metadata": {
        "colab": {
          "base_uri": "https://localhost:8080/",
          "height": 204
        },
        "id": "zKydj_zBENy0",
        "outputId": "2a8469d1-7816-4655-d700-46cdfa55bc7f"
      },
      "source": [
        "# S1.1: Create a new DataFrame consisting of three columns 'Age','Annual Income', and 'Spending Score'\n",
        "data_3d = mall_df[[\"Age\", \"Annual Income\", \"Spending Score\"]]\n",
        "\n",
        "# Print first 5 rows of this new DataFrame.\n",
        "data_3d.head()"
      ],
      "execution_count": null,
      "outputs": [
        {
          "output_type": "execute_result",
          "data": {
            "text/html": [
              "<div>\n",
              "<style scoped>\n",
              "    .dataframe tbody tr th:only-of-type {\n",
              "        vertical-align: middle;\n",
              "    }\n",
              "\n",
              "    .dataframe tbody tr th {\n",
              "        vertical-align: top;\n",
              "    }\n",
              "\n",
              "    .dataframe thead th {\n",
              "        text-align: right;\n",
              "    }\n",
              "</style>\n",
              "<table border=\"1\" class=\"dataframe\">\n",
              "  <thead>\n",
              "    <tr style=\"text-align: right;\">\n",
              "      <th></th>\n",
              "      <th>Age</th>\n",
              "      <th>Annual Income</th>\n",
              "      <th>Spending Score</th>\n",
              "    </tr>\n",
              "  </thead>\n",
              "  <tbody>\n",
              "    <tr>\n",
              "      <th>0</th>\n",
              "      <td>19</td>\n",
              "      <td>15</td>\n",
              "      <td>39</td>\n",
              "    </tr>\n",
              "    <tr>\n",
              "      <th>1</th>\n",
              "      <td>21</td>\n",
              "      <td>15</td>\n",
              "      <td>81</td>\n",
              "    </tr>\n",
              "    <tr>\n",
              "      <th>2</th>\n",
              "      <td>20</td>\n",
              "      <td>16</td>\n",
              "      <td>6</td>\n",
              "    </tr>\n",
              "    <tr>\n",
              "      <th>3</th>\n",
              "      <td>23</td>\n",
              "      <td>16</td>\n",
              "      <td>77</td>\n",
              "    </tr>\n",
              "    <tr>\n",
              "      <th>4</th>\n",
              "      <td>31</td>\n",
              "      <td>17</td>\n",
              "      <td>40</td>\n",
              "    </tr>\n",
              "  </tbody>\n",
              "</table>\n",
              "</div>"
            ],
            "text/plain": [
              "   Age  Annual Income  Spending Score\n",
              "0   19             15              39\n",
              "1   21             15              81\n",
              "2   20             16               6\n",
              "3   23             16              77\n",
              "4   31             17              40"
            ]
          },
          "metadata": {},
          "execution_count": 4
        }
      ]
    },
    {
      "cell_type": "markdown",
      "metadata": {
        "id": "YprphVZ4E40R"
      },
      "source": [
        "Next, create a 3D scatter plot to visualise the distribution for `Age`, `Annual Income`, and `Spending Score`.\n",
        "\n",
        "To create a three-dimensional plot, you need to:\n",
        "\n",
        "1. Import the  `Axes3D`  class from the `mpl_toolkits.mplot3d` module.\n",
        "2. Create 3D axes object as follows:\n",
        "\n",
        "  `ax = plt.axes(projection =\"3d\")`\n",
        "\n",
        "3. Use the `scatter()` function of the `Axes3D` class and pass the data to be plotted on $x$-axis, $y$-axis, and $z$-axis. Also change the title, set the $x$, $y$, and $z$ labels for the plot using `set_title()`, `set_xlabel()`, `set_ylabel()`, and `set_zlabel()` functions of `Axes3D` class.\n",
        "\n",
        "  You can use `help()` function to learn more about `scatter()` function of the `Axes3D` class .\n",
        "  \n",
        "\n",
        "\n",
        "\n",
        "\n"
      ]
    },
    {
      "cell_type": "code",
      "metadata": {
        "colab": {
          "base_uri": "https://localhost:8080/",
          "height": 1000
        },
        "id": "wk5ETvVm4m4m",
        "outputId": "69e066bb-9395-42a7-9d71-432e8e905be3"
      },
      "source": [
        "# Use 'help(ax.scatter)' to learn more about 'scatter()' function.\n",
        "ax = plt.axes(projection =\"3d\")\n",
        "help(ax.scatter)"
      ],
      "execution_count": null,
      "outputs": [
        {
          "output_type": "stream",
          "name": "stdout",
          "text": [
            "Help on method scatter in module mpl_toolkits.mplot3d.axes3d:\n",
            "\n",
            "scatter(xs, ys, zs=0, zdir='z', s=20, c=None, depthshade=True, *args, **kwargs) method of matplotlib.axes._subplots.Axes3DSubplot instance\n",
            "    Create a scatter plot.\n",
            "    \n",
            "    Parameters\n",
            "    ----------\n",
            "    xs, ys : array-like\n",
            "         The data positions.\n",
            "    zs : float or array-like, optional, default: 0\n",
            "        The z-positions. Either an array of the same length as *xs* and\n",
            "        *ys* or a single value to place all points in the same plane.\n",
            "    zdir : {'x', 'y', 'z', '-x', '-y', '-z'}, optional, default: 'z'\n",
            "        The axis direction for the *zs*. This is useful when plotting 2D\n",
            "        data on a 3D Axes. The data must be passed as *xs*, *ys*. Setting\n",
            "        *zdir* to 'y' then plots the data to the x-z-plane.\n",
            "    \n",
            "        See also :doc:`/gallery/mplot3d/2dcollections3d`.\n",
            "    \n",
            "    s : scalar or array-like, optional, default: 20\n",
            "        The marker size in points**2. Either an array of the same length\n",
            "        as *xs* and *ys* or a single value to make all markers the same\n",
            "        size.\n",
            "    c : color, sequence, or sequence of colors, optional\n",
            "        The marker color. Possible values:\n",
            "    \n",
            "        - A single color format string.\n",
            "        - A sequence of colors of length n.\n",
            "        - A sequence of n numbers to be mapped to colors using *cmap* and\n",
            "          *norm*.\n",
            "        - A 2-D array in which the rows are RGB or RGBA.\n",
            "    \n",
            "        For more details see the *c* argument of `~.axes.Axes.scatter`.\n",
            "    depthshade : bool, optional, default: True\n",
            "        Whether to shade the scatter markers to give the appearance of\n",
            "        depth. Each call to ``scatter()`` will perform its depthshading\n",
            "        independently.\n",
            "    **kwargs\n",
            "        All other arguments are passed on to `~.axes.Axes.scatter`.\n",
            "    \n",
            "    Returns\n",
            "    -------\n",
            "    paths : `~matplotlib.collections.PathCollection`\n",
            "\n"
          ]
        },
        {
          "output_type": "display_data",
          "data": {
            "image/png": "[encoded data removed]",
            "text/plain": [
              "<Figure size 432x288 with 1 Axes>"
            ]
          },
          "metadata": {
            "needs_background": "light"
          }
        }
      ]
    },
    {
      "cell_type": "code",
      "metadata": {
        "colab": {
          "base_uri": "https://localhost:8080/",
          "height": 520
        },
        "id": "4rf7UaUOwmt_",
        "outputId": "a5645554-8b01-4f28-c680-66567da54a6b"
      },
      "source": [
        "# S1.2: Create a 3D scatter plot with Age on X-axis, Annual Income on Y-axis, Spending Score on Z-axis.\n",
        "from mpl_toolkits.mplot3d import Axes3D\n",
        "fig = plt.figure(figsize = (16, 9))\n",
        "ax = plt.axes(projection =\"3d\")\n",
        "\n",
        "ax.scatter(data_3d['Age'], data_3d['Annual Income'], data_3d['Spending Score'], s = 100)\n",
        "ax.set_title('Supermarket Customer Spending Habits')\n",
        "ax.set_xlabel(\"Age\")\n",
        "ax.set_ylabel(\"Annual Income\")\n",
        "ax.set_zlabel(\"Spending Score\")\n",
        "\n",
        "plt.show()"
      ],
      "execution_count": null,
      "outputs": [
        {
          "output_type": "display_data",
          "data": {
            "image/png": "[encoded data removed]",
            "text/plain": [
              "<Figure size 1152x648 with 1 Axes>"
            ]
          },
          "metadata": {
            "needs_background": "light"
          }
        }
      ]
    },
    {
      "cell_type": "markdown",
      "metadata": {
        "id": "ei3d4mNbwmPV"
      },
      "source": [
        "From the above scatter plot, it is very difficult to anticipate the optimal number of clusters. Let us use the Elbow method to decide the suitable number of clusters for this dataset.\n",
        "\n",
        "Recall the steps for Elbow method:\n",
        "1. Compute K-Means clustering for different values of `K` by varying `K` from `1` to `10` clusters.\n",
        "2. Calculate the total within-cluster sum of square (WCSS) for each K using `inertia_` attribute of `KMeans` object.\n",
        "3. Plot the curve of WCSS vs the number of clusters `K`.\n"
      ]
    },
    {
      "cell_type": "code",
      "metadata": {
        "colab": {
          "base_uri": "https://localhost:8080/",
          "height": 350
        },
        "id": "y-_8bZH8Hdv8",
        "outputId": "2ae0f375-3a61-4c50-eb6a-2df0795e6d64"
      },
      "source": [
        "# S1.3: Determine 'K' using Elbow method.\n",
        "from sklearn.cluster import KMeans\n",
        "wcss = []\n",
        "\n",
        "clusters = range(1, 11)\n",
        "# Initiate a for loop that ranges from 1 to 10.\n",
        "for k in clusters:\n",
        "    # Inside for loop, perform K-Means clustering for current value of K. Use 'fit()' to train the model.\n",
        "    kmeans = KMeans(n_clusters = k, random_state = 10)\n",
        "    kmeans.fit(data_3d)\n",
        "    # Find wcss for current K value using 'inertia_' attribute and append it to the empty list.\n",
        "    wcss.append(kmeans.inertia_)\n",
        "\n",
        "# Plot WCSS vs number of clusters.\n",
        "plt.figure(figsize=(14,5))\n",
        "plt.title('WCSS (Within Cluster Sum of Squares)')\n",
        "plt.plot(clusters, wcss)\n",
        "plt.xlabel(\"K\")\n",
        "plt.ylabel(\"WCSS\")\n",
        "plt.grid()\n",
        "plt.xticks(range(1,11))\n",
        "plt.show()"
      ],
      "execution_count": null,
      "outputs": [
        {
          "output_type": "display_data",
          "data": {
            "image/png": "[encoded data removed]",
            "text/plain": [
              "<Figure size 1008x360 with 1 Axes>"
            ]
          },
          "metadata": {
            "needs_background": "light"
          }
        }
      ]
    },
    {
      "cell_type": "markdown",
      "metadata": {
        "id": "iJROAfAlM3W0"
      },
      "source": [
        "From the above plot, we can say  that `K = 5` will be a good value as WCSS starts diminishing steeply after `K = 5`. After `K = 5`, the decline in the WCSS value is minimal (you may also consider `6` clusters).\n",
        "\n",
        "Let us perform K-Means clustering with `n_clusters = 5` parameter and determine the cluster labels. Also store the cluster centroids in a variable and print them."
      ]
    },
    {
      "cell_type": "code",
      "metadata": {
        "colab": {
          "base_uri": "https://localhost:8080/"
        },
        "id": "evS3K1ygJKHu",
        "outputId": "c64bf03e-ce5b-418f-de80-5a119026ffcc"
      },
      "source": [
        "# S1.4: Determine the clusters for 3D dataset.\n",
        "\n",
        "kmeans_3d = KMeans(n_clusters = 5, random_state = 10)\n",
        "kmeans_3d.fit(data_3d)\n",
        "labels_3d = kmeans_3d.predict(data_3d)\n",
        "centroids_3d = kmeans_3d.cluster_centers_\n",
        "print(\"Cluster Labels:\", labels_3d)\n",
        "print(\"Cluster Centroids:\\n\", centroids_3d)\n"
      ],
      "execution_count": null,
      "outputs": [
        {
          "output_type": "stream",
          "name": "stdout",
          "text": [
            "Cluster Labels: [0 3 0 3 0 3 0 3 0 3 0 3 0 3 0 3 0 3 0 3 0 3 0 3 0 3 0 3 0 3 0 3 0 3 0 3 0\n",
            " 3 0 3 0 3 0 3 0 3 4 4 4 4 4 4 4 4 4 4 4 4 4 4 4 4 4 4 4 4 4 4 4 4 4 4 4 4\n",
            " 4 4 4 4 4 4 4 4 4 4 4 4 4 4 4 4 4 4 4 4 4 4 4 4 4 4 4 4 4 4 4 4 4 4 4 4 4\n",
            " 4 4 4 4 4 4 4 4 4 4 4 4 2 1 2 4 2 1 2 1 2 1 2 1 2 1 2 1 2 1 2 4 2 1 2 1 2\n",
            " 1 2 1 2 1 2 1 2 1 2 1 2 1 2 1 2 1 2 1 2 1 2 1 2 1 2 1 2 1 2 1 2 1 2 1 2 1\n",
            " 2 1 2 1 2 1 2 1 2 1 2 1 2 1 2]\n",
            "Cluster Centroids:\n",
            " [[45.2173913  26.30434783 20.91304348]\n",
            " [40.66666667 87.75       17.58333333]\n",
            " [32.69230769 86.53846154 82.12820513]\n",
            " [25.52173913 26.30434783 78.56521739]\n",
            " [43.08860759 55.29113924 49.56962025]]\n"
          ]
        }
      ]
    },
    {
      "cell_type": "markdown",
      "metadata": {
        "id": "DFykqvMOPH_b"
      },
      "source": [
        "As you can see in the output, our 3D data is divided into 5 clusters labelled from `0` to `4`.\n",
        "\n",
        "As the cluster of each data point is now obtained, let's display those clusters using `scatter()` function of `Axes3D` class again, but this one using the values of `labels_3d` to colour-code the clusters.\n",
        "\n",
        "Also, plot the cluster centers or centroids of these 5 clusters.\n"
      ]
    },
    {
      "cell_type": "code",
      "metadata": {
        "id": "QC_fvPh_K51y"
      },
      "source": [
        "# S1.5: Create a 3D scatter plot with Age on X-axis, Annual Income on Y-axis, Spending Score on Z-axis.\n",
        "from mpl_toolkits.mplot3d import Axes3D\n",
        "fig = plt.figure(figsize = (16, 9))\n",
        "ax = plt.axes(projection =\"3d\")\n",
        "\n",
        "ax.scatter(data_3d['Age'], data_3d['Annual Income'], data_3d['Spending Score'],\n",
        "           c = labels_3d, s = 100)\n",
        "ax.scatter(centroids_3d[:, 0], centroids_3d[:, 1], centroids_3d[:, 2], c = 'black',\n",
        "           marker = '*', s = 150)\n",
        "ax.set_title('Supermarket Customer Spending Habits')\n",
        "ax.set_xlabel(\"Age\")\n",
        "ax.set_ylabel(\"Annual Income\")\n",
        "ax.set_zlabel(\"Spending Score\")\n",
        "\n",
        "plt.show()"
      ],
      "execution_count": null,
      "outputs": []
    },
    {
      "cell_type": "markdown",
      "metadata": {
        "id": "X9ESuQ0aTJJz"
      },
      "source": [
        "We can also obtain an interactive scatter plot for our 3D dataset using `plotly.express`.\n",
        "\n",
        "To create an interactive scatter plot, follow the steps given below:\n",
        "\n",
        "1. Import `plotly.express` module.\n",
        "\n",
        "2. Next, use `scatter_3d()` function  of `plotly.express` module. Pass the following parameters to this `scatter_3d()` function:\n",
        "\n",
        "  - Entire dataset: `data_3d`\n",
        "\n",
        "  - The $x$-axis values: `x = 'Age'`\n",
        "\n",
        "  - The $y$-axis values: `y = 'Annual Income'`\n",
        "\n",
        "  - The $z$-axis values: `z = 'Spending Score'`\n",
        "\n",
        "\n",
        "3. Pass `color = labels_3d` to colour code the data points with respect to the cluster.\n",
        "\n",
        "\n"
      ]
    },
    {
      "cell_type": "code",
      "metadata": {
        "colab": {
          "base_uri": "https://localhost:8080/",
          "height": 542
        },
        "id": "xRgIMaoqJgQv",
        "outputId": "4f435bb2-d8bb-4112-c2f7-267cc4145ced"
      },
      "source": [
        "# S1.6: Create a interactive scatter plot to display predicted labels.\n",
        "\n",
        "import plotly.express as px\n",
        "\n",
        "fig = px.scatter_3d(data_3d, x ='Age', y = 'Annual Income',\n",
        "                    z =  'Spending Score', title='Supermarket Customer Spending Habits',\n",
        "                    color = labels_3d)\n",
        "fig.show()"
      ],
      "execution_count": null,
      "outputs": [
        {
          "output_type": "display_data",
          "data": {
            "text/html": [
              "<html>\n",
              "<head><meta charset=\"utf-8\" /></head>\n",
              "<body>\n",
              "    <div>\n",
              "            <script src=\"https://cdnjs.cloudflare.com/ajax/libs/mathjax/2.7.5/MathJax.js?config=TeX-AMS-MML_SVG\"></script><script type=\"text/javascript\">if (window.MathJax) {MathJax.Hub.Config({SVG: {font: \"STIX-Web\"}});}</script>\n",
              "                <script type=\"text/javascript\">window.PlotlyConfig = {MathJaxConfig: 'local'};</script>\n",
              "        <script src=\"https://cdn.plot.ly/plotly-latest.min.js\"></script>    \n",
              "            <div id=\"0fd11fac-be4c-4174-ad17-82b9e0f5b735\" class=\"plotly-graph-div\" style=\"height:525px; width:100%;\"></div>\n",
              "            <script type=\"text/javascript\">\n",
              "                \n",
              "                    window.PLOTLYENV=window.PLOTLYENV || {};\n",
              "                    \n",
              "                if (document.getElementById(\"0fd11fac-be4c-4174-ad17-82b9e0f5b735\")) {\n",
              "                    Plotly.newPlot(\n",
              "                        '0fd11fac-be4c-4174-ad17-82b9e0f5b735',\n",
              "                        [{\"hoverlabel\": {\"namelength\": 0}, \"hovertemplate\": \"Age=%{x}<br>Annual Income=%{y}<br>Spending Score=%{z}<br>color=%{marker.color}\", \"legendgroup\": \"\", \"marker\": {\"color\": [0, 3, 0, 3, 0, 3, 0, 3, 0, 3, 0, 3, 0, 3, 0, 3, 0, 3, 0, 3, 0, 3, 0, 3, 0, 3, 0, 3, 0, 3, 0, 3, 0, 3, 0, 3, 0, 3, 0, 3, 0, 3, 0, 3, 0, 3, 4, 4, 4, 4, 4, 4, 4, 4, 4, 4, 4, 4, 4, 4, 4, 4, 4, 4, 4, 4, 4, 4, 4, 4, 4, 4, 4, 4, 4, 4, 4, 4, 4, 4, 4, 4, 4, 4, 4, 4, 4, 4, 4, 4, 4, 4, 4, 4, 4, 4, 4, 4, 4, 4, 4, 4, 4, 4, 4, 4, 4, 4, 4, 4, 4, 4, 4, 4, 4, 4, 4, 4, 4, 4, 4, 4, 4, 2, 1, 2, 4, 2, 1, 2, 1, 2, 1, 2, 1, 2, 1, 2, 1, 2, 1, 2, 4, 2, 1, 2, 1, 2, 1, 2, 1, 2, 1, 2, 1, 2, 1, 2, 1, 2, 1, 2, 1, 2, 1, 2, 1, 2, 1, 2, 1, 2, 1, 2, 1, 2, 1, 2, 1, 2, 1, 2, 1, 2, 1, 2, 1, 2, 1, 2, 1, 2, 1, 2, 1, 2, 1, 2, 1, 2], \"coloraxis\": \"coloraxis\", \"symbol\": \"circle\"}, \"mode\": \"markers\", \"name\": \"\", \"scene\": \"scene\", \"showlegend\": false, \"type\": \"scatter3d\", \"x\": [19, 21, 20, 23, 31, 22, 35, 23, 64, 30, 67, 35, 58, 24, 37, 22, 35, 20, 52, 35, 35, 25, 46, 31, 54, 29, 45, 35, 40, 23, 60, 21, 53, 18, 49, 21, 42, 30, 36, 20, 65, 24, 48, 31, 49, 24, 50, 27, 29, 31, 49, 33, 31, 59, 50, 47, 51, 69, 27, 53, 70, 19, 67, 54, 63, 18, 43, 68, 19, 32, 70, 47, 60, 60, 59, 26, 45, 40, 23, 49, 57, 38, 67, 46, 21, 48, 55, 22, 34, 50, 68, 18, 48, 40, 32, 24, 47, 27, 48, 20, 23, 49, 67, 26, 49, 21, 66, 54, 68, 66, 65, 19, 38, 19, 18, 19, 63, 49, 51, 50, 27, 38, 40, 39, 23, 31, 43, 40, 59, 38, 47, 39, 25, 31, 20, 29, 44, 32, 19, 35, 57, 32, 28, 32, 25, 28, 48, 32, 34, 34, 43, 39, 44, 38, 47, 27, 37, 30, 34, 30, 56, 29, 19, 31, 50, 36, 42, 33, 36, 32, 40, 28, 36, 36, 52, 30, 58, 27, 59, 35, 37, 32, 46, 29, 41, 30, 54, 28, 41, 36, 34, 32, 33, 38, 47, 35, 45, 32, 32, 30], \"y\": [15, 15, 16, 16, 17, 17, 18, 18, 19, 19, 19, 19, 20, 20, 20, 20, 21, 21, 23, 23, 24, 24, 25, 25, 28, 28, 28, 28, 29, 29, 30, 30, 33, 33, 33, 33, 34, 34, 37, 37, 38, 38, 39, 39, 39, 39, 40, 40, 40, 40, 42, 42, 43, 43, 43, 43, 44, 44, 46, 46, 46, 46, 47, 47, 48, 48, 48, 48, 48, 48, 49, 49, 50, 50, 54, 54, 54, 54, 54, 54, 54, 54, 54, 54, 54, 54, 57, 57, 58, 58, 59, 59, 60, 60, 60, 60, 60, 60, 61, 61, 62, 62, 62, 62, 62, 62, 63, 63, 63, 63, 63, 63, 64, 64, 65, 65, 65, 65, 67, 67, 67, 67, 69, 69, 70, 70, 71, 71, 71, 71, 71, 71, 72, 72, 73, 73, 73, 73, 74, 74, 75, 75, 76, 76, 77, 77, 77, 77, 78, 78, 78, 78, 78, 78, 78, 78, 78, 78, 78, 78, 79, 79, 81, 81, 85, 85, 86, 86, 87, 87, 87, 87, 87, 87, 88, 88, 88, 88, 93, 93, 97, 97, 98, 98, 99, 99, 101, 101, 103, 103, 103, 103, 113, 113, 120, 120, 126, 126, 137, 137], \"z\": [39, 81, 6, 77, 40, 76, 6, 94, 3, 72, 14, 99, 15, 77, 13, 79, 35, 66, 29, 98, 35, 73, 5, 73, 14, 82, 32, 61, 31, 87, 4, 73, 4, 92, 14, 81, 17, 73, 26, 75, 35, 92, 36, 61, 28, 65, 55, 47, 42, 42, 52, 60, 54, 60, 45, 41, 50, 46, 51, 46, 56, 55, 52, 59, 51, 59, 50, 48, 59, 47, 55, 42, 49, 56, 47, 54, 53, 48, 52, 42, 51, 55, 41, 44, 57, 46, 58, 55, 60, 46, 55, 41, 49, 40, 42, 52, 47, 50, 42, 49, 41, 48, 59, 55, 56, 42, 50, 46, 43, 48, 52, 54, 42, 46, 48, 50, 43, 59, 43, 57, 56, 40, 58, 91, 29, 77, 35, 95, 11, 75, 9, 75, 34, 71, 5, 88, 7, 73, 10, 72, 5, 93, 40, 87, 12, 97, 36, 74, 22, 90, 17, 88, 20, 76, 16, 89, 1, 78, 1, 73, 35, 83, 5, 93, 26, 75, 20, 95, 27, 63, 13, 75, 10, 92, 13, 86, 15, 69, 14, 90, 32, 86, 15, 88, 39, 97, 24, 68, 17, 85, 23, 69, 8, 91, 16, 79, 28, 74, 18, 83]}],\n",
              "                        {\"coloraxis\": {\"colorbar\": {\"title\": {\"text\": \"color\"}}, \"colorscale\": [[0.0, \"#0d0887\"], [0.1111111111111111, \"#46039f\"], [0.2222222222222222, \"#7201a8\"], [0.3333333333333333, \"#9c179e\"], [0.4444444444444444, \"#bd3786\"], [0.5555555555555556, \"#d8576b\"], [0.6666666666666666, \"#ed7953\"], [0.7777777777777778, \"#fb9f3a\"], [0.8888888888888888, \"#fdca26\"], [1.0, \"#f0f921\"]]}, \"legend\": {\"tracegroupgap\": 0}, \"scene\": {\"domain\": {\"x\": [0.0, 1.0], \"y\": [0.0, 1.0]}, \"xaxis\": {\"title\": {\"text\": \"Age\"}}, \"yaxis\": {\"title\": {\"text\": \"Annual Income\"}}, \"zaxis\": {\"title\": {\"text\": \"Spending Score\"}}}, \"template\": {\"data\": {\"bar\": [{\"error_x\": {\"color\": \"#2a3f5f\"}, \"error_y\": {\"color\": \"#2a3f5f\"}, \"marker\": {\"line\": {\"color\": \"#E5ECF6\", \"width\": 0.5}}, \"type\": \"bar\"}], \"barpolar\": [{\"marker\": {\"line\": {\"color\": \"#E5ECF6\", \"width\": 0.5}}, \"type\": \"barpolar\"}], \"carpet\": [{\"aaxis\": {\"endlinecolor\": \"#2a3f5f\", \"gridcolor\": \"white\", \"linecolor\": \"white\", \"minorgridcolor\": \"white\", \"startlinecolor\": \"#2a3f5f\"}, \"baxis\": {\"endlinecolor\": \"#2a3f5f\", \"gridcolor\": \"white\", \"linecolor\": \"white\", \"minorgridcolor\": \"white\", \"startlinecolor\": \"#2a3f5f\"}, \"type\": \"carpet\"}], \"choropleth\": [{\"colorbar\": {\"outlinewidth\": 0, \"ticks\": \"\"}, \"type\": \"choropleth\"}], \"contour\": [{\"colorbar\": {\"outlinewidth\": 0, \"ticks\": \"\"}, \"colorscale\": [[0.0, \"#0d0887\"], [0.1111111111111111, \"#46039f\"], [0.2222222222222222, \"#7201a8\"], [0.3333333333333333, \"#9c179e\"], [0.4444444444444444, \"#bd3786\"], [0.5555555555555556, \"#d8576b\"], [0.6666666666666666, \"#ed7953\"], [0.7777777777777778, \"#fb9f3a\"], [0.8888888888888888, \"#fdca26\"], [1.0, \"#f0f921\"]], \"type\": \"contour\"}], \"contourcarpet\": [{\"colorbar\": {\"outlinewidth\": 0, \"ticks\": \"\"}, \"type\": \"contourcarpet\"}], \"heatmap\": [{\"colorbar\": {\"outlinewidth\": 0, \"ticks\": \"\"}, \"colorscale\": [[0.0, \"#0d0887\"], [0.1111111111111111, \"#46039f\"], [0.2222222222222222, \"#7201a8\"], [0.3333333333333333, \"#9c179e\"], [0.4444444444444444, \"#bd3786\"], [0.5555555555555556, \"#d8576b\"], [0.6666666666666666, \"#ed7953\"], [0.7777777777777778, \"#fb9f3a\"], [0.8888888888888888, \"#fdca26\"], [1.0, \"#f0f921\"]], \"type\": \"heatmap\"}], \"heatmapgl\": [{\"colorbar\": {\"outlinewidth\": 0, \"ticks\": \"\"}, \"colorscale\": [[0.0, \"#0d0887\"], [0.1111111111111111, \"#46039f\"], [0.2222222222222222, \"#7201a8\"], [0.3333333333333333, \"#9c179e\"], [0.4444444444444444, \"#bd3786\"], [0.5555555555555556, \"#d8576b\"], [0.6666666666666666, \"#ed7953\"], [0.7777777777777778, \"#fb9f3a\"], [0.8888888888888888, \"#fdca26\"], [1.0, \"#f0f921\"]], \"type\": \"heatmapgl\"}], \"histogram\": [{\"marker\": {\"colorbar\": {\"outlinewidth\": 0, \"ticks\": \"\"}}, \"type\": \"histogram\"}], \"histogram2d\": [{\"colorbar\": {\"outlinewidth\": 0, \"ticks\": \"\"}, \"colorscale\": [[0.0, \"#0d0887\"], [0.1111111111111111, \"#46039f\"], [0.2222222222222222, \"#7201a8\"], [0.3333333333333333, \"#9c179e\"], [0.4444444444444444, \"#bd3786\"], [0.5555555555555556, \"#d8576b\"], [0.6666666666666666, \"#ed7953\"], [0.7777777777777778, \"#fb9f3a\"], [0.8888888888888888, \"#fdca26\"], [1.0, \"#f0f921\"]], \"type\": \"histogram2d\"}], \"histogram2dcontour\": [{\"colorbar\": {\"outlinewidth\": 0, \"ticks\": \"\"}, \"colorscale\": [[0.0, \"#0d0887\"], [0.1111111111111111, \"#46039f\"], [0.2222222222222222, \"#7201a8\"], [0.3333333333333333, \"#9c179e\"], [0.4444444444444444, \"#bd3786\"], [0.5555555555555556, \"#d8576b\"], [0.6666666666666666, \"#ed7953\"], [0.7777777777777778, \"#fb9f3a\"], [0.8888888888888888, \"#fdca26\"], [1.0, \"#f0f921\"]], \"type\": \"histogram2dcontour\"}], \"mesh3d\": [{\"colorbar\": {\"outlinewidth\": 0, \"ticks\": \"\"}, \"type\": \"mesh3d\"}], \"parcoords\": [{\"line\": {\"colorbar\": {\"outlinewidth\": 0, \"ticks\": \"\"}}, \"type\": \"parcoords\"}], \"pie\": [{\"automargin\": true, \"type\": \"pie\"}], \"scatter\": [{\"marker\": {\"colorbar\": {\"outlinewidth\": 0, \"ticks\": \"\"}}, \"type\": \"scatter\"}], \"scatter3d\": [{\"line\": {\"colorbar\": {\"outlinewidth\": 0, \"ticks\": \"\"}}, \"marker\": {\"colorbar\": {\"outlinewidth\": 0, \"ticks\": \"\"}}, \"type\": \"scatter3d\"}], \"scattercarpet\": [{\"marker\": {\"colorbar\": {\"outlinewidth\": 0, \"ticks\": \"\"}}, \"type\": \"scattercarpet\"}], \"scattergeo\": [{\"marker\": {\"colorbar\": {\"outlinewidth\": 0, \"ticks\": \"\"}}, \"type\": \"scattergeo\"}], \"scattergl\": [{\"marker\": {\"colorbar\": {\"outlinewidth\": 0, \"ticks\": \"\"}}, \"type\": \"scattergl\"}], \"scattermapbox\": [{\"marker\": {\"colorbar\": {\"outlinewidth\": 0, \"ticks\": \"\"}}, \"type\": \"scattermapbox\"}], \"scatterpolar\": [{\"marker\": {\"colorbar\": {\"outlinewidth\": 0, \"ticks\": \"\"}}, \"type\": \"scatterpolar\"}], \"scatterpolargl\": [{\"marker\": {\"colorbar\": {\"outlinewidth\": 0, \"ticks\": \"\"}}, \"type\": \"scatterpolargl\"}], \"scatterternary\": [{\"marker\": {\"colorbar\": {\"outlinewidth\": 0, \"ticks\": \"\"}}, \"type\": \"scatterternary\"}], \"surface\": [{\"colorbar\": {\"outlinewidth\": 0, \"ticks\": \"\"}, \"colorscale\": [[0.0, \"#0d0887\"], [0.1111111111111111, \"#46039f\"], [0.2222222222222222, \"#7201a8\"], [0.3333333333333333, \"#9c179e\"], [0.4444444444444444, \"#bd3786\"], [0.5555555555555556, \"#d8576b\"], [0.6666666666666666, \"#ed7953\"], [0.7777777777777778, \"#fb9f3a\"], [0.8888888888888888, \"#fdca26\"], [1.0, \"#f0f921\"]], \"type\": \"surface\"}], \"table\": [{\"cells\": {\"fill\": {\"color\": \"#EBF0F8\"}, \"line\": {\"color\": \"white\"}}, \"header\": {\"fill\": {\"color\": \"#C8D4E3\"}, \"line\": {\"color\": \"white\"}}, \"type\": \"table\"}]}, \"layout\": {\"annotationdefaults\": {\"arrowcolor\": \"#2a3f5f\", \"arrowhead\": 0, \"arrowwidth\": 1}, \"coloraxis\": {\"colorbar\": {\"outlinewidth\": 0, \"ticks\": \"\"}}, \"colorscale\": {\"diverging\": [[0, \"#8e0152\"], [0.1, \"#c51b7d\"], [0.2, \"#de77ae\"], [0.3, \"#f1b6da\"], [0.4, \"#fde0ef\"], [0.5, \"#f7f7f7\"], [0.6, \"#e6f5d0\"], [0.7, \"#b8e186\"], [0.8, \"#7fbc41\"], [0.9, \"#4d9221\"], [1, \"#276419\"]], \"sequential\": [[0.0, \"#0d0887\"], [0.1111111111111111, \"#46039f\"], [0.2222222222222222, \"#7201a8\"], [0.3333333333333333, \"#9c179e\"], [0.4444444444444444, \"#bd3786\"], [0.5555555555555556, \"#d8576b\"], [0.6666666666666666, \"#ed7953\"], [0.7777777777777778, \"#fb9f3a\"], [0.8888888888888888, \"#fdca26\"], [1.0, \"#f0f921\"]], \"sequentialminus\": [[0.0, \"#0d0887\"], [0.1111111111111111, \"#46039f\"], [0.2222222222222222, \"#7201a8\"], [0.3333333333333333, \"#9c179e\"], [0.4444444444444444, \"#bd3786\"], [0.5555555555555556, \"#d8576b\"], [0.6666666666666666, \"#ed7953\"], [0.7777777777777778, \"#fb9f3a\"], [0.8888888888888888, \"#fdca26\"], [1.0, \"#f0f921\"]]}, \"colorway\": [\"#636efa\", \"#EF553B\", \"#00cc96\", \"#ab63fa\", \"#FFA15A\", \"#19d3f3\", \"#FF6692\", \"#B6E880\", \"#FF97FF\", \"#FECB52\"], \"font\": {\"color\": \"#2a3f5f\"}, \"geo\": {\"bgcolor\": \"white\", \"lakecolor\": \"white\", \"landcolor\": \"#E5ECF6\", \"showlakes\": true, \"showland\": true, \"subunitcolor\": \"white\"}, \"hoverlabel\": {\"align\": \"left\"}, \"hovermode\": \"closest\", \"mapbox\": {\"style\": \"light\"}, \"paper_bgcolor\": \"white\", \"plot_bgcolor\": \"#E5ECF6\", \"polar\": {\"angularaxis\": {\"gridcolor\": \"white\", \"linecolor\": \"white\", \"ticks\": \"\"}, \"bgcolor\": \"#E5ECF6\", \"radialaxis\": {\"gridcolor\": \"white\", \"linecolor\": \"white\", \"ticks\": \"\"}}, \"scene\": {\"xaxis\": {\"backgroundcolor\": \"#E5ECF6\", \"gridcolor\": \"white\", \"gridwidth\": 2, \"linecolor\": \"white\", \"showbackground\": true, \"ticks\": \"\", \"zerolinecolor\": \"white\"}, \"yaxis\": {\"backgroundcolor\": \"#E5ECF6\", \"gridcolor\": \"white\", \"gridwidth\": 2, \"linecolor\": \"white\", \"showbackground\": true, \"ticks\": \"\", \"zerolinecolor\": \"white\"}, \"zaxis\": {\"backgroundcolor\": \"#E5ECF6\", \"gridcolor\": \"white\", \"gridwidth\": 2, \"linecolor\": \"white\", \"showbackground\": true, \"ticks\": \"\", \"zerolinecolor\": \"white\"}}, \"shapedefaults\": {\"line\": {\"color\": \"#2a3f5f\"}}, \"ternary\": {\"aaxis\": {\"gridcolor\": \"white\", \"linecolor\": \"white\", \"ticks\": \"\"}, \"baxis\": {\"gridcolor\": \"white\", \"linecolor\": \"white\", \"ticks\": \"\"}, \"bgcolor\": \"#E5ECF6\", \"caxis\": {\"gridcolor\": \"white\", \"linecolor\": \"white\", \"ticks\": \"\"}}, \"title\": {\"x\": 0.05}, \"xaxis\": {\"automargin\": true, \"gridcolor\": \"white\", \"linecolor\": \"white\", \"ticks\": \"\", \"title\": {\"standoff\": 15}, \"zerolinecolor\": \"white\", \"zerolinewidth\": 2}, \"yaxis\": {\"automargin\": true, \"gridcolor\": \"white\", \"linecolor\": \"white\", \"ticks\": \"\", \"title\": {\"standoff\": 15}, \"zerolinecolor\": \"white\", \"zerolinewidth\": 2}}}, \"title\": {\"text\": \"Supermarket Customer Spending Habits\"}},\n",
              "                        {\"responsive\": true}\n",
              "                    ).then(function(){\n",
              "                            \n",
              "var gd = document.getElementById('0fd11fac-be4c-4174-ad17-82b9e0f5b735');\n",
              "var x = new MutationObserver(function (mutations, observer) {{\n",
              "        var display = window.getComputedStyle(gd).display;\n",
              "        if (!display || display === 'none') {{\n",
              "            console.log([gd, 'removed!']);\n",
              "            Plotly.purge(gd);\n",
              "            observer.disconnect();\n",
              "        }}\n",
              "}});\n",
              "\n",
              "// Listen for the removal of the full notebook cells\n",
              "var notebookContainer = gd.closest('#notebook-container');\n",
              "if (notebookContainer) {{\n",
              "    x.observe(notebookContainer, {childList: true});\n",
              "}}\n",
              "\n",
              "// Listen for the clearing of the current output cell\n",
              "var outputEl = gd.closest('.output');\n",
              "if (outputEl) {{\n",
              "    x.observe(outputEl, {childList: true});\n",
              "}}\n",
              "\n",
              "                        })\n",
              "                };\n",
              "                \n",
              "            </script>\n",
              "        </div>\n",
              "</body>\n",
              "</html>"
            ]
          },
          "metadata": {}
        }
      ]
    },
    {
      "cell_type": "markdown",
      "metadata": {
        "id": "Htaqgf1YVDOM"
      },
      "source": [
        "After plotting the results obtained by K-Means on this 3D graphic, we can interpret the five clusters in the following way:\n",
        "\n",
        "- <b><font color ='orange'>Orange Cluster</font></b>: The customers belonging to this cluster are young, have  moderate to low annual income and spend a lot.\n",
        "\n",
        "- <b><font color ='magenta'>Magenta Cluster</font></b>: The customers belonging to this cluster are reasonably young people with good annual income and they spend a lot.\n",
        "\n",
        "- <mark>Yellow Cluster</mark>: This cluster basically groups customers of all ages whose salary isn't pretty high and their spending score is moderate.\n",
        "\n",
        "- <b><font color ='purple'>Purple Cluster</font></b>: This cluster basically groups customers of all ages whose salaries are pretty high and barely spend money.\n",
        "\n",
        "- <b><font color ='blue'>Blue Cluster</font></b>: These are customers of all ages, their salary is pretty low and they don't spend much.\n",
        "\n",
        "Hence, we used K-Means clustering to understand customer data and we can plan a separate marketing strategy for each cluster of customers.\n",
        "\n",
        "We will now proceed to solve a more complex customer segmentation problem statement which we had discussed before starting K-Means. Let us first recall that problem statement."
      ]
    },
    {
      "cell_type": "markdown",
      "metadata": {
        "id": "pEBm9E1V_71a"
      },
      "source": [
        "----"
      ]
    },
    {
      "cell_type": "markdown",
      "metadata": {
        "id": "ij_TzinVbGn8"
      },
      "source": [
        "#### Customer Segmentation Problem Statement\n",
        "\n",
        "\n",
        "We have a transactional dataset which contains all the transactions occurring between 01/12/2010 and 09/12/2011 for a UK-based and registered non-store online retail. The company mainly sells unique all-occasion gifts. Many customers of the company are wholesalers.\n",
        "\n",
        "The company wants to segment its customers and determine marketing strategies according to these segments\n",
        "\n",
        "The dataset consists of the following attributes:\n",
        "\n",
        "- `InvoiceNo`: Invoice number. Nominal, a 6-digit integral number uniquely assigned to each transaction. If this code starts with letter 'c', it indicates a cancellation.\n",
        "\n",
        "- `StockCode`: Product (item) code. Nominal, a 5-digit integral number uniquely assigned to each distinct product.\n",
        "\n",
        "- `Description`: Product (item) name. Nominal.\n",
        "\n",
        "- `Quantity`: The quantities of each product (item) per transaction. Numeric.\n",
        "\n",
        "- `InvoiceDate`: Invoice date and time. Numeric, the day and time when each transaction was generated. The date-time format used here is `yyyy-mm-dd hh:mm:ss`\n",
        "\n",
        "- `UnitPrice`: Unit price. Numeric, product price per unit in sterling.\n",
        "\n",
        "- `CustomerID`: Customer number. Nominal, a 5-digit integral number uniquely assigned to each customer.\n",
        "\n",
        "- `Country`: Country name. Nominal, the name of the country where each customer resides.\n",
        "\n",
        "\n",
        "\n",
        "**Dataset Credits:** https://archive.ics.uci.edu/ml/datasets/online+retail\n",
        "\n",
        "**Citation:** Dr Daqing Chen, Director: Public Analytics group. chend '@' lsbu.ac.uk, School of Engineering, London South Bank University, London SE1 0AA, UK.\n"
      ]
    },
    {
      "cell_type": "markdown",
      "metadata": {
        "id": "0ykAJfZMbxmD"
      },
      "source": [
        "---"
      ]
    },
    {
      "cell_type": "markdown",
      "metadata": {
        "id": "hxtni1ljbyeS"
      },
      "source": [
        "#### Activity 2: Loading the Dataset\n",
        "\n",
        "Let's import the necessary Python modules (if not imported yet) and read the data from an excel file to create a Pandas DataFrame.\n",
        "\n",
        "\n",
        "\n",
        "**Dataset Link:** https://s3-student-datasets-bucket.whjr.online/whitehat-ds-datasets/online-retail-customers.xlsx\n",
        "\n",
        "\n",
        "**Note:** Since the dataset is a Microsoft Excel file, i.e., in the `xlsx` format, we need to use the `read_excel()` function of the Pandas module."
      ]
    },
    {
      "cell_type": "code",
      "metadata": {
        "colab": {
          "base_uri": "https://localhost:8080/",
          "height": 289
        },
        "id": "aRmuQdXdbw1j",
        "outputId": "d108ffb5-2968-4dda-afab-0c64f251e260"
      },
      "source": [
        "# S2.1: Read the dataset and create a Pandas DataFrame.\n",
        "file_path = \"https://s3-student-datasets-bucket.whjr.online/whitehat-ds-datasets/online-retail-customers.xlsx\"\n",
        "df = pd.read_excel(file_path)\n",
        "df.head()"
      ],
      "execution_count": null,
      "outputs": [
        {
          "output_type": "execute_result",
          "data": {
            "text/html": [
              "<div>\n",
              "<style scoped>\n",
              "    .dataframe tbody tr th:only-of-type {\n",
              "        vertical-align: middle;\n",
              "    }\n",
              "\n",
              "    .dataframe tbody tr th {\n",
              "        vertical-align: top;\n",
              "    }\n",
              "\n",
              "    .dataframe thead th {\n",
              "        text-align: right;\n",
              "    }\n",
              "</style>\n",
              "<table border=\"1\" class=\"dataframe\">\n",
              "  <thead>\n",
              "    <tr style=\"text-align: right;\">\n",
              "      <th></th>\n",
              "      <th>InvoiceNo</th>\n",
              "      <th>StockCode</th>\n",
              "      <th>Description</th>\n",
              "      <th>Quantity</th>\n",
              "      <th>InvoiceDate</th>\n",
              "      <th>UnitPrice</th>\n",
              "      <th>CustomerID</th>\n",
              "      <th>Country</th>\n",
              "    </tr>\n",
              "  </thead>\n",
              "  <tbody>\n",
              "    <tr>\n",
              "      <th>0</th>\n",
              "      <td>536365</td>\n",
              "      <td>85123A</td>\n",
              "      <td>WHITE HANGING HEART T-LIGHT HOLDER</td>\n",
              "      <td>6</td>\n",
              "      <td>2010-12-01 08:26:00</td>\n",
              "      <td>2.55</td>\n",
              "      <td>17850.0</td>\n",
              "      <td>United Kingdom</td>\n",
              "    </tr>\n",
              "    <tr>\n",
              "      <th>1</th>\n",
              "      <td>536365</td>\n",
              "      <td>71053</td>\n",
              "      <td>WHITE METAL LANTERN</td>\n",
              "      <td>6</td>\n",
              "      <td>2010-12-01 08:26:00</td>\n",
              "      <td>3.39</td>\n",
              "      <td>17850.0</td>\n",
              "      <td>United Kingdom</td>\n",
              "    </tr>\n",
              "    <tr>\n",
              "      <th>2</th>\n",
              "      <td>536365</td>\n",
              "      <td>84406B</td>\n",
              "      <td>CREAM CUPID HEARTS COAT HANGER</td>\n",
              "      <td>8</td>\n",
              "      <td>2010-12-01 08:26:00</td>\n",
              "      <td>2.75</td>\n",
              "      <td>17850.0</td>\n",
              "      <td>United Kingdom</td>\n",
              "    </tr>\n",
              "    <tr>\n",
              "      <th>3</th>\n",
              "      <td>536365</td>\n",
              "      <td>84029G</td>\n",
              "      <td>KNITTED UNION FLAG HOT WATER BOTTLE</td>\n",
              "      <td>6</td>\n",
              "      <td>2010-12-01 08:26:00</td>\n",
              "      <td>3.39</td>\n",
              "      <td>17850.0</td>\n",
              "      <td>United Kingdom</td>\n",
              "    </tr>\n",
              "    <tr>\n",
              "      <th>4</th>\n",
              "      <td>536365</td>\n",
              "      <td>84029E</td>\n",
              "      <td>RED WOOLLY HOTTIE WHITE HEART.</td>\n",
              "      <td>6</td>\n",
              "      <td>2010-12-01 08:26:00</td>\n",
              "      <td>3.39</td>\n",
              "      <td>17850.0</td>\n",
              "      <td>United Kingdom</td>\n",
              "    </tr>\n",
              "  </tbody>\n",
              "</table>\n",
              "</div>"
            ],
            "text/plain": [
              "  InvoiceNo StockCode  ... CustomerID         Country\n",
              "0    536365    85123A  ...    17850.0  United Kingdom\n",
              "1    536365     71053  ...    17850.0  United Kingdom\n",
              "2    536365    84406B  ...    17850.0  United Kingdom\n",
              "3    536365    84029G  ...    17850.0  United Kingdom\n",
              "4    536365    84029E  ...    17850.0  United Kingdom\n",
              "\n",
              "[5 rows x 8 columns]"
            ]
          },
          "metadata": {},
          "execution_count": 11
        }
      ]
    },
    {
      "cell_type": "markdown",
      "metadata": {
        "id": "in97ZkG_ciVu"
      },
      "source": [
        "Now, let's find out the total number of rows and columns, data-types of columns and missing values (if exist) in the dataset."
      ]
    },
    {
      "cell_type": "code",
      "metadata": {
        "colab": {
          "base_uri": "https://localhost:8080/"
        },
        "id": "6Eqlk8JZcl0U",
        "outputId": "e273bbf7-8208-4472-b768-90bc7ecaab62"
      },
      "source": [
        "# S2.2: Get the total number of rows and columns, data-types of columns and missing values (if exist) in the dataset.\n",
        "df.info()"
      ],
      "execution_count": null,
      "outputs": [
        {
          "output_type": "stream",
          "name": "stdout",
          "text": [
            "<class 'pandas.core.frame.DataFrame'>\n",
            "RangeIndex: 541909 entries, 0 to 541908\n",
            "Data columns (total 8 columns):\n",
            " #   Column       Non-Null Count   Dtype         \n",
            "---  ------       --------------   -----         \n",
            " 0   InvoiceNo    541909 non-null  object        \n",
            " 1   StockCode    541909 non-null  object        \n",
            " 2   Description  540455 non-null  object        \n",
            " 3   Quantity     541909 non-null  int64         \n",
            " 4   InvoiceDate  541909 non-null  datetime64[ns]\n",
            " 5   UnitPrice    541909 non-null  float64       \n",
            " 6   CustomerID   406829 non-null  float64       \n",
            " 7   Country      541909 non-null  object        \n",
            "dtypes: datetime64[ns](1), float64(2), int64(1), object(4)\n",
            "memory usage: 33.1+ MB\n"
          ]
        }
      ]
    },
    {
      "cell_type": "markdown",
      "metadata": {
        "id": "AntXcXZnclP-"
      },
      "source": [
        "There are **541909 rows and 8 columns** and some columns have missing values in the dataset.  We will deal with these missing values in the upcoming section. Let us first deal with cancelled orders.\n",
        "\n",
        "As per dataset description,  some of the values in field `InvoiceNo` may start with letter **'C'**, to indicate cancelled orders. To search for the rows in the dataset where the `InvoiceNo` starting with 'C', we will use **Regular Expressions**. Let us understand the concept of Regular Expressions in detail."
      ]
    },
    {
      "cell_type": "markdown",
      "metadata": {
        "id": "8dn1MzbuiVZb"
      },
      "source": [
        "---"
      ]
    },
    {
      "cell_type": "markdown",
      "metadata": {
        "id": "L1TwZkJSiYSC"
      },
      "source": [
        "#### Activity 3: Regular Expressions\n",
        "\n",
        "Regular Expressions (also known as RegEx) are used to check whether a pattern exists in a given string or not. Whenever we use search engines, search and replace tools of word processors and text editors - we utilise regular expressions.\n",
        "\n",
        "A RegEx is a sequence of characters that defines a search pattern.\n",
        "\n",
        " For example, consider a RegEx: `c..e`\n",
        "\n",
        "This regex can be used to match any four letter string starting with 'c' and ending with 'e'. Here, the `.` (period) in regex is a special character and it matches any single character except the new line character.\n",
        "\n",
        "<center><img src=\"https://s3-whjr-curriculum-uploads.whjr.online/eff6ec2e-e57f-45b3-b17a-a943a416c7b8.png\"/></center>\n",
        "\n",
        "Similar to `.` (period), there are many special characters which can be used in regex to specify a pattern to be searched. Some of them are:\n",
        "\n",
        "\n",
        "- `^`: Matches the start of the string. For e.g, the regex `^co` matches `coordinate` but not `ordinate`.\n",
        "\n",
        "- `$`: Matches the end of string. For e.g, the regex `..ing$` matches `typing` but not `swig`.\n",
        "\n",
        "- `[abc]`: Matches a or b or c. For e.g: the regex `a[xyz]` matches `ax` but not `an`.\n",
        "\n",
        "- `\\d`: Expresses a single digit. For e.g: the regex `\\d\\d` matches `11` but not `111`.\n",
        "\n",
        "- `\\w`: Expresses a single word character. For e.g: the regex `\\d\\w` matches `1A` but not `A1`.\n",
        "\n",
        "- `\\s`: Matches whitespace character such as space, newline, tab, return.\n",
        "\n",
        "For further reading, you can visit: https://www.py4e.com/lessons/regex\n",
        "\n",
        "In Python, you can implement regular expressions by importing `re` module.\n",
        "\n",
        "Let's say we have a string:\n",
        "\n",
        "`demo_string = Fruit Truffle cake!!! Wow, let's eat the cake and have coke.`\n",
        "\n",
        "We want to **search for a pattern** `cake` to see if it is present in the `demo_string` or not.\n",
        "\n",
        "To perform such search operation, we can use `findall()` function of `re` module.\n",
        "\n",
        "**Syntax for search operation:** `re.findall(pattern, string)` where,\n",
        " - `pattern` is the regex.\n",
        " - `string` is the string in which the pattern is to be searched.\n",
        " - This function will return a list of all matched strings.\n",
        "\n",
        "Let us use `findall()` function to search for pattern `cake` in `demo_string`.\n",
        "\n",
        "\n",
        "\n"
      ]
    },
    {
      "cell_type": "code",
      "metadata": {
        "colab": {
          "base_uri": "https://localhost:8080/"
        },
        "id": "vT29hW3keEI0",
        "outputId": "bbff9884-e9e1-460d-d5ee-24f81b31ebf9"
      },
      "source": [
        "# S3.1: Use 're.findall()' to search for pattern 'cake'.\n",
        "import re\n",
        "demo_string = \"Fruit Truffle cake!!! Wow, let's eat the cake and have coke\"\n",
        "match_list1 = re.findall('cake', demo_string)\n",
        "print(match_list1)"
      ],
      "execution_count": null,
      "outputs": [
        {
          "output_type": "stream",
          "name": "stdout",
          "text": [
            "['cake', 'cake']\n"
          ]
        }
      ]
    },
    {
      "cell_type": "markdown",
      "metadata": {
        "id": "Pay3ATb4uShl"
      },
      "source": [
        "In the above output, you may observe that it returned only 2 substrings as they exactly matched the regex `cake`.\n",
        "\n",
        "Let's use some other regex like `c..e` and see how many substrings are obtained."
      ]
    },
    {
      "cell_type": "code",
      "metadata": {
        "colab": {
          "base_uri": "https://localhost:8080/"
        },
        "id": "r5X6R96_ux2Y",
        "outputId": "44d1665e-3c71-46ae-d22b-1936e87428c6"
      },
      "source": [
        "# S3.2: Use 're.findall()' to search for pattern 'c..e'.\n",
        "demo_string = \"Fruit Truffle cake!!! Wow, let's eat the cake and have coke\"\n",
        "match_list2 = re.findall('c..e', demo_string)\n",
        "print(match_list2)"
      ],
      "execution_count": null,
      "outputs": [
        {
          "output_type": "stream",
          "name": "stdout",
          "text": [
            "['cake', 'cake', 'coke']\n"
          ]
        }
      ]
    },
    {
      "cell_type": "markdown",
      "metadata": {
        "id": "CrMEmnRcuxEV"
      },
      "source": [
        "You may observe that `findall()` function returned 3 substrings as they matches the regex `c..e`.\n",
        "\n",
        "\n",
        "The regex is case-sensitive. For example, let's find regex `Cake` in `demo_string`.\n"
      ]
    },
    {
      "cell_type": "code",
      "metadata": {
        "colab": {
          "base_uri": "https://localhost:8080/"
        },
        "id": "7vp6fDDuvwQ2",
        "outputId": "a5e145dc-d0d8-4f09-a816-9ff2f15bc5ea"
      },
      "source": [
        "# S3.3: Use `re.findall()` to search for pattern `Cake`.\n",
        "demo_string = \"Fruit Truffle cake!!! Wow, let's eat the cake and have coke\"\n",
        "match_list3 = re.findall('Cake', demo_string)\n",
        "print(match_list3)"
      ],
      "execution_count": null,
      "outputs": [
        {
          "output_type": "stream",
          "name": "stdout",
          "text": [
            "[]\n"
          ]
        }
      ]
    },
    {
      "cell_type": "markdown",
      "metadata": {
        "id": "pjnX-6T1wC_u"
      },
      "source": [
        "From the output, you may observe that it returns an empty list which indicates that the regex `Cake` is not found in `demo_string`.\n",
        "\n",
        "Let us learn about one more important function of `re` module that we will be using for our customer segmentation dataset to find out cancelled orders."
      ]
    },
    {
      "cell_type": "markdown",
      "metadata": {
        "id": "msTklfcLxBwg"
      },
      "source": [
        "---"
      ]
    },
    {
      "cell_type": "markdown",
      "metadata": {
        "id": "xBO-urTixC1T"
      },
      "source": [
        "#### Activity 4:  The `Series.str.contains()` Function\n",
        "\n",
        "The `Series.str.contains()` function  is used to check if a pattern or regex is contained within a string of a pandas series or not.\n",
        "\n",
        "Use `help()` function to understand the syntax of `Series.str.contains()` function."
      ]
    },
    {
      "cell_type": "code",
      "metadata": {
        "colab": {
          "base_uri": "https://localhost:8080/"
        },
        "id": "QXSMTW3UzHAP",
        "outputId": "0c195c2b-532c-4db4-df2c-637544e5638c"
      },
      "source": [
        "# S4.1: Use help(pd.Series.str.contains) to view the syntax.\n",
        "help(pd.Series.str.contains)"
      ],
      "execution_count": null,
      "outputs": [
        {
          "output_type": "stream",
          "name": "stdout",
          "text": [
            "Help on function contains in module pandas.core.strings:\n",
            "\n",
            "contains(self, pat, case=True, flags=0, na=nan, regex=True)\n",
            "    Test if pattern or regex is contained within a string of a Series or Index.\n",
            "    \n",
            "    Return boolean Series or Index based on whether a given pattern or regex is\n",
            "    contained within a string of a Series or Index.\n",
            "    \n",
            "    Parameters\n",
            "    ----------\n",
            "    pat : str\n",
            "        Character sequence or regular expression.\n",
            "    case : bool, default True\n",
            "        If True, case sensitive.\n",
            "    flags : int, default 0 (no flags)\n",
            "        Flags to pass through to the re module, e.g. re.IGNORECASE.\n",
            "    na : default NaN\n",
            "        Fill value for missing values.\n",
            "    regex : bool, default True\n",
            "        If True, assumes the pat is a regular expression.\n",
            "    \n",
            "        If False, treats the pat as a literal string.\n",
            "    \n",
            "    Returns\n",
            "    -------\n",
            "    Series or Index of boolean values\n",
            "        A Series or Index of boolean values indicating whether the\n",
            "        given pattern is contained within the string of each element\n",
            "        of the Series or Index.\n",
            "    \n",
            "    See Also\n",
            "    --------\n",
            "    match : Analogous, but stricter, relying on re.match instead of re.search.\n",
            "    Series.str.startswith : Test if the start of each string element matches a\n",
            "        pattern.\n",
            "    Series.str.endswith : Same as startswith, but tests the end of string.\n",
            "    \n",
            "    Examples\n",
            "    --------\n",
            "    Returning a Series of booleans using only a literal pattern.\n",
            "    \n",
            "    >>> s1 = pd.Series(['Mouse', 'dog', 'house and parrot', '23', np.NaN])\n",
            "    >>> s1.str.contains('og', regex=False)\n",
            "    0    False\n",
            "    1     True\n",
            "    2    False\n",
            "    3    False\n",
            "    4      NaN\n",
            "    dtype: object\n",
            "    \n",
            "    Returning an Index of booleans using only a literal pattern.\n",
            "    \n",
            "    >>> ind = pd.Index(['Mouse', 'dog', 'house and parrot', '23.0', np.NaN])\n",
            "    >>> ind.str.contains('23', regex=False)\n",
            "    Index([False, False, False, True, nan], dtype='object')\n",
            "    \n",
            "    Specifying case sensitivity using `case`.\n",
            "    \n",
            "    >>> s1.str.contains('oG', case=True, regex=True)\n",
            "    0    False\n",
            "    1    False\n",
            "    2    False\n",
            "    3    False\n",
            "    4      NaN\n",
            "    dtype: object\n",
            "    \n",
            "    Specifying `na` to be `False` instead of `NaN` replaces NaN values\n",
            "    with `False`. If Series or Index does not contain NaN values\n",
            "    the resultant dtype will be `bool`, otherwise, an `object` dtype.\n",
            "    \n",
            "    >>> s1.str.contains('og', na=False, regex=True)\n",
            "    0    False\n",
            "    1     True\n",
            "    2    False\n",
            "    3    False\n",
            "    4    False\n",
            "    dtype: bool\n",
            "    \n",
            "    Returning 'house' or 'dog' when either expression occurs in a string.\n",
            "    \n",
            "    >>> s1.str.contains('house|dog', regex=True)\n",
            "    0    False\n",
            "    1     True\n",
            "    2     True\n",
            "    3    False\n",
            "    4      NaN\n",
            "    dtype: object\n",
            "    \n",
            "    Ignoring case sensitivity using `flags` with regex.\n",
            "    \n",
            "    >>> import re\n",
            "    >>> s1.str.contains('PARROT', flags=re.IGNORECASE, regex=True)\n",
            "    0    False\n",
            "    1    False\n",
            "    2     True\n",
            "    3    False\n",
            "    4      NaN\n",
            "    dtype: object\n",
            "    \n",
            "    Returning any digit using regular expression.\n",
            "    \n",
            "    >>> s1.str.contains('\\d', regex=True)\n",
            "    0    False\n",
            "    1    False\n",
            "    2    False\n",
            "    3     True\n",
            "    4      NaN\n",
            "    dtype: object\n",
            "    \n",
            "    Ensure `pat` is a not a literal pattern when `regex` is set to True.\n",
            "    Note in the following example one might expect only `s2[1]` and `s2[3]` to\n",
            "    return `True`. However, '.0' as a regex matches any character\n",
            "    followed by a 0.\n",
            "    \n",
            "    >>> s2 = pd.Series(['40', '40.0', '41', '41.0', '35'])\n",
            "    >>> s2.str.contains('.0', regex=True)\n",
            "    0     True\n",
            "    1     True\n",
            "    2    False\n",
            "    3     True\n",
            "    4    False\n",
            "    dtype: bool\n",
            "\n"
          ]
        }
      ]
    },
    {
      "cell_type": "markdown",
      "metadata": {
        "id": "pE6lriThz_v1"
      },
      "source": [
        "For example, let us use  `Series.str.contains()` function to find if a regex `i[a-n]` is present in the strings in the following pandas series:\n",
        "\n",
        "[`'India', 'China', 'Russia', 'Sweden', 'Syrian_Arab'`]"
      ]
    },
    {
      "cell_type": "code",
      "metadata": {
        "colab": {
          "base_uri": "https://localhost:8080/"
        },
        "id": "3jTC-mTa0X38",
        "outputId": "fea92e95-fbee-484b-a307-c8c88b846e05"
      },
      "source": [
        "# S4.2: Look for pattern 'ia' and 'in' in a pandas series.\n",
        "sr = pd.Series(['India', 'China', 'Russia', 'Sweden', 'Syrian_Arab'])\n",
        "result = sr.str.contains(pat = 'i[a-n]')\n",
        "\n",
        "# print the result\n",
        "print(result)"
      ],
      "execution_count": null,
      "outputs": [
        {
          "output_type": "stream",
          "name": "stdout",
          "text": [
            "0     True\n",
            "1     True\n",
            "2     True\n",
            "3    False\n",
            "4     True\n",
            "dtype: bool\n"
          ]
        }
      ]
    },
    {
      "cell_type": "markdown",
      "metadata": {
        "id": "4K3dkrwy2GbE"
      },
      "source": [
        "As we can see in the output, the `Series.str.contains()` function has returned boolean values for each string in the series. It is `True` if the passed regex is present in the string, else `False` is returned.\n",
        "\n",
        "We will stop here. In the next class, we will use regex to search for cancelled orders in our dataset and will perform other data processing operations."
      ]
    },
    {
      "cell_type": "markdown",
      "metadata": {
        "id": "dSUaW6SqfxDu"
      },
      "source": [
        "---"
      ]
    },
    {
      "cell_type": "markdown",
      "metadata": {
        "id": "XbnbDseod1ZZ"
      },
      "source": [
        "### Additional Activities\n",
        "\n",
        "The activities starting from this point are optional. Please do these activities **ONLY** if you have time to spare in the class. The additional activities will not be available in the class copy of the notebook. You will have to manually add these activities in the class copy by adding new text and code cells.\n",
        "\n"
      ]
    },
    {
      "cell_type": "markdown",
      "metadata": {
        "id": "U01_5LHXd924"
      },
      "source": [
        "---"
      ]
    },
    {
      "cell_type": "markdown",
      "metadata": {
        "id": "5XuKLpnwd_nq"
      },
      "source": [
        "#### Activity 1: The `re.search()` Function\n",
        "\n",
        "The `search()` function of `re` module  searches for some substring in a string and returns a match object if found, else it returns `None`.\n",
        "\n",
        "The `re.search()` function searches for the whole string even if the string contains multi-lines and tries to find a match of the substring in all the lines of string.\n",
        "\n",
        "However, this function returns only the first occurence of a substring in the string and ignore others.\n",
        "\n",
        "**Syntax of searching a substring:** `re.search(pattern, string)`\n",
        "\n",
        "Consider the following multiline string:\n",
        "```python\n",
        "string1 = '''Let us learn some string matching algorithms.\n",
        "              regex is faster in matching string'''\n",
        "```\n",
        "Search for following two regex in `string1` using `re.search()` function:\n",
        "- `regex1 = 's....g'`\n",
        "- `regex2 = '\\d\\d'`"
      ]
    },
    {
      "cell_type": "code",
      "metadata": {
        "colab": {
          "base_uri": "https://localhost:8080/"
        },
        "id": "aFiqAMRJeDM1",
        "outputId": "3d848e7c-e09b-4d08-d38b-4f9096687350"
      },
      "source": [
        "# Use 're.search()' function to search for patterns.\n",
        "\n",
        "regex1 ='s....g'\n",
        "regex2 = '\\d\\d'\n",
        "\n",
        "string1 = '''Let us learn some string matching algorithms.\n",
        "              regex is faster in matching string'''\n",
        "\n",
        "\n",
        "print(re.search(regex1, string1, re.IGNORECASE))\n",
        "print(re.search(regex2, string1, re.IGNORECASE))"
      ],
      "execution_count": null,
      "outputs": [
        {
          "output_type": "stream",
          "name": "stdout",
          "text": [
            "<re.Match object; span=(18, 24), match='string'>\n",
            "None\n"
          ]
        }
      ]
    },
    {
      "cell_type": "markdown",
      "metadata": {
        "id": "SeAhbNDCeGkX"
      },
      "source": [
        "From the above output, you may observe that `re.search()` function is returning match object for `regex1` and implies that first match found at index `18`. Note that, it returns only the first occurrence of pattern and ignores others.\n",
        "\n",
        "For `regex2`, it returns `None` as it cannot find two digits neither in the first line nor in the second line of the string."
      ]
    },
    {
      "cell_type": "markdown",
      "metadata": {
        "id": "rHlCCDmzeH2V"
      },
      "source": [
        "---"
      ]
    },
    {
      "cell_type": "markdown",
      "metadata": {
        "id": "88OWAU5OeIj1"
      },
      "source": [
        "#### Activity 2: Search and Replace\n",
        "\n",
        "The `sub()` function of `re` module uses regex to replace all occurrences of a pattern in string with some other pattern.\n",
        "\n",
        "**Syntax of replacing all occurances of a pattern:** `re.sub(pattern, replace_string)`\n",
        "where, all the occurences of `pattern` is replaced by `replace_string`\n",
        "\n",
        "Consider the following string:\n",
        "\n",
        "`pin_code = 'MH-959-559'`\n",
        "\n",
        "Use `re.sub()` function to replace all the digits with `0`."
      ]
    },
    {
      "cell_type": "code",
      "metadata": {
        "colab": {
          "base_uri": "https://localhost:8080/"
        },
        "id": "b6xLF1haeMcm",
        "outputId": "8ce1eab6-2bfa-48e1-d3d0-61ae20d7eca0"
      },
      "source": [
        "# Use sub() function to replace digits.\n",
        "pin_code = 'MH-959-559'\n",
        "\n",
        "new_pin_code = re.sub('\\d', \"0\", pin_code)\n",
        "print(\"New pin code : \", new_pin_code)"
      ],
      "execution_count": null,
      "outputs": [
        {
          "output_type": "stream",
          "name": "stdout",
          "text": [
            "New pin code :  MH-000-000\n"
          ]
        }
      ]
    },
    {
      "cell_type": "markdown",
      "metadata": {
        "id": "twjBAjbceOgm"
      },
      "source": [
        "In the above output, you may observe that all the numbers have been replaced with `0`."
      ]
    },
    {
      "cell_type": "markdown",
      "metadata": {
        "id": "U-Acx8AOePft"
      },
      "source": [
        "---"
      ]
    },
    {
      "cell_type": "markdown",
      "metadata": {
        "id": "Cn2qs5Zofxm-"
      },
      "source": [
        "#### Activities\n",
        "\n",
        "**Teacher Activities:**\n",
        "\n",
        "1. K-Means Clustering - 3D Data Clustering (Class Copy)\n",
        "\n",
        "   Link on Panel\n",
        "   \n",
        "2. K-Means Clustering - 3D Data Clustering (Reference)\n",
        "\n",
        "   Link on Panel"
      ]
    }
  ]
}