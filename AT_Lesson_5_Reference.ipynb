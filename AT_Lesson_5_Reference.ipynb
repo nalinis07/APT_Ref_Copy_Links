{
  "nbformat": 4,
  "nbformat_minor": 0,
  "metadata": {
    "colab": {
      "provenance": [],
      "include_colab_link": true
    },
    "kernelspec": {
      "name": "python3",
      "display_name": "Python 3"
    }
  },
  "cells": [
    {
      "cell_type": "markdown",
      "metadata": {
        "id": "view-in-github",
        "colab_type": "text"
      },
      "source": [
        "<a href=\"https://colab.research.google.com/github/nalinis07/APT_Ref_Copy_Links/blob/MASTER/AT_Lesson_5_Reference.ipynb\" target=\"_parent\"><img src=\"https://colab.research.google.com/assets/colab-badge.svg\" alt=\"Open In Colab\"/></a>"
      ]
    },
    {
      "cell_type": "markdown",
      "metadata": {
        "id": "ywVdfNdkVjZo"
      },
      "source": [
        "# Lesson 5: Python Lists I"
      ]
    },
    {
      "cell_type": "markdown",
      "metadata": {
        "id": "1ku2pzqDWq3f"
      },
      "source": [
        "**WARNING:** The reference notebook is meant **ONLY** for a teacher. Please **DON'T** share it with any student.\n",
        "\n",
        "The contents of the reference notebook are meant only to prepare a teacher for a class. To conduct the class, use the class copy of the reference notebook. The link and the instructions for the same are provided in the **Notes To The Teacher** section.\n",
        "\n",
        "\n",
        "|Particulars|Description|\n",
        "|-|-|\n",
        "|**Topic**|Python Lists I|\n",
        "|||\n",
        "|**Class Description**|In this class, a student will create the count-based Mind Reader game algorithm using the concept of Python lists|\n",
        "|||\n",
        "|**Class**|C5|\n",
        "|||\n",
        "|**Class Time**|45 minutes|\n",
        "|||\n",
        "|**Goals**|Create a Python list to store the player inputs|\n",
        "||Count the different player inputs using the `count()` function|\n",
        "||Revise the `prediction()` function created in the previous class|\n",
        "||Update the list containing the player inputs using the `append()` function|\n",
        "|||\n",
        "|**Teacher Resources**|Google Account|\n",
        "||Link to Lesson 5 Colab reference notebook|\n",
        "||Laptop with internet connectivity|\n",
        "||Earphones with mic|\n",
        "|||\n",
        "|**Student Resources**|Google Account|\n",
        "||Laptop with internet connectivity|\n",
        "||Earphones with mic|"
      ]
    },
    {
      "cell_type": "markdown",
      "metadata": {
        "id": "an4cBciPWpBE"
      },
      "source": [
        "---"
      ]
    },
    {
      "cell_type": "markdown",
      "metadata": {
        "id": "W-W18Mf_W3XW"
      },
      "source": [
        "### Class Structure\n",
        "\n",
        "A class is divided into three parts, as shown in the table below.\n",
        "\n",
        "|Parts|Duration|\n",
        "|-|-|\n",
        "|**Warm-Up**|5 minutes|\n",
        "|||\n",
        "|**Teacher-Student Activities**|35 minutes|\n",
        "|||\n",
        "|**Wrap-Up**|5 minutes|"
      ]
    },
    {
      "cell_type": "markdown",
      "metadata": {
        "id": "6s1fkXe5W1XY"
      },
      "source": [
        "---"
      ]
    },
    {
      "cell_type": "markdown",
      "metadata": {
        "id": "LMCpBKQ-XFLI"
      },
      "source": [
        "### Notes To The Teacher\n",
        "\n",
        "Before beginning the class:\n",
        "\n",
        "1. Open the **ATV - Lesson 5 - Class Copy - v0.3** file by clicking on the link provided in the **Activities** section under the title **Python Lists I (Class Copy)**.  \n",
        "<font color=\"red\">Refer both Reference and Class Copy before conducting the class.</font>\n",
        "2. After opening the file mentioned in the first point, create its duplicate copy by following the steps described below:\n",
        "\n",
        "    - Click on the **File** menu. A new drop-down list will appear.\n",
        "\n",
        "      <img src='https://student-datasets-bucket.s3.ap-south-1.amazonaws.com/images/lesson-0/0_file_menu.png' width=500>\n",
        "\n",
        "    - Click on the **Save a copy in Drive** option. A duplicate copy will get created. It will open up in the new tab on your web browser.\n",
        "\n",
        "      <img src='https://student-datasets-bucket.s3.ap-south-1.amazonaws.com/images/lesson-0/1_create_colab_duplicate_copy.png' width=500>\n",
        "\n",
        "    - In the duplicate copy, click on the **Share** button on the top right corner of the notebook. A new dialog box will appear.\n",
        "\n",
        "      <img src='https://student-datasets-bucket.s3.ap-south-1.amazonaws.com/images/lesson-0/2_share_button.png' width=500>\n",
        "\n",
        "    - Click on the tiny downward arrow next to **Anyone with the link can view** text. A drop-down list will appear.\n",
        "\n",
        "      <img src='https://student-datasets-bucket.s3.ap-south-1.amazonaws.com/images/lesson-0/3_anyone_can_view.png' width=500>\n",
        "\n",
        "    - Click on the **More...** option. A new page on the dialog box will appear.\n",
        "\n",
        "      <img src='https://student-datasets-bucket.s3.ap-south-1.amazonaws.com/images/lesson-0/4_more_option.png' width=500>\n",
        "\n",
        "    - Click on the circle next to **On - Anyone with the link** option. Now, go down and click on the tiny downward box next to **Can edit** text. A drop-down list will appear.\n",
        "\n",
        "      <img src='https://student-datasets-bucket.s3.ap-south-1.amazonaws.com/images/lesson-0/5_anyone_with_the_link.png' width=500>\n",
        "\n",
        "    - Click on the **Can edit** option. Then click on the **Save** button. You will be directed back to the first page of the dialog box.\n",
        "\n",
        "      <img src='https://student-datasets-bucket.s3.ap-south-1.amazonaws.com/images/lesson-0/6_can_edit.png' width=500>\n",
        "\n",
        "    - Make sure that under the **Link sharing on** section, **Anyone with the link can edit** option is selected.\n",
        "\n",
        "      <img src='https://student-datasets-bucket.s3.ap-south-1.amazonaws.com/images/lesson-0/7_anyone_can_edit.png' width=500>\n",
        "\n",
        "    - Then click on the **Done** button.\n",
        "\n",
        "3. After creating the duplicate copy of the notebook, please rename it in the **YYYY-MM-DD_StudentName_Lesson5** format.\n",
        "\n",
        "4. Now, finish the **Warm-Up** section. Afterwards, proceed with the class using the duplicate copy of the notebook. You can share the link of the duplicate copy (named as **YYYY-MM-DD_StudentName_Lesson5**) with the student through the chat window.\n",
        "\n",
        "5. When a student executes the code for the first time in the duplicate copy that you shared with them, they may get the following warning:\n",
        "\n",
        "   ```\n",
        "    Warning: This notebook was not authored by Google. This notebook was\n",
        "    authored by xyz@gmail.com. It may request access to your data stored\n",
        "    with Google such as files, emails and contacts. Please review the source\n",
        "    code and contact the creator of this notebook at xyz@gmail.com with any\n",
        "    additional questions.\n",
        "\n",
        "                                                      Cancel. Run Anyway.\n",
        "  ```\n",
        "\n",
        "6. Ask the student to click on the `Run Anyway` button.\n",
        "\n",
        "7. Wherever you see the hat (**^**) sign on the heading of activity, give a hats-off to the student at the end of the activity.\n",
        "\n",
        "    - Single hat sign, i.e., **^** denotes give hats-off for concentration. You have to assess the concentration level of a student based on their attentiveness and understanding of the concept.\n",
        "\n",
        "    - Double hat signs, i.e., **^^** denotes give hats-off for creativity. It can be an alternative approach to writing a code for an activity or applying the logic in a totally different problem statement.\n",
        "\n",
        "    - Triple hat signs, i.e., **^^^** denotes give hats-off for persistence. It is the ability of a student to not give up on writing code and writing code with minimal teacher support.\n",
        "\n",
        "8. Every time you execute your code in the Google Colab notebook, please don't forget to save it by pressing the **Ctrl + S** keys (or **Command + S** keys if you are using a Mac). While saving the notebook, you or student may encounter the following error:\n",
        "\n",
        "   ```\n",
        "    Save failed\n",
        "    \n",
        "    The notebook has been changed outside of this session. Would you like to\n",
        "    overwrite existing changes?\n",
        "    \n",
        "                                                              CANCEL    YES\n",
        "   ```\n",
        "\n",
        "   Click on the `YES` button.\n",
        "\n",
        "9. Occasionally, you may encounter some error such as `NameError, ReferenceError, ImportError` or `ModuleNotFoundError` after executing the code in $k^{th}$ code cell (where $k > 0$). Most likely, due to poor internet speed, the Colab notebook might have lost the information that all the previous codes have been executed already. As a remedy, run codes in the code cells beginning from the first code cell till the $(k - 1)^{th}$ code cell. For e.g., if the code in the $5^{th}$ code cell fails to run because of one of the aforementioned errors, execute the codes in all the first four code cells again.\n",
        "\n",
        "10. For every **Teacher Action**, the teacher is supposed to share their screen with the student. Similarly, for every **Student Action**, the student is supposed to share their screen with the teacher.\n"
      ]
    },
    {
      "cell_type": "markdown",
      "metadata": {
        "id": "rCm93hN_W7Nn"
      },
      "source": [
        "---"
      ]
    },
    {
      "cell_type": "markdown",
      "metadata": {
        "id": "HvmoRZBKW8pr"
      },
      "source": [
        "### Warm-Up\n",
        "\n",
        "```\n",
        "TEACHER\n",
        "  Hi student_name! How are you doing?\n",
        "\n",
        "EXPECTED STUDENT RESPONSE\n",
        "  I am doing good, teacher. How about you?\n",
        "\n",
        "\n",
        "TEACHER\n",
        "  I am having a good time, thank you. So, how was your day? What did you do\n",
        "  today?\n",
        "\n",
        "EXPECTED STUDENT RESPONSE\n",
        "  I went to school. Had my lunch. Played a game and then did my homework\n",
        "  before this class.\n",
        "\n",
        "\n",
        "TEACHER\n",
        "  That's great. I am glad that you are having a good day. Now, let's do a\n",
        "  quick recap of our previous class. Can you recall the concepts you\n",
        "  learnt in the previous lesson?\n",
        "\n",
        "EXPECTED STUDENT RESPONSE\n",
        "  We learnt how to create the 'gameplay()' function using Python lists,\n",
        "  'not in' keyword and nested 'while' loops.\n",
        "\n",
        "\n",
        "TEACHER\n",
        "  Excellent! You recalled everything that you learnt in the last class.\n",
        "  Great job! Keep it up.\n",
        "  I have an exciting quiz question for you! Are you ready to answer this question?    \n",
        "  ```   \n",
        "  **Instructions for the Teacher:**\n",
        "  -  Please click on the \"Quiz Time\" button on the bottom right corner of your screen to start the In-Class Quiz.<img src='https://student-datasets-bucket.s3.ap-south-1.amazonaws.com/images/quiz-time.png' width=100>   \n",
        "  - A quiz will be visible to both you and the student. Encourage the student to answer the quiz question.\n",
        "  - The student may choose the wrong option, help the student to think correctly about the question and then answer again.\n",
        "  - After the student selects the correct option, the \"End Quiz\" button will start appearing on your screen.  <img src='https://student-datasets-bucket.s3.ap-south-1.amazonaws.com/images/end-quiz.png' width=100>  \n",
        "  - Click the \"End quiz\" to close the quiz pop-up and continue the class.\n",
        "  - Do not spend more than 2 minutes on this quiz.\n",
        "\n",
        "```\n",
        "TEACHER  \n",
        "  In the previous class, we already started using Python list. Today\n",
        "  we will learn more about Python list. Before that, let me ask you\n",
        "  few questions:\n",
        "\n",
        "  What is a variable? (Refer Class copy for visuals)\n",
        "```\n",
        "**Instructions for the Teacher:**\n",
        "1. The Class copy contains the questions which the teacher is supposed to ask the student before starting the actual activities. This must be done to improve student's engagement in the class.\n",
        "2. Encourage the student to answer every question.\n",
        "3. Once the student answers a question, click on the icon <img src=\"https://curriculum.whitehatjr.com/APT+Asset/Final+C2+images/download.jpg\"/> next to the question (Do not ask the student to click on this icon). This icon will redirect to some image or gif which will provide answer to that question alongwith some explanation.\n",
        "4. Some questions are very general and you will not find green icon <img src=\"https://curriculum.whitehatjr.com/APT+Asset/Final+C2+images/download.jpg\"/> next to that question. This is because there is no specific answer or explanation for that question.\n",
        "\n",
        "```\n",
        "EXPECTED STUDENT RESPONSE\n",
        "   A variable is like a container which is used to hold only a single\n",
        "   value at a time\n",
        "\n",
        "TEACHER\n",
        "   Can you tell me how can we store multiple values inside a single\n",
        "   variable.\n",
        "\n",
        "EXPECTED STUDENT RESPONSE\n",
        "   Using Python lists.\n",
        "\n",
        "TEACHER\n",
        "   Correct. Python list is a type of variable which is used to store\n",
        "   multiple values at the same time. In day to day, we come across\n",
        "   various list like friend-list, To-do list. For e.g: A mobile\n",
        "   store or any electronics store may maintain separate list for\n",
        "   each product like mobile phone, speaker, watch etc.\n",
        "    \n",
        "  Can you give more examples of list?\n",
        "\n",
        "EXPECTED STUDENT RESPONSE\n",
        "  Shopping list, bucket list etc.\n",
        "\n",
        "TEACHER\n",
        "  Today, we are going to learn more about list.\n",
        "\n",
        "  Then we will revise the 'prediction()' function we created in the\n",
        "  previous class. Finally, we will create the count-based algorithm\n",
        "  using the Python lists concepts.\n",
        "\n",
        "  Are you excited?\n",
        "\n",
        "EXPECTED STUDENT RESPONSE\n",
        "  Yes, teacher.\n",
        "\n",
        "\n",
        "TEACHER\n",
        "  All right. I am going to share the Colab Notebook with you in which we\n",
        "  will learn how to create Python lists.\n",
        "\n",
        "  Note:\n",
        "    - Share the duplicate copy that you just created with the student\n",
        "      through the chat window.\n",
        "    \n",
        "EXPECTED STUDENT RESPONSE\n",
        "  The student opens the Colab notebook.\n",
        "```"
      ]
    },
    {
      "cell_type": "markdown",
      "metadata": {
        "id": "znqEFnZWXD7j"
      },
      "source": [
        "---"
      ]
    },
    {
      "cell_type": "markdown",
      "metadata": {
        "id": "7LlG_PPFjJUz"
      },
      "source": [
        "### Teacher-Student Activities\n",
        "\n",
        "\n",
        "In the previous class, we learned that each value in a list is generally referred to as an **item** or an **element**.\n",
        "<center>\n",
        "<img src=\"https://curriculum.whitehatjr.com/APT+Asset/APT+C3+images/valid_entries2.PNG\"/>\n",
        "</center>\n",
        "\n",
        "We also created a Python list which stores the names of the countries who won the FIFA world cup from `1982` till `2018`.\n",
        "\n",
        "|Year|Winner|\n",
        "|-|-|\n",
        "|1982|Italy|\n",
        "|1986|Argentina|\n",
        "|1990|Germany|\n",
        "|1994|Brazil|\n",
        "|1998|France|\n",
        "|2002|Brazil|\n",
        "|2006|Italy|\n",
        "|2010|Spain|\n",
        "|2014|Germany|\n",
        "|2018|France|\n",
        "\n",
        "We stored the list in the `fifa_wc_winners` variable.\n",
        "\n",
        "<img src=\"https://curriculum.whitehatjr.com/APT+Asset/APT+C4+images/list.png\"/>"
      ]
    },
    {
      "cell_type": "code",
      "metadata": {
        "colab": {
          "base_uri": "https://localhost:8080/"
        },
        "id": "ne1JkZ_UxuTC",
        "outputId": "9d2e5cb9-0196-4f82-e53a-956e794ab26f"
      },
      "source": [
        "# Teacher Action: Run the code below to activate the Python list containing all the winners of FIFA world cup from 1982 to 2018.\n",
        "fifa_wc_winners = ['Italy', 'Argentina', 'Germany', 'Brazil', 'France', 'Brazil', 'Italy', 'Spain', 'Germany', 'France']\n",
        "fifa_wc_winners"
      ],
      "execution_count": null,
      "outputs": [
        {
          "output_type": "execute_result",
          "data": {
            "text/plain": [
              "['Italy',\n",
              " 'Argentina',\n",
              " 'Germany',\n",
              " 'Brazil',\n",
              " 'France',\n",
              " 'Brazil',\n",
              " 'Italy',\n",
              " 'Spain',\n",
              " 'Germany',\n",
              " 'France']"
            ]
          },
          "metadata": {
            "tags": []
          },
          "execution_count": 2
        }
      ]
    },
    {
      "cell_type": "markdown",
      "metadata": {
        "id": "2AKgPtU2x1y2"
      },
      "source": [
        "\n",
        "\n",
        "In today's class, we will learn more about Python lists.\n",
        "\n",
        "We will also re-create the count-based algorithm we created in the previous class using the Python lists concepts.\n",
        "\n",
        "\n"
      ]
    },
    {
      "cell_type": "markdown",
      "metadata": {
        "id": "A9DUkIzL8p6S"
      },
      "source": [
        "---"
      ]
    },
    {
      "cell_type": "markdown",
      "metadata": {
        "id": "kCImGio9-h9U"
      },
      "source": [
        "### Features of Python List\n",
        "\n",
        "Before moving to activities, let us explore some basic features of Python list.\n",
        "\n",
        "1. List can store elements of same type or of different types.\n",
        "<center>\n",
        " <img src=\"https://curriculum.whitehatjr.com/APT+Asset/C5+images/whj-bookshelf-book-apt-c5-07-01.png\"/>\n",
        "\n",
        "2. You can count the number of times an element appears in the list using `count()` function.\n",
        "\n",
        "<img src=\"https://curriculum.whitehatjr.com/APT+Asset/C5+images/whj-notepad-count-apt-c5-01-01.png\" height=520/>\n",
        "\n",
        "3. You can add an object at the end of the list using `append()` function.\n",
        "\n",
        "<img src=\"https://curriculum.whitehatjr.com/APT+Asset/C5+images/handwriting-.gif\" height=520/>\n",
        "\n",
        "4. You can count the number of items stored in the list using `len()` function.\n",
        "\n",
        "<img src=\"https://curriculum.whitehatjr.com/APT+Asset/C5+images/whj-notepad-lens-apt-c5-02-01.png\" height=520/>\n",
        "\n",
        "\n",
        "5. You can remove an item from the list using `remove()` and `pop()` function.\n",
        "\n",
        "<img src=\"https://curriculum.whitehatjr.com/APT+Asset/C5+images/whj-hand-erasing-apt-c5-05.gif\"/>\n",
        "\n",
        "6. You can replace an existing item in a list with a new item.\n",
        "\n",
        "<img src=\"https://curriculum.whitehatjr.com/APT+Asset/C5+images/whj-hand-newword-apt-c5-06.gif\"/>\n",
        "\n",
        "\n",
        "\n",
        "Today we will learn  how to count the number of times each item appear in the list and how to append an item to a list. Remaining features will be done in the next class.\n"
      ]
    },
    {
      "cell_type": "markdown",
      "metadata": {
        "id": "lIrcRcod-i1O"
      },
      "source": [
        "---"
      ]
    },
    {
      "cell_type": "markdown",
      "metadata": {
        "id": "ulZE26jaMU3P"
      },
      "source": [
        "#### Activity 1: The `count()` Function\n",
        "\n",
        "The  `count()` function is used to count the number of times an element appears in the list.\n",
        "\n",
        "**For E.g:**\n",
        "<img src=\"https://curriculum.whitehatjr.com/APT+Asset/C5+images/whj-cupboard-counts-apt-c5-10-01.png\"/>\n",
        "\n",
        "\n",
        "Recall the `update_counts()` function that we created in one of our previous class for our Mind Reader game.\n",
        "\n",
        "<font color=red><b>\n",
        "<img src=\"https://curriculum.whitehatjr.com/APT+Asset/Final+C2+images/question.jpg\"/>Why we use this `update_counts()` function in our algorithm?</b></font>\n",
        "\n",
        "```python\n",
        "def update_counts(player_input):\n",
        "  global count_zero, count_one\n",
        "  if player_input == 0:\n",
        "    count_zero = count_zero + 1\n",
        "  else:\n",
        "    count_one = count_one + 1\n",
        "```\n",
        "\n",
        "In another version of the Mind Reader game, we are going to perform following task:\n",
        "1. Record the player inputs in a Python list.\n",
        "2. Count the number of times a player played `0` and `1` using the  readymade `count()` function of Python lists.\n",
        "\n",
        "This will eliminate the need for the `update_counts()` function.\n",
        "\n",
        "To use the `count()` function, you just need to write the list followed by the dot (`.`) operator followed by the `count()` function. Enter the item as an input to the `count()` function whose occurrence you wish to count.\n",
        "\n",
        "**Syntax:** `list_name.count(item)`\n",
        "\n",
        "\n",
        "\n",
        "\n",
        "Let's find out the number of times `'France'` and `'Brazil'` have won the world cup(s) between the years `1982` and `2018`."
      ]
    },
    {
      "cell_type": "code",
      "metadata": {
        "id": "0HLcxrAxPBwa",
        "colab": {
          "base_uri": "https://localhost:8080/"
        },
        "outputId": "0e9665c6-d975-428e-f17e-c0810568df05"
      },
      "source": [
        "# Student Action: Count the number of times 'France' has won the world cup between the years 1982 and 2018.\n",
        "fifa_wc_winners.count('France')"
      ],
      "execution_count": null,
      "outputs": [
        {
          "output_type": "execute_result",
          "data": {
            "text/plain": [
              "2"
            ]
          },
          "metadata": {
            "tags": []
          },
          "execution_count": 3
        }
      ]
    },
    {
      "cell_type": "markdown",
      "metadata": {
        "id": "hwKc18slPPxC"
      },
      "source": [
        "So, `'France'` has won the world cup twice."
      ]
    },
    {
      "cell_type": "code",
      "metadata": {
        "id": "_dHF77d8PWDU",
        "colab": {
          "base_uri": "https://localhost:8080/"
        },
        "outputId": "59ecfba6-a94a-4b99-d5df-773cc5d1f94c"
      },
      "source": [
        "# Student Action: Count the number of times 'Brazil' has won the world cup between the years 1982 and 2018.\n",
        "fifa_wc_winners.count('Brazil')"
      ],
      "execution_count": null,
      "outputs": [
        {
          "output_type": "execute_result",
          "data": {
            "text/plain": [
              "2"
            ]
          },
          "metadata": {
            "tags": []
          },
          "execution_count": 4
        }
      ]
    },
    {
      "cell_type": "markdown",
      "metadata": {
        "id": "vIlGRLvlPbsN"
      },
      "source": [
        "And, `'Brazil'` has also won the world cup twice between the years `1982` and `2018`."
      ]
    },
    {
      "cell_type": "markdown",
      "metadata": {
        "id": "im74znVg_zWA"
      },
      "source": [
        "---"
      ]
    },
    {
      "cell_type": "markdown",
      "metadata": {
        "id": "xCBbVdNS4EC-"
      },
      "source": [
        "#### Activity 2: An Empty List\n",
        "\n",
        "An empty list is a list with no elements.\n",
        "\n",
        "<img src=\"https://curriculum.whitehatjr.com/APT+Asset/C5+images/whj-shelf-empty-apt-c5-08-01.png\" height=400/>\n",
        "\n",
        "\n",
        "Let's create a list which will record the player inputs. Let's store it in a variable with the name `player_inputs_list`. Before the beginning of the game, the list will be empty. That means, it will NOT contain any player input. So, let's create an empty list and store it in the `player_inputs_list` variable.\n",
        "\n",
        "\n"
      ]
    },
    {
      "cell_type": "code",
      "metadata": {
        "id": "WS1e7xBHAN4S",
        "colab": {
          "base_uri": "https://localhost:8080/"
        },
        "outputId": "6247369d-8b42-44e6-8ac4-c35c541b42da"
      },
      "source": [
        "# Student Action: Create an empty list and store in a variable with name 'player_inputs_list'.\n",
        "player_inputs_list = []\n",
        "player_inputs_list"
      ],
      "execution_count": null,
      "outputs": [
        {
          "output_type": "execute_result",
          "data": {
            "text/plain": [
              "[]"
            ]
          },
          "metadata": {
            "tags": []
          },
          "execution_count": 5
        }
      ]
    },
    {
      "cell_type": "markdown",
      "metadata": {
        "id": "-gD3Yb0RAz6T"
      },
      "source": [
        "As you can see, we have created an empty list."
      ]
    },
    {
      "cell_type": "markdown",
      "metadata": {
        "id": "OHP5X39HA47W"
      },
      "source": [
        "---"
      ]
    },
    {
      "cell_type": "markdown",
      "metadata": {
        "id": "hhSZVe9aA5j2"
      },
      "source": [
        "#### Activity 3: The `append()` Function^^\n",
        "\n",
        "To add an item to a Python list, you can use the `append()` function. A new item always gets added at the right-most end of a list.\n",
        "\n",
        "<img src=\"https://curriculum.whitehatjr.com/APT+Asset/C5+images/whj-hand-flowepot-apt-c5-09.gif\"/>\n",
        "\n",
        "To use the `append()` function, you just need to write the list followed by the dot (`.`) operator followed by the `append()` function. Enter the item as an input to the `append()` function which you need to add to a list.\n",
        "\n",
        "**Syntax:** `list_name.append(item)`\n",
        "\n",
        "\n",
        "\n",
        "Suppose a player plays `0, 0, 1, 0, 1` for the first five attempts. Let's add these inputs to the list stored in the `player_inputs_list` variable."
      ]
    },
    {
      "cell_type": "code",
      "metadata": {
        "id": "2XfXqu4OB--r",
        "colab": {
          "base_uri": "https://localhost:8080/"
        },
        "outputId": "a58d919e-ac8c-4702-d820-9601aa9cd4f3"
      },
      "source": [
        "# Student Action: Using the 'append()' function, add the items 0, 0, 1, 0 and 1 to the list stored in the 'player_inputs_list' variable.\n",
        "# Print the updated list after adding each item to the 'player_inputs_list'.\n",
        "\n",
        "# Empty list\n",
        "player_inputs_list = []\n",
        "\n",
        "# First item.\n",
        "player_inputs_list.append(0)\n",
        "print(\"After adding the 1st item:\", player_inputs_list)\n",
        "\n",
        "# Second item.\n",
        "player_inputs_list.append(0)\n",
        "print(\"After adding the 2nd item:\", player_inputs_list)\n",
        "\n",
        "# Third item.\n",
        "player_inputs_list.append(1)\n",
        "print(\"After adding the 3rd item:\", player_inputs_list)\n",
        "\n",
        "# Fourth item.\n",
        "player_inputs_list.append(0)\n",
        "print(\"After adding the 4th item:\", player_inputs_list)\n",
        "\n",
        "# Fifth item.\n",
        "player_inputs_list.append(1)\n",
        "print(\"After adding the 5th item:\", player_inputs_list)"
      ],
      "execution_count": null,
      "outputs": [
        {
          "output_type": "stream",
          "text": [
            "After adding the 1st item: [0]\n",
            "After adding the 2nd item: [0, 0]\n",
            "After adding the 3rd item: [0, 0, 1]\n",
            "After adding the 4th item: [0, 0, 1, 0]\n",
            "After adding the 5th item: [0, 0, 1, 0, 1]\n"
          ],
          "name": "stdout"
        }
      ]
    },
    {
      "cell_type": "markdown",
      "metadata": {
        "id": "-bBBRCNCGuoj"
      },
      "source": [
        "As you can see, a new item gets added at the right-most end of the list. Let's count the number of times `0` and `1` appear in the `player_inputs_list` using the `count()` function."
      ]
    },
    {
      "cell_type": "code",
      "metadata": {
        "id": "x__YLMdTK3Wy",
        "colab": {
          "base_uri": "https://localhost:8080/"
        },
        "outputId": "22b9c019-08ab-4504-8704-3a77ea0e3a28"
      },
      "source": [
        "# Student Action: Count the number of times 0 and 1 appear in the 'player_inputs_list'.\n",
        "print(player_inputs_list.count(0))\n",
        "print(player_inputs_list.count(1))"
      ],
      "execution_count": null,
      "outputs": [
        {
          "output_type": "stream",
          "text": [
            "3\n",
            "2\n"
          ],
          "name": "stdout"
        }
      ]
    },
    {
      "cell_type": "markdown",
      "metadata": {
        "id": "8Sl-Ae7JLHdH"
      },
      "source": [
        "So, `0` appears thrice and `1` appears twice in the `players_inputs_list`."
      ]
    },
    {
      "cell_type": "markdown",
      "metadata": {
        "id": "GkQYzaCI4DGs"
      },
      "source": [
        "---"
      ]
    },
    {
      "cell_type": "markdown",
      "metadata": {
        "id": "0LuQTtRnSAWj"
      },
      "source": [
        "#### Activity 4: The Revised `prediction()` Function^\n",
        "\n",
        "Recall the `prediction()` function that we created in one of the previous class.\n",
        "\n",
        "\n",
        "```python\n",
        "def prediction():\n",
        "  if count_zero > count_one:\n",
        "    predict = 0\n",
        "  elif count_one > count_zero:\n",
        "    predict = 1\n",
        "  else:\n",
        "    predict = random.randint(0, 1)\n",
        "  \n",
        "  return predict\n",
        "```\n",
        "Now, using the knowledge of Python lists, let's re-define the `prediction()` function that we created in our previous class/lesson.\n",
        "\n",
        "IInside this function:\n",
        "\n",
        "1. Create two variables `count_zero` and `count_one` to store the number of times a player has entered `0` and `1` respectively.\n",
        "\n",
        "2. Using the `count()` function, count the number of times a player has entered `0` and `1`.\n",
        "```\n",
        "player_inputs_list.count(0)  \n",
        "player_inputs_list.count(1)\n",
        "```\n",
        "\n",
        "  Then store them in the `count_zero` and `count_one` variables.\n",
        "3. Compare the values of the `count_zero` and `count_one` variables.\n",
        "\n",
        "\n",
        "\n",
        "  - If `count_zero > count_one`, the `prediction()` function should return `0` as\n",
        "the prediction.\n",
        "\n",
        "  - Else if `count_one > count_zero`, the `prediction()` function should return `1` as the prediction.\n",
        "\n",
        "  - Else the `prediction()` function should return either `0` or `1` randomly as the prediction."
      ]
    },
    {
      "cell_type": "code",
      "metadata": {
        "id": "HkzbxzQlJZDf"
      },
      "source": [
        "# Student Action: Recreate the 'prediction()' function using Python lists.\n",
        "import random\n",
        "\n",
        "def prediction():\n",
        "  count_zero = player_inputs_list.count(0)\n",
        "  count_one = player_inputs_list.count(1)\n",
        "\n",
        "  if count_zero > count_one:\n",
        "    predict = 0\n",
        "  elif count_one > count_zero:\n",
        "    predict = 1\n",
        "  else:\n",
        "    predict = random.randint(0, 1)\n",
        "\n",
        "  return predict"
      ],
      "execution_count": null,
      "outputs": []
    },
    {
      "cell_type": "markdown",
      "metadata": {
        "id": "FGSjeSTEVq-1"
      },
      "source": [
        "---"
      ]
    },
    {
      "cell_type": "markdown",
      "metadata": {
        "id": "_9jUqOBlMAQC"
      },
      "source": [
        "#### Activity 5: Count Based Mind Reader Game Algorithm Using Python Lists^^^\n",
        "\n",
        "Now, let's run the Mind Reader game with the new `prediction()` function which uses a Python list stored in the `player_inputs_list` variable.\n",
        "\n",
        "Also, there is a slight change in the `gameplay()` function. After getting the `predicted` value from the `prediction()` function, we will add the current `player_input` value to the `player_inputs_list` using the `append()` function.\n",
        "\n",
        "<img src=\"https://curriculum.whitehatjr.com/APT+Asset/C5+images/gameplay_new.png\"/>\n",
        "\n"
      ]
    },
    {
      "cell_type": "code",
      "metadata": {
        "id": "dhWD_3x011uH",
        "colab": {
          "base_uri": "https://localhost:8080/"
        },
        "outputId": "8a5be06b-6470-4d2f-b4bb-fa5b557ace18"
      },
      "source": [
        "# Student Action: Use the revised 'prediction()' function to create the count based Mind Reader game algorithm.\n",
        "# Import the random module\n",
        "import random\n",
        "\n",
        "# Create an empty list and store it in the 'player_inputs_list' variable.\n",
        "player_inputs_list = []\n",
        "\n",
        "# Create the 'player_score' and 'computer_score' variables. Set their initial values equal to 0.\n",
        "player_score = 0\n",
        "computer_score = 0\n",
        "\n",
        "# Declare the 'prediction()' function here.\n",
        "def prediction():\n",
        "  count_zero = player_inputs_list.count(0)\n",
        "  count_one = player_inputs_list.count(1)\n",
        "\n",
        "  if count_zero > count_one:\n",
        "    predict = 0\n",
        "  elif count_one > count_zero:\n",
        "    predict = 1\n",
        "  else:\n",
        "    predict = random.randint(0, 1)\n",
        "  return predict\n",
        "\n",
        "# Declare the 'update_scores()' function here.\n",
        "def update_scores(predicted, player_input):\n",
        "  global player_score, computer_score\n",
        "  if predicted == player_input:\n",
        "    computer_score = computer_score + 1\n",
        "    print(\"Computer Score:\", computer_score)\n",
        "    print(\"Player Score:\", player_score)\n",
        "  else:\n",
        "    player_score = player_score + 1\n",
        "    print(\"Computer Score:\", computer_score)\n",
        "    print(\"Player Score:\", player_score)\n",
        "\n",
        "# Declare the 'gameplay()' function here.\n",
        "def gameplay():\n",
        "  valid_entries = ['0', '1']\n",
        "  while True:\n",
        "    # Get the predicted value using the 'prediction()' function.\n",
        "    predicted = prediction()\n",
        "    player_input = input(\"Enter either 0 or 1: \")\n",
        "    while player_input not in valid_entries:\n",
        "      print(\"Invalid Input!\")\n",
        "      player_input = input(\"Please enter either 0 or 1: \")\n",
        "\n",
        "    # Convert the player_input value to an integer.\n",
        "    player_input = int(player_input)\n",
        "\n",
        "    # Add the current player input to the 'player_inputs_list'.\n",
        "    player_inputs_list.append(player_input)\n",
        "\n",
        "    # Update the scores using the 'update_scores()' function.\n",
        "    update_scores(predicted, player_input)\n",
        "\n",
        "    if player_score == 10:\n",
        "      print(\"Congrats, You Won!\")\n",
        "      break\n",
        "    elif computer_score == 10:\n",
        "      print(\"Bad Luck, You Lost!\")\n",
        "      break\n",
        "\n",
        "# Call the 'gameplay()' function here.\n",
        "gameplay()"
      ],
      "execution_count": null,
      "outputs": [
        {
          "output_type": "stream",
          "text": [
            "Enter either 0 or 1: 8\n",
            "Invalid Input!\n",
            "Please enter either 0 or 1: 0\n",
            "Computer Score: 1\n",
            "Player Score: 0\n",
            "Enter either 0 or 1: 1\n",
            "Computer Score: 1\n",
            "Player Score: 1\n",
            "Enter either 0 or 1: 1\n",
            "Computer Score: 1\n",
            "Player Score: 2\n",
            "Enter either 0 or 1: 1\n",
            "Computer Score: 2\n",
            "Player Score: 2\n",
            "Enter either 0 or 1: \n",
            "Invalid Input!\n",
            "Please enter either 0 or 1: 1\n",
            "Computer Score: 3\n",
            "Player Score: 2\n",
            "Enter either 0 or 1: 1\n",
            "Computer Score: 4\n",
            "Player Score: 2\n",
            "Enter either 0 or 1: 0\n",
            "Computer Score: 4\n",
            "Player Score: 3\n",
            "Enter either 0 or 1: 1\n",
            "Computer Score: 5\n",
            "Player Score: 3\n",
            "Enter either 0 or 1: 1\n",
            "Computer Score: 6\n",
            "Player Score: 3\n",
            "Enter either 0 or 1: 1\n",
            "Computer Score: 7\n",
            "Player Score: 3\n",
            "Enter either 0 or 1: 1\n",
            "Computer Score: 8\n",
            "Player Score: 3\n",
            "Enter either 0 or 1: 1\n",
            "Computer Score: 9\n",
            "Player Score: 3\n",
            "Enter either 0 or 1: 1\n",
            "Computer Score: 10\n",
            "Player Score: 3\n",
            "Bad Luck, You Lost!\n"
          ],
          "name": "stdout"
        }
      ]
    },
    {
      "cell_type": "markdown",
      "metadata": {
        "id": "E_xx932hSYn9"
      },
      "source": [
        "At the end of the game, if you want to look at the player inputs, then you can print the `player_inputs_list`."
      ]
    },
    {
      "cell_type": "code",
      "metadata": {
        "id": "fTclQOhWSYMs",
        "colab": {
          "base_uri": "https://localhost:8080/"
        },
        "outputId": "660382ec-105f-43f8-e9f1-1d46234db77b"
      },
      "source": [
        "# Student Action: Print the 'player_inputs_list'.\n",
        "player_inputs_list"
      ],
      "execution_count": null,
      "outputs": [
        {
          "output_type": "execute_result",
          "data": {
            "text/plain": [
              "[0, 1, 1, 1, 1, 1, 0, 1, 1, 1, 1, 1, 1]"
            ]
          },
          "metadata": {
            "tags": []
          },
          "execution_count": 10
        }
      ]
    },
    {
      "cell_type": "markdown",
      "metadata": {
        "id": "K9lJqak6SztT"
      },
      "source": [
        "In the next class, we will continue learning more concepts of Python lists."
      ]
    },
    {
      "cell_type": "markdown",
      "metadata": {
        "id": "mH4-6NfgSxyW"
      },
      "source": [
        "---"
      ]
    },
    {
      "cell_type": "markdown",
      "metadata": {
        "id": "jyv5e2tBpj9G"
      },
      "source": [
        "### Additional Activities\n",
        "\n",
        "The activities starting from this point are optional. Please do these activities **ONLY** if you have time to spare in the class. Otherwise, skip to the **Wrap-Up** section. The additional activities will not be available in the class copy of the notebook. You will have to manually add these activities in the class copy by adding new text and code cells.\n",
        "\n",
        "Moreover, you don't have to do all the additional activities. Depending on the availability of time in a class, you can choose the number of additional activities to perform from this collection."
      ]
    },
    {
      "cell_type": "markdown",
      "metadata": {
        "id": "7QCIYOt2pQaY"
      },
      "source": [
        "---"
      ]
    },
    {
      "cell_type": "markdown",
      "metadata": {
        "id": "pNp2_CqKpl5b"
      },
      "source": [
        "#### Activity 1: Divisibility Test For $3$\n",
        "\n",
        "Write a function which takes an integer as an input and returns `True` if the integer is divisible by `3` else returns `False`.\n",
        "\n",
        "*A positive integer is divisible by 3 if and only if the sum of its digits are divisible by 0.*"
      ]
    },
    {
      "cell_type": "code",
      "metadata": {
        "id": "CgcEY6QGqFtk",
        "colab": {
          "base_uri": "https://localhost:8080/"
        },
        "outputId": "8812c160-7585-414a-a320-646da1f0c3de"
      },
      "source": [
        "# Solution:\n",
        "def is_divisible_by_three(num):\n",
        "  if num < 0:\n",
        "    num = -num\n",
        "  if num == 0:\n",
        "    return True\n",
        "  else:\n",
        "    total = 0\n",
        "    while True:\n",
        "      total = total + num % 10\n",
        "      if num // 10 == 0:\n",
        "        break\n",
        "      num = num // 10\n",
        "\n",
        "    if total % 3 == 0:\n",
        "      return True\n",
        "    else:\n",
        "      return False\n",
        "\n",
        "print(is_divisible_by_three(-4236))\n",
        "is_divisible_by_three(0)"
      ],
      "execution_count": null,
      "outputs": [
        {
          "output_type": "stream",
          "text": [
            "True\n"
          ],
          "name": "stdout"
        },
        {
          "output_type": "execute_result",
          "data": {
            "text/plain": [
              "True"
            ]
          },
          "metadata": {
            "tags": []
          },
          "execution_count": 11
        }
      ]
    },
    {
      "cell_type": "markdown",
      "metadata": {
        "id": "IB2XvdadrCN1"
      },
      "source": [
        "---"
      ]
    },
    {
      "cell_type": "markdown",
      "metadata": {
        "id": "NZk-bl46rC3W"
      },
      "source": [
        "#### Activity 2: Palindromic Triangle\n",
        "\n",
        "Given a positive integer $N$ where $N < 10$, write a program to print a palindromic triangle of size $N$.\n",
        "\n",
        "For example, a palindromic triangle of size $5$ is:\n",
        "\n",
        "```\n",
        "1\n",
        "121\n",
        "12321\n",
        "1234321\n",
        "123454321\n",
        "```\n",
        "\n",
        "**Note:** You can't write more than two lines of code to solve this problem. You have to use exactly one `for` loop.\n",
        "\n",
        "**Input Format**\n",
        "\n",
        "A single line of input containing the integer $N$.\n",
        "\n",
        "\n",
        "**Output Format**\n",
        "\n",
        "Print the palindromic triangle of size $N$ as explained above.\n",
        "\n",
        "**Sample Input**\n",
        "\n",
        "`5`\n",
        "\n",
        "**Sample Output**\n",
        "\n",
        "```\n",
        "1\n",
        "121\n",
        "12321\n",
        "1234321\n",
        "123454321\n",
        "```"
      ]
    },
    {
      "cell_type": "code",
      "metadata": {
        "id": "u9qJkwMPsjAD",
        "colab": {
          "base_uri": "https://localhost:8080/"
        },
        "outputId": "59c56fc7-9eee-4e9c-fcd3-f13a919c99dc"
      },
      "source": [
        "# Solution:\n",
        "for i in range(1, int(input()) + 1):\n",
        "  print((10 ** i // 9) ** 2)"
      ],
      "execution_count": null,
      "outputs": [
        {
          "output_type": "stream",
          "text": [
            "10\n",
            "1\n",
            "121\n",
            "12321\n",
            "1234321\n",
            "123454321\n",
            "12345654321\n",
            "1234567654321\n",
            "123456787654321\n",
            "12345678987654321\n",
            "1234567900987654321\n"
          ],
          "name": "stdout"
        }
      ]
    },
    {
      "cell_type": "markdown",
      "metadata": {
        "id": "bV6ZL7nipk8X"
      },
      "source": [
        "---"
      ]
    },
    {
      "cell_type": "markdown",
      "metadata": {
        "id": "Z3tiOD2IXK8N"
      },
      "source": [
        "### Wrap-Up Quiz\n",
        "\n",
        "```\n",
        "TEACHER\n",
        "  Let us quickly recollect what we learned and did in today's class.\n",
        "\n",
        "  There are some questions alongwith 4 options in the Class copy.\n",
        "  Tell me the correct answer.\n",
        "```\n",
        "<img src=\"https://curriculum.whitehatjr.com/APT+Asset/C5+images/q1.PNG\"/>\n",
        "\n",
        "```\n",
        "TEACHER\n",
        "  The correct answer is Option 4.\n",
        "  The append() function is used to add an item at the rightmost end\n",
        "  of the list.\n",
        "```\n",
        "\n",
        "<img src=\"https://curriculum.whitehatjr.com/APT+Asset/C5+images/q2.PNG\"/>\n",
        "\n",
        "\n",
        "```\n",
        "TEACHER\n",
        "  The output will be 0. Because there is no element called 'bottles'\n",
        "  in the list. Instead, the list has 'bottle' element whose count is\n",
        "  2.\n",
        "  \n",
        "  You did a great job today.\n",
        "  I hope you had fun in this class and hope to see you in the upcoming\n",
        "  classes to learn Python programming. Bye!\n",
        "\n",
        "EXPECTED STUDENT RESPONSE\n",
        "  Bye teacher!\n",
        "```\n",
        "\n"
      ]
    },
    {
      "cell_type": "markdown",
      "metadata": {
        "id": "WM9Zumy9XOpt"
      },
      "source": [
        "---"
      ]
    },
    {
      "cell_type": "markdown",
      "metadata": {
        "id": "8zIJsZAnXNuB"
      },
      "source": [
        "### Activities\n",
        "\n",
        "**Teacher Activities**\n",
        "\n",
        "1. Python Lists I (Class Copy)\n",
        "\n",
        "   Link on Panel\n",
        "\n",
        "2. Python Lists I (Reference)\n",
        "\n",
        "   Link on Panel"
      ]
    },
    {
      "cell_type": "markdown",
      "metadata": {
        "id": "3wvacUsfXPTp"
      },
      "source": [
        "---"
      ]
    }
  ]
}