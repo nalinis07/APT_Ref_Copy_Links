{
  "cells": [
    {
      "cell_type": "markdown",
      "metadata": {
        "id": "view-in-github",
        "colab_type": "text"
      },
      "source": [
        "<a href=\"https://colab.research.google.com/github/nalinis07/APT_Ref_Copy_Links/blob/MASTER/AT_Lesson_132_Reference_v0.ipynb\" target=\"_parent\"><img src=\"https://colab.research.google.com/assets/colab-badge.svg\" alt=\"Open In Colab\"/></a>"
      ]
    },
    {
      "cell_type": "markdown",
      "metadata": {
        "id": "mFyBWseUe89f"
      },
      "source": [
        "# Lesson 132: ARIMA VI - Seasonal ARIMA"
      ]
    },
    {
      "cell_type": "markdown",
      "metadata": {
        "id": "0KLhWJtcfETM"
      },
      "source": [
        "---"
      ]
    },
    {
      "cell_type": "markdown",
      "metadata": {
        "id": "FVRJyo-QfFWq"
      },
      "source": [
        "**WARNING:** The reference notebook is meant **ONLY** for a teacher. Please **DO NOT** share it with any student.\n",
        "\n",
        "The contents of the reference notebook are meant only to prepare a teacher for a class. To conduct the class, use the class copy of the reference notebook. The link and the instructions for the same are provided in the **Notes To The Teacher** section.\n",
        "\n",
        "\n",
        "|Particulars|Description|\n",
        "|-|-|\n",
        "|**Topic**|ARIMA VI - Seasonal ARIMA|\n",
        "|||\n",
        "|**Class Description**|In this class, a student will learn how to add seasonality to an ARIMA model|\n",
        "|||\n",
        "|**Class**|C132|\n",
        "|||\n",
        "|**Class Time**|45 minutes|\n",
        "|||\n",
        "|**Goal**|Understand Seasonality|\n",
        "||Understand Seasonal ARIMA (SARIMA)|\n",
        "||Estimate SARIMA hyperparameter values|\n",
        "||Perform Grid search for SARIMA|\n",
        "|||\n",
        "|**Teacher Resources**|Google Account|\n",
        "||Laptop with internet connectivity|\n",
        "||Earphones with mic|\n",
        "|||\n",
        "|**Student Resources**|Google Account|\n",
        "||Laptop with internet connectivity|\n",
        "||Earphones with mic|"
      ]
    },
    {
      "cell_type": "markdown",
      "metadata": {
        "id": "nEMc9z_HfQVA"
      },
      "source": [
        "---"
      ]
    },
    {
      "cell_type": "markdown",
      "source": [
        "### Warm-up Quiz\n",
        "\n",
        "```\n",
        "TEACHER\n",
        "I have an exciting quiz question for you! Are you ready to answer this question?\n",
        "\n",
        "EXPECTED STUDENT RESPONSE\n",
        "Yes.\n",
        "```\n",
        "\n",
        "**Instructions for the Teacher:**\n",
        "- Please click on the \"Quiz Time\" button on the bottom right corner of your screen to start the In-Class Quiz. <img src='https://student-datasets-bucket.s3.ap-south-1.amazonaws.com/images/quiz-time.png' width = 150>\n",
        "\n",
        "- A quiz will be visible to both you and the student. Encourage the student to answer the quiz question.\n",
        "\n",
        "- The student may choose the wrong option, help the student to think correctly about the question and then answer again.\n",
        "\n",
        "- After the student selects the correct option, the \"End Quiz\" button will start appearing on your screen. <img src='https://student-datasets-bucket.s3.ap-south-1.amazonaws.com/images/end-quiz.png' width = 150>  \n",
        "\n",
        "- Click the \"End quiz\" button to close the quiz pop-up and continue the class.\n",
        "  \n",
        "- Do not spend more than 2 minutes on this quiz."
      ],
      "metadata": {
        "id": "yfz1ko1kdgXm"
      }
    },
    {
      "cell_type": "markdown",
      "source": [
        "---"
      ],
      "metadata": {
        "id": "eo-NYZbhdhb2"
      }
    },
    {
      "cell_type": "markdown",
      "metadata": {
        "id": "RZKTGw0AfUuA"
      },
      "source": [
        "#### Teacher-Student Activities\n",
        "\n",
        "From the past few lessons, we had deployed many time series data and mastered the art of ARIMA models. Now, it's time to add one last component to the model: **Seasonality**.\n",
        "\n",
        "Uptil now, we haven't considered the effect of seasonality in time series. However, this behaviour is surely present in many cases, such as increase in gift shop sales during Christmas or high volume hiring of sales staff in malls during holiday season.\n",
        "\n",
        "\n",
        "In today's class, we will learn about **Seasonal ARIMA (SARIMA)** by setting a forecasting model for the same Air passenger dataset used in the previous lesson.\n",
        "\n",
        "Let us first recall the concepts covered in the previous lesson and start this lesson from **Activity 1: Understanding Seasonal Time Series**."
      ]
    },
    {
      "cell_type": "markdown",
      "metadata": {
        "id": "xjeX3xP2A9qp"
      },
      "source": [
        "---"
      ]
    },
    {
      "cell_type": "markdown",
      "metadata": {
        "id": "pjoTcdC2xgZ5"
      },
      "source": [
        "#### Recap\n",
        "\n",
        "#### Picking Parameters for ARIMA (p,d,q)\n",
        "\n",
        "We already know how many times we had to difference the dataset, so here the value of hyperparameter `d` is `1`.\n",
        "\n",
        "Next, we need to figure out the values of `p` and `q`.\n",
        "\n",
        "Remember the following rule: <img src=\"https://s3-whjr-v2-prod-bucket.whjr.online/whjr-v2-prod-bucket/2ed779bb-99bf-4856-9770-ff63fd5913f1.png\" width = 25 width = 20/>\n",
        "\n",
        "- To estimate order `p`, PACF plot is used.\n",
        "- To estimate order `q`, ACF plot is used.\n"
      ]
    },
    {
      "cell_type": "markdown",
      "metadata": {
        "id": "RlJb2vBn1cU-"
      },
      "source": [
        "\n",
        "\n",
        "**Determining order `q`:**\n",
        "\n",
        "Just like how we looked at the PACF plot for the number of AR terms, we will look at the ACF plot for the number of MA terms i.e value of order `q`.\n"
      ]
    },
    {
      "cell_type": "markdown",
      "metadata": {
        "id": "vQBLFoy969WL"
      },
      "source": [
        "\n",
        "Estimating `p` and `q` values using ACF and PACF plots can be very tricky. Let us look at some case studies of stationary datasets and try to estimate these values for them.\n",
        "\n",
        "---\n",
        "**Case 1:**\n",
        "\n",
        "<center>\n",
        "<img src=\"https://s3-whjr-v2-prod-bucket.whjr.online/whjr-v2-prod-bucket/ba55c4c9-a259-41f9-b609-3a317671eb99.png\"/>\n",
        "\n",
        "`Fig 4.1: ACF and PACF plots of case 1`\n",
        "</center>\n",
        "\n",
        "Here,\n",
        "- PACF drops sharply after lag 1. Hence `p = 1`.\n",
        "- ACF shows a gradually decreasing trend.\n",
        "\n",
        "Note that whenever ACF or PACF plots show gradual decreasing trend, then the order value inferenced from that plot would be `0`.\n",
        "\n",
        "<img src=\"https://s3-whjr-v2-prod-bucket.whjr.online/whjr-v2-prod-bucket/2ed779bb-99bf-4856-9770-ff63fd5913f1.png\" width = 25 width = 20/> In other words,\n",
        "- If PACF data points are sinusoidal* or declining gradually, then `p = 0`.\n",
        "\n",
        "- If ACF data points are sinusoidal or declining gradually, then `q = 0`.\n",
        "\n",
        "In the above case study, ACF plot is gradually declining, hence `q = 0`.  \n",
        "\n",
        "**Conclusion:** `p = 1` and `q = 0` for case 1.\n",
        "\n",
        "***Note:** A sinusoidal ACF or PACF plot may look like this:\n",
        "<img src=\"https://s3-whjr-v2-prod-bucket.whjr.online/whjr-v2-prod-bucket/ed997e7f-7401-4b85-a1bf-4a47ba0f058a.PNG\"/>\n",
        "\n",
        "<br/>\n",
        "\n",
        "---\n",
        "<br/>\n",
        "\n",
        "**Case 2:**\n",
        "\n",
        "<center>\n",
        "<img src=\"https://s3-whjr-v2-prod-bucket.whjr.online/whjr-v2-prod-bucket/1c48db1d-f740-4f2a-9b56-c2c887ff7bd9.png\"/>\n",
        "\n",
        "`Fig 4.2: ACF and PACF plots of case 2`\n",
        "</center>\n",
        "\n",
        "Here,\n",
        "- PACF shows a gradual decreasing trend. Hence `p = 0`.\n",
        "- ACF drops sharply after lag 1. Hence, `q = 1`.\n",
        "\n",
        "**Conclusion:** `p = 0` and `q = 1` for case 2.\n",
        "\n",
        "<br/>\n",
        "\n",
        "---\n",
        "<br/>\n",
        "\n",
        "**Case 3:**\n",
        "\n",
        "<center>\n",
        "<img src=\"https://s3-whjr-v2-prod-bucket.whjr.online/whjr-v2-prod-bucket/f1ec52f7-4f89-4358-b467-44adb9716eb7.png\"/>\n",
        "\n",
        "`Fig 4.3: ACF and PACF plots of case 3`\n",
        "</center>\n",
        "\n",
        "Here,\n",
        "- PACF shows a gradual decreasing trend. Also, it drops sharply after lag 1. Hence `p = 0` or `p = 1`. You can experiment with both the values.\n",
        "\n",
        "- ACF drops sharply after lag 2. Hence, `q = 2`.\n",
        "\n",
        "**Conclusion:** `p = 0` or `p = 1`, and `q = 2` for case 3.\n",
        "\n"
      ]
    },
    {
      "cell_type": "markdown",
      "metadata": {
        "id": "m283hfBAJSpe"
      },
      "source": [
        "---"
      ]
    },
    {
      "cell_type": "markdown",
      "metadata": {
        "id": "UyfUKOrooSLt"
      },
      "source": [
        "#### Deploying ARIMA\n",
        "\n",
        "\n",
        "Finding out parameters for the ARIMA Time-Series forecasting model.\n",
        "\n",
        "**Dataset Credits:** https://www.kaggle.com/rakannimer/air-passengers\n",
        "\n",
        "**Link to the dataset:** https://s3-whjr-curriculum-uploads.whjr.online/14b9487d-e1f7-4a83-be06-2da854d82783.csv\n",
        "\n",
        "\n",
        "\n"
      ]
    },
    {
      "cell_type": "code",
      "execution_count": null,
      "metadata": {
        "colab": {
          "base_uri": "https://localhost:8080/",
          "height": 206
        },
        "id": "7tVfTIT3pIwX",
        "outputId": "904dc6e9-795f-4ad1-f2ed-7a988c64ea0e"
      },
      "outputs": [
        {
          "output_type": "execute_result",
          "data": {
            "text/html": [
              "\n",
              "  <div id=\"df-c78e5d11-79b1-4e24-9679-90699375b6a6\">\n",
              "    <div class=\"colab-df-container\">\n",
              "      <div>\n",
              "<style scoped>\n",
              "    .dataframe tbody tr th:only-of-type {\n",
              "        vertical-align: middle;\n",
              "    }\n",
              "\n",
              "    .dataframe tbody tr th {\n",
              "        vertical-align: top;\n",
              "    }\n",
              "\n",
              "    .dataframe thead th {\n",
              "        text-align: right;\n",
              "    }\n",
              "</style>\n",
              "<table border=\"1\" class=\"dataframe\">\n",
              "  <thead>\n",
              "    <tr style=\"text-align: right;\">\n",
              "      <th></th>\n",
              "      <th>Month</th>\n",
              "      <th>#Passengers</th>\n",
              "    </tr>\n",
              "  </thead>\n",
              "  <tbody>\n",
              "    <tr>\n",
              "      <th>139</th>\n",
              "      <td>1960-08</td>\n",
              "      <td>606</td>\n",
              "    </tr>\n",
              "    <tr>\n",
              "      <th>140</th>\n",
              "      <td>1960-09</td>\n",
              "      <td>508</td>\n",
              "    </tr>\n",
              "    <tr>\n",
              "      <th>141</th>\n",
              "      <td>1960-10</td>\n",
              "      <td>461</td>\n",
              "    </tr>\n",
              "    <tr>\n",
              "      <th>142</th>\n",
              "      <td>1960-11</td>\n",
              "      <td>390</td>\n",
              "    </tr>\n",
              "    <tr>\n",
              "      <th>143</th>\n",
              "      <td>1960-12</td>\n",
              "      <td>432</td>\n",
              "    </tr>\n",
              "  </tbody>\n",
              "</table>\n",
              "</div>\n",
              "      <button class=\"colab-df-convert\" onclick=\"convertToInteractive('df-c78e5d11-79b1-4e24-9679-90699375b6a6')\"\n",
              "              title=\"Convert this dataframe to an interactive table.\"\n",
              "              style=\"display:none;\">\n",
              "        \n",
              "  <svg xmlns=\"http://www.w3.org/2000/svg\" height=\"24px\"viewBox=\"0 0 24 24\"\n",
              "       width=\"24px\">\n",
              "    <path d=\"M0 0h24v24H0V0z\" fill=\"none\"/>\n",
              "    <path d=\"M18.56 5.44l.94 2.06.94-2.06 2.06-.94-2.06-.94-.94-2.06-.94 2.06-2.06.94zm-11 1L8.5 8.5l.94-2.06 2.06-.94-2.06-.94L8.5 2.5l-.94 2.06-2.06.94zm10 10l.94 2.06.94-2.06 2.06-.94-2.06-.94-.94-2.06-.94 2.06-2.06.94z\"/><path d=\"M17.41 7.96l-1.37-1.37c-.4-.4-.92-.59-1.43-.59-.52 0-1.04.2-1.43.59L10.3 9.45l-7.72 7.72c-.78.78-.78 2.05 0 2.83L4 21.41c.39.39.9.59 1.41.59.51 0 1.02-.2 1.41-.59l7.78-7.78 2.81-2.81c.8-.78.8-2.07 0-2.86zM5.41 20L4 18.59l7.72-7.72 1.47 1.35L5.41 20z\"/>\n",
              "  </svg>\n",
              "      </button>\n",
              "      \n",
              "  <style>\n",
              "    .colab-df-container {\n",
              "      display:flex;\n",
              "      flex-wrap:wrap;\n",
              "      gap: 12px;\n",
              "    }\n",
              "\n",
              "    .colab-df-convert {\n",
              "      background-color: #E8F0FE;\n",
              "      border: none;\n",
              "      border-radius: 50%;\n",
              "      cursor: pointer;\n",
              "      display: none;\n",
              "      fill: #1967D2;\n",
              "      height: 32px;\n",
              "      padding: 0 0 0 0;\n",
              "      width: 32px;\n",
              "    }\n",
              "\n",
              "    .colab-df-convert:hover {\n",
              "      background-color: #E2EBFA;\n",
              "      box-shadow: 0px 1px 2px rgba(60, 64, 67, 0.3), 0px 1px 3px 1px rgba(60, 64, 67, 0.15);\n",
              "      fill: #174EA6;\n",
              "    }\n",
              "\n",
              "    [theme=dark] .colab-df-convert {\n",
              "      background-color: #3B4455;\n",
              "      fill: #D2E3FC;\n",
              "    }\n",
              "\n",
              "    [theme=dark] .colab-df-convert:hover {\n",
              "      background-color: #434B5C;\n",
              "      box-shadow: 0px 1px 3px 1px rgba(0, 0, 0, 0.15);\n",
              "      filter: drop-shadow(0px 1px 2px rgba(0, 0, 0, 0.3));\n",
              "      fill: #FFFFFF;\n",
              "    }\n",
              "  </style>\n",
              "\n",
              "      <script>\n",
              "        const buttonEl =\n",
              "          document.querySelector('#df-c78e5d11-79b1-4e24-9679-90699375b6a6 button.colab-df-convert');\n",
              "        buttonEl.style.display =\n",
              "          google.colab.kernel.accessAllowed ? 'block' : 'none';\n",
              "\n",
              "        async function convertToInteractive(key) {\n",
              "          const element = document.querySelector('#df-c78e5d11-79b1-4e24-9679-90699375b6a6');\n",
              "          const dataTable =\n",
              "            await google.colab.kernel.invokeFunction('convertToInteractive',\n",
              "                                                     [key], {});\n",
              "          if (!dataTable) return;\n",
              "\n",
              "          const docLinkHtml = 'Like what you see? Visit the ' +\n",
              "            '<a target=\"_blank\" href=https://colab.research.google.com/notebooks/data_table.ipynb>data table notebook</a>'\n",
              "            + ' to learn more about interactive tables.';\n",
              "          element.innerHTML = '';\n",
              "          dataTable['output_type'] = 'display_data';\n",
              "          await google.colab.output.renderOutput(dataTable, element);\n",
              "          const docLink = document.createElement('div');\n",
              "          docLink.innerHTML = docLinkHtml;\n",
              "          element.appendChild(docLink);\n",
              "        }\n",
              "      </script>\n",
              "    </div>\n",
              "  </div>\n",
              "  "
            ],
            "text/plain": [
              "       Month  #Passengers\n",
              "139  1960-08          606\n",
              "140  1960-09          508\n",
              "141  1960-10          461\n",
              "142  1960-11          390\n",
              "143  1960-12          432"
            ]
          },
          "metadata": {},
          "execution_count": 1
        }
      ],
      "source": [
        "# Load the dataset and print first 5 rows.\n",
        "import numpy as np\n",
        "import pandas as pd\n",
        "import matplotlib.pyplot as plt\n",
        "import seaborn as sns\n",
        "\n",
        "airpass_df = pd.read_csv(\"https://s3-whjr-curriculum-uploads.whjr.online/14b9487d-e1f7-4a83-be06-2da854d82783.csv\")\n",
        "airpass_df.tail()"
      ]
    },
    {
      "cell_type": "code",
      "execution_count": null,
      "metadata": {
        "colab": {
          "base_uri": "https://localhost:8080/"
        },
        "id": "9NP1Oybxp0kV",
        "outputId": "c647573e-a4b2-403d-97fd-589af778c9fb"
      },
      "outputs": [
        {
          "output_type": "stream",
          "name": "stdout",
          "text": [
            "<class 'pandas.core.frame.DataFrame'>\n",
            "RangeIndex: 144 entries, 0 to 143\n",
            "Data columns (total 2 columns):\n",
            " #   Column       Non-Null Count  Dtype \n",
            "---  ------       --------------  ----- \n",
            " 0   Month        144 non-null    object\n",
            " 1   #Passengers  144 non-null    int64 \n",
            "dtypes: int64(1), object(1)\n",
            "memory usage: 2.4+ KB\n"
          ]
        }
      ],
      "source": [
        "# Get the total number of rows and columns, data types of columns and missing values (if exist) in the dataset.\n",
        "airpass_df.info()"
      ]
    },
    {
      "cell_type": "code",
      "execution_count": null,
      "metadata": {
        "colab": {
          "base_uri": "https://localhost:8080/",
          "height": 424
        },
        "id": "Zt40MYyLqOll",
        "outputId": "fa7cabd8-55ce-41f7-e741-a17dc2074cf5"
      },
      "outputs": [
        {
          "output_type": "execute_result",
          "data": {
            "text/html": [
              "\n",
              "  <div id=\"df-26b4aaf2-7308-420b-a881-240e1c836de3\">\n",
              "    <div class=\"colab-df-container\">\n",
              "      <div>\n",
              "<style scoped>\n",
              "    .dataframe tbody tr th:only-of-type {\n",
              "        vertical-align: middle;\n",
              "    }\n",
              "\n",
              "    .dataframe tbody tr th {\n",
              "        vertical-align: top;\n",
              "    }\n",
              "\n",
              "    .dataframe thead th {\n",
              "        text-align: right;\n",
              "    }\n",
              "</style>\n",
              "<table border=\"1\" class=\"dataframe\">\n",
              "  <thead>\n",
              "    <tr style=\"text-align: right;\">\n",
              "      <th></th>\n",
              "      <th>Month</th>\n",
              "      <th>#Passengers</th>\n",
              "    </tr>\n",
              "  </thead>\n",
              "  <tbody>\n",
              "    <tr>\n",
              "      <th>0</th>\n",
              "      <td>1949-01-01</td>\n",
              "      <td>112</td>\n",
              "    </tr>\n",
              "    <tr>\n",
              "      <th>1</th>\n",
              "      <td>1949-02-01</td>\n",
              "      <td>118</td>\n",
              "    </tr>\n",
              "    <tr>\n",
              "      <th>2</th>\n",
              "      <td>1949-03-01</td>\n",
              "      <td>132</td>\n",
              "    </tr>\n",
              "    <tr>\n",
              "      <th>3</th>\n",
              "      <td>1949-04-01</td>\n",
              "      <td>129</td>\n",
              "    </tr>\n",
              "    <tr>\n",
              "      <th>4</th>\n",
              "      <td>1949-05-01</td>\n",
              "      <td>121</td>\n",
              "    </tr>\n",
              "    <tr>\n",
              "      <th>...</th>\n",
              "      <td>...</td>\n",
              "      <td>...</td>\n",
              "    </tr>\n",
              "    <tr>\n",
              "      <th>139</th>\n",
              "      <td>1960-08-01</td>\n",
              "      <td>606</td>\n",
              "    </tr>\n",
              "    <tr>\n",
              "      <th>140</th>\n",
              "      <td>1960-09-01</td>\n",
              "      <td>508</td>\n",
              "    </tr>\n",
              "    <tr>\n",
              "      <th>141</th>\n",
              "      <td>1960-10-01</td>\n",
              "      <td>461</td>\n",
              "    </tr>\n",
              "    <tr>\n",
              "      <th>142</th>\n",
              "      <td>1960-11-01</td>\n",
              "      <td>390</td>\n",
              "    </tr>\n",
              "    <tr>\n",
              "      <th>143</th>\n",
              "      <td>1960-12-01</td>\n",
              "      <td>432</td>\n",
              "    </tr>\n",
              "  </tbody>\n",
              "</table>\n",
              "<p>144 rows × 2 columns</p>\n",
              "</div>\n",
              "      <button class=\"colab-df-convert\" onclick=\"convertToInteractive('df-26b4aaf2-7308-420b-a881-240e1c836de3')\"\n",
              "              title=\"Convert this dataframe to an interactive table.\"\n",
              "              style=\"display:none;\">\n",
              "        \n",
              "  <svg xmlns=\"http://www.w3.org/2000/svg\" height=\"24px\"viewBox=\"0 0 24 24\"\n",
              "       width=\"24px\">\n",
              "    <path d=\"M0 0h24v24H0V0z\" fill=\"none\"/>\n",
              "    <path d=\"M18.56 5.44l.94 2.06.94-2.06 2.06-.94-2.06-.94-.94-2.06-.94 2.06-2.06.94zm-11 1L8.5 8.5l.94-2.06 2.06-.94-2.06-.94L8.5 2.5l-.94 2.06-2.06.94zm10 10l.94 2.06.94-2.06 2.06-.94-2.06-.94-.94-2.06-.94 2.06-2.06.94z\"/><path d=\"M17.41 7.96l-1.37-1.37c-.4-.4-.92-.59-1.43-.59-.52 0-1.04.2-1.43.59L10.3 9.45l-7.72 7.72c-.78.78-.78 2.05 0 2.83L4 21.41c.39.39.9.59 1.41.59.51 0 1.02-.2 1.41-.59l7.78-7.78 2.81-2.81c.8-.78.8-2.07 0-2.86zM5.41 20L4 18.59l7.72-7.72 1.47 1.35L5.41 20z\"/>\n",
              "  </svg>\n",
              "      </button>\n",
              "      \n",
              "  <style>\n",
              "    .colab-df-container {\n",
              "      display:flex;\n",
              "      flex-wrap:wrap;\n",
              "      gap: 12px;\n",
              "    }\n",
              "\n",
              "    .colab-df-convert {\n",
              "      background-color: #E8F0FE;\n",
              "      border: none;\n",
              "      border-radius: 50%;\n",
              "      cursor: pointer;\n",
              "      display: none;\n",
              "      fill: #1967D2;\n",
              "      height: 32px;\n",
              "      padding: 0 0 0 0;\n",
              "      width: 32px;\n",
              "    }\n",
              "\n",
              "    .colab-df-convert:hover {\n",
              "      background-color: #E2EBFA;\n",
              "      box-shadow: 0px 1px 2px rgba(60, 64, 67, 0.3), 0px 1px 3px 1px rgba(60, 64, 67, 0.15);\n",
              "      fill: #174EA6;\n",
              "    }\n",
              "\n",
              "    [theme=dark] .colab-df-convert {\n",
              "      background-color: #3B4455;\n",
              "      fill: #D2E3FC;\n",
              "    }\n",
              "\n",
              "    [theme=dark] .colab-df-convert:hover {\n",
              "      background-color: #434B5C;\n",
              "      box-shadow: 0px 1px 3px 1px rgba(0, 0, 0, 0.15);\n",
              "      filter: drop-shadow(0px 1px 2px rgba(0, 0, 0, 0.3));\n",
              "      fill: #FFFFFF;\n",
              "    }\n",
              "  </style>\n",
              "\n",
              "      <script>\n",
              "        const buttonEl =\n",
              "          document.querySelector('#df-26b4aaf2-7308-420b-a881-240e1c836de3 button.colab-df-convert');\n",
              "        buttonEl.style.display =\n",
              "          google.colab.kernel.accessAllowed ? 'block' : 'none';\n",
              "\n",
              "        async function convertToInteractive(key) {\n",
              "          const element = document.querySelector('#df-26b4aaf2-7308-420b-a881-240e1c836de3');\n",
              "          const dataTable =\n",
              "            await google.colab.kernel.invokeFunction('convertToInteractive',\n",
              "                                                     [key], {});\n",
              "          if (!dataTable) return;\n",
              "\n",
              "          const docLinkHtml = 'Like what you see? Visit the ' +\n",
              "            '<a target=\"_blank\" href=https://colab.research.google.com/notebooks/data_table.ipynb>data table notebook</a>'\n",
              "            + ' to learn more about interactive tables.';\n",
              "          element.innerHTML = '';\n",
              "          dataTable['output_type'] = 'display_data';\n",
              "          await google.colab.output.renderOutput(dataTable, element);\n",
              "          const docLink = document.createElement('div');\n",
              "          docLink.innerHTML = docLinkHtml;\n",
              "          element.appendChild(docLink);\n",
              "        }\n",
              "      </script>\n",
              "    </div>\n",
              "  </div>\n",
              "  "
            ],
            "text/plain": [
              "         Month  #Passengers\n",
              "0   1949-01-01          112\n",
              "1   1949-02-01          118\n",
              "2   1949-03-01          132\n",
              "3   1949-04-01          129\n",
              "4   1949-05-01          121\n",
              "..         ...          ...\n",
              "139 1960-08-01          606\n",
              "140 1960-09-01          508\n",
              "141 1960-10-01          461\n",
              "142 1960-11-01          390\n",
              "143 1960-12-01          432\n",
              "\n",
              "[144 rows x 2 columns]"
            ]
          },
          "metadata": {},
          "execution_count": 3
        }
      ],
      "source": [
        "# Convert the data type of 'Month' column to datetime.\n",
        "airpass_df['Month'] = pd.to_datetime(airpass_df['Month'], infer_datetime_format=True)\n",
        "airpass_df"
      ]
    },
    {
      "cell_type": "code",
      "execution_count": null,
      "metadata": {
        "colab": {
          "base_uri": "https://localhost:8080/"
        },
        "id": "tMdjpzZSqT5l",
        "outputId": "15a7e07a-6057-47ad-8af4-e8ce754b0eb7"
      },
      "outputs": [
        {
          "output_type": "stream",
          "name": "stdout",
          "text": [
            "<class 'pandas.core.frame.DataFrame'>\n",
            "RangeIndex: 144 entries, 0 to 143\n",
            "Data columns (total 2 columns):\n",
            " #   Column       Non-Null Count  Dtype         \n",
            "---  ------       --------------  -----         \n",
            " 0   Month        144 non-null    datetime64[ns]\n",
            " 1   #Passengers  144 non-null    int64         \n",
            "dtypes: datetime64[ns](1), int64(1)\n",
            "memory usage: 2.4 KB\n"
          ]
        }
      ],
      "source": [
        "# Confirm the data type of 'Month' column.\n",
        "airpass_df.info()"
      ]
    },
    {
      "cell_type": "code",
      "execution_count": null,
      "metadata": {
        "colab": {
          "base_uri": "https://localhost:8080/",
          "height": 238
        },
        "id": "bKZXptf_qSjY",
        "outputId": "aac88e81-ec95-4904-c2d2-a72ea9e4cb2e"
      },
      "outputs": [
        {
          "output_type": "execute_result",
          "data": {
            "text/html": [
              "\n",
              "  <div id=\"df-703a33b7-fdb1-4ee0-99a9-626632562a69\">\n",
              "    <div class=\"colab-df-container\">\n",
              "      <div>\n",
              "<style scoped>\n",
              "    .dataframe tbody tr th:only-of-type {\n",
              "        vertical-align: middle;\n",
              "    }\n",
              "\n",
              "    .dataframe tbody tr th {\n",
              "        vertical-align: top;\n",
              "    }\n",
              "\n",
              "    .dataframe thead th {\n",
              "        text-align: right;\n",
              "    }\n",
              "</style>\n",
              "<table border=\"1\" class=\"dataframe\">\n",
              "  <thead>\n",
              "    <tr style=\"text-align: right;\">\n",
              "      <th></th>\n",
              "      <th>#Passengers</th>\n",
              "    </tr>\n",
              "    <tr>\n",
              "      <th>Month</th>\n",
              "      <th></th>\n",
              "    </tr>\n",
              "  </thead>\n",
              "  <tbody>\n",
              "    <tr>\n",
              "      <th>1949-01-01</th>\n",
              "      <td>112</td>\n",
              "    </tr>\n",
              "    <tr>\n",
              "      <th>1949-02-01</th>\n",
              "      <td>118</td>\n",
              "    </tr>\n",
              "    <tr>\n",
              "      <th>1949-03-01</th>\n",
              "      <td>132</td>\n",
              "    </tr>\n",
              "    <tr>\n",
              "      <th>1949-04-01</th>\n",
              "      <td>129</td>\n",
              "    </tr>\n",
              "    <tr>\n",
              "      <th>1949-05-01</th>\n",
              "      <td>121</td>\n",
              "    </tr>\n",
              "  </tbody>\n",
              "</table>\n",
              "</div>\n",
              "      <button class=\"colab-df-convert\" onclick=\"convertToInteractive('df-703a33b7-fdb1-4ee0-99a9-626632562a69')\"\n",
              "              title=\"Convert this dataframe to an interactive table.\"\n",
              "              style=\"display:none;\">\n",
              "        \n",
              "  <svg xmlns=\"http://www.w3.org/2000/svg\" height=\"24px\"viewBox=\"0 0 24 24\"\n",
              "       width=\"24px\">\n",
              "    <path d=\"M0 0h24v24H0V0z\" fill=\"none\"/>\n",
              "    <path d=\"M18.56 5.44l.94 2.06.94-2.06 2.06-.94-2.06-.94-.94-2.06-.94 2.06-2.06.94zm-11 1L8.5 8.5l.94-2.06 2.06-.94-2.06-.94L8.5 2.5l-.94 2.06-2.06.94zm10 10l.94 2.06.94-2.06 2.06-.94-2.06-.94-.94-2.06-.94 2.06-2.06.94z\"/><path d=\"M17.41 7.96l-1.37-1.37c-.4-.4-.92-.59-1.43-.59-.52 0-1.04.2-1.43.59L10.3 9.45l-7.72 7.72c-.78.78-.78 2.05 0 2.83L4 21.41c.39.39.9.59 1.41.59.51 0 1.02-.2 1.41-.59l7.78-7.78 2.81-2.81c.8-.78.8-2.07 0-2.86zM5.41 20L4 18.59l7.72-7.72 1.47 1.35L5.41 20z\"/>\n",
              "  </svg>\n",
              "      </button>\n",
              "      \n",
              "  <style>\n",
              "    .colab-df-container {\n",
              "      display:flex;\n",
              "      flex-wrap:wrap;\n",
              "      gap: 12px;\n",
              "    }\n",
              "\n",
              "    .colab-df-convert {\n",
              "      background-color: #E8F0FE;\n",
              "      border: none;\n",
              "      border-radius: 50%;\n",
              "      cursor: pointer;\n",
              "      display: none;\n",
              "      fill: #1967D2;\n",
              "      height: 32px;\n",
              "      padding: 0 0 0 0;\n",
              "      width: 32px;\n",
              "    }\n",
              "\n",
              "    .colab-df-convert:hover {\n",
              "      background-color: #E2EBFA;\n",
              "      box-shadow: 0px 1px 2px rgba(60, 64, 67, 0.3), 0px 1px 3px 1px rgba(60, 64, 67, 0.15);\n",
              "      fill: #174EA6;\n",
              "    }\n",
              "\n",
              "    [theme=dark] .colab-df-convert {\n",
              "      background-color: #3B4455;\n",
              "      fill: #D2E3FC;\n",
              "    }\n",
              "\n",
              "    [theme=dark] .colab-df-convert:hover {\n",
              "      background-color: #434B5C;\n",
              "      box-shadow: 0px 1px 3px 1px rgba(0, 0, 0, 0.15);\n",
              "      filter: drop-shadow(0px 1px 2px rgba(0, 0, 0, 0.3));\n",
              "      fill: #FFFFFF;\n",
              "    }\n",
              "  </style>\n",
              "\n",
              "      <script>\n",
              "        const buttonEl =\n",
              "          document.querySelector('#df-703a33b7-fdb1-4ee0-99a9-626632562a69 button.colab-df-convert');\n",
              "        buttonEl.style.display =\n",
              "          google.colab.kernel.accessAllowed ? 'block' : 'none';\n",
              "\n",
              "        async function convertToInteractive(key) {\n",
              "          const element = document.querySelector('#df-703a33b7-fdb1-4ee0-99a9-626632562a69');\n",
              "          const dataTable =\n",
              "            await google.colab.kernel.invokeFunction('convertToInteractive',\n",
              "                                                     [key], {});\n",
              "          if (!dataTable) return;\n",
              "\n",
              "          const docLinkHtml = 'Like what you see? Visit the ' +\n",
              "            '<a target=\"_blank\" href=https://colab.research.google.com/notebooks/data_table.ipynb>data table notebook</a>'\n",
              "            + ' to learn more about interactive tables.';\n",
              "          element.innerHTML = '';\n",
              "          dataTable['output_type'] = 'display_data';\n",
              "          await google.colab.output.renderOutput(dataTable, element);\n",
              "          const docLink = document.createElement('div');\n",
              "          docLink.innerHTML = docLinkHtml;\n",
              "          element.appendChild(docLink);\n",
              "        }\n",
              "      </script>\n",
              "    </div>\n",
              "  </div>\n",
              "  "
            ],
            "text/plain": [
              "            #Passengers\n",
              "Month                  \n",
              "1949-01-01          112\n",
              "1949-02-01          118\n",
              "1949-03-01          132\n",
              "1949-04-01          129\n",
              "1949-05-01          121"
            ]
          },
          "metadata": {},
          "execution_count": 5
        }
      ],
      "source": [
        "# Use 'Month' column as an index\n",
        "airpass_in_df = airpass_df.set_index('Month')\n",
        "airpass_in_df.head()"
      ]
    },
    {
      "cell_type": "code",
      "execution_count": null,
      "metadata": {
        "colab": {
          "base_uri": "https://localhost:8080/",
          "height": 334
        },
        "id": "AtV3ODG_qxl9",
        "outputId": "a34297bb-dabb-4b9b-d9b1-5ce273fb59d1"
      },
      "outputs": [
        {
          "output_type": "display_data",
          "data": {
            "image/png": "[encoded data removed]",
            "text/plain": [
              "<Figure size 720x360 with 1 Axes>"
            ]
          },
          "metadata": {
            "needs_background": "light"
          }
        }
      ],
      "source": [
        "# Visualise time-series plot.\n",
        "plt.figure(figsize = (10, 5))\n",
        "plt.xlabel('Date')\n",
        "plt.ylabel('Number Of Air Passengers')\n",
        "plt.plot(airpass_in_df)\n",
        "plt.show()"
      ]
    },
    {
      "cell_type": "code",
      "execution_count": null,
      "metadata": {
        "colab": {
          "base_uri": "https://localhost:8080/"
        },
        "id": "ZGrq-_ZNsBbk",
        "outputId": "abf63b18-fa13-4ac7-9636-39de34812442"
      },
      "outputs": [
        {
          "output_type": "stream",
          "name": "stderr",
          "text": [
            "/usr/local/lib/python3.7/dist-packages/statsmodels/tools/_testing.py:19: FutureWarning: pandas.util.testing is deprecated. Use the functions in the public API at pandas.testing instead.\n",
            "  import pandas.util.testing as tm\n"
          ]
        },
        {
          "output_type": "stream",
          "name": "stdout",
          "text": [
            "Results of Dickey Fuller Test:\n",
            "ADF Statistic: 0.8153688792060418\n",
            "p-value:  0.9918802434376409\n"
          ]
        }
      ],
      "source": [
        "# Implement ADF test.\n",
        "from statsmodels.tsa.stattools import adfuller\n",
        "print('Results of Dickey Fuller Test:')\n",
        "adf_df1 = adfuller(airpass_in_df['#Passengers'])\n",
        "print('ADF Statistic:', adf_df1[0])\n",
        "print('p-value: ', adf_df1[1])"
      ]
    },
    {
      "cell_type": "code",
      "execution_count": null,
      "metadata": {
        "colab": {
          "base_uri": "https://localhost:8080/",
          "height": 455
        },
        "id": "hU912Rukscrb",
        "outputId": "f03f3e57-b7ea-42c5-996b-5c5168b36f5c"
      },
      "outputs": [
        {
          "output_type": "execute_result",
          "data": {
            "text/html": [
              "\n",
              "  <div id=\"df-56766332-520a-46ce-939b-7e0f030e60b1\">\n",
              "    <div class=\"colab-df-container\">\n",
              "      <div>\n",
              "<style scoped>\n",
              "    .dataframe tbody tr th:only-of-type {\n",
              "        vertical-align: middle;\n",
              "    }\n",
              "\n",
              "    .dataframe tbody tr th {\n",
              "        vertical-align: top;\n",
              "    }\n",
              "\n",
              "    .dataframe thead th {\n",
              "        text-align: right;\n",
              "    }\n",
              "</style>\n",
              "<table border=\"1\" class=\"dataframe\">\n",
              "  <thead>\n",
              "    <tr style=\"text-align: right;\">\n",
              "      <th></th>\n",
              "      <th>#Passengers</th>\n",
              "    </tr>\n",
              "    <tr>\n",
              "      <th>Month</th>\n",
              "      <th></th>\n",
              "    </tr>\n",
              "  </thead>\n",
              "  <tbody>\n",
              "    <tr>\n",
              "      <th>1949-01-01</th>\n",
              "      <td>NaN</td>\n",
              "    </tr>\n",
              "    <tr>\n",
              "      <th>1949-02-01</th>\n",
              "      <td>6.0</td>\n",
              "    </tr>\n",
              "    <tr>\n",
              "      <th>1949-03-01</th>\n",
              "      <td>14.0</td>\n",
              "    </tr>\n",
              "    <tr>\n",
              "      <th>1949-04-01</th>\n",
              "      <td>-3.0</td>\n",
              "    </tr>\n",
              "    <tr>\n",
              "      <th>1949-05-01</th>\n",
              "      <td>-8.0</td>\n",
              "    </tr>\n",
              "    <tr>\n",
              "      <th>...</th>\n",
              "      <td>...</td>\n",
              "    </tr>\n",
              "    <tr>\n",
              "      <th>1960-08-01</th>\n",
              "      <td>-16.0</td>\n",
              "    </tr>\n",
              "    <tr>\n",
              "      <th>1960-09-01</th>\n",
              "      <td>-98.0</td>\n",
              "    </tr>\n",
              "    <tr>\n",
              "      <th>1960-10-01</th>\n",
              "      <td>-47.0</td>\n",
              "    </tr>\n",
              "    <tr>\n",
              "      <th>1960-11-01</th>\n",
              "      <td>-71.0</td>\n",
              "    </tr>\n",
              "    <tr>\n",
              "      <th>1960-12-01</th>\n",
              "      <td>42.0</td>\n",
              "    </tr>\n",
              "  </tbody>\n",
              "</table>\n",
              "<p>144 rows × 1 columns</p>\n",
              "</div>\n",
              "      <button class=\"colab-df-convert\" onclick=\"convertToInteractive('df-56766332-520a-46ce-939b-7e0f030e60b1')\"\n",
              "              title=\"Convert this dataframe to an interactive table.\"\n",
              "              style=\"display:none;\">\n",
              "        \n",
              "  <svg xmlns=\"http://www.w3.org/2000/svg\" height=\"24px\"viewBox=\"0 0 24 24\"\n",
              "       width=\"24px\">\n",
              "    <path d=\"M0 0h24v24H0V0z\" fill=\"none\"/>\n",
              "    <path d=\"M18.56 5.44l.94 2.06.94-2.06 2.06-.94-2.06-.94-.94-2.06-.94 2.06-2.06.94zm-11 1L8.5 8.5l.94-2.06 2.06-.94-2.06-.94L8.5 2.5l-.94 2.06-2.06.94zm10 10l.94 2.06.94-2.06 2.06-.94-2.06-.94-.94-2.06-.94 2.06-2.06.94z\"/><path d=\"M17.41 7.96l-1.37-1.37c-.4-.4-.92-.59-1.43-.59-.52 0-1.04.2-1.43.59L10.3 9.45l-7.72 7.72c-.78.78-.78 2.05 0 2.83L4 21.41c.39.39.9.59 1.41.59.51 0 1.02-.2 1.41-.59l7.78-7.78 2.81-2.81c.8-.78.8-2.07 0-2.86zM5.41 20L4 18.59l7.72-7.72 1.47 1.35L5.41 20z\"/>\n",
              "  </svg>\n",
              "      </button>\n",
              "      \n",
              "  <style>\n",
              "    .colab-df-container {\n",
              "      display:flex;\n",
              "      flex-wrap:wrap;\n",
              "      gap: 12px;\n",
              "    }\n",
              "\n",
              "    .colab-df-convert {\n",
              "      background-color: #E8F0FE;\n",
              "      border: none;\n",
              "      border-radius: 50%;\n",
              "      cursor: pointer;\n",
              "      display: none;\n",
              "      fill: #1967D2;\n",
              "      height: 32px;\n",
              "      padding: 0 0 0 0;\n",
              "      width: 32px;\n",
              "    }\n",
              "\n",
              "    .colab-df-convert:hover {\n",
              "      background-color: #E2EBFA;\n",
              "      box-shadow: 0px 1px 2px rgba(60, 64, 67, 0.3), 0px 1px 3px 1px rgba(60, 64, 67, 0.15);\n",
              "      fill: #174EA6;\n",
              "    }\n",
              "\n",
              "    [theme=dark] .colab-df-convert {\n",
              "      background-color: #3B4455;\n",
              "      fill: #D2E3FC;\n",
              "    }\n",
              "\n",
              "    [theme=dark] .colab-df-convert:hover {\n",
              "      background-color: #434B5C;\n",
              "      box-shadow: 0px 1px 3px 1px rgba(0, 0, 0, 0.15);\n",
              "      filter: drop-shadow(0px 1px 2px rgba(0, 0, 0, 0.3));\n",
              "      fill: #FFFFFF;\n",
              "    }\n",
              "  </style>\n",
              "\n",
              "      <script>\n",
              "        const buttonEl =\n",
              "          document.querySelector('#df-56766332-520a-46ce-939b-7e0f030e60b1 button.colab-df-convert');\n",
              "        buttonEl.style.display =\n",
              "          google.colab.kernel.accessAllowed ? 'block' : 'none';\n",
              "\n",
              "        async function convertToInteractive(key) {\n",
              "          const element = document.querySelector('#df-56766332-520a-46ce-939b-7e0f030e60b1');\n",
              "          const dataTable =\n",
              "            await google.colab.kernel.invokeFunction('convertToInteractive',\n",
              "                                                     [key], {});\n",
              "          if (!dataTable) return;\n",
              "\n",
              "          const docLinkHtml = 'Like what you see? Visit the ' +\n",
              "            '<a target=\"_blank\" href=https://colab.research.google.com/notebooks/data_table.ipynb>data table notebook</a>'\n",
              "            + ' to learn more about interactive tables.';\n",
              "          element.innerHTML = '';\n",
              "          dataTable['output_type'] = 'display_data';\n",
              "          await google.colab.output.renderOutput(dataTable, element);\n",
              "          const docLink = document.createElement('div');\n",
              "          docLink.innerHTML = docLinkHtml;\n",
              "          element.appendChild(docLink);\n",
              "        }\n",
              "      </script>\n",
              "    </div>\n",
              "  </div>\n",
              "  "
            ],
            "text/plain": [
              "            #Passengers\n",
              "Month                  \n",
              "1949-01-01          NaN\n",
              "1949-02-01          6.0\n",
              "1949-03-01         14.0\n",
              "1949-04-01         -3.0\n",
              "1949-05-01         -8.0\n",
              "...                 ...\n",
              "1960-08-01        -16.0\n",
              "1960-09-01        -98.0\n",
              "1960-10-01        -47.0\n",
              "1960-11-01        -71.0\n",
              "1960-12-01         42.0\n",
              "\n",
              "[144 rows x 1 columns]"
            ]
          },
          "metadata": {},
          "execution_count": 8
        }
      ],
      "source": [
        "# Use 'diff(1)' function to perform first-order differencing\n",
        "airpass_diff1 = airpass_in_df.diff(1)\n",
        "airpass_diff1"
      ]
    },
    {
      "cell_type": "code",
      "execution_count": null,
      "metadata": {
        "colab": {
          "base_uri": "https://localhost:8080/"
        },
        "id": "1snSLkv-sxsT",
        "outputId": "7187b6d3-3f46-4f72-e959-e45f47037c59"
      },
      "outputs": [
        {
          "output_type": "stream",
          "name": "stdout",
          "text": [
            "ADF Statistic: -2.829266824169997\n",
            "p-value:  0.05421329028382577\n"
          ]
        }
      ],
      "source": [
        "# Remove NaN values and check stationarity of the time series data\n",
        "airpass_diff1.dropna(inplace = True)\n",
        "adf_df2 = adfuller(airpass_diff1['#Passengers'])\n",
        "print('ADF Statistic:', adf_df2[0])\n",
        "print('p-value: ', adf_df2[1])"
      ]
    },
    {
      "cell_type": "code",
      "execution_count": null,
      "metadata": {
        "colab": {
          "base_uri": "https://localhost:8080/",
          "height": 455
        },
        "id": "1ylU-_LEtRcb",
        "outputId": "31e431d3-8a9a-4721-9ef6-9eabe97c78c9"
      },
      "outputs": [
        {
          "output_type": "execute_result",
          "data": {
            "text/html": [
              "\n",
              "  <div id=\"df-2cd2dc97-f68a-4eae-b128-c88206d364c7\">\n",
              "    <div class=\"colab-df-container\">\n",
              "      <div>\n",
              "<style scoped>\n",
              "    .dataframe tbody tr th:only-of-type {\n",
              "        vertical-align: middle;\n",
              "    }\n",
              "\n",
              "    .dataframe tbody tr th {\n",
              "        vertical-align: top;\n",
              "    }\n",
              "\n",
              "    .dataframe thead th {\n",
              "        text-align: right;\n",
              "    }\n",
              "</style>\n",
              "<table border=\"1\" class=\"dataframe\">\n",
              "  <thead>\n",
              "    <tr style=\"text-align: right;\">\n",
              "      <th></th>\n",
              "      <th>#Passengers</th>\n",
              "    </tr>\n",
              "    <tr>\n",
              "      <th>Month</th>\n",
              "      <th></th>\n",
              "    </tr>\n",
              "  </thead>\n",
              "  <tbody>\n",
              "    <tr>\n",
              "      <th>1949-02-01</th>\n",
              "      <td>NaN</td>\n",
              "    </tr>\n",
              "    <tr>\n",
              "      <th>1949-03-01</th>\n",
              "      <td>8.0</td>\n",
              "    </tr>\n",
              "    <tr>\n",
              "      <th>1949-04-01</th>\n",
              "      <td>-17.0</td>\n",
              "    </tr>\n",
              "    <tr>\n",
              "      <th>1949-05-01</th>\n",
              "      <td>-5.0</td>\n",
              "    </tr>\n",
              "    <tr>\n",
              "      <th>1949-06-01</th>\n",
              "      <td>22.0</td>\n",
              "    </tr>\n",
              "    <tr>\n",
              "      <th>...</th>\n",
              "      <td>...</td>\n",
              "    </tr>\n",
              "    <tr>\n",
              "      <th>1960-08-01</th>\n",
              "      <td>-103.0</td>\n",
              "    </tr>\n",
              "    <tr>\n",
              "      <th>1960-09-01</th>\n",
              "      <td>-82.0</td>\n",
              "    </tr>\n",
              "    <tr>\n",
              "      <th>1960-10-01</th>\n",
              "      <td>51.0</td>\n",
              "    </tr>\n",
              "    <tr>\n",
              "      <th>1960-11-01</th>\n",
              "      <td>-24.0</td>\n",
              "    </tr>\n",
              "    <tr>\n",
              "      <th>1960-12-01</th>\n",
              "      <td>113.0</td>\n",
              "    </tr>\n",
              "  </tbody>\n",
              "</table>\n",
              "<p>143 rows × 1 columns</p>\n",
              "</div>\n",
              "      <button class=\"colab-df-convert\" onclick=\"convertToInteractive('df-2cd2dc97-f68a-4eae-b128-c88206d364c7')\"\n",
              "              title=\"Convert this dataframe to an interactive table.\"\n",
              "              style=\"display:none;\">\n",
              "        \n",
              "  <svg xmlns=\"http://www.w3.org/2000/svg\" height=\"24px\"viewBox=\"0 0 24 24\"\n",
              "       width=\"24px\">\n",
              "    <path d=\"M0 0h24v24H0V0z\" fill=\"none\"/>\n",
              "    <path d=\"M18.56 5.44l.94 2.06.94-2.06 2.06-.94-2.06-.94-.94-2.06-.94 2.06-2.06.94zm-11 1L8.5 8.5l.94-2.06 2.06-.94-2.06-.94L8.5 2.5l-.94 2.06-2.06.94zm10 10l.94 2.06.94-2.06 2.06-.94-2.06-.94-.94-2.06-.94 2.06-2.06.94z\"/><path d=\"M17.41 7.96l-1.37-1.37c-.4-.4-.92-.59-1.43-.59-.52 0-1.04.2-1.43.59L10.3 9.45l-7.72 7.72c-.78.78-.78 2.05 0 2.83L4 21.41c.39.39.9.59 1.41.59.51 0 1.02-.2 1.41-.59l7.78-7.78 2.81-2.81c.8-.78.8-2.07 0-2.86zM5.41 20L4 18.59l7.72-7.72 1.47 1.35L5.41 20z\"/>\n",
              "  </svg>\n",
              "      </button>\n",
              "      \n",
              "  <style>\n",
              "    .colab-df-container {\n",
              "      display:flex;\n",
              "      flex-wrap:wrap;\n",
              "      gap: 12px;\n",
              "    }\n",
              "\n",
              "    .colab-df-convert {\n",
              "      background-color: #E8F0FE;\n",
              "      border: none;\n",
              "      border-radius: 50%;\n",
              "      cursor: pointer;\n",
              "      display: none;\n",
              "      fill: #1967D2;\n",
              "      height: 32px;\n",
              "      padding: 0 0 0 0;\n",
              "      width: 32px;\n",
              "    }\n",
              "\n",
              "    .colab-df-convert:hover {\n",
              "      background-color: #E2EBFA;\n",
              "      box-shadow: 0px 1px 2px rgba(60, 64, 67, 0.3), 0px 1px 3px 1px rgba(60, 64, 67, 0.15);\n",
              "      fill: #174EA6;\n",
              "    }\n",
              "\n",
              "    [theme=dark] .colab-df-convert {\n",
              "      background-color: #3B4455;\n",
              "      fill: #D2E3FC;\n",
              "    }\n",
              "\n",
              "    [theme=dark] .colab-df-convert:hover {\n",
              "      background-color: #434B5C;\n",
              "      box-shadow: 0px 1px 3px 1px rgba(0, 0, 0, 0.15);\n",
              "      filter: drop-shadow(0px 1px 2px rgba(0, 0, 0, 0.3));\n",
              "      fill: #FFFFFF;\n",
              "    }\n",
              "  </style>\n",
              "\n",
              "      <script>\n",
              "        const buttonEl =\n",
              "          document.querySelector('#df-2cd2dc97-f68a-4eae-b128-c88206d364c7 button.colab-df-convert');\n",
              "        buttonEl.style.display =\n",
              "          google.colab.kernel.accessAllowed ? 'block' : 'none';\n",
              "\n",
              "        async function convertToInteractive(key) {\n",
              "          const element = document.querySelector('#df-2cd2dc97-f68a-4eae-b128-c88206d364c7');\n",
              "          const dataTable =\n",
              "            await google.colab.kernel.invokeFunction('convertToInteractive',\n",
              "                                                     [key], {});\n",
              "          if (!dataTable) return;\n",
              "\n",
              "          const docLinkHtml = 'Like what you see? Visit the ' +\n",
              "            '<a target=\"_blank\" href=https://colab.research.google.com/notebooks/data_table.ipynb>data table notebook</a>'\n",
              "            + ' to learn more about interactive tables.';\n",
              "          element.innerHTML = '';\n",
              "          dataTable['output_type'] = 'display_data';\n",
              "          await google.colab.output.renderOutput(dataTable, element);\n",
              "          const docLink = document.createElement('div');\n",
              "          docLink.innerHTML = docLinkHtml;\n",
              "          element.appendChild(docLink);\n",
              "        }\n",
              "      </script>\n",
              "    </div>\n",
              "  </div>\n",
              "  "
            ],
            "text/plain": [
              "            #Passengers\n",
              "Month                  \n",
              "1949-02-01          NaN\n",
              "1949-03-01          8.0\n",
              "1949-04-01        -17.0\n",
              "1949-05-01         -5.0\n",
              "1949-06-01         22.0\n",
              "...                 ...\n",
              "1960-08-01       -103.0\n",
              "1960-09-01        -82.0\n",
              "1960-10-01         51.0\n",
              "1960-11-01        -24.0\n",
              "1960-12-01        113.0\n",
              "\n",
              "[143 rows x 1 columns]"
            ]
          },
          "metadata": {},
          "execution_count": 10
        }
      ],
      "source": [
        "# Use 'diff(1)' function to perform second-order differencing on differenced DataFrame.\n",
        "airpass_diff2 = airpass_diff1.diff(1)\n",
        "airpass_diff2"
      ]
    },
    {
      "cell_type": "code",
      "execution_count": null,
      "metadata": {
        "colab": {
          "base_uri": "https://localhost:8080/"
        },
        "id": "ZIbCP3E3te_a",
        "outputId": "62ad1579-f906-4749-91f0-2dc6941260ac"
      },
      "outputs": [
        {
          "output_type": "stream",
          "name": "stdout",
          "text": [
            "ADF Statistic: -16.384231542468513\n",
            "p-value:  2.7328918500142026e-29\n"
          ]
        }
      ],
      "source": [
        "# Remove NaN values and check stationarity of the time series data\n",
        "airpass_diff2.dropna(inplace = True)\n",
        "adf_df3 = adfuller(airpass_diff2['#Passengers'])\n",
        "print('ADF Statistic:', adf_df3[0])\n",
        "print('p-value: ', adf_df3[1])"
      ]
    },
    {
      "cell_type": "markdown",
      "metadata": {
        "id": "5IiuvYVlmNzJ"
      },
      "source": [
        "---"
      ]
    },
    {
      "cell_type": "markdown",
      "metadata": {
        "id": "shlBr9uJxdWE"
      },
      "source": [
        "#### Accuracy Metrics for Time Series Forecast\n",
        "\n",
        "The two widely used accuracy metrics other than RMSE and MAE  for judging forecast performance are:\n",
        "1. Mean Absolute Percentage Error (MAPE)\n",
        "2. Akaike Information Criterion (AIC)\n",
        "\n",
        "**1. Mean Absolute Percentage Error (MAPE)**\n",
        "\n",
        "- MAPE is used to estimate the accuracy in terms of the differences in the actual v/s predicted values.\n",
        "- MAPE is calculated as:\n",
        "\n",
        "\\begin{align}\n",
        "\\text{MAPE} & = \\frac{1}{n}\\sum^{n}_{t=1} \\bigg | \\frac{A_t - F_t}{A_t} \\bigg |\n",
        "\\end{align}\n",
        "\n",
        "Where,\n",
        " - $n$ is the number of observations.\n",
        " - $A_t$ is the actual value at time $\\text{t}$.\n",
        " - $F_t$ is the forecast/predicted value at time $\\text{t}$.\n",
        "\n",
        "MAPE is usually expressed in terms of percentage. Lower the MAPE, better fit is the model.\n",
        "\n",
        "Let us create a user-defined function to calculate MAPE using the Python `numpy` module. We will use this function later in the upcoming activity to calculate MAPE value for Air passenger dataset.\n",
        "\n",
        "\n"
      ]
    },
    {
      "cell_type": "code",
      "execution_count": null,
      "metadata": {
        "id": "uCkTElG02gz9"
      },
      "outputs": [],
      "source": [
        "# Define a function to calculate MAPE.\n",
        "def calculate_mape(y_actual, y_predicted):\n",
        "  mape = np.mean(np.abs((y_actual - y_predicted)/y_actual)) * 100\n",
        "  return mape"
      ]
    },
    {
      "cell_type": "markdown",
      "metadata": {
        "id": "uU8fJqLN27Nk"
      },
      "source": [
        "**2. Akaike Information Criterion (AIC)**\n",
        "\n",
        "- AIC is a single number score that is used to determine which model is the best model out of  multiple models for a given dataset.\n",
        "- AIC scores are only useful in comparison with other AIC scores for the same dataset.\n",
        "- AIC measures the information loss, so the **model with a lower AIC score indicates a better fit**.\n",
        "- It is calculated using the formula:\n",
        "\n",
        "\\begin{align}\n",
        "\\text{AIC} & = n \\times \\text{log(MSE)} + 2k\n",
        "\\end{align}\n",
        "\n",
        "Where,\n",
        " - $n$: Number of observations.\n",
        " - $\\text{log(MSE)}$: Log of Mean Squared Error.\n",
        " - $k$: Number of features. In our case, there is only 1 feature i.e `#Passengers`. Thus, `k = 1`.\n",
        "\n",
        "A handy way to calculate AIC score for a model is to use `aic` attribute of `ARIMA` object. We will use this attribute in the upcoming section.\n",
        "\n",
        "Let us now estimate hyperparameter values for ARIMA and also explore an alternative approach that can be used for estimating these values."
      ]
    },
    {
      "cell_type": "markdown",
      "metadata": {
        "id": "jlAri8WC861y"
      },
      "source": [
        "---"
      ]
    },
    {
      "cell_type": "markdown",
      "metadata": {
        "id": "JpyPZe6xmTfh"
      },
      "source": [
        "#### Estimating Hyperparameter Values of ARIMA\n",
        "\n",
        "Here, we will estimate the values of order p and q:\n",
        "\n",
        "1. To estimate order `p`, Partial Autocorrelation Function (PACF) plot is used.\n",
        "2. To estimate order `q`, Autocorrelation Function (ACF) plot is used.\n"
      ]
    },
    {
      "cell_type": "code",
      "execution_count": null,
      "metadata": {
        "colab": {
          "base_uri": "https://localhost:8080/",
          "height": 281
        },
        "id": "NIqj6Slytosa",
        "outputId": "4e4f3502-f0d2-45df-8d0a-9b659a88c73d"
      },
      "outputs": [
        {
          "output_type": "display_data",
          "data": {
            "image/png": "[encoded data removed]",
            "text/plain": [
              "<Figure size 432x288 with 1 Axes>"
            ]
          },
          "metadata": {
            "needs_background": "light"
          }
        }
      ],
      "source": [
        "# Plot PACF\n",
        "from statsmodels.graphics.tsaplots import plot_pacf\n",
        "plot_pacf(airpass_diff2, lags = 10)\n",
        "plt.show()"
      ]
    },
    {
      "cell_type": "code",
      "execution_count": null,
      "metadata": {
        "colab": {
          "base_uri": "https://localhost:8080/",
          "height": 281
        },
        "id": "p7klOyJhuDvr",
        "outputId": "d2e6a641-3aa1-425a-b8f6-a12b880d9a7a"
      },
      "outputs": [
        {
          "output_type": "display_data",
          "data": {
            "image/png": "[encoded data removed]",
            "text/plain": [
              "<Figure size 432x288 with 1 Axes>"
            ]
          },
          "metadata": {
            "needs_background": "light"
          }
        }
      ],
      "source": [
        "# Plot ACF\n",
        "from statsmodels.graphics.tsaplots import plot_acf\n",
        "plot_acf(airpass_diff2, lags = 10)\n",
        "plt.show()"
      ]
    },
    {
      "cell_type": "markdown",
      "metadata": {
        "id": "7ZjwRMVSoRbJ"
      },
      "source": [
        "\n",
        "An alternative approach to finding optimal hyperparameter values without using ACF and PACF plots is to automate the process of training and evaluating ARIMA models on different combinations of model hyperparameters. In machine learning this is called a **grid search** or **model tuning**.\n",
        "\n",
        "<br/>\n",
        "\n",
        "**Grid Searching Method:**\n",
        "\n",
        "In this technique, we will simply iterate through a grid of `p`, `d`, and `q` ARIMA parameters and evaluate model performance for each set of parameters using AIC values.\n",
        "\n",
        "Let us first define a grid of three variables `p`, `d`, and `q`, where `p` and `q` ranges from `0` to `4` and `d` ranges from `0` to `2`.\n",
        "\n"
      ]
    },
    {
      "cell_type": "code",
      "execution_count": null,
      "metadata": {
        "id": "mjcFFOYW9-Ou"
      },
      "outputs": [],
      "source": [
        "# Initiate 'p', 'd' and 'q' parameter grid.\n",
        "p = range(0, 5)\n",
        "q = range(0, 5)\n",
        "d = range(0, 3)"
      ]
    },
    {
      "cell_type": "markdown",
      "metadata": {
        "id": "nTlRYz5OAd8v"
      },
      "source": [
        "Now we need multiple combinations of `(p, d, q)` values like: `(0, 0, 0)`, `(0, 0, 1)`, `(0, 0, 2)` $\\dots$ `,(4, 2, 3)`, `(4, 2, 4)`\n",
        "\n",
        "This looks like the Cartesian product of `p`, `d`, and `q` variables.\n",
        "\n",
        "To obtain such combination of values, use `product()` function of `itertools` module which finds the cartesian product from the given iterator.\n",
        "\n",
        "**Note:** Python **`itertools`** is a library in Python which consists of multiple methods that are used in various iterators to compute a fast and code efficient solution."
      ]
    },
    {
      "cell_type": "code",
      "execution_count": null,
      "metadata": {
        "colab": {
          "base_uri": "https://localhost:8080/"
        },
        "id": "dUQTGB0lowsU",
        "outputId": "1956dbef-79d2-4adc-a009-b27e4a9791af"
      },
      "outputs": [
        {
          "output_type": "stream",
          "name": "stdout",
          "text": [
            "[(0, 0, 0), (0, 0, 1), (0, 0, 2), (0, 0, 3), (0, 0, 4), (0, 1, 0), (0, 1, 1), (0, 1, 2), (0, 1, 3), (0, 1, 4), (0, 2, 0), (0, 2, 1), (0, 2, 2), (0, 2, 3), (0, 2, 4), (1, 0, 0), (1, 0, 1), (1, 0, 2), (1, 0, 3), (1, 0, 4), (1, 1, 0), (1, 1, 1), (1, 1, 2), (1, 1, 3), (1, 1, 4), (1, 2, 0), (1, 2, 1), (1, 2, 2), (1, 2, 3), (1, 2, 4), (2, 0, 0), (2, 0, 1), (2, 0, 2), (2, 0, 3), (2, 0, 4), (2, 1, 0), (2, 1, 1), (2, 1, 2), (2, 1, 3), (2, 1, 4), (2, 2, 0), (2, 2, 1), (2, 2, 2), (2, 2, 3), (2, 2, 4), (3, 0, 0), (3, 0, 1), (3, 0, 2), (3, 0, 3), (3, 0, 4), (3, 1, 0), (3, 1, 1), (3, 1, 2), (3, 1, 3), (3, 1, 4), (3, 2, 0), (3, 2, 1), (3, 2, 2), (3, 2, 3), (3, 2, 4), (4, 0, 0), (4, 0, 1), (4, 0, 2), (4, 0, 3), (4, 0, 4), (4, 1, 0), (4, 1, 1), (4, 1, 2), (4, 1, 3), (4, 1, 4), (4, 2, 0), (4, 2, 1), (4, 2, 2), (4, 2, 3), (4, 2, 4)]\n"
          ]
        }
      ],
      "source": [
        "# Create combinations of 'p', 'd' and 'q' values.\n",
        "import itertools\n",
        "pdq_combination = list(itertools.product(p, d, q)) # return the list of all the computed tuple\n",
        "print(pdq_combination)"
      ]
    },
    {
      "cell_type": "markdown",
      "metadata": {
        "id": "Ug0s1yp4C7k2"
      },
      "source": [
        "Now that we have obtained all possible combinations of `p`, `d`, and `q` parameter values, let us build ARIMA model for each set of parameter values and determine the AIC score of each model. Also, check which set of parameter values returns the lowest AIC score.\n",
        "\n",
        "Follow the steps given below to perform grid search hyperparameter tuning for ARIMA:\n",
        "\n",
        "1. Import `ARIMA` class from `statsmodels.tsa.arima_model` module.\n",
        "\n",
        "2. Initialise two variables `lowest_aic` and `best_params` to `float(\"inf\")` and `None` respectively. The `float(\"inf\")` will set the variable with an infinitely large value. Here,\n",
        "  - The `lowest_aic` variable will store the lowest AIC score obtained out of all AIC scores.\n",
        "  - The `best_params` variable will store the `(p, d, q)` values for which the model AIC score is the lowest.\n",
        "\n",
        "3. Initiate a `for` loop that iterates through every combination of `(p, d, q)` values stored in `pdq_combination` variable. Inside this `for` loop,\n",
        " - Add a `try` block and `except` block to catch and handle some errors/exceptions that might result from different hyperparameter values. We need not study in detail the use of these error handling blocks.\n",
        "\n",
        " - Inside the `try` block, create an object of `ARIMA` class and pass the following inputs:\n",
        "    - `airpass_in_df`:  The original indexed DataFrame. You can also perform train-test split and train the model using train set.\n",
        "    - `order = pdq`: Each combination of hyperparameter values from `pdq_combination`.\n",
        "\n",
        " - Call the `fit()` function using the object of `ARIMA`.\n",
        "\n",
        " - Determine the AIC score of the current model using `aic` attribute of `ARIMA` object and store this value in a variable `aic_m`. Print the  hyperparameter values and the AIC score of the current instance model.\n",
        "\n",
        " - Compare `aic_m` and `lowest_aic` values.\n",
        "    - If  `aic_m < lowest_aic`, then store current AIC i.e `aic_m` value in `lowest_aic` variable and current order i.e `pdq` value in `best_params` variable.\n",
        "  \n",
        "  In this way, for every iteration, an ARIMA model is created for a set of hyperparameter values and then the AIC score for that model is determined. If that AIC score is less than the last lowest AIC score, then replace the lowest AIC score with the current AIC score.\n",
        "\n",
        "4. Finally, print the best hyperparameter values exhibiting lowest AIC score by printing `best_params` and `lowest_aic` variables.\n",
        "\n",
        "\n",
        "\n",
        "**Note:** This execution will generate a lot of unnecessary warnings. To remove these warnings, add the following code to the below code cell.\n",
        "\n",
        "```python\n",
        "import warnings\n",
        "warnings.filterwarnings(\"ignore\")\n",
        "```"
      ]
    },
    {
      "cell_type": "code",
      "execution_count": null,
      "metadata": {
        "colab": {
          "base_uri": "https://localhost:8080/"
        },
        "id": "OWC1ag3_svMM",
        "outputId": "2711be2f-04df-4c32-abeb-6c466a2e42db"
      },
      "outputs": [
        {
          "output_type": "stream",
          "name": "stdout",
          "text": [
            "ARIMA(0, 0, 0) AIC=1790.368\n",
            "ARIMA(0, 0, 1) AIC=1618.863\n",
            "ARIMA(0, 1, 0) AIC=1415.278\n",
            "ARIMA(0, 1, 1) AIC=1398.827\n",
            "ARIMA(0, 1, 2) AIC=1398.386\n",
            "ARIMA(0, 1, 3) AIC=1381.664\n",
            "ARIMA(0, 1, 4) AIC=1357.315\n",
            "ARIMA(0, 2, 0) AIC=1452.590\n",
            "ARIMA(0, 2, 1) AIC=1413.363\n",
            "ARIMA(0, 2, 2) AIC=1396.372\n",
            "ARIMA(0, 2, 3) AIC=1396.408\n",
            "ARIMA(1, 0, 0) AIC=1428.179\n",
            "ARIMA(1, 0, 1) AIC=1409.748\n",
            "ARIMA(1, 0, 2) AIC=1411.050\n",
            "ARIMA(1, 0, 3) AIC=1420.734\n",
            "ARIMA(1, 0, 4) AIC=2360.428\n",
            "ARIMA(1, 1, 0) AIC=1403.473\n",
            "ARIMA(1, 1, 1) AIC=1402.145\n",
            "ARIMA(1, 1, 2) AIC=1371.815\n",
            "ARIMA(1, 1, 3) AIC=1373.076\n",
            "ARIMA(1, 1, 4) AIC=1359.167\n",
            "ARIMA(1, 2, 0) AIC=1449.026\n",
            "ARIMA(1, 2, 2) AIC=1393.908\n",
            "ARIMA(1, 2, 3) AIC=1394.467\n",
            "ARIMA(1, 2, 4) AIC=1396.217\n",
            "ARIMA(2, 0, 0) AIC=1413.639\n",
            "ARIMA(2, 0, 1) AIC=1408.249\n",
            "ARIMA(2, 0, 2) AIC=1464.437\n",
            "ARIMA(2, 0, 3) AIC=1430.704\n",
            "ARIMA(2, 0, 4) AIC=2587.983\n",
            "ARIMA(2, 1, 0) AIC=1397.975\n",
            "ARIMA(2, 1, 1) AIC=1361.696\n",
            "ARIMA(2, 1, 2) AIC=1344.043\n",
            "ARIMA(2, 1, 3) AIC=1343.278\n",
            "ARIMA(2, 1, 4) AIC=1338.585\n",
            "ARIMA(2, 2, 0) AIC=1442.078\n",
            "ARIMA(2, 2, 2) AIC=1394.656\n",
            "ARIMA(2, 2, 4) AIC=1380.622\n",
            "ARIMA(3, 0, 0) AIC=1410.342\n",
            "ARIMA(3, 0, 1) AIC=1395.289\n",
            "ARIMA(3, 0, 2) AIC=1379.297\n",
            "ARIMA(3, 0, 3) AIC=1376.450\n",
            "ARIMA(3, 0, 4) AIC=1378.408\n",
            "ARIMA(3, 1, 0) AIC=1396.151\n",
            "ARIMA(3, 1, 1) AIC=1362.451\n",
            "ARIMA(3, 1, 2) AIC=1360.750\n",
            "ARIMA(3, 1, 3) AIC=1336.776\n",
            "ARIMA(3, 1, 4) AIC=1340.581\n",
            "ARIMA(3, 2, 0) AIC=1439.877\n",
            "ARIMA(3, 2, 2) AIC=1395.156\n",
            "ARIMA(3, 2, 3) AIC=1366.155\n",
            "ARIMA(3, 2, 4) AIC=1381.066\n",
            "ARIMA(4, 0, 0) AIC=1409.758\n",
            "ARIMA(4, 0, 1) AIC=1507.985\n",
            "ARIMA(4, 0, 2) AIC=1391.783\n",
            "ARIMA(4, 0, 3) AIC=1371.709\n",
            "ARIMA(4, 0, 4) AIC=1379.686\n",
            "ARIMA(4, 1, 0) AIC=1388.510\n",
            "ARIMA(4, 1, 1) AIC=1361.715\n",
            "ARIMA(4, 1, 2) AIC=1356.151\n",
            "ARIMA(4, 1, 4) AIC=1332.955\n",
            "ARIMA(4, 2, 0) AIC=1421.694\n",
            "ARIMA(4, 2, 1) AIC=1387.198\n",
            "ARIMA(4, 2, 2) AIC=1383.257\n",
            "ARIMA(4, 2, 4) AIC=1376.793\n",
            "Best ARIMA (4, 1, 4) AIC=1332.955\n"
          ]
        }
      ],
      "source": [
        "# Perform Grid Search Hyperparameter tuning for ARIMA\n",
        "import warnings\n",
        "warnings.filterwarnings(\"ignore\")\n",
        "\n",
        "from statsmodels.tsa.arima_model import ARIMA\n",
        "\n",
        "lowest_aic, best_params = float(\"inf\"), None\n",
        "\n",
        "for pdq in pdq_combination:\n",
        "  try:\n",
        "    model = ARIMA(airpass_in_df, order = pdq).fit()\n",
        "    aic_m = model.aic\n",
        "\n",
        "    print(f'ARIMA{pdq} AIC={aic_m:.3f}')\n",
        "    if aic_m < lowest_aic:\n",
        "      lowest_aic, best_params = aic_m, pdq\n",
        "\n",
        "  except:\n",
        "    continue\n",
        "\n",
        "print(f'Best ARIMA {best_params} AIC={lowest_aic:.3f}')"
      ]
    },
    {
      "cell_type": "code",
      "execution_count": null,
      "metadata": {
        "colab": {
          "base_uri": "https://localhost:8080/"
        },
        "id": "_v19tTShuNKF",
        "outputId": "d6da42e2-cd7a-4c17-dddc-958426197dd4"
      },
      "outputs": [
        {
          "output_type": "execute_result",
          "data": {
            "text/plain": [
              "1332.9549969619318"
            ]
          },
          "metadata": {},
          "execution_count": 18
        }
      ],
      "source": [
        "# Build ARIMA model with optimal order values for entire dataset.\n",
        "arima_1 = ARIMA(airpass_in_df, order = (4, 1, 4)).fit()\n",
        "arima_1.aic"
      ]
    },
    {
      "cell_type": "code",
      "execution_count": null,
      "metadata": {
        "colab": {
          "base_uri": "https://localhost:8080/",
          "height": 372
        },
        "id": "OOVvjPbBuYgr",
        "outputId": "f597d38e-ca57-45f8-8969-e7725fcc900c"
      },
      "outputs": [
        {
          "output_type": "stream",
          "name": "stdout",
          "text": [
            "MAE: 18.246955384784968\n",
            "RMSE: 23.282991464973207\n",
            "MAPE: 6.762105744000019\n"
          ]
        },
        {
          "output_type": "display_data",
          "data": {
            "image/png": "[encoded data removed]",
            "text/plain": [
              "<Figure size 720x360 with 1 Axes>"
            ]
          },
          "metadata": {
            "needs_background": "light"
          }
        }
      ],
      "source": [
        "# Perform prediction using 'predict()' function for original dataset.\n",
        "\n",
        "from sklearn.metrics import mean_absolute_error, mean_squared_error\n",
        "\n",
        "# Predict using `predict()` function with start = 1 and end = (total observations - 1)\n",
        "pred = arima_1.predict(1, len(airpass_in_df) - 1, typ = 'levels' )\n",
        "\n",
        "# Print MAE, RMSE, MAPE values\n",
        "print(\"MAE:\", mean_absolute_error(airpass_in_df[1:], pred))\n",
        "print(\"RMSE:\", np.sqrt(mean_squared_error(airpass_in_df[1:], pred)))\n",
        "\n",
        "print(\"MAPE:\", calculate_mape(airpass_in_df['#Passengers'].iloc[1:], pred))\n",
        "\n",
        "# Plot predictions and actual values\n",
        "plt.figure(figsize=(10, 5))\n",
        "plt.plot(pred, label = 'Predicted #Passengers')\n",
        "plt.plot(airpass_in_df['#Passengers'], label = 'Original #Passengers')\n",
        "plt.legend()\n",
        "plt.show()"
      ]
    },
    {
      "cell_type": "markdown",
      "metadata": {
        "id": "bEbToA6CYyDl"
      },
      "source": [
        "\n",
        "**Forecasting Future:**\n",
        "\n",
        "Let us forecast future values using this ARIMA model by applying `predict()` function.\n",
        "\n",
        "We have 144 (existing data of 12 yrs in months) data points. Now, we want to forecast for additional 10 yrs (i.e $10 \\times 12 \\text{ months} = 120$ data points).\n",
        "\n",
        "Thus, the start index for `predict()` function would be $144$ and end index would be $144 + 120 = 264$ records/data points."
      ]
    },
    {
      "cell_type": "code",
      "execution_count": null,
      "metadata": {
        "colab": {
          "base_uri": "https://localhost:8080/",
          "height": 320
        },
        "id": "F4A46B2pQVFR",
        "outputId": "fc9cb904-7651-40d5-e9a2-774be4d6f7da"
      },
      "outputs": [
        {
          "output_type": "display_data",
          "data": {
            "image/png": "[encoded data removed]",
            "text/plain": [
              "<Figure size 720x360 with 1 Axes>"
            ]
          },
          "metadata": {
            "needs_background": "light"
          }
        }
      ],
      "source": [
        "# Perform prediction for new values. Plot the forecast values\n",
        "arima_forecast = arima_1.predict(start = 144, end = 264, typ = 'levels')\n",
        "plt.figure(figsize=(10, 5))\n",
        "plt.plot(arima_forecast, label = 'Forecast future values')\n",
        "plt.plot(airpass_in_df['#Passengers'], label = 'Original values')\n",
        "plt.legend()\n",
        "plt.show()"
      ]
    },
    {
      "cell_type": "markdown",
      "metadata": {
        "id": "x9_bjYwL9aHI"
      },
      "source": [
        "From the above plot we can conclude that this ARIMA model is able to capture the upward trend but is not able to capture the **Seasonality** of the time series data.\n",
        "\n",
        "To incorporate the effect of seasonality in time series, we will use another time series forecasting model called as **Seasonal ARIMA** or **SARIMA**.\n",
        "\n"
      ]
    },
    {
      "cell_type": "markdown",
      "metadata": {
        "id": "u81fcFpXgIBC"
      },
      "source": [
        "---"
      ]
    },
    {
      "cell_type": "markdown",
      "source": [
        "#### Activity 1: Understanding Seasonal Time Series\n",
        "\n",
        "In one of the previous classes, we had explored  Seasonality and Seasonal Differencing. Let us recall that.\n",
        "\n",
        "**Seasonality:**\n",
        "- Seasonality is used to find the variations which occur at regular intervals of time.\n",
        "- A seasonal time series has patterns that repeat at regular intervals, for example high sales at every weekend as shown in image below:\n",
        "  <center><img src=\"https://s3-whjr-v2-prod-bucket.whjr.online/whjr-v2-prod-bucket/ff3ed7e4-1264-4143-8a74-73ebd4a5dc7a.PNG\"/>\n",
        "\n",
        "  `An example of a seasonal time series` </center>\n",
        "\n",
        "- This is a repeating pattern within a fixed period.\n",
        "\n",
        "\n",
        "**Seasonal Differencing:**\n",
        "\n",
        "A seasonal difference is the difference between an observation and the previous observation from the same season. It can be written as:\n",
        "\n",
        "$$y'_t = y_t - y_{t-m}$$\n",
        "\n",
        "Where $m$ is the number of seasons. These are also called **lag-$m$ differences**, as we subtract the observation after a lag of $m$ periods.\n",
        "\n",
        "Thus, if $m=12$, the differences are taken between original observations that are a year apart from each\n",
        "other (for example, lag value for Jan 1990 will be obtained by subtracting its value from Jan 1989).\n",
        "\n",
        "You can perform seasonal differencing using `diff(m)` function of pandas DataFrame where `m` is seasonal period. Let us perform seasonal differencing for the first-order differenced dataset using `diff(12)` function."
      ],
      "metadata": {
        "id": "rgXXhknl5zw3"
      }
    },
    {
      "cell_type": "code",
      "execution_count": null,
      "metadata": {
        "colab": {
          "base_uri": "https://localhost:8080/",
          "height": 708
        },
        "id": "Ls4pG5RKIEOB",
        "outputId": "8e1f4e58-b44e-4658-f1bc-c396a69087e4"
      },
      "outputs": [
        {
          "output_type": "execute_result",
          "data": {
            "text/html": [
              "\n",
              "  <div id=\"df-c574a364-3a65-47bc-9c70-fa199a0b05aa\">\n",
              "    <div class=\"colab-df-container\">\n",
              "      <div>\n",
              "<style scoped>\n",
              "    .dataframe tbody tr th:only-of-type {\n",
              "        vertical-align: middle;\n",
              "    }\n",
              "\n",
              "    .dataframe tbody tr th {\n",
              "        vertical-align: top;\n",
              "    }\n",
              "\n",
              "    .dataframe thead th {\n",
              "        text-align: right;\n",
              "    }\n",
              "</style>\n",
              "<table border=\"1\" class=\"dataframe\">\n",
              "  <thead>\n",
              "    <tr style=\"text-align: right;\">\n",
              "      <th></th>\n",
              "      <th>#Passengers</th>\n",
              "    </tr>\n",
              "    <tr>\n",
              "      <th>Month</th>\n",
              "      <th></th>\n",
              "    </tr>\n",
              "  </thead>\n",
              "  <tbody>\n",
              "    <tr>\n",
              "      <th>1949-02-01</th>\n",
              "      <td>NaN</td>\n",
              "    </tr>\n",
              "    <tr>\n",
              "      <th>1949-03-01</th>\n",
              "      <td>NaN</td>\n",
              "    </tr>\n",
              "    <tr>\n",
              "      <th>1949-04-01</th>\n",
              "      <td>NaN</td>\n",
              "    </tr>\n",
              "    <tr>\n",
              "      <th>1949-05-01</th>\n",
              "      <td>NaN</td>\n",
              "    </tr>\n",
              "    <tr>\n",
              "      <th>1949-06-01</th>\n",
              "      <td>NaN</td>\n",
              "    </tr>\n",
              "    <tr>\n",
              "      <th>1949-07-01</th>\n",
              "      <td>NaN</td>\n",
              "    </tr>\n",
              "    <tr>\n",
              "      <th>1949-08-01</th>\n",
              "      <td>NaN</td>\n",
              "    </tr>\n",
              "    <tr>\n",
              "      <th>1949-09-01</th>\n",
              "      <td>NaN</td>\n",
              "    </tr>\n",
              "    <tr>\n",
              "      <th>1949-10-01</th>\n",
              "      <td>NaN</td>\n",
              "    </tr>\n",
              "    <tr>\n",
              "      <th>1949-11-01</th>\n",
              "      <td>NaN</td>\n",
              "    </tr>\n",
              "    <tr>\n",
              "      <th>1949-12-01</th>\n",
              "      <td>NaN</td>\n",
              "    </tr>\n",
              "    <tr>\n",
              "      <th>1950-01-01</th>\n",
              "      <td>NaN</td>\n",
              "    </tr>\n",
              "    <tr>\n",
              "      <th>1950-02-01</th>\n",
              "      <td>5.0</td>\n",
              "    </tr>\n",
              "    <tr>\n",
              "      <th>1950-03-01</th>\n",
              "      <td>1.0</td>\n",
              "    </tr>\n",
              "    <tr>\n",
              "      <th>1950-04-01</th>\n",
              "      <td>-3.0</td>\n",
              "    </tr>\n",
              "    <tr>\n",
              "      <th>1950-05-01</th>\n",
              "      <td>-2.0</td>\n",
              "    </tr>\n",
              "    <tr>\n",
              "      <th>1950-06-01</th>\n",
              "      <td>10.0</td>\n",
              "    </tr>\n",
              "    <tr>\n",
              "      <th>1950-07-01</th>\n",
              "      <td>8.0</td>\n",
              "    </tr>\n",
              "    <tr>\n",
              "      <th>1950-08-01</th>\n",
              "      <td>0.0</td>\n",
              "    </tr>\n",
              "    <tr>\n",
              "      <th>1950-09-01</th>\n",
              "      <td>0.0</td>\n",
              "    </tr>\n",
              "  </tbody>\n",
              "</table>\n",
              "</div>\n",
              "      <button class=\"colab-df-convert\" onclick=\"convertToInteractive('df-c574a364-3a65-47bc-9c70-fa199a0b05aa')\"\n",
              "              title=\"Convert this dataframe to an interactive table.\"\n",
              "              style=\"display:none;\">\n",
              "        \n",
              "  <svg xmlns=\"http://www.w3.org/2000/svg\" height=\"24px\"viewBox=\"0 0 24 24\"\n",
              "       width=\"24px\">\n",
              "    <path d=\"M0 0h24v24H0V0z\" fill=\"none\"/>\n",
              "    <path d=\"M18.56 5.44l.94 2.06.94-2.06 2.06-.94-2.06-.94-.94-2.06-.94 2.06-2.06.94zm-11 1L8.5 8.5l.94-2.06 2.06-.94-2.06-.94L8.5 2.5l-.94 2.06-2.06.94zm10 10l.94 2.06.94-2.06 2.06-.94-2.06-.94-.94-2.06-.94 2.06-2.06.94z\"/><path d=\"M17.41 7.96l-1.37-1.37c-.4-.4-.92-.59-1.43-.59-.52 0-1.04.2-1.43.59L10.3 9.45l-7.72 7.72c-.78.78-.78 2.05 0 2.83L4 21.41c.39.39.9.59 1.41.59.51 0 1.02-.2 1.41-.59l7.78-7.78 2.81-2.81c.8-.78.8-2.07 0-2.86zM5.41 20L4 18.59l7.72-7.72 1.47 1.35L5.41 20z\"/>\n",
              "  </svg>\n",
              "      </button>\n",
              "      \n",
              "  <style>\n",
              "    .colab-df-container {\n",
              "      display:flex;\n",
              "      flex-wrap:wrap;\n",
              "      gap: 12px;\n",
              "    }\n",
              "\n",
              "    .colab-df-convert {\n",
              "      background-color: #E8F0FE;\n",
              "      border: none;\n",
              "      border-radius: 50%;\n",
              "      cursor: pointer;\n",
              "      display: none;\n",
              "      fill: #1967D2;\n",
              "      height: 32px;\n",
              "      padding: 0 0 0 0;\n",
              "      width: 32px;\n",
              "    }\n",
              "\n",
              "    .colab-df-convert:hover {\n",
              "      background-color: #E2EBFA;\n",
              "      box-shadow: 0px 1px 2px rgba(60, 64, 67, 0.3), 0px 1px 3px 1px rgba(60, 64, 67, 0.15);\n",
              "      fill: #174EA6;\n",
              "    }\n",
              "\n",
              "    [theme=dark] .colab-df-convert {\n",
              "      background-color: #3B4455;\n",
              "      fill: #D2E3FC;\n",
              "    }\n",
              "\n",
              "    [theme=dark] .colab-df-convert:hover {\n",
              "      background-color: #434B5C;\n",
              "      box-shadow: 0px 1px 3px 1px rgba(0, 0, 0, 0.15);\n",
              "      filter: drop-shadow(0px 1px 2px rgba(0, 0, 0, 0.3));\n",
              "      fill: #FFFFFF;\n",
              "    }\n",
              "  </style>\n",
              "\n",
              "      <script>\n",
              "        const buttonEl =\n",
              "          document.querySelector('#df-c574a364-3a65-47bc-9c70-fa199a0b05aa button.colab-df-convert');\n",
              "        buttonEl.style.display =\n",
              "          google.colab.kernel.accessAllowed ? 'block' : 'none';\n",
              "\n",
              "        async function convertToInteractive(key) {\n",
              "          const element = document.querySelector('#df-c574a364-3a65-47bc-9c70-fa199a0b05aa');\n",
              "          const dataTable =\n",
              "            await google.colab.kernel.invokeFunction('convertToInteractive',\n",
              "                                                     [key], {});\n",
              "          if (!dataTable) return;\n",
              "\n",
              "          const docLinkHtml = 'Like what you see? Visit the ' +\n",
              "            '<a target=\"_blank\" href=https://colab.research.google.com/notebooks/data_table.ipynb>data table notebook</a>'\n",
              "            + ' to learn more about interactive tables.';\n",
              "          element.innerHTML = '';\n",
              "          dataTable['output_type'] = 'display_data';\n",
              "          await google.colab.output.renderOutput(dataTable, element);\n",
              "          const docLink = document.createElement('div');\n",
              "          docLink.innerHTML = docLinkHtml;\n",
              "          element.appendChild(docLink);\n",
              "        }\n",
              "      </script>\n",
              "    </div>\n",
              "  </div>\n",
              "  "
            ],
            "text/plain": [
              "            #Passengers\n",
              "Month                  \n",
              "1949-02-01          NaN\n",
              "1949-03-01          NaN\n",
              "1949-04-01          NaN\n",
              "1949-05-01          NaN\n",
              "1949-06-01          NaN\n",
              "1949-07-01          NaN\n",
              "1949-08-01          NaN\n",
              "1949-09-01          NaN\n",
              "1949-10-01          NaN\n",
              "1949-11-01          NaN\n",
              "1949-12-01          NaN\n",
              "1950-01-01          NaN\n",
              "1950-02-01          5.0\n",
              "1950-03-01          1.0\n",
              "1950-04-01         -3.0\n",
              "1950-05-01         -2.0\n",
              "1950-06-01         10.0\n",
              "1950-07-01          8.0\n",
              "1950-08-01          0.0\n",
              "1950-09-01          0.0"
            ]
          },
          "metadata": {},
          "execution_count": 21
        }
      ],
      "source": [
        "# S1.1: Perform seasonal differencing for first-order differenced dataset.\n",
        "seasonal_diff = airpass_diff1.diff(12)\n",
        "seasonal_diff.head(20)"
      ]
    },
    {
      "cell_type": "markdown",
      "source": [
        "You may observe that the seasonal differencing returned null values in its first 12 elements. The lag value at `1950-02-01` will be obtained by subtracting the original sales value of `1949-02-01`\t from `1950-02-01`. Let us now understand the concept of Seasonal ARIMA."
      ],
      "metadata": {
        "id": "Xvc8fhphPssz"
      }
    },
    {
      "cell_type": "markdown",
      "source": [
        "---"
      ],
      "metadata": {
        "id": "BClLQUYl6IsF"
      }
    },
    {
      "cell_type": "markdown",
      "metadata": {
        "id": "7_stlSPVAqId"
      },
      "source": [
        "#### Understanding Seasonal ARIMA\n",
        "\n",
        "A seasonal ARIMA or SARIMA models are ARIMA models with a seasonal component. It allows for the occurrence of seasonality in a series.\n",
        "\n",
        "The seasonal ARIMA model combines both non-seasonal and seasonal components. A SARIMA model with both non-seasonal and seasonal orders is as follows:\n",
        "\n",
        "$$\\text{SARIMA} \\underbrace{(p, d, q)}_\\text{non-seasonal} \\underbrace{(P, D, Q)m}_\\text{seasonal}$$\n",
        "\n",
        "Here,\n",
        "- $p$, $d$ and $q$ are non-seasonal ARIMA orders.\n",
        "- $m$ is the number of observations per year.\n",
        "\n",
        "- $P$ is the Seasonal Autoregressive (AR) order.\n",
        "- $D$  is the Seasonal Differencing order.\n",
        "\n",
        "- $Q$ is the Seasonal Moving Average (MA) order.\n",
        "\n",
        "The seasonal part of the model contains terms that are like non-seasonal components of the model but that involve lagged values of the $m$ periods.\n",
        "\n",
        "Let us compare a simple ARIMA and SARIMA model:\n",
        "\n",
        "<img src=\"https://s3-whjr-v2-prod-bucket.whjr.online/whjr-v2-prod-bucket/58f8ee7b-5369-44d5-9c31-a5d7bf9c27c1.png\"/>\n",
        "\n",
        "\n",
        "\n",
        "The above simple SARIMA model has season length of 4 months. This SARIMA model only has a seasonal part as we have set the non-seasonal orders to zero.\n",
        "\n",
        "A SARIMA model with both non-seasonal and non-seasonal orders is as follows:\n",
        "\n",
        "**SARIMA(1, 0, 1)(1, 0, 1)4 model:**\n",
        "\n",
        "$y_t = \\phi_0 + \\phi_1 y_{t-1}  + \\theta_1 \\epsilon_{t-1}+ \\phi_4 y_{t-4}  + \\theta_4 \\epsilon_{t-4} + \\epsilon_t$\n",
        "\n",
        "In the previous class - **Lesson 131: ARIMA V - Grid Search ARIMA**, we learned how to identify non-seasonal orders $p$, $d$ and $q$. To determine the parameter values for seasonal orders $P$, $D$, $Q$ and $m$, we will again use the ACF and PACF plots. Let us learn how to estimate these values.\n",
        "\n",
        "\n",
        "**Note:** Choosing values for each hyperparameter using ACF/PACF plots is not a precise exercise, these are rules of thumb and not an exact science for picking the value of each hyperparameter.\n",
        "\n",
        "\n",
        "\n",
        "\n"
      ]
    },
    {
      "cell_type": "markdown",
      "source": [
        "---"
      ],
      "metadata": {
        "id": "CMlwCg-06OjP"
      }
    },
    {
      "cell_type": "markdown",
      "source": [
        "#### Activity 2: Picking Seasonal Hyperparameters\n",
        "\n",
        "**Estimating seasonal period $m$:**\n",
        "\n",
        "The order $m$ is the number of observations per year. For example,\n",
        "  - If $m = 4$, it indicates that the data is being studied quarterly.\n",
        "  - If $m = 12$, it indicates that the data is being studied monthly.\n",
        "\n",
        "For Air passenger dataset, we had already noticed that there are 12 observations per year, single observation for each month. Hence, $m$ would be `12` in our case.\n",
        "\n",
        "A way to identify $m$  is by creating ACF plot for original dataset. Here, $m$ is equal to the lag greater than $\\text{lag 1}$ having greatest autocorrelation coefficient.\n",
        "\n",
        "Let us visualise ACF plot up to lag 20 for original Air passenger dataset.\n",
        "\n",
        "\n"
      ],
      "metadata": {
        "id": "gMx-8bo86P19"
      }
    },
    {
      "cell_type": "code",
      "source": [
        "# S2.1: Plot ACF for indexed DataFrame for identifying m\n",
        "from statsmodels.graphics.tsaplots import plot_acf, plot_pacf\n",
        "plot_acf(airpass_in_df, lags = 20)\n",
        "plt.show()"
      ],
      "metadata": {
        "colab": {
          "base_uri": "https://localhost:8080/",
          "height": 281
        },
        "id": "wMhz6-QAvkTy",
        "outputId": "56151ef3-e37c-42ad-9e50-73a92108697e"
      },
      "execution_count": null,
      "outputs": [
        {
          "output_type": "display_data",
          "data": {
            "image/png": "[encoded data removed]",
            "text/plain": [
              "<Figure size 432x288 with 1 Axes>"
            ]
          },
          "metadata": {
            "needs_background": "light"
          }
        }
      ]
    },
    {
      "cell_type": "markdown",
      "source": [
        "To find seasonal period $m$, we look for a lag greater than $\\text{lag 1}$ which is a peak in an ACF plot. Here, there is a peak at $\\text{lag 12}$, indicating that the seasonal component repeats every 12 time steps. Thus, $m = 12$ in our case.\n",
        "\n",
        "Next, we need to identify whether the value of seasonal differencing $D$.\n",
        "\n",
        "**Estimating seasonal differencing order $D$:**\n",
        "\n",
        "In the previous class, we had already estimated the value of non-seasonal differencing $d$ as 1 (using grid search). Next step is to identify whether there is a need of seasonal differencing or not.\n",
        "\n",
        "Remember the following rule: <img src=\"https://s3-whjr-v2-prod-bucket.whjr.online/whjr-v2-prod-bucket/2ed779bb-99bf-4856-9770-ff63fd5913f1.png\" width = 25 width = 20/>\n",
        "- $D=1$ if the series has a strong and stable seasonal pattern over time.\n",
        "- $D=0$ if the series has an unstable seasonal pattern over time.\n",
        "\n",
        "Let us understand these rules using few examples:\n",
        "\n",
        "---\n",
        "\n",
        "**Example 1:** Consider the following time-series plot:\n",
        "\n",
        "<img src=\"https://s3-whjr-v2-prod-bucket.whjr.online/whjr-v2-prod-bucket/151cbdff-ea27-40f5-b104-7b3b650e2517.png\"/>\n",
        "\n",
        "Here, the seasonal pattern does not seem stable over time. Hence, in this case, $D = 0$.\n",
        "\n",
        "---\n",
        "\n",
        "**Example 2:** Consider the following time-series plot:\n",
        "\n",
        "<img src=\"https://s3-whjr-v2-prod-bucket.whjr.online/whjr-v2-prod-bucket/960592ba-5286-44bc-9a3c-1cd99c64cc63.png\"/>\n",
        "\n",
        "Here, the seasonal pattern is very clear and seems stable over time. Hence, in this case, $D = 1$.\n",
        "\n",
        "---\n",
        "\n",
        "For our time-series data, the original plot looks like this:\n",
        "\n",
        "<img src=\"https://s3-whjr-v2-prod-bucket.whjr.online/whjr-v2-prod-bucket/588f36a9-f3ca-43c4-b506-1ea209e771a8.png\"/>\n",
        "\n",
        "By simply looking at the plot, we can say that there is a clear upward trend and stable seasonal pattern in the data. However, it is always better to first remove the trend and then identify whether the seasonal pattern is stable or not.\n",
        "\n",
        "We had already removed the trend by performing first-order differencing. Let us now plot the first-order differenced data and identify whether it has stable and strong seasonal pattern or not.\n",
        "\n"
      ],
      "metadata": {
        "id": "opakKXNfCsWR"
      }
    },
    {
      "cell_type": "code",
      "execution_count": null,
      "metadata": {
        "colab": {
          "base_uri": "https://localhost:8080/",
          "height": 320
        },
        "id": "a74vBC5zCM2C",
        "outputId": "400c8dd8-c255-48ff-be62-858bd34ee853"
      },
      "outputs": [
        {
          "output_type": "display_data",
          "data": {
            "image/png": "[encoded data removed]",
            "text/plain": [
              "<Figure size 720x360 with 1 Axes>"
            ]
          },
          "metadata": {
            "needs_background": "light"
          }
        }
      ],
      "source": [
        "# S2.2: Plot first-order differenced data and identify order 'D'\n",
        "plt.figure(figsize = (10, 5))\n",
        "plt.plot(airpass_diff1['#Passengers'])\n",
        "plt.show()"
      ]
    },
    {
      "cell_type": "markdown",
      "source": [
        "You may observe that the seasonal pattern seems stable over time. Hence, we would perform seasonal differencing and the value of hyperparameter $D$ is `1`.\n",
        "\n",
        "We had already performed seasonal differencing in **Activity 1: Understanding Seasonal Time Series**. Let us perform ADF test to confirm whether the seasonal differenced data is stationary or not."
      ],
      "metadata": {
        "id": "1od_ePegQMcK"
      }
    },
    {
      "cell_type": "code",
      "execution_count": null,
      "metadata": {
        "colab": {
          "base_uri": "https://localhost:8080/"
        },
        "id": "yByAaKJgIkkW",
        "outputId": "524870c9-cbfa-41a1-bf8d-d54e292a5649"
      },
      "outputs": [
        {
          "output_type": "stream",
          "name": "stdout",
          "text": [
            "ADF Statistic: -15.595618083746338\n",
            "p-value:  1.856511600123444e-28\n"
          ]
        }
      ],
      "source": [
        "# S2.3: Remove NaN values and check stationarity of seasonal differenced data.\n",
        "seasonal_diff.dropna(inplace = True)\n",
        "adf_df3 = adfuller(seasonal_diff['#Passengers'])\n",
        "print('ADF Statistic:', adf_df3[0])\n",
        "print('p-value: ', adf_df3[1])"
      ]
    },
    {
      "cell_type": "markdown",
      "source": [
        "You may observe that we obtained a very less p-value and a large negative ADF statistic value, thereby confirming that the seasonal differenced data is indeed stationary.\n",
        "\n",
        "**Rule of thumb:** The value of $D$ usually never exceeds `1` and $d+D≤2$.\n",
        "\n",
        "<br/>\n",
        "\n",
        "Now, the next task is to identify the values of remaining two hyperparameters $P$ and $Q$.\n",
        "\n",
        "\n",
        "\n",
        "Recall that, to find the non-seasonal orders $p$ and $q$, we plot the PACF and the ACF of the *differenced time series* if $d \\gt 0$.\n",
        "\n",
        "Now, to find the seasonal orders $P$ and $Q$, we plot the PACF and ACF of the differenced time series at multiple seasonal steps. Then we can use the same ACF and PACF rules to determine the seasonal orders. Let us understand how.\n",
        "\n",
        "**Estimating seasonal AR order  $P$:**\n",
        "\n",
        "Let us create a PACF plot for first-order differenced time-series, but this time we set the `lags` parameter to a list of lags instead of a maximum lag value. In our case, the list of lags will contain multiples of $12$ as $m = 12$. This plots the PACF at these specific lags only."
      ],
      "metadata": {
        "id": "wCJtxc7mSrZk"
      }
    },
    {
      "cell_type": "code",
      "source": [
        "# T1.1: Plot PACF for first-order differenced data at lags 12, 24, 36, 48, 60, 72\n",
        "plot_pacf(airpass_diff1, lags = [12, 24, 36, 48, 60, 72])\n",
        "plt.show()"
      ],
      "metadata": {
        "colab": {
          "base_uri": "https://localhost:8080/",
          "height": 281
        },
        "id": "T4lyhyJ-zHs0",
        "outputId": "6455a413-bac9-475a-d28b-23d368eaeab3"
      },
      "execution_count": null,
      "outputs": [
        {
          "output_type": "display_data",
          "data": {
            "image/png": "[encoded data removed]",
            "text/plain": [
              "<Figure size 432x288 with 1 Axes>"
            ]
          },
          "metadata": {
            "needs_background": "light"
          }
        }
      ]
    },
    {
      "cell_type": "markdown",
      "source": [
        "Here, you can observe that we obtained a significant lag at $12$.\n",
        "\n",
        "Hence $P = 1$, as lag 12 is the **first** seasonal lag of this time series data $\\left(\\frac{\\text{lag}}{m} = \\frac{12}{12}= 1 \\right)$.\n",
        "\n",
        "If there was no significant lag at $\\text{lag } 12$, but instead there was a significant lag at $24$ as shown below:\n",
        "\n",
        "<img src=\"https://s3-whjr-v2-prod-bucket.whjr.online/whjr-v2-prod-bucket/8e2b6e76-5bf5-4a23-9eb1-ff09040e8256.png\"/>\n",
        "\n",
        "In such case, $P = 2$, as lag 24 is the **second** seasonal lag of this time series data $\\left(\\frac{\\text{lag}}{m} = \\frac{24}{12}= 2 \\right)$.\n",
        "\n",
        "Similarly, if there was no significant lag at lag 12 and 24, but instead there was a significant lag at $36$, then $P = 3$.\n",
        "\n",
        "\n",
        "Likewise, let us estimate the value of seasonal order $Q$.\n",
        "\n",
        "**Estimating seasonal MA order  $Q$:**\n",
        "\n",
        "Create an ACF plot for first-order differenced time-series and  set the `lags` parameter to a list of lags instead of a maximum lag value. This plots the ACF at these specific lags only."
      ],
      "metadata": {
        "id": "V2fZKu28WPo0"
      }
    },
    {
      "cell_type": "code",
      "source": [
        "# S2.4: Plot ACF for first-order differenced data at lags 12, 24, 36, 48, 60, 72\n",
        "plot_acf(airpass_diff1, lags = [12, 24, 36, 48, 60, 72])\n",
        "plt.show()"
      ],
      "metadata": {
        "colab": {
          "base_uri": "https://localhost:8080/",
          "height": 281
        },
        "id": "Y96_4ZChzOCy",
        "outputId": "f6d44bd6-96a4-4e37-b1b9-59acf831c13c"
      },
      "execution_count": null,
      "outputs": [
        {
          "output_type": "display_data",
          "data": {
            "image/png": "[encoded data removed]",
            "text/plain": [
              "<Figure size 432x288 with 1 Axes>"
            ]
          },
          "metadata": {
            "needs_background": "light"
          }
        }
      ]
    },
    {
      "cell_type": "markdown",
      "source": [
        "Here, you can observe that there is significant lag at $\\text{lag 12}$. Hence, the value of order $Q$ can be `1`. However,  the ACF also shows a gradual decrease  and not a sharp decrease at seasonal lags. In such cases, the order $Q$ will be `0`. This is same as the rules used in identifying non-seasonal orders `p` and `q`. Let us recall those rules.\n",
        "\n",
        "<img src=\"https://s3-whjr-v2-prod-bucket.whjr.online/whjr-v2-prod-bucket/2ed779bb-99bf-4856-9770-ff63fd5913f1.png\" width = 25 width = 20/> Rules for orders `p` and `q`.\n",
        "- If PACF data points are sinusoidal or declining gradually, then `p = 0`.\n",
        "\n",
        "- If ACF data points are sinusoidal or declining gradually, then `q = 0`.\n",
        "\n",
        "Hence, our probable SARIMA model equation can be:\n",
        "\n",
        "\n",
        "$$\\text{SARIMA(4, 1, 4)(1, 1, 0)12}$$\n",
        "\n",
        "**Note:** We are using non-seasonal order values of ARIMA obtained from grid search in the previous lesson. You can use other values of these orders as per your choice.\n",
        "\n",
        "Let us now deploy this model using `statsmodels ` module.\n",
        "\n",
        "\n"
      ],
      "metadata": {
        "id": "2z3MO-dXZQxl"
      }
    },
    {
      "cell_type": "markdown",
      "source": [
        "---"
      ],
      "metadata": {
        "id": "i6ybZqGU6ddV"
      }
    },
    {
      "cell_type": "markdown",
      "source": [
        "#### Activity 3: Deploying SARIMA\n",
        "\n",
        "SARIMA model can be implemented using **`SARIMAX`** class of `statsmodels.tsa.statespace.sarimax` module. The implementation is called SARIMAX instead of SARIMA because the **\"X\"** means that the implementation also supports exogenous variables.\n",
        "\n",
        "**What are exogenous variables?**\n",
        "\n",
        "An exogenous variable is one whose value is determined outside the model and is imposed on the model. In other words, variables that affect a model without being affected by it. These may be the predictors of other models.\n",
        "\n",
        "**Note:** As of now, we are not using predictors of other models in this SARIMA model. Hence, ignore the concept of exogenous variables for now.\n",
        "\n",
        "Now let us create a SARIMAX model for the entire dataset and perform using the steps given below:\n",
        "\n",
        "1. Import `SARIMAX` class from `statsmodels.tsa.statespace.sarimax` module.\n",
        "\n",
        "2. Create an object of `SARIMA` class and pass the following inputs:\n",
        "  - `airpass_in_df`:  The original indexed DataFrame.\n",
        "  - `order = (4, 1, 4)`: The non-seasonal ARIMA orders (`p`, `d`, `q`).\n",
        "  - `seasonal_order = (1, 1, 0, 12)`: The seasonal ARIMA orders (`P`, `D`, `Q`, `m`).\n",
        "\n",
        "3. Call the `fit()` function using the object of `SARIMAX`.\n",
        "\n",
        "4. Print the AIC score using `aic` attribute.\n"
      ],
      "metadata": {
        "id": "pbqvoW4-6em-"
      }
    },
    {
      "cell_type": "code",
      "source": [
        "# T3.1: Deploy SARIMA model.\n",
        "from statsmodels.tsa.statespace.sarimax import SARIMAX\n",
        "sarima_model = SARIMAX(airpass_in_df, order = (4, 1, 4), seasonal_order = (1, 1, 0, 12)).fit()\n",
        "print(sarima_model.aic)"
      ],
      "metadata": {
        "colab": {
          "base_uri": "https://localhost:8080/"
        },
        "id": "3FkC_SSVftBF",
        "outputId": "88651e99-73eb-4a97-8a8e-ccb770ca2f89"
      },
      "execution_count": null,
      "outputs": [
        {
          "output_type": "stream",
          "name": "stdout",
          "text": [
            "1018.2995723514282\n"
          ]
        }
      ]
    },
    {
      "cell_type": "markdown",
      "source": [
        "Let us now perform prediction using `predict()` function by specifying the start and end index for differenced dataset. Also, plot the predictions.\n",
        "\n",
        "**Note:** In case of SARIMAX, using `typ = 'levels'` attribute within `predict()` function is not mandatory as the `SARIMAX` class implicitly performs prediction for differenced data (if any).\n",
        "\n",
        "Evaluate this model using accuracy metrics like Mean Absolute Error (MAE) and Root Mean Squared Error (RMSE). Also calculate the Mean Absolute Percentage Error (MAPE) value by calling `calculate_mape()` function (This function was already defined in the previous class)."
      ],
      "metadata": {
        "id": "QEYBQNB3ilwV"
      }
    },
    {
      "cell_type": "code",
      "source": [
        "# S3.1: Perform prediction using 'predict()' function for original dataset.\n",
        "\n",
        "from sklearn.metrics import mean_absolute_error, mean_squared_error\n",
        "\n",
        "# Predict using `predict()` function with start = 1 and end = (total observations - 1)\n",
        "pred = sarima_model.predict(1, len(airpass_in_df) - 1)\n",
        "\n",
        "# Print MAE, RMSE, MAPE values\n",
        "print(\"MAE:\", mean_absolute_error(airpass_in_df[1:], pred))\n",
        "print(\"RMSE:\", np.sqrt(mean_squared_error(airpass_in_df[1:], pred)))\n",
        "\n",
        "print(\"MAPE:\", calculate_mape(airpass_in_df['#Passengers'].iloc[1:], pred))\n",
        "\n",
        "# Plot predictions and actual values\n",
        "plt.figure(figsize=(10, 5))\n",
        "plt.plot(pred, label = 'Predicted #Passengers')\n",
        "plt.plot(airpass_in_df['#Passengers'], label = 'Original #Passengers')\n",
        "plt.legend()\n",
        "plt.show()"
      ],
      "metadata": {
        "colab": {
          "base_uri": "https://localhost:8080/",
          "height": 372
        },
        "id": "fsuZIDtNirZV",
        "outputId": "300eacb4-26bf-4ac4-ac76-2fabf6bc7123"
      },
      "execution_count": null,
      "outputs": [
        {
          "output_type": "stream",
          "name": "stdout",
          "text": [
            "MAE: 8.85391485295005\n",
            "RMSE: 11.945696621987313\n",
            "MAPE: 3.7314732020891044\n"
          ]
        },
        {
          "output_type": "display_data",
          "data": {
            "image/png": "[encoded data removed]",
            "text/plain": [
              "<Figure size 720x360 with 1 Axes>"
            ]
          },
          "metadata": {
            "needs_background": "light"
          }
        }
      ]
    },
    {
      "cell_type": "markdown",
      "source": [
        "From above plot, we can see that our predicted forecasts are very close to the real time series values. The MAE, RMSE and MAPE values are very good as compared to that obtained with non-seasonal ARIMA.\n",
        "\n",
        "**Forecasting Future:**\n",
        "\n",
        "Let us forecast future values using this SARIMA model by applying `predict()` function.\n",
        "\n",
        "We have 144 (existing data of 12 years in months) data points. Now, we want to forecast for additional 10 years (i.e $10 \\times 12 \\text{ months} = 120$ data points).\n",
        "\n",
        "Thus, the start index for `predict()` function would be $144$ and end index would be $144 + 120 = 264$ records/data points."
      ],
      "metadata": {
        "id": "bLgBNRgIkBKO"
      }
    },
    {
      "cell_type": "code",
      "source": [
        "# S3.2: Perform prediction for new values. Plot the forecast values\n",
        "sarima_forecast = sarima_model.predict(start = 144, end = 264, typ = 'levels')\n",
        "plt.figure(figsize=(10, 5))\n",
        "plt.plot(sarima_forecast, label = 'Forecast future values')\n",
        "plt.plot(airpass_in_df['#Passengers'], label = 'Original values')\n",
        "plt.legend()\n",
        "plt.show()"
      ],
      "metadata": {
        "colab": {
          "base_uri": "https://localhost:8080/",
          "height": 320
        },
        "id": "yVeU-YtYkUum",
        "outputId": "4c01dda6-f025-428c-d385-cdaa4cb16339"
      },
      "execution_count": null,
      "outputs": [
        {
          "output_type": "display_data",
          "data": {
            "image/png": "[encoded data removed]",
            "text/plain": [
              "<Figure size 720x360 with 1 Axes>"
            ]
          },
          "metadata": {
            "needs_background": "light"
          }
        }
      ]
    },
    {
      "cell_type": "markdown",
      "source": [
        "You can observe that the above SARIMA model is capturing both trend and seasonality of the time series data. Hence, we obtained a very accurate time-series forecasting model for the Air passenger dataset.\n",
        "\n",
        "In the previous class, we learned an alternative approach to finding optimal hyperparameter values for ARIMA called **Grid Search** technique. Let us extend that technique to identify hyperparameter values for SARIMA model which gives lowest AIC scores."
      ],
      "metadata": {
        "id": "lYf18tukkcn9"
      }
    },
    {
      "cell_type": "markdown",
      "source": [
        "---"
      ],
      "metadata": {
        "id": "AXKgGjKV8Co6"
      }
    },
    {
      "cell_type": "markdown",
      "source": [
        "#### Activity 4: Grid Search SARIMAX\n",
        "\n",
        "As SARIMA model has 7 hyperparameters out of which value of parameter $m$ remains constant, we would simply iterate through a grid of the remaining 6 parameters and evaluate model performance for each set of parameters using AIC values.\n",
        "\n",
        "Let us first define a grid of three variables `p`, `d`, and `q` which ranges from `0` to `1` using the following code:\n",
        "\n",
        "```python\n",
        "p = d = q = range(0, 2)\n",
        "```\n",
        "This will assign values 0 and 1 to the variables `p`, `d`, and `q` simultaneously.\n",
        "\n",
        "**Note:** The code execution would take a lot of time if these parameter values are higher. Hence, we are creating models only for range `0` to `1`.\n",
        "\n",
        "Let us first obtain multiple combinations of `p`, `d`, and `q` values using the `product()` function of `itertools` module.\n"
      ],
      "metadata": {
        "id": "tGEYGqb18DqG"
      }
    },
    {
      "cell_type": "code",
      "source": [
        "# S4.1: Generate all different combinations of p, q and q triplets\n",
        "import itertools\n",
        "p = d = q = range(0, 2)\n",
        "\n",
        "pdq_combination = list(itertools.product(p, d, q))\n",
        "pdq_combination"
      ],
      "metadata": {
        "colab": {
          "base_uri": "https://localhost:8080/"
        },
        "id": "2fOCmTQFmahv",
        "outputId": "82df36b1-fd14-4291-f96a-71cbec839798"
      },
      "execution_count": null,
      "outputs": [
        {
          "output_type": "execute_result",
          "data": {
            "text/plain": [
              "[(0, 0, 0),\n",
              " (0, 0, 1),\n",
              " (0, 1, 0),\n",
              " (0, 1, 1),\n",
              " (1, 0, 0),\n",
              " (1, 0, 1),\n",
              " (1, 1, 0),\n",
              " (1, 1, 1)]"
            ]
          },
          "metadata": {},
          "execution_count": 30
        }
      ]
    },
    {
      "cell_type": "markdown",
      "source": [
        "Similarly, let us obtain all possible combinations of seasonal orders using the combinations of non-seasonal orders."
      ],
      "metadata": {
        "id": "oauurYoPo7xm"
      }
    },
    {
      "cell_type": "code",
      "source": [
        "# T4.1: Generate all different combinations of seasonal p, q and q triplets\n",
        "seasonal_pdqm = [(x[0], x[1], x[2], 12) for x in pdq_combination]\n",
        "seasonal_pdqm"
      ],
      "metadata": {
        "colab": {
          "base_uri": "https://localhost:8080/"
        },
        "id": "wi_zAlZOoc8_",
        "outputId": "5530cb1a-69da-4d5c-e8df-22f39e31fbcf"
      },
      "execution_count": null,
      "outputs": [
        {
          "output_type": "execute_result",
          "data": {
            "text/plain": [
              "[(0, 0, 0, 12),\n",
              " (0, 0, 1, 12),\n",
              " (0, 1, 0, 12),\n",
              " (0, 1, 1, 12),\n",
              " (1, 0, 0, 12),\n",
              " (1, 0, 1, 12),\n",
              " (1, 1, 0, 12),\n",
              " (1, 1, 1, 12)]"
            ]
          },
          "metadata": {},
          "execution_count": 31
        }
      ]
    },
    {
      "cell_type": "markdown",
      "source": [
        "Now that we have obtained all possible combinations of non-seasonal and seasonal orders, let us build SARIMA model for each set of parameter values and determine the AIC score of each model. Also, check which set of parameter values returns the lowest AIC score.\n",
        "\n",
        "Follow the steps given below to perform grid search hyperparameter tuning for SARIMA:\n",
        "\n",
        "1. Import `SARIMAX` class from `statsmodels.tsa.statespace.sarimax` module (if not imported yet).\n",
        "\n",
        "2. Initialise three variables `lowest_aic` and `best_order`, `best_s_order` to `float(\"inf\")`, `None` and `None` respectively. The `float(\"inf\")` will set the variable with an infinitely large value. Here,\n",
        "  - The `lowest_aic` variable will store the lowest AIC score obtained out of all AIC scores.\n",
        "  - The `best_order` variable will store the `(p, d, q)` values for which the model AIC score is the lowest.\n",
        "  - The `best_s_order` variable will store the `(P, D, Q, 12)` values for which the model AIC score is the lowest.\n",
        "\n",
        "3. Initiate a `for` loop that iterates through every combination of `(p, d, q)` values stored in `pdq_combination` variable. Inside this `for` loop, initiate another `for` loop that iterates through every combination of `(P, D, Q, 12)` values stored in `seasonal_pdq` variable. Inside this nested `for` loop,\n",
        "\n",
        "  - Add a `try` block and `except` block to catch and handle some errors/exceptions that might result from different hyperparameter values. We need not study in detail the use of these error handling blocks.\n",
        "\n",
        "  - Inside the `try` block, create an object of `SARIMAX` class and pass the following inputs:\n",
        "     - `airpass_in_df`:  The original indexed DataFrame. You can also perform train-test split and train the model using train set.\n",
        "     - `order = pdq`: Each combination of hyperparameter values from `pdq_combination`.\n",
        "     - `seasonal_order = PDQm`: Each combination of hyperparameter values from `seasonal_pdqm`.\n",
        "  - Call the `fit()` function using the object of `SARIMAX`.\n",
        "\n",
        "  - Determine the AIC score of the current model using `aic` attribute of `SARIMAX` object and store this value in a variable `aic_m`. Print the  hyperparameter values and the AIC score of the current instance model.\n",
        "\n",
        "  - Compare `aic_m` and `lowest_aic` values:\n",
        "    - If  `aic_m < lowest_aic`, then store current AIC i.e `aic_m` value in `lowest_aic` variable, current `pdq` value in `best_order` variable and current `PDQm` value in `best_s_order` variable.\n",
        "  \n",
        "  In this way, for every iteration, a SARIMAX model is created for a set of hyperparameter values and then the AIC score for that model is determined. If that AIC score is less than the last lowest AIC score, then replace the lowest AIC score with the current AIC score.\n",
        "\n",
        "4. Finally, print the best hyperparameter values exhibiting lowest AIC score by printing `best_order`, `best_s_order` and `lowest_aic` variables.\n",
        "\n",
        "\n",
        "\n",
        "**Note:** This execution will generate a lot of unnecessary warnings. To remove these warnings, add the following code to the below code cell.\n",
        "\n",
        "```python\n",
        "import warnings\n",
        "warnings.filterwarnings(\"ignore\")\n",
        "```"
      ],
      "metadata": {
        "id": "ToZ8HAPaqYv3"
      }
    },
    {
      "cell_type": "code",
      "execution_count": null,
      "metadata": {
        "colab": {
          "base_uri": "https://localhost:8080/"
        },
        "id": "XRENBe3HEzLk",
        "outputId": "bfb4891e-7e6f-4d3d-acfd-80ffff4ba4db"
      },
      "outputs": [
        {
          "output_type": "stream",
          "name": "stdout",
          "text": [
            "SARIMAX(0, 0, 0)(0, 0, 0, 12) AIC=2057.847\n",
            "SARIMAX(0, 0, 0)(0, 0, 1, 12) AIC=1906.618\n",
            "SARIMAX(0, 0, 0)(0, 1, 0, 12) AIC=1324.954\n",
            "SARIMAX(0, 0, 0)(0, 1, 1, 12) AIC=1274.613\n",
            "SARIMAX(0, 0, 0)(1, 0, 0, 12) AIC=1501.320\n",
            "SARIMAX(0, 0, 0)(1, 0, 1, 12) AIC=1451.300\n",
            "SARIMAX(0, 0, 0)(1, 1, 0, 12) AIC=1221.243\n",
            "SARIMAX(0, 0, 0)(1, 1, 1, 12) AIC=1176.982\n",
            "SARIMAX(0, 0, 1)(0, 0, 0, 12) AIC=1870.304\n",
            "SARIMAX(0, 0, 1)(0, 0, 1, 12) AIC=1723.646\n",
            "SARIMAX(0, 0, 1)(0, 1, 0, 12) AIC=1214.066\n",
            "SARIMAX(0, 0, 1)(0, 1, 1, 12) AIC=1189.827\n",
            "SARIMAX(0, 0, 1)(1, 0, 0, 12) AIC=1393.455\n",
            "SARIMAX(0, 0, 1)(1, 0, 1, 12) AIC=1387.805\n",
            "SARIMAX(0, 0, 1)(1, 1, 0, 12) AIC=1161.840\n",
            "SARIMAX(0, 0, 1)(1, 1, 1, 12) AIC=1120.201\n",
            "SARIMAX(0, 1, 0)(0, 0, 0, 12) AIC=1413.909\n",
            "SARIMAX(0, 1, 0)(0, 0, 1, 12) AIC=1302.690\n",
            "SARIMAX(0, 1, 0)(0, 1, 0, 12) AIC=1031.508\n",
            "SARIMAX(0, 1, 0)(0, 1, 1, 12) AIC=1030.752\n",
            "SARIMAX(0, 1, 0)(1, 0, 0, 12) AIC=1150.761\n",
            "SARIMAX(0, 1, 0)(1, 0, 1, 12) AIC=1150.883\n",
            "SARIMAX(0, 1, 0)(1, 1, 0, 12) AIC=1030.408\n",
            "SARIMAX(0, 1, 0)(1, 1, 1, 12) AIC=1032.128\n",
            "SARIMAX(0, 1, 1)(0, 0, 0, 12) AIC=1397.258\n",
            "SARIMAX(0, 1, 1)(0, 0, 1, 12) AIC=1297.500\n",
            "SARIMAX(0, 1, 1)(0, 1, 0, 12) AIC=1020.639\n",
            "SARIMAX(0, 1, 1)(0, 1, 1, 12) AIC=1021.003\n",
            "SARIMAX(0, 1, 1)(1, 0, 0, 12) AIC=1144.191\n",
            "SARIMAX(0, 1, 1)(1, 0, 1, 12) AIC=1144.844\n",
            "SARIMAX(0, 1, 1)(1, 1, 0, 12) AIC=1020.425\n",
            "SARIMAX(0, 1, 1)(1, 1, 1, 12) AIC=1020.327\n",
            "SARIMAX(1, 0, 0)(0, 0, 0, 12) AIC=1429.818\n",
            "SARIMAX(1, 0, 0)(0, 0, 1, 12) AIC=1318.277\n",
            "SARIMAX(1, 0, 0)(0, 1, 0, 12) AIC=1038.975\n",
            "SARIMAX(1, 0, 0)(0, 1, 1, 12) AIC=1039.242\n",
            "SARIMAX(1, 0, 0)(1, 0, 0, 12) AIC=1162.582\n",
            "SARIMAX(1, 0, 0)(1, 0, 1, 12) AIC=1163.020\n",
            "SARIMAX(1, 0, 0)(1, 1, 0, 12) AIC=1038.934\n",
            "SARIMAX(1, 0, 0)(1, 1, 1, 12) AIC=1041.115\n",
            "SARIMAX(1, 0, 1)(0, 0, 0, 12) AIC=1412.973\n",
            "SARIMAX(1, 0, 1)(0, 0, 1, 12) AIC=1312.901\n",
            "SARIMAX(1, 0, 1)(0, 1, 0, 12) AIC=1030.251\n",
            "SARIMAX(1, 0, 1)(0, 1, 1, 12) AIC=1030.955\n",
            "SARIMAX(1, 0, 1)(1, 0, 0, 12) AIC=1157.298\n",
            "SARIMAX(1, 0, 1)(1, 0, 1, 12) AIC=1158.174\n",
            "SARIMAX(1, 0, 1)(1, 1, 0, 12) AIC=1030.482\n",
            "SARIMAX(1, 0, 1)(1, 1, 1, 12) AIC=1029.969\n",
            "SARIMAX(1, 1, 0)(0, 0, 0, 12) AIC=1401.852\n",
            "SARIMAX(1, 1, 0)(0, 0, 1, 12) AIC=1298.027\n",
            "SARIMAX(1, 1, 0)(0, 1, 0, 12) AIC=1020.393\n",
            "SARIMAX(1, 1, 0)(0, 1, 1, 12) AIC=1020.914\n",
            "SARIMAX(1, 1, 0)(1, 0, 0, 12) AIC=1143.882\n",
            "SARIMAX(1, 1, 0)(1, 0, 1, 12) AIC=1144.665\n",
            "SARIMAX(1, 1, 0)(1, 1, 0, 12) AIC=1020.393\n",
            "SARIMAX(1, 1, 0)(1, 1, 1, 12) AIC=1020.493\n",
            "SARIMAX(1, 1, 1)(0, 0, 0, 12) AIC=1394.683\n",
            "SARIMAX(1, 1, 1)(0, 0, 1, 12) AIC=1299.462\n",
            "SARIMAX(1, 1, 1)(0, 1, 0, 12) AIC=1022.393\n",
            "SARIMAX(1, 1, 1)(0, 1, 1, 12) AIC=1022.896\n",
            "SARIMAX(1, 1, 1)(1, 0, 0, 12) AIC=1140.942\n",
            "SARIMAX(1, 1, 1)(1, 0, 1, 12) AIC=1146.641\n",
            "SARIMAX(1, 1, 1)(1, 1, 0, 12) AIC=1022.356\n",
            "SARIMAX(1, 1, 1)(1, 1, 1, 12) AIC=1022.299\n",
            "Best SARIMAX (0, 1, 1)(1, 1, 1, 12) AIC=1020.327\n"
          ]
        }
      ],
      "source": [
        "# S4.2: Perform Grid Search Hyperparameter tuning for SARIMAX\n",
        "# Import 'statsmodels.api' library\n",
        "import statsmodels.api as sm\n",
        "import warnings\n",
        "warnings.filterwarnings(\"ignore\")\n",
        "\n",
        "# Create 3 variables to store lowest AIC score, best non-seasonal order and best seasonal order\n",
        "# Set lowest AIC Score to \"inf\", non-seasonal and seasonal order to 'None'\n",
        "lowest_aic, best_order, best_s_order = float(\"inf\"), None, None\n",
        "\n",
        "# Create a for loop for non-seasonal order\n",
        "for pdq in pdq_combination:\n",
        "  # Create a for loop for seasonal order\n",
        "  for PDQM in seasonal_pdqm:\n",
        "    # Add a try block to fit and get the AIC Score\n",
        "    try:\n",
        "      # Perform SARIMA operation using SARIMAX() function\n",
        "      model = sm.tsa.statespace.SARIMAX(airpass_in_df, order = pdq, seasonal_order= PDQM).fit()\n",
        "\n",
        "      # Get the AIC score and print the result\n",
        "      aic_m = model.aic\n",
        "      print(f'SARIMAX{pdq}{PDQM} AIC={aic_m:.3f}')\n",
        "\n",
        "      # Put a condition to get the lowest AIC Score and change the orders\n",
        "      if aic_m < lowest_aic:\n",
        "        lowest_aic, best_order, best_s_order = aic_m, pdq, PDQM\n",
        "\n",
        "    # Put an except block inside that continue condition\n",
        "    except:\n",
        "      continue\n",
        "\n",
        "# Print the best SARIMA order for both seasonal and non-seasonal\n",
        "print(f'Best SARIMAX {best_order}{best_s_order} AIC={lowest_aic:.3f}')"
      ]
    },
    {
      "cell_type": "markdown",
      "source": [
        "Running the above code cell prints the SARIMA parameters and AIC score for each set of parameters. Also, the lowest AIC value of 1020.327 was obtained for the $\\text{SARIMA(0, 1, 1)(1, 1, 1)12}$ model, and that will be used as the final estimator.\n",
        "\n",
        "Hence, we have learned how to perform time series forecasting using ARIMA and SARIMA models. Let us summarise the steps to be followed in setting up the forecasting model.\n",
        "\n",
        "**SUMMARISED STEPS TO PERFORM TIME SERIES FORECASTING USING ARIMA/SARIMA:**\n",
        "\n",
        "\n",
        "1. Plot the series.\n",
        "\n",
        "2. Apply statistical tests to check if the series is stationary (Both trend and seasonality).\n",
        "3. If non-stationary (has either trend or seasonality), make it stationary by differencing.\n",
        "  - To remove trend, perform first (or second order) differencing (d).\n",
        "  - To remove seasonality, perform seasonal differencing (D).\n",
        "\n",
        "4. Plot PACF of stationary series for estimating values of AR order (p) and  Seasonal AR order (P). For seasonal AR order, look for seasonal spikes in PACF.\n",
        "\n",
        "4. Plot ACF of stationary series for estimating values of MA order (q) and  Seasonal MA order (Q). For seasonal MA order, look for seasonal spikes in ACF.\n",
        "\n",
        "5. Run SARIMA with the estimated parameters from ACF/PACF plots or with parameters obtained from Grid search.\n",
        "\n",
        "6. Evaluate model and forecast future values.\n",
        "\n"
      ],
      "metadata": {
        "id": "pMUU1pPbttiA"
      }
    },
    {
      "cell_type": "markdown",
      "source": [
        "We will stop here. In the upcoming lessons, we will explore and design a movie recommender system using a weighted rating algorithm."
      ],
      "metadata": {
        "id": "hutx58fodMxT"
      }
    },
    {
      "cell_type": "markdown",
      "source": [
        "---"
      ],
      "metadata": {
        "id": "zgKPK8Zzw3Tp"
      }
    },
    {
      "cell_type": "markdown",
      "metadata": {
        "id": "HSxAaJkkM-SD"
      },
      "source": [
        "#### Activities\n",
        "\n",
        "\n",
        "**Teacher Activities:**\n",
        "\n",
        "1.   ARIMA VI - Seasonal ARIMA (Class Copy)\n",
        "\n",
        "\tLink on Panel\n",
        "\n",
        "2.  ARIMA VI - Seasonal ARIMA (Reference)\n",
        "\n",
        "\tLink on Panel"
      ]
    },
    {
      "cell_type": "markdown",
      "metadata": {
        "id": "P-pzjbb0HbZw"
      },
      "source": [
        "---"
      ]
    }
  ],
  "metadata": {
    "colab": {
      "provenance": [],
      "include_colab_link": true
    },
    "kernelspec": {
      "display_name": "Python 3",
      "name": "python3"
    },
    "language_info": {
      "name": "python"
    }
  },
  "nbformat": 4,
  "nbformat_minor": 0
}