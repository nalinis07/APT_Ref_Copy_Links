{
  "nbformat": 4,
  "nbformat_minor": 0,
  "metadata": {
    "colab": {
      "provenance": [],
      "include_colab_link": true
    },
    "kernelspec": {
      "name": "python3",
      "display_name": "Python 3"
    }
  },
  "cells": [
    {
      "cell_type": "markdown",
      "metadata": {
        "id": "view-in-github",
        "colab_type": "text"
      },
      "source": [
        "<a href=\"https://colab.research.google.com/github/nalinis07/APT_Ref_Copy_Links/blob/MASTER/AT_Lesson_79_Reference.ipynb\" target=\"_parent\"><img src=\"https://colab.research.google.com/assets/colab-badge.svg\" alt=\"Open In Colab\"/></a>"
      ]
    },
    {
      "cell_type": "markdown",
      "metadata": {
        "id": "ZPBYmVldndM4"
      },
      "source": [
        "# Lesson 79: Logistic Regression - Heart Disease Prediction"
      ]
    },
    {
      "cell_type": "markdown",
      "metadata": {
        "id": "j0EJ0soCIhoZ"
      },
      "source": [
        "**WARNING:** The reference notebook is meant **ONLY** for a teacher. Please **DO NOT** share it with any student.\n",
        "\n",
        "The contents of the reference notebook are meant only to prepare a teacher for a class. To conduct the class, use the class copy of the reference notebook. The link and the instructions for the same are provided in the **Notes To The Teacher** section.\n",
        "\n",
        "\n",
        "|Particulars|Description|\n",
        "|-|-|\n",
        "|**Topic**|Logistic Regression - Heart Disease Prediction|\n",
        "|||\n",
        "|**Class Description**|In this class, a student creates a multivariate logistic regression model to predict whether a person has heart disease|\n",
        "|||\n",
        "|**Class**|C79|\n",
        "|||\n",
        "|**Class Time**|45 minutes|\n",
        "|||\n",
        "|**Goal**|Select the relevant features using RFE|\n",
        "||Normalise the features using standard scaling|\n",
        "|||\n",
        "|**Teacher Resources**|Google Account|\n",
        "||Laptop with internet connectivity|\n",
        "||Earphones with mic|\n",
        "|||\n",
        "|**Student Resources**|Google Account|\n",
        "||Laptop with internet connectivity|\n",
        "||Earphones with mic|"
      ]
    },
    {
      "cell_type": "markdown",
      "metadata": {
        "id": "AEvF-_h0Ildw"
      },
      "source": [
        "---"
      ]
    },
    {
      "cell_type": "markdown",
      "metadata": {
        "id": "Gg3WzdHiImEv"
      },
      "source": [
        "### Warm-up Quiz\n",
        "\n",
        "```\n",
        "TEACHER\n",
        "I have an exciting quiz question for you! Are you ready to answer this question?\n",
        "\n",
        "EXPECTED STUDENT RESPONSE\n",
        "Yes.\n",
        "```\n",
        "\n",
        "**Instructions for the Teacher:**\n",
        "- Please click on the \"Quiz Time\" button on the bottom right corner of your screen to start the In-Class Quiz. <img src='https://student-datasets-bucket.s3.ap-south-1.amazonaws.com/images/quiz-time.png' width = 150>\n",
        "\n",
        "- A quiz will be visible to both you and the student. Encourage the student to answer the quiz question.\n",
        "\n",
        "- The student may choose the wrong option, help the student to think correctly about the question and then answer again.\n",
        "\n",
        "- After the student selects the correct option, the \"End Quiz\" button will start appearing on your screen. <img src='https://student-datasets-bucket.s3.ap-south-1.amazonaws.com/images/end-quiz.png' width = 150>  \n",
        "\n",
        "- Click the \"End quiz\" button to close the quiz pop-up and continue the class.\n",
        "  \n",
        "- Do not spend more than 2 minutes on this quiz."
      ]
    },
    {
      "cell_type": "markdown",
      "metadata": {
        "id": "4DZtMCsxnmGl"
      },
      "source": [
        "---"
      ]
    },
    {
      "cell_type": "markdown",
      "metadata": {
        "id": "OoDdcwUtJ07u"
      },
      "source": [
        "### Teacher-Student Activities\n",
        "\n",
        "In the previous few classes, you learnt how a logistic regression model classifies labels behind the scenes.\n",
        "\n",
        "In this class, we will continue to build a multivariate logistic regression model to predict whether a patient has heart disease. Let's quickly go through the activities covered in the previous classes and begin this class from **Activity 1: Multivariate Logistic Regression** section."
      ]
    },
    {
      "cell_type": "markdown",
      "metadata": {
        "id": "OAQyK7yfO14I"
      },
      "source": [
        "---"
      ]
    },
    {
      "cell_type": "markdown",
      "metadata": {
        "id": "wrTUGKPJO61D"
      },
      "source": [
        "#### Recap\n",
        "\n",
        "Run the code below"
      ]
    },
    {
      "cell_type": "code",
      "metadata": {
        "id": "tmRB05lddS--",
        "colab": {
          "base_uri": "https://localhost:8080/"
        },
        "outputId": "db83caa0-4cbf-4797-fda5-23a91dac7448"
      },
      "source": [
        "# Import the required modules and load the heart disease dataset. Also, display the first five rows.\n",
        "import numpy as np\n",
        "import pandas as pd\n",
        "import matplotlib.pyplot as plt\n",
        "import seaborn as sns\n",
        "from sklearn.model_selection import train_test_split\n",
        "\n",
        "csv_file = 'https://s3-student-datasets-bucket.whjr.online/whitehat-ds-datasets/uci-heart-disease/heart.csv'\n",
        "df = pd.read_csv(csv_file)\n",
        "print(\"\\n\", df.head(), \"\\n\", df.info(), \"\\n\")\n",
        "\n",
        "# Print the number of records with and without heart disease\n",
        "print(\"Number of records in each label are\")\n",
        "print(df['target'].value_counts())\n",
        "\n",
        "# Print the percentage of each label\n",
        "print(\"\\nPercentage of records in each label are\")\n",
        "print(df['target'].value_counts() * 100 / df.shape[0])\n",
        "\n",
        "# Split the training and testing data\n",
        "X = df.drop(columns = 'target')\n",
        "y = df['target']\n",
        "X_train, X_test, y_train, y_test = train_test_split(X, y, test_size = 0.3, random_state = 42)"
      ],
      "execution_count": null,
      "outputs": [
        {
          "output_type": "stream",
          "text": [
            "<class 'pandas.core.frame.DataFrame'>\n",
            "RangeIndex: 303 entries, 0 to 302\n",
            "Data columns (total 14 columns):\n",
            " #   Column    Non-Null Count  Dtype  \n",
            "---  ------    --------------  -----  \n",
            " 0   age       303 non-null    int64  \n",
            " 1   sex       303 non-null    int64  \n",
            " 2   cp        303 non-null    int64  \n",
            " 3   trestbps  303 non-null    int64  \n",
            " 4   chol      303 non-null    int64  \n",
            " 5   fbs       303 non-null    int64  \n",
            " 6   restecg   303 non-null    int64  \n",
            " 7   thalach   303 non-null    int64  \n",
            " 8   exang     303 non-null    int64  \n",
            " 9   oldpeak   303 non-null    float64\n",
            " 10  slope     303 non-null    int64  \n",
            " 11  ca        303 non-null    int64  \n",
            " 12  thal      303 non-null    int64  \n",
            " 13  target    303 non-null    int64  \n",
            "dtypes: float64(1), int64(13)\n",
            "memory usage: 33.3 KB\n",
            "\n",
            "    age  sex  cp  trestbps  chol  fbs  ...  exang  oldpeak  slope  ca  thal  target\n",
            "0   63    1   3       145   233    1  ...      0      2.3      0   0     1       1\n",
            "1   37    1   2       130   250    0  ...      0      3.5      0   0     2       1\n",
            "2   41    0   1       130   204    0  ...      0      1.4      2   0     2       1\n",
            "3   56    1   1       120   236    0  ...      0      0.8      2   0     2       1\n",
            "4   57    0   0       120   354    0  ...      1      0.6      2   0     2       1\n",
            "\n",
            "[5 rows x 14 columns] \n",
            " None \n",
            "\n",
            "Number of records in each label are\n",
            "1    165\n",
            "0    138\n",
            "Name: target, dtype: int64\n",
            "\n",
            "Percentage of records in each label are\n",
            "1    54.455446\n",
            "0    45.544554\n",
            "Name: target, dtype: float64\n"
          ],
          "name": "stdout"
        }
      ]
    },
    {
      "cell_type": "markdown",
      "metadata": {
        "id": "vUuB2VRPPuzf"
      },
      "source": [
        "---"
      ]
    },
    {
      "cell_type": "markdown",
      "metadata": {
        "id": "tyTyA2t3PpvR"
      },
      "source": [
        "####Activity 1: Multivariate Logistic Regression^\n",
        "\n",
        "Let's include all the features present in the heart disease dataset to build a multivariate logistic regression model using the `sklearn` module."
      ]
    },
    {
      "cell_type": "code",
      "metadata": {
        "colab": {
          "base_uri": "https://localhost:8080/"
        },
        "id": "IebsK3oUQQWv",
        "outputId": "5b82d900-3764-4f11-d689-443397ad031d"
      },
      "source": [
        "# S1.1: Create a multivariate logistic regression model. Also, predict the target values for the train set.\n",
        "\n",
        "from sklearn.linear_model import LogisticRegression\n",
        "from sklearn.metrics import confusion_matrix, classification_report\n",
        "\n",
        "lg_clf_1 = LogisticRegression()\n",
        "lg_clf_1.fit(X_train, y_train)\n",
        "lg_clf_1.score(X_train, y_train)\n",
        "\n",
        "# Predict the target values for the train set.\n",
        "y_train_pred = lg_clf_1.predict(X_train)\n",
        "\n",
        "print(f\"{'Train Set'.upper()}\\n{'-' * 75}\\nConfusion Matrix:\")\n",
        "print(confusion_matrix(y_train, y_train_pred))\n",
        "\n",
        "print(\"\\nClassification Report:\")\n",
        "print(classification_report(y_train, y_train_pred))"
      ],
      "execution_count": null,
      "outputs": [
        {
          "output_type": "stream",
          "text": [
            "TRAIN SET\n",
            "---------------------------------------------------------------------------\n",
            "Confusion Matrix:\n",
            "[[ 78  19]\n",
            " [ 10 105]]\n",
            "\n",
            "Classification Report:\n",
            "              precision    recall  f1-score   support\n",
            "\n",
            "           0       0.89      0.80      0.84        97\n",
            "           1       0.85      0.91      0.88       115\n",
            "\n",
            "    accuracy                           0.86       212\n",
            "   macro avg       0.87      0.86      0.86       212\n",
            "weighted avg       0.86      0.86      0.86       212\n",
            "\n"
          ],
          "name": "stdout"
        },
        {
          "output_type": "stream",
          "text": [
            "/usr/local/lib/python3.6/dist-packages/sklearn/linear_model/_logistic.py:940: ConvergenceWarning: lbfgs failed to converge (status=1):\n",
            "STOP: TOTAL NO. of ITERATIONS REACHED LIMIT.\n",
            "\n",
            "Increase the number of iterations (max_iter) or scale the data as shown in:\n",
            "    https://scikit-learn.org/stable/modules/preprocessing.html\n",
            "Please also refer to the documentation for alternative solver options:\n",
            "    https://scikit-learn.org/stable/modules/linear_model.html#logistic-regression\n",
            "  extra_warning_msg=_LOGISTIC_SOLVER_CONVERGENCE_MSG)\n"
          ],
          "name": "stderr"
        }
      ]
    },
    {
      "cell_type": "code",
      "metadata": {
        "colab": {
          "base_uri": "https://localhost:8080/"
        },
        "id": "8KQW3TOWox4_",
        "outputId": "fc407c58-2d18-4541-d175-ed3201b37c85"
      },
      "source": [
        "# S1.2: Predict the target values for the test set.\n",
        "y_test_pred = lg_clf_1.predict(X_test)\n",
        "\n",
        "print(f\"{'Test Set'.upper()}\\n{'-' * 75}\\nConfusion Matrix:\")\n",
        "print(confusion_matrix(y_test, y_test_pred))\n",
        "\n",
        "print(\"\\nClassification Report\")\n",
        "print(classification_report(y_test, y_test_pred))"
      ],
      "execution_count": null,
      "outputs": [
        {
          "output_type": "stream",
          "text": [
            "TEST SET\n",
            "---------------------------------------------------------------------------\n",
            "Confusion Matrix:\n",
            "[[32  9]\n",
            " [ 8 42]]\n",
            "\n",
            "Classification Report\n",
            "              precision    recall  f1-score   support\n",
            "\n",
            "           0       0.80      0.78      0.79        41\n",
            "           1       0.82      0.84      0.83        50\n",
            "\n",
            "    accuracy                           0.81        91\n",
            "   macro avg       0.81      0.81      0.81        91\n",
            "weighted avg       0.81      0.81      0.81        91\n",
            "\n"
          ],
          "name": "stdout"
        }
      ]
    },
    {
      "cell_type": "markdown",
      "metadata": {
        "id": "EaFmty9RSSJN"
      },
      "source": [
        "As you can see,\n",
        "- The FP and FN values in the confusion matrix are low\n",
        "- The precision and recall values are also good\n",
        "- The f1-score is also greater than **0.7**\n",
        "\n",
        "This clearly shows that the decision boundary accurately separates the labels (or classes) with good accuracy.\n",
        "\n",
        "But this logistic regression model (refer to the object stored in the `lg_clf_1` variable) is created using all the features (or independent variables). It is quite possible that not all features are of imporatance for the classification of the labels in the `target` column. Therefore, we still can improve the model by reducing the number of features to obtain higher f1-scores."
      ]
    },
    {
      "cell_type": "markdown",
      "metadata": {
        "id": "2_JXv6P_V_vN"
      },
      "source": [
        "---"
      ]
    },
    {
      "cell_type": "markdown",
      "metadata": {
        "id": "vppY0xJcg_ld"
      },
      "source": [
        "#### Activity 2: Data Standardisation^^\n",
        "\n",
        "As you must have observed, when the logistic regression is applied we got the following warning message shown below quite a few times:\n",
        "```\n",
        "/usr/local/lib/python3.6/dist-packages/sklearn/linear_model/_logistic.py:940: ConvergenceWarning: lbfgs failed to converge (status=1):\n",
        "STOP: TOTAL NO. of ITERATIONS REACHED LIMIT.\n",
        "\n",
        "Increase the number of iterations (max_iter) or scale the data as shown in:\n",
        "    https://scikit-learn.org/stable/modules/preprocessing.html\n",
        "Please also refer to the documentation for alternative solver options:\n",
        "    https://scikit-learn.org/stable/modules/linear_model.html#logistic-regression\n",
        "  extra_warning_msg=_LOGISTIC_SOLVER_CONVERGENCE_MSG)\n",
        "```\n",
        "\n",
        "The message is displayed because the **Limited-memory Broyden–Fletcher–Goldfarb–Shanno** (or L-BFGS) algorithm used by the `LogisticRegression` class of the `sklearn.linear_model` module to calculate the optimum value of coefficients (betas) for a regularised cost function ran out of memory to store the results of iterations. The L-BFGS algorithm, unlike gradient descent algorithm, is a second-order (uses second derivatives i.e. $\\frac{\\partial^2 J}{\\partial \\beta^2}$ instead of first-order derivatives i.e. $\\frac{\\partial J}{\\partial \\beta}$ ) optimiser stores data of the last few iterations only to save memory.\n",
        "\n",
        "Another reason for the popping-up of the warning message is poorly scaled data. Here are a couple of ways to avoid `ConvergenceWarning` message:\n",
        "\n",
        "1. Increase the number of iterations i.e. set the value of `max_iter` parameter to 100 i.e. `max_iter = 100` in the `LogisticRegression` constructor.\n",
        "\n",
        "2. Scale the data using one of the normalisation methods, say standard normalisation.\n",
        "\n",
        "Therefore, let's create a function `standard_scalar()` to normalise the `X_train` and `X_test` data-frames using standard normalisation method i.e.\n",
        "\n",
        "$$x_{\\text{std}} = \\frac{(x_i - \\mu)}{\\sigma} $$\n",
        "\n"
      ]
    },
    {
      "cell_type": "code",
      "metadata": {
        "colab": {
          "base_uri": "https://localhost:8080/",
          "height": 402
        },
        "id": "XwYdDr3oiE4U",
        "outputId": "52949e3d-ea67-45bd-b132-5e37a7e943d6"
      },
      "source": [
        "# S2.1: Normalise the train and test data-frames using the standard normalisation method.\n",
        "def standard_scaler(series):\n",
        "  new_series = (series - series.mean()) / series.std()\n",
        "  return new_series\n",
        "\n",
        "norm_X_train = X_train.apply(standard_scaler, axis = 0)\n",
        "norm_X_test = X_test.apply(standard_scaler, axis = 0)\n",
        "\n",
        "norm_X_train.describe()"
      ],
      "execution_count": null,
      "outputs": [
        {
          "output_type": "execute_result",
          "data": {
            "text/html": [
              "<div>\n",
              "<style scoped>\n",
              "    .dataframe tbody tr th:only-of-type {\n",
              "        vertical-align: middle;\n",
              "    }\n",
              "\n",
              "    .dataframe tbody tr th {\n",
              "        vertical-align: top;\n",
              "    }\n",
              "\n",
              "    .dataframe thead th {\n",
              "        text-align: right;\n",
              "    }\n",
              "</style>\n",
              "<table border=\"1\" class=\"dataframe\">\n",
              "  <thead>\n",
              "    <tr style=\"text-align: right;\">\n",
              "      <th></th>\n",
              "      <th>age</th>\n",
              "      <th>sex</th>\n",
              "      <th>cp</th>\n",
              "      <th>trestbps</th>\n",
              "      <th>chol</th>\n",
              "      <th>fbs</th>\n",
              "      <th>restecg</th>\n",
              "      <th>thalach</th>\n",
              "      <th>exang</th>\n",
              "      <th>oldpeak</th>\n",
              "      <th>slope</th>\n",
              "      <th>ca</th>\n",
              "      <th>thal</th>\n",
              "    </tr>\n",
              "  </thead>\n",
              "  <tbody>\n",
              "    <tr>\n",
              "      <th>count</th>\n",
              "      <td>2.120000e+02</td>\n",
              "      <td>2.120000e+02</td>\n",
              "      <td>2.120000e+02</td>\n",
              "      <td>2.120000e+02</td>\n",
              "      <td>2.120000e+02</td>\n",
              "      <td>2.120000e+02</td>\n",
              "      <td>2.120000e+02</td>\n",
              "      <td>2.120000e+02</td>\n",
              "      <td>2.120000e+02</td>\n",
              "      <td>2.120000e+02</td>\n",
              "      <td>2.120000e+02</td>\n",
              "      <td>2.120000e+02</td>\n",
              "      <td>2.120000e+02</td>\n",
              "    </tr>\n",
              "    <tr>\n",
              "      <th>mean</th>\n",
              "      <td>1.921943e-16</td>\n",
              "      <td>8.274304e-17</td>\n",
              "      <td>1.360776e-17</td>\n",
              "      <td>5.414956e-16</td>\n",
              "      <td>1.592018e-16</td>\n",
              "      <td>-1.963838e-16</td>\n",
              "      <td>-2.681293e-16</td>\n",
              "      <td>3.152614e-16</td>\n",
              "      <td>1.393016e-16</td>\n",
              "      <td>1.183540e-16</td>\n",
              "      <td>1.529175e-16</td>\n",
              "      <td>1.152118e-16</td>\n",
              "      <td>1.110223e-16</td>\n",
              "    </tr>\n",
              "    <tr>\n",
              "      <th>std</th>\n",
              "      <td>1.000000e+00</td>\n",
              "      <td>1.000000e+00</td>\n",
              "      <td>1.000000e+00</td>\n",
              "      <td>1.000000e+00</td>\n",
              "      <td>1.000000e+00</td>\n",
              "      <td>1.000000e+00</td>\n",
              "      <td>1.000000e+00</td>\n",
              "      <td>1.000000e+00</td>\n",
              "      <td>1.000000e+00</td>\n",
              "      <td>1.000000e+00</td>\n",
              "      <td>1.000000e+00</td>\n",
              "      <td>1.000000e+00</td>\n",
              "      <td>1.000000e+00</td>\n",
              "    </tr>\n",
              "    <tr>\n",
              "      <th>min</th>\n",
              "      <td>-2.757098e+00</td>\n",
              "      <td>-1.391141e+00</td>\n",
              "      <td>-9.778484e-01</td>\n",
              "      <td>-2.142798e+00</td>\n",
              "      <td>-2.129975e+00</td>\n",
              "      <td>-3.811266e-01</td>\n",
              "      <td>-1.029172e+00</td>\n",
              "      <td>-2.731467e+00</td>\n",
              "      <td>-6.855616e-01</td>\n",
              "      <td>-9.289910e-01</td>\n",
              "      <td>-2.305793e+00</td>\n",
              "      <td>-6.746937e-01</td>\n",
              "      <td>-3.912465e+00</td>\n",
              "    </tr>\n",
              "    <tr>\n",
              "      <th>25%</th>\n",
              "      <td>-7.177485e-01</td>\n",
              "      <td>-1.391141e+00</td>\n",
              "      <td>-9.778484e-01</td>\n",
              "      <td>-6.152369e-01</td>\n",
              "      <td>-6.649586e-01</td>\n",
              "      <td>-3.811266e-01</td>\n",
              "      <td>-1.029172e+00</td>\n",
              "      <td>-6.547229e-01</td>\n",
              "      <td>-6.855616e-01</td>\n",
              "      <td>-9.289910e-01</td>\n",
              "      <td>-6.763660e-01</td>\n",
              "      <td>-6.746937e-01</td>\n",
              "      <td>-5.475864e-01</td>\n",
              "    </tr>\n",
              "    <tr>\n",
              "      <th>50%</th>\n",
              "      <td>7.080006e-02</td>\n",
              "      <td>7.154438e-01</td>\n",
              "      <td>-1.364440e-02</td>\n",
              "      <td>-2.771338e-02</td>\n",
              "      <td>-1.338901e-01</td>\n",
              "      <td>-3.811266e-01</td>\n",
              "      <td>8.680843e-01</td>\n",
              "      <td>1.693821e-01</td>\n",
              "      <td>-6.855616e-01</td>\n",
              "      <td>-1.961683e-01</td>\n",
              "      <td>-6.763660e-01</td>\n",
              "      <td>-6.746937e-01</td>\n",
              "      <td>-5.475864e-01</td>\n",
              "    </tr>\n",
              "    <tr>\n",
              "      <th>75%</th>\n",
              "      <td>7.233920e-01</td>\n",
              "      <td>7.154438e-01</td>\n",
              "      <td>9.505596e-01</td>\n",
              "      <td>5.598102e-01</td>\n",
              "      <td>5.162111e-01</td>\n",
              "      <td>-3.811266e-01</td>\n",
              "      <td>8.680843e-01</td>\n",
              "      <td>7.847138e-01</td>\n",
              "      <td>1.451778e+00</td>\n",
              "      <td>5.366543e-01</td>\n",
              "      <td>9.530612e-01</td>\n",
              "      <td>3.770347e-01</td>\n",
              "      <td>1.134853e+00</td>\n",
              "    </tr>\n",
              "    <tr>\n",
              "      <th>max</th>\n",
              "      <td>2.463637e+00</td>\n",
              "      <td>7.154438e-01</td>\n",
              "      <td>1.914764e+00</td>\n",
              "      <td>3.614933e+00</td>\n",
              "      <td>5.799427e+00</td>\n",
              "      <td>2.611423e+00</td>\n",
              "      <td>2.765341e+00</td>\n",
              "      <td>2.279091e+00</td>\n",
              "      <td>1.451778e+00</td>\n",
              "      <td>4.200768e+00</td>\n",
              "      <td>9.530612e-01</td>\n",
              "      <td>3.532220e+00</td>\n",
              "      <td>1.134853e+00</td>\n",
              "    </tr>\n",
              "  </tbody>\n",
              "</table>\n",
              "</div>"
            ],
            "text/plain": [
              "                age           sex  ...            ca          thal\n",
              "count  2.120000e+02  2.120000e+02  ...  2.120000e+02  2.120000e+02\n",
              "mean   1.921943e-16  8.274304e-17  ...  1.152118e-16  1.110223e-16\n",
              "std    1.000000e+00  1.000000e+00  ...  1.000000e+00  1.000000e+00\n",
              "min   -2.757098e+00 -1.391141e+00  ... -6.746937e-01 -3.912465e+00\n",
              "25%   -7.177485e-01 -1.391141e+00  ... -6.746937e-01 -5.475864e-01\n",
              "50%    7.080006e-02  7.154438e-01  ... -6.746937e-01 -5.475864e-01\n",
              "75%    7.233920e-01  7.154438e-01  ...  3.770347e-01  1.134853e+00\n",
              "max    2.463637e+00  7.154438e-01  ...  3.532220e+00  1.134853e+00\n",
              "\n",
              "[8 rows x 13 columns]"
            ]
          },
          "metadata": {
            "tags": []
          },
          "execution_count": 4
        }
      ]
    },
    {
      "cell_type": "code",
      "metadata": {
        "colab": {
          "base_uri": "https://localhost:8080/",
          "height": 402
        },
        "id": "mKkQFKBki7KL",
        "outputId": "f4f0df62-5551-481c-eea4-9687918e2727"
      },
      "source": [
        "# S2.2: Display descriptive statistics for the normalised values of the features for the test data-frames.\n",
        "norm_X_test.describe()"
      ],
      "execution_count": null,
      "outputs": [
        {
          "output_type": "execute_result",
          "data": {
            "text/html": [
              "<div>\n",
              "<style scoped>\n",
              "    .dataframe tbody tr th:only-of-type {\n",
              "        vertical-align: middle;\n",
              "    }\n",
              "\n",
              "    .dataframe tbody tr th {\n",
              "        vertical-align: top;\n",
              "    }\n",
              "\n",
              "    .dataframe thead th {\n",
              "        text-align: right;\n",
              "    }\n",
              "</style>\n",
              "<table border=\"1\" class=\"dataframe\">\n",
              "  <thead>\n",
              "    <tr style=\"text-align: right;\">\n",
              "      <th></th>\n",
              "      <th>age</th>\n",
              "      <th>sex</th>\n",
              "      <th>cp</th>\n",
              "      <th>trestbps</th>\n",
              "      <th>chol</th>\n",
              "      <th>fbs</th>\n",
              "      <th>restecg</th>\n",
              "      <th>thalach</th>\n",
              "      <th>exang</th>\n",
              "      <th>oldpeak</th>\n",
              "      <th>slope</th>\n",
              "      <th>ca</th>\n",
              "      <th>thal</th>\n",
              "    </tr>\n",
              "  </thead>\n",
              "  <tbody>\n",
              "    <tr>\n",
              "      <th>count</th>\n",
              "      <td>9.100000e+01</td>\n",
              "      <td>9.100000e+01</td>\n",
              "      <td>9.100000e+01</td>\n",
              "      <td>9.100000e+01</td>\n",
              "      <td>9.100000e+01</td>\n",
              "      <td>9.100000e+01</td>\n",
              "      <td>9.100000e+01</td>\n",
              "      <td>9.100000e+01</td>\n",
              "      <td>9.100000e+01</td>\n",
              "      <td>9.100000e+01</td>\n",
              "      <td>9.100000e+01</td>\n",
              "      <td>9.100000e+01</td>\n",
              "      <td>9.100000e+01</td>\n",
              "    </tr>\n",
              "    <tr>\n",
              "      <th>mean</th>\n",
              "      <td>-2.488852e-16</td>\n",
              "      <td>-1.049222e-16</td>\n",
              "      <td>4.880101e-18</td>\n",
              "      <td>-7.002945e-16</td>\n",
              "      <td>-2.196046e-17</td>\n",
              "      <td>-8.418175e-17</td>\n",
              "      <td>-9.760202e-18</td>\n",
              "      <td>-5.587716e-16</td>\n",
              "      <td>-2.440051e-18</td>\n",
              "      <td>2.602014e-16</td>\n",
              "      <td>-1.634834e-16</td>\n",
              "      <td>-1.220025e-16</td>\n",
              "      <td>2.464451e-16</td>\n",
              "    </tr>\n",
              "    <tr>\n",
              "      <th>std</th>\n",
              "      <td>1.000000e+00</td>\n",
              "      <td>1.000000e+00</td>\n",
              "      <td>1.000000e+00</td>\n",
              "      <td>1.000000e+00</td>\n",
              "      <td>1.000000e+00</td>\n",
              "      <td>1.000000e+00</td>\n",
              "      <td>1.000000e+00</td>\n",
              "      <td>1.000000e+00</td>\n",
              "      <td>1.000000e+00</td>\n",
              "      <td>1.000000e+00</td>\n",
              "      <td>1.000000e+00</td>\n",
              "      <td>1.000000e+00</td>\n",
              "      <td>1.000000e+00</td>\n",
              "    </tr>\n",
              "    <tr>\n",
              "      <th>min</th>\n",
              "      <td>-2.301763e+00</td>\n",
              "      <td>-1.661622e+00</td>\n",
              "      <td>-8.425578e-01</td>\n",
              "      <td>-1.853721e+00</td>\n",
              "      <td>-2.624853e+00</td>\n",
              "      <td>-4.938276e-01</td>\n",
              "      <td>-9.430373e-01</td>\n",
              "      <td>-3.319275e+00</td>\n",
              "      <td>-7.148350e-01</td>\n",
              "      <td>-8.367971e-01</td>\n",
              "      <td>-2.184053e+00</td>\n",
              "      <td>-8.102615e-01</td>\n",
              "      <td>-3.491486e+00</td>\n",
              "    </tr>\n",
              "    <tr>\n",
              "      <th>25%</th>\n",
              "      <td>-8.354271e-01</td>\n",
              "      <td>-1.661622e+00</td>\n",
              "      <td>-8.425578e-01</td>\n",
              "      <td>-6.650121e-01</td>\n",
              "      <td>-7.201088e-01</td>\n",
              "      <td>-4.938276e-01</td>\n",
              "      <td>-9.430373e-01</td>\n",
              "      <td>-6.418709e-01</td>\n",
              "      <td>-7.148350e-01</td>\n",
              "      <td>-8.367971e-01</td>\n",
              "      <td>-5.812398e-01</td>\n",
              "      <td>-8.102615e-01</td>\n",
              "      <td>-4.364358e-01</td>\n",
              "    </tr>\n",
              "    <tr>\n",
              "      <th>50%</th>\n",
              "      <td>1.797284e-01</td>\n",
              "      <td>5.952080e-01</td>\n",
              "      <td>-8.425578e-01</td>\n",
              "      <td>-1.662530e-02</td>\n",
              "      <td>-1.836075e-02</td>\n",
              "      <td>-4.938276e-01</td>\n",
              "      <td>-9.430373e-01</td>\n",
              "      <td>1.078023e-01</td>\n",
              "      <td>-7.148350e-01</td>\n",
              "      <td>-3.799059e-01</td>\n",
              "      <td>-5.812398e-01</td>\n",
              "      <td>-8.102615e-01</td>\n",
              "      <td>-4.364358e-01</td>\n",
              "    </tr>\n",
              "    <tr>\n",
              "      <th>75%</th>\n",
              "      <td>6.309086e-01</td>\n",
              "      <td>5.952080e-01</td>\n",
              "      <td>1.123410e+00</td>\n",
              "      <td>4.696648e-01</td>\n",
              "      <td>6.165541e-01</td>\n",
              "      <td>-4.938276e-01</td>\n",
              "      <td>9.639937e-01</td>\n",
              "      <td>6.432832e-01</td>\n",
              "      <td>1.383552e+00</td>\n",
              "      <td>5.719508e-01</td>\n",
              "      <td>1.021573e+00</td>\n",
              "      <td>9.246514e-01</td>\n",
              "      <td>1.091089e+00</td>\n",
              "    </tr>\n",
              "    <tr>\n",
              "      <th>max</th>\n",
              "      <td>2.435630e+00</td>\n",
              "      <td>5.952080e-01</td>\n",
              "      <td>2.106394e+00</td>\n",
              "      <td>3.549502e+00</td>\n",
              "      <td>3.679740e+00</td>\n",
              "      <td>2.002745e+00</td>\n",
              "      <td>2.871025e+00</td>\n",
              "      <td>1.864180e+00</td>\n",
              "      <td>1.383552e+00</td>\n",
              "      <td>3.884412e+00</td>\n",
              "      <td>1.021573e+00</td>\n",
              "      <td>2.659564e+00</td>\n",
              "      <td>1.091089e+00</td>\n",
              "    </tr>\n",
              "  </tbody>\n",
              "</table>\n",
              "</div>"
            ],
            "text/plain": [
              "                age           sex  ...            ca          thal\n",
              "count  9.100000e+01  9.100000e+01  ...  9.100000e+01  9.100000e+01\n",
              "mean  -2.488852e-16 -1.049222e-16  ... -1.220025e-16  2.464451e-16\n",
              "std    1.000000e+00  1.000000e+00  ...  1.000000e+00  1.000000e+00\n",
              "min   -2.301763e+00 -1.661622e+00  ... -8.102615e-01 -3.491486e+00\n",
              "25%   -8.354271e-01 -1.661622e+00  ... -8.102615e-01 -4.364358e-01\n",
              "50%    1.797284e-01  5.952080e-01  ... -8.102615e-01 -4.364358e-01\n",
              "75%    6.309086e-01  5.952080e-01  ...  9.246514e-01  1.091089e+00\n",
              "max    2.435630e+00  5.952080e-01  ...  2.659564e+00  1.091089e+00\n",
              "\n",
              "[8 rows x 13 columns]"
            ]
          },
          "metadata": {
            "tags": []
          },
          "execution_count": 5
        }
      ]
    },
    {
      "cell_type": "markdown",
      "metadata": {
        "id": "f6Fw8ItUlKQy"
      },
      "source": [
        "As we can observe in the output, the data is normalised because the mean and standard deviation values for each column are 0 and 1 respectively."
      ]
    },
    {
      "cell_type": "markdown",
      "metadata": {
        "id": "q8t9xTqji7Fv"
      },
      "source": [
        "---"
      ]
    },
    {
      "cell_type": "markdown",
      "metadata": {
        "id": "lcnUnBLDWBUm"
      },
      "source": [
        "####Activity 3: Features Selection Using RFE^^^\n",
        "\n",
        "Our next task is to select the relevant features from all the features that contribute to a person having a heart disease. The irrelevant features do not help in increasing the accuracy of a prediction model. Secondly, they also increase the training time of a model. You don't want to have either a very few features or too many of them in your prediction model.\n",
        "\n",
        "So, the question is **how to select features?**\n",
        "\n",
        "One simpler way is trial and error. You can pick **any one feature** at a time, build a prediction model and evaluate it.\n",
        "\n",
        "Similarly, you pick **any two features** at a time, a prediction model and evaluate it. For example\n",
        "- 1, 2\n",
        "- 1, 3\n",
        "- 1, 4\n",
        "etc.\n",
        "\n",
        "Similarly, you pick **any three features** at a time, a prediction model and evaluate it. For example\n",
        "- 1, 2, 3\n",
        "- 1, 2, 4\n",
        "- 2, 3, 4\n",
        "etc.\n",
        "\n",
        "And so on. However, all this is a very time-consuming process to do manually. Instead, you can use the `RFE` (Recursive Feature Elimination) class of the `sklearn.feature_selection` module.It is a  backward feature selection technique and is based on **feature importance**. You have already learnt how to use RFE in the linear regression lesson(s).\n",
        "\n",
        "So let's try to find the optimal number of features required using RFE to build a logistic regression model to predict whether a person has heart disease. Here is the list of steps below that we will follow for this purpose:\n",
        "\n",
        "1. Import the following modules\n",
        "```\n",
        "from sklearn.feature_selection import RFE\n",
        "from sklearn.metrics import f1_score\n",
        "from sklearn.linear_model import LogisticRegression\n",
        "```\n",
        "\n",
        "2. Create an empty dictionary and store it in a variable called `dict_rfe`.\n",
        "\n",
        "3. Create a `for` loop that iterates through all the columns in normalised training data-frame. Inside the loop:\n",
        "   \n",
        "   - Create an object of `LogisticRegression` class and store it in a variable called `lg_clf_2`.\n",
        "   \n",
        "   - Create an object of `RFE` class and store it in a variable called `rfe`. Inside the `RFE()` constructor, pass the object of logistic regression and the number of features to be selected by RFE as inputs.\n",
        "   \n",
        "   - Call the `fit()` function of the `RFE` class to train a logistic regression model on the train set with `i` number of features where `i` goes from `1` to `len(X_train.columns)`.\n",
        "   \n",
        "   - The `support_` attribute holds rank value(s) of the selected feature(s) where rank `1` denotes the most important feature.\n",
        "   \n",
        "   - Create a list to store the important features in a variable called `rfe_features`.\n",
        "   \n",
        "   - Create a new data-frame having the features selected by RFE store it in a variable called `rfe_X_train`.\n",
        "   \n",
        "   - Create another `LogisticRegression` object, store it in a variable called `lg_clf_3` and build a logistic regression model using the `rfe_X_train` data-frame and `y_train` series.\n",
        "   \n",
        "   - Predict the target values for the normalised test set (containing the feature(s) selected by RFE) by calling the `predict()` function on `lg_clf_3` object.\n",
        "   \n",
        "   - Calculate f1-scores using the function `f1_score()` function of `sklearn.metrics` module that returns a NumPy array containing f1-scores for both the classes. Store the array in a variable called `f1_scores_array`. The **syntax** for the `f1_score()` function is `f1_score(y_true, y_pred, average = None)`\n",
        "     where `y_true` and `y_pred` are the actual and predicted labels respectively, and `average = None` parameter returns the scores for each class.\n",
        "\n",
        "   - Add the number of selected features and corresponding features & f1-scores as key-value pairs in the `dict_rfe` dictionary."
      ]
    },
    {
      "cell_type": "code",
      "metadata": {
        "id": "bTJAe6qdSxTu"
      },
      "source": [
        "# S3.1: Create a dictionary containing the different combination of features selected by RFE and their corresponding f1-scores.\n",
        "# Import the libraries\n",
        "from sklearn.feature_selection import RFE\n",
        "from sklearn.metrics import f1_score\n",
        "from sklearn.linear_model import LogisticRegression\n",
        "\n",
        "# Create the empty dictionary.\n",
        "dict_rfe = {}\n",
        "\n",
        "# Create a loop\n",
        "for i in range(1, len(X_train.columns) + 1):\n",
        "  lg_clf_2 = LogisticRegression()\n",
        "  rfe = RFE(lg_clf_2, i) # 'i' is the number of features to be selected by RFE to fit a logistic regression model on norm_X_train and y_train.\n",
        "  rfe.fit(norm_X_train, y_train)\n",
        "\n",
        "  rfe_features = list(norm_X_train.columns[rfe.support_]) # A list of important features chosen by RFE.\n",
        "  rfe_X_train = norm_X_train[rfe_features]\n",
        "\n",
        "  # Build a logistic regression model using the features selected by RFE.\n",
        "  lg_clf_3 = LogisticRegression()\n",
        "  lg_clf_3.fit(rfe_X_train, y_train)\n",
        "\n",
        "  # Predicting 'y' values only for the test set as generally, they are predicted quite accurately for the train set.\n",
        "  y_test_pred = lg_clf_3.predict(norm_X_test[rfe_features])\n",
        "\n",
        "  f1_scores_array = f1_score(y_test, y_test_pred, average = None)\n",
        "  dict_rfe[i] = {\"features\": list(rfe_features), \"f1_score\": f1_scores_array} # 'i' is the number of features to be selected by RFE."
      ],
      "execution_count": null,
      "outputs": []
    },
    {
      "cell_type": "markdown",
      "metadata": {
        "id": "Y7Usuq9UBZwV"
      },
      "source": [
        "In the above code:\n",
        "\n",
        "1. ```\n",
        "   lg_clf_2 = LogisticRegression()\n",
        "   rfe = RFE(lg_clf_2, i)\n",
        "   rfe.fit(norm_X_train, y_train)\n",
        "   ```\n",
        "   part gets the most important features using RFE.\n",
        "\n",
        "2. ```\n",
        "   rfe_features = list(norm_X_train.columns[rfe.support_])\n",
        "   rfe_X_train = norm_X_train[rfe_features]\n",
        "   ```\n",
        "   part creates a new data-frame containing the values of the most important feature(s) selected by RFE.\n",
        "\n",
        "3. ```\n",
        "   lg_clf_3 = LogisticRegression()\n",
        "   lg_clf_3.fit(rfe_X_train, y_train)\n",
        "   ```\n",
        "   part builds a logistic regression model using the most important feature(s) selected by RFE.\n",
        "\n",
        "4. ```\n",
        "   y_test_pred = lg_clf_3.predict(norm_X_test[rfe_features])\n",
        "   ```\n",
        "   part predicts the target values on the test set only as generally a machine learning model performs well on the training set.\n",
        "\n",
        "5. ```\n",
        "   f1_scores_array = f1_score(y_test, y_test_pred, average = None)\n",
        "   ```\n",
        "   part calculates f1-scores\n",
        "\n",
        "6. ```\n",
        "   dict_rfe[i] = {\"features\": list(rfe_features), \"f1_score\": f1_scores_array}\n",
        "   ```\n",
        "   part adds the number of features, features and their corresponding f1-scores as key-value pairs to the dictionary stored in the `dict_rfe` variable.\n",
        "\n",
        "Let's print the dictionary created."
      ]
    },
    {
      "cell_type": "code",
      "metadata": {
        "colab": {
          "base_uri": "https://localhost:8080/"
        },
        "id": "mx87KQFxSxTx",
        "outputId": "b0f546ad-2460-4f37-991c-c2601c6da31a"
      },
      "source": [
        "# S3.2: Print the dictionary created in the previous exercise.\n",
        "dict_rfe"
      ],
      "execution_count": null,
      "outputs": [
        {
          "output_type": "execute_result",
          "data": {
            "text/plain": [
              "{1: {'f1_score': array([0.65789474, 0.75471698]), 'features': ['oldpeak']},\n",
              " 2: {'f1_score': array([0.78378378, 0.85185185]),\n",
              "  'features': ['cp', 'oldpeak']},\n",
              " 3: {'f1_score': array([0.8       , 0.84313725]),\n",
              "  'features': ['cp', 'oldpeak', 'ca']},\n",
              " 4: {'f1_score': array([0.76923077, 0.82692308]),\n",
              "  'features': ['cp', 'oldpeak', 'ca', 'thal']},\n",
              " 5: {'f1_score': array([0.79487179, 0.84615385]),\n",
              "  'features': ['cp', 'exang', 'oldpeak', 'ca', 'thal']},\n",
              " 6: {'f1_score': array([0.8       , 0.84313725]),\n",
              "  'features': ['cp', 'exang', 'oldpeak', 'slope', 'ca', 'thal']},\n",
              " 7: {'f1_score': array([0.78481013, 0.83495146]),\n",
              "  'features': ['sex', 'cp', 'exang', 'oldpeak', 'slope', 'ca', 'thal']},\n",
              " 8: {'f1_score': array([0.79487179, 0.84615385]),\n",
              "  'features': ['sex',\n",
              "   'cp',\n",
              "   'restecg',\n",
              "   'exang',\n",
              "   'oldpeak',\n",
              "   'slope',\n",
              "   'ca',\n",
              "   'thal']},\n",
              " 9: {'f1_score': array([0.82051282, 0.86538462]),\n",
              "  'features': ['sex',\n",
              "   'cp',\n",
              "   'restecg',\n",
              "   'thalach',\n",
              "   'exang',\n",
              "   'oldpeak',\n",
              "   'slope',\n",
              "   'ca',\n",
              "   'thal']},\n",
              " 10: {'f1_score': array([0.82051282, 0.86538462]),\n",
              "  'features': ['sex',\n",
              "   'cp',\n",
              "   'fbs',\n",
              "   'restecg',\n",
              "   'thalach',\n",
              "   'exang',\n",
              "   'oldpeak',\n",
              "   'slope',\n",
              "   'ca',\n",
              "   'thal']},\n",
              " 11: {'f1_score': array([0.82051282, 0.86538462]),\n",
              "  'features': ['sex',\n",
              "   'cp',\n",
              "   'trestbps',\n",
              "   'fbs',\n",
              "   'restecg',\n",
              "   'thalach',\n",
              "   'exang',\n",
              "   'oldpeak',\n",
              "   'slope',\n",
              "   'ca',\n",
              "   'thal']},\n",
              " 12: {'f1_score': array([0.81012658, 0.85436893]),\n",
              "  'features': ['sex',\n",
              "   'cp',\n",
              "   'trestbps',\n",
              "   'chol',\n",
              "   'fbs',\n",
              "   'restecg',\n",
              "   'thalach',\n",
              "   'exang',\n",
              "   'oldpeak',\n",
              "   'slope',\n",
              "   'ca',\n",
              "   'thal']},\n",
              " 13: {'f1_score': array([0.81012658, 0.85436893]),\n",
              "  'features': ['age',\n",
              "   'sex',\n",
              "   'cp',\n",
              "   'trestbps',\n",
              "   'chol',\n",
              "   'fbs',\n",
              "   'restecg',\n",
              "   'thalach',\n",
              "   'exang',\n",
              "   'oldpeak',\n",
              "   'slope',\n",
              "   'ca',\n",
              "   'thal']}}"
            ]
          },
          "metadata": {
            "tags": []
          },
          "execution_count": 7
        }
      ]
    },
    {
      "cell_type": "markdown",
      "metadata": {
        "id": "CV8-ktoQAXTo"
      },
      "source": [
        "Let's convert the `dict_rfe` dictionary to a Pandas DataFrame using the `from_dict()` function of `pandas` module. Pass `orient = index` parameter to the function to orient the DataFrame index-wise. Otherwise, the keys of the dictionary i.e. (1 through 12) will become columns.\n",
        "\n",
        "Moreover, we need columns having larger width in the data-frame as the columns will contain lists and arrays as their values. To do this you can use the `max_colwidth` attribute.\n",
        "\n",
        "**Syntax:** `pd.options.display.max_colwidth = W`\n",
        "\n",
        "where `W` is the required column width.\n",
        "\n",
        "Let's set the column widths to 100.\n"
      ]
    },
    {
      "cell_type": "code",
      "metadata": {
        "colab": {
          "base_uri": "https://localhost:8080/",
          "height": 452
        },
        "id": "dGKNSmKZaTck",
        "outputId": "b597800c-d9d7-479f-9b91-7626bc5f9411"
      },
      "source": [
        "# S3.3: Convert the dictionary to the dataframe\n",
        "pd.options.display.max_colwidth = 100\n",
        "f1_df = pd.DataFrame.from_dict(dict_rfe, orient = 'index')\n",
        "f1_df"
      ],
      "execution_count": null,
      "outputs": [
        {
          "output_type": "execute_result",
          "data": {
            "text/html": [
              "<div>\n",
              "<style scoped>\n",
              "    .dataframe tbody tr th:only-of-type {\n",
              "        vertical-align: middle;\n",
              "    }\n",
              "\n",
              "    .dataframe tbody tr th {\n",
              "        vertical-align: top;\n",
              "    }\n",
              "\n",
              "    .dataframe thead th {\n",
              "        text-align: right;\n",
              "    }\n",
              "</style>\n",
              "<table border=\"1\" class=\"dataframe\">\n",
              "  <thead>\n",
              "    <tr style=\"text-align: right;\">\n",
              "      <th></th>\n",
              "      <th>features</th>\n",
              "      <th>f1_score</th>\n",
              "    </tr>\n",
              "  </thead>\n",
              "  <tbody>\n",
              "    <tr>\n",
              "      <th>1</th>\n",
              "      <td>[oldpeak]</td>\n",
              "      <td>[0.6578947368421052, 0.7547169811320756]</td>\n",
              "    </tr>\n",
              "    <tr>\n",
              "      <th>2</th>\n",
              "      <td>[cp, oldpeak]</td>\n",
              "      <td>[0.7837837837837839, 0.851851851851852]</td>\n",
              "    </tr>\n",
              "    <tr>\n",
              "      <th>3</th>\n",
              "      <td>[cp, oldpeak, ca]</td>\n",
              "      <td>[0.8, 0.8431372549019608]</td>\n",
              "    </tr>\n",
              "    <tr>\n",
              "      <th>4</th>\n",
              "      <td>[cp, oldpeak, ca, thal]</td>\n",
              "      <td>[0.7692307692307694, 0.826923076923077]</td>\n",
              "    </tr>\n",
              "    <tr>\n",
              "      <th>5</th>\n",
              "      <td>[cp, exang, oldpeak, ca, thal]</td>\n",
              "      <td>[0.7948717948717948, 0.8461538461538461]</td>\n",
              "    </tr>\n",
              "    <tr>\n",
              "      <th>6</th>\n",
              "      <td>[cp, exang, oldpeak, slope, ca, thal]</td>\n",
              "      <td>[0.8, 0.8431372549019608]</td>\n",
              "    </tr>\n",
              "    <tr>\n",
              "      <th>7</th>\n",
              "      <td>[sex, cp, exang, oldpeak, slope, ca, thal]</td>\n",
              "      <td>[0.7848101265822786, 0.8349514563106797]</td>\n",
              "    </tr>\n",
              "    <tr>\n",
              "      <th>8</th>\n",
              "      <td>[sex, cp, restecg, exang, oldpeak, slope, ca, thal]</td>\n",
              "      <td>[0.7948717948717948, 0.8461538461538461]</td>\n",
              "    </tr>\n",
              "    <tr>\n",
              "      <th>9</th>\n",
              "      <td>[sex, cp, restecg, thalach, exang, oldpeak, slope, ca, thal]</td>\n",
              "      <td>[0.8205128205128206, 0.8653846153846153]</td>\n",
              "    </tr>\n",
              "    <tr>\n",
              "      <th>10</th>\n",
              "      <td>[sex, cp, fbs, restecg, thalach, exang, oldpeak, slope, ca, thal]</td>\n",
              "      <td>[0.8205128205128206, 0.8653846153846153]</td>\n",
              "    </tr>\n",
              "    <tr>\n",
              "      <th>11</th>\n",
              "      <td>[sex, cp, trestbps, fbs, restecg, thalach, exang, oldpeak, slope, ca, thal]</td>\n",
              "      <td>[0.8205128205128206, 0.8653846153846153]</td>\n",
              "    </tr>\n",
              "    <tr>\n",
              "      <th>12</th>\n",
              "      <td>[sex, cp, trestbps, chol, fbs, restecg, thalach, exang, oldpeak, slope, ca, thal]</td>\n",
              "      <td>[0.810126582278481, 0.8543689320388349]</td>\n",
              "    </tr>\n",
              "    <tr>\n",
              "      <th>13</th>\n",
              "      <td>[age, sex, cp, trestbps, chol, fbs, restecg, thalach, exang, oldpeak, slope, ca, thal]</td>\n",
              "      <td>[0.810126582278481, 0.8543689320388349]</td>\n",
              "    </tr>\n",
              "  </tbody>\n",
              "</table>\n",
              "</div>"
            ],
            "text/plain": [
              "                                                                                  features                                  f1_score\n",
              "1                                                                                [oldpeak]  [0.6578947368421052, 0.7547169811320756]\n",
              "2                                                                            [cp, oldpeak]   [0.7837837837837839, 0.851851851851852]\n",
              "3                                                                        [cp, oldpeak, ca]                 [0.8, 0.8431372549019608]\n",
              "4                                                                  [cp, oldpeak, ca, thal]   [0.7692307692307694, 0.826923076923077]\n",
              "5                                                           [cp, exang, oldpeak, ca, thal]  [0.7948717948717948, 0.8461538461538461]\n",
              "6                                                    [cp, exang, oldpeak, slope, ca, thal]                 [0.8, 0.8431372549019608]\n",
              "7                                               [sex, cp, exang, oldpeak, slope, ca, thal]  [0.7848101265822786, 0.8349514563106797]\n",
              "8                                      [sex, cp, restecg, exang, oldpeak, slope, ca, thal]  [0.7948717948717948, 0.8461538461538461]\n",
              "9                             [sex, cp, restecg, thalach, exang, oldpeak, slope, ca, thal]  [0.8205128205128206, 0.8653846153846153]\n",
              "10                       [sex, cp, fbs, restecg, thalach, exang, oldpeak, slope, ca, thal]  [0.8205128205128206, 0.8653846153846153]\n",
              "11             [sex, cp, trestbps, fbs, restecg, thalach, exang, oldpeak, slope, ca, thal]  [0.8205128205128206, 0.8653846153846153]\n",
              "12       [sex, cp, trestbps, chol, fbs, restecg, thalach, exang, oldpeak, slope, ca, thal]   [0.810126582278481, 0.8543689320388349]\n",
              "13  [age, sex, cp, trestbps, chol, fbs, restecg, thalach, exang, oldpeak, slope, ca, thal]   [0.810126582278481, 0.8543689320388349]"
            ]
          },
          "metadata": {
            "tags": []
          },
          "execution_count": 8
        }
      ]
    },
    {
      "cell_type": "markdown",
      "metadata": {
        "id": "gAxf5qBWwt4j"
      },
      "source": [
        "From the above data-frame, we can see that we get the best f1-scores for both the classes when we have 3 features which are `cp, oldpeak` and `ca`. Beyond this point, the number of features increase but the f1-scores increase only marginally. Hence, it is best to have these many features to build a prediction model to predict whether a patient has heart disease.\n",
        "\n",
        "Let's now rebuild a logistic regression model with the ideal number of features to predict whether a person has a heart disease."
      ]
    },
    {
      "cell_type": "code",
      "metadata": {
        "colab": {
          "base_uri": "https://localhost:8080/"
        },
        "id": "xEftTX0v6DLF",
        "outputId": "aa7b9774-8aff-43c8-8aca-8baa4c6d55f2"
      },
      "source": [
        "# S3.4: Logistic Regression with the ideal number of features.\n",
        "lg_clf_4 = LogisticRegression()\n",
        "rfe = RFE(lg_clf_4, 3)\n",
        "\n",
        "rfe.fit(norm_X_train, y_train)\n",
        "\n",
        "rfe_features = norm_X_train.columns[rfe.support_]\n",
        "print(rfe_features)\n",
        "final_X_train = norm_X_train[rfe_features]\n",
        "\n",
        "lg_clf_4 = LogisticRegression()\n",
        "lg_clf_4.fit(final_X_train, y_train)\n",
        "\n",
        "y_test_predict = lg_clf_4.predict(norm_X_test[rfe_features])\n",
        "final_f1_scores_array = f1_score(y_test, y_test_predict, average = None)\n",
        "print(final_f1_scores_array)"
      ],
      "execution_count": null,
      "outputs": [
        {
          "output_type": "stream",
          "text": [
            "Index(['cp', 'oldpeak', 'ca'], dtype='object')\n",
            "[0.8        0.84313725]\n"
          ],
          "name": "stdout"
        }
      ]
    },
    {
      "cell_type": "markdown",
      "metadata": {
        "id": "U5FNaiGFwjfC"
      },
      "source": [
        "Let's stop here. In the next class, we will learn more metrics to evaluate a classification-based machine learning model."
      ]
    },
    {
      "cell_type": "markdown",
      "metadata": {
        "id": "DzywToBswi0j"
      },
      "source": [
        "----"
      ]
    },
    {
      "cell_type": "markdown",
      "metadata": {
        "id": "_AIDpq8I1dRP"
      },
      "source": [
        "### Activities\n",
        "\n",
        "**Teacher Activities:**\n",
        "\n",
        "1. Logistic Regression - Heart Disease Prediction (Class Copy)\n",
        "   \n",
        "   Link on Panel\n",
        "\n",
        "2. Logistic Regression - Heart Disease Prediction (Reference)\n",
        "\n",
        "   Link on Panel"
      ]
    },
    {
      "cell_type": "markdown",
      "metadata": {
        "id": "IsdM85lGywxg"
      },
      "source": [
        "---"
      ]
    }
  ]
}