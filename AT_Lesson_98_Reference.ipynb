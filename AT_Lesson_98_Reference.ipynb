{
  "nbformat": 4,
  "nbformat_minor": 0,
  "metadata": {
    "colab": {
      "provenance": [],
      "toc_visible": true,
      "include_colab_link": true
    },
    "kernelspec": {
      "display_name": "Python 3",
      "name": "python3"
    },
    "language_info": {
      "name": "python"
    }
  },
  "cells": [
    {
      "cell_type": "markdown",
      "metadata": {
        "id": "view-in-github",
        "colab_type": "text"
      },
      "source": [
        "<a href=\"https://colab.research.google.com/github/nalinis07/APT_Ref_Copy_Links/blob/MASTER/AT_Lesson_98_Reference.ipynb\" target=\"_parent\"><img src=\"https://colab.research.google.com/assets/colab-badge.svg\" alt=\"Open In Colab\"/></a>"
      ]
    },
    {
      "cell_type": "markdown",
      "metadata": {
        "id": "g-45CZggOrpA"
      },
      "source": [
        "# Lesson 98: Detect Credit Card Defaulters - Pivot Table & Subplots"
      ]
    },
    {
      "cell_type": "markdown",
      "metadata": {
        "id": "CTZaUjCJQTqN"
      },
      "source": [
        "**WARNING:** The reference notebook is meant **ONLY** for a teacher. Please **DO NOT** share it with any student.\n",
        "\n",
        "The contents of the reference notebook are meant only to prepare a teacher for a class. To conduct the class, use the class copy of the reference notebook. The link and the instructions for the same are provided in the **Notes To The Teacher** section.\n",
        "\n",
        "\n",
        "|Particulars|Description|\n",
        "|-|-|\n",
        "|**Topic**|Detect Credit Defaulters - Pivot Table & Subplots|\n",
        "|||\n",
        "|**Class Description**|A student learns to create pivot tables and subplots to summarise a given data|\n",
        "|||\n",
        "|**Class**|C98|\n",
        "|||\n",
        "|**Class Time**|55 minutes|\n",
        "|||\n",
        "|**Goal**|Create a pivot table|\n",
        "||Create a subplot|\n",
        "|||\n",
        "|**Teacher Resources**|Google Account|\n",
        "||Laptop with internet connectivity|\n",
        "||Earphones with mic|\n",
        "|||\n",
        "|**Student Resources**|Google Account|\n",
        "||Laptop with internet connectivity|\n",
        "||Earphones with mic|"
      ]
    },
    {
      "cell_type": "markdown",
      "metadata": {
        "id": "diomWjR5QxR3"
      },
      "source": [
        "---"
      ]
    },
    {
      "cell_type": "markdown",
      "metadata": {
        "id": "K2s03Tt4Q2Pc"
      },
      "source": [
        "### Warm-up Quiz\n",
        "\n",
        "```\n",
        "TEACHER\n",
        "I have an exciting quiz question for you! Are you ready to answer this question?\n",
        "\n",
        "EXPECTED STUDENT RESPONSE\n",
        "Yes.\n",
        "```\n",
        "\n",
        "**Instructions for the Teacher:**\n",
        "- Please click on the \"Quiz Time\" button on the bottom right corner of your screen to start the In-Class Quiz. <img src='https://student-datasets-bucket.s3.ap-south-1.amazonaws.com/images/quiz-time.png' width = 150>\n",
        "\n",
        "- A quiz will be visible to both you and the student. Encourage the student to answer the quiz question.\n",
        "\n",
        "- The student may choose the wrong option, help the student to think correctly about the question and then answer again.\n",
        "\n",
        "- After the student selects the correct option, the \"End Quiz\" button will start appearing on your screen. <img src='https://student-datasets-bucket.s3.ap-south-1.amazonaws.com/images/end-quiz.png' width = 150>  \n",
        "\n",
        "- Click the \"End quiz\" button to close the quiz pop-up and continue the class.\n",
        "  \n",
        "- Do not spend more than 2 minutes on this quiz."
      ]
    },
    {
      "cell_type": "markdown",
      "metadata": {
        "id": "2RXmkhWwQx37"
      },
      "source": [
        "---"
      ]
    },
    {
      "cell_type": "markdown",
      "metadata": {
        "id": "E37EJJ6KodVF"
      },
      "source": [
        "### Teacher-Student Activities\n",
        "\n",
        "In this lesson, we will begin learning another classification algorithm called **Decision Trees**. It forms a basis for all the tree based algorithms such as **Random Forest** and **XGBoost**. We will build decision tree by solving a classification-based problem in which we have to find the credit card defaulters.\n",
        "\n",
        "**What is Credit Card default**\n",
        "\n",
        "A payment default occurs when you fail to pay the Minimum Amount Due on the credit card for a few consecutive months. Usually, the default notice is sent by the card issuer after 6 consecutive missed payments. What happens when you are marked as a credit card defaulter:\n",
        "1. Credit score will be impacted.\n",
        "2. Your credit card gets blocked.\n",
        "3. You may get blacklisted.\n",
        "3. High interest and penalty rates.\n",
        "4. Legal action can be taken.\n",
        "5. Recovery agents may approach you.\n",
        "6. Assets acquisition.\n",
        "\n",
        "[Credit Card Defaulter ](https://www.paisabazaar.com/credit-card/credit-card-defaulter/)"
      ]
    },
    {
      "cell_type": "markdown",
      "metadata": {
        "id": "trii0pD_mdZR"
      },
      "source": [
        "---"
      ]
    },
    {
      "cell_type": "markdown",
      "metadata": {
        "id": "JQA4bk5QZAak"
      },
      "source": [
        "#### Problem Statement\n",
        "\n",
        "The Taiwanese bank has issued credit cards to many of its clients. They have maintained a dataset of credit card `DEFAULTERS` for a period from April 2005 to September 2005.\n",
        "\n",
        "You need to build a **Decision Tree** model to predict whether or not the client will pay the credit card bill for the next month.\n",
        "\n",
        "Predicting accurately which customers are most probable to default represents a significant business opportunity for all banks. This can improve the customer screening process and also helps in assessing the credibility of the customer. It also helps bank in reducing the spending limit of the credit card holder or initiate with the legal steps for amount recovery.\n",
        "\n",
        "**Dataset Description**\n",
        "\n",
        "The dataset contains 30,000 rows and 25 columns. Each column represents an attribute of the customer as described in the table below.\n",
        "\n",
        "|Sr No.|Attribute|Attribute Information|\n",
        "|-|-|-|\n",
        "|1|ID|ID of each customer, which has been masked to display serial number to hide confidential customer information (Integer)|\n",
        "|2|LIMIT_BAL|Amount of given credit in NT dollars (including supplementary creditcards) (Float)|\n",
        "|3|SEX|Gender (1=male, 2=female) (Integer)|\n",
        "|4|EDUCATION| (1=graduate school, 2=university, 3=high school, 4=others, 5=unknown, 6=unknown) (Integer)|\n",
        "|5|MARRIAGE|Marital status (1=married, 2=single, 3=others) (Integer)|\n",
        "|6|AGE|Customer age in years (Integer)|\n",
        "|7|PAY_0|Repayment status in September, 2005 (-1=paid on time, 1=payment delay for one month, 2=payment delay for two months, … , 8=payment delay for eight months and above) (Integer)|\n",
        "|8|PAY_2|Repayment status in August, 2005 (scale same as above) (Integer)|\n",
        "|9|PAY_3|Repayment status in July, 2005 (scale same as above) (Integer)|\n",
        "|10|PAY_4|Repayment status in June, 2005 (scale same as above) (Integer)|\n",
        "|11|PAY_5|Repayment status in May, 2005 (scale same as above) (Integer)|\n",
        "|12|PAY_6|Repayment status in April, 2005 (scale same as above) (Integer)|\n",
        "|13|BILL_AMT1|Amount of bill statement in September, 2005 (NT dollar) (Float)|\n",
        "|14|BILL_AMT2|Amount of bill statement in August, 2005 (NT dollar) (Float)|\n",
        "|15|BILL_AMT3|Amount of bill statement in July, 2005 (NT dollar) (Float)|\n",
        "|16|BILL_AMT4|Amount of bill statement in June, 2005 (NT dollar) (Float)|\n",
        "|17|BILL_AMT5|Amount of bill statement in May, 2005 (NT dollar) (Float)|\n",
        "|18|BILL_AMT6|Amount of bill statement in April, 2005 (NT dollar) (Float)|\n",
        "|19|PAY_AMT1|Amount of previous payment in September, 2005 (NT dollar) (Float)|\n",
        "|20|PAY_AMT2|Amount of previous payment in August, 2005 (NT dollar) (Float)|\n",
        "|21|PAY_AMT3|Amount of previous payment in July, 2005 (NT dollar) (Float)|\n",
        "|22|PAY_AMT4|Amount of previous payment in June, 2005 (NT dollar) (Float)|\n",
        "|23|PAY_AMT5|Amount of previous payment in May, 2005 (NT dollar) (Float)|\n",
        "|24|PAY_AMT6|Amount of previous payment in April, 2005 (NT dollar) (Float)|\n",
        "|25|default.payment.next.month|Default payment (1=yes, 0=no) (Integer)|\n",
        "\n",
        "<br>\n",
        "\n",
        "This data set consists of following key features:\n",
        "- The payment status for 6 previous bill cycles.\n",
        "- The outstanding bill amount and the repayment status along with the amount paid.\n",
        "- The demographic information of the customers.\n",
        "\n",
        "The target column of this dataset is `default.payment.next.month` which classifies the customer into two categories:\n",
        "- `1` (yes) - means the customer is not going to pay for the next month bill and hence will be termed as **defaulter**.\n",
        "- `0` (no) - means the customer will pay the bill for the next month and will be termed as **non-defaulter**.\n",
        "\n",
        "\n",
        "Some ideas for exploration:\n",
        "1. How does the probability of default payment vary by categories of different demographic variables?\n",
        "2. Which variables are the strongest predictors of default payment?\n",
        "\n",
        "\n",
        "**Dataset Credits:** https://archive.ics.uci.edu/ml/datasets/default+of+credit+card+clients\n",
        "\n",
        "\n",
        "**Citations:**\n",
        "\n",
        "1. Yeh, I. C., & Lien, C. H. (2009). The comparisons of data mining techniques for the predictive accuracy of probability of default of credit card clients. Expert Systems with Applications, 36(2), 2473-2480.\n",
        "\n",
        "2. Dua, D., & Graff, C.. (2017). UCI Machine Learning Repository."
      ]
    },
    {
      "cell_type": "markdown",
      "metadata": {
        "id": "2aFh-21fZAXK"
      },
      "source": [
        "---"
      ]
    },
    {
      "cell_type": "markdown",
      "metadata": {
        "id": "DMLOc1fJZAVG"
      },
      "source": [
        "#### Activity 1: Importing Modules & Reading Data\n",
        "\n",
        "Let's import the necessary Python modules, read the data from a csv file to create a Pandas DataFrame and go through the necessary data-cleaning process (if required).\n",
        "\n",
        "Here is the link to the dataset:\n",
        "https://s3-student-datasets-bucket.whjr.online/whitehat-ds-datasets/uci-credit-card-fraud/UCI_Credit_Card.csv"
      ]
    },
    {
      "cell_type": "code",
      "metadata": {
        "colab": {
          "base_uri": "https://localhost:8080/",
          "height": 224
        },
        "id": "FeTEtUPHPEzV",
        "outputId": "12b1936a-0ff6-4a43-8e87-d52cac8b4feb"
      },
      "source": [
        "# S1.1: Import the modules, read the dataset and create a Pandas DataFrame.\n",
        "import numpy as np\n",
        "import pandas as pd\n",
        "import seaborn as sns\n",
        "import matplotlib.pyplot as plt\n",
        "\n",
        "cc_client_csv = 'https://s3-student-datasets-bucket.whjr.online/whitehat-ds-datasets/uci-credit-card-fraud/UCI_Credit_Card.csv'\n",
        "df = pd.read_csv(cc_client_csv)\n",
        "\n",
        "# Print the first five records\n",
        "df.head()"
      ],
      "execution_count": null,
      "outputs": [
        {
          "output_type": "execute_result",
          "data": {
            "text/html": [
              "<div>\n",
              "<style scoped>\n",
              "    .dataframe tbody tr th:only-of-type {\n",
              "        vertical-align: middle;\n",
              "    }\n",
              "\n",
              "    .dataframe tbody tr th {\n",
              "        vertical-align: top;\n",
              "    }\n",
              "\n",
              "    .dataframe thead th {\n",
              "        text-align: right;\n",
              "    }\n",
              "</style>\n",
              "<table border=\"1\" class=\"dataframe\">\n",
              "  <thead>\n",
              "    <tr style=\"text-align: right;\">\n",
              "      <th></th>\n",
              "      <th>ID</th>\n",
              "      <th>LIMIT_BAL</th>\n",
              "      <th>SEX</th>\n",
              "      <th>EDUCATION</th>\n",
              "      <th>MARRIAGE</th>\n",
              "      <th>AGE</th>\n",
              "      <th>PAY_0</th>\n",
              "      <th>PAY_2</th>\n",
              "      <th>PAY_3</th>\n",
              "      <th>PAY_4</th>\n",
              "      <th>PAY_5</th>\n",
              "      <th>PAY_6</th>\n",
              "      <th>BILL_AMT1</th>\n",
              "      <th>BILL_AMT2</th>\n",
              "      <th>BILL_AMT3</th>\n",
              "      <th>BILL_AMT4</th>\n",
              "      <th>BILL_AMT5</th>\n",
              "      <th>BILL_AMT6</th>\n",
              "      <th>PAY_AMT1</th>\n",
              "      <th>PAY_AMT2</th>\n",
              "      <th>PAY_AMT3</th>\n",
              "      <th>PAY_AMT4</th>\n",
              "      <th>PAY_AMT5</th>\n",
              "      <th>PAY_AMT6</th>\n",
              "      <th>default.payment.next.month</th>\n",
              "    </tr>\n",
              "  </thead>\n",
              "  <tbody>\n",
              "    <tr>\n",
              "      <th>0</th>\n",
              "      <td>1</td>\n",
              "      <td>20000.0</td>\n",
              "      <td>2</td>\n",
              "      <td>2</td>\n",
              "      <td>1</td>\n",
              "      <td>24</td>\n",
              "      <td>2</td>\n",
              "      <td>2</td>\n",
              "      <td>-1</td>\n",
              "      <td>-1</td>\n",
              "      <td>-2</td>\n",
              "      <td>-2</td>\n",
              "      <td>3913.0</td>\n",
              "      <td>3102.0</td>\n",
              "      <td>689.0</td>\n",
              "      <td>0.0</td>\n",
              "      <td>0.0</td>\n",
              "      <td>0.0</td>\n",
              "      <td>0.0</td>\n",
              "      <td>689.0</td>\n",
              "      <td>0.0</td>\n",
              "      <td>0.0</td>\n",
              "      <td>0.0</td>\n",
              "      <td>0.0</td>\n",
              "      <td>1</td>\n",
              "    </tr>\n",
              "    <tr>\n",
              "      <th>1</th>\n",
              "      <td>2</td>\n",
              "      <td>120000.0</td>\n",
              "      <td>2</td>\n",
              "      <td>2</td>\n",
              "      <td>2</td>\n",
              "      <td>26</td>\n",
              "      <td>-1</td>\n",
              "      <td>2</td>\n",
              "      <td>0</td>\n",
              "      <td>0</td>\n",
              "      <td>0</td>\n",
              "      <td>2</td>\n",
              "      <td>2682.0</td>\n",
              "      <td>1725.0</td>\n",
              "      <td>2682.0</td>\n",
              "      <td>3272.0</td>\n",
              "      <td>3455.0</td>\n",
              "      <td>3261.0</td>\n",
              "      <td>0.0</td>\n",
              "      <td>1000.0</td>\n",
              "      <td>1000.0</td>\n",
              "      <td>1000.0</td>\n",
              "      <td>0.0</td>\n",
              "      <td>2000.0</td>\n",
              "      <td>1</td>\n",
              "    </tr>\n",
              "    <tr>\n",
              "      <th>2</th>\n",
              "      <td>3</td>\n",
              "      <td>90000.0</td>\n",
              "      <td>2</td>\n",
              "      <td>2</td>\n",
              "      <td>2</td>\n",
              "      <td>34</td>\n",
              "      <td>0</td>\n",
              "      <td>0</td>\n",
              "      <td>0</td>\n",
              "      <td>0</td>\n",
              "      <td>0</td>\n",
              "      <td>0</td>\n",
              "      <td>29239.0</td>\n",
              "      <td>14027.0</td>\n",
              "      <td>13559.0</td>\n",
              "      <td>14331.0</td>\n",
              "      <td>14948.0</td>\n",
              "      <td>15549.0</td>\n",
              "      <td>1518.0</td>\n",
              "      <td>1500.0</td>\n",
              "      <td>1000.0</td>\n",
              "      <td>1000.0</td>\n",
              "      <td>1000.0</td>\n",
              "      <td>5000.0</td>\n",
              "      <td>0</td>\n",
              "    </tr>\n",
              "    <tr>\n",
              "      <th>3</th>\n",
              "      <td>4</td>\n",
              "      <td>50000.0</td>\n",
              "      <td>2</td>\n",
              "      <td>2</td>\n",
              "      <td>1</td>\n",
              "      <td>37</td>\n",
              "      <td>0</td>\n",
              "      <td>0</td>\n",
              "      <td>0</td>\n",
              "      <td>0</td>\n",
              "      <td>0</td>\n",
              "      <td>0</td>\n",
              "      <td>46990.0</td>\n",
              "      <td>48233.0</td>\n",
              "      <td>49291.0</td>\n",
              "      <td>28314.0</td>\n",
              "      <td>28959.0</td>\n",
              "      <td>29547.0</td>\n",
              "      <td>2000.0</td>\n",
              "      <td>2019.0</td>\n",
              "      <td>1200.0</td>\n",
              "      <td>1100.0</td>\n",
              "      <td>1069.0</td>\n",
              "      <td>1000.0</td>\n",
              "      <td>0</td>\n",
              "    </tr>\n",
              "    <tr>\n",
              "      <th>4</th>\n",
              "      <td>5</td>\n",
              "      <td>50000.0</td>\n",
              "      <td>1</td>\n",
              "      <td>2</td>\n",
              "      <td>1</td>\n",
              "      <td>57</td>\n",
              "      <td>-1</td>\n",
              "      <td>0</td>\n",
              "      <td>-1</td>\n",
              "      <td>0</td>\n",
              "      <td>0</td>\n",
              "      <td>0</td>\n",
              "      <td>8617.0</td>\n",
              "      <td>5670.0</td>\n",
              "      <td>35835.0</td>\n",
              "      <td>20940.0</td>\n",
              "      <td>19146.0</td>\n",
              "      <td>19131.0</td>\n",
              "      <td>2000.0</td>\n",
              "      <td>36681.0</td>\n",
              "      <td>10000.0</td>\n",
              "      <td>9000.0</td>\n",
              "      <td>689.0</td>\n",
              "      <td>679.0</td>\n",
              "      <td>0</td>\n",
              "    </tr>\n",
              "  </tbody>\n",
              "</table>\n",
              "</div>"
            ],
            "text/plain": [
              "   ID  LIMIT_BAL  SEX  ...  PAY_AMT5  PAY_AMT6  default.payment.next.month\n",
              "0   1    20000.0    2  ...       0.0       0.0                           1\n",
              "1   2   120000.0    2  ...       0.0    2000.0                           1\n",
              "2   3    90000.0    2  ...    1000.0    5000.0                           0\n",
              "3   4    50000.0    2  ...    1069.0    1000.0                           0\n",
              "4   5    50000.0    1  ...     689.0     679.0                           0\n",
              "\n",
              "[5 rows x 25 columns]"
            ]
          },
          "metadata": {
            "tags": []
          },
          "execution_count": 1
        }
      ]
    },
    {
      "cell_type": "markdown",
      "metadata": {
        "id": "Ek14OpqKq5IN"
      },
      "source": [
        "Now, let's find out the total number of rows and columns, data-types of columns and missing values (if exist) in the dataset."
      ]
    },
    {
      "cell_type": "code",
      "metadata": {
        "colab": {
          "base_uri": "https://localhost:8080/"
        },
        "id": "6F7cIWGsgV4H",
        "outputId": "92bcaa2e-2c5e-4e82-bc2e-178e23cf753b"
      },
      "source": [
        "# S1.2: Get the total number of rows and columns, data-types of columns and missing values (if exist) in the dataset.\n",
        "df.info()"
      ],
      "execution_count": null,
      "outputs": [
        {
          "output_type": "stream",
          "text": [
            "<class 'pandas.core.frame.DataFrame'>\n",
            "RangeIndex: 30000 entries, 0 to 29999\n",
            "Data columns (total 25 columns):\n",
            " #   Column                      Non-Null Count  Dtype  \n",
            "---  ------                      --------------  -----  \n",
            " 0   ID                          30000 non-null  int64  \n",
            " 1   LIMIT_BAL                   30000 non-null  float64\n",
            " 2   SEX                         30000 non-null  int64  \n",
            " 3   EDUCATION                   30000 non-null  int64  \n",
            " 4   MARRIAGE                    30000 non-null  int64  \n",
            " 5   AGE                         30000 non-null  int64  \n",
            " 6   PAY_0                       30000 non-null  int64  \n",
            " 7   PAY_2                       30000 non-null  int64  \n",
            " 8   PAY_3                       30000 non-null  int64  \n",
            " 9   PAY_4                       30000 non-null  int64  \n",
            " 10  PAY_5                       30000 non-null  int64  \n",
            " 11  PAY_6                       30000 non-null  int64  \n",
            " 12  BILL_AMT1                   30000 non-null  float64\n",
            " 13  BILL_AMT2                   30000 non-null  float64\n",
            " 14  BILL_AMT3                   30000 non-null  float64\n",
            " 15  BILL_AMT4                   30000 non-null  float64\n",
            " 16  BILL_AMT5                   30000 non-null  float64\n",
            " 17  BILL_AMT6                   30000 non-null  float64\n",
            " 18  PAY_AMT1                    30000 non-null  float64\n",
            " 19  PAY_AMT2                    30000 non-null  float64\n",
            " 20  PAY_AMT3                    30000 non-null  float64\n",
            " 21  PAY_AMT4                    30000 non-null  float64\n",
            " 22  PAY_AMT5                    30000 non-null  float64\n",
            " 23  PAY_AMT6                    30000 non-null  float64\n",
            " 24  default.payment.next.month  30000 non-null  int64  \n",
            "dtypes: float64(13), int64(12)\n",
            "memory usage: 5.7 MB\n"
          ],
          "name": "stdout"
        }
      ]
    },
    {
      "cell_type": "markdown",
      "metadata": {
        "id": "tVyfHrZaS0Zw"
      },
      "source": [
        "There are 30,000 rows and 25 columns and 0 missing (or null) values in the dataset. Also, all the columns have numeric values so we won't have to encode any non-numeric value into a numeric values.\n",
        "\n",
        "Here, we can see that the column names don't have whitespaces. We can also observe that the column names in the repayment condition are not consistent, hence we will rename `PAY_0` to `PAY_1`. The column name for the target variable i.e. `default.payment.next.month` can be changed to a shorter one say `DEFAULT` for convenience."
      ]
    },
    {
      "cell_type": "code",
      "metadata": {
        "colab": {
          "base_uri": "https://localhost:8080/"
        },
        "id": "RDqc0rvjfV18",
        "outputId": "2f03a6fa-887f-4eb1-c063-d1003f44a3b9"
      },
      "source": [
        "# S1.3: Rename 'PAY_0' to 'PAY_1', and 'default.payment.next.month' to 'DEFAULT'.\n",
        "df.rename(columns = {\"PAY_0\": \"PAY_1\"}, inplace = True)\n",
        "df.rename(columns = {\"default.payment.next.month\": \"DEFAULT\"}, inplace = True)\n",
        "\n",
        "# Check whether the names of the two columns are changed or not.\n",
        "for i in range(df.shape[1]):\n",
        "  print(f\"At index {i:02}, {df.columns[i]}\")"
      ],
      "execution_count": null,
      "outputs": [
        {
          "output_type": "stream",
          "text": [
            "At index 00, ID\n",
            "At index 01, LIMIT_BAL\n",
            "At index 02, SEX\n",
            "At index 03, EDUCATION\n",
            "At index 04, MARRIAGE\n",
            "At index 05, AGE\n",
            "At index 06, PAY_1\n",
            "At index 07, PAY_2\n",
            "At index 08, PAY_3\n",
            "At index 09, PAY_4\n",
            "At index 10, PAY_5\n",
            "At index 11, PAY_6\n",
            "At index 12, BILL_AMT1\n",
            "At index 13, BILL_AMT2\n",
            "At index 14, BILL_AMT3\n",
            "At index 15, BILL_AMT4\n",
            "At index 16, BILL_AMT5\n",
            "At index 17, BILL_AMT6\n",
            "At index 18, PAY_AMT1\n",
            "At index 19, PAY_AMT2\n",
            "At index 20, PAY_AMT3\n",
            "At index 21, PAY_AMT4\n",
            "At index 22, PAY_AMT5\n",
            "At index 23, PAY_AMT6\n",
            "At index 24, DEFAULT\n"
          ],
          "name": "stdout"
        }
      ]
    },
    {
      "cell_type": "markdown",
      "metadata": {
        "id": "V5pE-agBfGQb"
      },
      "source": [
        "We can see that\n",
        "\n",
        "- `'PAY_0'` has changed to `'PAY_1'`\n",
        "\n",
        "- `'default.payment.next.month'` has changed to `'DEFAULT'`"
      ]
    },
    {
      "cell_type": "markdown",
      "metadata": {
        "id": "JC1cYeHMsMEH"
      },
      "source": [
        "---"
      ]
    },
    {
      "cell_type": "markdown",
      "metadata": {
        "id": "wnmZ_6Kprvce"
      },
      "source": [
        "#### Activity 2: Data Analysis\n",
        "\n",
        "Now, let's analyse the data to find out any kind of pattern in the behaviour of defaulters.\n",
        "\n",
        "Let's get the counts of defaulters and non-defaulters to see whether former are in large numbers or the latter."
      ]
    },
    {
      "cell_type": "code",
      "metadata": {
        "colab": {
          "base_uri": "https://localhost:8080/"
        },
        "id": "VOppxBnEi1eB",
        "outputId": "41b6c0e1-d811-4d68-aaaa-8df9f3f5bf44"
      },
      "source": [
        "# S2.1: Get the counts of defaulters and non-defaulters to see whether former are in large numbers or the latter.\n",
        "df['DEFAULT'].value_counts()"
      ],
      "execution_count": null,
      "outputs": [
        {
          "output_type": "execute_result",
          "data": {
            "text/plain": [
              "0    23364\n",
              "1     6636\n",
              "Name: DEFAULT, dtype: int64"
            ]
          },
          "metadata": {
            "tags": []
          },
          "execution_count": 4
        }
      ]
    },
    {
      "cell_type": "markdown",
      "metadata": {
        "id": "i48hJ7Vzk--O"
      },
      "source": [
        "Out of 30,000 credit card clients, 23,364 pay on time (non-defaulters) and the remaining 6,636 clients don't pay on time (defaulters). Let's get the percentage of defaulters and non-defaulters."
      ]
    },
    {
      "cell_type": "code",
      "metadata": {
        "colab": {
          "base_uri": "https://localhost:8080/"
        },
        "id": "Jbm2WxOL2Q0f",
        "outputId": "a49943af-99ac-4bc7-8121-1d0ce1f86a70"
      },
      "source": [
        "# S2.2: Get the percentage of defaulters and non-defaulters.\n",
        "df['DEFAULT'].value_counts(normalize = True) # The 'normalize = True' returns the counts as fractions of the total."
      ],
      "execution_count": null,
      "outputs": [
        {
          "output_type": "execute_result",
          "data": {
            "text/plain": [
              "0    0.7788\n",
              "1    0.2212\n",
              "Name: DEFAULT, dtype: float64"
            ]
          },
          "metadata": {
            "tags": []
          },
          "execution_count": 5
        }
      ]
    },
    {
      "cell_type": "markdown",
      "metadata": {
        "id": "xa5Iycj33Lpd"
      },
      "source": [
        "So only about **22%** of the credit card clients of Taiwanese bank **fail to pay their credit card bills on time.**\n",
        "\n",
        "Now, let's calculate the number of male and female clients out of all the defaulters. For this,\n",
        "\n",
        "1. Take a subset of the data-frame containing all the rows and only `'ID', 'SEX', 'DEFAULT'` columns\n",
        "\n",
        "2. Group the above sliced data-frame by `'DEFAULT'` and `'SEX'` columns in this order."
      ]
    },
    {
      "cell_type": "code",
      "metadata": {
        "colab": {
          "base_uri": "https://localhost:8080/",
          "height": 204
        },
        "id": "I6pZMWyh4NN1",
        "outputId": "08056371-a220-4821-85e7-daa987a50742"
      },
      "source": [
        "# S2.3: Calculate the number of male and female clients out of all the defaulters.\n",
        "grp_gender_df = df[['ID', 'SEX', 'DEFAULT']].groupby(by = ['DEFAULT', 'SEX']).count()\n",
        "grp_gender_df"
      ],
      "execution_count": null,
      "outputs": [
        {
          "output_type": "execute_result",
          "data": {
            "text/html": [
              "<div>\n",
              "<style scoped>\n",
              "    .dataframe tbody tr th:only-of-type {\n",
              "        vertical-align: middle;\n",
              "    }\n",
              "\n",
              "    .dataframe tbody tr th {\n",
              "        vertical-align: top;\n",
              "    }\n",
              "\n",
              "    .dataframe thead th {\n",
              "        text-align: right;\n",
              "    }\n",
              "</style>\n",
              "<table border=\"1\" class=\"dataframe\">\n",
              "  <thead>\n",
              "    <tr style=\"text-align: right;\">\n",
              "      <th></th>\n",
              "      <th></th>\n",
              "      <th>ID</th>\n",
              "    </tr>\n",
              "    <tr>\n",
              "      <th>DEFAULT</th>\n",
              "      <th>SEX</th>\n",
              "      <th></th>\n",
              "    </tr>\n",
              "  </thead>\n",
              "  <tbody>\n",
              "    <tr>\n",
              "      <th rowspan=\"2\" valign=\"top\">0</th>\n",
              "      <th>1</th>\n",
              "      <td>9015</td>\n",
              "    </tr>\n",
              "    <tr>\n",
              "      <th>2</th>\n",
              "      <td>14349</td>\n",
              "    </tr>\n",
              "    <tr>\n",
              "      <th rowspan=\"2\" valign=\"top\">1</th>\n",
              "      <th>1</th>\n",
              "      <td>2873</td>\n",
              "    </tr>\n",
              "    <tr>\n",
              "      <th>2</th>\n",
              "      <td>3763</td>\n",
              "    </tr>\n",
              "  </tbody>\n",
              "</table>\n",
              "</div>"
            ],
            "text/plain": [
              "                ID\n",
              "DEFAULT SEX       \n",
              "0       1     9015\n",
              "        2    14349\n",
              "1       1     2873\n",
              "        2     3763"
            ]
          },
          "metadata": {
            "tags": []
          },
          "execution_count": 6
        }
      ]
    },
    {
      "cell_type": "markdown",
      "metadata": {
        "id": "i-UAZAdF91RL"
      },
      "source": [
        "Out of 6636 defaulters, 2873 were `1`-male and 3763 were `2`-female.\n",
        "\n",
        "Similarly, out of all the defaulters, let's calculate the number of credit card clients having different education qualification."
      ]
    },
    {
      "cell_type": "code",
      "metadata": {
        "colab": {
          "base_uri": "https://localhost:8080/",
          "height": 483
        },
        "id": "6p30OxDvAX5Y",
        "outputId": "1c965ad9-f8f5-4148-cc38-a759b965f51c"
      },
      "source": [
        "# S2.4: Out of all the defaulters, calculate the number of credit card clients having different education qualification.\n",
        "grp_edu_df = df[['ID', 'EDUCATION', 'DEFAULT']].groupby(by = ['DEFAULT', 'EDUCATION']).count()\n",
        "grp_edu_df"
      ],
      "execution_count": null,
      "outputs": [
        {
          "output_type": "execute_result",
          "data": {
            "text/html": [
              "<div>\n",
              "<style scoped>\n",
              "    .dataframe tbody tr th:only-of-type {\n",
              "        vertical-align: middle;\n",
              "    }\n",
              "\n",
              "    .dataframe tbody tr th {\n",
              "        vertical-align: top;\n",
              "    }\n",
              "\n",
              "    .dataframe thead th {\n",
              "        text-align: right;\n",
              "    }\n",
              "</style>\n",
              "<table border=\"1\" class=\"dataframe\">\n",
              "  <thead>\n",
              "    <tr style=\"text-align: right;\">\n",
              "      <th></th>\n",
              "      <th></th>\n",
              "      <th>ID</th>\n",
              "    </tr>\n",
              "    <tr>\n",
              "      <th>DEFAULT</th>\n",
              "      <th>EDUCATION</th>\n",
              "      <th></th>\n",
              "    </tr>\n",
              "  </thead>\n",
              "  <tbody>\n",
              "    <tr>\n",
              "      <th rowspan=\"7\" valign=\"top\">0</th>\n",
              "      <th>0</th>\n",
              "      <td>14</td>\n",
              "    </tr>\n",
              "    <tr>\n",
              "      <th>1</th>\n",
              "      <td>8549</td>\n",
              "    </tr>\n",
              "    <tr>\n",
              "      <th>2</th>\n",
              "      <td>10700</td>\n",
              "    </tr>\n",
              "    <tr>\n",
              "      <th>3</th>\n",
              "      <td>3680</td>\n",
              "    </tr>\n",
              "    <tr>\n",
              "      <th>4</th>\n",
              "      <td>116</td>\n",
              "    </tr>\n",
              "    <tr>\n",
              "      <th>5</th>\n",
              "      <td>262</td>\n",
              "    </tr>\n",
              "    <tr>\n",
              "      <th>6</th>\n",
              "      <td>43</td>\n",
              "    </tr>\n",
              "    <tr>\n",
              "      <th rowspan=\"6\" valign=\"top\">1</th>\n",
              "      <th>1</th>\n",
              "      <td>2036</td>\n",
              "    </tr>\n",
              "    <tr>\n",
              "      <th>2</th>\n",
              "      <td>3330</td>\n",
              "    </tr>\n",
              "    <tr>\n",
              "      <th>3</th>\n",
              "      <td>1237</td>\n",
              "    </tr>\n",
              "    <tr>\n",
              "      <th>4</th>\n",
              "      <td>7</td>\n",
              "    </tr>\n",
              "    <tr>\n",
              "      <th>5</th>\n",
              "      <td>18</td>\n",
              "    </tr>\n",
              "    <tr>\n",
              "      <th>6</th>\n",
              "      <td>8</td>\n",
              "    </tr>\n",
              "  </tbody>\n",
              "</table>\n",
              "</div>"
            ],
            "text/plain": [
              "                      ID\n",
              "DEFAULT EDUCATION       \n",
              "0       0             14\n",
              "        1           8549\n",
              "        2          10700\n",
              "        3           3680\n",
              "        4            116\n",
              "        5            262\n",
              "        6             43\n",
              "1       1           2036\n",
              "        2           3330\n",
              "        3           1237\n",
              "        4              7\n",
              "        5             18\n",
              "        6              8"
            ]
          },
          "metadata": {
            "tags": []
          },
          "execution_count": 7
        }
      ]
    },
    {
      "cell_type": "markdown",
      "metadata": {
        "id": "6LZv5BrjBei5"
      },
      "source": [
        "Out of 6636 defaulters, majorly\n",
        "\n",
        "- 3330 were university graduates.\n",
        "\n",
        "- 2036 were graduation school graduates.\n",
        "\n",
        "- 1237 were high school graduates.\n",
        "\n",
        "\n",
        "The reason for higher number of defaulters being university school graduates could be that the most of the credit clients are university graduates. Let's validate this suspicion by calculating the counts of different categorical values in the `'EDUCATION'` column."
      ]
    },
    {
      "cell_type": "code",
      "metadata": {
        "colab": {
          "base_uri": "https://localhost:8080/"
        },
        "id": "LydMgtc5CmUm",
        "outputId": "99190a27-902a-440d-ee63-c41d627ec9ec"
      },
      "source": [
        "# S2.5: Calculate the counts of different categorical values in the 'EDUCATION' column.\n",
        "df['EDUCATION'].value_counts()"
      ],
      "execution_count": null,
      "outputs": [
        {
          "output_type": "execute_result",
          "data": {
            "text/plain": [
              "2    14030\n",
              "1    10585\n",
              "3     4917\n",
              "5      280\n",
              "4      123\n",
              "6       51\n",
              "0       14\n",
              "Name: EDUCATION, dtype: int64"
            ]
          },
          "metadata": {
            "tags": []
          },
          "execution_count": 8
        }
      ]
    },
    {
      "cell_type": "markdown",
      "metadata": {
        "id": "qKeMO8K_CypM"
      },
      "source": [
        "As you can see, our suspicion is correct because the most of the credit clients are university graduates followed by graduation school graduates followed by high school graduates.\n",
        "\n",
        "Here, we observe that in the `EDUCATION` column we have some redundant information. From the dataset description we have:\n",
        "\n",
        " * `1` - graduate school\n",
        " * `2` - university\n",
        " * `3` - high school\n",
        " * `4` - others\n",
        " * `5` - unknown\n",
        " * `6` - unknown\n",
        "\n",
        "This clearly indicates that we can merge the labels `5` and `6` to reduce the number of categories for education and replace the number of unwanted values in the column. The label `4` denotes that a client has some other form of education which could be either vocational training, certificate, diploma etc.\n",
        "\n",
        "It will help us in reducing the complexity of the resulting decision tree and reduce the computational time as well.\n",
        "\n",
        "**Hint:**\n",
        "The syntax used is: `pandas.DataFrame.loc [boolean_condition, column_name] = new_value`."
      ]
    },
    {
      "cell_type": "code",
      "metadata": {
        "colab": {
          "base_uri": "https://localhost:8080/"
        },
        "id": "H2d5u05PfV62",
        "outputId": "50c4dc59-9edd-436b-93eb-a869484dccac"
      },
      "source": [
        "# S2.6 Remove redundancy in the 'EDUCATION' column.\n",
        "df.loc[df['EDUCATION'] == 0, 'EDUCATION'] = 5\n",
        "df.loc[df['EDUCATION'] == 6, 'EDUCATION'] = 5\n",
        "\n",
        "# Calculate the count of all the labels again in the 'EDUCATION' column.\n",
        "df['EDUCATION'].value_counts()"
      ],
      "execution_count": null,
      "outputs": [
        {
          "output_type": "execute_result",
          "data": {
            "text/plain": [
              "2    14030\n",
              "1    10585\n",
              "3     4917\n",
              "5      345\n",
              "4      123\n",
              "Name: EDUCATION, dtype: int64"
            ]
          },
          "metadata": {
            "tags": []
          },
          "execution_count": 9
        }
      ]
    },
    {
      "cell_type": "markdown",
      "metadata": {
        "id": "D59CvCwlHMq2"
      },
      "source": [
        "Similarly, out of all the defaulters, let's calculate the number of credit card clients based on their marriage status."
      ]
    },
    {
      "cell_type": "code",
      "metadata": {
        "colab": {
          "base_uri": "https://localhost:8080/",
          "height": 328
        },
        "id": "VYKlF2BmWh5O",
        "outputId": "5976b77e-50a7-4564-e8aa-61f1d310a861"
      },
      "source": [
        "# S2.7: Calculate the number of clients based on the marriage status out of all the defaulters.\n",
        "grp_gender_df = df[['ID', 'MARRIAGE', 'DEFAULT']].groupby(by = ['DEFAULT', 'MARRIAGE']).count()\n",
        "grp_gender_df"
      ],
      "execution_count": null,
      "outputs": [
        {
          "output_type": "execute_result",
          "data": {
            "text/html": [
              "<div>\n",
              "<style scoped>\n",
              "    .dataframe tbody tr th:only-of-type {\n",
              "        vertical-align: middle;\n",
              "    }\n",
              "\n",
              "    .dataframe tbody tr th {\n",
              "        vertical-align: top;\n",
              "    }\n",
              "\n",
              "    .dataframe thead th {\n",
              "        text-align: right;\n",
              "    }\n",
              "</style>\n",
              "<table border=\"1\" class=\"dataframe\">\n",
              "  <thead>\n",
              "    <tr style=\"text-align: right;\">\n",
              "      <th></th>\n",
              "      <th></th>\n",
              "      <th>ID</th>\n",
              "    </tr>\n",
              "    <tr>\n",
              "      <th>DEFAULT</th>\n",
              "      <th>MARRIAGE</th>\n",
              "      <th></th>\n",
              "    </tr>\n",
              "  </thead>\n",
              "  <tbody>\n",
              "    <tr>\n",
              "      <th rowspan=\"4\" valign=\"top\">0</th>\n",
              "      <th>0</th>\n",
              "      <td>49</td>\n",
              "    </tr>\n",
              "    <tr>\n",
              "      <th>1</th>\n",
              "      <td>10453</td>\n",
              "    </tr>\n",
              "    <tr>\n",
              "      <th>2</th>\n",
              "      <td>12623</td>\n",
              "    </tr>\n",
              "    <tr>\n",
              "      <th>3</th>\n",
              "      <td>239</td>\n",
              "    </tr>\n",
              "    <tr>\n",
              "      <th rowspan=\"4\" valign=\"top\">1</th>\n",
              "      <th>0</th>\n",
              "      <td>5</td>\n",
              "    </tr>\n",
              "    <tr>\n",
              "      <th>1</th>\n",
              "      <td>3206</td>\n",
              "    </tr>\n",
              "    <tr>\n",
              "      <th>2</th>\n",
              "      <td>3341</td>\n",
              "    </tr>\n",
              "    <tr>\n",
              "      <th>3</th>\n",
              "      <td>84</td>\n",
              "    </tr>\n",
              "  </tbody>\n",
              "</table>\n",
              "</div>"
            ],
            "text/plain": [
              "                     ID\n",
              "DEFAULT MARRIAGE       \n",
              "0       0            49\n",
              "        1         10453\n",
              "        2         12623\n",
              "        3           239\n",
              "1       0             5\n",
              "        1          3206\n",
              "        2          3341\n",
              "        3            84"
            ]
          },
          "metadata": {
            "tags": []
          },
          "execution_count": 10
        }
      ]
    },
    {
      "cell_type": "markdown",
      "metadata": {
        "id": "fpa28XQ67V6Z"
      },
      "source": [
        "Here, we observe that in the education column we have some redundant information. From the dataset description we have:\n",
        "\n",
        " * `1` - married\n",
        " * `2` - single\n",
        " * `3` - others\n",
        "\n",
        "This dataset has an extra parameter `0` in the marriage column. That may arise due to some error or when customer is not willing to provide the information. We can merge the label `0` with `3` to reduce the number of categories for marriage and replace the number of unwanted values in the column."
      ]
    },
    {
      "cell_type": "code",
      "metadata": {
        "colab": {
          "base_uri": "https://localhost:8080/"
        },
        "id": "jxSEQOYP7RQf",
        "outputId": "2398f46a-451f-4d76-a46d-31fe4829bf32"
      },
      "source": [
        "# S2.8 Remove redundancy in the 'MARRIAGE' column.\n",
        "df.loc[df['MARRIAGE'] == 0, 'MARRIAGE'] = 3\n",
        "\n",
        "# Calculate the count of all the labels again in the 'MARRIAGE' column.\n",
        "df['MARRIAGE'].value_counts()"
      ],
      "execution_count": null,
      "outputs": [
        {
          "output_type": "execute_result",
          "data": {
            "text/plain": [
              "2    15964\n",
              "1    13659\n",
              "3      377\n",
              "Name: MARRIAGE, dtype: int64"
            ]
          },
          "metadata": {
            "tags": []
          },
          "execution_count": 11
        }
      ]
    },
    {
      "cell_type": "markdown",
      "metadata": {
        "id": "ms-Cj8gQ7Vib"
      },
      "source": [
        "Now find out the number of single and married credit card defaulters out of all the defaulters."
      ]
    },
    {
      "cell_type": "code",
      "metadata": {
        "colab": {
          "base_uri": "https://localhost:8080/",
          "height": 266
        },
        "id": "-sp80vF3Dk2T",
        "outputId": "edbdaf0d-1cb0-434d-deea-ae7ab4b95f37"
      },
      "source": [
        "# S2.9: Out of all the defaulters, calculate the number of credit card clients having different marital status.\n",
        "grp_marriage_df = df[['ID', 'MARRIAGE', 'DEFAULT']].groupby(by = ['DEFAULT', 'MARRIAGE']).count()\n",
        "grp_marriage_df"
      ],
      "execution_count": null,
      "outputs": [
        {
          "output_type": "execute_result",
          "data": {
            "text/html": [
              "<div>\n",
              "<style scoped>\n",
              "    .dataframe tbody tr th:only-of-type {\n",
              "        vertical-align: middle;\n",
              "    }\n",
              "\n",
              "    .dataframe tbody tr th {\n",
              "        vertical-align: top;\n",
              "    }\n",
              "\n",
              "    .dataframe thead th {\n",
              "        text-align: right;\n",
              "    }\n",
              "</style>\n",
              "<table border=\"1\" class=\"dataframe\">\n",
              "  <thead>\n",
              "    <tr style=\"text-align: right;\">\n",
              "      <th></th>\n",
              "      <th></th>\n",
              "      <th>ID</th>\n",
              "    </tr>\n",
              "    <tr>\n",
              "      <th>DEFAULT</th>\n",
              "      <th>MARRIAGE</th>\n",
              "      <th></th>\n",
              "    </tr>\n",
              "  </thead>\n",
              "  <tbody>\n",
              "    <tr>\n",
              "      <th rowspan=\"3\" valign=\"top\">0</th>\n",
              "      <th>1</th>\n",
              "      <td>10453</td>\n",
              "    </tr>\n",
              "    <tr>\n",
              "      <th>2</th>\n",
              "      <td>12623</td>\n",
              "    </tr>\n",
              "    <tr>\n",
              "      <th>3</th>\n",
              "      <td>288</td>\n",
              "    </tr>\n",
              "    <tr>\n",
              "      <th rowspan=\"3\" valign=\"top\">1</th>\n",
              "      <th>1</th>\n",
              "      <td>3206</td>\n",
              "    </tr>\n",
              "    <tr>\n",
              "      <th>2</th>\n",
              "      <td>3341</td>\n",
              "    </tr>\n",
              "    <tr>\n",
              "      <th>3</th>\n",
              "      <td>89</td>\n",
              "    </tr>\n",
              "  </tbody>\n",
              "</table>\n",
              "</div>"
            ],
            "text/plain": [
              "                     ID\n",
              "DEFAULT MARRIAGE       \n",
              "0       1         10453\n",
              "        2         12623\n",
              "        3           288\n",
              "1       1          3206\n",
              "        2          3341\n",
              "        3            89"
            ]
          },
          "metadata": {
            "tags": []
          },
          "execution_count": 12
        }
      ]
    },
    {
      "cell_type": "markdown",
      "metadata": {
        "id": "rd-zJc_VD61A"
      },
      "source": [
        "Among defaulters, both single and married credit card clients are equal nearly the same in number.\n",
        "\n",
        "Now, let's calculate the mean and median age of defaulters and non-defaulters."
      ]
    },
    {
      "cell_type": "code",
      "metadata": {
        "colab": {
          "base_uri": "https://localhost:8080/",
          "height": 173
        },
        "id": "Ie7VMezSEeDI",
        "outputId": "eeb2a9be-b0ca-4d74-ec36-9243ecef069e"
      },
      "source": [
        "# S2.10: Calculate the mean and median age of defaulters and non-defaulters.\n",
        "grp_age_df = df[['AGE', 'DEFAULT']].groupby(by = 'DEFAULT').agg(func = ['mean', 'std', 'median'])\n",
        "grp_age_df"
      ],
      "execution_count": null,
      "outputs": [
        {
          "output_type": "execute_result",
          "data": {
            "text/html": [
              "<div>\n",
              "<style scoped>\n",
              "    .dataframe tbody tr th:only-of-type {\n",
              "        vertical-align: middle;\n",
              "    }\n",
              "\n",
              "    .dataframe tbody tr th {\n",
              "        vertical-align: top;\n",
              "    }\n",
              "\n",
              "    .dataframe thead tr th {\n",
              "        text-align: left;\n",
              "    }\n",
              "\n",
              "    .dataframe thead tr:last-of-type th {\n",
              "        text-align: right;\n",
              "    }\n",
              "</style>\n",
              "<table border=\"1\" class=\"dataframe\">\n",
              "  <thead>\n",
              "    <tr>\n",
              "      <th></th>\n",
              "      <th colspan=\"3\" halign=\"left\">AGE</th>\n",
              "    </tr>\n",
              "    <tr>\n",
              "      <th></th>\n",
              "      <th>mean</th>\n",
              "      <th>std</th>\n",
              "      <th>median</th>\n",
              "    </tr>\n",
              "    <tr>\n",
              "      <th>DEFAULT</th>\n",
              "      <th></th>\n",
              "      <th></th>\n",
              "      <th></th>\n",
              "    </tr>\n",
              "  </thead>\n",
              "  <tbody>\n",
              "    <tr>\n",
              "      <th>0</th>\n",
              "      <td>35.417266</td>\n",
              "      <td>9.077355</td>\n",
              "      <td>34</td>\n",
              "    </tr>\n",
              "    <tr>\n",
              "      <th>1</th>\n",
              "      <td>35.725738</td>\n",
              "      <td>9.693438</td>\n",
              "      <td>34</td>\n",
              "    </tr>\n",
              "  </tbody>\n",
              "</table>\n",
              "</div>"
            ],
            "text/plain": [
              "               AGE                 \n",
              "              mean       std median\n",
              "DEFAULT                            \n",
              "0        35.417266  9.077355     34\n",
              "1        35.725738  9.693438     34"
            ]
          },
          "metadata": {
            "tags": []
          },
          "execution_count": 13
        }
      ]
    },
    {
      "cell_type": "markdown",
      "metadata": {
        "id": "hpYBKKnuFKZS"
      },
      "source": [
        "Both the defaulters and non-defaulters have the same median and approximately the same mean age.\n",
        "\n",
        "Similarly, let's calculate the mean and median `'LIMIT_BAL'` of defaulters and non-defaulters."
      ]
    },
    {
      "cell_type": "code",
      "metadata": {
        "colab": {
          "base_uri": "https://localhost:8080/",
          "height": 173
        },
        "id": "jP4I7akXKIcF",
        "outputId": "d884437f-3446-4902-9c40-88292a1fad46"
      },
      "source": [
        "# S2.11: Calculate the mean and median 'LIMIT_BAL' of defaulters and non-defaulters.\n",
        "grp_limit_bal_df = df[['LIMIT_BAL', 'DEFAULT']].groupby(by = 'DEFAULT').agg(func = ['mean', 'std', 'median'])\n",
        "grp_limit_bal_df"
      ],
      "execution_count": null,
      "outputs": [
        {
          "output_type": "execute_result",
          "data": {
            "text/html": [
              "<div>\n",
              "<style scoped>\n",
              "    .dataframe tbody tr th:only-of-type {\n",
              "        vertical-align: middle;\n",
              "    }\n",
              "\n",
              "    .dataframe tbody tr th {\n",
              "        vertical-align: top;\n",
              "    }\n",
              "\n",
              "    .dataframe thead tr th {\n",
              "        text-align: left;\n",
              "    }\n",
              "\n",
              "    .dataframe thead tr:last-of-type th {\n",
              "        text-align: right;\n",
              "    }\n",
              "</style>\n",
              "<table border=\"1\" class=\"dataframe\">\n",
              "  <thead>\n",
              "    <tr>\n",
              "      <th></th>\n",
              "      <th colspan=\"3\" halign=\"left\">LIMIT_BAL</th>\n",
              "    </tr>\n",
              "    <tr>\n",
              "      <th></th>\n",
              "      <th>mean</th>\n",
              "      <th>std</th>\n",
              "      <th>median</th>\n",
              "    </tr>\n",
              "    <tr>\n",
              "      <th>DEFAULT</th>\n",
              "      <th></th>\n",
              "      <th></th>\n",
              "      <th></th>\n",
              "    </tr>\n",
              "  </thead>\n",
              "  <tbody>\n",
              "    <tr>\n",
              "      <th>0</th>\n",
              "      <td>178099.726074</td>\n",
              "      <td>131628.359660</td>\n",
              "      <td>150000.0</td>\n",
              "    </tr>\n",
              "    <tr>\n",
              "      <th>1</th>\n",
              "      <td>130109.656420</td>\n",
              "      <td>115378.540571</td>\n",
              "      <td>90000.0</td>\n",
              "    </tr>\n",
              "  </tbody>\n",
              "</table>\n",
              "</div>"
            ],
            "text/plain": [
              "             LIMIT_BAL                         \n",
              "                  mean            std    median\n",
              "DEFAULT                                        \n",
              "0        178099.726074  131628.359660  150000.0\n",
              "1        130109.656420  115378.540571   90000.0"
            ]
          },
          "metadata": {
            "tags": []
          },
          "execution_count": 14
        }
      ]
    },
    {
      "cell_type": "markdown",
      "metadata": {
        "id": "chQTG_o6Kdno"
      },
      "source": [
        "The mean and median credit card limit of defaulters were lower compared to the limit of non-defaulters. This suggests that the repayment capacity of defaulters was lesser and hence they were given the lower credit limit.\n",
        "\n",
        "Let's calculate the mean, median, quartiles and standard deviation values of the columns having continous numeric values in the data-frame."
      ]
    },
    {
      "cell_type": "code",
      "metadata": {
        "colab": {
          "base_uri": "https://localhost:8080/",
          "height": 317
        },
        "id": "Ph_0PiwLRePE",
        "outputId": "e3fda5ac-8984-41fe-dd45-ffee916bf1e9"
      },
      "source": [
        "# S2.12: Print the statistical description of the columns having continous numeric values in the data-frame.\n",
        "df[['LIMIT_BAL', 'AGE'] + list(df.columns[12:-1])].describe()"
      ],
      "execution_count": null,
      "outputs": [
        {
          "output_type": "execute_result",
          "data": {
            "text/html": [
              "<div>\n",
              "<style scoped>\n",
              "    .dataframe tbody tr th:only-of-type {\n",
              "        vertical-align: middle;\n",
              "    }\n",
              "\n",
              "    .dataframe tbody tr th {\n",
              "        vertical-align: top;\n",
              "    }\n",
              "\n",
              "    .dataframe thead th {\n",
              "        text-align: right;\n",
              "    }\n",
              "</style>\n",
              "<table border=\"1\" class=\"dataframe\">\n",
              "  <thead>\n",
              "    <tr style=\"text-align: right;\">\n",
              "      <th></th>\n",
              "      <th>LIMIT_BAL</th>\n",
              "      <th>AGE</th>\n",
              "      <th>BILL_AMT1</th>\n",
              "      <th>BILL_AMT2</th>\n",
              "      <th>BILL_AMT3</th>\n",
              "      <th>BILL_AMT4</th>\n",
              "      <th>BILL_AMT5</th>\n",
              "      <th>BILL_AMT6</th>\n",
              "      <th>PAY_AMT1</th>\n",
              "      <th>PAY_AMT2</th>\n",
              "      <th>PAY_AMT3</th>\n",
              "      <th>PAY_AMT4</th>\n",
              "      <th>PAY_AMT5</th>\n",
              "      <th>PAY_AMT6</th>\n",
              "    </tr>\n",
              "  </thead>\n",
              "  <tbody>\n",
              "    <tr>\n",
              "      <th>count</th>\n",
              "      <td>30000.000000</td>\n",
              "      <td>30000.000000</td>\n",
              "      <td>30000.000000</td>\n",
              "      <td>30000.000000</td>\n",
              "      <td>3.000000e+04</td>\n",
              "      <td>30000.000000</td>\n",
              "      <td>30000.000000</td>\n",
              "      <td>30000.000000</td>\n",
              "      <td>30000.000000</td>\n",
              "      <td>3.000000e+04</td>\n",
              "      <td>30000.00000</td>\n",
              "      <td>30000.000000</td>\n",
              "      <td>30000.000000</td>\n",
              "      <td>30000.000000</td>\n",
              "    </tr>\n",
              "    <tr>\n",
              "      <th>mean</th>\n",
              "      <td>167484.322667</td>\n",
              "      <td>35.485500</td>\n",
              "      <td>51223.330900</td>\n",
              "      <td>49179.075167</td>\n",
              "      <td>4.701315e+04</td>\n",
              "      <td>43262.948967</td>\n",
              "      <td>40311.400967</td>\n",
              "      <td>38871.760400</td>\n",
              "      <td>5663.580500</td>\n",
              "      <td>5.921163e+03</td>\n",
              "      <td>5225.68150</td>\n",
              "      <td>4826.076867</td>\n",
              "      <td>4799.387633</td>\n",
              "      <td>5215.502567</td>\n",
              "    </tr>\n",
              "    <tr>\n",
              "      <th>std</th>\n",
              "      <td>129747.661567</td>\n",
              "      <td>9.217904</td>\n",
              "      <td>73635.860576</td>\n",
              "      <td>71173.768783</td>\n",
              "      <td>6.934939e+04</td>\n",
              "      <td>64332.856134</td>\n",
              "      <td>60797.155770</td>\n",
              "      <td>59554.107537</td>\n",
              "      <td>16563.280354</td>\n",
              "      <td>2.304087e+04</td>\n",
              "      <td>17606.96147</td>\n",
              "      <td>15666.159744</td>\n",
              "      <td>15278.305679</td>\n",
              "      <td>17777.465775</td>\n",
              "    </tr>\n",
              "    <tr>\n",
              "      <th>min</th>\n",
              "      <td>10000.000000</td>\n",
              "      <td>21.000000</td>\n",
              "      <td>-165580.000000</td>\n",
              "      <td>-69777.000000</td>\n",
              "      <td>-1.572640e+05</td>\n",
              "      <td>-170000.000000</td>\n",
              "      <td>-81334.000000</td>\n",
              "      <td>-339603.000000</td>\n",
              "      <td>0.000000</td>\n",
              "      <td>0.000000e+00</td>\n",
              "      <td>0.00000</td>\n",
              "      <td>0.000000</td>\n",
              "      <td>0.000000</td>\n",
              "      <td>0.000000</td>\n",
              "    </tr>\n",
              "    <tr>\n",
              "      <th>25%</th>\n",
              "      <td>50000.000000</td>\n",
              "      <td>28.000000</td>\n",
              "      <td>3558.750000</td>\n",
              "      <td>2984.750000</td>\n",
              "      <td>2.666250e+03</td>\n",
              "      <td>2326.750000</td>\n",
              "      <td>1763.000000</td>\n",
              "      <td>1256.000000</td>\n",
              "      <td>1000.000000</td>\n",
              "      <td>8.330000e+02</td>\n",
              "      <td>390.00000</td>\n",
              "      <td>296.000000</td>\n",
              "      <td>252.500000</td>\n",
              "      <td>117.750000</td>\n",
              "    </tr>\n",
              "    <tr>\n",
              "      <th>50%</th>\n",
              "      <td>140000.000000</td>\n",
              "      <td>34.000000</td>\n",
              "      <td>22381.500000</td>\n",
              "      <td>21200.000000</td>\n",
              "      <td>2.008850e+04</td>\n",
              "      <td>19052.000000</td>\n",
              "      <td>18104.500000</td>\n",
              "      <td>17071.000000</td>\n",
              "      <td>2100.000000</td>\n",
              "      <td>2.009000e+03</td>\n",
              "      <td>1800.00000</td>\n",
              "      <td>1500.000000</td>\n",
              "      <td>1500.000000</td>\n",
              "      <td>1500.000000</td>\n",
              "    </tr>\n",
              "    <tr>\n",
              "      <th>75%</th>\n",
              "      <td>240000.000000</td>\n",
              "      <td>41.000000</td>\n",
              "      <td>67091.000000</td>\n",
              "      <td>64006.250000</td>\n",
              "      <td>6.016475e+04</td>\n",
              "      <td>54506.000000</td>\n",
              "      <td>50190.500000</td>\n",
              "      <td>49198.250000</td>\n",
              "      <td>5006.000000</td>\n",
              "      <td>5.000000e+03</td>\n",
              "      <td>4505.00000</td>\n",
              "      <td>4013.250000</td>\n",
              "      <td>4031.500000</td>\n",
              "      <td>4000.000000</td>\n",
              "    </tr>\n",
              "    <tr>\n",
              "      <th>max</th>\n",
              "      <td>1000000.000000</td>\n",
              "      <td>79.000000</td>\n",
              "      <td>964511.000000</td>\n",
              "      <td>983931.000000</td>\n",
              "      <td>1.664089e+06</td>\n",
              "      <td>891586.000000</td>\n",
              "      <td>927171.000000</td>\n",
              "      <td>961664.000000</td>\n",
              "      <td>873552.000000</td>\n",
              "      <td>1.684259e+06</td>\n",
              "      <td>896040.00000</td>\n",
              "      <td>621000.000000</td>\n",
              "      <td>426529.000000</td>\n",
              "      <td>528666.000000</td>\n",
              "    </tr>\n",
              "  </tbody>\n",
              "</table>\n",
              "</div>"
            ],
            "text/plain": [
              "            LIMIT_BAL           AGE  ...       PAY_AMT5       PAY_AMT6\n",
              "count    30000.000000  30000.000000  ...   30000.000000   30000.000000\n",
              "mean    167484.322667     35.485500  ...    4799.387633    5215.502567\n",
              "std     129747.661567      9.217904  ...   15278.305679   17777.465775\n",
              "min      10000.000000     21.000000  ...       0.000000       0.000000\n",
              "25%      50000.000000     28.000000  ...     252.500000     117.750000\n",
              "50%     140000.000000     34.000000  ...    1500.000000    1500.000000\n",
              "75%     240000.000000     41.000000  ...    4031.500000    4000.000000\n",
              "max    1000000.000000     79.000000  ...  426529.000000  528666.000000\n",
              "\n",
              "[8 rows x 14 columns]"
            ]
          },
          "metadata": {
            "tags": []
          },
          "execution_count": 15
        }
      ]
    },
    {
      "cell_type": "markdown",
      "metadata": {
        "id": "oG7NQg8qpvgQ"
      },
      "source": [
        "We can split the above measures of central tendency values by different categorical columns. For this we need to make pivot tables."
      ]
    },
    {
      "cell_type": "markdown",
      "metadata": {
        "id": "I56j-Rkqo5bv"
      },
      "source": [
        "---"
      ]
    },
    {
      "cell_type": "markdown",
      "metadata": {
        "id": "_1l2OqSVo2PC"
      },
      "source": [
        "#### Activity 3: Pivot Table\n",
        "\n",
        "A pivot table allows you to summarise statistical parameters in a two dimensional table. It is more powerful version of the grouping feature in Pandas.\n",
        "\n",
        "To create a pivot table, you need to use the `pivot_table()` function of the Pandas module which returns a two dimensional table (also a Pandas DataFrame object). The levels in the pivot table will be stored in `MultiIndex` objects (hierarchical indexes) on the index and columns of the result DataFrame. Its **syntax** is:\n",
        "\n",
        "> `pandas.pivot_table(data, values=None, index=None, columns=None, aggfunc='mean', sort=True)`\n",
        "\n",
        "where\n",
        "\n",
        "- `data` is a Pandas DataFrame object containing raw data.\n",
        "\n",
        "- `values` is an optional parameter that decides which column values to aggregate.\n",
        "\n",
        "- `index` decides about which column the values need to be split. In other words, about which column values you want to group the other column values.\n",
        "\n",
        "- `columns` allows you to group the values further by a particular column.\n",
        "\n",
        "- `aggfunc` is an aggregation function with mean being the default aggregator.\n",
        "\n",
        "- `sort` specifies if the result should be sorted. Its default value is `True`\n",
        "\n",
        "You can read more about the `pivot_table()` function from the link provided below:\n",
        "\n",
        "https://pandas.pydata.org/pandas-docs/stable/reference/api/pandas.pivot_table.html\n",
        "\n",
        "Let's create a pivot table that displays the median value of the columns containing continous numeric values and group them by `DEFAULT` and `AGE` columns."
      ]
    },
    {
      "cell_type": "code",
      "metadata": {
        "colab": {
          "base_uri": "https://localhost:8080/",
          "height": 204
        },
        "id": "2aOcgN6DlrR2",
        "outputId": "5e7e754f-8a8e-4244-85d5-3762c5032b70"
      },
      "source": [
        "# S3.1: Display the median value of the columns containing continous numeric values and group them by 'DEFAULT' and 'SEX' columns.\n",
        "pivot_table1 = pd.pivot_table(data = df, values = ['LIMIT_BAL', 'AGE'] + list(df.columns[12:-1]), index = ['DEFAULT', 'SEX'], aggfunc = 'median')\n",
        "pivot_table1"
      ],
      "execution_count": null,
      "outputs": [
        {
          "output_type": "execute_result",
          "data": {
            "text/html": [
              "<div>\n",
              "<style scoped>\n",
              "    .dataframe tbody tr th:only-of-type {\n",
              "        vertical-align: middle;\n",
              "    }\n",
              "\n",
              "    .dataframe tbody tr th {\n",
              "        vertical-align: top;\n",
              "    }\n",
              "\n",
              "    .dataframe thead th {\n",
              "        text-align: right;\n",
              "    }\n",
              "</style>\n",
              "<table border=\"1\" class=\"dataframe\">\n",
              "  <thead>\n",
              "    <tr style=\"text-align: right;\">\n",
              "      <th></th>\n",
              "      <th></th>\n",
              "      <th>AGE</th>\n",
              "      <th>BILL_AMT1</th>\n",
              "      <th>BILL_AMT2</th>\n",
              "      <th>BILL_AMT3</th>\n",
              "      <th>BILL_AMT4</th>\n",
              "      <th>BILL_AMT5</th>\n",
              "      <th>BILL_AMT6</th>\n",
              "      <th>LIMIT_BAL</th>\n",
              "      <th>PAY_AMT1</th>\n",
              "      <th>PAY_AMT2</th>\n",
              "      <th>PAY_AMT3</th>\n",
              "      <th>PAY_AMT4</th>\n",
              "      <th>PAY_AMT5</th>\n",
              "      <th>PAY_AMT6</th>\n",
              "    </tr>\n",
              "    <tr>\n",
              "      <th>DEFAULT</th>\n",
              "      <th>SEX</th>\n",
              "      <th></th>\n",
              "      <th></th>\n",
              "      <th></th>\n",
              "      <th></th>\n",
              "      <th></th>\n",
              "      <th></th>\n",
              "      <th></th>\n",
              "      <th></th>\n",
              "      <th></th>\n",
              "      <th></th>\n",
              "      <th></th>\n",
              "      <th></th>\n",
              "      <th></th>\n",
              "      <th></th>\n",
              "    </tr>\n",
              "  </thead>\n",
              "  <tbody>\n",
              "    <tr>\n",
              "      <th rowspan=\"2\" valign=\"top\">0</th>\n",
              "      <th>1</th>\n",
              "      <td>35</td>\n",
              "      <td>25742.0</td>\n",
              "      <td>23827.0</td>\n",
              "      <td>21103.0</td>\n",
              "      <td>19483.0</td>\n",
              "      <td>18440.0</td>\n",
              "      <td>17531.0</td>\n",
              "      <td>150000.0</td>\n",
              "      <td>2458.0</td>\n",
              "      <td>2200.0</td>\n",
              "      <td>1991.0</td>\n",
              "      <td>1600.0</td>\n",
              "      <td>1600.0</td>\n",
              "      <td>1501.0</td>\n",
              "    </tr>\n",
              "    <tr>\n",
              "      <th>2</th>\n",
              "      <td>33</td>\n",
              "      <td>21368.0</td>\n",
              "      <td>20344.0</td>\n",
              "      <td>19570.0</td>\n",
              "      <td>18475.0</td>\n",
              "      <td>17318.0</td>\n",
              "      <td>15872.0</td>\n",
              "      <td>160000.0</td>\n",
              "      <td>2460.0</td>\n",
              "      <td>2300.0</td>\n",
              "      <td>2000.0</td>\n",
              "      <td>1838.0</td>\n",
              "      <td>1868.0</td>\n",
              "      <td>1853.0</td>\n",
              "    </tr>\n",
              "    <tr>\n",
              "      <th rowspan=\"2\" valign=\"top\">1</th>\n",
              "      <th>1</th>\n",
              "      <td>36</td>\n",
              "      <td>20139.0</td>\n",
              "      <td>20114.0</td>\n",
              "      <td>19753.0</td>\n",
              "      <td>19032.0</td>\n",
              "      <td>18161.0</td>\n",
              "      <td>17959.0</td>\n",
              "      <td>80000.0</td>\n",
              "      <td>1600.0</td>\n",
              "      <td>1500.0</td>\n",
              "      <td>1158.0</td>\n",
              "      <td>1000.0</td>\n",
              "      <td>1000.0</td>\n",
              "      <td>960.0</td>\n",
              "    </tr>\n",
              "    <tr>\n",
              "      <th>2</th>\n",
              "      <td>33</td>\n",
              "      <td>20226.0</td>\n",
              "      <td>20503.0</td>\n",
              "      <td>20023.0</td>\n",
              "      <td>19315.0</td>\n",
              "      <td>18843.0</td>\n",
              "      <td>18244.0</td>\n",
              "      <td>100000.0</td>\n",
              "      <td>1670.0</td>\n",
              "      <td>1600.0</td>\n",
              "      <td>1300.0</td>\n",
              "      <td>1000.0</td>\n",
              "      <td>1000.0</td>\n",
              "      <td>1001.0</td>\n",
              "    </tr>\n",
              "  </tbody>\n",
              "</table>\n",
              "</div>"
            ],
            "text/plain": [
              "             AGE  BILL_AMT1  BILL_AMT2  ...  PAY_AMT4  PAY_AMT5  PAY_AMT6\n",
              "DEFAULT SEX                             ...                              \n",
              "0       1     35    25742.0    23827.0  ...    1600.0    1600.0    1501.0\n",
              "        2     33    21368.0    20344.0  ...    1838.0    1868.0    1853.0\n",
              "1       1     36    20139.0    20114.0  ...    1000.0    1000.0     960.0\n",
              "        2     33    20226.0    20503.0  ...    1000.0    1000.0    1001.0\n",
              "\n",
              "[4 rows x 14 columns]"
            ]
          },
          "metadata": {
            "tags": []
          },
          "execution_count": 16
        }
      ]
    },
    {
      "cell_type": "markdown",
      "metadata": {
        "id": "Msbj3fhw9TUi"
      },
      "source": [
        "From the pivot table we can understand the distribution of the defaulters and non-defaulters with respect to the `gender` of the customer. We observe that:\n",
        "* Among defaulters, female clients have less median age when compared with the male clients.\n",
        "* The `LIMIT_BAL` for defaulters is less for male clients when compared with female clients."
      ]
    },
    {
      "cell_type": "code",
      "metadata": {
        "colab": {
          "base_uri": "https://localhost:8080/",
          "height": 266
        },
        "id": "IGUIkrPvxK5z",
        "outputId": "0994eb3b-87c8-4326-cfbb-ed3ea172488c"
      },
      "source": [
        "# S3.2: Display the median value of the columns containing continous numeric values and group them by 'DEFAULT' and 'MARRIAGE' columns.\n",
        "pivot_table2 = pd.pivot_table(data = df, values = ['LIMIT_BAL', 'AGE'] + list(df.columns[12:-1]), index = ['DEFAULT', 'MARRIAGE'], aggfunc = 'median')\n",
        "pivot_table2"
      ],
      "execution_count": null,
      "outputs": [
        {
          "output_type": "execute_result",
          "data": {
            "text/html": [
              "<div>\n",
              "<style scoped>\n",
              "    .dataframe tbody tr th:only-of-type {\n",
              "        vertical-align: middle;\n",
              "    }\n",
              "\n",
              "    .dataframe tbody tr th {\n",
              "        vertical-align: top;\n",
              "    }\n",
              "\n",
              "    .dataframe thead th {\n",
              "        text-align: right;\n",
              "    }\n",
              "</style>\n",
              "<table border=\"1\" class=\"dataframe\">\n",
              "  <thead>\n",
              "    <tr style=\"text-align: right;\">\n",
              "      <th></th>\n",
              "      <th></th>\n",
              "      <th>AGE</th>\n",
              "      <th>BILL_AMT1</th>\n",
              "      <th>BILL_AMT2</th>\n",
              "      <th>BILL_AMT3</th>\n",
              "      <th>BILL_AMT4</th>\n",
              "      <th>BILL_AMT5</th>\n",
              "      <th>BILL_AMT6</th>\n",
              "      <th>LIMIT_BAL</th>\n",
              "      <th>PAY_AMT1</th>\n",
              "      <th>PAY_AMT2</th>\n",
              "      <th>PAY_AMT3</th>\n",
              "      <th>PAY_AMT4</th>\n",
              "      <th>PAY_AMT5</th>\n",
              "      <th>PAY_AMT6</th>\n",
              "    </tr>\n",
              "    <tr>\n",
              "      <th>DEFAULT</th>\n",
              "      <th>MARRIAGE</th>\n",
              "      <th></th>\n",
              "      <th></th>\n",
              "      <th></th>\n",
              "      <th></th>\n",
              "      <th></th>\n",
              "      <th></th>\n",
              "      <th></th>\n",
              "      <th></th>\n",
              "      <th></th>\n",
              "      <th></th>\n",
              "      <th></th>\n",
              "      <th></th>\n",
              "      <th></th>\n",
              "      <th></th>\n",
              "    </tr>\n",
              "  </thead>\n",
              "  <tbody>\n",
              "    <tr>\n",
              "      <th rowspan=\"3\" valign=\"top\">0</th>\n",
              "      <th>1</th>\n",
              "      <td>39</td>\n",
              "      <td>22573.0</td>\n",
              "      <td>21022.0</td>\n",
              "      <td>19905.0</td>\n",
              "      <td>18532.0</td>\n",
              "      <td>17390.0</td>\n",
              "      <td>15442.0</td>\n",
              "      <td>180000.0</td>\n",
              "      <td>2500.0</td>\n",
              "      <td>2386.0</td>\n",
              "      <td>2000.0</td>\n",
              "      <td>1877.0</td>\n",
              "      <td>1876.0</td>\n",
              "      <td>1800.0</td>\n",
              "    </tr>\n",
              "    <tr>\n",
              "      <th>2</th>\n",
              "      <td>30</td>\n",
              "      <td>23469.0</td>\n",
              "      <td>22382.0</td>\n",
              "      <td>20401.0</td>\n",
              "      <td>19353.0</td>\n",
              "      <td>18336.0</td>\n",
              "      <td>17345.0</td>\n",
              "      <td>140000.0</td>\n",
              "      <td>2406.0</td>\n",
              "      <td>2200.0</td>\n",
              "      <td>2000.0</td>\n",
              "      <td>1680.0</td>\n",
              "      <td>1707.0</td>\n",
              "      <td>1681.0</td>\n",
              "    </tr>\n",
              "    <tr>\n",
              "      <th>3</th>\n",
              "      <td>42</td>\n",
              "      <td>21953.5</td>\n",
              "      <td>20432.0</td>\n",
              "      <td>18411.0</td>\n",
              "      <td>17915.5</td>\n",
              "      <td>16784.0</td>\n",
              "      <td>14691.0</td>\n",
              "      <td>70000.0</td>\n",
              "      <td>1943.0</td>\n",
              "      <td>1678.5</td>\n",
              "      <td>1477.5</td>\n",
              "      <td>1062.5</td>\n",
              "      <td>1000.0</td>\n",
              "      <td>1000.0</td>\n",
              "    </tr>\n",
              "    <tr>\n",
              "      <th rowspan=\"3\" valign=\"top\">1</th>\n",
              "      <th>1</th>\n",
              "      <td>40</td>\n",
              "      <td>21633.5</td>\n",
              "      <td>21190.5</td>\n",
              "      <td>20445.0</td>\n",
              "      <td>19588.0</td>\n",
              "      <td>19001.5</td>\n",
              "      <td>18320.5</td>\n",
              "      <td>100000.0</td>\n",
              "      <td>1616.5</td>\n",
              "      <td>1600.0</td>\n",
              "      <td>1238.0</td>\n",
              "      <td>1000.0</td>\n",
              "      <td>1000.0</td>\n",
              "      <td>1000.0</td>\n",
              "    </tr>\n",
              "    <tr>\n",
              "      <th>2</th>\n",
              "      <td>29</td>\n",
              "      <td>19438.0</td>\n",
              "      <td>19844.0</td>\n",
              "      <td>19492.0</td>\n",
              "      <td>18859.0</td>\n",
              "      <td>18187.0</td>\n",
              "      <td>17976.0</td>\n",
              "      <td>80000.0</td>\n",
              "      <td>1640.0</td>\n",
              "      <td>1500.0</td>\n",
              "      <td>1214.0</td>\n",
              "      <td>1000.0</td>\n",
              "      <td>1000.0</td>\n",
              "      <td>1000.0</td>\n",
              "    </tr>\n",
              "    <tr>\n",
              "      <th>3</th>\n",
              "      <td>44</td>\n",
              "      <td>18126.0</td>\n",
              "      <td>18459.0</td>\n",
              "      <td>18942.0</td>\n",
              "      <td>18300.0</td>\n",
              "      <td>17760.0</td>\n",
              "      <td>17327.0</td>\n",
              "      <td>50000.0</td>\n",
              "      <td>1700.0</td>\n",
              "      <td>1679.0</td>\n",
              "      <td>1000.0</td>\n",
              "      <td>1000.0</td>\n",
              "      <td>1000.0</td>\n",
              "      <td>800.0</td>\n",
              "    </tr>\n",
              "  </tbody>\n",
              "</table>\n",
              "</div>"
            ],
            "text/plain": [
              "                  AGE  BILL_AMT1  BILL_AMT2  ...  PAY_AMT4  PAY_AMT5  PAY_AMT6\n",
              "DEFAULT MARRIAGE                             ...                              \n",
              "0       1          39    22573.0    21022.0  ...    1877.0    1876.0    1800.0\n",
              "        2          30    23469.0    22382.0  ...    1680.0    1707.0    1681.0\n",
              "        3          42    21953.5    20432.0  ...    1062.5    1000.0    1000.0\n",
              "1       1          40    21633.5    21190.5  ...    1000.0    1000.0    1000.0\n",
              "        2          29    19438.0    19844.0  ...    1000.0    1000.0    1000.0\n",
              "        3          44    18126.0    18459.0  ...    1000.0    1000.0     800.0\n",
              "\n",
              "[6 rows x 14 columns]"
            ]
          },
          "metadata": {
            "tags": []
          },
          "execution_count": 17
        }
      ]
    },
    {
      "cell_type": "markdown",
      "metadata": {
        "id": "GfCYOk0k9UYI"
      },
      "source": [
        "From the pivot table we can understand the distribution of the defaulters and non-defaulters with respect to the `marriage` status of the customer. We observe that:\n",
        "* Married people with `age` around 40 are more likely to default on payment if the `LIMIT_BAL` approved by the bank is lower.\n",
        "* Singles with `age` around 29 are more likely to default on payment if the `LIMIT_BAL` approved by the bank is lower.\n",
        "* Customres who have not specified their marriage status with `age` around 44 are more likely to default on payment if the `LIMIT_BAL` approved by the bank is lower."
      ]
    },
    {
      "cell_type": "code",
      "metadata": {
        "colab": {
          "base_uri": "https://localhost:8080/",
          "height": 390
        },
        "id": "cyKUopHK5DOn",
        "outputId": "85272121-26e6-46d8-cbbd-f380bb601615"
      },
      "source": [
        "# S3.3: Display the median value of the columns containing continous numeric values and group them by 'DEFAULT' and 'EDUCATION' columns.\n",
        "pivot_table3 = pd.pivot_table(data = df, values = ['LIMIT_BAL', 'AGE'] + list(df.columns[12:-1]), index = ['DEFAULT', 'EDUCATION'], aggfunc = 'median')\n",
        "pivot_table3"
      ],
      "execution_count": null,
      "outputs": [
        {
          "output_type": "execute_result",
          "data": {
            "text/html": [
              "<div>\n",
              "<style scoped>\n",
              "    .dataframe tbody tr th:only-of-type {\n",
              "        vertical-align: middle;\n",
              "    }\n",
              "\n",
              "    .dataframe tbody tr th {\n",
              "        vertical-align: top;\n",
              "    }\n",
              "\n",
              "    .dataframe thead th {\n",
              "        text-align: right;\n",
              "    }\n",
              "</style>\n",
              "<table border=\"1\" class=\"dataframe\">\n",
              "  <thead>\n",
              "    <tr style=\"text-align: right;\">\n",
              "      <th></th>\n",
              "      <th></th>\n",
              "      <th>AGE</th>\n",
              "      <th>BILL_AMT1</th>\n",
              "      <th>BILL_AMT2</th>\n",
              "      <th>BILL_AMT3</th>\n",
              "      <th>BILL_AMT4</th>\n",
              "      <th>BILL_AMT5</th>\n",
              "      <th>BILL_AMT6</th>\n",
              "      <th>LIMIT_BAL</th>\n",
              "      <th>PAY_AMT1</th>\n",
              "      <th>PAY_AMT2</th>\n",
              "      <th>PAY_AMT3</th>\n",
              "      <th>PAY_AMT4</th>\n",
              "      <th>PAY_AMT5</th>\n",
              "      <th>PAY_AMT6</th>\n",
              "    </tr>\n",
              "    <tr>\n",
              "      <th>DEFAULT</th>\n",
              "      <th>EDUCATION</th>\n",
              "      <th></th>\n",
              "      <th></th>\n",
              "      <th></th>\n",
              "      <th></th>\n",
              "      <th></th>\n",
              "      <th></th>\n",
              "      <th></th>\n",
              "      <th></th>\n",
              "      <th></th>\n",
              "      <th></th>\n",
              "      <th></th>\n",
              "      <th></th>\n",
              "      <th></th>\n",
              "      <th></th>\n",
              "    </tr>\n",
              "  </thead>\n",
              "  <tbody>\n",
              "    <tr>\n",
              "      <th rowspan=\"5\" valign=\"top\">0</th>\n",
              "      <th>1</th>\n",
              "      <td>32</td>\n",
              "      <td>14712.0</td>\n",
              "      <td>14244.0</td>\n",
              "      <td>14394.0</td>\n",
              "      <td>13222.0</td>\n",
              "      <td>11599.0</td>\n",
              "      <td>10075.0</td>\n",
              "      <td>200000.0</td>\n",
              "      <td>2991.0</td>\n",
              "      <td>2800.0</td>\n",
              "      <td>2101.0</td>\n",
              "      <td>2000.0</td>\n",
              "      <td>2000.0</td>\n",
              "      <td>2000.0</td>\n",
              "    </tr>\n",
              "    <tr>\n",
              "      <th>2</th>\n",
              "      <td>34</td>\n",
              "      <td>28084.5</td>\n",
              "      <td>27057.0</td>\n",
              "      <td>24908.5</td>\n",
              "      <td>21228.5</td>\n",
              "      <td>19683.0</td>\n",
              "      <td>19204.0</td>\n",
              "      <td>130000.0</td>\n",
              "      <td>2252.0</td>\n",
              "      <td>2100.0</td>\n",
              "      <td>2000.0</td>\n",
              "      <td>1700.0</td>\n",
              "      <td>1700.0</td>\n",
              "      <td>1600.0</td>\n",
              "    </tr>\n",
              "    <tr>\n",
              "      <th>3</th>\n",
              "      <td>40</td>\n",
              "      <td>27220.5</td>\n",
              "      <td>25402.5</td>\n",
              "      <td>22889.0</td>\n",
              "      <td>19559.5</td>\n",
              "      <td>18610.0</td>\n",
              "      <td>17912.0</td>\n",
              "      <td>100000.0</td>\n",
              "      <td>2069.5</td>\n",
              "      <td>2000.0</td>\n",
              "      <td>1726.0</td>\n",
              "      <td>1396.5</td>\n",
              "      <td>1446.0</td>\n",
              "      <td>1304.0</td>\n",
              "    </tr>\n",
              "    <tr>\n",
              "      <th>4</th>\n",
              "      <td>32</td>\n",
              "      <td>10734.5</td>\n",
              "      <td>8872.5</td>\n",
              "      <td>7183.0</td>\n",
              "      <td>10412.5</td>\n",
              "      <td>6342.0</td>\n",
              "      <td>5334.0</td>\n",
              "      <td>200000.0</td>\n",
              "      <td>3000.0</td>\n",
              "      <td>3000.0</td>\n",
              "      <td>2950.0</td>\n",
              "      <td>1908.5</td>\n",
              "      <td>1399.5</td>\n",
              "      <td>1786.0</td>\n",
              "    </tr>\n",
              "    <tr>\n",
              "      <th>5</th>\n",
              "      <td>35</td>\n",
              "      <td>42407.0</td>\n",
              "      <td>36011.0</td>\n",
              "      <td>31500.0</td>\n",
              "      <td>27981.0</td>\n",
              "      <td>21617.0</td>\n",
              "      <td>12106.0</td>\n",
              "      <td>160000.0</td>\n",
              "      <td>3000.0</td>\n",
              "      <td>3078.0</td>\n",
              "      <td>2524.0</td>\n",
              "      <td>1842.0</td>\n",
              "      <td>1500.0</td>\n",
              "      <td>1610.0</td>\n",
              "    </tr>\n",
              "    <tr>\n",
              "      <th rowspan=\"5\" valign=\"top\">1</th>\n",
              "      <th>1</th>\n",
              "      <td>33</td>\n",
              "      <td>10797.5</td>\n",
              "      <td>11730.5</td>\n",
              "      <td>11391.0</td>\n",
              "      <td>10819.5</td>\n",
              "      <td>10466.5</td>\n",
              "      <td>9667.0</td>\n",
              "      <td>150000.0</td>\n",
              "      <td>1500.0</td>\n",
              "      <td>1468.5</td>\n",
              "      <td>1025.5</td>\n",
              "      <td>929.5</td>\n",
              "      <td>1000.0</td>\n",
              "      <td>902.0</td>\n",
              "    </tr>\n",
              "    <tr>\n",
              "      <th>2</th>\n",
              "      <td>33</td>\n",
              "      <td>25344.0</td>\n",
              "      <td>24653.0</td>\n",
              "      <td>23086.0</td>\n",
              "      <td>20423.0</td>\n",
              "      <td>19688.5</td>\n",
              "      <td>19414.5</td>\n",
              "      <td>80000.0</td>\n",
              "      <td>1700.0</td>\n",
              "      <td>1600.0</td>\n",
              "      <td>1300.0</td>\n",
              "      <td>1000.0</td>\n",
              "      <td>1009.5</td>\n",
              "      <td>1000.0</td>\n",
              "    </tr>\n",
              "    <tr>\n",
              "      <th>3</th>\n",
              "      <td>41</td>\n",
              "      <td>21508.0</td>\n",
              "      <td>21410.0</td>\n",
              "      <td>20453.0</td>\n",
              "      <td>19584.0</td>\n",
              "      <td>18362.0</td>\n",
              "      <td>17636.0</td>\n",
              "      <td>50000.0</td>\n",
              "      <td>1600.0</td>\n",
              "      <td>1585.0</td>\n",
              "      <td>1200.0</td>\n",
              "      <td>1000.0</td>\n",
              "      <td>1000.0</td>\n",
              "      <td>1000.0</td>\n",
              "    </tr>\n",
              "    <tr>\n",
              "      <th>4</th>\n",
              "      <td>29</td>\n",
              "      <td>5374.0</td>\n",
              "      <td>12360.0</td>\n",
              "      <td>20721.0</td>\n",
              "      <td>1000.0</td>\n",
              "      <td>326.0</td>\n",
              "      <td>390.0</td>\n",
              "      <td>120000.0</td>\n",
              "      <td>5000.0</td>\n",
              "      <td>2000.0</td>\n",
              "      <td>1000.0</td>\n",
              "      <td>326.0</td>\n",
              "      <td>390.0</td>\n",
              "      <td>780.0</td>\n",
              "    </tr>\n",
              "    <tr>\n",
              "      <th>5</th>\n",
              "      <td>41</td>\n",
              "      <td>73699.5</td>\n",
              "      <td>67973.5</td>\n",
              "      <td>60048.5</td>\n",
              "      <td>45139.0</td>\n",
              "      <td>27405.5</td>\n",
              "      <td>25796.0</td>\n",
              "      <td>110000.0</td>\n",
              "      <td>3500.0</td>\n",
              "      <td>2690.5</td>\n",
              "      <td>1418.0</td>\n",
              "      <td>1868.5</td>\n",
              "      <td>1295.5</td>\n",
              "      <td>1167.5</td>\n",
              "    </tr>\n",
              "  </tbody>\n",
              "</table>\n",
              "</div>"
            ],
            "text/plain": [
              "                   AGE  BILL_AMT1  BILL_AMT2  ...  PAY_AMT4  PAY_AMT5  PAY_AMT6\n",
              "DEFAULT EDUCATION                             ...                              \n",
              "0       1           32    14712.0    14244.0  ...    2000.0    2000.0    2000.0\n",
              "        2           34    28084.5    27057.0  ...    1700.0    1700.0    1600.0\n",
              "        3           40    27220.5    25402.5  ...    1396.5    1446.0    1304.0\n",
              "        4           32    10734.5     8872.5  ...    1908.5    1399.5    1786.0\n",
              "        5           35    42407.0    36011.0  ...    1842.0    1500.0    1610.0\n",
              "1       1           33    10797.5    11730.5  ...     929.5    1000.0     902.0\n",
              "        2           33    25344.0    24653.0  ...    1000.0    1009.5    1000.0\n",
              "        3           41    21508.0    21410.0  ...    1000.0    1000.0    1000.0\n",
              "        4           29     5374.0    12360.0  ...     326.0     390.0     780.0\n",
              "        5           41    73699.5    67973.5  ...    1868.5    1295.5    1167.5\n",
              "\n",
              "[10 rows x 14 columns]"
            ]
          },
          "metadata": {
            "tags": []
          },
          "execution_count": 18
        }
      ]
    },
    {
      "cell_type": "markdown",
      "metadata": {
        "id": "W_oLxKxt9VV4"
      },
      "source": [
        "From the pivot table, we can understand the distribution of the defaulters and non-defaulters with respect to the `EDUCATION` status of the customer. We observe that clients having lower approved `LIMIT_BAL` are more likely to default irrespective of the educational background.\n"
      ]
    },
    {
      "cell_type": "markdown",
      "metadata": {
        "id": "ep0bMFUou1qx"
      },
      "source": [
        "---"
      ]
    },
    {
      "cell_type": "markdown",
      "metadata": {
        "id": "_FFFc0n-edmx"
      },
      "source": [
        "#### Activity 4: Subplots\n",
        "\n",
        "Let's create count plots displaying the number of defaulters by their gender, marital status and education together through just one figure. To plot all the figures together, you need to use the `subplots()` function of `matplotlib.pyplot` module. It creates a figure and a set of subplots. This utility wrapper makes it convenient to create common layouts of subplots, including the enclosing figure object, in a single call. Its **syntax** is:\n",
        "\n",
        "> `subplots(nrows, ncols, figsize, sharex = False, sharey = False, squeeze = True)`\n",
        "\n",
        "where\n",
        "\n",
        "- **`nrows, ncols`:** Sets the number of rows/columns of the subplot grid.\n",
        "\n",
        "- **`sharex, sharey`:** Controls sharing of properties among $x$ (`sharex`) or $y$ (`sharey`) axes. Its default value is `False`. It can take one of `'none', 'all', 'row', 'col'` values as well as inputs.\n",
        "\n",
        "  - If set to `True` or `'all'`, then $x$ or $y$-axis will be shared among all subplots.\n",
        "  \n",
        "  - If set to `False` or `'none'`, then each subplot $x$ or $y$-axis will be independent.\n",
        "  \n",
        "  - If set to `'row'`, then each subplot row will share an $x$ or $y$-axis.\n",
        "  \n",
        "  - If set to `'col'`, then each subplot column will share an $x$ or $y$-axis.\n",
        "\n",
        "  When subplots have a shared $x$-axis along a column, only the $x$ tick labels of the bottom subplot are created. Similarly, when subplots have a shared $y$-axis along a row, only the $y$ tick labels of the first column subplot are created. To later turn other subplots' ticklabels on, use `tick_params`.\n",
        "\n",
        "  When subplots have a shared axis that has units, calling `set_units` will update each axis with the new units.\n",
        "\n",
        "- **`squeezebool`:** Its default value is `True`\n",
        "  \n",
        "  - If `True`, extra dimensions are squeezed out from the returned array of `Axes`:\n",
        "    \n",
        "    - If only one subplot is constructed (`nrows = ncols = 1`), the resulting single `Axes` object is returned as a scalar.\n",
        "    \n",
        "    - for $N \\times 1$ or $1 \\times M$ subplots, the returned object is a 1D numpy object array of `Axes` objects.\n",
        "    \n",
        "    - for $N \\times M$, subplots with $N > 1$ and $M > 1$ are returned as a 2D array.\n",
        "\n",
        "      where $N$ and $M$ are the number of rows and columns in the `Axes` grid.\n",
        "\n",
        "  - If `False`, no squeezing at all is done: the returned `Axes` object is always a 2D array containing Axes instances, even if it ends up being $1 \\times 1$.\n",
        "\n",
        "You can read about the `subplots()` function in detail by clicking on the link provided below:\n",
        "\n",
        "https://matplotlib.org/stable/api/_as_gen/matplotlib.pyplot.subplots.html\n",
        "\n",
        "To create such a plot:\n",
        "\n",
        "1. Call the `subplots()` function on object of `matplotlib.pyplot` and unpack the figure and axis objects in two different variables, say `fig` and `axis`. Inside the `subplots()` function, pass:\n",
        "\n",
        "  - `nrows = 1` and `ncols = 3` parameters to create a figure having 1 row and 3 columns.\n",
        "\n",
        "  - `figsize = (14, 5)` parameter to create the figure of 14 units wide and 5 units high.\n",
        "\n",
        "  - `dpi = 96` parameter to further enlarge the figure based on their pixel density.\n",
        "\n",
        "  - `sharey = True` to share the $y$-axis of the figure among all the subplots to be created.\n",
        "\n",
        "2. Call the `countplot()` function thrice one by one and pass the relevant input parameters to create count plots for `SEX, MARRIAGE` add `EDUCATION` columns along with `ax = axis[0], ax = axis[1]` and `ax = axis[2]` as additional inputs.\n",
        "\n",
        "3. Call the `suptitle()` on the figure object to provide a title to the subplot.\n",
        "\n",
        "4. Call the `show()` function on the `matplotlib.pyplot` object."
      ]
    },
    {
      "cell_type": "code",
      "metadata": {
        "colab": {
          "base_uri": "https://localhost:8080/",
          "height": 487
        },
        "id": "k8zry20yAOJ_",
        "outputId": "97be57d9-57ec-4dc5-e326-86dfa7bc892c"
      },
      "source": [
        "# S4.1: Create count plots showing defaulters grouped by 'SEX', 'MARRIAGE' and 'EDUCATION' in just one figure.\n",
        "fig1, axis1 = plt.subplots(nrows = 1, ncols = 3, figsize = (14, 5), dpi = 96, sharey = True)\n",
        "sns.countplot(x = 'SEX', data = df, hue = 'DEFAULT', ax = axis1[0])\n",
        "sns.countplot(x = 'MARRIAGE', data = df, hue = 'DEFAULT', ax = axis1[1])\n",
        "sns.countplot(x = 'EDUCATION', data = df, hue = 'DEFAULT', ax = axis1[2])\n",
        "fig1.suptitle('Count Plots Showing Defaulters Grouped by Sex, Marriage and Education')\n",
        "plt.show()"
      ],
      "execution_count": null,
      "outputs": [
        {
          "output_type": "display_data",
          "data": {
            "image/png": "[encoded data removed]",
            "text/plain": [
              "<Figure size 1344x480 with 3 Axes>"
            ]
          },
          "metadata": {
            "tags": [],
            "needs_background": "light"
          }
        }
      ]
    },
    {
      "cell_type": "markdown",
      "metadata": {
        "id": "oQoB58qNNz-u"
      },
      "source": [
        "Similarly, you can create box plots displaying the age and credit limit of defaulters grouped by `'SEX', 'MARRIAGE'` and `'EDUCATION'` in just one figure.\n",
        "\n",
        "**Note:**\n",
        "\n",
        "- To get an axis at second row and third column from a grid of, say 3 rows and 5 columns figure, use `axis[1, 2]`.\n",
        "\n",
        "- Whenever you have more than one input values to the `y` parameter in any kind of plot, make sure that `sharey` parameter is set to `False` inside the `subplots()` function."
      ]
    },
    {
      "cell_type": "code",
      "metadata": {
        "colab": {
          "base_uri": "https://localhost:8080/",
          "height": 733
        },
        "id": "0a8og4qeLHUU",
        "outputId": "c60fc740-528b-4d3d-be4b-7fcd38e937e0"
      },
      "source": [
        "# S4.2: Create box plots displaying the age and credit limit of defaulters grouped by 'SEX', 'MARRIAGE' and 'EDUCATION' in just one figure.\n",
        "fig2, axis2 = plt.subplots(nrows = 2, ncols = 3, figsize = (14, 8), dpi = 96, sharey = False)\n",
        "# For 'AGE' column.\n",
        "sns.boxplot(x = 'SEX', y = 'AGE', hue = 'DEFAULT', data = df, ax = axis2[0, 0])\n",
        "sns.boxplot(x = 'MARRIAGE', y = 'AGE', hue = 'DEFAULT', data = df, ax = axis2[0, 1])\n",
        "sns.boxplot(x = 'EDUCATION', y = 'AGE', hue = 'DEFAULT', data = df, ax = axis2[0, 2])\n",
        "# For 'LIMIT_BAL' column.\n",
        "sns.boxplot(x = 'SEX', y = 'LIMIT_BAL', hue = 'DEFAULT', data = df, ax = axis2[1, 0])\n",
        "sns.boxplot(x = 'MARRIAGE', y = 'LIMIT_BAL', hue = 'DEFAULT', data = df, ax = axis2[1, 1])\n",
        "sns.boxplot(x = 'EDUCATION', y = 'LIMIT_BAL', hue = 'DEFAULT', data = df, ax = axis2[1, 2])\n",
        "fig2.suptitle('Box Plots Showing Age & Credit Limit of Defaulters Grouped by Sex, Marriage and Education')\n",
        "plt.show()"
      ],
      "execution_count": null,
      "outputs": [
        {
          "output_type": "display_data",
          "data": {
            "image/png": "[encoded data removed]",
            "text/plain": [
              "<Figure size 1344x768 with 6 Axes>"
            ]
          },
          "metadata": {
            "tags": [],
            "needs_background": "light"
          }
        }
      ]
    },
    {
      "cell_type": "markdown",
      "metadata": {
        "id": "d9oW-z4CR-lW"
      },
      "source": [
        "Let's stop here. We will learn to build a decision tree model to predict the credit card payment defaulters in the next class."
      ]
    },
    {
      "cell_type": "markdown",
      "metadata": {
        "id": "302W5-pCSHQJ"
      },
      "source": [
        "---"
      ]
    },
    {
      "cell_type": "markdown",
      "metadata": {
        "id": "zCgkgzCSSHy7"
      },
      "source": [
        "#### Activities\n",
        "\n",
        "**Teacher Activities:**\n",
        "\n",
        "1. Detect Credit Defaulters - Pivot Table & Subplots\n",
        " (Class Copy)\n",
        "\n",
        "   Link on Panel\n",
        "   \n",
        "2. Detect Credit Defaulters - Pivot Table & Subplots\n",
        " (Reference)\n",
        "\n",
        "   Link on Panel\n"
      ]
    },
    {
      "cell_type": "markdown",
      "metadata": {
        "id": "ysxdAjtKR9rG"
      },
      "source": [
        "---"
      ]
    }
  ]
}