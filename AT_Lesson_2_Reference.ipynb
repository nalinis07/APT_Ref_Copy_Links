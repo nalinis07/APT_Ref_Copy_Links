{
  "nbformat": 4,
  "nbformat_minor": 0,
  "metadata": {
    "colab": {
      "provenance": [],
      "include_colab_link": true
    },
    "kernelspec": {
      "name": "python3",
      "display_name": "Python 3"
    }
  },
  "cells": [
    {
      "cell_type": "markdown",
      "metadata": {
        "id": "view-in-github",
        "colab_type": "text"
      },
      "source": [
        "<a href=\"https://colab.research.google.com/github/nalinis07/APT_Ref_Copy_Links/blob/MASTER/AT_Lesson_2_Reference.ipynb\" target=\"_parent\"><img src=\"https://colab.research.google.com/assets/colab-badge.svg\" alt=\"Open In Colab\"/></a>"
      ]
    },
    {
      "cell_type": "markdown",
      "metadata": {
        "id": "mFDyd3uB4WBx"
      },
      "source": [
        "# Lesson 2: Mind Reader Game - While Loop, Data-Type Conversion & Conditional Statements"
      ]
    },
    {
      "cell_type": "markdown",
      "metadata": {
        "id": "bNs2rR5-way_"
      },
      "source": [
        "**WARNING:** The reference notebook is meant **ONLY** for a teacher. Please **DON'T** share it with any student.\n",
        "\n",
        "The contents of the reference notebook are meant only to prepare a teacher for a class. To conduct the class, use the class copy of the reference notebook. The link and the instructions for the same are provided in the **Notes To The Teacher** section.\n",
        "\n",
        "\n",
        "|Particulars|Description|\n",
        "|-|-|\n",
        "|**Topic**|Mind Reader Game - While Loop, Data-Type Conversion & Conditional Statements|\n",
        "|||\n",
        "|**Class Description**|In this class, a student will learn how to use the `while` loop to increment the numeric value stored in a variable|\n",
        "|||\n",
        "|**Class**|C2|\n",
        "|||\n",
        "|**Class Time**|45 minutes|\n",
        "|||\n",
        "|**Goals**|Increment the numeric values using the `while` loop|\n",
        "||Convert the `str` type value to an `int` type value|\n",
        "||Keep track of the scores using the conditional statemetns and while loop|\n",
        "||Run the game until the score reaches 50 points|\n",
        "|||\n",
        "|**Teacher Resources**|Link to Lesson 2 Google Colab reference notebook|\n",
        "||Google Account|\n",
        "||Laptop with internet connectivity|\n",
        "||Earphones with mic|\n",
        "|||\n",
        "|**Student Resources**|Google Account|\n",
        "||Laptop with internet connectivity|\n",
        "||Earphones with mic|"
      ]
    },
    {
      "cell_type": "markdown",
      "metadata": {
        "id": "u7a2JSxXqmLQ"
      },
      "source": [
        "---"
      ]
    },
    {
      "cell_type": "markdown",
      "metadata": {
        "id": "CKLiFCIYy4O8"
      },
      "source": [
        "### Class Structure\n",
        "\n",
        "A class is divided into three parts, as shown in the table below.\n",
        "\n",
        "|Parts|Duration|\n",
        "|-|-|\n",
        "|**Warm-Up**|5 minutes|\n",
        "|||\n",
        "|**Teacher-Student Activities**|35 minutes|\n",
        "|||\n",
        "|**Wrap-Up**|5 minutes|"
      ]
    },
    {
      "cell_type": "markdown",
      "metadata": {
        "id": "atW_5U_Ty-BO"
      },
      "source": [
        "---"
      ]
    },
    {
      "cell_type": "markdown",
      "metadata": {
        "id": "4RRwd_ED_XP7"
      },
      "source": [
        "### Notes To The Teacher\n",
        "\n",
        "Before beginning the class:\n",
        "\n",
        "1. Open the **ATV - Lesson 2 - Class- v0.2** file by clicking on the link provided in the **Activities** section under the title **Mind Reader Game - While Loop, Data-Type Conversion & Conditional Statements (Class Copy)**.  \n",
        "\n",
        " <font color=\"red\">Refer both Reference and Class Copy before conducting the class.</font>\n",
        "\n",
        "2. After opening the file mentioned in the first point, create its duplicate copy by following the steps described below:\n",
        "\n",
        "    - Click on the **File** menu. A new drop-down list will appear.\n",
        "\n",
        "      <img src='https://student-datasets-bucket.s3.ap-south-1.amazonaws.com/images/lesson-0/0_file_menu.png' width=500>\n",
        "\n",
        "    - Click on the **Save a copy in Drive** option. A duplicate copy will get created. It will open up in the new tab on your web browser.\n",
        "\n",
        "      <img src='https://student-datasets-bucket.s3.ap-south-1.amazonaws.com/images/lesson-0/1_create_colab_duplicate_copy.png' width=500>\n",
        "\n",
        "    - In the duplicate copy, click on the **Share** button on the top right corner of the notebook. A new dialog box will appear.\n",
        "\n",
        "      <img src='https://student-datasets-bucket.s3.ap-south-1.amazonaws.com/images/lesson-0/2_share_button.png' width=500>\n",
        "\n",
        "    - Click on the tiny downward arrow next to **Anyone with the link can view** text. A drop-down list will appear.\n",
        "\n",
        "      <img src='https://student-datasets-bucket.s3.ap-south-1.amazonaws.com/images/lesson-0/3_anyone_can_view.png' width=500>\n",
        "\n",
        "    - Click on the **More...** option. A new page on the dialog box will appear.\n",
        "\n",
        "      <img src='https://student-datasets-bucket.s3.ap-south-1.amazonaws.com/images/lesson-0/4_more_option.png' width=500>\n",
        "\n",
        "    - Click on the circle next to **On - Anyone with the link** option. Now, go down and click on the tiny downward box next to **Can edit** text. A drop-down list will appear.\n",
        "\n",
        "      <img src='https://student-datasets-bucket.s3.ap-south-1.amazonaws.com/images/lesson-0/5_anyone_with_the_link.png' width=500>\n",
        "\n",
        "    - Click on the **Can edit** option. Then click on the **Save** button. You will be directed back to the first page of the dialog box.\n",
        "\n",
        "      <img src='https://student-datasets-bucket.s3.ap-south-1.amazonaws.com/images/lesson-0/6_can_edit.png' width=500>\n",
        "\n",
        "    - Make sure that under the **Link sharing on** section, **Anyone with the link can edit** option is selected.\n",
        "\n",
        "      <img src='https://student-datasets-bucket.s3.ap-south-1.amazonaws.com/images/lesson-0/7_anyone_can_edit.png' width=500>\n",
        "\n",
        "    - Then click on the **Done** button.\n",
        "\n",
        "\n",
        "3. After creating the duplicate copy of the notebook, please rename it in the **YYYY-MM-DD_StudentName_Lesson2** format.\n",
        "\n",
        "4. Now, finish the **Warm-Up** section. Afterwards, proceed with the class using the duplicate copy of the notebook. You can share the link of the duplicate copy (named as **YYYY-MM-DD_StudentName_Lesson2**) with the student through the chat window.\n",
        "\n",
        "5. When a student executes the code for the first time in the duplicate copy that you shared with them, they may get the following warning:\n",
        "\n",
        "   ```\n",
        "    Warning: This notebook was not authored by Google. This notebook was\n",
        "    authored by xyz@gmail.com. It may request access to your data stored\n",
        "    with Google such as files, emails and contacts. Please review the source\n",
        "    code and contact the creator of this notebook at xyz@gmail.com with any\n",
        "    additional questions.\n",
        "\n",
        "                                                      Cancel. Run Anyway.\n",
        "  ```\n",
        "\n",
        "6. Ask the student to click on the `Run Anyway` button.\n",
        "\n",
        "7. Wherever you see the hat (**^**) sign on the heading of activity, give a hats-off to the student at the end of the activity.\n",
        "\n",
        "    - Single hat sign, i.e., **^** denotes give hats-off for concentration. You have to assess the concentration level of a student based on their attentiveness and understanding of the concept.\n",
        "\n",
        "    - Double hat signs, i.e., **^^** denotes give hats-off for creativity. It can be an alternative approach to writing a code for an activity or applying the logic in a totally different problem statement.\n",
        "\n",
        "    - Triple hat signs, i.e., **^^^** denotes give hats-off for persistence. It is the ability of a student to not give up on writing code and writing code with minimal teacher support.\n",
        "\n",
        "8. Every time you execute your code in the Google Colab notebook, please don't forget to save it by pressing the **Ctrl + S** keys (or **Command + S** keys if you are using a Mac). While saving the notebook, you or student may encounter the following error:\n",
        "\n",
        "   ```\n",
        "    Save failed\n",
        "    \n",
        "    The notebook has been changed outside of this session. Would you like to\n",
        "    overwrite existing changes?\n",
        "    \n",
        "                                                              CANCEL    YES\n",
        "   ```\n",
        "\n",
        "   Click on the `YES` button.\n",
        "\n",
        "9. Occasionally, you may encounter some error such as `NameError, ReferenceError, ImportError` or `ModuleNotFoundError` after executing the code in $k^{th}$ code cell (where $k > 0$). Most likely, due to poor internet speed, the Colab notebook might have lost the information that all the previous codes have been executed already. As a remedy, run codes in the code cells beginning from the first code cell till the $(k - 1)^{th}$ code cell. For e.g., if the code in the $5^{th}$ code cell fails to run because of one of the aforementioned errors, execute the codes in all the first four code cells again.\n",
        "\n",
        "10. For every **Teacher Action**, the teacher is supposed to share their screen with the student. Similarly, for every **Student Action**, the student is supposed to share their screen with the teacher."
      ]
    },
    {
      "cell_type": "markdown",
      "metadata": {
        "id": "fFCEKIy64OgI"
      },
      "source": [
        "---"
      ]
    },
    {
      "cell_type": "markdown",
      "metadata": {
        "id": "rKpSmoPAzJqn"
      },
      "source": [
        "### Warm-Up\n",
        "\n",
        "```\n",
        "TEACHER\n",
        "  Hi <student_name>! How are you doing?\n",
        "\n",
        "EXPECTED STUDENT RESPONSE\n",
        "  I am doing good, teacher. How about you?\n",
        "\n",
        "\n",
        "TEACHER\n",
        "  I am having a good time too, thank you. So, how was your day?  \n",
        "  What did you do today?\n",
        "\n",
        "EXPECTED STUDENT RESPONSE\n",
        "  I went to school. Had my lunch. Played a game and then did my homework\n",
        "  before this class.\n",
        "\n",
        "\n",
        "TEACHER\n",
        "  That's great. I am glad that you are having a good day.\n",
        "   I have an exciting quiz question for you! Are you ready to answer this question?    \n",
        " ```  \n",
        "   **Instructions for the Teacher:**\n",
        "  -  Please click on the \"Quiz Time\" button on the bottom right corner of your screen to start the In-Class Quiz.<img src='https://student-datasets-bucket.s3.ap-south-1.amazonaws.com/images/quiz-time.png' width=100>   \n",
        "  - A quiz will be visible to both you and the student. Encourage the student to answer the quiz question.\n",
        "  - The student may choose the wrong option, help the student to think correctly about the question and then answer again.\n",
        "  - After the student selects the correct option, the \"End Quiz\" button will start appearing on your screen.  <img src='https://student-datasets-bucket.s3.ap-south-1.amazonaws.com/images/end-quiz.png' width=100>  \n",
        "  - Click the \"End quiz\" to close the quiz pop-up and continue the class.\n",
        "  - Do not spend more than 2 minutes on this quiz\n",
        "  \n",
        "```\n",
        "TEACHER\n",
        "  Now, let's do a little recap of our previous class.   \n",
        "  Could you recall what we did in the previous class?\n",
        "\n",
        "EXPECTED STUDENT RESPONSE\n",
        "  We learnt data-types and variables and how to rewrite the simple version of\n",
        "  the Mind Reader game algorithm using the variables.\n",
        "\n",
        "TEACHER\n",
        "  Excellent! You recalled everything that you learnt in the last class.\n",
        "  Great job! Keep it up.\n",
        "\n",
        "  Before moving on to the Activities, Can you tell me what happens\n",
        "  when you enter a wrong password in gmail? (Refer the Class copy for visuals)\n",
        "```\n",
        "**Instructions for the Teacher:**\n",
        "1. The Class copy contains the questions which the teacher is supposed to ask the student before starting the actual activities. This must be done to improve student's engagement in the class.\n",
        "2. Encourage the student to answer every question.\n",
        "3. Once the student answers a question, click on the icon <img src=\"https://curriculum.whitehatjr.com/APT+Asset/APT+C1+storyboard+images/download.jpg\" height=20/> next to the question (Do not ask the student to click on this icon). This icon will redirect to some image or gif or which will provide answer to that question alongwith some explanation.\n",
        "\n",
        "```\n",
        "EXPECTED STUDENT RESPONSE\n",
        "  We get \"Wrong password\" password message.\n",
        "```\n",
        "<center>\n",
        "<img src='https://curriculum.whitehatjr.com/APT+Asset/APT+C1+storyboard+images/password1.PNG' >  \n",
        "\n",
        "</center>\n",
        "\n",
        "```\n",
        "TEACHER\n",
        "  What if you keep on doing multiple login attempts using wrong password?\n",
        "\n",
        "EXPECTED STUDENT RESPONSE\n",
        "  It will keep on displaying \"Wrong password. Try again or click\n",
        "  Forgot password\".\n",
        "```\n",
        "<center>\n",
        "<img src='https://curriculum.whitehatjr.com/APT+Asset/APT+C1+storyboard+images/wrong_password_gif.gif' >  \n",
        "</center>\n",
        "  \n",
        "```\n",
        "TEACHER\n",
        "  So can you tell me, how does the Gmail keeps on printing \"Wrong password\"\n",
        "  message unless the user enters its correct password ?\n",
        "  Any guesses?\n",
        "\n",
        "EXPECTED STUDENT RESPONSE\n",
        "  Student answers.\n",
        "\n",
        "TEACHER\n",
        "   Gmail uses Loops to continue printing \"Wrong password\" message\n",
        "   unless the user enters correct password.\n",
        "   \n",
        "   Can you tell me what will happen if you keep on entering wrong\n",
        "   password multiple times?\n",
        "   let's say more than 15 to 20 times.\n",
        "\n",
        "STUDENT\n",
        "   Gmail may temporarily lock our account for next few hours.\n",
        "\n",
        "TEACHER\n",
        "   Correct. We will receive a security alert,\n",
        "   somewhat like this (click on green icon). Gmail will not allow us to login into our\n",
        "   account for the next few hours.\n",
        "\n",
        "```\n",
        "<center>\n",
        "<img src='https://curriculum.whitehatjr.com/APT+Asset/APT+C1+storyboard+images/failed attempts.PNG' >  \n",
        "\n",
        "</center>\n",
        "\n",
        "```   \n",
        "TEACHER\n",
        "  How does Gmail blocks you from further entering any password once\n",
        "  the maximum limit of incorrect login is reached? Any guesses?\n",
        "\n",
        "STUDENT RESPONSE\n",
        "  Student answers.\n",
        "\n",
        "TEACHER\n",
        "  While looping, gmail keeps the count of the number of login\n",
        "  attempts.\n",
        "  When the maximum limit of incorrect login is reached, gmail shows such\n",
        "  security alert and the account will be temporarily blocked.\n",
        "  This is done to prevent any outside attack on the account.\n",
        "\n",
        "\n",
        "  In python, you can use conditional statements like if-else\n",
        "  statements to check whether the number of login attempts is greater than the max limit.\n",
        "\n",
        "  We will learn more about loops and conditional statements while\n",
        "  performing the activities.\n",
        "  Also, we are going to add following more functionalities to the\n",
        "  algorithm we created last time.\n",
        "\n",
        "  Are you excited about today's class?\n",
        "\n",
        "EXPECTED STUDENT RESPONSE\n",
        "  Yes, teacher.\n",
        "\n",
        "TEACHER\n",
        "  Great. Let's get started.\n",
        "\n",
        "  Note:\n",
        "    - Share the duplicate copy of the notebook with the student that you\n",
        "      just created.\n",
        "\n",
        "EXPECTED STUDENT RESPONSE\n",
        "  The student opens the Colab notebook.\n",
        "```\n",
        "\n"
      ]
    },
    {
      "cell_type": "markdown",
      "metadata": {
        "id": "wkj-WYxT_WOV"
      },
      "source": [
        "---"
      ]
    },
    {
      "cell_type": "markdown",
      "metadata": {
        "id": "Jqh0LwcvwTJA"
      },
      "source": [
        "### Teacher-Student Activities\n",
        "\n",
        "\n",
        "In the previous class, we created a very simple algorithm for the\n",
        "Mind Reader game in which a computer predicts `0` or `1` randomly.\n",
        "\n",
        "Here's the algorithm we built in the last class.\n",
        "\n",
        "\n",
        "<center><img src=\"https://curriculum.whitehatjr.com/APT+Asset/APT+C1+storyboard+images/Capture.PNG\" /></center>\n",
        "\n",
        "\n",
        "In this class, we are going to add more functionalities to the algorithm.\n",
        "They are as follows:\n",
        "\n",
        "\n",
        "<center>\n",
        "<img src=\"https://curriculum.whitehatjr.com/APT+Asset/boy_new.png\" /></center>\n",
        "\n",
        "\n",
        "\n",
        "Let's get started."
      ]
    },
    {
      "cell_type": "markdown",
      "metadata": {
        "id": "7JH1aKsDiqST"
      },
      "source": [
        "---"
      ]
    },
    {
      "cell_type": "markdown",
      "metadata": {
        "id": "9p4gmk7cT5pP"
      },
      "source": [
        "###  Activity 1: Score Keeping\n",
        "\n",
        "<img src=\"https://curriculum.whitehatjr.com/APT+Asset/Final+C2+images/APT+C2-24.png\" />\n",
        "\n",
        "**Note:** First ask the student to tell you the syntax for creating a variable in Python before he/she creates them."
      ]
    },
    {
      "cell_type": "code",
      "metadata": {
        "id": "bW7I8cgDXmKe"
      },
      "source": [
        "# Student Action: Create 'player_score' and 'computer_score' variables and set their initial values as 0.\n",
        "player_score = 0\n",
        "computer_score = 0"
      ],
      "execution_count": null,
      "outputs": []
    },
    {
      "cell_type": "markdown",
      "metadata": {
        "id": "veuvbzBprnP_"
      },
      "source": [
        "We have initiated the required variables to keep the scores for both the players. Now, we need to update the scores as the game progresses.\n",
        "\n",
        "##### **Updating Scores**\n",
        "\n",
        "\n",
        "Let's first increase the scores by `1` for both the players. **In the process, we will learn how to increase the value stored in a variable.**\n",
        "\n",
        "<img src=\"https://curriculum.whitehatjr.com/APT+Asset/Final+C2+images/new_gif.gif\" />\n",
        "\n",
        "\n",
        "\n",
        "\n",
        "Let's write this logic using the code.\n",
        "\n"
      ]
    },
    {
      "cell_type": "code",
      "metadata": {
        "id": "JLC7qnO_t8ZY",
        "colab": {
          "base_uri": "https://localhost:8080/",
          "height": 34
        },
        "outputId": "0509ea5e-265c-4b43-ae15-698efc183cfb"
      },
      "source": [
        "# Teacher Action: Increase the value stored in the 'player_score' variable.\n",
        "player_score = player_score + 1\n",
        "player_score"
      ],
      "execution_count": null,
      "outputs": [
        {
          "output_type": "execute_result",
          "data": {
            "text/plain": [
              "1"
            ]
          },
          "metadata": {
            "tags": []
          },
          "execution_count": 2
        }
      ]
    },
    {
      "cell_type": "markdown",
      "metadata": {
        "id": "81m74oqNu-9A"
      },
      "source": [
        "Here, we have increased the value stored in the `player_score` variable by `1`.\n",
        "\n",
        "Now using the same approach, you increase the value stored in the `computer_score` variable."
      ]
    },
    {
      "cell_type": "code",
      "metadata": {
        "id": "JKNPhIFavOr_",
        "colab": {
          "base_uri": "https://localhost:8080/",
          "height": 34
        },
        "outputId": "a9c5f46a-a551-47c4-947a-12717722319d"
      },
      "source": [
        "# Student Action: Write a code to increase the value stored in the 'computer_score' variable.\n",
        "computer_score = computer_score + 1\n",
        "computer_score"
      ],
      "execution_count": null,
      "outputs": [
        {
          "output_type": "execute_result",
          "data": {
            "text/plain": [
              "1"
            ]
          },
          "metadata": {
            "tags": []
          },
          "execution_count": 3
        }
      ]
    },
    {
      "cell_type": "markdown",
      "metadata": {
        "id": "OfNvRrSlfugO"
      },
      "source": [
        "---"
      ]
    },
    {
      "cell_type": "markdown",
      "metadata": {
        "id": "fA09LBPiIEJw"
      },
      "source": [
        "### Activity 2: The `while` Loop^^\n",
        "\n",
        "So far, we increased the values stored in the `player_score` and `computer_score` variables by just `1` unit. But we want to increase the values stored in these variables continuously until the value of these variables reach `50`. To do this, we will use the `while` loop.\n",
        "\n",
        "```\n",
        "Before explaining while loop, the teacher must ask this question.\n",
        "To view real world examples of while loop, click on the green icon.\n",
        "```\n",
        "<h4><font color=red>\n",
        "<img src=\"https://curriculum.whitehatjr.com/APT+Asset/Final+C2+images/question.jpg\"/> Can you give some real world examples in which we repeat or loop some instructions unless a condition is met?\n",
        "<a href=\"https://curriculum.whitehatjr.com/APT+Asset/Final+C2+images/loop_ex_gif.gif\"><img src=\"https://curriculum.whitehatjr.com/APT+Asset/Final+C2+images/download.jpg\"/></a>\n",
        "</h4></font>\n",
        "\n",
        "```\n",
        "TEACHER\n",
        "There are many activities in day to day life in which we are\n",
        "repeating a set of activities unless a particular task is completed.\n",
        "For example, eating, cycling, coding etc. We eat unless the food is\n",
        "finished, we cycle unless we reach the destination, we code unless we\n",
        "get the desired output.\n",
        "```\n",
        "<img src=\"https://curriculum.whitehatjr.com/APT+Asset/Final+C2+images/loop_ex_gif.gif\"/>\n",
        "\n",
        "<br/><br/>\n",
        "<img src=\"https://curriculum.whitehatjr.com/APT+Asset/Final+C2+images/whileloop_gif.gif\" /></td>\n",
        "\n",
        "\n",
        "**Syntax of `while` loop:**\n",
        "```python\n",
        "while condition:\n",
        "  #code\n",
        "```\n",
        "\n",
        "<img src=\"https://curriculum.whitehatjr.com/APT+Asset/APT+C4+images/apt+c4+-while+condition-01.png\" height=300/>\n",
        "\n",
        "Let's try to increase the value stored in the `player_score` variable using the `while` loop. To do this exercise, we need to follow 3 steps:\n",
        "\n",
        "- **Step 1:** Set the `player_score` value equal to `0` once again because we have already updated its value to `1` in the previous code.\n",
        "\n",
        "- **Step 2:** In the next line, write the `while player_score < 50` statement followed by the colon (`:`) sign, i.e., `while player_score < 50:`.\n",
        "\n",
        "- **Step 3:** Press the `enter` key.\n",
        "\n",
        "   In the new line, increase the value of the `player_score` variable by writing the following statement:\n",
        "\n",
        "   **`player_score = player_score + 1`**\n",
        "   \n",
        "   Make sure that there are two blank spaces between the code cell and the statement. This is to ensure that the instructions are being written inside the while loop, not outside it.\n",
        "\n",
        "- **Step 4:** Press the `enter` key.\n",
        "\n",
        " In the new line, remove the blank spaces between the code cell and the cursor.\n",
        "\n",
        " Then, print the value stored in the `player_score` variable."
      ]
    },
    {
      "cell_type": "code",
      "metadata": {
        "id": "Jdr2h0hNyyen",
        "colab": {
          "base_uri": "https://localhost:8080/",
          "height": 34
        },
        "outputId": "810d976e-13f1-4057-bdda-b9b012963fa7"
      },
      "source": [
        "# Teacher Action: Increase the value stored in a variable using the 'while' loop.\n",
        "player_score = 0\n",
        "\n",
        "while player_score < 50:\n",
        "  player_score = player_score + 1\n",
        "\n",
        "player_score"
      ],
      "execution_count": null,
      "outputs": [
        {
          "output_type": "execute_result",
          "data": {
            "text/plain": [
              "50"
            ]
          },
          "metadata": {
            "tags": []
          },
          "execution_count": 4
        }
      ]
    },
    {
      "cell_type": "markdown",
      "metadata": {
        "id": "73XIG-B8z7jj"
      },
      "source": [
        "As you can see, the `player_score` value has been increased to `50` using the `while` loop.\n",
        "\n",
        "**How does the `while` loop work here?**\n",
        "\n",
        "1. Here, we have set the value stored in the `player_score` variable equal to `0`.\n",
        "\n",
        "2. To initiate the `while` loop, we are providing a condition to the loop by saying that:\n",
        "\n",
        "*While the value of the `player_score` variable is less than 50, keep running the loop.*\n",
        "\n",
        " The moment the value of the `player_score` variable reaches 50, stop the loop.</i></font>\n",
        "\n",
        "3. The code in the next line, i.e., `player_score = player_score + 1` will increase the value of `player_score` by `1` unit until the value of `player_score` reaches `50`.\n",
        "\n",
        "4. Initially, the `player_score = 0`, so the `while` loop will check if the statement `player_score < 50` is `True` or `False`. At this point, the statement, `player_score < 50` is `True`, so the value of the `player_score` variable increases by `1`.\n",
        "\n",
        "5. In the next turn, the value of the `player_score` variable will be `1`. Similarly, the `while` loop next time again will check whether the condition is `True` or `False`. This process will continue until the value of the `player_score` variable reaches `50`.\n",
        "\n",
        "Now using the same process, you increase the value of the `computer_score` variable until it reaches `50`."
      ]
    },
    {
      "cell_type": "code",
      "metadata": {
        "id": "mAsQQVNY11ZR",
        "colab": {
          "base_uri": "https://localhost:8080/",
          "height": 34
        },
        "outputId": "7a1b8db1-a6a8-4137-cb3b-28bbb29582fe"
      },
      "source": [
        "# Student Action: Write a code to increase the value of the 'computer_score' variable until it reaches 50.\n",
        "computer_score = 0\n",
        "\n",
        "while computer_score < 50:\n",
        "  computer_score = computer_score + 1\n",
        "\n",
        "computer_score"
      ],
      "execution_count": null,
      "outputs": [
        {
          "output_type": "execute_result",
          "data": {
            "text/plain": [
              "50"
            ]
          },
          "metadata": {
            "tags": []
          },
          "execution_count": 5
        }
      ]
    },
    {
      "cell_type": "markdown",
      "metadata": {
        "id": "L63HNPrHjKX2"
      },
      "source": [
        "---"
      ]
    },
    {
      "cell_type": "markdown",
      "metadata": {
        "id": "bRVMkkJTCmvC"
      },
      "source": [
        "### Activity 3: Data-Type Conversion\n",
        "\n",
        "Recall the algorithm we created in the previous class. It stores the values entered by a player in the `player_input` variable and stores the values predicted by the computer in the `predict` variable.\n",
        "\n",
        "As the next step for our algorithm, we need to compare the `predict` value predicted by the computer with the `player_input` value.\n",
        "\n",
        "But before that, we need to convert the `player_input` value to an integer because the `input()` function takes input in the form of string.\n",
        "\n",
        "**We can compare two or more values only if they are of the same data-type.**\n",
        "\n",
        "You can check the data-type of a value using the `type()` function. Let's apply this function on the value stored in the `player_input` variable.\n"
      ]
    },
    {
      "cell_type": "code",
      "metadata": {
        "id": "X_RpajwREJeV",
        "colab": {
          "base_uri": "https://localhost:8080/",
          "height": 51
        },
        "outputId": "154c7746-4f13-42c9-d85f-5f67de7a79ed"
      },
      "source": [
        "# Teacher Action: Verify that the 'input()' function takes any value as a string.\n",
        "player_input = input(\"Enter either 0 or 1: \")\n",
        "type(player_input)"
      ],
      "execution_count": null,
      "outputs": [
        {
          "output_type": "stream",
          "text": [
            "Enter either 0 or 1: 1\n"
          ],
          "name": "stdout"
        },
        {
          "output_type": "execute_result",
          "data": {
            "text/plain": [
              "str"
            ]
          },
          "metadata": {
            "tags": []
          },
          "execution_count": 6
        }
      ]
    },
    {
      "cell_type": "markdown",
      "metadata": {
        "id": "PddrUvKvEp9I"
      },
      "source": [
        "You can see that the `type()` function returned `str` as an output. The `str` keyword denotes that a value is a string.\n",
        "\n",
        "Similarly,\n",
        "\n",
        "- `int` denotes an integer value.\n",
        "\n",
        "- `float` denotes a floating-point number.\n",
        "\n",
        "- `bool` denotes a boolean value.\n",
        "\n",
        "The `str` output by the `type()` function confirms that the `input()` function indeed takes an input value in the form of a string data-type.\n",
        "\n",
        "But we want an integer input. So, we can use the `int()` function. It converts a value into an integer value.\n",
        "\n",
        "Let's convert the value stored in the `player_input` variable to an integer value and verify whether the conversion happened using the `type()` function."
      ]
    },
    {
      "cell_type": "code",
      "metadata": {
        "id": "V9TqpcgpE12z",
        "colab": {
          "base_uri": "https://localhost:8080/",
          "height": 34
        },
        "outputId": "90cd15e6-8918-4e61-af31-d96322869836"
      },
      "source": [
        "# Teacher Action: Convert the value stored in the 'player_input' variable into an integer.\n",
        "player_input = int(player_input)\n",
        "\n",
        "# Using 'type()' function, verify whether the conversion happened or not.\n",
        "type(player_input)"
      ],
      "execution_count": null,
      "outputs": [
        {
          "output_type": "execute_result",
          "data": {
            "text/plain": [
              "int"
            ]
          },
          "metadata": {
            "tags": []
          },
          "execution_count": 7
        }
      ]
    },
    {
      "cell_type": "markdown",
      "metadata": {
        "id": "Kf1UsBWUMN_L"
      },
      "source": [
        "As you can see, we first converted the value stored in the `player_input` variable to an integer value using the `int()` function. Then re-assigned the converted value to the same variable. This operation is again the **right-to-left** operation.\n",
        "\n",
        "`player_input`\n",
        "$\\longleftarrow$\n",
        "`int(player_input)`\n",
        "\n",
        "Similarly, to convert any data-type into\n",
        "\n",
        "- a string, use the `str()` function.\n",
        "\n",
        "- a floating-point number, use the `float()` function.\n",
        "\n",
        "- a boolean, use the `bool()` function."
      ]
    },
    {
      "cell_type": "markdown",
      "metadata": {
        "id": "d_BR_mwLEIhU"
      },
      "source": [
        "---"
      ]
    },
    {
      "cell_type": "markdown",
      "metadata": {
        "id": "WC-7ScvE6xa-"
      },
      "source": [
        "### Activity 4: The Conditional Statements^\n",
        "\n",
        "Now, we are ready to compare the `player_input` value with the `predict` value.\n",
        "\n",
        "To compare two or more values, we use conditional statements.\n",
        "\n",
        "\n",
        "\n",
        "\n",
        "They are of two types:\n",
        "\n",
        "1. `if-else` statement\n",
        "\n",
        "2. `if-elif-else` statement\n",
        "\n",
        "------------------------------------------------------------------------\n",
        "\n"
      ]
    },
    {
      "cell_type": "markdown",
      "metadata": {
        "id": "Z8bta2IcjPbY"
      },
      "source": [
        "The `if-else` statement tells us that **if** a condition is **true**, it will execute a block of statements **else** it will execute another block of statements.\n",
        "\n",
        "\n",
        "\n",
        "\n",
        "<img src=\"https://curriculum.whitehatjr.com/APT+Asset/Final+C2+images/sad_kido.png\" height=400/>\n",
        "\n",
        "---\n",
        "\n",
        "Syntax of `if-else`:\n",
        "\n",
        "<img src=\"https://curriculum.whitehatjr.com/APT+Asset/Final+C2+images/if+else+syntax.PNG\"/>\n"
      ]
    },
    {
      "cell_type": "markdown",
      "metadata": {
        "id": "aSHeGAsGjTCY"
      },
      "source": [
        "Consider a fair die.\n",
        "\n",
        "<img src=\"https://curriculum.whitehatjr.com/APT+Asset/Final+C2+images/WHJ_dice_APT-C2.gif\"/>\n",
        "\n",
        "\n",
        "If you roll a die, then there are 6 possible outcomes. They are `1, 2, 3, 4, 5,` and `6`.\n",
        "\n",
        "Suppose you want to write a code which prints `\"Outcome is one.\"` if the die roll results in `1` and prints `\"Outcome is not one.\"` if the die roll results either in `2, 3, 4, 5,` or `6`. Then, you can use the `if-else` statement.\n",
        "\n",
        "The `if` statement covers one specific condition which you need to specify. In this case, the specific condition is `if die_roll is 1`.\n",
        "\n",
        "The `else` statement covers all the remaining conditions. You don't have to specify the remaining conditions in the `else` statement.\n",
        "\n",
        "**To compare two values, we use double equals to (`==`) sign.**"
      ]
    },
    {
      "cell_type": "code",
      "metadata": {
        "id": "azu2Efdk_oR3",
        "colab": {
          "base_uri": "https://localhost:8080/",
          "height": 51
        },
        "outputId": "16c8b7b8-8e6f-45f1-975f-74fefc228484"
      },
      "source": [
        "# Teacher Action: Use the 'if-else' conditional statement to compare two values in Python.\n",
        "import random\n",
        "\n",
        "# Generate a random number between 1 and 6. Store it in the 'die_roll' variable.\n",
        "die_roll = random.randint(1, 6)\n",
        "\n",
        "# Print the value stored in the 'die_roll' variable.\n",
        "print(die_roll)\n",
        "\n",
        "# Check if the value stored in the 'die_roll' variable is 1 or not.\n",
        "if die_roll == 1:\n",
        "  print(\"Outcome is one.\")\n",
        "else:\n",
        "  print(\"Outcome is not one.\")"
      ],
      "execution_count": null,
      "outputs": [
        {
          "output_type": "stream",
          "text": [
            "1\n",
            "Outcome is one.\n"
          ],
          "name": "stdout"
        }
      ]
    },
    {
      "cell_type": "markdown",
      "metadata": {
        "id": "bevuFAJfAj6W"
      },
      "source": [
        "In the above code:\n",
        "\n",
        "- The `randint(1, 6)` function returns a number between `1` and `6`. It mimicks the die roll. We have imported the `random` module in the second line of the code to use the `randint()` function.\n",
        "\n",
        "- The `print()` function prints the value returned by the `randint()` function which is stored in the `die_roll` variable.\n",
        "\n",
        "- The `if` statement compares the value stored in the `die_roll` variable with `1`. If this condition is `True`, i.e., if the value stored in the `die_roll` variable is indeed `1`, then the `print()` function prints `\"Outcome is one.\"`. The code stops here. Python completely ignores the `else` statement.\n",
        "\n",
        "- However, if the condition specified in the `if` statement is `False`, i.e, the value stored in the `die_roll` variable is NOT equal to `1`, then Python ignores the `if` statement and moves to the `else` statement. It executes the code written under the `else` statement. Hence, in this case, Python prints `\"Outcome is not one.\"`.\n",
        "\n",
        "Run the above code several times to understand the `if-else` behaviour.\n",
        "\n",
        "---\n",
        "\n",
        "\n"
      ]
    },
    {
      "cell_type": "markdown",
      "metadata": {
        "id": "G3_DF9ARjbO3"
      },
      "source": [
        "\n",
        "\n",
        "<img src=\"https://curriculum.whitehatjr.com/APT+Asset/Final+C2+images/WHJ-Kid-study_new.png\" height=480/>\n",
        "\n",
        "Syntax of `if-elif-else`:\n",
        "\n",
        "```python\n",
        "if condition_1:\n",
        "  # body of if\n",
        "  statement(s)\n",
        "elif condition_2:\n",
        "  # body of elif_1\n",
        "  statement(s)\n",
        "elif condition_3:\n",
        "  # body of elif_2\n",
        "  statement(s)\n",
        "....\n",
        "else:\n",
        "  # body of else\n",
        "  statement(s)\n",
        "```\n",
        "\n"
      ]
    },
    {
      "cell_type": "markdown",
      "metadata": {
        "id": "0NVOhB3SjhQ9"
      },
      "source": [
        "Suppose you want to write a code which prints `\"Outcome is a prime number.\"` if the die roll results either in `2, 3,` or `5` and prints `\"Outcome is not a prime number.\"` if the die roll results either in `1, 4,` or `6`. Then, you can write the `if-elif-else` statement."
      ]
    },
    {
      "cell_type": "code",
      "metadata": {
        "id": "xiXQtlVNDomg",
        "colab": {
          "base_uri": "https://localhost:8080/",
          "height": 51
        },
        "outputId": "a1f3a121-1ec1-4871-ccfe-d51e2402dd3e"
      },
      "source": [
        "# Teacher Action: Use the 'if-elif-else' conditional statement to compare two values in Python.\n",
        "die_roll = random.randint(1, 6)\n",
        "\n",
        "print(die_roll)\n",
        "\n",
        "if die_roll == 2:\n",
        "  print(\"Outome is a prime number.\")\n",
        "elif die_roll == 3:\n",
        "  print(\"Outcome is a prime number.\")\n",
        "elif die_roll == 5:\n",
        "  print(\"Outcome is a prime number.\")\n",
        "else:\n",
        "  print(\"Outcome is not a prime number.\")"
      ],
      "execution_count": null,
      "outputs": [
        {
          "output_type": "stream",
          "text": [
            "1\n",
            "Outcome is not a prime number.\n"
          ],
          "name": "stdout"
        }
      ]
    },
    {
      "cell_type": "markdown",
      "metadata": {
        "id": "wxhiDyOaEdgE"
      },
      "source": [
        "In the above code:\n",
        "\n",
        "- The `randint(1, 6)` function returns a number between `1` and `6`. It mimics the die roll.\n",
        "\n",
        "- The `print()` function prints the value returned by the `randint()` function which is stored in the `die_roll` variable.\n",
        "\n",
        "- The `if` statement compares the value stored in the `die_roll` variable with `2`. If this condition is `True`, i.e., if the value stored in the `die_roll` variable is indeed `2`, then the `print()` function prints `\"Outcome is a prime number.\"`. The code stops here. Python completely ignores the subsequent statements.\n",
        "\n",
        "- Else if the value stored in the `die_roll` variable is NOT `2`, then the `elif` statement compares the value stored in the `die_roll` variable with `3`. If this condition is `True`, i.e., if the value stored in the `die_roll` variable is indeed `3`, then the `print()` function prints `\"Outcome is a prime number.\"`. The code stops here. Python completely ignores the subsequent statements.\n",
        "\n",
        "\n",
        "- Else if the value stored in the `die_roll` variable is NOT `3`, then the `elif` statement compares the value stored in the `die_roll` variable with `5`. If this condition is `True`, i.e., if the value stored in the `die_roll` variable is indeed `5`, then the `print()` function prints `\"Outcome is a prime number.\"`. The code stops here. Python completely ignores the subsequent statements.\n",
        "\n",
        "- However, if the condition specified in the `elif` statement is `False`, i.e, the value stored in the `die_roll` variable is neither equal to `2, 3` nor equal to `5`, then Python ignores the `elif` statement and moves to the `else` statement. It executes the code written under the `else` statement. Hence, in this case, Python prints `\"Outcome is not a prime number.\"`.\n",
        "\n",
        "Run the above code several times to understand the `if-elif-else` behaviour.\n",
        "\n",
        "---\n",
        "\n"
      ]
    },
    {
      "cell_type": "markdown",
      "metadata": {
        "id": "0xCuAty1jr01"
      },
      "source": [
        "Now, using the `if-else` statement, compare the `player_input` value with the `predict` value in our algorithm. Then do the following:\n",
        "\n",
        "- If the `predict == player_input`, then increase the `computer_score` value by 1. Then, print the updated values of the `player_score` and `computer_score` variables.\n",
        "\n",
        "- Else, increase the `player_score` value by 1. Then, print the updated values of the `player_score` and `computer_score` variables."
      ]
    },
    {
      "cell_type": "code",
      "metadata": {
        "id": "HedSSdYRHSs5",
        "colab": {
          "base_uri": "https://localhost:8080/",
          "height": 68
        },
        "outputId": "02281165-fcd6-4ab3-d8a0-757f05c73c73"
      },
      "source": [
        "# Student Action: Write a code to compare the 'predict' value with the 'player_input' value in our algorithm.\n",
        "# Note: Don't forget to convert the 'player_input' value to an integer.\n",
        "\n",
        "# Initialise the 'player_score' and 'computer_score' values.\n",
        "player_score = 0\n",
        "computer_score = 0\n",
        "\n",
        "# Predict 0 or 1 randomly.\n",
        "predict = random.randint(0, 1)\n",
        "\n",
        "# Take input from the player.\n",
        "player_input = input(\"Enter either 0 or 1: \")\n",
        "\n",
        "# Convert the 'player_input' value to an integer.\n",
        "player_input = int(player_input)\n",
        "\n",
        "# Compare the 'predict' and 'player_input' values.\n",
        "if predict == player_input:\n",
        "  computer_score = computer_score + 1\n",
        "  print(\"Player Score:\", player_score)\n",
        "  print(\"Computer Score:\", computer_score)\n",
        "else:\n",
        "  player_score = player_score + 1\n",
        "  print(\"Player Score:\", player_score)\n",
        "  print(\"Computer Score:\", computer_score)"
      ],
      "execution_count": null,
      "outputs": [
        {
          "output_type": "stream",
          "text": [
            "Enter either 0 or 1: 0\n",
            "Player Score: 1\n",
            "Computer Score: 0\n"
          ],
          "name": "stdout"
        }
      ]
    },
    {
      "cell_type": "markdown",
      "metadata": {
        "id": "yMdYlRFAJJgg"
      },
      "source": [
        "In the above code:\n",
        "\n",
        "- If the `predict == player_input`, the `computer_score` value gets increased by 1. Then, Python prints the updated values stored in the `player_score` and `computer_score` variables.\n",
        "\n",
        "- Else, the `player_score` value gets increased by 1. Then, Python prints the updated values stored in the `player_score` and `computer_score` variables."
      ]
    },
    {
      "cell_type": "markdown",
      "metadata": {
        "id": "SxNUVmhP6vaN"
      },
      "source": [
        "---"
      ]
    },
    {
      "cell_type": "markdown",
      "metadata": {
        "id": "4X2Rl4FSXD6W"
      },
      "source": [
        "### Activity 5: Restrict Invalid Inputs And Run The Game^^^\n",
        "\n",
        "Now, we will restrict the player to enter any input other than `0` or `1`.\n",
        "\n",
        "We will learn this concept in the future classes but for now, let's use it.\n",
        "\n",
        "Also, we will use a `while` loop inside another `while` loop to run the game until either the player or the computer reaches a score of `50`. At every `player_input`, we will also print the scores for both the computer and the player.\n",
        "\n",
        "To test the working of the algorithm, let's run the game until either the player or the computer reaches a score of `10`. Otherwise, the game will get too long. Later you can replace `10` with `50`."
      ]
    },
    {
      "cell_type": "code",
      "metadata": {
        "id": "9Ted5QSbTskd",
        "colab": {
          "base_uri": "https://localhost:8080/",
          "height": 816
        },
        "outputId": "80346789-3cf5-40f5-9181-8406be45ab7c"
      },
      "source": [
        "# Student Action: Follow the instructions mentioned in the comments below. Accordingly, write the code.\n",
        "# Import the random module below.\n",
        "import random\n",
        "\n",
        "# Initialise the 'player_score' and 'computer_score' variables below.\n",
        "player_score = 0\n",
        "computer_score = 0\n",
        "\n",
        "valid_entries = ['0', '1']\n",
        "\n",
        "while True:\n",
        "  # Predict 0 or 1 randomly below.\n",
        "  predict = random.randint(0, 1)\n",
        "  # Take input from the player below.\n",
        "  player_input = input(\"Enter either 0 or 1: \")\n",
        "  while player_input not in valid_entries:\n",
        "    print(\"Invalid Input!\")\n",
        "    player_input = input(\"Please enter either 0 or 1: \")\n",
        "\n",
        "  # Convert the value stored in the 'player_input' variable into an integer value below.\n",
        "  player_input = int(player_input)\n",
        "\n",
        "  # Compare the 'predict' and the 'player_input' values below.\n",
        "  if predict == player_input:\n",
        "    computer_score = computer_score + 1\n",
        "    print(\"Player Score:\", player_score)\n",
        "    print(\"Computer Score:\", computer_score)\n",
        "  else:\n",
        "    player_score = player_score + 1\n",
        "    print(\"Player Score:\", player_score)\n",
        "    print(\"Computer Score:\", computer_score)\n",
        "\n",
        "  # Compare the 'computer_score' and 'player_score' values with 10.\n",
        "  if computer_score == 10:\n",
        "    print(\"Bad Luck, Computer Wins!\")\n",
        "    break\n",
        "  elif player_score == 10:\n",
        "    print(\"Congrats, You Won!\")\n",
        "    break"
      ],
      "execution_count": null,
      "outputs": [
        {
          "output_type": "stream",
          "text": [
            "Enter either 0 or 1: 0\n",
            "Player Score: 0\n",
            "Computer Score: 1\n",
            "Enter either 0 or 1: 0\n",
            "Player Score: 1\n",
            "Computer Score: 1\n",
            "Enter either 0 or 1: 0\n",
            "Player Score: 1\n",
            "Computer Score: 2\n",
            "Enter either 0 or 1: 1\n",
            "Player Score: 1\n",
            "Computer Score: 3\n",
            "Enter either 0 or 1: k\n",
            "Invalid Input!\n",
            "Please enter either 0 or 1: 5\n",
            "Invalid Input!\n",
            "Please enter either 0 or 1: 0\n",
            "Player Score: 2\n",
            "Computer Score: 3\n",
            "Enter either 0 or 1: 0\n",
            "Player Score: 2\n",
            "Computer Score: 4\n",
            "Enter either 0 or 1: 0\n",
            "Player Score: 2\n",
            "Computer Score: 5\n",
            "Enter either 0 or 1: 0\n",
            "Player Score: 2\n",
            "Computer Score: 6\n",
            "Enter either 0 or 1: 1\n",
            "Player Score: 3\n",
            "Computer Score: 6\n",
            "Enter either 0 or 1: 1\n",
            "Player Score: 3\n",
            "Computer Score: 7\n",
            "Enter either 0 or 1: 1\n",
            "Player Score: 3\n",
            "Computer Score: 8\n",
            "Enter either 0 or 1: 1\n",
            "Player Score: 4\n",
            "Computer Score: 8\n",
            "Enter either 0 or 1: 1\n",
            "Player Score: 4\n",
            "Computer Score: 9\n",
            "Enter either 0 or 1: 1\n",
            "Player Score: 4\n",
            "Computer Score: 10\n",
            "Bad Luck, Computer Wins!\n"
          ],
          "name": "stdout"
        }
      ]
    },
    {
      "cell_type": "markdown",
      "metadata": {
        "id": "xbSSwE0lNZfe"
      },
      "source": [
        "There are some parts in the code above which we haven't covered in this class. We will learn them in the subsequent classes.\n",
        "\n",
        "In the next class, we will try to make our computer more **intelligent** so that it can make better predictions.\n",
        "\n",
        "Instead of randomly predicting 0 or 1, the computer will predict based on some pattern in player's input.\n",
        "\n",
        "\n",
        "<img src=\"https://s3-whjr-v2-prod-bucket.whjr.online/9038a21a-fdb7-43df-ab34-214305450368.jpg\" width=600 />\n"
      ]
    },
    {
      "cell_type": "markdown",
      "metadata": {
        "id": "KmhJVfRvTEuB"
      },
      "source": [
        "---"
      ]
    },
    {
      "cell_type": "markdown",
      "metadata": {
        "id": "29jjwaGYTuDc"
      },
      "source": [
        "### Wrap-Up Quiz\n",
        "\n",
        "```\n",
        "TEACHER\n",
        "  Let us quickly recollect what we learned and did in today's class.\n",
        "\n",
        "  There are some questions alongwith 4 options in the Class copy.\n",
        "  Tell me the correct answer.\n",
        "```\n",
        "<img src=\"https://curriculum.whitehatjr.com/APT+Asset/Final+C2+images/Q1.PNG\"/>\n",
        "\n",
        "```\n",
        "TEACHER\n",
        "  The correct answer is Option 3.\n",
        "  The while loop will repeat a set of statements as long as the condition is true.\n",
        "  Once the condition becomes false, the statement outside the while loop will execute.\n",
        "```\n",
        "\n",
        "<img src=\"https://curriculum.whitehatjr.com/APT+Asset/Final+C2+images/Q2.PNG\"/>\n",
        "\n",
        "```\n",
        "TEACHER\n",
        "  The correct answer is Option 2.\n",
        "  Remember, we used type() function to find out what is the data type\n",
        "  of the input value taken by input() function.\n",
        "  So, the input() function takes an input value in the form of\n",
        "  a string data-type.\n",
        "```\n",
        "<img src=\"https://curriculum.whitehatjr.com/APT+Asset/Final+C2+images/Q3.PNG\"/>\n",
        "\n",
        "\n",
        "```\n",
        "TEACHER\n",
        "  The output will be \"b is less than a\". Using if-elif-else block, we\n",
        "  are evaluating which value is greater.\n",
        "\n",
        "\n",
        "  You did a great job today.\n",
        "  I hope you had fun in this class and hope to see you in the upcoming\n",
        "  classes to learn Python programming. Bye!\n",
        "\n",
        "EXPECTED STUDENT RESPONSE\n",
        "  Bye teacher!\n",
        "```\n",
        "\n"
      ]
    },
    {
      "cell_type": "markdown",
      "metadata": {
        "id": "zhFa_hYYTVwJ"
      },
      "source": [
        "---"
      ]
    },
    {
      "cell_type": "markdown",
      "metadata": {
        "id": "qwP5rFuUbmz_"
      },
      "source": [
        "### Activities\n",
        "\n",
        "**Teacher Activities**\n",
        "\n",
        "1. Mind Reader Game - While Loop, Data-Type Conversion & Conditional Statements (Class Copy)\n",
        "     \n",
        "   Link on Panel\n",
        "\n",
        "2. Mind Reader Game - While Loop, Data-Type Conversion & Conditional Statements (Reference)\n",
        "\n",
        "   Link on Panel\n",
        "\n"
      ]
    },
    {
      "cell_type": "markdown",
      "metadata": {
        "id": "U5hYb01ZTL7o"
      },
      "source": [
        "---"
      ]
    }
  ]
}